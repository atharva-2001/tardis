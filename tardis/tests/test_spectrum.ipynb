{
 "cells": [
  {
   "cell_type": "code",
   "execution_count": null,
   "id": "49562860",
   "metadata": {
    "ExecuteTime": {
     "end_time": "2022-06-30T14:18:20.166146Z",
     "start_time": "2022-06-30T14:18:20.163972Z"
    }
   },
   "outputs": [],
   "source": [
    "from tardis import run_tardis\n",
    "import pandas as pd\n",
    "import matplotlib.pyplot as plt\n",
    "from tardis.io.config_reader import Configuration"
   ]
  },
  {
   "cell_type": "code",
   "execution_count": null,
   "id": "e34eaa17",
   "metadata": {},
   "outputs": [],
   "source": [
    "# !wget -q https://dev.azure.com/tardis-sn/TARDIS/_apis/git/repositories/tardis-refdata/items?path=unit_test_data.h5&resolveLfs=true"
   ]
  },
  {
   "cell_type": "code",
   "execution_count": null,
   "id": "538237ba",
   "metadata": {},
   "outputs": [],
   "source": [
    "conf = Configuration.from_yaml('../io/tests/data/tardis_configv1_verysimple.yml')"
   ]
  },
  {
   "cell_type": "code",
   "execution_count": null,
   "id": "81c3da2a",
   "metadata": {
    "ExecuteTime": {
     "end_time": "2022-06-30T14:23:35.177373Z",
     "start_time": "2022-06-30T14:22:54.779463Z"
    },
    "scrolled": true
   },
   "outputs": [],
   "source": [
    "sim = run_tardis(conf, atom_data=\"../../../tardis/kurucz_cd23_chianti_He_cmfgen_H_Si_I-II.h5\")"
   ]
  },
  {
   "cell_type": "code",
   "execution_count": null,
   "id": "36860efa",
   "metadata": {
    "ExecuteTime": {
     "end_time": "2022-06-30T14:17:20.102947Z",
     "start_time": "2022-06-30T14:17:19.673682Z"
    }
   },
   "outputs": [],
   "source": [
    "# sim_hdf = pd.HDFStore(\"../../../tardis/tardis/tests/unit_test_data.h5\")\n",
    "sim_hdf = pd.HDFStore(\"tardis/unit_test_data.h5\")"
   ]
  },
  {
   "cell_type": "code",
   "execution_count": null,
   "id": "cb580de2",
   "metadata": {},
   "outputs": [],
   "source": [
    "sim_hdf.keys()"
   ]
  },
  {
   "cell_type": "code",
   "execution_count": null,
   "id": "a7ade307",
   "metadata": {},
   "outputs": [],
   "source": [
    "spectrum_wav = sim_hdf['/test_runner_simple/spectrum/wavelength']\n",
    "spectrum_lum = sim_hdf['/test_runner_simple/spectrum/luminosity_density_lambda']"
   ]
  },
  {
   "cell_type": "code",
   "execution_count": null,
   "id": "84caa729",
   "metadata": {
    "ExecuteTime": {
     "end_time": "2022-06-30T14:39:33.353346Z",
     "start_time": "2022-06-30T14:39:33.222203Z"
    }
   },
   "outputs": [],
   "source": [
    "%matplotlib inline\n",
    "\n",
    "plt.figure(figsize=(10, 6.5))\n",
    "plt.plot(spectrum_wav, spectrum_lum, label=\"reference spectrum\")\n",
    "plt.plot(sim.runner.spectrum.wavelength.value, sim.runner.spectrum.luminosity_density_lambda.value, label=\"generated_spectrum\")\n",
    "plt.show()"
   ]
  },
  {
   "cell_type": "code",
   "execution_count": null,
   "id": "765dd43f",
   "metadata": {},
   "outputs": [],
   "source": []
  }
 ],
 "metadata": {
  "kernelspec": {
   "display_name": "Python 3",
   "language": "python",
   "name": "python3"
  },
  "language_info": {
   "codemirror_mode": {
    "name": "ipython",
    "version": 3
   },
   "file_extension": ".py",
   "mimetype": "text/x-python",
   "name": "python",
   "nbconvert_exporter": "python",
   "pygments_lexer": "ipython3",
   "version": "3.8.13"
  },
  "varInspector": {
   "cols": {
    "lenName": 16,
    "lenType": 16,
    "lenVar": 40
   },
   "kernels_config": {
    "python": {
     "delete_cmd_postfix": "",
     "delete_cmd_prefix": "del ",
     "library": "var_list.py",
     "varRefreshCmd": "print(var_dic_list())"
    },
    "r": {
     "delete_cmd_postfix": ") ",
     "delete_cmd_prefix": "rm(",
     "library": "var_list.r",
     "varRefreshCmd": "cat(var_dic_list()) "
    }
   },
   "types_to_exclude": [
    "module",
    "function",
    "builtin_function_or_method",
    "instance",
    "_Feature"
   ],
   "window_display": false
  },
  "vscode": {
   "interpreter": {
    "hash": "4a6df93559b6ae16f50884f690d4cbca3f2c8dfd9034cf12f41f359d9acc97fc"
   }
  }
 },
 "nbformat": 4,
 "nbformat_minor": 5
}
