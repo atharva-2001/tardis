{
 "cells": [
  {
   "cell_type": "code",
   "execution_count": 1,
   "metadata": {},
   "outputs": [
    {
     "name": "stderr",
     "output_type": "stream",
     "text": [
      "/anaconda2/envs/tardis/lib/python3.6/site-packages/tqdm/autonotebook/__init__.py:14: TqdmExperimentalWarning: Using `tqdm.autonotebook.tqdm` in notebook mode. Use `tqdm.tqdm` instead to force console mode (e.g. in jupyter console)\n",
      "  \" (e.g. in jupyter console)\", TqdmExperimentalWarning)\n"
     ]
    }
   ],
   "source": [
    "import tardis"
   ]
  },
  {
   "cell_type": "code",
   "execution_count": null,
   "metadata": {},
   "outputs": [
    {
     "name": "stdout",
     "output_type": "stream",
     "text": [
      "NOTE: Enter 'c' at the ipdb>  prompt to continue execution.\n",
      "> \u001b[0;32m<string>\u001b[0m(2)\u001b[0;36m<module>\u001b[0;34m()\u001b[0m\n",
      "\n",
      "ipdb> b tardis/model/base:94\n",
      "Breakpoint 1 at /Users/marcwilliamson/src/dev/tardis/tardis/model/base.py:94\n",
      "ipdb> c\n",
      "[\u001b[1mtardis.model.base   \u001b[0m][\u001b[1;33mWARNING\u001b[0m]  Abundances have not been normalized to 1. - normalizing (\u001b[1mbase.py\u001b[0m:573)\n",
      "> \u001b[0;32m/Users/marcwilliamson/src/dev/tardis/tardis/model/base.py\u001b[0m(94)\u001b[0;36m__init__\u001b[0;34m()\u001b[0m\n",
      "\u001b[0;32m     92 \u001b[0;31m        \u001b[0mself\u001b[0m\u001b[0;34m.\u001b[0m\u001b[0mraw_isotope_abundance\u001b[0m \u001b[0;34m=\u001b[0m \u001b[0misotope_abundance\u001b[0m\u001b[0;34m\u001b[0m\u001b[0;34m\u001b[0m\u001b[0m\n",
      "\u001b[0m\u001b[0;32m     93 \u001b[0;31m\u001b[0;34m\u001b[0m\u001b[0m\n",
      "\u001b[0m\u001b[1;31m1\u001b[0;32m--> 94 \u001b[0;31m        \u001b[0;32mif\u001b[0m \u001b[0mt_inner\u001b[0m \u001b[0;32mis\u001b[0m \u001b[0;32mNone\u001b[0m\u001b[0;34m:\u001b[0m\u001b[0;34m\u001b[0m\u001b[0;34m\u001b[0m\u001b[0m\n",
      "\u001b[0m\u001b[0;32m     95 \u001b[0;31m            \u001b[0;32mif\u001b[0m \u001b[0mluminosity_requested\u001b[0m \u001b[0;32mis\u001b[0m \u001b[0;32mnot\u001b[0m \u001b[0;32mNone\u001b[0m\u001b[0;34m:\u001b[0m\u001b[0;34m\u001b[0m\u001b[0;34m\u001b[0m\u001b[0m\n",
      "\u001b[0m\u001b[0;32m     96 \u001b[0;31m                self.t_inner = ((luminosity_requested /\n",
      "\u001b[0m\n",
      "ipdb> self._abundance\n",
      "                      0     1     2    3    4     5\n",
      "atomic_number                                      \n",
      "1              0.333333  0.00  0.40  0.5  0.6  0.65\n",
      "2              0.333333  0.99  0.58  0.5  0.3  0.20\n",
      "ipdb> self.abundance\n",
      "                      0         1         2    3\n",
      "atomic_number                                   \n",
      "1              0.333338  0.000000  0.400000  0.5\n",
      "2              0.333338  0.990000  0.580000  0.5\n",
      "26             0.026823  0.000805  0.001609  0.0\n",
      "27             0.258583  0.007757  0.015515  0.0\n",
      "28             0.047918  0.001438  0.002875  0.0\n",
      "ipdb> np.argwhere(self.raw_velocity == self.v_boundary_inner)[0][0]\n",
      "*** IndexError: index 0 is out of bounds for axis 0 with size 0\n",
      "ipdb> v_inner_ind = np.searchsorted(self.raw_velocity, self.v_boundary_inner) - 1\n",
      "ipdb> np.searchsorted(self.raw_velocity, self.v_boundary_inner) - 1\n",
      "0\n",
      "ipdb> np.searchsorted(self.raw_velocity, self.v_boundary_outer)\n",
      "4\n",
      "ipdb> self.raw_isotope_abundance.decay(self.time_explosion).merge(self.raw_abundance)\n",
      "                      0         1         2    3         4         5\n",
      "atomic_number                                                       \n",
      "1              0.333338  0.000000  0.400000  0.5  0.600003  0.650004\n",
      "2              0.333338  0.990000  0.580000  0.5  0.300001  0.200001\n",
      "26             0.026823  0.000805  0.001609  0.0  0.008047  0.012070\n",
      "27             0.258583  0.007757  0.015515  0.0  0.077574  0.116362\n",
      "28             0.047918  0.001438  0.002875  0.0  0.014375  0.021563\n",
      "ipdb> self.raw_isotope_abundance.empty:\n",
      "*** SyntaxError: invalid syntax\n",
      "ipdb> self.raw_isotope_abundance.empty\n",
      "False\n",
      "ipdb> self.raw_isotope_abundance.decay(self.time_explosion).merge(self.raw_abundance)\n",
      "                      0         1         2    3         4         5\n",
      "atomic_number                                                       \n",
      "1              0.333338  0.000000  0.400000  0.5  0.600003  0.650004\n",
      "2              0.333338  0.990000  0.580000  0.5  0.300001  0.200001\n",
      "26             0.026823  0.000805  0.001609  0.0  0.008047  0.012070\n",
      "27             0.258583  0.007757  0.015515  0.0  0.077574  0.116362\n",
      "28             0.047918  0.001438  0.002875  0.0  0.014375  0.021563\n",
      "ipdb> self.raw_isotope_abundance.decay(self.time_explosion).merge(self.raw_abundance).loc[:, 0:4]\n",
      "                      0         1         2    3         4\n",
      "atomic_number                                             \n",
      "1              0.333338  0.000000  0.400000  0.5  0.600003\n",
      "2              0.333338  0.990000  0.580000  0.5  0.300001\n",
      "26             0.026823  0.000805  0.001609  0.0  0.008047\n",
      "27             0.258583  0.007757  0.015515  0.0  0.077574\n",
      "28             0.047918  0.001438  0.002875  0.0  0.014375\n",
      "ipdb> self.raw_velocity\n",
      "<Quantity [9.00e+08, 1.05e+09, 1.20e+09, 1.30e+09, 1.40e+09, 1.50e+09] cm / s>\n",
      "ipdb> self.velocity\n",
      "<Quantity [9.50e+08, 1.05e+09, 1.20e+09, 1.30e+09, 1.35e+09] cm / s>\n",
      "ipdb> np.searchsorted(self.raw_velocity, self.v_boundary_inner) - 1\n",
      "0\n",
      "ipdb> np.searchsorted(self.raw_velocity, self.v_boundary_outer)\n",
      "4\n",
      "ipdb> self.raw_velocity[0:4]\n",
      "<Quantity [9.00e+08, 1.05e+09, 1.20e+09, 1.30e+09] cm / s>\n",
      "ipdb> self.homologous_density\n",
      "<tardis.model.density.HomologousDensity object at 0x12b35a048>\n",
      "ipdb> self.homologous_density.density_0\n",
      "<Quantity [0.e+00, 2.e-10, 9.e-11, 8.e-11, 7.e-11, 5.e-11] g / cm3>\n"
     ]
    }
   ],
   "source": [
    "%%debug\n",
    "sim = tardis.run_tardis('config_csvy_abund_test.yml')"
   ]
  },
  {
   "cell_type": "code",
   "execution_count": null,
   "metadata": {},
   "outputs": [],
   "source": []
  }
 ],
 "metadata": {
  "kernelspec": {
   "display_name": "Python 3",
   "language": "python",
   "name": "python3"
  },
  "language_info": {
   "codemirror_mode": {
    "name": "ipython",
    "version": 3
   },
   "file_extension": ".py",
   "mimetype": "text/x-python",
   "name": "python",
   "nbconvert_exporter": "python",
   "pygments_lexer": "ipython3",
   "version": "3.6.7"
  }
 },
 "nbformat": 4,
 "nbformat_minor": 2
}
