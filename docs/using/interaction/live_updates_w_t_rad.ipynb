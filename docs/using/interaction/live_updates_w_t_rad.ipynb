{
 "cells": [
  {
   "cell_type": "markdown",
   "metadata": {},
   "source": [
    "# Demo of T-rad and W live updates"
   ]
  },
  {
   "cell_type": "code",
   "execution_count": 1,
   "metadata": {},
   "outputs": [],
   "source": [
    "from tardis import run_tardis\n",
    "import tardis"
   ]
  },
  {
   "cell_type": "code",
   "execution_count": 2,
   "metadata": {},
   "outputs": [],
   "source": [
    "# import plotly.io as pio\n",
    "# pio.renderers.default = \"notebook_connected\""
   ]
  },
  {
   "cell_type": "code",
   "execution_count": 3,
   "metadata": {},
   "outputs": [],
   "source": [
    "import plotly.graph_objects as go\n",
    "\n",
    "# making subplots\n",
    "fig_ = go.FigureWidget().set_subplots(1,2)\n",
    "fig_.add_scatter(row = 1, col = 1)\n",
    "fig_.add_scatter(row = 1, col = 2)\n",
    "\n",
    "# updating axes \n",
    "fig_['layout']['yaxis']['title'] = r\"$W$\"\n",
    "fig_['layout']['xaxis']['title'] = r\"$Shell~~Velocity$\"\n",
    "\n",
    "fig_['layout']['yaxis2']['title'] = r\"$T_{rad}\\ [K]$\"\n",
    "fig_['layout']['xaxis2']['title'] = r\"$Shell~~Velocity$\"\n",
    "\n",
    "\n",
    "fig_['layout']['yaxis2']['range'] = [9000, 14000]\n",
    "fig_['layout']['xaxis']['showexponent'] =  \"all\"\n",
    "fig_['layout']['xaxis2']['showexponent'] =  \"all\"\n",
    "fig_['layout']['xaxis']['exponentformat'] =  \"e\"\n",
    "fig_['layout']['xaxis2']['exponentformat'] =  \"e\"\n",
    "\n",
    "fig_ = fig_.update_layout(showlegend = False)"
   ]
  },
  {
   "cell_type": "code",
   "execution_count": 4,
   "metadata": {},
   "outputs": [
    {
     "data": {
      "application/vnd.jupyter.widget-view+json": {
       "model_id": "d725bb7949634a43b6dc79e75be6d00d",
       "version_major": 2,
       "version_minor": 0
      },
      "text/plain": [
       "FigureWidget({\n",
       "    'data': [{'type': 'scatter', 'uid': '850d85a0-f5a5-43cf-aa9c-965fab6eb1d7', 'xaxis': 'x', '…"
      ]
     },
     "metadata": {},
     "output_type": "display_data"
    }
   ],
   "source": [
    "fig_"
   ]
  },
  {
   "cell_type": "code",
   "execution_count": 6,
   "metadata": {},
   "outputs": [],
   "source": [
    "i=0"
   ]
  },
  {
   "cell_type": "code",
   "execution_count": 7,
   "metadata": {},
   "outputs": [],
   "source": [
    "import sys\n",
    "\n",
    "def update_t_rad(sim):\n",
    "    \"\"\"\n",
    "    adds another scatter trace of T_rad vs Shell Velocity with dark blue line color\n",
    "    \"\"\"\n",
    "    fig_.add_scatter(x = sim.model.velocity.value.tolist(), y = sim.model.t_rad.value.tolist(), line_color = \"#0062ff\", row = 1, col = 2)\n",
    "\n",
    "    \n",
    "def update_w(sim):\n",
    "    \"\"\"\n",
    "    adds another scatter trace of W vs Shell Velocity with dark blue line color\n",
    "    \"\"\"\n",
    "    fig_.add_scatter(x = sim.model.velocity.value.tolist(), y = sim.model.w.tolist(), line_color= \"#0062ff\", row = 1, col = 1)\n",
    "\n",
    "    \n",
    "def fix_colors(i_):\n",
    "    \"\"\"\n",
    "    changes line color of previous traces from dark blue to light blue\n",
    "    \"\"\"\n",
    "    fig_['data'][i_]['line']['color']=\"#7dafff\"\n",
    "    \n",
    "\n",
    "def update_graphs(sim):\n",
    "    '''\n",
    "    updates graphs\n",
    "    '''\n",
    "    global i\n",
    "    i = i+2\n",
    "    \n",
    "    fix_colors(i-1)\n",
    "    fix_colors(i-2)\n",
    "        \n",
    "    update_t_rad(sim)\n",
    "    update_w(sim)\n",
    "\n",
    "\n"
   ]
  },
  {
   "cell_type": "code",
   "execution_count": 8,
   "metadata": {},
   "outputs": [
    {
     "name": "stdout",
     "output_type": "stream",
     "text": [
      "  [ \u001b[1m\u001b[38;2;255;69;0mTARDIS INFO\u001b[0m\u001b[1m\u001b[0m ][ \u001b[1mtardis.plasma.standard_plasmas:assemble_plasma:86\u001b[0m ]- Reading Atomic Data from kurucz_cd23_chianti_H_He.h5\n",
      "  [ \u001b[1m\u001b[38;2;255;69;0mTARDIS INFO\u001b[0m\u001b[1m\u001b[0m ][ \u001b[1mtardis.io.atom_data.util:resolve_atom_data_fname:31\u001b[0m ]- Atom Data kurucz_cd23_chianti_H_He.h5 not found in local path. Exists in TARDIS Data repo /home/atharva/Downloads/tardis-data/kurucz_cd23_chianti_H_He.h5\n",
      "  [ \u001b[1m\u001b[38;2;255;69;0mTARDIS INFO\u001b[0m\u001b[1m\u001b[0m ][ \u001b[1mtardis.io.atom_data.base:from_hdf:169\u001b[0m ]- Read Atom Data with UUID=6f7b09e887a311e7a06b246e96350010 and MD5=864f1753714343c41f99cb065710cace.\n",
      "  [ \u001b[1m\u001b[38;2;255;69;0mTARDIS INFO\u001b[0m\u001b[1m\u001b[0m ][ \u001b[1mtardis.io.atom_data.base:from_hdf:175\u001b[0m ]- Non provided atomic data: synpp_refs, photoionization_data\n",
      "  [ \u001b[1m\u001b[38;2;255;69;0mTARDIS INFO\u001b[0m\u001b[1m\u001b[0m ][ \u001b[1mtardis.simulation.base:iterate:323\u001b[0m ]- Starting iteration 1/20\n",
      "Running post-merge numba montecarlo (with C close lines)!\n",
      "  [ \u001b[1m\u001b[38;2;255;69;0mTARDIS INFO\u001b[0m\u001b[1m\u001b[0m ][ \u001b[1mtardis.simulation.base:log_run_results:445\u001b[0m ]- Luminosity emitted = 7.94275e+42 erg / s Luminosity absorbed = 2.65805e+42 erg / s Luminosity requested = 1.05928e+43 erg / s\n",
      "  [ \u001b[1m\u001b[38;2;255;69;0mTARDIS INFO\u001b[0m\u001b[1m\u001b[0m ][ \u001b[1mtardis.simulation.base:log_plasma_state:436\u001b[0m ]- Plasma stratification:\n",
      "  [ \u001b[1m\u001b[38;2;255;69;0mTARDIS INFO\u001b[0m\u001b[1m\u001b[0m ][ \u001b[1mtardis.simulation.base:log_plasma_state:437\u001b[0m ]- \n",
      "\t             t_rad    next_t_rad         w    next_w\n",
      "\tShell                                               \n",
      "\t0      9926.501965  10134.733717  0.400392  0.508204\n",
      "\t5      9852.611678  10222.890845  0.211205  0.197026\n",
      "\t10     9779.813302  10144.463169  0.142695  0.117179\n",
      "\t15     9708.082813   9873.477846  0.104556  0.086941\n",
      "\n",
      "  [ \u001b[1m\u001b[38;2;255;69;0mTARDIS INFO\u001b[0m\u001b[1m\u001b[0m ][ \u001b[1mtardis.simulation.base:log_plasma_state:438\u001b[0m ]- t_inner 9933.952 K -- next t_inner 11472.055 K\n",
      "  [ \u001b[1m\u001b[38;2;255;69;0mTARDIS INFO\u001b[0m\u001b[1m\u001b[0m ][ \u001b[1mtardis.simulation.base:iterate:323\u001b[0m ]- Starting iteration 2/20\n",
      "Running post-merge numba montecarlo (with C close lines)!\n",
      "  [ \u001b[1m\u001b[38;2;255;69;0mTARDIS INFO\u001b[0m\u001b[1m\u001b[0m ][ \u001b[1mtardis.simulation.base:log_run_results:445\u001b[0m ]- Luminosity emitted = 1.40815e+43 erg / s Luminosity absorbed = 4.77001e+42 erg / s Luminosity requested = 1.05928e+43 erg / s\n",
      "  [ \u001b[1m\u001b[38;2;255;69;0mTARDIS INFO\u001b[0m\u001b[1m\u001b[0m ][ \u001b[1mtardis.simulation.base:log_plasma_state:436\u001b[0m ]- Plasma stratification:\n",
      "  [ \u001b[1m\u001b[38;2;255;69;0mTARDIS INFO\u001b[0m\u001b[1m\u001b[0m ][ \u001b[1mtardis.simulation.base:log_plasma_state:437\u001b[0m ]- \n",
      "\t              t_rad    next_t_rad         w    next_w\n",
      "\tShell                                                \n",
      "\t0      10134.733717  11468.021903  0.508204  0.548671\n",
      "\t5      10222.890845  11499.835340  0.197026  0.221374\n",
      "\t10     10144.463169  11306.370330  0.117179  0.136291\n",
      "\t15      9873.477846  10953.828130  0.086941  0.102617\n",
      "\n",
      "  [ \u001b[1m\u001b[38;2;255;69;0mTARDIS INFO\u001b[0m\u001b[1m\u001b[0m ][ \u001b[1mtardis.simulation.base:log_plasma_state:438\u001b[0m ]- t_inner 11472.055 K -- next t_inner 9949.978 K\n",
      "  [ \u001b[1m\u001b[38;2;255;69;0mTARDIS INFO\u001b[0m\u001b[1m\u001b[0m ][ \u001b[1mtardis.simulation.base:iterate:323\u001b[0m ]- Starting iteration 3/20\n",
      "Running post-merge numba montecarlo (with C close lines)!\n",
      "  [ \u001b[1m\u001b[38;2;255;69;0mTARDIS INFO\u001b[0m\u001b[1m\u001b[0m ][ \u001b[1mtardis.simulation.base:log_run_results:445\u001b[0m ]- Luminosity emitted = 8.12624e+42 erg / s Luminosity absorbed = 2.54722e+42 erg / s Luminosity requested = 1.05928e+43 erg / s\n",
      "  [ \u001b[1m\u001b[38;2;255;69;0mTARDIS INFO\u001b[0m\u001b[1m\u001b[0m ][ \u001b[1mtardis.simulation.base:log_plasma_state:436\u001b[0m ]- Plasma stratification:\n",
      "  [ \u001b[1m\u001b[38;2;255;69;0mTARDIS INFO\u001b[0m\u001b[1m\u001b[0m ][ \u001b[1mtardis.simulation.base:log_plasma_state:437\u001b[0m ]- \n",
      "\t              t_rad    next_t_rad         w    next_w\n",
      "\tShell                                                \n",
      "\t0      11468.021903  10497.008397  0.548671  0.442299\n",
      "\t5      11499.835340  10799.075913  0.221374  0.164288\n",
      "\t10     11306.370330  10623.433274  0.136291  0.101820\n",
      "\t15     10953.828130  10226.187071  0.102617  0.077629\n",
      "\n",
      "  [ \u001b[1m\u001b[38;2;255;69;0mTARDIS INFO\u001b[0m\u001b[1m\u001b[0m ][ \u001b[1mtardis.simulation.base:log_plasma_state:438\u001b[0m ]- t_inner 9949.978 K -- next t_inner 11360.097 K\n",
      "  [ \u001b[1m\u001b[38;2;255;69;0mTARDIS INFO\u001b[0m\u001b[1m\u001b[0m ][ \u001b[1mtardis.simulation.base:iterate:323\u001b[0m ]- Starting iteration 4/20\n",
      "Running post-merge numba montecarlo (with C close lines)!\n",
      "  [ \u001b[1m\u001b[38;2;255;69;0mTARDIS INFO\u001b[0m\u001b[1m\u001b[0m ][ \u001b[1mtardis.simulation.base:log_run_results:445\u001b[0m ]- Luminosity emitted = 1.36297e+43 erg / s Luminosity absorbed = 4.49721e+42 erg / s Luminosity requested = 1.05928e+43 erg / s\n",
      "  [ \u001b[1m\u001b[38;2;255;69;0mTARDIS INFO\u001b[0m\u001b[1m\u001b[0m ][ \u001b[1mtardis.simulation.base:log_plasma_state:436\u001b[0m ]- Plasma stratification:\n",
      "  [ \u001b[1m\u001b[38;2;255;69;0mTARDIS INFO\u001b[0m\u001b[1m\u001b[0m ][ \u001b[1mtardis.simulation.base:log_plasma_state:437\u001b[0m ]- \n",
      "\t              t_rad    next_t_rad         w    next_w\n",
      "\tShell                                                \n",
      "\t0      10497.008397  11615.344313  0.442299  0.497714\n",
      "\t5      10799.075913  11729.411389  0.164288  0.199205\n",
      "\t10     10623.433274  11517.190317  0.101820  0.123849\n",
      "\t15     10226.187071  11103.373456  0.077629  0.093930\n",
      "\n",
      "  [ \u001b[1m\u001b[38;2;255;69;0mTARDIS INFO\u001b[0m\u001b[1m\u001b[0m ][ \u001b[1mtardis.simulation.base:log_plasma_state:438\u001b[0m ]- t_inner 11360.097 K -- next t_inner 10014.843 K\n",
      "  [ \u001b[1m\u001b[38;2;255;69;0mTARDIS INFO\u001b[0m\u001b[1m\u001b[0m ][ \u001b[1mtardis.simulation.base:iterate:323\u001b[0m ]- Starting iteration 5/20\n",
      "Running post-merge numba montecarlo (with C close lines)!\n",
      "  [ \u001b[1m\u001b[38;2;255;69;0mTARDIS INFO\u001b[0m\u001b[1m\u001b[0m ][ \u001b[1mtardis.simulation.base:log_run_results:445\u001b[0m ]- Luminosity emitted = 8.27895e+42 erg / s Luminosity absorbed = 2.66933e+42 erg / s Luminosity requested = 1.05928e+43 erg / s\n",
      "  [ \u001b[1m\u001b[38;2;255;69;0mTARDIS INFO\u001b[0m\u001b[1m\u001b[0m ][ \u001b[1mtardis.simulation.base:log_plasma_state:436\u001b[0m ]- Plasma stratification:\n",
      "  [ \u001b[1m\u001b[38;2;255;69;0mTARDIS INFO\u001b[0m\u001b[1m\u001b[0m ][ \u001b[1mtardis.simulation.base:log_plasma_state:437\u001b[0m ]- \n",
      "\t              t_rad    next_t_rad         w    next_w\n",
      "\tShell                                                \n",
      "\t0      11615.344313  10549.514128  0.497714  0.443441\n",
      "\t5      11729.411389  10919.073481  0.199205  0.162199\n",
      "\t10     11517.190317  10697.303300  0.123849  0.101289\n",
      "\t15     11103.373456  10379.863073  0.093930  0.075372\n",
      "\n",
      "  [ \u001b[1m\u001b[38;2;255;69;0mTARDIS INFO\u001b[0m\u001b[1m\u001b[0m ][ \u001b[1mtardis.simulation.base:log_plasma_state:438\u001b[0m ]- t_inner 10014.843 K -- next t_inner 11328.210 K\n",
      "  [ \u001b[1m\u001b[38;2;255;69;0mTARDIS INFO\u001b[0m\u001b[1m\u001b[0m ][ \u001b[1mtardis.simulation.base:iterate:323\u001b[0m ]- Starting iteration 6/20\n",
      "Running post-merge numba montecarlo (with C close lines)!\n",
      "  [ \u001b[1m\u001b[38;2;255;69;0mTARDIS INFO\u001b[0m\u001b[1m\u001b[0m ][ \u001b[1mtardis.simulation.base:log_run_results:445\u001b[0m ]- Luminosity emitted = 1.34741e+43 erg / s Luminosity absorbed = 4.44727e+42 erg / s Luminosity requested = 1.05928e+43 erg / s\n",
      "  [ \u001b[1m\u001b[38;2;255;69;0mTARDIS INFO\u001b[0m\u001b[1m\u001b[0m ][ \u001b[1mtardis.simulation.base:log_plasma_state:436\u001b[0m ]- Plasma stratification:\n",
      "  [ \u001b[1m\u001b[38;2;255;69;0mTARDIS INFO\u001b[0m\u001b[1m\u001b[0m ][ \u001b[1mtardis.simulation.base:log_plasma_state:437\u001b[0m ]- \n",
      "\t              t_rad    next_t_rad         w    next_w\n",
      "\tShell                                                \n",
      "\t0      10549.514128  11567.208184  0.443441  0.504178\n",
      "\t5      10919.073481  11653.124121  0.162199  0.203042\n",
      "\t10     10697.303300  11425.955010  0.101289  0.125249\n",
      "\t15     10379.863073  11082.155938  0.075372  0.094028\n",
      "\n",
      "  [ \u001b[1m\u001b[38;2;255;69;0mTARDIS INFO\u001b[0m\u001b[1m\u001b[0m ][ \u001b[1mtardis.simulation.base:log_plasma_state:438\u001b[0m ]- t_inner 11328.210 K -- next t_inner 10044.200 K\n",
      "  [ \u001b[1m\u001b[38;2;255;69;0mTARDIS INFO\u001b[0m\u001b[1m\u001b[0m ][ \u001b[1mtardis.simulation.base:iterate:323\u001b[0m ]- Starting iteration 7/20\n",
      "Running post-merge numba montecarlo (with C close lines)!\n",
      "  [ \u001b[1m\u001b[38;2;255;69;0mTARDIS INFO\u001b[0m\u001b[1m\u001b[0m ][ \u001b[1mtardis.simulation.base:log_run_results:445\u001b[0m ]- Luminosity emitted = 8.39001e+42 erg / s Luminosity absorbed = 2.69230e+42 erg / s Luminosity requested = 1.05928e+43 erg / s\n",
      "  [ \u001b[1m\u001b[38;2;255;69;0mTARDIS INFO\u001b[0m\u001b[1m\u001b[0m ][ \u001b[1mtardis.simulation.base:log_plasma_state:436\u001b[0m ]- Plasma stratification:\n",
      "  [ \u001b[1m\u001b[38;2;255;69;0mTARDIS INFO\u001b[0m\u001b[1m\u001b[0m ][ \u001b[1mtardis.simulation.base:log_plasma_state:437\u001b[0m ]- \n",
      "\t              t_rad    next_t_rad         w    next_w\n",
      "\tShell                                                \n",
      "\t0      11567.208184  10569.747403  0.504178  0.442290\n",
      "\t5      11653.124121  11099.194259  0.203042  0.153253\n",
      "\t10     11425.955010  10809.397890  0.125249  0.097256\n",
      "\t15     11082.155938  10454.841299  0.094028  0.073809\n",
      "\n"
     ]
    },
    {
     "name": "stdout",
     "output_type": "stream",
     "text": [
      "  [ \u001b[1m\u001b[38;2;255;69;0mTARDIS INFO\u001b[0m\u001b[1m\u001b[0m ][ \u001b[1mtardis.simulation.base:log_plasma_state:438\u001b[0m ]- t_inner 10044.200 K -- next t_inner 11285.966 K\n",
      "  [ \u001b[1m\u001b[38;2;255;69;0mTARDIS INFO\u001b[0m\u001b[1m\u001b[0m ][ \u001b[1mtardis.simulation.base:iterate:323\u001b[0m ]- Starting iteration 8/20\n",
      "Running post-merge numba montecarlo (with C close lines)!\n",
      "  [ \u001b[1m\u001b[38;2;255;69;0mTARDIS INFO\u001b[0m\u001b[1m\u001b[0m ][ \u001b[1mtardis.simulation.base:log_run_results:445\u001b[0m ]- Luminosity emitted = 1.33305e+43 erg / s Luminosity absorbed = 4.33011e+42 erg / s Luminosity requested = 1.05928e+43 erg / s\n",
      "  [ \u001b[1m\u001b[38;2;255;69;0mTARDIS INFO\u001b[0m\u001b[1m\u001b[0m ][ \u001b[1mtardis.simulation.base:log_plasma_state:436\u001b[0m ]- Plasma stratification:\n",
      "  [ \u001b[1m\u001b[38;2;255;69;0mTARDIS INFO\u001b[0m\u001b[1m\u001b[0m ][ \u001b[1mtardis.simulation.base:log_plasma_state:437\u001b[0m ]- \n",
      "\t              t_rad    next_t_rad         w    next_w\n",
      "\tShell                                                \n",
      "\t0      10569.747403  11547.678162  0.442290  0.500345\n",
      "\t5      11099.194259  11669.739508  0.153253  0.198338\n",
      "\t10     10809.397890  11493.569590  0.097256  0.121915\n",
      "\t15     10454.841299  11083.769586  0.073809  0.092834\n",
      "\n",
      "  [ \u001b[1m\u001b[38;2;255;69;0mTARDIS INFO\u001b[0m\u001b[1m\u001b[0m ][ \u001b[1mtardis.simulation.base:log_plasma_state:438\u001b[0m ]- t_inner 11285.966 K -- next t_inner 10060.511 K\n",
      "  [ \u001b[1m\u001b[38;2;255;69;0mTARDIS INFO\u001b[0m\u001b[1m\u001b[0m ][ \u001b[1mtardis.simulation.base:iterate:323\u001b[0m ]- Starting iteration 9/20\n",
      "Running post-merge numba montecarlo (with C close lines)!\n",
      "  [ \u001b[1m\u001b[38;2;255;69;0mTARDIS INFO\u001b[0m\u001b[1m\u001b[0m ][ \u001b[1mtardis.simulation.base:log_run_results:445\u001b[0m ]- Luminosity emitted = 8.44283e+42 erg / s Luminosity absorbed = 2.70894e+42 erg / s Luminosity requested = 1.05928e+43 erg / s\n",
      "  [ \u001b[1m\u001b[38;2;255;69;0mTARDIS INFO\u001b[0m\u001b[1m\u001b[0m ][ \u001b[1mtardis.simulation.base:log_plasma_state:436\u001b[0m ]- Plasma stratification:\n",
      "  [ \u001b[1m\u001b[38;2;255;69;0mTARDIS INFO\u001b[0m\u001b[1m\u001b[0m ][ \u001b[1mtardis.simulation.base:log_plasma_state:437\u001b[0m ]- \n",
      "\t              t_rad    next_t_rad         w    next_w\n",
      "\tShell                                                \n",
      "\t0      11547.678162  10635.099217  0.500345  0.439520\n",
      "\t5      11669.739508  11035.731464  0.198338  0.158320\n",
      "\t10     11493.569590  10717.471486  0.121915  0.101642\n",
      "\t15     11083.769586  10404.049299  0.092834  0.075794\n",
      "\n",
      "  [ \u001b[1m\u001b[38;2;255;69;0mTARDIS INFO\u001b[0m\u001b[1m\u001b[0m ][ \u001b[1mtardis.simulation.base:log_plasma_state:438\u001b[0m ]- t_inner 10060.511 K -- next t_inner 11268.877 K\n",
      "  [ \u001b[1m\u001b[38;2;255;69;0mTARDIS INFO\u001b[0m\u001b[1m\u001b[0m ][ \u001b[1mtardis.simulation.base:iterate:323\u001b[0m ]- Starting iteration 10/20\n",
      "Running post-merge numba montecarlo (with C close lines)!\n",
      "  [ \u001b[1m\u001b[38;2;255;69;0mTARDIS INFO\u001b[0m\u001b[1m\u001b[0m ][ \u001b[1mtardis.simulation.base:log_run_results:445\u001b[0m ]- Luminosity emitted = 1.32925e+43 erg / s Luminosity absorbed = 4.25943e+42 erg / s Luminosity requested = 1.05928e+43 erg / s\n",
      "  [ \u001b[1m\u001b[38;2;255;69;0mTARDIS INFO\u001b[0m\u001b[1m\u001b[0m ][ \u001b[1mtardis.simulation.base:log_plasma_state:436\u001b[0m ]- Plasma stratification:\n",
      "  [ \u001b[1m\u001b[38;2;255;69;0mTARDIS INFO\u001b[0m\u001b[1m\u001b[0m ][ \u001b[1mtardis.simulation.base:log_plasma_state:437\u001b[0m ]- \n",
      "\t              t_rad    next_t_rad         w    next_w\n",
      "\tShell                                                \n",
      "\t0      10635.099217  11500.557678  0.439520  0.506895\n",
      "\t5      11035.731464  11715.267406  0.158320  0.196690\n",
      "\t10     10717.471486  11451.270656  0.101642  0.123243\n",
      "\t15     10404.049299  11094.423438  0.075794  0.092243\n",
      "\n",
      "  [ \u001b[1m\u001b[38;2;255;69;0mTARDIS INFO\u001b[0m\u001b[1m\u001b[0m ][ \u001b[1mtardis.simulation.base:log_plasma_state:438\u001b[0m ]- t_inner 11268.877 K -- next t_inner 10059.624 K\n",
      "  [ \u001b[1m\u001b[38;2;255;69;0mTARDIS INFO\u001b[0m\u001b[1m\u001b[0m ][ \u001b[1mtardis.simulation.base:iterate:323\u001b[0m ]- Starting iteration 11/20\n",
      "Running post-merge numba montecarlo (with C close lines)!\n",
      "  [ \u001b[1m\u001b[38;2;255;69;0mTARDIS INFO\u001b[0m\u001b[1m\u001b[0m ][ \u001b[1mtardis.simulation.base:log_run_results:445\u001b[0m ]- Luminosity emitted = 8.49497e+42 erg / s Luminosity absorbed = 2.65616e+42 erg / s Luminosity requested = 1.05928e+43 erg / s\n",
      "  [ \u001b[1m\u001b[38;2;255;69;0mTARDIS INFO\u001b[0m\u001b[1m\u001b[0m ][ \u001b[1mtardis.simulation.base:log_plasma_state:436\u001b[0m ]- Plasma stratification:\n",
      "  [ \u001b[1m\u001b[38;2;255;69;0mTARDIS INFO\u001b[0m\u001b[1m\u001b[0m ][ \u001b[1mtardis.simulation.base:log_plasma_state:437\u001b[0m ]- \n",
      "\t              t_rad    next_t_rad         w    next_w\n",
      "\tShell                                                \n",
      "\t0      11500.557678  10570.856509  0.506895  0.445926\n",
      "\t5      11715.267406  10957.336276  0.196690  0.162837\n",
      "\t10     11451.270656  10916.410391  0.123243  0.096229\n",
      "\t15     11094.423438  10441.053929  0.092243  0.075026\n",
      "\n",
      "  [ \u001b[1m\u001b[38;2;255;69;0mTARDIS INFO\u001b[0m\u001b[1m\u001b[0m ][ \u001b[1mtardis.simulation.base:log_plasma_state:438\u001b[0m ]- t_inner 10059.624 K -- next t_inner 11233.248 K\n",
      "  [ \u001b[1m\u001b[38;2;255;69;0mTARDIS INFO\u001b[0m\u001b[1m\u001b[0m ][ \u001b[1mtardis.simulation.base:iterate:323\u001b[0m ]- Starting iteration 12/20\n",
      "Running post-merge numba montecarlo (with C close lines)!\n",
      "  [ \u001b[1m\u001b[38;2;255;69;0mTARDIS INFO\u001b[0m\u001b[1m\u001b[0m ][ \u001b[1mtardis.simulation.base:log_run_results:445\u001b[0m ]- Luminosity emitted = 1.30417e+43 erg / s Luminosity absorbed = 4.28820e+42 erg / s Luminosity requested = 1.05928e+43 erg / s\n",
      "  [ \u001b[1m\u001b[38;2;255;69;0mTARDIS INFO\u001b[0m\u001b[1m\u001b[0m ][ \u001b[1mtardis.simulation.base:log_plasma_state:436\u001b[0m ]- Plasma stratification:\n",
      "  [ \u001b[1m\u001b[38;2;255;69;0mTARDIS INFO\u001b[0m\u001b[1m\u001b[0m ][ \u001b[1mtardis.simulation.base:log_plasma_state:437\u001b[0m ]- \n",
      "\t              t_rad    next_t_rad         w    next_w\n",
      "\tShell                                                \n",
      "\t0      10570.856509  11533.554419  0.445926  0.494814\n",
      "\t5      10957.336276  11764.967895  0.162837  0.189464\n",
      "\t10     10916.410391  11444.191999  0.096229  0.121150\n",
      "\t15     10441.053929  11084.736033  0.075026  0.090825\n",
      "\n",
      "  [ \u001b[1m\u001b[38;2;255;69;0mTARDIS INFO\u001b[0m\u001b[1m\u001b[0m ][ \u001b[1mtardis.simulation.base:log_plasma_state:438\u001b[0m ]- t_inner 11233.248 K -- next t_inner 10123.784 K\n",
      "  [ \u001b[1m\u001b[38;2;255;69;0mTARDIS INFO\u001b[0m\u001b[1m\u001b[0m ][ \u001b[1mtardis.simulation.base:iterate:323\u001b[0m ]- Starting iteration 13/20\n",
      "Running post-merge numba montecarlo (with C close lines)!\n",
      "  [ \u001b[1m\u001b[38;2;255;69;0mTARDIS INFO\u001b[0m\u001b[1m\u001b[0m ][ \u001b[1mtardis.simulation.base:log_run_results:445\u001b[0m ]- Luminosity emitted = 8.69244e+42 erg / s Luminosity absorbed = 2.74548e+42 erg / s Luminosity requested = 1.05928e+43 erg / s\n",
      "  [ \u001b[1m\u001b[38;2;255;69;0mTARDIS INFO\u001b[0m\u001b[1m\u001b[0m ][ \u001b[1mtardis.simulation.base:log_plasma_state:436\u001b[0m ]- Plasma stratification:\n",
      "  [ \u001b[1m\u001b[38;2;255;69;0mTARDIS INFO\u001b[0m\u001b[1m\u001b[0m ][ \u001b[1mtardis.simulation.base:log_plasma_state:437\u001b[0m ]- \n",
      "\t              t_rad    next_t_rad         w    next_w\n",
      "\tShell                                                \n",
      "\t0      11533.554419  10680.784661  0.494814  0.439281\n",
      "\t5      11764.967895  10887.379428  0.189464  0.170137\n",
      "\t10     11444.191999  10825.792025  0.121150  0.100780\n",
      "\t15     11084.736033  10402.120228  0.090825  0.077634\n",
      "\n",
      "  [ \u001b[1m\u001b[38;2;255;69;0mTARDIS INFO\u001b[0m\u001b[1m\u001b[0m ][ \u001b[1mtardis.simulation.base:log_plasma_state:438\u001b[0m ]- t_inner 10123.784 K -- next t_inner 11175.750 K\n",
      "  [ \u001b[1m\u001b[38;2;255;69;0mTARDIS INFO\u001b[0m\u001b[1m\u001b[0m ][ \u001b[1mtardis.simulation.base:iterate:323\u001b[0m ]- Starting iteration 14/20\n",
      "Running post-merge numba montecarlo (with C close lines)!\n",
      "  [ \u001b[1m\u001b[38;2;255;69;0mTARDIS INFO\u001b[0m\u001b[1m\u001b[0m ][ \u001b[1mtardis.simulation.base:log_run_results:445\u001b[0m ]- Luminosity emitted = 1.28354e+43 erg / s Luminosity absorbed = 4.15095e+42 erg / s Luminosity requested = 1.05928e+43 erg / s\n",
      "  [ \u001b[1m\u001b[38;2;255;69;0mTARDIS INFO\u001b[0m\u001b[1m\u001b[0m ][ \u001b[1mtardis.simulation.base:log_plasma_state:436\u001b[0m ]- Plasma stratification:\n",
      "  [ \u001b[1m\u001b[38;2;255;69;0mTARDIS INFO\u001b[0m\u001b[1m\u001b[0m ][ \u001b[1mtardis.simulation.base:log_plasma_state:437\u001b[0m ]- \n",
      "\t              t_rad    next_t_rad         w    next_w\n",
      "\tShell                                                \n",
      "\t0      10680.784661  11437.188130  0.439281  0.496749\n",
      "\t5      10887.379428  11571.106856  0.170137  0.196714\n",
      "\t10     10825.792025  11378.137918  0.100780  0.120954\n",
      "\t15     10402.120228  10957.211814  0.077634  0.092896\n",
      "\n",
      "  [ \u001b[1m\u001b[38;2;255;69;0mTARDIS INFO\u001b[0m\u001b[1m\u001b[0m ][ \u001b[1mtardis.simulation.base:log_plasma_state:438\u001b[0m ]- t_inner 11175.750 K -- next t_inner 10152.603 K\n",
      "  [ \u001b[1m\u001b[38;2;255;69;0mTARDIS INFO\u001b[0m\u001b[1m\u001b[0m ][ \u001b[1mtardis.simulation.base:iterate:323\u001b[0m ]- Starting iteration 15/20\n"
     ]
    },
    {
     "name": "stdout",
     "output_type": "stream",
     "text": [
      "Running post-merge numba montecarlo (with C close lines)!\n",
      "  [ \u001b[1m\u001b[38;2;255;69;0mTARDIS INFO\u001b[0m\u001b[1m\u001b[0m ][ \u001b[1mtardis.simulation.base:log_run_results:445\u001b[0m ]- Luminosity emitted = 8.75331e+42 erg / s Luminosity absorbed = 2.81319e+42 erg / s Luminosity requested = 1.05928e+43 erg / s\n",
      "  [ \u001b[1m\u001b[38;2;255;69;0mTARDIS INFO\u001b[0m\u001b[1m\u001b[0m ][ \u001b[1mtardis.simulation.base:log_plasma_state:436\u001b[0m ]- Plasma stratification:\n",
      "  [ \u001b[1m\u001b[38;2;255;69;0mTARDIS INFO\u001b[0m\u001b[1m\u001b[0m ][ \u001b[1mtardis.simulation.base:log_plasma_state:437\u001b[0m ]- \n",
      "\t              t_rad    next_t_rad         w    next_w\n",
      "\tShell                                                \n",
      "\t0      11437.188130  10637.774893  0.496749  0.452668\n",
      "\t5      11571.106856  11002.647927  0.196714  0.166197\n",
      "\t10     11378.137918  10832.042108  0.120954  0.101284\n",
      "\t15     10957.211814  10350.602742  0.092896  0.079468\n",
      "\n",
      "  [ \u001b[1m\u001b[38;2;255;69;0mTARDIS INFO\u001b[0m\u001b[1m\u001b[0m ][ \u001b[1mtardis.simulation.base:log_plasma_state:438\u001b[0m ]- t_inner 10152.603 K -- next t_inner 11168.529 K\n",
      "  [ \u001b[1m\u001b[38;2;255;69;0mTARDIS INFO\u001b[0m\u001b[1m\u001b[0m ][ \u001b[1mtardis.simulation.base:iterate:323\u001b[0m ]- Starting iteration 16/20\n",
      "Running post-merge numba montecarlo (with C close lines)!\n",
      "  [ \u001b[1m\u001b[38;2;255;69;0mTARDIS INFO\u001b[0m\u001b[1m\u001b[0m ][ \u001b[1mtardis.simulation.base:log_run_results:445\u001b[0m ]- Luminosity emitted = 1.27820e+43 erg / s Luminosity absorbed = 4.15606e+42 erg / s Luminosity requested = 1.05928e+43 erg / s\n",
      "  [ \u001b[1m\u001b[38;2;255;69;0mTARDIS INFO\u001b[0m\u001b[1m\u001b[0m ][ \u001b[1mtardis.simulation.base:log_plasma_state:436\u001b[0m ]- Plasma stratification:\n",
      "  [ \u001b[1m\u001b[38;2;255;69;0mTARDIS INFO\u001b[0m\u001b[1m\u001b[0m ][ \u001b[1mtardis.simulation.base:log_plasma_state:437\u001b[0m ]- \n",
      "\t              t_rad    next_t_rad         w    next_w\n",
      "\tShell                                                \n",
      "\t0      10637.774893  11420.979987  0.452668  0.499488\n",
      "\t5      11002.647927  11711.923994  0.166197  0.186857\n",
      "\t10     10832.042108  11421.346118  0.101284  0.119700\n",
      "\t15     10350.602742  11076.434180  0.079468  0.089402\n",
      "\n",
      "  [ \u001b[1m\u001b[38;2;255;69;0mTARDIS INFO\u001b[0m\u001b[1m\u001b[0m ][ \u001b[1mtardis.simulation.base:log_plasma_state:438\u001b[0m ]- t_inner 11168.529 K -- next t_inner 10167.208 K\n",
      "  [ \u001b[1m\u001b[38;2;255;69;0mTARDIS INFO\u001b[0m\u001b[1m\u001b[0m ][ \u001b[1mtardis.simulation.base:iterate:323\u001b[0m ]- Starting iteration 17/20\n",
      "Running post-merge numba montecarlo (with C close lines)!\n",
      "  [ \u001b[1m\u001b[38;2;255;69;0mTARDIS INFO\u001b[0m\u001b[1m\u001b[0m ][ \u001b[1mtardis.simulation.base:log_run_results:445\u001b[0m ]- Luminosity emitted = 8.81647e+42 erg / s Luminosity absorbed = 2.81681e+42 erg / s Luminosity requested = 1.05928e+43 erg / s\n",
      "  [ \u001b[1m\u001b[38;2;255;69;0mTARDIS INFO\u001b[0m\u001b[1m\u001b[0m ][ \u001b[1mtardis.simulation.base:log_plasma_state:436\u001b[0m ]- Plasma stratification:\n",
      "  [ \u001b[1m\u001b[38;2;255;69;0mTARDIS INFO\u001b[0m\u001b[1m\u001b[0m ][ \u001b[1mtardis.simulation.base:log_plasma_state:437\u001b[0m ]- \n",
      "\t              t_rad    next_t_rad         w    next_w\n",
      "\tShell                                                \n",
      "\t0      11420.979987  10691.849845  0.499488  0.447482\n",
      "\t5      11711.923994  11042.045712  0.186857  0.164090\n",
      "\t10     11421.346118  10980.886609  0.119700  0.097369\n",
      "\t15     11076.434180  10456.662007  0.089402  0.077097\n",
      "\n",
      "  [ \u001b[1m\u001b[38;2;255;69;0mTARDIS INFO\u001b[0m\u001b[1m\u001b[0m ][ \u001b[1mtardis.simulation.base:log_plasma_state:438\u001b[0m ]- t_inner 10167.208 K -- next t_inner 11144.459 K\n",
      "  [ \u001b[1m\u001b[38;2;255;69;0mTARDIS INFO\u001b[0m\u001b[1m\u001b[0m ][ \u001b[1mtardis.simulation.base:iterate:323\u001b[0m ]- Starting iteration 18/20\n",
      "Running post-merge numba montecarlo (with C close lines)!\n",
      "  [ \u001b[1m\u001b[38;2;255;69;0mTARDIS INFO\u001b[0m\u001b[1m\u001b[0m ][ \u001b[1mtardis.simulation.base:log_run_results:445\u001b[0m ]- Luminosity emitted = 1.26680e+43 erg / s Luminosity absorbed = 4.12238e+42 erg / s Luminosity requested = 1.05928e+43 erg / s\n",
      "  [ \u001b[1m\u001b[38;2;255;69;0mTARDIS INFO\u001b[0m\u001b[1m\u001b[0m ][ \u001b[1mtardis.simulation.base:log_plasma_state:436\u001b[0m ]- Plasma stratification:\n",
      "  [ \u001b[1m\u001b[38;2;255;69;0mTARDIS INFO\u001b[0m\u001b[1m\u001b[0m ][ \u001b[1mtardis.simulation.base:log_plasma_state:437\u001b[0m ]- \n",
      "\t              t_rad    next_t_rad         w    next_w\n",
      "\tShell                                                \n",
      "\t0      10691.849845  11404.686443  0.447482  0.497739\n",
      "\t5      11042.045712  11664.227712  0.164090  0.189070\n",
      "\t10     10980.886609  11444.220669  0.097369  0.117732\n",
      "\t15     10456.662007  11052.698087  0.077097  0.089141\n",
      "\n",
      "  [ \u001b[1m\u001b[38;2;255;69;0mTARDIS INFO\u001b[0m\u001b[1m\u001b[0m ][ \u001b[1mtardis.simulation.base:log_plasma_state:438\u001b[0m ]- t_inner 11144.459 K -- next t_inner 10190.841 K\n",
      "  [ \u001b[1m\u001b[38;2;255;69;0mTARDIS INFO\u001b[0m\u001b[1m\u001b[0m ][ \u001b[1mtardis.simulation.base:iterate:323\u001b[0m ]- Starting iteration 19/20\n",
      "Running post-merge numba montecarlo (with C close lines)!\n",
      "  [ \u001b[1m\u001b[38;2;255;69;0mTARDIS INFO\u001b[0m\u001b[1m\u001b[0m ][ \u001b[1mtardis.simulation.base:log_run_results:445\u001b[0m ]- Luminosity emitted = 8.87081e+42 erg / s Luminosity absorbed = 2.87116e+42 erg / s Luminosity requested = 1.05928e+43 erg / s\n",
      "  [ \u001b[1m\u001b[38;2;255;69;0mTARDIS INFO\u001b[0m\u001b[1m\u001b[0m ][ \u001b[1mtardis.simulation.base:log_plasma_state:436\u001b[0m ]- Plasma stratification:\n",
      "  [ \u001b[1m\u001b[38;2;255;69;0mTARDIS INFO\u001b[0m\u001b[1m\u001b[0m ][ \u001b[1mtardis.simulation.base:log_plasma_state:437\u001b[0m ]- \n",
      "\t              t_rad    next_t_rad         w    next_w\n",
      "\tShell                                                \n",
      "\t0      11404.686443  10732.832306  0.497739  0.444436\n",
      "\t5      11664.227712  11084.302807  0.189070  0.162591\n",
      "\t10     11444.220669  10899.736539  0.117732  0.099122\n",
      "\t15     11052.698087  10465.941519  0.089141  0.077378\n",
      "\n",
      "  [ \u001b[1m\u001b[38;2;255;69;0mTARDIS INFO\u001b[0m\u001b[1m\u001b[0m ][ \u001b[1mtardis.simulation.base:log_plasma_state:438\u001b[0m ]- t_inner 10190.841 K -- next t_inner 11136.097 K\n",
      "  [ \u001b[1m\u001b[38;2;255;69;0mTARDIS INFO\u001b[0m\u001b[1m\u001b[0m ][ \u001b[1mtardis.simulation.base:iterate:323\u001b[0m ]- Starting iteration 20/20\n",
      "Running post-merge numba montecarlo (with C close lines)!\n",
      "  [ \u001b[1m\u001b[38;2;255;69;0mTARDIS INFO\u001b[0m\u001b[1m\u001b[0m ][ \u001b[1mtardis.simulation.base:log_run_results:445\u001b[0m ]- Luminosity emitted = 1.26319e+43 erg / s Luminosity absorbed = 4.10706e+42 erg / s Luminosity requested = 1.05928e+43 erg / s\n",
      "  [ \u001b[1m\u001b[38;2;255;69;0mTARDIS INFO\u001b[0m\u001b[1m\u001b[0m ][ \u001b[1mtardis.simulation.base:run:380\u001b[0m ]- Simulation finished in 20 iterations and took 40.84 s\n"
     ]
    }
   ],
   "source": [
    "sim = run_tardis('tardis_example.yml', \n",
    "                 simulation_callbacks=[[update_graphs]])"
   ]
  },
  {
   "cell_type": "code",
   "execution_count": 9,
   "metadata": {},
   "outputs": [
    {
     "data": {
      "application/vnd.plotly.v1+json": {
       "config": {
        "plotlyServerURL": "https://plot.ly"
       },
       "data": [
        {
         "line": {
          "color": "#7dafff"
         },
         "type": "scatter",
         "uid": "850d85a0-f5a5-43cf-aa9c-965fab6eb1d7",
         "xaxis": "x",
         "yaxis": "y"
        },
        {
         "line": {
          "color": "#7dafff"
         },
         "type": "scatter",
         "uid": "9b81aee1-2dbc-4e87-b117-19d6f1e75104",
         "xaxis": "x2",
         "yaxis": "y2"
        },
        {
         "line": {
          "color": "#7dafff"
         },
         "type": "scatter",
         "uid": "e7cd9c67-9a8d-4e76-b014-e0a1605663b8",
         "x": [
          1100000000,
          1145000000,
          1190000000,
          1235000000,
          1280000000,
          1325000000,
          1370000000,
          1415000000,
          1460000000,
          1505000000,
          1550000000,
          1595000000,
          1640000000,
          1685000000,
          1730000000,
          1775000000,
          1820000000,
          1865000000,
          1910000000,
          1955000000,
          2000000000
         ],
         "xaxis": "x2",
         "y": [
          10134.733716625742,
          10158.894068408066,
          10199.163062164185,
          10230.988705011774,
          10268.95723542248,
          10222.890845143,
          10224.33250792895,
          10215.304103107934,
          10218.675931875407,
          10185.463728853063,
          10144.463169171082,
          10076.876809842743,
          10030.209347853815,
          10029.018621140542,
          9986.944524442715,
          9873.477845862937,
          9843.33461403224,
          9771.609702679261,
          9679.524619982089,
          9610.209774198473
         ],
         "yaxis": "y2"
        },
        {
         "line": {
          "color": "#7dafff"
         },
         "type": "scatter",
         "uid": "9dd707b7-6036-406a-bd8a-fa9a41b45e77",
         "x": [
          1100000000,
          1145000000,
          1190000000,
          1235000000,
          1280000000,
          1325000000,
          1370000000,
          1415000000,
          1460000000,
          1505000000,
          1550000000,
          1595000000,
          1640000000,
          1685000000,
          1730000000,
          1775000000,
          1820000000,
          1865000000,
          1910000000,
          1955000000,
          2000000000
         ],
         "xaxis": "x",
         "y": [
          0.5082040569581553,
          0.39622127635948895,
          0.3214185723254646,
          0.26560113513158984,
          0.22389059993927218,
          0.19702589896830264,
          0.17494912025299855,
          0.15637315414702457,
          0.13940960015313758,
          0.1279542720503049,
          0.11717940936679906,
          0.10932218040060013,
          0.10303354273987321,
          0.09520635540966971,
          0.08986506172262776,
          0.08694065164106614,
          0.08202977107040894,
          0.07895392034793645,
          0.07641285709961215,
          0.0734944435056783
         ],
         "yaxis": "y"
        },
        {
         "line": {
          "color": "#7dafff"
         },
         "type": "scatter",
         "uid": "6cb51a47-dd5b-45d6-929e-7d5963c11e1c",
         "x": [
          1100000000,
          1145000000,
          1190000000,
          1235000000,
          1280000000,
          1325000000,
          1370000000,
          1415000000,
          1460000000,
          1505000000,
          1550000000,
          1595000000,
          1640000000,
          1685000000,
          1730000000,
          1775000000,
          1820000000,
          1865000000,
          1910000000,
          1955000000,
          2000000000
         ],
         "xaxis": "x2",
         "y": [
          11468.021903420022,
          11435.99940796668,
          11449.930444230993,
          11492.65958293691,
          11527.299217171005,
          11499.835339656469,
          11477.276330649498,
          11460.659744967303,
          11406.161049943828,
          11340.543942919203,
          11306.370330122181,
          11212.548324749037,
          11165.150317946618,
          11109.460288675335,
          11032.751812374607,
          10953.828130057924,
          10887.896023944959,
          10829.273836669772,
          10807.478630946256,
          10678.472039472605
         ],
         "yaxis": "y2"
        },
        {
         "line": {
          "color": "#7dafff"
         },
         "type": "scatter",
         "uid": "4dc611b1-5976-4022-8c32-4307ce5d979c",
         "x": [
          1100000000,
          1145000000,
          1190000000,
          1235000000,
          1280000000,
          1325000000,
          1370000000,
          1415000000,
          1460000000,
          1505000000,
          1550000000,
          1595000000,
          1640000000,
          1685000000,
          1730000000,
          1775000000,
          1820000000,
          1865000000,
          1910000000,
          1955000000,
          2000000000
         ],
         "xaxis": "x",
         "y": [
          0.5486713034814868,
          0.4359667978092493,
          0.35745766558351083,
          0.29759617877916883,
          0.2514052642548389,
          0.2213742932983639,
          0.1967142119281105,
          0.1750139221468986,
          0.15960184231505048,
          0.14776884435084464,
          0.1362910943753446,
          0.12829546326034932,
          0.11949333047989288,
          0.11271924127039853,
          0.1079628659287024,
          0.10261651657287688,
          0.09761052473526165,
          0.09257019031227713,
          0.08757308797595437,
          0.0856037284920429
         ],
         "yaxis": "y"
        },
        {
         "line": {
          "color": "#7dafff"
         },
         "type": "scatter",
         "uid": "e4dd358a-be7f-461f-9a1e-22bbc97f0a8f",
         "x": [
          1100000000,
          1145000000,
          1190000000,
          1235000000,
          1280000000,
          1325000000,
          1370000000,
          1415000000,
          1460000000,
          1505000000,
          1550000000,
          1595000000,
          1640000000,
          1685000000,
          1730000000,
          1775000000,
          1820000000,
          1865000000,
          1910000000,
          1955000000,
          2000000000
         ],
         "xaxis": "x2",
         "y": [
          10497.00839713399,
          10647.412149636568,
          10710.55559834981,
          10778.428547850972,
          10799.157541112725,
          10799.075913257298,
          10809.366021863925,
          10753.851890469934,
          10723.185397841275,
          10725.950530076647,
          10623.433273860508,
          10568.227843581686,
          10448.426796026404,
          10344.129570842595,
          10277.24707072565,
          10226.187071335815,
          10191.522923045855,
          10084.749431116137,
          9966.774860086334,
          9840.487791467043
         ],
         "yaxis": "y2"
        },
        {
         "line": {
          "color": "#7dafff"
         },
         "type": "scatter",
         "uid": "c6981ced-2a68-4a31-80d1-50e5c975f879",
         "x": [
          1100000000,
          1145000000,
          1190000000,
          1235000000,
          1280000000,
          1325000000,
          1370000000,
          1415000000,
          1460000000,
          1505000000,
          1550000000,
          1595000000,
          1640000000,
          1685000000,
          1730000000,
          1775000000,
          1820000000,
          1865000000,
          1910000000,
          1955000000,
          2000000000
         ],
         "xaxis": "x",
         "y": [
          0.4422994072334237,
          0.33161550547713586,
          0.2681925493433555,
          0.22122958128496983,
          0.18813327121608678,
          0.16428839927198413,
          0.14434134015130032,
          0.1316469869873384,
          0.12013575438192586,
          0.10816870266418496,
          0.1018199636876745,
          0.09492623735431249,
          0.09101140062051431,
          0.08639163271896742,
          0.08220814746498001,
          0.0776289023561778,
          0.07327500495757655,
          0.07106642067401939,
          0.06969266984280108,
          0.06837630714305269
         ],
         "yaxis": "y"
        },
        {
         "line": {
          "color": "#7dafff"
         },
         "type": "scatter",
         "uid": "7b755fb8-4b40-44fc-ad68-84f2cfd30a44",
         "x": [
          1100000000,
          1145000000,
          1190000000,
          1235000000,
          1280000000,
          1325000000,
          1370000000,
          1415000000,
          1460000000,
          1505000000,
          1550000000,
          1595000000,
          1640000000,
          1685000000,
          1730000000,
          1775000000,
          1820000000,
          1865000000,
          1910000000,
          1955000000,
          2000000000
         ],
         "xaxis": "x2",
         "y": [
          11615.344312715382,
          11665.123230726775,
          11722.631980824826,
          11696.75903438953,
          11740.274989218247,
          11729.411389495834,
          11762.937546441419,
          11652.442187063023,
          11589.11016884436,
          11561.496043188794,
          11517.190316985118,
          11433.020206851417,
          11326.422493645188,
          11237.973261737088,
          11182.841624719185,
          11103.373456063158,
          10988.381394715298,
          10950.08132967925,
          10862.947659789314,
          10751.855231570009
         ],
         "yaxis": "y2"
        },
        {
         "line": {
          "color": "#7dafff"
         },
         "type": "scatter",
         "uid": "e438e409-df46-4433-8ef3-581c31b5865b",
         "x": [
          1100000000,
          1145000000,
          1190000000,
          1235000000,
          1280000000,
          1325000000,
          1370000000,
          1415000000,
          1460000000,
          1505000000,
          1550000000,
          1595000000,
          1640000000,
          1685000000,
          1730000000,
          1775000000,
          1820000000,
          1865000000,
          1910000000,
          1955000000,
          2000000000
         ],
         "xaxis": "x",
         "y": [
          0.4977143593187986,
          0.3915904655092017,
          0.31518118479289936,
          0.2685435360415943,
          0.22820910008384704,
          0.1992052064914692,
          0.173279639649547,
          0.15947664883652737,
          0.14579099407466695,
          0.13349868406477555,
          0.12384871542019993,
          0.11633277137351779,
          0.11004943343959869,
          0.10494577908156116,
          0.09880472549683277,
          0.09393029340453518,
          0.09096244445118781,
          0.0863042339333106,
          0.08321862769525477,
          0.08100093623949857
         ],
         "yaxis": "y"
        },
        {
         "line": {
          "color": "#7dafff"
         },
         "type": "scatter",
         "uid": "8d09edcc-7b1b-4c6a-8065-93f5d0f93e2f",
         "x": [
          1100000000,
          1145000000,
          1190000000,
          1235000000,
          1280000000,
          1325000000,
          1370000000,
          1415000000,
          1460000000,
          1505000000,
          1550000000,
          1595000000,
          1640000000,
          1685000000,
          1730000000,
          1775000000,
          1820000000,
          1865000000,
          1910000000,
          1955000000,
          2000000000
         ],
         "xaxis": "x2",
         "y": [
          10549.514128484347,
          10759.565074180144,
          10894.663638012831,
          10932.865203687252,
          10930.709069978388,
          10919.073481210133,
          10877.075252726967,
          10810.824269258315,
          10785.60310848714,
          10727.313109663908,
          10697.303299672538,
          10711.257210371088,
          10551.7344461508,
          10490.89252455796,
          10416.933630770684,
          10379.863072642802,
          10279.630106699524,
          10220.453729533761,
          10077.47548461628,
          9927.285882427786
         ],
         "yaxis": "y2"
        },
        {
         "line": {
          "color": "#7dafff"
         },
         "type": "scatter",
         "uid": "fd5bee21-51b8-40a8-9e61-bad4c74956f2",
         "x": [
          1100000000,
          1145000000,
          1190000000,
          1235000000,
          1280000000,
          1325000000,
          1370000000,
          1415000000,
          1460000000,
          1505000000,
          1550000000,
          1595000000,
          1640000000,
          1685000000,
          1730000000,
          1775000000,
          1820000000,
          1865000000,
          1910000000,
          1955000000,
          2000000000
         ],
         "xaxis": "x",
         "y": [
          0.44344066635938667,
          0.32956578936852193,
          0.2601089045006474,
          0.21598810562474166,
          0.18540704208348582,
          0.16219891903074646,
          0.14560372598880492,
          0.13326787384388725,
          0.11999931339731705,
          0.11025218829721792,
          0.101289221833509,
          0.09247037462403458,
          0.08933312170132358,
          0.08413052869637079,
          0.07995660682274042,
          0.0753722119776381,
          0.07252173631498239,
          0.06901139800647026,
          0.06809975749337618,
          0.0673520522990134
         ],
         "yaxis": "y"
        },
        {
         "line": {
          "color": "#7dafff"
         },
         "type": "scatter",
         "uid": "2ae47e0b-8463-45a4-876c-3b0b53f1b86b",
         "x": [
          1100000000,
          1145000000,
          1190000000,
          1235000000,
          1280000000,
          1325000000,
          1370000000,
          1415000000,
          1460000000,
          1505000000,
          1550000000,
          1595000000,
          1640000000,
          1685000000,
          1730000000,
          1775000000,
          1820000000,
          1865000000,
          1910000000,
          1955000000,
          2000000000
         ],
         "xaxis": "x2",
         "y": [
          11567.208184336641,
          11613.025123050538,
          11683.328827353043,
          11693.104708830951,
          11724.278325269535,
          11653.124120929957,
          11612.65021223817,
          11609.828928737557,
          11614.580326945592,
          11546.46238912426,
          11425.95501009532,
          11375.048998512902,
          11315.818140434145,
          11225.578780782149,
          11120.449864009752,
          11082.155937788908,
          10987.86851429619,
          10920.442550504476,
          10834.928551210214,
          10735.503852801117
         ],
         "yaxis": "y2"
        },
        {
         "line": {
          "color": "#7dafff"
         },
         "type": "scatter",
         "uid": "86399ffb-7f2a-4caa-a101-ba3190302ef6",
         "x": [
          1100000000,
          1145000000,
          1190000000,
          1235000000,
          1280000000,
          1325000000,
          1370000000,
          1415000000,
          1460000000,
          1505000000,
          1550000000,
          1595000000,
          1640000000,
          1685000000,
          1730000000,
          1775000000,
          1820000000,
          1865000000,
          1910000000,
          1955000000,
          2000000000
         ],
         "xaxis": "x",
         "y": [
          0.5041776548110583,
          0.39023406927746374,
          0.3175388504350533,
          0.26689230648248957,
          0.22560807776675923,
          0.20304214420449376,
          0.18189522000862066,
          0.1613582926473933,
          0.14556836273965665,
          0.13371966659083223,
          0.12524940621974712,
          0.11754876564474882,
          0.11015802998525902,
          0.10441164070595729,
          0.0993134780463065,
          0.09402786959361904,
          0.09062541591197741,
          0.08647506254390516,
          0.08333888504337582,
          0.08065101681509353
         ],
         "yaxis": "y"
        },
        {
         "line": {
          "color": "#7dafff"
         },
         "type": "scatter",
         "uid": "17a4f2cd-b62b-4554-a65b-a2549113f888",
         "x": [
          1100000000,
          1145000000,
          1190000000,
          1235000000,
          1280000000,
          1325000000,
          1370000000,
          1415000000,
          1460000000,
          1505000000,
          1550000000,
          1595000000,
          1640000000,
          1685000000,
          1730000000,
          1775000000,
          1820000000,
          1865000000,
          1910000000,
          1955000000,
          2000000000
         ],
         "xaxis": "x2",
         "y": [
          10569.74740334304,
          10778.034968335249,
          10902.990804432695,
          10989.797314359686,
          11047.113446219635,
          11099.194259237402,
          11016.051305801364,
          10966.513171670935,
          10947.559474163529,
          10934.581362699619,
          10809.397890448754,
          10698.341230707349,
          10636.972622756151,
          10581.99648087922,
          10532.222759856095,
          10454.841299228276,
          10338.205644915452,
          10252.881876072242,
          10087.404942797333,
          9969.196423563202
         ],
         "yaxis": "y2"
        },
        {
         "line": {
          "color": "#7dafff"
         },
         "type": "scatter",
         "uid": "8970be64-cf2e-4d86-8c29-75b63eac4d47",
         "x": [
          1100000000,
          1145000000,
          1190000000,
          1235000000,
          1280000000,
          1325000000,
          1370000000,
          1415000000,
          1460000000,
          1505000000,
          1550000000,
          1595000000,
          1640000000,
          1685000000,
          1730000000,
          1775000000,
          1820000000,
          1865000000,
          1910000000,
          1955000000,
          2000000000
         ],
         "xaxis": "x",
         "y": [
          0.44229007243638824,
          0.3257208718205354,
          0.25608363121508143,
          0.20917551310840343,
          0.17856281204684166,
          0.1532534478801238,
          0.13898411896927776,
          0.1262357056609694,
          0.11375261901807456,
          0.10290814628079864,
          0.09725630417756266,
          0.09284460200253165,
          0.08710696174234614,
          0.0816250729899891,
          0.0772903259223547,
          0.07380941869099045,
          0.07152054892238287,
          0.06908445244271276,
          0.06851046721770133,
          0.06692890210588094
         ],
         "yaxis": "y"
        },
        {
         "line": {
          "color": "#7dafff"
         },
         "type": "scatter",
         "uid": "89fb3d86-3757-475c-81b3-9ee4345f50ef",
         "x": [
          1100000000,
          1145000000,
          1190000000,
          1235000000,
          1280000000,
          1325000000,
          1370000000,
          1415000000,
          1460000000,
          1505000000,
          1550000000,
          1595000000,
          1640000000,
          1685000000,
          1730000000,
          1775000000,
          1820000000,
          1865000000,
          1910000000,
          1955000000,
          2000000000
         ],
         "xaxis": "x2",
         "y": [
          11547.678161996795,
          11623.874786176679,
          11731.044716907296,
          11760.255097980282,
          11744.69897708661,
          11669.739508176332,
          11644.121670479837,
          11594.30464359444,
          11525.86452222402,
          11493.832801176883,
          11493.569589639626,
          11391.45557557787,
          11294.144464329287,
          11274.715359901782,
          11177.405492194266,
          11083.769585922253,
          11033.949307567009,
          10945.602385267852,
          10830.938212361745,
          10712.245869588583
         ],
         "yaxis": "y2"
        },
        {
         "line": {
          "color": "#7dafff"
         },
         "type": "scatter",
         "uid": "a44f5e98-e564-4df8-95fc-071b3c2c8b54",
         "x": [
          1100000000,
          1145000000,
          1190000000,
          1235000000,
          1280000000,
          1325000000,
          1370000000,
          1415000000,
          1460000000,
          1505000000,
          1550000000,
          1595000000,
          1640000000,
          1685000000,
          1730000000,
          1775000000,
          1820000000,
          1865000000,
          1910000000,
          1955000000,
          2000000000
         ],
         "xaxis": "x",
         "y": [
          0.5003453146367502,
          0.3838214941898442,
          0.30461442405220623,
          0.25655030086043434,
          0.22316143817180614,
          0.19833762554295664,
          0.176274631647648,
          0.16038371517158453,
          0.1464719783653989,
          0.13388777429772966,
          0.12191469474588644,
          0.11483702826414047,
          0.10939033073711903,
          0.10162535549088093,
          0.09688786513696956,
          0.09283396230842694,
          0.08787816010814416,
          0.08454191425058007,
          0.08203925347737265,
          0.0802404176236165
         ],
         "yaxis": "y"
        },
        {
         "line": {
          "color": "#7dafff"
         },
         "type": "scatter",
         "uid": "2374abfa-5bec-4530-b042-76daa72f2ef2",
         "x": [
          1100000000,
          1145000000,
          1190000000,
          1235000000,
          1280000000,
          1325000000,
          1370000000,
          1415000000,
          1460000000,
          1505000000,
          1550000000,
          1595000000,
          1640000000,
          1685000000,
          1730000000,
          1775000000,
          1820000000,
          1865000000,
          1910000000,
          1955000000,
          2000000000
         ],
         "xaxis": "x2",
         "y": [
          10635.099216825014,
          10811.018798823194,
          10933.638973465306,
          10979.717070479548,
          11020.403776787776,
          11035.731463947244,
          10938.265121115062,
          10845.596613320555,
          10800.731975199556,
          10763.639570847958,
          10717.471486460141,
          10707.496982070446,
          10660.606823993116,
          10573.357547773094,
          10472.700868373204,
          10404.049299323693,
          10290.69863790341,
          10218.265955052706,
          10108.378593633914,
          9988.315668041098
         ],
         "yaxis": "y2"
        },
        {
         "line": {
          "color": "#7dafff"
         },
         "type": "scatter",
         "uid": "2d948ef3-bed4-48b1-96ee-1ee887c37bb5",
         "x": [
          1100000000,
          1145000000,
          1190000000,
          1235000000,
          1280000000,
          1325000000,
          1370000000,
          1415000000,
          1460000000,
          1505000000,
          1550000000,
          1595000000,
          1640000000,
          1685000000,
          1730000000,
          1775000000,
          1820000000,
          1865000000,
          1910000000,
          1955000000,
          2000000000
         ],
         "xaxis": "x",
         "y": [
          0.43952006761780876,
          0.3272689847764193,
          0.2606464861341181,
          0.21628196882829456,
          0.1825198912496846,
          0.15831982713481618,
          0.14420700235789435,
          0.13191048251575363,
          0.11992662887673332,
          0.11051812652760701,
          0.10164157832326397,
          0.09351698328423085,
          0.08702393919783395,
          0.08275717669259847,
          0.07958674997930451,
          0.07579438452066575,
          0.07337972954768159,
          0.07043279263704051,
          0.06849589481058928,
          0.06699933221108373
         ],
         "yaxis": "y"
        },
        {
         "line": {
          "color": "#7dafff"
         },
         "type": "scatter",
         "uid": "35559f15-3e64-4bc1-80ef-c61b291d604d",
         "x": [
          1100000000,
          1145000000,
          1190000000,
          1235000000,
          1280000000,
          1325000000,
          1370000000,
          1415000000,
          1460000000,
          1505000000,
          1550000000,
          1595000000,
          1640000000,
          1685000000,
          1730000000,
          1775000000,
          1820000000,
          1865000000,
          1910000000,
          1955000000,
          2000000000
         ],
         "xaxis": "x2",
         "y": [
          11500.557677730967,
          11637.546429690148,
          11663.406170429926,
          11724.968508662445,
          11714.760546184592,
          11715.267405819095,
          11601.494346275227,
          11508.240345570224,
          11502.488963193151,
          11497.386422527972,
          11451.270656305627,
          11400.159576989896,
          11327.524225636034,
          11287.892223234016,
          11179.325846630562,
          11094.423438456082,
          10990.648087308036,
          10925.434399972431,
          10815.564131433577,
          10706.177796255934
         ],
         "yaxis": "y2"
        },
        {
         "line": {
          "color": "#7dafff"
         },
         "type": "scatter",
         "uid": "2b85bdba-db4d-44f6-b107-b3f561432557",
         "x": [
          1100000000,
          1145000000,
          1190000000,
          1235000000,
          1280000000,
          1325000000,
          1370000000,
          1415000000,
          1460000000,
          1505000000,
          1550000000,
          1595000000,
          1640000000,
          1685000000,
          1730000000,
          1775000000,
          1820000000,
          1865000000,
          1910000000,
          1955000000,
          2000000000
         ],
         "xaxis": "x",
         "y": [
          0.5068949392970971,
          0.38221104971484315,
          0.3148741457738798,
          0.26211511901625356,
          0.22619764203242188,
          0.19668967142631172,
          0.17976793731845225,
          0.16527279232801473,
          0.14785746043356635,
          0.13387433613614877,
          0.1232425999868199,
          0.1146829697056732,
          0.10741488616862115,
          0.10056120171965181,
          0.09622391591057,
          0.09224290766102909,
          0.08910601228438907,
          0.08532979760583174,
          0.08271120381699118,
          0.08030516190365566
         ],
         "yaxis": "y"
        },
        {
         "line": {
          "color": "#7dafff"
         },
         "type": "scatter",
         "uid": "c8df0222-b34d-47be-8f2f-553f3b9c6fa9",
         "x": [
          1100000000,
          1145000000,
          1190000000,
          1235000000,
          1280000000,
          1325000000,
          1370000000,
          1415000000,
          1460000000,
          1505000000,
          1550000000,
          1595000000,
          1640000000,
          1685000000,
          1730000000,
          1775000000,
          1820000000,
          1865000000,
          1910000000,
          1955000000,
          2000000000
         ],
         "xaxis": "x2",
         "y": [
          10570.85650926321,
          10736.442568836423,
          10856.868647968913,
          10979.906697012915,
          10953.700434670507,
          10957.33627607718,
          10966.459695386742,
          10949.857847026873,
          10898.176501377218,
          10912.84715469283,
          10916.410390590072,
          10804.790135414292,
          10642.721757219704,
          10673.950209699193,
          10562.155371916366,
          10441.053929477464,
          10375.82143773825,
          10218.808094852784,
          10128.925286201787,
          9982.977583607197
         ],
         "yaxis": "y2"
        },
        {
         "line": {
          "color": "#7dafff"
         },
         "type": "scatter",
         "uid": "08205fc8-4f06-40b9-8c83-ab8499799c06",
         "x": [
          1100000000,
          1145000000,
          1190000000,
          1235000000,
          1280000000,
          1325000000,
          1370000000,
          1415000000,
          1460000000,
          1505000000,
          1550000000,
          1595000000,
          1640000000,
          1685000000,
          1730000000,
          1775000000,
          1820000000,
          1865000000,
          1910000000,
          1955000000,
          2000000000
         ],
         "xaxis": "x",
         "y": [
          0.44592562360298665,
          0.33172612420042014,
          0.2626860334726045,
          0.2144515856730121,
          0.18743693541983764,
          0.16283699173813013,
          0.14343516576688234,
          0.1288301921728002,
          0.11742933862073772,
          0.10551038169028189,
          0.09622856527804777,
          0.09084155973051877,
          0.08819161384785743,
          0.08047832421527903,
          0.07731272727040174,
          0.0750256006231576,
          0.07149678574153981,
          0.0706271240526102,
          0.06830828451008494,
          0.0675509962637582
         ],
         "yaxis": "y"
        },
        {
         "line": {
          "color": "#7dafff"
         },
         "type": "scatter",
         "uid": "16fd6c38-5a88-40da-a1de-1ed7db61e8ca",
         "x": [
          1100000000,
          1145000000,
          1190000000,
          1235000000,
          1280000000,
          1325000000,
          1370000000,
          1415000000,
          1460000000,
          1505000000,
          1550000000,
          1595000000,
          1640000000,
          1685000000,
          1730000000,
          1775000000,
          1820000000,
          1865000000,
          1910000000,
          1955000000,
          2000000000
         ],
         "xaxis": "x2",
         "y": [
          11533.554418901986,
          11597.331479911461,
          11657.889585168932,
          11762.268748636758,
          11775.917513051461,
          11764.967895422506,
          11676.073086637227,
          11650.112617143855,
          11594.258946050919,
          11522.736351585567,
          11444.191999379364,
          11366.855615514285,
          11333.428810955656,
          11291.115455484685,
          11165.546445726963,
          11084.736032809737,
          11050.699407674529,
          10978.542485969812,
          10849.291930009682,
          10738.957956164413
         ],
         "yaxis": "y2"
        },
        {
         "line": {
          "color": "#7dafff"
         },
         "type": "scatter",
         "uid": "46d252e6-0e94-4aef-9dc9-0a6273002ead",
         "x": [
          1100000000,
          1145000000,
          1190000000,
          1235000000,
          1280000000,
          1325000000,
          1370000000,
          1415000000,
          1460000000,
          1505000000,
          1550000000,
          1595000000,
          1640000000,
          1685000000,
          1730000000,
          1775000000,
          1820000000,
          1865000000,
          1910000000,
          1955000000,
          2000000000
         ],
         "xaxis": "x",
         "y": [
          0.4948141939783154,
          0.3825728490752265,
          0.31106318084798007,
          0.25245973709763725,
          0.21581879433960113,
          0.18946380809256022,
          0.1719798978313757,
          0.15370692887596554,
          0.14061175378646074,
          0.13022103911735378,
          0.12114965913477616,
          0.11340820405908851,
          0.1050870225832694,
          0.09835950384020811,
          0.09505240961204954,
          0.09082482658920103,
          0.08538454480911349,
          0.08166191691747993,
          0.0799399239764927,
          0.07767439247279277
         ],
         "yaxis": "y"
        },
        {
         "line": {
          "color": "#7dafff"
         },
         "type": "scatter",
         "uid": "caac617d-bf00-46b9-bf0d-a94b878696cb",
         "x": [
          1100000000,
          1145000000,
          1190000000,
          1235000000,
          1280000000,
          1325000000,
          1370000000,
          1415000000,
          1460000000,
          1505000000,
          1550000000,
          1595000000,
          1640000000,
          1685000000,
          1730000000,
          1775000000,
          1820000000,
          1865000000,
          1910000000,
          1955000000,
          2000000000
         ],
         "xaxis": "x2",
         "y": [
          10680.784661378806,
          10845.542429380761,
          10944.81519293473,
          10993.087317815407,
          11012.9400764844,
          10887.379427963211,
          10983.662316167123,
          11024.751388763909,
          10943.797478820632,
          10891.467325909394,
          10825.792024899989,
          10805.5575293643,
          10706.591895210207,
          10571.784653112929,
          10496.275695177474,
          10402.120227836202,
          10301.441469400985,
          10238.49109673982,
          10147.574803160998,
          10007.566464221138
         ],
         "yaxis": "y2"
        },
        {
         "line": {
          "color": "#7dafff"
         },
         "type": "scatter",
         "uid": "04922ad6-26ff-40e7-bb90-7b4c59fd8d3c",
         "x": [
          1100000000,
          1145000000,
          1190000000,
          1235000000,
          1280000000,
          1325000000,
          1370000000,
          1415000000,
          1460000000,
          1505000000,
          1550000000,
          1595000000,
          1640000000,
          1685000000,
          1730000000,
          1775000000,
          1820000000,
          1865000000,
          1910000000,
          1955000000,
          2000000000
         ],
         "xaxis": "x",
         "y": [
          0.43928107156994384,
          0.329035732925365,
          0.26417124637418693,
          0.21995208535156577,
          0.18797841086098335,
          0.17013718186514903,
          0.14523399235417972,
          0.1281169543334831,
          0.11796293005695996,
          0.10851866860126855,
          0.10078020724639432,
          0.09253446911219296,
          0.08798570551552642,
          0.08508103522642099,
          0.0807247405411672,
          0.07763414575866065,
          0.07474110201651678,
          0.07149841717278423,
          0.0694441864787546,
          0.06840896856885509
         ],
         "yaxis": "y"
        },
        {
         "line": {
          "color": "#7dafff"
         },
         "type": "scatter",
         "uid": "7833a4b3-aba2-4656-bc2a-79b090444c60",
         "x": [
          1100000000,
          1145000000,
          1190000000,
          1235000000,
          1280000000,
          1325000000,
          1370000000,
          1415000000,
          1460000000,
          1505000000,
          1550000000,
          1595000000,
          1640000000,
          1685000000,
          1730000000,
          1775000000,
          1820000000,
          1865000000,
          1910000000,
          1955000000,
          2000000000
         ],
         "xaxis": "x2",
         "y": [
          11437.188129640508,
          11528.70157802597,
          11640.449468780578,
          11710.818603845562,
          11646.85233939071,
          11571.106855857399,
          11529.13001804774,
          11506.724477504918,
          11494.473536577676,
          11432.76091887228,
          11378.137918263285,
          11302.85507985749,
          11244.631327203226,
          11103.724838190863,
          11017.941987416278,
          10957.211813702343,
          10894.703106138693,
          10810.029601198736,
          10701.18594949519,
          10638.39143970833
         ],
         "yaxis": "y2"
        },
        {
         "line": {
          "color": "#7dafff"
         },
         "type": "scatter",
         "uid": "17bde82d-14c9-40b9-9ec5-6ef689e6a7ed",
         "x": [
          1100000000,
          1145000000,
          1190000000,
          1235000000,
          1280000000,
          1325000000,
          1370000000,
          1415000000,
          1460000000,
          1505000000,
          1550000000,
          1595000000,
          1640000000,
          1685000000,
          1730000000,
          1775000000,
          1820000000,
          1865000000,
          1910000000,
          1955000000,
          2000000000
         ],
         "xaxis": "x",
         "y": [
          0.49674899900570646,
          0.3812215660301213,
          0.30281560573624633,
          0.2509255408599759,
          0.22073539638977277,
          0.1967139439628392,
          0.17571454734033246,
          0.1576891729242855,
          0.14088198326667598,
          0.13004325009218767,
          0.12095401797605776,
          0.11383288002950714,
          0.10689215533606816,
          0.10296885131622673,
          0.09780859456526692,
          0.09289643546287558,
          0.0885417108298983,
          0.08517563107205478,
          0.08229688721693089,
          0.0789677366754081
         ],
         "yaxis": "y"
        },
        {
         "line": {
          "color": "#7dafff"
         },
         "type": "scatter",
         "uid": "fbb0cf27-f42d-42a0-8bca-6211dd56739b",
         "x": [
          1100000000,
          1145000000,
          1190000000,
          1235000000,
          1280000000,
          1325000000,
          1370000000,
          1415000000,
          1460000000,
          1505000000,
          1550000000,
          1595000000,
          1640000000,
          1685000000,
          1730000000,
          1775000000,
          1820000000,
          1865000000,
          1910000000,
          1955000000,
          2000000000
         ],
         "xaxis": "x2",
         "y": [
          10637.774893389858,
          10870.528741129217,
          10979.20752094891,
          11029.889850247842,
          11017.830301775746,
          11002.647926802323,
          11063.176163639555,
          11043.32034334059,
          10953.59058670485,
          10884.149702433244,
          10832.042108059699,
          10746.120711685184,
          10638.764813827649,
          10558.092276798938,
          10449.107297019234,
          10350.60274211199,
          10298.783130265034,
          10276.173311434015,
          10189.139086635254,
          10056.484838218224
         ],
         "yaxis": "y2"
        },
        {
         "line": {
          "color": "#7dafff"
         },
         "type": "scatter",
         "uid": "ed3d71f1-f450-444f-859b-a99b9f5ca53c",
         "x": [
          1100000000,
          1145000000,
          1190000000,
          1235000000,
          1280000000,
          1325000000,
          1370000000,
          1415000000,
          1460000000,
          1505000000,
          1550000000,
          1595000000,
          1640000000,
          1685000000,
          1730000000,
          1775000000,
          1820000000,
          1865000000,
          1910000000,
          1955000000,
          2000000000
         ],
         "xaxis": "x",
         "y": [
          0.45266800781269007,
          0.3305847574133108,
          0.2647072464738774,
          0.21904485046384017,
          0.18881884728116693,
          0.16619738171025447,
          0.14364374771990318,
          0.12786787360034046,
          0.11791465883989281,
          0.10890874790265452,
          0.10128370560742413,
          0.09532106076096136,
          0.09066498376561384,
          0.08579078573787761,
          0.0823404365028929,
          0.07946786802086914,
          0.0753411314600249,
          0.07128521138675016,
          0.06888107318726502,
          0.06764365885322746
         ],
         "yaxis": "y"
        },
        {
         "line": {
          "color": "#7dafff"
         },
         "type": "scatter",
         "uid": "a7b304b0-fd14-44ff-8644-649b110bf200",
         "x": [
          1100000000,
          1145000000,
          1190000000,
          1235000000,
          1280000000,
          1325000000,
          1370000000,
          1415000000,
          1460000000,
          1505000000,
          1550000000,
          1595000000,
          1640000000,
          1685000000,
          1730000000,
          1775000000,
          1820000000,
          1865000000,
          1910000000,
          1955000000,
          2000000000
         ],
         "xaxis": "x2",
         "y": [
          11420.97998713899,
          11498.337813102757,
          11639.50519134857,
          11664.640617469388,
          11701.728912830435,
          11711.923994447283,
          11712.74659683396,
          11591.269112378646,
          11449.641897841511,
          11435.511892435268,
          11421.346117783405,
          11334.210896883858,
          11278.258459816645,
          11196.477817740708,
          11110.138994066976,
          11076.434179727443,
          10994.477287359596,
          10901.218261650312,
          10835.518224745436,
          10711.037322641676
         ],
         "yaxis": "y2"
        },
        {
         "line": {
          "color": "#7dafff"
         },
         "type": "scatter",
         "uid": "394dfa74-a489-49dd-8628-8cd3c1c029d3",
         "x": [
          1100000000,
          1145000000,
          1190000000,
          1235000000,
          1280000000,
          1325000000,
          1370000000,
          1415000000,
          1460000000,
          1505000000,
          1550000000,
          1595000000,
          1640000000,
          1685000000,
          1730000000,
          1775000000,
          1820000000,
          1865000000,
          1910000000,
          1955000000,
          2000000000
         ],
         "xaxis": "x",
         "y": [
          0.4994884091873135,
          0.38386909518176154,
          0.30218058159917954,
          0.25145402812301343,
          0.21646073068279578,
          0.18685687485230795,
          0.16455009993655595,
          0.15175502590148626,
          0.14351458248462712,
          0.1299336743288275,
          0.11970029848709211,
          0.11242807247877891,
          0.10500153704918537,
          0.1001352982173428,
          0.0953538109300313,
          0.08940156113165973,
          0.08572755303725668,
          0.08269382665953516,
          0.078848332684631,
          0.0770118351566495
         ],
         "yaxis": "y"
        },
        {
         "line": {
          "color": "#7dafff"
         },
         "type": "scatter",
         "uid": "5201d5a0-c4b9-4e9b-9204-238a25b75648",
         "x": [
          1100000000,
          1145000000,
          1190000000,
          1235000000,
          1280000000,
          1325000000,
          1370000000,
          1415000000,
          1460000000,
          1505000000,
          1550000000,
          1595000000,
          1640000000,
          1685000000,
          1730000000,
          1775000000,
          1820000000,
          1865000000,
          1910000000,
          1955000000,
          2000000000
         ],
         "xaxis": "x2",
         "y": [
          10691.849844972343,
          10881.252759643585,
          11024.600489102357,
          11008.926530015482,
          11076.894883262026,
          11042.045711965859,
          11063.16803657945,
          11070.578559634363,
          11044.691764194673,
          10970.651612456733,
          10980.886609307672,
          10896.003429662833,
          10767.599990699178,
          10635.613994162502,
          10472.846994215472,
          10456.66200657222,
          10434.295581872157,
          10327.02759205635,
          10213.726635393015,
          10093.310125127553
         ],
         "yaxis": "y2"
        },
        {
         "line": {
          "color": "#7dafff"
         },
         "type": "scatter",
         "uid": "d54e19ee-9aa8-4f47-a953-eebce84669a4",
         "x": [
          1100000000,
          1145000000,
          1190000000,
          1235000000,
          1280000000,
          1325000000,
          1370000000,
          1415000000,
          1460000000,
          1505000000,
          1550000000,
          1595000000,
          1640000000,
          1685000000,
          1730000000,
          1775000000,
          1820000000,
          1865000000,
          1910000000,
          1955000000,
          2000000000
         ],
         "xaxis": "x",
         "y": [
          0.4474818476893648,
          0.3301810035914491,
          0.261307959093139,
          0.2231972399767459,
          0.18648857521767367,
          0.16409019832243454,
          0.14317470745010277,
          0.12778238416580961,
          0.11521986036883332,
          0.10674911085099578,
          0.09736938639966053,
          0.09123384855499893,
          0.0873359525558151,
          0.08426006054625765,
          0.08227668825547656,
          0.0770967898467087,
          0.07276875021360173,
          0.07044586701292369,
          0.06864631513717323,
          0.06706138176935443
         ],
         "yaxis": "y"
        },
        {
         "line": {
          "color": "#7dafff"
         },
         "type": "scatter",
         "uid": "6d27b951-e621-451d-a7fe-d722590490cc",
         "x": [
          1100000000,
          1145000000,
          1190000000,
          1235000000,
          1280000000,
          1325000000,
          1370000000,
          1415000000,
          1460000000,
          1505000000,
          1550000000,
          1595000000,
          1640000000,
          1685000000,
          1730000000,
          1775000000,
          1820000000,
          1865000000,
          1910000000,
          1955000000,
          2000000000
         ],
         "xaxis": "x2",
         "y": [
          11404.68644335792,
          11550.42215314258,
          11639.13887647962,
          11674.326225183811,
          11643.0032811583,
          11664.227712366754,
          11609.622899066366,
          11571.271663444124,
          11488.505154936463,
          11474.166472237965,
          11444.22066881335,
          11321.687644686788,
          11274.086211426793,
          11214.935163024827,
          11095.7159296552,
          11052.698086925735,
          10967.067499016348,
          10861.62894388963,
          10781.611365120529,
          10666.561715629612
         ],
         "yaxis": "y2"
        },
        {
         "line": {
          "color": "#7dafff"
         },
         "type": "scatter",
         "uid": "637ba7f0-1ee0-4d20-82b5-1198f579ab75",
         "x": [
          1100000000,
          1145000000,
          1190000000,
          1235000000,
          1280000000,
          1325000000,
          1370000000,
          1415000000,
          1460000000,
          1505000000,
          1550000000,
          1595000000,
          1640000000,
          1685000000,
          1730000000,
          1775000000,
          1820000000,
          1865000000,
          1910000000,
          1955000000,
          2000000000
         ],
         "xaxis": "x",
         "y": [
          0.49773894374115984,
          0.3763449044869187,
          0.3031115960467388,
          0.2545449261141349,
          0.2195044429468628,
          0.1890703935152455,
          0.16921419174008326,
          0.15265500226125517,
          0.14164356549906953,
          0.12873970376797422,
          0.1177324512182147,
          0.11197824402292651,
          0.10441814381550847,
          0.09792972279488406,
          0.09471757943639501,
          0.08914056698650676,
          0.08550392336785945,
          0.08272152497759398,
          0.07954222475461967,
          0.07756336057852233
         ],
         "yaxis": "y"
        },
        {
         "line": {
          "color": "#7dafff"
         },
         "type": "scatter",
         "uid": "830b3cf6-d3d8-4fbb-bb4a-c3ffef36f60d",
         "x": [
          1100000000,
          1145000000,
          1190000000,
          1235000000,
          1280000000,
          1325000000,
          1370000000,
          1415000000,
          1460000000,
          1505000000,
          1550000000,
          1595000000,
          1640000000,
          1685000000,
          1730000000,
          1775000000,
          1820000000,
          1865000000,
          1910000000,
          1955000000,
          2000000000
         ],
         "xaxis": "x2",
         "y": [
          10732.832305605065,
          10927.53274501005,
          10999.038295987177,
          11120.942823009333,
          11127.283737338137,
          11084.302806768119,
          11069.784812309364,
          11066.322559389619,
          11003.066376252806,
          10955.364192122895,
          10899.736539240292,
          10741.068632361372,
          10710.327383480133,
          10597.496226545392,
          10549.389773662057,
          10465.941519309627,
          10371.370420579682,
          10256.852571001426,
          10163.046966831698,
          10074.69053320109
         ],
         "yaxis": "y2"
        },
        {
         "line": {
          "color": "#7dafff"
         },
         "type": "scatter",
         "uid": "9a7afc0b-42e6-4d0b-af4f-159daafbff10",
         "x": [
          1100000000,
          1145000000,
          1190000000,
          1235000000,
          1280000000,
          1325000000,
          1370000000,
          1415000000,
          1460000000,
          1505000000,
          1550000000,
          1595000000,
          1640000000,
          1685000000,
          1730000000,
          1775000000,
          1820000000,
          1865000000,
          1910000000,
          1955000000,
          2000000000
         ],
         "xaxis": "x",
         "y": [
          0.44443637159123983,
          0.33019634954939475,
          0.26475209661040133,
          0.214763672920604,
          0.18411001669645166,
          0.16259081949317206,
          0.14385360172497197,
          0.12756474449212687,
          0.11696925559066809,
          0.1071004147026813,
          0.09912187964115499,
          0.09650204436463762,
          0.08985914755672508,
          0.08622238465789234,
          0.08092359794988342,
          0.07737849041147359,
          0.07453157832590487,
          0.07263537854976851,
          0.07025313296079845,
          0.06792936424027776
         ],
         "yaxis": "y"
        },
        {
         "line": {
          "color": "#0062ff"
         },
         "type": "scatter",
         "uid": "75ad47bf-1c25-4c5c-9222-9802ac26c715",
         "x": [
          1100000000,
          1145000000,
          1190000000,
          1235000000,
          1280000000,
          1325000000,
          1370000000,
          1415000000,
          1460000000,
          1505000000,
          1550000000,
          1595000000,
          1640000000,
          1685000000,
          1730000000,
          1775000000,
          1820000000,
          1865000000,
          1910000000,
          1955000000,
          2000000000
         ],
         "xaxis": "x2",
         "y": [
          10732.832305605065,
          10927.53274501005,
          10999.038295987177,
          11120.942823009333,
          11127.283737338137,
          11084.302806768119,
          11069.784812309364,
          11066.322559389619,
          11003.066376252806,
          10955.364192122895,
          10899.736539240292,
          10741.068632361372,
          10710.327383480133,
          10597.496226545392,
          10549.389773662057,
          10465.941519309627,
          10371.370420579682,
          10256.852571001426,
          10163.046966831698,
          10074.69053320109
         ],
         "yaxis": "y2"
        },
        {
         "line": {
          "color": "#0062ff"
         },
         "type": "scatter",
         "uid": "60b36cf0-1250-4aa7-bfa0-ca94ed9d1d98",
         "x": [
          1100000000,
          1145000000,
          1190000000,
          1235000000,
          1280000000,
          1325000000,
          1370000000,
          1415000000,
          1460000000,
          1505000000,
          1550000000,
          1595000000,
          1640000000,
          1685000000,
          1730000000,
          1775000000,
          1820000000,
          1865000000,
          1910000000,
          1955000000,
          2000000000
         ],
         "xaxis": "x",
         "y": [
          0.44443637159123983,
          0.33019634954939475,
          0.26475209661040133,
          0.214763672920604,
          0.18411001669645166,
          0.16259081949317206,
          0.14385360172497197,
          0.12756474449212687,
          0.11696925559066809,
          0.1071004147026813,
          0.09912187964115499,
          0.09650204436463762,
          0.08985914755672508,
          0.08622238465789234,
          0.08092359794988342,
          0.07737849041147359,
          0.07453157832590487,
          0.07263537854976851,
          0.07025313296079845,
          0.06792936424027776
         ],
         "yaxis": "y"
        }
       ],
       "layout": {
        "showlegend": false,
        "template": {
         "data": {
          "bar": [
           {
            "error_x": {
             "color": "#2a3f5f"
            },
            "error_y": {
             "color": "#2a3f5f"
            },
            "marker": {
             "line": {
              "color": "#E5ECF6",
              "width": 0.5
             }
            },
            "type": "bar"
           }
          ],
          "barpolar": [
           {
            "marker": {
             "line": {
              "color": "#E5ECF6",
              "width": 0.5
             }
            },
            "type": "barpolar"
           }
          ],
          "carpet": [
           {
            "aaxis": {
             "endlinecolor": "#2a3f5f",
             "gridcolor": "white",
             "linecolor": "white",
             "minorgridcolor": "white",
             "startlinecolor": "#2a3f5f"
            },
            "baxis": {
             "endlinecolor": "#2a3f5f",
             "gridcolor": "white",
             "linecolor": "white",
             "minorgridcolor": "white",
             "startlinecolor": "#2a3f5f"
            },
            "type": "carpet"
           }
          ],
          "choropleth": [
           {
            "colorbar": {
             "outlinewidth": 0,
             "ticks": ""
            },
            "type": "choropleth"
           }
          ],
          "contour": [
           {
            "colorbar": {
             "outlinewidth": 0,
             "ticks": ""
            },
            "colorscale": [
             [
              0,
              "#0d0887"
             ],
             [
              0.1111111111111111,
              "#46039f"
             ],
             [
              0.2222222222222222,
              "#7201a8"
             ],
             [
              0.3333333333333333,
              "#9c179e"
             ],
             [
              0.4444444444444444,
              "#bd3786"
             ],
             [
              0.5555555555555556,
              "#d8576b"
             ],
             [
              0.6666666666666666,
              "#ed7953"
             ],
             [
              0.7777777777777778,
              "#fb9f3a"
             ],
             [
              0.8888888888888888,
              "#fdca26"
             ],
             [
              1,
              "#f0f921"
             ]
            ],
            "type": "contour"
           }
          ],
          "contourcarpet": [
           {
            "colorbar": {
             "outlinewidth": 0,
             "ticks": ""
            },
            "type": "contourcarpet"
           }
          ],
          "heatmap": [
           {
            "colorbar": {
             "outlinewidth": 0,
             "ticks": ""
            },
            "colorscale": [
             [
              0,
              "#0d0887"
             ],
             [
              0.1111111111111111,
              "#46039f"
             ],
             [
              0.2222222222222222,
              "#7201a8"
             ],
             [
              0.3333333333333333,
              "#9c179e"
             ],
             [
              0.4444444444444444,
              "#bd3786"
             ],
             [
              0.5555555555555556,
              "#d8576b"
             ],
             [
              0.6666666666666666,
              "#ed7953"
             ],
             [
              0.7777777777777778,
              "#fb9f3a"
             ],
             [
              0.8888888888888888,
              "#fdca26"
             ],
             [
              1,
              "#f0f921"
             ]
            ],
            "type": "heatmap"
           }
          ],
          "heatmapgl": [
           {
            "colorbar": {
             "outlinewidth": 0,
             "ticks": ""
            },
            "colorscale": [
             [
              0,
              "#0d0887"
             ],
             [
              0.1111111111111111,
              "#46039f"
             ],
             [
              0.2222222222222222,
              "#7201a8"
             ],
             [
              0.3333333333333333,
              "#9c179e"
             ],
             [
              0.4444444444444444,
              "#bd3786"
             ],
             [
              0.5555555555555556,
              "#d8576b"
             ],
             [
              0.6666666666666666,
              "#ed7953"
             ],
             [
              0.7777777777777778,
              "#fb9f3a"
             ],
             [
              0.8888888888888888,
              "#fdca26"
             ],
             [
              1,
              "#f0f921"
             ]
            ],
            "type": "heatmapgl"
           }
          ],
          "histogram": [
           {
            "marker": {
             "colorbar": {
              "outlinewidth": 0,
              "ticks": ""
             }
            },
            "type": "histogram"
           }
          ],
          "histogram2d": [
           {
            "colorbar": {
             "outlinewidth": 0,
             "ticks": ""
            },
            "colorscale": [
             [
              0,
              "#0d0887"
             ],
             [
              0.1111111111111111,
              "#46039f"
             ],
             [
              0.2222222222222222,
              "#7201a8"
             ],
             [
              0.3333333333333333,
              "#9c179e"
             ],
             [
              0.4444444444444444,
              "#bd3786"
             ],
             [
              0.5555555555555556,
              "#d8576b"
             ],
             [
              0.6666666666666666,
              "#ed7953"
             ],
             [
              0.7777777777777778,
              "#fb9f3a"
             ],
             [
              0.8888888888888888,
              "#fdca26"
             ],
             [
              1,
              "#f0f921"
             ]
            ],
            "type": "histogram2d"
           }
          ],
          "histogram2dcontour": [
           {
            "colorbar": {
             "outlinewidth": 0,
             "ticks": ""
            },
            "colorscale": [
             [
              0,
              "#0d0887"
             ],
             [
              0.1111111111111111,
              "#46039f"
             ],
             [
              0.2222222222222222,
              "#7201a8"
             ],
             [
              0.3333333333333333,
              "#9c179e"
             ],
             [
              0.4444444444444444,
              "#bd3786"
             ],
             [
              0.5555555555555556,
              "#d8576b"
             ],
             [
              0.6666666666666666,
              "#ed7953"
             ],
             [
              0.7777777777777778,
              "#fb9f3a"
             ],
             [
              0.8888888888888888,
              "#fdca26"
             ],
             [
              1,
              "#f0f921"
             ]
            ],
            "type": "histogram2dcontour"
           }
          ],
          "mesh3d": [
           {
            "colorbar": {
             "outlinewidth": 0,
             "ticks": ""
            },
            "type": "mesh3d"
           }
          ],
          "parcoords": [
           {
            "line": {
             "colorbar": {
              "outlinewidth": 0,
              "ticks": ""
             }
            },
            "type": "parcoords"
           }
          ],
          "pie": [
           {
            "automargin": true,
            "type": "pie"
           }
          ],
          "scatter": [
           {
            "marker": {
             "colorbar": {
              "outlinewidth": 0,
              "ticks": ""
             }
            },
            "type": "scatter"
           }
          ],
          "scatter3d": [
           {
            "line": {
             "colorbar": {
              "outlinewidth": 0,
              "ticks": ""
             }
            },
            "marker": {
             "colorbar": {
              "outlinewidth": 0,
              "ticks": ""
             }
            },
            "type": "scatter3d"
           }
          ],
          "scattercarpet": [
           {
            "marker": {
             "colorbar": {
              "outlinewidth": 0,
              "ticks": ""
             }
            },
            "type": "scattercarpet"
           }
          ],
          "scattergeo": [
           {
            "marker": {
             "colorbar": {
              "outlinewidth": 0,
              "ticks": ""
             }
            },
            "type": "scattergeo"
           }
          ],
          "scattergl": [
           {
            "marker": {
             "colorbar": {
              "outlinewidth": 0,
              "ticks": ""
             }
            },
            "type": "scattergl"
           }
          ],
          "scattermapbox": [
           {
            "marker": {
             "colorbar": {
              "outlinewidth": 0,
              "ticks": ""
             }
            },
            "type": "scattermapbox"
           }
          ],
          "scatterpolar": [
           {
            "marker": {
             "colorbar": {
              "outlinewidth": 0,
              "ticks": ""
             }
            },
            "type": "scatterpolar"
           }
          ],
          "scatterpolargl": [
           {
            "marker": {
             "colorbar": {
              "outlinewidth": 0,
              "ticks": ""
             }
            },
            "type": "scatterpolargl"
           }
          ],
          "scatterternary": [
           {
            "marker": {
             "colorbar": {
              "outlinewidth": 0,
              "ticks": ""
             }
            },
            "type": "scatterternary"
           }
          ],
          "surface": [
           {
            "colorbar": {
             "outlinewidth": 0,
             "ticks": ""
            },
            "colorscale": [
             [
              0,
              "#0d0887"
             ],
             [
              0.1111111111111111,
              "#46039f"
             ],
             [
              0.2222222222222222,
              "#7201a8"
             ],
             [
              0.3333333333333333,
              "#9c179e"
             ],
             [
              0.4444444444444444,
              "#bd3786"
             ],
             [
              0.5555555555555556,
              "#d8576b"
             ],
             [
              0.6666666666666666,
              "#ed7953"
             ],
             [
              0.7777777777777778,
              "#fb9f3a"
             ],
             [
              0.8888888888888888,
              "#fdca26"
             ],
             [
              1,
              "#f0f921"
             ]
            ],
            "type": "surface"
           }
          ],
          "table": [
           {
            "cells": {
             "fill": {
              "color": "#EBF0F8"
             },
             "line": {
              "color": "white"
             }
            },
            "header": {
             "fill": {
              "color": "#C8D4E3"
             },
             "line": {
              "color": "white"
             }
            },
            "type": "table"
           }
          ]
         },
         "layout": {
          "annotationdefaults": {
           "arrowcolor": "#2a3f5f",
           "arrowhead": 0,
           "arrowwidth": 1
          },
          "autotypenumbers": "strict",
          "coloraxis": {
           "colorbar": {
            "outlinewidth": 0,
            "ticks": ""
           }
          },
          "colorscale": {
           "diverging": [
            [
             0,
             "#8e0152"
            ],
            [
             0.1,
             "#c51b7d"
            ],
            [
             0.2,
             "#de77ae"
            ],
            [
             0.3,
             "#f1b6da"
            ],
            [
             0.4,
             "#fde0ef"
            ],
            [
             0.5,
             "#f7f7f7"
            ],
            [
             0.6,
             "#e6f5d0"
            ],
            [
             0.7,
             "#b8e186"
            ],
            [
             0.8,
             "#7fbc41"
            ],
            [
             0.9,
             "#4d9221"
            ],
            [
             1,
             "#276419"
            ]
           ],
           "sequential": [
            [
             0,
             "#0d0887"
            ],
            [
             0.1111111111111111,
             "#46039f"
            ],
            [
             0.2222222222222222,
             "#7201a8"
            ],
            [
             0.3333333333333333,
             "#9c179e"
            ],
            [
             0.4444444444444444,
             "#bd3786"
            ],
            [
             0.5555555555555556,
             "#d8576b"
            ],
            [
             0.6666666666666666,
             "#ed7953"
            ],
            [
             0.7777777777777778,
             "#fb9f3a"
            ],
            [
             0.8888888888888888,
             "#fdca26"
            ],
            [
             1,
             "#f0f921"
            ]
           ],
           "sequentialminus": [
            [
             0,
             "#0d0887"
            ],
            [
             0.1111111111111111,
             "#46039f"
            ],
            [
             0.2222222222222222,
             "#7201a8"
            ],
            [
             0.3333333333333333,
             "#9c179e"
            ],
            [
             0.4444444444444444,
             "#bd3786"
            ],
            [
             0.5555555555555556,
             "#d8576b"
            ],
            [
             0.6666666666666666,
             "#ed7953"
            ],
            [
             0.7777777777777778,
             "#fb9f3a"
            ],
            [
             0.8888888888888888,
             "#fdca26"
            ],
            [
             1,
             "#f0f921"
            ]
           ]
          },
          "colorway": [
           "#636efa",
           "#EF553B",
           "#00cc96",
           "#ab63fa",
           "#FFA15A",
           "#19d3f3",
           "#FF6692",
           "#B6E880",
           "#FF97FF",
           "#FECB52"
          ],
          "font": {
           "color": "#2a3f5f"
          },
          "geo": {
           "bgcolor": "white",
           "lakecolor": "white",
           "landcolor": "#E5ECF6",
           "showlakes": true,
           "showland": true,
           "subunitcolor": "white"
          },
          "hoverlabel": {
           "align": "left"
          },
          "hovermode": "closest",
          "mapbox": {
           "style": "light"
          },
          "paper_bgcolor": "white",
          "plot_bgcolor": "#E5ECF6",
          "polar": {
           "angularaxis": {
            "gridcolor": "white",
            "linecolor": "white",
            "ticks": ""
           },
           "bgcolor": "#E5ECF6",
           "radialaxis": {
            "gridcolor": "white",
            "linecolor": "white",
            "ticks": ""
           }
          },
          "scene": {
           "xaxis": {
            "backgroundcolor": "#E5ECF6",
            "gridcolor": "white",
            "gridwidth": 2,
            "linecolor": "white",
            "showbackground": true,
            "ticks": "",
            "zerolinecolor": "white"
           },
           "yaxis": {
            "backgroundcolor": "#E5ECF6",
            "gridcolor": "white",
            "gridwidth": 2,
            "linecolor": "white",
            "showbackground": true,
            "ticks": "",
            "zerolinecolor": "white"
           },
           "zaxis": {
            "backgroundcolor": "#E5ECF6",
            "gridcolor": "white",
            "gridwidth": 2,
            "linecolor": "white",
            "showbackground": true,
            "ticks": "",
            "zerolinecolor": "white"
           }
          },
          "shapedefaults": {
           "line": {
            "color": "#2a3f5f"
           }
          },
          "ternary": {
           "aaxis": {
            "gridcolor": "white",
            "linecolor": "white",
            "ticks": ""
           },
           "baxis": {
            "gridcolor": "white",
            "linecolor": "white",
            "ticks": ""
           },
           "bgcolor": "#E5ECF6",
           "caxis": {
            "gridcolor": "white",
            "linecolor": "white",
            "ticks": ""
           }
          },
          "title": {
           "x": 0.05
          },
          "xaxis": {
           "automargin": true,
           "gridcolor": "white",
           "linecolor": "white",
           "ticks": "",
           "title": {
            "standoff": 15
           },
           "zerolinecolor": "white",
           "zerolinewidth": 2
          },
          "yaxis": {
           "automargin": true,
           "gridcolor": "white",
           "linecolor": "white",
           "ticks": "",
           "title": {
            "standoff": 15
           },
           "zerolinecolor": "white",
           "zerolinewidth": 2
          }
         }
        },
        "xaxis": {
         "anchor": "y",
         "domain": [
          0,
          0.45
         ],
         "exponentformat": "e",
         "showexponent": "all",
         "title": {
          "text": "$Shell~~Velocity$"
         }
        },
        "xaxis2": {
         "anchor": "y2",
         "domain": [
          0.55,
          1
         ],
         "exponentformat": "e",
         "showexponent": "all",
         "title": {
          "text": "$Shell~~Velocity$"
         }
        },
        "yaxis": {
         "anchor": "x",
         "domain": [
          0,
          1
         ],
         "title": {
          "text": "$W$"
         }
        },
        "yaxis2": {
         "anchor": "x2",
         "domain": [
          0,
          1
         ],
         "range": [
          9000,
          14000
         ],
         "title": {
          "text": "$T_{rad}\\ [K]$"
         }
        }
       }
      },
      "text/html": [
       "<div>                            <div id=\"e8f1e331-0a34-428d-9c67-d3dad3cce133\" class=\"plotly-graph-div\" style=\"height:525px; width:100%;\"></div>            <script type=\"text/javascript\">                require([\"plotly\"], function(Plotly) {                    window.PLOTLYENV=window.PLOTLYENV || {};                                    if (document.getElementById(\"e8f1e331-0a34-428d-9c67-d3dad3cce133\")) {                    Plotly.newPlot(                        \"e8f1e331-0a34-428d-9c67-d3dad3cce133\",                        [{\"line\": {\"color\": \"#7dafff\"}, \"type\": \"scatter\", \"uid\": \"850d85a0-f5a5-43cf-aa9c-965fab6eb1d7\", \"xaxis\": \"x\", \"yaxis\": \"y\"}, {\"line\": {\"color\": \"#7dafff\"}, \"type\": \"scatter\", \"uid\": \"9b81aee1-2dbc-4e87-b117-19d6f1e75104\", \"xaxis\": \"x2\", \"yaxis\": \"y2\"}, {\"line\": {\"color\": \"#7dafff\"}, \"type\": \"scatter\", \"uid\": \"e7cd9c67-9a8d-4e76-b014-e0a1605663b8\", \"x\": [1100000000.0, 1145000000.0, 1190000000.0, 1235000000.0, 1280000000.0, 1325000000.0, 1370000000.0, 1415000000.0, 1460000000.0, 1505000000.0, 1550000000.0, 1595000000.0, 1640000000.0, 1685000000.0, 1730000000.0, 1775000000.0, 1820000000.0, 1865000000.0, 1910000000.0, 1955000000.0, 2000000000.0], \"xaxis\": \"x2\", \"y\": [10134.733716625742, 10158.894068408066, 10199.163062164185, 10230.988705011774, 10268.95723542248, 10222.890845143, 10224.33250792895, 10215.304103107934, 10218.675931875407, 10185.463728853063, 10144.463169171082, 10076.876809842743, 10030.209347853815, 10029.018621140542, 9986.944524442715, 9873.477845862937, 9843.33461403224, 9771.609702679261, 9679.524619982089, 9610.209774198473], \"yaxis\": \"y2\"}, {\"line\": {\"color\": \"#7dafff\"}, \"type\": \"scatter\", \"uid\": \"9dd707b7-6036-406a-bd8a-fa9a41b45e77\", \"x\": [1100000000.0, 1145000000.0, 1190000000.0, 1235000000.0, 1280000000.0, 1325000000.0, 1370000000.0, 1415000000.0, 1460000000.0, 1505000000.0, 1550000000.0, 1595000000.0, 1640000000.0, 1685000000.0, 1730000000.0, 1775000000.0, 1820000000.0, 1865000000.0, 1910000000.0, 1955000000.0, 2000000000.0], \"xaxis\": \"x\", \"y\": [0.5082040569581553, 0.39622127635948895, 0.3214185723254646, 0.26560113513158984, 0.22389059993927218, 0.19702589896830264, 0.17494912025299855, 0.15637315414702457, 0.13940960015313758, 0.1279542720503049, 0.11717940936679906, 0.10932218040060013, 0.10303354273987321, 0.09520635540966971, 0.08986506172262776, 0.08694065164106614, 0.08202977107040894, 0.07895392034793645, 0.07641285709961215, 0.0734944435056783], \"yaxis\": \"y\"}, {\"line\": {\"color\": \"#7dafff\"}, \"type\": \"scatter\", \"uid\": \"6cb51a47-dd5b-45d6-929e-7d5963c11e1c\", \"x\": [1100000000.0, 1145000000.0, 1190000000.0, 1235000000.0, 1280000000.0, 1325000000.0, 1370000000.0, 1415000000.0, 1460000000.0, 1505000000.0, 1550000000.0, 1595000000.0, 1640000000.0, 1685000000.0, 1730000000.0, 1775000000.0, 1820000000.0, 1865000000.0, 1910000000.0, 1955000000.0, 2000000000.0], \"xaxis\": \"x2\", \"y\": [11468.021903420022, 11435.99940796668, 11449.930444230993, 11492.65958293691, 11527.299217171005, 11499.835339656469, 11477.276330649498, 11460.659744967303, 11406.161049943828, 11340.543942919203, 11306.370330122181, 11212.548324749037, 11165.150317946618, 11109.460288675335, 11032.751812374607, 10953.828130057924, 10887.896023944959, 10829.273836669772, 10807.478630946256, 10678.472039472605], \"yaxis\": \"y2\"}, {\"line\": {\"color\": \"#7dafff\"}, \"type\": \"scatter\", \"uid\": \"4dc611b1-5976-4022-8c32-4307ce5d979c\", \"x\": [1100000000.0, 1145000000.0, 1190000000.0, 1235000000.0, 1280000000.0, 1325000000.0, 1370000000.0, 1415000000.0, 1460000000.0, 1505000000.0, 1550000000.0, 1595000000.0, 1640000000.0, 1685000000.0, 1730000000.0, 1775000000.0, 1820000000.0, 1865000000.0, 1910000000.0, 1955000000.0, 2000000000.0], \"xaxis\": \"x\", \"y\": [0.5486713034814868, 0.4359667978092493, 0.35745766558351083, 0.29759617877916883, 0.2514052642548389, 0.2213742932983639, 0.1967142119281105, 0.1750139221468986, 0.15960184231505048, 0.14776884435084464, 0.1362910943753446, 0.12829546326034932, 0.11949333047989288, 0.11271924127039853, 0.1079628659287024, 0.10261651657287688, 0.09761052473526165, 0.09257019031227713, 0.08757308797595437, 0.0856037284920429], \"yaxis\": \"y\"}, {\"line\": {\"color\": \"#7dafff\"}, \"type\": \"scatter\", \"uid\": \"e4dd358a-be7f-461f-9a1e-22bbc97f0a8f\", \"x\": [1100000000.0, 1145000000.0, 1190000000.0, 1235000000.0, 1280000000.0, 1325000000.0, 1370000000.0, 1415000000.0, 1460000000.0, 1505000000.0, 1550000000.0, 1595000000.0, 1640000000.0, 1685000000.0, 1730000000.0, 1775000000.0, 1820000000.0, 1865000000.0, 1910000000.0, 1955000000.0, 2000000000.0], \"xaxis\": \"x2\", \"y\": [10497.00839713399, 10647.412149636568, 10710.55559834981, 10778.428547850972, 10799.157541112725, 10799.075913257298, 10809.366021863925, 10753.851890469934, 10723.185397841275, 10725.950530076647, 10623.433273860508, 10568.227843581686, 10448.426796026404, 10344.129570842595, 10277.24707072565, 10226.187071335815, 10191.522923045855, 10084.749431116137, 9966.774860086334, 9840.487791467043], \"yaxis\": \"y2\"}, {\"line\": {\"color\": \"#7dafff\"}, \"type\": \"scatter\", \"uid\": \"c6981ced-2a68-4a31-80d1-50e5c975f879\", \"x\": [1100000000.0, 1145000000.0, 1190000000.0, 1235000000.0, 1280000000.0, 1325000000.0, 1370000000.0, 1415000000.0, 1460000000.0, 1505000000.0, 1550000000.0, 1595000000.0, 1640000000.0, 1685000000.0, 1730000000.0, 1775000000.0, 1820000000.0, 1865000000.0, 1910000000.0, 1955000000.0, 2000000000.0], \"xaxis\": \"x\", \"y\": [0.4422994072334237, 0.33161550547713586, 0.2681925493433555, 0.22122958128496983, 0.18813327121608678, 0.16428839927198413, 0.14434134015130032, 0.1316469869873384, 0.12013575438192586, 0.10816870266418496, 0.1018199636876745, 0.09492623735431249, 0.09101140062051431, 0.08639163271896742, 0.08220814746498001, 0.0776289023561778, 0.07327500495757655, 0.07106642067401939, 0.06969266984280108, 0.06837630714305269], \"yaxis\": \"y\"}, {\"line\": {\"color\": \"#7dafff\"}, \"type\": \"scatter\", \"uid\": \"7b755fb8-4b40-44fc-ad68-84f2cfd30a44\", \"x\": [1100000000.0, 1145000000.0, 1190000000.0, 1235000000.0, 1280000000.0, 1325000000.0, 1370000000.0, 1415000000.0, 1460000000.0, 1505000000.0, 1550000000.0, 1595000000.0, 1640000000.0, 1685000000.0, 1730000000.0, 1775000000.0, 1820000000.0, 1865000000.0, 1910000000.0, 1955000000.0, 2000000000.0], \"xaxis\": \"x2\", \"y\": [11615.344312715382, 11665.123230726775, 11722.631980824826, 11696.75903438953, 11740.274989218247, 11729.411389495834, 11762.937546441419, 11652.442187063023, 11589.11016884436, 11561.496043188794, 11517.190316985118, 11433.020206851417, 11326.422493645188, 11237.973261737088, 11182.841624719185, 11103.373456063158, 10988.381394715298, 10950.08132967925, 10862.947659789314, 10751.855231570009], \"yaxis\": \"y2\"}, {\"line\": {\"color\": \"#7dafff\"}, \"type\": \"scatter\", \"uid\": \"e438e409-df46-4433-8ef3-581c31b5865b\", \"x\": [1100000000.0, 1145000000.0, 1190000000.0, 1235000000.0, 1280000000.0, 1325000000.0, 1370000000.0, 1415000000.0, 1460000000.0, 1505000000.0, 1550000000.0, 1595000000.0, 1640000000.0, 1685000000.0, 1730000000.0, 1775000000.0, 1820000000.0, 1865000000.0, 1910000000.0, 1955000000.0, 2000000000.0], \"xaxis\": \"x\", \"y\": [0.4977143593187986, 0.3915904655092017, 0.31518118479289936, 0.2685435360415943, 0.22820910008384704, 0.1992052064914692, 0.173279639649547, 0.15947664883652737, 0.14579099407466695, 0.13349868406477555, 0.12384871542019993, 0.11633277137351779, 0.11004943343959869, 0.10494577908156116, 0.09880472549683277, 0.09393029340453518, 0.09096244445118781, 0.0863042339333106, 0.08321862769525477, 0.08100093623949857], \"yaxis\": \"y\"}, {\"line\": {\"color\": \"#7dafff\"}, \"type\": \"scatter\", \"uid\": \"8d09edcc-7b1b-4c6a-8065-93f5d0f93e2f\", \"x\": [1100000000.0, 1145000000.0, 1190000000.0, 1235000000.0, 1280000000.0, 1325000000.0, 1370000000.0, 1415000000.0, 1460000000.0, 1505000000.0, 1550000000.0, 1595000000.0, 1640000000.0, 1685000000.0, 1730000000.0, 1775000000.0, 1820000000.0, 1865000000.0, 1910000000.0, 1955000000.0, 2000000000.0], \"xaxis\": \"x2\", \"y\": [10549.514128484347, 10759.565074180144, 10894.663638012831, 10932.865203687252, 10930.709069978388, 10919.073481210133, 10877.075252726967, 10810.824269258315, 10785.60310848714, 10727.313109663908, 10697.303299672538, 10711.257210371088, 10551.7344461508, 10490.89252455796, 10416.933630770684, 10379.863072642802, 10279.630106699524, 10220.453729533761, 10077.47548461628, 9927.285882427786], \"yaxis\": \"y2\"}, {\"line\": {\"color\": \"#7dafff\"}, \"type\": \"scatter\", \"uid\": \"fd5bee21-51b8-40a8-9e61-bad4c74956f2\", \"x\": [1100000000.0, 1145000000.0, 1190000000.0, 1235000000.0, 1280000000.0, 1325000000.0, 1370000000.0, 1415000000.0, 1460000000.0, 1505000000.0, 1550000000.0, 1595000000.0, 1640000000.0, 1685000000.0, 1730000000.0, 1775000000.0, 1820000000.0, 1865000000.0, 1910000000.0, 1955000000.0, 2000000000.0], \"xaxis\": \"x\", \"y\": [0.44344066635938667, 0.32956578936852193, 0.2601089045006474, 0.21598810562474166, 0.18540704208348582, 0.16219891903074646, 0.14560372598880492, 0.13326787384388725, 0.11999931339731705, 0.11025218829721792, 0.101289221833509, 0.09247037462403458, 0.08933312170132358, 0.08413052869637079, 0.07995660682274042, 0.0753722119776381, 0.07252173631498239, 0.06901139800647026, 0.06809975749337618, 0.0673520522990134], \"yaxis\": \"y\"}, {\"line\": {\"color\": \"#7dafff\"}, \"type\": \"scatter\", \"uid\": \"2ae47e0b-8463-45a4-876c-3b0b53f1b86b\", \"x\": [1100000000.0, 1145000000.0, 1190000000.0, 1235000000.0, 1280000000.0, 1325000000.0, 1370000000.0, 1415000000.0, 1460000000.0, 1505000000.0, 1550000000.0, 1595000000.0, 1640000000.0, 1685000000.0, 1730000000.0, 1775000000.0, 1820000000.0, 1865000000.0, 1910000000.0, 1955000000.0, 2000000000.0], \"xaxis\": \"x2\", \"y\": [11567.208184336641, 11613.025123050538, 11683.328827353043, 11693.104708830951, 11724.278325269535, 11653.124120929957, 11612.65021223817, 11609.828928737557, 11614.580326945592, 11546.46238912426, 11425.95501009532, 11375.048998512902, 11315.818140434145, 11225.578780782149, 11120.449864009752, 11082.155937788908, 10987.86851429619, 10920.442550504476, 10834.928551210214, 10735.503852801117], \"yaxis\": \"y2\"}, {\"line\": {\"color\": \"#7dafff\"}, \"type\": \"scatter\", \"uid\": \"86399ffb-7f2a-4caa-a101-ba3190302ef6\", \"x\": [1100000000.0, 1145000000.0, 1190000000.0, 1235000000.0, 1280000000.0, 1325000000.0, 1370000000.0, 1415000000.0, 1460000000.0, 1505000000.0, 1550000000.0, 1595000000.0, 1640000000.0, 1685000000.0, 1730000000.0, 1775000000.0, 1820000000.0, 1865000000.0, 1910000000.0, 1955000000.0, 2000000000.0], \"xaxis\": \"x\", \"y\": [0.5041776548110583, 0.39023406927746374, 0.3175388504350533, 0.26689230648248957, 0.22560807776675923, 0.20304214420449376, 0.18189522000862066, 0.1613582926473933, 0.14556836273965665, 0.13371966659083223, 0.12524940621974712, 0.11754876564474882, 0.11015802998525902, 0.10441164070595729, 0.0993134780463065, 0.09402786959361904, 0.09062541591197741, 0.08647506254390516, 0.08333888504337582, 0.08065101681509353], \"yaxis\": \"y\"}, {\"line\": {\"color\": \"#7dafff\"}, \"type\": \"scatter\", \"uid\": \"17a4f2cd-b62b-4554-a65b-a2549113f888\", \"x\": [1100000000.0, 1145000000.0, 1190000000.0, 1235000000.0, 1280000000.0, 1325000000.0, 1370000000.0, 1415000000.0, 1460000000.0, 1505000000.0, 1550000000.0, 1595000000.0, 1640000000.0, 1685000000.0, 1730000000.0, 1775000000.0, 1820000000.0, 1865000000.0, 1910000000.0, 1955000000.0, 2000000000.0], \"xaxis\": \"x2\", \"y\": [10569.74740334304, 10778.034968335249, 10902.990804432695, 10989.797314359686, 11047.113446219635, 11099.194259237402, 11016.051305801364, 10966.513171670935, 10947.559474163529, 10934.581362699619, 10809.397890448754, 10698.341230707349, 10636.972622756151, 10581.99648087922, 10532.222759856095, 10454.841299228276, 10338.205644915452, 10252.881876072242, 10087.404942797333, 9969.196423563202], \"yaxis\": \"y2\"}, {\"line\": {\"color\": \"#7dafff\"}, \"type\": \"scatter\", \"uid\": \"8970be64-cf2e-4d86-8c29-75b63eac4d47\", \"x\": [1100000000.0, 1145000000.0, 1190000000.0, 1235000000.0, 1280000000.0, 1325000000.0, 1370000000.0, 1415000000.0, 1460000000.0, 1505000000.0, 1550000000.0, 1595000000.0, 1640000000.0, 1685000000.0, 1730000000.0, 1775000000.0, 1820000000.0, 1865000000.0, 1910000000.0, 1955000000.0, 2000000000.0], \"xaxis\": \"x\", \"y\": [0.44229007243638824, 0.3257208718205354, 0.25608363121508143, 0.20917551310840343, 0.17856281204684166, 0.1532534478801238, 0.13898411896927776, 0.1262357056609694, 0.11375261901807456, 0.10290814628079864, 0.09725630417756266, 0.09284460200253165, 0.08710696174234614, 0.0816250729899891, 0.0772903259223547, 0.07380941869099045, 0.07152054892238287, 0.06908445244271276, 0.06851046721770133, 0.06692890210588094], \"yaxis\": \"y\"}, {\"line\": {\"color\": \"#7dafff\"}, \"type\": \"scatter\", \"uid\": \"89fb3d86-3757-475c-81b3-9ee4345f50ef\", \"x\": [1100000000.0, 1145000000.0, 1190000000.0, 1235000000.0, 1280000000.0, 1325000000.0, 1370000000.0, 1415000000.0, 1460000000.0, 1505000000.0, 1550000000.0, 1595000000.0, 1640000000.0, 1685000000.0, 1730000000.0, 1775000000.0, 1820000000.0, 1865000000.0, 1910000000.0, 1955000000.0, 2000000000.0], \"xaxis\": \"x2\", \"y\": [11547.678161996795, 11623.874786176679, 11731.044716907296, 11760.255097980282, 11744.69897708661, 11669.739508176332, 11644.121670479837, 11594.30464359444, 11525.86452222402, 11493.832801176883, 11493.569589639626, 11391.45557557787, 11294.144464329287, 11274.715359901782, 11177.405492194266, 11083.769585922253, 11033.949307567009, 10945.602385267852, 10830.938212361745, 10712.245869588583], \"yaxis\": \"y2\"}, {\"line\": {\"color\": \"#7dafff\"}, \"type\": \"scatter\", \"uid\": \"a44f5e98-e564-4df8-95fc-071b3c2c8b54\", \"x\": [1100000000.0, 1145000000.0, 1190000000.0, 1235000000.0, 1280000000.0, 1325000000.0, 1370000000.0, 1415000000.0, 1460000000.0, 1505000000.0, 1550000000.0, 1595000000.0, 1640000000.0, 1685000000.0, 1730000000.0, 1775000000.0, 1820000000.0, 1865000000.0, 1910000000.0, 1955000000.0, 2000000000.0], \"xaxis\": \"x\", \"y\": [0.5003453146367502, 0.3838214941898442, 0.30461442405220623, 0.25655030086043434, 0.22316143817180614, 0.19833762554295664, 0.176274631647648, 0.16038371517158453, 0.1464719783653989, 0.13388777429772966, 0.12191469474588644, 0.11483702826414047, 0.10939033073711903, 0.10162535549088093, 0.09688786513696956, 0.09283396230842694, 0.08787816010814416, 0.08454191425058007, 0.08203925347737265, 0.0802404176236165], \"yaxis\": \"y\"}, {\"line\": {\"color\": \"#7dafff\"}, \"type\": \"scatter\", \"uid\": \"2374abfa-5bec-4530-b042-76daa72f2ef2\", \"x\": [1100000000.0, 1145000000.0, 1190000000.0, 1235000000.0, 1280000000.0, 1325000000.0, 1370000000.0, 1415000000.0, 1460000000.0, 1505000000.0, 1550000000.0, 1595000000.0, 1640000000.0, 1685000000.0, 1730000000.0, 1775000000.0, 1820000000.0, 1865000000.0, 1910000000.0, 1955000000.0, 2000000000.0], \"xaxis\": \"x2\", \"y\": [10635.099216825014, 10811.018798823194, 10933.638973465306, 10979.717070479548, 11020.403776787776, 11035.731463947244, 10938.265121115062, 10845.596613320555, 10800.731975199556, 10763.639570847958, 10717.471486460141, 10707.496982070446, 10660.606823993116, 10573.357547773094, 10472.700868373204, 10404.049299323693, 10290.69863790341, 10218.265955052706, 10108.378593633914, 9988.315668041098], \"yaxis\": \"y2\"}, {\"line\": {\"color\": \"#7dafff\"}, \"type\": \"scatter\", \"uid\": \"2d948ef3-bed4-48b1-96ee-1ee887c37bb5\", \"x\": [1100000000.0, 1145000000.0, 1190000000.0, 1235000000.0, 1280000000.0, 1325000000.0, 1370000000.0, 1415000000.0, 1460000000.0, 1505000000.0, 1550000000.0, 1595000000.0, 1640000000.0, 1685000000.0, 1730000000.0, 1775000000.0, 1820000000.0, 1865000000.0, 1910000000.0, 1955000000.0, 2000000000.0], \"xaxis\": \"x\", \"y\": [0.43952006761780876, 0.3272689847764193, 0.2606464861341181, 0.21628196882829456, 0.1825198912496846, 0.15831982713481618, 0.14420700235789435, 0.13191048251575363, 0.11992662887673332, 0.11051812652760701, 0.10164157832326397, 0.09351698328423085, 0.08702393919783395, 0.08275717669259847, 0.07958674997930451, 0.07579438452066575, 0.07337972954768159, 0.07043279263704051, 0.06849589481058928, 0.06699933221108373], \"yaxis\": \"y\"}, {\"line\": {\"color\": \"#7dafff\"}, \"type\": \"scatter\", \"uid\": \"35559f15-3e64-4bc1-80ef-c61b291d604d\", \"x\": [1100000000.0, 1145000000.0, 1190000000.0, 1235000000.0, 1280000000.0, 1325000000.0, 1370000000.0, 1415000000.0, 1460000000.0, 1505000000.0, 1550000000.0, 1595000000.0, 1640000000.0, 1685000000.0, 1730000000.0, 1775000000.0, 1820000000.0, 1865000000.0, 1910000000.0, 1955000000.0, 2000000000.0], \"xaxis\": \"x2\", \"y\": [11500.557677730967, 11637.546429690148, 11663.406170429926, 11724.968508662445, 11714.760546184592, 11715.267405819095, 11601.494346275227, 11508.240345570224, 11502.488963193151, 11497.386422527972, 11451.270656305627, 11400.159576989896, 11327.524225636034, 11287.892223234016, 11179.325846630562, 11094.423438456082, 10990.648087308036, 10925.434399972431, 10815.564131433577, 10706.177796255934], \"yaxis\": \"y2\"}, {\"line\": {\"color\": \"#7dafff\"}, \"type\": \"scatter\", \"uid\": \"2b85bdba-db4d-44f6-b107-b3f561432557\", \"x\": [1100000000.0, 1145000000.0, 1190000000.0, 1235000000.0, 1280000000.0, 1325000000.0, 1370000000.0, 1415000000.0, 1460000000.0, 1505000000.0, 1550000000.0, 1595000000.0, 1640000000.0, 1685000000.0, 1730000000.0, 1775000000.0, 1820000000.0, 1865000000.0, 1910000000.0, 1955000000.0, 2000000000.0], \"xaxis\": \"x\", \"y\": [0.5068949392970971, 0.38221104971484315, 0.3148741457738798, 0.26211511901625356, 0.22619764203242188, 0.19668967142631172, 0.17976793731845225, 0.16527279232801473, 0.14785746043356635, 0.13387433613614877, 0.1232425999868199, 0.1146829697056732, 0.10741488616862115, 0.10056120171965181, 0.09622391591057, 0.09224290766102909, 0.08910601228438907, 0.08532979760583174, 0.08271120381699118, 0.08030516190365566], \"yaxis\": \"y\"}, {\"line\": {\"color\": \"#7dafff\"}, \"type\": \"scatter\", \"uid\": \"c8df0222-b34d-47be-8f2f-553f3b9c6fa9\", \"x\": [1100000000.0, 1145000000.0, 1190000000.0, 1235000000.0, 1280000000.0, 1325000000.0, 1370000000.0, 1415000000.0, 1460000000.0, 1505000000.0, 1550000000.0, 1595000000.0, 1640000000.0, 1685000000.0, 1730000000.0, 1775000000.0, 1820000000.0, 1865000000.0, 1910000000.0, 1955000000.0, 2000000000.0], \"xaxis\": \"x2\", \"y\": [10570.85650926321, 10736.442568836423, 10856.868647968913, 10979.906697012915, 10953.700434670507, 10957.33627607718, 10966.459695386742, 10949.857847026873, 10898.176501377218, 10912.84715469283, 10916.410390590072, 10804.790135414292, 10642.721757219704, 10673.950209699193, 10562.155371916366, 10441.053929477464, 10375.82143773825, 10218.808094852784, 10128.925286201787, 9982.977583607197], \"yaxis\": \"y2\"}, {\"line\": {\"color\": \"#7dafff\"}, \"type\": \"scatter\", \"uid\": \"08205fc8-4f06-40b9-8c83-ab8499799c06\", \"x\": [1100000000.0, 1145000000.0, 1190000000.0, 1235000000.0, 1280000000.0, 1325000000.0, 1370000000.0, 1415000000.0, 1460000000.0, 1505000000.0, 1550000000.0, 1595000000.0, 1640000000.0, 1685000000.0, 1730000000.0, 1775000000.0, 1820000000.0, 1865000000.0, 1910000000.0, 1955000000.0, 2000000000.0], \"xaxis\": \"x\", \"y\": [0.44592562360298665, 0.33172612420042014, 0.2626860334726045, 0.2144515856730121, 0.18743693541983764, 0.16283699173813013, 0.14343516576688234, 0.1288301921728002, 0.11742933862073772, 0.10551038169028189, 0.09622856527804777, 0.09084155973051877, 0.08819161384785743, 0.08047832421527903, 0.07731272727040174, 0.0750256006231576, 0.07149678574153981, 0.0706271240526102, 0.06830828451008494, 0.0675509962637582], \"yaxis\": \"y\"}, {\"line\": {\"color\": \"#7dafff\"}, \"type\": \"scatter\", \"uid\": \"16fd6c38-5a88-40da-a1de-1ed7db61e8ca\", \"x\": [1100000000.0, 1145000000.0, 1190000000.0, 1235000000.0, 1280000000.0, 1325000000.0, 1370000000.0, 1415000000.0, 1460000000.0, 1505000000.0, 1550000000.0, 1595000000.0, 1640000000.0, 1685000000.0, 1730000000.0, 1775000000.0, 1820000000.0, 1865000000.0, 1910000000.0, 1955000000.0, 2000000000.0], \"xaxis\": \"x2\", \"y\": [11533.554418901986, 11597.331479911461, 11657.889585168932, 11762.268748636758, 11775.917513051461, 11764.967895422506, 11676.073086637227, 11650.112617143855, 11594.258946050919, 11522.736351585567, 11444.191999379364, 11366.855615514285, 11333.428810955656, 11291.115455484685, 11165.546445726963, 11084.736032809737, 11050.699407674529, 10978.542485969812, 10849.291930009682, 10738.957956164413], \"yaxis\": \"y2\"}, {\"line\": {\"color\": \"#7dafff\"}, \"type\": \"scatter\", \"uid\": \"46d252e6-0e94-4aef-9dc9-0a6273002ead\", \"x\": [1100000000.0, 1145000000.0, 1190000000.0, 1235000000.0, 1280000000.0, 1325000000.0, 1370000000.0, 1415000000.0, 1460000000.0, 1505000000.0, 1550000000.0, 1595000000.0, 1640000000.0, 1685000000.0, 1730000000.0, 1775000000.0, 1820000000.0, 1865000000.0, 1910000000.0, 1955000000.0, 2000000000.0], \"xaxis\": \"x\", \"y\": [0.4948141939783154, 0.3825728490752265, 0.31106318084798007, 0.25245973709763725, 0.21581879433960113, 0.18946380809256022, 0.1719798978313757, 0.15370692887596554, 0.14061175378646074, 0.13022103911735378, 0.12114965913477616, 0.11340820405908851, 0.1050870225832694, 0.09835950384020811, 0.09505240961204954, 0.09082482658920103, 0.08538454480911349, 0.08166191691747993, 0.0799399239764927, 0.07767439247279277], \"yaxis\": \"y\"}, {\"line\": {\"color\": \"#7dafff\"}, \"type\": \"scatter\", \"uid\": \"caac617d-bf00-46b9-bf0d-a94b878696cb\", \"x\": [1100000000.0, 1145000000.0, 1190000000.0, 1235000000.0, 1280000000.0, 1325000000.0, 1370000000.0, 1415000000.0, 1460000000.0, 1505000000.0, 1550000000.0, 1595000000.0, 1640000000.0, 1685000000.0, 1730000000.0, 1775000000.0, 1820000000.0, 1865000000.0, 1910000000.0, 1955000000.0, 2000000000.0], \"xaxis\": \"x2\", \"y\": [10680.784661378806, 10845.542429380761, 10944.81519293473, 10993.087317815407, 11012.9400764844, 10887.379427963211, 10983.662316167123, 11024.751388763909, 10943.797478820632, 10891.467325909394, 10825.792024899989, 10805.5575293643, 10706.591895210207, 10571.784653112929, 10496.275695177474, 10402.120227836202, 10301.441469400985, 10238.49109673982, 10147.574803160998, 10007.566464221138], \"yaxis\": \"y2\"}, {\"line\": {\"color\": \"#7dafff\"}, \"type\": \"scatter\", \"uid\": \"04922ad6-26ff-40e7-bb90-7b4c59fd8d3c\", \"x\": [1100000000.0, 1145000000.0, 1190000000.0, 1235000000.0, 1280000000.0, 1325000000.0, 1370000000.0, 1415000000.0, 1460000000.0, 1505000000.0, 1550000000.0, 1595000000.0, 1640000000.0, 1685000000.0, 1730000000.0, 1775000000.0, 1820000000.0, 1865000000.0, 1910000000.0, 1955000000.0, 2000000000.0], \"xaxis\": \"x\", \"y\": [0.43928107156994384, 0.329035732925365, 0.26417124637418693, 0.21995208535156577, 0.18797841086098335, 0.17013718186514903, 0.14523399235417972, 0.1281169543334831, 0.11796293005695996, 0.10851866860126855, 0.10078020724639432, 0.09253446911219296, 0.08798570551552642, 0.08508103522642099, 0.0807247405411672, 0.07763414575866065, 0.07474110201651678, 0.07149841717278423, 0.0694441864787546, 0.06840896856885509], \"yaxis\": \"y\"}, {\"line\": {\"color\": \"#7dafff\"}, \"type\": \"scatter\", \"uid\": \"7833a4b3-aba2-4656-bc2a-79b090444c60\", \"x\": [1100000000.0, 1145000000.0, 1190000000.0, 1235000000.0, 1280000000.0, 1325000000.0, 1370000000.0, 1415000000.0, 1460000000.0, 1505000000.0, 1550000000.0, 1595000000.0, 1640000000.0, 1685000000.0, 1730000000.0, 1775000000.0, 1820000000.0, 1865000000.0, 1910000000.0, 1955000000.0, 2000000000.0], \"xaxis\": \"x2\", \"y\": [11437.188129640508, 11528.70157802597, 11640.449468780578, 11710.818603845562, 11646.85233939071, 11571.106855857399, 11529.13001804774, 11506.724477504918, 11494.473536577676, 11432.76091887228, 11378.137918263285, 11302.85507985749, 11244.631327203226, 11103.724838190863, 11017.941987416278, 10957.211813702343, 10894.703106138693, 10810.029601198736, 10701.18594949519, 10638.39143970833], \"yaxis\": \"y2\"}, {\"line\": {\"color\": \"#7dafff\"}, \"type\": \"scatter\", \"uid\": \"17bde82d-14c9-40b9-9ec5-6ef689e6a7ed\", \"x\": [1100000000.0, 1145000000.0, 1190000000.0, 1235000000.0, 1280000000.0, 1325000000.0, 1370000000.0, 1415000000.0, 1460000000.0, 1505000000.0, 1550000000.0, 1595000000.0, 1640000000.0, 1685000000.0, 1730000000.0, 1775000000.0, 1820000000.0, 1865000000.0, 1910000000.0, 1955000000.0, 2000000000.0], \"xaxis\": \"x\", \"y\": [0.49674899900570646, 0.3812215660301213, 0.30281560573624633, 0.2509255408599759, 0.22073539638977277, 0.1967139439628392, 0.17571454734033246, 0.1576891729242855, 0.14088198326667598, 0.13004325009218767, 0.12095401797605776, 0.11383288002950714, 0.10689215533606816, 0.10296885131622673, 0.09780859456526692, 0.09289643546287558, 0.0885417108298983, 0.08517563107205478, 0.08229688721693089, 0.0789677366754081], \"yaxis\": \"y\"}, {\"line\": {\"color\": \"#7dafff\"}, \"type\": \"scatter\", \"uid\": \"fbb0cf27-f42d-42a0-8bca-6211dd56739b\", \"x\": [1100000000.0, 1145000000.0, 1190000000.0, 1235000000.0, 1280000000.0, 1325000000.0, 1370000000.0, 1415000000.0, 1460000000.0, 1505000000.0, 1550000000.0, 1595000000.0, 1640000000.0, 1685000000.0, 1730000000.0, 1775000000.0, 1820000000.0, 1865000000.0, 1910000000.0, 1955000000.0, 2000000000.0], \"xaxis\": \"x2\", \"y\": [10637.774893389858, 10870.528741129217, 10979.20752094891, 11029.889850247842, 11017.830301775746, 11002.647926802323, 11063.176163639555, 11043.32034334059, 10953.59058670485, 10884.149702433244, 10832.042108059699, 10746.120711685184, 10638.764813827649, 10558.092276798938, 10449.107297019234, 10350.60274211199, 10298.783130265034, 10276.173311434015, 10189.139086635254, 10056.484838218224], \"yaxis\": \"y2\"}, {\"line\": {\"color\": \"#7dafff\"}, \"type\": \"scatter\", \"uid\": \"ed3d71f1-f450-444f-859b-a99b9f5ca53c\", \"x\": [1100000000.0, 1145000000.0, 1190000000.0, 1235000000.0, 1280000000.0, 1325000000.0, 1370000000.0, 1415000000.0, 1460000000.0, 1505000000.0, 1550000000.0, 1595000000.0, 1640000000.0, 1685000000.0, 1730000000.0, 1775000000.0, 1820000000.0, 1865000000.0, 1910000000.0, 1955000000.0, 2000000000.0], \"xaxis\": \"x\", \"y\": [0.45266800781269007, 0.3305847574133108, 0.2647072464738774, 0.21904485046384017, 0.18881884728116693, 0.16619738171025447, 0.14364374771990318, 0.12786787360034046, 0.11791465883989281, 0.10890874790265452, 0.10128370560742413, 0.09532106076096136, 0.09066498376561384, 0.08579078573787761, 0.0823404365028929, 0.07946786802086914, 0.0753411314600249, 0.07128521138675016, 0.06888107318726502, 0.06764365885322746], \"yaxis\": \"y\"}, {\"line\": {\"color\": \"#7dafff\"}, \"type\": \"scatter\", \"uid\": \"a7b304b0-fd14-44ff-8644-649b110bf200\", \"x\": [1100000000.0, 1145000000.0, 1190000000.0, 1235000000.0, 1280000000.0, 1325000000.0, 1370000000.0, 1415000000.0, 1460000000.0, 1505000000.0, 1550000000.0, 1595000000.0, 1640000000.0, 1685000000.0, 1730000000.0, 1775000000.0, 1820000000.0, 1865000000.0, 1910000000.0, 1955000000.0, 2000000000.0], \"xaxis\": \"x2\", \"y\": [11420.97998713899, 11498.337813102757, 11639.50519134857, 11664.640617469388, 11701.728912830435, 11711.923994447283, 11712.74659683396, 11591.269112378646, 11449.641897841511, 11435.511892435268, 11421.346117783405, 11334.210896883858, 11278.258459816645, 11196.477817740708, 11110.138994066976, 11076.434179727443, 10994.477287359596, 10901.218261650312, 10835.518224745436, 10711.037322641676], \"yaxis\": \"y2\"}, {\"line\": {\"color\": \"#7dafff\"}, \"type\": \"scatter\", \"uid\": \"394dfa74-a489-49dd-8628-8cd3c1c029d3\", \"x\": [1100000000.0, 1145000000.0, 1190000000.0, 1235000000.0, 1280000000.0, 1325000000.0, 1370000000.0, 1415000000.0, 1460000000.0, 1505000000.0, 1550000000.0, 1595000000.0, 1640000000.0, 1685000000.0, 1730000000.0, 1775000000.0, 1820000000.0, 1865000000.0, 1910000000.0, 1955000000.0, 2000000000.0], \"xaxis\": \"x\", \"y\": [0.4994884091873135, 0.38386909518176154, 0.30218058159917954, 0.25145402812301343, 0.21646073068279578, 0.18685687485230795, 0.16455009993655595, 0.15175502590148626, 0.14351458248462712, 0.1299336743288275, 0.11970029848709211, 0.11242807247877891, 0.10500153704918537, 0.1001352982173428, 0.0953538109300313, 0.08940156113165973, 0.08572755303725668, 0.08269382665953516, 0.078848332684631, 0.0770118351566495], \"yaxis\": \"y\"}, {\"line\": {\"color\": \"#7dafff\"}, \"type\": \"scatter\", \"uid\": \"5201d5a0-c4b9-4e9b-9204-238a25b75648\", \"x\": [1100000000.0, 1145000000.0, 1190000000.0, 1235000000.0, 1280000000.0, 1325000000.0, 1370000000.0, 1415000000.0, 1460000000.0, 1505000000.0, 1550000000.0, 1595000000.0, 1640000000.0, 1685000000.0, 1730000000.0, 1775000000.0, 1820000000.0, 1865000000.0, 1910000000.0, 1955000000.0, 2000000000.0], \"xaxis\": \"x2\", \"y\": [10691.849844972343, 10881.252759643585, 11024.600489102357, 11008.926530015482, 11076.894883262026, 11042.045711965859, 11063.16803657945, 11070.578559634363, 11044.691764194673, 10970.651612456733, 10980.886609307672, 10896.003429662833, 10767.599990699178, 10635.613994162502, 10472.846994215472, 10456.66200657222, 10434.295581872157, 10327.02759205635, 10213.726635393015, 10093.310125127553], \"yaxis\": \"y2\"}, {\"line\": {\"color\": \"#7dafff\"}, \"type\": \"scatter\", \"uid\": \"d54e19ee-9aa8-4f47-a953-eebce84669a4\", \"x\": [1100000000.0, 1145000000.0, 1190000000.0, 1235000000.0, 1280000000.0, 1325000000.0, 1370000000.0, 1415000000.0, 1460000000.0, 1505000000.0, 1550000000.0, 1595000000.0, 1640000000.0, 1685000000.0, 1730000000.0, 1775000000.0, 1820000000.0, 1865000000.0, 1910000000.0, 1955000000.0, 2000000000.0], \"xaxis\": \"x\", \"y\": [0.4474818476893648, 0.3301810035914491, 0.261307959093139, 0.2231972399767459, 0.18648857521767367, 0.16409019832243454, 0.14317470745010277, 0.12778238416580961, 0.11521986036883332, 0.10674911085099578, 0.09736938639966053, 0.09123384855499893, 0.0873359525558151, 0.08426006054625765, 0.08227668825547656, 0.0770967898467087, 0.07276875021360173, 0.07044586701292369, 0.06864631513717323, 0.06706138176935443], \"yaxis\": \"y\"}, {\"line\": {\"color\": \"#7dafff\"}, \"type\": \"scatter\", \"uid\": \"6d27b951-e621-451d-a7fe-d722590490cc\", \"x\": [1100000000.0, 1145000000.0, 1190000000.0, 1235000000.0, 1280000000.0, 1325000000.0, 1370000000.0, 1415000000.0, 1460000000.0, 1505000000.0, 1550000000.0, 1595000000.0, 1640000000.0, 1685000000.0, 1730000000.0, 1775000000.0, 1820000000.0, 1865000000.0, 1910000000.0, 1955000000.0, 2000000000.0], \"xaxis\": \"x2\", \"y\": [11404.68644335792, 11550.42215314258, 11639.13887647962, 11674.326225183811, 11643.0032811583, 11664.227712366754, 11609.622899066366, 11571.271663444124, 11488.505154936463, 11474.166472237965, 11444.22066881335, 11321.687644686788, 11274.086211426793, 11214.935163024827, 11095.7159296552, 11052.698086925735, 10967.067499016348, 10861.62894388963, 10781.611365120529, 10666.561715629612], \"yaxis\": \"y2\"}, {\"line\": {\"color\": \"#7dafff\"}, \"type\": \"scatter\", \"uid\": \"637ba7f0-1ee0-4d20-82b5-1198f579ab75\", \"x\": [1100000000.0, 1145000000.0, 1190000000.0, 1235000000.0, 1280000000.0, 1325000000.0, 1370000000.0, 1415000000.0, 1460000000.0, 1505000000.0, 1550000000.0, 1595000000.0, 1640000000.0, 1685000000.0, 1730000000.0, 1775000000.0, 1820000000.0, 1865000000.0, 1910000000.0, 1955000000.0, 2000000000.0], \"xaxis\": \"x\", \"y\": [0.49773894374115984, 0.3763449044869187, 0.3031115960467388, 0.2545449261141349, 0.2195044429468628, 0.1890703935152455, 0.16921419174008326, 0.15265500226125517, 0.14164356549906953, 0.12873970376797422, 0.1177324512182147, 0.11197824402292651, 0.10441814381550847, 0.09792972279488406, 0.09471757943639501, 0.08914056698650676, 0.08550392336785945, 0.08272152497759398, 0.07954222475461967, 0.07756336057852233], \"yaxis\": \"y\"}, {\"line\": {\"color\": \"#7dafff\"}, \"type\": \"scatter\", \"uid\": \"830b3cf6-d3d8-4fbb-bb4a-c3ffef36f60d\", \"x\": [1100000000.0, 1145000000.0, 1190000000.0, 1235000000.0, 1280000000.0, 1325000000.0, 1370000000.0, 1415000000.0, 1460000000.0, 1505000000.0, 1550000000.0, 1595000000.0, 1640000000.0, 1685000000.0, 1730000000.0, 1775000000.0, 1820000000.0, 1865000000.0, 1910000000.0, 1955000000.0, 2000000000.0], \"xaxis\": \"x2\", \"y\": [10732.832305605065, 10927.53274501005, 10999.038295987177, 11120.942823009333, 11127.283737338137, 11084.302806768119, 11069.784812309364, 11066.322559389619, 11003.066376252806, 10955.364192122895, 10899.736539240292, 10741.068632361372, 10710.327383480133, 10597.496226545392, 10549.389773662057, 10465.941519309627, 10371.370420579682, 10256.852571001426, 10163.046966831698, 10074.69053320109], \"yaxis\": \"y2\"}, {\"line\": {\"color\": \"#7dafff\"}, \"type\": \"scatter\", \"uid\": \"9a7afc0b-42e6-4d0b-af4f-159daafbff10\", \"x\": [1100000000.0, 1145000000.0, 1190000000.0, 1235000000.0, 1280000000.0, 1325000000.0, 1370000000.0, 1415000000.0, 1460000000.0, 1505000000.0, 1550000000.0, 1595000000.0, 1640000000.0, 1685000000.0, 1730000000.0, 1775000000.0, 1820000000.0, 1865000000.0, 1910000000.0, 1955000000.0, 2000000000.0], \"xaxis\": \"x\", \"y\": [0.44443637159123983, 0.33019634954939475, 0.26475209661040133, 0.214763672920604, 0.18411001669645166, 0.16259081949317206, 0.14385360172497197, 0.12756474449212687, 0.11696925559066809, 0.1071004147026813, 0.09912187964115499, 0.09650204436463762, 0.08985914755672508, 0.08622238465789234, 0.08092359794988342, 0.07737849041147359, 0.07453157832590487, 0.07263537854976851, 0.07025313296079845, 0.06792936424027776], \"yaxis\": \"y\"}, {\"line\": {\"color\": \"#0062ff\"}, \"type\": \"scatter\", \"uid\": \"75ad47bf-1c25-4c5c-9222-9802ac26c715\", \"x\": [1100000000.0, 1145000000.0, 1190000000.0, 1235000000.0, 1280000000.0, 1325000000.0, 1370000000.0, 1415000000.0, 1460000000.0, 1505000000.0, 1550000000.0, 1595000000.0, 1640000000.0, 1685000000.0, 1730000000.0, 1775000000.0, 1820000000.0, 1865000000.0, 1910000000.0, 1955000000.0, 2000000000.0], \"xaxis\": \"x2\", \"y\": [10732.832305605065, 10927.53274501005, 10999.038295987177, 11120.942823009333, 11127.283737338137, 11084.302806768119, 11069.784812309364, 11066.322559389619, 11003.066376252806, 10955.364192122895, 10899.736539240292, 10741.068632361372, 10710.327383480133, 10597.496226545392, 10549.389773662057, 10465.941519309627, 10371.370420579682, 10256.852571001426, 10163.046966831698, 10074.69053320109], \"yaxis\": \"y2\"}, {\"line\": {\"color\": \"#0062ff\"}, \"type\": \"scatter\", \"uid\": \"60b36cf0-1250-4aa7-bfa0-ca94ed9d1d98\", \"x\": [1100000000.0, 1145000000.0, 1190000000.0, 1235000000.0, 1280000000.0, 1325000000.0, 1370000000.0, 1415000000.0, 1460000000.0, 1505000000.0, 1550000000.0, 1595000000.0, 1640000000.0, 1685000000.0, 1730000000.0, 1775000000.0, 1820000000.0, 1865000000.0, 1910000000.0, 1955000000.0, 2000000000.0], \"xaxis\": \"x\", \"y\": [0.44443637159123983, 0.33019634954939475, 0.26475209661040133, 0.214763672920604, 0.18411001669645166, 0.16259081949317206, 0.14385360172497197, 0.12756474449212687, 0.11696925559066809, 0.1071004147026813, 0.09912187964115499, 0.09650204436463762, 0.08985914755672508, 0.08622238465789234, 0.08092359794988342, 0.07737849041147359, 0.07453157832590487, 0.07263537854976851, 0.07025313296079845, 0.06792936424027776], \"yaxis\": \"y\"}],                        {\"showlegend\": false, \"template\": {\"data\": {\"bar\": [{\"error_x\": {\"color\": \"#2a3f5f\"}, \"error_y\": {\"color\": \"#2a3f5f\"}, \"marker\": {\"line\": {\"color\": \"#E5ECF6\", \"width\": 0.5}}, \"type\": \"bar\"}], \"barpolar\": [{\"marker\": {\"line\": {\"color\": \"#E5ECF6\", \"width\": 0.5}}, \"type\": \"barpolar\"}], \"carpet\": [{\"aaxis\": {\"endlinecolor\": \"#2a3f5f\", \"gridcolor\": \"white\", \"linecolor\": \"white\", \"minorgridcolor\": \"white\", \"startlinecolor\": \"#2a3f5f\"}, \"baxis\": {\"endlinecolor\": \"#2a3f5f\", \"gridcolor\": \"white\", \"linecolor\": \"white\", \"minorgridcolor\": \"white\", \"startlinecolor\": \"#2a3f5f\"}, \"type\": \"carpet\"}], \"choropleth\": [{\"colorbar\": {\"outlinewidth\": 0, \"ticks\": \"\"}, \"type\": \"choropleth\"}], \"contour\": [{\"colorbar\": {\"outlinewidth\": 0, \"ticks\": \"\"}, \"colorscale\": [[0.0, \"#0d0887\"], [0.1111111111111111, \"#46039f\"], [0.2222222222222222, \"#7201a8\"], [0.3333333333333333, \"#9c179e\"], [0.4444444444444444, \"#bd3786\"], [0.5555555555555556, \"#d8576b\"], [0.6666666666666666, \"#ed7953\"], [0.7777777777777778, \"#fb9f3a\"], [0.8888888888888888, \"#fdca26\"], [1.0, \"#f0f921\"]], \"type\": \"contour\"}], \"contourcarpet\": [{\"colorbar\": {\"outlinewidth\": 0, \"ticks\": \"\"}, \"type\": \"contourcarpet\"}], \"heatmap\": [{\"colorbar\": {\"outlinewidth\": 0, \"ticks\": \"\"}, \"colorscale\": [[0.0, \"#0d0887\"], [0.1111111111111111, \"#46039f\"], [0.2222222222222222, \"#7201a8\"], [0.3333333333333333, \"#9c179e\"], [0.4444444444444444, \"#bd3786\"], [0.5555555555555556, \"#d8576b\"], [0.6666666666666666, \"#ed7953\"], [0.7777777777777778, \"#fb9f3a\"], [0.8888888888888888, \"#fdca26\"], [1.0, \"#f0f921\"]], \"type\": \"heatmap\"}], \"heatmapgl\": [{\"colorbar\": {\"outlinewidth\": 0, \"ticks\": \"\"}, \"colorscale\": [[0.0, \"#0d0887\"], [0.1111111111111111, \"#46039f\"], [0.2222222222222222, \"#7201a8\"], [0.3333333333333333, \"#9c179e\"], [0.4444444444444444, \"#bd3786\"], [0.5555555555555556, \"#d8576b\"], [0.6666666666666666, \"#ed7953\"], [0.7777777777777778, \"#fb9f3a\"], [0.8888888888888888, \"#fdca26\"], [1.0, \"#f0f921\"]], \"type\": \"heatmapgl\"}], \"histogram\": [{\"marker\": {\"colorbar\": {\"outlinewidth\": 0, \"ticks\": \"\"}}, \"type\": \"histogram\"}], \"histogram2d\": [{\"colorbar\": {\"outlinewidth\": 0, \"ticks\": \"\"}, \"colorscale\": [[0.0, \"#0d0887\"], [0.1111111111111111, \"#46039f\"], [0.2222222222222222, \"#7201a8\"], [0.3333333333333333, \"#9c179e\"], [0.4444444444444444, \"#bd3786\"], [0.5555555555555556, \"#d8576b\"], [0.6666666666666666, \"#ed7953\"], [0.7777777777777778, \"#fb9f3a\"], [0.8888888888888888, \"#fdca26\"], [1.0, \"#f0f921\"]], \"type\": \"histogram2d\"}], \"histogram2dcontour\": [{\"colorbar\": {\"outlinewidth\": 0, \"ticks\": \"\"}, \"colorscale\": [[0.0, \"#0d0887\"], [0.1111111111111111, \"#46039f\"], [0.2222222222222222, \"#7201a8\"], [0.3333333333333333, \"#9c179e\"], [0.4444444444444444, \"#bd3786\"], [0.5555555555555556, \"#d8576b\"], [0.6666666666666666, \"#ed7953\"], [0.7777777777777778, \"#fb9f3a\"], [0.8888888888888888, \"#fdca26\"], [1.0, \"#f0f921\"]], \"type\": \"histogram2dcontour\"}], \"mesh3d\": [{\"colorbar\": {\"outlinewidth\": 0, \"ticks\": \"\"}, \"type\": \"mesh3d\"}], \"parcoords\": [{\"line\": {\"colorbar\": {\"outlinewidth\": 0, \"ticks\": \"\"}}, \"type\": \"parcoords\"}], \"pie\": [{\"automargin\": true, \"type\": \"pie\"}], \"scatter\": [{\"marker\": {\"colorbar\": {\"outlinewidth\": 0, \"ticks\": \"\"}}, \"type\": \"scatter\"}], \"scatter3d\": [{\"line\": {\"colorbar\": {\"outlinewidth\": 0, \"ticks\": \"\"}}, \"marker\": {\"colorbar\": {\"outlinewidth\": 0, \"ticks\": \"\"}}, \"type\": \"scatter3d\"}], \"scattercarpet\": [{\"marker\": {\"colorbar\": {\"outlinewidth\": 0, \"ticks\": \"\"}}, \"type\": \"scattercarpet\"}], \"scattergeo\": [{\"marker\": {\"colorbar\": {\"outlinewidth\": 0, \"ticks\": \"\"}}, \"type\": \"scattergeo\"}], \"scattergl\": [{\"marker\": {\"colorbar\": {\"outlinewidth\": 0, \"ticks\": \"\"}}, \"type\": \"scattergl\"}], \"scattermapbox\": [{\"marker\": {\"colorbar\": {\"outlinewidth\": 0, \"ticks\": \"\"}}, \"type\": \"scattermapbox\"}], \"scatterpolar\": [{\"marker\": {\"colorbar\": {\"outlinewidth\": 0, \"ticks\": \"\"}}, \"type\": \"scatterpolar\"}], \"scatterpolargl\": [{\"marker\": {\"colorbar\": {\"outlinewidth\": 0, \"ticks\": \"\"}}, \"type\": \"scatterpolargl\"}], \"scatterternary\": [{\"marker\": {\"colorbar\": {\"outlinewidth\": 0, \"ticks\": \"\"}}, \"type\": \"scatterternary\"}], \"surface\": [{\"colorbar\": {\"outlinewidth\": 0, \"ticks\": \"\"}, \"colorscale\": [[0.0, \"#0d0887\"], [0.1111111111111111, \"#46039f\"], [0.2222222222222222, \"#7201a8\"], [0.3333333333333333, \"#9c179e\"], [0.4444444444444444, \"#bd3786\"], [0.5555555555555556, \"#d8576b\"], [0.6666666666666666, \"#ed7953\"], [0.7777777777777778, \"#fb9f3a\"], [0.8888888888888888, \"#fdca26\"], [1.0, \"#f0f921\"]], \"type\": \"surface\"}], \"table\": [{\"cells\": {\"fill\": {\"color\": \"#EBF0F8\"}, \"line\": {\"color\": \"white\"}}, \"header\": {\"fill\": {\"color\": \"#C8D4E3\"}, \"line\": {\"color\": \"white\"}}, \"type\": \"table\"}]}, \"layout\": {\"annotationdefaults\": {\"arrowcolor\": \"#2a3f5f\", \"arrowhead\": 0, \"arrowwidth\": 1}, \"autotypenumbers\": \"strict\", \"coloraxis\": {\"colorbar\": {\"outlinewidth\": 0, \"ticks\": \"\"}}, \"colorscale\": {\"diverging\": [[0, \"#8e0152\"], [0.1, \"#c51b7d\"], [0.2, \"#de77ae\"], [0.3, \"#f1b6da\"], [0.4, \"#fde0ef\"], [0.5, \"#f7f7f7\"], [0.6, \"#e6f5d0\"], [0.7, \"#b8e186\"], [0.8, \"#7fbc41\"], [0.9, \"#4d9221\"], [1, \"#276419\"]], \"sequential\": [[0.0, \"#0d0887\"], [0.1111111111111111, \"#46039f\"], [0.2222222222222222, \"#7201a8\"], [0.3333333333333333, \"#9c179e\"], [0.4444444444444444, \"#bd3786\"], [0.5555555555555556, \"#d8576b\"], [0.6666666666666666, \"#ed7953\"], [0.7777777777777778, \"#fb9f3a\"], [0.8888888888888888, \"#fdca26\"], [1.0, \"#f0f921\"]], \"sequentialminus\": [[0.0, \"#0d0887\"], [0.1111111111111111, \"#46039f\"], [0.2222222222222222, \"#7201a8\"], [0.3333333333333333, \"#9c179e\"], [0.4444444444444444, \"#bd3786\"], [0.5555555555555556, \"#d8576b\"], [0.6666666666666666, \"#ed7953\"], [0.7777777777777778, \"#fb9f3a\"], [0.8888888888888888, \"#fdca26\"], [1.0, \"#f0f921\"]]}, \"colorway\": [\"#636efa\", \"#EF553B\", \"#00cc96\", \"#ab63fa\", \"#FFA15A\", \"#19d3f3\", \"#FF6692\", \"#B6E880\", \"#FF97FF\", \"#FECB52\"], \"font\": {\"color\": \"#2a3f5f\"}, \"geo\": {\"bgcolor\": \"white\", \"lakecolor\": \"white\", \"landcolor\": \"#E5ECF6\", \"showlakes\": true, \"showland\": true, \"subunitcolor\": \"white\"}, \"hoverlabel\": {\"align\": \"left\"}, \"hovermode\": \"closest\", \"mapbox\": {\"style\": \"light\"}, \"paper_bgcolor\": \"white\", \"plot_bgcolor\": \"#E5ECF6\", \"polar\": {\"angularaxis\": {\"gridcolor\": \"white\", \"linecolor\": \"white\", \"ticks\": \"\"}, \"bgcolor\": \"#E5ECF6\", \"radialaxis\": {\"gridcolor\": \"white\", \"linecolor\": \"white\", \"ticks\": \"\"}}, \"scene\": {\"xaxis\": {\"backgroundcolor\": \"#E5ECF6\", \"gridcolor\": \"white\", \"gridwidth\": 2, \"linecolor\": \"white\", \"showbackground\": true, \"ticks\": \"\", \"zerolinecolor\": \"white\"}, \"yaxis\": {\"backgroundcolor\": \"#E5ECF6\", \"gridcolor\": \"white\", \"gridwidth\": 2, \"linecolor\": \"white\", \"showbackground\": true, \"ticks\": \"\", \"zerolinecolor\": \"white\"}, \"zaxis\": {\"backgroundcolor\": \"#E5ECF6\", \"gridcolor\": \"white\", \"gridwidth\": 2, \"linecolor\": \"white\", \"showbackground\": true, \"ticks\": \"\", \"zerolinecolor\": \"white\"}}, \"shapedefaults\": {\"line\": {\"color\": \"#2a3f5f\"}}, \"ternary\": {\"aaxis\": {\"gridcolor\": \"white\", \"linecolor\": \"white\", \"ticks\": \"\"}, \"baxis\": {\"gridcolor\": \"white\", \"linecolor\": \"white\", \"ticks\": \"\"}, \"bgcolor\": \"#E5ECF6\", \"caxis\": {\"gridcolor\": \"white\", \"linecolor\": \"white\", \"ticks\": \"\"}}, \"title\": {\"x\": 0.05}, \"xaxis\": {\"automargin\": true, \"gridcolor\": \"white\", \"linecolor\": \"white\", \"ticks\": \"\", \"title\": {\"standoff\": 15}, \"zerolinecolor\": \"white\", \"zerolinewidth\": 2}, \"yaxis\": {\"automargin\": true, \"gridcolor\": \"white\", \"linecolor\": \"white\", \"ticks\": \"\", \"title\": {\"standoff\": 15}, \"zerolinecolor\": \"white\", \"zerolinewidth\": 2}}}, \"xaxis\": {\"anchor\": \"y\", \"domain\": [0.0, 0.45], \"exponentformat\": \"e\", \"showexponent\": \"all\", \"title\": {\"text\": \"$Shell~~Velocity$\"}}, \"xaxis2\": {\"anchor\": \"y2\", \"domain\": [0.55, 1.0], \"exponentformat\": \"e\", \"showexponent\": \"all\", \"title\": {\"text\": \"$Shell~~Velocity$\"}}, \"yaxis\": {\"anchor\": \"x\", \"domain\": [0.0, 1.0], \"title\": {\"text\": \"$W$\"}}, \"yaxis2\": {\"anchor\": \"x2\", \"domain\": [0.0, 1.0], \"range\": [9000, 14000], \"title\": {\"text\": \"$T_{rad}\\\\ [K]$\"}}},                        {\"responsive\": true}                    ).then(function(){\n",
       "                            \n",
       "var gd = document.getElementById('e8f1e331-0a34-428d-9c67-d3dad3cce133');\n",
       "var x = new MutationObserver(function (mutations, observer) {{\n",
       "        var display = window.getComputedStyle(gd).display;\n",
       "        if (!display || display === 'none') {{\n",
       "            console.log([gd, 'removed!']);\n",
       "            Plotly.purge(gd);\n",
       "            observer.disconnect();\n",
       "        }}\n",
       "}});\n",
       "\n",
       "// Listen for the removal of the full notebook cells\n",
       "var notebookContainer = gd.closest('#notebook-container');\n",
       "if (notebookContainer) {{\n",
       "    x.observe(notebookContainer, {childList: true});\n",
       "}}\n",
       "\n",
       "// Listen for the clearing of the current output cell\n",
       "var outputEl = gd.closest('.output');\n",
       "if (outputEl) {{\n",
       "    x.observe(outputEl, {childList: true});\n",
       "}}\n",
       "\n",
       "                        })                };                });            </script>        </div>"
      ]
     },
     "metadata": {},
     "output_type": "display_data"
    }
   ],
   "source": [
    "fig_.show()"
   ]
  },
  {
   "cell_type": "code",
   "execution_count": null,
   "metadata": {},
   "outputs": [],
   "source": []
  }
 ],
 "metadata": {
  "kernelspec": {
   "display_name": "Python 3",
   "language": "python",
   "name": "python3"
  },
  "language_info": {
   "codemirror_mode": {
    "name": "ipython",
    "version": 3
   },
   "file_extension": ".py",
   "mimetype": "text/x-python",
   "name": "python",
   "nbconvert_exporter": "python",
   "pygments_lexer": "ipython3",
   "version": "3.8.8"
  }
 },
 "nbformat": 4,
 "nbformat_minor": 4
}
