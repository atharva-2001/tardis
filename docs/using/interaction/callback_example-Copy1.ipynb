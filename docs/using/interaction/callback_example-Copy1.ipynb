{
 "cells": [
  {
   "cell_type": "markdown",
   "metadata": {},
   "source": [
    "# Using Custom Callbacks When Running TARDIS"
   ]
  },
  {
   "cell_type": "code",
   "execution_count": 1,
   "metadata": {},
   "outputs": [],
   "source": [
    "import warnings\n",
    "warnings.filterwarnings('ignore')\n",
    "\n",
    "from tardis import run_tardis\n",
    "import tardis\n",
    "\n",
    "# tardis.logger.setLevel(0)\n",
    "# tardis.logging.captureWarnings(False)"
   ]
  },
  {
   "cell_type": "code",
   "execution_count": 2,
   "metadata": {},
   "outputs": [],
   "source": [
    "# import plotly.graph_objects as go\n",
    "# fig2 = go.FigureWidget()\n",
    "# fig2.add_scatter()\n",
    "# # fig2.data[0].x = list(range(0, 20))\n",
    "# # fig.update_yaxes(range=[9000, 12000])\n",
    "# fig2 = fig2.update_yaxes(title_text = r\"$W$\")\n",
    "# fig2 = fig2.update_xaxes(title_text = \"Iteration Number\")\n",
    "# fig2 = fig2.update_layout(showlegend=False)\n",
    "\n",
    "\n"
   ]
  },
  {
   "cell_type": "code",
   "execution_count": 3,
   "metadata": {},
   "outputs": [],
   "source": [
    "# import plotly.graph_objects as go\n",
    "# fig = go.FigureWidget()\n",
    "# fig.add_scatter()\n",
    "# # fig.data[0].x = list(range(0, 20))\n",
    "# fig = fig.update_yaxes(title_text = r\"$T_{rad}\\ [K]$\", range=[9000, 12000])\n",
    "# fig = fig.update_xaxes(title_text = \"Iteration Number\")\n",
    "# fig = fig.update_layout(showlegend=False)"
   ]
  },
  {
   "cell_type": "code",
   "execution_count": 4,
   "metadata": {},
   "outputs": [
    {
     "data": {
      "application/vnd.jupyter.widget-view+json": {
       "model_id": "96fc3623755a4e8ea8e6140818ae8cce",
       "version_major": 2,
       "version_minor": 0
      },
      "text/plain": [
       "FigureWidget({\n",
       "    'data': [{'type': 'scatter', 'uid': '51bd00d2-1c72-4857-903f-2f5d84e12d0f'}],\n",
       "    'layout':…"
      ]
     },
     "metadata": {},
     "output_type": "display_data"
    }
   ],
   "source": [
    "import plotly.graph_objects as go\n",
    "fig = go.FigureWidget()\n",
    "fig.add_scatter()\n",
    "# fig.data[0].x = list(range(0, 20))\n",
    "fig.update_yaxes(title_text = r\"$T_{rad}\\ [K]$\", range=[9000, 12000])\n",
    "fig.update_xaxes(title_text = \"Iteration Number\")\n",
    "\n",
    "fig"
   ]
  },
  {
   "cell_type": "code",
   "execution_count": 108,
   "metadata": {},
   "outputs": [
    {
     "data": {
      "application/vnd.plotly.v1+json": {
       "config": {
        "plotlyServerURL": "https://plot.ly"
       },
       "data": [
        {
         "type": "scatter",
         "xaxis": "x",
         "yaxis": "y"
        },
        {
         "type": "scatter",
         "xaxis": "x2",
         "yaxis": "y2"
        }
       ],
       "layout": {
        "template": {
         "data": {
          "bar": [
           {
            "error_x": {
             "color": "#2a3f5f"
            },
            "error_y": {
             "color": "#2a3f5f"
            },
            "marker": {
             "line": {
              "color": "#E5ECF6",
              "width": 0.5
             }
            },
            "type": "bar"
           }
          ],
          "barpolar": [
           {
            "marker": {
             "line": {
              "color": "#E5ECF6",
              "width": 0.5
             }
            },
            "type": "barpolar"
           }
          ],
          "carpet": [
           {
            "aaxis": {
             "endlinecolor": "#2a3f5f",
             "gridcolor": "white",
             "linecolor": "white",
             "minorgridcolor": "white",
             "startlinecolor": "#2a3f5f"
            },
            "baxis": {
             "endlinecolor": "#2a3f5f",
             "gridcolor": "white",
             "linecolor": "white",
             "minorgridcolor": "white",
             "startlinecolor": "#2a3f5f"
            },
            "type": "carpet"
           }
          ],
          "choropleth": [
           {
            "colorbar": {
             "outlinewidth": 0,
             "ticks": ""
            },
            "type": "choropleth"
           }
          ],
          "contour": [
           {
            "colorbar": {
             "outlinewidth": 0,
             "ticks": ""
            },
            "colorscale": [
             [
              0,
              "#0d0887"
             ],
             [
              0.1111111111111111,
              "#46039f"
             ],
             [
              0.2222222222222222,
              "#7201a8"
             ],
             [
              0.3333333333333333,
              "#9c179e"
             ],
             [
              0.4444444444444444,
              "#bd3786"
             ],
             [
              0.5555555555555556,
              "#d8576b"
             ],
             [
              0.6666666666666666,
              "#ed7953"
             ],
             [
              0.7777777777777778,
              "#fb9f3a"
             ],
             [
              0.8888888888888888,
              "#fdca26"
             ],
             [
              1,
              "#f0f921"
             ]
            ],
            "type": "contour"
           }
          ],
          "contourcarpet": [
           {
            "colorbar": {
             "outlinewidth": 0,
             "ticks": ""
            },
            "type": "contourcarpet"
           }
          ],
          "heatmap": [
           {
            "colorbar": {
             "outlinewidth": 0,
             "ticks": ""
            },
            "colorscale": [
             [
              0,
              "#0d0887"
             ],
             [
              0.1111111111111111,
              "#46039f"
             ],
             [
              0.2222222222222222,
              "#7201a8"
             ],
             [
              0.3333333333333333,
              "#9c179e"
             ],
             [
              0.4444444444444444,
              "#bd3786"
             ],
             [
              0.5555555555555556,
              "#d8576b"
             ],
             [
              0.6666666666666666,
              "#ed7953"
             ],
             [
              0.7777777777777778,
              "#fb9f3a"
             ],
             [
              0.8888888888888888,
              "#fdca26"
             ],
             [
              1,
              "#f0f921"
             ]
            ],
            "type": "heatmap"
           }
          ],
          "heatmapgl": [
           {
            "colorbar": {
             "outlinewidth": 0,
             "ticks": ""
            },
            "colorscale": [
             [
              0,
              "#0d0887"
             ],
             [
              0.1111111111111111,
              "#46039f"
             ],
             [
              0.2222222222222222,
              "#7201a8"
             ],
             [
              0.3333333333333333,
              "#9c179e"
             ],
             [
              0.4444444444444444,
              "#bd3786"
             ],
             [
              0.5555555555555556,
              "#d8576b"
             ],
             [
              0.6666666666666666,
              "#ed7953"
             ],
             [
              0.7777777777777778,
              "#fb9f3a"
             ],
             [
              0.8888888888888888,
              "#fdca26"
             ],
             [
              1,
              "#f0f921"
             ]
            ],
            "type": "heatmapgl"
           }
          ],
          "histogram": [
           {
            "marker": {
             "colorbar": {
              "outlinewidth": 0,
              "ticks": ""
             }
            },
            "type": "histogram"
           }
          ],
          "histogram2d": [
           {
            "colorbar": {
             "outlinewidth": 0,
             "ticks": ""
            },
            "colorscale": [
             [
              0,
              "#0d0887"
             ],
             [
              0.1111111111111111,
              "#46039f"
             ],
             [
              0.2222222222222222,
              "#7201a8"
             ],
             [
              0.3333333333333333,
              "#9c179e"
             ],
             [
              0.4444444444444444,
              "#bd3786"
             ],
             [
              0.5555555555555556,
              "#d8576b"
             ],
             [
              0.6666666666666666,
              "#ed7953"
             ],
             [
              0.7777777777777778,
              "#fb9f3a"
             ],
             [
              0.8888888888888888,
              "#fdca26"
             ],
             [
              1,
              "#f0f921"
             ]
            ],
            "type": "histogram2d"
           }
          ],
          "histogram2dcontour": [
           {
            "colorbar": {
             "outlinewidth": 0,
             "ticks": ""
            },
            "colorscale": [
             [
              0,
              "#0d0887"
             ],
             [
              0.1111111111111111,
              "#46039f"
             ],
             [
              0.2222222222222222,
              "#7201a8"
             ],
             [
              0.3333333333333333,
              "#9c179e"
             ],
             [
              0.4444444444444444,
              "#bd3786"
             ],
             [
              0.5555555555555556,
              "#d8576b"
             ],
             [
              0.6666666666666666,
              "#ed7953"
             ],
             [
              0.7777777777777778,
              "#fb9f3a"
             ],
             [
              0.8888888888888888,
              "#fdca26"
             ],
             [
              1,
              "#f0f921"
             ]
            ],
            "type": "histogram2dcontour"
           }
          ],
          "mesh3d": [
           {
            "colorbar": {
             "outlinewidth": 0,
             "ticks": ""
            },
            "type": "mesh3d"
           }
          ],
          "parcoords": [
           {
            "line": {
             "colorbar": {
              "outlinewidth": 0,
              "ticks": ""
             }
            },
            "type": "parcoords"
           }
          ],
          "pie": [
           {
            "automargin": true,
            "type": "pie"
           }
          ],
          "scatter": [
           {
            "marker": {
             "colorbar": {
              "outlinewidth": 0,
              "ticks": ""
             }
            },
            "type": "scatter"
           }
          ],
          "scatter3d": [
           {
            "line": {
             "colorbar": {
              "outlinewidth": 0,
              "ticks": ""
             }
            },
            "marker": {
             "colorbar": {
              "outlinewidth": 0,
              "ticks": ""
             }
            },
            "type": "scatter3d"
           }
          ],
          "scattercarpet": [
           {
            "marker": {
             "colorbar": {
              "outlinewidth": 0,
              "ticks": ""
             }
            },
            "type": "scattercarpet"
           }
          ],
          "scattergeo": [
           {
            "marker": {
             "colorbar": {
              "outlinewidth": 0,
              "ticks": ""
             }
            },
            "type": "scattergeo"
           }
          ],
          "scattergl": [
           {
            "marker": {
             "colorbar": {
              "outlinewidth": 0,
              "ticks": ""
             }
            },
            "type": "scattergl"
           }
          ],
          "scattermapbox": [
           {
            "marker": {
             "colorbar": {
              "outlinewidth": 0,
              "ticks": ""
             }
            },
            "type": "scattermapbox"
           }
          ],
          "scatterpolar": [
           {
            "marker": {
             "colorbar": {
              "outlinewidth": 0,
              "ticks": ""
             }
            },
            "type": "scatterpolar"
           }
          ],
          "scatterpolargl": [
           {
            "marker": {
             "colorbar": {
              "outlinewidth": 0,
              "ticks": ""
             }
            },
            "type": "scatterpolargl"
           }
          ],
          "scatterternary": [
           {
            "marker": {
             "colorbar": {
              "outlinewidth": 0,
              "ticks": ""
             }
            },
            "type": "scatterternary"
           }
          ],
          "surface": [
           {
            "colorbar": {
             "outlinewidth": 0,
             "ticks": ""
            },
            "colorscale": [
             [
              0,
              "#0d0887"
             ],
             [
              0.1111111111111111,
              "#46039f"
             ],
             [
              0.2222222222222222,
              "#7201a8"
             ],
             [
              0.3333333333333333,
              "#9c179e"
             ],
             [
              0.4444444444444444,
              "#bd3786"
             ],
             [
              0.5555555555555556,
              "#d8576b"
             ],
             [
              0.6666666666666666,
              "#ed7953"
             ],
             [
              0.7777777777777778,
              "#fb9f3a"
             ],
             [
              0.8888888888888888,
              "#fdca26"
             ],
             [
              1,
              "#f0f921"
             ]
            ],
            "type": "surface"
           }
          ],
          "table": [
           {
            "cells": {
             "fill": {
              "color": "#EBF0F8"
             },
             "line": {
              "color": "white"
             }
            },
            "header": {
             "fill": {
              "color": "#C8D4E3"
             },
             "line": {
              "color": "white"
             }
            },
            "type": "table"
           }
          ]
         },
         "layout": {
          "annotationdefaults": {
           "arrowcolor": "#2a3f5f",
           "arrowhead": 0,
           "arrowwidth": 1
          },
          "autotypenumbers": "strict",
          "coloraxis": {
           "colorbar": {
            "outlinewidth": 0,
            "ticks": ""
           }
          },
          "colorscale": {
           "diverging": [
            [
             0,
             "#8e0152"
            ],
            [
             0.1,
             "#c51b7d"
            ],
            [
             0.2,
             "#de77ae"
            ],
            [
             0.3,
             "#f1b6da"
            ],
            [
             0.4,
             "#fde0ef"
            ],
            [
             0.5,
             "#f7f7f7"
            ],
            [
             0.6,
             "#e6f5d0"
            ],
            [
             0.7,
             "#b8e186"
            ],
            [
             0.8,
             "#7fbc41"
            ],
            [
             0.9,
             "#4d9221"
            ],
            [
             1,
             "#276419"
            ]
           ],
           "sequential": [
            [
             0,
             "#0d0887"
            ],
            [
             0.1111111111111111,
             "#46039f"
            ],
            [
             0.2222222222222222,
             "#7201a8"
            ],
            [
             0.3333333333333333,
             "#9c179e"
            ],
            [
             0.4444444444444444,
             "#bd3786"
            ],
            [
             0.5555555555555556,
             "#d8576b"
            ],
            [
             0.6666666666666666,
             "#ed7953"
            ],
            [
             0.7777777777777778,
             "#fb9f3a"
            ],
            [
             0.8888888888888888,
             "#fdca26"
            ],
            [
             1,
             "#f0f921"
            ]
           ],
           "sequentialminus": [
            [
             0,
             "#0d0887"
            ],
            [
             0.1111111111111111,
             "#46039f"
            ],
            [
             0.2222222222222222,
             "#7201a8"
            ],
            [
             0.3333333333333333,
             "#9c179e"
            ],
            [
             0.4444444444444444,
             "#bd3786"
            ],
            [
             0.5555555555555556,
             "#d8576b"
            ],
            [
             0.6666666666666666,
             "#ed7953"
            ],
            [
             0.7777777777777778,
             "#fb9f3a"
            ],
            [
             0.8888888888888888,
             "#fdca26"
            ],
            [
             1,
             "#f0f921"
            ]
           ]
          },
          "colorway": [
           "#636efa",
           "#EF553B",
           "#00cc96",
           "#ab63fa",
           "#FFA15A",
           "#19d3f3",
           "#FF6692",
           "#B6E880",
           "#FF97FF",
           "#FECB52"
          ],
          "font": {
           "color": "#2a3f5f"
          },
          "geo": {
           "bgcolor": "white",
           "lakecolor": "white",
           "landcolor": "#E5ECF6",
           "showlakes": true,
           "showland": true,
           "subunitcolor": "white"
          },
          "hoverlabel": {
           "align": "left"
          },
          "hovermode": "closest",
          "mapbox": {
           "style": "light"
          },
          "paper_bgcolor": "white",
          "plot_bgcolor": "#E5ECF6",
          "polar": {
           "angularaxis": {
            "gridcolor": "white",
            "linecolor": "white",
            "ticks": ""
           },
           "bgcolor": "#E5ECF6",
           "radialaxis": {
            "gridcolor": "white",
            "linecolor": "white",
            "ticks": ""
           }
          },
          "scene": {
           "xaxis": {
            "backgroundcolor": "#E5ECF6",
            "gridcolor": "white",
            "gridwidth": 2,
            "linecolor": "white",
            "showbackground": true,
            "ticks": "",
            "zerolinecolor": "white"
           },
           "yaxis": {
            "backgroundcolor": "#E5ECF6",
            "gridcolor": "white",
            "gridwidth": 2,
            "linecolor": "white",
            "showbackground": true,
            "ticks": "",
            "zerolinecolor": "white"
           },
           "zaxis": {
            "backgroundcolor": "#E5ECF6",
            "gridcolor": "white",
            "gridwidth": 2,
            "linecolor": "white",
            "showbackground": true,
            "ticks": "",
            "zerolinecolor": "white"
           }
          },
          "shapedefaults": {
           "line": {
            "color": "#2a3f5f"
           }
          },
          "ternary": {
           "aaxis": {
            "gridcolor": "white",
            "linecolor": "white",
            "ticks": ""
           },
           "baxis": {
            "gridcolor": "white",
            "linecolor": "white",
            "ticks": ""
           },
           "bgcolor": "#E5ECF6",
           "caxis": {
            "gridcolor": "white",
            "linecolor": "white",
            "ticks": ""
           }
          },
          "title": {
           "x": 0.05
          },
          "xaxis": {
           "automargin": true,
           "gridcolor": "white",
           "linecolor": "white",
           "ticks": "",
           "title": {
            "standoff": 15
           },
           "zerolinecolor": "white",
           "zerolinewidth": 2
          },
          "yaxis": {
           "automargin": true,
           "gridcolor": "white",
           "linecolor": "white",
           "ticks": "",
           "title": {
            "standoff": 15
           },
           "zerolinecolor": "white",
           "zerolinewidth": 2
          }
         }
        },
        "xaxis": {
         "anchor": "y",
         "domain": [
          0,
          0.45
         ],
         "title": {
          "text": "Iteration Number"
         }
        },
        "xaxis2": {
         "anchor": "y2",
         "domain": [
          0.55,
          1
         ],
         "range": [
          0,
          20
         ],
         "title": {
          "text": "Iteration Number"
         }
        },
        "yaxis": {
         "anchor": "x",
         "domain": [
          0,
          1
         ],
         "title": {
          "text": "$W$"
         }
        },
        "yaxis2": {
         "anchor": "x2",
         "domain": [
          0,
          1
         ],
         "range": [
          9000,
          12000
         ],
         "title": {
          "text": "$T_{rad}\\ [K]$"
         }
        }
       }
      },
      "text/html": [
       "<div>                            <div id=\"8bdc4bbb-a7f7-41bc-8e4d-5093a0013497\" class=\"plotly-graph-div\" style=\"height:525px; width:100%;\"></div>            <script type=\"text/javascript\">                require([\"plotly\"], function(Plotly) {                    window.PLOTLYENV=window.PLOTLYENV || {};                                    if (document.getElementById(\"8bdc4bbb-a7f7-41bc-8e4d-5093a0013497\")) {                    Plotly.newPlot(                        \"8bdc4bbb-a7f7-41bc-8e4d-5093a0013497\",                        [{\"type\": \"scatter\", \"xaxis\": \"x\", \"yaxis\": \"y\"}, {\"type\": \"scatter\", \"xaxis\": \"x2\", \"yaxis\": \"y2\"}],                        {\"template\": {\"data\": {\"bar\": [{\"error_x\": {\"color\": \"#2a3f5f\"}, \"error_y\": {\"color\": \"#2a3f5f\"}, \"marker\": {\"line\": {\"color\": \"#E5ECF6\", \"width\": 0.5}}, \"type\": \"bar\"}], \"barpolar\": [{\"marker\": {\"line\": {\"color\": \"#E5ECF6\", \"width\": 0.5}}, \"type\": \"barpolar\"}], \"carpet\": [{\"aaxis\": {\"endlinecolor\": \"#2a3f5f\", \"gridcolor\": \"white\", \"linecolor\": \"white\", \"minorgridcolor\": \"white\", \"startlinecolor\": \"#2a3f5f\"}, \"baxis\": {\"endlinecolor\": \"#2a3f5f\", \"gridcolor\": \"white\", \"linecolor\": \"white\", \"minorgridcolor\": \"white\", \"startlinecolor\": \"#2a3f5f\"}, \"type\": \"carpet\"}], \"choropleth\": [{\"colorbar\": {\"outlinewidth\": 0, \"ticks\": \"\"}, \"type\": \"choropleth\"}], \"contour\": [{\"colorbar\": {\"outlinewidth\": 0, \"ticks\": \"\"}, \"colorscale\": [[0.0, \"#0d0887\"], [0.1111111111111111, \"#46039f\"], [0.2222222222222222, \"#7201a8\"], [0.3333333333333333, \"#9c179e\"], [0.4444444444444444, \"#bd3786\"], [0.5555555555555556, \"#d8576b\"], [0.6666666666666666, \"#ed7953\"], [0.7777777777777778, \"#fb9f3a\"], [0.8888888888888888, \"#fdca26\"], [1.0, \"#f0f921\"]], \"type\": \"contour\"}], \"contourcarpet\": [{\"colorbar\": {\"outlinewidth\": 0, \"ticks\": \"\"}, \"type\": \"contourcarpet\"}], \"heatmap\": [{\"colorbar\": {\"outlinewidth\": 0, \"ticks\": \"\"}, \"colorscale\": [[0.0, \"#0d0887\"], [0.1111111111111111, \"#46039f\"], [0.2222222222222222, \"#7201a8\"], [0.3333333333333333, \"#9c179e\"], [0.4444444444444444, \"#bd3786\"], [0.5555555555555556, \"#d8576b\"], [0.6666666666666666, \"#ed7953\"], [0.7777777777777778, \"#fb9f3a\"], [0.8888888888888888, \"#fdca26\"], [1.0, \"#f0f921\"]], \"type\": \"heatmap\"}], \"heatmapgl\": [{\"colorbar\": {\"outlinewidth\": 0, \"ticks\": \"\"}, \"colorscale\": [[0.0, \"#0d0887\"], [0.1111111111111111, \"#46039f\"], [0.2222222222222222, \"#7201a8\"], [0.3333333333333333, \"#9c179e\"], [0.4444444444444444, \"#bd3786\"], [0.5555555555555556, \"#d8576b\"], [0.6666666666666666, \"#ed7953\"], [0.7777777777777778, \"#fb9f3a\"], [0.8888888888888888, \"#fdca26\"], [1.0, \"#f0f921\"]], \"type\": \"heatmapgl\"}], \"histogram\": [{\"marker\": {\"colorbar\": {\"outlinewidth\": 0, \"ticks\": \"\"}}, \"type\": \"histogram\"}], \"histogram2d\": [{\"colorbar\": {\"outlinewidth\": 0, \"ticks\": \"\"}, \"colorscale\": [[0.0, \"#0d0887\"], [0.1111111111111111, \"#46039f\"], [0.2222222222222222, \"#7201a8\"], [0.3333333333333333, \"#9c179e\"], [0.4444444444444444, \"#bd3786\"], [0.5555555555555556, \"#d8576b\"], [0.6666666666666666, \"#ed7953\"], [0.7777777777777778, \"#fb9f3a\"], [0.8888888888888888, \"#fdca26\"], [1.0, \"#f0f921\"]], \"type\": \"histogram2d\"}], \"histogram2dcontour\": [{\"colorbar\": {\"outlinewidth\": 0, \"ticks\": \"\"}, \"colorscale\": [[0.0, \"#0d0887\"], [0.1111111111111111, \"#46039f\"], [0.2222222222222222, \"#7201a8\"], [0.3333333333333333, \"#9c179e\"], [0.4444444444444444, \"#bd3786\"], [0.5555555555555556, \"#d8576b\"], [0.6666666666666666, \"#ed7953\"], [0.7777777777777778, \"#fb9f3a\"], [0.8888888888888888, \"#fdca26\"], [1.0, \"#f0f921\"]], \"type\": \"histogram2dcontour\"}], \"mesh3d\": [{\"colorbar\": {\"outlinewidth\": 0, \"ticks\": \"\"}, \"type\": \"mesh3d\"}], \"parcoords\": [{\"line\": {\"colorbar\": {\"outlinewidth\": 0, \"ticks\": \"\"}}, \"type\": \"parcoords\"}], \"pie\": [{\"automargin\": true, \"type\": \"pie\"}], \"scatter\": [{\"marker\": {\"colorbar\": {\"outlinewidth\": 0, \"ticks\": \"\"}}, \"type\": \"scatter\"}], \"scatter3d\": [{\"line\": {\"colorbar\": {\"outlinewidth\": 0, \"ticks\": \"\"}}, \"marker\": {\"colorbar\": {\"outlinewidth\": 0, \"ticks\": \"\"}}, \"type\": \"scatter3d\"}], \"scattercarpet\": [{\"marker\": {\"colorbar\": {\"outlinewidth\": 0, \"ticks\": \"\"}}, \"type\": \"scattercarpet\"}], \"scattergeo\": [{\"marker\": {\"colorbar\": {\"outlinewidth\": 0, \"ticks\": \"\"}}, \"type\": \"scattergeo\"}], \"scattergl\": [{\"marker\": {\"colorbar\": {\"outlinewidth\": 0, \"ticks\": \"\"}}, \"type\": \"scattergl\"}], \"scattermapbox\": [{\"marker\": {\"colorbar\": {\"outlinewidth\": 0, \"ticks\": \"\"}}, \"type\": \"scattermapbox\"}], \"scatterpolar\": [{\"marker\": {\"colorbar\": {\"outlinewidth\": 0, \"ticks\": \"\"}}, \"type\": \"scatterpolar\"}], \"scatterpolargl\": [{\"marker\": {\"colorbar\": {\"outlinewidth\": 0, \"ticks\": \"\"}}, \"type\": \"scatterpolargl\"}], \"scatterternary\": [{\"marker\": {\"colorbar\": {\"outlinewidth\": 0, \"ticks\": \"\"}}, \"type\": \"scatterternary\"}], \"surface\": [{\"colorbar\": {\"outlinewidth\": 0, \"ticks\": \"\"}, \"colorscale\": [[0.0, \"#0d0887\"], [0.1111111111111111, \"#46039f\"], [0.2222222222222222, \"#7201a8\"], [0.3333333333333333, \"#9c179e\"], [0.4444444444444444, \"#bd3786\"], [0.5555555555555556, \"#d8576b\"], [0.6666666666666666, \"#ed7953\"], [0.7777777777777778, \"#fb9f3a\"], [0.8888888888888888, \"#fdca26\"], [1.0, \"#f0f921\"]], \"type\": \"surface\"}], \"table\": [{\"cells\": {\"fill\": {\"color\": \"#EBF0F8\"}, \"line\": {\"color\": \"white\"}}, \"header\": {\"fill\": {\"color\": \"#C8D4E3\"}, \"line\": {\"color\": \"white\"}}, \"type\": \"table\"}]}, \"layout\": {\"annotationdefaults\": {\"arrowcolor\": \"#2a3f5f\", \"arrowhead\": 0, \"arrowwidth\": 1}, \"autotypenumbers\": \"strict\", \"coloraxis\": {\"colorbar\": {\"outlinewidth\": 0, \"ticks\": \"\"}}, \"colorscale\": {\"diverging\": [[0, \"#8e0152\"], [0.1, \"#c51b7d\"], [0.2, \"#de77ae\"], [0.3, \"#f1b6da\"], [0.4, \"#fde0ef\"], [0.5, \"#f7f7f7\"], [0.6, \"#e6f5d0\"], [0.7, \"#b8e186\"], [0.8, \"#7fbc41\"], [0.9, \"#4d9221\"], [1, \"#276419\"]], \"sequential\": [[0.0, \"#0d0887\"], [0.1111111111111111, \"#46039f\"], [0.2222222222222222, \"#7201a8\"], [0.3333333333333333, \"#9c179e\"], [0.4444444444444444, \"#bd3786\"], [0.5555555555555556, \"#d8576b\"], [0.6666666666666666, \"#ed7953\"], [0.7777777777777778, \"#fb9f3a\"], [0.8888888888888888, \"#fdca26\"], [1.0, \"#f0f921\"]], \"sequentialminus\": [[0.0, \"#0d0887\"], [0.1111111111111111, \"#46039f\"], [0.2222222222222222, \"#7201a8\"], [0.3333333333333333, \"#9c179e\"], [0.4444444444444444, \"#bd3786\"], [0.5555555555555556, \"#d8576b\"], [0.6666666666666666, \"#ed7953\"], [0.7777777777777778, \"#fb9f3a\"], [0.8888888888888888, \"#fdca26\"], [1.0, \"#f0f921\"]]}, \"colorway\": [\"#636efa\", \"#EF553B\", \"#00cc96\", \"#ab63fa\", \"#FFA15A\", \"#19d3f3\", \"#FF6692\", \"#B6E880\", \"#FF97FF\", \"#FECB52\"], \"font\": {\"color\": \"#2a3f5f\"}, \"geo\": {\"bgcolor\": \"white\", \"lakecolor\": \"white\", \"landcolor\": \"#E5ECF6\", \"showlakes\": true, \"showland\": true, \"subunitcolor\": \"white\"}, \"hoverlabel\": {\"align\": \"left\"}, \"hovermode\": \"closest\", \"mapbox\": {\"style\": \"light\"}, \"paper_bgcolor\": \"white\", \"plot_bgcolor\": \"#E5ECF6\", \"polar\": {\"angularaxis\": {\"gridcolor\": \"white\", \"linecolor\": \"white\", \"ticks\": \"\"}, \"bgcolor\": \"#E5ECF6\", \"radialaxis\": {\"gridcolor\": \"white\", \"linecolor\": \"white\", \"ticks\": \"\"}}, \"scene\": {\"xaxis\": {\"backgroundcolor\": \"#E5ECF6\", \"gridcolor\": \"white\", \"gridwidth\": 2, \"linecolor\": \"white\", \"showbackground\": true, \"ticks\": \"\", \"zerolinecolor\": \"white\"}, \"yaxis\": {\"backgroundcolor\": \"#E5ECF6\", \"gridcolor\": \"white\", \"gridwidth\": 2, \"linecolor\": \"white\", \"showbackground\": true, \"ticks\": \"\", \"zerolinecolor\": \"white\"}, \"zaxis\": {\"backgroundcolor\": \"#E5ECF6\", \"gridcolor\": \"white\", \"gridwidth\": 2, \"linecolor\": \"white\", \"showbackground\": true, \"ticks\": \"\", \"zerolinecolor\": \"white\"}}, \"shapedefaults\": {\"line\": {\"color\": \"#2a3f5f\"}}, \"ternary\": {\"aaxis\": {\"gridcolor\": \"white\", \"linecolor\": \"white\", \"ticks\": \"\"}, \"baxis\": {\"gridcolor\": \"white\", \"linecolor\": \"white\", \"ticks\": \"\"}, \"bgcolor\": \"#E5ECF6\", \"caxis\": {\"gridcolor\": \"white\", \"linecolor\": \"white\", \"ticks\": \"\"}}, \"title\": {\"x\": 0.05}, \"xaxis\": {\"automargin\": true, \"gridcolor\": \"white\", \"linecolor\": \"white\", \"ticks\": \"\", \"title\": {\"standoff\": 15}, \"zerolinecolor\": \"white\", \"zerolinewidth\": 2}, \"yaxis\": {\"automargin\": true, \"gridcolor\": \"white\", \"linecolor\": \"white\", \"ticks\": \"\", \"title\": {\"standoff\": 15}, \"zerolinecolor\": \"white\", \"zerolinewidth\": 2}}}, \"xaxis\": {\"anchor\": \"y\", \"domain\": [0.0, 0.45], \"title\": {\"text\": \"Iteration Number\"}}, \"xaxis2\": {\"anchor\": \"y2\", \"domain\": [0.55, 1.0], \"range\": [0, 20], \"title\": {\"text\": \"Iteration Number\"}}, \"yaxis\": {\"anchor\": \"x\", \"domain\": [0.0, 1.0], \"title\": {\"text\": \"$W$\"}}, \"yaxis2\": {\"anchor\": \"x2\", \"domain\": [0.0, 1.0], \"range\": [9000, 12000], \"title\": {\"text\": \"$T_{rad}\\\\ [K]$\"}}},                        {\"responsive\": true}                    ).then(function(){\n",
       "                            \n",
       "var gd = document.getElementById('8bdc4bbb-a7f7-41bc-8e4d-5093a0013497');\n",
       "var x = new MutationObserver(function (mutations, observer) {{\n",
       "        var display = window.getComputedStyle(gd).display;\n",
       "        if (!display || display === 'none') {{\n",
       "            console.log([gd, 'removed!']);\n",
       "            Plotly.purge(gd);\n",
       "            observer.disconnect();\n",
       "        }}\n",
       "}});\n",
       "\n",
       "// Listen for the removal of the full notebook cells\n",
       "var notebookContainer = gd.closest('#notebook-container');\n",
       "if (notebookContainer) {{\n",
       "    x.observe(notebookContainer, {childList: true});\n",
       "}}\n",
       "\n",
       "// Listen for the clearing of the current output cell\n",
       "var outputEl = gd.closest('.output');\n",
       "if (outputEl) {{\n",
       "    x.observe(outputEl, {childList: true});\n",
       "}}\n",
       "\n",
       "                        })                };                });            </script>        </div>"
      ]
     },
     "metadata": {},
     "output_type": "display_data"
    }
   ],
   "source": [
    "from plotly.subplots import make_subplots\n",
    "import plotly.graph_objects as go\n",
    "\n",
    "fig2 = make_subplots(rows=1, cols=2)\n",
    "# fig2 = go.FigureWidget()\n",
    "layout = go.Layout(\n",
    "    yaxis=dict(range=[-4,4],\n",
    "    title = go.layout.yaxis.Title(text='y Axis', font=dict(size=14, color='#7f7f7f')))\n",
    ")\n",
    "fig2.add_trace(go.Scatter(), row = 1, col =1)\n",
    "# fig2.data[0].x = list(range(0, 20))\n",
    "# fig2.update_yaxes(range=[9000, 12000])\n",
    "\n",
    "import plotly.graph_objects as go\n",
    "# fig = go.FigureWidget()\n",
    "fig2.add_trace(go.Scatter(), row = 1, col =2)\n",
    "# fig.data[0].x = list(range(0, 20))\n",
    "# fig2.update_yaxes(range=[9000, 12000])\n",
    "fig2.update_yaxes(title_text = r\"$T_{rad}\\ [K]$\",range=[9000, 12000], row = 1, col = 2)\n",
    "fig2.update_xaxes(title_text = \"Iteration Number\",range=[0, 20], row = 1, col = 2)\n",
    "fig2.update_yaxes(title_text = r\"$W$\",row = 1, col = 1)\n",
    "fig2.update_xaxes(title_text = \"Iteration Number\",row = 1, col = 1)\n",
    "fig2"
   ]
  },
  {
   "cell_type": "code",
   "execution_count": 4,
   "metadata": {},
   "outputs": [
    {
     "data": {
      "application/vnd.jupyter.widget-view+json": {
       "model_id": "4458071055574479baa09138a57ccb97",
       "version_major": 2,
       "version_minor": 0
      },
      "text/plain": [
       "FigureWidget({\n",
       "    'data': [{'type': 'scatter',\n",
       "              'uid': '02639cfc-8b03-459c-96a5-af155f606378',\n",
       " …"
      ]
     },
     "metadata": {},
     "output_type": "display_data"
    }
   ],
   "source": [
    "import plotly.graph_objects as go\n",
    "fig3 = go.FigureWidget()\n",
    "fig3.add_scatter(x = list(range(500, 20000))[0::200])\n",
    "# fig3.data[0].x = list(range(0, 20000))\n",
    "fig3.update_yaxes( title_text = r\"$Luminosity$\", range=[0, 7e39])\n",
    "fig3.update_xaxes( title_text = r\"$Wavelength$\")\n",
    "# fig3.update_xaxes(range=[500, 20000])\n",
    "# xlabel('Wavelength [$\\AA$]')\n",
    "# ylabel('Luminosity [erg/s/$\\AA$]')\n",
    "fig3"
   ]
  },
  {
   "cell_type": "markdown",
   "metadata": {},
   "source": [
    "The command `run_tardis` allows users to provide a set of callbacks to the simulation.  These callbacks are called at the end of each iteration.  This example will show you how to create a custom callback and run a model with TARDIS.  As an example, we create a custom callback that prints out some basic information about our model at every iteration.  Specifically, we'll print out a table of the inner velocities of each shell as well as the radiative temperature of each shell.  The first thing to note is that the callback function must have the simulation object as the first argument.  This grants the user access to the state of the simulation at each iteration."
   ]
  },
  {
   "cell_type": "code",
   "execution_count": 26,
   "metadata": {},
   "outputs": [],
   "source": [
    "# import plotly.graph_objects as go\n",
    "# # fig2 = go.FigureWidget()\n",
    "# # fig2.add_scatter(x = list(range(0, 20)))\n",
    "# # # fig2.data[0].x = list(range(0, 20))\n",
    "# # # fig2.update_yaxes(range=[9000, 12000])\n",
    "# # fig2.update_yaxes(title_text = r\"$W$\")\n",
    "# # fig2.update_xaxes(title_text = \"Iteration Number\")\n",
    "# # fig2.show()\n",
    "\n",
    "# fig = go.FigureWidget()\n",
    "# fig.add_scatter()\n",
    "# fig.data[0].x = list(range(0, 20))\n",
    "# # fig.update_yaxes(title_text = r\"$T_{rad}\\ [K]$\")\n",
    "# # fig.update_xaxes(title_text = \"Iteration Number\")\n",
    "\n",
    "# fig.show()"
   ]
  },
  {
   "cell_type": "code",
   "execution_count": null,
   "metadata": {},
   "outputs": [],
   "source": []
  },
  {
   "cell_type": "code",
   "execution_count": null,
   "metadata": {},
   "outputs": [],
   "source": []
  },
  {
   "cell_type": "code",
   "execution_count": null,
   "metadata": {},
   "outputs": [],
   "source": []
  },
  {
   "cell_type": "code",
   "execution_count": null,
   "metadata": {},
   "outputs": [],
   "source": []
  },
  {
   "cell_type": "code",
   "execution_count": null,
   "metadata": {},
   "outputs": [],
   "source": []
  },
  {
   "cell_type": "code",
   "execution_count": null,
   "metadata": {},
   "outputs": [],
   "source": []
  },
  {
   "cell_type": "code",
   "execution_count": 148,
   "metadata": {},
   "outputs": [],
   "source": [
    "import plotly.graph_objects as go\n",
    "fig2 = go.FigureWidget()\n",
    "for i in range(0, 21):\n",
    "    fig2.add_scatter(name = f\"Shell-{i}\", mode = \"lines\")\n",
    "\n",
    "# fig2.data[0].x = list(range(0, 20))\n",
    "# fig.update_yaxes(range=[9000, 12000])\n",
    "fig2 = fig2.update_yaxes(title_text = r\"$W$\")\n",
    "fig2 = fig2.update_xaxes(title_text = r\"$Iteration~~Number$\", range=[-1, 21], dtick = 1)\n",
    "# fig2 = fig2.update_layout(showlegend=False)\n",
    "\n",
    "\n"
   ]
  },
  {
   "cell_type": "code",
   "execution_count": 149,
   "metadata": {},
   "outputs": [],
   "source": [
    "import plotly.graph_objects as go\n",
    "fig = go.FigureWidget()\n",
    "fig.add_scatter()\n",
    "# fig.data[0].x = list(range(0, 20))\n",
    "fig = fig.update_yaxes(title_text = r\"$T_{rad}\\ [K]$\", range=[9000, 14000])\n",
    "fig = fig.update_xaxes(title_text = r\"$Shell~~Velocity$\", showexponent = 'all',exponentformat = 'e')\n",
    "fig = fig.update_layout(showlegend=False)"
   ]
  },
  {
   "cell_type": "code",
   "execution_count": 150,
   "metadata": {},
   "outputs": [
    {
     "data": {
      "application/vnd.jupyter.widget-view+json": {
       "model_id": "9c89071f027248548c7061ea6dda8356",
       "version_major": 2,
       "version_minor": 0
      },
      "text/plain": [
       "FigureWidget({\n",
       "    'data': [{'mode': 'lines', 'name': 'Shell-0', 'type': 'scatter', 'uid': '18fac529-f723-4312…"
      ]
     },
     "metadata": {},
     "output_type": "display_data"
    }
   ],
   "source": [
    "fig2"
   ]
  },
  {
   "cell_type": "code",
   "execution_count": 153,
   "metadata": {},
   "outputs": [
    {
     "data": {
      "application/vnd.jupyter.widget-view+json": {
       "model_id": "1a8d070db77e41f9807dd4848bcf3d9a",
       "version_major": 2,
       "version_minor": 0
      },
      "text/plain": [
       "FigureWidget({\n",
       "    'data': [{'type': 'scatter', 'uid': '13d5f1cb-95bf-466c-b7eb-b04c0d57a76f'}],\n",
       "    'layout':…"
      ]
     },
     "metadata": {},
     "output_type": "display_data"
    }
   ],
   "source": [
    "fig"
   ]
  },
  {
   "cell_type": "code",
   "execution_count": null,
   "metadata": {},
   "outputs": [],
   "source": []
  },
  {
   "cell_type": "code",
   "execution_count": 1,
   "metadata": {},
   "outputs": [],
   "source": [
    "from plotly.subplots import make_subplots\n",
    "import plotly.graph_objects as go\n",
    "\n",
    "fig_ = go.FigureWidget().set_subplots(2,1)\n",
    "\n",
    "for i in list(range(0, 21)):\n",
    "    fig_.add_scatter(name = f\"Shell-{i}\", mode = \"lines\", row=1, col=1)\n",
    "for i in list(range(0, 21)):\n",
    "    fig_.add_scatter(name = f\"Shell-{i}\", mode = \"lines\", row=2, col=1)\n",
    "\n",
    "\n",
    "fig_.add_scatter(row=2, col=1)\n",
    "fig_.add_scatter(row=1, col=1)\n",
    "\n",
    "fig_['layout']['yaxis']['title'] = r\"$W$\"\n",
    "fig_['layout']['yaxis2']['title'] = r\"$T_{rad}\\ [K]$\"\n",
    "fig_['layout']['xaxis']['title'] = r\"$Iteration~~Number$\"\n",
    "fig_['layout']['xaxis2']['title'] = r\"$Iteration~~Number$\"\n",
    "\n",
    "fig_['layout']['xaxis']['dtick'] = 1\n",
    "fig_['layout']['yaxis2']['range'] = [9000, 14000]\n",
    "fig_['layout']['xaxis']['range'] =  [-1, 21]\n",
    "fig_['layout']['xaxis2']['showexponent'] =  \"all\"\n",
    "\n",
    "\n",
    "fig_ = fig_.update_layout(height = 800)\n"
   ]
  },
  {
   "cell_type": "code",
   "execution_count": 33,
   "metadata": {},
   "outputs": [
    {
     "data": {
      "application/vnd.jupyter.widget-view+json": {
       "model_id": "ac5cff73872f4cbaa762f76898bd9a28",
       "version_major": 2,
       "version_minor": 0
      },
      "text/plain": [
       "FigureWidget({\n",
       "    'data': [{'type': 'scatter', 'uid': '0a19a1b2-c870-4914-a87b-59c86be885da', 'xaxis': 'x2', …"
      ]
     },
     "metadata": {},
     "output_type": "display_data"
    }
   ],
   "source": [
    "fig_"
   ]
  },
  {
   "cell_type": "code",
   "execution_count": 34,
   "metadata": {},
   "outputs": [],
   "source": [
    "# x = list(range(0, 10))\n",
    "# for ind in range(0, 3):\n",
    "#     fig_.add_scatter(x = x, y = [ind*item for item in x], row = 1, col = 1)\n",
    "#     fig_.add_scatter(x = x, y = [ind**2*(item) for item in x], row = 2, col = 1)\n",
    "    \n"
   ]
  },
  {
   "cell_type": "code",
   "execution_count": null,
   "metadata": {},
   "outputs": [],
   "source": []
  },
  {
   "cell_type": "code",
   "execution_count": 46,
   "metadata": {},
   "outputs": [],
   "source": [
    "i = 0\n",
    "iteration = 0\n",
    "from collections import defaultdict\n",
    "y_dict_w = defaultdict(list)\n",
    "y_dict_t_rad = defaultdict(list)\n"
   ]
  },
  {
   "cell_type": "code",
   "execution_count": 47,
   "metadata": {},
   "outputs": [],
   "source": [
    "\n",
    "def display_table(sim):\n",
    "    '''Display a table of velocities and \n",
    "    radiative temperatures at each iteration\n",
    "    '''\n",
    "    global i\n",
    "    global iteration\n",
    "    global y_dict_w\n",
    "    global y_dict_t_rad\n",
    "\n",
    "    \n",
    "#     fig_.add_scatter(x = sim.model.velocity.value.tolist(), y = sim.model.t_rad.value.tolist(), line_color = \"#0062ff\", row = 2, col = 1)\n",
    "\n",
    "    ####################\n",
    "#     fig2.add_scatter(x = sim.model.velocity.value.tolist(), y = sim.model.w.tolist(), line_color= \"#0062ff\")\n",
    "    ###################\n",
    "    \n",
    "    x = list(range(0, iteration+1))\n",
    "    print(\"this is x:\", x)\n",
    "#     w_list = sim.model.w.tolist()\n",
    "#     print(w_list)\n",
    "#     print(x, y)\n",
    "    iteration+=1\n",
    "    for ind in range(0, 20):\n",
    "        y_dict_w[f\"Shell-{ind}\"].append(sim.model.w.tolist()[ind])\n",
    "        y_dict_t_rad[f\"Shell-{ind}\"].append(sim.model.t_rad.value.tolist()[ind])\n",
    "        \n",
    "#     for ind in range(0, 20): \n",
    "#         fig_.add_scatter(x = x, y = y_dict_w[f\"Shell-{ind}\"], row = 1, col = 1)\n",
    "#         fig_.add_scatter(x = x, y = y_dict_t_rad[f\"Shell-{ind}\"], row = 2, col = 1)\n",
    "    \n",
    "    fig_.for_each_trace\n",
    "        \n",
    "        \n",
    "    \n",
    "\n"
   ]
  },
  {
   "cell_type": "code",
   "execution_count": 144,
   "metadata": {},
   "outputs": [],
   "source": [
    "\n",
    "def display_table(sim):\n",
    "    '''Display a table of velocities and \n",
    "    radiative temperatures at each iteration\n",
    "    '''\n",
    "    global i\n",
    "    global iteration\n",
    "    global y_dict\n",
    "    # We have direct access to the attributes of the simulation\n",
    "#     columns = zip(sim.model.v_inner[::5].to('km/s'), \n",
    "#                   sim.model.t_rad[::5].to('K'))\n",
    "#     print(\"Iteration:\", sim.iterations_executed)\n",
    "#     print(\"  {:<15}    {:<15}\".format('v_inner', 't_rad'))\n",
    "#     format_string = \"  {0.value:<8.2f} {0.unit:<6s}\\\n",
    "#     {1.value:<8.2f} {1.unit:<6s}\"\n",
    "#     for velocity, temperature in columns:\n",
    "#         print(format_string.format(velocity, temperature))\n",
    "#     print(sim.model.t_rad.value.tolist())\n",
    "    fig.add_scatter(x = sim.model.velocity.value.tolist(), y = sim.model.t_rad.value.tolist(), line_color = \"#0062ff\")\n",
    "#     fig.data[0].y = sim.model.t_rad.value.tolist()\n",
    "#     print(sim.model.t_rad.value.tolist())\n",
    "\n",
    "    ####################\n",
    "#     fig2.add_scatter(x = sim.model.velocity.value.tolist(), y = sim.model.w.tolist(), line_color= \"#0062ff\")\n",
    "    ###################\n",
    "    \n",
    "    x = list(range(0, iteration+1))\n",
    "    print(\"this is x:\", x)\n",
    "    w_list = sim.model.w.tolist()\n",
    "    print(w_list)\n",
    "    print(x, y)\n",
    "    iteration+=1\n",
    "    for ind in range(0, 20):\n",
    "        y_dict[f\"Shell-{ind}\"].append(sim.model.w.tolist()[ind])\n",
    "    \n",
    "    print(y_dict)\n",
    "    fig2.for_each_trace(lambda trace: trace.update(x = x, y = y_dict[trace.name]))\n",
    "#     fig2.data[0].y = sim.model.w.tolist()\n",
    "    \n",
    "#     sim.runner.spectrum.wavelength.value.tolist(),y = sim.runner.spectrum.luminosity_density_lambda.value.tolist()\n",
    "#     fig3.add_scatter(x = sim.runner.spectrum.wavelength.value.tolist()[0::200], y = sim.runner.spectrum.luminosity_density_lambda.value.tolist()[0::200], line_color=\"#0000ff\")\n",
    "#     fig.add_scatter(line_color = \"00ff00\")\n",
    "#     fig3.data[i].x = sim.runner.spectrum.wavelength.value.tolist()[0::200]\n",
    "#     fig3.data[i].y = sim.runner.spectrum.luminosity_density_lambda.value.tolist()[0::200]\n",
    "    \n",
    "    i = i+1\n",
    "    print(i)\n",
    "#     print(fig[\"data\"])\n",
    "    for i_ in list(range(1, i)):\n",
    "        fig['data'][i_]['line']['color']=\"#7dafff\"\n",
    "#         fig2['data'][i_]['line']['color']=\"#7dafff\"\n",
    "#         fig3['data'][i_]['line']['color']=\"#7dafff\"\n",
    "        \n",
    "#     i+=1\n",
    "#     fig3.data[0].y = sim.runner.spectrum.luminosity_density_lambda.value.tolist()\n",
    "    \n",
    "    \n"
   ]
  },
  {
   "cell_type": "markdown",
   "metadata": {},
   "source": [
    "Now we give the callback to `run_tardis`.  `run_tardis` offers the keyword argument `simulation_callbacks` which takes a list of lists containing the callback as well as any optional arguments you wish to include with your callback.  For this example our function requires no extra arguments and we only have a single callback, so we give `run_tardis` a 2D list containing the callback as its only element."
   ]
  },
  {
   "cell_type": "code",
   "execution_count": null,
   "metadata": {
    "scrolled": true
   },
   "outputs": [
    {
     "name": "stdout",
     "output_type": "stream",
     "text": [
      "  [ \u001b[1m\u001b[38;2;255;69;0mTARDIS INFO\u001b[0m\u001b[1m\u001b[0m ][ \u001b[1mtardis.plasma.standard_plasmas:assemble_plasma:86\u001b[0m ]- Reading Atomic Data from kurucz_cd23_chianti_H_He.h5\n",
      "  [ \u001b[1m\u001b[38;2;255;69;0mTARDIS INFO\u001b[0m\u001b[1m\u001b[0m ][ \u001b[1mtardis.io.atom_data.util:resolve_atom_data_fname:31\u001b[0m ]- Atom Data kurucz_cd23_chianti_H_He.h5 not found in local path. Exists in TARDIS Data repo /home/atharva/Downloads/tardis-data/kurucz_cd23_chianti_H_He.h5\n",
      "  [ \u001b[1m\u001b[38;2;255;69;0mTARDIS INFO\u001b[0m\u001b[1m\u001b[0m ][ \u001b[1mtardis.io.atom_data.base:from_hdf:169\u001b[0m ]- Read Atom Data with UUID=6f7b09e887a311e7a06b246e96350010 and MD5=864f1753714343c41f99cb065710cace.\n",
      "  [ \u001b[1m\u001b[38;2;255;69;0mTARDIS INFO\u001b[0m\u001b[1m\u001b[0m ][ \u001b[1mtardis.io.atom_data.base:from_hdf:175\u001b[0m ]- Non provided atomic data: synpp_refs, photoionization_data\n",
      "40000 100000 10\n",
      "  [ \u001b[1m\u001b[38;2;255;69;0mTARDIS INFO\u001b[0m\u001b[1m\u001b[0m ][ \u001b[1mtardis.simulation.base:iterate:324\u001b[0m ]- Starting iteration 1/20\n",
      "Running post-merge numba montecarlo (with C close lines)!\n",
      "  [ \u001b[1m\u001b[38;2;255;69;0mTARDIS INFO\u001b[0m\u001b[1m\u001b[0m ][ \u001b[1mtardis.simulation.base:log_run_results:457\u001b[0m ]- Luminosity emitted = 7.94372e+42 erg / s Luminosity absorbed = 2.65586e+42 erg / s Luminosity requested = 1.05928e+43 erg / s\n",
      "estimating emiitted luminosity#############\n",
      "[1.100e+09 1.145e+09 1.190e+09 1.235e+09 1.280e+09 1.325e+09 1.370e+09\n",
      " 1.415e+09 1.460e+09 1.505e+09 1.550e+09 1.595e+09 1.640e+09 1.685e+09\n",
      " 1.730e+09 1.775e+09 1.820e+09 1.865e+09 1.910e+09 1.955e+09 2.000e+09] cm / s\n",
      "in spectrum virtual############\n",
      "[0. 0. 0. ... 0. 0. 0.] erg Hz / Angstrom\n",
      "  [ \u001b[1m\u001b[38;2;255;69;0mTARDIS INFO\u001b[0m\u001b[1m\u001b[0m ][ \u001b[1mtardis.simulation.base:log_plasma_state:448\u001b[0m ]- Plasma stratification:\n",
      "  [ \u001b[1m\u001b[38;2;255;69;0mTARDIS INFO\u001b[0m\u001b[1m\u001b[0m ][ \u001b[1mtardis.simulation.base:log_plasma_state:449\u001b[0m ]- \n",
      "\t             t_rad    next_t_rad         w    next_w\n",
      "\tShell                                               \n",
      "\t0      9926.501965  10234.534631  0.400392  0.486861\n",
      "\t5      9852.611678  10401.218303  0.211205  0.186539\n",
      "\t10     9779.813302  10148.422950  0.142695  0.117259\n",
      "\t15     9708.082813   9911.258256  0.104556  0.086034\n",
      "\n",
      "  [ \u001b[1m\u001b[38;2;255;69;0mTARDIS INFO\u001b[0m\u001b[1m\u001b[0m ][ \u001b[1mtardis.simulation.base:log_plasma_state:450\u001b[0m ]- t_inner 9933.952 K -- next t_inner 11471.355 K\n",
      "this is x: [0]\n",
      "40000 100000 10\n",
      "  [ \u001b[1m\u001b[38;2;255;69;0mTARDIS INFO\u001b[0m\u001b[1m\u001b[0m ][ \u001b[1mtardis.simulation.base:iterate:324\u001b[0m ]- Starting iteration 2/20\n",
      "Running post-merge numba montecarlo (with C close lines)!\n",
      "  [ \u001b[1m\u001b[38;2;255;69;0mTARDIS INFO\u001b[0m\u001b[1m\u001b[0m ][ \u001b[1mtardis.simulation.base:log_run_results:457\u001b[0m ]- Luminosity emitted = 1.40660e+43 erg / s Luminosity absorbed = 4.77339e+42 erg / s Luminosity requested = 1.05928e+43 erg / s\n",
      "estimating emiitted luminosity#############\n",
      "[1.100e+09 1.145e+09 1.190e+09 1.235e+09 1.280e+09 1.325e+09 1.370e+09\n",
      " 1.415e+09 1.460e+09 1.505e+09 1.550e+09 1.595e+09 1.640e+09 1.685e+09\n",
      " 1.730e+09 1.775e+09 1.820e+09 1.865e+09 1.910e+09 1.955e+09 2.000e+09] cm / s\n",
      "in spectrum virtual############\n",
      "[0. 0. 0. ... 0. 0. 0.] erg Hz / Angstrom\n",
      "  [ \u001b[1m\u001b[38;2;255;69;0mTARDIS INFO\u001b[0m\u001b[1m\u001b[0m ][ \u001b[1mtardis.simulation.base:log_plasma_state:448\u001b[0m ]- Plasma stratification:\n",
      "  [ \u001b[1m\u001b[38;2;255;69;0mTARDIS INFO\u001b[0m\u001b[1m\u001b[0m ][ \u001b[1mtardis.simulation.base:log_plasma_state:449\u001b[0m ]- \n",
      "\t              t_rad    next_t_rad         w    next_w\n",
      "\tShell                                                \n",
      "\t0      10234.534631  11577.091657  0.486861  0.526516\n",
      "\t5      10401.218303  11648.833055  0.186539  0.212695\n",
      "\t10     10148.422950  11452.504171  0.117259  0.130375\n",
      "\t15      9911.258256  11083.822224  0.086034  0.098502\n",
      "\n",
      "  [ \u001b[1m\u001b[38;2;255;69;0mTARDIS INFO\u001b[0m\u001b[1m\u001b[0m ][ \u001b[1mtardis.simulation.base:log_plasma_state:450\u001b[0m ]- t_inner 11471.355 K -- next t_inner 9954.843 K\n",
      "this is x: [0, 1]\n",
      "40000 100000 10\n",
      "  [ \u001b[1m\u001b[38;2;255;69;0mTARDIS INFO\u001b[0m\u001b[1m\u001b[0m ][ \u001b[1mtardis.simulation.base:iterate:324\u001b[0m ]- Starting iteration 3/20\n",
      "Running post-merge numba montecarlo (with C close lines)!\n",
      "  [ \u001b[1m\u001b[38;2;255;69;0mTARDIS INFO\u001b[0m\u001b[1m\u001b[0m ][ \u001b[1mtardis.simulation.base:log_run_results:457\u001b[0m ]- Luminosity emitted = 8.12685e+42 erg / s Luminosity absorbed = 2.56684e+42 erg / s Luminosity requested = 1.05928e+43 erg / s\n",
      "estimating emiitted luminosity#############\n",
      "[1.100e+09 1.145e+09 1.190e+09 1.235e+09 1.280e+09 1.325e+09 1.370e+09\n",
      " 1.415e+09 1.460e+09 1.505e+09 1.550e+09 1.595e+09 1.640e+09 1.685e+09\n",
      " 1.730e+09 1.775e+09 1.820e+09 1.865e+09 1.910e+09 1.955e+09 2.000e+09] cm / s\n",
      "in spectrum virtual############\n",
      "[0. 0. 0. ... 0. 0. 0.] erg Hz / Angstrom\n",
      "  [ \u001b[1m\u001b[38;2;255;69;0mTARDIS INFO\u001b[0m\u001b[1m\u001b[0m ][ \u001b[1mtardis.simulation.base:log_plasma_state:448\u001b[0m ]- Plasma stratification:\n",
      "  [ \u001b[1m\u001b[38;2;255;69;0mTARDIS INFO\u001b[0m\u001b[1m\u001b[0m ][ \u001b[1mtardis.simulation.base:log_plasma_state:449\u001b[0m ]- \n",
      "\t              t_rad    next_t_rad         w    next_w\n",
      "\tShell                                                \n",
      "\t0      11577.091657  10451.091687  0.526516  0.451178\n",
      "\t5      11648.833055  10729.481057  0.212695  0.167020\n",
      "\t10     11452.504171  10579.238055  0.130375  0.102445\n",
      "\t15     11083.822224  10210.807299  0.098502  0.078224\n",
      "\n",
      "  [ \u001b[1m\u001b[38;2;255;69;0mTARDIS INFO\u001b[0m\u001b[1m\u001b[0m ][ \u001b[1mtardis.simulation.base:log_plasma_state:450\u001b[0m ]- t_inner 9954.843 K -- next t_inner 11365.225 K\n",
      "this is x: [0, 1, 2]\n",
      "40000 100000 10\n",
      "  [ \u001b[1m\u001b[38;2;255;69;0mTARDIS INFO\u001b[0m\u001b[1m\u001b[0m ][ \u001b[1mtardis.simulation.base:iterate:324\u001b[0m ]- Starting iteration 4/20\n",
      "Running post-merge numba montecarlo (with C close lines)!\n",
      "  [ \u001b[1m\u001b[38;2;255;69;0mTARDIS INFO\u001b[0m\u001b[1m\u001b[0m ][ \u001b[1mtardis.simulation.base:log_run_results:457\u001b[0m ]- Luminosity emitted = 1.35858e+43 erg / s Luminosity absorbed = 4.57084e+42 erg / s Luminosity requested = 1.05928e+43 erg / s\n",
      "estimating emiitted luminosity#############\n",
      "[1.100e+09 1.145e+09 1.190e+09 1.235e+09 1.280e+09 1.325e+09 1.370e+09\n",
      " 1.415e+09 1.460e+09 1.505e+09 1.550e+09 1.595e+09 1.640e+09 1.685e+09\n",
      " 1.730e+09 1.775e+09 1.820e+09 1.865e+09 1.910e+09 1.955e+09 2.000e+09] cm / s\n",
      "in spectrum virtual############\n",
      "[0. 0. 0. ... 0. 0. 0.] erg Hz / Angstrom\n",
      "  [ \u001b[1m\u001b[38;2;255;69;0mTARDIS INFO\u001b[0m\u001b[1m\u001b[0m ][ \u001b[1mtardis.simulation.base:log_plasma_state:448\u001b[0m ]- Plasma stratification:\n",
      "  [ \u001b[1m\u001b[38;2;255;69;0mTARDIS INFO\u001b[0m\u001b[1m\u001b[0m ][ \u001b[1mtardis.simulation.base:log_plasma_state:449\u001b[0m ]- \n",
      "\t              t_rad    next_t_rad         w    next_w\n",
      "\tShell                                                \n",
      "\t0      10451.091687  11540.636538  0.451178  0.516763\n",
      "\t5      10729.481057  11721.110660  0.167020  0.199257\n",
      "\t10     10579.238055  11358.759121  0.102445  0.129570\n",
      "\t15     10210.807299  11097.323016  0.078224  0.093997\n",
      "\n",
      "  [ \u001b[1m\u001b[38;2;255;69;0mTARDIS INFO\u001b[0m\u001b[1m\u001b[0m ][ \u001b[1mtardis.simulation.base:log_plasma_state:450\u001b[0m ]- t_inner 11365.225 K -- next t_inner 10035.543 K\n",
      "this is x: [0, 1, 2, 3]\n",
      "40000 100000 10\n",
      "  [ \u001b[1m\u001b[38;2;255;69;0mTARDIS INFO\u001b[0m\u001b[1m\u001b[0m ][ \u001b[1mtardis.simulation.base:iterate:324\u001b[0m ]- Starting iteration 5/20\n",
      "Running post-merge numba montecarlo (with C close lines)!\n",
      "  [ \u001b[1m\u001b[38;2;255;69;0mTARDIS INFO\u001b[0m\u001b[1m\u001b[0m ][ \u001b[1mtardis.simulation.base:log_run_results:457\u001b[0m ]- Luminosity emitted = 8.37008e+42 erg / s Luminosity absorbed = 2.67328e+42 erg / s Luminosity requested = 1.05928e+43 erg / s\n",
      "estimating emiitted luminosity#############\n",
      "[1.100e+09 1.145e+09 1.190e+09 1.235e+09 1.280e+09 1.325e+09 1.370e+09\n",
      " 1.415e+09 1.460e+09 1.505e+09 1.550e+09 1.595e+09 1.640e+09 1.685e+09\n",
      " 1.730e+09 1.775e+09 1.820e+09 1.865e+09 1.910e+09 1.955e+09 2.000e+09] cm / s\n",
      "in spectrum virtual############\n",
      "[0. 0. 0. ... 0. 0. 0.] erg Hz / Angstrom\n",
      "  [ \u001b[1m\u001b[38;2;255;69;0mTARDIS INFO\u001b[0m\u001b[1m\u001b[0m ][ \u001b[1mtardis.simulation.base:log_plasma_state:448\u001b[0m ]- Plasma stratification:\n",
      "  [ \u001b[1m\u001b[38;2;255;69;0mTARDIS INFO\u001b[0m\u001b[1m\u001b[0m ][ \u001b[1mtardis.simulation.base:log_plasma_state:449\u001b[0m ]- \n",
      "\t              t_rad    next_t_rad         w    next_w\n",
      "\tShell                                                \n",
      "\t0      11540.636538  10647.237108  0.516763  0.428207\n",
      "\t5      11721.110660  10986.387590  0.199257  0.160533\n",
      "\t10     11358.759121  10846.534381  0.129570  0.096126\n",
      "\t15     11097.323016  10411.061986  0.093997  0.074727\n",
      "\n",
      "  [ \u001b[1m\u001b[38;2;255;69;0mTARDIS INFO\u001b[0m\u001b[1m\u001b[0m ][ \u001b[1mtardis.simulation.base:log_plasma_state:450\u001b[0m ]- t_inner 10035.543 K -- next t_inner 11289.658 K\n"
     ]
    },
    {
     "name": "stdout",
     "output_type": "stream",
     "text": [
      "this is x: [0, 1, 2, 3, 4]\n",
      "40000 100000 10\n",
      "  [ \u001b[1m\u001b[38;2;255;69;0mTARDIS INFO\u001b[0m\u001b[1m\u001b[0m ][ \u001b[1mtardis.simulation.base:iterate:324\u001b[0m ]- Starting iteration 6/20\n",
      "Running post-merge numba montecarlo (with C close lines)!\n",
      "  [ \u001b[1m\u001b[38;2;255;69;0mTARDIS INFO\u001b[0m\u001b[1m\u001b[0m ][ \u001b[1mtardis.simulation.base:log_run_results:457\u001b[0m ]- Luminosity emitted = 1.33990e+43 erg / s Luminosity absorbed = 4.28467e+42 erg / s Luminosity requested = 1.05928e+43 erg / s\n",
      "estimating emiitted luminosity#############\n",
      "[1.100e+09 1.145e+09 1.190e+09 1.235e+09 1.280e+09 1.325e+09 1.370e+09\n",
      " 1.415e+09 1.460e+09 1.505e+09 1.550e+09 1.595e+09 1.640e+09 1.685e+09\n",
      " 1.730e+09 1.775e+09 1.820e+09 1.865e+09 1.910e+09 1.955e+09 2.000e+09] cm / s\n",
      "in spectrum virtual############\n",
      "[0. 0. 0. ... 0. 0. 0.] erg Hz / Angstrom\n",
      "  [ \u001b[1m\u001b[38;2;255;69;0mTARDIS INFO\u001b[0m\u001b[1m\u001b[0m ][ \u001b[1mtardis.simulation.base:log_plasma_state:448\u001b[0m ]- Plasma stratification:\n",
      "  [ \u001b[1m\u001b[38;2;255;69;0mTARDIS INFO\u001b[0m\u001b[1m\u001b[0m ][ \u001b[1mtardis.simulation.base:log_plasma_state:449\u001b[0m ]- \n",
      "\t              t_rad    next_t_rad         w    next_w\n",
      "\tShell                                                \n",
      "\t0      10647.237108  11497.326010  0.428207  0.511600\n",
      "\t5      10986.387590  11631.929906  0.160533  0.202732\n",
      "\t10     10846.534381  11423.667882  0.096126  0.125585\n",
      "\t15     10411.061986  11038.764846  0.074727  0.094750\n",
      "\n",
      "  [ \u001b[1m\u001b[38;2;255;69;0mTARDIS INFO\u001b[0m\u001b[1m\u001b[0m ][ \u001b[1mtardis.simulation.base:log_plasma_state:450\u001b[0m ]- t_inner 11289.658 K -- next t_inner 10038.039 K\n",
      "this is x: [0, 1, 2, 3, 4, 5]\n",
      "40000 100000 10\n",
      "  [ \u001b[1m\u001b[38;2;255;69;0mTARDIS INFO\u001b[0m\u001b[1m\u001b[0m ][ \u001b[1mtardis.simulation.base:iterate:324\u001b[0m ]- Starting iteration 7/20\n",
      "Running post-merge numba montecarlo (with C close lines)!\n",
      "  [ \u001b[1m\u001b[38;2;255;69;0mTARDIS INFO\u001b[0m\u001b[1m\u001b[0m ][ \u001b[1mtardis.simulation.base:log_run_results:457\u001b[0m ]- Luminosity emitted = 8.36871e+42 erg / s Luminosity absorbed = 2.68210e+42 erg / s Luminosity requested = 1.05928e+43 erg / s\n",
      "estimating emiitted luminosity#############\n",
      "[1.100e+09 1.145e+09 1.190e+09 1.235e+09 1.280e+09 1.325e+09 1.370e+09\n",
      " 1.415e+09 1.460e+09 1.505e+09 1.550e+09 1.595e+09 1.640e+09 1.685e+09\n",
      " 1.730e+09 1.775e+09 1.820e+09 1.865e+09 1.910e+09 1.955e+09 2.000e+09] cm / s\n",
      "in spectrum virtual############\n",
      "[0. 0. 0. ... 0. 0. 0.] erg Hz / Angstrom\n",
      "  [ \u001b[1m\u001b[38;2;255;69;0mTARDIS INFO\u001b[0m\u001b[1m\u001b[0m ][ \u001b[1mtardis.simulation.base:log_plasma_state:448\u001b[0m ]- Plasma stratification:\n",
      "  [ \u001b[1m\u001b[38;2;255;69;0mTARDIS INFO\u001b[0m\u001b[1m\u001b[0m ][ \u001b[1mtardis.simulation.base:log_plasma_state:449\u001b[0m ]- \n",
      "\t              t_rad    next_t_rad         w    next_w\n",
      "\tShell                                                \n",
      "\t0      11497.326010  10507.340350  0.511600  0.454510\n",
      "\t5      11631.929906  10904.738732  0.202732  0.164149\n",
      "\t10     11423.667882  10781.197617  0.125585  0.099855\n",
      "\t15     11038.764846  10335.547248  0.094750  0.077091\n",
      "\n",
      "  [ \u001b[1m\u001b[38;2;255;69;0mTARDIS INFO\u001b[0m\u001b[1m\u001b[0m ][ \u001b[1mtardis.simulation.base:log_plasma_state:450\u001b[0m ]- t_inner 10038.039 K -- next t_inner 11293.387 K\n"
     ]
    }
   ],
   "source": [
    "sim = run_tardis('tardis_example.yml', \n",
    "                 simulation_callbacks=[[display_table]])"
   ]
  },
  {
   "cell_type": "markdown",
   "metadata": {},
   "source": [
    "## Running Callbacks with Extra Arguments\n",
    "\n",
    "The callbacks provided to `run_tardis` can also take extra arguments.  As an example, we'll make a callback that appends the value of the radiative temperature at each iteration to a list so we can watch how the model converges.  The callback will take a list we want to append to as an argument.  We'll send both this new callback and our original `display_table` callback to `run_tardis` as an example of using multiple callbacks at once."
   ]
  },
  {
   "cell_type": "code",
   "execution_count": null,
   "metadata": {},
   "outputs": [],
   "source": [
    "def append_t_rad_to_table(sim, table):\n",
    "    '''append the array for the radiative temperature\n",
    "    at each iteration to a given table'''\n",
    "    \n",
    "    table.append(sim.model.t_rad.copy())"
   ]
  },
  {
   "cell_type": "markdown",
   "metadata": {},
   "source": [
    "In order to add our new callback, we just create another entry in our list of callbacks.  Since `append_t_rad_to_table` takes an extra argument, we will provide that argument in the inner list containing the callback."
   ]
  },
  {
   "cell_type": "code",
   "execution_count": 8,
   "metadata": {
    "scrolled": true
   },
   "outputs": [
    {
     "name": "stdout",
     "output_type": "stream",
     "text": [
      "  [ \u001b[1m\u001b[38;2;255;69;0mTARDIS INFO\u001b[0m\u001b[1m\u001b[0m ][ \u001b[1mtardis.plasma.standard_plasmas:assemble_plasma:86\u001b[0m ]- Reading Atomic Data from kurucz_cd23_chianti_H_He.h5\n",
      "  [ \u001b[1m\u001b[38;2;255;69;0mTARDIS INFO\u001b[0m\u001b[1m\u001b[0m ][ \u001b[1mtardis.io.atom_data.util:resolve_atom_data_fname:31\u001b[0m ]- Atom Data kurucz_cd23_chianti_H_He.h5 not found in local path. Exists in TARDIS Data repo /home/atharva/Downloads/tardis-data/kurucz_cd23_chianti_H_He.h5\n",
      "  [ \u001b[1m\u001b[38;2;255;69;0mTARDIS INFO\u001b[0m\u001b[1m\u001b[0m ][ \u001b[1mtardis.io.atom_data.base:from_hdf:169\u001b[0m ]- Read Atom Data with UUID=6f7b09e887a311e7a06b246e96350010 and MD5=864f1753714343c41f99cb065710cace.\n",
      "  [ \u001b[1m\u001b[38;2;255;69;0mTARDIS INFO\u001b[0m\u001b[1m\u001b[0m ][ \u001b[1mtardis.io.atom_data.base:from_hdf:175\u001b[0m ]- Non provided atomic data: synpp_refs, photoionization_data\n",
      "  [ \u001b[1m\u001b[38;2;255;69;0mTARDIS INFO\u001b[0m\u001b[1m\u001b[0m ][ \u001b[1mtardis.simulation.base:iterate:324\u001b[0m ]- Starting iteration 1/20\n",
      "Running post-merge numba montecarlo (with C close lines)!\n",
      "  [ \u001b[1m\u001b[38;2;255;69;0mTARDIS INFO\u001b[0m\u001b[1m\u001b[0m ][ \u001b[1mtardis.simulation.base:log_run_results:447\u001b[0m ]- Luminosity emitted = 7.94275e+42 erg / s Luminosity absorbed = 2.65805e+42 erg / s Luminosity requested = 1.05928e+43 erg / s\n",
      "estimating emiitted luminosity#############\n",
      "  [ \u001b[1m\u001b[38;2;255;69;0mTARDIS INFO\u001b[0m\u001b[1m\u001b[0m ][ \u001b[1mtardis.simulation.base:log_plasma_state:438\u001b[0m ]- Plasma stratification:\n",
      "  [ \u001b[1m\u001b[38;2;255;69;0mTARDIS INFO\u001b[0m\u001b[1m\u001b[0m ][ \u001b[1mtardis.simulation.base:log_plasma_state:439\u001b[0m ]- \n",
      "\t             t_rad    next_t_rad         w    next_w\n",
      "\tShell                                               \n",
      "\t0      9926.501965  10134.733717  0.400392  0.508204\n",
      "\t5      9852.611678  10222.890845  0.211205  0.197026\n",
      "\t10     9779.813302  10144.463169  0.142695  0.117179\n",
      "\t15     9708.082813   9873.477846  0.104556  0.086941\n",
      "\n",
      "  [ \u001b[1m\u001b[38;2;255;69;0mTARDIS INFO\u001b[0m\u001b[1m\u001b[0m ][ \u001b[1mtardis.simulation.base:log_plasma_state:440\u001b[0m ]- t_inner 9933.952 K -- next t_inner 11472.055 K\n",
      "Iteration: 1\n",
      "  v_inner            t_rad          \n",
      "  11000.00 km / s    10134.73 K     \n",
      "  13250.00 km / s    10222.89 K     \n",
      "  15500.00 km / s    10144.46 K     \n",
      "  17750.00 km / s    9873.48  K     \n",
      "  [ \u001b[1m\u001b[38;2;255;69;0mTARDIS INFO\u001b[0m\u001b[1m\u001b[0m ][ \u001b[1mtardis.simulation.base:iterate:324\u001b[0m ]- Starting iteration 2/20\n",
      "Running post-merge numba montecarlo (with C close lines)!\n",
      "  [ \u001b[1m\u001b[38;2;255;69;0mTARDIS INFO\u001b[0m\u001b[1m\u001b[0m ][ \u001b[1mtardis.simulation.base:log_run_results:447\u001b[0m ]- Luminosity emitted = 1.40815e+43 erg / s Luminosity absorbed = 4.77001e+42 erg / s Luminosity requested = 1.05928e+43 erg / s\n",
      "estimating emiitted luminosity#############\n",
      "  [ \u001b[1m\u001b[38;2;255;69;0mTARDIS INFO\u001b[0m\u001b[1m\u001b[0m ][ \u001b[1mtardis.simulation.base:log_plasma_state:438\u001b[0m ]- Plasma stratification:\n",
      "  [ \u001b[1m\u001b[38;2;255;69;0mTARDIS INFO\u001b[0m\u001b[1m\u001b[0m ][ \u001b[1mtardis.simulation.base:log_plasma_state:439\u001b[0m ]- \n",
      "\t              t_rad    next_t_rad         w    next_w\n",
      "\tShell                                                \n",
      "\t0      10134.733717  11468.021903  0.508204  0.548671\n",
      "\t5      10222.890845  11499.835340  0.197026  0.221374\n",
      "\t10     10144.463169  11306.370330  0.117179  0.136291\n",
      "\t15      9873.477846  10953.828130  0.086941  0.102617\n",
      "\n",
      "  [ \u001b[1m\u001b[38;2;255;69;0mTARDIS INFO\u001b[0m\u001b[1m\u001b[0m ][ \u001b[1mtardis.simulation.base:log_plasma_state:440\u001b[0m ]- t_inner 11472.055 K -- next t_inner 9949.978 K\n",
      "Iteration: 2\n",
      "  v_inner            t_rad          \n",
      "  11000.00 km / s    11468.02 K     \n",
      "  13250.00 km / s    11499.84 K     \n",
      "  15500.00 km / s    11306.37 K     \n",
      "  17750.00 km / s    10953.83 K     \n",
      "  [ \u001b[1m\u001b[38;2;255;69;0mTARDIS INFO\u001b[0m\u001b[1m\u001b[0m ][ \u001b[1mtardis.simulation.base:iterate:324\u001b[0m ]- Starting iteration 3/20\n",
      "Running post-merge numba montecarlo (with C close lines)!\n",
      "  [ \u001b[1m\u001b[38;2;255;69;0mTARDIS INFO\u001b[0m\u001b[1m\u001b[0m ][ \u001b[1mtardis.simulation.base:log_run_results:447\u001b[0m ]- Luminosity emitted = 8.12624e+42 erg / s Luminosity absorbed = 2.54722e+42 erg / s Luminosity requested = 1.05928e+43 erg / s\n",
      "estimating emiitted luminosity#############\n",
      "  [ \u001b[1m\u001b[38;2;255;69;0mTARDIS INFO\u001b[0m\u001b[1m\u001b[0m ][ \u001b[1mtardis.simulation.base:log_plasma_state:438\u001b[0m ]- Plasma stratification:\n",
      "  [ \u001b[1m\u001b[38;2;255;69;0mTARDIS INFO\u001b[0m\u001b[1m\u001b[0m ][ \u001b[1mtardis.simulation.base:log_plasma_state:439\u001b[0m ]- \n",
      "\t              t_rad    next_t_rad         w    next_w\n",
      "\tShell                                                \n",
      "\t0      11468.021903  10497.008397  0.548671  0.442299\n",
      "\t5      11499.835340  10799.075913  0.221374  0.164288\n",
      "\t10     11306.370330  10623.433274  0.136291  0.101820\n",
      "\t15     10953.828130  10226.187071  0.102617  0.077629\n",
      "\n",
      "  [ \u001b[1m\u001b[38;2;255;69;0mTARDIS INFO\u001b[0m\u001b[1m\u001b[0m ][ \u001b[1mtardis.simulation.base:log_plasma_state:440\u001b[0m ]- t_inner 9949.978 K -- next t_inner 11360.097 K\n",
      "Iteration: 3\n",
      "  v_inner            t_rad          \n",
      "  11000.00 km / s    10497.01 K     \n",
      "  13250.00 km / s    10799.08 K     \n",
      "  15500.00 km / s    10623.43 K     \n",
      "  17750.00 km / s    10226.19 K     \n",
      "  [ \u001b[1m\u001b[38;2;255;69;0mTARDIS INFO\u001b[0m\u001b[1m\u001b[0m ][ \u001b[1mtardis.simulation.base:iterate:324\u001b[0m ]- Starting iteration 4/20\n",
      "Running post-merge numba montecarlo (with C close lines)!\n",
      "  [ \u001b[1m\u001b[38;2;255;69;0mTARDIS INFO\u001b[0m\u001b[1m\u001b[0m ][ \u001b[1mtardis.simulation.base:log_run_results:447\u001b[0m ]- Luminosity emitted = 1.36297e+43 erg / s Luminosity absorbed = 4.49721e+42 erg / s Luminosity requested = 1.05928e+43 erg / s\n",
      "estimating emiitted luminosity#############\n",
      "  [ \u001b[1m\u001b[38;2;255;69;0mTARDIS INFO\u001b[0m\u001b[1m\u001b[0m ][ \u001b[1mtardis.simulation.base:log_plasma_state:438\u001b[0m ]- Plasma stratification:\n",
      "  [ \u001b[1m\u001b[38;2;255;69;0mTARDIS INFO\u001b[0m\u001b[1m\u001b[0m ][ \u001b[1mtardis.simulation.base:log_plasma_state:439\u001b[0m ]- \n",
      "\t              t_rad    next_t_rad         w    next_w\n",
      "\tShell                                                \n",
      "\t0      10497.008397  11615.344313  0.442299  0.497714\n",
      "\t5      10799.075913  11729.411389  0.164288  0.199205\n",
      "\t10     10623.433274  11517.190317  0.101820  0.123849\n",
      "\t15     10226.187071  11103.373456  0.077629  0.093930\n",
      "\n",
      "  [ \u001b[1m\u001b[38;2;255;69;0mTARDIS INFO\u001b[0m\u001b[1m\u001b[0m ][ \u001b[1mtardis.simulation.base:log_plasma_state:440\u001b[0m ]- t_inner 11360.097 K -- next t_inner 10014.843 K\n",
      "Iteration: 4\n",
      "  v_inner            t_rad          \n",
      "  11000.00 km / s    11615.34 K     \n",
      "  13250.00 km / s    11729.41 K     \n",
      "  15500.00 km / s    11517.19 K     \n",
      "  17750.00 km / s    11103.37 K     \n",
      "  [ \u001b[1m\u001b[38;2;255;69;0mTARDIS INFO\u001b[0m\u001b[1m\u001b[0m ][ \u001b[1mtardis.simulation.base:iterate:324\u001b[0m ]- Starting iteration 5/20\n",
      "Running post-merge numba montecarlo (with C close lines)!\n",
      "  [ \u001b[1m\u001b[38;2;255;69;0mTARDIS INFO\u001b[0m\u001b[1m\u001b[0m ][ \u001b[1mtardis.simulation.base:log_run_results:447\u001b[0m ]- Luminosity emitted = 8.27895e+42 erg / s Luminosity absorbed = 2.66933e+42 erg / s Luminosity requested = 1.05928e+43 erg / s\n",
      "estimating emiitted luminosity#############\n",
      "  [ \u001b[1m\u001b[38;2;255;69;0mTARDIS INFO\u001b[0m\u001b[1m\u001b[0m ][ \u001b[1mtardis.simulation.base:log_plasma_state:438\u001b[0m ]- Plasma stratification:\n",
      "  [ \u001b[1m\u001b[38;2;255;69;0mTARDIS INFO\u001b[0m\u001b[1m\u001b[0m ][ \u001b[1mtardis.simulation.base:log_plasma_state:439\u001b[0m ]- \n",
      "\t              t_rad    next_t_rad         w    next_w\n",
      "\tShell                                                \n",
      "\t0      11615.344313  10549.514128  0.497714  0.443441\n",
      "\t5      11729.411389  10919.073481  0.199205  0.162199\n",
      "\t10     11517.190317  10697.303300  0.123849  0.101289\n",
      "\t15     11103.373456  10379.863073  0.093930  0.075372\n",
      "\n",
      "  [ \u001b[1m\u001b[38;2;255;69;0mTARDIS INFO\u001b[0m\u001b[1m\u001b[0m ][ \u001b[1mtardis.simulation.base:log_plasma_state:440\u001b[0m ]- t_inner 10014.843 K -- next t_inner 11328.210 K\n",
      "Iteration: 5\n",
      "  v_inner            t_rad          \n",
      "  11000.00 km / s    10549.51 K     \n",
      "  13250.00 km / s    10919.07 K     \n",
      "  15500.00 km / s    10697.30 K     \n",
      "  17750.00 km / s    10379.86 K     \n",
      "  [ \u001b[1m\u001b[38;2;255;69;0mTARDIS INFO\u001b[0m\u001b[1m\u001b[0m ][ \u001b[1mtardis.simulation.base:iterate:324\u001b[0m ]- Starting iteration 6/20\n",
      "Running post-merge numba montecarlo (with C close lines)!\n",
      "  [ \u001b[1m\u001b[38;2;255;69;0mTARDIS INFO\u001b[0m\u001b[1m\u001b[0m ][ \u001b[1mtardis.simulation.base:log_run_results:447\u001b[0m ]- Luminosity emitted = 1.34741e+43 erg / s Luminosity absorbed = 4.44727e+42 erg / s Luminosity requested = 1.05928e+43 erg / s\n",
      "estimating emiitted luminosity#############\n",
      "  [ \u001b[1m\u001b[38;2;255;69;0mTARDIS INFO\u001b[0m\u001b[1m\u001b[0m ][ \u001b[1mtardis.simulation.base:log_plasma_state:438\u001b[0m ]- Plasma stratification:\n"
     ]
    },
    {
     "name": "stdout",
     "output_type": "stream",
     "text": [
      "  [ \u001b[1m\u001b[38;2;255;69;0mTARDIS INFO\u001b[0m\u001b[1m\u001b[0m ][ \u001b[1mtardis.simulation.base:log_plasma_state:439\u001b[0m ]- \n",
      "\t              t_rad    next_t_rad         w    next_w\n",
      "\tShell                                                \n",
      "\t0      10549.514128  11567.208184  0.443441  0.504178\n",
      "\t5      10919.073481  11653.124121  0.162199  0.203042\n",
      "\t10     10697.303300  11425.955010  0.101289  0.125249\n",
      "\t15     10379.863073  11082.155938  0.075372  0.094028\n",
      "\n",
      "  [ \u001b[1m\u001b[38;2;255;69;0mTARDIS INFO\u001b[0m\u001b[1m\u001b[0m ][ \u001b[1mtardis.simulation.base:log_plasma_state:440\u001b[0m ]- t_inner 11328.210 K -- next t_inner 10044.200 K\n",
      "Iteration: 6\n",
      "  v_inner            t_rad          \n",
      "  11000.00 km / s    11567.21 K     \n",
      "  13250.00 km / s    11653.12 K     \n",
      "  15500.00 km / s    11425.96 K     \n",
      "  17750.00 km / s    11082.16 K     \n",
      "  [ \u001b[1m\u001b[38;2;255;69;0mTARDIS INFO\u001b[0m\u001b[1m\u001b[0m ][ \u001b[1mtardis.simulation.base:iterate:324\u001b[0m ]- Starting iteration 7/20\n",
      "Running post-merge numba montecarlo (with C close lines)!\n",
      "  [ \u001b[1m\u001b[38;2;255;69;0mTARDIS INFO\u001b[0m\u001b[1m\u001b[0m ][ \u001b[1mtardis.simulation.base:log_run_results:447\u001b[0m ]- Luminosity emitted = 8.39001e+42 erg / s Luminosity absorbed = 2.69230e+42 erg / s Luminosity requested = 1.05928e+43 erg / s\n",
      "estimating emiitted luminosity#############\n",
      "  [ \u001b[1m\u001b[38;2;255;69;0mTARDIS INFO\u001b[0m\u001b[1m\u001b[0m ][ \u001b[1mtardis.simulation.base:log_plasma_state:438\u001b[0m ]- Plasma stratification:\n",
      "  [ \u001b[1m\u001b[38;2;255;69;0mTARDIS INFO\u001b[0m\u001b[1m\u001b[0m ][ \u001b[1mtardis.simulation.base:log_plasma_state:439\u001b[0m ]- \n",
      "\t              t_rad    next_t_rad         w    next_w\n",
      "\tShell                                                \n",
      "\t0      11567.208184  10569.747403  0.504178  0.442290\n",
      "\t5      11653.124121  11099.194259  0.203042  0.153253\n",
      "\t10     11425.955010  10809.397890  0.125249  0.097256\n",
      "\t15     11082.155938  10454.841299  0.094028  0.073809\n",
      "\n",
      "  [ \u001b[1m\u001b[38;2;255;69;0mTARDIS INFO\u001b[0m\u001b[1m\u001b[0m ][ \u001b[1mtardis.simulation.base:log_plasma_state:440\u001b[0m ]- t_inner 10044.200 K -- next t_inner 11285.966 K\n",
      "Iteration: 7\n",
      "  v_inner            t_rad          \n",
      "  11000.00 km / s    10569.75 K     \n",
      "  13250.00 km / s    11099.19 K     \n",
      "  15500.00 km / s    10809.40 K     \n",
      "  17750.00 km / s    10454.84 K     \n",
      "  [ \u001b[1m\u001b[38;2;255;69;0mTARDIS INFO\u001b[0m\u001b[1m\u001b[0m ][ \u001b[1mtardis.simulation.base:iterate:324\u001b[0m ]- Starting iteration 8/20\n",
      "Running post-merge numba montecarlo (with C close lines)!\n",
      "  [ \u001b[1m\u001b[38;2;255;69;0mTARDIS INFO\u001b[0m\u001b[1m\u001b[0m ][ \u001b[1mtardis.simulation.base:log_run_results:447\u001b[0m ]- Luminosity emitted = 1.33305e+43 erg / s Luminosity absorbed = 4.33011e+42 erg / s Luminosity requested = 1.05928e+43 erg / s\n",
      "estimating emiitted luminosity#############\n",
      "  [ \u001b[1m\u001b[38;2;255;69;0mTARDIS INFO\u001b[0m\u001b[1m\u001b[0m ][ \u001b[1mtardis.simulation.base:log_plasma_state:438\u001b[0m ]- Plasma stratification:\n",
      "  [ \u001b[1m\u001b[38;2;255;69;0mTARDIS INFO\u001b[0m\u001b[1m\u001b[0m ][ \u001b[1mtardis.simulation.base:log_plasma_state:439\u001b[0m ]- \n",
      "\t              t_rad    next_t_rad         w    next_w\n",
      "\tShell                                                \n",
      "\t0      10569.747403  11547.678162  0.442290  0.500345\n",
      "\t5      11099.194259  11669.739508  0.153253  0.198338\n",
      "\t10     10809.397890  11493.569590  0.097256  0.121915\n",
      "\t15     10454.841299  11083.769586  0.073809  0.092834\n",
      "\n",
      "  [ \u001b[1m\u001b[38;2;255;69;0mTARDIS INFO\u001b[0m\u001b[1m\u001b[0m ][ \u001b[1mtardis.simulation.base:log_plasma_state:440\u001b[0m ]- t_inner 11285.966 K -- next t_inner 10060.511 K\n",
      "Iteration: 8\n",
      "  v_inner            t_rad          \n",
      "  11000.00 km / s    11547.68 K     \n",
      "  13250.00 km / s    11669.74 K     \n",
      "  15500.00 km / s    11493.57 K     \n",
      "  17750.00 km / s    11083.77 K     \n",
      "  [ \u001b[1m\u001b[38;2;255;69;0mTARDIS INFO\u001b[0m\u001b[1m\u001b[0m ][ \u001b[1mtardis.simulation.base:iterate:324\u001b[0m ]- Starting iteration 9/20\n",
      "Running post-merge numba montecarlo (with C close lines)!\n",
      "  [ \u001b[1m\u001b[38;2;255;69;0mTARDIS INFO\u001b[0m\u001b[1m\u001b[0m ][ \u001b[1mtardis.simulation.base:log_run_results:447\u001b[0m ]- Luminosity emitted = 8.44283e+42 erg / s Luminosity absorbed = 2.70894e+42 erg / s Luminosity requested = 1.05928e+43 erg / s\n",
      "estimating emiitted luminosity#############\n",
      "  [ \u001b[1m\u001b[38;2;255;69;0mTARDIS INFO\u001b[0m\u001b[1m\u001b[0m ][ \u001b[1mtardis.simulation.base:log_plasma_state:438\u001b[0m ]- Plasma stratification:\n",
      "  [ \u001b[1m\u001b[38;2;255;69;0mTARDIS INFO\u001b[0m\u001b[1m\u001b[0m ][ \u001b[1mtardis.simulation.base:log_plasma_state:439\u001b[0m ]- \n",
      "\t              t_rad    next_t_rad         w    next_w\n",
      "\tShell                                                \n",
      "\t0      11547.678162  10635.099217  0.500345  0.439520\n",
      "\t5      11669.739508  11035.731464  0.198338  0.158320\n",
      "\t10     11493.569590  10717.471486  0.121915  0.101642\n",
      "\t15     11083.769586  10404.049299  0.092834  0.075794\n",
      "\n",
      "  [ \u001b[1m\u001b[38;2;255;69;0mTARDIS INFO\u001b[0m\u001b[1m\u001b[0m ][ \u001b[1mtardis.simulation.base:log_plasma_state:440\u001b[0m ]- t_inner 10060.511 K -- next t_inner 11268.877 K\n",
      "Iteration: 9\n",
      "  v_inner            t_rad          \n",
      "  11000.00 km / s    10635.10 K     \n",
      "  13250.00 km / s    11035.73 K     \n",
      "  15500.00 km / s    10717.47 K     \n",
      "  17750.00 km / s    10404.05 K     \n",
      "  [ \u001b[1m\u001b[38;2;255;69;0mTARDIS INFO\u001b[0m\u001b[1m\u001b[0m ][ \u001b[1mtardis.simulation.base:iterate:324\u001b[0m ]- Starting iteration 10/20\n",
      "Running post-merge numba montecarlo (with C close lines)!\n",
      "  [ \u001b[1m\u001b[38;2;255;69;0mTARDIS INFO\u001b[0m\u001b[1m\u001b[0m ][ \u001b[1mtardis.simulation.base:log_run_results:447\u001b[0m ]- Luminosity emitted = 1.32925e+43 erg / s Luminosity absorbed = 4.25943e+42 erg / s Luminosity requested = 1.05928e+43 erg / s\n",
      "estimating emiitted luminosity#############\n",
      "  [ \u001b[1m\u001b[38;2;255;69;0mTARDIS INFO\u001b[0m\u001b[1m\u001b[0m ][ \u001b[1mtardis.simulation.base:log_plasma_state:438\u001b[0m ]- Plasma stratification:\n",
      "  [ \u001b[1m\u001b[38;2;255;69;0mTARDIS INFO\u001b[0m\u001b[1m\u001b[0m ][ \u001b[1mtardis.simulation.base:log_plasma_state:439\u001b[0m ]- \n",
      "\t              t_rad    next_t_rad         w    next_w\n",
      "\tShell                                                \n",
      "\t0      10635.099217  11500.557678  0.439520  0.506895\n",
      "\t5      11035.731464  11715.267406  0.158320  0.196690\n",
      "\t10     10717.471486  11451.270656  0.101642  0.123243\n",
      "\t15     10404.049299  11094.423438  0.075794  0.092243\n",
      "\n",
      "  [ \u001b[1m\u001b[38;2;255;69;0mTARDIS INFO\u001b[0m\u001b[1m\u001b[0m ][ \u001b[1mtardis.simulation.base:log_plasma_state:440\u001b[0m ]- t_inner 11268.877 K -- next t_inner 10059.624 K\n",
      "Iteration: 10\n",
      "  v_inner            t_rad          \n",
      "  11000.00 km / s    11500.56 K     \n",
      "  13250.00 km / s    11715.27 K     \n",
      "  15500.00 km / s    11451.27 K     \n",
      "  17750.00 km / s    11094.42 K     \n",
      "  [ \u001b[1m\u001b[38;2;255;69;0mTARDIS INFO\u001b[0m\u001b[1m\u001b[0m ][ \u001b[1mtardis.simulation.base:iterate:324\u001b[0m ]- Starting iteration 11/20\n",
      "Running post-merge numba montecarlo (with C close lines)!\n",
      "  [ \u001b[1m\u001b[38;2;255;69;0mTARDIS INFO\u001b[0m\u001b[1m\u001b[0m ][ \u001b[1mtardis.simulation.base:log_run_results:447\u001b[0m ]- Luminosity emitted = 8.49497e+42 erg / s Luminosity absorbed = 2.65616e+42 erg / s Luminosity requested = 1.05928e+43 erg / s\n",
      "estimating emiitted luminosity#############\n",
      "  [ \u001b[1m\u001b[38;2;255;69;0mTARDIS INFO\u001b[0m\u001b[1m\u001b[0m ][ \u001b[1mtardis.simulation.base:log_plasma_state:438\u001b[0m ]- Plasma stratification:\n",
      "  [ \u001b[1m\u001b[38;2;255;69;0mTARDIS INFO\u001b[0m\u001b[1m\u001b[0m ][ \u001b[1mtardis.simulation.base:log_plasma_state:439\u001b[0m ]- \n",
      "\t              t_rad    next_t_rad         w    next_w\n",
      "\tShell                                                \n",
      "\t0      11500.557678  10570.856509  0.506895  0.445926\n",
      "\t5      11715.267406  10957.336276  0.196690  0.162837\n",
      "\t10     11451.270656  10916.410391  0.123243  0.096229\n",
      "\t15     11094.423438  10441.053929  0.092243  0.075026\n",
      "\n",
      "  [ \u001b[1m\u001b[38;2;255;69;0mTARDIS INFO\u001b[0m\u001b[1m\u001b[0m ][ \u001b[1mtardis.simulation.base:log_plasma_state:440\u001b[0m ]- t_inner 10059.624 K -- next t_inner 11233.248 K\n",
      "Iteration: 11\n",
      "  v_inner            t_rad          \n",
      "  11000.00 km / s    10570.86 K     \n",
      "  13250.00 km / s    10957.34 K     \n",
      "  15500.00 km / s    10916.41 K     \n",
      "  17750.00 km / s    10441.05 K     \n",
      "  [ \u001b[1m\u001b[38;2;255;69;0mTARDIS INFO\u001b[0m\u001b[1m\u001b[0m ][ \u001b[1mtardis.simulation.base:iterate:324\u001b[0m ]- Starting iteration 12/20\n",
      "Running post-merge numba montecarlo (with C close lines)!\n",
      "  [ \u001b[1m\u001b[38;2;255;69;0mTARDIS INFO\u001b[0m\u001b[1m\u001b[0m ][ \u001b[1mtardis.simulation.base:log_run_results:447\u001b[0m ]- Luminosity emitted = 1.30417e+43 erg / s Luminosity absorbed = 4.28820e+42 erg / s Luminosity requested = 1.05928e+43 erg / s\n",
      "estimating emiitted luminosity#############\n",
      "  [ \u001b[1m\u001b[38;2;255;69;0mTARDIS INFO\u001b[0m\u001b[1m\u001b[0m ][ \u001b[1mtardis.simulation.base:log_plasma_state:438\u001b[0m ]- Plasma stratification:\n"
     ]
    },
    {
     "name": "stdout",
     "output_type": "stream",
     "text": [
      "  [ \u001b[1m\u001b[38;2;255;69;0mTARDIS INFO\u001b[0m\u001b[1m\u001b[0m ][ \u001b[1mtardis.simulation.base:log_plasma_state:439\u001b[0m ]- \n",
      "\t              t_rad    next_t_rad         w    next_w\n",
      "\tShell                                                \n",
      "\t0      10570.856509  11533.554419  0.445926  0.494814\n",
      "\t5      10957.336276  11764.967895  0.162837  0.189464\n",
      "\t10     10916.410391  11444.191999  0.096229  0.121150\n",
      "\t15     10441.053929  11084.736033  0.075026  0.090825\n",
      "\n",
      "  [ \u001b[1m\u001b[38;2;255;69;0mTARDIS INFO\u001b[0m\u001b[1m\u001b[0m ][ \u001b[1mtardis.simulation.base:log_plasma_state:440\u001b[0m ]- t_inner 11233.248 K -- next t_inner 10123.784 K\n",
      "Iteration: 12\n",
      "  v_inner            t_rad          \n",
      "  11000.00 km / s    11533.55 K     \n",
      "  13250.00 km / s    11764.97 K     \n",
      "  15500.00 km / s    11444.19 K     \n",
      "  17750.00 km / s    11084.74 K     \n",
      "  [ \u001b[1m\u001b[38;2;255;69;0mTARDIS INFO\u001b[0m\u001b[1m\u001b[0m ][ \u001b[1mtardis.simulation.base:iterate:324\u001b[0m ]- Starting iteration 13/20\n",
      "Running post-merge numba montecarlo (with C close lines)!\n",
      "  [ \u001b[1m\u001b[38;2;255;69;0mTARDIS INFO\u001b[0m\u001b[1m\u001b[0m ][ \u001b[1mtardis.simulation.base:log_run_results:447\u001b[0m ]- Luminosity emitted = 8.69244e+42 erg / s Luminosity absorbed = 2.74548e+42 erg / s Luminosity requested = 1.05928e+43 erg / s\n",
      "estimating emiitted luminosity#############\n",
      "  [ \u001b[1m\u001b[38;2;255;69;0mTARDIS INFO\u001b[0m\u001b[1m\u001b[0m ][ \u001b[1mtardis.simulation.base:log_plasma_state:438\u001b[0m ]- Plasma stratification:\n",
      "  [ \u001b[1m\u001b[38;2;255;69;0mTARDIS INFO\u001b[0m\u001b[1m\u001b[0m ][ \u001b[1mtardis.simulation.base:log_plasma_state:439\u001b[0m ]- \n",
      "\t              t_rad    next_t_rad         w    next_w\n",
      "\tShell                                                \n",
      "\t0      11533.554419  10680.784661  0.494814  0.439281\n",
      "\t5      11764.967895  10887.379428  0.189464  0.170137\n",
      "\t10     11444.191999  10825.792025  0.121150  0.100780\n",
      "\t15     11084.736033  10402.120228  0.090825  0.077634\n",
      "\n",
      "  [ \u001b[1m\u001b[38;2;255;69;0mTARDIS INFO\u001b[0m\u001b[1m\u001b[0m ][ \u001b[1mtardis.simulation.base:log_plasma_state:440\u001b[0m ]- t_inner 10123.784 K -- next t_inner 11175.750 K\n",
      "Iteration: 13\n",
      "  v_inner            t_rad          \n",
      "  11000.00 km / s    10680.78 K     \n",
      "  13250.00 km / s    10887.38 K     \n",
      "  15500.00 km / s    10825.79 K     \n",
      "  17750.00 km / s    10402.12 K     \n",
      "  [ \u001b[1m\u001b[38;2;255;69;0mTARDIS INFO\u001b[0m\u001b[1m\u001b[0m ][ \u001b[1mtardis.simulation.base:iterate:324\u001b[0m ]- Starting iteration 14/20\n",
      "Running post-merge numba montecarlo (with C close lines)!\n",
      "  [ \u001b[1m\u001b[38;2;255;69;0mTARDIS INFO\u001b[0m\u001b[1m\u001b[0m ][ \u001b[1mtardis.simulation.base:log_run_results:447\u001b[0m ]- Luminosity emitted = 1.28354e+43 erg / s Luminosity absorbed = 4.15095e+42 erg / s Luminosity requested = 1.05928e+43 erg / s\n",
      "estimating emiitted luminosity#############\n",
      "  [ \u001b[1m\u001b[38;2;255;69;0mTARDIS INFO\u001b[0m\u001b[1m\u001b[0m ][ \u001b[1mtardis.simulation.base:log_plasma_state:438\u001b[0m ]- Plasma stratification:\n",
      "  [ \u001b[1m\u001b[38;2;255;69;0mTARDIS INFO\u001b[0m\u001b[1m\u001b[0m ][ \u001b[1mtardis.simulation.base:log_plasma_state:439\u001b[0m ]- \n",
      "\t              t_rad    next_t_rad         w    next_w\n",
      "\tShell                                                \n",
      "\t0      10680.784661  11437.188130  0.439281  0.496749\n",
      "\t5      10887.379428  11571.106856  0.170137  0.196714\n",
      "\t10     10825.792025  11378.137918  0.100780  0.120954\n",
      "\t15     10402.120228  10957.211814  0.077634  0.092896\n",
      "\n",
      "  [ \u001b[1m\u001b[38;2;255;69;0mTARDIS INFO\u001b[0m\u001b[1m\u001b[0m ][ \u001b[1mtardis.simulation.base:log_plasma_state:440\u001b[0m ]- t_inner 11175.750 K -- next t_inner 10152.603 K\n",
      "Iteration: 14\n",
      "  v_inner            t_rad          \n",
      "  11000.00 km / s    11437.19 K     \n",
      "  13250.00 km / s    11571.11 K     \n",
      "  15500.00 km / s    11378.14 K     \n",
      "  17750.00 km / s    10957.21 K     \n",
      "  [ \u001b[1m\u001b[38;2;255;69;0mTARDIS INFO\u001b[0m\u001b[1m\u001b[0m ][ \u001b[1mtardis.simulation.base:iterate:324\u001b[0m ]- Starting iteration 15/20\n",
      "Running post-merge numba montecarlo (with C close lines)!\n",
      "  [ \u001b[1m\u001b[38;2;255;69;0mTARDIS INFO\u001b[0m\u001b[1m\u001b[0m ][ \u001b[1mtardis.simulation.base:log_run_results:447\u001b[0m ]- Luminosity emitted = 8.75331e+42 erg / s Luminosity absorbed = 2.81319e+42 erg / s Luminosity requested = 1.05928e+43 erg / s\n",
      "estimating emiitted luminosity#############\n",
      "  [ \u001b[1m\u001b[38;2;255;69;0mTARDIS INFO\u001b[0m\u001b[1m\u001b[0m ][ \u001b[1mtardis.simulation.base:log_plasma_state:438\u001b[0m ]- Plasma stratification:\n",
      "  [ \u001b[1m\u001b[38;2;255;69;0mTARDIS INFO\u001b[0m\u001b[1m\u001b[0m ][ \u001b[1mtardis.simulation.base:log_plasma_state:439\u001b[0m ]- \n",
      "\t              t_rad    next_t_rad         w    next_w\n",
      "\tShell                                                \n",
      "\t0      11437.188130  10637.774893  0.496749  0.452668\n",
      "\t5      11571.106856  11002.647927  0.196714  0.166197\n",
      "\t10     11378.137918  10832.042108  0.120954  0.101284\n",
      "\t15     10957.211814  10350.602742  0.092896  0.079468\n",
      "\n",
      "  [ \u001b[1m\u001b[38;2;255;69;0mTARDIS INFO\u001b[0m\u001b[1m\u001b[0m ][ \u001b[1mtardis.simulation.base:log_plasma_state:440\u001b[0m ]- t_inner 10152.603 K -- next t_inner 11168.529 K\n",
      "Iteration: 15\n",
      "  v_inner            t_rad          \n",
      "  11000.00 km / s    10637.77 K     \n",
      "  13250.00 km / s    11002.65 K     \n",
      "  15500.00 km / s    10832.04 K     \n",
      "  17750.00 km / s    10350.60 K     \n",
      "  [ \u001b[1m\u001b[38;2;255;69;0mTARDIS INFO\u001b[0m\u001b[1m\u001b[0m ][ \u001b[1mtardis.simulation.base:iterate:324\u001b[0m ]- Starting iteration 16/20\n",
      "Running post-merge numba montecarlo (with C close lines)!\n",
      "  [ \u001b[1m\u001b[38;2;255;69;0mTARDIS INFO\u001b[0m\u001b[1m\u001b[0m ][ \u001b[1mtardis.simulation.base:log_run_results:447\u001b[0m ]- Luminosity emitted = 1.27820e+43 erg / s Luminosity absorbed = 4.15606e+42 erg / s Luminosity requested = 1.05928e+43 erg / s\n",
      "estimating emiitted luminosity#############\n",
      "  [ \u001b[1m\u001b[38;2;255;69;0mTARDIS INFO\u001b[0m\u001b[1m\u001b[0m ][ \u001b[1mtardis.simulation.base:log_plasma_state:438\u001b[0m ]- Plasma stratification:\n",
      "  [ \u001b[1m\u001b[38;2;255;69;0mTARDIS INFO\u001b[0m\u001b[1m\u001b[0m ][ \u001b[1mtardis.simulation.base:log_plasma_state:439\u001b[0m ]- \n",
      "\t              t_rad    next_t_rad         w    next_w\n",
      "\tShell                                                \n",
      "\t0      10637.774893  11420.979987  0.452668  0.499488\n",
      "\t5      11002.647927  11711.923994  0.166197  0.186857\n",
      "\t10     10832.042108  11421.346118  0.101284  0.119700\n",
      "\t15     10350.602742  11076.434180  0.079468  0.089402\n",
      "\n",
      "  [ \u001b[1m\u001b[38;2;255;69;0mTARDIS INFO\u001b[0m\u001b[1m\u001b[0m ][ \u001b[1mtardis.simulation.base:log_plasma_state:440\u001b[0m ]- t_inner 11168.529 K -- next t_inner 10167.208 K\n",
      "Iteration: 16\n",
      "  v_inner            t_rad          \n",
      "  11000.00 km / s    11420.98 K     \n",
      "  13250.00 km / s    11711.92 K     \n",
      "  15500.00 km / s    11421.35 K     \n",
      "  17750.00 km / s    11076.43 K     \n",
      "  [ \u001b[1m\u001b[38;2;255;69;0mTARDIS INFO\u001b[0m\u001b[1m\u001b[0m ][ \u001b[1mtardis.simulation.base:iterate:324\u001b[0m ]- Starting iteration 17/20\n",
      "Running post-merge numba montecarlo (with C close lines)!\n",
      "  [ \u001b[1m\u001b[38;2;255;69;0mTARDIS INFO\u001b[0m\u001b[1m\u001b[0m ][ \u001b[1mtardis.simulation.base:log_run_results:447\u001b[0m ]- Luminosity emitted = 8.81647e+42 erg / s Luminosity absorbed = 2.81681e+42 erg / s Luminosity requested = 1.05928e+43 erg / s\n",
      "estimating emiitted luminosity#############\n",
      "  [ \u001b[1m\u001b[38;2;255;69;0mTARDIS INFO\u001b[0m\u001b[1m\u001b[0m ][ \u001b[1mtardis.simulation.base:log_plasma_state:438\u001b[0m ]- Plasma stratification:\n",
      "  [ \u001b[1m\u001b[38;2;255;69;0mTARDIS INFO\u001b[0m\u001b[1m\u001b[0m ][ \u001b[1mtardis.simulation.base:log_plasma_state:439\u001b[0m ]- \n",
      "\t              t_rad    next_t_rad         w    next_w\n",
      "\tShell                                                \n",
      "\t0      11420.979987  10691.849845  0.499488  0.447482\n",
      "\t5      11711.923994  11042.045712  0.186857  0.164090\n",
      "\t10     11421.346118  10980.886609  0.119700  0.097369\n",
      "\t15     11076.434180  10456.662007  0.089402  0.077097\n",
      "\n",
      "  [ \u001b[1m\u001b[38;2;255;69;0mTARDIS INFO\u001b[0m\u001b[1m\u001b[0m ][ \u001b[1mtardis.simulation.base:log_plasma_state:440\u001b[0m ]- t_inner 10167.208 K -- next t_inner 11144.459 K\n",
      "Iteration: 17\n",
      "  v_inner            t_rad          \n",
      "  11000.00 km / s    10691.85 K     \n",
      "  13250.00 km / s    11042.05 K     \n",
      "  15500.00 km / s    10980.89 K     \n",
      "  17750.00 km / s    10456.66 K     \n",
      "  [ \u001b[1m\u001b[38;2;255;69;0mTARDIS INFO\u001b[0m\u001b[1m\u001b[0m ][ \u001b[1mtardis.simulation.base:iterate:324\u001b[0m ]- Starting iteration 18/20\n",
      "Running post-merge numba montecarlo (with C close lines)!\n",
      "  [ \u001b[1m\u001b[38;2;255;69;0mTARDIS INFO\u001b[0m\u001b[1m\u001b[0m ][ \u001b[1mtardis.simulation.base:log_run_results:447\u001b[0m ]- Luminosity emitted = 1.26680e+43 erg / s Luminosity absorbed = 4.12238e+42 erg / s Luminosity requested = 1.05928e+43 erg / s\n",
      "estimating emiitted luminosity#############\n",
      "  [ \u001b[1m\u001b[38;2;255;69;0mTARDIS INFO\u001b[0m\u001b[1m\u001b[0m ][ \u001b[1mtardis.simulation.base:log_plasma_state:438\u001b[0m ]- Plasma stratification:\n"
     ]
    },
    {
     "name": "stdout",
     "output_type": "stream",
     "text": [
      "  [ \u001b[1m\u001b[38;2;255;69;0mTARDIS INFO\u001b[0m\u001b[1m\u001b[0m ][ \u001b[1mtardis.simulation.base:log_plasma_state:439\u001b[0m ]- \n",
      "\t              t_rad    next_t_rad         w    next_w\n",
      "\tShell                                                \n",
      "\t0      10691.849845  11404.686443  0.447482  0.497739\n",
      "\t5      11042.045712  11664.227712  0.164090  0.189070\n",
      "\t10     10980.886609  11444.220669  0.097369  0.117732\n",
      "\t15     10456.662007  11052.698087  0.077097  0.089141\n",
      "\n",
      "  [ \u001b[1m\u001b[38;2;255;69;0mTARDIS INFO\u001b[0m\u001b[1m\u001b[0m ][ \u001b[1mtardis.simulation.base:log_plasma_state:440\u001b[0m ]- t_inner 11144.459 K -- next t_inner 10190.841 K\n",
      "Iteration: 18\n",
      "  v_inner            t_rad          \n",
      "  11000.00 km / s    11404.69 K     \n",
      "  13250.00 km / s    11664.23 K     \n",
      "  15500.00 km / s    11444.22 K     \n",
      "  17750.00 km / s    11052.70 K     \n",
      "  [ \u001b[1m\u001b[38;2;255;69;0mTARDIS INFO\u001b[0m\u001b[1m\u001b[0m ][ \u001b[1mtardis.simulation.base:iterate:324\u001b[0m ]- Starting iteration 19/20\n",
      "Running post-merge numba montecarlo (with C close lines)!\n",
      "  [ \u001b[1m\u001b[38;2;255;69;0mTARDIS INFO\u001b[0m\u001b[1m\u001b[0m ][ \u001b[1mtardis.simulation.base:log_run_results:447\u001b[0m ]- Luminosity emitted = 8.87081e+42 erg / s Luminosity absorbed = 2.87116e+42 erg / s Luminosity requested = 1.05928e+43 erg / s\n",
      "estimating emiitted luminosity#############\n",
      "  [ \u001b[1m\u001b[38;2;255;69;0mTARDIS INFO\u001b[0m\u001b[1m\u001b[0m ][ \u001b[1mtardis.simulation.base:log_plasma_state:438\u001b[0m ]- Plasma stratification:\n",
      "  [ \u001b[1m\u001b[38;2;255;69;0mTARDIS INFO\u001b[0m\u001b[1m\u001b[0m ][ \u001b[1mtardis.simulation.base:log_plasma_state:439\u001b[0m ]- \n",
      "\t              t_rad    next_t_rad         w    next_w\n",
      "\tShell                                                \n",
      "\t0      11404.686443  10732.832306  0.497739  0.444436\n",
      "\t5      11664.227712  11084.302807  0.189070  0.162591\n",
      "\t10     11444.220669  10899.736539  0.117732  0.099122\n",
      "\t15     11052.698087  10465.941519  0.089141  0.077378\n",
      "\n",
      "  [ \u001b[1m\u001b[38;2;255;69;0mTARDIS INFO\u001b[0m\u001b[1m\u001b[0m ][ \u001b[1mtardis.simulation.base:log_plasma_state:440\u001b[0m ]- t_inner 10190.841 K -- next t_inner 11136.097 K\n",
      "Iteration: 19\n",
      "  v_inner            t_rad          \n",
      "  11000.00 km / s    10732.83 K     \n",
      "  13250.00 km / s    11084.30 K     \n",
      "  15500.00 km / s    10899.74 K     \n",
      "  17750.00 km / s    10465.94 K     \n",
      "  [ \u001b[1m\u001b[38;2;255;69;0mTARDIS INFO\u001b[0m\u001b[1m\u001b[0m ][ \u001b[1mtardis.simulation.base:iterate:324\u001b[0m ]- Starting iteration 20/20\n",
      "Running post-merge numba montecarlo (with C close lines)!\n",
      "  [ \u001b[1m\u001b[38;2;255;69;0mTARDIS INFO\u001b[0m\u001b[1m\u001b[0m ][ \u001b[1mtardis.simulation.base:log_run_results:447\u001b[0m ]- Luminosity emitted = 1.26319e+43 erg / s Luminosity absorbed = 4.10706e+42 erg / s Luminosity requested = 1.05928e+43 erg / s\n",
      "  [ \u001b[1m\u001b[38;2;255;69;0mTARDIS INFO\u001b[0m\u001b[1m\u001b[0m ][ \u001b[1mtardis.simulation.base:run:381\u001b[0m ]- Simulation finished in 20 iterations and took 25.53 s\n",
      "Iteration: 20\n",
      "  v_inner            t_rad          \n",
      "  11000.00 km / s    10732.83 K     \n",
      "  13250.00 km / s    11084.30 K     \n",
      "  15500.00 km / s    10899.74 K     \n",
      "  17750.00 km / s    10465.94 K     \n"
     ]
    }
   ],
   "source": [
    "t_rad_table = [] # list to store t_rad at each iteration\n",
    "\n",
    "callbacks = [[display_table], \n",
    "             [append_t_rad_to_table, t_rad_table]]\n",
    "sim = run_tardis('tardis_example.yml', \n",
    "                 simulation_callbacks=callbacks)"
   ]
  },
  {
   "cell_type": "markdown",
   "metadata": {},
   "source": [
    "Now we can look at the way the radiative temperature changes in each shell every iteration."
   ]
  },
  {
   "cell_type": "code",
   "execution_count": 9,
   "metadata": {},
   "outputs": [
    {
     "name": "stdout",
     "output_type": "stream",
     "text": [
      "Populating the interactive namespace from numpy and matplotlib\n"
     ]
    },
    {
     "data": {
      "application/javascript": [
       "/* Put everything inside the global mpl namespace */\n",
       "/* global mpl */\n",
       "window.mpl = {};\n",
       "\n",
       "mpl.get_websocket_type = function () {\n",
       "    if (typeof WebSocket !== 'undefined') {\n",
       "        return WebSocket;\n",
       "    } else if (typeof MozWebSocket !== 'undefined') {\n",
       "        return MozWebSocket;\n",
       "    } else {\n",
       "        alert(\n",
       "            'Your browser does not have WebSocket support. ' +\n",
       "                'Please try Chrome, Safari or Firefox ≥ 6. ' +\n",
       "                'Firefox 4 and 5 are also supported but you ' +\n",
       "                'have to enable WebSockets in about:config.'\n",
       "        );\n",
       "    }\n",
       "};\n",
       "\n",
       "mpl.figure = function (figure_id, websocket, ondownload, parent_element) {\n",
       "    this.id = figure_id;\n",
       "\n",
       "    this.ws = websocket;\n",
       "\n",
       "    this.supports_binary = this.ws.binaryType !== undefined;\n",
       "\n",
       "    if (!this.supports_binary) {\n",
       "        var warnings = document.getElementById('mpl-warnings');\n",
       "        if (warnings) {\n",
       "            warnings.style.display = 'block';\n",
       "            warnings.textContent =\n",
       "                'This browser does not support binary websocket messages. ' +\n",
       "                'Performance may be slow.';\n",
       "        }\n",
       "    }\n",
       "\n",
       "    this.imageObj = new Image();\n",
       "\n",
       "    this.context = undefined;\n",
       "    this.message = undefined;\n",
       "    this.canvas = undefined;\n",
       "    this.rubberband_canvas = undefined;\n",
       "    this.rubberband_context = undefined;\n",
       "    this.format_dropdown = undefined;\n",
       "\n",
       "    this.image_mode = 'full';\n",
       "\n",
       "    this.root = document.createElement('div');\n",
       "    this.root.setAttribute('style', 'display: inline-block');\n",
       "    this._root_extra_style(this.root);\n",
       "\n",
       "    parent_element.appendChild(this.root);\n",
       "\n",
       "    this._init_header(this);\n",
       "    this._init_canvas(this);\n",
       "    this._init_toolbar(this);\n",
       "\n",
       "    var fig = this;\n",
       "\n",
       "    this.waiting = false;\n",
       "\n",
       "    this.ws.onopen = function () {\n",
       "        fig.send_message('supports_binary', { value: fig.supports_binary });\n",
       "        fig.send_message('send_image_mode', {});\n",
       "        if (fig.ratio !== 1) {\n",
       "            fig.send_message('set_dpi_ratio', { dpi_ratio: fig.ratio });\n",
       "        }\n",
       "        fig.send_message('refresh', {});\n",
       "    };\n",
       "\n",
       "    this.imageObj.onload = function () {\n",
       "        if (fig.image_mode === 'full') {\n",
       "            // Full images could contain transparency (where diff images\n",
       "            // almost always do), so we need to clear the canvas so that\n",
       "            // there is no ghosting.\n",
       "            fig.context.clearRect(0, 0, fig.canvas.width, fig.canvas.height);\n",
       "        }\n",
       "        fig.context.drawImage(fig.imageObj, 0, 0);\n",
       "    };\n",
       "\n",
       "    this.imageObj.onunload = function () {\n",
       "        fig.ws.close();\n",
       "    };\n",
       "\n",
       "    this.ws.onmessage = this._make_on_message_function(this);\n",
       "\n",
       "    this.ondownload = ondownload;\n",
       "};\n",
       "\n",
       "mpl.figure.prototype._init_header = function () {\n",
       "    var titlebar = document.createElement('div');\n",
       "    titlebar.classList =\n",
       "        'ui-dialog-titlebar ui-widget-header ui-corner-all ui-helper-clearfix';\n",
       "    var titletext = document.createElement('div');\n",
       "    titletext.classList = 'ui-dialog-title';\n",
       "    titletext.setAttribute(\n",
       "        'style',\n",
       "        'width: 100%; text-align: center; padding: 3px;'\n",
       "    );\n",
       "    titlebar.appendChild(titletext);\n",
       "    this.root.appendChild(titlebar);\n",
       "    this.header = titletext;\n",
       "};\n",
       "\n",
       "mpl.figure.prototype._canvas_extra_style = function (_canvas_div) {};\n",
       "\n",
       "mpl.figure.prototype._root_extra_style = function (_canvas_div) {};\n",
       "\n",
       "mpl.figure.prototype._init_canvas = function () {\n",
       "    var fig = this;\n",
       "\n",
       "    var canvas_div = (this.canvas_div = document.createElement('div'));\n",
       "    canvas_div.setAttribute(\n",
       "        'style',\n",
       "        'border: 1px solid #ddd;' +\n",
       "            'box-sizing: content-box;' +\n",
       "            'clear: both;' +\n",
       "            'min-height: 1px;' +\n",
       "            'min-width: 1px;' +\n",
       "            'outline: 0;' +\n",
       "            'overflow: hidden;' +\n",
       "            'position: relative;' +\n",
       "            'resize: both;'\n",
       "    );\n",
       "\n",
       "    function on_keyboard_event_closure(name) {\n",
       "        return function (event) {\n",
       "            return fig.key_event(event, name);\n",
       "        };\n",
       "    }\n",
       "\n",
       "    canvas_div.addEventListener(\n",
       "        'keydown',\n",
       "        on_keyboard_event_closure('key_press')\n",
       "    );\n",
       "    canvas_div.addEventListener(\n",
       "        'keyup',\n",
       "        on_keyboard_event_closure('key_release')\n",
       "    );\n",
       "\n",
       "    this._canvas_extra_style(canvas_div);\n",
       "    this.root.appendChild(canvas_div);\n",
       "\n",
       "    var canvas = (this.canvas = document.createElement('canvas'));\n",
       "    canvas.classList.add('mpl-canvas');\n",
       "    canvas.setAttribute('style', 'box-sizing: content-box;');\n",
       "\n",
       "    this.context = canvas.getContext('2d');\n",
       "\n",
       "    var backingStore =\n",
       "        this.context.backingStorePixelRatio ||\n",
       "        this.context.webkitBackingStorePixelRatio ||\n",
       "        this.context.mozBackingStorePixelRatio ||\n",
       "        this.context.msBackingStorePixelRatio ||\n",
       "        this.context.oBackingStorePixelRatio ||\n",
       "        this.context.backingStorePixelRatio ||\n",
       "        1;\n",
       "\n",
       "    this.ratio = (window.devicePixelRatio || 1) / backingStore;\n",
       "\n",
       "    var rubberband_canvas = (this.rubberband_canvas = document.createElement(\n",
       "        'canvas'\n",
       "    ));\n",
       "    rubberband_canvas.setAttribute(\n",
       "        'style',\n",
       "        'box-sizing: content-box; position: absolute; left: 0; top: 0; z-index: 1;'\n",
       "    );\n",
       "\n",
       "    // Apply a ponyfill if ResizeObserver is not implemented by browser.\n",
       "    if (this.ResizeObserver === undefined) {\n",
       "        if (window.ResizeObserver !== undefined) {\n",
       "            this.ResizeObserver = window.ResizeObserver;\n",
       "        } else {\n",
       "            var obs = _JSXTOOLS_RESIZE_OBSERVER({});\n",
       "            this.ResizeObserver = obs.ResizeObserver;\n",
       "        }\n",
       "    }\n",
       "\n",
       "    this.resizeObserverInstance = new this.ResizeObserver(function (entries) {\n",
       "        var nentries = entries.length;\n",
       "        for (var i = 0; i < nentries; i++) {\n",
       "            var entry = entries[i];\n",
       "            var width, height;\n",
       "            if (entry.contentBoxSize) {\n",
       "                if (entry.contentBoxSize instanceof Array) {\n",
       "                    // Chrome 84 implements new version of spec.\n",
       "                    width = entry.contentBoxSize[0].inlineSize;\n",
       "                    height = entry.contentBoxSize[0].blockSize;\n",
       "                } else {\n",
       "                    // Firefox implements old version of spec.\n",
       "                    width = entry.contentBoxSize.inlineSize;\n",
       "                    height = entry.contentBoxSize.blockSize;\n",
       "                }\n",
       "            } else {\n",
       "                // Chrome <84 implements even older version of spec.\n",
       "                width = entry.contentRect.width;\n",
       "                height = entry.contentRect.height;\n",
       "            }\n",
       "\n",
       "            // Keep the size of the canvas and rubber band canvas in sync with\n",
       "            // the canvas container.\n",
       "            if (entry.devicePixelContentBoxSize) {\n",
       "                // Chrome 84 implements new version of spec.\n",
       "                canvas.setAttribute(\n",
       "                    'width',\n",
       "                    entry.devicePixelContentBoxSize[0].inlineSize\n",
       "                );\n",
       "                canvas.setAttribute(\n",
       "                    'height',\n",
       "                    entry.devicePixelContentBoxSize[0].blockSize\n",
       "                );\n",
       "            } else {\n",
       "                canvas.setAttribute('width', width * fig.ratio);\n",
       "                canvas.setAttribute('height', height * fig.ratio);\n",
       "            }\n",
       "            canvas.setAttribute(\n",
       "                'style',\n",
       "                'width: ' + width + 'px; height: ' + height + 'px;'\n",
       "            );\n",
       "\n",
       "            rubberband_canvas.setAttribute('width', width);\n",
       "            rubberband_canvas.setAttribute('height', height);\n",
       "\n",
       "            // And update the size in Python. We ignore the initial 0/0 size\n",
       "            // that occurs as the element is placed into the DOM, which should\n",
       "            // otherwise not happen due to the minimum size styling.\n",
       "            if (fig.ws.readyState == 1 && width != 0 && height != 0) {\n",
       "                fig.request_resize(width, height);\n",
       "            }\n",
       "        }\n",
       "    });\n",
       "    this.resizeObserverInstance.observe(canvas_div);\n",
       "\n",
       "    function on_mouse_event_closure(name) {\n",
       "        return function (event) {\n",
       "            return fig.mouse_event(event, name);\n",
       "        };\n",
       "    }\n",
       "\n",
       "    rubberband_canvas.addEventListener(\n",
       "        'mousedown',\n",
       "        on_mouse_event_closure('button_press')\n",
       "    );\n",
       "    rubberband_canvas.addEventListener(\n",
       "        'mouseup',\n",
       "        on_mouse_event_closure('button_release')\n",
       "    );\n",
       "    // Throttle sequential mouse events to 1 every 20ms.\n",
       "    rubberband_canvas.addEventListener(\n",
       "        'mousemove',\n",
       "        on_mouse_event_closure('motion_notify')\n",
       "    );\n",
       "\n",
       "    rubberband_canvas.addEventListener(\n",
       "        'mouseenter',\n",
       "        on_mouse_event_closure('figure_enter')\n",
       "    );\n",
       "    rubberband_canvas.addEventListener(\n",
       "        'mouseleave',\n",
       "        on_mouse_event_closure('figure_leave')\n",
       "    );\n",
       "\n",
       "    canvas_div.addEventListener('wheel', function (event) {\n",
       "        if (event.deltaY < 0) {\n",
       "            event.step = 1;\n",
       "        } else {\n",
       "            event.step = -1;\n",
       "        }\n",
       "        on_mouse_event_closure('scroll')(event);\n",
       "    });\n",
       "\n",
       "    canvas_div.appendChild(canvas);\n",
       "    canvas_div.appendChild(rubberband_canvas);\n",
       "\n",
       "    this.rubberband_context = rubberband_canvas.getContext('2d');\n",
       "    this.rubberband_context.strokeStyle = '#000000';\n",
       "\n",
       "    this._resize_canvas = function (width, height, forward) {\n",
       "        if (forward) {\n",
       "            canvas_div.style.width = width + 'px';\n",
       "            canvas_div.style.height = height + 'px';\n",
       "        }\n",
       "    };\n",
       "\n",
       "    // Disable right mouse context menu.\n",
       "    this.rubberband_canvas.addEventListener('contextmenu', function (_e) {\n",
       "        event.preventDefault();\n",
       "        return false;\n",
       "    });\n",
       "\n",
       "    function set_focus() {\n",
       "        canvas.focus();\n",
       "        canvas_div.focus();\n",
       "    }\n",
       "\n",
       "    window.setTimeout(set_focus, 100);\n",
       "};\n",
       "\n",
       "mpl.figure.prototype._init_toolbar = function () {\n",
       "    var fig = this;\n",
       "\n",
       "    var toolbar = document.createElement('div');\n",
       "    toolbar.classList = 'mpl-toolbar';\n",
       "    this.root.appendChild(toolbar);\n",
       "\n",
       "    function on_click_closure(name) {\n",
       "        return function (_event) {\n",
       "            return fig.toolbar_button_onclick(name);\n",
       "        };\n",
       "    }\n",
       "\n",
       "    function on_mouseover_closure(tooltip) {\n",
       "        return function (event) {\n",
       "            if (!event.currentTarget.disabled) {\n",
       "                return fig.toolbar_button_onmouseover(tooltip);\n",
       "            }\n",
       "        };\n",
       "    }\n",
       "\n",
       "    fig.buttons = {};\n",
       "    var buttonGroup = document.createElement('div');\n",
       "    buttonGroup.classList = 'mpl-button-group';\n",
       "    for (var toolbar_ind in mpl.toolbar_items) {\n",
       "        var name = mpl.toolbar_items[toolbar_ind][0];\n",
       "        var tooltip = mpl.toolbar_items[toolbar_ind][1];\n",
       "        var image = mpl.toolbar_items[toolbar_ind][2];\n",
       "        var method_name = mpl.toolbar_items[toolbar_ind][3];\n",
       "\n",
       "        if (!name) {\n",
       "            /* Instead of a spacer, we start a new button group. */\n",
       "            if (buttonGroup.hasChildNodes()) {\n",
       "                toolbar.appendChild(buttonGroup);\n",
       "            }\n",
       "            buttonGroup = document.createElement('div');\n",
       "            buttonGroup.classList = 'mpl-button-group';\n",
       "            continue;\n",
       "        }\n",
       "\n",
       "        var button = (fig.buttons[name] = document.createElement('button'));\n",
       "        button.classList = 'mpl-widget';\n",
       "        button.setAttribute('role', 'button');\n",
       "        button.setAttribute('aria-disabled', 'false');\n",
       "        button.addEventListener('click', on_click_closure(method_name));\n",
       "        button.addEventListener('mouseover', on_mouseover_closure(tooltip));\n",
       "\n",
       "        var icon_img = document.createElement('img');\n",
       "        icon_img.src = '_images/' + image + '.png';\n",
       "        icon_img.srcset = '_images/' + image + '_large.png 2x';\n",
       "        icon_img.alt = tooltip;\n",
       "        button.appendChild(icon_img);\n",
       "\n",
       "        buttonGroup.appendChild(button);\n",
       "    }\n",
       "\n",
       "    if (buttonGroup.hasChildNodes()) {\n",
       "        toolbar.appendChild(buttonGroup);\n",
       "    }\n",
       "\n",
       "    var fmt_picker = document.createElement('select');\n",
       "    fmt_picker.classList = 'mpl-widget';\n",
       "    toolbar.appendChild(fmt_picker);\n",
       "    this.format_dropdown = fmt_picker;\n",
       "\n",
       "    for (var ind in mpl.extensions) {\n",
       "        var fmt = mpl.extensions[ind];\n",
       "        var option = document.createElement('option');\n",
       "        option.selected = fmt === mpl.default_extension;\n",
       "        option.innerHTML = fmt;\n",
       "        fmt_picker.appendChild(option);\n",
       "    }\n",
       "\n",
       "    var status_bar = document.createElement('span');\n",
       "    status_bar.classList = 'mpl-message';\n",
       "    toolbar.appendChild(status_bar);\n",
       "    this.message = status_bar;\n",
       "};\n",
       "\n",
       "mpl.figure.prototype.request_resize = function (x_pixels, y_pixels) {\n",
       "    // Request matplotlib to resize the figure. Matplotlib will then trigger a resize in the client,\n",
       "    // which will in turn request a refresh of the image.\n",
       "    this.send_message('resize', { width: x_pixels, height: y_pixels });\n",
       "};\n",
       "\n",
       "mpl.figure.prototype.send_message = function (type, properties) {\n",
       "    properties['type'] = type;\n",
       "    properties['figure_id'] = this.id;\n",
       "    this.ws.send(JSON.stringify(properties));\n",
       "};\n",
       "\n",
       "mpl.figure.prototype.send_draw_message = function () {\n",
       "    if (!this.waiting) {\n",
       "        this.waiting = true;\n",
       "        this.ws.send(JSON.stringify({ type: 'draw', figure_id: this.id }));\n",
       "    }\n",
       "};\n",
       "\n",
       "mpl.figure.prototype.handle_save = function (fig, _msg) {\n",
       "    var format_dropdown = fig.format_dropdown;\n",
       "    var format = format_dropdown.options[format_dropdown.selectedIndex].value;\n",
       "    fig.ondownload(fig, format);\n",
       "};\n",
       "\n",
       "mpl.figure.prototype.handle_resize = function (fig, msg) {\n",
       "    var size = msg['size'];\n",
       "    if (size[0] !== fig.canvas.width || size[1] !== fig.canvas.height) {\n",
       "        fig._resize_canvas(size[0], size[1], msg['forward']);\n",
       "        fig.send_message('refresh', {});\n",
       "    }\n",
       "};\n",
       "\n",
       "mpl.figure.prototype.handle_rubberband = function (fig, msg) {\n",
       "    var x0 = msg['x0'] / fig.ratio;\n",
       "    var y0 = (fig.canvas.height - msg['y0']) / fig.ratio;\n",
       "    var x1 = msg['x1'] / fig.ratio;\n",
       "    var y1 = (fig.canvas.height - msg['y1']) / fig.ratio;\n",
       "    x0 = Math.floor(x0) + 0.5;\n",
       "    y0 = Math.floor(y0) + 0.5;\n",
       "    x1 = Math.floor(x1) + 0.5;\n",
       "    y1 = Math.floor(y1) + 0.5;\n",
       "    var min_x = Math.min(x0, x1);\n",
       "    var min_y = Math.min(y0, y1);\n",
       "    var width = Math.abs(x1 - x0);\n",
       "    var height = Math.abs(y1 - y0);\n",
       "\n",
       "    fig.rubberband_context.clearRect(\n",
       "        0,\n",
       "        0,\n",
       "        fig.canvas.width / fig.ratio,\n",
       "        fig.canvas.height / fig.ratio\n",
       "    );\n",
       "\n",
       "    fig.rubberband_context.strokeRect(min_x, min_y, width, height);\n",
       "};\n",
       "\n",
       "mpl.figure.prototype.handle_figure_label = function (fig, msg) {\n",
       "    // Updates the figure title.\n",
       "    fig.header.textContent = msg['label'];\n",
       "};\n",
       "\n",
       "mpl.figure.prototype.handle_cursor = function (fig, msg) {\n",
       "    var cursor = msg['cursor'];\n",
       "    switch (cursor) {\n",
       "        case 0:\n",
       "            cursor = 'pointer';\n",
       "            break;\n",
       "        case 1:\n",
       "            cursor = 'default';\n",
       "            break;\n",
       "        case 2:\n",
       "            cursor = 'crosshair';\n",
       "            break;\n",
       "        case 3:\n",
       "            cursor = 'move';\n",
       "            break;\n",
       "    }\n",
       "    fig.rubberband_canvas.style.cursor = cursor;\n",
       "};\n",
       "\n",
       "mpl.figure.prototype.handle_message = function (fig, msg) {\n",
       "    fig.message.textContent = msg['message'];\n",
       "};\n",
       "\n",
       "mpl.figure.prototype.handle_draw = function (fig, _msg) {\n",
       "    // Request the server to send over a new figure.\n",
       "    fig.send_draw_message();\n",
       "};\n",
       "\n",
       "mpl.figure.prototype.handle_image_mode = function (fig, msg) {\n",
       "    fig.image_mode = msg['mode'];\n",
       "};\n",
       "\n",
       "mpl.figure.prototype.handle_history_buttons = function (fig, msg) {\n",
       "    for (var key in msg) {\n",
       "        if (!(key in fig.buttons)) {\n",
       "            continue;\n",
       "        }\n",
       "        fig.buttons[key].disabled = !msg[key];\n",
       "        fig.buttons[key].setAttribute('aria-disabled', !msg[key]);\n",
       "    }\n",
       "};\n",
       "\n",
       "mpl.figure.prototype.handle_navigate_mode = function (fig, msg) {\n",
       "    if (msg['mode'] === 'PAN') {\n",
       "        fig.buttons['Pan'].classList.add('active');\n",
       "        fig.buttons['Zoom'].classList.remove('active');\n",
       "    } else if (msg['mode'] === 'ZOOM') {\n",
       "        fig.buttons['Pan'].classList.remove('active');\n",
       "        fig.buttons['Zoom'].classList.add('active');\n",
       "    } else {\n",
       "        fig.buttons['Pan'].classList.remove('active');\n",
       "        fig.buttons['Zoom'].classList.remove('active');\n",
       "    }\n",
       "};\n",
       "\n",
       "mpl.figure.prototype.updated_canvas_event = function () {\n",
       "    // Called whenever the canvas gets updated.\n",
       "    this.send_message('ack', {});\n",
       "};\n",
       "\n",
       "// A function to construct a web socket function for onmessage handling.\n",
       "// Called in the figure constructor.\n",
       "mpl.figure.prototype._make_on_message_function = function (fig) {\n",
       "    return function socket_on_message(evt) {\n",
       "        if (evt.data instanceof Blob) {\n",
       "            /* FIXME: We get \"Resource interpreted as Image but\n",
       "             * transferred with MIME type text/plain:\" errors on\n",
       "             * Chrome.  But how to set the MIME type?  It doesn't seem\n",
       "             * to be part of the websocket stream */\n",
       "            evt.data.type = 'image/png';\n",
       "\n",
       "            /* Free the memory for the previous frames */\n",
       "            if (fig.imageObj.src) {\n",
       "                (window.URL || window.webkitURL).revokeObjectURL(\n",
       "                    fig.imageObj.src\n",
       "                );\n",
       "            }\n",
       "\n",
       "            fig.imageObj.src = (window.URL || window.webkitURL).createObjectURL(\n",
       "                evt.data\n",
       "            );\n",
       "            fig.updated_canvas_event();\n",
       "            fig.waiting = false;\n",
       "            return;\n",
       "        } else if (\n",
       "            typeof evt.data === 'string' &&\n",
       "            evt.data.slice(0, 21) === 'data:image/png;base64'\n",
       "        ) {\n",
       "            fig.imageObj.src = evt.data;\n",
       "            fig.updated_canvas_event();\n",
       "            fig.waiting = false;\n",
       "            return;\n",
       "        }\n",
       "\n",
       "        var msg = JSON.parse(evt.data);\n",
       "        var msg_type = msg['type'];\n",
       "\n",
       "        // Call the  \"handle_{type}\" callback, which takes\n",
       "        // the figure and JSON message as its only arguments.\n",
       "        try {\n",
       "            var callback = fig['handle_' + msg_type];\n",
       "        } catch (e) {\n",
       "            console.log(\n",
       "                \"No handler for the '\" + msg_type + \"' message type: \",\n",
       "                msg\n",
       "            );\n",
       "            return;\n",
       "        }\n",
       "\n",
       "        if (callback) {\n",
       "            try {\n",
       "                // console.log(\"Handling '\" + msg_type + \"' message: \", msg);\n",
       "                callback(fig, msg);\n",
       "            } catch (e) {\n",
       "                console.log(\n",
       "                    \"Exception inside the 'handler_\" + msg_type + \"' callback:\",\n",
       "                    e,\n",
       "                    e.stack,\n",
       "                    msg\n",
       "                );\n",
       "            }\n",
       "        }\n",
       "    };\n",
       "};\n",
       "\n",
       "// from http://stackoverflow.com/questions/1114465/getting-mouse-location-in-canvas\n",
       "mpl.findpos = function (e) {\n",
       "    //this section is from http://www.quirksmode.org/js/events_properties.html\n",
       "    var targ;\n",
       "    if (!e) {\n",
       "        e = window.event;\n",
       "    }\n",
       "    if (e.target) {\n",
       "        targ = e.target;\n",
       "    } else if (e.srcElement) {\n",
       "        targ = e.srcElement;\n",
       "    }\n",
       "    if (targ.nodeType === 3) {\n",
       "        // defeat Safari bug\n",
       "        targ = targ.parentNode;\n",
       "    }\n",
       "\n",
       "    // pageX,Y are the mouse positions relative to the document\n",
       "    var boundingRect = targ.getBoundingClientRect();\n",
       "    var x = e.pageX - (boundingRect.left + document.body.scrollLeft);\n",
       "    var y = e.pageY - (boundingRect.top + document.body.scrollTop);\n",
       "\n",
       "    return { x: x, y: y };\n",
       "};\n",
       "\n",
       "/*\n",
       " * return a copy of an object with only non-object keys\n",
       " * we need this to avoid circular references\n",
       " * http://stackoverflow.com/a/24161582/3208463\n",
       " */\n",
       "function simpleKeys(original) {\n",
       "    return Object.keys(original).reduce(function (obj, key) {\n",
       "        if (typeof original[key] !== 'object') {\n",
       "            obj[key] = original[key];\n",
       "        }\n",
       "        return obj;\n",
       "    }, {});\n",
       "}\n",
       "\n",
       "mpl.figure.prototype.mouse_event = function (event, name) {\n",
       "    var canvas_pos = mpl.findpos(event);\n",
       "\n",
       "    if (name === 'button_press') {\n",
       "        this.canvas.focus();\n",
       "        this.canvas_div.focus();\n",
       "    }\n",
       "\n",
       "    var x = canvas_pos.x * this.ratio;\n",
       "    var y = canvas_pos.y * this.ratio;\n",
       "\n",
       "    this.send_message(name, {\n",
       "        x: x,\n",
       "        y: y,\n",
       "        button: event.button,\n",
       "        step: event.step,\n",
       "        guiEvent: simpleKeys(event),\n",
       "    });\n",
       "\n",
       "    /* This prevents the web browser from automatically changing to\n",
       "     * the text insertion cursor when the button is pressed.  We want\n",
       "     * to control all of the cursor setting manually through the\n",
       "     * 'cursor' event from matplotlib */\n",
       "    event.preventDefault();\n",
       "    return false;\n",
       "};\n",
       "\n",
       "mpl.figure.prototype._key_event_extra = function (_event, _name) {\n",
       "    // Handle any extra behaviour associated with a key event\n",
       "};\n",
       "\n",
       "mpl.figure.prototype.key_event = function (event, name) {\n",
       "    // Prevent repeat events\n",
       "    if (name === 'key_press') {\n",
       "        if (event.which === this._key) {\n",
       "            return;\n",
       "        } else {\n",
       "            this._key = event.which;\n",
       "        }\n",
       "    }\n",
       "    if (name === 'key_release') {\n",
       "        this._key = null;\n",
       "    }\n",
       "\n",
       "    var value = '';\n",
       "    if (event.ctrlKey && event.which !== 17) {\n",
       "        value += 'ctrl+';\n",
       "    }\n",
       "    if (event.altKey && event.which !== 18) {\n",
       "        value += 'alt+';\n",
       "    }\n",
       "    if (event.shiftKey && event.which !== 16) {\n",
       "        value += 'shift+';\n",
       "    }\n",
       "\n",
       "    value += 'k';\n",
       "    value += event.which.toString();\n",
       "\n",
       "    this._key_event_extra(event, name);\n",
       "\n",
       "    this.send_message(name, { key: value, guiEvent: simpleKeys(event) });\n",
       "    return false;\n",
       "};\n",
       "\n",
       "mpl.figure.prototype.toolbar_button_onclick = function (name) {\n",
       "    if (name === 'download') {\n",
       "        this.handle_save(this, null);\n",
       "    } else {\n",
       "        this.send_message('toolbar_button', { name: name });\n",
       "    }\n",
       "};\n",
       "\n",
       "mpl.figure.prototype.toolbar_button_onmouseover = function (tooltip) {\n",
       "    this.message.textContent = tooltip;\n",
       "};\n",
       "\n",
       "///////////////// REMAINING CONTENT GENERATED BY embed_js.py /////////////////\n",
       "// prettier-ignore\n",
       "var _JSXTOOLS_RESIZE_OBSERVER=function(A){var t,i=new WeakMap,n=new WeakMap,a=new WeakMap,r=new WeakMap,o=new Set;function s(e){if(!(this instanceof s))throw new TypeError(\"Constructor requires 'new' operator\");i.set(this,e)}function h(){throw new TypeError(\"Function is not a constructor\")}function c(e,t,i,n){e=0 in arguments?Number(arguments[0]):0,t=1 in arguments?Number(arguments[1]):0,i=2 in arguments?Number(arguments[2]):0,n=3 in arguments?Number(arguments[3]):0,this.right=(this.x=this.left=e)+(this.width=i),this.bottom=(this.y=this.top=t)+(this.height=n),Object.freeze(this)}function d(){t=requestAnimationFrame(d);var s=new WeakMap,p=new Set;o.forEach((function(t){r.get(t).forEach((function(i){var r=t instanceof window.SVGElement,o=a.get(t),d=r?0:parseFloat(o.paddingTop),f=r?0:parseFloat(o.paddingRight),l=r?0:parseFloat(o.paddingBottom),u=r?0:parseFloat(o.paddingLeft),g=r?0:parseFloat(o.borderTopWidth),m=r?0:parseFloat(o.borderRightWidth),w=r?0:parseFloat(o.borderBottomWidth),b=u+f,F=d+l,v=(r?0:parseFloat(o.borderLeftWidth))+m,W=g+w,y=r?0:t.offsetHeight-W-t.clientHeight,E=r?0:t.offsetWidth-v-t.clientWidth,R=b+v,z=F+W,M=r?t.width:parseFloat(o.width)-R-E,O=r?t.height:parseFloat(o.height)-z-y;if(n.has(t)){var k=n.get(t);if(k[0]===M&&k[1]===O)return}n.set(t,[M,O]);var S=Object.create(h.prototype);S.target=t,S.contentRect=new c(u,d,M,O),s.has(i)||(s.set(i,[]),p.add(i)),s.get(i).push(S)}))})),p.forEach((function(e){i.get(e).call(e,s.get(e),e)}))}return s.prototype.observe=function(i){if(i instanceof window.Element){r.has(i)||(r.set(i,new Set),o.add(i),a.set(i,window.getComputedStyle(i)));var n=r.get(i);n.has(this)||n.add(this),cancelAnimationFrame(t),t=requestAnimationFrame(d)}},s.prototype.unobserve=function(i){if(i instanceof window.Element&&r.has(i)){var n=r.get(i);n.has(this)&&(n.delete(this),n.size||(r.delete(i),o.delete(i))),n.size||r.delete(i),o.size||cancelAnimationFrame(t)}},A.DOMRectReadOnly=c,A.ResizeObserver=s,A.ResizeObserverEntry=h,A}; // eslint-disable-line\n",
       "mpl.toolbar_items = [[\"Home\", \"Reset original view\", \"fa fa-home icon-home\", \"home\"], [\"Back\", \"Back to previous view\", \"fa fa-arrow-left icon-arrow-left\", \"back\"], [\"Forward\", \"Forward to next view\", \"fa fa-arrow-right icon-arrow-right\", \"forward\"], [\"\", \"\", \"\", \"\"], [\"Pan\", \"Left button pans, Right button zooms\\nx/y fixes axis, CTRL fixes aspect\", \"fa fa-arrows icon-move\", \"pan\"], [\"Zoom\", \"Zoom to rectangle\\nx/y fixes axis, CTRL fixes aspect\", \"fa fa-square-o icon-check-empty\", \"zoom\"], [\"\", \"\", \"\", \"\"], [\"Download\", \"Download plot\", \"fa fa-floppy-o icon-save\", \"download\"]];\n",
       "\n",
       "mpl.extensions = [\"eps\", \"jpeg\", \"pdf\", \"png\", \"ps\", \"raw\", \"svg\", \"tif\"];\n",
       "\n",
       "mpl.default_extension = \"png\";/* global mpl */\n",
       "\n",
       "var comm_websocket_adapter = function (comm) {\n",
       "    // Create a \"websocket\"-like object which calls the given IPython comm\n",
       "    // object with the appropriate methods. Currently this is a non binary\n",
       "    // socket, so there is still some room for performance tuning.\n",
       "    var ws = {};\n",
       "\n",
       "    ws.close = function () {\n",
       "        comm.close();\n",
       "    };\n",
       "    ws.send = function (m) {\n",
       "        //console.log('sending', m);\n",
       "        comm.send(m);\n",
       "    };\n",
       "    // Register the callback with on_msg.\n",
       "    comm.on_msg(function (msg) {\n",
       "        //console.log('receiving', msg['content']['data'], msg);\n",
       "        // Pass the mpl event to the overridden (by mpl) onmessage function.\n",
       "        ws.onmessage(msg['content']['data']);\n",
       "    });\n",
       "    return ws;\n",
       "};\n",
       "\n",
       "mpl.mpl_figure_comm = function (comm, msg) {\n",
       "    // This is the function which gets called when the mpl process\n",
       "    // starts-up an IPython Comm through the \"matplotlib\" channel.\n",
       "\n",
       "    var id = msg.content.data.id;\n",
       "    // Get hold of the div created by the display call when the Comm\n",
       "    // socket was opened in Python.\n",
       "    var element = document.getElementById(id);\n",
       "    var ws_proxy = comm_websocket_adapter(comm);\n",
       "\n",
       "    function ondownload(figure, _format) {\n",
       "        window.open(figure.canvas.toDataURL());\n",
       "    }\n",
       "\n",
       "    var fig = new mpl.figure(id, ws_proxy, ondownload, element);\n",
       "\n",
       "    // Call onopen now - mpl needs it, as it is assuming we've passed it a real\n",
       "    // web socket which is closed, not our websocket->open comm proxy.\n",
       "    ws_proxy.onopen();\n",
       "\n",
       "    fig.parent_element = element;\n",
       "    fig.cell_info = mpl.find_output_cell(\"<div id='\" + id + \"'></div>\");\n",
       "    if (!fig.cell_info) {\n",
       "        console.error('Failed to find cell for figure', id, fig);\n",
       "        return;\n",
       "    }\n",
       "    fig.cell_info[0].output_area.element.on(\n",
       "        'cleared',\n",
       "        { fig: fig },\n",
       "        fig._remove_fig_handler\n",
       "    );\n",
       "};\n",
       "\n",
       "mpl.figure.prototype.handle_close = function (fig, msg) {\n",
       "    var width = fig.canvas.width / fig.ratio;\n",
       "    fig.cell_info[0].output_area.element.off(\n",
       "        'cleared',\n",
       "        fig._remove_fig_handler\n",
       "    );\n",
       "    fig.resizeObserverInstance.unobserve(fig.canvas_div);\n",
       "\n",
       "    // Update the output cell to use the data from the current canvas.\n",
       "    fig.push_to_output();\n",
       "    var dataURL = fig.canvas.toDataURL();\n",
       "    // Re-enable the keyboard manager in IPython - without this line, in FF,\n",
       "    // the notebook keyboard shortcuts fail.\n",
       "    IPython.keyboard_manager.enable();\n",
       "    fig.parent_element.innerHTML =\n",
       "        '<img src=\"' + dataURL + '\" width=\"' + width + '\">';\n",
       "    fig.close_ws(fig, msg);\n",
       "};\n",
       "\n",
       "mpl.figure.prototype.close_ws = function (fig, msg) {\n",
       "    fig.send_message('closing', msg);\n",
       "    // fig.ws.close()\n",
       "};\n",
       "\n",
       "mpl.figure.prototype.push_to_output = function (_remove_interactive) {\n",
       "    // Turn the data on the canvas into data in the output cell.\n",
       "    var width = this.canvas.width / this.ratio;\n",
       "    var dataURL = this.canvas.toDataURL();\n",
       "    this.cell_info[1]['text/html'] =\n",
       "        '<img src=\"' + dataURL + '\" width=\"' + width + '\">';\n",
       "};\n",
       "\n",
       "mpl.figure.prototype.updated_canvas_event = function () {\n",
       "    // Tell IPython that the notebook contents must change.\n",
       "    IPython.notebook.set_dirty(true);\n",
       "    this.send_message('ack', {});\n",
       "    var fig = this;\n",
       "    // Wait a second, then push the new image to the DOM so\n",
       "    // that it is saved nicely (might be nice to debounce this).\n",
       "    setTimeout(function () {\n",
       "        fig.push_to_output();\n",
       "    }, 1000);\n",
       "};\n",
       "\n",
       "mpl.figure.prototype._init_toolbar = function () {\n",
       "    var fig = this;\n",
       "\n",
       "    var toolbar = document.createElement('div');\n",
       "    toolbar.classList = 'btn-toolbar';\n",
       "    this.root.appendChild(toolbar);\n",
       "\n",
       "    function on_click_closure(name) {\n",
       "        return function (_event) {\n",
       "            return fig.toolbar_button_onclick(name);\n",
       "        };\n",
       "    }\n",
       "\n",
       "    function on_mouseover_closure(tooltip) {\n",
       "        return function (event) {\n",
       "            if (!event.currentTarget.disabled) {\n",
       "                return fig.toolbar_button_onmouseover(tooltip);\n",
       "            }\n",
       "        };\n",
       "    }\n",
       "\n",
       "    fig.buttons = {};\n",
       "    var buttonGroup = document.createElement('div');\n",
       "    buttonGroup.classList = 'btn-group';\n",
       "    var button;\n",
       "    for (var toolbar_ind in mpl.toolbar_items) {\n",
       "        var name = mpl.toolbar_items[toolbar_ind][0];\n",
       "        var tooltip = mpl.toolbar_items[toolbar_ind][1];\n",
       "        var image = mpl.toolbar_items[toolbar_ind][2];\n",
       "        var method_name = mpl.toolbar_items[toolbar_ind][3];\n",
       "\n",
       "        if (!name) {\n",
       "            /* Instead of a spacer, we start a new button group. */\n",
       "            if (buttonGroup.hasChildNodes()) {\n",
       "                toolbar.appendChild(buttonGroup);\n",
       "            }\n",
       "            buttonGroup = document.createElement('div');\n",
       "            buttonGroup.classList = 'btn-group';\n",
       "            continue;\n",
       "        }\n",
       "\n",
       "        button = fig.buttons[name] = document.createElement('button');\n",
       "        button.classList = 'btn btn-default';\n",
       "        button.href = '#';\n",
       "        button.title = name;\n",
       "        button.innerHTML = '<i class=\"fa ' + image + ' fa-lg\"></i>';\n",
       "        button.addEventListener('click', on_click_closure(method_name));\n",
       "        button.addEventListener('mouseover', on_mouseover_closure(tooltip));\n",
       "        buttonGroup.appendChild(button);\n",
       "    }\n",
       "\n",
       "    if (buttonGroup.hasChildNodes()) {\n",
       "        toolbar.appendChild(buttonGroup);\n",
       "    }\n",
       "\n",
       "    // Add the status bar.\n",
       "    var status_bar = document.createElement('span');\n",
       "    status_bar.classList = 'mpl-message pull-right';\n",
       "    toolbar.appendChild(status_bar);\n",
       "    this.message = status_bar;\n",
       "\n",
       "    // Add the close button to the window.\n",
       "    var buttongrp = document.createElement('div');\n",
       "    buttongrp.classList = 'btn-group inline pull-right';\n",
       "    button = document.createElement('button');\n",
       "    button.classList = 'btn btn-mini btn-primary';\n",
       "    button.href = '#';\n",
       "    button.title = 'Stop Interaction';\n",
       "    button.innerHTML = '<i class=\"fa fa-power-off icon-remove icon-large\"></i>';\n",
       "    button.addEventListener('click', function (_evt) {\n",
       "        fig.handle_close(fig, {});\n",
       "    });\n",
       "    button.addEventListener(\n",
       "        'mouseover',\n",
       "        on_mouseover_closure('Stop Interaction')\n",
       "    );\n",
       "    buttongrp.appendChild(button);\n",
       "    var titlebar = this.root.querySelector('.ui-dialog-titlebar');\n",
       "    titlebar.insertBefore(buttongrp, titlebar.firstChild);\n",
       "};\n",
       "\n",
       "mpl.figure.prototype._remove_fig_handler = function (event) {\n",
       "    var fig = event.data.fig;\n",
       "    if (event.target !== this) {\n",
       "        // Ignore bubbled events from children.\n",
       "        return;\n",
       "    }\n",
       "    fig.close_ws(fig, {});\n",
       "};\n",
       "\n",
       "mpl.figure.prototype._root_extra_style = function (el) {\n",
       "    el.style.boxSizing = 'content-box'; // override notebook setting of border-box.\n",
       "};\n",
       "\n",
       "mpl.figure.prototype._canvas_extra_style = function (el) {\n",
       "    // this is important to make the div 'focusable\n",
       "    el.setAttribute('tabindex', 0);\n",
       "    // reach out to IPython and tell the keyboard manager to turn it's self\n",
       "    // off when our div gets focus\n",
       "\n",
       "    // location in version 3\n",
       "    if (IPython.notebook.keyboard_manager) {\n",
       "        IPython.notebook.keyboard_manager.register_events(el);\n",
       "    } else {\n",
       "        // location in version 2\n",
       "        IPython.keyboard_manager.register_events(el);\n",
       "    }\n",
       "};\n",
       "\n",
       "mpl.figure.prototype._key_event_extra = function (event, _name) {\n",
       "    var manager = IPython.notebook.keyboard_manager;\n",
       "    if (!manager) {\n",
       "        manager = IPython.keyboard_manager;\n",
       "    }\n",
       "\n",
       "    // Check for shift+enter\n",
       "    if (event.shiftKey && event.which === 13) {\n",
       "        this.canvas_div.blur();\n",
       "        // select the cell after this one\n",
       "        var index = IPython.notebook.find_cell_index(this.cell_info[0]);\n",
       "        IPython.notebook.select(index + 1);\n",
       "    }\n",
       "};\n",
       "\n",
       "mpl.figure.prototype.handle_save = function (fig, _msg) {\n",
       "    fig.ondownload(fig, null);\n",
       "};\n",
       "\n",
       "mpl.find_output_cell = function (html_output) {\n",
       "    // Return the cell and output element which can be found *uniquely* in the notebook.\n",
       "    // Note - this is a bit hacky, but it is done because the \"notebook_saving.Notebook\"\n",
       "    // IPython event is triggered only after the cells have been serialised, which for\n",
       "    // our purposes (turning an active figure into a static one), is too late.\n",
       "    var cells = IPython.notebook.get_cells();\n",
       "    var ncells = cells.length;\n",
       "    for (var i = 0; i < ncells; i++) {\n",
       "        var cell = cells[i];\n",
       "        if (cell.cell_type === 'code') {\n",
       "            for (var j = 0; j < cell.output_area.outputs.length; j++) {\n",
       "                var data = cell.output_area.outputs[j];\n",
       "                if (data.data) {\n",
       "                    // IPython >= 3 moved mimebundle to data attribute of output\n",
       "                    data = data.data;\n",
       "                }\n",
       "                if (data['text/html'] === html_output) {\n",
       "                    return [cell, data, j];\n",
       "                }\n",
       "            }\n",
       "        }\n",
       "    }\n",
       "};\n",
       "\n",
       "// Register the function which deals with the matplotlib target/channel.\n",
       "// The kernel may be null if the page has been refreshed.\n",
       "if (IPython.notebook.kernel !== null) {\n",
       "    IPython.notebook.kernel.comm_manager.register_target(\n",
       "        'matplotlib',\n",
       "        mpl.mpl_figure_comm\n",
       "    );\n",
       "}\n"
      ],
      "text/plain": [
       "<IPython.core.display.Javascript object>"
      ]
     },
     "metadata": {},
     "output_type": "display_data"
    },
    {
     "data": {
      "text/html": [
       "<img src=\"data:image/png;base64,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\" width=\"575.0000097921918\">"
      ],
      "text/plain": [
       "<IPython.core.display.HTML object>"
      ]
     },
     "metadata": {},
     "output_type": "display_data"
    },
    {
     "data": {
      "text/plain": [
       "Text(0.5, 0, 'Iteration Number')"
      ]
     },
     "execution_count": 9,
     "metadata": {},
     "output_type": "execute_result"
    }
   ],
   "source": [
    "%pylab notebook\n",
    "for t_rad in t_rad_table:\n",
    "    plot(t_rad)\n",
    "ylabel(r'$T_{rad}\\ [K]$')\n",
    "xlabel('Iteration Number')"
   ]
  },
  {
   "cell_type": "code",
   "execution_count": 10,
   "metadata": {
    "scrolled": true
   },
   "outputs": [
    {
     "data": {
      "text/plain": [
       "[<Quantity [10134.73371663, 10158.89406841, 10199.16306216, 10230.98870501,\n",
       "            10268.95723542, 10222.89084514, 10224.33250793, 10215.30410311,\n",
       "            10218.67593188, 10185.46372885, 10144.46316917, 10076.87680984,\n",
       "            10030.20934785, 10029.01862114,  9986.94452444,  9873.47784586,\n",
       "             9843.33461403,  9771.60970268,  9679.52461998,  9610.2097742 ] K>,\n",
       " <Quantity [11468.02190342, 11435.99940797, 11449.93044423, 11492.65958294,\n",
       "            11527.29921717, 11499.83533966, 11477.27633065, 11460.65974497,\n",
       "            11406.16104994, 11340.54394292, 11306.37033012, 11212.54832475,\n",
       "            11165.15031795, 11109.46028868, 11032.75181237, 10953.82813006,\n",
       "            10887.89602394, 10829.27383667, 10807.47863095, 10678.47203947] K>,\n",
       " <Quantity [10497.00839713, 10647.41214964, 10710.55559835, 10778.42854785,\n",
       "            10799.15754111, 10799.07591326, 10809.36602186, 10753.85189047,\n",
       "            10723.18539784, 10725.95053008, 10623.43327386, 10568.22784358,\n",
       "            10448.42679603, 10344.12957084, 10277.24707073, 10226.18707134,\n",
       "            10191.52292305, 10084.74943112,  9966.77486009,  9840.48779147] K>,\n",
       " <Quantity [11615.34431272, 11665.12323073, 11722.63198082, 11696.75903439,\n",
       "            11740.27498922, 11729.4113895 , 11762.93754644, 11652.44218706,\n",
       "            11589.11016884, 11561.49604319, 11517.19031699, 11433.02020685,\n",
       "            11326.42249365, 11237.97326174, 11182.84162472, 11103.37345606,\n",
       "            10988.38139472, 10950.08132968, 10862.94765979, 10751.85523157] K>,\n",
       " <Quantity [10549.51412848, 10759.56507418, 10894.66363801, 10932.86520369,\n",
       "            10930.70906998, 10919.07348121, 10877.07525273, 10810.82426926,\n",
       "            10785.60310849, 10727.31310966, 10697.30329967, 10711.25721037,\n",
       "            10551.73444615, 10490.89252456, 10416.93363077, 10379.86307264,\n",
       "            10279.6301067 , 10220.45372953, 10077.47548462,  9927.28588243] K>,\n",
       " <Quantity [11567.20818434, 11613.02512305, 11683.32882735, 11693.10470883,\n",
       "            11724.27832527, 11653.12412093, 11612.65021224, 11609.82892874,\n",
       "            11614.58032695, 11546.46238912, 11425.9550101 , 11375.04899851,\n",
       "            11315.81814043, 11225.57878078, 11120.44986401, 11082.15593779,\n",
       "            10987.8685143 , 10920.4425505 , 10834.92855121, 10735.5038528 ] K>,\n",
       " <Quantity [10569.74740334, 10778.03496834, 10902.99080443, 10989.79731436,\n",
       "            11047.11344622, 11099.19425924, 11016.0513058 , 10966.51317167,\n",
       "            10947.55947416, 10934.5813627 , 10809.39789045, 10698.34123071,\n",
       "            10636.97262276, 10581.99648088, 10532.22275986, 10454.84129923,\n",
       "            10338.20564492, 10252.88187607, 10087.4049428 ,  9969.19642356] K>,\n",
       " <Quantity [11547.678162  , 11623.87478618, 11731.04471691, 11760.25509798,\n",
       "            11744.69897709, 11669.73950818, 11644.12167048, 11594.30464359,\n",
       "            11525.86452222, 11493.83280118, 11493.56958964, 11391.45557558,\n",
       "            11294.14446433, 11274.7153599 , 11177.40549219, 11083.76958592,\n",
       "            11033.94930757, 10945.60238527, 10830.93821236, 10712.24586959] K>,\n",
       " <Quantity [10635.09921683, 10811.01879882, 10933.63897347, 10979.71707048,\n",
       "            11020.40377679, 11035.73146395, 10938.26512112, 10845.59661332,\n",
       "            10800.7319752 , 10763.63957085, 10717.47148646, 10707.49698207,\n",
       "            10660.60682399, 10573.35754777, 10472.70086837, 10404.04929932,\n",
       "            10290.6986379 , 10218.26595505, 10108.37859363,  9988.31566804] K>,\n",
       " <Quantity [11500.55767773, 11637.54642969, 11663.40617043, 11724.96850866,\n",
       "            11714.76054618, 11715.26740582, 11601.49434628, 11508.24034557,\n",
       "            11502.48896319, 11497.38642253, 11451.27065631, 11400.15957699,\n",
       "            11327.52422564, 11287.89222323, 11179.32584663, 11094.42343846,\n",
       "            10990.64808731, 10925.43439997, 10815.56413143, 10706.17779626] K>,\n",
       " <Quantity [10570.85650926, 10736.44256884, 10856.86864797, 10979.90669701,\n",
       "            10953.70043467, 10957.33627608, 10966.45969539, 10949.85784703,\n",
       "            10898.17650138, 10912.84715469, 10916.41039059, 10804.79013541,\n",
       "            10642.72175722, 10673.9502097 , 10562.15537192, 10441.05392948,\n",
       "            10375.82143774, 10218.80809485, 10128.9252862 ,  9982.97758361] K>,\n",
       " <Quantity [11533.5544189 , 11597.33147991, 11657.88958517, 11762.26874864,\n",
       "            11775.91751305, 11764.96789542, 11676.07308664, 11650.11261714,\n",
       "            11594.25894605, 11522.73635159, 11444.19199938, 11366.85561551,\n",
       "            11333.42881096, 11291.11545548, 11165.54644573, 11084.73603281,\n",
       "            11050.69940767, 10978.54248597, 10849.29193001, 10738.95795616] K>,\n",
       " <Quantity [10680.78466138, 10845.54242938, 10944.81519293, 10993.08731782,\n",
       "            11012.94007648, 10887.37942796, 10983.66231617, 11024.75138876,\n",
       "            10943.79747882, 10891.46732591, 10825.7920249 , 10805.55752936,\n",
       "            10706.59189521, 10571.78465311, 10496.27569518, 10402.12022784,\n",
       "            10301.4414694 , 10238.49109674, 10147.57480316, 10007.56646422] K>,\n",
       " <Quantity [11437.18812964, 11528.70157803, 11640.44946878, 11710.81860385,\n",
       "            11646.85233939, 11571.10685586, 11529.13001805, 11506.7244775 ,\n",
       "            11494.47353658, 11432.76091887, 11378.13791826, 11302.85507986,\n",
       "            11244.6313272 , 11103.72483819, 11017.94198742, 10957.2118137 ,\n",
       "            10894.70310614, 10810.0296012 , 10701.1859495 , 10638.39143971] K>,\n",
       " <Quantity [10637.77489339, 10870.52874113, 10979.20752095, 11029.88985025,\n",
       "            11017.83030178, 11002.6479268 , 11063.17616364, 11043.32034334,\n",
       "            10953.5905867 , 10884.14970243, 10832.04210806, 10746.12071169,\n",
       "            10638.76481383, 10558.0922768 , 10449.10729702, 10350.60274211,\n",
       "            10298.78313027, 10276.17331143, 10189.13908664, 10056.48483822] K>,\n",
       " <Quantity [11420.97998714, 11498.3378131 , 11639.50519135, 11664.64061747,\n",
       "            11701.72891283, 11711.92399445, 11712.74659683, 11591.26911238,\n",
       "            11449.64189784, 11435.51189244, 11421.34611778, 11334.21089688,\n",
       "            11278.25845982, 11196.47781774, 11110.13899407, 11076.43417973,\n",
       "            10994.47728736, 10901.21826165, 10835.51822475, 10711.03732264] K>,\n",
       " <Quantity [10691.84984497, 10881.25275964, 11024.6004891 , 11008.92653002,\n",
       "            11076.89488326, 11042.04571197, 11063.16803658, 11070.57855963,\n",
       "            11044.69176419, 10970.65161246, 10980.88660931, 10896.00342966,\n",
       "            10767.5999907 , 10635.61399416, 10472.84699422, 10456.66200657,\n",
       "            10434.29558187, 10327.02759206, 10213.72663539, 10093.31012513] K>,\n",
       " <Quantity [11404.68644336, 11550.42215314, 11639.13887648, 11674.32622518,\n",
       "            11643.00328116, 11664.22771237, 11609.62289907, 11571.27166344,\n",
       "            11488.50515494, 11474.16647224, 11444.22066881, 11321.68764469,\n",
       "            11274.08621143, 11214.93516302, 11095.71592966, 11052.69808693,\n",
       "            10967.06749902, 10861.62894389, 10781.61136512, 10666.56171563] K>,\n",
       " <Quantity [10732.83230561, 10927.53274501, 10999.03829599, 11120.94282301,\n",
       "            11127.28373734, 11084.30280677, 11069.78481231, 11066.32255939,\n",
       "            11003.06637625, 10955.36419212, 10899.73653924, 10741.06863236,\n",
       "            10710.32738348, 10597.49622655, 10549.38977366, 10465.94151931,\n",
       "            10371.37042058, 10256.852571  , 10163.04696683, 10074.6905332 ] K>,\n",
       " <Quantity [10732.83230561, 10927.53274501, 10999.03829599, 11120.94282301,\n",
       "            11127.28373734, 11084.30280677, 11069.78481231, 11066.32255939,\n",
       "            11003.06637625, 10955.36419212, 10899.73653924, 10741.06863236,\n",
       "            10710.32738348, 10597.49622655, 10549.38977366, 10465.94151931,\n",
       "            10371.37042058, 10256.852571  , 10163.04696683, 10074.6905332 ] K>]"
      ]
     },
     "execution_count": 10,
     "metadata": {},
     "output_type": "execute_result"
    }
   ],
   "source": [
    "t_rad_table"
   ]
  },
  {
   "cell_type": "code",
   "execution_count": null,
   "metadata": {},
   "outputs": [],
   "source": []
  }
 ],
 "metadata": {
  "kernelspec": {
   "display_name": "Python 3",
   "language": "python",
   "name": "python3"
  },
  "language_info": {
   "codemirror_mode": {
    "name": "ipython",
    "version": 3
   },
   "file_extension": ".py",
   "mimetype": "text/x-python",
   "name": "python",
   "nbconvert_exporter": "python",
   "pygments_lexer": "ipython3",
   "version": "3.8.8"
  }
 },
 "nbformat": 4,
 "nbformat_minor": 4
}
