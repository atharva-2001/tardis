{
 "cells": [
  {
   "cell_type": "markdown",
   "metadata": {},
   "source": [
    "# How to Generate Data Exploration Widgets\n",
    "A demonstration of how to generate TARDIS widgets that allows you to **explore simulation data within Jupyter Notebook with ease**!\n",
    "\n",
    "This notebook is a quickstart how-to guide, but more details on each widget (and its features) is given in the [Using TARDIS Widgets](https://tardis-sn.github.io/tardis/io/visualization/using_widgets.html) section of the documentation."
   ]
  },
  {
   "cell_type": "markdown",
   "metadata": {},
   "source": [
    "First create and run a simulation that we can use to generate widgets (more details about running simulation in [Quickstart](https://tardis-sn.github.io/tardis/quickstart/quickstart.html) section):\n"
   ]
  },
  {
   "cell_type": "code",
   "execution_count": 1,
   "metadata": {
    "ExecuteTime": {
     "end_time": "2021-02-18T16:10:42.838867Z",
     "start_time": "2021-02-18T16:09:22.826173Z"
    },
    "execution": {
     "iopub.execute_input": "2024-04-15T05:18:18.024901Z",
     "iopub.status.busy": "2024-04-15T05:18:18.024750Z",
     "iopub.status.idle": "2024-04-15T05:19:12.038851Z",
     "shell.execute_reply": "2024-04-15T05:19:12.038413Z"
    },
    "scrolled": true
   },
   "outputs": [
    {
     "name": "stderr",
     "output_type": "stream",
     "text": [
      "/usr/share/miniconda3/envs/tardis/lib/python3.11/site-packages/setuptools_scm/git.py:162: UserWarning: \"/home/runner/work/tardis/tardis\" is shallow and may cause errors\n",
      "  warnings.warn(f'\"{wd.path}\" is shallow and may cause errors')\n"
     ]
    },
    {
     "data": {
      "application/vnd.jupyter.widget-view+json": {
       "model_id": "735509d0006d4f15b07b5fa298cf4410",
       "version_major": 2,
       "version_minor": 0
      },
      "text/plain": [
       "Iterations:          0/? [00:00<?, ?it/s]"
      ]
     },
     "metadata": {},
     "output_type": "display_data"
    },
    {
     "data": {
      "application/vnd.jupyter.widget-view+json": {
       "model_id": "51a6d0ff1b464f0aa62918ece96869d0",
       "version_major": 2,
       "version_minor": 0
      },
      "text/plain": [
       "Packets:             0/? [00:00<?, ?it/s]"
      ]
     },
     "metadata": {},
     "output_type": "display_data"
    },
    {
     "name": "stderr",
     "output_type": "stream",
     "text": [
      "Atomic Data kurucz_cd23_chianti_H_He already exists in /home/runner/Downloads/tardis-data/kurucz_cd23_chianti_H_He.h5. Will not download - override with force_download=True.\n"
     ]
    },
    {
     "name": "stdout",
     "output_type": "stream",
     "text": [
      "[\u001b[1mtardis.simulation.base\u001b[0m][\u001b[1;37mINFO\u001b[0m   ]  \n",
      "\t\n",
      "\tReading Atomic Data from kurucz_cd23_chianti_H_He.h5 (\u001b[1mbase.py\u001b[0m:681)\n"
     ]
    },
    {
     "name": "stdout",
     "output_type": "stream",
     "text": [
      "[\u001b[1mtardis.io.atom_data.util\u001b[0m][\u001b[1;37mINFO\u001b[0m   ]  \n",
      "\t\n",
      "\tAtom Data kurucz_cd23_chianti_H_He.h5 not found in local path.\n",
      "\tExists in TARDIS Data repo /home/runner/Downloads/tardis-data/kurucz_cd23_chianti_H_He.h5 (\u001b[1mutil.py\u001b[0m:36)\n"
     ]
    },
    {
     "name": "stdout",
     "output_type": "stream",
     "text": [
      "[\u001b[1mtardis.io.atom_data.base\u001b[0m][\u001b[1;37mINFO\u001b[0m   ]  \n",
      "\tReading Atom Data with: UUID = 6f7b09e887a311e7a06b246e96350010 MD5  = 864f1753714343c41f99cb065710cace  (\u001b[1mbase.py\u001b[0m:258)\n"
     ]
    },
    {
     "name": "stdout",
     "output_type": "stream",
     "text": [
      "[\u001b[1mtardis.io.atom_data.base\u001b[0m][\u001b[1;37mINFO\u001b[0m   ]  \n",
      "\tNon provided Atomic Data: synpp_refs, photoionization_data, yg_data, two_photon_data, linelist (\u001b[1mbase.py\u001b[0m:262)\n"
     ]
    },
    {
     "name": "stdout",
     "output_type": "stream",
     "text": [
      "[\u001b[1mtardis.model.parse_input\u001b[0m][\u001b[1;33mWARNING\u001b[0m]  \n",
      "\tNumber of density points larger than number of shells. Assuming inner point irrelevant (\u001b[1mparse_input.py\u001b[0m:143)\n"
     ]
    },
    {
     "name": "stdout",
     "output_type": "stream",
     "text": [
      "[\u001b[1mtardis.model.matter.decay\u001b[0m][\u001b[1;37mINFO\u001b[0m   ]  \n",
      "\tDecaying abundances for 1123200.0 seconds (\u001b[1mdecay.py\u001b[0m:101)\n"
     ]
    },
    {
     "name": "stdout",
     "output_type": "stream",
     "text": [
      "[\u001b[1mpy.warnings         \u001b[0m][\u001b[1;33mWARNING\u001b[0m]  \n",
      "\t/home/runner/work/tardis/tardis/tardis/plasma/properties/radiative_properties.py:93: RuntimeWarning: invalid value encountered in divide\n",
      "  (g_lower * n_upper) / (g_upper * n_lower)\n",
      " (\u001b[1mwarnings.py\u001b[0m:109)\n"
     ]
    },
    {
     "name": "stdout",
     "output_type": "stream",
     "text": [
      "[\u001b[1mpy.warnings         \u001b[0m][\u001b[1;33mWARNING\u001b[0m]  \n",
      "\t/home/runner/work/tardis/tardis/tardis/plasma/properties/radiative_properties.py:93: RuntimeWarning: invalid value encountered in divide\n",
      "  (g_lower * n_upper) / (g_upper * n_lower)\n",
      " (\u001b[1mwarnings.py\u001b[0m:109)\n"
     ]
    },
    {
     "name": "stdout",
     "output_type": "stream",
     "text": [
      "[\u001b[1mtardis.simulation.base\u001b[0m][\u001b[1;37mINFO\u001b[0m   ]  \n",
      "\t\n",
      "\tStarting iteration 1 of 20 (\u001b[1mbase.py\u001b[0m:398)\n"
     ]
    },
    {
     "data": {
      "application/vnd.jupyter.widget-view+json": {
       "model_id": "301f9195f4024e4bb3e96238cb59575e",
       "version_major": 2,
       "version_minor": 0
      },
      "text/plain": [
       "TqdmHBox(children=(HTML(value='Iterations:', layout=Layout(width='6%')), FloatProgress(value=0.0, layout=Layou…"
      ]
     },
     "metadata": {},
     "output_type": "display_data"
    },
    {
     "data": {
      "application/vnd.jupyter.widget-view+json": {
       "model_id": "b2724dc1f5eb4395ae41c87f90282965",
       "version_major": 2,
       "version_minor": 0
      },
      "text/plain": [
       "TqdmHBox(children=(HTML(value='Packets:   ', layout=Layout(width='6%')), FloatProgress(value=0.0, layout=Layou…"
      ]
     },
     "metadata": {},
     "output_type": "display_data"
    },
    {
     "name": "stdout",
     "output_type": "stream",
     "text": [
      "[\u001b[1mtardis.simulation.base\u001b[0m][\u001b[1;37mINFO\u001b[0m   ]  \n",
      "\t\n",
      "\tLuminosity emitted   = 7.942e+42 erg / s\n",
      "\tLuminosity absorbed  = 2.659e+42 erg / s\n",
      "\tLuminosity requested = 1.059e+43 erg / s\n",
      " (\u001b[1mbase.py\u001b[0m:580)\n"
     ]
    },
    {
     "name": "stdout",
     "output_type": "stream",
     "text": [
      "[\u001b[1mtardis.simulation.base\u001b[0m][\u001b[1;37mINFO\u001b[0m   ]  \n",
      "\t\n",
      "\tPlasma stratification: (\u001b[1mbase.py\u001b[0m:548)\n"
     ]
    },
    {
     "data": {
      "text/html": [
       "<style type=\"text/css\">\n",
       "</style>\n",
       "<table id=\"T_df73e\">\n",
       "  <thead>\n",
       "    <tr>\n",
       "      <th class=\"index_name level0\" >Shell No.</th>\n",
       "      <th id=\"T_df73e_level0_col0\" class=\"col_heading level0 col0\" >t_rad</th>\n",
       "      <th id=\"T_df73e_level0_col1\" class=\"col_heading level0 col1\" >next_t_rad</th>\n",
       "      <th id=\"T_df73e_level0_col2\" class=\"col_heading level0 col2\" >w</th>\n",
       "      <th id=\"T_df73e_level0_col3\" class=\"col_heading level0 col3\" >next_w</th>\n",
       "    </tr>\n",
       "  </thead>\n",
       "  <tbody>\n",
       "    <tr>\n",
       "      <th id=\"T_df73e_level0_row0\" class=\"row_heading level0 row0\" >0</th>\n",
       "      <td id=\"T_df73e_row0_col0\" class=\"data row0 col0\" >9.93e+03 K</td>\n",
       "      <td id=\"T_df73e_row0_col1\" class=\"data row0 col1\" >1.01e+04 K</td>\n",
       "      <td id=\"T_df73e_row0_col2\" class=\"data row0 col2\" >0.4</td>\n",
       "      <td id=\"T_df73e_row0_col3\" class=\"data row0 col3\" >0.507</td>\n",
       "    </tr>\n",
       "    <tr>\n",
       "      <th id=\"T_df73e_level0_row1\" class=\"row_heading level0 row1\" >5</th>\n",
       "      <td id=\"T_df73e_row1_col0\" class=\"data row1 col0\" >9.85e+03 K</td>\n",
       "      <td id=\"T_df73e_row1_col1\" class=\"data row1 col1\" >1.02e+04 K</td>\n",
       "      <td id=\"T_df73e_row1_col2\" class=\"data row1 col2\" >0.211</td>\n",
       "      <td id=\"T_df73e_row1_col3\" class=\"data row1 col3\" >0.197</td>\n",
       "    </tr>\n",
       "    <tr>\n",
       "      <th id=\"T_df73e_level0_row2\" class=\"row_heading level0 row2\" >10</th>\n",
       "      <td id=\"T_df73e_row2_col0\" class=\"data row2 col0\" >9.78e+03 K</td>\n",
       "      <td id=\"T_df73e_row2_col1\" class=\"data row2 col1\" >1.01e+04 K</td>\n",
       "      <td id=\"T_df73e_row2_col2\" class=\"data row2 col2\" >0.143</td>\n",
       "      <td id=\"T_df73e_row2_col3\" class=\"data row2 col3\" >0.117</td>\n",
       "    </tr>\n",
       "    <tr>\n",
       "      <th id=\"T_df73e_level0_row3\" class=\"row_heading level0 row3\" >15</th>\n",
       "      <td id=\"T_df73e_row3_col0\" class=\"data row3 col0\" >9.71e+03 K</td>\n",
       "      <td id=\"T_df73e_row3_col1\" class=\"data row3 col1\" >9.87e+03 K</td>\n",
       "      <td id=\"T_df73e_row3_col2\" class=\"data row3 col2\" >0.105</td>\n",
       "      <td id=\"T_df73e_row3_col3\" class=\"data row3 col3\" >0.0869</td>\n",
       "    </tr>\n",
       "  </tbody>\n",
       "</table>\n"
      ],
      "text/plain": [
       "<pandas.io.formats.style.Styler at 0x7f70125e8690>"
      ]
     },
     "metadata": {},
     "output_type": "display_data"
    },
    {
     "name": "stdout",
     "output_type": "stream",
     "text": [
      "[\u001b[1mtardis.simulation.base\u001b[0m][\u001b[1;37mINFO\u001b[0m   ]  \n",
      "\t\n",
      "\tCurrent t_inner = 9933.952 K\n",
      "\tExpected t_inner for next iteration = 10703.212 K\n",
      " (\u001b[1mbase.py\u001b[0m:575)\n"
     ]
    },
    {
     "name": "stdout",
     "output_type": "stream",
     "text": [
      "[\u001b[1mpy.warnings         \u001b[0m][\u001b[1;33mWARNING\u001b[0m]  \n",
      "\t/home/runner/work/tardis/tardis/tardis/plasma/properties/radiative_properties.py:93: RuntimeWarning: invalid value encountered in divide\n",
      "  (g_lower * n_upper) / (g_upper * n_lower)\n",
      " (\u001b[1mwarnings.py\u001b[0m:109)\n"
     ]
    },
    {
     "name": "stdout",
     "output_type": "stream",
     "text": [
      "[\u001b[1mtardis.simulation.base\u001b[0m][\u001b[1;37mINFO\u001b[0m   ]  \n",
      "\t\n",
      "\tStarting iteration 2 of 20 (\u001b[1mbase.py\u001b[0m:398)\n"
     ]
    },
    {
     "name": "stdout",
     "output_type": "stream",
     "text": [
      "[\u001b[1mtardis.simulation.base\u001b[0m][\u001b[1;37mINFO\u001b[0m   ]  \n",
      "\t\n",
      "\tLuminosity emitted   = 1.071e+43 erg / s\n",
      "\tLuminosity absorbed  = 3.576e+42 erg / s\n",
      "\tLuminosity requested = 1.059e+43 erg / s\n",
      " (\u001b[1mbase.py\u001b[0m:580)\n"
     ]
    },
    {
     "name": "stdout",
     "output_type": "stream",
     "text": [
      "[\u001b[1mtardis.simulation.base\u001b[0m][\u001b[1;37mINFO\u001b[0m   ]  \n",
      "\t\n",
      "\tPlasma stratification: (\u001b[1mbase.py\u001b[0m:548)\n"
     ]
    },
    {
     "data": {
      "text/html": [
       "<style type=\"text/css\">\n",
       "</style>\n",
       "<table id=\"T_af651\">\n",
       "  <thead>\n",
       "    <tr>\n",
       "      <th class=\"index_name level0\" >Shell No.</th>\n",
       "      <th id=\"T_af651_level0_col0\" class=\"col_heading level0 col0\" >t_rad</th>\n",
       "      <th id=\"T_af651_level0_col1\" class=\"col_heading level0 col1\" >next_t_rad</th>\n",
       "      <th id=\"T_af651_level0_col2\" class=\"col_heading level0 col2\" >w</th>\n",
       "      <th id=\"T_af651_level0_col3\" class=\"col_heading level0 col3\" >next_w</th>\n",
       "    </tr>\n",
       "  </thead>\n",
       "  <tbody>\n",
       "    <tr>\n",
       "      <th id=\"T_af651_level0_row0\" class=\"row_heading level0 row0\" >0</th>\n",
       "      <td id=\"T_af651_row0_col0\" class=\"data row0 col0\" >1.01e+04 K</td>\n",
       "      <td id=\"T_af651_row0_col1\" class=\"data row0 col1\" >1.08e+04 K</td>\n",
       "      <td id=\"T_af651_row0_col2\" class=\"data row0 col2\" >0.507</td>\n",
       "      <td id=\"T_af651_row0_col3\" class=\"data row0 col3\" >0.525</td>\n",
       "    </tr>\n",
       "    <tr>\n",
       "      <th id=\"T_af651_level0_row1\" class=\"row_heading level0 row1\" >5</th>\n",
       "      <td id=\"T_af651_row1_col0\" class=\"data row1 col0\" >1.02e+04 K</td>\n",
       "      <td id=\"T_af651_row1_col1\" class=\"data row1 col1\" >1.1e+04 K</td>\n",
       "      <td id=\"T_af651_row1_col2\" class=\"data row1 col2\" >0.197</td>\n",
       "      <td id=\"T_af651_row1_col3\" class=\"data row1 col3\" >0.203</td>\n",
       "    </tr>\n",
       "    <tr>\n",
       "      <th id=\"T_af651_level0_row2\" class=\"row_heading level0 row2\" >10</th>\n",
       "      <td id=\"T_af651_row2_col0\" class=\"data row2 col0\" >1.01e+04 K</td>\n",
       "      <td id=\"T_af651_row2_col1\" class=\"data row2 col1\" >1.08e+04 K</td>\n",
       "      <td id=\"T_af651_row2_col2\" class=\"data row2 col2\" >0.117</td>\n",
       "      <td id=\"T_af651_row2_col3\" class=\"data row2 col3\" >0.125</td>\n",
       "    </tr>\n",
       "    <tr>\n",
       "      <th id=\"T_af651_level0_row3\" class=\"row_heading level0 row3\" >15</th>\n",
       "      <td id=\"T_af651_row3_col0\" class=\"data row3 col0\" >9.87e+03 K</td>\n",
       "      <td id=\"T_af651_row3_col1\" class=\"data row3 col1\" >1.05e+04 K</td>\n",
       "      <td id=\"T_af651_row3_col2\" class=\"data row3 col2\" >0.0869</td>\n",
       "      <td id=\"T_af651_row3_col3\" class=\"data row3 col3\" >0.0933</td>\n",
       "    </tr>\n",
       "  </tbody>\n",
       "</table>\n"
      ],
      "text/plain": [
       "<pandas.io.formats.style.Styler at 0x7f700d85c0d0>"
      ]
     },
     "metadata": {},
     "output_type": "display_data"
    },
    {
     "name": "stdout",
     "output_type": "stream",
     "text": [
      "[\u001b[1mtardis.simulation.base\u001b[0m][\u001b[1;37mINFO\u001b[0m   ]  \n",
      "\t\n",
      "\tCurrent t_inner = 10703.212 K\n",
      "\tExpected t_inner for next iteration = 10673.712 K\n",
      " (\u001b[1mbase.py\u001b[0m:575)\n"
     ]
    },
    {
     "name": "stdout",
     "output_type": "stream",
     "text": [
      "[\u001b[1mpy.warnings         \u001b[0m][\u001b[1;33mWARNING\u001b[0m]  \n",
      "\t/home/runner/work/tardis/tardis/tardis/plasma/properties/radiative_properties.py:93: RuntimeWarning: invalid value encountered in divide\n",
      "  (g_lower * n_upper) / (g_upper * n_lower)\n",
      " (\u001b[1mwarnings.py\u001b[0m:109)\n"
     ]
    },
    {
     "name": "stdout",
     "output_type": "stream",
     "text": [
      "[\u001b[1mtardis.simulation.base\u001b[0m][\u001b[1;37mINFO\u001b[0m   ]  \n",
      "\t\n",
      "\tStarting iteration 3 of 20 (\u001b[1mbase.py\u001b[0m:398)\n"
     ]
    },
    {
     "name": "stdout",
     "output_type": "stream",
     "text": [
      "[\u001b[1mtardis.simulation.base\u001b[0m][\u001b[1;37mINFO\u001b[0m   ]  \n",
      "\t\n",
      "\tLuminosity emitted   = 1.074e+43 erg / s\n",
      "\tLuminosity absorbed  = 3.391e+42 erg / s\n",
      "\tLuminosity requested = 1.059e+43 erg / s\n",
      " (\u001b[1mbase.py\u001b[0m:580)\n"
     ]
    },
    {
     "name": "stdout",
     "output_type": "stream",
     "text": [
      "[\u001b[1mtardis.simulation.base\u001b[0m][\u001b[1;37mINFO\u001b[0m   ]  \n",
      "\t\n",
      "\tPlasma stratification: (\u001b[1mbase.py\u001b[0m:548)\n"
     ]
    },
    {
     "data": {
      "text/html": [
       "<style type=\"text/css\">\n",
       "</style>\n",
       "<table id=\"T_9821d\">\n",
       "  <thead>\n",
       "    <tr>\n",
       "      <th class=\"index_name level0\" >Shell No.</th>\n",
       "      <th id=\"T_9821d_level0_col0\" class=\"col_heading level0 col0\" >t_rad</th>\n",
       "      <th id=\"T_9821d_level0_col1\" class=\"col_heading level0 col1\" >next_t_rad</th>\n",
       "      <th id=\"T_9821d_level0_col2\" class=\"col_heading level0 col2\" >w</th>\n",
       "      <th id=\"T_9821d_level0_col3\" class=\"col_heading level0 col3\" >next_w</th>\n",
       "    </tr>\n",
       "  </thead>\n",
       "  <tbody>\n",
       "    <tr>\n",
       "      <th id=\"T_9821d_level0_row0\" class=\"row_heading level0 row0\" >0</th>\n",
       "      <td id=\"T_9821d_row0_col0\" class=\"data row0 col0\" >1.08e+04 K</td>\n",
       "      <td id=\"T_9821d_row0_col1\" class=\"data row0 col1\" >1.1e+04 K</td>\n",
       "      <td id=\"T_9821d_row0_col2\" class=\"data row0 col2\" >0.525</td>\n",
       "      <td id=\"T_9821d_row0_col3\" class=\"data row0 col3\" >0.483</td>\n",
       "    </tr>\n",
       "    <tr>\n",
       "      <th id=\"T_9821d_level0_row1\" class=\"row_heading level0 row1\" >5</th>\n",
       "      <td id=\"T_9821d_row1_col0\" class=\"data row1 col0\" >1.1e+04 K</td>\n",
       "      <td id=\"T_9821d_row1_col1\" class=\"data row1 col1\" >1.12e+04 K</td>\n",
       "      <td id=\"T_9821d_row1_col2\" class=\"data row1 col2\" >0.203</td>\n",
       "      <td id=\"T_9821d_row1_col3\" class=\"data row1 col3\" >0.189</td>\n",
       "    </tr>\n",
       "    <tr>\n",
       "      <th id=\"T_9821d_level0_row2\" class=\"row_heading level0 row2\" >10</th>\n",
       "      <td id=\"T_9821d_row2_col0\" class=\"data row2 col0\" >1.08e+04 K</td>\n",
       "      <td id=\"T_9821d_row2_col1\" class=\"data row2 col1\" >1.1e+04 K</td>\n",
       "      <td id=\"T_9821d_row2_col2\" class=\"data row2 col2\" >0.125</td>\n",
       "      <td id=\"T_9821d_row2_col3\" class=\"data row2 col3\" >0.118</td>\n",
       "    </tr>\n",
       "    <tr>\n",
       "      <th id=\"T_9821d_level0_row3\" class=\"row_heading level0 row3\" >15</th>\n",
       "      <td id=\"T_9821d_row3_col0\" class=\"data row3 col0\" >1.05e+04 K</td>\n",
       "      <td id=\"T_9821d_row3_col1\" class=\"data row3 col1\" >1.06e+04 K</td>\n",
       "      <td id=\"T_9821d_row3_col2\" class=\"data row3 col2\" >0.0933</td>\n",
       "      <td id=\"T_9821d_row3_col3\" class=\"data row3 col3\" >0.0895</td>\n",
       "    </tr>\n",
       "  </tbody>\n",
       "</table>\n"
      ],
      "text/plain": [
       "<pandas.io.formats.style.Styler at 0x7f700d9e1350>"
      ]
     },
     "metadata": {},
     "output_type": "display_data"
    },
    {
     "name": "stdout",
     "output_type": "stream",
     "text": [
      "[\u001b[1mtardis.simulation.base\u001b[0m][\u001b[1;37mINFO\u001b[0m   ]  \n",
      "\t\n",
      "\tCurrent t_inner = 10673.712 K\n",
      "\tExpected t_inner for next iteration = 10635.953 K\n",
      " (\u001b[1mbase.py\u001b[0m:575)\n"
     ]
    },
    {
     "name": "stdout",
     "output_type": "stream",
     "text": [
      "[\u001b[1mpy.warnings         \u001b[0m][\u001b[1;33mWARNING\u001b[0m]  \n",
      "\t/home/runner/work/tardis/tardis/tardis/plasma/properties/radiative_properties.py:93: RuntimeWarning: invalid value encountered in divide\n",
      "  (g_lower * n_upper) / (g_upper * n_lower)\n",
      " (\u001b[1mwarnings.py\u001b[0m:109)\n"
     ]
    },
    {
     "name": "stdout",
     "output_type": "stream",
     "text": [
      "[\u001b[1mtardis.simulation.base\u001b[0m][\u001b[1;37mINFO\u001b[0m   ]  \n",
      "\t\n",
      "\tStarting iteration 4 of 20 (\u001b[1mbase.py\u001b[0m:398)\n"
     ]
    },
    {
     "name": "stdout",
     "output_type": "stream",
     "text": [
      "[\u001b[1mtardis.simulation.base\u001b[0m][\u001b[1;37mINFO\u001b[0m   ]  \n",
      "\t\n",
      "\tLuminosity emitted   = 1.058e+43 erg / s\n",
      "\tLuminosity absorbed  = 3.352e+42 erg / s\n",
      "\tLuminosity requested = 1.059e+43 erg / s\n",
      " (\u001b[1mbase.py\u001b[0m:580)\n"
     ]
    },
    {
     "name": "stdout",
     "output_type": "stream",
     "text": [
      "[\u001b[1mtardis.simulation.base\u001b[0m][\u001b[1;37mINFO\u001b[0m   ]  \n",
      "\t\n",
      "\tPlasma stratification: (\u001b[1mbase.py\u001b[0m:548)\n"
     ]
    },
    {
     "data": {
      "text/html": [
       "<style type=\"text/css\">\n",
       "</style>\n",
       "<table id=\"T_9b1e5\">\n",
       "  <thead>\n",
       "    <tr>\n",
       "      <th class=\"index_name level0\" >Shell No.</th>\n",
       "      <th id=\"T_9b1e5_level0_col0\" class=\"col_heading level0 col0\" >t_rad</th>\n",
       "      <th id=\"T_9b1e5_level0_col1\" class=\"col_heading level0 col1\" >next_t_rad</th>\n",
       "      <th id=\"T_9b1e5_level0_col2\" class=\"col_heading level0 col2\" >w</th>\n",
       "      <th id=\"T_9b1e5_level0_col3\" class=\"col_heading level0 col3\" >next_w</th>\n",
       "    </tr>\n",
       "  </thead>\n",
       "  <tbody>\n",
       "    <tr>\n",
       "      <th id=\"T_9b1e5_level0_row0\" class=\"row_heading level0 row0\" >0</th>\n",
       "      <td id=\"T_9b1e5_row0_col0\" class=\"data row0 col0\" >1.1e+04 K</td>\n",
       "      <td id=\"T_9b1e5_row0_col1\" class=\"data row0 col1\" >1.1e+04 K</td>\n",
       "      <td id=\"T_9b1e5_row0_col2\" class=\"data row0 col2\" >0.483</td>\n",
       "      <td id=\"T_9b1e5_row0_col3\" class=\"data row0 col3\" >0.469</td>\n",
       "    </tr>\n",
       "    <tr>\n",
       "      <th id=\"T_9b1e5_level0_row1\" class=\"row_heading level0 row1\" >5</th>\n",
       "      <td id=\"T_9b1e5_row1_col0\" class=\"data row1 col0\" >1.12e+04 K</td>\n",
       "      <td id=\"T_9b1e5_row1_col1\" class=\"data row1 col1\" >1.12e+04 K</td>\n",
       "      <td id=\"T_9b1e5_row1_col2\" class=\"data row1 col2\" >0.189</td>\n",
       "      <td id=\"T_9b1e5_row1_col3\" class=\"data row1 col3\" >0.182</td>\n",
       "    </tr>\n",
       "    <tr>\n",
       "      <th id=\"T_9b1e5_level0_row2\" class=\"row_heading level0 row2\" >10</th>\n",
       "      <td id=\"T_9b1e5_row2_col0\" class=\"data row2 col0\" >1.1e+04 K</td>\n",
       "      <td id=\"T_9b1e5_row2_col1\" class=\"data row2 col1\" >1.1e+04 K</td>\n",
       "      <td id=\"T_9b1e5_row2_col2\" class=\"data row2 col2\" >0.118</td>\n",
       "      <td id=\"T_9b1e5_row2_col3\" class=\"data row2 col3\" >0.113</td>\n",
       "    </tr>\n",
       "    <tr>\n",
       "      <th id=\"T_9b1e5_level0_row3\" class=\"row_heading level0 row3\" >15</th>\n",
       "      <td id=\"T_9b1e5_row3_col0\" class=\"data row3 col0\" >1.06e+04 K</td>\n",
       "      <td id=\"T_9b1e5_row3_col1\" class=\"data row3 col1\" >1.07e+04 K</td>\n",
       "      <td id=\"T_9b1e5_row3_col2\" class=\"data row3 col2\" >0.0895</td>\n",
       "      <td id=\"T_9b1e5_row3_col3\" class=\"data row3 col3\" >0.0861</td>\n",
       "    </tr>\n",
       "  </tbody>\n",
       "</table>\n"
      ],
      "text/plain": [
       "<pandas.io.formats.style.Styler at 0x7f700d9ec1d0>"
      ]
     },
     "metadata": {},
     "output_type": "display_data"
    },
    {
     "name": "stdout",
     "output_type": "stream",
     "text": [
      "[\u001b[1mtardis.simulation.base\u001b[0m][\u001b[1;37mINFO\u001b[0m   ]  \n",
      "\t\n",
      "\tCurrent t_inner = 10635.953 K\n",
      "\tExpected t_inner for next iteration = 10638.407 K\n",
      " (\u001b[1mbase.py\u001b[0m:575)\n"
     ]
    },
    {
     "name": "stdout",
     "output_type": "stream",
     "text": [
      "[\u001b[1mpy.warnings         \u001b[0m][\u001b[1;33mWARNING\u001b[0m]  \n",
      "\t/home/runner/work/tardis/tardis/tardis/plasma/properties/radiative_properties.py:93: RuntimeWarning: invalid value encountered in divide\n",
      "  (g_lower * n_upper) / (g_upper * n_lower)\n",
      " (\u001b[1mwarnings.py\u001b[0m:109)\n"
     ]
    },
    {
     "name": "stdout",
     "output_type": "stream",
     "text": [
      "[\u001b[1mtardis.simulation.base\u001b[0m][\u001b[1;37mINFO\u001b[0m   ]  \n",
      "\t\n",
      "\tStarting iteration 5 of 20 (\u001b[1mbase.py\u001b[0m:398)\n"
     ]
    },
    {
     "name": "stdout",
     "output_type": "stream",
     "text": [
      "[\u001b[1mtardis.simulation.base\u001b[0m][\u001b[1;37mINFO\u001b[0m   ]  \n",
      "\t\n",
      "\tLuminosity emitted   = 1.055e+43 erg / s\n",
      "\tLuminosity absorbed  = 3.399e+42 erg / s\n",
      "\tLuminosity requested = 1.059e+43 erg / s\n",
      " (\u001b[1mbase.py\u001b[0m:580)\n"
     ]
    },
    {
     "name": "stdout",
     "output_type": "stream",
     "text": [
      "[\u001b[1mtardis.simulation.base\u001b[0m][\u001b[1;37mINFO\u001b[0m   ]  \n",
      "\tIteration converged 1/4 consecutive times. (\u001b[1mbase.py\u001b[0m:268)\n"
     ]
    },
    {
     "name": "stdout",
     "output_type": "stream",
     "text": [
      "[\u001b[1mtardis.simulation.base\u001b[0m][\u001b[1;37mINFO\u001b[0m   ]  \n",
      "\t\n",
      "\tPlasma stratification: (\u001b[1mbase.py\u001b[0m:548)\n"
     ]
    },
    {
     "data": {
      "text/html": [
       "<style type=\"text/css\">\n",
       "</style>\n",
       "<table id=\"T_4f711\">\n",
       "  <thead>\n",
       "    <tr>\n",
       "      <th class=\"index_name level0\" >Shell No.</th>\n",
       "      <th id=\"T_4f711_level0_col0\" class=\"col_heading level0 col0\" >t_rad</th>\n",
       "      <th id=\"T_4f711_level0_col1\" class=\"col_heading level0 col1\" >next_t_rad</th>\n",
       "      <th id=\"T_4f711_level0_col2\" class=\"col_heading level0 col2\" >w</th>\n",
       "      <th id=\"T_4f711_level0_col3\" class=\"col_heading level0 col3\" >next_w</th>\n",
       "    </tr>\n",
       "  </thead>\n",
       "  <tbody>\n",
       "    <tr>\n",
       "      <th id=\"T_4f711_level0_row0\" class=\"row_heading level0 row0\" >0</th>\n",
       "      <td id=\"T_4f711_row0_col0\" class=\"data row0 col0\" >1.1e+04 K</td>\n",
       "      <td id=\"T_4f711_row0_col1\" class=\"data row0 col1\" >1.1e+04 K</td>\n",
       "      <td id=\"T_4f711_row0_col2\" class=\"data row0 col2\" >0.469</td>\n",
       "      <td id=\"T_4f711_row0_col3\" class=\"data row0 col3\" >0.479</td>\n",
       "    </tr>\n",
       "    <tr>\n",
       "      <th id=\"T_4f711_level0_row1\" class=\"row_heading level0 row1\" >5</th>\n",
       "      <td id=\"T_4f711_row1_col0\" class=\"data row1 col0\" >1.12e+04 K</td>\n",
       "      <td id=\"T_4f711_row1_col1\" class=\"data row1 col1\" >1.13e+04 K</td>\n",
       "      <td id=\"T_4f711_row1_col2\" class=\"data row1 col2\" >0.182</td>\n",
       "      <td id=\"T_4f711_row1_col3\" class=\"data row1 col3\" >0.178</td>\n",
       "    </tr>\n",
       "    <tr>\n",
       "      <th id=\"T_4f711_level0_row2\" class=\"row_heading level0 row2\" >10</th>\n",
       "      <td id=\"T_4f711_row2_col0\" class=\"data row2 col0\" >1.1e+04 K</td>\n",
       "      <td id=\"T_4f711_row2_col1\" class=\"data row2 col1\" >1.1e+04 K</td>\n",
       "      <td id=\"T_4f711_row2_col2\" class=\"data row2 col2\" >0.113</td>\n",
       "      <td id=\"T_4f711_row2_col3\" class=\"data row2 col3\" >0.113</td>\n",
       "    </tr>\n",
       "    <tr>\n",
       "      <th id=\"T_4f711_level0_row3\" class=\"row_heading level0 row3\" >15</th>\n",
       "      <td id=\"T_4f711_row3_col0\" class=\"data row3 col0\" >1.07e+04 K</td>\n",
       "      <td id=\"T_4f711_row3_col1\" class=\"data row3 col1\" >1.07e+04 K</td>\n",
       "      <td id=\"T_4f711_row3_col2\" class=\"data row3 col2\" >0.0861</td>\n",
       "      <td id=\"T_4f711_row3_col3\" class=\"data row3 col3\" >0.0839</td>\n",
       "    </tr>\n",
       "  </tbody>\n",
       "</table>\n"
      ],
      "text/plain": [
       "<pandas.io.formats.style.Styler at 0x7f700da2f250>"
      ]
     },
     "metadata": {},
     "output_type": "display_data"
    },
    {
     "name": "stdout",
     "output_type": "stream",
     "text": [
      "[\u001b[1mtardis.simulation.base\u001b[0m][\u001b[1;37mINFO\u001b[0m   ]  \n",
      "\t\n",
      "\tCurrent t_inner = 10638.407 K\n",
      "\tExpected t_inner for next iteration = 10650.202 K\n",
      " (\u001b[1mbase.py\u001b[0m:575)\n"
     ]
    },
    {
     "name": "stdout",
     "output_type": "stream",
     "text": [
      "[\u001b[1mpy.warnings         \u001b[0m][\u001b[1;33mWARNING\u001b[0m]  \n",
      "\t/home/runner/work/tardis/tardis/tardis/plasma/properties/radiative_properties.py:93: RuntimeWarning: invalid value encountered in divide\n",
      "  (g_lower * n_upper) / (g_upper * n_lower)\n",
      " (\u001b[1mwarnings.py\u001b[0m:109)\n"
     ]
    },
    {
     "name": "stdout",
     "output_type": "stream",
     "text": [
      "[\u001b[1mtardis.simulation.base\u001b[0m][\u001b[1;37mINFO\u001b[0m   ]  \n",
      "\t\n",
      "\tStarting iteration 6 of 20 (\u001b[1mbase.py\u001b[0m:398)\n"
     ]
    },
    {
     "name": "stdout",
     "output_type": "stream",
     "text": [
      "[\u001b[1mtardis.simulation.base\u001b[0m][\u001b[1;37mINFO\u001b[0m   ]  \n",
      "\t\n",
      "\tLuminosity emitted   = 1.061e+43 erg / s\n",
      "\tLuminosity absorbed  = 3.398e+42 erg / s\n",
      "\tLuminosity requested = 1.059e+43 erg / s\n",
      " (\u001b[1mbase.py\u001b[0m:580)\n"
     ]
    },
    {
     "name": "stdout",
     "output_type": "stream",
     "text": [
      "[\u001b[1mtardis.simulation.base\u001b[0m][\u001b[1;37mINFO\u001b[0m   ]  \n",
      "\tIteration converged 2/4 consecutive times. (\u001b[1mbase.py\u001b[0m:268)\n"
     ]
    },
    {
     "name": "stdout",
     "output_type": "stream",
     "text": [
      "[\u001b[1mtardis.simulation.base\u001b[0m][\u001b[1;37mINFO\u001b[0m   ]  \n",
      "\t\n",
      "\tPlasma stratification: (\u001b[1mbase.py\u001b[0m:548)\n"
     ]
    },
    {
     "data": {
      "text/html": [
       "<style type=\"text/css\">\n",
       "</style>\n",
       "<table id=\"T_b14cf\">\n",
       "  <thead>\n",
       "    <tr>\n",
       "      <th class=\"index_name level0\" >Shell No.</th>\n",
       "      <th id=\"T_b14cf_level0_col0\" class=\"col_heading level0 col0\" >t_rad</th>\n",
       "      <th id=\"T_b14cf_level0_col1\" class=\"col_heading level0 col1\" >next_t_rad</th>\n",
       "      <th id=\"T_b14cf_level0_col2\" class=\"col_heading level0 col2\" >w</th>\n",
       "      <th id=\"T_b14cf_level0_col3\" class=\"col_heading level0 col3\" >next_w</th>\n",
       "    </tr>\n",
       "  </thead>\n",
       "  <tbody>\n",
       "    <tr>\n",
       "      <th id=\"T_b14cf_level0_row0\" class=\"row_heading level0 row0\" >0</th>\n",
       "      <td id=\"T_b14cf_row0_col0\" class=\"data row0 col0\" >1.1e+04 K</td>\n",
       "      <td id=\"T_b14cf_row0_col1\" class=\"data row0 col1\" >1.1e+04 K</td>\n",
       "      <td id=\"T_b14cf_row0_col2\" class=\"data row0 col2\" >0.479</td>\n",
       "      <td id=\"T_b14cf_row0_col3\" class=\"data row0 col3\" >0.47</td>\n",
       "    </tr>\n",
       "    <tr>\n",
       "      <th id=\"T_b14cf_level0_row1\" class=\"row_heading level0 row1\" >5</th>\n",
       "      <td id=\"T_b14cf_row1_col0\" class=\"data row1 col0\" >1.13e+04 K</td>\n",
       "      <td id=\"T_b14cf_row1_col1\" class=\"data row1 col1\" >1.12e+04 K</td>\n",
       "      <td id=\"T_b14cf_row1_col2\" class=\"data row1 col2\" >0.178</td>\n",
       "      <td id=\"T_b14cf_row1_col3\" class=\"data row1 col3\" >0.185</td>\n",
       "    </tr>\n",
       "    <tr>\n",
       "      <th id=\"T_b14cf_level0_row2\" class=\"row_heading level0 row2\" >10</th>\n",
       "      <td id=\"T_b14cf_row2_col0\" class=\"data row2 col0\" >1.1e+04 K</td>\n",
       "      <td id=\"T_b14cf_row2_col1\" class=\"data row2 col1\" >1.11e+04 K</td>\n",
       "      <td id=\"T_b14cf_row2_col2\" class=\"data row2 col2\" >0.113</td>\n",
       "      <td id=\"T_b14cf_row2_col3\" class=\"data row2 col3\" >0.112</td>\n",
       "    </tr>\n",
       "    <tr>\n",
       "      <th id=\"T_b14cf_level0_row3\" class=\"row_heading level0 row3\" >15</th>\n",
       "      <td id=\"T_b14cf_row3_col0\" class=\"data row3 col0\" >1.07e+04 K</td>\n",
       "      <td id=\"T_b14cf_row3_col1\" class=\"data row3 col1\" >1.07e+04 K</td>\n",
       "      <td id=\"T_b14cf_row3_col2\" class=\"data row3 col2\" >0.0839</td>\n",
       "      <td id=\"T_b14cf_row3_col3\" class=\"data row3 col3\" >0.0856</td>\n",
       "    </tr>\n",
       "  </tbody>\n",
       "</table>\n"
      ],
      "text/plain": [
       "<pandas.io.formats.style.Styler at 0x7f700da14910>"
      ]
     },
     "metadata": {},
     "output_type": "display_data"
    },
    {
     "name": "stdout",
     "output_type": "stream",
     "text": [
      "[\u001b[1mtardis.simulation.base\u001b[0m][\u001b[1;37mINFO\u001b[0m   ]  \n",
      "\t\n",
      "\tCurrent t_inner = 10650.202 K\n",
      "\tExpected t_inner for next iteration = 10645.955 K\n",
      " (\u001b[1mbase.py\u001b[0m:575)\n"
     ]
    },
    {
     "name": "stdout",
     "output_type": "stream",
     "text": [
      "[\u001b[1mpy.warnings         \u001b[0m][\u001b[1;33mWARNING\u001b[0m]  \n",
      "\t/home/runner/work/tardis/tardis/tardis/plasma/properties/radiative_properties.py:93: RuntimeWarning: invalid value encountered in divide\n",
      "  (g_lower * n_upper) / (g_upper * n_lower)\n",
      " (\u001b[1mwarnings.py\u001b[0m:109)\n"
     ]
    },
    {
     "name": "stdout",
     "output_type": "stream",
     "text": [
      "[\u001b[1mtardis.simulation.base\u001b[0m][\u001b[1;37mINFO\u001b[0m   ]  \n",
      "\t\n",
      "\tStarting iteration 7 of 20 (\u001b[1mbase.py\u001b[0m:398)\n"
     ]
    },
    {
     "name": "stdout",
     "output_type": "stream",
     "text": [
      "[\u001b[1mtardis.simulation.base\u001b[0m][\u001b[1;37mINFO\u001b[0m   ]  \n",
      "\t\n",
      "\tLuminosity emitted   = 1.061e+43 erg / s\n",
      "\tLuminosity absorbed  = 3.382e+42 erg / s\n",
      "\tLuminosity requested = 1.059e+43 erg / s\n",
      " (\u001b[1mbase.py\u001b[0m:580)\n"
     ]
    },
    {
     "name": "stdout",
     "output_type": "stream",
     "text": [
      "[\u001b[1mtardis.simulation.base\u001b[0m][\u001b[1;37mINFO\u001b[0m   ]  \n",
      "\tIteration converged 3/4 consecutive times. (\u001b[1mbase.py\u001b[0m:268)\n"
     ]
    },
    {
     "name": "stdout",
     "output_type": "stream",
     "text": [
      "[\u001b[1mtardis.simulation.base\u001b[0m][\u001b[1;37mINFO\u001b[0m   ]  \n",
      "\t\n",
      "\tPlasma stratification: (\u001b[1mbase.py\u001b[0m:548)\n"
     ]
    },
    {
     "data": {
      "text/html": [
       "<style type=\"text/css\">\n",
       "</style>\n",
       "<table id=\"T_6765f\">\n",
       "  <thead>\n",
       "    <tr>\n",
       "      <th class=\"index_name level0\" >Shell No.</th>\n",
       "      <th id=\"T_6765f_level0_col0\" class=\"col_heading level0 col0\" >t_rad</th>\n",
       "      <th id=\"T_6765f_level0_col1\" class=\"col_heading level0 col1\" >next_t_rad</th>\n",
       "      <th id=\"T_6765f_level0_col2\" class=\"col_heading level0 col2\" >w</th>\n",
       "      <th id=\"T_6765f_level0_col3\" class=\"col_heading level0 col3\" >next_w</th>\n",
       "    </tr>\n",
       "  </thead>\n",
       "  <tbody>\n",
       "    <tr>\n",
       "      <th id=\"T_6765f_level0_row0\" class=\"row_heading level0 row0\" >0</th>\n",
       "      <td id=\"T_6765f_row0_col0\" class=\"data row0 col0\" >1.1e+04 K</td>\n",
       "      <td id=\"T_6765f_row0_col1\" class=\"data row0 col1\" >1.1e+04 K</td>\n",
       "      <td id=\"T_6765f_row0_col2\" class=\"data row0 col2\" >0.47</td>\n",
       "      <td id=\"T_6765f_row0_col3\" class=\"data row0 col3\" >0.47</td>\n",
       "    </tr>\n",
       "    <tr>\n",
       "      <th id=\"T_6765f_level0_row1\" class=\"row_heading level0 row1\" >5</th>\n",
       "      <td id=\"T_6765f_row1_col0\" class=\"data row1 col0\" >1.12e+04 K</td>\n",
       "      <td id=\"T_6765f_row1_col1\" class=\"data row1 col1\" >1.13e+04 K</td>\n",
       "      <td id=\"T_6765f_row1_col2\" class=\"data row1 col2\" >0.185</td>\n",
       "      <td id=\"T_6765f_row1_col3\" class=\"data row1 col3\" >0.178</td>\n",
       "    </tr>\n",
       "    <tr>\n",
       "      <th id=\"T_6765f_level0_row2\" class=\"row_heading level0 row2\" >10</th>\n",
       "      <td id=\"T_6765f_row2_col0\" class=\"data row2 col0\" >1.11e+04 K</td>\n",
       "      <td id=\"T_6765f_row2_col1\" class=\"data row2 col1\" >1.11e+04 K</td>\n",
       "      <td id=\"T_6765f_row2_col2\" class=\"data row2 col2\" >0.112</td>\n",
       "      <td id=\"T_6765f_row2_col3\" class=\"data row2 col3\" >0.112</td>\n",
       "    </tr>\n",
       "    <tr>\n",
       "      <th id=\"T_6765f_level0_row3\" class=\"row_heading level0 row3\" >15</th>\n",
       "      <td id=\"T_6765f_row3_col0\" class=\"data row3 col0\" >1.07e+04 K</td>\n",
       "      <td id=\"T_6765f_row3_col1\" class=\"data row3 col1\" >1.07e+04 K</td>\n",
       "      <td id=\"T_6765f_row3_col2\" class=\"data row3 col2\" >0.0856</td>\n",
       "      <td id=\"T_6765f_row3_col3\" class=\"data row3 col3\" >0.086</td>\n",
       "    </tr>\n",
       "  </tbody>\n",
       "</table>\n"
      ],
      "text/plain": [
       "<pandas.io.formats.style.Styler at 0x7f700d9df9d0>"
      ]
     },
     "metadata": {},
     "output_type": "display_data"
    },
    {
     "name": "stdout",
     "output_type": "stream",
     "text": [
      "[\u001b[1mtardis.simulation.base\u001b[0m][\u001b[1;37mINFO\u001b[0m   ]  \n",
      "\t\n",
      "\tCurrent t_inner = 10645.955 K\n",
      "\tExpected t_inner for next iteration = 10642.050 K\n",
      " (\u001b[1mbase.py\u001b[0m:575)\n"
     ]
    },
    {
     "name": "stdout",
     "output_type": "stream",
     "text": [
      "[\u001b[1mpy.warnings         \u001b[0m][\u001b[1;33mWARNING\u001b[0m]  \n",
      "\t/home/runner/work/tardis/tardis/tardis/plasma/properties/radiative_properties.py:93: RuntimeWarning: invalid value encountered in divide\n",
      "  (g_lower * n_upper) / (g_upper * n_lower)\n",
      " (\u001b[1mwarnings.py\u001b[0m:109)\n"
     ]
    },
    {
     "name": "stdout",
     "output_type": "stream",
     "text": [
      "[\u001b[1mtardis.simulation.base\u001b[0m][\u001b[1;37mINFO\u001b[0m   ]  \n",
      "\t\n",
      "\tStarting iteration 8 of 20 (\u001b[1mbase.py\u001b[0m:398)\n"
     ]
    },
    {
     "name": "stdout",
     "output_type": "stream",
     "text": [
      "[\u001b[1mtardis.simulation.base\u001b[0m][\u001b[1;37mINFO\u001b[0m   ]  \n",
      "\t\n",
      "\tLuminosity emitted   = 1.062e+43 erg / s\n",
      "\tLuminosity absorbed  = 3.350e+42 erg / s\n",
      "\tLuminosity requested = 1.059e+43 erg / s\n",
      " (\u001b[1mbase.py\u001b[0m:580)\n"
     ]
    },
    {
     "name": "stdout",
     "output_type": "stream",
     "text": [
      "[\u001b[1mtardis.simulation.base\u001b[0m][\u001b[1;37mINFO\u001b[0m   ]  \n",
      "\tIteration converged 4/4 consecutive times. (\u001b[1mbase.py\u001b[0m:268)\n"
     ]
    },
    {
     "name": "stdout",
     "output_type": "stream",
     "text": [
      "[\u001b[1mtardis.simulation.base\u001b[0m][\u001b[1;37mINFO\u001b[0m   ]  \n",
      "\t\n",
      "\tPlasma stratification: (\u001b[1mbase.py\u001b[0m:548)\n"
     ]
    },
    {
     "data": {
      "text/html": [
       "<style type=\"text/css\">\n",
       "</style>\n",
       "<table id=\"T_fc540\">\n",
       "  <thead>\n",
       "    <tr>\n",
       "      <th class=\"index_name level0\" >Shell No.</th>\n",
       "      <th id=\"T_fc540_level0_col0\" class=\"col_heading level0 col0\" >t_rad</th>\n",
       "      <th id=\"T_fc540_level0_col1\" class=\"col_heading level0 col1\" >next_t_rad</th>\n",
       "      <th id=\"T_fc540_level0_col2\" class=\"col_heading level0 col2\" >w</th>\n",
       "      <th id=\"T_fc540_level0_col3\" class=\"col_heading level0 col3\" >next_w</th>\n",
       "    </tr>\n",
       "  </thead>\n",
       "  <tbody>\n",
       "    <tr>\n",
       "      <th id=\"T_fc540_level0_row0\" class=\"row_heading level0 row0\" >0</th>\n",
       "      <td id=\"T_fc540_row0_col0\" class=\"data row0 col0\" >1.1e+04 K</td>\n",
       "      <td id=\"T_fc540_row0_col1\" class=\"data row0 col1\" >1.11e+04 K</td>\n",
       "      <td id=\"T_fc540_row0_col2\" class=\"data row0 col2\" >0.47</td>\n",
       "      <td id=\"T_fc540_row0_col3\" class=\"data row0 col3\" >0.472</td>\n",
       "    </tr>\n",
       "    <tr>\n",
       "      <th id=\"T_fc540_level0_row1\" class=\"row_heading level0 row1\" >5</th>\n",
       "      <td id=\"T_fc540_row1_col0\" class=\"data row1 col0\" >1.13e+04 K</td>\n",
       "      <td id=\"T_fc540_row1_col1\" class=\"data row1 col1\" >1.14e+04 K</td>\n",
       "      <td id=\"T_fc540_row1_col2\" class=\"data row1 col2\" >0.178</td>\n",
       "      <td id=\"T_fc540_row1_col3\" class=\"data row1 col3\" >0.175</td>\n",
       "    </tr>\n",
       "    <tr>\n",
       "      <th id=\"T_fc540_level0_row2\" class=\"row_heading level0 row2\" >10</th>\n",
       "      <td id=\"T_fc540_row2_col0\" class=\"data row2 col0\" >1.11e+04 K</td>\n",
       "      <td id=\"T_fc540_row2_col1\" class=\"data row2 col1\" >1.11e+04 K</td>\n",
       "      <td id=\"T_fc540_row2_col2\" class=\"data row2 col2\" >0.112</td>\n",
       "      <td id=\"T_fc540_row2_col3\" class=\"data row2 col3\" >0.111</td>\n",
       "    </tr>\n",
       "    <tr>\n",
       "      <th id=\"T_fc540_level0_row3\" class=\"row_heading level0 row3\" >15</th>\n",
       "      <td id=\"T_fc540_row3_col0\" class=\"data row3 col0\" >1.07e+04 K</td>\n",
       "      <td id=\"T_fc540_row3_col1\" class=\"data row3 col1\" >1.07e+04 K</td>\n",
       "      <td id=\"T_fc540_row3_col2\" class=\"data row3 col2\" >0.086</td>\n",
       "      <td id=\"T_fc540_row3_col3\" class=\"data row3 col3\" >0.084</td>\n",
       "    </tr>\n",
       "  </tbody>\n",
       "</table>\n"
      ],
      "text/plain": [
       "<pandas.io.formats.style.Styler at 0x7f700da290d0>"
      ]
     },
     "metadata": {},
     "output_type": "display_data"
    },
    {
     "name": "stdout",
     "output_type": "stream",
     "text": [
      "[\u001b[1mtardis.simulation.base\u001b[0m][\u001b[1;37mINFO\u001b[0m   ]  \n",
      "\t\n",
      "\tCurrent t_inner = 10642.050 K\n",
      "\tExpected t_inner for next iteration = 10636.106 K\n",
      " (\u001b[1mbase.py\u001b[0m:575)\n"
     ]
    },
    {
     "name": "stdout",
     "output_type": "stream",
     "text": [
      "[\u001b[1mpy.warnings         \u001b[0m][\u001b[1;33mWARNING\u001b[0m]  \n",
      "\t/home/runner/work/tardis/tardis/tardis/plasma/properties/radiative_properties.py:93: RuntimeWarning: invalid value encountered in divide\n",
      "  (g_lower * n_upper) / (g_upper * n_lower)\n",
      " (\u001b[1mwarnings.py\u001b[0m:109)\n"
     ]
    },
    {
     "name": "stdout",
     "output_type": "stream",
     "text": [
      "[\u001b[1mtardis.simulation.base\u001b[0m][\u001b[1;37mINFO\u001b[0m   ]  \n",
      "\t\n",
      "\tStarting iteration 9 of 20 (\u001b[1mbase.py\u001b[0m:398)\n"
     ]
    },
    {
     "name": "stdout",
     "output_type": "stream",
     "text": [
      "[\u001b[1mtardis.simulation.base\u001b[0m][\u001b[1;37mINFO\u001b[0m   ]  \n",
      "\t\n",
      "\tLuminosity emitted   = 1.052e+43 erg / s\n",
      "\tLuminosity absorbed  = 3.411e+42 erg / s\n",
      "\tLuminosity requested = 1.059e+43 erg / s\n",
      " (\u001b[1mbase.py\u001b[0m:580)\n"
     ]
    },
    {
     "name": "stdout",
     "output_type": "stream",
     "text": [
      "[\u001b[1mtardis.simulation.base\u001b[0m][\u001b[1;37mINFO\u001b[0m   ]  \n",
      "\tIteration converged 5/4 consecutive times. (\u001b[1mbase.py\u001b[0m:268)\n"
     ]
    },
    {
     "name": "stdout",
     "output_type": "stream",
     "text": [
      "[\u001b[1mtardis.simulation.base\u001b[0m][\u001b[1;37mINFO\u001b[0m   ]  \n",
      "\t\n",
      "\tPlasma stratification: (\u001b[1mbase.py\u001b[0m:548)\n"
     ]
    },
    {
     "data": {
      "text/html": [
       "<style type=\"text/css\">\n",
       "</style>\n",
       "<table id=\"T_83335\">\n",
       "  <thead>\n",
       "    <tr>\n",
       "      <th class=\"index_name level0\" >Shell No.</th>\n",
       "      <th id=\"T_83335_level0_col0\" class=\"col_heading level0 col0\" >t_rad</th>\n",
       "      <th id=\"T_83335_level0_col1\" class=\"col_heading level0 col1\" >next_t_rad</th>\n",
       "      <th id=\"T_83335_level0_col2\" class=\"col_heading level0 col2\" >w</th>\n",
       "      <th id=\"T_83335_level0_col3\" class=\"col_heading level0 col3\" >next_w</th>\n",
       "    </tr>\n",
       "  </thead>\n",
       "  <tbody>\n",
       "    <tr>\n",
       "      <th id=\"T_83335_level0_row0\" class=\"row_heading level0 row0\" >0</th>\n",
       "      <td id=\"T_83335_row0_col0\" class=\"data row0 col0\" >1.11e+04 K</td>\n",
       "      <td id=\"T_83335_row0_col1\" class=\"data row0 col1\" >1.11e+04 K</td>\n",
       "      <td id=\"T_83335_row0_col2\" class=\"data row0 col2\" >0.472</td>\n",
       "      <td id=\"T_83335_row0_col3\" class=\"data row0 col3\" >0.469</td>\n",
       "    </tr>\n",
       "    <tr>\n",
       "      <th id=\"T_83335_level0_row1\" class=\"row_heading level0 row1\" >5</th>\n",
       "      <td id=\"T_83335_row1_col0\" class=\"data row1 col0\" >1.14e+04 K</td>\n",
       "      <td id=\"T_83335_row1_col1\" class=\"data row1 col1\" >1.15e+04 K</td>\n",
       "      <td id=\"T_83335_row1_col2\" class=\"data row1 col2\" >0.175</td>\n",
       "      <td id=\"T_83335_row1_col3\" class=\"data row1 col3\" >0.17</td>\n",
       "    </tr>\n",
       "    <tr>\n",
       "      <th id=\"T_83335_level0_row2\" class=\"row_heading level0 row2\" >10</th>\n",
       "      <td id=\"T_83335_row2_col0\" class=\"data row2 col0\" >1.11e+04 K</td>\n",
       "      <td id=\"T_83335_row2_col1\" class=\"data row2 col1\" >1.11e+04 K</td>\n",
       "      <td id=\"T_83335_row2_col2\" class=\"data row2 col2\" >0.111</td>\n",
       "      <td id=\"T_83335_row2_col3\" class=\"data row2 col3\" >0.109</td>\n",
       "    </tr>\n",
       "    <tr>\n",
       "      <th id=\"T_83335_level0_row3\" class=\"row_heading level0 row3\" >15</th>\n",
       "      <td id=\"T_83335_row3_col0\" class=\"data row3 col0\" >1.07e+04 K</td>\n",
       "      <td id=\"T_83335_row3_col1\" class=\"data row3 col1\" >1.08e+04 K</td>\n",
       "      <td id=\"T_83335_row3_col2\" class=\"data row3 col2\" >0.084</td>\n",
       "      <td id=\"T_83335_row3_col3\" class=\"data row3 col3\" >0.0822</td>\n",
       "    </tr>\n",
       "  </tbody>\n",
       "</table>\n"
      ],
      "text/plain": [
       "<pandas.io.formats.style.Styler at 0x7f700da2b9d0>"
      ]
     },
     "metadata": {},
     "output_type": "display_data"
    },
    {
     "name": "stdout",
     "output_type": "stream",
     "text": [
      "[\u001b[1mtardis.simulation.base\u001b[0m][\u001b[1;37mINFO\u001b[0m   ]  \n",
      "\t\n",
      "\tCurrent t_inner = 10636.106 K\n",
      "\tExpected t_inner for next iteration = 10654.313 K\n",
      " (\u001b[1mbase.py\u001b[0m:575)\n"
     ]
    },
    {
     "name": "stdout",
     "output_type": "stream",
     "text": [
      "[\u001b[1mpy.warnings         \u001b[0m][\u001b[1;33mWARNING\u001b[0m]  \n",
      "\t/home/runner/work/tardis/tardis/tardis/plasma/properties/radiative_properties.py:93: RuntimeWarning: invalid value encountered in divide\n",
      "  (g_lower * n_upper) / (g_upper * n_lower)\n",
      " (\u001b[1mwarnings.py\u001b[0m:109)\n"
     ]
    },
    {
     "name": "stdout",
     "output_type": "stream",
     "text": [
      "[\u001b[1mtardis.simulation.base\u001b[0m][\u001b[1;37mINFO\u001b[0m   ]  \n",
      "\t\n",
      "\tStarting iteration 10 of 20 (\u001b[1mbase.py\u001b[0m:398)\n"
     ]
    },
    {
     "name": "stdout",
     "output_type": "stream",
     "text": [
      "[\u001b[1mtardis.simulation.base\u001b[0m][\u001b[1;37mINFO\u001b[0m   ]  \n",
      "\t\n",
      "\tLuminosity emitted   = 1.070e+43 erg / s\n",
      "\tLuminosity absorbed  = 3.335e+42 erg / s\n",
      "\tLuminosity requested = 1.059e+43 erg / s\n",
      " (\u001b[1mbase.py\u001b[0m:580)\n"
     ]
    },
    {
     "name": "stdout",
     "output_type": "stream",
     "text": [
      "[\u001b[1mtardis.simulation.base\u001b[0m][\u001b[1;37mINFO\u001b[0m   ]  \n",
      "\t\n",
      "\tPlasma stratification: (\u001b[1mbase.py\u001b[0m:548)\n"
     ]
    },
    {
     "data": {
      "text/html": [
       "<style type=\"text/css\">\n",
       "</style>\n",
       "<table id=\"T_4d4f5\">\n",
       "  <thead>\n",
       "    <tr>\n",
       "      <th class=\"index_name level0\" >Shell No.</th>\n",
       "      <th id=\"T_4d4f5_level0_col0\" class=\"col_heading level0 col0\" >t_rad</th>\n",
       "      <th id=\"T_4d4f5_level0_col1\" class=\"col_heading level0 col1\" >next_t_rad</th>\n",
       "      <th id=\"T_4d4f5_level0_col2\" class=\"col_heading level0 col2\" >w</th>\n",
       "      <th id=\"T_4d4f5_level0_col3\" class=\"col_heading level0 col3\" >next_w</th>\n",
       "    </tr>\n",
       "  </thead>\n",
       "  <tbody>\n",
       "    <tr>\n",
       "      <th id=\"T_4d4f5_level0_row0\" class=\"row_heading level0 row0\" >0</th>\n",
       "      <td id=\"T_4d4f5_row0_col0\" class=\"data row0 col0\" >1.11e+04 K</td>\n",
       "      <td id=\"T_4d4f5_row0_col1\" class=\"data row0 col1\" >1.1e+04 K</td>\n",
       "      <td id=\"T_4d4f5_row0_col2\" class=\"data row0 col2\" >0.469</td>\n",
       "      <td id=\"T_4d4f5_row0_col3\" class=\"data row0 col3\" >0.475</td>\n",
       "    </tr>\n",
       "    <tr>\n",
       "      <th id=\"T_4d4f5_level0_row1\" class=\"row_heading level0 row1\" >5</th>\n",
       "      <td id=\"T_4d4f5_row1_col0\" class=\"data row1 col0\" >1.15e+04 K</td>\n",
       "      <td id=\"T_4d4f5_row1_col1\" class=\"data row1 col1\" >1.14e+04 K</td>\n",
       "      <td id=\"T_4d4f5_row1_col2\" class=\"data row1 col2\" >0.17</td>\n",
       "      <td id=\"T_4d4f5_row1_col3\" class=\"data row1 col3\" >0.177</td>\n",
       "    </tr>\n",
       "    <tr>\n",
       "      <th id=\"T_4d4f5_level0_row2\" class=\"row_heading level0 row2\" >10</th>\n",
       "      <td id=\"T_4d4f5_row2_col0\" class=\"data row2 col0\" >1.11e+04 K</td>\n",
       "      <td id=\"T_4d4f5_row2_col1\" class=\"data row2 col1\" >1.11e+04 K</td>\n",
       "      <td id=\"T_4d4f5_row2_col2\" class=\"data row2 col2\" >0.109</td>\n",
       "      <td id=\"T_4d4f5_row2_col3\" class=\"data row2 col3\" >0.112</td>\n",
       "    </tr>\n",
       "    <tr>\n",
       "      <th id=\"T_4d4f5_level0_row3\" class=\"row_heading level0 row3\" >15</th>\n",
       "      <td id=\"T_4d4f5_row3_col0\" class=\"data row3 col0\" >1.08e+04 K</td>\n",
       "      <td id=\"T_4d4f5_row3_col1\" class=\"data row3 col1\" >1.06e+04 K</td>\n",
       "      <td id=\"T_4d4f5_row3_col2\" class=\"data row3 col2\" >0.0822</td>\n",
       "      <td id=\"T_4d4f5_row3_col3\" class=\"data row3 col3\" >0.0878</td>\n",
       "    </tr>\n",
       "  </tbody>\n",
       "</table>\n"
      ],
      "text/plain": [
       "<pandas.io.formats.style.Styler at 0x7f700d9f1ad0>"
      ]
     },
     "metadata": {},
     "output_type": "display_data"
    },
    {
     "name": "stdout",
     "output_type": "stream",
     "text": [
      "[\u001b[1mtardis.simulation.base\u001b[0m][\u001b[1;37mINFO\u001b[0m   ]  \n",
      "\t\n",
      "\tCurrent t_inner = 10654.313 K\n",
      "\tExpected t_inner for next iteration = 10628.190 K\n",
      " (\u001b[1mbase.py\u001b[0m:575)\n"
     ]
    },
    {
     "name": "stdout",
     "output_type": "stream",
     "text": [
      "[\u001b[1mpy.warnings         \u001b[0m][\u001b[1;33mWARNING\u001b[0m]  \n",
      "\t/home/runner/work/tardis/tardis/tardis/plasma/properties/radiative_properties.py:93: RuntimeWarning: invalid value encountered in divide\n",
      "  (g_lower * n_upper) / (g_upper * n_lower)\n",
      " (\u001b[1mwarnings.py\u001b[0m:109)\n"
     ]
    },
    {
     "name": "stdout",
     "output_type": "stream",
     "text": [
      "[\u001b[1mtardis.simulation.base\u001b[0m][\u001b[1;37mINFO\u001b[0m   ]  \n",
      "\t\n",
      "\tStarting iteration 11 of 20 (\u001b[1mbase.py\u001b[0m:398)\n"
     ]
    },
    {
     "name": "stdout",
     "output_type": "stream",
     "text": [
      "[\u001b[1mtardis.simulation.base\u001b[0m][\u001b[1;37mINFO\u001b[0m   ]  \n",
      "\t\n",
      "\tLuminosity emitted   = 1.053e+43 erg / s\n",
      "\tLuminosity absorbed  = 3.363e+42 erg / s\n",
      "\tLuminosity requested = 1.059e+43 erg / s\n",
      " (\u001b[1mbase.py\u001b[0m:580)\n"
     ]
    },
    {
     "name": "stdout",
     "output_type": "stream",
     "text": [
      "[\u001b[1mtardis.simulation.base\u001b[0m][\u001b[1;37mINFO\u001b[0m   ]  \n",
      "\tIteration converged 1/4 consecutive times. (\u001b[1mbase.py\u001b[0m:268)\n"
     ]
    },
    {
     "name": "stdout",
     "output_type": "stream",
     "text": [
      "[\u001b[1mtardis.simulation.base\u001b[0m][\u001b[1;37mINFO\u001b[0m   ]  \n",
      "\t\n",
      "\tPlasma stratification: (\u001b[1mbase.py\u001b[0m:548)\n"
     ]
    },
    {
     "data": {
      "text/html": [
       "<style type=\"text/css\">\n",
       "</style>\n",
       "<table id=\"T_e7d95\">\n",
       "  <thead>\n",
       "    <tr>\n",
       "      <th class=\"index_name level0\" >Shell No.</th>\n",
       "      <th id=\"T_e7d95_level0_col0\" class=\"col_heading level0 col0\" >t_rad</th>\n",
       "      <th id=\"T_e7d95_level0_col1\" class=\"col_heading level0 col1\" >next_t_rad</th>\n",
       "      <th id=\"T_e7d95_level0_col2\" class=\"col_heading level0 col2\" >w</th>\n",
       "      <th id=\"T_e7d95_level0_col3\" class=\"col_heading level0 col3\" >next_w</th>\n",
       "    </tr>\n",
       "  </thead>\n",
       "  <tbody>\n",
       "    <tr>\n",
       "      <th id=\"T_e7d95_level0_row0\" class=\"row_heading level0 row0\" >0</th>\n",
       "      <td id=\"T_e7d95_row0_col0\" class=\"data row0 col0\" >1.1e+04 K</td>\n",
       "      <td id=\"T_e7d95_row0_col1\" class=\"data row0 col1\" >1.1e+04 K</td>\n",
       "      <td id=\"T_e7d95_row0_col2\" class=\"data row0 col2\" >0.475</td>\n",
       "      <td id=\"T_e7d95_row0_col3\" class=\"data row0 col3\" >0.472</td>\n",
       "    </tr>\n",
       "    <tr>\n",
       "      <th id=\"T_e7d95_level0_row1\" class=\"row_heading level0 row1\" >5</th>\n",
       "      <td id=\"T_e7d95_row1_col0\" class=\"data row1 col0\" >1.14e+04 K</td>\n",
       "      <td id=\"T_e7d95_row1_col1\" class=\"data row1 col1\" >1.12e+04 K</td>\n",
       "      <td id=\"T_e7d95_row1_col2\" class=\"data row1 col2\" >0.177</td>\n",
       "      <td id=\"T_e7d95_row1_col3\" class=\"data row1 col3\" >0.184</td>\n",
       "    </tr>\n",
       "    <tr>\n",
       "      <th id=\"T_e7d95_level0_row2\" class=\"row_heading level0 row2\" >10</th>\n",
       "      <td id=\"T_e7d95_row2_col0\" class=\"data row2 col0\" >1.11e+04 K</td>\n",
       "      <td id=\"T_e7d95_row2_col1\" class=\"data row2 col1\" >1.1e+04 K</td>\n",
       "      <td id=\"T_e7d95_row2_col2\" class=\"data row2 col2\" >0.112</td>\n",
       "      <td id=\"T_e7d95_row2_col3\" class=\"data row2 col3\" >0.114</td>\n",
       "    </tr>\n",
       "    <tr>\n",
       "      <th id=\"T_e7d95_level0_row3\" class=\"row_heading level0 row3\" >15</th>\n",
       "      <td id=\"T_e7d95_row3_col0\" class=\"data row3 col0\" >1.06e+04 K</td>\n",
       "      <td id=\"T_e7d95_row3_col1\" class=\"data row3 col1\" >1.06e+04 K</td>\n",
       "      <td id=\"T_e7d95_row3_col2\" class=\"data row3 col2\" >0.0878</td>\n",
       "      <td id=\"T_e7d95_row3_col3\" class=\"data row3 col3\" >0.0859</td>\n",
       "    </tr>\n",
       "  </tbody>\n",
       "</table>\n"
      ],
      "text/plain": [
       "<pandas.io.formats.style.Styler at 0x7f700da152d0>"
      ]
     },
     "metadata": {},
     "output_type": "display_data"
    },
    {
     "name": "stdout",
     "output_type": "stream",
     "text": [
      "[\u001b[1mtardis.simulation.base\u001b[0m][\u001b[1;37mINFO\u001b[0m   ]  \n",
      "\t\n",
      "\tCurrent t_inner = 10628.190 K\n",
      "\tExpected t_inner for next iteration = 10644.054 K\n",
      " (\u001b[1mbase.py\u001b[0m:575)\n"
     ]
    },
    {
     "name": "stdout",
     "output_type": "stream",
     "text": [
      "[\u001b[1mpy.warnings         \u001b[0m][\u001b[1;33mWARNING\u001b[0m]  \n",
      "\t/home/runner/work/tardis/tardis/tardis/plasma/properties/radiative_properties.py:93: RuntimeWarning: invalid value encountered in divide\n",
      "  (g_lower * n_upper) / (g_upper * n_lower)\n",
      " (\u001b[1mwarnings.py\u001b[0m:109)\n"
     ]
    },
    {
     "name": "stdout",
     "output_type": "stream",
     "text": [
      "[\u001b[1mtardis.simulation.base\u001b[0m][\u001b[1;37mINFO\u001b[0m   ]  \n",
      "\t\n",
      "\tStarting iteration 12 of 20 (\u001b[1mbase.py\u001b[0m:398)\n"
     ]
    },
    {
     "name": "stdout",
     "output_type": "stream",
     "text": [
      "[\u001b[1mtardis.simulation.base\u001b[0m][\u001b[1;37mINFO\u001b[0m   ]  \n",
      "\t\n",
      "\tLuminosity emitted   = 1.056e+43 erg / s\n",
      "\tLuminosity absorbed  = 3.420e+42 erg / s\n",
      "\tLuminosity requested = 1.059e+43 erg / s\n",
      " (\u001b[1mbase.py\u001b[0m:580)\n"
     ]
    },
    {
     "name": "stdout",
     "output_type": "stream",
     "text": [
      "[\u001b[1mtardis.simulation.base\u001b[0m][\u001b[1;37mINFO\u001b[0m   ]  \n",
      "\t\n",
      "\tPlasma stratification: (\u001b[1mbase.py\u001b[0m:548)\n"
     ]
    },
    {
     "data": {
      "text/html": [
       "<style type=\"text/css\">\n",
       "</style>\n",
       "<table id=\"T_feeec\">\n",
       "  <thead>\n",
       "    <tr>\n",
       "      <th class=\"index_name level0\" >Shell No.</th>\n",
       "      <th id=\"T_feeec_level0_col0\" class=\"col_heading level0 col0\" >t_rad</th>\n",
       "      <th id=\"T_feeec_level0_col1\" class=\"col_heading level0 col1\" >next_t_rad</th>\n",
       "      <th id=\"T_feeec_level0_col2\" class=\"col_heading level0 col2\" >w</th>\n",
       "      <th id=\"T_feeec_level0_col3\" class=\"col_heading level0 col3\" >next_w</th>\n",
       "    </tr>\n",
       "  </thead>\n",
       "  <tbody>\n",
       "    <tr>\n",
       "      <th id=\"T_feeec_level0_row0\" class=\"row_heading level0 row0\" >0</th>\n",
       "      <td id=\"T_feeec_row0_col0\" class=\"data row0 col0\" >1.1e+04 K</td>\n",
       "      <td id=\"T_feeec_row0_col1\" class=\"data row0 col1\" >1.11e+04 K</td>\n",
       "      <td id=\"T_feeec_row0_col2\" class=\"data row0 col2\" >0.472</td>\n",
       "      <td id=\"T_feeec_row0_col3\" class=\"data row0 col3\" >0.467</td>\n",
       "    </tr>\n",
       "    <tr>\n",
       "      <th id=\"T_feeec_level0_row1\" class=\"row_heading level0 row1\" >5</th>\n",
       "      <td id=\"T_feeec_row1_col0\" class=\"data row1 col0\" >1.12e+04 K</td>\n",
       "      <td id=\"T_feeec_row1_col1\" class=\"data row1 col1\" >1.13e+04 K</td>\n",
       "      <td id=\"T_feeec_row1_col2\" class=\"data row1 col2\" >0.184</td>\n",
       "      <td id=\"T_feeec_row1_col3\" class=\"data row1 col3\" >0.176</td>\n",
       "    </tr>\n",
       "    <tr>\n",
       "      <th id=\"T_feeec_level0_row2\" class=\"row_heading level0 row2\" >10</th>\n",
       "      <td id=\"T_feeec_row2_col0\" class=\"data row2 col0\" >1.1e+04 K</td>\n",
       "      <td id=\"T_feeec_row2_col1\" class=\"data row2 col1\" >1.11e+04 K</td>\n",
       "      <td id=\"T_feeec_row2_col2\" class=\"data row2 col2\" >0.114</td>\n",
       "      <td id=\"T_feeec_row2_col3\" class=\"data row2 col3\" >0.11</td>\n",
       "    </tr>\n",
       "    <tr>\n",
       "      <th id=\"T_feeec_level0_row3\" class=\"row_heading level0 row3\" >15</th>\n",
       "      <td id=\"T_feeec_row3_col0\" class=\"data row3 col0\" >1.06e+04 K</td>\n",
       "      <td id=\"T_feeec_row3_col1\" class=\"data row3 col1\" >1.08e+04 K</td>\n",
       "      <td id=\"T_feeec_row3_col2\" class=\"data row3 col2\" >0.0859</td>\n",
       "      <td id=\"T_feeec_row3_col3\" class=\"data row3 col3\" >0.0821</td>\n",
       "    </tr>\n",
       "  </tbody>\n",
       "</table>\n"
      ],
      "text/plain": [
       "<pandas.io.formats.style.Styler at 0x7f700d9f0d50>"
      ]
     },
     "metadata": {},
     "output_type": "display_data"
    },
    {
     "name": "stdout",
     "output_type": "stream",
     "text": [
      "[\u001b[1mtardis.simulation.base\u001b[0m][\u001b[1;37mINFO\u001b[0m   ]  \n",
      "\t\n",
      "\tCurrent t_inner = 10644.054 K\n",
      "\tExpected t_inner for next iteration = 10653.543 K\n",
      " (\u001b[1mbase.py\u001b[0m:575)\n"
     ]
    },
    {
     "name": "stdout",
     "output_type": "stream",
     "text": [
      "[\u001b[1mpy.warnings         \u001b[0m][\u001b[1;33mWARNING\u001b[0m]  \n",
      "\t/home/runner/work/tardis/tardis/tardis/plasma/properties/radiative_properties.py:93: RuntimeWarning: invalid value encountered in divide\n",
      "  (g_lower * n_upper) / (g_upper * n_lower)\n",
      " (\u001b[1mwarnings.py\u001b[0m:109)\n"
     ]
    },
    {
     "name": "stdout",
     "output_type": "stream",
     "text": [
      "[\u001b[1mtardis.simulation.base\u001b[0m][\u001b[1;37mINFO\u001b[0m   ]  \n",
      "\t\n",
      "\tStarting iteration 13 of 20 (\u001b[1mbase.py\u001b[0m:398)\n"
     ]
    },
    {
     "name": "stdout",
     "output_type": "stream",
     "text": [
      "[\u001b[1mtardis.simulation.base\u001b[0m][\u001b[1;37mINFO\u001b[0m   ]  \n",
      "\t\n",
      "\tLuminosity emitted   = 1.062e+43 erg / s\n",
      "\tLuminosity absorbed  = 3.406e+42 erg / s\n",
      "\tLuminosity requested = 1.059e+43 erg / s\n",
      " (\u001b[1mbase.py\u001b[0m:580)\n"
     ]
    },
    {
     "name": "stdout",
     "output_type": "stream",
     "text": [
      "[\u001b[1mtardis.simulation.base\u001b[0m][\u001b[1;37mINFO\u001b[0m   ]  \n",
      "\tIteration converged 1/4 consecutive times. (\u001b[1mbase.py\u001b[0m:268)\n"
     ]
    },
    {
     "name": "stdout",
     "output_type": "stream",
     "text": [
      "[\u001b[1mtardis.simulation.base\u001b[0m][\u001b[1;37mINFO\u001b[0m   ]  \n",
      "\t\n",
      "\tPlasma stratification: (\u001b[1mbase.py\u001b[0m:548)\n"
     ]
    },
    {
     "data": {
      "text/html": [
       "<style type=\"text/css\">\n",
       "</style>\n",
       "<table id=\"T_b08d9\">\n",
       "  <thead>\n",
       "    <tr>\n",
       "      <th class=\"index_name level0\" >Shell No.</th>\n",
       "      <th id=\"T_b08d9_level0_col0\" class=\"col_heading level0 col0\" >t_rad</th>\n",
       "      <th id=\"T_b08d9_level0_col1\" class=\"col_heading level0 col1\" >next_t_rad</th>\n",
       "      <th id=\"T_b08d9_level0_col2\" class=\"col_heading level0 col2\" >w</th>\n",
       "      <th id=\"T_b08d9_level0_col3\" class=\"col_heading level0 col3\" >next_w</th>\n",
       "    </tr>\n",
       "  </thead>\n",
       "  <tbody>\n",
       "    <tr>\n",
       "      <th id=\"T_b08d9_level0_row0\" class=\"row_heading level0 row0\" >0</th>\n",
       "      <td id=\"T_b08d9_row0_col0\" class=\"data row0 col0\" >1.11e+04 K</td>\n",
       "      <td id=\"T_b08d9_row0_col1\" class=\"data row0 col1\" >1.11e+04 K</td>\n",
       "      <td id=\"T_b08d9_row0_col2\" class=\"data row0 col2\" >0.467</td>\n",
       "      <td id=\"T_b08d9_row0_col3\" class=\"data row0 col3\" >0.466</td>\n",
       "    </tr>\n",
       "    <tr>\n",
       "      <th id=\"T_b08d9_level0_row1\" class=\"row_heading level0 row1\" >5</th>\n",
       "      <td id=\"T_b08d9_row1_col0\" class=\"data row1 col0\" >1.13e+04 K</td>\n",
       "      <td id=\"T_b08d9_row1_col1\" class=\"data row1 col1\" >1.13e+04 K</td>\n",
       "      <td id=\"T_b08d9_row1_col2\" class=\"data row1 col2\" >0.176</td>\n",
       "      <td id=\"T_b08d9_row1_col3\" class=\"data row1 col3\" >0.18</td>\n",
       "    </tr>\n",
       "    <tr>\n",
       "      <th id=\"T_b08d9_level0_row2\" class=\"row_heading level0 row2\" >10</th>\n",
       "      <td id=\"T_b08d9_row2_col0\" class=\"data row2 col0\" >1.11e+04 K</td>\n",
       "      <td id=\"T_b08d9_row2_col1\" class=\"data row2 col1\" >1.11e+04 K</td>\n",
       "      <td id=\"T_b08d9_row2_col2\" class=\"data row2 col2\" >0.11</td>\n",
       "      <td id=\"T_b08d9_row2_col3\" class=\"data row2 col3\" >0.111</td>\n",
       "    </tr>\n",
       "    <tr>\n",
       "      <th id=\"T_b08d9_level0_row3\" class=\"row_heading level0 row3\" >15</th>\n",
       "      <td id=\"T_b08d9_row3_col0\" class=\"data row3 col0\" >1.08e+04 K</td>\n",
       "      <td id=\"T_b08d9_row3_col1\" class=\"data row3 col1\" >1.08e+04 K</td>\n",
       "      <td id=\"T_b08d9_row3_col2\" class=\"data row3 col2\" >0.0821</td>\n",
       "      <td id=\"T_b08d9_row3_col3\" class=\"data row3 col3\" >0.0841</td>\n",
       "    </tr>\n",
       "  </tbody>\n",
       "</table>\n"
      ],
      "text/plain": [
       "<pandas.io.formats.style.Styler at 0x7f700d9e1790>"
      ]
     },
     "metadata": {},
     "output_type": "display_data"
    },
    {
     "name": "stdout",
     "output_type": "stream",
     "text": [
      "[\u001b[1mtardis.simulation.base\u001b[0m][\u001b[1;37mINFO\u001b[0m   ]  \n",
      "\t\n",
      "\tCurrent t_inner = 10653.543 K\n",
      "\tExpected t_inner for next iteration = 10647.277 K\n",
      " (\u001b[1mbase.py\u001b[0m:575)\n"
     ]
    },
    {
     "name": "stdout",
     "output_type": "stream",
     "text": [
      "[\u001b[1mpy.warnings         \u001b[0m][\u001b[1;33mWARNING\u001b[0m]  \n",
      "\t/home/runner/work/tardis/tardis/tardis/plasma/properties/radiative_properties.py:93: RuntimeWarning: invalid value encountered in divide\n",
      "  (g_lower * n_upper) / (g_upper * n_lower)\n",
      " (\u001b[1mwarnings.py\u001b[0m:109)\n"
     ]
    },
    {
     "name": "stdout",
     "output_type": "stream",
     "text": [
      "[\u001b[1mtardis.simulation.base\u001b[0m][\u001b[1;37mINFO\u001b[0m   ]  \n",
      "\t\n",
      "\tStarting iteration 14 of 20 (\u001b[1mbase.py\u001b[0m:398)\n"
     ]
    },
    {
     "name": "stdout",
     "output_type": "stream",
     "text": [
      "[\u001b[1mtardis.simulation.base\u001b[0m][\u001b[1;37mINFO\u001b[0m   ]  \n",
      "\t\n",
      "\tLuminosity emitted   = 1.063e+43 erg / s\n",
      "\tLuminosity absorbed  = 3.369e+42 erg / s\n",
      "\tLuminosity requested = 1.059e+43 erg / s\n",
      " (\u001b[1mbase.py\u001b[0m:580)\n"
     ]
    },
    {
     "name": "stdout",
     "output_type": "stream",
     "text": [
      "[\u001b[1mtardis.simulation.base\u001b[0m][\u001b[1;37mINFO\u001b[0m   ]  \n",
      "\tIteration converged 2/4 consecutive times. (\u001b[1mbase.py\u001b[0m:268)\n"
     ]
    },
    {
     "name": "stdout",
     "output_type": "stream",
     "text": [
      "[\u001b[1mtardis.simulation.base\u001b[0m][\u001b[1;37mINFO\u001b[0m   ]  \n",
      "\t\n",
      "\tPlasma stratification: (\u001b[1mbase.py\u001b[0m:548)\n"
     ]
    },
    {
     "data": {
      "text/html": [
       "<style type=\"text/css\">\n",
       "</style>\n",
       "<table id=\"T_a4358\">\n",
       "  <thead>\n",
       "    <tr>\n",
       "      <th class=\"index_name level0\" >Shell No.</th>\n",
       "      <th id=\"T_a4358_level0_col0\" class=\"col_heading level0 col0\" >t_rad</th>\n",
       "      <th id=\"T_a4358_level0_col1\" class=\"col_heading level0 col1\" >next_t_rad</th>\n",
       "      <th id=\"T_a4358_level0_col2\" class=\"col_heading level0 col2\" >w</th>\n",
       "      <th id=\"T_a4358_level0_col3\" class=\"col_heading level0 col3\" >next_w</th>\n",
       "    </tr>\n",
       "  </thead>\n",
       "  <tbody>\n",
       "    <tr>\n",
       "      <th id=\"T_a4358_level0_row0\" class=\"row_heading level0 row0\" >0</th>\n",
       "      <td id=\"T_a4358_row0_col0\" class=\"data row0 col0\" >1.11e+04 K</td>\n",
       "      <td id=\"T_a4358_row0_col1\" class=\"data row0 col1\" >1.11e+04 K</td>\n",
       "      <td id=\"T_a4358_row0_col2\" class=\"data row0 col2\" >0.466</td>\n",
       "      <td id=\"T_a4358_row0_col3\" class=\"data row0 col3\" >0.469</td>\n",
       "    </tr>\n",
       "    <tr>\n",
       "      <th id=\"T_a4358_level0_row1\" class=\"row_heading level0 row1\" >5</th>\n",
       "      <td id=\"T_a4358_row1_col0\" class=\"data row1 col0\" >1.13e+04 K</td>\n",
       "      <td id=\"T_a4358_row1_col1\" class=\"data row1 col1\" >1.13e+04 K</td>\n",
       "      <td id=\"T_a4358_row1_col2\" class=\"data row1 col2\" >0.18</td>\n",
       "      <td id=\"T_a4358_row1_col3\" class=\"data row1 col3\" >0.182</td>\n",
       "    </tr>\n",
       "    <tr>\n",
       "      <th id=\"T_a4358_level0_row2\" class=\"row_heading level0 row2\" >10</th>\n",
       "      <td id=\"T_a4358_row2_col0\" class=\"data row2 col0\" >1.11e+04 K</td>\n",
       "      <td id=\"T_a4358_row2_col1\" class=\"data row2 col1\" >1.1e+04 K</td>\n",
       "      <td id=\"T_a4358_row2_col2\" class=\"data row2 col2\" >0.111</td>\n",
       "      <td id=\"T_a4358_row2_col3\" class=\"data row2 col3\" >0.113</td>\n",
       "    </tr>\n",
       "    <tr>\n",
       "      <th id=\"T_a4358_level0_row3\" class=\"row_heading level0 row3\" >15</th>\n",
       "      <td id=\"T_a4358_row3_col0\" class=\"data row3 col0\" >1.08e+04 K</td>\n",
       "      <td id=\"T_a4358_row3_col1\" class=\"data row3 col1\" >1.07e+04 K</td>\n",
       "      <td id=\"T_a4358_row3_col2\" class=\"data row3 col2\" >0.0841</td>\n",
       "      <td id=\"T_a4358_row3_col3\" class=\"data row3 col3\" >0.0854</td>\n",
       "    </tr>\n",
       "  </tbody>\n",
       "</table>\n"
      ],
      "text/plain": [
       "<pandas.io.formats.style.Styler at 0x7f700d9f9ed0>"
      ]
     },
     "metadata": {},
     "output_type": "display_data"
    },
    {
     "name": "stdout",
     "output_type": "stream",
     "text": [
      "[\u001b[1mtardis.simulation.base\u001b[0m][\u001b[1;37mINFO\u001b[0m   ]  \n",
      "\t\n",
      "\tCurrent t_inner = 10647.277 K\n",
      "\tExpected t_inner for next iteration = 10638.875 K\n",
      " (\u001b[1mbase.py\u001b[0m:575)\n"
     ]
    },
    {
     "name": "stdout",
     "output_type": "stream",
     "text": [
      "[\u001b[1mpy.warnings         \u001b[0m][\u001b[1;33mWARNING\u001b[0m]  \n",
      "\t/home/runner/work/tardis/tardis/tardis/plasma/properties/radiative_properties.py:93: RuntimeWarning: invalid value encountered in divide\n",
      "  (g_lower * n_upper) / (g_upper * n_lower)\n",
      " (\u001b[1mwarnings.py\u001b[0m:109)\n"
     ]
    },
    {
     "name": "stdout",
     "output_type": "stream",
     "text": [
      "[\u001b[1mtardis.simulation.base\u001b[0m][\u001b[1;37mINFO\u001b[0m   ]  \n",
      "\t\n",
      "\tStarting iteration 15 of 20 (\u001b[1mbase.py\u001b[0m:398)\n"
     ]
    },
    {
     "name": "stdout",
     "output_type": "stream",
     "text": [
      "[\u001b[1mtardis.simulation.base\u001b[0m][\u001b[1;37mINFO\u001b[0m   ]  \n",
      "\t\n",
      "\tLuminosity emitted   = 1.053e+43 erg / s\n",
      "\tLuminosity absorbed  = 3.417e+42 erg / s\n",
      "\tLuminosity requested = 1.059e+43 erg / s\n",
      " (\u001b[1mbase.py\u001b[0m:580)\n"
     ]
    },
    {
     "name": "stdout",
     "output_type": "stream",
     "text": [
      "[\u001b[1mtardis.simulation.base\u001b[0m][\u001b[1;37mINFO\u001b[0m   ]  \n",
      "\tIteration converged 3/4 consecutive times. (\u001b[1mbase.py\u001b[0m:268)\n"
     ]
    },
    {
     "name": "stdout",
     "output_type": "stream",
     "text": [
      "[\u001b[1mtardis.simulation.base\u001b[0m][\u001b[1;37mINFO\u001b[0m   ]  \n",
      "\t\n",
      "\tPlasma stratification: (\u001b[1mbase.py\u001b[0m:548)\n"
     ]
    },
    {
     "data": {
      "text/html": [
       "<style type=\"text/css\">\n",
       "</style>\n",
       "<table id=\"T_6a1ad\">\n",
       "  <thead>\n",
       "    <tr>\n",
       "      <th class=\"index_name level0\" >Shell No.</th>\n",
       "      <th id=\"T_6a1ad_level0_col0\" class=\"col_heading level0 col0\" >t_rad</th>\n",
       "      <th id=\"T_6a1ad_level0_col1\" class=\"col_heading level0 col1\" >next_t_rad</th>\n",
       "      <th id=\"T_6a1ad_level0_col2\" class=\"col_heading level0 col2\" >w</th>\n",
       "      <th id=\"T_6a1ad_level0_col3\" class=\"col_heading level0 col3\" >next_w</th>\n",
       "    </tr>\n",
       "  </thead>\n",
       "  <tbody>\n",
       "    <tr>\n",
       "      <th id=\"T_6a1ad_level0_row0\" class=\"row_heading level0 row0\" >0</th>\n",
       "      <td id=\"T_6a1ad_row0_col0\" class=\"data row0 col0\" >1.11e+04 K</td>\n",
       "      <td id=\"T_6a1ad_row0_col1\" class=\"data row0 col1\" >1.1e+04 K</td>\n",
       "      <td id=\"T_6a1ad_row0_col2\" class=\"data row0 col2\" >0.469</td>\n",
       "      <td id=\"T_6a1ad_row0_col3\" class=\"data row0 col3\" >0.484</td>\n",
       "    </tr>\n",
       "    <tr>\n",
       "      <th id=\"T_6a1ad_level0_row1\" class=\"row_heading level0 row1\" >5</th>\n",
       "      <td id=\"T_6a1ad_row1_col0\" class=\"data row1 col0\" >1.13e+04 K</td>\n",
       "      <td id=\"T_6a1ad_row1_col1\" class=\"data row1 col1\" >1.13e+04 K</td>\n",
       "      <td id=\"T_6a1ad_row1_col2\" class=\"data row1 col2\" >0.182</td>\n",
       "      <td id=\"T_6a1ad_row1_col3\" class=\"data row1 col3\" >0.181</td>\n",
       "    </tr>\n",
       "    <tr>\n",
       "      <th id=\"T_6a1ad_level0_row2\" class=\"row_heading level0 row2\" >10</th>\n",
       "      <td id=\"T_6a1ad_row2_col0\" class=\"data row2 col0\" >1.1e+04 K</td>\n",
       "      <td id=\"T_6a1ad_row2_col1\" class=\"data row2 col1\" >1.1e+04 K</td>\n",
       "      <td id=\"T_6a1ad_row2_col2\" class=\"data row2 col2\" >0.113</td>\n",
       "      <td id=\"T_6a1ad_row2_col3\" class=\"data row2 col3\" >0.113</td>\n",
       "    </tr>\n",
       "    <tr>\n",
       "      <th id=\"T_6a1ad_level0_row3\" class=\"row_heading level0 row3\" >15</th>\n",
       "      <td id=\"T_6a1ad_row3_col0\" class=\"data row3 col0\" >1.07e+04 K</td>\n",
       "      <td id=\"T_6a1ad_row3_col1\" class=\"data row3 col1\" >1.07e+04 K</td>\n",
       "      <td id=\"T_6a1ad_row3_col2\" class=\"data row3 col2\" >0.0854</td>\n",
       "      <td id=\"T_6a1ad_row3_col3\" class=\"data row3 col3\" >0.0858</td>\n",
       "    </tr>\n",
       "  </tbody>\n",
       "</table>\n"
      ],
      "text/plain": [
       "<pandas.io.formats.style.Styler at 0x7f700d9ed310>"
      ]
     },
     "metadata": {},
     "output_type": "display_data"
    },
    {
     "name": "stdout",
     "output_type": "stream",
     "text": [
      "[\u001b[1mtardis.simulation.base\u001b[0m][\u001b[1;37mINFO\u001b[0m   ]  \n",
      "\t\n",
      "\tCurrent t_inner = 10638.875 K\n",
      "\tExpected t_inner for next iteration = 10655.125 K\n",
      " (\u001b[1mbase.py\u001b[0m:575)\n"
     ]
    },
    {
     "name": "stdout",
     "output_type": "stream",
     "text": [
      "[\u001b[1mpy.warnings         \u001b[0m][\u001b[1;33mWARNING\u001b[0m]  \n",
      "\t/home/runner/work/tardis/tardis/tardis/plasma/properties/radiative_properties.py:93: RuntimeWarning: invalid value encountered in divide\n",
      "  (g_lower * n_upper) / (g_upper * n_lower)\n",
      " (\u001b[1mwarnings.py\u001b[0m:109)\n"
     ]
    },
    {
     "name": "stdout",
     "output_type": "stream",
     "text": [
      "[\u001b[1mtardis.simulation.base\u001b[0m][\u001b[1;37mINFO\u001b[0m   ]  \n",
      "\t\n",
      "\tStarting iteration 16 of 20 (\u001b[1mbase.py\u001b[0m:398)\n"
     ]
    },
    {
     "name": "stdout",
     "output_type": "stream",
     "text": [
      "[\u001b[1mtardis.simulation.base\u001b[0m][\u001b[1;37mINFO\u001b[0m   ]  \n",
      "\t\n",
      "\tLuminosity emitted   = 1.059e+43 erg / s\n",
      "\tLuminosity absorbed  = 3.445e+42 erg / s\n",
      "\tLuminosity requested = 1.059e+43 erg / s\n",
      " (\u001b[1mbase.py\u001b[0m:580)\n"
     ]
    },
    {
     "name": "stdout",
     "output_type": "stream",
     "text": [
      "[\u001b[1mtardis.simulation.base\u001b[0m][\u001b[1;37mINFO\u001b[0m   ]  \n",
      "\tIteration converged 4/4 consecutive times. (\u001b[1mbase.py\u001b[0m:268)\n"
     ]
    },
    {
     "name": "stdout",
     "output_type": "stream",
     "text": [
      "[\u001b[1mtardis.simulation.base\u001b[0m][\u001b[1;37mINFO\u001b[0m   ]  \n",
      "\t\n",
      "\tPlasma stratification: (\u001b[1mbase.py\u001b[0m:548)\n"
     ]
    },
    {
     "data": {
      "text/html": [
       "<style type=\"text/css\">\n",
       "</style>\n",
       "<table id=\"T_a67b5\">\n",
       "  <thead>\n",
       "    <tr>\n",
       "      <th class=\"index_name level0\" >Shell No.</th>\n",
       "      <th id=\"T_a67b5_level0_col0\" class=\"col_heading level0 col0\" >t_rad</th>\n",
       "      <th id=\"T_a67b5_level0_col1\" class=\"col_heading level0 col1\" >next_t_rad</th>\n",
       "      <th id=\"T_a67b5_level0_col2\" class=\"col_heading level0 col2\" >w</th>\n",
       "      <th id=\"T_a67b5_level0_col3\" class=\"col_heading level0 col3\" >next_w</th>\n",
       "    </tr>\n",
       "  </thead>\n",
       "  <tbody>\n",
       "    <tr>\n",
       "      <th id=\"T_a67b5_level0_row0\" class=\"row_heading level0 row0\" >0</th>\n",
       "      <td id=\"T_a67b5_row0_col0\" class=\"data row0 col0\" >1.1e+04 K</td>\n",
       "      <td id=\"T_a67b5_row0_col1\" class=\"data row0 col1\" >1.1e+04 K</td>\n",
       "      <td id=\"T_a67b5_row0_col2\" class=\"data row0 col2\" >0.484</td>\n",
       "      <td id=\"T_a67b5_row0_col3\" class=\"data row0 col3\" >0.472</td>\n",
       "    </tr>\n",
       "    <tr>\n",
       "      <th id=\"T_a67b5_level0_row1\" class=\"row_heading level0 row1\" >5</th>\n",
       "      <td id=\"T_a67b5_row1_col0\" class=\"data row1 col0\" >1.13e+04 K</td>\n",
       "      <td id=\"T_a67b5_row1_col1\" class=\"data row1 col1\" >1.13e+04 K</td>\n",
       "      <td id=\"T_a67b5_row1_col2\" class=\"data row1 col2\" >0.181</td>\n",
       "      <td id=\"T_a67b5_row1_col3\" class=\"data row1 col3\" >0.177</td>\n",
       "    </tr>\n",
       "    <tr>\n",
       "      <th id=\"T_a67b5_level0_row2\" class=\"row_heading level0 row2\" >10</th>\n",
       "      <td id=\"T_a67b5_row2_col0\" class=\"data row2 col0\" >1.1e+04 K</td>\n",
       "      <td id=\"T_a67b5_row2_col1\" class=\"data row2 col1\" >1.1e+04 K</td>\n",
       "      <td id=\"T_a67b5_row2_col2\" class=\"data row2 col2\" >0.113</td>\n",
       "      <td id=\"T_a67b5_row2_col3\" class=\"data row2 col3\" >0.113</td>\n",
       "    </tr>\n",
       "    <tr>\n",
       "      <th id=\"T_a67b5_level0_row3\" class=\"row_heading level0 row3\" >15</th>\n",
       "      <td id=\"T_a67b5_row3_col0\" class=\"data row3 col0\" >1.07e+04 K</td>\n",
       "      <td id=\"T_a67b5_row3_col1\" class=\"data row3 col1\" >1.06e+04 K</td>\n",
       "      <td id=\"T_a67b5_row3_col2\" class=\"data row3 col2\" >0.0858</td>\n",
       "      <td id=\"T_a67b5_row3_col3\" class=\"data row3 col3\" >0.0858</td>\n",
       "    </tr>\n",
       "  </tbody>\n",
       "</table>\n"
      ],
      "text/plain": [
       "<pandas.io.formats.style.Styler at 0x7f700d9faa50>"
      ]
     },
     "metadata": {},
     "output_type": "display_data"
    },
    {
     "name": "stdout",
     "output_type": "stream",
     "text": [
      "[\u001b[1mtardis.simulation.base\u001b[0m][\u001b[1;37mINFO\u001b[0m   ]  \n",
      "\t\n",
      "\tCurrent t_inner = 10655.125 K\n",
      "\tExpected t_inner for next iteration = 10655.561 K\n",
      " (\u001b[1mbase.py\u001b[0m:575)\n"
     ]
    },
    {
     "name": "stdout",
     "output_type": "stream",
     "text": [
      "[\u001b[1mpy.warnings         \u001b[0m][\u001b[1;33mWARNING\u001b[0m]  \n",
      "\t/home/runner/work/tardis/tardis/tardis/plasma/properties/radiative_properties.py:93: RuntimeWarning: invalid value encountered in divide\n",
      "  (g_lower * n_upper) / (g_upper * n_lower)\n",
      " (\u001b[1mwarnings.py\u001b[0m:109)\n"
     ]
    },
    {
     "name": "stdout",
     "output_type": "stream",
     "text": [
      "[\u001b[1mtardis.simulation.base\u001b[0m][\u001b[1;37mINFO\u001b[0m   ]  \n",
      "\t\n",
      "\tStarting iteration 17 of 20 (\u001b[1mbase.py\u001b[0m:398)\n"
     ]
    },
    {
     "name": "stdout",
     "output_type": "stream",
     "text": [
      "[\u001b[1mtardis.simulation.base\u001b[0m][\u001b[1;37mINFO\u001b[0m   ]  \n",
      "\t\n",
      "\tLuminosity emitted   = 1.067e+43 erg / s\n",
      "\tLuminosity absorbed  = 3.372e+42 erg / s\n",
      "\tLuminosity requested = 1.059e+43 erg / s\n",
      " (\u001b[1mbase.py\u001b[0m:580)\n"
     ]
    },
    {
     "name": "stdout",
     "output_type": "stream",
     "text": [
      "[\u001b[1mtardis.simulation.base\u001b[0m][\u001b[1;37mINFO\u001b[0m   ]  \n",
      "\t\n",
      "\tPlasma stratification: (\u001b[1mbase.py\u001b[0m:548)\n"
     ]
    },
    {
     "data": {
      "text/html": [
       "<style type=\"text/css\">\n",
       "</style>\n",
       "<table id=\"T_eb903\">\n",
       "  <thead>\n",
       "    <tr>\n",
       "      <th class=\"index_name level0\" >Shell No.</th>\n",
       "      <th id=\"T_eb903_level0_col0\" class=\"col_heading level0 col0\" >t_rad</th>\n",
       "      <th id=\"T_eb903_level0_col1\" class=\"col_heading level0 col1\" >next_t_rad</th>\n",
       "      <th id=\"T_eb903_level0_col2\" class=\"col_heading level0 col2\" >w</th>\n",
       "      <th id=\"T_eb903_level0_col3\" class=\"col_heading level0 col3\" >next_w</th>\n",
       "    </tr>\n",
       "  </thead>\n",
       "  <tbody>\n",
       "    <tr>\n",
       "      <th id=\"T_eb903_level0_row0\" class=\"row_heading level0 row0\" >0</th>\n",
       "      <td id=\"T_eb903_row0_col0\" class=\"data row0 col0\" >1.1e+04 K</td>\n",
       "      <td id=\"T_eb903_row0_col1\" class=\"data row0 col1\" >1.11e+04 K</td>\n",
       "      <td id=\"T_eb903_row0_col2\" class=\"data row0 col2\" >0.472</td>\n",
       "      <td id=\"T_eb903_row0_col3\" class=\"data row0 col3\" >0.468</td>\n",
       "    </tr>\n",
       "    <tr>\n",
       "      <th id=\"T_eb903_level0_row1\" class=\"row_heading level0 row1\" >5</th>\n",
       "      <td id=\"T_eb903_row1_col0\" class=\"data row1 col0\" >1.13e+04 K</td>\n",
       "      <td id=\"T_eb903_row1_col1\" class=\"data row1 col1\" >1.14e+04 K</td>\n",
       "      <td id=\"T_eb903_row1_col2\" class=\"data row1 col2\" >0.177</td>\n",
       "      <td id=\"T_eb903_row1_col3\" class=\"data row1 col3\" >0.175</td>\n",
       "    </tr>\n",
       "    <tr>\n",
       "      <th id=\"T_eb903_level0_row2\" class=\"row_heading level0 row2\" >10</th>\n",
       "      <td id=\"T_eb903_row2_col0\" class=\"data row2 col0\" >1.1e+04 K</td>\n",
       "      <td id=\"T_eb903_row2_col1\" class=\"data row2 col1\" >1.11e+04 K</td>\n",
       "      <td id=\"T_eb903_row2_col2\" class=\"data row2 col2\" >0.113</td>\n",
       "      <td id=\"T_eb903_row2_col3\" class=\"data row2 col3\" >0.11</td>\n",
       "    </tr>\n",
       "    <tr>\n",
       "      <th id=\"T_eb903_level0_row3\" class=\"row_heading level0 row3\" >15</th>\n",
       "      <td id=\"T_eb903_row3_col0\" class=\"data row3 col0\" >1.06e+04 K</td>\n",
       "      <td id=\"T_eb903_row3_col1\" class=\"data row3 col1\" >1.08e+04 K</td>\n",
       "      <td id=\"T_eb903_row3_col2\" class=\"data row3 col2\" >0.0858</td>\n",
       "      <td id=\"T_eb903_row3_col3\" class=\"data row3 col3\" >0.0816</td>\n",
       "    </tr>\n",
       "  </tbody>\n",
       "</table>\n"
      ],
      "text/plain": [
       "<pandas.io.formats.style.Styler at 0x7f700d9edbd0>"
      ]
     },
     "metadata": {},
     "output_type": "display_data"
    },
    {
     "name": "stdout",
     "output_type": "stream",
     "text": [
      "[\u001b[1mtardis.simulation.base\u001b[0m][\u001b[1;37mINFO\u001b[0m   ]  \n",
      "\t\n",
      "\tCurrent t_inner = 10655.561 K\n",
      "\tExpected t_inner for next iteration = 10636.536 K\n",
      " (\u001b[1mbase.py\u001b[0m:575)\n"
     ]
    },
    {
     "name": "stdout",
     "output_type": "stream",
     "text": [
      "[\u001b[1mpy.warnings         \u001b[0m][\u001b[1;33mWARNING\u001b[0m]  \n",
      "\t/home/runner/work/tardis/tardis/tardis/plasma/properties/radiative_properties.py:93: RuntimeWarning: invalid value encountered in divide\n",
      "  (g_lower * n_upper) / (g_upper * n_lower)\n",
      " (\u001b[1mwarnings.py\u001b[0m:109)\n"
     ]
    },
    {
     "name": "stdout",
     "output_type": "stream",
     "text": [
      "[\u001b[1mtardis.simulation.base\u001b[0m][\u001b[1;37mINFO\u001b[0m   ]  \n",
      "\t\n",
      "\tStarting iteration 18 of 20 (\u001b[1mbase.py\u001b[0m:398)\n"
     ]
    },
    {
     "name": "stdout",
     "output_type": "stream",
     "text": [
      "[\u001b[1mtardis.simulation.base\u001b[0m][\u001b[1;37mINFO\u001b[0m   ]  \n",
      "\t\n",
      "\tLuminosity emitted   = 1.057e+43 erg / s\n",
      "\tLuminosity absorbed  = 3.365e+42 erg / s\n",
      "\tLuminosity requested = 1.059e+43 erg / s\n",
      " (\u001b[1mbase.py\u001b[0m:580)\n"
     ]
    },
    {
     "name": "stdout",
     "output_type": "stream",
     "text": [
      "[\u001b[1mtardis.simulation.base\u001b[0m][\u001b[1;37mINFO\u001b[0m   ]  \n",
      "\tIteration converged 1/4 consecutive times. (\u001b[1mbase.py\u001b[0m:268)\n"
     ]
    },
    {
     "name": "stdout",
     "output_type": "stream",
     "text": [
      "[\u001b[1mtardis.simulation.base\u001b[0m][\u001b[1;37mINFO\u001b[0m   ]  \n",
      "\t\n",
      "\tPlasma stratification: (\u001b[1mbase.py\u001b[0m:548)\n"
     ]
    },
    {
     "data": {
      "text/html": [
       "<style type=\"text/css\">\n",
       "</style>\n",
       "<table id=\"T_cc46f\">\n",
       "  <thead>\n",
       "    <tr>\n",
       "      <th class=\"index_name level0\" >Shell No.</th>\n",
       "      <th id=\"T_cc46f_level0_col0\" class=\"col_heading level0 col0\" >t_rad</th>\n",
       "      <th id=\"T_cc46f_level0_col1\" class=\"col_heading level0 col1\" >next_t_rad</th>\n",
       "      <th id=\"T_cc46f_level0_col2\" class=\"col_heading level0 col2\" >w</th>\n",
       "      <th id=\"T_cc46f_level0_col3\" class=\"col_heading level0 col3\" >next_w</th>\n",
       "    </tr>\n",
       "  </thead>\n",
       "  <tbody>\n",
       "    <tr>\n",
       "      <th id=\"T_cc46f_level0_row0\" class=\"row_heading level0 row0\" >0</th>\n",
       "      <td id=\"T_cc46f_row0_col0\" class=\"data row0 col0\" >1.11e+04 K</td>\n",
       "      <td id=\"T_cc46f_row0_col1\" class=\"data row0 col1\" >1.11e+04 K</td>\n",
       "      <td id=\"T_cc46f_row0_col2\" class=\"data row0 col2\" >0.468</td>\n",
       "      <td id=\"T_cc46f_row0_col3\" class=\"data row0 col3\" >0.464</td>\n",
       "    </tr>\n",
       "    <tr>\n",
       "      <th id=\"T_cc46f_level0_row1\" class=\"row_heading level0 row1\" >5</th>\n",
       "      <td id=\"T_cc46f_row1_col0\" class=\"data row1 col0\" >1.14e+04 K</td>\n",
       "      <td id=\"T_cc46f_row1_col1\" class=\"data row1 col1\" >1.13e+04 K</td>\n",
       "      <td id=\"T_cc46f_row1_col2\" class=\"data row1 col2\" >0.175</td>\n",
       "      <td id=\"T_cc46f_row1_col3\" class=\"data row1 col3\" >0.177</td>\n",
       "    </tr>\n",
       "    <tr>\n",
       "      <th id=\"T_cc46f_level0_row2\" class=\"row_heading level0 row2\" >10</th>\n",
       "      <td id=\"T_cc46f_row2_col0\" class=\"data row2 col0\" >1.11e+04 K</td>\n",
       "      <td id=\"T_cc46f_row2_col1\" class=\"data row2 col1\" >1.1e+04 K</td>\n",
       "      <td id=\"T_cc46f_row2_col2\" class=\"data row2 col2\" >0.11</td>\n",
       "      <td id=\"T_cc46f_row2_col3\" class=\"data row2 col3\" >0.113</td>\n",
       "    </tr>\n",
       "    <tr>\n",
       "      <th id=\"T_cc46f_level0_row3\" class=\"row_heading level0 row3\" >15</th>\n",
       "      <td id=\"T_cc46f_row3_col0\" class=\"data row3 col0\" >1.08e+04 K</td>\n",
       "      <td id=\"T_cc46f_row3_col1\" class=\"data row3 col1\" >1.07e+04 K</td>\n",
       "      <td id=\"T_cc46f_row3_col2\" class=\"data row3 col2\" >0.0816</td>\n",
       "      <td id=\"T_cc46f_row3_col3\" class=\"data row3 col3\" >0.0848</td>\n",
       "    </tr>\n",
       "  </tbody>\n",
       "</table>\n"
      ],
      "text/plain": [
       "<pandas.io.formats.style.Styler at 0x7f700d9fb4d0>"
      ]
     },
     "metadata": {},
     "output_type": "display_data"
    },
    {
     "name": "stdout",
     "output_type": "stream",
     "text": [
      "[\u001b[1mtardis.simulation.base\u001b[0m][\u001b[1;37mINFO\u001b[0m   ]  \n",
      "\t\n",
      "\tCurrent t_inner = 10636.536 K\n",
      "\tExpected t_inner for next iteration = 10641.692 K\n",
      " (\u001b[1mbase.py\u001b[0m:575)\n"
     ]
    },
    {
     "name": "stdout",
     "output_type": "stream",
     "text": [
      "[\u001b[1mpy.warnings         \u001b[0m][\u001b[1;33mWARNING\u001b[0m]  \n",
      "\t/home/runner/work/tardis/tardis/tardis/plasma/properties/radiative_properties.py:93: RuntimeWarning: invalid value encountered in divide\n",
      "  (g_lower * n_upper) / (g_upper * n_lower)\n",
      " (\u001b[1mwarnings.py\u001b[0m:109)\n"
     ]
    },
    {
     "name": "stdout",
     "output_type": "stream",
     "text": [
      "[\u001b[1mtardis.simulation.base\u001b[0m][\u001b[1;37mINFO\u001b[0m   ]  \n",
      "\t\n",
      "\tStarting iteration 19 of 20 (\u001b[1mbase.py\u001b[0m:398)\n"
     ]
    },
    {
     "name": "stdout",
     "output_type": "stream",
     "text": [
      "[\u001b[1mtardis.simulation.base\u001b[0m][\u001b[1;37mINFO\u001b[0m   ]  \n",
      "\t\n",
      "\tLuminosity emitted   = 1.056e+43 erg / s\n",
      "\tLuminosity absorbed  = 3.405e+42 erg / s\n",
      "\tLuminosity requested = 1.059e+43 erg / s\n",
      " (\u001b[1mbase.py\u001b[0m:580)\n"
     ]
    },
    {
     "name": "stdout",
     "output_type": "stream",
     "text": [
      "[\u001b[1mtardis.simulation.base\u001b[0m][\u001b[1;37mINFO\u001b[0m   ]  \n",
      "\tIteration converged 2/4 consecutive times. (\u001b[1mbase.py\u001b[0m:268)\n"
     ]
    },
    {
     "name": "stdout",
     "output_type": "stream",
     "text": [
      "[\u001b[1mtardis.simulation.base\u001b[0m][\u001b[1;37mINFO\u001b[0m   ]  \n",
      "\t\n",
      "\tPlasma stratification: (\u001b[1mbase.py\u001b[0m:548)\n"
     ]
    },
    {
     "data": {
      "text/html": [
       "<style type=\"text/css\">\n",
       "</style>\n",
       "<table id=\"T_0e477\">\n",
       "  <thead>\n",
       "    <tr>\n",
       "      <th class=\"index_name level0\" >Shell No.</th>\n",
       "      <th id=\"T_0e477_level0_col0\" class=\"col_heading level0 col0\" >t_rad</th>\n",
       "      <th id=\"T_0e477_level0_col1\" class=\"col_heading level0 col1\" >next_t_rad</th>\n",
       "      <th id=\"T_0e477_level0_col2\" class=\"col_heading level0 col2\" >w</th>\n",
       "      <th id=\"T_0e477_level0_col3\" class=\"col_heading level0 col3\" >next_w</th>\n",
       "    </tr>\n",
       "  </thead>\n",
       "  <tbody>\n",
       "    <tr>\n",
       "      <th id=\"T_0e477_level0_row0\" class=\"row_heading level0 row0\" >0</th>\n",
       "      <td id=\"T_0e477_row0_col0\" class=\"data row0 col0\" >1.11e+04 K</td>\n",
       "      <td id=\"T_0e477_row0_col1\" class=\"data row0 col1\" >1.11e+04 K</td>\n",
       "      <td id=\"T_0e477_row0_col2\" class=\"data row0 col2\" >0.464</td>\n",
       "      <td id=\"T_0e477_row0_col3\" class=\"data row0 col3\" >0.466</td>\n",
       "    </tr>\n",
       "    <tr>\n",
       "      <th id=\"T_0e477_level0_row1\" class=\"row_heading level0 row1\" >5</th>\n",
       "      <td id=\"T_0e477_row1_col0\" class=\"data row1 col0\" >1.13e+04 K</td>\n",
       "      <td id=\"T_0e477_row1_col1\" class=\"data row1 col1\" >1.13e+04 K</td>\n",
       "      <td id=\"T_0e477_row1_col2\" class=\"data row1 col2\" >0.177</td>\n",
       "      <td id=\"T_0e477_row1_col3\" class=\"data row1 col3\" >0.177</td>\n",
       "    </tr>\n",
       "    <tr>\n",
       "      <th id=\"T_0e477_level0_row2\" class=\"row_heading level0 row2\" >10</th>\n",
       "      <td id=\"T_0e477_row2_col0\" class=\"data row2 col0\" >1.1e+04 K</td>\n",
       "      <td id=\"T_0e477_row2_col1\" class=\"data row2 col1\" >1.11e+04 K</td>\n",
       "      <td id=\"T_0e477_row2_col2\" class=\"data row2 col2\" >0.113</td>\n",
       "      <td id=\"T_0e477_row2_col3\" class=\"data row2 col3\" >0.111</td>\n",
       "    </tr>\n",
       "    <tr>\n",
       "      <th id=\"T_0e477_level0_row3\" class=\"row_heading level0 row3\" >15</th>\n",
       "      <td id=\"T_0e477_row3_col0\" class=\"data row3 col0\" >1.07e+04 K</td>\n",
       "      <td id=\"T_0e477_row3_col1\" class=\"data row3 col1\" >1.07e+04 K</td>\n",
       "      <td id=\"T_0e477_row3_col2\" class=\"data row3 col2\" >0.0848</td>\n",
       "      <td id=\"T_0e477_row3_col3\" class=\"data row3 col3\" >0.0853</td>\n",
       "    </tr>\n",
       "  </tbody>\n",
       "</table>\n"
      ],
      "text/plain": [
       "<pandas.io.formats.style.Styler at 0x7f700d9f3fd0>"
      ]
     },
     "metadata": {},
     "output_type": "display_data"
    },
    {
     "name": "stdout",
     "output_type": "stream",
     "text": [
      "[\u001b[1mtardis.simulation.base\u001b[0m][\u001b[1;37mINFO\u001b[0m   ]  \n",
      "\t\n",
      "\tCurrent t_inner = 10641.692 K\n",
      "\tExpected t_inner for next iteration = 10650.463 K\n",
      " (\u001b[1mbase.py\u001b[0m:575)\n"
     ]
    },
    {
     "name": "stdout",
     "output_type": "stream",
     "text": [
      "[\u001b[1mpy.warnings         \u001b[0m][\u001b[1;33mWARNING\u001b[0m]  \n",
      "\t/home/runner/work/tardis/tardis/tardis/plasma/properties/radiative_properties.py:93: RuntimeWarning: invalid value encountered in divide\n",
      "  (g_lower * n_upper) / (g_upper * n_lower)\n",
      " (\u001b[1mwarnings.py\u001b[0m:109)\n"
     ]
    },
    {
     "name": "stdout",
     "output_type": "stream",
     "text": [
      "[\u001b[1mtardis.simulation.base\u001b[0m][\u001b[1;37mINFO\u001b[0m   ]  \n",
      "\t\n",
      "\tSimulation finished in 19 iterations \n",
      "\tSimulation took 44.61 s\n",
      " (\u001b[1mbase.py\u001b[0m:476)\n"
     ]
    },
    {
     "name": "stdout",
     "output_type": "stream",
     "text": [
      "[\u001b[1mtardis.simulation.base\u001b[0m][\u001b[1;37mINFO\u001b[0m   ]  \n",
      "\t\n",
      "\tStarting iteration 20 of 20 (\u001b[1mbase.py\u001b[0m:398)\n"
     ]
    },
    {
     "name": "stdout",
     "output_type": "stream",
     "text": [
      "[\u001b[1mtardis.simulation.base\u001b[0m][\u001b[1;37mINFO\u001b[0m   ]  \n",
      "\t\n",
      "\tLuminosity emitted   = 1.061e+43 erg / s\n",
      "\tLuminosity absorbed  = 3.401e+42 erg / s\n",
      "\tLuminosity requested = 1.059e+43 erg / s\n",
      " (\u001b[1mbase.py\u001b[0m:580)\n"
     ]
    }
   ],
   "source": [
    "from tardis import run_tardis\n",
    "from tardis.io.atom_data.util import download_atom_data\n",
    "\n",
    "# We download the atomic data needed to run the simulation\n",
    "download_atom_data(\"kurucz_cd23_chianti_H_He\")\n",
    "\n",
    "sim = run_tardis(\"tardis_example.yml\", virtual_packet_logging=True)"
   ]
  },
  {
   "cell_type": "markdown",
   "metadata": {},
   "source": [
    "Now, import functions & class to create widgets from `visualization` subpackage:\n"
   ]
  },
  {
   "cell_type": "code",
   "execution_count": 2,
   "metadata": {
    "ExecuteTime": {
     "end_time": "2021-02-18T17:29:30.986893Z",
     "start_time": "2021-02-18T17:29:30.978764Z"
    },
    "execution": {
     "iopub.execute_input": "2024-04-15T05:19:12.041074Z",
     "iopub.status.busy": "2024-04-15T05:19:12.040609Z",
     "iopub.status.idle": "2024-04-15T05:19:12.043172Z",
     "shell.execute_reply": "2024-04-15T05:19:12.042796Z"
    }
   },
   "outputs": [],
   "source": [
    "from tardis.visualization import (\n",
    "    shell_info_from_simulation,\n",
    "    shell_info_from_hdf,\n",
    "    LineInfoWidget,\n",
    "    GrotrianWidget,\n",
    ")"
   ]
  },
  {
   "cell_type": "markdown",
   "metadata": {},
   "source": [
    "## Shell Info Widget\n",
    "\n",
    "This widget allows you to explore chemical abundances of each shell - all the way from elements to ions to levels - by just clicking on the rows you want to explore!\n",
    "\n",
    "There are two ways in which you can generate the widget:\n"
   ]
  },
  {
   "cell_type": "markdown",
   "metadata": {},
   "source": [
    "### Using a Simulation object\n",
    "\n",
    "We will use the simulation object we created in the beginning, `sim` to generate shell info widget. Then simply display it to start using.\n"
   ]
  },
  {
   "cell_type": "code",
   "execution_count": 3,
   "metadata": {
    "ExecuteTime": {
     "end_time": "2021-02-18T16:11:15.097803Z",
     "start_time": "2021-02-18T16:11:14.753761Z"
    },
    "execution": {
     "iopub.execute_input": "2024-04-15T05:19:12.044986Z",
     "iopub.status.busy": "2024-04-15T05:19:12.044686Z",
     "iopub.status.idle": "2024-04-15T05:19:12.080948Z",
     "shell.execute_reply": "2024-04-15T05:19:12.080471Z"
    }
   },
   "outputs": [
    {
     "name": "stdout",
     "output_type": "stream",
     "text": [
      "[\u001b[1mpy.warnings         \u001b[0m][\u001b[1;33mWARNING\u001b[0m]  \n",
      "\t/home/runner/work/tardis/tardis/tardis/visualization/widgets/shell_info.py:76: FutureWarning: DataFrame.applymap has been deprecated. Use DataFrame.map instead.\n",
      "  return shells_temp_w.applymap(lambda x: f\"{x:.6e}\")\n",
      " (\u001b[1mwarnings.py\u001b[0m:109)\n"
     ]
    },
    {
     "data": {
      "application/vnd.jupyter.widget-view+json": {
       "model_id": "6b4b91f6d1304c1caeb10234cac998c8",
       "version_major": 2,
       "version_minor": 0
      },
      "text/plain": [
       "VBox(children=(HTML(value='<b>Frac. Ab.</b> denotes <i>Fractional Abundances</i> (i.e all values sum to 1)<br>…"
      ]
     },
     "metadata": {},
     "output_type": "display_data"
    }
   ],
   "source": [
    "shell_info_widget = shell_info_from_simulation(sim)\n",
    "shell_info_widget.display()"
   ]
  },
  {
   "cell_type": "markdown",
   "metadata": {},
   "source": [
    "You can interact with the widget produced in output above (which won't be visible if you're viewing this notebook in our docs as an html page) like this:\n",
    "\n",
    "![Shell Info Widget Demo](../images/shell_info_widget_demo.gif)\n",
    "\n",
    "Use the button at the top of this page to run the notebook in interactively to use the widgets!\n"
   ]
  },
  {
   "cell_type": "markdown",
   "metadata": {},
   "source": [
    "### Using a saved simulation (HDF file)\n",
    "\n",
    "Alternatively, if you have a TARDIS simulation model saved on your disk as an HDF file, you can also use it to generate the shell info widget.\n"
   ]
  },
  {
   "cell_type": "code",
   "execution_count": 4,
   "metadata": {
    "ExecuteTime": {
     "end_time": "2021-02-18T17:24:41.195180Z",
     "start_time": "2021-02-18T17:24:39.006861Z"
    },
    "execution": {
     "iopub.execute_input": "2024-04-15T05:19:12.087098Z",
     "iopub.status.busy": "2024-04-15T05:19:12.086779Z",
     "iopub.status.idle": "2024-04-15T05:19:12.088999Z",
     "shell.execute_reply": "2024-04-15T05:19:12.088612Z"
    },
    "scrolled": true
   },
   "outputs": [],
   "source": [
    "# shell_info_widget = shell_info_from_hdf('demo.h5')\n",
    "# shell_info_widget.display()"
   ]
  },
  {
   "cell_type": "markdown",
   "metadata": {},
   "source": [
    "## Line Info Widget\n",
    "\n",
    "This widget lets you explore the atomic lines responsible for producing features in the simulated spectrum.\n",
    "\n",
    "You can select any wavelength range in the spectrum interactively to display a table giving the fraction of packets that experienced their last interaction with each species. Using toggle buttons, you can specify whether to filter the selected range by the emitted or absorbed wavelengths of packets. Clicking on a row in the species table, shows packet counts for each last line interaction of the selected species, which can be grouped in several ways.\n"
   ]
  },
  {
   "cell_type": "markdown",
   "metadata": {},
   "source": [
    "To generate line info widget, we will again use the simulation object `sim` and then display the widget:\n"
   ]
  },
  {
   "cell_type": "code",
   "execution_count": 5,
   "metadata": {
    "ExecuteTime": {
     "end_time": "2021-02-18T17:24:55.634945Z",
     "start_time": "2021-02-18T17:24:49.354718Z"
    },
    "execution": {
     "iopub.execute_input": "2024-04-15T05:19:12.090881Z",
     "iopub.status.busy": "2024-04-15T05:19:12.090570Z",
     "iopub.status.idle": "2024-04-15T05:19:12.517737Z",
     "shell.execute_reply": "2024-04-15T05:19:12.517226Z"
    }
   },
   "outputs": [
    {
     "data": {
      "application/vnd.jupyter.widget-view+json": {
       "model_id": "59534765cbac4e79adc1f39e18193c8e",
       "version_major": 2,
       "version_minor": 0
      },
      "text/plain": [
       "VBox(children=(FigureWidget({\n",
       "    'data': [{'name': 'Real packets',\n",
       "              'type': 'scatter',\n",
       "         …"
      ]
     },
     "metadata": {},
     "output_type": "display_data"
    }
   ],
   "source": [
    "line_info_widget = LineInfoWidget.from_simulation(sim)\n",
    "line_info_widget.display()"
   ]
  },
  {
   "cell_type": "markdown",
   "metadata": {},
   "source": [
    "You can interact with this widget (which again won't be visible if you're viewing this notebook in our docs as an html page) like this:\n",
    "\n",
    "![Line Info Widget Demo](../images/line_info_widget_demo.gif)\n"
   ]
  },
  {
   "cell_type": "markdown",
   "metadata": {},
   "source": [
    "<div class=\"alert alert-info\">\n",
    "\n",
    "Note\n",
    "\n",
    "The virtual packet logging capability must be active in order to produce virtual packets' spectrum in `Line Info Widget`. Thus, make sure to set `virtual_packet_logging: True` in your configuration file. It should be added under `virtual` property of `spectrum` property, as described in [configuration schema](https://tardis-sn.github.io/tardis/using/components/configuration/configuration.html#spectrum).\n",
    "\n",
    "</div>\n"
   ]
  },
  {
   "cell_type": "markdown",
   "metadata": {},
   "source": [
    "## Energy Level Diagram\n",
    "\n",
    "This widget lets you explore and visualize the various level populations and line interactions in a simulation in the form of an Energy Level Diagram.\n",
    "\n",
    "You can select any ion present in the simulation and filter the transitions by wavelength or model shell to display an energy level diagram, where:\n",
    "\n",
    "- The horizontal lines represent the energy levels. The thickness of each line shows the relative population of that energy level, with thicker lines being more populated.\n",
    "- The arrows represent the line interactions between levels, with the arrow direction giving the direction of the transition. The thickness of each arrow also shows the number of packets that underwent the transition while the wavelength is given by the color.\n",
    "\n",
    "In addition, you can also select between linear- and log-scaling for the y-axis (which represents the energy of each level) and the maximum number of levels to display, beginning from the lowest energy levels.\n"
   ]
  },
  {
   "cell_type": "markdown",
   "metadata": {},
   "source": [
    "To generate the energy level diagram, we will again use the simulation object `sim` and then display the widget:\n"
   ]
  },
  {
   "cell_type": "code",
   "execution_count": 6,
   "metadata": {
    "execution": {
     "iopub.execute_input": "2024-04-15T05:19:12.525227Z",
     "iopub.status.busy": "2024-04-15T05:19:12.524867Z",
     "iopub.status.idle": "2024-04-15T05:19:12.893918Z",
     "shell.execute_reply": "2024-04-15T05:19:12.893372Z"
    }
   },
   "outputs": [
    {
     "name": "stdout",
     "output_type": "stream",
     "text": [
      "[\u001b[1mpy.warnings         \u001b[0m][\u001b[1;33mWARNING\u001b[0m]  \n",
      "\t/usr/share/miniconda3/envs/tardis/lib/python3.11/site-packages/pandas/core/arraylike.py:396: RuntimeWarning:\n",
      "\n",
      "divide by zero encountered in log\n",
      "\n",
      " (\u001b[1mwarnings.py\u001b[0m:109)\n"
     ]
    },
    {
     "data": {
      "application/vnd.jupyter.widget-view+json": {
       "model_id": "f6da1ef193ca4d27bc4a400a89daffa7",
       "version_major": 2,
       "version_minor": 0
      },
      "text/plain": [
       "VBox(children=(HBox(children=(Dropdown(description='Ion', options=('O I', 'O II', 'O III', 'Mg II', 'Si II', '…"
      ]
     },
     "metadata": {},
     "output_type": "display_data"
    }
   ],
   "source": [
    "energy_level_widget = GrotrianWidget.from_simulation(sim)\n",
    "energy_level_widget.display()"
   ]
  },
  {
   "cell_type": "markdown",
   "metadata": {},
   "source": [
    "You can interact with this widget (which again won't be visible if you're viewing this notebook in our docs as an html page) like this:\n",
    "\n",
    "![Energy Level Diagram Demo](../images/energy_level_widget_options.gif)\n"
   ]
  },
  {
   "cell_type": "markdown",
   "metadata": {},
   "source": []
  }
 ],
 "metadata": {
  "kernelspec": {
   "display_name": "Python 3 (ipykernel)",
   "language": "python",
   "name": "python3"
  },
  "language_info": {
   "codemirror_mode": {
    "name": "ipython",
    "version": 3
   },
   "file_extension": ".py",
   "mimetype": "text/x-python",
   "name": "python",
   "nbconvert_exporter": "python",
   "pygments_lexer": "ipython3",
   "version": "3.11.5"
  },
  "notify_time": "5",
  "toc": {
   "base_numbering": 1,
   "nav_menu": {},
   "number_sections": false,
   "sideBar": true,
   "skip_h1_title": false,
   "title_cell": "Table of Contents",
   "title_sidebar": "Contents",
   "toc_cell": false,
   "toc_position": {},
   "toc_section_display": true,
   "toc_window_display": true
  },
  "varInspector": {
   "cols": {
    "lenName": 16,
    "lenType": 16,
    "lenVar": 40
   },
   "kernels_config": {
    "python": {
     "delete_cmd_postfix": "",
     "delete_cmd_prefix": "del ",
     "library": "var_list.py",
     "varRefreshCmd": "print(var_dic_list())"
    },
    "r": {
     "delete_cmd_postfix": ") ",
     "delete_cmd_prefix": "rm(",
     "library": "var_list.r",
     "varRefreshCmd": "cat(var_dic_list()) "
    }
   },
   "position": {
    "height": "271.85px",
    "left": "1265.58px",
    "right": "20px",
    "top": "65px",
    "width": "420.167px"
   },
   "types_to_exclude": [
    "module",
    "function",
    "builtin_function_or_method",
    "instance",
    "_Feature"
   ],
   "window_display": false
  },
  "widgets": {
   "application/vnd.jupyter.widget-state+json": {
    "state": {
     "01d5bad3f99c475697a630e0ed6dcf1a": {
      "model_module": "@jupyter-widgets/base",
      "model_module_version": "1.2.0",
      "model_name": "LayoutModel",
      "state": {
       "_model_module": "@jupyter-widgets/base",
       "_model_module_version": "1.2.0",
       "_model_name": "LayoutModel",
       "_view_count": null,
       "_view_module": "@jupyter-widgets/base",
       "_view_module_version": "1.2.0",
       "_view_name": "LayoutView",
       "align_content": null,
       "align_items": null,
       "align_self": null,
       "border": null,
       "bottom": null,
       "display": null,
       "flex": null,
       "flex_flow": null,
       "grid_area": null,
       "grid_auto_columns": null,
       "grid_auto_flow": null,
       "grid_auto_rows": null,
       "grid_column": null,
       "grid_gap": null,
       "grid_row": null,
       "grid_template_areas": null,
       "grid_template_columns": null,
       "grid_template_rows": null,
       "height": null,
       "justify_content": null,
       "justify_items": null,
       "left": null,
       "margin": null,
       "max_height": null,
       "max_width": null,
       "min_height": null,
       "min_width": null,
       "object_fit": null,
       "object_position": null,
       "order": null,
       "overflow": null,
       "overflow_x": null,
       "overflow_y": null,
       "padding": null,
       "right": null,
       "top": null,
       "visibility": null,
       "width": "6%"
      }
     },
     "02055a4c92424e1c882af64939b5322a": {
      "buffers": [
       {
        "data": "mpmZmZmZqb/TJ33SJ32yPzqO4ziO48g/RURERERE1D9twRZswRbcP0qf9Emf9OE/3t3d3d3d5T9yHMdxHMfpPwZbsAVbsO0/zczMzMzM8D8=",
        "encoding": "base64",
        "path": [
         "_py2js_addTraces",
         "trace_data",
         0,
         "x",
         "buffer"
        ]
       },
       {
        "data": "mpmZmZmZ8T+amZmZmZnxP5qZmZmZmfE/mpmZmZmZ8T+amZmZmZnxP5qZmZmZmfE/mpmZmZmZ8T+amZmZmZnxP5qZmZmZmfE/mpmZmZmZ8T8=",
        "encoding": "base64",
        "path": [
         "_py2js_addTraces",
         "trace_data",
         0,
         "y",
         "buffer"
        ]
       },
       {
        "data": "AAAAAAAAAACamZmZmZm5P/uLXMDzOOo/ZPV33e4q7j+pCagI/B7xPw5CcMfYOfE/0CU55lWK8T+amZmZmZnxPw==",
        "encoding": "base64",
        "path": [
         "_py2js_update",
         "layout_data",
         "yaxis2.tickvals",
         "buffer"
        ]
       },
       {
        "data": "kAMGoeivHEDgASYcrYQdQDEARpdxWR5Agf5lEjYuH0Bp/sJGfQEgQJH9UoTfayBAufziwUHWIEDh+3L/o0AhQAn7Aj0GqyFAMfqSemgVIkA=",
        "encoding": "base64",
        "path": [
         "_py2js_addTraces",
         "trace_data",
         0,
         "marker",
         "colorbar",
         "tickvals",
         "buffer"
        ]
       }
      ],
      "model_module": "jupyterlab-plotly",
      "model_module_version": "^5.17.0",
      "model_name": "FigureModel",
      "state": {
       "_config": {
        "plotlyServerURL": "https://plot.ly"
       },
       "_data": [],
       "_dom_classes": [],
       "_js2py_layoutDelta": {},
       "_js2py_pointsCallback": {},
       "_js2py_relayout": {},
       "_js2py_restyle": {},
       "_js2py_traceDeltas": {},
       "_js2py_update": {},
       "_last_layout_edit_id": 72,
       "_last_trace_edit_id": 21,
       "_layout": {
        "template": {
         "data": {
          "bar": [
           {
            "error_x": {
             "color": "#2a3f5f"
            },
            "error_y": {
             "color": "#2a3f5f"
            },
            "marker": {
             "line": {
              "color": "#E5ECF6",
              "width": 0.5
             },
             "pattern": {
              "fillmode": "overlay",
              "size": 10,
              "solidity": 0.2
             }
            },
            "type": "bar"
           }
          ],
          "barpolar": [
           {
            "marker": {
             "line": {
              "color": "#E5ECF6",
              "width": 0.5
             },
             "pattern": {
              "fillmode": "overlay",
              "size": 10,
              "solidity": 0.2
             }
            },
            "type": "barpolar"
           }
          ],
          "carpet": [
           {
            "aaxis": {
             "endlinecolor": "#2a3f5f",
             "gridcolor": "white",
             "linecolor": "white",
             "minorgridcolor": "white",
             "startlinecolor": "#2a3f5f"
            },
            "baxis": {
             "endlinecolor": "#2a3f5f",
             "gridcolor": "white",
             "linecolor": "white",
             "minorgridcolor": "white",
             "startlinecolor": "#2a3f5f"
            },
            "type": "carpet"
           }
          ],
          "choropleth": [
           {
            "colorbar": {
             "outlinewidth": 0,
             "ticks": ""
            },
            "type": "choropleth"
           }
          ],
          "contour": [
           {
            "colorbar": {
             "outlinewidth": 0,
             "ticks": ""
            },
            "colorscale": [
             [
              0.0,
              "#0d0887"
             ],
             [
              0.1111111111111111,
              "#46039f"
             ],
             [
              0.2222222222222222,
              "#7201a8"
             ],
             [
              0.3333333333333333,
              "#9c179e"
             ],
             [
              0.4444444444444444,
              "#bd3786"
             ],
             [
              0.5555555555555556,
              "#d8576b"
             ],
             [
              0.6666666666666666,
              "#ed7953"
             ],
             [
              0.7777777777777778,
              "#fb9f3a"
             ],
             [
              0.8888888888888888,
              "#fdca26"
             ],
             [
              1.0,
              "#f0f921"
             ]
            ],
            "type": "contour"
           }
          ],
          "contourcarpet": [
           {
            "colorbar": {
             "outlinewidth": 0,
             "ticks": ""
            },
            "type": "contourcarpet"
           }
          ],
          "heatmap": [
           {
            "colorbar": {
             "outlinewidth": 0,
             "ticks": ""
            },
            "colorscale": [
             [
              0.0,
              "#0d0887"
             ],
             [
              0.1111111111111111,
              "#46039f"
             ],
             [
              0.2222222222222222,
              "#7201a8"
             ],
             [
              0.3333333333333333,
              "#9c179e"
             ],
             [
              0.4444444444444444,
              "#bd3786"
             ],
             [
              0.5555555555555556,
              "#d8576b"
             ],
             [
              0.6666666666666666,
              "#ed7953"
             ],
             [
              0.7777777777777778,
              "#fb9f3a"
             ],
             [
              0.8888888888888888,
              "#fdca26"
             ],
             [
              1.0,
              "#f0f921"
             ]
            ],
            "type": "heatmap"
           }
          ],
          "heatmapgl": [
           {
            "colorbar": {
             "outlinewidth": 0,
             "ticks": ""
            },
            "colorscale": [
             [
              0.0,
              "#0d0887"
             ],
             [
              0.1111111111111111,
              "#46039f"
             ],
             [
              0.2222222222222222,
              "#7201a8"
             ],
             [
              0.3333333333333333,
              "#9c179e"
             ],
             [
              0.4444444444444444,
              "#bd3786"
             ],
             [
              0.5555555555555556,
              "#d8576b"
             ],
             [
              0.6666666666666666,
              "#ed7953"
             ],
             [
              0.7777777777777778,
              "#fb9f3a"
             ],
             [
              0.8888888888888888,
              "#fdca26"
             ],
             [
              1.0,
              "#f0f921"
             ]
            ],
            "type": "heatmapgl"
           }
          ],
          "histogram": [
           {
            "marker": {
             "pattern": {
              "fillmode": "overlay",
              "size": 10,
              "solidity": 0.2
             }
            },
            "type": "histogram"
           }
          ],
          "histogram2d": [
           {
            "colorbar": {
             "outlinewidth": 0,
             "ticks": ""
            },
            "colorscale": [
             [
              0.0,
              "#0d0887"
             ],
             [
              0.1111111111111111,
              "#46039f"
             ],
             [
              0.2222222222222222,
              "#7201a8"
             ],
             [
              0.3333333333333333,
              "#9c179e"
             ],
             [
              0.4444444444444444,
              "#bd3786"
             ],
             [
              0.5555555555555556,
              "#d8576b"
             ],
             [
              0.6666666666666666,
              "#ed7953"
             ],
             [
              0.7777777777777778,
              "#fb9f3a"
             ],
             [
              0.8888888888888888,
              "#fdca26"
             ],
             [
              1.0,
              "#f0f921"
             ]
            ],
            "type": "histogram2d"
           }
          ],
          "histogram2dcontour": [
           {
            "colorbar": {
             "outlinewidth": 0,
             "ticks": ""
            },
            "colorscale": [
             [
              0.0,
              "#0d0887"
             ],
             [
              0.1111111111111111,
              "#46039f"
             ],
             [
              0.2222222222222222,
              "#7201a8"
             ],
             [
              0.3333333333333333,
              "#9c179e"
             ],
             [
              0.4444444444444444,
              "#bd3786"
             ],
             [
              0.5555555555555556,
              "#d8576b"
             ],
             [
              0.6666666666666666,
              "#ed7953"
             ],
             [
              0.7777777777777778,
              "#fb9f3a"
             ],
             [
              0.8888888888888888,
              "#fdca26"
             ],
             [
              1.0,
              "#f0f921"
             ]
            ],
            "type": "histogram2dcontour"
           }
          ],
          "mesh3d": [
           {
            "colorbar": {
             "outlinewidth": 0,
             "ticks": ""
            },
            "type": "mesh3d"
           }
          ],
          "parcoords": [
           {
            "line": {
             "colorbar": {
              "outlinewidth": 0,
              "ticks": ""
             }
            },
            "type": "parcoords"
           }
          ],
          "pie": [
           {
            "automargin": true,
            "type": "pie"
           }
          ],
          "scatter": [
           {
            "fillpattern": {
             "fillmode": "overlay",
             "size": 10,
             "solidity": 0.2
            },
            "type": "scatter"
           }
          ],
          "scatter3d": [
           {
            "line": {
             "colorbar": {
              "outlinewidth": 0,
              "ticks": ""
             }
            },
            "marker": {
             "colorbar": {
              "outlinewidth": 0,
              "ticks": ""
             }
            },
            "type": "scatter3d"
           }
          ],
          "scattercarpet": [
           {
            "marker": {
             "colorbar": {
              "outlinewidth": 0,
              "ticks": ""
             }
            },
            "type": "scattercarpet"
           }
          ],
          "scattergeo": [
           {
            "marker": {
             "colorbar": {
              "outlinewidth": 0,
              "ticks": ""
             }
            },
            "type": "scattergeo"
           }
          ],
          "scattergl": [
           {
            "marker": {
             "colorbar": {
              "outlinewidth": 0,
              "ticks": ""
             }
            },
            "type": "scattergl"
           }
          ],
          "scattermapbox": [
           {
            "marker": {
             "colorbar": {
              "outlinewidth": 0,
              "ticks": ""
             }
            },
            "type": "scattermapbox"
           }
          ],
          "scatterpolar": [
           {
            "marker": {
             "colorbar": {
              "outlinewidth": 0,
              "ticks": ""
             }
            },
            "type": "scatterpolar"
           }
          ],
          "scatterpolargl": [
           {
            "marker": {
             "colorbar": {
              "outlinewidth": 0,
              "ticks": ""
             }
            },
            "type": "scatterpolargl"
           }
          ],
          "scatterternary": [
           {
            "marker": {
             "colorbar": {
              "outlinewidth": 0,
              "ticks": ""
             }
            },
            "type": "scatterternary"
           }
          ],
          "surface": [
           {
            "colorbar": {
             "outlinewidth": 0,
             "ticks": ""
            },
            "colorscale": [
             [
              0.0,
              "#0d0887"
             ],
             [
              0.1111111111111111,
              "#46039f"
             ],
             [
              0.2222222222222222,
              "#7201a8"
             ],
             [
              0.3333333333333333,
              "#9c179e"
             ],
             [
              0.4444444444444444,
              "#bd3786"
             ],
             [
              0.5555555555555556,
              "#d8576b"
             ],
             [
              0.6666666666666666,
              "#ed7953"
             ],
             [
              0.7777777777777778,
              "#fb9f3a"
             ],
             [
              0.8888888888888888,
              "#fdca26"
             ],
             [
              1.0,
              "#f0f921"
             ]
            ],
            "type": "surface"
           }
          ],
          "table": [
           {
            "cells": {
             "fill": {
              "color": "#EBF0F8"
             },
             "line": {
              "color": "white"
             }
            },
            "header": {
             "fill": {
              "color": "#C8D4E3"
             },
             "line": {
              "color": "white"
             }
            },
            "type": "table"
           }
          ]
         },
         "layout": {
          "annotationdefaults": {
           "arrowcolor": "#2a3f5f",
           "arrowhead": 0,
           "arrowwidth": 1
          },
          "autotypenumbers": "strict",
          "coloraxis": {
           "colorbar": {
            "outlinewidth": 0,
            "ticks": ""
           }
          },
          "colorscale": {
           "diverging": [
            [
             0,
             "#8e0152"
            ],
            [
             0.1,
             "#c51b7d"
            ],
            [
             0.2,
             "#de77ae"
            ],
            [
             0.3,
             "#f1b6da"
            ],
            [
             0.4,
             "#fde0ef"
            ],
            [
             0.5,
             "#f7f7f7"
            ],
            [
             0.6,
             "#e6f5d0"
            ],
            [
             0.7,
             "#b8e186"
            ],
            [
             0.8,
             "#7fbc41"
            ],
            [
             0.9,
             "#4d9221"
            ],
            [
             1,
             "#276419"
            ]
           ],
           "sequential": [
            [
             0.0,
             "#0d0887"
            ],
            [
             0.1111111111111111,
             "#46039f"
            ],
            [
             0.2222222222222222,
             "#7201a8"
            ],
            [
             0.3333333333333333,
             "#9c179e"
            ],
            [
             0.4444444444444444,
             "#bd3786"
            ],
            [
             0.5555555555555556,
             "#d8576b"
            ],
            [
             0.6666666666666666,
             "#ed7953"
            ],
            [
             0.7777777777777778,
             "#fb9f3a"
            ],
            [
             0.8888888888888888,
             "#fdca26"
            ],
            [
             1.0,
             "#f0f921"
            ]
           ],
           "sequentialminus": [
            [
             0.0,
             "#0d0887"
            ],
            [
             0.1111111111111111,
             "#46039f"
            ],
            [
             0.2222222222222222,
             "#7201a8"
            ],
            [
             0.3333333333333333,
             "#9c179e"
            ],
            [
             0.4444444444444444,
             "#bd3786"
            ],
            [
             0.5555555555555556,
             "#d8576b"
            ],
            [
             0.6666666666666666,
             "#ed7953"
            ],
            [
             0.7777777777777778,
             "#fb9f3a"
            ],
            [
             0.8888888888888888,
             "#fdca26"
            ],
            [
             1.0,
             "#f0f921"
            ]
           ]
          },
          "colorway": [
           "#636efa",
           "#EF553B",
           "#00cc96",
           "#ab63fa",
           "#FFA15A",
           "#19d3f3",
           "#FF6692",
           "#B6E880",
           "#FF97FF",
           "#FECB52"
          ],
          "font": {
           "color": "#2a3f5f"
          },
          "geo": {
           "bgcolor": "white",
           "lakecolor": "white",
           "landcolor": "#E5ECF6",
           "showlakes": true,
           "showland": true,
           "subunitcolor": "white"
          },
          "hoverlabel": {
           "align": "left"
          },
          "hovermode": "closest",
          "mapbox": {
           "style": "light"
          },
          "paper_bgcolor": "white",
          "plot_bgcolor": "#E5ECF6",
          "polar": {
           "angularaxis": {
            "gridcolor": "white",
            "linecolor": "white",
            "ticks": ""
           },
           "bgcolor": "#E5ECF6",
           "radialaxis": {
            "gridcolor": "white",
            "linecolor": "white",
            "ticks": ""
           }
          },
          "scene": {
           "xaxis": {
            "backgroundcolor": "#E5ECF6",
            "gridcolor": "white",
            "gridwidth": 2,
            "linecolor": "white",
            "showbackground": true,
            "ticks": "",
            "zerolinecolor": "white"
           },
           "yaxis": {
            "backgroundcolor": "#E5ECF6",
            "gridcolor": "white",
            "gridwidth": 2,
            "linecolor": "white",
            "showbackground": true,
            "ticks": "",
            "zerolinecolor": "white"
           },
           "zaxis": {
            "backgroundcolor": "#E5ECF6",
            "gridcolor": "white",
            "gridwidth": 2,
            "linecolor": "white",
            "showbackground": true,
            "ticks": "",
            "zerolinecolor": "white"
           }
          },
          "shapedefaults": {
           "line": {
            "color": "#2a3f5f"
           }
          },
          "ternary": {
           "aaxis": {
            "gridcolor": "white",
            "linecolor": "white",
            "ticks": ""
           },
           "baxis": {
            "gridcolor": "white",
            "linecolor": "white",
            "ticks": ""
           },
           "bgcolor": "#E5ECF6",
           "caxis": {
            "gridcolor": "white",
            "linecolor": "white",
            "ticks": ""
           }
          },
          "title": {
           "x": 0.05
          },
          "xaxis": {
           "automargin": true,
           "gridcolor": "white",
           "linecolor": "white",
           "ticks": "",
           "title": {
            "standoff": 15
           },
           "zerolinecolor": "white",
           "zerolinewidth": 2
          },
          "yaxis": {
           "automargin": true,
           "gridcolor": "white",
           "linecolor": "white",
           "ticks": "",
           "title": {
            "standoff": 15
           },
           "zerolinecolor": "white",
           "zerolinewidth": 2
          }
         }
        },
        "xaxis": {
         "anchor": "y",
         "domain": [
          0.0,
          0.258
         ]
        },
        "xaxis2": {
         "anchor": "y2",
         "domain": [
          0.398,
          1.0
         ]
        },
        "yaxis": {
         "anchor": "x",
         "domain": [
          0.0,
          1.0
         ]
        },
        "yaxis2": {
         "anchor": "x2",
         "domain": [
          0.0,
          1.0
         ]
        }
       },
       "_model_module": "jupyterlab-plotly",
       "_model_module_version": "^5.17.0",
       "_model_name": "FigureModel",
       "_py2js_addTraces": null,
       "_py2js_animate": {},
       "_py2js_deleteTraces": {},
       "_py2js_moveTraces": {},
       "_py2js_relayout": null,
       "_py2js_removeLayoutProps": {},
       "_py2js_removeTraceProps": {},
       "_py2js_restyle": {},
       "_py2js_update": null,
       "_view_count": 0,
       "_view_module": "jupyterlab-plotly",
       "_view_module_version": "^5.17.0",
       "_view_name": "FigureView"
      }
     },
     "069ff3b9312547e39b49cfdc80bc7044": {
      "model_module": "@jupyter-widgets/base",
      "model_module_version": "1.2.0",
      "model_name": "LayoutModel",
      "state": {
       "_model_module": "@jupyter-widgets/base",
       "_model_module_version": "1.2.0",
       "_model_name": "LayoutModel",
       "_view_count": null,
       "_view_module": "@jupyter-widgets/base",
       "_view_module_version": "1.2.0",
       "_view_name": "LayoutView",
       "align_content": null,
       "align_items": null,
       "align_self": null,
       "border": null,
       "bottom": null,
       "display": null,
       "flex": null,
       "flex_flow": null,
       "grid_area": null,
       "grid_auto_columns": null,
       "grid_auto_flow": null,
       "grid_auto_rows": null,
       "grid_column": null,
       "grid_gap": null,
       "grid_row": null,
       "grid_template_areas": null,
       "grid_template_columns": null,
       "grid_template_rows": null,
       "height": null,
       "justify_content": null,
       "justify_items": null,
       "left": null,
       "margin": null,
       "max_height": null,
       "max_width": null,
       "min_height": null,
       "min_width": null,
       "object_fit": null,
       "object_position": null,
       "order": null,
       "overflow": null,
       "overflow_x": null,
       "overflow_y": null,
       "padding": null,
       "right": null,
       "top": null,
       "visibility": null,
       "width": "450px"
      }
     },
     "0ae7bb0c2521489499623fe12d55b727": {
      "model_module": "@jupyter-widgets/controls",
      "model_module_version": "1.5.0",
      "model_name": "DescriptionStyleModel",
      "state": {
       "_model_module": "@jupyter-widgets/controls",
       "_model_module_version": "1.5.0",
       "_model_name": "DescriptionStyleModel",
       "_view_count": null,
       "_view_module": "@jupyter-widgets/base",
       "_view_module_version": "1.2.0",
       "_view_name": "StyleView",
       "description_width": ""
      }
     },
     "0cbe8f3fd47a4cbcad60300cb0de42b2": {
      "model_module": "@jupyter-widgets/base",
      "model_module_version": "1.2.0",
      "model_name": "LayoutModel",
      "state": {
       "_model_module": "@jupyter-widgets/base",
       "_model_module_version": "1.2.0",
       "_model_name": "LayoutModel",
       "_view_count": null,
       "_view_module": "@jupyter-widgets/base",
       "_view_module_version": "1.2.0",
       "_view_name": "LayoutView",
       "align_content": null,
       "align_items": "flex-start",
       "align_self": null,
       "border": null,
       "bottom": null,
       "display": "flex",
       "flex": null,
       "flex_flow": null,
       "grid_area": null,
       "grid_auto_columns": null,
       "grid_auto_flow": null,
       "grid_auto_rows": null,
       "grid_column": null,
       "grid_gap": null,
       "grid_row": null,
       "grid_template_areas": null,
       "grid_template_columns": null,
       "grid_template_rows": null,
       "height": "420px",
       "justify_content": "center",
       "justify_items": null,
       "left": null,
       "margin": null,
       "max_height": null,
       "max_width": null,
       "min_height": null,
       "min_width": null,
       "object_fit": null,
       "object_position": null,
       "order": null,
       "overflow": null,
       "overflow_x": null,
       "overflow_y": null,
       "padding": null,
       "right": null,
       "top": null,
       "visibility": null,
       "width": null
      }
     },
     "1274f4edb167405d884c617f256b84ce": {
      "model_module": "@jupyter-widgets/controls",
      "model_module_version": "1.5.0",
      "model_name": "HTMLModel",
      "state": {
       "_dom_classes": [],
       "_model_module": "@jupyter-widgets/controls",
       "_model_module_version": "1.5.0",
       "_model_name": "HTMLModel",
       "_view_count": null,
       "_view_module": "@jupyter-widgets/controls",
       "_view_module_version": "1.5.0",
       "_view_name": "HTMLView",
       "description": "",
       "description_tooltip": null,
       "layout": "IPY_MODEL_01d5bad3f99c475697a630e0ed6dcf1a",
       "placeholder": "​",
       "style": "IPY_MODEL_5644d74285ec46fbbe9ab702957f64db",
       "value": "Packets:   "
      }
     },
     "1339f51f82644ea9a45244f8e41b5552": {
      "model_module": "@jupyter-widgets/controls",
      "model_module_version": "1.5.0",
      "model_name": "VBoxModel",
      "state": {
       "_dom_classes": [],
       "_model_module": "@jupyter-widgets/controls",
       "_model_module_version": "1.5.0",
       "_model_name": "VBoxModel",
       "_view_count": null,
       "_view_module": "@jupyter-widgets/controls",
       "_view_module_version": "1.5.0",
       "_view_name": "VBoxView",
       "box_style": "",
       "children": [
        "IPY_MODEL_b1d067bcc6644f75b1a0688dd79ef8e9",
        "IPY_MODEL_a1310ad1349a43fabbf30e36b1ed27f4",
        "IPY_MODEL_243a5acd55344ab18328b947ce976d83",
        "IPY_MODEL_994478fe307f40d18363c057b716774b"
       ],
       "layout": "IPY_MODEL_db858b8ef52e4c1fa5cee865caf9ce3e"
      }
     },
     "15194509482546c9a07038e4892821d9": {
      "model_module": "@jupyter-widgets/base",
      "model_module_version": "1.2.0",
      "model_name": "LayoutModel",
      "state": {
       "_model_module": "@jupyter-widgets/base",
       "_model_module_version": "1.2.0",
       "_model_name": "LayoutModel",
       "_view_count": null,
       "_view_module": "@jupyter-widgets/base",
       "_view_module_version": "1.2.0",
       "_view_name": "LayoutView",
       "align_content": null,
       "align_items": null,
       "align_self": null,
       "border": null,
       "bottom": null,
       "display": null,
       "flex": null,
       "flex_flow": null,
       "grid_area": null,
       "grid_auto_columns": null,
       "grid_auto_flow": null,
       "grid_auto_rows": null,
       "grid_column": null,
       "grid_gap": null,
       "grid_row": null,
       "grid_template_areas": null,
       "grid_template_columns": null,
       "grid_template_rows": null,
       "height": null,
       "justify_content": null,
       "justify_items": null,
       "left": null,
       "margin": null,
       "max_height": null,
       "max_width": null,
       "min_height": null,
       "min_width": null,
       "object_fit": null,
       "object_position": null,
       "order": null,
       "overflow": null,
       "overflow_x": null,
       "overflow_y": null,
       "padding": null,
       "right": null,
       "top": null,
       "visibility": null,
       "width": "350px"
      }
     },
     "17a4eed3c1c74fc982ec489438261bfd": {
      "buffers": [
       {
        "data": "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",
        "encoding": "base64",
        "path": [
         "_data",
         0,
         "x",
         "buffer"
        ]
       },
       {
        "data": "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",
        "encoding": "base64",
        "path": [
         "_data",
         0,
         "y",
         "buffer"
        ]
       },
       {
        "data": "AAAAAACI00DQkaZkk3TTQNrmwEVNYdNA4jReMS1O00DavE23MjvTQAA5FmldKNNAOX3t2awV00ArSLCeIAPTQOxD2k248NJA+jR+f3Pe0kA8Vj7NUczSQPLgRNJSutJAV788K3ao0kDqaEp2u5bSQErnBFMihdJAigJvYqpz0kAMlPBGU2LSQNn+T6QcUdJAhsyrHwZA0kC7bXRfDy/SQHIdZgs4HtJAC+aCzH8N0kBexwxN5vzRQP78fzhr7NFA0WONOw7c0UBA/hQEz8vRQD+WIEGtu9FAYHzeoqir0UBWY5zawJvRQBNXwpr1i9FA9M7NlkZ80UA/2kyDs2zRQFRm2RU8XdFA9J0UBeBN0UADYaIInz7RQDDUJNl4L9FA5wc4MG0g0UAKtm3IexHRQOUVSV2kAtFAzsU6q+bz0ED3yZxvQuXQQO2frmi31tBASWaRVUXI0EAeGET267nQQKTbnwurq9BAvmNUV4Kd0EDZY+SbcY/QQMMVopx4gdBAFNGrHZdz0ECus+jjzGXQQAtbBbUZWNBA5q1wV31K0EDZtViS9zzQQLCIpy2IL9BA9kAA8i4i0EB7Bbyo6xTQQG8f5xu+B9BAkz18LEz1z0BNGVbGRtvPQI5WhZ1rwc9A2IaDS7qnz0CJ/RRrMo7PQDSeQ5jTdM9A88NZcJ1bz0A7Qd2Rj0LPQHh3ipypKc9AK4ZPMesQz0DGkEfyU/jOQAkbtoLj385AK3sCh5nHzkCIYbOkda/OQDR1aoJ3l85AHQXgx55/zkBKzd4d62fOQK/PPy5cUM5AX0Dmo/E4zkB3hLsqqyHOQIxDq2+ICs5AKoufIInzzUD5A33srNzNQDI4H4Pzxc1AFutUlVyvzUDzgNzU55jNQHF3YPSUgs1AzO1zp2NszUCoPI+iU1bNQDKdDJtkQM1ALt8kR5YqzUC+Lexd6BTNQH3iTpda/8xAtGYOrOzpzEBZIr5VntTMQJN4wE5vv8xAfNFDUl+qzEDgsD8cbpXMQLXZcWmbgMxAEX5b9+ZrzEBLez6EUFfMQC2iGs/XQsxAzwqrl3wuzEAJdGOePhrMQCGubaQdBsxAmBCnaxnyy0DI+p22Md7LQCZfj0hmystAAFlk5ba2y0BrzK9RI6PLQEIQrFKrj8tA+qE4rk58y0Af49cqDWnLQEvgrI/mVctAbiF5pNpCy0Akg5ox6S/LQAoZCQASHctA2RhV2VQKy0ATzqSHsffKQC2WstUn5cpA/OTKjrfSykBIUcp+YMDKQFipG3IirspAWQ+2Nf2bykBqHRuX8InKQD8RVWT8d8pAKP/0ayBmykBcDBF9XFTKQGiwQmewQspAov2k+hsxykB58NIHnx/KQInF5V85DspATVZz1Or8yUBafIw3s+vJQPZ6u1uS2slAAG8CFIjJyUD4xNkzlLjJQB21Lo+2p8lAecVh+u6WyUDEUUVKPYbJQAgZHFShdclA39CX7RplyUBDvtfsqVTJQMtTZyhORMlANdU8dwc0yUBEALiw1SPJQLO6oKy4E8lAQMUlQ7ADyUCzc9tMvPPIQMVpuqLc48hA2VweHhHUyEBp2sSYWcTIQBsTzOy1tMhAZqqx9CWlyECtilGLqZXIQMi95ItAhshA4kkA0up2yECOEpQ5qGfIQBu+6Z54WMhA+p6j3ltJyEAuobvVUTrIQMA7gmFaK8hAEGadX3UcyEAHkQeuog3IQAWkDivi/sdAlv1StTPwx0C7d8Yrl+HHQNtvq20M08dANNKTWpPEx0DIKGDSK7bHQKutPrXVp8dAwmCq45CZx0C/IGo+XYvHQFrHj6Y6fcdA0Uh3/Shvx0Bz1sUkKGHHQFsEaf43U8dAJ/KVbFhFx0CvdshRiTfHQLJOwpDKKcdAbU6KDBwcx0D9lWuofQ7HQKDI9EfvAMdAsUb3znDzxkBXaoYhAubGQObG9iOj2MZA42rdulPLxkCcJA/LE77GQEfJnznjsMZArn7h68GjxkBJB2THr5bGQMgQ9LGsicZABYWakbh8xkBN3ZtM02/GQPh3d8n8YsZAT/Dm7jRWxkCqeN2je0nGQMU2h8/QPMZASKJIWTQwxkBs5b0opiPGQLo/uiUmF8ZA7WpHOLQKxkDGAaVIUP7FQP3oRz/68cVAHbrZBLLlxUBYMDiCd9nFQEiXdKBKzcVAmDvTSCvBxUCB3cpkGbXFQCMlBN4UqcVAsRhZnh2dxUBblNSPM5HFQAHEsZxWhcVAnJ5br4Z5xUBfY2yyw23FQIAYrZANYsVApgsVNWRWxUAIVMmKx0rFQA5WHH03P8VAl0iN97MzxUDIu8flPCjFQGchozPSHMVAr1YizXMRxUCsL3OeIQbFQAsE7pPb+sRAVD0VmqHvxECh5pSdc+TEQKY9QotR2cRAM0UbUDvOxED9WEbZMMPEQNHCERQyuMRACFHz7T6txEBe7odUV6LEQPo6kzV7l8RAzSb/fqqMxEAsjdse5YHEQJ/RXQMrd8RA7X3gGnxsxEBY4eJT2GHEQAexCJ0/V8RAm6kZ5bFMxEDkMQEbL0LEQMH+zS23N8RAEbixDEotxEDIngCn5yLEQBM0MeyPGMRAkOHby0IOxECOoro1AATEQGGuqBnI+cNAsiOiZ5rvw0DYtMMPd+XDQClVSgJe28NAUOeSL0/Rw0CP7BmISsfDQAA1e/xPvcNAw5BxfV+zw0ASgtb7eKnDQE/woWicn8NA7tvptMmVw0BEE+LRAIzDQDno27BBgsNA1uZFQ4x4w0C4jKt64G7DQEUBtUg+ZcNA0c4mn6Vbw0B7nOFvFlLDQO3o4ayQSMNA4cU/SBQ/w0BtlC40oTXDQBvC/GI3LMNAwYYTx9Yiw0Afo/ZSfxnDQDwgRPkwEMNAdg+0rOsGw0BgSxhgr/3CQD45XAZ89MJAUIuEklHrwkC8A6/3L+LCQDQ4EikX2cJAQVb9GQfQwkBG6Ne9/8bCQCObIQgBvsJAfARy7Aq1wkC7aXheHazCQJKH+1E4o8JAPlrZuluawkBc5gaNh5HCQFUCkLy7iMJAbyCXPfh/wkBwGVUEPXfCQN/3GAWKbsJAz8NHNN9lwkBKT1yGPF3CQD4D5++hVMJADK2NZQ9MwkCOTAvchEPCQMHiL0gCO8JA4EDgnocywkAf2BXVFCrCQNeJ3t+pIcJARnhctEYZwkDL18VH6xDCQKTAZI+XCMJALgGXgEsAwkCf8M0QB/jBQEBCjjXK78FAI9lv5JTnwUBNnB0TZ9/BQFtLVbdA18FAo1PnxiHPwUC+pbY3CsfBQI+LuP/5vsFAu370FPG2wUCJ/4Nt767BQEJskv/0psFA7NhcwQGfwUB+5zGpFZfBQH2gca0wj8FA/kuNxFKHwUAXSwfle3/BQLTxcgWsd8FA0WB0HONvwUAaYcAgIWjBQPM9HAlmYMFA2aBdzLFYwUAsbWphBFHBQFecOL9dScFAVBrO3L1BwUCTokCxJDrBQDmdtTOSMsFAvfxhWwYrwUDbG4ofgSPBQOqbgXcCHMFAgEOrWooUwUBw3XjAGA3BQCQYa6CtBcFARGUR8kj+wEC22Qmt6vbAQO4NAcmS78BAlf6xPUHowEB87eUC9uDAQOBCdBCx2cBABG9CXnLSwEANzEPkOcvAQDeAeZoHxMBAUGDyeNu8wECA0sp3tbXAQF+xLI+VrsBAUC9Pt3unwEAnunboZ6DAQBjf9BpamcBA6y4oR1KSwEB6InxlUIvAQHb/aG5UhMBAY71zWl59wEDx6i0ibnbAQH2TNb6Db8BA7iQ1J59owEC6VeNVwGHAQEYLA0PnWsBAdEBj5xNUwEBz7N47Rk3AQNnpXDl+RsBA7d3P2Ls/wEA3IDYT/zjAQEyimeFHMsBA0NcPPZYrwEC/nrke6iTAQOAnw39DHsBAhN9jWaIXwEByVt6kBhHAQA8rgFtwCsBAwfKhdt8DwEAMR07fp/q/QIX7+3+b7b9Akuw+wpngv0AjQR6ZotO/QFoytve1xr9A0OA30dO5v0BDKukY/Ky/QLd/JMIuoL9A5rtYwGuTv0Aq+ggHs4a/QL5tzIkEer9AZjlOPGBtv0B2R00SxmC/QDUinP81VL9ArMwg+K9Hv0DEm9TvMzu/QMgPxNrBLr9ARq4OrVkiv0BG3OZa+xW/QNW4kdimCb9A+/dmGlz9vkD4vdAUG/G+QN16S7zj5L5AfcZlBbbYvkC4PMDkkcy+QApaDU93wL5AglgROWa0vkD2DKKXXqi+QKXEpl9gnL5ABCMYhmuQvkABAAAAgIS+QHdGecKdeL5ABdOvwsRsvkAlU+D19GC+QJUkWFEuVb5ADTV1ynBJvkA84qVWvD2+QBTaaOsQMr5AV/tMfm4mvkB3NvEE1Rq+QLduBHVED75AlFtFxLwDvkB1aoLoPfi9QKKgmdfH7L1AfX14h1rhvUAB3Rvu9dW9QITajwGayr1AvrPvt0a/vUAHrGUH/LO9QOvvKua5qL1A63iHSoCdvUCH8dEqT5K9QIWZb30mh71AeirUOAZ8vUCNvIFT7nC9QHmrCMTeZb1AzXsHgddavUBkwCqB2E+9QB8ALbvhRL1A0pvWJfM5vUB1tP23DC+9QIQRhmguJL1AogdhLlgZvUBrX40Aig69QIc8F9bDA71A8QQYpgX5vEBvSLZnT+68QEmoJRKh47xAN7+mnPrYvEB0CYf+W868QBvNIC/Fw7xAqwLbJTa5vEDBPSnarq68QAaWi0MvpLxAVJCOWbeZvEABCMsTR4+8QGkY5mnehLxApAaRU316vEBkK4nII3C8QBfdl8DRZbxAI1qSM4dbvEBhs1kZRFG8QLu22mkIR7xAA9oNHdQ8vEDxJfcqpzK8QFEhpouBKLxAVrw1N2MevEAuPMwlTBS8QKUmm088CrxAEy7frDMAvEBSHeA1Mva7QAfE8OI37LtA7uJurETiu0BtGMOKWNi7QEXNYHZzzrtAZiHGZ5XEu0D42HtXvrq7QIdJFT7usLtAVkcwFCWnu0DVEnXSYp27QE5GlnGnk7tApMNQ6vKJu0BJoms1RYC7QE0duEuedrtApoERJv5su0CAHF29ZGO7QM0pigrSWbtA8sKRBkZQu0CLzXaqwEa7QGLqRe9BPbtAjWQVzskzu0CYIAVAWCq7QO2LPj7tILtAToz0wYgXu0B2b2PEKg67QNza0D7TBLtAmruLKoL7ukBuNuyAN/K6QOKXUzvz6LpAlUQsU7XfukCkqenBfda6QC4tCIFMzbpA+x4NiiHEukBIqYbW/Lq6QKfBC2DesbpACRo8IMaoukDfEcAQtJ+6QFunSCuolrpA0GiPaaKNukA1ZlbFooS6QLciaDipe7pAd4aXvLVyukBe0L9LyGm6QA6IxN/gYLpA82+Rcv9XukBndxr+I0+6QAKtW3xORrpA7zBZ5349ukB4Jx85tTS6QJCrwWvxK7pAkcFceTMjukACShRcexq6QIb0Ew7JEbpA1zKPiRwJukDrK8HIdQC6QCCv7MXU97lAkidceznvuUCDj2Hjo+a5QNpjVvgT3rlAvpebtInVuUBKiJkSBc25QFXwvwyGxLlAWdyFnQy8uUBtnmm/mLO5QFXC8Gwqq7lArwGooMGiuUAyOCNVXpq5QApY/YQAkrlAQ17YKqiJuUBRR11BVYG5QK0DPMMHeblAhWwrq79wuUCEOOnzfGi5QLjwOZg/YLlAeuXokgdYuUCAI8je1E+5QPlosHanR7lAwBqBVX8/uUClOSB2XDe5QMtXetM+L7lAGI6CaCYnuUDAcTIwEx+5QNYJiiUFF7lAA8WPQ/wOuUBGb1CF+Aa5QMUn3+X5/rhAu1ZVYAD3uEB1o9LvC++4QFzqfI8c57hAHzOAOjLfuEDfpg7sTNe4QIGGYJ9sz7hAASG0T5HHuEDhyU34ur+4QKrPd5Tpt7hAeHKCHx2wuECl2sOUVai4QG8PmO+SoLhAze1gK9WYuEBBH4ZDHJG4QLkQdTNoibhAl+mg9riBuECsgoKIDnq4QGBdmORocrhA1ppmBshquEAt83bpK2O4QMmsWImUW7hAtJOg4QFUuEAI8ejtc0y4QG+C0anqRLhAqnH/EGY9uEA3TB0f5jW4QPb62s9qLrhA5rntHvQmuEDvDxAIgh+4QMTGAYcUGLhAu+KHl6sQuEDZmmw1Rwm4QMtQf1znAbhAAImUCIz6t0DP4oU1NfO3QKIQMt/i67dAQ9B8AZXkt0Ab406YS923QKAGlp8G1rdAsexEE8bOt0AZNFPvice3QBBhvS9SwLdAztWE0B65t0A0y6/N77G3QHJJSSPFqrdAxiBhzZ6jt0BL4gvIfJy3QMXYYg9flbdAjAGEn0WOt0B5BZJ0MIe3QOYxtIofgLdAs3EW3hJ5t0BcRulqCnK3QB/BYS0Ga7dALHy5IQZkt0DWky5ECl23QOWfA5ESVrdA56x/BB9Pt0CHNe6aL0i3QAEcn1BEQbdAlaPmIV06t0AJah0LejO3QDRhoAibLLdAnMjQFsAlt0AYJxQy6R63QIBE1FYWGLdAaCN/gUcRt0Dk+oaufAq3QFwwYtq1A7dAZFGLAfP8tkCrDYEgNPa2QN0wxjN577ZAs5zhN8LotkDnQl4pD+K2QE8fywRg27ZA+DG7xrTUtkBIecVrDc62QDPshPBpx7ZAb3SYUcrAtkC66KKLLrq2QDAHS5uWs7ZAlm87fQKttkDEnSIucqa2QA/ksqrln7ZAwGWi71yZtkCOEav515K2QCqcisVWjLZA03oCUNmFtkDp3deVX3+2QJ2r05PpeLZAknrCRndytkChjHSrCGy2QIzJvb6dZbZA0Ll1fTZftkB3gXfk0li2QOvaofByUrZA3xHXnhZMtkA+/vzrvUW2QBn//NRoP7ZAqfXDVhc5tkBVQEJuyTK2QL61axh/LLZA2Z83UjgmtkAMt6AY9R+2QFUdpWi1GbZAfFlGP3kTtkBLUomZQA22QMhJdnQLB7ZAidgYzdkAtkD06H+gq/q1QKayveuA9LVAyLXnq1nutUB6thbeNei1QEa4Zn8V4rVAj/n2jPjbtUAT7+kD39W1QHQ/ZeHIz7VAw76RIrbJtUAQapvEpsO1QA9jscSavbVAtesFIJK3tUDjYc7TjLG1QBw7Q92Kq7VAOgCgOYyltUAxSSPmkJ+1QNW4DuCYmbVApfimJKSTtUCotDOxso21QECX/4LEh7VAEUVYl9mBtUDtWI7r8Xu1QMNf9XwNdrVAkNTjSCxwtUBjHLNMTmq1QGKCv4VzZLVA0jNo8ZtetUAkPA+Nx1i1QBmBGVb2UrVAz77uSShNtUD2g/llXUe1QO4tp6eVQbVAAeVnDNE7tUCUmK6RDza1QGb78DRRMLVA1H+n85UqtUAjVE3L3SS1QMteYLkoH7VA1Tphu3YZtUAsNNPOxxO1QAdEPPEbDrVASg0lIHMItUD02BhZzQK1QJeSpZkq/bRAx8Rb34r3tECelc4n7vG0QEHDk3BU7LRAZKBDt73mtEDaEHn5KeG0QC6G0TSZ27RANvzsZgvWtEC49W2NgNC0QAd5+aX4yrRAtww3rnPFtEBEtNCj8b+0QMfscoRyurRAt6nMTfa0tECcUY/9fK+0QN+6bpEGqrRAjCghB5OktEAfR19cIp+0QF4p5I60mbRAK0VtnEmUtEBkcLqC4Y60QMbdjT98ibRA0Rms0BmEtEC1B9wzun60QEne5mZdebRA8SSYZwN0tECtsL0zrG60QAehJ8lXabRAHV2oJQZktECvkBRHt160QCIpQytrWbRAlVIN0CFUtED9dE4z2060QDgx5FKXSbRAM16uLFZEtEAEBo++Fz+0QCBjagbcObRAed0mAqM0tEC6B62vbC+0QHac5ww5KrRAZnvDFwgltECjpi/O2R+0QOc/HS6uGrRA24V/NYUVtEBY0UviXhC0QMCSeTI7C7RARE8CJBoGtEBFnuG0+wC0QKwmFePf+7NAS5ycrMb2s0A8vXkPsPGzQElPsAmc7LNAWR1GmYrns0Dh9EK8e+KzQE+jsHBv3bNAifOatGXYs0Bkqw+GXtOzQCOJHuNZzrNA+EDZyVfJs0CMelM4WMSzQIfOoixbv7NAHsTepGC6s0CpziCfaLWzQC5LhBlzsLNA/30mEoCrs0BakCaHj6azQAOOpXahobNA6GLG3rWcs0DJ2K29zJezQOWUghHmkrNAoRVt2AGOs0BEsJcQIImzQJ2OLrhAhLNAyqxfzWN/s0Ds1lpOiXqzQOWmUTmxdbNAH4J3jNtws0BPlwFGCGyzQD7cJmQ3Z7NAlwsg5Whis0CxoifHnF2zQG3feQjTWLNAAb5UpwtUs0DW9vehRk+zQGX8pPaDSrNAFvmeo8NFs0AgzSqnBUGzQHIMj/9JPLNAofwTq5A3s0DDkgOo2TKzQHVxqfQkLrNAuuZSj3Ips0D76U52wiSzQPwZ7qcUILNA1bqCImkbs0Dys2DkvxazQBeO3esYErNAYXFQN3QNs0BHIxLF0QizQLEEfZMxBLNA+g/toJP/skAB17/r9/qyQD+BVHJe9rJA2ckLM8fxskC4/UcsMu2yQKf5bFyf6LJAaSjgwQ7kskDigAhbgN+yQDKETib02rJA4DscImrWskD/N91M4tGyQFqN/qRczbJAn9PuKNnIskCUIx7XV8SyQEgV/q3Yv7JAQ74BrFu7skDEr53P4LayQPn0RxdosrJAPBF4gfGtskBU/qYMfamyQLUqT7cKpbJAwnfsf5qgskAaOPxkLJyyQN8t/WTAl7JA/ohvflaTskCB5dSv7o6yQOFJsPeIirJAVCWGVCWGskAoTtzEw4GyQBYAOkdkfbJAnton2gZ5skBl3y98q3SyQJBw3StScLJAK0+95/prskCGmV2upWeyQJ3JTX5SY7JAg7MeVgFfskDGg2I0slqyQOG9rBdlVrJApzqS/hlSskC2Jqnn0E2yQOgAidGJSbJAyZjKukRFskAQDQiiAUGyQBbK3IXAPLJAUIjlZIE4skDUSsA9RDSyQM9dDA8JMLJADVVq188rskB/CnyVmCeyQLic5EdjI7JAgG1I7S8fskBVIE2E/hqyQP6YmQvPFrJAFPrVgaESskCVo6vldQ6yQHQxxTVMCrJAMnrOcCQGskBujXSV/gGyQICyZaLa/bFAEWdRlrj5sUC8XehvmPWxQKZ83C168bFAINzgzl3tsUBJxalRQ+mxQLGw7LQq5bFA/kRg9xPhsUCUVbwX/9yxQD3huRTs2LFA1hAT7drUsUD3NYOfy9CxQKjJxiq+zLFADWubjbLIsUAX3r/GqMSxQD0K9NSgwLFALPn4tpq8sUCC1ZBrlrixQIXpfvGTtLFA4J2HR5OwsUBfeHBslKyxQKoaAF+XqLFACkH+HZyksUAowTOooqCxQM+IavyqnLFAtpxtGbWYsUA/Fwn+wJSxQEcnCqnOkLFA7Q4/Gd6MsUBZIndN74ixQJPGgkQChbFASHAz/RaBsUCiolt2LX2xQBTuzq5FebFAMe9hpV91sUCCTepYe3GxQFi6PsiYbbFArO828rdpsUDvrqvV2GWxQO6/dnH7YbFArO9yxB9esUA9D3zNRVqxQKvybottVrFA0m8p/ZZSsUBLXYohwk6xQEeRcffuSrFAeuC/fR1HsUACHVezTUOxQE8VGpd/P7FADJPsJ7M7sUAOWrNk6DexQDwnVEwfNLFAg6+13VcwsUDBnr8XkiyxQLmWWvnNKLFABi5wgQslsUAL7+quSiGxQO5WtoCLHbFAi9S+9c0ZsUBux/EMEhaxQMp+PcVXErFAdjiRHZ8OsUDrH90U6AqxQDlNEqoyB7FAE8Qi3H4DsUDCcgGqzP+wQDAxohIc/LBA5b/5FG34sEANx/2vv/SwQHzVpOIT8bBAul/mq2ntsEABv7oKwemwQE0wG/4Z5rBAaNMBhXTisEDuqWme0N6wQF+WTkku27BALVuthI3XsEDKmYNP7tOwQLjRz6hQ0LBAnF+Rj7TMsEBOfMgCGsmwQPI7dgGBxbBACI2ciunBsECGNz6dU76wQOzbXji/urBAYvICWyy3sEDMyS8Em7OwQOmG6zILsLBAbyM95nyssEAkbSwd8KiwQAIFwtZkpbBAVF4HEtuhsEDYvQbOUp6wQNw4ywnMmrBAZ7RgxEaXsEBd5NP8wpOwQJtKMrJAkLBAKjaK47+MsEBdwuqPQImwQPzVY7bChbBAcCIGVkaCsEDoIuNty36wQIobDf1Re7BAmxiXAtp3sECy7ZR9Y3SwQN80G23ucLBA400/0HptsEBaXRemCGqwQPBLuu2XZrBAlMU/pihjsECoOMDOul+wQD7VVGZOXLBAQYwXbONYsEC4DiPfeVWwQPfMkr4RUrBA2fWCCatOsED5dRC/RUuwQPH2WN7hR7BAjd56Zn9EsEAQTpVWHkGwQGwhyK2+PbBAhO4za2A6sEBpBPqNAzewQJtqPBWoM7BASuAdAE4wsECZ28FN9SywQOCITP2dKbBA8MniDUgmsEBaNap+8yKwQLEVyU6gH7BA1WhmfU4csEA236kJ/hiwQCDbu/KuFbBABHDFN2ESsEDAYfDXFA+wQOwjZ9LJC7BAJtlUJoAIsEBeUuXSNwWwQCMORdfwAbBA6G9CZVb9r0AeT0/IzfavQHnADdZH8K9AUCDcjMTpr0BZHxrrQ+OvQFLBKO/F3K9AqFtql0rWr0AilELi0c+vQIlfFs5bya9AUABMWejCr0BLBUuCd7yvQFhIfEcJtq9AD+1Jp52vr0B8Xx+gNKmvQMZSaTDOoq9A9L+VVmqcr0CY5BMRCZavQIxBVF6qj69Ar5nIPE6Jr0Cd8OOq9IKvQG6JGqedfK9AdOXhL0l2r0D7wrBD92+vQBEc/+Cnaa9APCVGBltjr0BMTACyEF2vQB03qeLIVq9AXMK9loNQr0BTALzMQEqvQLU3I4MARK9AZOJzuMI9r0BIrC9rhzevQBdy2ZlOMa9AJUD1Qhgrr0A8UQhl5CSvQGkNmf6yHq9A2AgvDoQYr0CeAlOSVxKvQKDjjoktDK9AXb1t8gUGr0DSyHvL4P+uQFRlRhO++a5AaBdcyJ3zrkCoh0zpf+2uQJ+BqHRk565Ap/IBaUvhrkDT6OvENNuuQM2R+oYg1a5AujnDrQ7PrkAlStw3/8iuQORI3SPywq5A/dZecOe8rkCar/ob37auQOumSyXZsK5AE6ntitWqrkAeuX1L1KSuQOjvmWXVnq5AEXvh19iYrkDtm/Sg3pKuQHumdL/mjK5AUQAEMvGGrkCdH0b3/YCuQBCK3w0Ne65A29N1dB51rkCrnq8pMm+uQJuYNCxIaa5AOnutemBjrkB9CsQTe12uQMQTI/aXV65A1mx2ILdRrkDj8mqR2EuuQICJrkf8Ra5AsRnwQSJArkDokN9+SjquQAjgLf10NK5Ab/qMu6EurkD+1K+40CiuQBhlSvMBI65Atp8RajUdrkBseLsbaxeuQHPg/gajEa5AvMWTKt0LrkD0ETOFGQauQJ2plhVYAK5AE2t52pj6rUCpLZfS2/StQK/ArPwg761Ajup3V2jprUDXZ7fhseOtQFnqKpr93a1AORiTf0vYrUAJi7GQm9KtQN3OSMztzK1AZ2EcMULHrUASsfC9mMGtQBsci3Hxu61Aru+xSky2rUAHZyxIqbCtQIqqwmgIq61A5c49q2mlrUAz1GcOzZ+tQBylC5Eymq1A9BX1MZqUrUDj4/DvA4+tQAa0zMlvia1AlhJXvt2DrUANcl/MTX6tQE8qtvK/eK1A0HcsMDRzrUDBepSDqm2tQDM2wesiaK1ASo+GZ51irUBhTLn1GV2tQD4UL5WYV61APW2+RBlSrUB+vD4DnEytQBNFiM8gR61ANSd0qKdBrUB0X9yMMDytQOTFm3u7Nq1AWg2Oc0gxrUCYwo9z1yutQIRLfnpoJq1AYeY3h/sgrUADqZuYkButQAaAia0nFq1ACi7ixMAQrUDoSofdWwutQO9CW/b4Ba1AIFZBDpgArUBnlx0kOfusQNzr1Dbc9axA+QlNRYHwrEDleGxOKOusQKWPGlHR5axAaXQ/THzgrEDCG8Q+KdusQO9HkifY1axAE4iUBYnQrECGN7bXO8usQA9945zwxaxALEoJVKfArEBaWhX8X7usQFwy9pMatqxAfh+bGtewrEDhNvSOlausQMVU8u9VpqxAzxuHPBihrEBW9KRz3JusQK8LP5SilqxAeVNJnWqRrEDogLiNNIysQBQMgmQAh6xASC+cIM6BrEBU5v3AnXysQNXtnkRvd6xAjsJ3qkJyrECzoIHxF22sQEODthjvZ6xAUiMRH8hirEBl94wDo12sQL4yJsV/WKxAusTZYl5TrEAhWKXbPk6sQH1Shy4hSaxAd9N+WgVErEAktIte6z6sQGuGrjnTOaxAU5To6rw0rEBl3ztxqC+sQAQgq8uVKqxAx8Q5+YQlrEDY8ev4dSCsQE6AxsloG6xAj/3Oal0WrECrqgvbUxGsQLl7gxlMDKxAPhc+JUYHrECG1UP9QQKsQAfAnaA//atAxZBVDj/4q0CzsXVFQPOrQBY8CUVD7qtA5fcbDEjpq0A2W7qZTuSrQJuJ8exW36tAilPPBGHaq0DDNWLgbNWrQLxYuX560KtA/4/k3onLq0CYWfT/msarQIDd+eCtwatAAe0GgcK8q0AiAi7f2LerQBU/gvrwsqtAm20X0gquq0B5/gFlJqmrQN8IV7JDpKtA0kksuWKfq0CjI5h4g5qrQFSdse+llatADmKQHcqQq0CNwEwB8IurQI+q/5kXh6tASLTC5kCCq0DRE7Dma32rQJyg4piYeKtA49J1/MZzq0Afw4UQ926rQHopL9QoaqtAQ12PRlxlq0BhVMRmkWCrQM2i7DPIW6tAA3onrQBXq0B9qJTROlKrQCaZVKB2TatA01KIGLRIq0C9d1E580OrQPpE0gE0P6tA8pEtcXY6q0Daz4aGujWrQDQJAkEAMatAQ+HDn0csq0CKk/GhkCerQEjzsEbbIqtA82oojSceq0C1+350dRmrQO083PvEFKtAqVtoIhYQq0AkGkznaAurQEzPsEm9BqtAO2bASBMCq0C6XaXjav2qQL/HihnE+KpA9Eic6R70qkAxGAZTe++qQAb+9FTZ6qpAOFSW7jjmqkBJBRgfmuGqQPaLqOX83KpAwPJ2QWHYqkBx07Ixx9OqQJ5WjLUuz6pALjM0zJfKqkDirdt0AsaqQNmYtK5uwapAGlPxeNy8qkAZyMTSS7iqQENvYru8s6pAgUv+MS+vqkDG6sw1o6qqQJllA8YYpqpAmF7X4Y+hqkANAn+ICJ2qQHIFMbmCmKpA/aYkc/6TqkAurZG1e4+qQFpmsH/6iqpAO6i50HqGqkB4z+an/IGqQDW/cQSAfapAp+CU5QR5qkCZIotKi3SqQP/4jzITcKpAjFzfnJxrqkA2yrWIJ2eqQNFCUPWzYqpAmkrs4UFeqkDK6MdN0VmqQCmnIThiVapAoZE4oPRQqkDKNUyFiEyqQIainOYdSKpAjmdqw7RDqkANlfYaTT+qQCm7guzmOqpAoulQN4I2qkBmr6P6HjKqQCAavjW9LapA2LXj51wpqkB/jFgQ/iSqQI0lYa6gIKpAl4VCwUQcqkDkLUJI6heqQAYcpkKRE6pAecm0rzkPqkAvK7WO4wqqQDix7t6OBqpAT0apnzsCqkB7Ty3Q6f2pQKurw2+Z+alASLO1fUr1qUDdN035/PCpQKiD1OGw7KlAOlmWNmboqUAU8932HOSpQEUD9yHV36lABrMtt47bqUBSos61SdepQJDnJh0G06lAJw+E7MPOqUAgGzQjg8qpQMiChcBDxqlASzLHwwXCqUBUikgsyb2pQLZfWfmNualA/vpJKlS1qUAiGGu+G7GpQBXmDbXkrKlAeQaEDa+oqUAwjR/HeqSpQAkAM+FHoKlAY1YRWxacqUDH+A005pepQJjAfGu3k6lArvexAIqPqUD9VwLzXYupQDgLw0Ezh6lAeqpJ7AmDqUDoPezx4X6pQFQ8AVK7eqlA64rfC5Z2qUDTfN4ecnKpQNfSVYpPbqlAC7udTS5qqUB10A5oDmapQLIaAtnvYalApQ3Rn9JdqUAUidW7tlmpQFzYaSycValAE7Lo8IJRqUCyN60Ia02pQEL1EnNUSalABeF1Lz9FqUAdWzI9K0GpQDctpZsYPalAPYorSgc5qUD5DSNI9zSpQMG86ZToMKlALAPeL9ssqUCztV4YzyipQGMQy03EJKlAi7aCz7ogqUBlsuWcshypQMZ0VLWrGKlAztQvGKYUqUCQD9nEoRCpQMjHsbqeDKlAgwUc+ZwIqUDRNXp/nASpQHYqL02dAKlAlhmeYZ/8qEBmnSq8ovioQN+zOFyn9KhAa74sQa3wqECWgWtqtOyoQMMkWte86KhA2TFeh8bkqED2lN150eCoQCKcPq7d3KhAAvfnI+vYqECHtkDa+dSoQKJMsNAJ0ahA+4ueBhvNqECip3N7LcmoQL8ymC5BxahASyB1H1bBqEDDwnNNbL2oQNvL/beDuahANkx9Xpy1qEAWs1xAtrGoQBfOBl3RrahA4sjms+2pqEDgLGhEC6aoQPbg9g0qoqhAOSn/D0qeqECkpu1Ja5qoQM1WL7uNlqhAopMxY7GSqEAcE2JB1o6oQPnmLlX8iqhAcXwGniOHqEDzm1cbTIOoQNpokcx1f6hAJ2EjsaB7qEA7XX3IzHeoQJCPDxL6c6hAcIRKjShwqEC1IZ85WGyoQHumfhaJaKhA4apaI7tkqEDBH6Vf7mCoQG5O0MoiXahAZ9hOZFhZqEAet5Mrj1WoQKo7EiDHUahAhw4+QQBOqEBSL4uOOkqoQIf0bQd2RqhAOgtbq7JCqEDWdsd58D6oQNuQKHIvO6hAmQj0k283qEDx4p/esDOoQA56olHzL6hAKH1y7DYsqEBB8IaueyioQOErV5fBJKhA2dxapgghqED9AwrbUB2oQOr13DSaGahAv1pMs+QVqEDgLdFVMBKoQLW95Bt9DqhAbasABcsKqEC66p4QGgeoQJbBOT5qA6hA/sdLjbv/p0C750/9DfynQBxcwY1h+KdAwLEbPrb0p0BNxtoNDPGnQDvIevxi7adAkjZ4Cbvpp0Ct4E80FOanQP/lfnxu4qdA07WC4cnep0ARD9liJtunQAAAAACE16dACuZ1uOLTp0CAbbmLQtCnQGGRSXmjzKdAFZulgAXJp0A+Ik2haMWnQHQMwNrMwadADI1+LDK+p0DaJAmWmLqnQAGi4BYAt6dArB+Grmizp0DWBXtc0q+nQBsJQSA9rKdAbipa+aiop0DptkjnFaWnQJVHj+mDoadAKcGw//Kdp0DXUzApY5qnQBF7kWXUlqdAT/1XtEaTp0Dd6wcVuo+nQJiiJYcujKdAwMc1CqSIp0C5S72dGoWnQNhoQUGSgadAKaNH9Ap+p0A4yFW2hHqnQNzu8Yb/dqdA/HaiZXtzp0BcCe5R+G+nQGaXW0t2bKdA8FpyUfVop0AM1rljdWWnQM3SuYH2YadAE2P6qnhep0BV4APf+1qnQGzrXh2AV6dAYGyUZQVUp0Awki23i1CnQJnSsxETTadA7umwdJtJp0DW2q7fJEanQCLuN1KvQqdAkLLWyzo/p0Ce/BVMxzunQFXmgNJUOKdAEM+iXuM0p0BSWwfwcjGnQIx0OoYDLqdA50jIIJUqp0AdSz2/JyenQDwyJmG7I6dAc/kPBlAgp0Dr34et5RynQIVoG1d8GadAuFlYAhQWp0BRvcyurBKnQErgBlxGD6dAl1KVCeELp0D25ga3fAinQLay6mMZBadAkg3QD7cBp0B1kUa6Vf6mQFUa3mL1+qZA9sUmCZb3pkDC87CsN/SmQJhEDU3a8KZAmZrM6X3tpkD9GICCIuqmQNwjuRbI5qZABWAJpm7jpkDPsgIwFuCmQOVBN7S+3KZAGHM5MmjZpkA27JupEtamQNWS8Rm+0qZAJIzNgmrPpkDFPMPjF8ymQJVIZjzGyKZAg5JKjHXFpkBgPATTJcKmQLamJxDXvqZAk3BJQ4m7pkBkd/5rPLimQMDW24nwtKZAPuh2nKWxpkBLQ2WjW66mQPu8PJ4Sq6ZA2GeTjMqnpkC7k/9tg6SmQKLNF0I9oaZAe99yCPidpkAA0KfAs5qmQIfiTWpwl6ZA15b8BC6UpkD/qEuQ7JCmQCUR0wusjaZAYAMrd2yKpkCN7+vRLYemQB6Brhvwg6ZA9p4LVLOApkA6a5x6d32mQChD+o48eqZA7b6+kAJ3pkB7sYN/yXOmQF0o41qRcKZAjWt3IlptpkBN/drVI2qmQPuZqHTuZqZA5zd7/rljpkAsB+5yhmCmQIRxnNFTXaZAIhoiGiJapkCF3RpM8VamQFHRImfBU6ZAKUTWapJQpkCAvdFWZE2mQHj9sSo3SqZAs/wT5gpHpkAy7JSI30OmQCQ10hG1QKZAx3hpgYs9pkA4kPjWYjqmQFKMHRI7N6ZAhLV2MhQ0pkCni6I37jCmQN3FPyHJLaZAYlLt7qQqpkBrVkqggSemQP4t9jRfJKZAyWuQrD0hpkD+2LgGHR6mQCl1D0P9GqZADXY0Yd4XpkB8R8hgwBSmQDaLa0GjEaZAuBi/AocOpkAg/WOkawumQAR7+yVRCKZASwonhzcFpkALWIjHHgKmQF1GweYG/6VAQ+xz5O/7pUB3lULA2filQErCz3nE9aVAhie+ELDypUA8rrCEnO+lQLBzStWJ7KVAIskuAnjppUC3MwELZ+alQFJsZe9W46VAbl//rkfgpUD2LHNJOd2lQC0oZb4r2qVAe9d5DR/XpUBW9FU2E9SlQBhrnjgI0aVA21r4E/7NpUBcFQnI9MqlQM8edlTsx6VAxS3luOTEpUD+Kvz03cGlQFExYQjYvqVAhI268tK7pUApvq6zzrilQH1z5ErLtaVARY8CuMiypUCsJLD6xq+lQB54lBLGrKVALf9W/8WppUBmYJ/AxqalQDZzFVbIo6VAxT9hv8qgpUDW/ir8zZ2lQKIZGwzSmqVAvina7taXpUDu+BCk3JSlQBCBaCvjkaVA9OuJhOqOpUA7kx6v8oulQDoA0Kr7iKVA1OtHdwWGpUBfPjAUEIOlQH4PM4EbgKVAA6b6vSd9pUDRdzHKNHqlQLYpgqVCd6VAUo+XT1F0pUDwqhzIYHGlQGutvA5xbqVACvYiI4JrpUBmEvsElGilQEO+8LOmZaVAd+OvL7pipUDHmeR3zl+lQMkmO4zjXKVAxP1fbPlZpUCOv/8XEFelQHc6x44nVKVAHGpj0D9RpUBUd4HcWE6lQAu4zrJyS6VAI6/4Uo1IpUBaDK28qEWlQCesme/EQqVAnpds6+E/pUBRBNSv/zylQDNUfjweOqVAeBUakT03pUB4AlatXTSlQJEB4ZB+MaVACCVqO6AupUDwqqCswiulQAX9M+TlKKVAlbDT4QkmpUBhhi+lLiOlQHlq9y1UIKVAK3Tbe3odpUDc5YuOoRqlQPEsuWXJF6VAquETAfIUpUAOx0xgGxKlQM3KFINFD6VAHQUdaXAMpUCjuBYSnAmlQFVSs33IBqVAXWmkq/UDpUD8vpubIwGlQHM+S01S/qRA3/xkwIH7pEAgOZv0sfikQMNboOni9aRA2/YmnxTzpEDwxeEUR/CkQNmtg0p67aRAqry/P67qpECVKUn04uekQMpU02cY5aRAYccRmk7ipEA/M7iKhd+kQPVyejm93KRArokMpvXZpEAKoyLQLtekQAoTcbdo1KRA9VWsW6PRpEA3EIm83s6kQFAOvNkazKRArkT6slfJpECcz/hHlcakQCXzbJjTw6RA9RoMpBLBpEBG2otqUr6kQMLroeuSu6RAZTEEJ9S4pEBqtGgcFrakQDKlhctYs6RAHlsRNJywpECFVMJV4K2kQI42TzAlq6RAHc1uw2qopEC3CtgOsaWkQGwIQhL4oqRAtQVkzT+gpEBkaPU/iJ2kQIm8rWnRmqRAVLREShuYpEAAKHLhZZWkQLcV7i6xkqRAf6FwMv2PpEAaFbLrSY2kQPHfalqXiqRA/JZTfuWHpECm9CRXNIWkQLnYl+SDgqRAQkhlJtR/pEB4bUYcJX2kQKiX9MV2eqRAGDspI8l3pEDy8J0zHHWkQCt3DPdvcqRAa7AubcRvpEDzo76VGW2kQIp9dnBvaqRAYY0Q/cVnpED6R0c7HWWkQBdG1Sp1YqRAmUR1y81fpEB0JOIcJ12kQI7q1h6BWqRAqL8O0dtXpEBP8EQzN1WkQL3sNEWTUqRAw0iaBvBPpEC2uzB3TU2kQFEgtJarSqRApnTgZApIpEAC2nHhaUWkQNaUJAzKQqRApAy15CpApEDly99qjD2kQPV/YZ7uOqRA9fj2flE4pEDEKV0MtTWkQNcnUUYZM6RAMCuQLH4wpEA+jte+4y2kQM7N5PxJK6RA8oh15rAopEDrgEd7GCakQBOZGLuAI6RAxdampekgpEBOYbA6Ux6kQM6B83m9G6RAKqMuYygZpEDwUSD2kxakQEg8hzIAFKRA2TEiGG0RpEC0I7Cm2g6kQEMk8N1IDKRAMGehvbcJpEBRQYNFJwekQI0oVXWXBKRA1rPWTAgCpEACm8fLef+jQMC25/Hr/KNAggD3vl76o0BnkrUy0vejQCan40xG9aNA+plBDbvyo0CM5o9zMPCjQN8oj3+m7aNAPR0AMR3ro0AhoKOHlOijQCGuOoMM5qNA3GOGI4Xjo0Dk/Udo/uCjQK3YQFF43qNAdXAy3vLbo0AwYd4ObtmjQHdmBuPp1qNAcFtsWmbUo0C+OtJ049GjQGwe+jFhz6NA0z+mkd/Mo0CR95iTXsqjQHC9lDfex6NASyhcfV7Fo0AL7rFk38KjQILjWO1gwKNAZfwTF+O9o0AsS6bhZbujQA0B00zpuKNA3G1dWG22o0ABAAkE8rOjQFxEmU93saNAOObROv2uo0A5r3bFg6yjQEOHS+8KqqNAa3QUuJKno0DkmpUfG6WjQOs8kyWkoqNAtLrRyS2go0BbkhUMuJ2jQMhfI+xCm6NAqdy/ac6Yo0BS4K+EWpajQLdfuDznk6NAUm2ekXSRo0AROSeDAo+jQEUQGBGRjKNAkV02OyCKo0DWqEcBsIejQCCXEWNAhaNAlOpZYNGCo0Bggub4YoCjQKhafSz1faNAc4zk+od7o0CZTeJjG3mjQLTwPGevdqNAB+W6BER0o0B1tiI82XGjQGwNOw1vb6NAz67KdwVto0Dqe5h7nGqjQF1yaxg0aKNAD6wKTsxlo0ATXz0cZWOjQKPdyoL+YKNABZZ6gZheo0B9EhQYM1yjQDz5XkbOWaNAUAwjDGpXo0COKShpBlWjQIhKNl2jUqNAc4QV6EBQo0AhCI4J302jQOQhaMF9S6NAhjlsDx1Jo0Az0mLzvEajQG6KFG1dRKNA+BtKfP5Bo0DGW8wgoD+jQOw5ZFpCPaNAksHaKOU6o0DaGPmLiDijQNuAiIMsNqNAg1VSD9Ezo0CWDSAvdjGjQJA6u+IbL6NAnYjtKcIso0CEvoAEaSqjQJu9PnIQKKNAsIHxcrglo0ACIWMGYSOjQCrMXSwKIaNAC86r5LMeo0DGixcvXhyjQKiEawsJGqNAGVJyebQXo0CMp/Z4YBWjQHJSwwkNE6NAJTqjK7oQo0DiX2HeZw6jQKveyCEWDKNAROuk9cQJo0Ab1MBZdAejQD8B6E0kBaNATPTl0dQCo0BaSIblhQCjQPWxlIg3/qJABv/cuun7okDGFit8nPmiQLD5SsxP96JAcMEIqwP1okDWoDAYuPKiQMTjjhNt8KJAIe/vnCLuokDIQCC02OuiQHpv7FiP6aJA0Cohi0bnokAqO4tK/uSiQKGB95a24qJA+vcycG/gokCSsArWKN6iQFPWS8ji26JAp6zDRp3ZokBkjz9RWNeiQMHyjOcT1aJASGN5CdDSokDFhdK2jNCiQDUXZu9JzqJAwewBswfMokCj83MBxsmiQCMxitqEx6JAgMISPkTFokDl3NsrBMOiQF7Ns6PEwKJAwvhopYW+okCs28kwR7yiQGcKpUUJuqJA6TDJ48u3okC2EgULj7WiQOOKJ7tSs6JA+Iv/8xaxokDvH1y1266iQB1oDP+grKJAKZ3f0GaqokD8DqUqLaiiQLckLAz0paJAnFxEdbujokAJTL1lg6GiQGufZt1Ln6JAJxoQ3BSdokCWlolh3pqiQPEFo22omKJAR3AsAHOWokBv9PUYPpSiQPjHz7cJkqJAHjeK3NWPokC+pPWGoo2iQEKK4rZvi6JAnHchbD2JokA0E4OmC4eiQNoZ2GXahKJAu17xqamCokBUy59yeYCiQGJftL9JfqJA2DAAkRp8okDRa1Tm63miQIBSgr+9d6JAKT1bHJB1okANmrD8YnOiQGPtU2A2caJASNEWRwpvokCy9cqw3myiQGQgQp2zaqJA4SxODIlookBgDMH9XmaiQL7FbHE1ZKJAcXUjZwxiokB9Tbfe41+iQGeV+te7XaJAJqq/UpRbokAZ/thObVmiQPoYGcxGV6JA0pdSyiBVokDqLFhJ+1KiQMGf/EjWUKJA/8wSybFOokBppm3JjUyiQNMy4ElqSqJAFo49SkdIokAC6VjKJEaiQFGJBcoCRKJAoMkWSeFBokBbGWBHwD+iQLb8tMSfPaJAogzpwH87okC79s87YDmiQEN9PTVBN6JAEHcFrSI1okCEz/uiBDOiQICG9BbnMKJAV7DDCMouokDDdT14rSyiQNoTNmWRKqJAAdyBz3UookDfM/W2WiaiQFSVZBtAJKJAbo6k/CUiokBXwYlaDCCiQFLk6DTzHaJAqMGWi9obokCiN2hewhmiQHo4Mq2qF6JATsrJd5MVokAcBwS+fBOiQK0ctn9mEaJAj0y1vFAPokAM7NZ0Ow2iQBZk8KcmC6JARjHXVRIJokDI42B+/gaiQFUfYyHrBKJAJpuzPtgCokDpISjWxQCiQLSRluez/qFA/9vUcqL8oUCTBbl3kfqhQIEmGfaA+KFAGGrL7XD2oUDbDqZeYfShQHFmf0hS8qFAoNUtq0PwoUA91IeGNe6hQCbtY9on7KFAMr6YphrqoUAq+PzqDeihQLxeZ6cB5qFAdMiu2/XjoUCoHqqH6uGhQHtdMKvf36FAxZMYRtXdoUAQ4zlYy9uhQI1/a+HB2aFABbCE4bjXoUDUzVxYsNWhQNpEy0Wo06FAcpOnqaDRoUBoSsmDmc+hQO0MCNSSzaFAkpA7mozLoUAynTvWhsmhQPUM4IeBx6FAPcwAr3zFoUCd2XVLeMOhQNFFF110waFAtDO943C/oUAx2D/fbb2hQD56d09ru6FAz3I8NGm5oUDNLGeNZ7ehQAwl0FpmtaFAPepPnGWzoUDrHL9RZbGhQGxv9nplr6FA16XOF2atoUD8lSAoZ6uhQFgnxatoqaFADVOVomqnoUDXI2oMbaWhQAG2HOlvo6FAXjeGOHOhoUA953/6dp+hQF4W4y57naFA6yaJ1X+boUBujEvuhJmhQMPLA3mKl6FAFXuLdZCVoUDPQbzjlpOhQJTYb8OdkaFANQmAFKWPoUCprsbWrI2hQAO1HQq1i6FAZBlfrr2JoUD46WTDxoehQOhFCUnQhaFAVF0mP9qDoUBFcZal5IGhQKbTM3zvf6FAP+fYwvp9oUCgH2B5BnyhQCUBpJ8SeqFA5CB/NR94oUClJMw6LHahQNvCZa85dKFAmsImk0dyoUCM++nlVXChQOtViqdkbqFAc8ri13NsoUBdYs52g2qhQFU3KISTaKFAcHPL/6NmoUAhUZPptGShQDYbW0HGYqFAxyz+BthgoUAz8Vc66l6hQBbkQ9v8XKFAPZGd6Q9boUCelEBlI1mhQFSaCE43V6FAjl7Ro0tVoUCLrXZmYFOhQJJj1JV1UaFA5mzGMYtPoUC+xSg6oU2hQD961663S6FAb6auj85JoUAudorc5UehQC4lR5X9RaFA6v7AuRVEoUCdXtRJLkKhQDmvXUVHQKFAXms5rGA+oUBTHUR+ejyhQP1eWruUOqFA09lYY684oUDcRhx2yjahQJ9ugfPlNKFAIill2wEzoUDbXaQtHjGhQKkDHOo6L6FA0CCpEFgtoUDtyiihdSuhQOsmeJuTKaFA/2h0/7EnoUCf1PrM0CWhQHi86APwI6FAZ4IbpA8ioUBtl3CtLyChQK97xR9QHqFAZr73+nAcoUDY/eQ+khqhQFLnauuzGKFAIDdnANYWoUCDuLd9+BShQKlFOmMbE6FApcfMsD4RoUBqNk1mYg+hQL6YmYOGDaFAMwSQCKsLoUAjnQ71zwmhQKOW80j1B6FAfTIdBBsGoUAowWkmQQShQMOht69nAqFABULln44AoUA+HtH2tf6gQErBWbTd/KBAicRd2AX7oEDbz7tiLvmgQJWZUlNX96BAd+YAqoD1oECriaVmqvOgQLZkH4nU8aBAdWdNEf/voEATkA7/Ke6gQALrQVJV7KBA9ZLGCoHqoEDTsHsoreigQLR7QKvZ5qBA2zj0kgbloECnO3bfM+OgQJTlpZBh4aBAK6Zipo/foEAE+4sgvt2gQLRvAf/s26BAzp2iQRzaoEDWLE/oS9igQD7S5vJ71qBAWVFJYazUoEBZe1Yz3dKgQEUv7mgO0aBA8FnwAUDPoED19Tz+cc2gQK4LtF2ky6BAK7E1INfJoEAuCqJFCsigQCBI2c09xqBAD6q7uHHEoECffCkGpsKgQAkaA7bawKBAEuooyA+/oEAEYns8Rb2gQKUE2xJ7u6BAMWIoS7G5oEBTGETl57egQB/SDuEetqBAB0hpPla0oEDaPzT9jbKgQLaMUB3GsKBABQ+fnv6uoEB2tACBN62gQPV3VsRwq6BAo2GBaKqpoEDQhmJt5KegQPUJ29IepqBAqxrMmFmkoECl9Ra/lKKgQKnknEXQoKBAiz4/LAyfoEAgZ99ySJ2gQEDPXhmFm6BAt/SeH8KZoEBDYoGF/5egQIqv50o9lqBAFoGzb3uUoEBOiMbzuZKgQGyDAtf4kKBAej1JGTiPoEBIjny6d42gQGhafrq3i6BAJpMwGfiJoECBNnXWOIigQCVPLvJ5hqBAY/Q9bLuEoEAuSoZE/YKgQA2B6Xo/gaBAHdZJD4J/oEAFk4kBxX2gQPENi1EIfKBAi6kw/0t6oEDz1FwKkHigQL4L8nLUdqBA6NXSOBl1oEDTx+FbXnOgQD2CAdyjcaBAOrIUuelvoEAyEf7yL26gQNVkoIl2bKBAFn/efL1qoEAmPpvMBGmgQG2MuXhMZ6BAgmAcgZRloEAovabl3GOgQESxO6YlYqBA2Ve+wm5goEAA2BE7uF6gQORkGQ8CXaBAuT24PkxboEC4rdHJllmgQBcMSbDhV6BABLwB8ixWoECdLN+OeFSgQO3YxIbEUqBA40eW2RBRoEBLDDeHXU+gQMvEio+qTaBA3Bt18vdLoEDBx9mvRUqgQISKnMeTSKBA7zGhOeJGoECHl8sFMUWgQICg/yuAQ6BAwD0hrM9BoEDVaxSGH0CgQOoyvblvPqBAyKb/RsA8oEDQ5r8tETugQO0d4m1iOaBAl4JKB7Q3oEDJVt35BTagQPvnfkVYNKBAG48T6qoyoECLsH/n/TCgQBi8pz1RL6BA9Sxw7KQtoECyib3z+CugQD5kdFNNKqBA11l5C6IooEAOE7Eb9yagQLhDAIRMJaBA8apLRKIjoEANE3hc+CGgQJxRasxOIKBAW0cHlKUeoEA34DOz/BygQD0T1SlUG6BAoOLP96sZoECoWwkdBBigQLeWZplcFqBAN7fMbLUUoECj6yCXDhOgQHRtSBhoEaBAIoEo8MEPoEAgdqYeHA6gQM+mp6N2DKBAgngRf9EKoEBvW8mwLAmgQLLKtDiIB6BAP0y5FuQFoEDkcLxKQASgQD/Uo9ScAqBAuhxVtPkAoEAG92vTrf6fQBpZWOlo+59AA+06qiT4n0CGVd8V4fSfQMRKESye8Z9AN5qc7Fvun0CiJk1XGuufQAXo7mvZ559AmetNKpnkn0DBUzaSWeGfQPxXdKMa3p9A4UTUXdzan0APfCLBntefQCV0K81h1J9Atbi7gSXRn0A96p/e6c2fQBm+pOOuyp9Aev6WkHTHn0BaikPlOsSfQHVVd+EBwZ9AOmj/hMm9n0DD36jPkbqfQMntQMFat59AndiUWSS0n0AZ+3GY7rCfQJnEpX25rZ9A7rj9CIWqn0BYcEc6UaefQHWXUBEepJ9APe/mjeugn0D0TNivuZ2fQCGa8naImp9AhdQD41eXn0AODtrzJ5SfQNBsQ6n4kJ9A9CoOA8qNn0C7lggBnIqfQGcSAaNuh59ANhTG6EGEn0BYJibSFYGfQOfm717qfZ9A2Afyjr96n0D0TvthlXefQNGV2tdrdJ9Awcle8EJxn0DN61arGm6fQKsQkgjzap9As2DfB8xnn0DTFw6ppWSfQIuF7et/YZ9A4AxN0Fpen0BNJPxVNlufQMNVynwSWJ9Alz6HRO9Un0CAjwKtzFGfQIYMDLaqTp9A+4xzX4lLn0Bz+wipaEifQLlVnJJIRZ9Axqz9GylCn0C1JP1ECj+fQL30ag3sO59AJ2cXdc44n0BB2dJ7sTWfQFi7bSGVMp9ArZC4ZXkvn0Bu74NIXiyfQKmAoMlDKZ9AQQDf6Ckmn0DvPBCmECOfQCoYBQH4H59ALIaO+d8cn0DcjX2PyBmfQM5Io8KxFp9ANePQkpsTn0Dbm9f/hRCfQBnEiAlxDZ9Ay7+1r1wKn0BJBTDySAefQF8dydA1BJ9APqNSSyMBn0B7RJ5hEf6eQALBfRMA+55ACevCYO/3nkAPpz9J3/SeQMzrxczP8Z5AK8In68DunkBERTeksuueQEuixvek6J5Ajxio5ZflnkBu+a1ti+KeQEqoqo9/355AhZpwS3TcnkBxV9KgadmeQFF4oo9f1p5ARqizF1bTnkBNpNg4TdCeQDI75PJEzZ5AjU2pRT3KnkCyzfowNseeQK6/q7QvxJ5AOjmP0CnBnkC2YXiEJL6eQCFyOtAfu55ABrWosxu4nkCGhpYuGLWeQD5U10AVsp5AR50+6hKvnkAs8p8qEayeQOD0zgEQqZ5AuVifbw+mnkBk4uRzD6OeQN5ncw4QoJ5AaNAePxGdnkCIFLsFE5qeQPU9HGIVl55AlmcWVBiUnkB4vX3bG5GeQMN8Jvgfjp5At/PkqSSLnkCfgY3wKYieQMiW9MsvhZ5Af7TuOzaCnkACbVBAPX+eQHlj7thEfJ5A80udBU15nkBZ6zHGVXaeQGMXgRpfc55AlrZfAmlwnkA8wKJ9c22eQFY8H4x+ap5AlkOqLYpnnkBa/xhilmSeQKOpQCmjYZ5AC432grBenkC8BBBvvlueQGx8Yu3MWJ5AUHDD/dtVnkAabQig61KeQO0PB9T7T55AUgaVmQxNnkA8DojwHUqeQO71tdgvR55ABJz0UUJEnkBi7xlcVUGeQC7v+/ZoPp5AyqpwIn07nkDIQU7ekTieQObjaiqnNZ5ABdGcBr0ynkAiWbpy0y+eQEzcmW7qLJ5AoMoR+gEqnkA7pPgUGieeQDv5JL8yJJ5ArWlt+EshnkCRpajAZR6eQMdsrReAG55AEI9S/ZoYnkAD7G5xthWeQABz2XPSEp5ANiNpBO8PnkCLC/UiDA2eQKVKVM8pCp5A0g5eCUgHnkANlunQZgSeQPItziWGAZ5AtTPjB6b+nUAeFAB3xvudQH9L/HLn+J1AqmWv+wj2nUDy/fAQK/OdQBu/mLJN8J1AVmN+4HDtnUA7tHmalOqdQMCKYuC4551AMs8Qst3knUAteVwPA+KdQJSPHfgo351AjigsbE/cnUB7aWBrdtmdQOqGkvWd1p1AmcSaCsbTnUBqdVGq7tCdQFr7jtQXzp1Ae8criUHLnUDwWQDIa8idQONB5ZCWxZ1Aex2z48HCnUDamULA7b+dQBZzbCYavZ1ALHQJFke6nUD+dvKOdLedQExkAJGitJ1AqjMMHNGxnUB86+4vAK+dQO2ggcwvrJ1A53ed8V+pnUAOoxufkKadQLxj1dTBo51A8QmkkvOgnUBW9GDYJZ6dQDCQ5aVYm51AXFkL+4uYnUBE2qvXv5WdQOCroDv0kp1ApXXDJimQnUCH7e2YXo2dQO3X+ZGUip1AqgfBEcuHnUD9XR0YAoWdQH/K6KQ5gp1AJ0v9t3F/nUA77DRRqnydQFHIaXDjeZ1AQAh2FR13nUAf4zNAV3SdQD6effCRcZ1AGo0tJs1unUBhER7hCGydQN6aKSFFaZ1Ae6cq5oFmnUA7w/svv2OdQC+Id/78YJ1AcJ54UTtenUAbvNkoeludQEqldYS5WJ1ACiwnZPlVnUBXMMnHOVOdQBqgNq96UJ1AGXdKGrxNnUD1vt8I/kqdQCmP0XpASJ1A+Qz7b4NFnUB1azfoxkKdQG3rYeMKQJ1Aa9tVYU89nUCwl+5hlDqdQCmKB+XZN51AbSp86h81nUCz/SdyZjKdQNCW5nutL51AKpaTB/UsnUC5qQoVPSqdQPqMJ6SFJ51A7wjGtM4knUAT9MFGGCKdQFoy91liH51AIrVB7qwcnUA3e30D+BmdQMWQhplDF51AVA85sI8UnUDEHXFH3BGdQEXwCl8pD51ATMji9nYMnUCb9NQOxQmdQCrRvaYTB51AKcd5vmIEnUD+TOVVsgGdQDbm3GwC/5xAgyM9A1P8nEC5ouIYpPmcQMIOqq319pxAnR9wwUf0nEBUmhFUmvGcQPlQa2Xt7pxAnyJa9UDsnEBS+7oDlemcQBbUapDp5pxA2rJGmz7knEB3qisklOGcQKza9irq3pxAEHCFr0DcnEAWpLSxl9mcQP28YTHv1pxA0w1qLkfUnEBq9qqon9GcQFTjAaD4zpxA2U1MFFLMnED8u2cFrMmcQGjAMXMGx5xAcPqHXWHEnEAMFkjEvMGcQNHLT6cYv5xA5uB8BnW8nEAHJ63h0bmcQHp8vjgvt5xAC8yOC420nEAEDfxZ67GcQClD5CNKr5xAs34laamsnEBL3J0pCaqcQACFK2Vpp5xARa6sG8qknEDrmf9MK6KcQBqWAvmMn5xATP2TH++cnEBLNpLAUZqcQCG029u0l5xAH/ZOcRiVnEDQh8qAfJKcQPUALQrhj5xAfwVVDUaNnECKRSGKq4qcQFp9cIARiJxAT3Uh8HeFnEDmARPZ3oKcQLADJDtGgJxATGczFq59nEBnJSBqFnucQK5CyTZ/eJxAz88NfOh1nEBw6cw5UnOcQC645W+8cJxAknA3HidunEAPU6FEkmucQPurAuP9aJxAjdM6+WlmnEDSLSmH1mOcQKwqrYxDYZxAzEWmCbFenECqBvT9HlycQIIAdmmNWZxAUtILTPxWnEDLJpWla1ScQFa08XXbUZxACT0BvUtPnECijqN6vEycQIWCuK4tSpxAtP0fWZ9HnEDH8Ll5EUWcQPBXZhCEQpxA6zoFHfc/nEAArXafaj2cQPvMmpfeOpxAJsVRBVM4nEBFy3voxzWcQJUg+UA9M5xAvhGqDrMwnEDV9m5RKS6cQFIzKAmgK5xAETa2NRcpnEBHefnWjiacQH6C0uwGJJxAk+Ihd38hnECvNch1+B6cQEAjpuhxHJxA+F2cz+sZnEDDo4sqZhecQMm9VPngFJxAYIDYO1wSnEANy/fx1w+cQICIkxtUDZxAiq6MuNAKnEAcPsTITQicQEBDG0zLBZxAFdVyQkkDnEDLFayrxwCcQJgyqIdG/ptAv2NI1sX7m0B+7G2XRfmbQBMb+srF9ptAr0jOcEb0m0B62cuIx/GbQIY81BJJ75tAzuvIDsvsm0AzbIt8TeqbQHBN/VvQ55tAHyoArVPlm0Crp3Vv1+KbQFJ2P6Nb4JtAHlE/SODdm0Db/VZeZdubQBtNaOXq2JtALRpV3XDWm0AWS/9F99ObQI/QSB9+0ZtAA6YTaQXPm0CE0UEjjcybQMdjtU0VyptAKHhQ6J3Hm0CZNPXyJsWbQKbJhW2wwptAbHLkVzrAm0CXdPOxxL2bQFwglXtPu5tAdNCrtNq4m0AY6hldZrabQPrcwXTys5tARyOG+36xm0CZQUnxC6+bQPvG7VWZrJtA4ExWKSeqm0Aad2VrtaebQOLz/RtEpZtAyXsCO9Oim0C10VXIYqCbQNvC2sPynZtAxiZ0LYObm0BA3wQFFJmbQF3Yb0qllptAcQiY/TaUm0AFcGAeyZGbQOAZrKxbj5tA9BpeqO6Mm0BoklkRgoqbQIepgecViJtAwZO5KqqFm0CojuTaPoObQOnh5ffTgJtASN+ggWl+m0Cc4vh3/3ubQMtR0dqVeZtAwpwNqix3m0B7PZHlw3SbQOi3P41bcptA/Zn8oPNvm0Coe6sgjG2bQMf+Lwwla5tAKc9tY75om0CLokgmWGabQI04pFTyY5tAtVpk7oxhm0Bm3GzzJ1+bQNyaoWPDXJtAK33mPl9am0A5dB+F+1ebQLZ6MDaYVZtAHJX9UTVTm0Cr0WrY0lCbQGNIXMlwTptAABu2JA9Mm0D0dFzqrUmbQGqLMxpNR5tANJ0ftOxEm0DZ8gS4jEKbQH/exyUtQJtA8rtM/c09m0Cd8Hc+bzubQIXrLekQOZtARSVT/bI2m0AMIMx6VTSbQJJnfWH4MZtAHpFLsZsvm0B6OxtqPy2bQPMO0YvjKptAUb1RFogom0DYAYIJLSabQEChRmXSI5tAsWmEKXghm0DDMiBWHh+bQHPd/urEHJtAJlQF6Gsam0CgihhNExibQAB+HRq7FZtAxTT5TmMTm0C5vpDrCxGbQPw0ye+0DptA+7mHW14Mm0BoebEuCAqbQD6oK2myB5tAtITbCl0Fm0BCVqYTCAObQJJtcYOzAJtAjCQiWl/+mkBA3p2XC/yaQPAGyju4+ZpAAxSMRmX3mkAIhMm3EvWaQKzeZ4/A8ppAu7RMzW7wmkAZoF1xHe6aQL9DgHvM65pAuUua63vpmkAbbZHBK+eaQAlmS/3b5JpAqP2tnozimkAgBJ+lPeCaQJhSBBLv3ZpAL8vD46DbmkD7WMMaU9maQALw6LYF15pAPo0auLjUmkCMNj4ebNKaQLb6Oekf0JpAZfHzGNTNmkAiO1KtiMuaQFMBO6Y9yZpANXaUA/PGmkDW1ETFqMSaQBdhMutewppApWdDdRXAmkDzPV5jzL2aQDtCabWDu5pAedtKazu5mkBheemE87aaQGaUKwKstJpAra334mSymkASTzQnHrCaQBoLyM7XrZpA9nyZ2ZGrmkCASI9HTKmaQDMakBgHp5pAKqeCTMKkmkAfrU3jfaKaQF7y19w5oJpAz0UIOfadmkDkfsX3spuaQKJ99hhwmZpAkyqCnC2XmkDLdk+C65SaQN5bRcqpkppA4NtKdGiQmkBfAUeAJ46aQGLfIO7mi5pAY5G/vaaJmkBOOwrvZoeaQHgJ6IEnhZpApTBAduiCmkD87fnLqYCaQAOH/IJrfppApUkvmy18mkAjjHkU8HmaQBatwu6yd5pAbxPyKXZ1mkBtLu/FOXOaQJt1ocL9cJpAzWjwH8JumkAikMPdhmyaQPR7AvxLappA48SUehFomkDGC2JZ12WaQK/5UZidY5pA5D9MN2RhmkDZlzg2K1+aQDTD/pTyXJpAw4uGU7pamkB7w7dxgliaQHZEeu9KVppA7PC1zBNUmkAzs1IJ3VGaQLh9OKWmT5pAAUtPoHBNmkCkHX/6OkuaQEYAsLMFSZpAmgXKy9BGmkBXSLVCnESaQD3rWRhoQppADRmgTDRAmkCCBHDfAD6aQFbosdDNO5pAOAdOIJs5mkDQqyzOaDeaQK4oNto2NZpAWdhSRAUzmkA7HWsM1DCaQKlhZzKjLppA2BcwtnIsmkDgua2XQiqaQLXJyNYSKJpAJtFpc+MlmkDVYXlttCOaQDwV4MSFIZpAoIyGeVcfmkAVcVWLKR2aQHdzNfr7GppAa0wPxs4YmkBXvMvuoRaaQF2LU3R1FJpAY4mPVkkSmkACjmiVHRCaQIt4xzDyDZpAAjCVKMcLmkAZo7p8nAmaQDLIIC1yB5pAVJ2wOUgFmkAuKFOiHgOaQBF28Wb1AJpA75t0h8z+mUBUtsUDpPyZQGjpzdt7+plA6GB2D1T4mUAjUKieLPaZQPnxTIkF9JlA14hNz97xmUCzXpNwuO+ZQAnFB22S7ZlA2hSUxGzrmUCkriF3R+mZQGf6mYQi55lAl2fm7P3kmUAmbfCv2eKZQHWJoc214JlAVELjRZLemUAHJZ8Yb9yZQDfGvkVM2plA+sErzSnYmUDDu8+uB9aZQG5elOrl05lAMVxjgMTRmUChbiZwo8+ZQKVWx7mCzZlAf9wvXWLLmUDEz0laQsmZQFIH/7Aix5lAW2E5YQPFmUBUw+Jq5MKZQPsZ5c3FwJlAUVkqiqe+mUCafJyfibyZQFGGJQ5suplAM4Cv1U64mUAseyT2MbaZQGWPbm8VtJlAMtx3QfmxmUAZiCps3a+ZQMrAcO/BrZlAHrs0y6armUAUs2D/i6mZQM3r3otxp5lAi6+ZcFelmUCsT3utPaOZQKgkbkIkoZlAEI5cLwufmUCF8jB08pyZQL6/1RDamplAfmo1BcKYmUCTbjpRqpaZQNVOz/SSlJlAIpXe73uSmUBZ0lJCZZCZQFyeFuxOjplAB5gU7TiMmUAxZTdFI4qZQKyyafQNiJlAOTSW+viFmUCRpKdX5IOZQFbFiAvQgZlAGl8kFrx/mUBXQWV3qH2ZQG5CNi+Ve5lApT+CPYJ5mUAgHTSib3eZQOHFNl1ddZlAyit1bktzmUCRR9rVOXGZQMQYUZMob5lAwqXEphdtmUC8+x8QB2uZQLAuTs/2aJlAZ1k65OZmmUBync9O12SZQCUj+Q7IYplAmRmiJLlgmUCntrWPql6ZQOI2H1CcXJlAm93JZY5amUDW9KDQgFiZQFLNj5BzVplAeb6BpWZUmUBqJmIPWlKZQO5pHM5NUJlAefSb4UFOmUAlOMxJNkyZQLGtmAYrSplAgNTsFyBImUCQMrR9FUaZQIJU2jcLRJlAic1KRgFCmUB2N/Go9z+ZQKoyuV/uPZlAG2aOauU7mUBMf1zJ3DmZQE4yD3zUN5lAvDmSgsw1mUC4VtHcxDOZQOdQuIq9MZlAdfYyjLYvmUAIHC3hry2ZQMWckompK5lATFpPhaMpmUC2PE/UnSeZQI0yfnaYJZlA0DDIa5MjmUDuMhm0jiGZQMQ6XU+KH5lAllCAPYYdmUAUg25+ghuZQFPnExJ/GZlAyphc+HsXmUBRuTQxeRWZQB1xiLx2E5lAv+5DmnQRmUAjZ1PKcg+ZQIYVo0xxDZlAgDsfIXALmUDyILRHbwmZQBMUTsBuB5lAYGnZim4FmUCle0KnbgOZQPKrdRVvAZlAnWFf1W//mEA9CuzmcP2YQKcZCEpy+5hA8wmg/nP5mEBuW6AEdveYQKCU9Vt49ZhAREKMBHvzmEBL91D+ffGYQNZMMEmB75hANOIW5YTtmEDfXPHRiOuYQH1orA+N6ZhA17Y0npHnmEDe/3Z9luWYQKIBYK2b45hAVIDcLaHhmEBERtn+pt+YQNsjQyCt3ZhAme8GkrPbmEAUhhFUutmYQPvJT2bB15hABKSuyMjVmED+Aht70NOYQL7bgX3Y0ZhAIynQz+DPmEAX7PJx6c2YQIUr12Pyy5hAXvRppfvJmECQWZg2BciYQAt0TxcPxphAuWJ8RxnEmEB5SgzHI8KYQCdW7JUuwJhAkbYJtDm+mEB1olEhRbyYQIVWsd1QuphAXRUW6Vy4mECFJ21DabaYQG/bo+x1tJhAcYWn5IKymEDIf2UrkLCYQJAqy8CdrphAxevFpKusmEBFL0PXuaqYQL9mMFjIqJhAxQl7J9emmEC4lRBF5qSYQM6N3rD1ophAFHvSagWhmEBf7NlyFZ+YQFR24sglnZhAZrPZbDabmEDMQ61eR5mYQIXNSp5Yl5hAU/yfK2qVmEC8gZoGfJOYQAIVKC+OkZhAKXM2paCPmEDqXrNos42YQLygjHnGi5hAyQaw19mJmEDxZAuD7YeYQMSUjHsBhphAhXUhwRWEmEAh7LdTKoKYQDTjPTM/gJhA/UqhX1R+mEBrGdDYaXyYQAlKuJ5/ephACN5HsZV4mEA63GwQrHaYQA5RFbzCdJhAkU4vtNlymEBj7Kj48HCYQMRHcIkIb5hAhoNzZiBtmEAKyKCPOGuYQEhD5gRRaZhAwygyxmlnmECNsXLTgmWYQEEcliycY5hAA62K0bVhmEB7rT7Cz1+YQNhsoP7pXZhAyT+ehgRcmEB/gCZaH1qYQKWOJ3k6WJhAYs+P41VWmEBarU2ZcVSYQKWYT5qNUphA0AaE5qlQmEDcctl9xk6YQDldPmDjTJhAyUuhjQBLmEDYyfAFHkmYQB1oG8k7R5hAt7wP11lFmEAsY7wveEOYQGj8D9OWQZhAtC75wLU/mEC+pWb51D2YQI8SR3z0O5hAjiuJSRQ6mEB6rBthNDiYQGpW7cJUNphAzO/sbnU0mEBhRAllljKYQDklMaW3MJhAuGhTL9kumECL6l4D+yyYQK6LQiEdK5hAZDLtiD8pmEA5yk06YieYQP1DUzWFJZhAwpXseagjmEDfuggIzCGYQOazlt/vH5hAq4aFABQemEA2PsRqOByYQNHqQR5dGphA9KHtGoIYmEBVfrZgpxaYQNWfi+/MFJhAjCtcx/ISmEC9SxfoGBGYQNsvrFE/D5hAhAwKBGYNmEB8GyD/jAuYQLKb3UK0CZhAONExz9sHmEBFBQykAwaYQC6GW8ErBJhAa6cPJ1QCmECOwRfVfACYQEcyY8ul/pdAXlzhCc/8l0Czp4GQ+PqXQDqBM18i+ZdA/lrmdUz3l0AXrInUdvWXQLHwDHuh85dAAqpfaczxl0BPXnGf9++XQOOYMR0j7pdAFuqP4k7sl0BB53vveuqXQMUq5UOn6JdAAlS739Pml0BcB+7CAOWXQDHubO0t45dA37YnX1vhl0C7FA4Yid+XQBfADxi33ZdAO3YcX+Xbl0Bd+SPtE9qXQLEQFsJC2JdAVIji3XHWl0BUMXlAodSXQK3hyenQ0pdASXTE2QDRl0D2yFgQMc+XQG/Edo1hzZdAUVAOUZLLl0AgWw9bw8mXQD/Yaav0x5dA9r8NQibGl0BlD+seWMSXQI3I8UGKwpdAS/IRq7zAl0BQmDta776XQCjLXk8ivZdAM6BrilW7l0CiMVILibmXQH6eAtK8t5dAmQpt3vC1l0CVnoEwJbSXQOOHMMhZspdAu/hppY6wl0AcKB7Iw66XQNFRPTD5rJdAZra33S6rl0Arm33QZKmXQDFKfwibp5dASBKthdGll0D/RvdHCKSXQKFATk8/opdAMVyim3agl0Br++Msrp6XQMSEAwPmnJdAY2PxHR6bl0AiB559VpmXQI/k+SGPl5dA43T1CsiVl0AINoE4AZSXQJWqjao6kpdAxlkLYXSQl0CEz+pbro6XQF2cHJvojJdAhFWRHiOLl0DRlDnmXYmXQLj4BfKYh5dAVCTnQdSFl0BXv83VD4SXQBV2qq1LgpdAePltyYeAl0AF/wgpxH6XQNhAbMwAfZdAon2Isz17l0CoeE7eenmXQL/5rky4d5dATs2a/vV1l0BKxAL0M3SXQDS01yxycpdAGHcKqbBwl0CO64to726XQLL0TGsubZdAJ3o+sW1rl0AXaFE6rWmXQCqvdgbtZ5dAjUSfFS1ml0DoIbxnbWSXQGNFvvytYpdApLGW1O5gl0DIbTbvL1+XQGOFjkxxXZdAhAiQ7LJbl0CrCyzP9FmXQNGnU/Q2WJdAXPr3W3lWl0AiJQoGvFSXQGtOe/L+UpdA6qA8IUJRl0C8Sz+ShU+XQGmCdEXJTZdA43zNOg1Ml0B8dztyUUqXQPKyr+uVSJdAYHQbp9pGl0BHBXCkH0WXQIWznuNkQ5dAWNGYZKpBl0BXtU8n8D+XQHi6tCs2PpdACUC5cXw8l0CuqU75wjqXQGNfZsIJOZdAeM3xzFA3l0CPZOIYmDWXQJyZKabfM5dA4uW4dCcyl0DyxoGEbzCXQKu+ddW3LpdAN1OGZwAtl0AGD6U6SSuXQNGAw06SKZdAmjvTo9snl0Ck1sU5JSaXQHftjBBvJJdA2x8aKLkil0DYEV+AAyGXQLVrTRlOH5dA9dnW8pgdl0BYDe0M5BuXQNO6gWcvGpdAmZuGAnsYl0AObe3dxhaXQM3wp/kSFZdApeynVV8Tl0CXKt/xqxGXQNJ4P874D5dAtqm66kUOl0DPk0JHkwyXQNQRyePgCpdAqAJAwC4Jl0BVSZncfAeXQA3NxjjLBZdAJHm61BkEl0AYPWawaAKXQIYMvMu3AJdAKd+tJgf/lkDisC3BVv2WQKuBLZum+5ZAm1WftPb5lkDmNHUNR/iWQNcroaWX9pZA00oVfej0lkBTpsOTOfOWQOZWnumK8ZZALXmXftzvlkDhLaFSLu6WQMKZrWWA7JZApeWut9LqlkBqPpdIJemWQADVWBh455ZAXN7lJsvllkCBkzB0HuSWQHIxKwBy4pZAQvnHysXglkD+L/nTGd+WQMAesRtu3ZZAnBLiocLblkCqXH5mF9qWQAFSeGls2JZAskvCqsHWlkDMpk4qF9WWQFjED+hs05ZAWQn448LRlkDI3vkdGdCWQJSxB5ZvzpZAofITTMbMlkDGFhFAHcuWQMuW8XF0yZZAa++n4cvHlkBLoSaPI8aWQAAxYHp7xJZADSdHo9PClkDdD84JLMGWQMR7562Ev5ZA/v6Fj929lkCtMZyuNryWQNqvHAuQupZAbRn6pOm4lkA2Eid8Q7eWQN9BlpCdtZZA91M64vezlkDn9wVxUrKWQPbg6zytsJZARMbeRQivlkDQYtGLY62WQGp1tg6/q5ZAvcCAzhqqlkBKCyPLdqiWQGIfkATTppZALsu6ei+llkCk4JUtjKOWQIw1FB3poZZAfKMoSUaglkDWB8axo56WQMpD31YBnZZAUTxnOF+blkAt2lBWvZmWQOcJj7AbmJZA0bsUR3qWlkD/49QZ2ZSWQEh6wig4k5ZASnrQc5eRlkBf4/H69o+WQKK4Gb5WjpZA7AA7vbaMlkDUxkj4FouWQKsYNm93iZZAfgj2IdiHlkAPrHsQOYaWQNscujqahJZAFnikoPuClkCj3i1CXYGWQB91SR+/f5ZA1WPqNyF+lkDC1gOMg3yWQJT9iBvmepZApAtt5kh5lkD5N6Psq3eWQEe9Hi4PdpZA6tnSqnJ0lkDqz7Ji1nKWQPLksVU6cZZAV2LDg55vlkARldrsAm6WQL3N6pBnbJZAmWDnb8xqlkCFpcOJMWmWQAD4ct6WZ5ZAJ7fobfxllkC1RRg4YmSWQAEK9TzIYpZA/W1yfC5hlkAx34P2lF+WQMPOHKv7XZZAaLEwmmJclkBy/7LDyVqWQME0lycxWZZAzNDQxZhXlkCaVlOeAFaWQMFMErFoVJZAaj0B/tBSlkBFthOFOVGWQJdIPUaiT5ZAKYlxQQtOlkBREKR2dEyWQO55yOXdSpZAZ2XSjkdJlkCndbVxsUeWQB9RZY4bRpZAxKHV5IVElkANFfp08EKWQPNbxj5bQZZA7SouQsY/lkDzOSV/MT6WQHpEn/WcPJZAcQmQpQg7lkBFS+uOdDmWQNzPpLHgN5ZAk2CwDU02lkA+ygGjuTSWQCrdjHEmM5ZAGG1FeZMxlkA5UR+6ADCWQDVkDjRuLpZAIYQG59sslkCHkvvSSSuWQFx04fe3KZZAARKsVSYolkBKV0/slCaWQG4zv7sDJZZAFJnvw3IjlkBHftQE4iGWQH7cYX5RIJZAk7CLMMEelkDG+kUbMR2WQLq+hD6hG5ZAeAM8mhEalkBm018ughiWQE485PryFpZAVU+9/2MVlkACId881ROWQDfJPbJGEpZAMWPNX7gQlkCIDYJFKg+WQC3qT2OcDZZAah4ruQ4MlkDd0gdHgQqWQHwz2gz0CJZAkW+WCmcHlkC5uTBA2gWWQORHna1NBJZAUlPQUsEClkCSGL4vNQGWQIPXWkSp/5VAU9OakB3+lUB3UnIUkvyVQLWe1c8G+5VAGAW5wnv5lUD61RDt8PeVQPRk0U5m9pVA7wjv59v0lUATHF64UfOVQM37EsDH8ZVA0AgC/z3wlUAPpx91tO6VQLw9YCIr7ZVATDe4BqLrlUBwARwiGeqVQBkNgHSQ6JVAcM7Y/QfnlUDfvBq+f+WVQAVTOrX345VAvQ4s42/ilUAWceRH6OCVQFv+V+Ng35VABz57tdndlUDLukK+UtyVQI8Co/3L2pVAaqaQc0XZlUCjOgAgv9eVQLFW5gI51pVAPpU3HLPUlUAclOhrLdOVQE707fGn0ZVA/1k8riLQlUCIbMignc6VQGjWhskYzZVAR0VsKJTLlUD1aW29D8qVQGn4foiLyJVAu6eViQfHlUArMqbAg8WVQBlVpS0AxJVAB9GH0HzClUCZaUKp+cCVQJDlybd2v5VAzg4T/PO9lUBQshJ2cbyVQDGgvSXvupVApasIC225lUD9qugl67eVQJ93UnZptpVADe46/Oe0lUDd7Za3ZrOVQLtZW6jlsZVAaRd9zmSwlUC6D/Ep5K6VQJkurLpjrZVA/GKjgOOrlUDsnst7Y6qVQITXGazjqJVA5wSDEWSnlUBMIvyr5KWVQPMtentlpJVAJSnyf+ailUA6GFm5Z6GVQJACpCfpn5VAi/LHymqelUCa9bmi7JyVQC8cb69um5VAxXnc8PCZlUDUJPdmc5iVQN02tBH2lpVAX8wI8XiVlUDbBOoE/JOVQNICTU1/kpVAwusmygKRlUAo6Gx7ho+VQH4jFGEKjpVAOcwRe46MlUDHE1vJEouVQJEu5UuXiZVA+VOlAhyIlUBWvpDtoIaVQPiqnAwmhZVAJFq+X6uDlUARD+vmMIKVQO0PGKK2gJVA1KU6kTx/lUDZHEi0wn2VQPnDNQtJfJVAJe34lc96lUA57YZUVnmVQAEc1Ubdd5VANtTYbGR2lUB3c4fG63SVQFRa1lNzc5VAQey6FPtxlUCdjyoJg3CVQK+tGjELb5VAobKAjJNtlUCFDVIbHGyVQFIwhN2kapVA348M0y1plUDoo+D7tmeVQArn9VdAZpVAwdZB58lklUBr87mpU2OVQETAU5/dYZVAYMMEyGdglUC3hcIj8l6VQBmTgrJ8XZVAMHo6dAdclUCBzN9oklqVQGceaJAdWZVAGAfJ6qhXlUCgIPh3NFaVQN4H6zfAVJVAh1yXKkxTlUAkwfJP2FGVQBPb8qdkUJVAgVKNMvFOlUBr0rfvfU2VQKAIaN8KTJVAvqWTAZhKlUAwXTBWJUmVQC3lM92yR5VAu/aTlkBGlUCoTUaCzkSVQI+oQKBcQ5VA0sh48OpBlUCccuRyeUCVQOBseScIP5VAWIEtDpc9lUB/fPYmJjyVQJotynG1OpVArmae7kQ5lUCG/Gid1DeVQKvGH35kNpVAaZ+4kPQ0lUDMYynVhDOVQJzzZ0sVMpVAZDFq86UwlUBlAibNNi+VQKROkdjHLZVA3ACiFVkslUCFBk6E6iqVQM1PiyR8KZVAnc9P9g0olUCVe5H5nyaVQAxMRi4yJZVADjxklMQjlUBdSeErVyKVQGx0s/TpIJVAZMDQ7nwflUAfMy8aEB6VQCbVxHajHJVAtrGHBDcblUC41m3DyhmVQMVUbbNeGJVAJT981PIWlUDIq5AmhxWVQE+zoKkbFJVAAXGiXbASlUDTAoxCRRGVQGCJU1jaD5VA7ifvnm8OlUBmBFUWBQ2VQFtHe76aC5VABBxYlzAKlUA+sOGgxgiVQIc0DttcB5VAAtzTRfMFlUBx3CjhiQSVQDtuA60gA5VAZcxZqbcBlUCTNCLWTgCVQAbnUjPm/pRAoibiwH39lEDgOMZ+FfyUQNpl9Wyt+pRAQ/hli0X5lEBpPQ7a3feUQDGF5Fh29pRAGyLfBw/1lEA8afTmp/OUQEGyGvZA8pRAbFdINdrwlECUtXOkc++UQCIsk0MN7pRAFh2dEqfslEAA7YcRQeuUQP8CSkDb6ZRAyMjZnnXolECZqi0tEOeUQEUXPOuq5ZRAKID72EXklEAtWWL24OKUQM0YZ0N84ZRACjgAwBfglEBwMiRss96UQBaGyUdP3ZRAnLPmUuvblEAqPnKNh9qUQG6rYvcj2ZRAnYOukMDXlEBwUUxZXdaUQCiiMlH61JRAhwVYeJfTlEDTDbPONNKUQNJPOlTS0JRAz2LkCHDPlECT4KfsDc6UQGZle/+rzJRAD5BVQUrLlEDWAS2y6MmUQH1e+FGHyJRAQkyuICbHlEDgc0UexcWUQIyAtEpkxJRA9R/ypQPDlEBEAvUvo8GUQBjas+hCwJRAh1wl0OK+lEAjQUDmgr2UQOxB+yojvJRAWxtNnsO6lEBfjCxAZLmUQFVWkBAFuJRAET1vD6a2lEDXBsA8R7WUQFx8eZjos5RAxWiSIoqylEClmQHbK7GUQP/evcHNr5RARQu+1m+ulEBT8/gZEq2UQHFuZYu0q5RAVFb6KleqlEAbh674+aiUQE/fePScp5RA4T9QHkCmlEAojCt246SUQOepAfyGo5RARYHJryqilEDM/HmRzqCUQHAJCqFyn5RAhpZw3haelEDGlaRJu5yUQE77nOJfm5RAl71QqQSalECC1badqZiUQEw+xr9Ol5RAk/V1D/SVlEBS+7yMmZSUQOZRkjc/k5RAA/7sD+WRlEC+BsQVi5CUQIR1Dkkxj5RAIFbDqdeNlEC2ttk3foyUQMGnSPMki5RAFzwH3MuJlEDliAzycoiUQK2lTzUah5RAS6zHpcGFlEDruGtDaYSUQBLqMg4Rg5RAmGAUBrmBlECoPwcrYYCUQLusAn0Jf5RAo8/9+7F9lEB90u+nWnyUQLjhz4ADe5RAFCyVhqx5lECb4ja5VXiUQKg4rBj/dpRA5WPspKh1lEBCnO5dUnSUQAEcqkP8cpRAqh8WVqZxlEAS5imVUHCUQFWw3AD7bpRA2cElmaVtlEBMYPxdUGyUQKHTV0/7apRAFGYvbaZplEAkZHq3UWiUQJYcMC79ZpRAdOBH0ahllEAJA7mgVGSUQOTZepwAY5RA17yExKxhlEDxBc4YWWCUQIcRTpkFX5RAKD78RbJdlECn7M8eX1yUQBKAwCMMW5RAs13FVLlZlEAW7dWxZliUQP+X6ToUV5RAbsr378FVlECc8vfQb1SUQACB4d0dU5RARuirFsxRlEBWnU57elCUQEsXwQspT5RAe8/6x9dNlEBwQfOvhkyUQOzqocM1S5RA4Uv+AuVJlEB75v9tlEiUQBM/ngRER5RAPNzQxvNFlEC0Ro+0o0SUQG4J0c1TQ5RAj7GNEgRClEBlzryCtECUQHTxVR5lP5RAba5Q5RU+lEArm6TXxjyUQLtPSfV3O5RAUmY2Pik6lEBUe2Oy2jiUQE0tyFGMN5RA9RxcHD42lEAt7RYS8DSUQP5C8DKiM5RAm8XfflQylEBbHt31BjGUQMD435e5L5RAbwLgZGwulEAz69RcHy2UQPxktn/SK5RA3SN8zYUqlEAN3h1GOSmUQOVLk+nsJ5RA4ifUt6AmlECeLtiwVCWUQNgel9QIJJRAbLkII70ilEBUwSSccSGUQKz74j8mIJRArC87DtselECpJiUHkB2UQBKsmCpFHJRAeI2NePoalECBmvvwrxmUQO+k2pNlGJRAoIAiYRsXlECHA8tY0RWUQLMFzHqHFJRASWEdxz0TlECE8rY99BGUQLqXkN6qEJRATzGiqWEPlEDCoeOeGA6UQKTNTL7PDJRAm5vVB4cLlEBe9HV7PgqUQLrCJRn2CJRAh/Pc4K0HlEC2dZPSZQaUQEI6Qe4dBZRAOTTeM9YDlEC3WGKjjgKUQOaexTxHAZRAAAAAAAAAlEBIdwntuP6TQBIC2gNy/ZNAuZ9pRCv8k0CoUbCu5PqTQFAbpkKe+ZNALQJDAFj4k0DJDX/nEfeTQK1HUvjL9ZNAc7u0Mob0k0C4dp6WQPOTQB6JByT78ZNAUATo2rXwk0D++ze7cO+TQNqF78Qr7pNAnLkG+Obsk0AAsXVUouuTQMOHNNpd6pNApFs7iRnpk0BmTIJh1eeTQMl7AWOR5pNAkQ2xjU3lk0B+J4nhCeSTQFHxgV7G4pNAyJSTBIPhk0CiPbbTP+CTQJMZ4sv83pNAVlgP7bndk0CZKzY3d9yTQArHTqo025NATmBRRvLZk0AHLzYLsNiTQM9s9fht15NAN1WHDyzWk0DMJeRO6tSTQAweBLeo05NAcn/fR2fSk0BrjW4BJtGTQF2NqePkz5NAn8aI7qPOk0B9ggQiY82TQDoMFX4izJNACbGyAuLKk0ANwNWvocmTQGKKdoVhyJNADWONgyHHk0AKnxKq4cWTQEGV/vihxJNAi55JcGLDk0CvFewPI8KTQGJX3tfjwJNASMIYyKS/k0DvtpPgZb6TQNSXRyEnvZNAXsksiui7k0DgsTsbqrqTQJe5bNRruZNAqUq4tS24k0An0Ra/77aTQAq7gPCxtZNAMnjuSXS0k0BoeljLNrOTQFo1t3T5sZNAnx4DRrywk0CxrTQ/f6+TQO5bRGBCrpNAnqQqqQWtk0DmBOAZyauTQNP7XLKMqpNAVAqaclCpk0A5s49aFKiTQDN7NmrYppNA0+iGoZylk0CQhHkAYaSTQLjYBoclo5NAgnEnNeqhk0D53NMKr6CTQA+rBAh0n5NAjm2yLDmek0AeuNV4/pyTQEUgZ+zDm5NAYz1fh4mak0CzqLZJT5mTQEr9ZTMVmJNAF9hlRNuWk0Dn1658oZWTQFadOdxnlJNA4sr+Yi6Tk0DaBPcQ9ZGTQGfxGua7kJNAiThj4oKPk0AShMgFSo6TQK1/Q1ARjZNA2tjMwdiLk0DqPl1aoIqTQANj7RloiZNAH/h1ADCIk0AJs+8N+IaTQGBKU0LAhZNAkXaZnYiEk0Db8bofUYOTQE54sMgZgpNAysdymOKAk0D+n/qOq3+TQGXCQKx0fpNASfI98D19k0DE9OpaB3yTQLiQQOzQepNA2I43pJp5k0CfuciCZHiTQFXd7Icud5NADcics/h1k0CiSdEFw3STQLozg36Nc5NAw1mrHVhyk0DzkELjInGTQEqwQc/tb5NAjJCh4bhuk0BIDFsahG2TQM3/ZnlPbJNANUm+/hprk0BcyFmq5mmTQOReMnyyaJNAMvBAdH5nk0BuYX6SSmaTQIWZ49YWZZNAJYFpQeNjk0C6AgnSr2KTQHgKu4h8YZNAT4Z4ZUlgk0DyZTpoFl+TQM6a+ZDjXZNAGBiv37Bck0C70lNUfluTQGTB4O5LWpNAfdxOrxlZk0AtHpeV51eTQFaCsqG1VpNAlwaa04NVk0BKqkYrUlSTQIRusaggU5NAE1bTS+9Rk0CBZaUUvlCTQA6jIAONT5NAtRY+F1xOk0AoyvZQK02TQNDIQ7D6S5NAzx8eNcpKk0D73X7fmUmTQOQTX69pSJNAyNO3pDlHk0ChMYK/CUaTQBtDt//ZRJNAlx9QZapDk0Ak4EXwekKTQIufkaBLQZNAQ3osdhxAk0B1jg9x7T6TQP77M5G+PZNAZ+SS1o88k0DuaiVBYTuTQHy05NAyOpNAsOfJhQQ5k0DPLM5f1jeTQNOt6l6oNpNAYJYYg3o1k0DHE1HMTDSTQAlVjTofM5NA0IrGzfExk0Bw5/WFxDCTQO+eFGOXL5NA9OYbZWouk0DY9gSMPS2TQJgHydcQLJNA3lNhSOQqk0D6F8fdtymTQOeR85eLKJNAQgHgdl8nk0BTp4V6MyaTQAnH3aIHJZNA96Th79sjk0BWh4phsCKTQAO20feEIZNAhHqwslkgk0D7HyCSLh+TQDTzGZYDHpNAnUKXvtgck0BCXpELrhuTQNiXAX2DGpNAr0LhElkZk0C6synNLhiTQJFB1KsEF5NAY0TartoVk0AHFjXWsBSTQO4R3iGHE5NAKZXOkV0Sk0Bm/v8lNBGTQPWta94KEJNAugULu+EOk0A/ade7uA2TQKQ9yuCPDJNAp+ncKWcLk0Cg1QiXPgqTQIJrRygWCZNA2xaS3e0Hk0DRROK2xQaTQCNkMbSdBZNAKuV41XUEk0DWObIaTgOTQK/V1oMmApNA1S3gEP8Ak0D9uMfB1/+SQHTvhpaw/pJAG0sXj4n9kkBoR3KrYvySQGlhkes7+5JAvRduTxX6kkCX6gHX7viSQL1bRoLI95JAjO40UaL2kkDvJ8dDfPWSQGOO9llW9JJA96m8kzDzkkBPBBPxCvKSQJko83Hl8JJAlaNWFsDvkkCWAzfemu6SQHrYjcl17ZJAsLNU2FDskkAyKIUKLOuSQIvKGGAH6pJA0zAJ2eLokkCr8k91vueSQESp5jSa5pJAW+/GF3blkkA1YeodUuSSQKOcSkcu45JAA0HhkwrikkA576cD5+CSQLZJmJbD35JAcPSrTKDekkDqlNwlfd2SQCvSIyJa3JJAxFR7QTfbkkDNxtyDFNqSQOPTQenx2JJAKymkcc/XkkBQdf0crdaSQIFoR+uK1ZJAb7R73GjUkkBWDJTwRtOSQPIkiicl0pJAgrRXgQPRkkDIcvb94c+SQAwZYJ3AzpJAE2KOX5/NkkAnCntEfsySQBPPH0xdy5JAInB2djzKkkAfrnjDG8mSQFRLIDP7x5JAjQtnxdrGkkATtEZ6usWSQK4LuVGaxJJApNq3S3rDkkC56jxoWsKSQC0HQqc6wZJAv/zACBvAkkCnmbOM+76SQJqtEzPcvZJAywnb+7y8kkDkgAPnnbuSQA3nhvR+upJA5BFfJGC5kkCF2IV2QbiSQIIT9eoit5JA6JymgQS2kkA5UJQ65rSSQHEKuBXIs5JABqoLE6qykkDfDokyjLGSQF4aKnRusJJAWq/o11CvkkAgsr5dM66SQHAIpgUWrZJAgpmYz/irkkABTpC726qSQAoQh8m+qZJAMct2+aGokkB6bFlLhaeSQF3iKL9oppJAxBzfVEylkkALDXYMMKSSQP+l5+UTo5JA39st4fehkkBWpEL+26CSQIf2Hz3An5JA/sq/naSekkC4GxwgiZ2SQCHkLsRtnJJAFCHyiVKbkkDY0F9xN5qSQCTzcXocmZJAG4kipQGYkkBLlWvx5paSQLAbR1/MlZJAsiGv7rGUkkAjrp2fl5OSQELJDHJ9kpJAtXz2ZWORkkCR01R7SZCSQE/aIbIvj5JA155XChaOkkB2MPCD/IySQOKf5R7ji5JAOv8x28mKkkAEYs+4sImSQC3dt7eXiJJACofl136HkkBVd1IZZoaSQC7H+HtNhZJAG5HS/zSEkkAH8dmkHIOSQEIECWsEgpJAgOlZUuyAkkDYwMZa1H+SQMWrSYS8fpJAKM3czqR9kkA+SXo6jXySQK5FHMd1e5JAeum8dF56kkAKXVZDR3mSQCXK4jIweJJA9FtcQxl3kkD+Pr10AnaSQCuh/8brdJJAxLEdOtVzkkBuoRHOvnKSQC2i1YKocZJAZ+djWJJwkkDbpbZOfG+SQKcTyGVmbpJASGiSnVBtkkCT3A/2OmySQL+qOm8la5JAWw4NCRBqkkBQRIHD+miSQOeKkZ7lZ5JAvyE4mtBmkkDSSW+2u2WSQHZFMfOmZJJAWVh4UJJjkkCCxz7OfWKSQE/ZfmxpYZJAetUyK1VgkkARBVUKQV+SQHqy3wktXpJAdinNKRldkkAWtxdqBVySQMepucrxWpJASVGtS95ZkkCy/uzsyliSQG0Ec663V5JAObY5kKRWkkAraTuSkVWSQKtzcrR+VJJAdC3Z9mtTkkCU72lZWVKSQGwUH9xGUZJAsffyfjRQkkBn9t9BIk+SQOVu4CQQTpJA1MDuJ/5MkkAsTQVL7EuSQDd2Ho7aSpJAjp808chJkkAaLkJ0t0iSQBSIQRemR5JAAhUt2pRGkkC6Pf+8g0WSQF9ssr9yRJJAZQxB4mFDkkCHiqUkUUKSQNNU2oZAQZJAodrZCDBAkkCVjJ6qHz+SQKDcImwPPpJA/T1hTf88kkAzJVRO7zuSQBQI9m7fOpJAvF1Br885kkCQnjAPwDiSQEBEvo6wN5JAxMnkLaE2kkBeq57skTWSQJdm5sqCNJJAQnq2yHMzkkB4ZgnmZDKSQJqs2SJWMZJAT88hf0cwkkCHUtz6OC+SQHa7A5YqLpJAlpCSUBwtkkCpWYMqDiySQLGf0CMAK5JA+ux0PPIpkkASzWp05CiSQMrMrMvWJ5JAOno1QskmkkC6ZP/XuyWSQOUcBY2uJJJAmzRBYaEjkkD8Pq5UlCKSQGvQRmeHIZJAjH4FmXogkkBE4OTpbR+SQLmN31lhHpJAUSDw6FQdkkCxMhGXSBySQMFgPWQ8G5JApEdvUDAakkC/haFbJBmSQLW6zoUYGJJAZofxzgwXkkDwjQQ3ARaSQLBxAr71FJJAP9flY+oTkkByZKko3xKSQFzARwzUEZJATJO7DskQkkDLhv8vvg+SQJ5FDnCzDpJAxnvizqgNkkB/1nZMngySQDwExuiTC5JArrTKo4kKkkC8mH99fwmSQIli33V1CJJAcMXkjGsHkkAEdorCYQaSQA8qyxZYBZJAlpihiU4EkkDUeQgbRQOSQDmH+so7ApJAbntymTIBkkBSEmuGKQCSQPwI35Eg/5FAsx3Juxf+kUD5DyQED/2RQISg6moG/JFAPJEX8P36kUBApaWT9fmRQOGgj1Xt+JFApUnQNeX3kUBGZmI03faRQK6+QFHV9ZFA/RtmjM30kUCDSM3lxfORQMMPcV2+8pFAcT5M87bxkUBxolmnr/CRQNsKlHmo75FA9Uf2aaHukUA3K3t4mu2RQEaHHaWT7JFA+i/Y74zrkUBX+qVYhuqRQJO8gd9/6ZFAEE5mhHnokUBgh05Hc+eRQEBCNSht5pFAnlkVJ2flkUCTqelDYeSRQGUPrX5b45FAiGla11XikUCal+xNUOGRQGV6XuJK4JFA4fOqlEXfkUAu58xkQN6RQJk4v1I73ZFAmc18XjbckUDNjACIMduRQAJeRc8s2pFAKipGNCjZkUBk2/22I9iRQPVcZ1cf15FATJt9FRvWkUAAhDvxFtWRQM8FnOoS1JFAnxCaAQ/TkUB9lTA2C9KRQJ6GWogH0ZFAXNcS+APQkUA5fFSFAM+RQNlqGjD9zZFACppf+PnMkUC+AR/e9suRQAmbU+HzypFAKGD4AfHJkUB5TAhA7siRQH5cfpvrx5FA4I1VFOnGkUBo34iq5sWRQABRE17kxJFAu+PvLuLDkUDJmRkd4MKRQH52iyjewZFAT35AUdzAkUDTtjOX2r+RQMAmYPrYvpFA8NXAete9kUBczVAY1ryRQBsXC9PUu5FAaL7qqtO6kUCYz+qf0rmRQCNYBrLRuJFAoGY44dC3kUDCCnwt0LaRQFtVzJbPtZFAXFgkHc+0kUDSJn/AzrORQOnU14DOspFA6HcpXs6xkUAzJm9YzrCRQEv3o2/Or5FAzgPDo86ukUBxZcf0zq2RQAo3rGLPrJFAh5Rs7c+rkUDwmgOV0KqRQGpobFnRqZFAMhyiOtKokUCg1p8406eRQCO5YFPUppFAR+bfitWlkUCugRjf1qSRQBSwBVDYo5FAS5ei3dmikUA/XuqH26GRQPQs2E7doJFAgyxnMt+fkUAfh5Iy4Z6RQA1oVU/jnZFArvuqiOWckUB2b47e55uRQO/x+lDqmpFAt7Lr3+yZkUCE4luL75iRQCCzRlPyl5FAaVenN/WWkUBQA3k4+JWRQN3rtlX7lJFAKUdcj/6TkUBhTGTlAZORQMYzylcFkpFAqTaJ5giRkUBzj5yRDJCRQJh5/1gQj5FAozGtPBSOkUAv9aA8GI2RQOcC1lgcjJFAiZpHkSCLkUDi/PDlJIqRQNFrzVYpiZFAQirY4y2IkUA1fAyNMoeRQLWmZVI3hpFA3+/eMzyFkUDfnnMxQYSRQO37HktGg5FAU1DcgEuCkUBl5qbSUIGRQIcJekBWgJFAKgZRylt/kUDLKSdwYX6RQPfC9zFnfZFAQyG+D218kUBUlXUJc3uRQNdwGR95epFAiQalUH95kUAvqhOehXiRQJuwYAeMd5FAqW+HjJJ2kUA+PoMtmXWRQEx0T+qfdJFAzWrnwqZzkUDFe0a3rXKRQEECaMe0cZFAVlpH87twkUAm4d86w2+RQNX0LJ7KbpFAlPQpHdJtkUCcQNK32WyRQCg6IW7ha5FAgkMSQOlqkUD1v6At8WmRQNQTyDb5aJFAfKSDWwFokUBL2M6bCWeRQKgWpfcRZpFA/8cBbxplkUDBVeABI2SRQGMqPLArY5FAYbEQejRikUA7V1lfPWGRQHGJEWBGYJFAjLY0fE9fkUAYTr6zWF6RQKHAqQZiXZFAuX/ydGtckUD0/ZP+dFuRQOiuiaN+WpFALAfPY4hZkUBcfF8/kliRQBSFNjacV5FA8JhPSKZWkUCQMKZ1sFWRQJHFNb66VJFAlNL5IcVTkUA40+2gz1KRQB5EDTvaUZFA5aJT8ORQkUArbrzA70+RQI4lQ6z6TpFArEnjsgVOkUAgXJjUEE2RQIPfXREcTJFAbVcvaSdLkUBzSAjcMkqRQCk45Gk+SZFAH62+EkpIkUDhLpPWVUeRQPlFXbVhRpFA7nsYr21FkUBCW8DDeUSRQHJvUPOFQ5FA+ETEPZJCkUBIaRejnkGRQNVqRSOrQJFAB9lJvrc/kUBDRCB0xD6RQOo9xETRPZFAVVgxMN48kUDWJmM26zuRQLo9VVf4OpFARjIDkwU6kUC6mmjpEjmRQEsOgVogOJFAKiVI5i03kUB+eLmMOzaRQGai0E1JNZFA+D2JKVc0kUBE594fZTORQE47zTBzMpFAEdhPXIExkUCBXGKijzCRQIVoAAOeL5FA/ZwlfqwukUC8m80Tuy2RQIwH9MPJLJFALISUjtgrkUBPtqpz5yqRQJ5DMnP2KZFAtNImjQUpkUAkC4TBFCiRQHKVRRAkJ5FAFhtneTMmkUB7RuT8QiWRQADDuJpSJJFA9zzgUmIjkUCjYVYlciKRQDzfFhKCIZFA6GQdGZIgkUDComU6oh+RQNZJ63WyHpFAIQyqy8IdkUCQnJ070xyRQAKvwcXjG5FARvgRavQakUAdLoooBRqRQDMHJgEWGZFAKTvh8yYYkUCOgrcAOBeRQN6WpCdJFpFAhzKkaFoVkUDkELLDaxSRQD3uyTh9E5FAzYfnx44SkUC4mwZxoBGRQBHpIjSyEJFA2y84EcQPkUADMUII1g6RQGSuPBnoDZFAxmojRPoMkUDcKfKIDAyRQEmwpOceC5FAlsM2YDEKkUA+KqTyQwmRQKKr6J5WCJFAEhAAZWkHkUDHIOZEfAaRQOSnlj6PBZFAeXANUqIEkUB+RkZ/tQORQNX2PMbIApFATE/tJtwBkUCXHlOh7wCRQFU0ajUDAJFAD2Eu4xb/kEA0dpuqKv6QQB5GrYs+/ZBADqRfhlL8kEArZK6aZvuQQIlblch6+pBAHmAQEI/5kEDKSBtxo/iQQFPtseu395BAZybQf8z2kECXzXEt4fWQQGG9kvT19JBAINEu1Qr0kEAe5UHPH/OQQILWx+I08pBAX4O8D0rxkECpyhtWX/CQQDqM4bV075BA0agJL4rukEAQApDBn+2QQH96cG217JBAiPWmMsvrkEB6Vy8R4eqQQIaFBQn36ZBAwGUlGg3pkEAg34pEI+iQQIHZMYg555BAnz0W5U/mkEAY9TNbZuWQQG3qhup85JBAAAkLk5PjkEAUPbxUquKQQM9zli/B4ZBANpuVI9jgkEAvorUw79+QQIN48lYG35BA1g5Ilh3ekECwVrLuNN2QQHlCLWBM3JBAd8W06mPbkEDQ00SOe9qQQIdi2UqT2ZBAgWduIKvYkECA2f8Ow9eQQCSwiRbb1pBA6+MHN/PVkEAzbnZwC9WQQDZJ0cIj1JBACnAULjzTkECl3juyVNKQQNmRQ09t0ZBAU4cnBYbQkECfvePTns+QQCQ0dLu3zpBAJOvUu9DNkEDA4wHV6cyQQPIf9wYDzJBAjqKwURzLkEBHbyq1NcqQQKmKYDFPyZBAGfpOxmjIkEDYw/FzgseQQAPvRDqcxpBAjoNEGbbFkEBIiuwQ0MSQQNkMOSHqw5BAwxUmSgTDkEBgsK+LHsKQQOTo0eU4wZBAW8yIWFPAkECqaNDjbb+QQI3MpIeIvpBAmQcCRKO9kEA6KuQYvryQQLNFRwbZu5BAIGwnDPS6kEBysIAqD7qQQHMmT2EquZBAweKOsEW4kEDT+jsYYbeQQPSEUph8tpBARZjOMJi1kEC/TKzhs7SQQC+756rPs5BANf18jOuykEBJLWiGB7KQQLhmpZgjsZBAocUwwz+wkED6ZgYGXK+QQItoImF4rpBA8eiA1JStkECdBx5gsayQQNLk9QPOq5BAqaEEwOqqkEAKYEaUB6qQQLNCt4AkqZBANW1ThUGokEDvAxeiXqeQQBks/tZ7ppBAtQsFJJmlkECdySeJtqSQQHuNYgbUo5BAyH+xm/GikEDQyRBJD6KQQLCVfA4toZBAVQ7x60qgkEB8X2rhaJ+QQLO15O6GnpBAVz5cFKWdkECXJ81Rw5yQQG+gM6fhm5BAqtiLFACbkEDmANKZHpqQQItKAjc9mZBA1OcY7FuYkEDHCxK5epeQQDvq6Z2ZlpBA0recmriVkEAAqiav15SQQAP3g9v2k5BA59WwHxaTkECGfql7NZKQQIgpau9UkZBAYBDvenSQkEBObTQelI+QQF57NtmzjpBAanbxq9ONkEAWm2GW84yQQNImg5gTjJBA2ldSsjOLkEA1bcvjU4qQQLWm6ix0iZBA+ESsjZSIkEBkiQwGtYeQQC22B5bVhpBATw6aPfaFkECP1b/8FoWQQH9QddM3hJBAecS2wViDkECfd4DHeYKQQN+wzuSagZBA7redGbyAkEBK1ell3X+QQDpSr8n+fpBAzXjqRCB+kEDck5fXQX2QQAbvsoFjfJBAsNY4Q4V7kEAMmCUcp3qQQA6BdQzJeZBAdeAkFOt4kEDDBTAzDXiQQEVBk2kvd5BADORKt1F2kEDwP1McdHWQQI6nqJiWdJBAS25HLLlzkEBP6CvX23KQQIxqUpn+cZBAtEq3ciFxkEBC31ZjRHCQQHN/LWtnb5BATIM3iopukECUQ3HArW2QQNYZ1w3RbJBAZGBlcvRrkEBQchjuF2uQQHOr7IA7apBAaWjeKl9pkECOBurrgmiQQAbkC8SmZ5BAtV9As8pmkEBC2YO57mWQQBax0tYSZZBAX0gpCzdkkEAJAYRWW2OQQMY937h/YpBABmI3MqRhkED90YjCyGCQQKHyz2ntX5BApikJKBJfkECD3TD9Nl6QQHB1Q+lbXZBAZFk97IBckEAY8hoGpluQQASp2DbLWpBAYOhyfvBZkEAlG+bcFVmQQAqtLlI7WJBAhgpJ3mBXkEDQoDGBhlaQQNzd5DqsVZBAXTBfC9JUkEDHB53y91OQQErUmvAdU5BA1gZVBURSkEAXEcgwalGQQHdl8HKQUJBAIXfKy7ZPkED4uVI73U6QQKCihcEDTpBAeaZfXipNkECgO90RUUyQQO/Y+tt3S5BA+/W0vJ5KkEAXCwi0xUmQQFGR8MHsSJBAcgJr5hNIkEAC2XMhO0eQQECQB3NiRpBAK6Qi24lFkEB5kcFZsUSQQJ3V4O7YQ5BAxe58mgBDkEDZW5JcKEKQQHqcHTVQQZBABjEbJHhAkECSmocpoD+QQPBaX0XIPpBAqPSed/A9kED+6kLAGD2QQPDBRx9BPJBAMf6plGk7kEAxJWYgkjqQQBa9eMK6OZBAwEzeeuM4kEDHW5NJDDiQQHtylC41N5BA4xneKV42kEDA22w7hzWQQIdCPWOwNJBAaNlLodkzkEBILJX1AjOQQMXHFWAsMpBAMDnK4FUxkECVDq93fzCQQLPWwCSpL5BAAyH859IukECvfV3B/C2QQJt94bAmLZBAYLKEtlAskEBLrkPSeiuQQF8EGwSlKpBAVUgHTM8pkECaDgWq+SiQQFDsEB4kKJBAT3cnqE4nkEAgRkVIeSaQQAXwZv6jJZBA7gyJys4kkECGNais+SOQQCYDwaQkI5BA3A/Qsk8ikEBs9tHWeiGQQEhSwxCmIJBAm7+gYNEfkEA+22bG/B6QQL5CEkIoHpBAXZSf01MdkEALbwt7fxyQQG5yUjirG5BA2j5xC9cakEBXdWT0AhqQQKC3KPMuGZBAH6i6B1sYkEDv6RYyhxeQQN0gOnKzFpBAaPEgyN8VkEC9AMgzDBWQQLv0K7U4FJBA8XNJTGUTkECfJR35kRKQQLOxo7u+EZBAzcDZk+sQkEA7/LuBGBCQQPsNR4VFD5BAuqB3nnIOkEDUX0rNnw2QQFX3uxHNDJBA9hPJa/oLkEAgY27bJwuQQOiSqGBVCpBAFVJ0+4IJkEAaUM6rsAiQQBU9s3HeB5BA18kfTQwHkEDcpxA+OgaQQEuJgkRoBZBA/SByYJYEkEBzItyRxAOQQN9BvdjyApBAHDQSNSECkEC1rtemTwGQQN9nCi5+AJBA9ixOlVn/j0As5FT5tv2PQNZlIogU/I9AuyOwQXL6j0D9kPcl0PiPQBMi8jQu949AykyZboz1j0BGiObS6vOPQP9M02FJ8o9AwRRZG6jwj0CyWnH/Bu+PQEebFQ5m7Y9ASlQ/R8Xrj0DdBOiqJOqPQHAtCTmE6I9Ayk+c8ePmj0AB75rUQ+WPQIOP/uGj449ACrfAGQTij0Cl7Np7ZOCPQLa4RgjF3o9A66T9viXdj0BJPPmfhtuPQB8LM6vn2Y9AEZ+k4EjYj0ASh0dAqtaPQGNTFcoL1Y9Ak5UHfm3Tj0CD4Bdcz9GPQGDIP2Qx0I9ApuJ4lpPOj0Aexrzy9cyPQOEKBXlYy49AUEpLKbvJj0AeH4kDHsiPQEkluAeBxo9AGPrRNeTEj0AjPNCNR8OPQEmLrA+rwY9AtYhguw7Aj0Df1uWQcr6PQIgZNpDWvI9AufVKuTq7j0DKER4Mn7mPQFgVqYgDuI9ASqnlLmi2j0DSd83+zLSPQGcsWvgxs49AzHOFG5exj0AI/Eho/K+PQG50nt5hro9AlI1/fsesj0BZ+eVHLauPQOJqyzqTqY9AmpYpV/mnj0A0MvqcX6aPQKX0NgzGpI9AK5bZpCyjj0BF0Ntmk6GPQLpdN1L6n49AlfrlZmGej0AjZOGkyJyPQPVYIwwwm49A4ZilnJeZj0D/5GFW/5ePQKv/UTlnlo9AgaxvRc+Uj0BisLR6N5OPQG3RGtmfkY9ABdebYAiQj0DOiTERcY6PQKyz1erZjI9Axh+C7UKLj0B/mjAZrImPQH7x2m0ViI9ApvN6636Gj0AbcQqS6ISPQEA7g2FSg49AtyTfWbyBj0BfARh7JoCPQFamJ8WQfo9A+ekHOPt8j0Ddo7LTZXuPQNusIZjQeY9ABN9OhTt4j0CoFTSbpnaPQFEty9kRdY9AxgMOQX1zj0AKePbQ6HGPQFpqfolUcI9AL7yfasBuj0A8UFR0LG2PQG4KlqaYa49A7M9eAQVqj0AXh6iEcWiPQIoXbTDeZo9AFmqmBEtlj0DJaE4BuGOPQOn+XiYlYo9A7hjSc5Jgj0CQpKHp/16PQLqQx4dtXY9Ajc09Tttbj0BlTP48SVqPQNP/AlS3WI9AnNtFkyVXj0C+1MD6k1WPQGvhbYoCVI9ADPlGQnFSj0A7FEYi4FCPQMwsZSpPT49Axj2eWr5Nj0BhQ+uyLUyPQAw7RjOdSo9AaSOp2wxJj0BN/A2sfEePQMDGbqTsRY9A/oTFxFxEj0BwOgwNzUKPQLnrPH09QY9Aqp5RFa4/j0BCWkTVHj6PQLgmD72PPI9Abw2szAA7j0D7GBUEcjmPQCNVRGPjN49A3M4z6lQ2j0BIlN2YxjSPQMG0O284M49Ax0BIbaoxj0ALSv2SHDCPQHDjVOCOLo9ABiFJVQEtj0AHGNTxcyuPQN/e77XmKY9AJo2WoVkoj0CiO8K0zCaPQEMEbe8/JY9AJwKRUbMjj0CbUSjbJiKPQBIQLYyaII9AL1yZZA4fj0C/VWdkgh2PQLwdkYv2G49ARtYQ2moaj0CsouBP3xiPQGWn+uxTF49AEQpZscgVj0B98fWcPRSPQJuFy6+yEo9Aiu/T6ScRj0CPWQlLnQ+PQBbvZdMSDo9AuNzjgogMj0AzUH1Z/gqPQGt4LFd0CY9Ab4Xre+oHj0BwqLTHYAaPQMwTgjrXBI9AAftN1E0Dj0C3khKVxAGPQLwQynw7AI9AAaxui7L+jkCfnPrAKf2OQNEbaB2h+45A+mOxoBj6jkCgsNBKkPiOQGs+wBsI945ALEt6E4D1jkDRFfkx+POOQHHeNndw8o5AQuYt4+jwjkChb9h1Ye+OQAe+MC/a7Y5AFhYxD1PsjkCOvdMVzOqOQFL7EkNF6Y5AZBfplr7njkDsWlAROOaOQC0QQ7Kx5I5Aj4K7eSvjjkCX/rNnpeGOQOvRJnwf4I5AUksOt5nejkCyumQYFN2OQAxxJKCO245AicBHTgnajkBl/MgihNiOQAN5oh3/1o5A4YvOPnrVjkCbi0eG9dOOQOnPB/Rw0o5ApLEJiOzQjkC8ikdCaM+OQES2uyLkzY5AZZBgKWDMjkBrdjBW3MqOQLfGJalYyY5Ay+A6ItXHjkBCJWrBUcaOQNH1rYbOxI5ASbUAckvDjkCVx1yDyMGOQLuRvLpFwI5A2nkaGMO+jkAq53CbQL2OQP9BukS+u45Aw/PwEzy6jkD8Zg8JuriOQEQHECQ4t45AUkHtZLa1jkDygqHLNLSOQAs7J1izso5Altl4CjKxjkCqz5DisK+OQG6PaeAvro5AJoz9A6+sjkAoOkdNLquOQOIOQbytqY5A14DlUC2ojkCjBy8LraaOQPIbGOsspY5AiDeb8KyjjkA+1bIbLaKOQAFxWWytoI5A0oeJ4i2fjkDHlz1+rp2OQAkgcD8vnI5A1KAbJrCajkB5mzoyMZmOQFqSx2Oyl45A7Ai9ujOWjkC4gxU3tZSOQFmIy9g2k45Ae53Zn7iRjkDZSjqMOpCOQEYZ6J28jo5AoJLd1D6NjkDZQRUxwYuOQPOyibJDio5AAXM1WcaIjkAkEBMlSYeOQI8ZHRbMhY5Agx9OLE+EjkBSs6Bn0oKOQFxnD8hVgY5AEc+UTdl/jkDtfiv4XH6OQHwMzsfgfI5AWg53vGR7jkAsHCHW6HmOQKnOxhRteI5Ak79iePF2jkC6ie8AdnWOQPrIZ676c45AOxrGgH9yjkB0GwV4BHGOQKNrH5SJb45A2KoP1Q5ujkAqetA6lGyOQL17XMUZa45AvlKudJ9pjkBoo8BIJWiOQP4SjkGrZo5AzEcRXzFljkAu6USht2OOQIOfIwg+Yo5AOBSok8RgjkC+8cxDS1+OQJXjjBjSXY5AQpbiEVlcjkBTt8gv4FqOQGH1OXJnWY5ABwAx2e5XjkDvh6hkdlaOQMQ+mxT+VI5APNcD6YVTjkATBd3hDVKOQA19If+VUI5A8fTLQB5PjkCOI9empk2OQLzAPTEvTI5AVYX637dKjkA4KwizQEmOQExtYarJR45AfAcBxlJGjkC3tuEF3ESOQPE4/mllQ45AI01R8u5BjkBIs9WeeECOQGAshm8CP45Ab3pdZIw9jkB9YFZ9FjyOQJCia7qgOo5AuQWYGys5jkAEUNagtTeOQIRIIUpANo5AS7dzF8s0jkBvZcgIVjOOQAcdGh7hMY5AKaljV2wwjkDy1Z+09y6OQHlwyTWDLY5A2Ubb2g4sjkAsKNCjmiqOQI/kopAmKY5AG01OobInjkDtM83VPiaOQBxsGi7LJI5AwskwqlcjjkD3IQtK5CGOQNNKpA1xII5AaBv39P0ejkDMa/7/ih2OQA8VtS4YHI5APvEVgaUajkBp2xv3MhmOQJevwZDAF45AzUoCTk4WjkATi9gu3BSOQGRPPzNqE45Av3cxW/gRjkAc5ammhhCOQG15oxUVD45AoxcZqKMNjkCpowVeMgyOQGUCZDfBCo5AtRkvNFAJjkB50GFU3weOQIIO95duBo5Apbzp/v0EjkCoxDSJjQOOQE8R0zYdAo5AWo6/B60AjkB8KPX7PP+NQGbNbhPN/Y1AwGsnTl38jUAp8xms7fqNQDxUQS1++Y1AiYCY0Q74jUCZahqZn/aNQOwFwoMw9Y1A+UaKkcHzjUAxI27CUvKNQPiQaBbk8I1Aqod0jXXvjUCc/4wnB+6NQBbyrOSY7I1AVVnPxCrrjUCSMO/HvOmNQPVzB+5O6I1AnSATN+HmjUCgNA2jc+WNQAev8DEG5I1A0Y+445jijUDv11+4K+GNQEqJ4a++341AuqY4ylHejUAPNGAH5dyNQAo2U2d4241AYbIM6gvajUC9r4ePn9iNQLU1v1cz141A20yuQsfVjUCs/k9QW9SNQJpVn4Dv0o1ACl2X04PRjUBRITNJGNCNQLavbeGszo1AcRZCnEHNjUCrZKt51suNQH+qpHlryo1A9fgonADJjUAJYjPhlceNQKf4vkgrxo1AqdDG0sDEjUDZ/kV/VsONQPGYN07swY1AmrWWP4LAjUBrbF5TGL+NQO3ViYmuvY1AlAsU4kS8jUDFJ/hc27qNQM5FMfpxuY1A84G6uQi4jUBe+Y6bn7aNQCvKqZ82tY1AZBMGxs2zjUD79J4OZbKNQNKPb3n8sI1AuAVzBpSvjUBpeaS1K66NQIoO/4bDrI1Arel9elurjUBRMByQ86mNQOEI1ceLqI1AspqjISSnjUACDoOdvKWNQP2LbjtVpI1AuT5h++2ijUA2UVbdhqGNQF3vSOEfoI1AAkY0B7mejUDkghNPUp2NQKnU4bjrm41A4mqaRIWajUAJdjjyHpmNQH8nt8G4l41AkLERs1KWjUBxR0PG7JSNQDwdR/uGk41A9mcYUiGSjUCJXbLKu5CNQMo0EGVWj41AciUtIfGNjUAjaAT/i4yNQGg2kf4mi41ArcrOH8KJjUBKYLhiXYiNQHozScf4ho1AYIF8TZSFjUAEiE31L4SNQFSGt77Lgo1AJLy1qWeBjUArakO2A4CNQAfSW+Sffo1AOzb6Mzx9jUAv2hml2HuNQCwCtjd1eo1AY/PJ6xF5jUDo81DBrneNQLJKRrhLdo1Amz+l0Oh0jUBjG2kKhnONQKonjWUjco1A9q4M4sBwjUCt/OJ/Xm+NQBldCz/8bY1AZB2BH5psjUCgiz8hOGuNQLr2QUTWaY1AhK6DiHRojUCzAwDuEmeNQNlHsnSxZY1Abc2VHFBkjUDF56Xl7mKNQBjr3c+NYY1AfSw52yxgjUDsAbMHzF6NQD7CRlVrXY1AKcXvwwpcjUBFY6lTqlqNQAj2bgRKWY1AyNc71ulXjUC8YwvJiVaNQPT12NwpVY1AZeufEcpTjUDfoVtnalKNQBJ4B94KUY1Aic2edatPjUCuAh0uTE6NQM54fQftTI1ACZK7AY5LjUBmsdIcL0qNQMM6vljQSI1A35J5tXFHjUBPHwAzE0aNQIxGTdG0RI1A529ckFZDjUCNAylw+EGNQIlqrnCaQI1AwA7okTw/jUDwWtHT3j2NQLm6ZTaBPI1AjpqguSM7jUDDZ31dxjmNQIKQ9yFpOI1A04MKBww3jUCWsbEMrzWNQIWK6DJSNI1ANYCqefUyjUAVBfPgmDGNQGuMvWg8MI1AWIoFEeAujUDUc8bZgy2NQLS++8InLI1AouGgzMsqjUAgVLH2bymNQIyOKEEUKI1AFwoCrLgmjUDNQDk3XSWNQJKtyeIBJI1AIMyurqYijUAIGeSaSyGNQLMRZafwH41AYTQt1JUejUAnADghOx2NQPL0gI7gG41AhZMDHIYajUB5XbvJKxmNQDzVo5fRF41AEn64hXcWjUAX3PSTHRWNQDh0VMLDE41AOczSEGoSjUC1amt/EBGNQBjXGQ63D41ApZnZvF0OjUBzO6aLBA2NQGtGe3qrC41ATkVUiVIKjUCswyy4+QiNQO1NAAehB41ASHHKdUgGjUDMu4YE8ASNQFe8MLOXA41AmwLEgT8CjUAcHzxw5wCNQDKjlH6P/4xACCHJrDf+jECWK9X63/yMQK1WtGiI+4xA6DZi9jD6jEC5Ydqj2fiMQGJtGHGC94xA9fAXXiv2jEBWhNRq1PSMQDjASZd984xAID5z4ybyjEBjmExP0PCMQChq0dp574xAYU/9hSPujEDW5MtQzeyMQBjIODt364xAjZc/RSHqjEBm8ttuy+iMQKh4Cbh154xAIMvDICDmjEBviwapyuSMQAVczVB144xAG+ATGCDijEC8u9X+yuCMQL+TDgV234xAzQ26KiHejEBV0NNvzNyMQJqCV9R324xAqsxAWCPajEBfV4v7ztiMQF/MMr5614xAIdYyoCbWjEDjH4eh0tSMQLNVK8J+04xAaCQbAivSjECoOVJh19CMQONDzN+Dz4xAVfKEfTDOjEAE9Xc63cyMQML8oBaKy4xALrv7ETfKjECu4oMs5MiMQHUmNWaRx4xAgDoLvz7GjECV0wE37MSMQEenFM6Zw4xA72s/hEfCjECy2H1Z9cCMQICly02jv4xADYskYVG+jEDcQoST/7yMQDaH5uStu4xALBNHVVy6jECaoqHkCrmMQCPy8ZK5t4xAM78zYGi2jED8x2JMF7WMQHvLelfGs4xAcYl3gXWyjEBqwlTKJLGMQLc3DjLUr4xAdKufuIOujEB84AReM62MQHqaOSLjq4xA2505BZOqjEDPrwAHQ6mMQFaWiifzp4xAKxjTZqOmjEDX/NXEU6WMQKYMj0EEpIxAqBD63LSijEC00hKXZaGMQGcd1W8WoIxAIrw8Z8eejEAKe0V9eJ2MQAon67EpnIxA0Y0pBduajEDTffx2jJmMQEfGXwc+mIxAKTdPtu+WjEA4ocaDoZWMQPfVwW9TlIxArKc8egWTjEBi6TKjt5GMQOVuoOppkIxAxQyBUByPjEBTmNDUzo2MQKbnineBjIxAldGrODSLjEC4LS8Y54mMQG3UEBaaiIxA0p5MMk2HjEDEZt5sAIaMQOcGwsWzhIxAmlrzPGeDjEAEPm7SGoKMQAaOLobOgIxASSgwWIJ/jEAw625INn6MQOO15lbqfIxASWiTg557jEAK43DOUnqMQIsHezcHeYxA9betvrt3jEAs1wRkcHaMQNpIfCcldYxAYfEPCdpzjEDotbsIj3KMQFF8eyZEcYxAPytLYvlvjEAUqia8rm6MQO3gCTRkbYxAqrjwyRlsjEDmGtd9z2qMQPzxuE+FaYxAAymSPztojEDRq15N8WaMQPhmGnmnZYxAyEfBwl1kjEBPPE8qFGOMQFYzwK/KYYxAZhwQU4FgjEDA5zoUOF+MQGeGPPPuXYxAF+oQ8KVcjEBGBbQKXVuMQCrLIUMUWoxAtC9WmctYjECPJ00Ng1eMQCOoAp86VoxAkqdyTvJUjEC6HJkbqlOMQDT/cQZiUoxAVEf5DhpRjEAn7io10k+MQHftAnmKToxAxj992kJNjEBS4JVZ+0uMQBHLSPazSoxAtPyRsGxJjECmcm2IJUiMQAsr133eRoxAwCTLkJdFjEBeX0XBUESMQDHbQQ8KQ4xAQ5m8esNBjEBVm7EDfUCMQODjHKo2P4xAFnb6bfA9jEDiVUZPqjyMQOaH/E1kO4xAeREZah46jECx+Jej2DiMQFVEdfqSN4xA5fusbk02jECZJzsACDWMQGHQG6/CM4xA4f9Ke30yjEB3wMRkODGMQDUdhWvzL4xA5CGIj64ujEAF28nQaS2MQM1VRi8lLIxAJqD5quAqjEC0yN9DnCmMQM3e9PlXKIxAffI0zRMnjECGFJy9zyWMQGBWJsuLJIxANsrP9UcjjEDogpQ9BCKMQAuUcKLAIIxA6hFgJH0fjECCEV/DOR6MQIeoaX/2HIxAXu17WLMbjEAj95FOcBqMQKDdp2EtGYxAW7m5keoXjECFo8PepxaMQAm2wUhlFYxAgAuwzyIUjEA5v4pz4BKMQDTtTTSeEYxAJrL1EVwQjEB1K34MGg+MQDZ34yPYDYxANrQhWJYMjEDxATWpVAuMQJSAGRcTCoxAAFHLodEIjEDGlEZJkAeMQChuhw1PBoxAGQCK7g0FjEBAbkrszAOMQPHcxAaMAoxANHH1PUsBjEDAUNiRCgCMQPuhaQLK/otA/Yulj4n9i0CQNog5SfyLQCrKDQAJ+4tA8m8y48j5i0DCUfLiiPiLQB6aSf9I94tAP3Q0OAn2i0AIDK+NyfSLQA+Otf+J84tAlidEjkryi0CQBlc5C/GLQJ9Z6gDM74tAD1D65Izui0DhGYPlTe2LQL3ngAIP7ItA/+rvO9Dqi0CuVcyRkemLQH1aEgRT6ItA0iy+khTni0C7AMw91uWLQPUKOAWY5ItA64D+6Fnji0C0mBvpG+KLQBSJiwXe4ItAe4lKPqDfi0AG0lSTYt6LQICbpgQl3YtAXh88kufbi0DAlxE8qtqLQHU/IwJt2YtA9lFt5C/Yi0BnC+zi8taLQJmom/211YtAB2d4NHnUi0DZhH6HPNOLQN9Aqvb/0YtAltr3gcPQi0AkkmMph8+LQF2o6exKzotAvF6GzA7Ni0Bm9zXI0suLQC219N+WyotAjNu+E1vJi0CkrpBjH8iLQEZzZs/jxotA6G48V6jFi0Cq5w77bMSLQFck2roxw4tAYmyalvbBi0DnB0yOu8CLQKk/66GAv4tAFl100UW+i0BFquMcC72LQPRxNYTQu4tAh/9lB5a6i0APn3GmW7mLQECdVGEhuItAeEcLOOe2i0C/65EqrbWLQMHY5DhztItA0V0AYzmzi0DsyuCo/7GLQLRwggrGsItAcaDhh4yvi0AWrPogU66LQDjmydUZrYtAFaJLpuCri0CQM3ySp6qLQDTvV5puqYtALyrbvTWoi0BYOgL9/KaLQCh2yVfEpYtAwzQtzouki0DuzSlgU6OLQBWauw0bootASfLe1uKgi0A+MJC7qp+LQFKuy7tynotAgseN1zqdi0B019IOA5yLQG86l2HLmotAYU3Xz5OZi0DbbY9ZXJiLQBL6u/4kl4tA3VBZv+2Vi0C80WObtpSLQM7c15J/k4tA1dKxpUiSi0A8Fe7TEZGLQAoGiR3bj4tA7Qd/gqSOi0A3fswCbo2LQNrMbZ43jItAa1hfVQGLi0Aihp0ny4mLQNy7JBWViItAE2DxHV+Hi0Dn2f9BKYaLQBiRTIHzhItACu7T272Di0C/WZJRiIKLQN89hOJSgYtAsASmjh2Ai0AaGfRV6H6LQKbmajizfYtAf9kGNn58i0BxXsROSXuLQObin4IUeotA7NSV0d94i0Auo6I7q3eLQPy8wsB2dotAQJLyYEJ1i0CJky4cDnSLQAUyc/LZcotAft+846Vxi0BjDgjwcXCLQL0xURc+b4tAOr2UWQpui0AjJc+21myLQGHe/C6ja4tAfl4awm9qi0CfGyRwPGmLQImMFjkJaItAoyjuHNZmi0DuZ6cbo2WLQArDPjVwZItAN7OwaT1ji0BSsvm4CmKLQNQ6FiPYYItA2McCqKVfi0AQ1btHc16LQNPePQJBXYtAD2KF1w5ci0BS3I7H3FqLQMjLVtKqWYtAOK/Z93hYi0AGBhQ4R1eLQDNQApMVVotAXQ6hCORUi0C9weyYslOLQCns4UOBUotAFBB9CVBRi0CLsLrpHlCLQDhRl+TtTotAYHYP+rxNi0DmpB8qjEyLQERixHRbS4tAlDT62SpKi0CIor1Z+kiLQGwzC/TJR4tALG/fqJlGi0BK3jZ4aUWLQOQJDmI5RItAsXthZglDi0AIvi2F2UGLQNRbb76pQItAnOAiEno/i0CC2ESASj6LQEDQ0QgbPYtALlXGq+s7i0A39R5pvDqLQOQ+2ECNOYtAV8HuMl44i0BJDF8/LzeLQA+wJWYANotAlT0/p9E0i0BfRqgCozOLQIxcXXh0MotA0RJbCEYxi0B+/J2yFzCLQHqtInfpLotARLrlVbsti0Dzt+NOjSyLQDY8GWJfK4tAVN2CjzEqi0ArMh3XAymLQDPS5DjWJ4tAd1XWtKgmi0CdVO5KeyWLQOBoKftNJItAEiyExSAji0CfOPup8yGLQIUpi6jGIItAXJowwZkfi0BSJ+jzbB6LQCltrkBAHYtAPAmApxMci0B8mVko5xqLQG68N8O6GYtALREXeI4Yi0BsN/RGYheLQHPPyy82FotAHXqaMgoVi0Dc2FxP3hOLQLiND4ayEotATjuv1oYRi0DNhDhBWxCLQP0NqMUvD4tAOnv6YwQOi0BxcSwc2QyLQCaWOu6tC4tAco8h2oIKi0ACBN7fVwmLQBWbbP8sCItAgfzJOAIHi0Ct0PKL1wWLQJfA4/isBItAy3WZf4IDi0BwmhAgWAKLQDvZRdotAYtAdN01rgMAi0D5Ut2b2f6KQDvmOKOv/YpAOURFxIX8ikCMGv/+W/uKQFkXY1My+opAXOltwQj5ikDhPxxJ3/eKQMjKauq19opAfzpWpYz1ikAMQNt5Y/SKQAKN9mc684pAidOkbxHyikBWxuKQ6PCKQLcYrcu/74pAhH4AIJfuikAqrNmNbu2KQKZWNRVG7IpAhzMQth3rikDs+GZw9emKQIZdNkTN6IpAkxh7MaXnikDm4TE4feaKQOBxV1hV5YpAdIHokS3kikAiyuHkBeOKQP0FQFHe4YpAp+//1rbgikBSQh52j9+KQL25ly5o3opAPBJpAEHdikCuCI/rGdyKQIJaBvDy2opAuMXLDczZikDdCNxEpdiKQA7jM5V+14pA9hPQ/lfWikDRW62BMdWKQGZ7yB0L1IpADzQe0+TSikCuR6uhvtGKQLp4bImY0IpANYpeinLPikCtP36kTM6KQEJdyNcmzYpAn6c5JAHMikD9486J28qKQCLYhAi2yYpAZUpYoJDIikCmAUZRa8eKQFPFShtGxopAaF1j/iDFikBvkoz6+8OKQH0tww/XwopAM/gDPrLBikDBvEuFjcCKQOJFl+Vov4pA3V7jXkS+ikCF0yzxH72KQDxwcJz7u4pA7gGrYNe6ikAQVtk9s7mKQKc6+DOPuIpAQ34EQ2u3ikD/7/pqR7aKQH9f2KsjtYpA9ZyZBQC0ikAfeTt43LKKQETFugO5sYpANVMUqJWwikBR9URlcq+KQH9+STtPropAM8IeKiytikBplMExCayKQKnJLlLmqopABjdji8OpikAZslvdoKiKQAsRFUh+p4pAiyqMy1umikDQ1b1nOaWKQKHqphwXpIpASkFE6vSiikCfspLQ0qGKQAIYj8+woIpAXEs2546fikAdJ4UXbZ6KQEKGeGBLnYpATkQNwimcikBOPUA8CJuKQNdNDs/mmYpAB1N0esWYikCDKm8+pJeKQHuy+xqDlopApskWEGKVikBCT70dQZSKQBUj7EMgk4pAcCWggv+RikAnN9bZ3pCKQJo5i0m+j4pArg680Z2OikDPmGVyfY2KQPK6hCtdjIpAlFgW/TyLikC0VRfnHIqKQN+WhOn8iIpAIwFbBN2HikAZepc3vYaKQN3nNoOdhYpAFDE2532EikDpPJJjXoOKQAzzR/g+gopAtTtUpR+BikCh/7NqAICKQBMoZEjhfopA1Z5hPsJ9ikAzTqlMo3yKQAQhOHOEe4pAogILsmV6ikDr3h4JR3mKQEOicHgoeIpAljn9/wl3ikBRksGf63WKQGmaulfNdIpAVUDlJ69zikAVcz4QkXKKQCkiwxBzcYpAmT1wKVVwikDutUJaN2+KQDp8N6MZbopAD4JLBPxsikCFuXt93muKQDgVxQ7BaopARogkuKNpikBVBpd5hmiKQImDGVNpZ4pAjvSoRExmikCRTkJOL2WKQESH4m8SZIpA3JSGqfViikAQbiv72GGKQBoKzmS8YIpAuWBr5p9fikAtagCAg16KQDcfijFnXYpAH3kF+0pcikCrcW/cLluKQCgDxdUSWopAYCgD5/ZYikCk3CYQ21eKQMIbLVG/VopAEOISqqNVikBhLNUaiFSKQAz4cKNsU4pA50LjQ1FSikBOCyn8NVGKQBtQP8waUIpAqhAjtP9OikDZTNGz5E2KQAUFR8vJTIpADjqB+q5LikBV7XxBlEqKQLsgN6B5SYpAodasFl9IikDqEdukREeKQPnVvkoqRopAryZVCBBFikBzCJvd9UOKQCaAjcrbQopAK5Mpz8FBikBmR2zrp0CKQDujUh+OP4pAja3ZanQ+ikC+bf7NWj2KQLDrvUhBPIpAxC8V2yc7ikDcQgGFDjqKQFcuf0b1OIpAFfyLH9w3ikB0tiQQwzaKQE9oRhiqNYpABB3uN5E0ikBs4BhveDOKQOK+w71fMopAO8XrI0cxikDPAI6hLjCKQG9/pzYWL4pAcU814/0tikCjfzSn5SyKQFIfooLNK4pATj57dbUqikDd7Lx/nSmKQMk7ZKGFKIpAVTxu2m0nikBGANgqViaKQNmZnpI+JYpAzRu/ESckikBcmTaoDyOKQDwmAlb4IYpAodYeG+EgikA/v4n3yR+KQED1P+uyHopAUI4+9psdikCVoIIYhRyKQLRCCVJuG4pAy4vPolcaikB1k9IKQRmKQM1xD4oqGIpAZT+DIBQXikBLFSvO/RWKQA8NBJPnFIpAtEALb9ETikDAyj1iuxKKQDHGmGylEYpAfk4Zjo8QikCgf7zGeQ+KQAZ2fxZkDopAm05ffU4NikDGJln7OAyKQGkcapAjC4pA4E2PPA4KikAB2sX/+AiKQB7gCtrjB4pABIBby84GikD52bTTuQWKQL8OFPOkBIpAjj92KZADikAejth2ewKKQJ0cONtmAYpAtA2SVlIAikCHhOPoPf+JQLKkKZIp/olASpJhUhX9iUDhcYgpAfyJQH9omxft+olAp5uXHNn5iUBUMXo4xfiJQPxPQGux94lAix7ntJ32iUBrxGsVivWJQHlpy4x29IlADTYDG2PziUD7UhDAT/KJQIvp73s88YlAfSOfTinwiUAPKxs4Fu+JQPIqYTgD7olAUE5uT/DsiUDOwD993euJQISu0sHK6olAB0QkHbjpiUBhrjGPpeiJQBMb+BeT54lAGLh0t4DmiUDgs6RtbuWJQFY9hTpc5IlA1oMTHkrjiUA4t0wYOOKJQMwHLikm4YlAV6a0UBTgiUAUxN2OAt+JQLWSpuPw3YlAZEQMT9/ciUDBCwzRzduJQOQbo2m82olAWajOGKvZiUAi5YvemdiJQLsG2LqI14lAEkKwrXfWiUCOzBG3ZtWJQAnc+dZV1IlA1qZlDUXTiUC8Y1JaNNKJQPdJvb0j0YlAOpGjNxPQiUCucQLIAs+JQO8j127yzYlAEOEeLOLMiUCY4tb/0cuJQIVi/OnByolASZuM6rHJiUDLx4QBosiJQGQj4i6Sx4lA6OmhcoLGiUCYV8HMcsWJQDKpPT1jxIlA4BsUxFPDiUBF7UFhRMKJQHlbxBQ1wYlABaWY3iXAiUDoCLy+Fr+JQJbGK7UHvolA8x3lwfi8iUBbT+Xk6buJQJybKR7buolA90Ovbcy5iUAginPTvbiJQEGwc0+vt4lA9vis4aC2iUBNpxyKkrWJQMn+v0iEtIlAXkOUHXaziUB1uZYIaLKJQOilxAlasYlABk4bIUywiUCO95dOPq+JQLXoN5IwrolAHmj46yKtiUDivNZbFayJQIsu0OEHq4lAFgXiffqpiUDxiAkw7aiJQPwCRPjfp4lAiryO1tKmiUBf/+bKxaWJQLAVStW4pIlAJ0q19aujiUDc5yUsn6KJQFk6mXiSoYlAnI0M24WgiUARLn1TeZ+JQJdo6OFsnolAfYpLhmCdiUCG4aNAVJyJQOK77hBIm4lAM2gp9zuaiUCNNVHzL5mJQHVzYwUkmIlA3nFdLRiXiUAvgTxrDJaJQDzy/b4AlYlASxafKPWTiUASPx2o6ZKJQLe+dT3ekYlA0Oel6NKQiUBkDaupx4+JQOiCgoC8jolAQpwpbbGNiUDJrZ1vpoyJQEAM3Iebi4lA3AzitZCKiUBABa35hYmJQIJLOlN7iIlAIzaHwnCHiUAUHJFHZoaJQLZUVeJbhYlA2DfRklGEiUC7HQJZR4OJQApf5TQ9golA4lR4JjOBiUDPWLgtKYCJQMfEokoff4lANfM0fRV+iUDuPmzFC32JQDQDRiMCfIlAvZu/lvh6iUCoZNYf73mJQIO6h77leIlAS/rQctx3iUBrga8803aJQLqtIBzKdYlAf90hEcF0iUBsb7AbuHOJQKLCyTuvcolAsDZrcaZxiUCSK5K8nXCJQK8BPB2Vb4lA3Rlmk4xuiUBg1Q0fhG2JQOiVMMB7bIlAkL3LdnNriUDjrtxCa2qJQNfMYCRjaYlAznpVG1toiUCZHLgnU2eJQHQWhklLZolABc28gENliUBhpVnNO2SJQAoFWi80Y4lA7FG7pixiiUBg8nozJWGJQCpNltUdYIlAfMkKjRZfiUDwztVZD16JQJDF9DsIXYlAzhVlMwFciUCLKCRA+lqJQBBnL2LzWYlAFDuEmexYiUC3DiDm5VeJQIZMAEjfVolAd18iv9hViUDtsoNL0lSJQLeyIe3LU4lACsv5o8VSiUCLaAlwv1GJQEj4TVG5UIlAt+fER7NPiUC7pGtTrU6JQKGdP3SnTYlAIUE+qqFMiUBd/mT1m0uJQN5EsVWWSolAnIQgy5BJiUD2LbBVi0iJQLexXfWFR4lAEIEmqoBGiUCfDQh0e0WJQGvJ/1J2RIlA5iYLR3FDiUDmmCdQbEKJQLKSUm5nQYlA9YeJoWJAiUDF7MnpXT+JQKE1EUdZPolAcddcuVQ9iUCGR6pAUDyJQJr79txLO4lA0GlAjkc6iUCzCIRUQzmJQDdPvy8/OIlAurTvHzs3iUD/sBIlNzaJQDe8JT8zNYlA9U4mbi80iUA44hGyKzOJQGjv5QooMolAUPCfeCQxiUAqXz37IDCJQJO2u5IdL4lAkXEYPxouiUCSC1EAFy2JQGwAY9YTLIlAW8xLwRAriUAG7AjBDSqJQHncl9UKKYlAJhv2/gcoiUDoJSE9BSeJQAF7FpACJolAHJnT9/8kiUBH/1V0/SOJQPosmwX7IolAEqKgq/ghiUDW3mNm9iCJQO9j4jX0H4lAcLIZGvIeiUDSSwcT8B2JQPSxqCDuHIlAGmf7QuwbiUDy7fx56hqJQI3JqsXoGYlAYn0CJucYiUBRjQGb5ReJQJx9pSTkFolA79LrwuIViUBaEtJ14RSJQFLBVT3gE4lAsmV0Gd8SiUC7hSsK3hGJQBOoeA/dEIlAxlNZKdwPiUBGEMtX2w6JQGhly5raDYlAattX8tkMiUDq+m1e2QuJQPBMC9/YColA5VotdNgJiUCYrtEd2AiJQEDS9dvXB4lAc1CXrtcGiUAxtLOV1wWJQNuISJHXBIlAOFpTodcDiUBztNHF1wKJQB0kwf7XAYlAKDYfTNgAiUDtd+mt2P+IQCZ3HSTZ/ohA9MG4rtn9iEDc5rhN2vyIQMZ0GwHb+4hA+vrdyNv6iEArCf6k3PmIQGoveZXd+IhALv5Mmt73iEBRBnez3/aIQA7Z9ODg9YhACQjEIuL0iEBEJeJ44/OIQCbDTOPk8ohAeHQBYubxiEBrzP305/CIQIleP5zp74hAyb7DV+vuiEB+gYgn7e2IQGM7iwvv7IhAkYHJA/HriECG6UAQ8+qIQCIJ7zD16YhApXbRZffoiEC2yOWu+eeIQFyWKQz85ohA/3aaff7liEBqAjYDAeWIQMrQ+ZwD5IhArnrjSgbjiEAImfAMCeKIQCjFHuML4YhAxZhrzQ7giEDzrdTLEd+IQCqfV94U3ohARAfyBBjdiEB5gaE/G9yIQGepY44e24hACRs28SHaiEDAchZoJdmIQEhNAvMo2IhAwkf3kSzXiECw//JEMNaIQPQS8ws01YhA0B/15jfUiEDoxPbVO9OIQD+h9dg/0ohAPFTv70PRiECifeEaSNCIQJm9yVlMz4hApbSlrFDOiECtA3MTVc2IQPdLL45ZzIhAKi/YHF7LiEBNT2u/YsqIQMdO5nVnyYhAXdBGQGzIiEA2d4oecceIQNnmrhB2xohAK8OxFnvFiEBxsJAwgMSIQFBTSV6Fw4hAzlDZn4rCiEBMTj71j8GIQI/xdV6VwIhAuuB925q/iEBMwlNsoL6IQCg99RCmvYhAi/hfyau8iEAXnJGVsbuIQMXPh3W3uohA9jtAab25iEBhibhww7iIQCFh7ovJt4hArWzfus+2iEDfVYn91bWIQOnG6VPctIhAXmr+veKziEAy68Q76bKIQLP0Os3vsYhAkDJecvawiEDWUCwr/a+IQO77ovcDr4hAn+C/1wquiEARrIDLEa2IQMcL49IYrIhAoq3k7R+riEDhP4McJ6qIQCBxvF4uqYhAW/CNtDWoiEDnbPUdPaeIQHuW8JpEpohAJx19K0yliEBdsZjPU6SIQOcDQYdbo4hA78VzUmOiiED9qC4xa6GIQPJebyNzoIhAEJozKXufiED1DHlCg56IQJdqPW+LnYhAUGZ+r5OciEDRszkDnJuIQCsHbWqkmohAxxQW5ayZiEBxkTJztZiIQEoywBS+l4hA1Ky8ycaWiEDstiWSz5WIQMoG+W3YlIhABFM0XeGTiECMUtVf6pKIQKu82XXzkYhADEk/n/yQiECxrwPcBZCIQPyoJCwPj4hAqO2fjxiOiEDLNnMGIo2IQNg9nJArjIhAnLwYLjWLiEA/bebePoqIQEgKA6NIiYhAk05selKIiEBd9R9lXIeIQDm6G2NmhohAGVlddHCFiEBIjuKYeoSIQGwWqdCEg4hAhq6uG4+CiEDwE/F5mYGIQGEEbuujgIhA6T0jcK5/iED0fg4IuX6IQEeGLbPDfYhAARN+cc58iECc5P1C2XuIQO26qifkeohAIlaCH+95iEDDdoIq+niIQLHdqEgFeIhAKkzzeRB3iEDEg1++G3aIQGxG6xUndYhAb1aUgDJ0iEBvdlj+PXOIQGdpNY9JcohAr/IoM1VxiED21TDqYHCIQEXXSrRsb4hA/7p0kXhuiEDdRayBhG2IQPY874SQbIhAtmU7m5xriEDlhY7EqGqIQKNj5gC1aYhAaMVAUMFoiEADcpuyzWeIQKEw9CfaZohAxMhIsOZliEBHApdL82SIQF+l3Pn/Y4hAl3oXuwxjiEDUSkWPGWKIQFbfY3YmYYhArQFxcDNgiEDLe2p9QF+IQPUXTp1NXohAyKAZ0FpdiEA64coVaFyIQJqkX251W4hAi7bV2YJaiEAO4ypYkFmIQHX2XOmdWIhAcL1pjatXiEABBU9EuVaIQIWaCg7HVYhAr0ua6tRUiECL5vvZ4lOIQHs5LdzwUohAORMs8f5RiEDTQvYYDVGIQLSXiVMbUIhAm+HjoClPiECd8AIBOE6IQCWV5HNGTYhA+p+G+VRMiEA14uaRY0uIQEktAz1ySohA/FLZ+oBJiEBtJWfLj0iIQBJ3qq6eR4hAtxqhpK1GiEB+40itvEWIQN6kn8jLRIhApzKj9tpDiED/YFE36kKIQGAEqIr5QYhAm/Gk8AhBiEDX/UVpGECIQJL+iPQnP4hAoMlrkjc+iEAoNexCRz2IQKsXCAZXPIhA/Ee922Y7iEBEnQnEdjqIQAXv6r6GOYhAExVfzJY4iECZ52PspjeIQBY/9x63NohAYfQWZMc1iECj4MC71zSIQFzd8iXoM4hAYcSqovgyiEDdb+YxCTKIQE66o9MZMYhAiX7ghyowiECzl5pOOy+IQE7hzydMLohAKzd+E10tiEBudaMRbiyIQJZ4PSJ/K4hAcx1KRZAqiEAoQcd6oSmIQC7BssKyKIhAVHsKHcQniEC4TcyJ1SaIQNUW9gjnJYhAcbWFmvgkiECrCHk+CiSIQPbvzfQbI4hAGUuCvS0iiEAs+pOYPyGIQJ7dAIZRIIhAL9bGhWMfiED3xOOXdR6IQF2LVbyHHYhAIAsa85kciEBMJi88rBuIQEm/kpe+GohAzrhCBdEZiEDi9TyF4xiIQORZfxf2F4hAhsgHvAgXiEDMJdRyGxaIQAxW4jsuFYhA8T0wF0EUiEB3wrsEVBOIQPHIggRnEohA/zaDFnoRiECX8ro6jRCIQAPiJ3GgD4hA3evHubMOiEAR95gUxw2IQOPqmIHaDIhA5K7FAO4LiED4Kh2SAQuIQFdHnTUVCohAi+xD6ygJiEBxAw+zPAiIQDV1/IxQB4hAWCsKeWQGiECtDzZ3eAWIQFcMfoeMBIhAzgvgqaADiEDY+FnetAKIQJG+6STJAYhAY0iNfd0AiEAKgkLo8f+HQJhXB2UG/4dAarXZ8xr+h0A1iLeUL/2HQPm8nkdE/IdADkGNDFn7h0AYAoHjbfqHQA/ud8yC+YdAO/Nvx5f4h0A1AGfUrPeHQOkDW/PB9odAke1JJNf1h0C7rDFn7PSHQEMxELwB9IdAWGvjIhfzh0B5S6mbLPKHQHbCXyZC8YdAb8EEw1fwh0DVOZZxbe+HQGkdEjKD7odAPV52BJnth0Cz7sDoruyHQIDB797E64dApMkA59rqh0Bz+vEA8emHQJFHwSwH6YdA8KRsah3oh0DVBvK5M+eHQNNhTxtK5odAzKqCjmDlh0D11okTd+SHQNHbYqqN44dAMq8LU6Tih0A6R4INu+GHQFuaxNnR4IdAWZ/Qt+jfh0BCTaSn/96HQHibPakW3odAq4GavC3dh0Da97jhRNyHQFT2lhhc24dAtnUyYXPah0Dubom7itmHQDfbmSei2IdAHLRhpbnXh0B589400daHQHSTD9bo1YdAho7xiADVh0B334JNGNSHQFqBwSMw04dAlW+rC0jSh0DZpT4FYNGHQCkgeRB40IdA1NpYLZDPh0B20ttbqM6HQP8DAJzAzYdAqGzD7djMh0D5CSRR8cuHQM3ZH8YJy4dARdq0TCLKh0DYCeHkOsmHQEhnoo5TyIdAofH2SWzHh0BEqNwWhcaHQNuKUfWdxYdAX5lT5bbEh0AY1ODmz8OHQJs79/nowodAyNCUHgLCh0DRlLdUG8GHQDSJXZw0wIdAua+E9U2/h0B7CitgZ76HQN6bTtyAvYdAl2btaZq8h0CkbQUJtLuHQFO0lLnNuodAPz6Ze+e5h0BPDxFPAbmHQLkr+jMbuIdA/JdSKjW3h0DoWBgyT7aHQJhzSUtptYdAc+3jdYO0h0AxzOWxnbOHQM8VTf+3sodAntAXXtKxh0A3A0TO7LCHQIK0z08HsIdAsuu44iGvh0BIsP2GPK6HQA8KnDxXrYdAHwGSA3Ksh0Dend3bjKuHQPvofMWnqodAduttwMKph0CWrq7M3aiHQO87Per4p4dAZJ0XGRSnh0Ah3TtZL6aHQJ8FqKpKpYdAoCFaDWakh0A3PFCBgaOHQMBgiAadoodA35oAnbihh0CK9rZE1KCHQACAqf3vn4dAx0PWxwufh0C2TjujJ56HQO6t1o9DnYdA226mjV+ch0A0n6ice5uHQPlM27yXmodAeoY87rOZh0BOWsow0JiHQFjXgoTsl4dAxwxk6QiXh0ASCmxfJZaHQADfmOZBlYdAnZvofl6Uh0BEUFkoe5OHQJgN6eKXkodAiOSVrrSRh0BN5l2L0ZCHQGwkP3nuj4dAsLA3eAuPh0A0nUWIKI6HQFv8ZqlFjYdA0OCZ22KMh0CMXdwegIuHQNGFLHOdiodAKG2I2LqJh0BoJ+5O2IiHQLLIW9b1h4dAbGXPbhOHh0BPEkcYMYaHQFLkwNJOhYdAwfA6nmyEh0AqTbN6ioOHQGkPKGiogodAoE2XZsaBh0BAHv915ICHQP6XXZYCgIdA29GwxyB/h0Ah4/YJP36HQGPjLV1dfYdAfupTwXt8h0CZEGc2mnuHQCJuZby4eodA0htNU9d5h0CqMhz79XiHQPPL0LMUeIdAQgFpfTN3h0Bz7OJXUnaHQKynPENxdYdAWk10P5B0h0A0+IdMr3OHQDnDdWrOcodAsck7me1xh0AuJ9jYDHGHQIf3SCkscIdA4FaMiktvh0CjYaD8am6HQIE0g3+KbYdAduwyE6psh0DFpq23yWuHQPuA8WzpaodA6Zj8Mglqh0CtDM0JKWmHQKn6YPFIaIdAi4G26Whnh0BEwMvyiGaHQBLWngypZYdAeeItN8lkh0BCBXdy6WOHQIJeeL4JY4dAkw4wGypih0AYNpyISmGHQP31ugZrYIdAcG+KlYtfh0Duwwg1rF6HQDQVNOXMXYdATIUKpu1ch0CHNop3DlyHQHdLsVkvW4dA/+Z9TFBah0BCLO5PcVmHQKs+AGSSWIdA8EGyiLNXh0AJWgK+1FaHQDmr7gP2VYdABlp1WhdVh0BCi5TBOFSHQAFkSjlaU4dAoQmVwXtSh0DDoXJanVGHQFRS4QO/UIdAhUHfveBPh0DLlWqIAk+HQOV1gWMkTodA1wgiT0ZNh0DrdUpLaEyHQLTk+FeKS4dACH0rdaxKh0AFZ+CizkmHQA/LFeHwSIdA0dHJLxNIh0A4pPqONUeHQH5rpv5XRodAHFHLfnpFh0DWfmcPnUSHQLMeebC/Q4dAA1v+YeJCh0BXXvUjBUKHQIpTXPYnQYdAuWUx2UpAh0BNwHLMbT+HQO2OHtCQPodAif0y5LM9h0BZOK4I1zyHQNdrjj36O4dAwcTRgh07h0AecHbYQDqHQDmbej5kOYdAo3PctIc4h0AyJ5o7qzeHQP7jsdLONodAaNghevI1h0AVM+gxFjWHQO4iA/o5NIdAItdw0l0zh0Alfy+7gTKHQK9KPbSlMYdAvGmYvckwh0CPDD/X7S+HQLBjLwESL4dA6J9nOzYuh0BI8uWFWi2HQCSMqOB+LIdAFp+tS6Mrh0D5XPPGxyqHQPH3d1LsKYdAY6I57hAph0D6jjaaNSiHQKTwbFZaJ4dAlfraIn8mh0BD4H7/oyWHQGvVVuzIJIdACA5h6e0jh0Bivpv2EiOHQP4aBRQ4IodAplibQV0hh0BrrFx/giCHQJ5LR82nH4dA12tZK80eh0DwQpGZ8h2HQAYH7RcYHYdAeu5qpj0ch0DzLwlFYxuHQFkCxvOIGodA15yfsq4Zh0DdNpSB1BiHQB4IomD6F4dAkUjHTyAXh0BuMAJPRhaHQDL4UF5sFYdAndixfZIUh0CyCiOtuBOHQLfHouzeEodANUkvPAUSh0D4yMabKxGHQBGBZwtSEIdAzqsPi3gPh0DIg70anw6HQNNDb7rFDYdACycjauwMh0DOaNcpEwyHQLhEivk5C4dAr/Y52WAKh0DWuuTIhwmHQJTNiMiuCIdAlGsk2NUHh0DB0bX3/AaHQEs9OyckBodAouuyZksFh0B3Ghu2cgSHQMIHchWaA4dAu/G1hMECh0DYFuUD6QGHQNi1/ZIQAYdAuA3+MTgAh0C3XeTgX/+GQFjlrp+H/oZAXeRbbq/9hkDKmulM1/yGQOpIVjv/+4ZAQy+gOSf7hkChjsVHT/qGQA+oxGV3+YZA3Lybk5/4hkCXDknRx/eGQBDfyh7w9oZAW3AffBj2hkDLBEXpQPWGQPTeOWZp9IZArkH88pHzhkAQcIqPuvKGQHSt4jvj8YZAcz0D+AvxhkDqY+rDNPCGQPNklp9d74ZA7YQFi4buhkB2CDaGr+2GQG00JpHY7IZA8k3UqwHshkBomj7WKuuGQG9fYxBU6oZA6+JAWn3phkD/atWzpuiGQA4+Hx3Q54ZAvqIclvnmhkD038seI+aGQNY8K7dM5YZAygA5X3bkhkB2c/MWoOOGQMTcWN7J4oZA2IRntfPhhkActB2cHeGGQDezeZJH4IZAEst5mHHfhkDVRByum96GQOhpX9PF3YZA9INBCPDchkDj3MBMGtyGQNy+26BE24ZASXSQBG/ahkDRR913mdmGQFyEwPrD2IZAFHU4je7XhkBgZUMvGdeGQOeg3+BD1oZAknMLom7VhkCFKcVymdSGQCgPC1PE04ZAI3HbQu/ShkBYnDRCGtKGQO3dFFFF0YZAR4N6b3DQhkAI2mOdm8+GQBYwz9rGzoZAkNO6J/LNhkDaEiWEHc2GQJE8DPBIzIZAmJ9ua3TLhkANi0r2n8qGQE1OnpDLyYZA9jhoOvfIhkDimqbzIsiGQC3EV7xOx4ZAMAV6lHrGhkCErgt8psWGQP4QC3PSxIZAtn12ef7DhkD/RUyPKsOGQGy7irRWwoZA0C8w6YLBhkA69Totr8CGQPpdqYDbv4ZAm7x54we/hkDsY6pVNL6GQPOmOddgvYZA+tglaI28hkCITW0IuruGQGFYDrjmuoZAiE0HdxO6hkA+gVZFQLmGQANI+iJtuIZAk/bwD5q3hkDq4TgMx7aGQEFf0Bf0tYZAEMS1MiG1hkALZudcTrSGQCWbY5Z7s4ZAjrko36iyhkC2FzU31rGGQEcMh54DsYZALu4cFTGwhkCOFPWaXq+GQNDWDTCMroZAk4xl1LmthkC5jfqH56yGQGAyy0oVrIZA4tLVHEOrhkDWxxj+cKqGQBNqku6eqYZAqxJB7syohkDuGiP9+qeGQGrcNhspp4ZA6LB6SFemhkBx8uyEhaWGQEj7i9CzpIZA7iVWK+KjhkAjzUmVEKOGQOJLZQ4/ooZAYv2mlm2hhkAaPQ0unKCGQLpmltTKn4ZAMdZAivmehkCr5wpPKJ6GQJD38iJXnYZAhWL3BYachkBphRb4tJuGQFy9TvnjmoZAt2eeCROahkAR4gMpQpmGQD2KfVdxmIZATL4JlaCXhkCG3Kbhz5aGQHdDUz3/lYZA4VENqC6VhkDHZtMhXpSGQGLho6qNk4ZALSF9Qr2ShkDchV3p7JGGQGJvQ58ckYZA6T0tZEyQhkDaURk4fI+GQNsLBhusjoZAzszxDNyNhkDM9doNDI2GQC/ovx08jIZAiQWfPGyLhkCtr3ZqnIqGQKVIRafMiYZAtjIJ8/yIhkBj0MBNLYiGQGuEarddh4ZAx7EEMI6GhkCru423voWGQIoFBE7vhIZADPNl8x+EhkAZ6LGnUIOGQNNI5mqBgoZAmnkBPbKBhkAD3wEe44CGQOTd5Q0UgIZATNurDEV/hkCDPFIadn6GQA5n1zanfYZAsMA5Yth8hkBgr3ecCXyGQFeZj+U6e4ZAA+V/PWx6hkAR+UaknXmGQGg84xnPeIZAJhZTngB4hkCq7ZQxMneGQIgqp9NjdoZAkjSIhJV1hkDSczZEx3SGQJBQsBL5c4ZATDP07ypzhkDAhADcXHKGQOKt09aOcYZA4hds4MBwhkApLMj48m+GQFxU5h8lb4ZAWfrEVVduhkA6iGKaiW2GQFJove27bIZAKwXUT+5rhkCQyaTAIGuGQIAgLkBTaoZAN3VuzoVphkApM2RruGiGQAfGDRfrZ4ZAuZlp0R1nhkBhGnaaUGaGQFu0MXKDZYZAQNSaWLZkhkDd5q9N6WOGQD5Zb1EcY4ZApZjXY09ihkCREueEgmGGQLU0nLS1YIZAA2318uhfhkCkKfE/HF+GQPzYjZtPXoZApunJBYNdhkB5yqN+tlyGQIPqGQbqW4ZAC7kqnB1bhkCVpdRAUVqGQNsfFvSEWYZAz5fttbhYhkChfVmG7FeGQLRBWGUgV4ZAqFToUlRWhkBXJwhPiFWGQM8qtlm8VIZAXNDwcvBThkCAibaaJFOGQPXHBdFYUoZAtP3cFY1RhkDlnDppwVCGQPIXHcv1T4ZAd+GCOypPhkBMbGq6Xk6GQIAr0keTTYZAXZK448dMhkBjFByO/EuGQE0l+0YxS4ZACTlUDmZKhkDEwyXkmkmGQOE5bsjPSIZA+g8suwRIhkDiul28OUeGQKWvAcxuRoZAhWMW6qNFhkAATJoW2USGQMnei1EORIZAzJHpmkNDhkAt27HyeEKGQEkx41iuQYZAtAp8zeNAhkA43npQGUCGQNsi3uFOP4ZA2E+kgYQ+hkCi3Msvuj2GQOZAU+zvPIZAh/Q4tyU8hkCeb3uQWzuGQH0qGXiROoZAsJ0Qbsc5hkD6QWBy/TiGQFGQBoUzOIZA5wECpmk3hkAlEFHVnzaGQKk08hLWNYZATOnjXgw1hkAbqCS5QjSGQF3rsiF5M4ZAjC2NmK8yhkBg6bEd5jGGQMOZH7EcMYZA17nUUlMwhkD1xM8Cii+GQLA2D8HALoZAzoqRjfcthkBOPVVoLi2GQGfKWFFlLIZAhq6aSJwrhkBNZhlO0yqGQJhu02EKKoZAd0THg0EphkAzZfOzeCiGQExOVvKvJ4ZAdn3uPucmhkCccLqZHiaGQOSluAJWJYZApZvneY0khkBx0EX/xCOGQA7D0ZL8IoZAePKJNDQihkDi3WzkayGGQLkEeaKjIIZAm+asbtsfhkBeAwdJEx+GQBHbhTFLHoZA9e0nKIMdhkCEvOssuxyGQG/Hzz/zG4ZAm4/SYCsbhkAilvKPYxqGQFdcLs2bGYZAw2OEGNQYhkAkLvNxDBiGQGs9edlEF4ZAxRMVT30WhkCQM8XStRWGQGIfiGTuFIZABlpcBCcUhkB+ZkCyXxOGQP/HMm6YEoZA9wEyONERhkAImDwQChGGQAgOUfZCEIZACOht6nsPhkBIqpHstA6GQEHZuvztDYZAo/nnGicNhkBOkBdHYAyGQF4iSIGZC4ZAHjV4ydIKhkAUTqYfDAqGQPjy0INFCYZAt6n29X4IhkB2+BV2uAeGQIxlLQTyBoZAiHc7oCsGhkArtT5KZQWGQG6lNQKfBIZAfc8eyNgDhkC7uvibEgOGQL3uwX1MAoZAUPN4bYYBhkB0UBxrwACGQF+Oqnb6/4VAejUikDT/hUBmzoG3bv6FQPbhx+yo/YVAMfnyL+P8hUBWnQGBHfyFQNZX8t9X+4VAWLLDTJL6hUC3NnTHzPmFQAFvAlAH+YVAfeVs5kH4hUCfJLKKfPeFQBi30Dy39oVAxyfH/PH1hUDDAZTKLPWFQFbQNaZn9IVA/B6rj6LzhUBqefKG3fKFQIVrCowY8oVAaYHxnlPxhUBkR6a/jvCFQPpJJ+7J74VA4RVzKgXvhUAFOIh0QO6FQIQ9Zcx77YVAtLMIMrfshUAYKHGl8uuFQG8onSYu64VApEKLtWnqhUDdBDpSpemFQG79p/zg6IVA4rrTtBzohUD2y7t6WOeFQJ6/Xk6U5oVA/CS7L9DlhUBqi88eDOWFQHWCmhtI5IVA3JkaJoTjhUCSYU4+wOKFQL9pNGT84YVAvULLlzjhhUAZfRHZdOCFQJSpBSix34VAIlmmhO3ehUDsHPLuKd6FQEyG52Zm3YVAzyaF7KLchUA4kMl/39uFQHtUsyAc24VAvgVBz1jahUBdNnGLldmFQOZ4QlXS2IVAGWCzLA/YhUDpfsIRTNeFQH1obgSJ1oVAL7C1BMbVhUCL6ZYSA9WFQFCoEC5A1IVAb4AhV33ThUAPBsiNutKFQIXNAtL30YVAXWvQIzXRhUBUdC+DctCFQFd9HvCvz4VAixucau3OhUBC5KbyKs6FQAVtPYhozYVAjUteK6bMhUDGFQjc48uFQM5hOZohy4VA9sXwZV/KhUDB2Cw/ncmFQOcw7CXbyIVATGUtGhnIhUAMDe8bV8eFQHW/LyuVxoVAAhTuR9PFhUBloihyEcWFQIIC3qlPxIVAbcwM743DhUBsmLNBzMKFQPn+0KEKwoVAvphjD0nBhUCY/mmKh8CFQJbJ4hLGv4VA+pLMqAS/hUAz9CVMQ76FQOeG7fyBvYVA7eQhu8C8hUBMqMGG/7uFQD1ry18+u4VAK8g9Rn26hUCzWRc6vLmFQKS6Vjv7uIVA/YX6STq4hUDxVgFmebeFQOHIaY+4toVAY3cyxve1hUA8/lkKN7WFQGT53lt2tIVAAgXAurWzhUBxvfsm9bKFQD6/kKA0soVAJad9J3SxhUAQEsG7s7CFQCOdWV3zr4VArOVFDDOvhUAsiYTIcq6FQFclFJKyrYVADljzaPKshUBovyBNMqyFQKn5mj5yq4VASaVgPbKqhUDtYHBJ8qmFQHHLyGIyqYVA2oNoiXKohUBmKU69sqeFQH5beP7ypoVAvbnlTDOmhUDx45Soc6WFQBV6hBG0pIVAWhyzh/SjhUAbax8LNaOFQOkGyJt1ooVAhJCrObahhUDbqMjk9qCFQA/xHZ03oIVAcQqqYnifhUCDlms1uZ6FQPg2YRX6nYVAr42JAjudhUC/POP8e5yFQGjmbAS9m4VAHS0lGf6ahUCFswo7P5qFQHIcHGqAmYVA5gpYpsGYhUAYIr3vApiFQGsFSkZEl4VAc1j9qYWWhUD2vtUax5WFQOXc0ZgIlYVAaVbwI0qUhUDTzy+8i5OFQKntjmHNkoVAnlQMFA+ShUCYqabTUJGFQKeRXKCSkIVAE7IsetSPhUBOsBVhFo+FQPsxFlVYjoVA7NwsVpqNhUAkV1hk3IyFQNZGl38ejIVAY1Lop2CLhUBdIErdooqFQIRXux/liYVAyp46byeJhUBNncbLaYiFQF76XTWsh4VAel3/q+6GhUBRbqkvMYaFQL/UWsBzhYVA0TgSXraEhUDFQs4I+YOFQAObjcA7g4VAKOpOhX6ChUD92BBXwYGFQHwQ0jUEgYVAyzmRIUeAhUBD/kwain+FQGgHBCDNfoVA8v60MhB+hUDDjl5SU32FQPBg/36WfIVAuR+WuNl7hUCSdSH/HHuFQBcNoFJgeoVAG5EQs6N5hUCZrHEg53iFQL0KwpoqeIVA41YAIm53hUCWPCu2sXaFQIxnQVf1dYVAroNBBTl1hUARPSrAfHSFQPs/+ofAc4VA3TiwXARzhUBZ1Eo+SHKFQD6/yCyMcYVAjaYoKNBwhUByN2kwFHCFQEYfiUVYb4VAlQuHZ5xuhUAXqmGW4G2FQLGoF9IkbYVAerWnGmlshUCyfhBwrWuFQMyyUNLxaoVAZgBnQTZqhUBOFlK9emmFQIGjEEa/aIVAJVeh2wNohUCW4AJ+SGeFQFfvMy2NZoVAHTMz6dFlhUDJW/+xFmWFQGoZl4dbZIVAQBz5aaBjhUC0FCRZ5WKFQGKzFlUqYoVADqnPXW9hhUCvpk1ztGCFQGldj5X5X4VAiH6TxD5fhUCOu1gAhF6FQCfG3UjJXYVAKVAhng5dhUCeCyIAVFyFQLmq3m6ZW4VA3t9V6t5ahUCcXYZyJFqFQK/WbgdqWYVAA/4Nqa9YhUCvhmJX9VeFQPgjaxI7V4VAVIkm2oBWhUBgapOuxlWFQOp6sI8MVYVA7258fVJUhUCT+vV3mFOFQC7SG3/eUoVAQ6rskiRShUB/N2ezalGFQMEuiuCwUIVAEEVUGvdPhUCmL8RgPU+FQOaj2LODToVAX1eQE8pNhUDR/+l/EE2FQCZT5PhWTIVAdQd+fp1LhUAE07UQ5EqFQENsiq8qSoVA0Yn6WnFJhUB64gQTuEiFQDQtqNf+R4VAJCHjqEVHhUCddbSGjEaFQBviGnHTRYVASB4VaBpFhUD94aFrYUSFQD7lv3uoQ4VAO+BtmO9ChUBQi6rBNkKFQAafdPd9QYVAFNTKOcVAhUBd46uIDECFQO+FFuRTP4VAA3UJTJs+hUAEaoPA4j2FQIMeg0EqPYVAQ0wHz3E8hUAtrQ5puTuFQFv7lw8BO4VAEfGhwkg6hUDCSCuCkDmFQAm9Mk7YOIVAsgi3JiA4hUCu5rYLaDeFQCISMf2vNoVAWUYk+/c1hUDPPo8FQDWFQCa3cByINIVAMmvHP9AzhUDwFpJvGDOFQId2z6tgMoVAT0Z+9KgxhUDGQp1J8TCFQJooK6s5MIVApLQmGYIvhUDmo46Tyi6FQJKzYRoTLoVAAqGerVsthUC+KURNpCyFQHgLUfnsK4VADwTEsTUrhUCN0Zt2fiqFQCcy10fHKYVAPeR0JRAphUBdpnMPWSiFQD830gWiJ4VAxlWPCOsmhUAAwakXNCaFQCc4IDN9JYVAonrxWsYkhUABSByPDySFQABgn89YI4VAhYJ5HKIihUCkb6l16yGFQJrnLds0IYVA0KoFTX4ghUDaeS/Lxx+FQHgVqlURH4VAkz507FoehUBAtoyPpB2FQMA98j7uHIVAfpaj+jcchUARgp/CgRuFQDnC5JbLGoVA4hhydxUahUAlSEZkXxmFQEASYF2pGIVAozm+YvMXhUDkgF90PReFQMeqQpKHFoVANnpmvNEVhUBKssnyGxWFQEYWazVmFIVAlmlJhLAThUDTb2Pf+hKFQL/st0ZFEoVARKRFuo8RhUB8Wgs62hCFQKrTB8YkEIVAN9Q5Xm8PhUC8IKACug6FQPp9ObMEDoVA3bAEcE8NhUB4fgA5mgyFQBCsKw7lC4VADf+E7y8LhUAFPQvdegqFQLYrvdbFCYVAC5GZ3BAJhUAWM5/uWwiFQBjYzAynB4VAdkYhN/IGhUDCRJttPQaFQLqZObCIBYVARAz7/tMEhUBwY95ZHwSFQHpm4sBqA4VAxNwFNLYChUDejUezAQKFQH9Bpj5NAYVAir8g1pgAhUAM0LV55P+EQDo7ZCkw/4RAc8kq5Xv+hEBCQwitx/2EQFpx+4AT/YRAmBwDYV/8hEABDh5Nq/uEQMgOS0X3+oRAR+iISUP6hEABZNZZj/mEQKNLMnbb+IRABWmbnif4hEAnhhDTc/eEQDJtkBPA9oRAfOgZYAz2hECBwqu4WPWEQObFRB2l9IRAfL3jjfHzhEA9dIcKPvOEQEu1LpOK8oRA8UvYJ9fxhECmA4PII/GEQAeoLXVw8IRA3QTXLb3vhEAa5n3yCe+EQNUXIcNW7oRAVWa/n6PthEAEnleI8OyEQHiL6Hw97IRAcvtwfYrrhEDXuu+J1+qEQLqWY6Ik6oRAVFzLxnHphEAI2SX3vuiEQGHacTMM6IRAFS6ue1nnhEABotnPpuaEQCwE8y/05YRAxyL5m0HlhEAnzOoTj+SEQM7Oxpfc44RAZ/mLJyrjhEDEGjnDd+KEQOABzWrF4YRA4H1GHhPhhEAQXqTdYOCEQOVx5aiu34RA/YgIgPzehEAecwxjSt6EQDgA8FGY3YRAYwCyTObchEDdQ1FTNNyEQBGbzGWC24RAj9YihNDahEAQx1KuHtqEQHc9W+Rs2YRAzAo7JrvYhEBEAPFzCdiEQDrve81X14RAL6naMqbWhEDQ/wuk9NWEQPHEDiFD1YRAjcrhqZHUhEDJ4oM+4NOEQPHf894u04RAeJQwi33ShED90jhDzNGEQERuCwcb0YRAOTmn1mnQhEDwBguyuM+EQKiqNZkHz4RAxfcljFbOhEDTwdqKpc2EQIbcUpX0zIRAvBuNq0PMhEB6U4jNksuEQOpXQ/vhyoRAYv28NDHKhEBcGPR5gMmEQH9958rPyIRAlAGWJx/IhECNef6PbseEQIi6HwS+xoRAxpn4gw3GhECx7IcPXcWEQNuIzKasxIRA/UPFSfzDhED683D4S8OEQNluzrKbwoRAyYrceOvBhEAjHppKO8GEQGb/BSiLwIRAOAUfEdu/hEBnBuQFK7+EQOnZUwZ7voRA2lZtEsu9hEB+VC8qG72EQEGqmE1rvIRAsy+ofLu7hECRvFy3C7uEQLwotf1buoRAOUywT6y5hEA9/0yt/LiEQBgaihZNuIRATXVmi523hECA6eAL7raEQHxP+Jc+toRANICrL4+1hEDCVPnS37SEQGem4IEwtIRAjU5gPIGzhEDCJncC0rKEQLsIJNQisoRAVs5lsXOxhECYUTuaxLCEQKlso44VsIRA2/mcjmavhECp0yaat66EQLDUP7EIroRAttfm01mthECntxoCq6yEQJhP2jv8q4RAwnokgU2rhECFFPjRnqqEQGr4Uy7wqYRAHgI3lkGphEB2DaAJk6iEQGv2jYjkp4RAIZn/EjanhEDg0fOoh6aEQBd9aUrZpYRAWXdf9yqlhEBjndSvfKSEQBbMx3POo4RAfOA3QyCjhEDBtyMecqKEQDwvigTEoYRAaCRq9hWhhEDodMLzZ6CEQID+kfy5n4RAI5/XEAyfhEDiNJIwXp6EQPmdwFuwnYRAx7hhkgKdhEDVY3TUVJyEQM599yGnm4RAiOXpevmahED4eUrfS5qEQEEaGE+emYRApqVRyvCYhECS+/VQQ5iEQJj7A+OVl4RAboV6gOiWhEDxeFgpO5aEQCO2nN2NlYRAMB1GneCUhEBjjlNoM5SEQDLqwz6Gk4RANxGWINmShEAz5MgNLJKEQAtEWwZ/kYRAyhFMCtKQhECjLpoZJZCEQOt7RDR4j4RAH9tJWsuOhEDjLamLHo6EQPxVYchxjYRAWjVxEMWMhEANrtdjGIyEQFGik8Jri4RAgvSjLL+KhEAjhweiEoqEQN48vSJmiYRAgvjDrrmIhEAAnRpGDYiEQHQNwOhgh4RAHC2zlrSGhEBb3/JPCIaEQLsHfhRchYRA64lT5K+EhEC+SXK/A4SEQCwr2aVXg4RAVRKHl6uChEB843qU/4GEQAmDs5xTgYRAi9UvsKeAhEC0v+7O+3+EQFsm7/hPf4RAgO4vLqR+hEBC/a9u+H2EQOw3brpMfYRA5oNpEaF8hEDExqBz9XuEQDvmEuFJe4RAJsi+WZ56hECGUqPd8nmEQH5rv2xHeYRAW/kRB5x4hECI4pms8HeEQJsNVl1Fd4RAS2FFGZp2hEB1xGbg7nWEQBweubJDdYRAZFU7kJh0hECcUex47XOEQDH6ymxCc4RAtzbWa5dyhEDp7gx27HGEQKMKbotBcYRA6nH4q5ZwhEDjDKvX62+EQNrDhA5Bb4RAP3+EUJZuhECmJ6md622EQMil8fVAbYRAg+JcWZZshEDYxunH62uEQO47l0FBa4RAECtkxpZqhECrfU9W7GmEQFQdWPFBaYRAw/N8l5dohEDS6rxI7WeEQIHsFgVDZ4RA+OKJzJhmhEB7uBSf7mWEQHlXtnxEZYRAhKptZZpkhEBPnDlZ8GOEQLUXGVhGY4RAsgcLYpxihEBoVw538mGEQBzyIZdIYYRAN8NEwp5ghEBItnX49F+EQAG3szlLX4RANbH9haFehEDfkFLd912EQBtCsT9OXYRALLEYraRchEB3yocl+1uEQIN6/ahRW4RA/q14N6hahEC4UfjQ/lmEQKZSe3VVWYRA4Z0AJaxYhECjIIffAliEQEvIDaVZV4RAX4KTdbBWhECDPBdRB1aEQITklzdeVYRAT2gUKbVUhED1tYslDFSEQK27/CxjU4RAz2dmP7pShEDXqMdcEVKEQGZtH4VoUYRAPqRsuL9QhEBHPK72FlCEQIsk4z9uT4RAOEwKlMVOhECfoiLzHE6EQDUXK110TYRAkJki0stMhEBtGQhSI0yEQKuG2tx6S4RAStGYctJKhEBw6UETKkqEQGW/1L6BSYRAlkNQddlIhECQZrM2MUiEQAQZ/QKJR4RAykss2uBGhEDY7z+8OEaEQEr2NqmQRYRAXlAQoehEhEB278qjQESEQBXFZbGYQ4RA5cLfyfBChECu2jftSEKEQF7+bBuhQYRAByB+VPlAhEDbMWqYUUCEQDEmMOepP4RAge/OQAI/hEBogEWlWj6EQKTLkhSzPYRAGMS1jgs9hEDHXK0TZDyEQNmIeKO8O4RAlzsWPhU7hEBvaIXjbTqEQPACxZPGOYRAy/7TTh85hEDXT7EUeDiEQArqW+XQN4RAfsHSwCk3hEBvyhSngjaEQD/5IJjbNYRAbUL2kzQ1hECempOajTSEQJr296vmM4RASEsiyD8zhEC2jRHvmDKEQBGzxCDyMYRAq7A6XUsxhED1e3KkpDCEQIYKa/b9L4RAFVIjU1cvhEB9SJq6sC6EQLrjziwKLoRA6xnAqWMthEBR4WwxvSyEQE4w1MMWLIRAav30YHArhEBLP84IyiqEQLvsXrsjKoRApvyleH0phEAcZqJA1yiEQEwgUxMxKIRAhyK38IonhEBEZM3Y5CaEQBndlMs+JoRAvoQMyZglhEAOUzPR8iSEQAVACORMJIRAw0OKAacjhECJVrgpASOEQLZwkVxbIoRA0ooUmrUhhECDnUDiDyGEQI+hFDVqIIRA44+PksQfhECIYbD6Hh+EQK0Pdm15HoRAopPf6tMdhEDX5utyLh2EQOACmgWJHIRAceHoouMbhEBgfNdKPhuEQKbNZP2YGoRAXc+PuvMZhEDAe1eCThmEQCrNulSpGIRAHL64MQQYhEA1SVAZXxeEQDhpgAu6FoRABxlICBUWhECmU6YPcBWEQDwUmiHLFIRAElYiPiYUhECOFD5lgROEQD1L7JbcEoRAy/Ur0zcShEAFEPwZkxGEQNiVW2vuEIRAVoNJx0kQhECv1MQtpQ+EQDeGzJ4AD4RAYZRfGlwOhEDC+3ygtw2EQBG5IzETDYRAJslSzG4MhED4KAlyyguEQKTVRSImC4RAYswH3YEKhECQCk6i3QmEQKyNF3I5CYRAUlNjTJUIhEBEWTAx8QeEQGOdfSBNB4RArR1KGqkGhEBJ2JQeBQaEQHjLXC1hBYRAn/WgRr0EhEBEVWBqGQSEQA3pmZh1A4RAw69M0dEChEBMqHcULgKEQLHRGWKKAYRAHysyuuYAhEDfs78cQwCEQFxrwYmf/4NAIlE2Afz+g0DhZB2DWP6DQGSmdQ+1/YNAmRU+phH9g0CTsnVHbvyDQH99G/PK+4NAr3YuqSf7g0CUnq1phPqDQMD1lzTh+YNA5XzsCT75g0DXNKrpmviDQIge0NP394NADjtdyFT3g0Cdi1DHsfaDQIoRqdAO9oNAS85l5Gv1g0B2w4UCyfSDQMPyBysm9INABl7rXYPzg0A5By+b4PKDQHPw0eI98oNA6xvTNJvxg0D7izGR+PCDQBxD7PdV8INA5UMCabPvg0ASkXLkEO+DQHwtPGpu7oNAGhxe+svtg0ALYNeUKe2DQIX8pjmH7INA5PTL6OTrg0CjTEWiQuuDQFsHEmag6oNAyigxNP7pg0DItKEMXOmDQFOvYu+56INAgxxz3Bfog0CUANLTdeeDQONfftXT5oNA6D534THmg0BBorv3j+WDQKeOShju5INA9wgjQ0zkg0AqFkR4quODQFy7rLcI44NAxv1bAWfig0DG4lBVxeGDQNNvirMj4YNAiaoHHILgg0ChmMeO4N+DQPU/yQs/34NAgKYLk53eg0Ba0o0k/N2DQLzJTsBa3YNA/pJNZrncg0CaNIkWGNyDQCe1ANF224NAXRuzldXag0AUbp9kNNqDQEG0xD2T2YNA/fQhIfLYg0B8N7YOUdiDQBSDgAaw14NAPN9/CA/Xg0CHU7MUbtaDQKjnGSvN1YNAdaOySyzVg0Dgjnx2i9SDQPuxdqvq04NA+RSg6knTg0ApwPczqdKDQP+7fIcI0oNACBEu5WfRg0D0xwpNx9CDQJPpEb8m0INA0n5CO4bPg0C+kJvB5c6DQIQoHFJFzoNAb0/D7KTNg0DqDpCRBM2DQH5wgUBkzINA132W+cPLg0C7QM68I8uDQBPDJ4qDyoNA5A6iYePJg0BVLjxDQ8mDQKwr9S6jyINAShHMJAPIg0C16b8kY8eDQIy/zy7DxoNAkp36QiPGg0Cmjj9hg8WDQMednYnjxINAE9YTvEPEg0DIQqH4o8ODQEDvRD8Ew4NA9ub9j2TCg0CDNcvqxMGDQKHmq08lwYNAJAafvoXAg0AFoKM35r+DQFjAuLpGv4NAUHPdR6e+g0A/xRDfB76DQJfCUYBovYNA5XefK8m8g0Dc8fjgKbyDQEU9XaCKu4NADmfLaeu6g0BAfEI9TLqDQAWKwRqtuYNApJ1HAg65g0CExNPzbriDQCoMZe/Pt4NAN4L69DC3g0BvNJMEkraDQLMwLh7ztYNA/4TKQVS1g0ByP2dvtbSDQEhuA6cWtINA2x+e6Hezg0CkYjY02bKDQDlFy4k6soNAT9Zb6Zuxg0C8JOdS/bCDQG8/bMZesINAfDXqQ8Cvg0APFmDLIa+DQHbwzFyDroNAHdQv+OStg0CL0IedRq2DQGv100yorINAgFITBgqsg0Cx90TJa6uDQP70Z5bNqoNAiVp7bS+qg0CPOH5OkamDQG6fbznzqINAop9OLlWog0DASRott6eDQIOu0TUZp4NAv95zSHumg0Bm6/9k3aWDQInldIs/pYNAWd7Ru6Gkg0Ag5xX2A6SDQEwRQDpmo4NAZW5PiMiig0AQEEPgKqKDQBUIGkKNoYNAUmjTre+gg0DMQm4jUqCDQKCp6aK0n4NACa9ELBefg0BiZX6/eZ6DQCLflVzcnYNA3y6KAz+dg0BMZ1q0oZyDQDqbBW8EnINAmN2KM2ebg0ByQekBypqDQPPZH9osmoNAYbotvI+Zg0Ak9hGo8piDQLygy51VmINAy81ZnbiXg0AQkbumG5eDQGX+77l+loNAxSn21uGVg0BHJ839RJWDQB0LdC6olINAm+npaAuUg0Aw1y2tbpODQGnoPvvRkoNA7zEcUzWSg0CKyMS0mJGDQCHBNyD8kINAtDB0lV+Qg0BmLHkUw4+DQHDJRZ0mj4NAMB3ZL4qOg0AcPTLM7Y2DQMo+UHJRjYNA6zcyIrWMg0BSPtfbGIyDQOlnPp98i4NAuspmbOCKg0DvfE9DRIqDQMqU9yOoiYNAryheDgyJg0AbT4ICcIiDQKseYwDUh4NAGK7/BziHg0A4FFcZnIaDQP9naDQAhoNAfcAyWWSFg0DhNLWHyISDQHLc7r8shINAm87eAZGDg0DgIoRN9YKDQOHw3aJZgoNAXlDrAb6Bg0AxWatqIoGDQFMjHd2GgINA2sY/Wet/g0D3WxLfT3+DQPr6k260foNAT7zDBxl+g0B/uKCqfX2DQC0IKlfifINAH8ReDUd8g0AyBT7Nq3uDQGLkxpYQe4NAyXr4aXV6g0Ca4dFG2nmDQCoyUi0/eYNA5oV4HaR4g0BZ9kMXCXiDQC6dsxpud4NAKJTGJ9N2g0An9Xs+OHaDQCza0l6ddYNAT13KiAJ1g0DJmGG8Z3SDQO2ml/nMc4NALKJrQDJzg0AUpdyQl3KDQEvK6er8cYNAmiySTmJxg0Di5tS7x3CDQCIUsTItcINAdc8ls5Jvg0ATNDI9+G6DQFBd1dBdboNAnmYObsNtg0CHa9wUKW2DQLaHPsWObINA79Yzf/Rrg0AWdbtCWmuDQCl+1A/AaoNAQQ5+5iVqg0CVQbfGi2mDQHk0f7DxaINAXAPVo1dog0DHyregvWeDQGSnJqcjZ4NA+LUgt4lmg0BgE6XQ72WDQJrcsvNVZYNAvi5JILxkg0D/JmdWImSDQK/iC5aIY4NAOn823+5ig0ApGuYxVWKDQCDRGY67YYNA4MHQ8yFhg0BFCgpjiGCDQEnIxNvuX4NAARoAXlVfg0CcHbvpu16DQGbx9H4iXoNAybOsHYldg0BLg+HF71yDQIl+kndWXINAQcS+Mr1bg0BKc2X3I1uDQJqqhcWKWoNAPokenfFZg0BkLi9+WFmDQFG5tmi/WINAakm0XCZYg0Au/iZajVeDQDX3DWH0VoNAOFRocVtWg0AINTWLwlWDQJO5c64pVYNA4gEj25BUg0AaLkIR+FODQHxe0FBfU4NAZLPMmcZSg0BMTTbsLVKDQMRMDEiVUYNAftJNrfxQg0BC//kbZFCDQPrzD5TLT4NApdGOFTNPg0BhuXWgmk6DQGXMwzQCToNACSx40mlNg0C6+ZF50UyDQANXECo5TINAi2Xy46BLg0AVRzenCEuDQH0d3nNwSoNAvQrmSdhJg0DpME4pQEmDQC6yFRKoSINA2bA7BBBIg0BRT7//d0eDQBWwnwTgRoNAw/XbEkhGg0ATQ3MqsEWDQNi6ZEsYRYNAAICvdYBEg0CUtVKp6EODQLt+TeZQQ4NAs/6eLLlCg0DZWEZ8IUKDQKCwQtWJQYNAnimTN/JAg0B85zajWkCDQAMOLRjDP4NAFcF0lis/g0CxJA0elD6DQO9c9a78PYNAA44sSWU9g0A93LHszTyDQAVshJk2PINA4WGjT587g0Bw4g0PCDuDQG8Sw9dwOoNAsRbCqdk5g0ApFAqFQjmDQOEvmmmrOINAAI9xVxQ4g0DGVo9OfTeDQJOs8k7mNoNA27WaWE82g0AvmIZruDWDQD55tYchNYNAzn4mrYo0g0DDztjb8zODQBmPyxNdM4NA5uX9VMYyg0Bg+W6fLzKDQNHvHfOYMYNAou8JUAIxg0BXHzK2azCDQIqllSXVL4NA9qgznj4vg0BsUAsgqC6DQNrCG6sRLoNARydkP3stg0DVpOPc5CyDQMFimYNOLINAZIiEM7grg0AtPaTsISuDQKyo966LKoNAhfJ9evUpg0B8QjZPXymDQGvAHy3JKINASJQ5FDMog0Am5oIEnSeDQC/e+v0GJ4NAqaSgAHEmg0D0YXMM2yWDQIo+ciFFJYNAAWOcP68kg0AG+PBmGSSDQGUmb5eDI4NAAhcW0e0ig0DX8uQTWCKDQAHj2l/CIYNAsRD3tCwhg0A0pTgTlyCDQPHJnnoBIINAaago62sfg0A4atVk1h6DQBM5pOdAHoNAzD6Uc6sdg0BMpaQIFh2DQJeW1KaAHINAzDwjTusbg0Ahwo/+VRuDQOxQGbjAGoNAmBO/eisag0CsNIBGlhmDQMneWxsBGYNAqjxR+WsYg0AjeV/g1heDQCO/hdBBF4NAtDnDyawWg0D4ExfMFxaDQCt5gNeCFYNApZT+6+0Ug0DVkZAJWRSDQEicNTDEE4NAod/sXy8Tg0Ceh7WYmhKDQBbAjtoFEoNA/7R3JXERg0Bikm953BCDQGWEddZHEINAR7eIPLMPg0BiV6irHg+DQCqR0yOKDoNAKpEJpfUNg0AKhEkvYQ2DQImWksLMDINAgfXjXjgMg0DnzTwEpAuDQMlMnLIPC4NASp8BansKg0Cv8msq5wmDQFF02vNSCYNAolFMxr4Ig0AzuMChKgiDQKjVNoaWB4NAxNetcwIHg0Bf7CRqbgaDQG9Bm2naBYNAAAUQckYFg0A5ZYKDsgSDQFqQ8Z0eBINAv7RcwYoDg0DZAMPt9gKDQDWjIyNjAoNAesp9Yc8Bg0BopdCoOwGDQNViG/mnAINAtzFdUhQAg0AYQZW0gP+CQB/Awh/t/oJACN7kk1n+gkAsyvoQxv2CQPyzA5cy/YJAAsv+JZ/8gkDjPuu9C/yCQFw/yF54+4JAQfyUCOX6gkCEpVC7UfqCQCxr+na++YJAXH2ROyv5gkBPDBUJmPiCQFpIhN8E+IJA6WHevnH3gkCDiSKn3vaCQMjvT5hL9oJAcsVlkrj1gkBRO2OVJfWCQFKCR6GS9IJAeMsRtv/zgkDhR8HTbPOCQMMoVfrZ8oJAbJ/MKUfygkBH3SZitPGCQNQTY6Mh8YJArXSA7Y7wgkCGMX5A/O+CQCt8W5xp74JAgYYXAdfugkCGgrFuRO6CQFKiKOWx7YJAFBh8ZB/tgkAVFqvsjOyCQLjOtH3664JAd3SYF2jrgkDlOVW61eqCQK5R6mVD6oJAl+5WGrHpgkB/Q5rXHumCQF2Ds52M6IJAPuGhbPrngkBMkGREaOeCQMjD+iTW5oJAC69jDkTmgkCIhZ4AsuWCQMl6qvsf5YJAdMKG/43kgkBCkDIM/OOCQAsYrSFq44JAu431P9jigkBaJQtnRuKCQAUT7Za04YJA9YqazyLhgkB6wRIRkeCCQPzqVFv/34JA/Dtgrm3fgkAW6TMK3N6CQPkmz25K3oJAciox3LjdgkBjKFlSJ92CQMlVRtGV3IJAuOf3WATcgkBcE23pctuCQPsNpYLh2oJA8gyfJFDagkC3RVrPvtmCQNnt1YIt2YJA/ToRP5zYgkDkYgsEC9iCQGSbw9F514JAbho5qOjWgkAKFmuHV9aCQFbEWG/G1YJAj1sBYDXVgkADEmRZpNSCQBwegFsT1IJAW7ZUZoLTgkBaEeF58dKCQMtlJJZg0oJAeeodu8/RgkBF1szoPtGCQCpgMB+u0IJAPL9HXh3QgkCkKhKmjM+CQKbZjvb7zoJAnAO9T2vOgkD735ux2s2CQEymKhxKzYJANY5oj7nMgkBuz1QLKcyCQM+h7o+Yy4JAQD01HQjLgkDG2Sezd8qCQH2vxVHnyYJAl/YN+VbJgkBh5/+oxsiCQD26mmE2yIJAqafdIqbHgkA26MfsFceCQJG0WL+FxoJAfEWPmvXFgkDS02p+ZcWCQIeY6mrVxIJApswNYEXEgkBQqdNdtcOCQMJnO2Qlw4JATkFEc5XCgkBdb+2KBcKCQHArNqt1wYJAJK8d1OXAgkAoNKMFVsCCQEj0xT/Gv4JAYimFgja/gkBwDeDNpr6CQITa1SEXvoJAxcplfoe9gkByGI/j97yCQOT9UFFovIJAibWqx9i7gkDqeZtGSbuCQKSFIs65uoJAbRM/Xiq6gkATXvD2mrmCQHygNZgLuYJApBUOQny4gkCg+Hj07LeCQJ2Eda9dt4JA3fQCc862gkC8hCA/P7aCQKxvzROwtYJAOPEI8SC1gkAARdLWkbSCQMCmKMUCtIJARlILvHOzgkB5g3m75LKCQFt2csNVsoJAAmf108axgkCckQHtN7GCQG4ylg6psIJA1oWyOBqwgkBIyFVri6+CQFA2f6b8roJAjwwu6m2ugkDBh2E2362CQLjkGItQrYJAXWBT6MGsgkCvNxBOM6yCQMSnTrykq4JAz+0NMxargkASR02yh6qCQOzwCzr5qYJA0ihJymqpgkBOLARj3KiCQAM5PAROqIJArIzwrb+ngkAZZSBgMaeCQDIAyxqjpoJA+Jvv3RSmgkB/do2phqWCQPbNo334pIJAoeAxWmqkgkDe7DY/3KOCQB0xsixOo4JA6OuiIsCigkDiWwghMqKCQMC/4SekoYJAU1YuNxahgkCBXu1OiKCCQEUXHm/6n4JAtb+/l2yfgkD6ltHI3p6CQFfcUgJRnoJAI89CRMOdgkDQrqCONZ2CQOK6a+GnnIJA+DKjPBqcgkDGVkagjJuCQBZmVAz/moJAy6DMgHGagkDeRq7945mCQF2Y+IJWmYJAcNWqEMmYgkBUPsSmO5iCQFwTREWul4JA85Qp7CCXgkCcA3Sbk5aCQO2fIlMGloJAl6o0E3mVgkBeZKnb65SCQCAOgKxelIJAz+i3hdGTgkB0NVBnRJOCQDE1SFG3koJAPCmfQyqSgkDkUlQ+nZGCQIzzZkEQkYJAr0zWTIOQgkDgn6Fg9o+CQMUuyHxpj4JAHjtJodyOgkDABiTOT46CQJfTVwPDjYJApOPjQDaNgkACeceGqYyCQN/VAdUcjIJAgTySK5CLgkBE73eKA4uCQJwwsvF2ioJAEUNAYeqJgkBDaSHZXYmCQOjlVFnRiIJAzvvZ4USIgkDV7a9yuIeCQPn+1Qssh4JASXJLrZ+GgkDqig9XE4aCQBmMIQmHhYJAKbmAw/qEgkCDVSyGboSCQKekI1Hig4JAKeplJFaDgkC3afL/yYKCQBFnyOM9goJAEibnz7GBgkCn6k3EJYGCQNT4+8CZgIJAt5TwxQ2AgkCBAivTgX+CQHeGquj1foJA+GRuBmp+gkB64nUs3n2CQIVDwFpSfYJAucxMkcZ8gkDNwhrQOnyCQI9qKReve4JA3wh4ZiN7gkC44gW+l3qCQCc90h0MeoJAUV3chYB5gkBziCP29HiCQNwDp25peIJA8xRm7913gkA2AWB4UneCQDcOlAnHdoJAoIEBozt2gkAvoadEsHWCQLqyhe4kdYJAKvyaoJl0gkCDw+ZaDnSCQNlOaB2Dc4JAWuQe6PdygkBHygm7bHKCQPtGKJbhcYJA46B5eVZxgkCDHv1ky3CCQHUGslhAcIJAaZ+XVLVvgkAmMK1YKm+CQIf/8WSfboJAfFRleRRugkAOdgaWiW2CQFir1Lr+bIJAjjvP53NsgkD5bfUc6WuCQPWJRlpea4JA+dbBn9NqgkCLnGbtSGqCQE4iNEO+aYJA9K8poTNpgkBLjUYHqWiCQDACinUeaIJAmlbz65NngkCW0oFqCWeCQEW+NPF+ZoJA3GELgPRlgkCpBQUXamWCQA/yILbfZIJAhG9eXVVkgkCWxrwMy2OCQOc/O8RAY4JAMSTZg7ZigkBBvJVLLGKCQPpQcBuiYYJAVSto8xdhgkBhlHzTjWCCQEHVrLsDYIJALzf4q3lfgkB5A16k716CQIWD3aRlXoJAywB2rdtdgkDaxCa+UV2CQFgZ79bHXIJA/kfO9z1cgkCamsMgtFuCQBNbzlEqW4JAYtPtiqBagkCWTSHMFlqCQNMTaBWNWYJAVXDBZgNZgkBprSzAeViCQHUVqSHwV4JA9PI1i2ZXgkBykNL83FaCQJY4fnZTVoJAGTY4+MlVgkDJ0/+BQFWCQIxc1BO3VIJAWRu1rS1UgkBAW6FPpFOCQGVnmPkaU4JA/4qZq5FSgkBfEaRlCFKCQOZFtyd/UYJADHTS8fVQgkBg5/TDbFCCQITrHZ7jT4JAMMxMgFpPgkAw1YBq0U6CQGZSuVxIToJAyY/1Vr9NgkBl2TRZNk2CQFt7dmOtTIJA4sG5dSRMgkBD+f2Pm0uCQOBtQrISS4JALmyG3IlKgkC1QMkOAUqCQBY4Ckl4SYJABJ9Ii+9IgkBJwoPVZkiCQMHuuifeR4JAYXHtgVVHgkAvlxrkzEaCQEitQU5ERoJA3QBiwLtFgkA233o6M0WCQK2Vi7yqRIJAsXGTRiJEgkDJwJHYmUOCQI7QhXIRQ4JAru5uFIlCgkDsaEy+AEKCQCGNHXB4QYJAOqnhKfBAgkA4C5jrZ0CCQDIBQLXfP4JAU9nYhlc/gkDb4WFgzz6CQB5p2kFHPoJAhr1BK789gkCRLZccNz2CQNEH2hWvPIJA7poJFyc8gkCkNSUgnzuCQMQmLDEXO4JAM70dSo86gkDqR/lqBzqCQPkVvpN/OYJAhHZrxPc4gkDAuAD9bziCQPsrfT3oN4JAlx/ghWA3gkAH4yjW2DaCQNfFVi5RNoJApRdpjsk1gkAjKF/2QTWCQBpHOGa6NIJAZcTz3TI0gkD175BdqzOCQNAZD+UjM4JAD5JtdJwygkDeqKsLFTKCQIOuyKqNMYJAUfPDUQYxgkC2x5wAfzCCQDF8Urf3L4JAVWHkdXAvgkDMx1E86S6CQFIAmgpiLoJAt1u84NotgkDjKri+Uy2CQM2+jKTMLIJAhWg5kkUsgkAueb2HviuCQP1BGIU3K4JAPhRJirAqgkBRQU+XKSqCQKgaKqyiKYJAzPHYyBspgkBYGFvtlCiCQP7frxkOKIJAgZrWTYcngkC7mc6JACeCQJgvl815JoJAGq4vGfMlgkBVZ5dsbCWCQHStzcflJIJAtNLRKl8kgkBmKaOV2COCQPEDQQhSI4JAz7SqgssigkCNjt8ERSKCQM/j3o6+IYJASgeoIDghgkDJSzq6sSCCQCkElVsrIIJAX4O3BKUfgkBvHKG1Hh+CQHUiUW6YHoJAoOjGLhIegkAxwgH3ix2CQH8CAccFHYJA9vzDnn8cgkATBUp++RuCQGlukmVzG4JAn4ycVO0agkBus2dLZxqCQKU280nhGYJAJmo+UFsZgkDooUhe1RiCQPQxEXRPGIJAaW6XkckXgkB3q9q2QxeCQGU92uO9FoJAjHiVGDgWgkBZsQtVshWCQE08PJksFYJA/m0m5aYUgkAUm8k4IRSCQEwYJZSbE4JAdTo49xUTgkB0VgJikBKCQEHBgtQKEoJA58+4ToURgkCG16PQ/xCCQFEtQ1p6EIJAjiaW6/QPgkCYGJyEbw+CQNxYVCXqDoJA3jy+zWQOgkAyGtl93w2CQIFGpDVaDYJAiBcf9dQMgkAX40i8TwyCQBT/IIvKC4JAdMGmYUULgkBFgNk/wAqCQKORuCU7CoJAwktDE7YJgkDpBHkIMQmCQG8TWQWsCIJAw83iCScIgkBlihUWogeCQOqf8CkdB4JA+GRzRZgGgkBLMJ1oEwaCQLJYbZOOBYJADzXjxQkFgkBYHP7/hASCQJVlvUEABIJA42cgi3sDgkBzeibc9gKCQIb0zjRyAoJAdi0Zle0BgkCrfAT9aAGCQKM5kGzkAIJA77u7418AgkA0W4Zi2/+BQClv7+hW/4FAmU/2dtL+gUBjVJoMTv6BQHnV2qnJ/YFA3yq3TkX9gUCurC77wPyBQBGzQK88/IFASJbsarj7gUCkrjEuNPuBQIxUD/mv+oFAeOCEyyv6gUD0qpGlp/mBQJ4MNYcj+YFAKl5ucJ/4gUBe+DxhG/iBQBE0oFmX94FAMWqXWRP3gUC88yFhj/aBQMQpP3AL9oFAcGXuhof1gUD4/y6lA/WBQKdSAMt/9IFA3bZh+PvzgUALhlItePOBQLcZ0mn08oFAecvfrXDygUD89Hr57PGBQP/vokxp8YFAUxZXp+XwgUDdwZYJYvCBQJRMYXPe74FAghC25FrvgUDGZ5Rd1+6BQJCs+91T7oFAJDnrZdDtgUDXZ2L1TO2BQBSTYIzJ7IFAVhXlKkbsgUAvSe/QwuuBQD+Jfn4/64FAPDCSM7zqgUDwmCnwOOqBQDMeRLS16YFA9hrhfzLpgUA36v9Sr+iBQA3nny0s6IFAnGzAD6nngUAg1mD5JeeBQOR+gOqi5oFAR8Ie4x/mgUC7+zrjnOWBQMWG1OoZ5YFA/r7q+ZbkgUAPAH0QFOSBQLalii6R44FAwwsTVA7jgUAYjhWBi+KBQKyIkbUI4oFAhleG8YXhgUDBVvM0A+GBQIzi13+A4IFAJlcz0v3fgUDkEAUse9+BQCpsTI343oFAccUI9nXegUBFeTlm892BQEPk3d1w3YFAHGP1XO7cgUCTUn/ja9yBQH0Pe3Hp24FAxPbnBmfbgUBiZcWj5NqBQGW4Ekhi2oFA7UzP89/ZgUAsgPqmXdmBQGmvk2Hb2IFA+jeaI1nYgUBLdw3t1teBQNjK7L1U14FAMpA3ltLWgUD4JO11UNaBQOHmDF3O1YFAtDOWS0zVgUBJaYhBytSBQI3l4j5I1IFAfgalQ8bTgUAtKs5PRNOBQL2uXWPC0oFAZfJSfkDSgUBsU62gvtGBQCwwbMo80YFAFOeO+7rQgUCh1hQ0OdCBQGdd/XO3z4FACNpHuzXPgUA8q/MJtM6BQMwvAGAyzoFAksZsvbDNgUB7zjgiL82BQImmY46tzIFAza3sASzMgUBsQ9N8qsuBQJvGFv8oy4FApJa2iKfKgUDjErIZJsqBQMWaCLKkyYFAyY25USPJgUCCS8T4ociBQJQzKKcgyIFAtaXkXJ/HgUCvAfkZHseBQFunZN6cxoFAp/YmqhvGgUCSTz99msWBQC4SrVcZxYFAnp5vOZjEgUAYVYYiF8SBQOOV8BKWw4FAW8GtChXDgUDpN70JlMKBQA5aHhATwoFAWYjQHZLBgUBsI9MyEcGBQPyLJU+QwIFA0SLHcg/AgUDASLedjr+BQLde9c8Nv4FAscWACY2+gUC93lhKDL6BQPwKfZKLvYFAoKvs4Qq9gUDvIac4iryBQD7Pq5YJvIFA9xT6+4i7gUCVVJFoCLuBQKPvcNyHuoFAwEeYVwe6gUCdvgbahrmBQPy1u2MGuYFAso+29IW4gUClrfaMBbiBQMxxeyyFt4FAMz5E0wS3gUD0dFCBhLaBQD94nzYEtoFAUaow84O1gUB9bQO3A7WBQCYkF4KDtIFAwTBrVAO0gUDV9f4tg7OBQPzV0Q4Ds4FA3zPj9oKygUA7cjLmArKBQN3zvtyCsYFApxuI2gKxgUCJTI3fgrCBQIjpzesCsIFAt1VJ/4KvgUA+9P4ZA6+BQFco7juDroFASlUWZQOugUB03naVg62BQEMnD80DrYFANpPeC4SsgUDfheRRBKyBQN9iIJ+Eq4FA7I2R8wSrgUDLajdPhaqBQFRdEbIFqoFAcckeHIapgUAbE1+NBqmBQGGe0QWHqIFAX891hQeogUBGCksMiKeBQFezUJoIp4FA5C6GL4mmgUBS4erLCaaBQBcvfm+KpYFAu3w/GgulgUDWLi7Mi6SBQBKqSYUMpIFALVORRY2jgUDzjgQNDqOBQEPCotuOooFAD1JrsQ+igUBYo12OkKGBQDAbeXIRoYFAvR69XZKggUA2EylQE6CBQOJdvEmUn4FAGmR2ShWfgUBKi1ZSlp6BQOw4XGEXnoFAjtKGd5idgUDPvdWUGZ2BQF9gSLmanIFA/x/e5BucgUCDYpYXnZuBQM6NcFEem4FA1gdskp+agUCiNojaIJqBQEqAxCmimYFA90oggCOZgUDl/JrdpJiBQF78M0ImmIFAwa/qraeXgUB9fb4gKZeBQBDMrpqqloFADAK7GyyWgUAThuKjrZWBQNm+JDMvlYFAJBOBybCUgUDI6fZmMpSBQKyphQu0k4FAy7kstzWTgUArgetpt5KBQOpmwSM5koFAMtKt5LqRgUBAKrCsPJGBQGTWx3u+kIFA/D30UUCQgUB4yDQvwo+BQFvdiBNEj4FANuTv/sWOgUCvRGnxR46BQHhm9OrJjYFAWrGQ60uNgUAqjT3zzYyBQNFh+gFQjIFASJfGF9KLgUCZlaE0VIuBQN/EiljWioFAR42Bg1iKgUAOV4W12omBQIKKle5ciYFAApCxLt+IgUD/z9h1YYiBQPqyCsTjh4FAhaFGGWaHgUBDBIx16IaBQOlD2thqhoFAPMkwQ+2FgUAQ/Y60b4WBQE9I9CzyhIFA7hNgrHSEgUD3yNEy94OBQITQSMB5g4FAv5PEVPyCgUDje0TwfoKBQD3yx5IBgoFAKWBOPISBgUAWL9fsBoGBQITIYaSJgIFA/5XtYgyAgUArAXooj3+BQLdzBvURf4FAZleSyJR+gUALFh2jF36BQIkZpoSafYFA1cssbR19gUD0lrBcoHyBQPzkMFMjfIFAEyCtUKZ7gUBxsiRVKXuBQF8Gl2CseoFANIYDcy96gUBanGmMsnmBQE2zyKw1eYFAljUg1Lh4gUDSjW8CPHiBQKwmtje/d4FA42rzc0J3gUBCxSa3xXaBQKmgTwFJdoFAB2htUsx1gUBbhn+qT3WBQLVmhQnTdIFANnR+b1Z0gUAQGmrc2XOBQIXDR1Bdc4FA5tsWy+BygUCYztZMZHKBQA0Hh9XncYFAy/AmZWtxgUBm97X77nCBQIOGM5lycIFA2QmfPfZvgUAt7ffoeW+BQFacPZv9boFAPYNvVIFugUDYDY0UBW6BQDKolduIbYFAYL6IqQxtgUCPvGV+kGyBQPYOLFoUbIFA4iHbPJhrgUCrYXImHGuBQL468RagaoFAlhlXDiRqgUC/aqMMqGmBQNWa1REsaYFAhBbtHbBogUCLSukwNGiBQLejyUq4Z4FA5Y6NazxngUADeTSTwGaBQBHPvcFEZoFAHf4o98hlgUBHc3UzTWWBQL+bonbRZIFAwuSvwFVkgUCku5wR2mOBQMONaGleY4FAkMgSyOJigUCO2ZotZ2KBQEwuAJrrYYFAbTRCDXBhgUCiWWCH9GCBQK4LWgh5YIFAY7gukP1fgUCkzd0egl+BQGO5ZrQGX4FApOnIUItegUB4zAP0D16BQAXQFp6UXYFAfmIBTxldgUAm8sIGnlyBQFHtWsUiXIFAZMLIiqdbgUDR3wtXLFuBQB+0IyqxWoFA4q0PBDZagUC9O8/kulmBQGfMYcw/WYFAo87GusRYgUBGsf2vSViBQDbjBazOV4FAZ9PerlNXgUDg8Ie42FaBQLWqAMldVoFAC3BI4OJVgUAXsF7+Z1WBQCHaQiPtVIFAel30TnJUgUCMqXKB91OBQMktvbp8U4FAuFnT+gFTgUDvnLRBh1KBQBFnYI8MUoFA1ifW45FRgUACTxU/F1GBQGtMHaGcUIFA9Y/tCSJQgUCWiYV5p0+BQFOp5O8sT4FAQV8KbbJOgUCFG/bwN06BQFROp3u9TYFA82cdDUNNgUC12FelyEyBQAERVkROTIFASoEX6tNLgUAUmpuWWUuBQPTL4UnfSoFAjYfpA2VKgUCTPbLE6kmBQMteO4xwSYFABlyEWvZIgUAppowvfEiBQCeuUwsCSIFAA+XY7YdHgUDOuxvXDUeBQKujG8eTRoFAzg3YvRlGgUB3a1C7n0WBQPkthL8lRYFAtMZyyqtEgUAapxvcMUSBQKtAfvS3Q4FA+gSaEz5DgUClZW45xEKBQF3U+mVKQoFA4cI+mdBBgUABoznTVkGBQJzm6hPdQIFAof9RW2NAgUANYG6p6T+BQPF5P/5vP4FAaL/EWfY+gUCfov27fD6BQNaV6SQDPoFAVwuIlIk9gUB+ddgKED2BQLlG2oeWPIFAgfGMCx08gUBj6O+VozuBQPedAicqO4FA6oTEvrA6gUD0DzVdNzqBQN6xUwK+OYFAgd0frkQ5gUDGBZlgyziBQKSdvhlSOIFAIxiQ2dg3gUBZ6AygXzeBQG2BNG3mNoFAlFYGQW02gUAV24Eb9DWBQEOCpvx6NYFAgr9z5AE1gUBIBunSiDSBQBbKBcgPNIFAgH7Jw5YzgUAnlzPGHTOBQLyHQ8+kMoFAAcT43isygUDHv1L1sjGBQOvuUBI6MYFAX8XyNcEwgUAgtzdgSDCBQDs4H5HPL4FAzryoyFYvgUAHudMG3i6BQCChn0tlLoFAZekLl+wtgUAwBhjpcy2BQOtrw0H7LIFAEI8NoYIsgUAn5PUGCiyBQMjfe3ORK4FAmvae5hgrgUBTnV5goCqBQLpIuuAnKoFAom2xZ68pgUDxgEP1NimBQJr3b4m+KIFAnkY2JEYogUAS45XFzSeBQBVCjm1VJ4FA2NgeHN0mgUCbHEfRZCaBQKyCBo3sJYFAaYBcT3QlgUBAi0gY/CSBQK0YyueDJIFAPJ7gvQskgUCGkYuakyOBQDdoyn0bI4FAB5icZ6MigUC+lgFYKyKBQDTa+E6zIYFAT9iBTDshgUAEB5xQwyCBQFjcRltLIIFAX86BbNMfgUA7U0yEWx+BQB/hpaLjHoFATO6Nx2segUAQ8QPz8x2BQMxfByV8HYFA77CXXQQdgUDzWrScjByBQGfUXOIUHIFA5ZOQLp0bgUAYEE+BJRuBQLi/l9qtGoFAjhlqOjYagUBzlMWgvhmBQEqnqQ1HGYFACskVgc8YgUC3cAn7VxiBQGQVhHvgF4FANC6FAmkXgUBXMgyQ8RaBQA2ZGCR6FoFApdmpvgIWgUB+a79fixWBQAPGWAcUFYFAsWB1tZwUgUARsxRqJRSBQL80NiWuE4FAYV3Z5jYTgUCvpP2uvxKBQG+Con1IEoFAdm7HUtERgUCo4GsuWhGBQPdQjxDjEIFAZTcx+WsQgUADDFHo9A+BQO5G7t19D4FAVmAI2gYPgUB20J7cjw6BQJsPseUYDoFAH5Y+9aENgUBq3EYLKw2BQPVaySe0DIFAR4rFSj0MgUDz4jp0xguBQKDdKKRPC4FA//KO2tgKgUDTm2wXYgqBQOpQwVrrCYFAJouMpHQJgUByw830/QiBQMxyhEuHCIFAQBKwqBAIgUDlGlAMmgeBQOcFZHYjB4FAekzr5qwGgUDlZ+VdNgaBQH3RUdu/BYFApQIwX0kFgUDOdH/p0gSBQHmhP3pcBIFANQJwEeYDgUCgEBCvbwOBQGVGH1P5AoFAQR2d/YICgUD7DomuDAKBQGyV4mWWAYFAeyqpIyABgUAdSNznqQCBQFZoe7IzAIFANwWGg73/gEDimPtaR/+AQIad2zjR/oBAYo0lHVv+gEDA4tgH5f2AQP0X9fhu/YBAgqd58Pj8gEDHC2bugvyAQFG/ufIM/IBAtzx0/Zb7gECb/pQOIfuAQK9/Gyar+oBAtDoHRDX6gEB4qldov/mAQNpJDJNJ+YBAw5MkxNP4gEAuA6D7XfiAQCUTfjno94BAvT6+fXL3gEAcAWDI/PaAQHfVYhmH9oBADjfGcBH2gEAzoYnOm/WAQEWPrDIm9YBAr3wunbD0gEDw5A4OO/SAQI9DTYXF84BAJhTpAlDzgEBc0uGG2vKAQOT5NhFl8oBAgwbooe/xgEALdPQ4evGAQFq+W9YE8YBAYGEdeo/wgEAY2TgkGvCAQI+hrdSk74BA3TZ7iy/vgEAoFaFIuu6AQKe4HgxF7oBAnp3z1c/tgEBfQB+mWu2AQEsdoXzl7IBAz7B4WXDsgEBod6U8++uAQKPtJiaG64BAGJD8FRHrgEBu2yUMnOqAQFxMoggn6oBApF9xC7LpgEAakpIUPemAQJxgBSTI6IBAG0jJOVPogECSxd1V3ueAQAtWQnhp54BAoXb2oPTmgEB5pPnPf+aAQMlcSwUL5oBA1BzrQJblgEDrYdiCIeWAQG6pEsus5IBAy3CZGTjkgEB8NWxuw+OAQAx1islO44BAE63zKtrigEA2W6eSZeKAQCn9pADx4YBArhDsdHzhgECWE3zvB+GAQL6DVHCT4IBAEt909x7ggECNo9yEqt+AQDZPixg234BAJWCAssHegEB8VLtSTd6AQG6qO/nY3YBAPOAApmTdgEAzdApZ8NyAQK/kVxJ83IBAG7Do0QfcgEDuVLyXk9uAQK9R0mMf24BA8SQqNqvagEBWTcMON9qAQI9Jne3C2YBAWJi30k7ZgEB9uBG+2tiAQNgoq69m2IBAUGiDp/LXgEDb9ZmlfteAQHxQ7qkK14BAQvd/tJbWgEBQaU7FItaAQM8lWdyu1YBA/Kuf+TrVgEAeeyEdx9SAQIwS3kZT1IBAq/HUdt/TgEDslwWta9OAQM+Eb+n30oBA4jcSLITSgEDAMO10ENKAQBLv/8Oc0YBAkPJJGSnRgED+usp0tdCAQC/IgdZB0IBAA5puPs7PgEBosJCsWs+AQFuL5yDnzoBA5apym3POgEAejzEcAM6AQCm4I6OMzYBAO6ZIMBnNgECU2Z/DpcyAQIHSKF0yzIBAYBHj/L7LgECZFs6iS8uAQKRi6U7YyoBAB3Y0AWXKgEBT0a658cmAQCr1V3h+yYBAOGIvPQvJgEA7mTQImMiAQPsaZ9kkyIBAT2jGsLHHgEAcAlKOPseAQFRpCXLLxoBA9x7sW1jGgEATpPlL5cWAQMJ5MUJyxYBALSGTPv/EgECLGx5BjMSAQB/q0UkZxIBAOg6uWKbDgEA9CbJtM8OAQJNc3YjAwoBAtokvqk3CgEAuEqjR2sGAQJF3Rv9nwYBAgDsKM/XAgECt3/JsgsCAQNTl/6wPwIBAws8w85y/gEBPH4U/Kr+AQGJW/JG3voBA7faV6kS+gEDzglFJ0r2AQIN8Lq5fvYBAtmUsGe28gEC6wEqKeryAQMQPiQEIvIBAGNXmfpW7gEAJk2MCI7uAQPfL/ouwuoBATQK4Gz66gECHuI6xy7mAQCxxgk1ZuYBA0a6S7+a4gEAZ9L6XdLiAQLTDBkYCuIBAX6Bp+o+3gEDkDOe0HbeAQByMfnWrtoBA7KAvPDm2gEBHzvkIx7WAQC6X3NtUtYBArH7XtOK0gEDeB+qTcLSAQOu1E3n+s4BACQxUZIyzgEB7japVGrOAQJG9Fk2osoBAqB+YSjaygEAqNy5OxLGAQJCH2FdSsYBAYJSWZ+CwgEAr4Wd9brCAQJHxS5n8r4BAQElCu4qvgEDxa0rjGK+AQGzdYxGnroBAhyGORTWugEAjvMh/w62AQC8xE8BRrYBAqARtBuCsgECXutVSbqyAQBTXTKX8q4BAQt7R/YqrgEBUVGRcGauAQIW9A8GnqoBAJZ6vKzaqgECJemecxKmAQBrXKhNTqYBASTj5j+GogECXItIScKiAQJIatZv+p4BA1KShKo2ngEAERpe/G6eAQNiClVqqpoBAEuCb+zimgECB4qmix6WAQP8Ov09WpYBAeOraAuWkgEDh+fy7c6SAQD/CJHsCpIBAoMhRQJGjgEAjkoMLIKOAQPOjudyuooBARoPzsz2igEBjtTCRzKGAQJq/cHRboYBASyezXeqggEDgcfdMeaCAQNQkPUIIoIBArMWDPZefgED72co+Jp+AQGDnEUa1noBAiXNYU0SegEAwBJ5m052AQBsf4n9inYBAHkokn/GcgEAaC2TEgJyAQP3noO8PnIBAwWbaIJ+bgEBuDRBYLpuAQBliQZW9moBA4+pt2EyagED6LZUh3JmAQJuxtnBrmYBADfzRxfqYgEClk+YgipiAQMb+84EZmIBA38P56KiXgEBqafdVOJeAQPN17MjHloBADXDYQVeWgEBb3rrA5pWAQI1Hk0V2lYBAXjJh0AWVgECZJSRhlZSAQBOo2/cklIBArkCHlLSTgEBbdiY3RJOAQBXQuN/TkoBA5dQ9jmOSgEDjC7VC85GAQDD8Hf2CkYBA/Sx4vRKRgECEJcODopCAQBFt/k8ykIBA+IopIsKPgECdBkT6UY+AQG5nTdjhjoBA6DRFvHGOgECV9iqmAY6AQAo0/pWRjYBA6HS+iyGNgEDgQGuHsYyAQK0fBIlBjIBAGJmIkNGLgED3NPidYYuAQCt7UrHxioBAo/OWyoGKgEBaJsXpEYqAQFmb3A6iiYBAtNrcOTKJgECNbMVqwoiAQBLZlaFSiIBAfahN3uKHgEAWY+wgc4eAQDKRcWkDh4BAMLvct5OGgEB+aS0MJIaAQJckY2a0hYBA/3R9xkSFgEBM43ss1YSAQBz4XZhlhIBAHTwjCvaDgEAGOMuBhoOAQJ10Vf8Wg4BAtXrBgqeCgEAs0w4MOIKAQO4GPZvIgYBA855LMFmBgEA+JDrL6YCAQOAfCGx6gIBA+Bq1EguAgECvnkC/m3+AQDs0qnEsf4BA4WTxKb1+gEDuuRXoTX6AQMC8FqzefYBAvvbzdW99gEBf8axFAH2AQCM2QRuRfIBAmE6w9iF8gEBaxPnXsnuAQA8hHb9De4BAau4ZrNR6gEAqtu+eZXqAQB4Cnpf2eYBAHVwklod5gEANToKaGHmAQOBht6SpeIBAkiHDtDp4gEAwF6XKy3eAQM/MXOZcd4BAk8zpB+52gECsoEsvf3aAQFbTgVwQdoBA2e6Lj6F1gECLfWnIMnWAQMwJGgfEdIBACR6dS1V0gEC+RPKV5nOAQHAIGeZ3c4BAs/MQPAlzgEAkkdmXmnKAQG9rcvkrcoBATQ3bYL1xgECAARPOTnGAQNrSGUHgcIBANwzvuXFwgECAOJI4A3CAQKniAr2Ub4BAtZVARyZvgECy3ErXt26AQLhCIW1JboBA8FLDCNttgECLmDCqbG2AQMieaFH+bIBA8vBq/o9sgEBhGjexIWyAQHmmzGmza4BAqSArKEVrgEBsFFLs1mqAQEwNQbZoaoBA3Zb3hfppgEDBPHVbjGmAQKKKuTYeaYBAPAzEF7BogEBSTZT+QWiAQLbZKevTZ4BARz2E3WVngEDvA6PV92aAQKK5hdOJZoBAY+or1xtmgEBBIpXgrWWAQFXtwO8/ZYBAyNeuBNJkgEDKbV4fZGSAQJw7zz/2Y4BAiM0AZohjgEDlr/KRGmOAQBdvpMOsYoBAjJcV+z5igEDAtUU40WGAQDxWNHtjYYBAkQXhw/VggEBgUEsSiGCAQFXDcmYaYIBAJ+tWwKxfgECbVPcfP1+AQICMU4XRXoBAsh9r8GNegEAZmz1h9l2AQKqLyteIXYBAZH4RVBtdgEBTABLWrVyAQJCey11AXIBAPuY969JbgECPZGh+ZVuAQLymShf4WoBAETrktYpagEDfqzRaHVqAQIeJOwSwWYBAdmD4s0JZgEAjvmpp1ViAQBIwkiRoWIBA1ENu5fpXgEADh/6rjVeAQEmHQnggV4BAWNI5SrNWgEDw9eMhRlaAQN5/QP/YVYBA+P1O4mtVgEAj/g7L/lSAQEwOgLmRVIBAcbyhrSRUgECXlnOnt1OAQNMq9aZKU4BAQgcmrN1SgEAQugW3cFKAQHPRk8cDUoBArtvP3ZZRgEAQZ7n5KVGAQPIBUBu9UIBAuzqTQlBQgEDdn4Jv40+AQNW/HaJ2T4BALSlk2glPgEB7alUYnU6AQF8S8VswToBAh682pcNNgECs0CX0Vk2AQJIEvkjqTIBAC9r+on1MgEDx3+cCEUyAQC6leGikS4BAtLiw0zdLgECEqY9Ey0qAQKgGFbteSoBAOV9AN/JJgEBYQhG5hUmAQDU/h0AZSYBACeWhzaxIgEAaw2BgQEiAQLxow/jTR4BASmXJlmdHgEAvSHI6+0aAQN+gveOORoBA2v6qkiJGgECu8TlHtkWAQPEIagFKRYBASdQ6wd1EgEBk46uGcUSAQPzFvFEFRIBA2wttIplDgEDPRLz4LEOAQLsAqtTAQoBAhM81tlRCgEAjQV+d6EGAQJblJYp8QYBA7EyJfBBBgEA8B4l0pECAQKqkJHI4QIBAZrVbdcw/gECqyS1+YD+AQL5xmoz0PoBA8z2hoIg+gECnvkG6HD6AQEWEe9mwPYBAQR9O/kQ9gEAbILko2TyAQF8XvFhtPIBAppVWjgE8gECTK4jJlTuAQNRpUAoqO4BAJOGuUL46gEBKIqOcUjqAQBW+LO7mOYBAZEVLRXs5gEAeSf6hDzmAQDhaRQSkOIBAsgkgbDg4gECW6I3ZzDeAQPqHjkxhN4BAAnkhxfU2gEDZTEZDijaAQLqU/MYeNoBA6eFDULM1gEC1xRvfRzWAQHvRg3PcNIBAoJZ7DXE0gECYpgKtBTSAQN+SGFKaM4BA/+y8/C4zgECORu+swzKAQCkxr2JYMoBAfz78He0xgEBEANbegTGAQDsIPKUWMYBAM+gtcaswgEADMqtCQDCAQJF3sxnVL4BAzUpG9mkvgECxPWPY/i6AQETiCcCTLoBAmco5rSgugEDNiPKfvS2AQAevM5hSLYBAfc/8lecsgEBvfE2ZfCyAQCVIJaIRLIBA98SDsKYrgEBHhWjEOyuAQIAb093QKoBAGxrD/GUqgECbEzgh+ymAQJCaMUuQKYBAkkGveiUpgEBIm7CvuiiAQGE6NepPKIBAm7E8KuUngEC7k8ZveieAQJNz0roPJ4BAA+RfC6UmgEDzd25hOiaAQFfC/bzPJYBALlYNHmUlgECExpyE+iSAQG2mq/CPJIBADIk5YiUkgECMAUbZuiOAQCaj0FVQI4BAGwHZ1+UigEC7rl5feyKAQF4/YewQIoBAaEbgfqYhgEBKV9sWPCGAQH8FUrTRIIBAi+RDV2cggEACiLD//B+AQH2Dl62SH4BApmr4YCgfgEAv0dIZvh6AQNZKJthTHoBAY2vym+kdgECrxjZlfx2AQI3w8jMVHYBA9HwmCKscgEDV/9DhQByAQDEN8sDWG4BAEzmJpWwbgECSF5aPAhuAQNE8GH+YGoBA/DwPdC4agEBLrHpuxBmAQAMfWm5aGYBAcCmtc/AYgEDtX3N+hhiAQN5WrI4cGIBAsqJXpLIXgEDl13S/SBeAQPuKA+DeFoBAhVADBnUWgEAgvXMxCxaAQHJlVGKhFYBALd6kmDcVgEANvGTUzRSAQNuTkxVkFIBAafowXPoTgECVhDyokBOAQEnHtfkmE4BAd1ecUL0SgEAgyu+sUxKAQEy0rw7qEYBAEavbdYARgECPQ3PiFhGAQPASdlStEIBAaa7jy0MQgEA9q7tI2g+AQLae/cpwD4BAKx6pUgcPgED+vr3fnQ6AQJsWO3I0DoBAerogCssNgEAcQG6nYQ2AQBA9I0r4DIBA7UY/8o4MgEBX88GfJQyAQPzXqlK8C4BAk4r5ClMLgEDjoK3I6QqAQLmwxouACoBA7U9EVBcKgEBnFCYirgmAQBOUa/VECYBA7WQUztsIgED7HCCscgiAQEpSjo8JCIBA+JpeeKAHgEAojZBmNweAQAy/I1rOBoBA3sYXU2UGgEDmOmxR/AWAQHOxIFWTBYBA48A0XioFgECa/6dswQSAQAsEeoBYBIBAsmSqme8DgEAVuDi4hgOAQMiUJNwdA4BAZZFtBbUCgECVRBM0TAKAQApFFWjjAYBAfylzoXoBgEC/iCzgEQGAQJr5QCSpAIBA7RKwbUAAgEBE1/J4r/9/QFI1OSHe/n9AA24y1Az+f0Bmr92RO/1/QKAnOlpq/H9A7ARHLZn7f0CbdQMLyPp/QBSobvP2+X9A0cqH5iX5f0BkDE7kVPh/QHObwOyD939AuKbe/7L2f0AGXacd4vV/QEHtGUYR9X9AaIY1eUD0f0CKV/m2b/N/QMyPZP+e8n9AbF52Us7xf0C68i2w/fB/QBx8ihgt8H9ADiqLi1zvf0AgLC8JjO5/QPqxdZG77X9AVOtdJOvsf0ABCOfBGux/QOg3EGpK639AAKvYHHrqf0BdkT/aqel/QCIbRKLZ6H9Ai3jldAnof0Dm2SJSOed/QJtv+zlp5n9AIWpuLJnlf0AJ+nopyeR/QPZPIDH5439Ao5xdQynjf0DeEDJgWeJ/QIvdnIeJ4X9AoTOdubngf0AxRDL26d9/QFtAWz0a339AWVkXj0ref0B4wGXret1/QBmnRVKr3H9AtT62w9vbf0DVuLY/DNt/QB1HRsY82n9AQRtkV23Zf0AQZw/zndh/QGVcR5nO139AOC0LSv/Wf0CTC1oFMNZ/QJYpM8tg1X9Ac7mVm5HUf0Bz7YB2wtN/QPX381vz0n9AagvuSyTSf0BcWm5GVdF/QGYXdEuG0H9AOnX+WrfPf0Ccpgx16M5/QGnenZkZzn9Akk+xyErNf0AaLUYCfMx/QBuqW0aty39AxPnwlN7Kf0BXTwXuD8p/QC3el1FByX9Astmnv3LIf0BodTQ4pMd/QOTkPLvVxn9A1FvASAfGf0D2Db7gOMV/QB4vNYNqxH9ANfMkMJzDf0A7joznzcJ/QEA0a6n/wX9AbhnAdTHBf0D/cYpMY8B/QEVyyS2Vv39ApE58Gce+f0CXO6IP+b1/QKxtOhArvX9AhxlEG128f0Dfc74wj7t/QIGxqFDBun9ATgcCe/O5f0A8qsmvJbl/QFTP/u5XuH9AtqugOIq3f0CVdK6MvLZ/QDpfJ+vutX9A/6AKVCG1f0BXb1fHU7R/QMb/DEWGs39A54cqzbiyf0BpPa9f67F/QA5WmvwdsX9ArQfro1Cwf0A0iKBVg69/QKANuhG2rn9ACc422Oitf0CX/xWpG61/QIfYVoROrH9ALI/4aYGrf0DrWfpZtKp/QEFvW1TnqX9AvQUbWRqpf0ABVDhoTah/QMaQsoGAp39A2fKIpbOmf0AZsbrT5qV/QHwCRwwapX9ADR4tT02kf0DnOmycgKN/QD2QA/Szon9AVFXyVeehf0CKwTfCGqF/QEsM0zhOoH9AGm3DuYGff0CQGwhFtZ5/QFZPoNronX9AL0CLehydf0DtJcgkUJx/QHk4VtmDm39Az680mLeaf0D/w2Jh65l/QDCt3zQfmX9AmqOqElOYf0CI38L6hpd/QF6ZJ+26ln9AkQnY6e6Vf0CqaNPwIpV/QEjvGAJXlH9AG9anHYuTf0DqVX9Dv5J/QI6nnnPzkX9A9wMFrieRf0AmpLHyW5B/QDHBo0GQj39AQ5TamsSOf0CaVlX++I1/QIlBE2wtjX9AdY4T5GGMf0DZdlVmlot/QEY02PLKin9AWwCbif+Jf0DQFJ0qNIl/QG6r3dVoiH9AFv5bi52Hf0C4RhdL0oZ/QFy/DhUHhn9AGqJB6TuFf0AiKa/HcIR/QLWOVrClg39AKw03o9qCf0Ds3k+gD4J/QHU+oKdEgX9AWWYnuXmAf0A9keTUrn9/QNz51vrjfn9AAdv9Khl+f0CNb1hlTn1/QHfy5amDfH9Axp6l+Lh7f0CWr5ZR7np/QBlguLQjen9AkusJIll5f0BajYqZjnh/QNyAORvEd39AlgEWp/l2f0AcSx89L3Z/QBeZVN1kdX9APye1h5p0f0BjMUA80HN/QGXz9PoFc39APanSwztyf0DyjtiWcXF/QKHgBXSncH9Ae9pZW91vf0DGuNNME29/QNm3ckhJbn9AIBQ2Tn9tf0AaCh1etWx/QFvWJnjra39AibVSnCFrf0Bf5J/KV2p/QKqfDQOOaX9ASySbRcRof0A4r0eS+md/QHp9EukwZ39ALMz6SWdmf0B+2P+0nWV/QLTfICrUZH9AJB9dqQpkf0A51LMyQWN/QHA8JMZ3Yn9AXJWtY65hf0CfHE8L5WB/QPQPCL0bYH9AJa3XeFJff0ARMr0+iV5/QKzctw7AXX9A/erG6PZcf0Aam+nMLVx/QDQrH7tkW39AiNlms5taf0Bu5L+10ll/QEmKKcIJWX9AlQmj2EBYf0DgoCv5d1d/QMuOwiOvVn9ADBJnWOZVf0BraRiXHVV/QMHT1d9UVH9A/4+eMoxTf0An3XGPw1J/QE36Tvb6UX9AmyY1ZzJRf0BNoSPiaVB/QLCpGWehT39AKX8W9thOf0AsYRmPEE5/QEOPITJITX9AC0ku339Mf0Axzj6Wt0t/QHteUlfvSn9AvTloIidKf0Dgn3/3Xkl/QOHQl9aWSH9A0Aywv85Hf0DOk8eyBkd/QBOm3a8+Rn9A5oPxtnZFf0ClbQLIrkR/QL6jD+PmQ39AtGYYCB9Df0Ae9xs3V0J/QKKVGXCPQX9A/oIQs8dAf0A=",
        "encoding": "base64",
        "path": [
         "_data",
         1,
         "x",
         "buffer"
        ]
       },
       {
        "data": "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",
        "encoding": "base64",
        "path": [
         "_data",
         1,
         "y",
         "buffer"
        ]
       },
       {
        "data": "jqK6NQAExEA=",
        "encoding": "base64",
        "path": [
         "_data",
         2,
         "x",
         "buffer"
        ]
       },
       {
        "data": "/8B4MVY74Ec=",
        "encoding": "base64",
        "path": [
         "_data",
         2,
         "y",
         "buffer"
        ]
       }
      ],
      "model_module": "jupyterlab-plotly",
      "model_module_version": "^5.17.0",
      "model_name": "FigureModel",
      "state": {
       "_config": {
        "plotlyServerURL": "https://plot.ly"
       },
       "_data": [
        {
         "name": "Real packets",
         "type": "scatter",
         "uid": "bb068d57-3589-49d8-96c4-79b3c054bca6",
         "x": {
          "dtype": "float64",
          "shape": [
           10000
          ]
         },
         "y": {
          "dtype": "float64",
          "shape": [
           10000
          ]
         }
        },
        {
         "name": "Virtual packets",
         "type": "scatter",
         "uid": "ef1cf0aa-d453-45f4-b914-8480a83a2d6e",
         "x": {
          "dtype": "float64",
          "shape": [
           10000
          ]
         },
         "y": {
          "dtype": "float64",
          "shape": [
           10000
          ]
         }
        },
        {
         "marker": {
          "opacity": 0
         },
         "mode": "markers",
         "showlegend": false,
         "type": "scatter",
         "uid": "a28b1b0b-e7f8-4517-8b76-3375d07eb265",
         "x": {
          "dtype": "float64",
          "shape": [
           1
          ]
         },
         "y": {
          "dtype": "float64",
          "shape": [
           1
          ]
         }
        }
       ],
       "_dom_classes": [],
       "_js2py_layoutDelta": {},
       "_js2py_pointsCallback": {},
       "_js2py_relayout": {},
       "_js2py_restyle": {},
       "_js2py_traceDeltas": {},
       "_js2py_update": {},
       "_last_layout_edit_id": 0,
       "_last_trace_edit_id": 0,
       "_layout": {
        "dragmode": "select",
        "height": 400,
        "margin": {
         "b": 60,
         "t": 50
        },
        "selectdirection": "h",
        "title": {
         "text": "Spectrum"
        },
        "xaxis": {
         "exponentformat": "none",
         "range": [
          5375.085330327811,
          15125.060952951017
         ],
         "rangeslider": {
          "visible": true
         },
         "title": {
          "text": "$\\text{Wavelength}\\,[\\mathrm{\\mathring{A}}]$"
         }
        },
        "yaxis": {
         "exponentformat": "e",
         "fixedrange": false,
         "title": {
          "text": "$\\text{Luminosity}\\,[\\mathrm{erg\\,s^{-1}\\,\\mathring{A}^{-1}}]$"
         }
        }
       },
       "_model_module": "jupyterlab-plotly",
       "_model_module_version": "^5.17.0",
       "_model_name": "FigureModel",
       "_py2js_addTraces": {},
       "_py2js_animate": {},
       "_py2js_deleteTraces": {},
       "_py2js_moveTraces": {},
       "_py2js_relayout": null,
       "_py2js_removeLayoutProps": {},
       "_py2js_removeTraceProps": {},
       "_py2js_restyle": {},
       "_py2js_update": {},
       "_view_count": 0,
       "_view_module": "jupyterlab-plotly",
       "_view_module_version": "^5.17.0",
       "_view_name": "FigureView"
      }
     },
     "1957eaba804a45c9b8b8fa8f8fed6462": {
      "model_module": "@jupyter-widgets/controls",
      "model_module_version": "1.5.0",
      "model_name": "HBoxModel",
      "state": {
       "_dom_classes": [],
       "_model_module": "@jupyter-widgets/controls",
       "_model_module_version": "1.5.0",
       "_model_name": "HBoxModel",
       "_view_count": null,
       "_view_module": "@jupyter-widgets/controls",
       "_view_module_version": "1.5.0",
       "_view_name": "HBoxView",
       "box_style": "",
       "children": [
        "IPY_MODEL_392c0e2738304eedb603fc65b6103ddd",
        "IPY_MODEL_709af3c98b3840238de0b9a472cf4435",
        "IPY_MODEL_98bbe7c9677f4919b91afb62ade0f35a"
       ],
       "layout": "IPY_MODEL_b3e8a9c07a4748b28490a1452d1e8c57"
      }
     },
     "1c35edf49aae479a975cda632201508e": {
      "model_module": "@jupyter-widgets/base",
      "model_module_version": "1.2.0",
      "model_name": "LayoutModel",
      "state": {
       "_model_module": "@jupyter-widgets/base",
       "_model_module_version": "1.2.0",
       "_model_name": "LayoutModel",
       "_view_count": null,
       "_view_module": "@jupyter-widgets/base",
       "_view_module_version": "1.2.0",
       "_view_name": "LayoutView",
       "align_content": null,
       "align_items": null,
       "align_self": null,
       "border": null,
       "bottom": null,
       "display": null,
       "flex": null,
       "flex_flow": null,
       "grid_area": null,
       "grid_auto_columns": null,
       "grid_auto_flow": null,
       "grid_auto_rows": null,
       "grid_column": null,
       "grid_gap": null,
       "grid_row": null,
       "grid_template_areas": null,
       "grid_template_columns": null,
       "grid_template_rows": null,
       "height": null,
       "justify_content": null,
       "justify_items": null,
       "left": null,
       "margin": null,
       "max_height": null,
       "max_width": null,
       "min_height": null,
       "min_width": null,
       "object_fit": null,
       "object_position": null,
       "order": null,
       "overflow": null,
       "overflow_x": null,
       "overflow_y": null,
       "padding": null,
       "right": null,
       "top": null,
       "visibility": null,
       "width": null
      }
     },
     "1cf61f222ce54cc1bad7e310e891ea3d": {
      "model_module": "@jupyter-widgets/base",
      "model_module_version": "1.2.0",
      "model_name": "LayoutModel",
      "state": {
       "_model_module": "@jupyter-widgets/base",
       "_model_module_version": "1.2.0",
       "_model_name": "LayoutModel",
       "_view_count": null,
       "_view_module": "@jupyter-widgets/base",
       "_view_module_version": "1.2.0",
       "_view_name": "LayoutView",
       "align_content": null,
       "align_items": null,
       "align_self": null,
       "border": null,
       "bottom": null,
       "display": null,
       "flex": null,
       "flex_flow": null,
       "grid_area": null,
       "grid_auto_columns": null,
       "grid_auto_flow": null,
       "grid_auto_rows": null,
       "grid_column": null,
       "grid_gap": null,
       "grid_row": null,
       "grid_template_areas": null,
       "grid_template_columns": null,
       "grid_template_rows": null,
       "height": null,
       "justify_content": null,
       "justify_items": null,
       "left": null,
       "margin": null,
       "max_height": null,
       "max_width": null,
       "min_height": null,
       "min_width": null,
       "object_fit": null,
       "object_position": null,
       "order": null,
       "overflow": null,
       "overflow_x": null,
       "overflow_y": null,
       "padding": null,
       "right": null,
       "top": null,
       "visibility": null,
       "width": null
      }
     },
     "1cf7054cd3434b18b9d94fdc64331beb": {
      "model_module": "@jupyter-widgets/base",
      "model_module_version": "1.2.0",
      "model_name": "LayoutModel",
      "state": {
       "_model_module": "@jupyter-widgets/base",
       "_model_module_version": "1.2.0",
       "_model_name": "LayoutModel",
       "_view_count": null,
       "_view_module": "@jupyter-widgets/base",
       "_view_module_version": "1.2.0",
       "_view_name": "LayoutView",
       "align_content": null,
       "align_items": null,
       "align_self": null,
       "border": null,
       "bottom": null,
       "display": null,
       "flex": null,
       "flex_flow": null,
       "grid_area": null,
       "grid_auto_columns": null,
       "grid_auto_flow": null,
       "grid_auto_rows": null,
       "grid_column": null,
       "grid_gap": null,
       "grid_row": null,
       "grid_template_areas": null,
       "grid_template_columns": null,
       "grid_template_rows": null,
       "height": null,
       "justify_content": null,
       "justify_items": null,
       "left": null,
       "margin": null,
       "max_height": null,
       "max_width": null,
       "min_height": null,
       "min_width": null,
       "object_fit": null,
       "object_position": null,
       "order": null,
       "overflow": null,
       "overflow_x": null,
       "overflow_y": null,
       "padding": null,
       "right": null,
       "top": null,
       "visibility": null,
       "width": null
      }
     },
     "200ddc4895eb4be78b5bb19f31449095": {
      "model_module": "qgrid",
      "model_module_version": "^1.1.3",
      "model_name": "QgridModel",
      "state": {
       "_columns": {
        "Frac. Ab. (Ion=0)": {
         "cssClass": "string",
         "defaultSortAsc": true,
         "editable": true,
         "field": "Frac. Ab. (Ion=0)",
         "id": "Frac. Ab. (Ion=0)",
         "maxWidth": null,
         "minWidth": null,
         "name": "Frac. Ab. (Ion=0)",
         "position": 2,
         "resizable": true,
         "sortable": true,
         "toolTip": "",
         "type": "string",
         "width": 70
        },
        "Level": {
         "cssClass": "integer",
         "defaultSortAsc": true,
         "editable": true,
         "field": "Level",
         "first_index": true,
         "id": "Level",
         "index_display_text": "Level",
         "is_index": true,
         "level": 0,
         "maxWidth": null,
         "minWidth": null,
         "name": "Level",
         "position": 0,
         "resizable": true,
         "sortable": true,
         "toolTip": "",
         "type": "integer",
         "width": 30
        },
        "qgrid_unfiltered_index": {
         "cssClass": "integer",
         "defaultSortAsc": true,
         "editable": true,
         "field": "qgrid_unfiltered_index",
         "id": "qgrid_unfiltered_index",
         "maxWidth": null,
         "minWidth": null,
         "name": "qgrid_unfiltered_index",
         "position": 1,
         "resizable": true,
         "sortable": true,
         "toolTip": "",
         "type": "integer",
         "width": null
        }
       },
       "_df_json": "{\"schema\":{\"fields\":[{\"name\":\"Level\",\"type\":\"integer\"},{\"name\":\"qgrid_unfiltered_index\",\"type\":\"integer\"},{\"name\":\"Frac. Ab. (Ion=0)\",\"type\":\"string\"}],\"primaryKey\":[\"Level\"],\"pandas_version\":\"1.4.0\"},\"data\":[{\"Level\":0,\"qgrid_unfiltered_index\":0,\"Frac. Ab. (Ion=0)\":\"5.230356e-01\"},{\"Level\":1,\"qgrid_unfiltered_index\":1,\"Frac. Ab. (Ion=0)\":\"3.074316e-01\"},{\"Level\":2,\"qgrid_unfiltered_index\":2,\"Frac. Ab. (Ion=0)\":\"1.015661e-01\"},{\"Level\":3,\"qgrid_unfiltered_index\":3,\"Frac. Ab. (Ion=0)\":\"6.649759e-02\"},{\"Level\":4,\"qgrid_unfiltered_index\":4,\"Frac. Ab. (Ion=0)\":\"1.294205e-03\"},{\"Level\":5,\"qgrid_unfiltered_index\":5,\"Frac. Ab. (Ion=0)\":\"3.584168e-05\"},{\"Level\":6,\"qgrid_unfiltered_index\":6,\"Frac. Ab. (Ion=0)\":\"1.451045e-05\"},{\"Level\":7,\"qgrid_unfiltered_index\":7,\"Frac. Ab. (Ion=0)\":\"4.043366e-06\"},{\"Level\":8,\"qgrid_unfiltered_index\":8,\"Frac. Ab. (Ion=0)\":\"6.737174e-06\"},{\"Level\":9,\"qgrid_unfiltered_index\":9,\"Frac. Ab. (Ion=0)\":\"9.427538e-06\"},{\"Level\":10,\"qgrid_unfiltered_index\":10,\"Frac. Ab. (Ion=0)\":\"3.115820e-06\"},{\"Level\":11,\"qgrid_unfiltered_index\":11,\"Frac. Ab. (Ion=0)\":\"5.192657e-06\"},{\"Level\":12,\"qgrid_unfiltered_index\":12,\"Frac. Ab. (Ion=0)\":\"1.038510e-06\"},{\"Level\":13,\"qgrid_unfiltered_index\":13,\"Frac. Ab. (Ion=0)\":\"2.132864e-06\"},{\"Level\":14,\"qgrid_unfiltered_index\":14,\"Frac. Ab. (Ion=0)\":\"1.161108e-06\"},{\"Level\":15,\"qgrid_unfiltered_index\":15,\"Frac. Ab. (Ion=0)\":\"2.981977e-06\"},{\"Level\":16,\"qgrid_unfiltered_index\":16,\"Frac. Ab. (Ion=0)\":\"2.319290e-06\"},{\"Level\":17,\"qgrid_unfiltered_index\":17,\"Frac. Ab. (Ion=0)\":\"1.656609e-06\"},{\"Level\":18,\"qgrid_unfiltered_index\":18,\"Frac. Ab. (Ion=0)\":\"9.939521e-07\"},{\"Level\":19,\"qgrid_unfiltered_index\":19,\"Frac. Ab. (Ion=0)\":\"3.313153e-07\"},{\"Level\":20,\"qgrid_unfiltered_index\":20,\"Frac. Ab. (Ion=0)\":\"9.852779e-07\"},{\"Level\":21,\"qgrid_unfiltered_index\":21,\"Frac. Ab. (Ion=0)\":\"1.642115e-06\"},{\"Level\":22,\"qgrid_unfiltered_index\":22,\"Frac. Ab. (Ion=0)\":\"2.298934e-06\"},{\"Level\":23,\"qgrid_unfiltered_index\":23,\"Frac. Ab. (Ion=0)\":\"7.997997e-07\"},{\"Level\":24,\"qgrid_unfiltered_index\":24,\"Frac. Ab. (Ion=0)\":\"1.332883e-06\"},{\"Level\":25,\"qgrid_unfiltered_index\":25,\"Frac. Ab. (Ion=0)\":\"1.865746e-06\"},{\"Level\":26,\"qgrid_unfiltered_index\":26,\"Frac. Ab. (Ion=0)\":\"7.409505e-07\"},{\"Level\":27,\"qgrid_unfiltered_index\":27,\"Frac. Ab. (Ion=0)\":\"1.234904e-06\"},{\"Level\":28,\"qgrid_unfiltered_index\":28,\"Frac. Ab. (Ion=0)\":\"2.469726e-07\"},{\"Level\":29,\"qgrid_unfiltered_index\":29,\"Frac. Ab. (Ion=0)\":\"1.431081e-06\"},{\"Level\":30,\"qgrid_unfiltered_index\":30,\"Frac. Ab. (Ion=0)\":\"1.020592e-06\"},{\"Level\":31,\"qgrid_unfiltered_index\":31,\"Frac. Ab. (Ion=0)\":\"6.117271e-07\"},{\"Level\":32,\"qgrid_unfiltered_index\":32,\"Frac. Ab. (Ion=0)\":\"8.997946e-07\"},{\"Level\":33,\"qgrid_unfiltered_index\":33,\"Frac. Ab. (Ion=0)\":\"5.195476e-07\"},{\"Level\":34,\"qgrid_unfiltered_index\":34,\"Frac. Ab. (Ion=0)\":\"8.382241e-07\"},{\"Level\":35,\"qgrid_unfiltered_index\":35,\"Frac. Ab. (Ion=0)\":\"1.469421e-06\"},{\"Level\":36,\"qgrid_unfiltered_index\":36,\"Frac. Ab. (Ion=0)\":\"1.142877e-06\"},{\"Level\":37,\"qgrid_unfiltered_index\":37,\"Frac. Ab. (Ion=0)\":\"8.163347e-07\"},{\"Level\":38,\"qgrid_unfiltered_index\":38,\"Frac. Ab. (Ion=0)\":\"4.897977e-07\"},{\"Level\":39,\"qgrid_unfiltered_index\":39,\"Frac. Ab. (Ion=0)\":\"1.632654e-07\"},{\"Level\":40,\"qgrid_unfiltered_index\":40,\"Frac. Ab. (Ion=0)\":\"1.136533e-06\"},{\"Level\":41,\"qgrid_unfiltered_index\":41,\"Frac. Ab. (Ion=0)\":\"8.118020e-07\"},{\"Level\":42,\"qgrid_unfiltered_index\":42,\"Frac. Ab. (Ion=0)\":\"4.870783e-07\"},{\"Level\":43,\"qgrid_unfiltered_index\":43,\"Frac. Ab. (Ion=0)\":\"4.833096e-07\"},{\"Level\":44,\"qgrid_unfiltered_index\":44,\"Frac. Ab. (Ion=0)\":\"8.055159e-07\"},{\"Level\":45,\"qgrid_unfiltered_index\":45,\"Frac. Ab. (Ion=0)\":\"1.127722e-06\"},{\"Level\":46,\"qgrid_unfiltered_index\":46,\"Frac. Ab. (Ion=0)\":\"1.449929e-06\"},{\"Level\":47,\"qgrid_unfiltered_index\":47,\"Frac. Ab. (Ion=0)\":\"1.772135e-06\"},{\"Level\":48,\"qgrid_unfiltered_index\":48,\"Frac. Ab. (Ion=0)\":\"8.055061e-07\"},{\"Level\":49,\"qgrid_unfiltered_index\":49,\"Frac. Ab. (Ion=0)\":\"1.127709e-06\"},{\"Level\":50,\"qgrid_unfiltered_index\":50,\"Frac. Ab. (Ion=0)\":\"1.449911e-06\"},{\"Level\":51,\"qgrid_unfiltered_index\":51,\"Frac. Ab. (Ion=0)\":\"4.437209e-07\"},{\"Level\":52,\"qgrid_unfiltered_index\":52,\"Frac. Ab. (Ion=0)\":\"4.437202e-07\"},{\"Level\":53,\"qgrid_unfiltered_index\":53,\"Frac. Ab. (Ion=0)\":\"7.395005e-07\"},{\"Level\":54,\"qgrid_unfiltered_index\":54,\"Frac. Ab. (Ion=0)\":\"7.394993e-07\"},{\"Level\":55,\"qgrid_unfiltered_index\":55,\"Frac. Ab. (Ion=0)\":\"1.035233e-06\"},{\"Level\":56,\"qgrid_unfiltered_index\":56,\"Frac. Ab. (Ion=0)\":\"1.035232e-06\"},{\"Level\":57,\"qgrid_unfiltered_index\":57,\"Frac. Ab. (Ion=0)\":\"7.164287e-07\"},{\"Level\":58,\"qgrid_unfiltered_index\":58,\"Frac. Ab. (Ion=0)\":\"4.298539e-07\"},{\"Level\":59,\"qgrid_unfiltered_index\":59,\"Frac. Ab. (Ion=0)\":\"1.432805e-07\"},{\"Level\":60,\"qgrid_unfiltered_index\":60,\"Frac. Ab. (Ion=0)\":\"6.170124e-07\"},{\"Level\":61,\"qgrid_unfiltered_index\":61,\"Frac. Ab. (Ion=0)\":\"3.632519e-07\"},{\"Level\":62,\"qgrid_unfiltered_index\":62,\"Frac. Ab. (Ion=0)\":\"1.059018e-06\"},{\"Level\":63,\"qgrid_unfiltered_index\":63,\"Frac. Ab. (Ion=0)\":\"8.236784e-07\"},{\"Level\":64,\"qgrid_unfiltered_index\":64,\"Frac. Ab. (Ion=0)\":\"5.883392e-07\"},{\"Level\":65,\"qgrid_unfiltered_index\":65,\"Frac. Ab. (Ion=0)\":\"3.530023e-07\"},{\"Level\":66,\"qgrid_unfiltered_index\":66,\"Frac. Ab. (Ion=0)\":\"1.176672e-07\"},{\"Level\":67,\"qgrid_unfiltered_index\":67,\"Frac. Ab. (Ion=0)\":\"3.519224e-07\"},{\"Level\":68,\"qgrid_unfiltered_index\":68,\"Frac. Ab. (Ion=0)\":\"5.865374e-07\"},{\"Level\":69,\"qgrid_unfiltered_index\":69,\"Frac. Ab. (Ion=0)\":\"8.211523e-07\"},{\"Level\":70,\"qgrid_unfiltered_index\":70,\"Frac. Ab. (Ion=0)\":\"3.504327e-07\"},{\"Level\":71,\"qgrid_unfiltered_index\":71,\"Frac. Ab. (Ion=0)\":\"5.840545e-07\"},{\"Level\":72,\"qgrid_unfiltered_index\":72,\"Frac. Ab. (Ion=0)\":\"8.176763e-07\"},{\"Level\":73,\"qgrid_unfiltered_index\":73,\"Frac. Ab. (Ion=0)\":\"1.051298e-06\"},{\"Level\":74,\"qgrid_unfiltered_index\":74,\"Frac. Ab. (Ion=0)\":\"1.284920e-06\"},{\"Level\":75,\"qgrid_unfiltered_index\":75,\"Frac. Ab. (Ion=0)\":\"5.840485e-07\"},{\"Level\":76,\"qgrid_unfiltered_index\":76,\"Frac. Ab. (Ion=0)\":\"8.176679e-07\"},{\"Level\":77,\"qgrid_unfiltered_index\":77,\"Frac. Ab. (Ion=0)\":\"1.051287e-06\"},{\"Level\":78,\"qgrid_unfiltered_index\":78,\"Frac. Ab. (Ion=0)\":\"3.349877e-07\"},{\"Level\":79,\"qgrid_unfiltered_index\":79,\"Frac. Ab. (Ion=0)\":\"5.583009e-07\"},{\"Level\":80,\"qgrid_unfiltered_index\":80,\"Frac. Ab. (Ion=0)\":\"7.815948e-07\"},{\"Level\":81,\"qgrid_unfiltered_index\":81,\"Frac. Ab. (Ion=0)\":\"1.098830e-07\"},{\"Level\":82,\"qgrid_unfiltered_index\":82,\"Frac. Ab. (Ion=0)\":\"3.296490e-07\"},{\"Level\":83,\"qgrid_unfiltered_index\":83,\"Frac. Ab. (Ion=0)\":\"5.494150e-07\"},{\"Level\":84,\"qgrid_unfiltered_index\":84,\"Frac. Ab. (Ion=0)\":\"5.059995e-07\"},{\"Level\":85,\"qgrid_unfiltered_index\":85,\"Frac. Ab. (Ion=0)\":\"3.003584e-07\"},{\"Level\":86,\"qgrid_unfiltered_index\":86,\"Frac. Ab. (Ion=0)\":\"8.867247e-07\"},{\"Level\":87,\"qgrid_unfiltered_index\":87,\"Frac. Ab. (Ion=0)\":\"6.896738e-07\"},{\"Level\":88,\"qgrid_unfiltered_index\":88,\"Frac. Ab. (Ion=0)\":\"4.926231e-07\"},{\"Level\":89,\"qgrid_unfiltered_index\":89,\"Frac. Ab. (Ion=0)\":\"2.955734e-07\"},{\"Level\":90,\"qgrid_unfiltered_index\":90,\"Frac. Ab. (Ion=0)\":\"9.852437e-08\"},{\"Level\":91,\"qgrid_unfiltered_index\":91,\"Frac. Ab. (Ion=0)\":\"2.950239e-07\"},{\"Level\":92,\"qgrid_unfiltered_index\":92,\"Frac. Ab. (Ion=0)\":\"4.917065e-07\"},{\"Level\":93,\"qgrid_unfiltered_index\":93,\"Frac. Ab. (Ion=0)\":\"6.883891e-07\"},{\"Level\":94,\"qgrid_unfiltered_index\":94,\"Frac. Ab. (Ion=0)\":\"2.942825e-07\"},{\"Level\":95,\"qgrid_unfiltered_index\":95,\"Frac. Ab. (Ion=0)\":\"4.904709e-07\"},{\"Level\":96,\"qgrid_unfiltered_index\":96,\"Frac. Ab. (Ion=0)\":\"6.866593e-07\"},{\"Level\":97,\"qgrid_unfiltered_index\":97,\"Frac. Ab. (Ion=0)\":\"8.828476e-07\"},{\"Level\":98,\"qgrid_unfiltered_index\":98,\"Frac. Ab. (Ion=0)\":\"1.079036e-06\"},{\"Level\":99,\"qgrid_unfiltered_index\":99,\"Frac. Ab. (Ion=0)\":\"4.904683e-07\"}]}",
       "_df_range": [
        0,
        100
       ],
       "_dom_classes": [],
       "_editable_rows": {},
       "_index_col_name": "qgrid_unfiltered_index",
       "_interval_columns": [],
       "_model_module": "qgrid",
       "_model_module_version": "^1.1.3",
       "_model_name": "QgridModel",
       "_multi_index": false,
       "_row_count": 150,
       "_row_styles": {},
       "_sort_ascending": true,
       "_sort_field": null,
       "_view_count": null,
       "_view_module": "qgrid",
       "_view_module_version": "^1.1.3",
       "_view_name": "QgridView",
       "_viewport_range": [
        0,
        100
       ],
       "grid_options": {
        "autoEdit": false,
        "boldIndex": true,
        "defaultColumnWidth": 150,
        "editable": false,
        "enableColumnReorder": false,
        "enableTextSelectionOnCells": true,
        "explicitInitialization": true,
        "filterable": false,
        "forceFitColumns": true,
        "fullWidthRows": true,
        "highlightSelectedCell": false,
        "highlightSelectedRow": true,
        "maxVisibleRows": 15,
        "minVisibleRows": 2,
        "rowHeight": 28,
        "sortable": false,
        "syncColumnCellResize": true
       },
       "id": "c44e0f7b-be2e-4191-9e54-79f94e09326d",
       "layout": "IPY_MODEL_b31dbca055084d408c1fcabdd9493fe2",
       "precision": 5,
       "show_toolbar": false
      }
     },
     "2253d8a1889c4a2a95b98bc3b602bb1d": {
      "model_module": "@jupyter-widgets/base",
      "model_module_version": "1.2.0",
      "model_name": "LayoutModel",
      "state": {
       "_model_module": "@jupyter-widgets/base",
       "_model_module_version": "1.2.0",
       "_model_name": "LayoutModel",
       "_view_count": null,
       "_view_module": "@jupyter-widgets/base",
       "_view_module_version": "1.2.0",
       "_view_name": "LayoutView",
       "align_content": null,
       "align_items": null,
       "align_self": null,
       "border": null,
       "bottom": null,
       "display": null,
       "flex": null,
       "flex_flow": null,
       "grid_area": null,
       "grid_auto_columns": null,
       "grid_auto_flow": null,
       "grid_auto_rows": null,
       "grid_column": null,
       "grid_gap": null,
       "grid_row": null,
       "grid_template_areas": null,
       "grid_template_columns": null,
       "grid_template_rows": null,
       "height": null,
       "justify_content": null,
       "justify_items": null,
       "left": null,
       "margin": null,
       "max_height": null,
       "max_width": null,
       "min_height": null,
       "min_width": null,
       "object_fit": null,
       "object_position": null,
       "order": null,
       "overflow": null,
       "overflow_x": null,
       "overflow_y": null,
       "padding": null,
       "right": null,
       "top": null,
       "visibility": null,
       "width": null
      }
     },
     "243a5acd55344ab18328b947ce976d83": {
      "model_module": "qgrid",
      "model_module_version": "^1.1.3",
      "model_name": "QgridModel",
      "state": {
       "_columns": {
        "Last Line Interaction": {
         "cssClass": "string",
         "defaultSortAsc": true,
         "editable": true,
         "field": "Last Line Interaction",
         "first_index": true,
         "id": "Last Line Interaction",
         "index_display_text": "Last Line Interaction",
         "is_index": true,
         "level": 0,
         "maxWidth": null,
         "minWidth": null,
         "name": "Last Line Interaction",
         "position": 0,
         "resizable": true,
         "sortable": true,
         "toolTip": "",
         "type": "string",
         "width": 75
        },
        "No. of packets": {
         "cssClass": "string",
         "defaultSortAsc": true,
         "editable": true,
         "field": "No. of packets",
         "id": "No. of packets",
         "maxWidth": null,
         "minWidth": null,
         "name": "No. of packets",
         "position": 2,
         "resizable": true,
         "sortable": true,
         "toolTip": "",
         "type": "string",
         "width": 25
        },
        "qgrid_unfiltered_index": {
         "cssClass": "integer",
         "defaultSortAsc": true,
         "editable": true,
         "field": "qgrid_unfiltered_index",
         "id": "qgrid_unfiltered_index",
         "maxWidth": null,
         "minWidth": null,
         "name": "qgrid_unfiltered_index",
         "position": 1,
         "resizable": true,
         "sortable": true,
         "toolTip": "",
         "type": "integer",
         "width": null
        }
       },
       "_df_json": "{\"schema\":{\"fields\":[{\"name\":\"Last Line Interaction\",\"type\":\"string\"},{\"name\":\"qgrid_unfiltered_index\",\"type\":\"integer\"},{\"name\":\"No. of packets\",\"type\":\"string\"}],\"primaryKey\":[\"Last Line Interaction\"],\"pandas_version\":\"1.4.0\"},\"data\":[{\"Last Line Interaction\":\"\",\"qgrid_unfiltered_index\":0,\"No. of packets\":\"\"}]}",
       "_df_range": [
        0,
        100
       ],
       "_dom_classes": [],
       "_editable_rows": {},
       "_index_col_name": "qgrid_unfiltered_index",
       "_interval_columns": [],
       "_model_module": "qgrid",
       "_model_module_version": "^1.1.3",
       "_model_name": "QgridModel",
       "_multi_index": false,
       "_row_count": 1,
       "_row_styles": {},
       "_sort_ascending": true,
       "_sort_field": null,
       "_view_count": null,
       "_view_module": "qgrid",
       "_view_module_version": "^1.1.3",
       "_view_name": "QgridView",
       "_viewport_range": [
        0,
        100
       ],
       "grid_options": {
        "autoEdit": false,
        "boldIndex": true,
        "defaultColumnWidth": 150,
        "editable": false,
        "enableColumnReorder": false,
        "enableTextSelectionOnCells": true,
        "explicitInitialization": true,
        "filterable": false,
        "forceFitColumns": true,
        "fullWidthRows": true,
        "highlightSelectedCell": false,
        "highlightSelectedRow": true,
        "maxVisibleRows": 9,
        "minVisibleRows": 2,
        "rowHeight": 28,
        "sortable": false,
        "syncColumnCellResize": true
       },
       "id": "c37d9ee2-edbf-41c8-80e8-c8ad0f49a23a",
       "layout": "IPY_MODEL_069ff3b9312547e39b49cfdc80bc7044",
       "precision": 5,
       "show_toolbar": false
      }
     },
     "29cadfeae7084ad4b00294b8a3999688": {
      "model_module": "@jupyter-widgets/base",
      "model_module_version": "1.2.0",
      "model_name": "LayoutModel",
      "state": {
       "_model_module": "@jupyter-widgets/base",
       "_model_module_version": "1.2.0",
       "_model_name": "LayoutModel",
       "_view_count": null,
       "_view_module": "@jupyter-widgets/base",
       "_view_module_version": "1.2.0",
       "_view_name": "LayoutView",
       "align_content": null,
       "align_items": null,
       "align_self": null,
       "border": null,
       "bottom": null,
       "display": null,
       "flex": null,
       "flex_flow": null,
       "grid_area": null,
       "grid_auto_columns": null,
       "grid_auto_flow": null,
       "grid_auto_rows": null,
       "grid_column": null,
       "grid_gap": null,
       "grid_row": null,
       "grid_template_areas": null,
       "grid_template_columns": null,
       "grid_template_rows": null,
       "height": null,
       "justify_content": null,
       "justify_items": null,
       "left": null,
       "margin": null,
       "max_height": null,
       "max_width": null,
       "min_height": null,
       "min_width": null,
       "object_fit": null,
       "object_position": null,
       "order": null,
       "overflow": null,
       "overflow_x": null,
       "overflow_y": null,
       "padding": null,
       "right": null,
       "top": null,
       "visibility": null,
       "width": null
      }
     },
     "2b736376bca7444a993a195783ddbb95": {
      "model_module": "@jupyter-widgets/base",
      "model_module_version": "1.2.0",
      "model_name": "LayoutModel",
      "state": {
       "_model_module": "@jupyter-widgets/base",
       "_model_module_version": "1.2.0",
       "_model_name": "LayoutModel",
       "_view_count": null,
       "_view_module": "@jupyter-widgets/base",
       "_view_module_version": "1.2.0",
       "_view_name": "LayoutView",
       "align_content": null,
       "align_items": null,
       "align_self": null,
       "border": null,
       "bottom": null,
       "display": null,
       "flex": null,
       "flex_flow": null,
       "grid_area": null,
       "grid_auto_columns": null,
       "grid_auto_flow": null,
       "grid_auto_rows": null,
       "grid_column": null,
       "grid_gap": null,
       "grid_row": null,
       "grid_template_areas": null,
       "grid_template_columns": null,
       "grid_template_rows": null,
       "height": null,
       "justify_content": null,
       "justify_items": null,
       "left": null,
       "margin": null,
       "max_height": null,
       "max_width": null,
       "min_height": null,
       "min_width": null,
       "object_fit": null,
       "object_position": null,
       "order": null,
       "overflow": null,
       "overflow_x": null,
       "overflow_y": null,
       "padding": null,
       "right": null,
       "top": null,
       "visibility": null,
       "width": "60%"
      }
     },
     "2d620418c70f480ca02f495152b8f92c": {
      "model_module": "@jupyter-widgets/controls",
      "model_module_version": "1.5.0",
      "model_name": "SliderStyleModel",
      "state": {
       "_model_module": "@jupyter-widgets/controls",
       "_model_module_version": "1.5.0",
       "_model_name": "SliderStyleModel",
       "_view_count": null,
       "_view_module": "@jupyter-widgets/base",
       "_view_module_version": "1.2.0",
       "_view_name": "StyleView",
       "description_width": "",
       "handle_color": null
      }
     },
     "301f9195f4024e4bb3e96238cb59575e": {
      "model_module": "@jupyter-widgets/controls",
      "model_module_version": "1.5.0",
      "model_name": "HBoxModel",
      "state": {
       "_dom_classes": [],
       "_model_module": "@jupyter-widgets/controls",
       "_model_module_version": "1.5.0",
       "_model_name": "HBoxModel",
       "_view_count": null,
       "_view_module": "@jupyter-widgets/controls",
       "_view_module_version": "1.5.0",
       "_view_name": "HBoxView",
       "box_style": "",
       "children": [
        "IPY_MODEL_c5045de4d56144ef806d4b067a6b0020",
        "IPY_MODEL_c2326cb8b55f47ec8d45b1bc2db99535",
        "IPY_MODEL_a4addef5d27c46ec9c801657efb90202"
       ],
       "layout": "IPY_MODEL_e7eba7c3b3454e6f8af8239f5e6dcab4"
      }
     },
     "302651679af8434b9d780703e3fd2be3": {
      "model_module": "@jupyter-widgets/base",
      "model_module_version": "1.2.0",
      "model_name": "LayoutModel",
      "state": {
       "_model_module": "@jupyter-widgets/base",
       "_model_module_version": "1.2.0",
       "_model_name": "LayoutModel",
       "_view_count": null,
       "_view_module": "@jupyter-widgets/base",
       "_view_module_version": "1.2.0",
       "_view_name": "LayoutView",
       "align_content": null,
       "align_items": null,
       "align_self": null,
       "border": null,
       "bottom": null,
       "display": null,
       "flex": null,
       "flex_flow": null,
       "grid_area": null,
       "grid_auto_columns": null,
       "grid_auto_flow": null,
       "grid_auto_rows": null,
       "grid_column": null,
       "grid_gap": null,
       "grid_row": null,
       "grid_template_areas": null,
       "grid_template_columns": null,
       "grid_template_rows": null,
       "height": null,
       "justify_content": null,
       "justify_items": null,
       "left": null,
       "margin": null,
       "max_height": null,
       "max_width": null,
       "min_height": null,
       "min_width": null,
       "object_fit": null,
       "object_position": null,
       "order": null,
       "overflow": null,
       "overflow_x": null,
       "overflow_y": null,
       "padding": null,
       "right": null,
       "top": null,
       "visibility": null,
       "width": "60%"
      }
     },
     "333863fe0fde4e6888db15c0809ac130": {
      "model_module": "@jupyter-widgets/controls",
      "model_module_version": "1.5.0",
      "model_name": "ToggleButtonsModel",
      "state": {
       "_dom_classes": [],
       "_model_module": "@jupyter-widgets/controls",
       "_model_module_version": "1.5.0",
       "_model_name": "ToggleButtonsModel",
       "_options_labels": [
        "Emitted Wavelength",
        "Absorbed Wavelength"
       ],
       "_view_count": null,
       "_view_module": "@jupyter-widgets/controls",
       "_view_module_version": "1.5.0",
       "_view_name": "ToggleButtonsView",
       "button_style": "",
       "description": "",
       "description_tooltip": null,
       "disabled": false,
       "icons": [],
       "index": 0,
       "layout": "IPY_MODEL_fba1752de9604678b422295b1fa5aa64",
       "style": "IPY_MODEL_df4c9cd40fde4ee5ab4b66d283069ef2",
       "tooltips": []
      }
     },
     "35014d65074e4b2f8dee6a76cf3a468c": {
      "model_module": "@jupyter-widgets/controls",
      "model_module_version": "1.5.0",
      "model_name": "DescriptionStyleModel",
      "state": {
       "_model_module": "@jupyter-widgets/controls",
       "_model_module_version": "1.5.0",
       "_model_name": "DescriptionStyleModel",
       "_view_count": null,
       "_view_module": "@jupyter-widgets/base",
       "_view_module_version": "1.2.0",
       "_view_name": "StyleView",
       "description_width": ""
      }
     },
     "365c3fa77ecd4b7da1afcd1f41443cf7": {
      "model_module": "@jupyter-widgets/controls",
      "model_module_version": "1.5.0",
      "model_name": "ProgressStyleModel",
      "state": {
       "_model_module": "@jupyter-widgets/controls",
       "_model_module_version": "1.5.0",
       "_model_name": "ProgressStyleModel",
       "_view_count": null,
       "_view_module": "@jupyter-widgets/base",
       "_view_module_version": "1.2.0",
       "_view_name": "StyleView",
       "bar_color": null,
       "description_width": ""
      }
     },
     "38f656d08e2e4e9bba2f595f04fa5565": {
      "model_module": "@jupyter-widgets/controls",
      "model_module_version": "1.5.0",
      "model_name": "DescriptionStyleModel",
      "state": {
       "_model_module": "@jupyter-widgets/controls",
       "_model_module_version": "1.5.0",
       "_model_name": "DescriptionStyleModel",
       "_view_count": null,
       "_view_module": "@jupyter-widgets/base",
       "_view_module_version": "1.2.0",
       "_view_name": "StyleView",
       "description_width": ""
      }
     },
     "392c0e2738304eedb603fc65b6103ddd": {
      "model_module": "@jupyter-widgets/controls",
      "model_module_version": "1.5.0",
      "model_name": "DropdownModel",
      "state": {
       "_dom_classes": [],
       "_model_module": "@jupyter-widgets/controls",
       "_model_module_version": "1.5.0",
       "_model_name": "DropdownModel",
       "_options_labels": [
        "O I",
        "O II",
        "O III",
        "Mg II",
        "Si II",
        "Si III",
        "Si IV",
        "S I",
        "S II",
        "S III",
        "S IV",
        "Ar I",
        "Ar II",
        "Ar III",
        "Ca II"
       ],
       "_view_count": null,
       "_view_module": "@jupyter-widgets/controls",
       "_view_module_version": "1.5.0",
       "_view_name": "DropdownView",
       "description": "Ion",
       "description_tooltip": null,
       "disabled": false,
       "index": 0,
       "layout": "IPY_MODEL_8aab4a5d08534e3faaa691208ee26967",
       "style": "IPY_MODEL_0ae7bb0c2521489499623fe12d55b727"
      }
     },
     "3cd1973b856642d2a87864d339fea9a9": {
      "model_module": "@jupyter-widgets/controls",
      "model_module_version": "1.5.0",
      "model_name": "FloatRangeSliderModel",
      "state": {
       "_dom_classes": [],
       "_model_module": "@jupyter-widgets/controls",
       "_model_module_version": "1.5.0",
       "_model_name": "FloatRangeSliderModel",
       "_view_count": null,
       "_view_module": "@jupyter-widgets/controls",
       "_view_module_version": "1.5.0",
       "_view_name": "FloatRangeSliderView",
       "continuous_update": true,
       "description": "Wavelength",
       "description_tooltip": null,
       "disabled": false,
       "layout": "IPY_MODEL_5ea579bda27c4b6ebe3a86bf726841b5",
       "max": 8449.07912417527,
       "min": 1302.168,
       "orientation": "horizontal",
       "readout": true,
       "readout_format": ".1e",
       "step": 0.1,
       "style": "IPY_MODEL_2d620418c70f480ca02f495152b8f92c",
       "value": [
        1302.168,
        8449.07912417527
       ]
      }
     },
     "3d748421eff944459c87850bc97d9734": {
      "model_module": "@jupyter-widgets/controls",
      "model_module_version": "1.5.0",
      "model_name": "ToggleButtonsStyleModel",
      "state": {
       "_model_module": "@jupyter-widgets/controls",
       "_model_module_version": "1.5.0",
       "_model_name": "ToggleButtonsStyleModel",
       "_view_count": null,
       "_view_module": "@jupyter-widgets/base",
       "_view_module_version": "1.2.0",
       "_view_name": "StyleView",
       "button_width": "100px",
       "description_width": "",
       "font_weight": ""
      }
     },
     "3e601dce0c1b4c51a3fcbfb355144bcc": {
      "model_module": "@jupyter-widgets/controls",
      "model_module_version": "1.5.0",
      "model_name": "FloatProgressModel",
      "state": {
       "_dom_classes": [],
       "_model_module": "@jupyter-widgets/controls",
       "_model_module_version": "1.5.0",
       "_model_name": "FloatProgressModel",
       "_view_count": null,
       "_view_module": "@jupyter-widgets/controls",
       "_view_module_version": "1.5.0",
       "_view_name": "ProgressView",
       "bar_style": "info",
       "description": "",
       "description_tooltip": null,
       "layout": "IPY_MODEL_6a5f34743f2646cd8c0117fda7070e67",
       "max": 1.0,
       "min": 0.0,
       "orientation": "horizontal",
       "style": "IPY_MODEL_482c42f1ba7c4179be5f746dc6f945b5",
       "value": 0.0
      }
     },
     "439cc5238d2046329a36b7b0ecec0730": {
      "model_module": "@jupyter-widgets/controls",
      "model_module_version": "1.5.0",
      "model_name": "DescriptionStyleModel",
      "state": {
       "_model_module": "@jupyter-widgets/controls",
       "_model_module_version": "1.5.0",
       "_model_name": "DescriptionStyleModel",
       "_view_count": null,
       "_view_module": "@jupyter-widgets/base",
       "_view_module_version": "1.2.0",
       "_view_name": "StyleView",
       "description_width": ""
      }
     },
     "479a90c35842483c9a40437ed7c713df": {
      "model_module": "@jupyter-widgets/base",
      "model_module_version": "1.2.0",
      "model_name": "LayoutModel",
      "state": {
       "_model_module": "@jupyter-widgets/base",
       "_model_module_version": "1.2.0",
       "_model_name": "LayoutModel",
       "_view_count": null,
       "_view_module": "@jupyter-widgets/base",
       "_view_module_version": "1.2.0",
       "_view_name": "LayoutView",
       "align_content": null,
       "align_items": null,
       "align_self": null,
       "border": null,
       "bottom": null,
       "display": null,
       "flex": null,
       "flex_flow": null,
       "grid_area": null,
       "grid_auto_columns": null,
       "grid_auto_flow": null,
       "grid_auto_rows": null,
       "grid_column": null,
       "grid_gap": null,
       "grid_row": null,
       "grid_template_areas": null,
       "grid_template_columns": null,
       "grid_template_rows": null,
       "height": null,
       "justify_content": null,
       "justify_items": null,
       "left": null,
       "margin": null,
       "max_height": null,
       "max_width": null,
       "min_height": null,
       "min_width": null,
       "object_fit": null,
       "object_position": null,
       "order": null,
       "overflow": null,
       "overflow_x": null,
       "overflow_y": null,
       "padding": null,
       "right": null,
       "top": null,
       "visibility": null,
       "width": "6%"
      }
     },
     "482c42f1ba7c4179be5f746dc6f945b5": {
      "model_module": "@jupyter-widgets/controls",
      "model_module_version": "1.5.0",
      "model_name": "ProgressStyleModel",
      "state": {
       "_model_module": "@jupyter-widgets/controls",
       "_model_module_version": "1.5.0",
       "_model_name": "ProgressStyleModel",
       "_view_count": null,
       "_view_module": "@jupyter-widgets/base",
       "_view_module_version": "1.2.0",
       "_view_name": "StyleView",
       "bar_color": null,
       "description_width": ""
      }
     },
     "4e46dcf9d1a14fafbec959ce56f3d231": {
      "model_module": "@jupyter-widgets/controls",
      "model_module_version": "1.5.0",
      "model_name": "HTMLModel",
      "state": {
       "_dom_classes": [],
       "_model_module": "@jupyter-widgets/controls",
       "_model_module_version": "1.5.0",
       "_model_name": "HTMLModel",
       "_view_count": null,
       "_view_module": "@jupyter-widgets/controls",
       "_view_module_version": "1.5.0",
       "_view_name": "HTMLView",
       "description": "",
       "description_tooltip": null,
       "layout": "IPY_MODEL_6f9c31cc57e04b9a8db7f1ae073fedee",
       "placeholder": "​",
       "style": "IPY_MODEL_d0c42c1aca114a7ea506d5af9f5ad19c",
       "value": "<b>Frac. Ab.</b> denotes <i>Fractional Abundances</i> (i.e all values sum to 1)<br><b>W</b> denotes <i>Dilution Factor</i> and <b>Rad. Temp.</b> is <i>Radiative Temperature (in K)</i>"
      }
     },
     "4f3cd2fcae3a4e808d18b15f07d9b7e9": {
      "model_module": "@jupyter-widgets/controls",
      "model_module_version": "1.5.0",
      "model_name": "FloatProgressModel",
      "state": {
       "_dom_classes": [],
       "_model_module": "@jupyter-widgets/controls",
       "_model_module_version": "1.5.0",
       "_model_name": "FloatProgressModel",
       "_view_count": null,
       "_view_module": "@jupyter-widgets/controls",
       "_view_module_version": "1.5.0",
       "_view_name": "ProgressView",
       "bar_style": "",
       "description": "",
       "description_tooltip": null,
       "layout": "IPY_MODEL_302651679af8434b9d780703e3fd2be3",
       "max": 100000.0,
       "min": 0.0,
       "orientation": "horizontal",
       "style": "IPY_MODEL_365c3fa77ecd4b7da1afcd1f41443cf7",
       "value": 100000.0
      }
     },
     "51a6d0ff1b464f0aa62918ece96869d0": {
      "model_module": "@jupyter-widgets/controls",
      "model_module_version": "1.5.0",
      "model_name": "HBoxModel",
      "state": {
       "_dom_classes": [],
       "_model_module": "@jupyter-widgets/controls",
       "_model_module_version": "1.5.0",
       "_model_name": "HBoxModel",
       "_view_count": null,
       "_view_module": "@jupyter-widgets/controls",
       "_view_module_version": "1.5.0",
       "_view_name": "HBoxView",
       "box_style": "",
       "children": [
        "IPY_MODEL_d5e7060a064e4768a5b18eccc4c66259",
        "IPY_MODEL_3e601dce0c1b4c51a3fcbfb355144bcc",
        "IPY_MODEL_6af7e06b3805429d9c8d5e4ede49a9d5"
       ],
       "layout": "IPY_MODEL_bee466f4afa54273aa0782ef8f7e1b32"
      }
     },
     "5644d74285ec46fbbe9ab702957f64db": {
      "model_module": "@jupyter-widgets/controls",
      "model_module_version": "1.5.0",
      "model_name": "DescriptionStyleModel",
      "state": {
       "_model_module": "@jupyter-widgets/controls",
       "_model_module_version": "1.5.0",
       "_model_name": "DescriptionStyleModel",
       "_view_count": null,
       "_view_module": "@jupyter-widgets/base",
       "_view_module_version": "1.2.0",
       "_view_name": "StyleView",
       "description_width": ""
      }
     },
     "58708f9fa80948daa91944a7d75cd48e": {
      "model_module": "@jupyter-widgets/base",
      "model_module_version": "1.2.0",
      "model_name": "LayoutModel",
      "state": {
       "_model_module": "@jupyter-widgets/base",
       "_model_module_version": "1.2.0",
       "_model_name": "LayoutModel",
       "_view_count": null,
       "_view_module": "@jupyter-widgets/base",
       "_view_module_version": "1.2.0",
       "_view_name": "LayoutView",
       "align_content": null,
       "align_items": null,
       "align_self": null,
       "border": null,
       "bottom": null,
       "display": null,
       "flex": null,
       "flex_flow": null,
       "grid_area": null,
       "grid_auto_columns": null,
       "grid_auto_flow": null,
       "grid_auto_rows": null,
       "grid_column": null,
       "grid_gap": null,
       "grid_row": null,
       "grid_template_areas": null,
       "grid_template_columns": null,
       "grid_template_rows": null,
       "height": null,
       "justify_content": null,
       "justify_items": null,
       "left": null,
       "margin": null,
       "max_height": null,
       "max_width": null,
       "min_height": null,
       "min_width": null,
       "object_fit": null,
       "object_position": null,
       "order": null,
       "overflow": null,
       "overflow_x": null,
       "overflow_y": null,
       "padding": null,
       "right": null,
       "top": null,
       "visibility": null,
       "width": "auto"
      }
     },
     "59534765cbac4e79adc1f39e18193c8e": {
      "model_module": "@jupyter-widgets/controls",
      "model_module_version": "1.5.0",
      "model_name": "VBoxModel",
      "state": {
       "_dom_classes": [],
       "_model_module": "@jupyter-widgets/controls",
       "_model_module_version": "1.5.0",
       "_model_name": "VBoxModel",
       "_view_count": null,
       "_view_module": "@jupyter-widgets/controls",
       "_view_module_version": "1.5.0",
       "_view_name": "VBoxView",
       "box_style": "",
       "children": [
        "IPY_MODEL_17a4eed3c1c74fc982ec489438261bfd",
        "IPY_MODEL_85ddf7405edb48c094612dd183a60075"
       ],
       "layout": "IPY_MODEL_60ffdc071730424195a1bf0abc3d9886"
      }
     },
     "59cfd03cfb76459d86f085c0f0d4913e": {
      "model_module": "@jupyter-widgets/controls",
      "model_module_version": "1.5.0",
      "model_name": "DescriptionStyleModel",
      "state": {
       "_model_module": "@jupyter-widgets/controls",
       "_model_module_version": "1.5.0",
       "_model_name": "DescriptionStyleModel",
       "_view_count": null,
       "_view_module": "@jupyter-widgets/base",
       "_view_module_version": "1.2.0",
       "_view_name": "StyleView",
       "description_width": ""
      }
     },
     "5bc1b368965b4874bba741957d241e3c": {
      "model_module": "@jupyter-widgets/controls",
      "model_module_version": "1.5.0",
      "model_name": "DescriptionStyleModel",
      "state": {
       "_model_module": "@jupyter-widgets/controls",
       "_model_module_version": "1.5.0",
       "_model_name": "DescriptionStyleModel",
       "_view_count": null,
       "_view_module": "@jupyter-widgets/base",
       "_view_module_version": "1.2.0",
       "_view_name": "StyleView",
       "description_width": ""
      }
     },
     "5c7263762ed845be927b3950363156be": {
      "model_module": "@jupyter-widgets/controls",
      "model_module_version": "1.5.0",
      "model_name": "HTMLModel",
      "state": {
       "_dom_classes": [],
       "_model_module": "@jupyter-widgets/controls",
       "_model_module_version": "1.5.0",
       "_model_name": "HTMLModel",
       "_view_count": null,
       "_view_module": "@jupyter-widgets/controls",
       "_view_module_version": "1.5.0",
       "_view_name": "HTMLView",
       "description": "",
       "description_tooltip": null,
       "layout": "IPY_MODEL_1cf61f222ce54cc1bad7e310e891ea3d",
       "placeholder": "​",
       "style": "IPY_MODEL_a82c7596c5ad4d3c881db2c923926725",
       "value": "100000/100000 [00:04&lt;00:00, 21947.93it/s]"
      }
     },
     "5cf08abcdd344a78bf8b8667f88bfd01": {
      "model_module": "@jupyter-widgets/controls",
      "model_module_version": "1.5.0",
      "model_name": "ProgressStyleModel",
      "state": {
       "_model_module": "@jupyter-widgets/controls",
       "_model_module_version": "1.5.0",
       "_model_name": "ProgressStyleModel",
       "_view_count": null,
       "_view_module": "@jupyter-widgets/base",
       "_view_module_version": "1.2.0",
       "_view_name": "StyleView",
       "bar_color": null,
       "description_width": ""
      }
     },
     "5e870ae0db9e48f0a524f7676b6a60d7": {
      "model_module": "qgrid",
      "model_module_version": "^1.1.3",
      "model_name": "QgridModel",
      "state": {
       "_columns": {
        "Dilution Factor": {
         "cssClass": "string",
         "defaultSortAsc": true,
         "editable": true,
         "field": "Dilution Factor",
         "id": "Dilution Factor",
         "maxWidth": null,
         "minWidth": null,
         "name": "Dilution Factor",
         "position": 3,
         "resizable": true,
         "sortable": true,
         "toolTip": "",
         "type": "string",
         "width": 35
        },
        "Rad. Temp.": {
         "cssClass": "string",
         "defaultSortAsc": true,
         "editable": true,
         "field": "Rad. Temp.",
         "id": "Rad. Temp.",
         "maxWidth": null,
         "minWidth": null,
         "name": "Rad. Temp.",
         "position": 2,
         "resizable": true,
         "sortable": true,
         "toolTip": "",
         "type": "string",
         "width": 35
        },
        "Shell No.": {
         "cssClass": "integer",
         "defaultSortAsc": true,
         "editable": true,
         "field": "Shell No.",
         "first_index": true,
         "id": "Shell No.",
         "index_display_text": "Shell No.",
         "is_index": true,
         "level": 0,
         "maxWidth": null,
         "minWidth": null,
         "name": "Shell No.",
         "position": 0,
         "resizable": true,
         "sortable": true,
         "toolTip": "",
         "type": "integer",
         "width": 30
        },
        "qgrid_unfiltered_index": {
         "cssClass": "integer",
         "defaultSortAsc": true,
         "editable": true,
         "field": "qgrid_unfiltered_index",
         "id": "qgrid_unfiltered_index",
         "maxWidth": null,
         "minWidth": null,
         "name": "qgrid_unfiltered_index",
         "position": 1,
         "resizable": true,
         "sortable": true,
         "toolTip": "",
         "type": "integer",
         "width": null
        }
       },
       "_df_json": "{\"schema\":{\"fields\":[{\"name\":\"Shell No.\",\"type\":\"integer\"},{\"name\":\"qgrid_unfiltered_index\",\"type\":\"integer\"},{\"name\":\"Rad. Temp.\",\"type\":\"string\"},{\"name\":\"Dilution Factor\",\"type\":\"string\"}],\"primaryKey\":[\"Shell No.\"],\"pandas_version\":\"1.4.0\"},\"data\":[{\"Shell No.\":1,\"qgrid_unfiltered_index\":0,\"Rad. Temp.\":\"1.106933e+04\",\"Dilution Factor\":\"4.658311e-01\"},{\"Shell No.\":2,\"qgrid_unfiltered_index\":1,\"Rad. Temp.\":\"1.116516e+04\",\"Dilution Factor\":\"3.582140e-01\"},{\"Shell No.\":3,\"qgrid_unfiltered_index\":2,\"Rad. Temp.\":\"1.127263e+04\",\"Dilution Factor\":\"2.847850e-01\"},{\"Shell No.\":4,\"qgrid_unfiltered_index\":3,\"Rad. Temp.\":\"1.137245e+04\",\"Dilution Factor\":\"2.313175e-01\"},{\"Shell No.\":5,\"qgrid_unfiltered_index\":4,\"Rad. Temp.\":\"1.133203e+04\",\"Dilution Factor\":\"2.019042e-01\"},{\"Shell No.\":6,\"qgrid_unfiltered_index\":5,\"Rad. Temp.\":\"1.132964e+04\",\"Dilution Factor\":\"1.767292e-01\"},{\"Shell No.\":7,\"qgrid_unfiltered_index\":6,\"Rad. Temp.\":\"1.129452e+04\",\"Dilution Factor\":\"1.576894e-01\"},{\"Shell No.\":8,\"qgrid_unfiltered_index\":7,\"Rad. Temp.\":\"1.126157e+04\",\"Dilution Factor\":\"1.418790e-01\"},{\"Shell No.\":9,\"qgrid_unfiltered_index\":8,\"Rad. Temp.\":\"1.124148e+04\",\"Dilution Factor\":\"1.281619e-01\"},{\"Shell No.\":10,\"qgrid_unfiltered_index\":9,\"Rad. Temp.\":\"1.114898e+04\",\"Dilution Factor\":\"1.190855e-01\"},{\"Shell No.\":11,\"qgrid_unfiltered_index\":10,\"Rad. Temp.\":\"1.107153e+04\",\"Dilution Factor\":\"1.114804e-01\"},{\"Shell No.\":12,\"qgrid_unfiltered_index\":11,\"Rad. Temp.\":\"1.100469e+04\",\"Dilution Factor\":\"1.045448e-01\"},{\"Shell No.\":13,\"qgrid_unfiltered_index\":12,\"Rad. Temp.\":\"1.094640e+04\",\"Dilution Factor\":\"9.806677e-02\"},{\"Shell No.\":14,\"qgrid_unfiltered_index\":13,\"Rad. Temp.\":\"1.086143e+04\",\"Dilution Factor\":\"9.312254e-02\"},{\"Shell No.\":15,\"qgrid_unfiltered_index\":14,\"Rad. Temp.\":\"1.078448e+04\",\"Dilution Factor\":\"8.822151e-02\"},{\"Shell No.\":16,\"qgrid_unfiltered_index\":15,\"Rad. Temp.\":\"1.065556e+04\",\"Dilution Factor\":\"8.534236e-02\"},{\"Shell No.\":17,\"qgrid_unfiltered_index\":16,\"Rad. Temp.\":\"1.058612e+04\",\"Dilution Factor\":\"8.173657e-02\"},{\"Shell No.\":18,\"qgrid_unfiltered_index\":17,\"Rad. Temp.\":\"1.056800e+04\",\"Dilution Factor\":\"7.726564e-02\"},{\"Shell No.\":19,\"qgrid_unfiltered_index\":18,\"Rad. Temp.\":\"1.043571e+04\",\"Dilution Factor\":\"7.559528e-02\"},{\"Shell No.\":20,\"qgrid_unfiltered_index\":19,\"Rad. Temp.\":\"1.030571e+04\",\"Dilution Factor\":\"7.395579e-02\"}]}",
       "_df_range": [
        0,
        100
       ],
       "_dom_classes": [],
       "_editable_rows": {},
       "_index_col_name": "qgrid_unfiltered_index",
       "_interval_columns": [],
       "_model_module": "qgrid",
       "_model_module_version": "^1.1.3",
       "_model_name": "QgridModel",
       "_multi_index": false,
       "_row_count": 20,
       "_row_styles": {},
       "_sort_ascending": true,
       "_sort_field": null,
       "_view_count": null,
       "_view_module": "qgrid",
       "_view_module_version": "^1.1.3",
       "_view_name": "QgridView",
       "_viewport_range": [
        0,
        100
       ],
       "grid_options": {
        "autoEdit": false,
        "boldIndex": true,
        "defaultColumnWidth": 150,
        "editable": false,
        "enableColumnReorder": false,
        "enableTextSelectionOnCells": true,
        "explicitInitialization": true,
        "filterable": false,
        "forceFitColumns": true,
        "fullWidthRows": true,
        "highlightSelectedCell": false,
        "highlightSelectedRow": true,
        "maxVisibleRows": 15,
        "minVisibleRows": 2,
        "rowHeight": 28,
        "sortable": false,
        "syncColumnCellResize": true
       },
       "id": "b20ddf6e-b211-436a-a952-43f49835d5c9",
       "layout": "IPY_MODEL_c9ceda6a1e3342fc8e5a34cda6d34f61",
       "precision": 5,
       "show_toolbar": false
      }
     },
     "5ea579bda27c4b6ebe3a86bf726841b5": {
      "model_module": "@jupyter-widgets/base",
      "model_module_version": "1.2.0",
      "model_name": "LayoutModel",
      "state": {
       "_model_module": "@jupyter-widgets/base",
       "_model_module_version": "1.2.0",
       "_model_name": "LayoutModel",
       "_view_count": null,
       "_view_module": "@jupyter-widgets/base",
       "_view_module_version": "1.2.0",
       "_view_name": "LayoutView",
       "align_content": null,
       "align_items": null,
       "align_self": null,
       "border": null,
       "bottom": null,
       "display": null,
       "flex": null,
       "flex_flow": null,
       "grid_area": null,
       "grid_auto_columns": null,
       "grid_auto_flow": null,
       "grid_auto_rows": null,
       "grid_column": null,
       "grid_gap": null,
       "grid_row": null,
       "grid_template_areas": null,
       "grid_template_columns": null,
       "grid_template_rows": null,
       "height": null,
       "justify_content": null,
       "justify_items": null,
       "left": null,
       "margin": null,
       "max_height": null,
       "max_width": null,
       "min_height": null,
       "min_width": null,
       "object_fit": null,
       "object_position": null,
       "order": null,
       "overflow": null,
       "overflow_x": null,
       "overflow_y": null,
       "padding": null,
       "right": null,
       "top": null,
       "visibility": null,
       "width": "605px"
      }
     },
     "60ffdc071730424195a1bf0abc3d9886": {
      "model_module": "@jupyter-widgets/base",
      "model_module_version": "1.2.0",
      "model_name": "LayoutModel",
      "state": {
       "_model_module": "@jupyter-widgets/base",
       "_model_module_version": "1.2.0",
       "_model_name": "LayoutModel",
       "_view_count": null,
       "_view_module": "@jupyter-widgets/base",
       "_view_module_version": "1.2.0",
       "_view_name": "LayoutView",
       "align_content": null,
       "align_items": null,
       "align_self": null,
       "border": null,
       "bottom": null,
       "display": null,
       "flex": null,
       "flex_flow": null,
       "grid_area": null,
       "grid_auto_columns": null,
       "grid_auto_flow": null,
       "grid_auto_rows": null,
       "grid_column": null,
       "grid_gap": null,
       "grid_row": null,
       "grid_template_areas": null,
       "grid_template_columns": null,
       "grid_template_rows": null,
       "height": null,
       "justify_content": null,
       "justify_items": null,
       "left": null,
       "margin": null,
       "max_height": null,
       "max_width": null,
       "min_height": null,
       "min_width": null,
       "object_fit": null,
       "object_position": null,
       "order": null,
       "overflow": null,
       "overflow_x": null,
       "overflow_y": null,
       "padding": null,
       "right": null,
       "top": null,
       "visibility": null,
       "width": null
      }
     },
     "6180d73300f34e7fbcefd618015f0e78": {
      "model_module": "@jupyter-widgets/base",
      "model_module_version": "1.2.0",
      "model_name": "LayoutModel",
      "state": {
       "_model_module": "@jupyter-widgets/base",
       "_model_module_version": "1.2.0",
       "_model_name": "LayoutModel",
       "_view_count": null,
       "_view_module": "@jupyter-widgets/base",
       "_view_module_version": "1.2.0",
       "_view_name": "LayoutView",
       "align_content": null,
       "align_items": null,
       "align_self": null,
       "border": null,
       "bottom": null,
       "display": null,
       "flex": "0 0 auto",
       "flex_flow": null,
       "grid_area": null,
       "grid_auto_columns": null,
       "grid_auto_flow": null,
       "grid_auto_rows": null,
       "grid_column": null,
       "grid_gap": null,
       "grid_row": null,
       "grid_template_areas": null,
       "grid_template_columns": null,
       "grid_template_rows": null,
       "height": null,
       "justify_content": null,
       "justify_items": null,
       "left": null,
       "margin": "0px",
       "max_height": null,
       "max_width": null,
       "min_height": null,
       "min_width": null,
       "object_fit": null,
       "object_position": null,
       "order": null,
       "overflow": null,
       "overflow_x": null,
       "overflow_y": null,
       "padding": "0px 2px",
       "right": null,
       "top": null,
       "visibility": null,
       "width": "337.5px"
      }
     },
     "66a887d06b0848ce9ed3a75553501f37": {
      "model_module": "@jupyter-widgets/base",
      "model_module_version": "1.2.0",
      "model_name": "LayoutModel",
      "state": {
       "_model_module": "@jupyter-widgets/base",
       "_model_module_version": "1.2.0",
       "_model_name": "LayoutModel",
       "_view_count": null,
       "_view_module": "@jupyter-widgets/base",
       "_view_module_version": "1.2.0",
       "_view_name": "LayoutView",
       "align_content": null,
       "align_items": null,
       "align_self": null,
       "border": null,
       "bottom": null,
       "display": null,
       "flex": null,
       "flex_flow": null,
       "grid_area": null,
       "grid_auto_columns": null,
       "grid_auto_flow": null,
       "grid_auto_rows": null,
       "grid_column": null,
       "grid_gap": null,
       "grid_row": null,
       "grid_template_areas": null,
       "grid_template_columns": null,
       "grid_template_rows": null,
       "height": null,
       "justify_content": null,
       "justify_items": null,
       "left": null,
       "margin": null,
       "max_height": null,
       "max_width": null,
       "min_height": null,
       "min_width": null,
       "object_fit": null,
       "object_position": null,
       "order": null,
       "overflow": null,
       "overflow_x": null,
       "overflow_y": null,
       "padding": null,
       "right": null,
       "top": null,
       "visibility": null,
       "width": "auto"
      }
     },
     "6a5f34743f2646cd8c0117fda7070e67": {
      "model_module": "@jupyter-widgets/base",
      "model_module_version": "1.2.0",
      "model_name": "LayoutModel",
      "state": {
       "_model_module": "@jupyter-widgets/base",
       "_model_module_version": "1.2.0",
       "_model_name": "LayoutModel",
       "_view_count": null,
       "_view_module": "@jupyter-widgets/base",
       "_view_module_version": "1.2.0",
       "_view_name": "LayoutView",
       "align_content": null,
       "align_items": null,
       "align_self": null,
       "border": null,
       "bottom": null,
       "display": null,
       "flex": null,
       "flex_flow": null,
       "grid_area": null,
       "grid_auto_columns": null,
       "grid_auto_flow": null,
       "grid_auto_rows": null,
       "grid_column": null,
       "grid_gap": null,
       "grid_row": null,
       "grid_template_areas": null,
       "grid_template_columns": null,
       "grid_template_rows": null,
       "height": null,
       "justify_content": null,
       "justify_items": null,
       "left": null,
       "margin": null,
       "max_height": null,
       "max_width": null,
       "min_height": null,
       "min_width": null,
       "object_fit": null,
       "object_position": null,
       "order": null,
       "overflow": null,
       "overflow_x": null,
       "overflow_y": null,
       "padding": null,
       "right": null,
       "top": null,
       "visibility": null,
       "width": "20px"
      }
     },
     "6af7e06b3805429d9c8d5e4ede49a9d5": {
      "model_module": "@jupyter-widgets/controls",
      "model_module_version": "1.5.0",
      "model_name": "HTMLModel",
      "state": {
       "_dom_classes": [],
       "_model_module": "@jupyter-widgets/controls",
       "_model_module_version": "1.5.0",
       "_model_name": "HTMLModel",
       "_view_count": null,
       "_view_module": "@jupyter-widgets/controls",
       "_view_module_version": "1.5.0",
       "_view_name": "HTMLView",
       "description": "",
       "description_tooltip": null,
       "layout": "IPY_MODEL_bb7e0035856f40aaa04fd81581d732e1",
       "placeholder": "​",
       "style": "IPY_MODEL_d5ec3161d5474bf7bb3a037957d15471",
       "value": "0/? [00:00&lt;?, ?it/s]"
      }
     },
     "6b2e0b92cc3a430c9afd83d1d830e4eb": {
      "model_module": "@jupyter-widgets/base",
      "model_module_version": "1.2.0",
      "model_name": "LayoutModel",
      "state": {
       "_model_module": "@jupyter-widgets/base",
       "_model_module_version": "1.2.0",
       "_model_name": "LayoutModel",
       "_view_count": null,
       "_view_module": "@jupyter-widgets/base",
       "_view_module_version": "1.2.0",
       "_view_name": "LayoutView",
       "align_content": null,
       "align_items": null,
       "align_self": null,
       "border": null,
       "bottom": null,
       "display": null,
       "flex": null,
       "flex_flow": null,
       "grid_area": null,
       "grid_auto_columns": null,
       "grid_auto_flow": null,
       "grid_auto_rows": null,
       "grid_column": null,
       "grid_gap": null,
       "grid_row": null,
       "grid_template_areas": null,
       "grid_template_columns": null,
       "grid_template_rows": null,
       "height": null,
       "justify_content": null,
       "justify_items": null,
       "left": null,
       "margin": null,
       "max_height": null,
       "max_width": null,
       "min_height": null,
       "min_width": null,
       "object_fit": null,
       "object_position": null,
       "order": null,
       "overflow": null,
       "overflow_x": null,
       "overflow_y": null,
       "padding": null,
       "right": null,
       "top": null,
       "visibility": null,
       "width": null
      }
     },
     "6b4b91f6d1304c1caeb10234cac998c8": {
      "model_module": "@jupyter-widgets/controls",
      "model_module_version": "1.5.0",
      "model_name": "VBoxModel",
      "state": {
       "_dom_classes": [],
       "_model_module": "@jupyter-widgets/controls",
       "_model_module_version": "1.5.0",
       "_model_name": "VBoxModel",
       "_view_count": null,
       "_view_module": "@jupyter-widgets/controls",
       "_view_module_version": "1.5.0",
       "_view_name": "VBoxView",
       "box_style": "",
       "children": [
        "IPY_MODEL_4e46dcf9d1a14fafbec959ce56f3d231",
        "IPY_MODEL_fa9300333ce246fb893a10fa7d72171c"
       ],
       "layout": "IPY_MODEL_82fd48cf661a495c8368f69a9ce971dd"
      }
     },
     "6b4d935a2b4d441a874587bdff679cb6": {
      "model_module": "@jupyter-widgets/controls",
      "model_module_version": "1.5.0",
      "model_name": "DescriptionStyleModel",
      "state": {
       "_model_module": "@jupyter-widgets/controls",
       "_model_module_version": "1.5.0",
       "_model_name": "DescriptionStyleModel",
       "_view_count": null,
       "_view_module": "@jupyter-widgets/base",
       "_view_module_version": "1.2.0",
       "_view_name": "StyleView",
       "description_width": ""
      }
     },
     "6f94341a497a4f44b3eaf53fa149ecf7": {
      "model_module": "@jupyter-widgets/base",
      "model_module_version": "1.2.0",
      "model_name": "LayoutModel",
      "state": {
       "_model_module": "@jupyter-widgets/base",
       "_model_module_version": "1.2.0",
       "_model_name": "LayoutModel",
       "_view_count": null,
       "_view_module": "@jupyter-widgets/base",
       "_view_module_version": "1.2.0",
       "_view_name": "LayoutView",
       "align_content": null,
       "align_items": null,
       "align_self": null,
       "border": null,
       "bottom": null,
       "display": null,
       "flex": null,
       "flex_flow": null,
       "grid_area": null,
       "grid_auto_columns": null,
       "grid_auto_flow": null,
       "grid_auto_rows": null,
       "grid_column": null,
       "grid_gap": null,
       "grid_row": null,
       "grid_template_areas": null,
       "grid_template_columns": null,
       "grid_template_rows": null,
       "height": null,
       "justify_content": null,
       "justify_items": null,
       "left": null,
       "margin": null,
       "max_height": null,
       "max_width": null,
       "min_height": null,
       "min_width": null,
       "object_fit": null,
       "object_position": null,
       "order": null,
       "overflow": null,
       "overflow_x": null,
       "overflow_y": null,
       "padding": null,
       "right": null,
       "top": null,
       "visibility": null,
       "width": "20px"
      }
     },
     "6f9c31cc57e04b9a8db7f1ae073fedee": {
      "model_module": "@jupyter-widgets/base",
      "model_module_version": "1.2.0",
      "model_name": "LayoutModel",
      "state": {
       "_model_module": "@jupyter-widgets/base",
       "_model_module_version": "1.2.0",
       "_model_name": "LayoutModel",
       "_view_count": null,
       "_view_module": "@jupyter-widgets/base",
       "_view_module_version": "1.2.0",
       "_view_name": "LayoutView",
       "align_content": null,
       "align_items": null,
       "align_self": null,
       "border": null,
       "bottom": null,
       "display": null,
       "flex": null,
       "flex_flow": null,
       "grid_area": null,
       "grid_auto_columns": null,
       "grid_auto_flow": null,
       "grid_auto_rows": null,
       "grid_column": null,
       "grid_gap": null,
       "grid_row": null,
       "grid_template_areas": null,
       "grid_template_columns": null,
       "grid_template_rows": null,
       "height": null,
       "justify_content": null,
       "justify_items": null,
       "left": null,
       "margin": null,
       "max_height": null,
       "max_width": null,
       "min_height": null,
       "min_width": null,
       "object_fit": null,
       "object_position": null,
       "order": null,
       "overflow": null,
       "overflow_x": null,
       "overflow_y": null,
       "padding": null,
       "right": null,
       "top": null,
       "visibility": null,
       "width": null
      }
     },
     "6fe9726d32824f29ab25f00aca925be0": {
      "model_module": "@jupyter-widgets/controls",
      "model_module_version": "1.5.0",
      "model_name": "DescriptionStyleModel",
      "state": {
       "_model_module": "@jupyter-widgets/controls",
       "_model_module_version": "1.5.0",
       "_model_name": "DescriptionStyleModel",
       "_view_count": null,
       "_view_module": "@jupyter-widgets/base",
       "_view_module_version": "1.2.0",
       "_view_name": "StyleView",
       "description_width": ""
      }
     },
     "709af3c98b3840238de0b9a472cf4435": {
      "model_module": "@jupyter-widgets/controls",
      "model_module_version": "1.5.0",
      "model_name": "DropdownModel",
      "state": {
       "_dom_classes": [],
       "_model_module": "@jupyter-widgets/controls",
       "_model_module_version": "1.5.0",
       "_model_name": "DropdownModel",
       "_options_labels": [
        "All",
        "1",
        "2",
        "3",
        "4",
        "5",
        "6",
        "7",
        "8",
        "9",
        "10",
        "11",
        "12",
        "13",
        "14",
        "15",
        "16",
        "17",
        "18",
        "19",
        "20"
       ],
       "_view_count": null,
       "_view_module": "@jupyter-widgets/controls",
       "_view_module_version": "1.5.0",
       "_view_name": "DropdownView",
       "description": "Shell",
       "description_tooltip": null,
       "disabled": false,
       "index": 0,
       "layout": "IPY_MODEL_1cf7054cd3434b18b9d94fdc64331beb",
       "style": "IPY_MODEL_b12a231070dd4e24916a44124572d4cb"
      }
     },
     "70d4eed8f0234d66be7a689519329b20": {
      "model_module": "@jupyter-widgets/base",
      "model_module_version": "1.2.0",
      "model_name": "LayoutModel",
      "state": {
       "_model_module": "@jupyter-widgets/base",
       "_model_module_version": "1.2.0",
       "_model_name": "LayoutModel",
       "_view_count": null,
       "_view_module": "@jupyter-widgets/base",
       "_view_module_version": "1.2.0",
       "_view_name": "LayoutView",
       "align_content": null,
       "align_items": null,
       "align_self": null,
       "border": null,
       "bottom": null,
       "display": null,
       "flex": null,
       "flex_flow": null,
       "grid_area": null,
       "grid_auto_columns": null,
       "grid_auto_flow": null,
       "grid_auto_rows": null,
       "grid_column": null,
       "grid_gap": null,
       "grid_row": null,
       "grid_template_areas": null,
       "grid_template_columns": null,
       "grid_template_rows": null,
       "height": null,
       "justify_content": null,
       "justify_items": null,
       "left": null,
       "margin": null,
       "max_height": null,
       "max_width": null,
       "min_height": null,
       "min_width": null,
       "object_fit": null,
       "object_position": null,
       "order": null,
       "overflow": null,
       "overflow_x": null,
       "overflow_y": null,
       "padding": null,
       "right": null,
       "top": null,
       "visibility": null,
       "width": null
      }
     },
     "7136a119087a40a980642f9cbcaf89a3": {
      "model_module": "@jupyter-widgets/controls",
      "model_module_version": "1.5.0",
      "model_name": "DescriptionStyleModel",
      "state": {
       "_model_module": "@jupyter-widgets/controls",
       "_model_module_version": "1.5.0",
       "_model_name": "DescriptionStyleModel",
       "_view_count": null,
       "_view_module": "@jupyter-widgets/base",
       "_view_module_version": "1.2.0",
       "_view_name": "StyleView",
       "description_width": ""
      }
     },
     "735509d0006d4f15b07b5fa298cf4410": {
      "model_module": "@jupyter-widgets/controls",
      "model_module_version": "1.5.0",
      "model_name": "HBoxModel",
      "state": {
       "_dom_classes": [],
       "_model_module": "@jupyter-widgets/controls",
       "_model_module_version": "1.5.0",
       "_model_name": "HBoxModel",
       "_view_count": null,
       "_view_module": "@jupyter-widgets/controls",
       "_view_module_version": "1.5.0",
       "_view_name": "HBoxView",
       "box_style": "",
       "children": [
        "IPY_MODEL_ed4128f2f2e44f4ea90e3ab553b9760c",
        "IPY_MODEL_c068411fad664bae8617e5efc027d4de",
        "IPY_MODEL_8a14e2a9dc8c4bfb91363e34ca1f0885"
       ],
       "layout": "IPY_MODEL_2253d8a1889c4a2a95b98bc3b602bb1d"
      }
     },
     "82fd48cf661a495c8368f69a9ce971dd": {
      "model_module": "@jupyter-widgets/base",
      "model_module_version": "1.2.0",
      "model_name": "LayoutModel",
      "state": {
       "_model_module": "@jupyter-widgets/base",
       "_model_module_version": "1.2.0",
       "_model_name": "LayoutModel",
       "_view_count": null,
       "_view_module": "@jupyter-widgets/base",
       "_view_module_version": "1.2.0",
       "_view_name": "LayoutView",
       "align_content": null,
       "align_items": null,
       "align_self": null,
       "border": null,
       "bottom": null,
       "display": null,
       "flex": null,
       "flex_flow": null,
       "grid_area": null,
       "grid_auto_columns": null,
       "grid_auto_flow": null,
       "grid_auto_rows": null,
       "grid_column": null,
       "grid_gap": null,
       "grid_row": null,
       "grid_template_areas": null,
       "grid_template_columns": null,
       "grid_template_rows": null,
       "height": null,
       "justify_content": null,
       "justify_items": null,
       "left": null,
       "margin": null,
       "max_height": null,
       "max_width": null,
       "min_height": null,
       "min_width": null,
       "object_fit": null,
       "object_position": null,
       "order": null,
       "overflow": null,
       "overflow_x": null,
       "overflow_y": null,
       "padding": null,
       "right": null,
       "top": null,
       "visibility": null,
       "width": null
      }
     },
     "85ddf7405edb48c094612dd183a60075": {
      "model_module": "@jupyter-widgets/controls",
      "model_module_version": "1.5.0",
      "model_name": "BoxModel",
      "state": {
       "_dom_classes": [],
       "_model_module": "@jupyter-widgets/controls",
       "_model_module_version": "1.5.0",
       "_model_name": "BoxModel",
       "_view_count": null,
       "_view_module": "@jupyter-widgets/controls",
       "_view_module_version": "1.5.0",
       "_view_name": "BoxView",
       "box_style": "",
       "children": [
        "IPY_MODEL_e420c5e581424d54a08a3ab8b9734bc9",
        "IPY_MODEL_1339f51f82644ea9a45244f8e41b5552"
       ],
       "layout": "IPY_MODEL_0cbe8f3fd47a4cbcad60300cb0de42b2"
      }
     },
     "89a7886f8b0e4490a433dc6b6146a552": {
      "model_module": "@jupyter-widgets/base",
      "model_module_version": "1.2.0",
      "model_name": "LayoutModel",
      "state": {
       "_model_module": "@jupyter-widgets/base",
       "_model_module_version": "1.2.0",
       "_model_name": "LayoutModel",
       "_view_count": null,
       "_view_module": "@jupyter-widgets/base",
       "_view_module_version": "1.2.0",
       "_view_name": "LayoutView",
       "align_content": null,
       "align_items": null,
       "align_self": null,
       "border": null,
       "bottom": null,
       "display": null,
       "flex": null,
       "flex_flow": null,
       "grid_area": null,
       "grid_auto_columns": null,
       "grid_auto_flow": null,
       "grid_auto_rows": null,
       "grid_column": null,
       "grid_gap": null,
       "grid_row": null,
       "grid_template_areas": null,
       "grid_template_columns": null,
       "grid_template_rows": null,
       "height": null,
       "justify_content": null,
       "justify_items": null,
       "left": null,
       "margin": "0px 15px",
       "max_height": null,
       "max_width": null,
       "min_height": null,
       "min_width": null,
       "object_fit": null,
       "object_position": null,
       "order": null,
       "overflow": null,
       "overflow_x": null,
       "overflow_y": null,
       "padding": null,
       "right": null,
       "top": null,
       "visibility": null,
       "width": null
      }
     },
     "8a14e2a9dc8c4bfb91363e34ca1f0885": {
      "model_module": "@jupyter-widgets/controls",
      "model_module_version": "1.5.0",
      "model_name": "HTMLModel",
      "state": {
       "_dom_classes": [],
       "_model_module": "@jupyter-widgets/controls",
       "_model_module_version": "1.5.0",
       "_model_name": "HTMLModel",
       "_view_count": null,
       "_view_module": "@jupyter-widgets/controls",
       "_view_module_version": "1.5.0",
       "_view_name": "HTMLView",
       "description": "",
       "description_tooltip": null,
       "layout": "IPY_MODEL_29cadfeae7084ad4b00294b8a3999688",
       "placeholder": "​",
       "style": "IPY_MODEL_5bc1b368965b4874bba741957d241e3c",
       "value": "0/? [00:00&lt;?, ?it/s]"
      }
     },
     "8aab4a5d08534e3faaa691208ee26967": {
      "model_module": "@jupyter-widgets/base",
      "model_module_version": "1.2.0",
      "model_name": "LayoutModel",
      "state": {
       "_model_module": "@jupyter-widgets/base",
       "_model_module_version": "1.2.0",
       "_model_name": "LayoutModel",
       "_view_count": null,
       "_view_module": "@jupyter-widgets/base",
       "_view_module_version": "1.2.0",
       "_view_name": "LayoutView",
       "align_content": null,
       "align_items": null,
       "align_self": null,
       "border": null,
       "bottom": null,
       "display": null,
       "flex": null,
       "flex_flow": null,
       "grid_area": null,
       "grid_auto_columns": null,
       "grid_auto_flow": null,
       "grid_auto_rows": null,
       "grid_column": null,
       "grid_gap": null,
       "grid_row": null,
       "grid_template_areas": null,
       "grid_template_columns": null,
       "grid_template_rows": null,
       "height": null,
       "justify_content": null,
       "justify_items": null,
       "left": null,
       "margin": null,
       "max_height": null,
       "max_width": null,
       "min_height": null,
       "min_width": null,
       "object_fit": null,
       "object_position": null,
       "order": null,
       "overflow": null,
       "overflow_x": null,
       "overflow_y": null,
       "padding": null,
       "right": null,
       "top": null,
       "visibility": null,
       "width": null
      }
     },
     "8c49221afd5a48959914551fbe077937": {
      "model_module": "@jupyter-widgets/controls",
      "model_module_version": "1.5.0",
      "model_name": "DescriptionStyleModel",
      "state": {
       "_model_module": "@jupyter-widgets/controls",
       "_model_module_version": "1.5.0",
       "_model_name": "DescriptionStyleModel",
       "_view_count": null,
       "_view_module": "@jupyter-widgets/base",
       "_view_module_version": "1.2.0",
       "_view_name": "StyleView",
       "description_width": ""
      }
     },
     "8e7d0bb90cff4265a488746079b3cefb": {
      "model_module": "@jupyter-widgets/controls",
      "model_module_version": "1.5.0",
      "model_name": "ProgressStyleModel",
      "state": {
       "_model_module": "@jupyter-widgets/controls",
       "_model_module_version": "1.5.0",
       "_model_name": "ProgressStyleModel",
       "_view_count": null,
       "_view_module": "@jupyter-widgets/base",
       "_view_module_version": "1.2.0",
       "_view_name": "StyleView",
       "bar_color": null,
       "description_width": ""
      }
     },
     "910d8de5c279458eb32ec56fd5cee550": {
      "model_module": "@jupyter-widgets/controls",
      "model_module_version": "1.5.0",
      "model_name": "DescriptionStyleModel",
      "state": {
       "_model_module": "@jupyter-widgets/controls",
       "_model_module_version": "1.5.0",
       "_model_name": "DescriptionStyleModel",
       "_view_count": null,
       "_view_module": "@jupyter-widgets/base",
       "_view_module_version": "1.2.0",
       "_view_name": "StyleView",
       "description_width": ""
      }
     },
     "929fe8f496584500b5e0488c1d6493bf": {
      "model_module": "@jupyter-widgets/controls",
      "model_module_version": "1.5.0",
      "model_name": "ToggleButtonsModel",
      "state": {
       "_dom_classes": [],
       "_model_module": "@jupyter-widgets/controls",
       "_model_module_version": "1.5.0",
       "_model_name": "ToggleButtonsModel",
       "_options_labels": [
        "Linear",
        "Log"
       ],
       "_view_count": null,
       "_view_module": "@jupyter-widgets/controls",
       "_view_module_version": "1.5.0",
       "_view_name": "ToggleButtonsView",
       "button_style": "",
       "description": "Y-Scale",
       "description_tooltip": null,
       "disabled": false,
       "icons": [],
       "index": 1,
       "layout": "IPY_MODEL_58708f9fa80948daa91944a7d75cd48e",
       "style": "IPY_MODEL_3d748421eff944459c87850bc97d9734",
       "tooltips": []
      }
     },
     "986188fef9dc4e2ab1fb25b7be85fd20": {
      "model_module": "@jupyter-widgets/controls",
      "model_module_version": "1.5.0",
      "model_name": "HBoxModel",
      "state": {
       "_dom_classes": [],
       "_model_module": "@jupyter-widgets/controls",
       "_model_module_version": "1.5.0",
       "_model_name": "HBoxModel",
       "_view_count": null,
       "_view_module": "@jupyter-widgets/controls",
       "_view_module_version": "1.5.0",
       "_view_name": "HBoxView",
       "box_style": "",
       "children": [
        "IPY_MODEL_929fe8f496584500b5e0488c1d6493bf",
        "IPY_MODEL_3cd1973b856642d2a87864d339fea9a9"
       ],
       "layout": "IPY_MODEL_c2c1ead865d24830a90f061a26e77f69"
      }
     },
     "98bbe7c9677f4919b91afb62ade0f35a": {
      "model_module": "@jupyter-widgets/controls",
      "model_module_version": "1.5.0",
      "model_name": "BoundedIntTextModel",
      "state": {
       "_dom_classes": [],
       "_model_module": "@jupyter-widgets/controls",
       "_model_module_version": "1.5.0",
       "_model_name": "BoundedIntTextModel",
       "_view_count": null,
       "_view_module": "@jupyter-widgets/controls",
       "_view_module_version": "1.5.0",
       "_view_name": "IntTextView",
       "continuous_update": false,
       "description": "Max Levels",
       "description_tooltip": null,
       "disabled": false,
       "layout": "IPY_MODEL_d9de058e279c4ecdbb04615fddd2417b",
       "max": 40,
       "min": 1,
       "step": 1,
       "style": "IPY_MODEL_910d8de5c279458eb32ec56fd5cee550",
       "value": 10
      }
     },
     "994478fe307f40d18363c057b716774b": {
      "model_module": "@jupyter-widgets/controls",
      "model_module_version": "1.5.0",
      "model_name": "BoxModel",
      "state": {
       "_dom_classes": [],
       "_model_module": "@jupyter-widgets/controls",
       "_model_module_version": "1.5.0",
       "_model_name": "BoxModel",
       "_view_count": null,
       "_view_module": "@jupyter-widgets/controls",
       "_view_module_version": "1.5.0",
       "_view_name": "BoxView",
       "box_style": "",
       "children": [
        "IPY_MODEL_bb9a12d58c1d4ddda1304c27611baa47",
        "IPY_MODEL_e531d9ffa4de437eaa59dda487fcc673"
       ],
       "layout": "IPY_MODEL_f56a31064b824e95b958c4f893ec520b"
      }
     },
     "9e8248d3766e4ecab041a101ca7bf5c0": {
      "model_module": "@jupyter-widgets/output",
      "model_module_version": "1.0.0",
      "model_name": "OutputModel",
      "state": {
       "_dom_classes": [],
       "_model_module": "@jupyter-widgets/output",
       "_model_module_version": "1.0.0",
       "_model_name": "OutputModel",
       "_view_count": null,
       "_view_module": "@jupyter-widgets/output",
       "_view_module_version": "1.0.0",
       "_view_name": "OutputView",
       "layout": "IPY_MODEL_be7752529fcd428cbf611e63f5da7e13",
       "msg_id": "",
       "outputs": []
      }
     },
     "9fd22bcd091a4c1290dcad6c1659d320": {
      "model_module": "@jupyter-widgets/controls",
      "model_module_version": "1.5.0",
      "model_name": "DescriptionStyleModel",
      "state": {
       "_model_module": "@jupyter-widgets/controls",
       "_model_module_version": "1.5.0",
       "_model_name": "DescriptionStyleModel",
       "_view_count": null,
       "_view_module": "@jupyter-widgets/base",
       "_view_module_version": "1.2.0",
       "_view_name": "StyleView",
       "description_width": ""
      }
     },
     "a1310ad1349a43fabbf30e36b1ed27f4": {
      "model_module": "@jupyter-widgets/controls",
      "model_module_version": "1.5.0",
      "model_name": "DropdownModel",
      "state": {
       "_dom_classes": [],
       "_model_module": "@jupyter-widgets/controls",
       "_model_module_version": "1.5.0",
       "_model_name": "DropdownModel",
       "_options_labels": [
        "Both excitation line (absorption) and de-excitation line (emission)",
        "Only excitation line (absorption)",
        "Only de-excitation line (emission)"
       ],
       "_view_count": null,
       "_view_module": "@jupyter-widgets/controls",
       "_view_module_version": "1.5.0",
       "_view_name": "DropdownView",
       "description": "",
       "description_tooltip": null,
       "disabled": false,
       "index": 0,
       "layout": "IPY_MODEL_66a887d06b0848ce9ed3a75553501f37",
       "style": "IPY_MODEL_6fe9726d32824f29ab25f00aca925be0"
      }
     },
     "a4addef5d27c46ec9c801657efb90202": {
      "model_module": "@jupyter-widgets/controls",
      "model_module_version": "1.5.0",
      "model_name": "HTMLModel",
      "state": {
       "_dom_classes": [],
       "_model_module": "@jupyter-widgets/controls",
       "_model_module_version": "1.5.0",
       "_model_name": "HTMLModel",
       "_view_count": null,
       "_view_module": "@jupyter-widgets/controls",
       "_view_module_version": "1.5.0",
       "_view_name": "HTMLView",
       "description": "",
       "description_tooltip": null,
       "layout": "IPY_MODEL_b2ac19a26dd04af387f107fdd3ffd3bd",
       "placeholder": "​",
       "style": "IPY_MODEL_9fd22bcd091a4c1290dcad6c1659d320",
       "value": "20/20 [00:13&lt;00:00,  1.80s/it]"
      }
     },
     "a6b443ee8513487db54c01660e0b1c51": {
      "model_module": "@jupyter-widgets/base",
      "model_module_version": "1.2.0",
      "model_name": "LayoutModel",
      "state": {
       "_model_module": "@jupyter-widgets/base",
       "_model_module_version": "1.2.0",
       "_model_name": "LayoutModel",
       "_view_count": null,
       "_view_module": "@jupyter-widgets/base",
       "_view_module_version": "1.2.0",
       "_view_name": "LayoutView",
       "align_content": null,
       "align_items": null,
       "align_self": null,
       "border": null,
       "bottom": null,
       "display": null,
       "flex": null,
       "flex_flow": null,
       "grid_area": null,
       "grid_auto_columns": null,
       "grid_auto_flow": null,
       "grid_auto_rows": null,
       "grid_column": null,
       "grid_gap": null,
       "grid_row": null,
       "grid_template_areas": null,
       "grid_template_columns": null,
       "grid_template_rows": null,
       "height": null,
       "justify_content": null,
       "justify_items": null,
       "left": null,
       "margin": null,
       "max_height": null,
       "max_width": null,
       "min_height": null,
       "min_width": null,
       "object_fit": null,
       "object_position": null,
       "order": null,
       "overflow": null,
       "overflow_x": null,
       "overflow_y": null,
       "padding": null,
       "right": null,
       "top": null,
       "visibility": null,
       "width": null
      }
     },
     "a82c7596c5ad4d3c881db2c923926725": {
      "model_module": "@jupyter-widgets/controls",
      "model_module_version": "1.5.0",
      "model_name": "DescriptionStyleModel",
      "state": {
       "_model_module": "@jupyter-widgets/controls",
       "_model_module_version": "1.5.0",
       "_model_name": "DescriptionStyleModel",
       "_view_count": null,
       "_view_module": "@jupyter-widgets/base",
       "_view_module_version": "1.2.0",
       "_view_name": "StyleView",
       "description_width": ""
      }
     },
     "ac5b29ec83004ba0b853212155429b12": {
      "model_module": "@jupyter-widgets/base",
      "model_module_version": "1.2.0",
      "model_name": "LayoutModel",
      "state": {
       "_model_module": "@jupyter-widgets/base",
       "_model_module_version": "1.2.0",
       "_model_name": "LayoutModel",
       "_view_count": null,
       "_view_module": "@jupyter-widgets/base",
       "_view_module_version": "1.2.0",
       "_view_name": "LayoutView",
       "align_content": null,
       "align_items": null,
       "align_self": null,
       "border": null,
       "bottom": null,
       "display": null,
       "flex": null,
       "flex_flow": null,
       "grid_area": null,
       "grid_auto_columns": null,
       "grid_auto_flow": null,
       "grid_auto_rows": null,
       "grid_column": null,
       "grid_gap": null,
       "grid_row": null,
       "grid_template_areas": null,
       "grid_template_columns": null,
       "grid_template_rows": null,
       "height": null,
       "justify_content": null,
       "justify_items": null,
       "left": null,
       "margin": null,
       "max_height": null,
       "max_width": null,
       "min_height": null,
       "min_width": null,
       "object_fit": null,
       "object_position": null,
       "order": null,
       "overflow": null,
       "overflow_x": null,
       "overflow_y": null,
       "padding": null,
       "right": null,
       "top": null,
       "visibility": null,
       "width": null
      }
     },
     "b12a231070dd4e24916a44124572d4cb": {
      "model_module": "@jupyter-widgets/controls",
      "model_module_version": "1.5.0",
      "model_name": "DescriptionStyleModel",
      "state": {
       "_model_module": "@jupyter-widgets/controls",
       "_model_module_version": "1.5.0",
       "_model_name": "DescriptionStyleModel",
       "_view_count": null,
       "_view_module": "@jupyter-widgets/base",
       "_view_module_version": "1.2.0",
       "_view_name": "StyleView",
       "description_width": ""
      }
     },
     "b1d067bcc6644f75b1a0688dd79ef8e9": {
      "model_module": "@jupyter-widgets/controls",
      "model_module_version": "1.5.0",
      "model_name": "HTMLModel",
      "state": {
       "_dom_classes": [],
       "_model_module": "@jupyter-widgets/controls",
       "_model_module_version": "1.5.0",
       "_model_name": "HTMLModel",
       "_view_count": null,
       "_view_module": "@jupyter-widgets/controls",
       "_view_module_version": "1.5.0",
       "_view_name": "HTMLView",
       "description": "",
       "description_tooltip": null,
       "layout": "IPY_MODEL_f232bd6eaaad40e9a73007c12e0c79c7",
       "placeholder": "​",
       "style": "IPY_MODEL_59cfd03cfb76459d86f085c0f0d4913e",
       "value": "<span style='font-size: 1.15em;'>Group packet counts by:</span>"
      }
     },
     "b2724dc1f5eb4395ae41c87f90282965": {
      "model_module": "@jupyter-widgets/controls",
      "model_module_version": "1.5.0",
      "model_name": "HBoxModel",
      "state": {
       "_dom_classes": [],
       "_model_module": "@jupyter-widgets/controls",
       "_model_module_version": "1.5.0",
       "_model_name": "HBoxModel",
       "_view_count": null,
       "_view_module": "@jupyter-widgets/controls",
       "_view_module_version": "1.5.0",
       "_view_name": "HBoxView",
       "box_style": "",
       "children": [
        "IPY_MODEL_1274f4edb167405d884c617f256b84ce",
        "IPY_MODEL_4f3cd2fcae3a4e808d18b15f07d9b7e9",
        "IPY_MODEL_5c7263762ed845be927b3950363156be"
       ],
       "layout": "IPY_MODEL_1c35edf49aae479a975cda632201508e"
      }
     },
     "b2ac19a26dd04af387f107fdd3ffd3bd": {
      "model_module": "@jupyter-widgets/base",
      "model_module_version": "1.2.0",
      "model_name": "LayoutModel",
      "state": {
       "_model_module": "@jupyter-widgets/base",
       "_model_module_version": "1.2.0",
       "_model_name": "LayoutModel",
       "_view_count": null,
       "_view_module": "@jupyter-widgets/base",
       "_view_module_version": "1.2.0",
       "_view_name": "LayoutView",
       "align_content": null,
       "align_items": null,
       "align_self": null,
       "border": null,
       "bottom": null,
       "display": null,
       "flex": null,
       "flex_flow": null,
       "grid_area": null,
       "grid_auto_columns": null,
       "grid_auto_flow": null,
       "grid_auto_rows": null,
       "grid_column": null,
       "grid_gap": null,
       "grid_row": null,
       "grid_template_areas": null,
       "grid_template_columns": null,
       "grid_template_rows": null,
       "height": null,
       "justify_content": null,
       "justify_items": null,
       "left": null,
       "margin": null,
       "max_height": null,
       "max_width": null,
       "min_height": null,
       "min_width": null,
       "object_fit": null,
       "object_position": null,
       "order": null,
       "overflow": null,
       "overflow_x": null,
       "overflow_y": null,
       "padding": null,
       "right": null,
       "top": null,
       "visibility": null,
       "width": null
      }
     },
     "b31dbca055084d408c1fcabdd9493fe2": {
      "model_module": "@jupyter-widgets/base",
      "model_module_version": "1.2.0",
      "model_name": "LayoutModel",
      "state": {
       "_model_module": "@jupyter-widgets/base",
       "_model_module_version": "1.2.0",
       "_model_name": "LayoutModel",
       "_view_count": null,
       "_view_module": "@jupyter-widgets/base",
       "_view_module_version": "1.2.0",
       "_view_name": "LayoutView",
       "align_content": null,
       "align_items": null,
       "align_self": null,
       "border": null,
       "bottom": null,
       "display": null,
       "flex": null,
       "flex_flow": null,
       "grid_area": null,
       "grid_auto_columns": null,
       "grid_auto_flow": null,
       "grid_auto_rows": null,
       "grid_column": null,
       "grid_gap": null,
       "grid_row": null,
       "grid_template_areas": null,
       "grid_template_columns": null,
       "grid_template_rows": null,
       "height": null,
       "justify_content": null,
       "justify_items": null,
       "left": null,
       "margin": null,
       "max_height": null,
       "max_width": null,
       "min_height": null,
       "min_width": null,
       "object_fit": null,
       "object_position": null,
       "order": null,
       "overflow": null,
       "overflow_x": null,
       "overflow_y": null,
       "padding": null,
       "right": null,
       "top": null,
       "visibility": null,
       "width": "18%"
      }
     },
     "b33ac183e13343e4a23b311f6b0a1663": {
      "model_module": "@jupyter-widgets/controls",
      "model_module_version": "1.5.0",
      "model_name": "HTMLModel",
      "state": {
       "_dom_classes": [],
       "_model_module": "@jupyter-widgets/controls",
       "_model_module_version": "1.5.0",
       "_model_name": "HTMLModel",
       "_view_count": null,
       "_view_module": "@jupyter-widgets/controls",
       "_view_module_version": "1.5.0",
       "_view_name": "HTMLView",
       "description": "",
       "description_tooltip": null,
       "layout": "IPY_MODEL_70d4eed8f0234d66be7a689519329b20",
       "placeholder": "​",
       "style": "IPY_MODEL_8c49221afd5a48959914551fbe077937",
       "value": "<span style='font-size: 1.15em;'>Filter selected wavelength range ( <span style='display: inline-block; background-color: lightpink; border: 1px solid salmon; width: 0.8em; height: 1.2em; vertical-align: middle;'></span> ) by:</span>"
      }
     },
     "b3e8a9c07a4748b28490a1452d1e8c57": {
      "model_module": "@jupyter-widgets/base",
      "model_module_version": "1.2.0",
      "model_name": "LayoutModel",
      "state": {
       "_model_module": "@jupyter-widgets/base",
       "_model_module_version": "1.2.0",
       "_model_name": "LayoutModel",
       "_view_count": null,
       "_view_module": "@jupyter-widgets/base",
       "_view_module_version": "1.2.0",
       "_view_name": "LayoutView",
       "align_content": null,
       "align_items": null,
       "align_self": null,
       "border": null,
       "bottom": null,
       "display": null,
       "flex": null,
       "flex_flow": null,
       "grid_area": null,
       "grid_auto_columns": null,
       "grid_auto_flow": null,
       "grid_auto_rows": null,
       "grid_column": null,
       "grid_gap": null,
       "grid_row": null,
       "grid_template_areas": null,
       "grid_template_columns": null,
       "grid_template_rows": null,
       "height": null,
       "justify_content": null,
       "justify_items": null,
       "left": null,
       "margin": null,
       "max_height": null,
       "max_width": null,
       "min_height": null,
       "min_width": null,
       "object_fit": null,
       "object_position": null,
       "order": null,
       "overflow": null,
       "overflow_x": null,
       "overflow_y": null,
       "padding": null,
       "right": null,
       "top": null,
       "visibility": null,
       "width": null
      }
     },
     "b437fcfa67a8458f8ad0d3bc57f00d50": {
      "model_module": "@jupyter-widgets/base",
      "model_module_version": "1.2.0",
      "model_name": "LayoutModel",
      "state": {
       "_model_module": "@jupyter-widgets/base",
       "_model_module_version": "1.2.0",
       "_model_name": "LayoutModel",
       "_view_count": null,
       "_view_module": "@jupyter-widgets/base",
       "_view_module_version": "1.2.0",
       "_view_name": "LayoutView",
       "align_content": null,
       "align_items": null,
       "align_self": null,
       "border": null,
       "bottom": null,
       "display": null,
       "flex": null,
       "flex_flow": null,
       "grid_area": null,
       "grid_auto_columns": null,
       "grid_auto_flow": null,
       "grid_auto_rows": null,
       "grid_column": null,
       "grid_gap": null,
       "grid_row": null,
       "grid_template_areas": null,
       "grid_template_columns": null,
       "grid_template_rows": null,
       "height": null,
       "justify_content": null,
       "justify_items": null,
       "left": null,
       "margin": null,
       "max_height": null,
       "max_width": null,
       "min_height": null,
       "min_width": null,
       "object_fit": null,
       "object_position": null,
       "order": null,
       "overflow": null,
       "overflow_x": null,
       "overflow_y": null,
       "padding": null,
       "right": null,
       "top": null,
       "visibility": null,
       "width": "24%"
      }
     },
     "bb7e0035856f40aaa04fd81581d732e1": {
      "model_module": "@jupyter-widgets/base",
      "model_module_version": "1.2.0",
      "model_name": "LayoutModel",
      "state": {
       "_model_module": "@jupyter-widgets/base",
       "_model_module_version": "1.2.0",
       "_model_name": "LayoutModel",
       "_view_count": null,
       "_view_module": "@jupyter-widgets/base",
       "_view_module_version": "1.2.0",
       "_view_name": "LayoutView",
       "align_content": null,
       "align_items": null,
       "align_self": null,
       "border": null,
       "bottom": null,
       "display": null,
       "flex": null,
       "flex_flow": null,
       "grid_area": null,
       "grid_auto_columns": null,
       "grid_auto_flow": null,
       "grid_auto_rows": null,
       "grid_column": null,
       "grid_gap": null,
       "grid_row": null,
       "grid_template_areas": null,
       "grid_template_columns": null,
       "grid_template_rows": null,
       "height": null,
       "justify_content": null,
       "justify_items": null,
       "left": null,
       "margin": null,
       "max_height": null,
       "max_width": null,
       "min_height": null,
       "min_width": null,
       "object_fit": null,
       "object_position": null,
       "order": null,
       "overflow": null,
       "overflow_x": null,
       "overflow_y": null,
       "padding": null,
       "right": null,
       "top": null,
       "visibility": null,
       "width": null
      }
     },
     "bb9a12d58c1d4ddda1304c27611baa47": {
      "model_module": "@jupyter-widgets/controls",
      "model_module_version": "1.5.0",
      "model_name": "HTMLModel",
      "state": {
       "_dom_classes": [],
       "_model_module": "@jupyter-widgets/controls",
       "_model_module_version": "1.5.0",
       "_model_name": "HTMLModel",
       "_view_count": null,
       "_view_module": "@jupyter-widgets/controls",
       "_view_module_version": "1.5.0",
       "_view_name": "HTMLView",
       "description": "",
       "description_tooltip": null,
       "layout": "IPY_MODEL_6180d73300f34e7fbcefd618015f0e78",
       "placeholder": "​",
       "style": "IPY_MODEL_7136a119087a40a980642f9cbcaf89a3",
       "value": "<div style='text-align:right;'> <b>Total Packets:<b> </div>"
      }
     },
     "be7752529fcd428cbf611e63f5da7e13": {
      "model_module": "@jupyter-widgets/base",
      "model_module_version": "1.2.0",
      "model_name": "LayoutModel",
      "state": {
       "_model_module": "@jupyter-widgets/base",
       "_model_module_version": "1.2.0",
       "_model_name": "LayoutModel",
       "_view_count": null,
       "_view_module": "@jupyter-widgets/base",
       "_view_module_version": "1.2.0",
       "_view_name": "LayoutView",
       "align_content": null,
       "align_items": null,
       "align_self": null,
       "border": null,
       "bottom": null,
       "display": null,
       "flex": null,
       "flex_flow": null,
       "grid_area": null,
       "grid_auto_columns": null,
       "grid_auto_flow": null,
       "grid_auto_rows": null,
       "grid_column": null,
       "grid_gap": null,
       "grid_row": null,
       "grid_template_areas": null,
       "grid_template_columns": null,
       "grid_template_rows": null,
       "height": null,
       "justify_content": null,
       "justify_items": null,
       "left": null,
       "margin": null,
       "max_height": null,
       "max_width": null,
       "min_height": null,
       "min_width": null,
       "object_fit": null,
       "object_position": null,
       "order": null,
       "overflow": null,
       "overflow_x": null,
       "overflow_y": null,
       "padding": null,
       "right": null,
       "top": null,
       "visibility": null,
       "width": null
      }
     },
     "bee466f4afa54273aa0782ef8f7e1b32": {
      "model_module": "@jupyter-widgets/base",
      "model_module_version": "1.2.0",
      "model_name": "LayoutModel",
      "state": {
       "_model_module": "@jupyter-widgets/base",
       "_model_module_version": "1.2.0",
       "_model_name": "LayoutModel",
       "_view_count": null,
       "_view_module": "@jupyter-widgets/base",
       "_view_module_version": "1.2.0",
       "_view_name": "LayoutView",
       "align_content": null,
       "align_items": null,
       "align_self": null,
       "border": null,
       "bottom": null,
       "display": null,
       "flex": null,
       "flex_flow": null,
       "grid_area": null,
       "grid_auto_columns": null,
       "grid_auto_flow": null,
       "grid_auto_rows": null,
       "grid_column": null,
       "grid_gap": null,
       "grid_row": null,
       "grid_template_areas": null,
       "grid_template_columns": null,
       "grid_template_rows": null,
       "height": null,
       "justify_content": null,
       "justify_items": null,
       "left": null,
       "margin": null,
       "max_height": null,
       "max_width": null,
       "min_height": null,
       "min_width": null,
       "object_fit": null,
       "object_position": null,
       "order": null,
       "overflow": null,
       "overflow_x": null,
       "overflow_y": null,
       "padding": null,
       "right": null,
       "top": null,
       "visibility": null,
       "width": null
      }
     },
     "c01b33ff598d4f96870587b5b84dcf7a": {
      "model_module": "@jupyter-widgets/base",
      "model_module_version": "1.2.0",
      "model_name": "LayoutModel",
      "state": {
       "_model_module": "@jupyter-widgets/base",
       "_model_module_version": "1.2.0",
       "_model_name": "LayoutModel",
       "_view_count": null,
       "_view_module": "@jupyter-widgets/base",
       "_view_module_version": "1.2.0",
       "_view_name": "LayoutView",
       "align_content": null,
       "align_items": null,
       "align_self": null,
       "border": null,
       "bottom": null,
       "display": null,
       "flex": null,
       "flex_flow": null,
       "grid_area": null,
       "grid_auto_columns": null,
       "grid_auto_flow": null,
       "grid_auto_rows": null,
       "grid_column": null,
       "grid_gap": null,
       "grid_row": null,
       "grid_template_areas": null,
       "grid_template_columns": null,
       "grid_template_rows": null,
       "height": null,
       "justify_content": null,
       "justify_items": null,
       "left": null,
       "margin": null,
       "max_height": null,
       "max_width": null,
       "min_height": null,
       "min_width": null,
       "object_fit": null,
       "object_position": null,
       "order": null,
       "overflow": null,
       "overflow_x": null,
       "overflow_y": null,
       "padding": null,
       "right": null,
       "top": null,
       "visibility": null,
       "width": "24%"
      }
     },
     "c068411fad664bae8617e5efc027d4de": {
      "model_module": "@jupyter-widgets/controls",
      "model_module_version": "1.5.0",
      "model_name": "FloatProgressModel",
      "state": {
       "_dom_classes": [],
       "_model_module": "@jupyter-widgets/controls",
       "_model_module_version": "1.5.0",
       "_model_name": "FloatProgressModel",
       "_view_count": null,
       "_view_module": "@jupyter-widgets/controls",
       "_view_module_version": "1.5.0",
       "_view_name": "ProgressView",
       "bar_style": "info",
       "description": "",
       "description_tooltip": null,
       "layout": "IPY_MODEL_6f94341a497a4f44b3eaf53fa149ecf7",
       "max": 1.0,
       "min": 0.0,
       "orientation": "horizontal",
       "style": "IPY_MODEL_5cf08abcdd344a78bf8b8667f88bfd01",
       "value": 0.0
      }
     },
     "c2326cb8b55f47ec8d45b1bc2db99535": {
      "model_module": "@jupyter-widgets/controls",
      "model_module_version": "1.5.0",
      "model_name": "FloatProgressModel",
      "state": {
       "_dom_classes": [],
       "_model_module": "@jupyter-widgets/controls",
       "_model_module_version": "1.5.0",
       "_model_name": "FloatProgressModel",
       "_view_count": null,
       "_view_module": "@jupyter-widgets/controls",
       "_view_module_version": "1.5.0",
       "_view_name": "ProgressView",
       "bar_style": "",
       "description": "",
       "description_tooltip": null,
       "layout": "IPY_MODEL_2b736376bca7444a993a195783ddbb95",
       "max": 20.0,
       "min": 0.0,
       "orientation": "horizontal",
       "style": "IPY_MODEL_8e7d0bb90cff4265a488746079b3cefb",
       "value": 20.0
      }
     },
     "c2c1ead865d24830a90f061a26e77f69": {
      "model_module": "@jupyter-widgets/base",
      "model_module_version": "1.2.0",
      "model_name": "LayoutModel",
      "state": {
       "_model_module": "@jupyter-widgets/base",
       "_model_module_version": "1.2.0",
       "_model_name": "LayoutModel",
       "_view_count": null,
       "_view_module": "@jupyter-widgets/base",
       "_view_module_version": "1.2.0",
       "_view_name": "LayoutView",
       "align_content": null,
       "align_items": null,
       "align_self": null,
       "border": null,
       "bottom": null,
       "display": null,
       "flex": null,
       "flex_flow": null,
       "grid_area": null,
       "grid_auto_columns": null,
       "grid_auto_flow": null,
       "grid_auto_rows": null,
       "grid_column": null,
       "grid_gap": null,
       "grid_row": null,
       "grid_template_areas": null,
       "grid_template_columns": null,
       "grid_template_rows": null,
       "height": null,
       "justify_content": null,
       "justify_items": null,
       "left": null,
       "margin": null,
       "max_height": null,
       "max_width": null,
       "min_height": null,
       "min_width": null,
       "object_fit": null,
       "object_position": null,
       "order": null,
       "overflow": null,
       "overflow_x": null,
       "overflow_y": null,
       "padding": null,
       "right": null,
       "top": null,
       "visibility": null,
       "width": null
      }
     },
     "c30be1e82cc34a42b7c0a9ebc68a310a": {
      "model_module": "@jupyter-widgets/base",
      "model_module_version": "1.2.0",
      "model_name": "LayoutModel",
      "state": {
       "_model_module": "@jupyter-widgets/base",
       "_model_module_version": "1.2.0",
       "_model_name": "LayoutModel",
       "_view_count": null,
       "_view_module": "@jupyter-widgets/base",
       "_view_module_version": "1.2.0",
       "_view_name": "LayoutView",
       "align_content": null,
       "align_items": "flex-start",
       "align_self": null,
       "border": null,
       "bottom": null,
       "display": "flex",
       "flex": null,
       "flex_flow": null,
       "grid_area": null,
       "grid_auto_columns": null,
       "grid_auto_flow": null,
       "grid_auto_rows": null,
       "grid_column": null,
       "grid_gap": null,
       "grid_row": null,
       "grid_template_areas": null,
       "grid_template_columns": null,
       "grid_template_rows": null,
       "height": null,
       "justify_content": "space-between",
       "justify_items": null,
       "left": null,
       "margin": null,
       "max_height": null,
       "max_width": null,
       "min_height": null,
       "min_width": null,
       "object_fit": null,
       "object_position": null,
       "order": null,
       "overflow": null,
       "overflow_x": null,
       "overflow_y": null,
       "padding": null,
       "right": null,
       "top": null,
       "visibility": null,
       "width": null
      }
     },
     "c5045de4d56144ef806d4b067a6b0020": {
      "model_module": "@jupyter-widgets/controls",
      "model_module_version": "1.5.0",
      "model_name": "HTMLModel",
      "state": {
       "_dom_classes": [],
       "_model_module": "@jupyter-widgets/controls",
       "_model_module_version": "1.5.0",
       "_model_name": "HTMLModel",
       "_view_count": null,
       "_view_module": "@jupyter-widgets/controls",
       "_view_module_version": "1.5.0",
       "_view_name": "HTMLView",
       "description": "",
       "description_tooltip": null,
       "layout": "IPY_MODEL_479a90c35842483c9a40437ed7c713df",
       "placeholder": "​",
       "style": "IPY_MODEL_35014d65074e4b2f8dee6a76cf3a468c",
       "value": "Iterations:"
      }
     },
     "c9ceda6a1e3342fc8e5a34cda6d34f61": {
      "model_module": "@jupyter-widgets/base",
      "model_module_version": "1.2.0",
      "model_name": "LayoutModel",
      "state": {
       "_model_module": "@jupyter-widgets/base",
       "_model_module_version": "1.2.0",
       "_model_name": "LayoutModel",
       "_view_count": null,
       "_view_module": "@jupyter-widgets/base",
       "_view_module_version": "1.2.0",
       "_view_name": "LayoutView",
       "align_content": null,
       "align_items": null,
       "align_self": null,
       "border": null,
       "bottom": null,
       "display": null,
       "flex": null,
       "flex_flow": null,
       "grid_area": null,
       "grid_auto_columns": null,
       "grid_auto_flow": null,
       "grid_auto_rows": null,
       "grid_column": null,
       "grid_gap": null,
       "grid_row": null,
       "grid_template_areas": null,
       "grid_template_columns": null,
       "grid_template_rows": null,
       "height": null,
       "justify_content": null,
       "justify_items": null,
       "left": null,
       "margin": null,
       "max_height": null,
       "max_width": null,
       "min_height": null,
       "min_width": null,
       "object_fit": null,
       "object_position": null,
       "order": null,
       "overflow": null,
       "overflow_x": null,
       "overflow_y": null,
       "padding": null,
       "right": null,
       "top": null,
       "visibility": null,
       "width": "30%"
      }
     },
     "d0c42c1aca114a7ea506d5af9f5ad19c": {
      "model_module": "@jupyter-widgets/controls",
      "model_module_version": "1.5.0",
      "model_name": "DescriptionStyleModel",
      "state": {
       "_model_module": "@jupyter-widgets/controls",
       "_model_module_version": "1.5.0",
       "_model_name": "DescriptionStyleModel",
       "_view_count": null,
       "_view_module": "@jupyter-widgets/base",
       "_view_module_version": "1.2.0",
       "_view_name": "StyleView",
       "description_width": ""
      }
     },
     "d53d95a6a60a4f8c85619b29757f9916": {
      "model_module": "@jupyter-widgets/base",
      "model_module_version": "1.2.0",
      "model_name": "LayoutModel",
      "state": {
       "_model_module": "@jupyter-widgets/base",
       "_model_module_version": "1.2.0",
       "_model_name": "LayoutModel",
       "_view_count": null,
       "_view_module": "@jupyter-widgets/base",
       "_view_module_version": "1.2.0",
       "_view_name": "LayoutView",
       "align_content": null,
       "align_items": null,
       "align_self": null,
       "border": null,
       "bottom": null,
       "display": null,
       "flex": null,
       "flex_flow": null,
       "grid_area": null,
       "grid_auto_columns": null,
       "grid_auto_flow": null,
       "grid_auto_rows": null,
       "grid_column": null,
       "grid_gap": null,
       "grid_row": null,
       "grid_template_areas": null,
       "grid_template_columns": null,
       "grid_template_rows": null,
       "height": null,
       "justify_content": null,
       "justify_items": null,
       "left": null,
       "margin": null,
       "max_height": null,
       "max_width": null,
       "min_height": null,
       "min_width": null,
       "object_fit": null,
       "object_position": null,
       "order": null,
       "overflow": null,
       "overflow_x": null,
       "overflow_y": null,
       "padding": null,
       "right": null,
       "top": null,
       "visibility": null,
       "width": null
      }
     },
     "d5e7060a064e4768a5b18eccc4c66259": {
      "model_module": "@jupyter-widgets/controls",
      "model_module_version": "1.5.0",
      "model_name": "HTMLModel",
      "state": {
       "_dom_classes": [],
       "_model_module": "@jupyter-widgets/controls",
       "_model_module_version": "1.5.0",
       "_model_name": "HTMLModel",
       "_view_count": null,
       "_view_module": "@jupyter-widgets/controls",
       "_view_module_version": "1.5.0",
       "_view_name": "HTMLView",
       "description": "",
       "description_tooltip": null,
       "layout": "IPY_MODEL_6b2e0b92cc3a430c9afd83d1d830e4eb",
       "placeholder": "​",
       "style": "IPY_MODEL_439cc5238d2046329a36b7b0ecec0730",
       "value": "Packets:   "
      }
     },
     "d5ec3161d5474bf7bb3a037957d15471": {
      "model_module": "@jupyter-widgets/controls",
      "model_module_version": "1.5.0",
      "model_name": "DescriptionStyleModel",
      "state": {
       "_model_module": "@jupyter-widgets/controls",
       "_model_module_version": "1.5.0",
       "_model_name": "DescriptionStyleModel",
       "_view_count": null,
       "_view_module": "@jupyter-widgets/base",
       "_view_module_version": "1.2.0",
       "_view_name": "StyleView",
       "description_width": ""
      }
     },
     "d8f8bedffacd4d7da3e00fc3a73a0f42": {
      "model_module": "@jupyter-widgets/base",
      "model_module_version": "1.2.0",
      "model_name": "LayoutModel",
      "state": {
       "_model_module": "@jupyter-widgets/base",
       "_model_module_version": "1.2.0",
       "_model_name": "LayoutModel",
       "_view_count": null,
       "_view_module": "@jupyter-widgets/base",
       "_view_module_version": "1.2.0",
       "_view_name": "LayoutView",
       "align_content": null,
       "align_items": null,
       "align_self": null,
       "border": null,
       "bottom": null,
       "display": null,
       "flex": "0 0 auto",
       "flex_flow": null,
       "grid_area": null,
       "grid_auto_columns": null,
       "grid_auto_flow": null,
       "grid_auto_rows": null,
       "grid_column": null,
       "grid_gap": null,
       "grid_row": null,
       "grid_template_areas": null,
       "grid_template_columns": null,
       "grid_template_rows": null,
       "height": null,
       "justify_content": null,
       "justify_items": null,
       "left": null,
       "margin": "0px",
       "max_height": null,
       "max_width": null,
       "min_height": null,
       "min_width": null,
       "object_fit": null,
       "object_position": null,
       "order": null,
       "overflow": null,
       "overflow_x": null,
       "overflow_y": null,
       "padding": "0px 2px",
       "right": null,
       "top": null,
       "visibility": null,
       "width": "112.5px"
      }
     },
     "d9de058e279c4ecdbb04615fddd2417b": {
      "model_module": "@jupyter-widgets/base",
      "model_module_version": "1.2.0",
      "model_name": "LayoutModel",
      "state": {
       "_model_module": "@jupyter-widgets/base",
       "_model_module_version": "1.2.0",
       "_model_name": "LayoutModel",
       "_view_count": null,
       "_view_module": "@jupyter-widgets/base",
       "_view_module_version": "1.2.0",
       "_view_name": "LayoutView",
       "align_content": null,
       "align_items": null,
       "align_self": null,
       "border": null,
       "bottom": null,
       "display": null,
       "flex": null,
       "flex_flow": null,
       "grid_area": null,
       "grid_auto_columns": null,
       "grid_auto_flow": null,
       "grid_auto_rows": null,
       "grid_column": null,
       "grid_gap": null,
       "grid_row": null,
       "grid_template_areas": null,
       "grid_template_columns": null,
       "grid_template_rows": null,
       "height": null,
       "justify_content": null,
       "justify_items": null,
       "left": null,
       "margin": null,
       "max_height": null,
       "max_width": null,
       "min_height": null,
       "min_width": null,
       "object_fit": null,
       "object_position": null,
       "order": null,
       "overflow": null,
       "overflow_x": null,
       "overflow_y": null,
       "padding": null,
       "right": null,
       "top": null,
       "visibility": null,
       "width": null
      }
     },
     "db858b8ef52e4c1fa5cee865caf9ce3e": {
      "model_module": "@jupyter-widgets/base",
      "model_module_version": "1.2.0",
      "model_name": "LayoutModel",
      "state": {
       "_model_module": "@jupyter-widgets/base",
       "_model_module_version": "1.2.0",
       "_model_name": "LayoutModel",
       "_view_count": null,
       "_view_module": "@jupyter-widgets/base",
       "_view_module_version": "1.2.0",
       "_view_name": "LayoutView",
       "align_content": null,
       "align_items": null,
       "align_self": null,
       "border": null,
       "bottom": null,
       "display": null,
       "flex": null,
       "flex_flow": null,
       "grid_area": null,
       "grid_auto_columns": null,
       "grid_auto_flow": null,
       "grid_auto_rows": null,
       "grid_column": null,
       "grid_gap": null,
       "grid_row": null,
       "grid_template_areas": null,
       "grid_template_columns": null,
       "grid_template_rows": null,
       "height": null,
       "justify_content": null,
       "justify_items": null,
       "left": null,
       "margin": "0px 15px",
       "max_height": null,
       "max_width": null,
       "min_height": null,
       "min_width": null,
       "object_fit": null,
       "object_position": null,
       "order": null,
       "overflow": null,
       "overflow_x": null,
       "overflow_y": null,
       "padding": null,
       "right": null,
       "top": null,
       "visibility": null,
       "width": null
      }
     },
     "df4c9cd40fde4ee5ab4b66d283069ef2": {
      "model_module": "@jupyter-widgets/controls",
      "model_module_version": "1.5.0",
      "model_name": "ToggleButtonsStyleModel",
      "state": {
       "_model_module": "@jupyter-widgets/controls",
       "_model_module_version": "1.5.0",
       "_model_name": "ToggleButtonsStyleModel",
       "_view_count": null,
       "_view_module": "@jupyter-widgets/base",
       "_view_module_version": "1.2.0",
       "_view_name": "StyleView",
       "button_width": "",
       "description_width": "",
       "font_weight": ""
      }
     },
     "e420c5e581424d54a08a3ab8b9734bc9": {
      "model_module": "@jupyter-widgets/controls",
      "model_module_version": "1.5.0",
      "model_name": "VBoxModel",
      "state": {
       "_dom_classes": [],
       "_model_module": "@jupyter-widgets/controls",
       "_model_module_version": "1.5.0",
       "_model_name": "VBoxModel",
       "_view_count": null,
       "_view_module": "@jupyter-widgets/controls",
       "_view_module_version": "1.5.0",
       "_view_name": "VBoxView",
       "box_style": "",
       "children": [
        "IPY_MODEL_b33ac183e13343e4a23b311f6b0a1663",
        "IPY_MODEL_333863fe0fde4e6888db15c0809ac130",
        "IPY_MODEL_f88fb7eaa1ee4ddf85a667ae6572779c"
       ],
       "layout": "IPY_MODEL_89a7886f8b0e4490a433dc6b6146a552"
      }
     },
     "e48061c3e117416b9cc1f7dd900a18f3": {
      "model_module": "qgrid",
      "model_module_version": "^1.1.3",
      "model_name": "QgridModel",
      "state": {
       "_columns": {
        "Frac. Ab. (Z=8)": {
         "cssClass": "string",
         "defaultSortAsc": true,
         "editable": true,
         "field": "Frac. Ab. (Z=8)",
         "id": "Frac. Ab. (Z=8)",
         "maxWidth": null,
         "minWidth": null,
         "name": "Frac. Ab. (Z=8)",
         "position": 3,
         "resizable": true,
         "sortable": true,
         "toolTip": "",
         "type": "string",
         "width": 50
        },
        "Ion": {
         "cssClass": "integer",
         "defaultSortAsc": true,
         "editable": true,
         "field": "Ion",
         "first_index": true,
         "id": "Ion",
         "index_display_text": "Ion",
         "is_index": true,
         "level": 0,
         "maxWidth": null,
         "minWidth": null,
         "name": "Ion",
         "position": 0,
         "resizable": true,
         "sortable": true,
         "toolTip": "",
         "type": "integer",
         "width": 20
        },
        "Species": {
         "cssClass": "string",
         "defaultSortAsc": true,
         "editable": true,
         "field": "Species",
         "id": "Species",
         "maxWidth": null,
         "minWidth": null,
         "name": "Species",
         "position": 2,
         "resizable": true,
         "sortable": true,
         "toolTip": "",
         "type": "string",
         "width": 30
        },
        "qgrid_unfiltered_index": {
         "cssClass": "integer",
         "defaultSortAsc": true,
         "editable": true,
         "field": "qgrid_unfiltered_index",
         "id": "qgrid_unfiltered_index",
         "maxWidth": null,
         "minWidth": null,
         "name": "qgrid_unfiltered_index",
         "position": 1,
         "resizable": true,
         "sortable": true,
         "toolTip": "",
         "type": "integer",
         "width": null
        }
       },
       "_df_json": "{\"schema\":{\"fields\":[{\"name\":\"Ion\",\"type\":\"integer\"},{\"name\":\"qgrid_unfiltered_index\",\"type\":\"integer\"},{\"name\":\"Species\",\"type\":\"string\"},{\"name\":\"Frac. Ab. (Z=8)\",\"type\":\"string\"}],\"primaryKey\":[\"Ion\"],\"pandas_version\":\"1.4.0\"},\"data\":[{\"Ion\":0,\"qgrid_unfiltered_index\":0,\"Species\":\"O I\",\"Frac. Ab. (Z=8)\":\"1.819990e-06\"},{\"Ion\":1,\"qgrid_unfiltered_index\":1,\"Species\":\"O II\",\"Frac. Ab. (Z=8)\":\"9.995854e-01\"},{\"Ion\":2,\"qgrid_unfiltered_index\":2,\"Species\":\"O III\",\"Frac. Ab. (Z=8)\":\"4.127707e-04\"},{\"Ion\":3,\"qgrid_unfiltered_index\":3,\"Species\":\"O IV\",\"Frac. Ab. (Z=8)\":\"4.904899e-17\"},{\"Ion\":4,\"qgrid_unfiltered_index\":4,\"Species\":\"O V\",\"Frac. Ab. (Z=8)\":\"0.000000e+00\"},{\"Ion\":5,\"qgrid_unfiltered_index\":5,\"Species\":\"O VI\",\"Frac. Ab. (Z=8)\":\"0.000000e+00\"},{\"Ion\":6,\"qgrid_unfiltered_index\":6,\"Species\":\"O VII\",\"Frac. Ab. (Z=8)\":\"0.000000e+00\"},{\"Ion\":7,\"qgrid_unfiltered_index\":7,\"Species\":\"O VIII\",\"Frac. Ab. (Z=8)\":\"0.000000e+00\"},{\"Ion\":8,\"qgrid_unfiltered_index\":8,\"Species\":\"O IX\",\"Frac. Ab. (Z=8)\":\"0.000000e+00\"}]}",
       "_df_range": [
        0,
        100
       ],
       "_dom_classes": [],
       "_editable_rows": {},
       "_index_col_name": "qgrid_unfiltered_index",
       "_interval_columns": [],
       "_model_module": "qgrid",
       "_model_module_version": "^1.1.3",
       "_model_name": "QgridModel",
       "_multi_index": false,
       "_row_count": 9,
       "_row_styles": {},
       "_sort_ascending": true,
       "_sort_field": null,
       "_view_count": null,
       "_view_module": "qgrid",
       "_view_module_version": "^1.1.3",
       "_view_name": "QgridView",
       "_viewport_range": [
        0,
        100
       ],
       "grid_options": {
        "autoEdit": false,
        "boldIndex": true,
        "defaultColumnWidth": 150,
        "editable": false,
        "enableColumnReorder": false,
        "enableTextSelectionOnCells": true,
        "explicitInitialization": true,
        "filterable": false,
        "forceFitColumns": true,
        "fullWidthRows": true,
        "highlightSelectedCell": false,
        "highlightSelectedRow": true,
        "maxVisibleRows": 15,
        "minVisibleRows": 2,
        "rowHeight": 28,
        "sortable": false,
        "syncColumnCellResize": true
       },
       "id": "ddd295bc-0ad3-4f4a-a5b9-59ff69153c18",
       "layout": "IPY_MODEL_c01b33ff598d4f96870587b5b84dcf7a",
       "precision": 5,
       "show_toolbar": false
      }
     },
     "e531d9ffa4de437eaa59dda487fcc673": {
      "model_module": "@jupyter-widgets/controls",
      "model_module_version": "1.5.0",
      "model_name": "HTMLModel",
      "state": {
       "_dom_classes": [],
       "_model_module": "@jupyter-widgets/controls",
       "_model_module_version": "1.5.0",
       "_model_name": "HTMLModel",
       "_view_count": null,
       "_view_module": "@jupyter-widgets/controls",
       "_view_module_version": "1.5.0",
       "_view_name": "HTMLView",
       "description": "",
       "description_tooltip": null,
       "layout": "IPY_MODEL_d8f8bedffacd4d7da3e00fc3a73a0f42",
       "placeholder": "​",
       "style": "IPY_MODEL_38f656d08e2e4e9bba2f595f04fa5565",
       "value": "0"
      }
     },
     "e7eba7c3b3454e6f8af8239f5e6dcab4": {
      "model_module": "@jupyter-widgets/base",
      "model_module_version": "1.2.0",
      "model_name": "LayoutModel",
      "state": {
       "_model_module": "@jupyter-widgets/base",
       "_model_module_version": "1.2.0",
       "_model_name": "LayoutModel",
       "_view_count": null,
       "_view_module": "@jupyter-widgets/base",
       "_view_module_version": "1.2.0",
       "_view_name": "LayoutView",
       "align_content": null,
       "align_items": null,
       "align_self": null,
       "border": null,
       "bottom": null,
       "display": null,
       "flex": null,
       "flex_flow": null,
       "grid_area": null,
       "grid_auto_columns": null,
       "grid_auto_flow": null,
       "grid_auto_rows": null,
       "grid_column": null,
       "grid_gap": null,
       "grid_row": null,
       "grid_template_areas": null,
       "grid_template_columns": null,
       "grid_template_rows": null,
       "height": null,
       "justify_content": null,
       "justify_items": null,
       "left": null,
       "margin": null,
       "max_height": null,
       "max_width": null,
       "min_height": null,
       "min_width": null,
       "object_fit": null,
       "object_position": null,
       "order": null,
       "overflow": null,
       "overflow_x": null,
       "overflow_y": null,
       "padding": null,
       "right": null,
       "top": null,
       "visibility": null,
       "width": null
      }
     },
     "ed4128f2f2e44f4ea90e3ab553b9760c": {
      "model_module": "@jupyter-widgets/controls",
      "model_module_version": "1.5.0",
      "model_name": "HTMLModel",
      "state": {
       "_dom_classes": [],
       "_model_module": "@jupyter-widgets/controls",
       "_model_module_version": "1.5.0",
       "_model_name": "HTMLModel",
       "_view_count": null,
       "_view_module": "@jupyter-widgets/controls",
       "_view_module_version": "1.5.0",
       "_view_name": "HTMLView",
       "description": "",
       "description_tooltip": null,
       "layout": "IPY_MODEL_d53d95a6a60a4f8c85619b29757f9916",
       "placeholder": "​",
       "style": "IPY_MODEL_6b4d935a2b4d441a874587bdff679cb6",
       "value": "Iterations:"
      }
     },
     "edfa462bea8548dc86ec456a01d179d0": {
      "model_module": "@jupyter-widgets/output",
      "model_module_version": "1.0.0",
      "model_name": "OutputModel",
      "state": {
       "_dom_classes": [],
       "_model_module": "@jupyter-widgets/output",
       "_model_module_version": "1.0.0",
       "_model_name": "OutputModel",
       "_view_count": null,
       "_view_module": "@jupyter-widgets/output",
       "_view_module_version": "1.0.0",
       "_view_name": "OutputView",
       "layout": "IPY_MODEL_a6b443ee8513487db54c01660e0b1c51",
       "msg_id": "",
       "outputs": []
      }
     },
     "f232bd6eaaad40e9a73007c12e0c79c7": {
      "model_module": "@jupyter-widgets/base",
      "model_module_version": "1.2.0",
      "model_name": "LayoutModel",
      "state": {
       "_model_module": "@jupyter-widgets/base",
       "_model_module_version": "1.2.0",
       "_model_name": "LayoutModel",
       "_view_count": null,
       "_view_module": "@jupyter-widgets/base",
       "_view_module_version": "1.2.0",
       "_view_name": "LayoutView",
       "align_content": null,
       "align_items": null,
       "align_self": null,
       "border": null,
       "bottom": null,
       "display": null,
       "flex": null,
       "flex_flow": null,
       "grid_area": null,
       "grid_auto_columns": null,
       "grid_auto_flow": null,
       "grid_auto_rows": null,
       "grid_column": null,
       "grid_gap": null,
       "grid_row": null,
       "grid_template_areas": null,
       "grid_template_columns": null,
       "grid_template_rows": null,
       "height": null,
       "justify_content": null,
       "justify_items": null,
       "left": null,
       "margin": null,
       "max_height": null,
       "max_width": null,
       "min_height": null,
       "min_width": null,
       "object_fit": null,
       "object_position": null,
       "order": null,
       "overflow": null,
       "overflow_x": null,
       "overflow_y": null,
       "padding": null,
       "right": null,
       "top": null,
       "visibility": null,
       "width": null
      }
     },
     "f56a31064b824e95b958c4f893ec520b": {
      "model_module": "@jupyter-widgets/base",
      "model_module_version": "1.2.0",
      "model_name": "LayoutModel",
      "state": {
       "_model_module": "@jupyter-widgets/base",
       "_model_module_version": "1.2.0",
       "_model_name": "LayoutModel",
       "_view_count": null,
       "_view_module": "@jupyter-widgets/base",
       "_view_module_version": "1.2.0",
       "_view_name": "LayoutView",
       "align_content": null,
       "align_items": null,
       "align_self": null,
       "border": null,
       "bottom": null,
       "display": "flex",
       "flex": null,
       "flex_flow": null,
       "grid_area": null,
       "grid_auto_columns": null,
       "grid_auto_flow": null,
       "grid_auto_rows": null,
       "grid_column": null,
       "grid_gap": null,
       "grid_row": null,
       "grid_template_areas": null,
       "grid_template_columns": null,
       "grid_template_rows": null,
       "height": null,
       "justify_content": "flex-start",
       "justify_items": null,
       "left": null,
       "margin": null,
       "max_height": null,
       "max_width": null,
       "min_height": null,
       "min_width": null,
       "object_fit": null,
       "object_position": null,
       "order": null,
       "overflow": null,
       "overflow_x": null,
       "overflow_y": null,
       "padding": null,
       "right": null,
       "top": null,
       "visibility": null,
       "width": null
      }
     },
     "f6da1ef193ca4d27bc4a400a89daffa7": {
      "model_module": "@jupyter-widgets/controls",
      "model_module_version": "1.5.0",
      "model_name": "VBoxModel",
      "state": {
       "_dom_classes": [],
       "_model_module": "@jupyter-widgets/controls",
       "_model_module_version": "1.5.0",
       "_model_name": "VBoxModel",
       "_view_count": null,
       "_view_module": "@jupyter-widgets/controls",
       "_view_module_version": "1.5.0",
       "_view_name": "VBoxView",
       "box_style": "",
       "children": [
        "IPY_MODEL_1957eaba804a45c9b8b8fa8f8fed6462",
        "IPY_MODEL_986188fef9dc4e2ab1fb25b7be85fd20",
        "IPY_MODEL_02055a4c92424e1c882af64939b5322a"
       ],
       "layout": "IPY_MODEL_ac5b29ec83004ba0b853212155429b12"
      }
     },
     "f88fb7eaa1ee4ddf85a667ae6572779c": {
      "model_module": "qgrid",
      "model_module_version": "^1.1.3",
      "model_name": "QgridModel",
      "state": {
       "_columns": {
        "Fraction of packets interacting": {
         "cssClass": "string",
         "defaultSortAsc": true,
         "editable": true,
         "field": "Fraction of packets interacting",
         "id": "Fraction of packets interacting",
         "maxWidth": null,
         "minWidth": null,
         "name": "Fraction of packets interacting",
         "position": 2,
         "resizable": true,
         "sortable": true,
         "toolTip": "",
         "type": "string",
         "width": 65
        },
        "Species": {
         "cssClass": "string",
         "defaultSortAsc": true,
         "editable": true,
         "field": "Species",
         "first_index": true,
         "id": "Species",
         "index_display_text": "Species",
         "is_index": true,
         "level": 0,
         "maxWidth": null,
         "minWidth": null,
         "name": "Species",
         "position": 0,
         "resizable": true,
         "sortable": true,
         "toolTip": "",
         "type": "string",
         "width": 35
        },
        "qgrid_unfiltered_index": {
         "cssClass": "integer",
         "defaultSortAsc": true,
         "editable": true,
         "field": "qgrid_unfiltered_index",
         "id": "qgrid_unfiltered_index",
         "maxWidth": null,
         "minWidth": null,
         "name": "qgrid_unfiltered_index",
         "position": 1,
         "resizable": true,
         "sortable": true,
         "toolTip": "",
         "type": "integer",
         "width": null
        }
       },
       "_df_json": "{\"schema\":{\"fields\":[{\"name\":\"Species\",\"type\":\"string\"},{\"name\":\"qgrid_unfiltered_index\",\"type\":\"integer\"},{\"name\":\"Fraction of packets interacting\",\"type\":\"string\"}],\"primaryKey\":[\"Species\"],\"pandas_version\":\"1.4.0\"},\"data\":[{\"Species\":\"\",\"qgrid_unfiltered_index\":0,\"Fraction of packets interacting\":\"\"}]}",
       "_df_range": [
        0,
        100
       ],
       "_dom_classes": [],
       "_editable_rows": {},
       "_index_col_name": "qgrid_unfiltered_index",
       "_interval_columns": [],
       "_model_module": "qgrid",
       "_model_module_version": "^1.1.3",
       "_model_name": "QgridModel",
       "_multi_index": false,
       "_row_count": 1,
       "_row_styles": {},
       "_sort_ascending": true,
       "_sort_field": null,
       "_view_count": null,
       "_view_module": "qgrid",
       "_view_module_version": "^1.1.3",
       "_view_name": "QgridView",
       "_viewport_range": [
        0,
        100
       ],
       "grid_options": {
        "autoEdit": false,
        "boldIndex": true,
        "defaultColumnWidth": 150,
        "editable": false,
        "enableColumnReorder": false,
        "enableTextSelectionOnCells": true,
        "explicitInitialization": true,
        "filterable": false,
        "forceFitColumns": true,
        "fullWidthRows": true,
        "highlightSelectedCell": false,
        "highlightSelectedRow": true,
        "maxVisibleRows": 9,
        "minVisibleRows": 2,
        "rowHeight": 28,
        "sortable": false,
        "syncColumnCellResize": true
       },
       "id": "18610467-f798-413d-a934-3c188928e2de",
       "layout": "IPY_MODEL_15194509482546c9a07038e4892821d9",
       "precision": 5,
       "show_toolbar": false
      }
     },
     "fa9300333ce246fb893a10fa7d72171c": {
      "model_module": "@jupyter-widgets/controls",
      "model_module_version": "1.5.0",
      "model_name": "BoxModel",
      "state": {
       "_dom_classes": [],
       "_model_module": "@jupyter-widgets/controls",
       "_model_module_version": "1.5.0",
       "_model_name": "BoxModel",
       "_view_count": null,
       "_view_module": "@jupyter-widgets/controls",
       "_view_module_version": "1.5.0",
       "_view_name": "BoxView",
       "box_style": "",
       "children": [
        "IPY_MODEL_5e870ae0db9e48f0a524f7676b6a60d7",
        "IPY_MODEL_fac216f2d9bb49c790218fc0585e2205",
        "IPY_MODEL_e48061c3e117416b9cc1f7dd900a18f3",
        "IPY_MODEL_200ddc4895eb4be78b5bb19f31449095"
       ],
       "layout": "IPY_MODEL_c30be1e82cc34a42b7c0a9ebc68a310a"
      }
     },
     "fac216f2d9bb49c790218fc0585e2205": {
      "model_module": "qgrid",
      "model_module_version": "^1.1.3",
      "model_name": "QgridModel",
      "state": {
       "_columns": {
        "Element": {
         "cssClass": "string",
         "defaultSortAsc": true,
         "editable": true,
         "field": "Element",
         "id": "Element",
         "maxWidth": null,
         "minWidth": null,
         "name": "Element",
         "position": 2,
         "resizable": true,
         "sortable": true,
         "toolTip": "",
         "type": "string",
         "width": 30
        },
        "Frac. Ab. (Shell 1)": {
         "cssClass": "string",
         "defaultSortAsc": true,
         "editable": true,
         "field": "Frac. Ab. (Shell 1)",
         "id": "Frac. Ab. (Shell 1)",
         "maxWidth": null,
         "minWidth": null,
         "name": "Frac. Ab. (Shell 1)",
         "position": 3,
         "resizable": true,
         "sortable": true,
         "toolTip": "",
         "type": "string",
         "width": 55
        },
        "Z": {
         "cssClass": "integer",
         "defaultSortAsc": true,
         "editable": true,
         "field": "Z",
         "first_index": true,
         "id": "Z",
         "index_display_text": "Z",
         "is_index": true,
         "level": 0,
         "maxWidth": null,
         "minWidth": null,
         "name": "Z",
         "position": 0,
         "resizable": true,
         "sortable": true,
         "toolTip": "",
         "type": "integer",
         "width": 15
        },
        "qgrid_unfiltered_index": {
         "cssClass": "integer",
         "defaultSortAsc": true,
         "editable": true,
         "field": "qgrid_unfiltered_index",
         "id": "qgrid_unfiltered_index",
         "maxWidth": null,
         "minWidth": null,
         "name": "qgrid_unfiltered_index",
         "position": 1,
         "resizable": true,
         "sortable": true,
         "toolTip": "",
         "type": "integer",
         "width": null
        }
       },
       "_df_json": "{\"schema\":{\"fields\":[{\"name\":\"Z\",\"type\":\"integer\"},{\"name\":\"qgrid_unfiltered_index\",\"type\":\"integer\"},{\"name\":\"Element\",\"type\":\"string\"},{\"name\":\"Frac. Ab. (Shell 1)\",\"type\":\"string\"}],\"primaryKey\":[\"Z\"],\"pandas_version\":\"1.4.0\"},\"data\":[{\"Z\":8,\"qgrid_unfiltered_index\":0,\"Element\":\"O\",\"Frac. Ab. (Shell 1)\":\"1.900000e-01\"},{\"Z\":12,\"qgrid_unfiltered_index\":1,\"Element\":\"Mg\",\"Frac. Ab. (Shell 1)\":\"3.000000e-02\"},{\"Z\":14,\"qgrid_unfiltered_index\":2,\"Element\":\"Si\",\"Frac. Ab. (Shell 1)\":\"5.200000e-01\"},{\"Z\":16,\"qgrid_unfiltered_index\":3,\"Element\":\"S\",\"Frac. Ab. (Shell 1)\":\"1.900000e-01\"},{\"Z\":18,\"qgrid_unfiltered_index\":4,\"Element\":\"Ar\",\"Frac. Ab. (Shell 1)\":\"4.000000e-02\"},{\"Z\":20,\"qgrid_unfiltered_index\":5,\"Element\":\"Ca\",\"Frac. Ab. (Shell 1)\":\"3.000000e-02\"}]}",
       "_df_range": [
        0,
        100
       ],
       "_dom_classes": [],
       "_editable_rows": {},
       "_index_col_name": "qgrid_unfiltered_index",
       "_interval_columns": [],
       "_model_module": "qgrid",
       "_model_module_version": "^1.1.3",
       "_model_name": "QgridModel",
       "_multi_index": false,
       "_row_count": 6,
       "_row_styles": {},
       "_sort_ascending": true,
       "_sort_field": null,
       "_view_count": null,
       "_view_module": "qgrid",
       "_view_module_version": "^1.1.3",
       "_view_name": "QgridView",
       "_viewport_range": [
        0,
        100
       ],
       "grid_options": {
        "autoEdit": false,
        "boldIndex": true,
        "defaultColumnWidth": 150,
        "editable": false,
        "enableColumnReorder": false,
        "enableTextSelectionOnCells": true,
        "explicitInitialization": true,
        "filterable": false,
        "forceFitColumns": true,
        "fullWidthRows": true,
        "highlightSelectedCell": false,
        "highlightSelectedRow": true,
        "maxVisibleRows": 15,
        "minVisibleRows": 2,
        "rowHeight": 28,
        "sortable": false,
        "syncColumnCellResize": true
       },
       "id": "443b8c3d-b6d7-48fa-8b54-141bf04fca76",
       "layout": "IPY_MODEL_b437fcfa67a8458f8ad0d3bc57f00d50",
       "precision": 5,
       "show_toolbar": false
      }
     },
     "fba1752de9604678b422295b1fa5aa64": {
      "model_module": "@jupyter-widgets/base",
      "model_module_version": "1.2.0",
      "model_name": "LayoutModel",
      "state": {
       "_model_module": "@jupyter-widgets/base",
       "_model_module_version": "1.2.0",
       "_model_name": "LayoutModel",
       "_view_count": null,
       "_view_module": "@jupyter-widgets/base",
       "_view_module_version": "1.2.0",
       "_view_name": "LayoutView",
       "align_content": null,
       "align_items": null,
       "align_self": null,
       "border": null,
       "bottom": null,
       "display": null,
       "flex": null,
       "flex_flow": null,
       "grid_area": null,
       "grid_auto_columns": null,
       "grid_auto_flow": null,
       "grid_auto_rows": null,
       "grid_column": null,
       "grid_gap": null,
       "grid_row": null,
       "grid_template_areas": null,
       "grid_template_columns": null,
       "grid_template_rows": null,
       "height": null,
       "justify_content": null,
       "justify_items": null,
       "left": null,
       "margin": null,
       "max_height": null,
       "max_width": null,
       "min_height": null,
       "min_width": null,
       "object_fit": null,
       "object_position": null,
       "order": null,
       "overflow": null,
       "overflow_x": null,
       "overflow_y": null,
       "padding": null,
       "right": null,
       "top": null,
       "visibility": null,
       "width": null
      }
     }
    },
    "version_major": 2,
    "version_minor": 0
   }
  }
 },
 "nbformat": 4,
 "nbformat_minor": 4
}
