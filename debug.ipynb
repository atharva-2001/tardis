{
 "cells": [
  {
   "cell_type": "code",
   "execution_count": 2,
   "id": "41d0922d-2c3d-43bd-a05b-b2bf2b8f62a1",
   "metadata": {},
   "outputs": [
    {
     "data": {
      "application/vnd.jupyter.widget-view+json": {
       "model_id": "c4f8f8781e974177ad96ee0849ae6de8",
       "version_major": 2,
       "version_minor": 0
      },
      "text/plain": [
       "Iterations:          0/? [00:00<?, ?it/s]"
      ]
     },
     "metadata": {},
     "output_type": "display_data"
    },
    {
     "data": {
      "application/vnd.jupyter.widget-view+json": {
       "model_id": "d161a0830c304b9e8ff413f6c2d773fe",
       "version_major": 2,
       "version_minor": 0
      },
      "text/plain": [
       "Packets:             0/? [00:00<?, ?it/s]"
      ]
     },
     "metadata": {},
     "output_type": "display_data"
    }
   ],
   "source": [
    "import os\n",
    "from copy import deepcopy\n",
    "from pathlib import Path\n",
    "from tardis.io.configuration.config_reader import Configuration\n",
    "from tardis.model import SimulationState\n",
    "from tardis.plasma.assembly.legacy_assembly import assemble_plasma\n",
    "from tardis.io.atom_data.base import AtomData"
   ]
  },
  {
   "cell_type": "code",
   "execution_count": 3,
   "id": "41eb54b1-fcb5-4247-8624-5dda419181d1",
   "metadata": {},
   "outputs": [],
   "source": [
    "example_configuration_dir = Path(\"tardis/io/configuration/tests/data\")\n",
    "example_model_file_dir = Path(\"tardis/io/model/readers/tests/data\")\n",
    "atomic_data_fname = (\n",
    "        Path(\"/Users/atharva/workspace/code/tardis-main/tardis-refdata-2\") / \"atom_data\" / \"kurucz_cd23_chianti_H_He.h5\"\n",
    "    )"
   ]
  },
  {
   "cell_type": "markdown",
   "id": "3231fe63-0629-4ffd-b947-8df0c87f1c33",
   "metadata": {},
   "source": [
    "### Generating `SimulationState` using `tardis_configv1_tardis_model_format` passes"
   ]
  },
  {
   "cell_type": "code",
   "execution_count": 20,
   "id": "34704294-d649-4296-a8bd-adfbdd2cc9d8",
   "metadata": {
    "scrolled": true
   },
   "outputs": [
    {
     "name": "stderr",
     "output_type": "stream",
     "text": [
      "Number of density points larger than number of shells. Assuming inner point irrelevant\n",
      "/Users/atharva/workspace/code/tardis-main/tardis/tardis/model/matter/composition.py:101: FutureWarning: Setting an item of incompatible dtype is deprecated and will raise an error in a future version of pandas. Value '9.288214415907186e-23' has dtype incompatible with int64, please explicitly cast to a compatible dtype first.\n",
      "  isotope_mass_df[isotope_tuple] = isotope_mass\n"
     ]
    }
   ],
   "source": [
    "config_fname =  Configuration.from_yaml(\n",
    "         example_model_file_dir / \"tardis_configv1_tardis_model_format.yml\"\n",
    "    )\n",
    "atomic_data = AtomData.from_hdf(atomic_data_fname)\n",
    "kurucz_atomic_data = deepcopy(atomic_data)\n",
    "raw_simulation_state = SimulationState.from_config(\n",
    "        config_fname, atom_data=kurucz_atomic_data\n",
    "    )"
   ]
  },
  {
   "cell_type": "code",
   "execution_count": 21,
   "id": "876eff96-362c-4dd1-b59f-605c275ba282",
   "metadata": {},
   "outputs": [],
   "source": [
    "plasma = assemble_plasma(\n",
    "        config_fname, raw_simulation_state, kurucz_atomic_data\n",
    "    )\n"
   ]
  },
  {
   "cell_type": "code",
   "execution_count": null,
   "id": "2c0f563a-da07-41ca-9ff5-fab84c1c1555",
   "metadata": {},
   "outputs": [],
   "source": []
  },
  {
   "cell_type": "markdown",
   "id": "a5210c20-5774-407c-b9c2-b90fa242151b",
   "metadata": {},
   "source": [
    "### Generating `SimulationState` using `tardis_configv1_verysimple` fails"
   ]
  },
  {
   "cell_type": "code",
   "execution_count": 22,
   "id": "55da8474-8ee5-4856-8e2d-34ddb39a0db9",
   "metadata": {
    "scrolled": true
   },
   "outputs": [
    {
     "name": "stderr",
     "output_type": "stream",
     "text": [
      "Number of density points larger than number of shells. Assuming inner point irrelevant\n"
     ]
    },
    {
     "ename": "ValueError",
     "evalue": "operands could not be broadcast together with shapes (88,20) (9,) ",
     "output_type": "error",
     "traceback": [
      "\u001b[0;31m---------------------------------------------------------------------------\u001b[0m",
      "\u001b[0;31mValueError\u001b[0m                                Traceback (most recent call last)",
      "Cell \u001b[0;32mIn[22], line 9\u001b[0m\n\u001b[1;32m      5\u001b[0m kurucz_atomic_data \u001b[38;5;241m=\u001b[39m deepcopy(atomic_data)\n\u001b[1;32m      6\u001b[0m raw_simulation_state2 \u001b[38;5;241m=\u001b[39m SimulationState\u001b[38;5;241m.\u001b[39mfrom_config(\n\u001b[1;32m      7\u001b[0m         config_fname, atom_data\u001b[38;5;241m=\u001b[39mkurucz_atomic_data\n\u001b[1;32m      8\u001b[0m     )\n\u001b[0;32m----> 9\u001b[0m plasma2  \u001b[38;5;241m=\u001b[39m \u001b[43massemble_plasma\u001b[49m\u001b[43m(\u001b[49m\n\u001b[1;32m     10\u001b[0m \u001b[43m        \u001b[49m\u001b[43mconfig_fname\u001b[49m\u001b[43m,\u001b[49m\u001b[43m \u001b[49m\u001b[43mraw_simulation_state2\u001b[49m\u001b[43m,\u001b[49m\u001b[43m \u001b[49m\u001b[43mkurucz_atomic_data\u001b[49m\n\u001b[1;32m     11\u001b[0m \u001b[43m    \u001b[49m\u001b[43m)\u001b[49m\n",
      "File \u001b[0;32m~/workspace/code/tardis-main/tardis/tardis/plasma/assembly/legacy_assembly.py:34\u001b[0m, in \u001b[0;36massemble_plasma\u001b[0;34m(config, simulation_state, atom_data)\u001b[0m\n\u001b[1;32m     29\u001b[0m plasma_solver_factory\u001b[38;5;241m.\u001b[39msetup_factory(config)\n\u001b[1;32m     30\u001b[0m dilute_planckian_radiation_field \u001b[38;5;241m=\u001b[39m DilutePlanckianRadiationField(\n\u001b[1;32m     31\u001b[0m     simulation_state\u001b[38;5;241m.\u001b[39mt_radiative, simulation_state\u001b[38;5;241m.\u001b[39mdilution_factor\n\u001b[1;32m     32\u001b[0m )\n\u001b[0;32m---> 34\u001b[0m \u001b[38;5;28;01mreturn\u001b[39;00m \u001b[43mplasma_solver_factory\u001b[49m\u001b[38;5;241;43m.\u001b[39;49m\u001b[43massemble\u001b[49m\u001b[43m(\u001b[49m\n\u001b[1;32m     35\u001b[0m \u001b[43m    \u001b[49m\u001b[43msimulation_state\u001b[49m\u001b[38;5;241;43m.\u001b[39;49m\u001b[43melemental_number_density\u001b[49m\u001b[43m,\u001b[49m\n\u001b[1;32m     36\u001b[0m \u001b[43m    \u001b[49m\u001b[43mdilute_planckian_radiation_field\u001b[49m\u001b[43m,\u001b[49m\n\u001b[1;32m     37\u001b[0m \u001b[43m    \u001b[49m\u001b[43msimulation_state\u001b[49m\u001b[38;5;241;43m.\u001b[39;49m\u001b[43mtime_explosion\u001b[49m\u001b[43m,\u001b[49m\n\u001b[1;32m     38\u001b[0m \u001b[43m    \u001b[49m\u001b[43msimulation_state\u001b[49m\u001b[38;5;241;43m.\u001b[39;49m\u001b[43m_electron_densities\u001b[49m\u001b[43m,\u001b[49m\n\u001b[1;32m     39\u001b[0m \u001b[43m\u001b[49m\u001b[43m)\u001b[49m\n",
      "File \u001b[0;32m~/workspace/code/tardis-main/tardis/tardis/plasma/assembly/base.py:540\u001b[0m, in \u001b[0;36mPlasmaSolverFactory.assemble\u001b[0;34m(self, number_densities, dilute_planckian_radiation_field, time_explosion, electron_densities)\u001b[0m\n\u001b[1;32m    538\u001b[0m     \u001b[38;5;28mself\u001b[39m\u001b[38;5;241m.\u001b[39msetup_electron_densities(electron_densities)\n\u001b[1;32m    539\u001b[0m kwargs[\u001b[38;5;124m\"\u001b[39m\u001b[38;5;124mhelium_treatment\u001b[39m\u001b[38;5;124m\"\u001b[39m] \u001b[38;5;241m=\u001b[39m \u001b[38;5;28mself\u001b[39m\u001b[38;5;241m.\u001b[39mhelium_treatment\n\u001b[0;32m--> 540\u001b[0m \u001b[38;5;28;01mreturn\u001b[39;00m \u001b[43mBasePlasma\u001b[49m\u001b[43m(\u001b[49m\n\u001b[1;32m    541\u001b[0m \u001b[43m    \u001b[49m\u001b[43mplasma_properties\u001b[49m\u001b[38;5;241;43m=\u001b[39;49m\u001b[38;5;28;43mself\u001b[39;49m\u001b[38;5;241;43m.\u001b[39;49m\u001b[43mplasma_modules\u001b[49m\u001b[43m,\u001b[49m\n\u001b[1;32m    542\u001b[0m \u001b[43m    \u001b[49m\u001b[43mproperty_kwargs\u001b[49m\u001b[38;5;241;43m=\u001b[39;49m\u001b[38;5;28;43mself\u001b[39;49m\u001b[38;5;241;43m.\u001b[39;49m\u001b[43mproperty_kwargs\u001b[49m\u001b[43m,\u001b[49m\n\u001b[1;32m    543\u001b[0m \u001b[43m    \u001b[49m\u001b[43mplasma_solver_settings\u001b[49m\u001b[38;5;241;43m=\u001b[39;49m\u001b[43mplasma_solver_settings\u001b[49m\u001b[43m,\u001b[49m\n\u001b[1;32m    544\u001b[0m \u001b[43m    \u001b[49m\u001b[38;5;241;43m*\u001b[39;49m\u001b[38;5;241;43m*\u001b[39;49m\u001b[43mkwargs\u001b[49m\u001b[43m,\u001b[49m\n\u001b[1;32m    545\u001b[0m \u001b[43m\u001b[49m\u001b[43m)\u001b[49m\n",
      "File \u001b[0;32m~/workspace/code/tardis-main/tardis/tardis/io/util.py:195\u001b[0m, in \u001b[0;36mHDFWriterMixin.__new__\u001b[0;34m(cls, *args, **kwargs)\u001b[0m\n\u001b[1;32m    193\u001b[0m instance \u001b[38;5;241m=\u001b[39m \u001b[38;5;28msuper\u001b[39m(HDFWriterMixin, \u001b[38;5;28mcls\u001b[39m)\u001b[38;5;241m.\u001b[39m\u001b[38;5;21m__new__\u001b[39m(\u001b[38;5;28mcls\u001b[39m)\n\u001b[1;32m    194\u001b[0m instance\u001b[38;5;241m.\u001b[39moptional_hdf_properties \u001b[38;5;241m=\u001b[39m []\n\u001b[0;32m--> 195\u001b[0m \u001b[43minstance\u001b[49m\u001b[38;5;241;43m.\u001b[39;49m\u001b[38;5;21;43m__init__\u001b[39;49m\u001b[43m(\u001b[49m\u001b[38;5;241;43m*\u001b[39;49m\u001b[43margs\u001b[49m\u001b[43m,\u001b[49m\u001b[43m \u001b[49m\u001b[38;5;241;43m*\u001b[39;49m\u001b[38;5;241;43m*\u001b[39;49m\u001b[43mkwargs\u001b[49m\u001b[43m)\u001b[49m\n\u001b[1;32m    196\u001b[0m \u001b[38;5;28;01mreturn\u001b[39;00m instance\n",
      "File \u001b[0;32m~/workspace/code/tardis-main/tardis/tardis/plasma/base.py:40\u001b[0m, in \u001b[0;36mBasePlasma.__init__\u001b[0;34m(self, plasma_properties, property_kwargs, plasma_solver_settings, **kwargs)\u001b[0m\n\u001b[1;32m     38\u001b[0m \u001b[38;5;28mself\u001b[39m\u001b[38;5;241m.\u001b[39mplasma_solver_settings \u001b[38;5;241m=\u001b[39m plasma_solver_settings\n\u001b[1;32m     39\u001b[0m \u001b[38;5;28mself\u001b[39m\u001b[38;5;241m.\u001b[39m_build_graph()\n\u001b[0;32m---> 40\u001b[0m \u001b[38;5;28;43mself\u001b[39;49m\u001b[38;5;241;43m.\u001b[39;49m\u001b[43mupdate\u001b[49m\u001b[43m(\u001b[49m\u001b[38;5;241;43m*\u001b[39;49m\u001b[38;5;241;43m*\u001b[39;49m\u001b[43mkwargs\u001b[49m\u001b[43m)\u001b[49m\n",
      "File \u001b[0;32m~/workspace/code/tardis-main/tardis/tardis/plasma/base.py:192\u001b[0m, in \u001b[0;36mBasePlasma.update\u001b[0;34m(self, **kwargs)\u001b[0m\n\u001b[1;32m    189\u001b[0m     \u001b[38;5;28mself\u001b[39m\u001b[38;5;241m.\u001b[39moutputs_dict[key]\u001b[38;5;241m.\u001b[39mset_value(kwargs[key])\n\u001b[1;32m    191\u001b[0m \u001b[38;5;28;01mfor\u001b[39;00m module_name \u001b[38;5;129;01min\u001b[39;00m \u001b[38;5;28mself\u001b[39m\u001b[38;5;241m.\u001b[39m_resolve_update_list(kwargs\u001b[38;5;241m.\u001b[39mkeys()):\n\u001b[0;32m--> 192\u001b[0m     \u001b[38;5;28;43mself\u001b[39;49m\u001b[38;5;241;43m.\u001b[39;49m\u001b[43mplasma_properties_dict\u001b[49m\u001b[43m[\u001b[49m\u001b[43mmodule_name\u001b[49m\u001b[43m]\u001b[49m\u001b[38;5;241;43m.\u001b[39;49m\u001b[43mupdate\u001b[49m\u001b[43m(\u001b[49m\u001b[43m)\u001b[49m\n",
      "File \u001b[0;32m~/workspace/code/tardis-main/tardis/tardis/plasma/properties/base.py:113\u001b[0m, in \u001b[0;36mProcessingPlasmaProperty.update\u001b[0;34m(self)\u001b[0m\n\u001b[1;32m    107\u001b[0m     \u001b[38;5;28msetattr\u001b[39m(\n\u001b[1;32m    108\u001b[0m         \u001b[38;5;28mself\u001b[39m,\n\u001b[1;32m    109\u001b[0m         \u001b[38;5;28mself\u001b[39m\u001b[38;5;241m.\u001b[39moutputs[\u001b[38;5;241m0\u001b[39m],\n\u001b[1;32m    110\u001b[0m         \u001b[38;5;28mself\u001b[39m\u001b[38;5;241m.\u001b[39mcalculate(\u001b[38;5;241m*\u001b[39m\u001b[38;5;28mself\u001b[39m\u001b[38;5;241m.\u001b[39m_get_input_values()),\n\u001b[1;32m    111\u001b[0m     )\n\u001b[1;32m    112\u001b[0m \u001b[38;5;28;01melse\u001b[39;00m:\n\u001b[0;32m--> 113\u001b[0m     new_values \u001b[38;5;241m=\u001b[39m \u001b[38;5;28;43mself\u001b[39;49m\u001b[38;5;241;43m.\u001b[39;49m\u001b[43mcalculate\u001b[49m\u001b[43m(\u001b[49m\u001b[38;5;241;43m*\u001b[39;49m\u001b[38;5;28;43mself\u001b[39;49m\u001b[38;5;241;43m.\u001b[39;49m\u001b[43m_get_input_values\u001b[49m\u001b[43m(\u001b[49m\u001b[43m)\u001b[49m\u001b[43m)\u001b[49m\n\u001b[1;32m    114\u001b[0m     \u001b[38;5;28;01mfor\u001b[39;00m i, output \u001b[38;5;129;01min\u001b[39;00m \u001b[38;5;28menumerate\u001b[39m(\u001b[38;5;28mself\u001b[39m\u001b[38;5;241m.\u001b[39moutputs):\n\u001b[1;32m    115\u001b[0m         \u001b[38;5;28msetattr\u001b[39m(\u001b[38;5;28mself\u001b[39m, output, new_values[i])\n",
      "File \u001b[0;32m~/workspace/code/tardis-main/tardis/tardis/plasma/properties/ion_population.py:381\u001b[0m, in \u001b[0;36mIonNumberDensity.calculate\u001b[0;34m(self, phi, partition_function, number_density)\u001b[0m\n\u001b[1;32m    379\u001b[0m \u001b[38;5;28;01melse\u001b[39;00m:\n\u001b[1;32m    380\u001b[0m     n_electron \u001b[38;5;241m=\u001b[39m \u001b[38;5;28mself\u001b[39m\u001b[38;5;241m.\u001b[39m_electron_densities\n\u001b[0;32m--> 381\u001b[0m     ion_number_density, \u001b[38;5;28mself\u001b[39m\u001b[38;5;241m.\u001b[39mblock_ids \u001b[38;5;241m=\u001b[39m \u001b[38;5;28;43mself\u001b[39;49m\u001b[38;5;241;43m.\u001b[39;49m\u001b[43mcalculate_with_n_electron\u001b[49m\u001b[43m(\u001b[49m\n\u001b[1;32m    382\u001b[0m \u001b[43m        \u001b[49m\u001b[43mphi\u001b[49m\u001b[43m,\u001b[49m\n\u001b[1;32m    383\u001b[0m \u001b[43m        \u001b[49m\u001b[43mpartition_function\u001b[49m\u001b[43m,\u001b[49m\n\u001b[1;32m    384\u001b[0m \u001b[43m        \u001b[49m\u001b[43mnumber_density\u001b[49m\u001b[43m,\u001b[49m\n\u001b[1;32m    385\u001b[0m \u001b[43m        \u001b[49m\u001b[43mn_electron\u001b[49m\u001b[43m,\u001b[49m\n\u001b[1;32m    386\u001b[0m \u001b[43m        \u001b[49m\u001b[38;5;28;43mself\u001b[39;49m\u001b[38;5;241;43m.\u001b[39;49m\u001b[43mblock_ids\u001b[49m\u001b[43m,\u001b[49m\n\u001b[1;32m    387\u001b[0m \u001b[43m        \u001b[49m\u001b[38;5;28;43mself\u001b[39;49m\u001b[38;5;241;43m.\u001b[39;49m\u001b[43mion_zero_threshold\u001b[49m\u001b[43m,\u001b[49m\n\u001b[1;32m    388\u001b[0m \u001b[43m    \u001b[49m\u001b[43m)\u001b[49m\n\u001b[1;32m    390\u001b[0m \u001b[38;5;28;01mreturn\u001b[39;00m ion_number_density, n_electron\n",
      "File \u001b[0;32m~/workspace/code/tardis-main/tardis/tardis/plasma/properties/ion_population.py:310\u001b[0m, in \u001b[0;36mIonNumberDensity.calculate_with_n_electron\u001b[0;34m(phi, partition_function, number_density, n_electron, block_ids, ion_zero_threshold)\u001b[0m\n\u001b[1;32m    306\u001b[0m     block_ids \u001b[38;5;241m=\u001b[39m IonNumberDensity\u001b[38;5;241m.\u001b[39m_calculate_block_ids(phi)\n\u001b[1;32m    308\u001b[0m ion_populations \u001b[38;5;241m=\u001b[39m np\u001b[38;5;241m.\u001b[39mempty_like(partition_function\u001b[38;5;241m.\u001b[39mvalues)\n\u001b[0;32m--> 310\u001b[0m phi_electron \u001b[38;5;241m=\u001b[39m np\u001b[38;5;241m.\u001b[39mnan_to_num(\u001b[43mphi\u001b[49m\u001b[38;5;241;43m.\u001b[39;49m\u001b[43mvalues\u001b[49m\u001b[43m \u001b[49m\u001b[38;5;241;43m/\u001b[39;49m\u001b[43m \u001b[49m\u001b[43mn_electron\u001b[49m\u001b[38;5;241;43m.\u001b[39;49m\u001b[43mvalues\u001b[49m)\n\u001b[1;32m    312\u001b[0m \u001b[38;5;28;01mfor\u001b[39;00m i, start_id \u001b[38;5;129;01min\u001b[39;00m \u001b[38;5;28menumerate\u001b[39m(block_ids[:\u001b[38;5;241m-\u001b[39m\u001b[38;5;241m1\u001b[39m]):\n\u001b[1;32m    313\u001b[0m     end_id \u001b[38;5;241m=\u001b[39m block_ids[i \u001b[38;5;241m+\u001b[39m \u001b[38;5;241m1\u001b[39m]\n",
      "\u001b[0;31mValueError\u001b[0m: operands could not be broadcast together with shapes (88,20) (9,) "
     ]
    }
   ],
   "source": [
    "config_fname = Configuration.from_yaml(\n",
    "        example_configuration_dir / \"tardis_configv1_verysimple.yml\"\n",
    "    )\n",
    "atomic_data = AtomData.from_hdf(atomic_data_fname)\n",
    "kurucz_atomic_data = deepcopy(atomic_data)\n",
    "raw_simulation_state2 = SimulationState.from_config(\n",
    "        config_fname, atom_data=kurucz_atomic_data\n",
    "    )\n",
    "plasma2  = assemble_plasma(\n",
    "        config_fname, raw_simulation_state2, kurucz_atomic_data\n",
    "    )\n"
   ]
  },
  {
   "cell_type": "markdown",
   "id": "ea4fce2d-dfe8-4bdf-aedf-d094c684d85b",
   "metadata": {},
   "source": [
    "### Using `SimulationState` generated using `tardis_configv1_tardis_model_format` passes even if you use `tardis_configv1_verysimple` config"
   ]
  },
  {
   "cell_type": "code",
   "execution_count": 23,
   "id": "2975b579-7a3a-4fd8-ae96-4835ddbc1909",
   "metadata": {
    "scrolled": true
   },
   "outputs": [],
   "source": [
    "config_fname = Configuration.from_yaml(\n",
    "        example_configuration_dir / \"tardis_configv1_verysimple.yml\"\n",
    "    )\n",
    "atomic_data = AtomData.from_hdf(atomic_data_fname)\n",
    "kurucz_atomic_data = deepcopy(atomic_data)\n",
    "plasma2  = assemble_plasma(\n",
    "        config_fname, raw_simulation_state, kurucz_atomic_data\n",
    "    )"
   ]
  },
  {
   "cell_type": "code",
   "execution_count": 24,
   "id": "07de761f-c998-4b2e-808a-b2e09c22cae1",
   "metadata": {},
   "outputs": [],
   "source": [
    "config_fname = Configuration.from_yaml(\n",
    "        example_model_file_dir / \"tardis_configv1_tardis_model_format.yml\"\n",
    "    )\n",
    "atomic_data = AtomData.from_hdf(atomic_data_fname)\n",
    "kurucz_atomic_data = deepcopy(atomic_data)\n",
    "plasma2  = assemble_plasma(\n",
    "        config_fname, raw_simulation_state, kurucz_atomic_data\n",
    "    )"
   ]
  },
  {
   "cell_type": "markdown",
   "id": "c765787d-ec39-4aed-8ccd-64142a0d7c33",
   "metadata": {},
   "source": [
    "# Even if regenerate `SimulationState` it fails"
   ]
  },
  {
   "cell_type": "code",
   "execution_count": 26,
   "id": "a4e75d32-2a40-4cb4-8550-f599c9813136",
   "metadata": {
    "scrolled": true
   },
   "outputs": [
    {
     "name": "stderr",
     "output_type": "stream",
     "text": [
      "Number of density points larger than number of shells. Assuming inner point irrelevant\n"
     ]
    },
    {
     "ename": "ValueError",
     "evalue": "operands could not be broadcast together with shapes (88,20) (9,) ",
     "output_type": "error",
     "traceback": [
      "\u001b[0;31m---------------------------------------------------------------------------\u001b[0m",
      "\u001b[0;31mValueError\u001b[0m                                Traceback (most recent call last)",
      "Cell \u001b[0;32mIn[26], line 9\u001b[0m\n\u001b[1;32m      5\u001b[0m kurucz_atomic_data \u001b[38;5;241m=\u001b[39m deepcopy(atomic_data)\n\u001b[1;32m      6\u001b[0m raw_simulation_state \u001b[38;5;241m=\u001b[39m SimulationState\u001b[38;5;241m.\u001b[39mfrom_config(\n\u001b[1;32m      7\u001b[0m         config_fname, atom_data\u001b[38;5;241m=\u001b[39mkurucz_atomic_data\n\u001b[1;32m      8\u001b[0m     )\n\u001b[0;32m----> 9\u001b[0m plasma2  \u001b[38;5;241m=\u001b[39m \u001b[43massemble_plasma\u001b[49m\u001b[43m(\u001b[49m\n\u001b[1;32m     10\u001b[0m \u001b[43m        \u001b[49m\u001b[43mconfig_fname\u001b[49m\u001b[43m,\u001b[49m\u001b[43m \u001b[49m\u001b[43mraw_simulation_state\u001b[49m\u001b[43m,\u001b[49m\u001b[43m \u001b[49m\u001b[43mkurucz_atomic_data\u001b[49m\n\u001b[1;32m     11\u001b[0m \u001b[43m    \u001b[49m\u001b[43m)\u001b[49m\n",
      "File \u001b[0;32m~/workspace/code/tardis-main/tardis/tardis/plasma/assembly/legacy_assembly.py:34\u001b[0m, in \u001b[0;36massemble_plasma\u001b[0;34m(config, simulation_state, atom_data)\u001b[0m\n\u001b[1;32m     29\u001b[0m plasma_solver_factory\u001b[38;5;241m.\u001b[39msetup_factory(config)\n\u001b[1;32m     30\u001b[0m dilute_planckian_radiation_field \u001b[38;5;241m=\u001b[39m DilutePlanckianRadiationField(\n\u001b[1;32m     31\u001b[0m     simulation_state\u001b[38;5;241m.\u001b[39mt_radiative, simulation_state\u001b[38;5;241m.\u001b[39mdilution_factor\n\u001b[1;32m     32\u001b[0m )\n\u001b[0;32m---> 34\u001b[0m \u001b[38;5;28;01mreturn\u001b[39;00m \u001b[43mplasma_solver_factory\u001b[49m\u001b[38;5;241;43m.\u001b[39;49m\u001b[43massemble\u001b[49m\u001b[43m(\u001b[49m\n\u001b[1;32m     35\u001b[0m \u001b[43m    \u001b[49m\u001b[43msimulation_state\u001b[49m\u001b[38;5;241;43m.\u001b[39;49m\u001b[43melemental_number_density\u001b[49m\u001b[43m,\u001b[49m\n\u001b[1;32m     36\u001b[0m \u001b[43m    \u001b[49m\u001b[43mdilute_planckian_radiation_field\u001b[49m\u001b[43m,\u001b[49m\n\u001b[1;32m     37\u001b[0m \u001b[43m    \u001b[49m\u001b[43msimulation_state\u001b[49m\u001b[38;5;241;43m.\u001b[39;49m\u001b[43mtime_explosion\u001b[49m\u001b[43m,\u001b[49m\n\u001b[1;32m     38\u001b[0m \u001b[43m    \u001b[49m\u001b[43msimulation_state\u001b[49m\u001b[38;5;241;43m.\u001b[39;49m\u001b[43m_electron_densities\u001b[49m\u001b[43m,\u001b[49m\n\u001b[1;32m     39\u001b[0m \u001b[43m\u001b[49m\u001b[43m)\u001b[49m\n",
      "File \u001b[0;32m~/workspace/code/tardis-main/tardis/tardis/plasma/assembly/base.py:540\u001b[0m, in \u001b[0;36mPlasmaSolverFactory.assemble\u001b[0;34m(self, number_densities, dilute_planckian_radiation_field, time_explosion, electron_densities)\u001b[0m\n\u001b[1;32m    538\u001b[0m     \u001b[38;5;28mself\u001b[39m\u001b[38;5;241m.\u001b[39msetup_electron_densities(electron_densities)\n\u001b[1;32m    539\u001b[0m kwargs[\u001b[38;5;124m\"\u001b[39m\u001b[38;5;124mhelium_treatment\u001b[39m\u001b[38;5;124m\"\u001b[39m] \u001b[38;5;241m=\u001b[39m \u001b[38;5;28mself\u001b[39m\u001b[38;5;241m.\u001b[39mhelium_treatment\n\u001b[0;32m--> 540\u001b[0m \u001b[38;5;28;01mreturn\u001b[39;00m \u001b[43mBasePlasma\u001b[49m\u001b[43m(\u001b[49m\n\u001b[1;32m    541\u001b[0m \u001b[43m    \u001b[49m\u001b[43mplasma_properties\u001b[49m\u001b[38;5;241;43m=\u001b[39;49m\u001b[38;5;28;43mself\u001b[39;49m\u001b[38;5;241;43m.\u001b[39;49m\u001b[43mplasma_modules\u001b[49m\u001b[43m,\u001b[49m\n\u001b[1;32m    542\u001b[0m \u001b[43m    \u001b[49m\u001b[43mproperty_kwargs\u001b[49m\u001b[38;5;241;43m=\u001b[39;49m\u001b[38;5;28;43mself\u001b[39;49m\u001b[38;5;241;43m.\u001b[39;49m\u001b[43mproperty_kwargs\u001b[49m\u001b[43m,\u001b[49m\n\u001b[1;32m    543\u001b[0m \u001b[43m    \u001b[49m\u001b[43mplasma_solver_settings\u001b[49m\u001b[38;5;241;43m=\u001b[39;49m\u001b[43mplasma_solver_settings\u001b[49m\u001b[43m,\u001b[49m\n\u001b[1;32m    544\u001b[0m \u001b[43m    \u001b[49m\u001b[38;5;241;43m*\u001b[39;49m\u001b[38;5;241;43m*\u001b[39;49m\u001b[43mkwargs\u001b[49m\u001b[43m,\u001b[49m\n\u001b[1;32m    545\u001b[0m \u001b[43m\u001b[49m\u001b[43m)\u001b[49m\n",
      "File \u001b[0;32m~/workspace/code/tardis-main/tardis/tardis/io/util.py:195\u001b[0m, in \u001b[0;36mHDFWriterMixin.__new__\u001b[0;34m(cls, *args, **kwargs)\u001b[0m\n\u001b[1;32m    193\u001b[0m instance \u001b[38;5;241m=\u001b[39m \u001b[38;5;28msuper\u001b[39m(HDFWriterMixin, \u001b[38;5;28mcls\u001b[39m)\u001b[38;5;241m.\u001b[39m\u001b[38;5;21m__new__\u001b[39m(\u001b[38;5;28mcls\u001b[39m)\n\u001b[1;32m    194\u001b[0m instance\u001b[38;5;241m.\u001b[39moptional_hdf_properties \u001b[38;5;241m=\u001b[39m []\n\u001b[0;32m--> 195\u001b[0m \u001b[43minstance\u001b[49m\u001b[38;5;241;43m.\u001b[39;49m\u001b[38;5;21;43m__init__\u001b[39;49m\u001b[43m(\u001b[49m\u001b[38;5;241;43m*\u001b[39;49m\u001b[43margs\u001b[49m\u001b[43m,\u001b[49m\u001b[43m \u001b[49m\u001b[38;5;241;43m*\u001b[39;49m\u001b[38;5;241;43m*\u001b[39;49m\u001b[43mkwargs\u001b[49m\u001b[43m)\u001b[49m\n\u001b[1;32m    196\u001b[0m \u001b[38;5;28;01mreturn\u001b[39;00m instance\n",
      "File \u001b[0;32m~/workspace/code/tardis-main/tardis/tardis/plasma/base.py:40\u001b[0m, in \u001b[0;36mBasePlasma.__init__\u001b[0;34m(self, plasma_properties, property_kwargs, plasma_solver_settings, **kwargs)\u001b[0m\n\u001b[1;32m     38\u001b[0m \u001b[38;5;28mself\u001b[39m\u001b[38;5;241m.\u001b[39mplasma_solver_settings \u001b[38;5;241m=\u001b[39m plasma_solver_settings\n\u001b[1;32m     39\u001b[0m \u001b[38;5;28mself\u001b[39m\u001b[38;5;241m.\u001b[39m_build_graph()\n\u001b[0;32m---> 40\u001b[0m \u001b[38;5;28;43mself\u001b[39;49m\u001b[38;5;241;43m.\u001b[39;49m\u001b[43mupdate\u001b[49m\u001b[43m(\u001b[49m\u001b[38;5;241;43m*\u001b[39;49m\u001b[38;5;241;43m*\u001b[39;49m\u001b[43mkwargs\u001b[49m\u001b[43m)\u001b[49m\n",
      "File \u001b[0;32m~/workspace/code/tardis-main/tardis/tardis/plasma/base.py:192\u001b[0m, in \u001b[0;36mBasePlasma.update\u001b[0;34m(self, **kwargs)\u001b[0m\n\u001b[1;32m    189\u001b[0m     \u001b[38;5;28mself\u001b[39m\u001b[38;5;241m.\u001b[39moutputs_dict[key]\u001b[38;5;241m.\u001b[39mset_value(kwargs[key])\n\u001b[1;32m    191\u001b[0m \u001b[38;5;28;01mfor\u001b[39;00m module_name \u001b[38;5;129;01min\u001b[39;00m \u001b[38;5;28mself\u001b[39m\u001b[38;5;241m.\u001b[39m_resolve_update_list(kwargs\u001b[38;5;241m.\u001b[39mkeys()):\n\u001b[0;32m--> 192\u001b[0m     \u001b[38;5;28;43mself\u001b[39;49m\u001b[38;5;241;43m.\u001b[39;49m\u001b[43mplasma_properties_dict\u001b[49m\u001b[43m[\u001b[49m\u001b[43mmodule_name\u001b[49m\u001b[43m]\u001b[49m\u001b[38;5;241;43m.\u001b[39;49m\u001b[43mupdate\u001b[49m\u001b[43m(\u001b[49m\u001b[43m)\u001b[49m\n",
      "File \u001b[0;32m~/workspace/code/tardis-main/tardis/tardis/plasma/properties/base.py:113\u001b[0m, in \u001b[0;36mProcessingPlasmaProperty.update\u001b[0;34m(self)\u001b[0m\n\u001b[1;32m    107\u001b[0m     \u001b[38;5;28msetattr\u001b[39m(\n\u001b[1;32m    108\u001b[0m         \u001b[38;5;28mself\u001b[39m,\n\u001b[1;32m    109\u001b[0m         \u001b[38;5;28mself\u001b[39m\u001b[38;5;241m.\u001b[39moutputs[\u001b[38;5;241m0\u001b[39m],\n\u001b[1;32m    110\u001b[0m         \u001b[38;5;28mself\u001b[39m\u001b[38;5;241m.\u001b[39mcalculate(\u001b[38;5;241m*\u001b[39m\u001b[38;5;28mself\u001b[39m\u001b[38;5;241m.\u001b[39m_get_input_values()),\n\u001b[1;32m    111\u001b[0m     )\n\u001b[1;32m    112\u001b[0m \u001b[38;5;28;01melse\u001b[39;00m:\n\u001b[0;32m--> 113\u001b[0m     new_values \u001b[38;5;241m=\u001b[39m \u001b[38;5;28;43mself\u001b[39;49m\u001b[38;5;241;43m.\u001b[39;49m\u001b[43mcalculate\u001b[49m\u001b[43m(\u001b[49m\u001b[38;5;241;43m*\u001b[39;49m\u001b[38;5;28;43mself\u001b[39;49m\u001b[38;5;241;43m.\u001b[39;49m\u001b[43m_get_input_values\u001b[49m\u001b[43m(\u001b[49m\u001b[43m)\u001b[49m\u001b[43m)\u001b[49m\n\u001b[1;32m    114\u001b[0m     \u001b[38;5;28;01mfor\u001b[39;00m i, output \u001b[38;5;129;01min\u001b[39;00m \u001b[38;5;28menumerate\u001b[39m(\u001b[38;5;28mself\u001b[39m\u001b[38;5;241m.\u001b[39moutputs):\n\u001b[1;32m    115\u001b[0m         \u001b[38;5;28msetattr\u001b[39m(\u001b[38;5;28mself\u001b[39m, output, new_values[i])\n",
      "File \u001b[0;32m~/workspace/code/tardis-main/tardis/tardis/plasma/properties/ion_population.py:381\u001b[0m, in \u001b[0;36mIonNumberDensity.calculate\u001b[0;34m(self, phi, partition_function, number_density)\u001b[0m\n\u001b[1;32m    379\u001b[0m \u001b[38;5;28;01melse\u001b[39;00m:\n\u001b[1;32m    380\u001b[0m     n_electron \u001b[38;5;241m=\u001b[39m \u001b[38;5;28mself\u001b[39m\u001b[38;5;241m.\u001b[39m_electron_densities\n\u001b[0;32m--> 381\u001b[0m     ion_number_density, \u001b[38;5;28mself\u001b[39m\u001b[38;5;241m.\u001b[39mblock_ids \u001b[38;5;241m=\u001b[39m \u001b[38;5;28;43mself\u001b[39;49m\u001b[38;5;241;43m.\u001b[39;49m\u001b[43mcalculate_with_n_electron\u001b[49m\u001b[43m(\u001b[49m\n\u001b[1;32m    382\u001b[0m \u001b[43m        \u001b[49m\u001b[43mphi\u001b[49m\u001b[43m,\u001b[49m\n\u001b[1;32m    383\u001b[0m \u001b[43m        \u001b[49m\u001b[43mpartition_function\u001b[49m\u001b[43m,\u001b[49m\n\u001b[1;32m    384\u001b[0m \u001b[43m        \u001b[49m\u001b[43mnumber_density\u001b[49m\u001b[43m,\u001b[49m\n\u001b[1;32m    385\u001b[0m \u001b[43m        \u001b[49m\u001b[43mn_electron\u001b[49m\u001b[43m,\u001b[49m\n\u001b[1;32m    386\u001b[0m \u001b[43m        \u001b[49m\u001b[38;5;28;43mself\u001b[39;49m\u001b[38;5;241;43m.\u001b[39;49m\u001b[43mblock_ids\u001b[49m\u001b[43m,\u001b[49m\n\u001b[1;32m    387\u001b[0m \u001b[43m        \u001b[49m\u001b[38;5;28;43mself\u001b[39;49m\u001b[38;5;241;43m.\u001b[39;49m\u001b[43mion_zero_threshold\u001b[49m\u001b[43m,\u001b[49m\n\u001b[1;32m    388\u001b[0m \u001b[43m    \u001b[49m\u001b[43m)\u001b[49m\n\u001b[1;32m    390\u001b[0m \u001b[38;5;28;01mreturn\u001b[39;00m ion_number_density, n_electron\n",
      "File \u001b[0;32m~/workspace/code/tardis-main/tardis/tardis/plasma/properties/ion_population.py:310\u001b[0m, in \u001b[0;36mIonNumberDensity.calculate_with_n_electron\u001b[0;34m(phi, partition_function, number_density, n_electron, block_ids, ion_zero_threshold)\u001b[0m\n\u001b[1;32m    306\u001b[0m     block_ids \u001b[38;5;241m=\u001b[39m IonNumberDensity\u001b[38;5;241m.\u001b[39m_calculate_block_ids(phi)\n\u001b[1;32m    308\u001b[0m ion_populations \u001b[38;5;241m=\u001b[39m np\u001b[38;5;241m.\u001b[39mempty_like(partition_function\u001b[38;5;241m.\u001b[39mvalues)\n\u001b[0;32m--> 310\u001b[0m phi_electron \u001b[38;5;241m=\u001b[39m np\u001b[38;5;241m.\u001b[39mnan_to_num(\u001b[43mphi\u001b[49m\u001b[38;5;241;43m.\u001b[39;49m\u001b[43mvalues\u001b[49m\u001b[43m \u001b[49m\u001b[38;5;241;43m/\u001b[39;49m\u001b[43m \u001b[49m\u001b[43mn_electron\u001b[49m\u001b[38;5;241;43m.\u001b[39;49m\u001b[43mvalues\u001b[49m)\n\u001b[1;32m    312\u001b[0m \u001b[38;5;28;01mfor\u001b[39;00m i, start_id \u001b[38;5;129;01min\u001b[39;00m \u001b[38;5;28menumerate\u001b[39m(block_ids[:\u001b[38;5;241m-\u001b[39m\u001b[38;5;241m1\u001b[39m]):\n\u001b[1;32m    313\u001b[0m     end_id \u001b[38;5;241m=\u001b[39m block_ids[i \u001b[38;5;241m+\u001b[39m \u001b[38;5;241m1\u001b[39m]\n",
      "\u001b[0;31mValueError\u001b[0m: operands could not be broadcast together with shapes (88,20) (9,) "
     ]
    }
   ],
   "source": [
    "config_fname = Configuration.from_yaml(\n",
    "        example_configuration_dir / \"tardis_configv1_verysimple.yml\"\n",
    "    )\n",
    "atomic_data = AtomData.from_hdf(atomic_data_fname)\n",
    "kurucz_atomic_data = deepcopy(atomic_data)\n",
    "raw_simulation_state = SimulationState.from_config(\n",
    "        config_fname, atom_data=kurucz_atomic_data\n",
    "    )\n",
    "plasma2  = assemble_plasma(\n",
    "        config_fname, raw_simulation_state, kurucz_atomic_data\n",
    "    )\n"
   ]
  },
  {
   "cell_type": "code",
   "execution_count": 27,
   "id": "27b555f0-08a2-4d6e-b4fa-a8539bd5e527",
   "metadata": {},
   "outputs": [
    {
     "name": "stderr",
     "output_type": "stream",
     "text": [
      "Number of density points larger than number of shells. Assuming inner point irrelevant\n",
      "/Users/atharva/workspace/code/tardis-main/tardis/tardis/model/matter/composition.py:101: FutureWarning: Setting an item of incompatible dtype is deprecated and will raise an error in a future version of pandas. Value '9.288214415907186e-23' has dtype incompatible with int64, please explicitly cast to a compatible dtype first.\n",
      "  isotope_mass_df[isotope_tuple] = isotope_mass\n"
     ]
    }
   ],
   "source": [
    "config_fname = Configuration.from_yaml(\n",
    "        example_model_file_dir / \"tardis_configv1_tardis_model_format.yml\"\n",
    "    )\n",
    "atomic_data = AtomData.from_hdf(atomic_data_fname)\n",
    "kurucz_atomic_data = deepcopy(atomic_data)\n",
    "raw_simulation_state = SimulationState.from_config(\n",
    "        config_fname, atom_data=kurucz_atomic_data\n",
    "    )\n",
    "plasma2  = assemble_plasma(\n",
    "        config_fname, raw_simulation_state, kurucz_atomic_data\n",
    "    )\n"
   ]
  },
  {
   "cell_type": "markdown",
   "id": "3bdbae80-1e3d-4633-b17f-59ef8a75800f",
   "metadata": {},
   "source": [
    "### Deleting `SimulationState` and generating again using `tardis_configv1_verysimple`"
   ]
  },
  {
   "cell_type": "code",
   "execution_count": null,
   "id": "5a931f2a-f118-45f3-85f3-eb3060f78bba",
   "metadata": {},
   "outputs": [],
   "source": []
  },
  {
   "cell_type": "code",
   "execution_count": null,
   "id": "c69434c8-9c3c-4fc0-a8c9-09674fff5773",
   "metadata": {},
   "outputs": [],
   "source": []
  },
  {
   "cell_type": "markdown",
   "id": "f597db87-0c4c-44cb-b97d-771dc467397c",
   "metadata": {},
   "source": [
    "# Rough Work"
   ]
  },
  {
   "cell_type": "code",
   "execution_count": 4,
   "id": "2aadd5c6-75fe-4663-9e5d-f7bfcece129c",
   "metadata": {},
   "outputs": [],
   "source": [
    "del plasma"
   ]
  },
  {
   "cell_type": "code",
   "execution_count": 5,
   "id": "8b0c3dbf-995f-4a73-b09d-456a00687095",
   "metadata": {},
   "outputs": [],
   "source": [
    "del raw_simulation_state"
   ]
  },
  {
   "cell_type": "code",
   "execution_count": null,
   "id": "b3b13cde-1794-4649-9612-e81f80f6d329",
   "metadata": {},
   "outputs": [],
   "source": []
  },
  {
   "cell_type": "code",
   "execution_count": 7,
   "id": "ae3168c8-3049-4774-8150-ab5ea3c05ca3",
   "metadata": {},
   "outputs": [],
   "source": [
    "example_configuration_dir = Path(\"tardis/io/configuration/tests/data\")\n",
    "# config = Configuration.from_yaml(\n",
    "#         example_configuration_dir / \"tardis_configv1_verysimple.yml\"\n",
    "#     )\n",
    "config = Configuration.from_yaml(\n",
    "        example_model_file_dir / \"tardis_configv1_tardis_model_format.yml\"\n",
    "    )\n",
    "config.atom_data = \"/Users/atharva/Downloads/tardis-data/kurucz_cd23_chianti_H_He.h5\"\n",
    "# config.montecarlo.iterations = 2\n",
    "# config.montecarlo.no_of_packets = int(4e4)\n",
    "# config.montecarlo.last_no_of_packets = int(4e4)"
   ]
  },
  {
   "cell_type": "code",
   "execution_count": 9,
   "id": "7a9d6fd1-1886-4435-b874-6094e78bf80b",
   "metadata": {},
   "outputs": [
    {
     "name": "stderr",
     "output_type": "stream",
     "text": [
      "Number of density points larger than number of shells. Assuming inner point irrelevant\n",
      "/Users/atharva/workspace/code/tardis-main/tardis/tardis/model/matter/composition.py:101: FutureWarning: Setting an item of incompatible dtype is deprecated and will raise an error in a future version of pandas. Value '9.288214415907186e-23' has dtype incompatible with int64, please explicitly cast to a compatible dtype first.\n",
      "  isotope_mass_df[isotope_tuple] = isotope_mass\n"
     ]
    }
   ],
   "source": [
    "atomic_data_fname = (\n",
    "        Path(\"/Users/atharva/workspace/code/tardis-main/tardis-refdata-2\") / \"atom_data\" / \"kurucz_cd23_chianti_H_He.h5\"\n",
    "    )\n",
    "\n",
    "atomic_data = AtomData.from_hdf(atomic_data_fname)\n",
    "kurucz_atomic_data = deepcopy(atomic_data)\n",
    "raw_simulation_state2 = SimulationState.from_config(\n",
    "        config, atom_data=kurucz_atomic_data\n",
    "    )\n",
    "plasma2 = assemble_plasma(\n",
    "        config, raw_simulation_state, kurucz_atomic_data\n",
    ")"
   ]
  },
  {
   "cell_type": "code",
   "execution_count": 10,
   "id": "67d824d8-477f-4db4-935e-1b8ad2e77309",
   "metadata": {},
   "outputs": [
    {
     "name": "stderr",
     "output_type": "stream",
     "text": [
      "Number of density points larger than number of shells. Assuming inner point irrelevant\n",
      "/Users/atharva/workspace/code/tardis-main/tardis/tardis/model/matter/composition.py:101: FutureWarning: Setting an item of incompatible dtype is deprecated and will raise an error in a future version of pandas. Value '9.288214415907186e-23' has dtype incompatible with int64, please explicitly cast to a compatible dtype first.\n",
      "  isotope_mass_df[isotope_tuple] = isotope_mass\n"
     ]
    }
   ],
   "source": [
    "from tardis.simulation import Simulation\n",
    "# kurucz_atomic_data = deepcopy(atomic_data)\n",
    "simulation = Simulation.from_config(config)"
   ]
  },
  {
   "cell_type": "code",
   "execution_count": null,
   "id": "9c8fba63-b660-41c0-ba60-8a3fd46a84cd",
   "metadata": {},
   "outputs": [],
   "source": []
  },
  {
   "cell_type": "code",
   "execution_count": null,
   "id": "c3f3dcfa-be3e-4399-9cae-5ee22aa7d4e2",
   "metadata": {},
   "outputs": [],
   "source": []
  },
  {
   "cell_type": "code",
   "execution_count": null,
   "id": "5034fc10-895b-4937-ad2f-a555db90ad49",
   "metadata": {},
   "outputs": [],
   "source": []
  }
 ],
 "metadata": {
  "kernelspec": {
   "display_name": "Python 3 (ipykernel)",
   "language": "python",
   "name": "python3"
  },
  "language_info": {
   "codemirror_mode": {
    "name": "ipython",
    "version": 3
   },
   "file_extension": ".py",
   "mimetype": "text/x-python",
   "name": "python",
   "nbconvert_exporter": "python",
   "pygments_lexer": "ipython3",
   "version": "3.12.4"
  }
 },
 "nbformat": 4,
 "nbformat_minor": 5
}
