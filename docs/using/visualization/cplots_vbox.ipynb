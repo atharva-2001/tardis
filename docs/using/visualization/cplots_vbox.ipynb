{
 "cells": [
  {
   "cell_type": "code",
   "execution_count": 1,
   "id": "0e318df1",
   "metadata": {},
   "outputs": [],
   "source": [
    "from tardis import run_tardis\n",
    "import tardis\n",
    "import plotly\n",
    "from plotly.graph_objs import graph_objs as go\n",
    "import ipywidgets as widgets\n",
    "from collections import defaultdict"
   ]
  },
  {
   "cell_type": "code",
   "execution_count": 2,
   "id": "ce3d71d0",
   "metadata": {},
   "outputs": [],
   "source": [
    "from pylab import *\n",
    "\n",
    "cmap = cm.get_cmap('jet', 20)\n",
    "colors = []\n",
    "for i in range(cmap.N):\n",
    "    rgb = cmap(i)[:3]\n",
    "    colors.append(matplotlib.colors.rgb2hex(rgb))"
   ]
  },
  {
   "cell_type": "code",
   "execution_count": 3,
   "id": "71bc0478",
   "metadata": {},
   "outputs": [],
   "source": [
    "# making subplots\n",
    "fig = go.FigureWidget().set_subplots(1,2, shared_xaxes=True,)\n",
    "fig.add_scatter(row = 1, col = 1)\n",
    "fig.add_scatter(row = 1, col = 2)\n",
    "\n",
    "# updating axes \n",
    "fig['layout']['yaxis2']['title'] = r\"$W$\"\n",
    "fig['layout']['xaxis2']['title'] = r\"$Shell~~Velocity$\"\n",
    "\n",
    "fig['layout']['yaxis']['title'] = r\"$T_{rad}\\ [K]$\"\n",
    "fig['layout']['xaxis']['title'] = r\"$Shell~~Velocity$\"\n",
    "\n",
    "\n",
    "fig['layout']['yaxis']['range'] = [9000, 14000]\n",
    "fig['layout']['yaxis']['tickformat'] =  \"g\"\n",
    "fig['layout']['xaxis2']['tickformat'] =  \"g\"\n",
    "fig['layout']['xaxis']['tickformat'] =  \"g\"\n",
    "fig['layout']['xaxis2']['matches'] =  \"x\"\n",
    "\n",
    "fig.update_layout(\n",
    "    margin=dict(\n",
    "        l=10,\n",
    "        r=135,\n",
    "        b=80,\n",
    "        t=25,\n",
    "        pad=0\n",
    "    )\n",
    ")\n",
    "\n",
    "plasma_fig = fig.update_layout(height = 580)\n"
   ]
  },
  {
   "cell_type": "code",
   "execution_count": 4,
   "id": "dbce73ee",
   "metadata": {},
   "outputs": [],
   "source": [
    "\n",
    "line_colors = [\"orangered\", 'lightseagreen', 'indigo']\n",
    "\n",
    "luminosities = [\"Emitted\", \"Absorbed\", \"Requested\"]\n",
    "X = list(range(1,21))\n",
    "\n",
    "\n",
    "fig = go.FigureWidget().set_subplots(\n",
    "        3,1, \n",
    "        shared_xaxes=True, \n",
    "        vertical_spacing = 0.05,\n",
    "        row_heights=[0.15, 0.7, 0.15]\n",
    "    )\n",
    "\n",
    "for luminosity, line_color in zip(luminosities, line_colors):\n",
    "    fig.add_scatter(\n",
    "        name = luminosity + \"<br>Luminosity\", \n",
    "        row = 2, \n",
    "        col = 1,\n",
    "        mode=\"lines\",\n",
    "        marker_color=line_color, \n",
    "        legendgroup = luminosity, \n",
    "#         marker_line_width=1.5, \n",
    "        opacity=0.6\n",
    "    )\n",
    "fig.add_scatter(\n",
    "    name = \"Residual<br>Luminosity\",\n",
    "    row = 3, \n",
    "    col = 1, \n",
    "    mode=\"lines\",\n",
    "    \n",
    "    marker_color='cornflowerblue', \n",
    "    opacity=0.7\n",
    "\n",
    ")\n",
    "fig.add_scatter(\n",
    "    name = \"Next Inner<br>Boundary<br>Temperature\",\n",
    "    row = 1, \n",
    "    col = 1, \n",
    "    mode=\"lines\",\n",
    "    \n",
    "    marker_color='crimson', \n",
    "    opacity=0.7\n",
    "\n",
    ")\n",
    "\n",
    "\n",
    "fig = fig.update_layout(\n",
    "    xaxis = dict(\n",
    "        range = [0, 21],\n",
    "        dtick = 2,\n",
    "        \n",
    "    ),\n",
    "    xaxis2 = dict(\n",
    "        matches = \"x\",\n",
    "        range = [0, 21],\n",
    "        dtick = 2,\n",
    "    ),\n",
    "    xaxis3 = dict(\n",
    "        matches = \"x\",\n",
    "        title = r\"$\\mbox{Iteration Number}$\", \n",
    "        dtick = 2,\n",
    "    ),\n",
    "    \n",
    "    yaxis = dict(\n",
    "        title = r\"$\\mbox{T}_{inner}$\",\n",
    "        automargin = True,\n",
    "        side = \"top\",\n",
    "        tickformat=\"g\",\n",
    "        exponentformat = \"e\",\n",
    "    ),\n",
    "    yaxis2 = dict(\n",
    "        exponentformat = \"e\",\n",
    "        title = r\"$\\mbox{Luminosity}~(erg~sec^{-1})$\",\n",
    "        title_font_size = 13,\n",
    "        automargin = True\n",
    "    ),\n",
    "    yaxis3 = dict(\n",
    "        exponentformat = \"e\",\n",
    "        title = r\"$~~\\mbox{Residual}\\\\\\mbox{Luminosity(%)}$\", \n",
    "        title_font_size = 12,\n",
    "        automargin = True\n",
    "    ),\n",
    "    \n",
    "    legend_tracegroupgap = 0,\n",
    "    hidesources = True,\n",
    "    height = 600,\n",
    "    hoverlabel_align = 'right',\n",
    "    legend_title_text = \"Luminosity\",\n",
    "    margin=dict(\n",
    "        l=10,\n",
    "        r=10,\n",
    "        b=10,\n",
    "        t=25,\n",
    "        pad=0\n",
    "    ),\n",
    "    hoverlabel_font_color =\"white\"\n",
    ")\n",
    "luminosity_fig = fig\n"
   ]
  },
  {
   "cell_type": "code",
   "execution_count": 5,
   "id": "f46ab90d",
   "metadata": {
    "scrolled": false
   },
   "outputs": [
    {
     "data": {
      "application/vnd.jupyter.widget-view+json": {
       "model_id": "7b5ab67ee93a440790c122dfc85b20bb",
       "version_major": 2,
       "version_minor": 0
      },
      "text/plain": [
       "VBox(children=(FigureWidget({\n",
       "    'data': [{'type': 'scatter', 'uid': '9b5ed1ef-dcc2-401a-b1c3-39cf40ea464b', …"
      ]
     },
     "metadata": {},
     "output_type": "display_data"
    }
   ],
   "source": [
    "widgets.VBox([plasma_fig, luminosity_fig], layout=widgets.Layout( height='1000px'))"
   ]
  },
  {
   "cell_type": "code",
   "execution_count": 6,
   "id": "bbc5c7ab",
   "metadata": {},
   "outputs": [],
   "source": [
    "traces = defaultdict(list)\n",
    "i=0\n",
    "ic = 0"
   ]
  },
  {
   "cell_type": "code",
   "execution_count": 7,
   "id": "979165bf",
   "metadata": {},
   "outputs": [],
   "source": [
    "\n",
    "def update_t_rad(sim):\n",
    "    \"\"\"\n",
    "    adds another scatter trace of T_rad vs Shell Velocity with dark blue line color\n",
    "    \"\"\"\n",
    "    \n",
    "    plasma_fig.add_scatter(\n",
    "        x = [item/100000 for item in sim.model.velocity.value.tolist()], \n",
    "        y = sim.model.t_rad.value.tolist(), \n",
    "        line_color = colors[ic], \n",
    "        row = 1, \n",
    "        col = 1, \n",
    "        name = ic+1,\n",
    "        legendgroup=f\"group-{ic}\", \n",
    "        marker=dict(symbol=\"diamond\", size=3),\n",
    "        showlegend = False,\n",
    "    )\n",
    "\n",
    "    \n",
    "def update_w(sim):\n",
    "    \"\"\"\n",
    "    adds another scatter trace of W vs Shell Velocity with dark blue line color\n",
    "    \"\"\"\n",
    "    plasma_fig.add_scatter(\n",
    "        x = [item/100000 for item in sim.model.velocity.value.tolist()], \n",
    "        y = sim.model.w.tolist(), \n",
    "        line_color= colors[ic], \n",
    "        row = 1, \n",
    "        col = 2, \n",
    "        legendgroup=f\"group-{ic}\",\n",
    "        marker=dict(symbol=\"diamond\", size=3),\n",
    "        name = ic+1,\n",
    "    )\n",
    "\n",
    "    \n",
    "def fix_colors(index):\n",
    "    \"\"\"\n",
    "    changes line color to light blue\n",
    "    \"\"\"\n",
    "    plasma_fig['data'][index]['line']['color']=colors[ic-1]\n",
    "    \n",
    "\n",
    "\n",
    "    \n",
    "def update_traces(sim):\n",
    "\n",
    "    global traces, i, ic\n",
    "\n",
    "    emitted_luminosity = sim.runner.calculate_emitted_luminosity(\n",
    "        sim.luminosity_nu_start, sim.luminosity_nu_end\n",
    "    )\n",
    "    reabsorbed_luminosity = sim.runner.calculate_reabsorbed_luminosity(\n",
    "        sim.luminosity_nu_start, sim.luminosity_nu_end\n",
    "    )\n",
    "\n",
    "    traces[\"Emitted\"].append(emitted_luminosity.value)\n",
    "    traces[\"Absorbed\"].append(reabsorbed_luminosity.value)\n",
    "    traces[\"Requested\"].append(sim.luminosity_requested.value)\n",
    "    traces[\"t_inner\"].append(sim.model.t_inner.value)\n",
    "\n",
    "\n",
    "    with luminosity_fig.batch_update():\n",
    "        for index, luminosity in zip(range(3), luminosities):\n",
    "            luminosity_fig.data[index].x = X\n",
    "            luminosity_fig.data[index].y = traces[luminosity]\n",
    "            luminosity_fig.data[index].hovertemplate = '<b>%{y:.2g}</b>'+'<br>at X = %{x}<br>'\n",
    "    \n",
    "        y = [((emitted-requested)*100)/requested for emitted, requested in zip(traces[\"Emitted\"],traces[\"Requested\"])]\n",
    "        luminosity_fig.data[-2].x = X\n",
    "        luminosity_fig.data[-2].y = y\n",
    "        luminosity_fig.data[-2].hovertemplate='Residual Luminosity: %{y:.2f}% at X = %{x:,.0f}<extra></extra>'\n",
    "        \n",
    "        \n",
    "\n",
    "\n",
    "        luminosity_fig.data[-1].x = X\n",
    "        luminosity_fig.data[-1].y = traces[\"t_inner\"]\n",
    "        luminosity_fig.data[-1].hovertemplate='Next Inner Body Temperature: %{y:.2f} at X = %{x:,.0f}<extra></extra>'\n",
    "        \n",
    "\n",
    "    i = i+2\n",
    "    \n",
    "    fix_colors(i-1)\n",
    "    fix_colors(i-2)\n",
    "        \n",
    "    update_t_rad(sim)\n",
    "    update_w(sim)\n",
    "    ic+=1\n",
    "    \n",
    "    plasma_fig.update_layout(\n",
    "        legend_tracegroupgap = 0,\n",
    "        legend_title_text = \"iterations\",\n",
    "        hidesources = True\n",
    "    )\n",
    "    \n",
    "    "
   ]
  },
  {
   "cell_type": "code",
   "execution_count": 8,
   "id": "4d0979c4",
   "metadata": {
    "scrolled": true
   },
   "outputs": [
    {
     "name": "stdout",
     "output_type": "stream",
     "text": [
      "[\u001b[1mtardis.plasma.standard_plasmas\u001b[0m][\u001b[1;37mINFO\u001b[0m   ]  Reading Atomic Data from kurucz_cd23_chianti_H_He.h5 (\u001b[1mstandard_plasmas.py\u001b[0m:91)\n",
      "[\u001b[1mtardis.io.atom_data.util\u001b[0m][\u001b[1;37mINFO\u001b[0m   ]  Atom Data kurucz_cd23_chianti_H_He.h5 not found in local path. Exists in TARDIS Data repo /home/atharva/Downloads/tardis-data/kurucz_cd23_chianti_H_He.h5 (\u001b[1mutil.py\u001b[0m:34)\n",
      "[\u001b[1mtardis.io.atom_data.base\u001b[0m][\u001b[1;37mINFO\u001b[0m   ]  Read Atom Data with UUID=6f7b09e887a311e7a06b246e96350010 and MD5=864f1753714343c41f99cb065710cace. (\u001b[1mbase.py\u001b[0m:179)\n",
      "[\u001b[1mtardis.io.atom_data.base\u001b[0m][\u001b[1;37mINFO\u001b[0m   ]  Non provided atomic data: synpp_refs, photoionization_data, yg_data, two_photon_data (\u001b[1mbase.py\u001b[0m:183)\n",
      "[\u001b[1mtardis.simulation.base\u001b[0m][\u001b[1;37mINFO\u001b[0m   ]  Starting iteration 1/20 (\u001b[1mbase.py\u001b[0m:323)\n",
      "[\u001b[1mpy.warnings         \u001b[0m][\u001b[1;33mWARNING\u001b[0m]  /home/atharva/.conda/envs/tardis/lib/python3.7/site-packages/astropy/units/equivalencies.py:124: RuntimeWarning:\n",
      "\n",
      "divide by zero encountered in double_scalars\n",
      "\n",
      " (\u001b[1mwarnings.py\u001b[0m:110)\n",
      "Running post-merge numba montecarlo (with C close lines)!\n",
      "[\u001b[1mtardis.simulation.base\u001b[0m][\u001b[1;37mINFO\u001b[0m   ]  Luminosity emitted = 7.94275e+42 erg / s Luminosity absorbed = 2.65805e+42 erg / s Luminosity requested = 1.05928e+43 erg / s (\u001b[1mbase.py\u001b[0m:438)\n",
      "[\u001b[1mtardis.simulation.base\u001b[0m][\u001b[1;37mINFO\u001b[0m   ]  Plasma stratification:\n",
      "\t             t_rad    next_t_rad         w    next_w\n",
      "\tShell                                               \n",
      "\t0      9926.501965  10134.733717  0.400392  0.508204\n",
      "\t5      9852.611678  10222.890845  0.211205  0.197026\n",
      "\t10     9779.813302  10144.463169  0.142695  0.117179\n",
      "\t15     9708.082813   9873.477846  0.104556  0.086941\n",
      "\n",
      " (\u001b[1mbase.py\u001b[0m:433)\n",
      "[\u001b[1mtardis.simulation.base\u001b[0m][\u001b[1;37mINFO\u001b[0m   ]  t_inner 9933.952 K -- next t_inner 11472.055 K (\u001b[1mbase.py\u001b[0m:434)\n",
      "[\u001b[1mtardis.simulation.base\u001b[0m][\u001b[1;37mINFO\u001b[0m   ]  Starting iteration 2/20 (\u001b[1mbase.py\u001b[0m:323)\n",
      "[\u001b[1mpy.warnings         \u001b[0m][\u001b[1;33mWARNING\u001b[0m]  /home/atharva/.conda/envs/tardis/lib/python3.7/site-packages/astropy/units/equivalencies.py:124: RuntimeWarning:\n",
      "\n",
      "divide by zero encountered in double_scalars\n",
      "\n",
      " (\u001b[1mwarnings.py\u001b[0m:110)\n",
      "Running post-merge numba montecarlo (with C close lines)!\n",
      "[\u001b[1mtardis.simulation.base\u001b[0m][\u001b[1;37mINFO\u001b[0m   ]  Luminosity emitted = 1.40815e+43 erg / s Luminosity absorbed = 4.77001e+42 erg / s Luminosity requested = 1.05928e+43 erg / s (\u001b[1mbase.py\u001b[0m:438)\n",
      "[\u001b[1mtardis.simulation.base\u001b[0m][\u001b[1;37mINFO\u001b[0m   ]  Plasma stratification:\n",
      "\t              t_rad    next_t_rad         w    next_w\n",
      "\tShell                                                \n",
      "\t0      10134.733717  11468.021903  0.508204  0.548671\n",
      "\t5      10222.890845  11499.835340  0.197026  0.221374\n",
      "\t10     10144.463169  11306.370330  0.117179  0.136291\n",
      "\t15      9873.477846  10953.828130  0.086941  0.102617\n",
      "\n",
      " (\u001b[1mbase.py\u001b[0m:433)\n",
      "[\u001b[1mtardis.simulation.base\u001b[0m][\u001b[1;37mINFO\u001b[0m   ]  t_inner 11472.055 K -- next t_inner 9949.978 K (\u001b[1mbase.py\u001b[0m:434)\n",
      "[\u001b[1mtardis.simulation.base\u001b[0m][\u001b[1;37mINFO\u001b[0m   ]  Starting iteration 3/20 (\u001b[1mbase.py\u001b[0m:323)\n",
      "[\u001b[1mpy.warnings         \u001b[0m][\u001b[1;33mWARNING\u001b[0m]  /home/atharva/.conda/envs/tardis/lib/python3.7/site-packages/astropy/units/equivalencies.py:124: RuntimeWarning:\n",
      "\n",
      "divide by zero encountered in double_scalars\n",
      "\n",
      " (\u001b[1mwarnings.py\u001b[0m:110)\n",
      "Running post-merge numba montecarlo (with C close lines)!\n",
      "[\u001b[1mtardis.simulation.base\u001b[0m][\u001b[1;37mINFO\u001b[0m   ]  Luminosity emitted = 8.12624e+42 erg / s Luminosity absorbed = 2.54722e+42 erg / s Luminosity requested = 1.05928e+43 erg / s (\u001b[1mbase.py\u001b[0m:438)\n",
      "[\u001b[1mtardis.simulation.base\u001b[0m][\u001b[1;37mINFO\u001b[0m   ]  Plasma stratification:\n",
      "\t              t_rad    next_t_rad         w    next_w\n",
      "\tShell                                                \n",
      "\t0      11468.021903  10497.008397  0.548671  0.442299\n",
      "\t5      11499.835340  10799.075913  0.221374  0.164288\n",
      "\t10     11306.370330  10623.433274  0.136291  0.101820\n",
      "\t15     10953.828130  10226.187071  0.102617  0.077629\n",
      "\n",
      " (\u001b[1mbase.py\u001b[0m:433)\n",
      "[\u001b[1mtardis.simulation.base\u001b[0m][\u001b[1;37mINFO\u001b[0m   ]  t_inner 9949.978 K -- next t_inner 11360.097 K (\u001b[1mbase.py\u001b[0m:434)\n",
      "[\u001b[1mtardis.simulation.base\u001b[0m][\u001b[1;37mINFO\u001b[0m   ]  Starting iteration 4/20 (\u001b[1mbase.py\u001b[0m:323)\n",
      "[\u001b[1mpy.warnings         \u001b[0m][\u001b[1;33mWARNING\u001b[0m]  /home/atharva/.conda/envs/tardis/lib/python3.7/site-packages/astropy/units/equivalencies.py:124: RuntimeWarning:\n",
      "\n",
      "divide by zero encountered in double_scalars\n",
      "\n",
      " (\u001b[1mwarnings.py\u001b[0m:110)\n",
      "Running post-merge numba montecarlo (with C close lines)!\n",
      "[\u001b[1mtardis.simulation.base\u001b[0m][\u001b[1;37mINFO\u001b[0m   ]  Luminosity emitted = 1.36297e+43 erg / s Luminosity absorbed = 4.49721e+42 erg / s Luminosity requested = 1.05928e+43 erg / s (\u001b[1mbase.py\u001b[0m:438)\n",
      "[\u001b[1mtardis.simulation.base\u001b[0m][\u001b[1;37mINFO\u001b[0m   ]  Plasma stratification:\n",
      "\t              t_rad    next_t_rad         w    next_w\n",
      "\tShell                                                \n",
      "\t0      10497.008397  11615.344313  0.442299  0.497714\n",
      "\t5      10799.075913  11729.411389  0.164288  0.199205\n",
      "\t10     10623.433274  11517.190317  0.101820  0.123849\n",
      "\t15     10226.187071  11103.373456  0.077629  0.093930\n",
      "\n",
      " (\u001b[1mbase.py\u001b[0m:433)\n",
      "[\u001b[1mtardis.simulation.base\u001b[0m][\u001b[1;37mINFO\u001b[0m   ]  t_inner 11360.097 K -- next t_inner 10014.843 K (\u001b[1mbase.py\u001b[0m:434)\n",
      "[\u001b[1mtardis.simulation.base\u001b[0m][\u001b[1;37mINFO\u001b[0m   ]  Starting iteration 5/20 (\u001b[1mbase.py\u001b[0m:323)\n",
      "[\u001b[1mpy.warnings         \u001b[0m][\u001b[1;33mWARNING\u001b[0m]  /home/atharva/.conda/envs/tardis/lib/python3.7/site-packages/astropy/units/equivalencies.py:124: RuntimeWarning:\n",
      "\n",
      "divide by zero encountered in double_scalars\n",
      "\n",
      " (\u001b[1mwarnings.py\u001b[0m:110)\n",
      "Running post-merge numba montecarlo (with C close lines)!\n",
      "[\u001b[1mtardis.simulation.base\u001b[0m][\u001b[1;37mINFO\u001b[0m   ]  Luminosity emitted = 8.27895e+42 erg / s Luminosity absorbed = 2.66933e+42 erg / s Luminosity requested = 1.05928e+43 erg / s (\u001b[1mbase.py\u001b[0m:438)\n",
      "[\u001b[1mtardis.simulation.base\u001b[0m][\u001b[1;37mINFO\u001b[0m   ]  Plasma stratification:\n",
      "\t              t_rad    next_t_rad         w    next_w\n",
      "\tShell                                                \n",
      "\t0      11615.344313  10549.514128  0.497714  0.443441\n",
      "\t5      11729.411389  10919.073481  0.199205  0.162199\n",
      "\t10     11517.190317  10697.303300  0.123849  0.101289\n",
      "\t15     11103.373456  10379.863073  0.093930  0.075372\n",
      "\n",
      " (\u001b[1mbase.py\u001b[0m:433)\n",
      "[\u001b[1mtardis.simulation.base\u001b[0m][\u001b[1;37mINFO\u001b[0m   ]  t_inner 10014.843 K -- next t_inner 11328.210 K (\u001b[1mbase.py\u001b[0m:434)\n",
      "[\u001b[1mtardis.simulation.base\u001b[0m][\u001b[1;37mINFO\u001b[0m   ]  Starting iteration 6/20 (\u001b[1mbase.py\u001b[0m:323)\n",
      "[\u001b[1mpy.warnings         \u001b[0m][\u001b[1;33mWARNING\u001b[0m]  /home/atharva/.conda/envs/tardis/lib/python3.7/site-packages/astropy/units/equivalencies.py:124: RuntimeWarning:\n",
      "\n",
      "divide by zero encountered in double_scalars\n",
      "\n",
      " (\u001b[1mwarnings.py\u001b[0m:110)\n",
      "Running post-merge numba montecarlo (with C close lines)!\n",
      "[\u001b[1mtardis.simulation.base\u001b[0m][\u001b[1;37mINFO\u001b[0m   ]  Luminosity emitted = 1.34741e+43 erg / s Luminosity absorbed = 4.44727e+42 erg / s Luminosity requested = 1.05928e+43 erg / s (\u001b[1mbase.py\u001b[0m:438)\n",
      "[\u001b[1mtardis.simulation.base\u001b[0m][\u001b[1;37mINFO\u001b[0m   ]  Plasma stratification:\n",
      "\t              t_rad    next_t_rad         w    next_w\n",
      "\tShell                                                \n",
      "\t0      10549.514128  11567.208184  0.443441  0.504178\n",
      "\t5      10919.073481  11653.124121  0.162199  0.203042\n",
      "\t10     10697.303300  11425.955010  0.101289  0.125249\n",
      "\t15     10379.863073  11082.155938  0.075372  0.094028\n",
      "\n",
      " (\u001b[1mbase.py\u001b[0m:433)\n",
      "[\u001b[1mtardis.simulation.base\u001b[0m][\u001b[1;37mINFO\u001b[0m   ]  t_inner 11328.210 K -- next t_inner 10044.200 K (\u001b[1mbase.py\u001b[0m:434)\n",
      "[\u001b[1mtardis.simulation.base\u001b[0m][\u001b[1;37mINFO\u001b[0m   ]  Starting iteration 7/20 (\u001b[1mbase.py\u001b[0m:323)\n",
      "[\u001b[1mpy.warnings         \u001b[0m][\u001b[1;33mWARNING\u001b[0m]  /home/atharva/.conda/envs/tardis/lib/python3.7/site-packages/astropy/units/equivalencies.py:124: RuntimeWarning:\n",
      "\n",
      "divide by zero encountered in double_scalars\n",
      "\n",
      " (\u001b[1mwarnings.py\u001b[0m:110)\n",
      "Running post-merge numba montecarlo (with C close lines)!\n",
      "[\u001b[1mtardis.simulation.base\u001b[0m][\u001b[1;37mINFO\u001b[0m   ]  Luminosity emitted = 8.39001e+42 erg / s Luminosity absorbed = 2.69230e+42 erg / s Luminosity requested = 1.05928e+43 erg / s (\u001b[1mbase.py\u001b[0m:438)\n"
     ]
    },
    {
     "name": "stdout",
     "output_type": "stream",
     "text": [
      "[\u001b[1mtardis.simulation.base\u001b[0m][\u001b[1;37mINFO\u001b[0m   ]  Plasma stratification:\n",
      "\t              t_rad    next_t_rad         w    next_w\n",
      "\tShell                                                \n",
      "\t0      11567.208184  10569.747403  0.504178  0.442290\n",
      "\t5      11653.124121  11099.194259  0.203042  0.153253\n",
      "\t10     11425.955010  10809.397890  0.125249  0.097256\n",
      "\t15     11082.155938  10454.841299  0.094028  0.073809\n",
      "\n",
      " (\u001b[1mbase.py\u001b[0m:433)\n",
      "[\u001b[1mtardis.simulation.base\u001b[0m][\u001b[1;37mINFO\u001b[0m   ]  t_inner 10044.200 K -- next t_inner 11285.966 K (\u001b[1mbase.py\u001b[0m:434)\n",
      "[\u001b[1mtardis.simulation.base\u001b[0m][\u001b[1;37mINFO\u001b[0m   ]  Starting iteration 8/20 (\u001b[1mbase.py\u001b[0m:323)\n",
      "[\u001b[1mpy.warnings         \u001b[0m][\u001b[1;33mWARNING\u001b[0m]  /home/atharva/.conda/envs/tardis/lib/python3.7/site-packages/astropy/units/equivalencies.py:124: RuntimeWarning:\n",
      "\n",
      "divide by zero encountered in double_scalars\n",
      "\n",
      " (\u001b[1mwarnings.py\u001b[0m:110)\n",
      "Running post-merge numba montecarlo (with C close lines)!\n",
      "[\u001b[1mtardis.simulation.base\u001b[0m][\u001b[1;37mINFO\u001b[0m   ]  Luminosity emitted = 1.33305e+43 erg / s Luminosity absorbed = 4.33011e+42 erg / s Luminosity requested = 1.05928e+43 erg / s (\u001b[1mbase.py\u001b[0m:438)\n",
      "[\u001b[1mtardis.simulation.base\u001b[0m][\u001b[1;37mINFO\u001b[0m   ]  Plasma stratification:\n",
      "\t              t_rad    next_t_rad         w    next_w\n",
      "\tShell                                                \n",
      "\t0      10569.747403  11547.678162  0.442290  0.500345\n",
      "\t5      11099.194259  11669.739508  0.153253  0.198338\n",
      "\t10     10809.397890  11493.569590  0.097256  0.121915\n",
      "\t15     10454.841299  11083.769586  0.073809  0.092834\n",
      "\n",
      " (\u001b[1mbase.py\u001b[0m:433)\n",
      "[\u001b[1mtardis.simulation.base\u001b[0m][\u001b[1;37mINFO\u001b[0m   ]  t_inner 11285.966 K -- next t_inner 10060.511 K (\u001b[1mbase.py\u001b[0m:434)\n",
      "[\u001b[1mtardis.simulation.base\u001b[0m][\u001b[1;37mINFO\u001b[0m   ]  Starting iteration 9/20 (\u001b[1mbase.py\u001b[0m:323)\n",
      "[\u001b[1mpy.warnings         \u001b[0m][\u001b[1;33mWARNING\u001b[0m]  /home/atharva/.conda/envs/tardis/lib/python3.7/site-packages/astropy/units/equivalencies.py:124: RuntimeWarning:\n",
      "\n",
      "divide by zero encountered in double_scalars\n",
      "\n",
      " (\u001b[1mwarnings.py\u001b[0m:110)\n",
      "Running post-merge numba montecarlo (with C close lines)!\n",
      "[\u001b[1mtardis.simulation.base\u001b[0m][\u001b[1;37mINFO\u001b[0m   ]  Luminosity emitted = 8.44283e+42 erg / s Luminosity absorbed = 2.70894e+42 erg / s Luminosity requested = 1.05928e+43 erg / s (\u001b[1mbase.py\u001b[0m:438)\n",
      "[\u001b[1mtardis.simulation.base\u001b[0m][\u001b[1;37mINFO\u001b[0m   ]  Plasma stratification:\n",
      "\t              t_rad    next_t_rad         w    next_w\n",
      "\tShell                                                \n",
      "\t0      11547.678162  10635.099217  0.500345  0.439520\n",
      "\t5      11669.739508  11035.731464  0.198338  0.158320\n",
      "\t10     11493.569590  10717.471486  0.121915  0.101642\n",
      "\t15     11083.769586  10404.049299  0.092834  0.075794\n",
      "\n",
      " (\u001b[1mbase.py\u001b[0m:433)\n",
      "[\u001b[1mtardis.simulation.base\u001b[0m][\u001b[1;37mINFO\u001b[0m   ]  t_inner 10060.511 K -- next t_inner 11268.877 K (\u001b[1mbase.py\u001b[0m:434)\n",
      "[\u001b[1mtardis.simulation.base\u001b[0m][\u001b[1;37mINFO\u001b[0m   ]  Starting iteration 10/20 (\u001b[1mbase.py\u001b[0m:323)\n",
      "[\u001b[1mpy.warnings         \u001b[0m][\u001b[1;33mWARNING\u001b[0m]  /home/atharva/.conda/envs/tardis/lib/python3.7/site-packages/astropy/units/equivalencies.py:124: RuntimeWarning:\n",
      "\n",
      "divide by zero encountered in double_scalars\n",
      "\n",
      " (\u001b[1mwarnings.py\u001b[0m:110)\n",
      "Running post-merge numba montecarlo (with C close lines)!\n",
      "[\u001b[1mtardis.simulation.base\u001b[0m][\u001b[1;37mINFO\u001b[0m   ]  Luminosity emitted = 1.32925e+43 erg / s Luminosity absorbed = 4.25943e+42 erg / s Luminosity requested = 1.05928e+43 erg / s (\u001b[1mbase.py\u001b[0m:438)\n",
      "[\u001b[1mtardis.simulation.base\u001b[0m][\u001b[1;37mINFO\u001b[0m   ]  Plasma stratification:\n",
      "\t              t_rad    next_t_rad         w    next_w\n",
      "\tShell                                                \n",
      "\t0      10635.099217  11500.557678  0.439520  0.506895\n",
      "\t5      11035.731464  11715.267406  0.158320  0.196690\n",
      "\t10     10717.471486  11451.270656  0.101642  0.123243\n",
      "\t15     10404.049299  11094.423438  0.075794  0.092243\n",
      "\n",
      " (\u001b[1mbase.py\u001b[0m:433)\n",
      "[\u001b[1mtardis.simulation.base\u001b[0m][\u001b[1;37mINFO\u001b[0m   ]  t_inner 11268.877 K -- next t_inner 10059.624 K (\u001b[1mbase.py\u001b[0m:434)\n",
      "[\u001b[1mtardis.simulation.base\u001b[0m][\u001b[1;37mINFO\u001b[0m   ]  Starting iteration 11/20 (\u001b[1mbase.py\u001b[0m:323)\n",
      "[\u001b[1mpy.warnings         \u001b[0m][\u001b[1;33mWARNING\u001b[0m]  /home/atharva/.conda/envs/tardis/lib/python3.7/site-packages/astropy/units/equivalencies.py:124: RuntimeWarning:\n",
      "\n",
      "divide by zero encountered in double_scalars\n",
      "\n",
      " (\u001b[1mwarnings.py\u001b[0m:110)\n",
      "Running post-merge numba montecarlo (with C close lines)!\n",
      "[\u001b[1mtardis.simulation.base\u001b[0m][\u001b[1;37mINFO\u001b[0m   ]  Luminosity emitted = 8.49497e+42 erg / s Luminosity absorbed = 2.65616e+42 erg / s Luminosity requested = 1.05928e+43 erg / s (\u001b[1mbase.py\u001b[0m:438)\n",
      "[\u001b[1mtardis.simulation.base\u001b[0m][\u001b[1;37mINFO\u001b[0m   ]  Plasma stratification:\n",
      "\t              t_rad    next_t_rad         w    next_w\n",
      "\tShell                                                \n",
      "\t0      11500.557678  10570.856509  0.506895  0.445926\n",
      "\t5      11715.267406  10957.336276  0.196690  0.162837\n",
      "\t10     11451.270656  10916.410391  0.123243  0.096229\n",
      "\t15     11094.423438  10441.053929  0.092243  0.075026\n",
      "\n",
      " (\u001b[1mbase.py\u001b[0m:433)\n",
      "[\u001b[1mtardis.simulation.base\u001b[0m][\u001b[1;37mINFO\u001b[0m   ]  t_inner 10059.624 K -- next t_inner 11233.248 K (\u001b[1mbase.py\u001b[0m:434)\n",
      "[\u001b[1mtardis.simulation.base\u001b[0m][\u001b[1;37mINFO\u001b[0m   ]  Starting iteration 12/20 (\u001b[1mbase.py\u001b[0m:323)\n",
      "[\u001b[1mpy.warnings         \u001b[0m][\u001b[1;33mWARNING\u001b[0m]  /home/atharva/.conda/envs/tardis/lib/python3.7/site-packages/astropy/units/equivalencies.py:124: RuntimeWarning:\n",
      "\n",
      "divide by zero encountered in double_scalars\n",
      "\n",
      " (\u001b[1mwarnings.py\u001b[0m:110)\n",
      "Running post-merge numba montecarlo (with C close lines)!\n",
      "[\u001b[1mtardis.simulation.base\u001b[0m][\u001b[1;37mINFO\u001b[0m   ]  Luminosity emitted = 1.30417e+43 erg / s Luminosity absorbed = 4.28820e+42 erg / s Luminosity requested = 1.05928e+43 erg / s (\u001b[1mbase.py\u001b[0m:438)\n",
      "[\u001b[1mtardis.simulation.base\u001b[0m][\u001b[1;37mINFO\u001b[0m   ]  Plasma stratification:\n",
      "\t              t_rad    next_t_rad         w    next_w\n",
      "\tShell                                                \n",
      "\t0      10570.856509  11533.554419  0.445926  0.494814\n",
      "\t5      10957.336276  11764.967895  0.162837  0.189464\n",
      "\t10     10916.410391  11444.191999  0.096229  0.121150\n",
      "\t15     10441.053929  11084.736033  0.075026  0.090825\n",
      "\n",
      " (\u001b[1mbase.py\u001b[0m:433)\n",
      "[\u001b[1mtardis.simulation.base\u001b[0m][\u001b[1;37mINFO\u001b[0m   ]  t_inner 11233.248 K -- next t_inner 10123.784 K (\u001b[1mbase.py\u001b[0m:434)\n",
      "[\u001b[1mtardis.simulation.base\u001b[0m][\u001b[1;37mINFO\u001b[0m   ]  Starting iteration 13/20 (\u001b[1mbase.py\u001b[0m:323)\n",
      "[\u001b[1mpy.warnings         \u001b[0m][\u001b[1;33mWARNING\u001b[0m]  /home/atharva/.conda/envs/tardis/lib/python3.7/site-packages/astropy/units/equivalencies.py:124: RuntimeWarning:\n",
      "\n",
      "divide by zero encountered in double_scalars\n",
      "\n",
      " (\u001b[1mwarnings.py\u001b[0m:110)\n",
      "Running post-merge numba montecarlo (with C close lines)!\n",
      "[\u001b[1mtardis.simulation.base\u001b[0m][\u001b[1;37mINFO\u001b[0m   ]  Luminosity emitted = 8.69244e+42 erg / s Luminosity absorbed = 2.74548e+42 erg / s Luminosity requested = 1.05928e+43 erg / s (\u001b[1mbase.py\u001b[0m:438)\n",
      "[\u001b[1mtardis.simulation.base\u001b[0m][\u001b[1;37mINFO\u001b[0m   ]  Plasma stratification:\n",
      "\t              t_rad    next_t_rad         w    next_w\n",
      "\tShell                                                \n",
      "\t0      11533.554419  10680.784661  0.494814  0.439281\n",
      "\t5      11764.967895  10887.379428  0.189464  0.170137\n",
      "\t10     11444.191999  10825.792025  0.121150  0.100780\n",
      "\t15     11084.736033  10402.120228  0.090825  0.077634\n",
      "\n",
      " (\u001b[1mbase.py\u001b[0m:433)\n",
      "[\u001b[1mtardis.simulation.base\u001b[0m][\u001b[1;37mINFO\u001b[0m   ]  t_inner 10123.784 K -- next t_inner 11175.750 K (\u001b[1mbase.py\u001b[0m:434)\n",
      "[\u001b[1mtardis.simulation.base\u001b[0m][\u001b[1;37mINFO\u001b[0m   ]  Starting iteration 14/20 (\u001b[1mbase.py\u001b[0m:323)\n",
      "[\u001b[1mpy.warnings         \u001b[0m][\u001b[1;33mWARNING\u001b[0m]  /home/atharva/.conda/envs/tardis/lib/python3.7/site-packages/astropy/units/equivalencies.py:124: RuntimeWarning:\n",
      "\n",
      "divide by zero encountered in double_scalars\n",
      "\n",
      " (\u001b[1mwarnings.py\u001b[0m:110)\n",
      "Running post-merge numba montecarlo (with C close lines)!\n",
      "[\u001b[1mtardis.simulation.base\u001b[0m][\u001b[1;37mINFO\u001b[0m   ]  Luminosity emitted = 1.28354e+43 erg / s Luminosity absorbed = 4.15095e+42 erg / s Luminosity requested = 1.05928e+43 erg / s (\u001b[1mbase.py\u001b[0m:438)\n",
      "[\u001b[1mtardis.simulation.base\u001b[0m][\u001b[1;37mINFO\u001b[0m   ]  Plasma stratification:\n",
      "\t              t_rad    next_t_rad         w    next_w\n",
      "\tShell                                                \n",
      "\t0      10680.784661  11437.188130  0.439281  0.496749\n",
      "\t5      10887.379428  11571.106856  0.170137  0.196714\n",
      "\t10     10825.792025  11378.137918  0.100780  0.120954\n",
      "\t15     10402.120228  10957.211814  0.077634  0.092896\n",
      "\n",
      " (\u001b[1mbase.py\u001b[0m:433)\n"
     ]
    },
    {
     "name": "stdout",
     "output_type": "stream",
     "text": [
      "[\u001b[1mtardis.simulation.base\u001b[0m][\u001b[1;37mINFO\u001b[0m   ]  t_inner 11175.750 K -- next t_inner 10152.603 K (\u001b[1mbase.py\u001b[0m:434)\n",
      "[\u001b[1mtardis.simulation.base\u001b[0m][\u001b[1;37mINFO\u001b[0m   ]  Starting iteration 15/20 (\u001b[1mbase.py\u001b[0m:323)\n",
      "[\u001b[1mpy.warnings         \u001b[0m][\u001b[1;33mWARNING\u001b[0m]  /home/atharva/.conda/envs/tardis/lib/python3.7/site-packages/astropy/units/equivalencies.py:124: RuntimeWarning:\n",
      "\n",
      "divide by zero encountered in double_scalars\n",
      "\n",
      " (\u001b[1mwarnings.py\u001b[0m:110)\n",
      "Running post-merge numba montecarlo (with C close lines)!\n",
      "[\u001b[1mtardis.simulation.base\u001b[0m][\u001b[1;37mINFO\u001b[0m   ]  Luminosity emitted = 8.75331e+42 erg / s Luminosity absorbed = 2.81319e+42 erg / s Luminosity requested = 1.05928e+43 erg / s (\u001b[1mbase.py\u001b[0m:438)\n",
      "[\u001b[1mtardis.simulation.base\u001b[0m][\u001b[1;37mINFO\u001b[0m   ]  Plasma stratification:\n",
      "\t              t_rad    next_t_rad         w    next_w\n",
      "\tShell                                                \n",
      "\t0      11437.188130  10637.774893  0.496749  0.452668\n",
      "\t5      11571.106856  11002.647927  0.196714  0.166197\n",
      "\t10     11378.137918  10832.042108  0.120954  0.101284\n",
      "\t15     10957.211814  10350.602742  0.092896  0.079468\n",
      "\n",
      " (\u001b[1mbase.py\u001b[0m:433)\n",
      "[\u001b[1mtardis.simulation.base\u001b[0m][\u001b[1;37mINFO\u001b[0m   ]  t_inner 10152.603 K -- next t_inner 11168.529 K (\u001b[1mbase.py\u001b[0m:434)\n",
      "[\u001b[1mtardis.simulation.base\u001b[0m][\u001b[1;37mINFO\u001b[0m   ]  Starting iteration 16/20 (\u001b[1mbase.py\u001b[0m:323)\n",
      "[\u001b[1mpy.warnings         \u001b[0m][\u001b[1;33mWARNING\u001b[0m]  /home/atharva/.conda/envs/tardis/lib/python3.7/site-packages/astropy/units/equivalencies.py:124: RuntimeWarning:\n",
      "\n",
      "divide by zero encountered in double_scalars\n",
      "\n",
      " (\u001b[1mwarnings.py\u001b[0m:110)\n",
      "Running post-merge numba montecarlo (with C close lines)!\n",
      "[\u001b[1mtardis.simulation.base\u001b[0m][\u001b[1;37mINFO\u001b[0m   ]  Luminosity emitted = 1.27820e+43 erg / s Luminosity absorbed = 4.15606e+42 erg / s Luminosity requested = 1.05928e+43 erg / s (\u001b[1mbase.py\u001b[0m:438)\n",
      "[\u001b[1mtardis.simulation.base\u001b[0m][\u001b[1;37mINFO\u001b[0m   ]  Plasma stratification:\n",
      "\t              t_rad    next_t_rad         w    next_w\n",
      "\tShell                                                \n",
      "\t0      10637.774893  11420.979987  0.452668  0.499488\n",
      "\t5      11002.647927  11711.923994  0.166197  0.186857\n",
      "\t10     10832.042108  11421.346118  0.101284  0.119700\n",
      "\t15     10350.602742  11076.434180  0.079468  0.089402\n",
      "\n",
      " (\u001b[1mbase.py\u001b[0m:433)\n",
      "[\u001b[1mtardis.simulation.base\u001b[0m][\u001b[1;37mINFO\u001b[0m   ]  t_inner 11168.529 K -- next t_inner 10167.208 K (\u001b[1mbase.py\u001b[0m:434)\n",
      "[\u001b[1mtardis.simulation.base\u001b[0m][\u001b[1;37mINFO\u001b[0m   ]  Starting iteration 17/20 (\u001b[1mbase.py\u001b[0m:323)\n",
      "[\u001b[1mpy.warnings         \u001b[0m][\u001b[1;33mWARNING\u001b[0m]  /home/atharva/.conda/envs/tardis/lib/python3.7/site-packages/astropy/units/equivalencies.py:124: RuntimeWarning:\n",
      "\n",
      "divide by zero encountered in double_scalars\n",
      "\n",
      " (\u001b[1mwarnings.py\u001b[0m:110)\n",
      "Running post-merge numba montecarlo (with C close lines)!\n",
      "[\u001b[1mtardis.simulation.base\u001b[0m][\u001b[1;37mINFO\u001b[0m   ]  Luminosity emitted = 8.81647e+42 erg / s Luminosity absorbed = 2.81681e+42 erg / s Luminosity requested = 1.05928e+43 erg / s (\u001b[1mbase.py\u001b[0m:438)\n",
      "[\u001b[1mtardis.simulation.base\u001b[0m][\u001b[1;37mINFO\u001b[0m   ]  Plasma stratification:\n",
      "\t              t_rad    next_t_rad         w    next_w\n",
      "\tShell                                                \n",
      "\t0      11420.979987  10691.849845  0.499488  0.447482\n",
      "\t5      11711.923994  11042.045712  0.186857  0.164090\n",
      "\t10     11421.346118  10980.886609  0.119700  0.097369\n",
      "\t15     11076.434180  10456.662007  0.089402  0.077097\n",
      "\n",
      " (\u001b[1mbase.py\u001b[0m:433)\n",
      "[\u001b[1mtardis.simulation.base\u001b[0m][\u001b[1;37mINFO\u001b[0m   ]  t_inner 10167.208 K -- next t_inner 11144.459 K (\u001b[1mbase.py\u001b[0m:434)\n",
      "[\u001b[1mtardis.simulation.base\u001b[0m][\u001b[1;37mINFO\u001b[0m   ]  Starting iteration 18/20 (\u001b[1mbase.py\u001b[0m:323)\n",
      "[\u001b[1mpy.warnings         \u001b[0m][\u001b[1;33mWARNING\u001b[0m]  /home/atharva/.conda/envs/tardis/lib/python3.7/site-packages/astropy/units/equivalencies.py:124: RuntimeWarning:\n",
      "\n",
      "divide by zero encountered in double_scalars\n",
      "\n",
      " (\u001b[1mwarnings.py\u001b[0m:110)\n",
      "Running post-merge numba montecarlo (with C close lines)!\n",
      "[\u001b[1mtardis.simulation.base\u001b[0m][\u001b[1;37mINFO\u001b[0m   ]  Luminosity emitted = 1.26680e+43 erg / s Luminosity absorbed = 4.12238e+42 erg / s Luminosity requested = 1.05928e+43 erg / s (\u001b[1mbase.py\u001b[0m:438)\n",
      "[\u001b[1mtardis.simulation.base\u001b[0m][\u001b[1;37mINFO\u001b[0m   ]  Plasma stratification:\n",
      "\t              t_rad    next_t_rad         w    next_w\n",
      "\tShell                                                \n",
      "\t0      10691.849845  11404.686443  0.447482  0.497739\n",
      "\t5      11042.045712  11664.227712  0.164090  0.189070\n",
      "\t10     10980.886609  11444.220669  0.097369  0.117732\n",
      "\t15     10456.662007  11052.698087  0.077097  0.089141\n",
      "\n",
      " (\u001b[1mbase.py\u001b[0m:433)\n",
      "[\u001b[1mtardis.simulation.base\u001b[0m][\u001b[1;37mINFO\u001b[0m   ]  t_inner 11144.459 K -- next t_inner 10190.841 K (\u001b[1mbase.py\u001b[0m:434)\n",
      "[\u001b[1mtardis.simulation.base\u001b[0m][\u001b[1;37mINFO\u001b[0m   ]  Starting iteration 19/20 (\u001b[1mbase.py\u001b[0m:323)\n",
      "[\u001b[1mpy.warnings         \u001b[0m][\u001b[1;33mWARNING\u001b[0m]  /home/atharva/.conda/envs/tardis/lib/python3.7/site-packages/astropy/units/equivalencies.py:124: RuntimeWarning:\n",
      "\n",
      "divide by zero encountered in double_scalars\n",
      "\n",
      " (\u001b[1mwarnings.py\u001b[0m:110)\n",
      "Running post-merge numba montecarlo (with C close lines)!\n",
      "[\u001b[1mtardis.simulation.base\u001b[0m][\u001b[1;37mINFO\u001b[0m   ]  Luminosity emitted = 8.87081e+42 erg / s Luminosity absorbed = 2.87116e+42 erg / s Luminosity requested = 1.05928e+43 erg / s (\u001b[1mbase.py\u001b[0m:438)\n",
      "[\u001b[1mtardis.simulation.base\u001b[0m][\u001b[1;37mINFO\u001b[0m   ]  Plasma stratification:\n",
      "\t              t_rad    next_t_rad         w    next_w\n",
      "\tShell                                                \n",
      "\t0      11404.686443  10732.832306  0.497739  0.444436\n",
      "\t5      11664.227712  11084.302807  0.189070  0.162591\n",
      "\t10     11444.220669  10899.736539  0.117732  0.099122\n",
      "\t15     11052.698087  10465.941519  0.089141  0.077378\n",
      "\n",
      " (\u001b[1mbase.py\u001b[0m:433)\n",
      "[\u001b[1mtardis.simulation.base\u001b[0m][\u001b[1;37mINFO\u001b[0m   ]  t_inner 10190.841 K -- next t_inner 11136.097 K (\u001b[1mbase.py\u001b[0m:434)\n",
      "[\u001b[1mtardis.simulation.base\u001b[0m][\u001b[1;37mINFO\u001b[0m   ]  Starting iteration 20/20 (\u001b[1mbase.py\u001b[0m:323)\n",
      "[\u001b[1mpy.warnings         \u001b[0m][\u001b[1;33mWARNING\u001b[0m]  /home/atharva/.conda/envs/tardis/lib/python3.7/site-packages/astropy/units/equivalencies.py:124: RuntimeWarning:\n",
      "\n",
      "divide by zero encountered in double_scalars\n",
      "\n",
      " (\u001b[1mwarnings.py\u001b[0m:110)\n",
      "Running post-merge numba montecarlo (with C close lines)!\n",
      "[\u001b[1mtardis.simulation.base\u001b[0m][\u001b[1;37mINFO\u001b[0m   ]  Luminosity emitted = 1.26319e+43 erg / s Luminosity absorbed = 4.10706e+42 erg / s Luminosity requested = 1.05928e+43 erg / s (\u001b[1mbase.py\u001b[0m:438)\n",
      "[\u001b[1mtardis.simulation.base\u001b[0m][\u001b[1;37mINFO\u001b[0m   ]  Simulation finished in 20 iterations and took 33.50 s (\u001b[1mbase.py\u001b[0m:381)\n"
     ]
    }
   ],
   "source": [
    "sim = run_tardis('tardis_example.yml', \n",
    "                 simulation_callbacks=[[update_traces]])"
   ]
  },
  {
   "cell_type": "code",
   "execution_count": 9,
   "id": "a719878a",
   "metadata": {
    "scrolled": false
   },
   "outputs": [
    {
     "data": {
      "application/vnd.jupyter.widget-view+json": {
       "model_id": "e44a98bbfcfb460ab261e38c4dfb3502",
       "version_major": 2,
       "version_minor": 0
      },
      "text/plain": [
       "VBox(children=(Output(), Output()))"
      ]
     },
     "metadata": {},
     "output_type": "display_data"
    }
   ],
   "source": [
    "plasma_fig_out = widgets.Output()\n",
    "lum_fig_out = widgets.Output()\n",
    "widgets.VBox([plasma_fig_out, lum_fig_out])"
   ]
  },
  {
   "cell_type": "code",
   "execution_count": 10,
   "id": "0b9e4a66",
   "metadata": {},
   "outputs": [],
   "source": [
    "with plasma_fig_out:\n",
    "    plasma_fig.show(renderer = \"notebook_connected\")\n",
    "with lum_fig_out:\n",
    "    luminosity_fig.show(renderer = \"notebook_connected\")"
   ]
  },
  {
   "cell_type": "code",
   "execution_count": 11,
   "id": "be84f6d6",
   "metadata": {},
   "outputs": [],
   "source": [
    "# sharing notebooks take 2\n"
   ]
  },
  {
   "cell_type": "code",
   "execution_count": null,
   "id": "d2ca29a7",
   "metadata": {},
   "outputs": [],
   "source": []
  }
 ],
 "metadata": {
  "kernelspec": {
   "display_name": "Python 3",
   "language": "python",
   "name": "python3"
  },
  "language_info": {
   "codemirror_mode": {
    "name": "ipython",
    "version": 3
   },
   "file_extension": ".py",
   "mimetype": "text/x-python",
   "name": "python",
   "nbconvert_exporter": "python",
   "pygments_lexer": "ipython3",
   "version": "3.7.10"
  },
  "widgets": {
   "application/vnd.jupyter.widget-state+json": {
    "state": {
     "04315963351d4ac19e3fa754d0a23b75": {
      "model_module": "@jupyter-widgets/output",
      "model_module_version": "1.0.0",
      "model_name": "OutputModel",
      "state": {
       "layout": "IPY_MODEL_7dcd6ab1686a463eaadb337e507419eb",
       "outputs": [
        {
         "data": {
          "text/html": "        <script type=\"text/javascript\">\n        window.PlotlyConfig = {MathJaxConfig: 'local'};\n        if (window.MathJax) {MathJax.Hub.Config({SVG: {font: \"STIX-Web\"}});}\n        if (typeof require !== 'undefined') {\n        require.undef(\"plotly\");\n        requirejs.config({\n            paths: {\n                'plotly': ['https://cdn.plot.ly/plotly-latest.min']\n            }\n        });\n        require(['plotly'], function(Plotly) {\n            window._Plotly = Plotly;\n        });\n        }\n        </script>\n        "
         },
         "metadata": {},
         "output_type": "display_data"
        },
        {
         "data": {
          "text/html": "<div>                            <div id=\"94af4e48-a34b-4033-9d80-605c20e66aa0\" class=\"plotly-graph-div\" style=\"height:600px; width:100%;\"></div>            <script type=\"text/javascript\">                require([\"plotly\"], function(Plotly) {                    window.PLOTLYENV=window.PLOTLYENV || {};                                    if (document.getElementById(\"94af4e48-a34b-4033-9d80-605c20e66aa0\")) {                    Plotly.newPlot(                        \"94af4e48-a34b-4033-9d80-605c20e66aa0\",                        [{\"hovertemplate\": \"<b>%{y:.2g}</b><br>at X = %{x}<br>\", \"legendgroup\": \"Emitted\", \"marker\": {\"color\": \"orangered\"}, \"mode\": \"lines\", \"name\": \"Emitted<br>Luminosity\", \"opacity\": 0.6, \"type\": \"scatter\", \"uid\": \"c17b7678-eb88-40f1-9a85-8d65d468f8d5\", \"x\": [1, 2, 3, 4, 5, 6, 7, 8, 9, 10, 11, 12, 13, 14, 15, 16, 17, 18, 19, 20], \"xaxis\": \"x2\", \"y\": [7.942750742981396e+42, 1.4081455093985728e+43, 8.126235743016503e+42, 1.3629660449563156e+43, 8.27894586347348e+42, 1.3474141886349227e+43, 8.390011483383557e+42, 1.3330505521644895e+43, 8.442830540796857e+42, 1.3292513146988894e+43, 8.494974137074282e+42, 1.3041701729221733e+43, 8.692438378058671e+42, 1.2835355197638404e+43, 8.753305281326621e+42, 1.2781970592598386e+43, 8.816470048071725e+42, 1.2667974995662812e+43, 8.870810439340542e+42, 1.263194391778655e+43], \"yaxis\": \"y2\"}, {\"hovertemplate\": \"<b>%{y:.2g}</b><br>at X = %{x}<br>\", \"legendgroup\": \"Absorbed\", \"marker\": {\"color\": \"lightseagreen\"}, \"mode\": \"lines\", \"name\": \"Absorbed<br>Luminosity\", \"opacity\": 0.6, \"type\": \"scatter\", \"uid\": \"643b6d75-2fe9-4b23-a217-f9dcfd5ed757\", \"x\": [1, 2, 3, 4, 5, 6, 7, 8, 9, 10, 11, 12, 13, 14, 15, 16, 17, 18, 19, 20], \"xaxis\": \"x2\", \"y\": [2.65804673153204e+42, 4.7700146052642123e+42, 2.5472229968140377e+42, 4.4972113694812525e+42, 2.6693301209933358e+42, 4.447266267261236e+42, 2.6922956553053436e+42, 4.330110768371945e+42, 2.7089402928209043e+42, 4.25943386711989e+42, 2.6561585210602605e+42, 4.288201956309693e+42, 2.7454765674505417e+42, 4.1509531498402554e+42, 2.813186401660242e+42, 4.156064515611499e+42, 2.816811651728025e+42, 4.122377281630377e+42, 2.8711648018363005e+42, 4.1070578782802735e+42], \"yaxis\": \"y2\"}, {\"hovertemplate\": \"<b>%{y:.2g}</b><br>at X = %{x}<br>\", \"legendgroup\": \"Requested\", \"marker\": {\"color\": \"indigo\"}, \"mode\": \"lines\", \"name\": \"Requested<br>Luminosity\", \"opacity\": 0.6, \"type\": \"scatter\", \"uid\": \"ff706aca-48b4-4073-9386-c76a8e0eff24\", \"x\": [1, 2, 3, 4, 5, 6, 7, 8, 9, 10, 11, 12, 13, 14, 15, 16, 17, 18, 19, 20], \"xaxis\": \"x2\", \"y\": [1.0592763593038458e+43, 1.0592763593038458e+43, 1.0592763593038458e+43, 1.0592763593038458e+43, 1.0592763593038458e+43, 1.0592763593038458e+43, 1.0592763593038458e+43, 1.0592763593038458e+43, 1.0592763593038458e+43, 1.0592763593038458e+43, 1.0592763593038458e+43, 1.0592763593038458e+43, 1.0592763593038458e+43, 1.0592763593038458e+43, 1.0592763593038458e+43, 1.0592763593038458e+43, 1.0592763593038458e+43, 1.0592763593038458e+43, 1.0592763593038458e+43, 1.0592763593038458e+43], \"yaxis\": \"y2\"}, {\"hovertemplate\": \"Residual Luminosity: %{y:.2f}% at X = %{x:,.0f}<extra></extra>\", \"marker\": {\"color\": \"cornflowerblue\"}, \"mode\": \"lines\", \"name\": \"Residual<br>Luminosity\", \"opacity\": 0.7, \"type\": \"scatter\", \"uid\": \"b8d5853f-3292-4639-9ffc-7c543a8aeac2\", \"x\": [1, 2, 3, 4, 5, 6, 7, 8, 9, 10, 11, 12, 13, 14, 15, 16, 17, 18, 19, 20], \"xaxis\": \"x3\", \"y\": [-25.017199966575717, 32.934667806992614, -23.285026880454048, 28.669542465013958, -21.843381184166276, 27.201383925951156, -20.794876524031412, 25.84539817735266, -20.296243122564654, 25.486734696172267, -19.80398634916046, 23.118972822094438, -17.939843538363082, 21.170977572592793, -17.3652351962308, 20.667005171329144, -16.76893408755113, 19.590840335454846, -16.2559386752441, 19.250692294202032], \"yaxis\": \"y3\"}, {\"hovertemplate\": \"Next Inner Body Temperature: %{y:.2f} at X = %{x:,.0f}<extra></extra>\", \"marker\": {\"color\": \"crimson\"}, \"mode\": \"lines\", \"name\": \"Next Inner<br>Boundary<br>Temperature\", \"opacity\": 0.7, \"type\": \"scatter\", \"uid\": \"73346c29-6f57-4135-b3e7-03f67c234763\", \"x\": [1, 2, 3, 4, 5, 6, 7, 8, 9, 10, 11, 12, 13, 14, 15, 16, 17, 18, 19, 20], \"xaxis\": \"x\", \"y\": [11472.055253129645, 9949.977592596559, 11360.096854261606, 10014.843240243388, 11328.209558951534, 10044.200101537022, 11285.965504372467, 10060.511200596067, 11268.87736423254, 10059.623883542255, 11233.248147773367, 10123.783777872188, 11175.750322790715, 10152.602547328883, 11168.529280894094, 10167.208273207052, 11144.459025959051, 10190.841172561493, 11136.097470940847, 11136.097470940847], \"yaxis\": \"y\"}],                        {\"height\": 600, \"hidesources\": true, \"hoverlabel\": {\"align\": \"right\", \"font\": {\"color\": \"white\"}}, \"legend\": {\"title\": {\"text\": \"Luminosity\"}, \"tracegroupgap\": 0}, \"margin\": {\"b\": 10, \"l\": 10, \"pad\": 0, \"r\": 10, \"t\": 25}, \"template\": {\"data\": {\"bar\": [{\"error_x\": {\"color\": \"#2a3f5f\"}, \"error_y\": {\"color\": \"#2a3f5f\"}, \"marker\": {\"line\": {\"color\": \"#E5ECF6\", \"width\": 0.5}}, \"type\": \"bar\"}], \"barpolar\": [{\"marker\": {\"line\": {\"color\": \"#E5ECF6\", \"width\": 0.5}}, \"type\": \"barpolar\"}], \"carpet\": [{\"aaxis\": {\"endlinecolor\": \"#2a3f5f\", \"gridcolor\": \"white\", \"linecolor\": \"white\", \"minorgridcolor\": \"white\", \"startlinecolor\": \"#2a3f5f\"}, \"baxis\": {\"endlinecolor\": \"#2a3f5f\", \"gridcolor\": \"white\", \"linecolor\": \"white\", \"minorgridcolor\": \"white\", \"startlinecolor\": \"#2a3f5f\"}, \"type\": \"carpet\"}], \"choropleth\": [{\"colorbar\": {\"outlinewidth\": 0, \"ticks\": \"\"}, \"type\": \"choropleth\"}], \"contour\": [{\"colorbar\": {\"outlinewidth\": 0, \"ticks\": \"\"}, \"colorscale\": [[0.0, \"#0d0887\"], [0.1111111111111111, \"#46039f\"], [0.2222222222222222, \"#7201a8\"], [0.3333333333333333, \"#9c179e\"], [0.4444444444444444, \"#bd3786\"], [0.5555555555555556, \"#d8576b\"], [0.6666666666666666, \"#ed7953\"], [0.7777777777777778, \"#fb9f3a\"], [0.8888888888888888, \"#fdca26\"], [1.0, \"#f0f921\"]], \"type\": \"contour\"}], \"contourcarpet\": [{\"colorbar\": {\"outlinewidth\": 0, \"ticks\": \"\"}, \"type\": \"contourcarpet\"}], \"heatmap\": [{\"colorbar\": {\"outlinewidth\": 0, \"ticks\": \"\"}, \"colorscale\": [[0.0, \"#0d0887\"], [0.1111111111111111, \"#46039f\"], [0.2222222222222222, \"#7201a8\"], [0.3333333333333333, \"#9c179e\"], [0.4444444444444444, \"#bd3786\"], [0.5555555555555556, \"#d8576b\"], [0.6666666666666666, \"#ed7953\"], [0.7777777777777778, \"#fb9f3a\"], [0.8888888888888888, \"#fdca26\"], [1.0, \"#f0f921\"]], \"type\": \"heatmap\"}], \"heatmapgl\": [{\"colorbar\": {\"outlinewidth\": 0, \"ticks\": \"\"}, \"colorscale\": [[0.0, \"#0d0887\"], [0.1111111111111111, \"#46039f\"], [0.2222222222222222, \"#7201a8\"], [0.3333333333333333, \"#9c179e\"], [0.4444444444444444, \"#bd3786\"], [0.5555555555555556, \"#d8576b\"], [0.6666666666666666, \"#ed7953\"], [0.7777777777777778, \"#fb9f3a\"], [0.8888888888888888, \"#fdca26\"], [1.0, \"#f0f921\"]], \"type\": \"heatmapgl\"}], \"histogram\": [{\"marker\": {\"colorbar\": {\"outlinewidth\": 0, \"ticks\": \"\"}}, \"type\": \"histogram\"}], \"histogram2d\": [{\"colorbar\": {\"outlinewidth\": 0, \"ticks\": \"\"}, \"colorscale\": [[0.0, \"#0d0887\"], [0.1111111111111111, \"#46039f\"], [0.2222222222222222, \"#7201a8\"], [0.3333333333333333, \"#9c179e\"], [0.4444444444444444, \"#bd3786\"], [0.5555555555555556, \"#d8576b\"], [0.6666666666666666, \"#ed7953\"], [0.7777777777777778, \"#fb9f3a\"], [0.8888888888888888, \"#fdca26\"], [1.0, \"#f0f921\"]], \"type\": \"histogram2d\"}], \"histogram2dcontour\": [{\"colorbar\": {\"outlinewidth\": 0, \"ticks\": \"\"}, \"colorscale\": [[0.0, \"#0d0887\"], [0.1111111111111111, \"#46039f\"], [0.2222222222222222, \"#7201a8\"], [0.3333333333333333, \"#9c179e\"], [0.4444444444444444, \"#bd3786\"], [0.5555555555555556, \"#d8576b\"], [0.6666666666666666, \"#ed7953\"], [0.7777777777777778, \"#fb9f3a\"], [0.8888888888888888, \"#fdca26\"], [1.0, \"#f0f921\"]], \"type\": \"histogram2dcontour\"}], \"mesh3d\": [{\"colorbar\": {\"outlinewidth\": 0, \"ticks\": \"\"}, \"type\": \"mesh3d\"}], \"parcoords\": [{\"line\": {\"colorbar\": {\"outlinewidth\": 0, \"ticks\": \"\"}}, \"type\": \"parcoords\"}], \"pie\": [{\"automargin\": true, \"type\": \"pie\"}], \"scatter\": [{\"marker\": {\"colorbar\": {\"outlinewidth\": 0, \"ticks\": \"\"}}, \"type\": \"scatter\"}], \"scatter3d\": [{\"line\": {\"colorbar\": {\"outlinewidth\": 0, \"ticks\": \"\"}}, \"marker\": {\"colorbar\": {\"outlinewidth\": 0, \"ticks\": \"\"}}, \"type\": \"scatter3d\"}], \"scattercarpet\": [{\"marker\": {\"colorbar\": {\"outlinewidth\": 0, \"ticks\": \"\"}}, \"type\": \"scattercarpet\"}], \"scattergeo\": [{\"marker\": {\"colorbar\": {\"outlinewidth\": 0, \"ticks\": \"\"}}, \"type\": \"scattergeo\"}], \"scattergl\": [{\"marker\": {\"colorbar\": {\"outlinewidth\": 0, \"ticks\": \"\"}}, \"type\": \"scattergl\"}], \"scattermapbox\": [{\"marker\": {\"colorbar\": {\"outlinewidth\": 0, \"ticks\": \"\"}}, \"type\": \"scattermapbox\"}], \"scatterpolar\": [{\"marker\": {\"colorbar\": {\"outlinewidth\": 0, \"ticks\": \"\"}}, \"type\": \"scatterpolar\"}], \"scatterpolargl\": [{\"marker\": {\"colorbar\": {\"outlinewidth\": 0, \"ticks\": \"\"}}, \"type\": \"scatterpolargl\"}], \"scatterternary\": [{\"marker\": {\"colorbar\": {\"outlinewidth\": 0, \"ticks\": \"\"}}, \"type\": \"scatterternary\"}], \"surface\": [{\"colorbar\": {\"outlinewidth\": 0, \"ticks\": \"\"}, \"colorscale\": [[0.0, \"#0d0887\"], [0.1111111111111111, \"#46039f\"], [0.2222222222222222, \"#7201a8\"], [0.3333333333333333, \"#9c179e\"], [0.4444444444444444, \"#bd3786\"], [0.5555555555555556, \"#d8576b\"], [0.6666666666666666, \"#ed7953\"], [0.7777777777777778, \"#fb9f3a\"], [0.8888888888888888, \"#fdca26\"], [1.0, \"#f0f921\"]], \"type\": \"surface\"}], \"table\": [{\"cells\": {\"fill\": {\"color\": \"#EBF0F8\"}, \"line\": {\"color\": \"white\"}}, \"header\": {\"fill\": {\"color\": \"#C8D4E3\"}, \"line\": {\"color\": \"white\"}}, \"type\": \"table\"}]}, \"layout\": {\"annotationdefaults\": {\"arrowcolor\": \"#2a3f5f\", \"arrowhead\": 0, \"arrowwidth\": 1}, \"autotypenumbers\": \"strict\", \"coloraxis\": {\"colorbar\": {\"outlinewidth\": 0, \"ticks\": \"\"}}, \"colorscale\": {\"diverging\": [[0, \"#8e0152\"], [0.1, \"#c51b7d\"], [0.2, \"#de77ae\"], [0.3, \"#f1b6da\"], [0.4, \"#fde0ef\"], [0.5, \"#f7f7f7\"], [0.6, \"#e6f5d0\"], [0.7, \"#b8e186\"], [0.8, \"#7fbc41\"], [0.9, \"#4d9221\"], [1, \"#276419\"]], \"sequential\": [[0.0, \"#0d0887\"], [0.1111111111111111, \"#46039f\"], [0.2222222222222222, \"#7201a8\"], [0.3333333333333333, \"#9c179e\"], [0.4444444444444444, \"#bd3786\"], [0.5555555555555556, \"#d8576b\"], [0.6666666666666666, \"#ed7953\"], [0.7777777777777778, \"#fb9f3a\"], [0.8888888888888888, \"#fdca26\"], [1.0, \"#f0f921\"]], \"sequentialminus\": [[0.0, \"#0d0887\"], [0.1111111111111111, \"#46039f\"], [0.2222222222222222, \"#7201a8\"], [0.3333333333333333, \"#9c179e\"], [0.4444444444444444, \"#bd3786\"], [0.5555555555555556, \"#d8576b\"], [0.6666666666666666, \"#ed7953\"], [0.7777777777777778, \"#fb9f3a\"], [0.8888888888888888, \"#fdca26\"], [1.0, \"#f0f921\"]]}, \"colorway\": [\"#636efa\", \"#EF553B\", \"#00cc96\", \"#ab63fa\", \"#FFA15A\", \"#19d3f3\", \"#FF6692\", \"#B6E880\", \"#FF97FF\", \"#FECB52\"], \"font\": {\"color\": \"#2a3f5f\"}, \"geo\": {\"bgcolor\": \"white\", \"lakecolor\": \"white\", \"landcolor\": \"#E5ECF6\", \"showlakes\": true, \"showland\": true, \"subunitcolor\": \"white\"}, \"hoverlabel\": {\"align\": \"left\"}, \"hovermode\": \"closest\", \"mapbox\": {\"style\": \"light\"}, \"paper_bgcolor\": \"white\", \"plot_bgcolor\": \"#E5ECF6\", \"polar\": {\"angularaxis\": {\"gridcolor\": \"white\", \"linecolor\": \"white\", \"ticks\": \"\"}, \"bgcolor\": \"#E5ECF6\", \"radialaxis\": {\"gridcolor\": \"white\", \"linecolor\": \"white\", \"ticks\": \"\"}}, \"scene\": {\"xaxis\": {\"backgroundcolor\": \"#E5ECF6\", \"gridcolor\": \"white\", \"gridwidth\": 2, \"linecolor\": \"white\", \"showbackground\": true, \"ticks\": \"\", \"zerolinecolor\": \"white\"}, \"yaxis\": {\"backgroundcolor\": \"#E5ECF6\", \"gridcolor\": \"white\", \"gridwidth\": 2, \"linecolor\": \"white\", \"showbackground\": true, \"ticks\": \"\", \"zerolinecolor\": \"white\"}, \"zaxis\": {\"backgroundcolor\": \"#E5ECF6\", \"gridcolor\": \"white\", \"gridwidth\": 2, \"linecolor\": \"white\", \"showbackground\": true, \"ticks\": \"\", \"zerolinecolor\": \"white\"}}, \"shapedefaults\": {\"line\": {\"color\": \"#2a3f5f\"}}, \"ternary\": {\"aaxis\": {\"gridcolor\": \"white\", \"linecolor\": \"white\", \"ticks\": \"\"}, \"baxis\": {\"gridcolor\": \"white\", \"linecolor\": \"white\", \"ticks\": \"\"}, \"bgcolor\": \"#E5ECF6\", \"caxis\": {\"gridcolor\": \"white\", \"linecolor\": \"white\", \"ticks\": \"\"}}, \"title\": {\"x\": 0.05}, \"xaxis\": {\"automargin\": true, \"gridcolor\": \"white\", \"linecolor\": \"white\", \"ticks\": \"\", \"title\": {\"standoff\": 15}, \"zerolinecolor\": \"white\", \"zerolinewidth\": 2}, \"yaxis\": {\"automargin\": true, \"gridcolor\": \"white\", \"linecolor\": \"white\", \"ticks\": \"\", \"title\": {\"standoff\": 15}, \"zerolinecolor\": \"white\", \"zerolinewidth\": 2}}}, \"xaxis\": {\"anchor\": \"y\", \"domain\": [0.0, 1.0], \"dtick\": 2, \"matches\": \"x3\", \"range\": [0, 21], \"showticklabels\": false}, \"xaxis2\": {\"anchor\": \"y2\", \"domain\": [0.0, 1.0], \"dtick\": 2, \"matches\": \"x\", \"range\": [0, 21], \"showticklabels\": false}, \"xaxis3\": {\"anchor\": \"y3\", \"domain\": [0.0, 1.0], \"dtick\": 2, \"matches\": \"x\", \"title\": {\"text\": \"$\\\\mbox{Iteration Number}$\"}}, \"yaxis\": {\"anchor\": \"x\", \"automargin\": true, \"domain\": [0.865, 1.0], \"exponentformat\": \"e\", \"side\": \"top\", \"tickformat\": \"g\", \"title\": {\"text\": \"$\\\\mbox{T}_{inner}$\"}}, \"yaxis2\": {\"anchor\": \"x2\", \"automargin\": true, \"domain\": [0.185, 0.815], \"exponentformat\": \"e\", \"title\": {\"font\": {\"size\": 13}, \"text\": \"$\\\\mbox{Luminosity}~(erg~sec^{-1})$\"}}, \"yaxis3\": {\"anchor\": \"x3\", \"automargin\": true, \"domain\": [0.0, 0.135], \"exponentformat\": \"e\", \"title\": {\"font\": {\"size\": 12}, \"text\": \"$~~\\\\mbox{Residual}\\\\\\\\\\\\mbox{Luminosity(%)}$\"}}},                        {\"responsive\": true}                    ).then(function(){\n                            \nvar gd = document.getElementById('94af4e48-a34b-4033-9d80-605c20e66aa0');\nvar x = new MutationObserver(function (mutations, observer) {{\n        var display = window.getComputedStyle(gd).display;\n        if (!display || display === 'none') {{\n            console.log([gd, 'removed!']);\n            Plotly.purge(gd);\n            observer.disconnect();\n        }}\n}});\n\n// Listen for the removal of the full notebook cells\nvar notebookContainer = gd.closest('#notebook-container');\nif (notebookContainer) {{\n    x.observe(notebookContainer, {childList: true});\n}}\n\n// Listen for the clearing of the current output cell\nvar outputEl = gd.closest('.output');\nif (outputEl) {{\n    x.observe(outputEl, {childList: true});\n}}\n\n                        })                };                });            </script>        </div>"
         },
         "metadata": {},
         "output_type": "display_data"
        },
        {
         "data": {
          "text/html": "        <script type=\"text/javascript\">\n        window.PlotlyConfig = {MathJaxConfig: 'local'};\n        if (window.MathJax) {MathJax.Hub.Config({SVG: {font: \"STIX-Web\"}});}\n        if (typeof require !== 'undefined') {\n        require.undef(\"plotly\");\n        requirejs.config({\n            paths: {\n                'plotly': ['https://cdn.plot.ly/plotly-latest.min']\n            }\n        });\n        require(['plotly'], function(Plotly) {\n            window._Plotly = Plotly;\n        });\n        }\n        </script>\n        "
         },
         "metadata": {},
         "output_type": "display_data"
        },
        {
         "data": {
          "text/html": "<div>                            <div id=\"a689211b-d6e3-4020-95e9-cc976e7e5557\" class=\"plotly-graph-div\" style=\"height:600px; width:100%;\"></div>            <script type=\"text/javascript\">                require([\"plotly\"], function(Plotly) {                    window.PLOTLYENV=window.PLOTLYENV || {};                                    if (document.getElementById(\"a689211b-d6e3-4020-95e9-cc976e7e5557\")) {                    Plotly.newPlot(                        \"a689211b-d6e3-4020-95e9-cc976e7e5557\",                        [{\"hovertemplate\": \"<b>%{y:.2g}</b><br>at X = %{x}<br>\", \"legendgroup\": \"Emitted\", \"marker\": {\"color\": \"orangered\"}, \"mode\": \"lines\", \"name\": \"Emitted<br>Luminosity\", \"opacity\": 0.6, \"type\": \"scatter\", \"uid\": \"c17b7678-eb88-40f1-9a85-8d65d468f8d5\", \"x\": [1, 2, 3, 4, 5, 6, 7, 8, 9, 10, 11, 12, 13, 14, 15, 16, 17, 18, 19, 20], \"xaxis\": \"x2\", \"y\": [7.942750742981396e+42, 1.4081455093985728e+43, 8.126235743016503e+42, 1.3629660449563156e+43, 8.27894586347348e+42, 1.3474141886349227e+43, 8.390011483383557e+42, 1.3330505521644895e+43, 8.442830540796857e+42, 1.3292513146988894e+43, 8.494974137074282e+42, 1.3041701729221733e+43, 8.692438378058671e+42, 1.2835355197638404e+43, 8.753305281326621e+42, 1.2781970592598386e+43, 8.816470048071725e+42, 1.2667974995662812e+43, 8.870810439340542e+42, 1.263194391778655e+43], \"yaxis\": \"y2\"}, {\"hovertemplate\": \"<b>%{y:.2g}</b><br>at X = %{x}<br>\", \"legendgroup\": \"Absorbed\", \"marker\": {\"color\": \"lightseagreen\"}, \"mode\": \"lines\", \"name\": \"Absorbed<br>Luminosity\", \"opacity\": 0.6, \"type\": \"scatter\", \"uid\": \"643b6d75-2fe9-4b23-a217-f9dcfd5ed757\", \"x\": [1, 2, 3, 4, 5, 6, 7, 8, 9, 10, 11, 12, 13, 14, 15, 16, 17, 18, 19, 20], \"xaxis\": \"x2\", \"y\": [2.65804673153204e+42, 4.7700146052642123e+42, 2.5472229968140377e+42, 4.4972113694812525e+42, 2.6693301209933358e+42, 4.447266267261236e+42, 2.6922956553053436e+42, 4.330110768371945e+42, 2.7089402928209043e+42, 4.25943386711989e+42, 2.6561585210602605e+42, 4.288201956309693e+42, 2.7454765674505417e+42, 4.1509531498402554e+42, 2.813186401660242e+42, 4.156064515611499e+42, 2.816811651728025e+42, 4.122377281630377e+42, 2.8711648018363005e+42, 4.1070578782802735e+42], \"yaxis\": \"y2\"}, {\"hovertemplate\": \"<b>%{y:.2g}</b><br>at X = %{x}<br>\", \"legendgroup\": \"Requested\", \"marker\": {\"color\": \"indigo\"}, \"mode\": \"lines\", \"name\": \"Requested<br>Luminosity\", \"opacity\": 0.6, \"type\": \"scatter\", \"uid\": \"ff706aca-48b4-4073-9386-c76a8e0eff24\", \"x\": [1, 2, 3, 4, 5, 6, 7, 8, 9, 10, 11, 12, 13, 14, 15, 16, 17, 18, 19, 20], \"xaxis\": \"x2\", \"y\": [1.0592763593038458e+43, 1.0592763593038458e+43, 1.0592763593038458e+43, 1.0592763593038458e+43, 1.0592763593038458e+43, 1.0592763593038458e+43, 1.0592763593038458e+43, 1.0592763593038458e+43, 1.0592763593038458e+43, 1.0592763593038458e+43, 1.0592763593038458e+43, 1.0592763593038458e+43, 1.0592763593038458e+43, 1.0592763593038458e+43, 1.0592763593038458e+43, 1.0592763593038458e+43, 1.0592763593038458e+43, 1.0592763593038458e+43, 1.0592763593038458e+43, 1.0592763593038458e+43], \"yaxis\": \"y2\"}, {\"hovertemplate\": \"Residual Luminosity: %{y:.2f}% at X = %{x:,.0f}<extra></extra>\", \"marker\": {\"color\": \"cornflowerblue\"}, \"mode\": \"lines\", \"name\": \"Residual<br>Luminosity\", \"opacity\": 0.7, \"type\": \"scatter\", \"uid\": \"b8d5853f-3292-4639-9ffc-7c543a8aeac2\", \"x\": [1, 2, 3, 4, 5, 6, 7, 8, 9, 10, 11, 12, 13, 14, 15, 16, 17, 18, 19, 20], \"xaxis\": \"x3\", \"y\": [-25.017199966575717, 32.934667806992614, -23.285026880454048, 28.669542465013958, -21.843381184166276, 27.201383925951156, -20.794876524031412, 25.84539817735266, -20.296243122564654, 25.486734696172267, -19.80398634916046, 23.118972822094438, -17.939843538363082, 21.170977572592793, -17.3652351962308, 20.667005171329144, -16.76893408755113, 19.590840335454846, -16.2559386752441, 19.250692294202032], \"yaxis\": \"y3\"}, {\"hovertemplate\": \"Next Inner Body Temperature: %{y:.2f} at X = %{x:,.0f}<extra></extra>\", \"marker\": {\"color\": \"crimson\"}, \"mode\": \"lines\", \"name\": \"Next Inner<br>Boundary<br>Temperature\", \"opacity\": 0.7, \"type\": \"scatter\", \"uid\": \"73346c29-6f57-4135-b3e7-03f67c234763\", \"x\": [1, 2, 3, 4, 5, 6, 7, 8, 9, 10, 11, 12, 13, 14, 15, 16, 17, 18, 19, 20], \"xaxis\": \"x\", \"y\": [11472.055253129645, 9949.977592596559, 11360.096854261606, 10014.843240243388, 11328.209558951534, 10044.200101537022, 11285.965504372467, 10060.511200596067, 11268.87736423254, 10059.623883542255, 11233.248147773367, 10123.783777872188, 11175.750322790715, 10152.602547328883, 11168.529280894094, 10167.208273207052, 11144.459025959051, 10190.841172561493, 11136.097470940847, 11136.097470940847], \"yaxis\": \"y\"}],                        {\"height\": 600, \"hidesources\": true, \"hoverlabel\": {\"align\": \"right\", \"font\": {\"color\": \"white\"}}, \"legend\": {\"title\": {\"text\": \"Luminosity\"}, \"tracegroupgap\": 0}, \"margin\": {\"b\": 10, \"l\": 10, \"pad\": 0, \"r\": 10, \"t\": 25}, \"template\": {\"data\": {\"bar\": [{\"error_x\": {\"color\": \"#2a3f5f\"}, \"error_y\": {\"color\": \"#2a3f5f\"}, \"marker\": {\"line\": {\"color\": \"#E5ECF6\", \"width\": 0.5}}, \"type\": \"bar\"}], \"barpolar\": [{\"marker\": {\"line\": {\"color\": \"#E5ECF6\", \"width\": 0.5}}, \"type\": \"barpolar\"}], \"carpet\": [{\"aaxis\": {\"endlinecolor\": \"#2a3f5f\", \"gridcolor\": \"white\", \"linecolor\": \"white\", \"minorgridcolor\": \"white\", \"startlinecolor\": \"#2a3f5f\"}, \"baxis\": {\"endlinecolor\": \"#2a3f5f\", \"gridcolor\": \"white\", \"linecolor\": \"white\", \"minorgridcolor\": \"white\", \"startlinecolor\": \"#2a3f5f\"}, \"type\": \"carpet\"}], \"choropleth\": [{\"colorbar\": {\"outlinewidth\": 0, \"ticks\": \"\"}, \"type\": \"choropleth\"}], \"contour\": [{\"colorbar\": {\"outlinewidth\": 0, \"ticks\": \"\"}, \"colorscale\": [[0.0, \"#0d0887\"], [0.1111111111111111, \"#46039f\"], [0.2222222222222222, \"#7201a8\"], [0.3333333333333333, \"#9c179e\"], [0.4444444444444444, \"#bd3786\"], [0.5555555555555556, \"#d8576b\"], [0.6666666666666666, \"#ed7953\"], [0.7777777777777778, \"#fb9f3a\"], [0.8888888888888888, \"#fdca26\"], [1.0, \"#f0f921\"]], \"type\": \"contour\"}], \"contourcarpet\": [{\"colorbar\": {\"outlinewidth\": 0, \"ticks\": \"\"}, \"type\": \"contourcarpet\"}], \"heatmap\": [{\"colorbar\": {\"outlinewidth\": 0, \"ticks\": \"\"}, \"colorscale\": [[0.0, \"#0d0887\"], [0.1111111111111111, \"#46039f\"], [0.2222222222222222, \"#7201a8\"], [0.3333333333333333, \"#9c179e\"], [0.4444444444444444, \"#bd3786\"], [0.5555555555555556, \"#d8576b\"], [0.6666666666666666, \"#ed7953\"], [0.7777777777777778, \"#fb9f3a\"], [0.8888888888888888, \"#fdca26\"], [1.0, \"#f0f921\"]], \"type\": \"heatmap\"}], \"heatmapgl\": [{\"colorbar\": {\"outlinewidth\": 0, \"ticks\": \"\"}, \"colorscale\": [[0.0, \"#0d0887\"], [0.1111111111111111, \"#46039f\"], [0.2222222222222222, \"#7201a8\"], [0.3333333333333333, \"#9c179e\"], [0.4444444444444444, \"#bd3786\"], [0.5555555555555556, \"#d8576b\"], [0.6666666666666666, \"#ed7953\"], [0.7777777777777778, \"#fb9f3a\"], [0.8888888888888888, \"#fdca26\"], [1.0, \"#f0f921\"]], \"type\": \"heatmapgl\"}], \"histogram\": [{\"marker\": {\"colorbar\": {\"outlinewidth\": 0, \"ticks\": \"\"}}, \"type\": \"histogram\"}], \"histogram2d\": [{\"colorbar\": {\"outlinewidth\": 0, \"ticks\": \"\"}, \"colorscale\": [[0.0, \"#0d0887\"], [0.1111111111111111, \"#46039f\"], [0.2222222222222222, \"#7201a8\"], [0.3333333333333333, \"#9c179e\"], [0.4444444444444444, \"#bd3786\"], [0.5555555555555556, \"#d8576b\"], [0.6666666666666666, \"#ed7953\"], [0.7777777777777778, \"#fb9f3a\"], [0.8888888888888888, \"#fdca26\"], [1.0, \"#f0f921\"]], \"type\": \"histogram2d\"}], \"histogram2dcontour\": [{\"colorbar\": {\"outlinewidth\": 0, \"ticks\": \"\"}, \"colorscale\": [[0.0, \"#0d0887\"], [0.1111111111111111, \"#46039f\"], [0.2222222222222222, \"#7201a8\"], [0.3333333333333333, \"#9c179e\"], [0.4444444444444444, \"#bd3786\"], [0.5555555555555556, \"#d8576b\"], [0.6666666666666666, \"#ed7953\"], [0.7777777777777778, \"#fb9f3a\"], [0.8888888888888888, \"#fdca26\"], [1.0, \"#f0f921\"]], \"type\": \"histogram2dcontour\"}], \"mesh3d\": [{\"colorbar\": {\"outlinewidth\": 0, \"ticks\": \"\"}, \"type\": \"mesh3d\"}], \"parcoords\": [{\"line\": {\"colorbar\": {\"outlinewidth\": 0, \"ticks\": \"\"}}, \"type\": \"parcoords\"}], \"pie\": [{\"automargin\": true, \"type\": \"pie\"}], \"scatter\": [{\"marker\": {\"colorbar\": {\"outlinewidth\": 0, \"ticks\": \"\"}}, \"type\": \"scatter\"}], \"scatter3d\": [{\"line\": {\"colorbar\": {\"outlinewidth\": 0, \"ticks\": \"\"}}, \"marker\": {\"colorbar\": {\"outlinewidth\": 0, \"ticks\": \"\"}}, \"type\": \"scatter3d\"}], \"scattercarpet\": [{\"marker\": {\"colorbar\": {\"outlinewidth\": 0, \"ticks\": \"\"}}, \"type\": \"scattercarpet\"}], \"scattergeo\": [{\"marker\": {\"colorbar\": {\"outlinewidth\": 0, \"ticks\": \"\"}}, \"type\": \"scattergeo\"}], \"scattergl\": [{\"marker\": {\"colorbar\": {\"outlinewidth\": 0, \"ticks\": \"\"}}, \"type\": \"scattergl\"}], \"scattermapbox\": [{\"marker\": {\"colorbar\": {\"outlinewidth\": 0, \"ticks\": \"\"}}, \"type\": \"scattermapbox\"}], \"scatterpolar\": [{\"marker\": {\"colorbar\": {\"outlinewidth\": 0, \"ticks\": \"\"}}, \"type\": \"scatterpolar\"}], \"scatterpolargl\": [{\"marker\": {\"colorbar\": {\"outlinewidth\": 0, \"ticks\": \"\"}}, \"type\": \"scatterpolargl\"}], \"scatterternary\": [{\"marker\": {\"colorbar\": {\"outlinewidth\": 0, \"ticks\": \"\"}}, \"type\": \"scatterternary\"}], \"surface\": [{\"colorbar\": {\"outlinewidth\": 0, \"ticks\": \"\"}, \"colorscale\": [[0.0, \"#0d0887\"], [0.1111111111111111, \"#46039f\"], [0.2222222222222222, \"#7201a8\"], [0.3333333333333333, \"#9c179e\"], [0.4444444444444444, \"#bd3786\"], [0.5555555555555556, \"#d8576b\"], [0.6666666666666666, \"#ed7953\"], [0.7777777777777778, \"#fb9f3a\"], [0.8888888888888888, \"#fdca26\"], [1.0, \"#f0f921\"]], \"type\": \"surface\"}], \"table\": [{\"cells\": {\"fill\": {\"color\": \"#EBF0F8\"}, \"line\": {\"color\": \"white\"}}, \"header\": {\"fill\": {\"color\": \"#C8D4E3\"}, \"line\": {\"color\": \"white\"}}, \"type\": \"table\"}]}, \"layout\": {\"annotationdefaults\": {\"arrowcolor\": \"#2a3f5f\", \"arrowhead\": 0, \"arrowwidth\": 1}, \"autotypenumbers\": \"strict\", \"coloraxis\": {\"colorbar\": {\"outlinewidth\": 0, \"ticks\": \"\"}}, \"colorscale\": {\"diverging\": [[0, \"#8e0152\"], [0.1, \"#c51b7d\"], [0.2, \"#de77ae\"], [0.3, \"#f1b6da\"], [0.4, \"#fde0ef\"], [0.5, \"#f7f7f7\"], [0.6, \"#e6f5d0\"], [0.7, \"#b8e186\"], [0.8, \"#7fbc41\"], [0.9, \"#4d9221\"], [1, \"#276419\"]], \"sequential\": [[0.0, \"#0d0887\"], [0.1111111111111111, \"#46039f\"], [0.2222222222222222, \"#7201a8\"], [0.3333333333333333, \"#9c179e\"], [0.4444444444444444, \"#bd3786\"], [0.5555555555555556, \"#d8576b\"], [0.6666666666666666, \"#ed7953\"], [0.7777777777777778, \"#fb9f3a\"], [0.8888888888888888, \"#fdca26\"], [1.0, \"#f0f921\"]], \"sequentialminus\": [[0.0, \"#0d0887\"], [0.1111111111111111, \"#46039f\"], [0.2222222222222222, \"#7201a8\"], [0.3333333333333333, \"#9c179e\"], [0.4444444444444444, \"#bd3786\"], [0.5555555555555556, \"#d8576b\"], [0.6666666666666666, \"#ed7953\"], [0.7777777777777778, \"#fb9f3a\"], [0.8888888888888888, \"#fdca26\"], [1.0, \"#f0f921\"]]}, \"colorway\": [\"#636efa\", \"#EF553B\", \"#00cc96\", \"#ab63fa\", \"#FFA15A\", \"#19d3f3\", \"#FF6692\", \"#B6E880\", \"#FF97FF\", \"#FECB52\"], \"font\": {\"color\": \"#2a3f5f\"}, \"geo\": {\"bgcolor\": \"white\", \"lakecolor\": \"white\", \"landcolor\": \"#E5ECF6\", \"showlakes\": true, \"showland\": true, \"subunitcolor\": \"white\"}, \"hoverlabel\": {\"align\": \"left\"}, \"hovermode\": \"closest\", \"mapbox\": {\"style\": \"light\"}, \"paper_bgcolor\": \"white\", \"plot_bgcolor\": \"#E5ECF6\", \"polar\": {\"angularaxis\": {\"gridcolor\": \"white\", \"linecolor\": \"white\", \"ticks\": \"\"}, \"bgcolor\": \"#E5ECF6\", \"radialaxis\": {\"gridcolor\": \"white\", \"linecolor\": \"white\", \"ticks\": \"\"}}, \"scene\": {\"xaxis\": {\"backgroundcolor\": \"#E5ECF6\", \"gridcolor\": \"white\", \"gridwidth\": 2, \"linecolor\": \"white\", \"showbackground\": true, \"ticks\": \"\", \"zerolinecolor\": \"white\"}, \"yaxis\": {\"backgroundcolor\": \"#E5ECF6\", \"gridcolor\": \"white\", \"gridwidth\": 2, \"linecolor\": \"white\", \"showbackground\": true, \"ticks\": \"\", \"zerolinecolor\": \"white\"}, \"zaxis\": {\"backgroundcolor\": \"#E5ECF6\", \"gridcolor\": \"white\", \"gridwidth\": 2, \"linecolor\": \"white\", \"showbackground\": true, \"ticks\": \"\", \"zerolinecolor\": \"white\"}}, \"shapedefaults\": {\"line\": {\"color\": \"#2a3f5f\"}}, \"ternary\": {\"aaxis\": {\"gridcolor\": \"white\", \"linecolor\": \"white\", \"ticks\": \"\"}, \"baxis\": {\"gridcolor\": \"white\", \"linecolor\": \"white\", \"ticks\": \"\"}, \"bgcolor\": \"#E5ECF6\", \"caxis\": {\"gridcolor\": \"white\", \"linecolor\": \"white\", \"ticks\": \"\"}}, \"title\": {\"x\": 0.05}, \"xaxis\": {\"automargin\": true, \"gridcolor\": \"white\", \"linecolor\": \"white\", \"ticks\": \"\", \"title\": {\"standoff\": 15}, \"zerolinecolor\": \"white\", \"zerolinewidth\": 2}, \"yaxis\": {\"automargin\": true, \"gridcolor\": \"white\", \"linecolor\": \"white\", \"ticks\": \"\", \"title\": {\"standoff\": 15}, \"zerolinecolor\": \"white\", \"zerolinewidth\": 2}}}, \"xaxis\": {\"anchor\": \"y\", \"domain\": [0.0, 1.0], \"dtick\": 2, \"matches\": \"x3\", \"range\": [0, 21], \"showticklabels\": false}, \"xaxis2\": {\"anchor\": \"y2\", \"domain\": [0.0, 1.0], \"dtick\": 2, \"matches\": \"x\", \"range\": [0, 21], \"showticklabels\": false}, \"xaxis3\": {\"anchor\": \"y3\", \"domain\": [0.0, 1.0], \"dtick\": 2, \"matches\": \"x\", \"title\": {\"text\": \"$\\\\mbox{Iteration Number}$\"}}, \"yaxis\": {\"anchor\": \"x\", \"automargin\": true, \"domain\": [0.865, 1.0], \"exponentformat\": \"e\", \"side\": \"top\", \"tickformat\": \"g\", \"title\": {\"text\": \"$\\\\mbox{T}_{inner}$\"}}, \"yaxis2\": {\"anchor\": \"x2\", \"automargin\": true, \"domain\": [0.185, 0.815], \"exponentformat\": \"e\", \"title\": {\"font\": {\"size\": 13}, \"text\": \"$\\\\mbox{Luminosity}~(erg~sec^{-1})$\"}}, \"yaxis3\": {\"anchor\": \"x3\", \"automargin\": true, \"domain\": [0.0, 0.135], \"exponentformat\": \"e\", \"title\": {\"font\": {\"size\": 12}, \"text\": \"$~~\\\\mbox{Residual}\\\\\\\\\\\\mbox{Luminosity(%)}$\"}}},                        {\"responsive\": true}                    ).then(function(){\n                            \nvar gd = document.getElementById('a689211b-d6e3-4020-95e9-cc976e7e5557');\nvar x = new MutationObserver(function (mutations, observer) {{\n        var display = window.getComputedStyle(gd).display;\n        if (!display || display === 'none') {{\n            console.log([gd, 'removed!']);\n            Plotly.purge(gd);\n            observer.disconnect();\n        }}\n}});\n\n// Listen for the removal of the full notebook cells\nvar notebookContainer = gd.closest('#notebook-container');\nif (notebookContainer) {{\n    x.observe(notebookContainer, {childList: true});\n}}\n\n// Listen for the clearing of the current output cell\nvar outputEl = gd.closest('.output');\nif (outputEl) {{\n    x.observe(outputEl, {childList: true});\n}}\n\n                        })                };                });            </script>        </div>"
         },
         "metadata": {},
         "output_type": "display_data"
        }
       ]
      }
     },
     "13d2a553ddd44d538b814dc335906197": {
      "model_module": "@jupyter-widgets/base",
      "model_module_version": "1.2.0",
      "model_name": "LayoutModel",
      "state": {}
     },
     "29345e591c504bd191eba93c6d5ee414": {
      "model_module": "plotlywidget",
      "model_module_version": "^4.14.3",
      "model_name": "FigureModel",
      "state": {
       "_config": {
        "plotlyServerURL": "https://plot.ly"
       },
       "_data": [
        {
         "hovertemplate": "<b>%{y:.2g}</b><br>at X = %{x}<br>",
         "legendgroup": "Emitted",
         "marker": {
          "color": "orangered"
         },
         "mode": "lines",
         "name": "Emitted<br>Luminosity",
         "opacity": 0.6,
         "type": "scatter",
         "uid": "abbb284d-a3af-4d44-b363-9db62cc1adbd",
         "x": [
          1,
          2,
          3,
          4,
          5,
          6,
          7,
          8,
          9,
          10,
          11,
          12,
          13,
          14,
          15,
          16,
          17,
          18,
          19,
          20
         ],
         "xaxis": "x2",
         "y": [
          7.942750742981396e+42,
          1.4081455093985728e+43,
          8.126235743016503e+42,
          1.3629660449563156e+43,
          8.27894586347348e+42,
          1.3474141886349227e+43,
          8.390011483383557e+42,
          1.3330505521644895e+43,
          8.442830540796857e+42,
          1.3292513146988894e+43,
          8.494974137074282e+42,
          1.3041701729221733e+43,
          8.692438378058671e+42,
          1.2835355197638404e+43,
          8.753305281326621e+42,
          1.2781970592598386e+43,
          8.816470048071725e+42,
          1.2667974995662812e+43,
          8.870810439340542e+42,
          1.263194391778655e+43
         ],
         "yaxis": "y2"
        },
        {
         "hovertemplate": "<b>%{y:.2g}</b><br>at X = %{x}<br>",
         "legendgroup": "Absorbed",
         "marker": {
          "color": "lightseagreen"
         },
         "mode": "lines",
         "name": "Absorbed<br>Luminosity",
         "opacity": 0.6,
         "type": "scatter",
         "uid": "66bea4e4-0988-4a6d-a9bc-67f97632d899",
         "x": [
          1,
          2,
          3,
          4,
          5,
          6,
          7,
          8,
          9,
          10,
          11,
          12,
          13,
          14,
          15,
          16,
          17,
          18,
          19,
          20
         ],
         "xaxis": "x2",
         "y": [
          2.65804673153204e+42,
          4.7700146052642123e+42,
          2.5472229968140377e+42,
          4.4972113694812525e+42,
          2.6693301209933358e+42,
          4.447266267261236e+42,
          2.6922956553053436e+42,
          4.330110768371945e+42,
          2.7089402928209043e+42,
          4.25943386711989e+42,
          2.6561585210602605e+42,
          4.288201956309693e+42,
          2.7454765674505417e+42,
          4.1509531498402554e+42,
          2.813186401660242e+42,
          4.156064515611499e+42,
          2.816811651728025e+42,
          4.122377281630377e+42,
          2.8711648018363005e+42,
          4.1070578782802735e+42
         ],
         "yaxis": "y2"
        },
        {
         "hovertemplate": "<b>%{y:.2g}</b><br>at X = %{x}<br>",
         "legendgroup": "Requested",
         "marker": {
          "color": "indigo"
         },
         "mode": "lines",
         "name": "Requested<br>Luminosity",
         "opacity": 0.6,
         "type": "scatter",
         "uid": "b1876160-5124-4518-8d00-4d54033f4f3d",
         "x": [
          1,
          2,
          3,
          4,
          5,
          6,
          7,
          8,
          9,
          10,
          11,
          12,
          13,
          14,
          15,
          16,
          17,
          18,
          19,
          20
         ],
         "xaxis": "x2",
         "y": [
          1.0592763593038458e+43,
          1.0592763593038458e+43,
          1.0592763593038458e+43,
          1.0592763593038458e+43,
          1.0592763593038458e+43,
          1.0592763593038458e+43,
          1.0592763593038458e+43,
          1.0592763593038458e+43,
          1.0592763593038458e+43,
          1.0592763593038458e+43,
          1.0592763593038458e+43,
          1.0592763593038458e+43,
          1.0592763593038458e+43,
          1.0592763593038458e+43,
          1.0592763593038458e+43,
          1.0592763593038458e+43,
          1.0592763593038458e+43,
          1.0592763593038458e+43,
          1.0592763593038458e+43,
          1.0592763593038458e+43
         ],
         "yaxis": "y2"
        },
        {
         "hovertemplate": "Residual Luminosity: %{y:.2f}% at X = %{x:,.0f}<extra></extra>",
         "marker": {
          "color": "cornflowerblue"
         },
         "mode": "lines",
         "name": "Residual<br>Luminosity",
         "opacity": 0.7,
         "type": "scatter",
         "uid": "aefd5145-2333-4768-9e7f-85aa64497506",
         "x": [
          1,
          2,
          3,
          4,
          5,
          6,
          7,
          8,
          9,
          10,
          11,
          12,
          13,
          14,
          15,
          16,
          17,
          18,
          19,
          20
         ],
         "xaxis": "x3",
         "y": [
          -25.017199966575717,
          32.934667806992614,
          -23.285026880454048,
          28.669542465013958,
          -21.843381184166276,
          27.201383925951156,
          -20.794876524031412,
          25.84539817735266,
          -20.296243122564654,
          25.486734696172267,
          -19.80398634916046,
          23.118972822094438,
          -17.939843538363082,
          21.170977572592793,
          -17.3652351962308,
          20.667005171329144,
          -16.76893408755113,
          19.590840335454846,
          -16.2559386752441,
          19.250692294202032
         ],
         "yaxis": "y3"
        },
        {
         "hovertemplate": "Next Inner Body Temperature: %{y:.2f} at X = %{x:,.0f}<extra></extra>",
         "marker": {
          "color": "crimson"
         },
         "mode": "lines",
         "name": "Next Inner<br>Boundary<br>Temperature",
         "opacity": 0.7,
         "type": "scatter",
         "uid": "cea65821-6087-47d6-a7ac-54fa0c24ea44",
         "x": [
          1,
          2,
          3,
          4,
          5,
          6,
          7,
          8,
          9,
          10,
          11,
          12,
          13,
          14,
          15,
          16,
          17,
          18,
          19,
          20
         ],
         "xaxis": "x",
         "y": [
          11472.055253129645,
          9949.977592596559,
          11360.096854261606,
          10014.843240243388,
          11328.209558951534,
          10044.200101537022,
          11285.965504372467,
          10060.511200596067,
          11268.87736423254,
          10059.623883542255,
          11233.248147773367,
          10123.783777872188,
          11175.750322790715,
          10152.602547328883,
          11168.529280894094,
          10167.208273207052,
          11144.459025959051,
          10190.841172561493,
          11136.097470940847,
          11136.097470940847
         ],
         "yaxis": "y"
        }
       ],
       "_js2py_restyle": {},
       "_js2py_update": {},
       "_last_layout_edit_id": 28,
       "_last_trace_edit_id": 27,
       "_layout": {
        "autosize": true,
        "hidesources": true,
        "hoverlabel": {
         "align": "right",
         "font": {
          "color": "white"
         }
        },
        "legend": {
         "title": {
          "text": "Luminosity"
         },
         "tracegroupgap": 0
        },
        "margin": {
         "b": 10,
         "l": 10,
         "pad": 0,
         "r": 10,
         "t": 25
        },
        "template": {
         "data": {
          "bar": [
           {
            "error_x": {
             "color": "#2a3f5f"
            },
            "error_y": {
             "color": "#2a3f5f"
            },
            "marker": {
             "line": {
              "color": "#E5ECF6",
              "width": 0.5
             }
            },
            "type": "bar"
           }
          ],
          "barpolar": [
           {
            "marker": {
             "line": {
              "color": "#E5ECF6",
              "width": 0.5
             }
            },
            "type": "barpolar"
           }
          ],
          "carpet": [
           {
            "aaxis": {
             "endlinecolor": "#2a3f5f",
             "gridcolor": "white",
             "linecolor": "white",
             "minorgridcolor": "white",
             "startlinecolor": "#2a3f5f"
            },
            "baxis": {
             "endlinecolor": "#2a3f5f",
             "gridcolor": "white",
             "linecolor": "white",
             "minorgridcolor": "white",
             "startlinecolor": "#2a3f5f"
            },
            "type": "carpet"
           }
          ],
          "choropleth": [
           {
            "colorbar": {
             "outlinewidth": 0,
             "ticks": ""
            },
            "type": "choropleth"
           }
          ],
          "contour": [
           {
            "colorbar": {
             "outlinewidth": 0,
             "ticks": ""
            },
            "colorscale": [
             [
              0,
              "#0d0887"
             ],
             [
              0.1111111111111111,
              "#46039f"
             ],
             [
              0.2222222222222222,
              "#7201a8"
             ],
             [
              0.3333333333333333,
              "#9c179e"
             ],
             [
              0.4444444444444444,
              "#bd3786"
             ],
             [
              0.5555555555555556,
              "#d8576b"
             ],
             [
              0.6666666666666666,
              "#ed7953"
             ],
             [
              0.7777777777777778,
              "#fb9f3a"
             ],
             [
              0.8888888888888888,
              "#fdca26"
             ],
             [
              1,
              "#f0f921"
             ]
            ],
            "type": "contour"
           }
          ],
          "contourcarpet": [
           {
            "colorbar": {
             "outlinewidth": 0,
             "ticks": ""
            },
            "type": "contourcarpet"
           }
          ],
          "heatmap": [
           {
            "colorbar": {
             "outlinewidth": 0,
             "ticks": ""
            },
            "colorscale": [
             [
              0,
              "#0d0887"
             ],
             [
              0.1111111111111111,
              "#46039f"
             ],
             [
              0.2222222222222222,
              "#7201a8"
             ],
             [
              0.3333333333333333,
              "#9c179e"
             ],
             [
              0.4444444444444444,
              "#bd3786"
             ],
             [
              0.5555555555555556,
              "#d8576b"
             ],
             [
              0.6666666666666666,
              "#ed7953"
             ],
             [
              0.7777777777777778,
              "#fb9f3a"
             ],
             [
              0.8888888888888888,
              "#fdca26"
             ],
             [
              1,
              "#f0f921"
             ]
            ],
            "type": "heatmap"
           }
          ],
          "heatmapgl": [
           {
            "colorbar": {
             "outlinewidth": 0,
             "ticks": ""
            },
            "colorscale": [
             [
              0,
              "#0d0887"
             ],
             [
              0.1111111111111111,
              "#46039f"
             ],
             [
              0.2222222222222222,
              "#7201a8"
             ],
             [
              0.3333333333333333,
              "#9c179e"
             ],
             [
              0.4444444444444444,
              "#bd3786"
             ],
             [
              0.5555555555555556,
              "#d8576b"
             ],
             [
              0.6666666666666666,
              "#ed7953"
             ],
             [
              0.7777777777777778,
              "#fb9f3a"
             ],
             [
              0.8888888888888888,
              "#fdca26"
             ],
             [
              1,
              "#f0f921"
             ]
            ],
            "type": "heatmapgl"
           }
          ],
          "histogram": [
           {
            "marker": {
             "colorbar": {
              "outlinewidth": 0,
              "ticks": ""
             }
            },
            "type": "histogram"
           }
          ],
          "histogram2d": [
           {
            "colorbar": {
             "outlinewidth": 0,
             "ticks": ""
            },
            "colorscale": [
             [
              0,
              "#0d0887"
             ],
             [
              0.1111111111111111,
              "#46039f"
             ],
             [
              0.2222222222222222,
              "#7201a8"
             ],
             [
              0.3333333333333333,
              "#9c179e"
             ],
             [
              0.4444444444444444,
              "#bd3786"
             ],
             [
              0.5555555555555556,
              "#d8576b"
             ],
             [
              0.6666666666666666,
              "#ed7953"
             ],
             [
              0.7777777777777778,
              "#fb9f3a"
             ],
             [
              0.8888888888888888,
              "#fdca26"
             ],
             [
              1,
              "#f0f921"
             ]
            ],
            "type": "histogram2d"
           }
          ],
          "histogram2dcontour": [
           {
            "colorbar": {
             "outlinewidth": 0,
             "ticks": ""
            },
            "colorscale": [
             [
              0,
              "#0d0887"
             ],
             [
              0.1111111111111111,
              "#46039f"
             ],
             [
              0.2222222222222222,
              "#7201a8"
             ],
             [
              0.3333333333333333,
              "#9c179e"
             ],
             [
              0.4444444444444444,
              "#bd3786"
             ],
             [
              0.5555555555555556,
              "#d8576b"
             ],
             [
              0.6666666666666666,
              "#ed7953"
             ],
             [
              0.7777777777777778,
              "#fb9f3a"
             ],
             [
              0.8888888888888888,
              "#fdca26"
             ],
             [
              1,
              "#f0f921"
             ]
            ],
            "type": "histogram2dcontour"
           }
          ],
          "mesh3d": [
           {
            "colorbar": {
             "outlinewidth": 0,
             "ticks": ""
            },
            "type": "mesh3d"
           }
          ],
          "parcoords": [
           {
            "line": {
             "colorbar": {
              "outlinewidth": 0,
              "ticks": ""
             }
            },
            "type": "parcoords"
           }
          ],
          "pie": [
           {
            "automargin": true,
            "type": "pie"
           }
          ],
          "scatter": [
           {
            "marker": {
             "colorbar": {
              "outlinewidth": 0,
              "ticks": ""
             }
            },
            "type": "scatter"
           }
          ],
          "scatter3d": [
           {
            "line": {
             "colorbar": {
              "outlinewidth": 0,
              "ticks": ""
             }
            },
            "marker": {
             "colorbar": {
              "outlinewidth": 0,
              "ticks": ""
             }
            },
            "type": "scatter3d"
           }
          ],
          "scattercarpet": [
           {
            "marker": {
             "colorbar": {
              "outlinewidth": 0,
              "ticks": ""
             }
            },
            "type": "scattercarpet"
           }
          ],
          "scattergeo": [
           {
            "marker": {
             "colorbar": {
              "outlinewidth": 0,
              "ticks": ""
             }
            },
            "type": "scattergeo"
           }
          ],
          "scattergl": [
           {
            "marker": {
             "colorbar": {
              "outlinewidth": 0,
              "ticks": ""
             }
            },
            "type": "scattergl"
           }
          ],
          "scattermapbox": [
           {
            "marker": {
             "colorbar": {
              "outlinewidth": 0,
              "ticks": ""
             }
            },
            "type": "scattermapbox"
           }
          ],
          "scatterpolar": [
           {
            "marker": {
             "colorbar": {
              "outlinewidth": 0,
              "ticks": ""
             }
            },
            "type": "scatterpolar"
           }
          ],
          "scatterpolargl": [
           {
            "marker": {
             "colorbar": {
              "outlinewidth": 0,
              "ticks": ""
             }
            },
            "type": "scatterpolargl"
           }
          ],
          "scatterternary": [
           {
            "marker": {
             "colorbar": {
              "outlinewidth": 0,
              "ticks": ""
             }
            },
            "type": "scatterternary"
           }
          ],
          "surface": [
           {
            "colorbar": {
             "outlinewidth": 0,
             "ticks": ""
            },
            "colorscale": [
             [
              0,
              "#0d0887"
             ],
             [
              0.1111111111111111,
              "#46039f"
             ],
             [
              0.2222222222222222,
              "#7201a8"
             ],
             [
              0.3333333333333333,
              "#9c179e"
             ],
             [
              0.4444444444444444,
              "#bd3786"
             ],
             [
              0.5555555555555556,
              "#d8576b"
             ],
             [
              0.6666666666666666,
              "#ed7953"
             ],
             [
              0.7777777777777778,
              "#fb9f3a"
             ],
             [
              0.8888888888888888,
              "#fdca26"
             ],
             [
              1,
              "#f0f921"
             ]
            ],
            "type": "surface"
           }
          ],
          "table": [
           {
            "cells": {
             "fill": {
              "color": "#EBF0F8"
             },
             "line": {
              "color": "white"
             }
            },
            "header": {
             "fill": {
              "color": "#C8D4E3"
             },
             "line": {
              "color": "white"
             }
            },
            "type": "table"
           }
          ]
         },
         "layout": {
          "annotationdefaults": {
           "arrowcolor": "#2a3f5f",
           "arrowhead": 0,
           "arrowwidth": 1
          },
          "autotypenumbers": "strict",
          "coloraxis": {
           "colorbar": {
            "outlinewidth": 0,
            "ticks": ""
           }
          },
          "colorscale": {
           "diverging": [
            [
             0,
             "#8e0152"
            ],
            [
             0.1,
             "#c51b7d"
            ],
            [
             0.2,
             "#de77ae"
            ],
            [
             0.3,
             "#f1b6da"
            ],
            [
             0.4,
             "#fde0ef"
            ],
            [
             0.5,
             "#f7f7f7"
            ],
            [
             0.6,
             "#e6f5d0"
            ],
            [
             0.7,
             "#b8e186"
            ],
            [
             0.8,
             "#7fbc41"
            ],
            [
             0.9,
             "#4d9221"
            ],
            [
             1,
             "#276419"
            ]
           ],
           "sequential": [
            [
             0,
             "#0d0887"
            ],
            [
             0.1111111111111111,
             "#46039f"
            ],
            [
             0.2222222222222222,
             "#7201a8"
            ],
            [
             0.3333333333333333,
             "#9c179e"
            ],
            [
             0.4444444444444444,
             "#bd3786"
            ],
            [
             0.5555555555555556,
             "#d8576b"
            ],
            [
             0.6666666666666666,
             "#ed7953"
            ],
            [
             0.7777777777777778,
             "#fb9f3a"
            ],
            [
             0.8888888888888888,
             "#fdca26"
            ],
            [
             1,
             "#f0f921"
            ]
           ],
           "sequentialminus": [
            [
             0,
             "#0d0887"
            ],
            [
             0.1111111111111111,
             "#46039f"
            ],
            [
             0.2222222222222222,
             "#7201a8"
            ],
            [
             0.3333333333333333,
             "#9c179e"
            ],
            [
             0.4444444444444444,
             "#bd3786"
            ],
            [
             0.5555555555555556,
             "#d8576b"
            ],
            [
             0.6666666666666666,
             "#ed7953"
            ],
            [
             0.7777777777777778,
             "#fb9f3a"
            ],
            [
             0.8888888888888888,
             "#fdca26"
            ],
            [
             1,
             "#f0f921"
            ]
           ]
          },
          "colorway": [
           "#636efa",
           "#EF553B",
           "#00cc96",
           "#ab63fa",
           "#FFA15A",
           "#19d3f3",
           "#FF6692",
           "#B6E880",
           "#FF97FF",
           "#FECB52"
          ],
          "font": {
           "color": "#2a3f5f"
          },
          "geo": {
           "bgcolor": "white",
           "lakecolor": "white",
           "landcolor": "#E5ECF6",
           "showlakes": true,
           "showland": true,
           "subunitcolor": "white"
          },
          "hoverlabel": {
           "align": "left"
          },
          "hovermode": "closest",
          "mapbox": {
           "style": "light"
          },
          "paper_bgcolor": "white",
          "plot_bgcolor": "#E5ECF6",
          "polar": {
           "angularaxis": {
            "gridcolor": "white",
            "linecolor": "white",
            "ticks": ""
           },
           "bgcolor": "#E5ECF6",
           "radialaxis": {
            "gridcolor": "white",
            "linecolor": "white",
            "ticks": ""
           }
          },
          "scene": {
           "xaxis": {
            "backgroundcolor": "#E5ECF6",
            "gridcolor": "white",
            "gridwidth": 2,
            "linecolor": "white",
            "showbackground": true,
            "ticks": "",
            "zerolinecolor": "white"
           },
           "yaxis": {
            "backgroundcolor": "#E5ECF6",
            "gridcolor": "white",
            "gridwidth": 2,
            "linecolor": "white",
            "showbackground": true,
            "ticks": "",
            "zerolinecolor": "white"
           },
           "zaxis": {
            "backgroundcolor": "#E5ECF6",
            "gridcolor": "white",
            "gridwidth": 2,
            "linecolor": "white",
            "showbackground": true,
            "ticks": "",
            "zerolinecolor": "white"
           }
          },
          "shapedefaults": {
           "line": {
            "color": "#2a3f5f"
           }
          },
          "ternary": {
           "aaxis": {
            "gridcolor": "white",
            "linecolor": "white",
            "ticks": ""
           },
           "baxis": {
            "gridcolor": "white",
            "linecolor": "white",
            "ticks": ""
           },
           "bgcolor": "#E5ECF6",
           "caxis": {
            "gridcolor": "white",
            "linecolor": "white",
            "ticks": ""
           }
          },
          "title": {
           "x": 0.05
          },
          "xaxis": {
           "automargin": true,
           "gridcolor": "white",
           "linecolor": "white",
           "ticks": "",
           "title": {
            "standoff": 15
           },
           "zerolinecolor": "white",
           "zerolinewidth": 2
          },
          "yaxis": {
           "automargin": true,
           "gridcolor": "white",
           "linecolor": "white",
           "ticks": "",
           "title": {
            "standoff": 15
           },
           "zerolinecolor": "white",
           "zerolinewidth": 2
          }
         }
        },
        "xaxis": {
         "anchor": "y",
         "domain": [
          0,
          1
         ],
         "dtick": 2,
         "matches": "x3",
         "range": [
          0,
          21
         ],
         "showticklabels": false
        },
        "xaxis2": {
         "anchor": "y2",
         "domain": [
          0,
          1
         ],
         "dtick": 2,
         "matches": "x",
         "range": [
          0,
          21
         ],
         "showticklabels": false
        },
        "xaxis3": {
         "anchor": "y3",
         "domain": [
          0,
          1
         ],
         "dtick": 2,
         "matches": "x",
         "title": {
          "text": "$\\mbox{Iteration Number}$"
         }
        },
        "yaxis": {
         "anchor": "x",
         "automargin": true,
         "domain": [
          0.865,
          1
         ],
         "exponentformat": "e",
         "side": "top",
         "tickformat": "g",
         "title": {
          "text": "$\\mbox{T}_{inner}$"
         }
        },
        "yaxis2": {
         "anchor": "x2",
         "automargin": true,
         "domain": [
          0.185,
          0.815
         ],
         "exponentformat": "e",
         "title": {
          "font": {
           "size": 13
          },
          "text": "$\\mbox{Luminosity}~(erg~sec^{-1})$"
         }
        },
        "yaxis3": {
         "anchor": "x3",
         "automargin": true,
         "domain": [
          0,
          0.135
         ],
         "exponentformat": "e",
         "title": {
          "font": {
           "size": 12
          },
          "text": "$~~\\mbox{Residual}\\\\\\mbox{Luminosity(%)}$"
         }
        }
       },
       "_py2js_animate": {},
       "_py2js_deleteTraces": {},
       "_py2js_moveTraces": {},
       "_py2js_removeTraceProps": {},
       "_py2js_restyle": {},
       "_view_count": 1
      }
     },
     "2a5dfb0538574f90bc9f6a890c63dceb": {
      "model_module": "@jupyter-widgets/base",
      "model_module_version": "1.2.0",
      "model_name": "LayoutModel",
      "state": {}
     },
     "2c2f015ae3a940cfad9abc579a274a4a": {
      "model_module": "@jupyter-widgets/output",
      "model_module_version": "1.0.0",
      "model_name": "OutputModel",
      "state": {
       "layout": "IPY_MODEL_d8382508178040f6852dfb8dd080674f",
       "outputs": [
        {
         "data": {
          "text/html": "        <script type=\"text/javascript\">\n        window.PlotlyConfig = {MathJaxConfig: 'local'};\n        if (window.MathJax) {MathJax.Hub.Config({SVG: {font: \"STIX-Web\"}});}\n        if (typeof require !== 'undefined') {\n        require.undef(\"plotly\");\n        requirejs.config({\n            paths: {\n                'plotly': ['https://cdn.plot.ly/plotly-latest.min']\n            }\n        });\n        require(['plotly'], function(Plotly) {\n            window._Plotly = Plotly;\n        });\n        }\n        </script>\n        "
         },
         "metadata": {},
         "output_type": "display_data"
        },
        {
         "data": {
          "text/html": "<div>                            <div id=\"f8e3d0a8-9b2a-484d-80ef-d560bbef0889\" class=\"plotly-graph-div\" style=\"height:580px; width:100%;\"></div>            <script type=\"text/javascript\">                require([\"plotly\"], function(Plotly) {                    window.PLOTLYENV=window.PLOTLYENV || {};                                    if (document.getElementById(\"f8e3d0a8-9b2a-484d-80ef-d560bbef0889\")) {                    Plotly.newPlot(                        \"f8e3d0a8-9b2a-484d-80ef-d560bbef0889\",                        [{\"line\": {\"color\": \"#800000\"}, \"type\": \"scatter\", \"uid\": \"4ca58976-9e95-4383-ae85-df5fba6ef0d7\", \"xaxis\": \"x\", \"yaxis\": \"y\"}, {\"line\": {\"color\": \"#800000\"}, \"type\": \"scatter\", \"uid\": \"39bb09b7-ad75-44f7-9bf0-cc218dec793e\", \"xaxis\": \"x2\", \"yaxis\": \"y2\"}, {\"legendgroup\": \"group-0\", \"line\": {\"color\": \"#000080\"}, \"marker\": {\"size\": 3, \"symbol\": \"diamond\"}, \"name\": \"1\", \"showlegend\": false, \"type\": \"scatter\", \"uid\": \"898b6f57-db2c-415d-83a3-0e2eef90256e\", \"x\": [11000.0, 11450.0, 11900.0, 12350.0, 12800.0, 13250.0, 13700.0, 14150.0, 14600.0, 15050.0, 15500.0, 15950.0, 16400.0, 16850.0, 17300.0, 17750.0, 18200.0, 18650.0, 19100.0, 19550.0, 20000.0], \"xaxis\": \"x\", \"y\": [10134.733716625742, 10158.894068408064, 10199.163062164183, 10230.988705011776, 10268.95723542248, 10222.890845143002, 10224.33250792895, 10215.304103107928, 10218.67593187541, 10185.463728853065, 10144.46316917108, 10076.87680984274, 10030.209347853815, 10029.018621140542, 9986.944524442715, 9873.477845862937, 9843.334614032237, 9771.609702679261, 9679.524619982089, 9610.209774198473], \"yaxis\": \"y\"}, {\"legendgroup\": \"group-0\", \"line\": {\"color\": \"#000080\"}, \"marker\": {\"size\": 3, \"symbol\": \"diamond\"}, \"name\": \"1\", \"type\": \"scatter\", \"uid\": \"2a337948-0850-4be1-af98-4e70a7747169\", \"x\": [11000.0, 11450.0, 11900.0, 12350.0, 12800.0, 13250.0, 13700.0, 14150.0, 14600.0, 15050.0, 15500.0, 15950.0, 16400.0, 16850.0, 17300.0, 17750.0, 18200.0, 18650.0, 19100.0, 19550.0, 20000.0], \"xaxis\": \"x2\", \"y\": [0.5082040569581554, 0.3962212763594891, 0.3214185723254649, 0.26560113513158967, 0.22389059993927218, 0.19702589896830255, 0.1749491202529985, 0.1563731541470249, 0.13940960015313733, 0.12795427205030482, 0.11717940936679912, 0.10932218040060024, 0.10303354273987321, 0.09520635540966971, 0.08986506172262776, 0.08694065164106614, 0.082029771070409, 0.07895392034793645, 0.07641285709961215, 0.0734944435056783], \"yaxis\": \"y2\"}, {\"legendgroup\": \"group-1\", \"line\": {\"color\": \"#0000bd\"}, \"marker\": {\"size\": 3, \"symbol\": \"diamond\"}, \"name\": \"2\", \"showlegend\": false, \"type\": \"scatter\", \"uid\": \"776160fd-0db0-4e92-a615-b650092a8b6b\", \"x\": [11000.0, 11450.0, 11900.0, 12350.0, 12800.0, 13250.0, 13700.0, 14150.0, 14600.0, 15050.0, 15500.0, 15950.0, 16400.0, 16850.0, 17300.0, 17750.0, 18200.0, 18650.0, 19100.0, 19550.0, 20000.0], \"xaxis\": \"x\", \"y\": [11468.021903420027, 11435.999407966676, 11449.930444230995, 11492.65958293691, 11527.299217171007, 11499.835339656465, 11477.276330649498, 11460.659744967303, 11406.161049943823, 11340.543942919201, 11306.370330122183, 11212.548324749032, 11165.15031794662, 11109.460288675331, 11032.751812374603, 10953.828130057926, 10887.89602394496, 10829.273836669769, 10807.478630946254, 10678.472039472606], \"yaxis\": \"y\"}, {\"legendgroup\": \"group-1\", \"line\": {\"color\": \"#0000bd\"}, \"marker\": {\"size\": 3, \"symbol\": \"diamond\"}, \"name\": \"2\", \"type\": \"scatter\", \"uid\": \"cb7f7c8a-12dc-49ce-a208-cace17ecfb73\", \"x\": [11000.0, 11450.0, 11900.0, 12350.0, 12800.0, 13250.0, 13700.0, 14150.0, 14600.0, 15050.0, 15500.0, 15950.0, 16400.0, 16850.0, 17300.0, 17750.0, 18200.0, 18650.0, 19100.0, 19550.0, 20000.0], \"xaxis\": \"x2\", \"y\": [0.5486713034814857, 0.4359667978092499, 0.35745766558351055, 0.29759617877916883, 0.2514052642548386, 0.2213742932983643, 0.1967142119281105, 0.1750139221468986, 0.1596018423150508, 0.14776884435084475, 0.1362910943753445, 0.1282954632603496, 0.11949333047989281, 0.11271924127039863, 0.10796286592870252, 0.10261651657287679, 0.09761052473526158, 0.0925701903122773, 0.08757308797595444, 0.08560372849204283], \"yaxis\": \"y2\"}, {\"legendgroup\": \"group-2\", \"line\": {\"color\": \"#0000fa\"}, \"marker\": {\"size\": 3, \"symbol\": \"diamond\"}, \"name\": \"3\", \"showlegend\": false, \"type\": \"scatter\", \"uid\": \"1bad1f8e-8316-40ac-bb2c-37ac579a661b\", \"x\": [11000.0, 11450.0, 11900.0, 12350.0, 12800.0, 13250.0, 13700.0, 14150.0, 14600.0, 15050.0, 15500.0, 15950.0, 16400.0, 16850.0, 17300.0, 17750.0, 18200.0, 18650.0, 19100.0, 19550.0, 20000.0], \"xaxis\": \"x\", \"y\": [10497.008397133988, 10647.412149636564, 10710.555598349812, 10778.428547850966, 10799.157541112727, 10799.075913257297, 10809.366021863923, 10753.851890469936, 10723.18539784127, 10725.950530076656, 10623.433273860508, 10568.227843581686, 10448.426796026406, 10344.129570842591, 10277.247070725653, 10226.187071335817, 10191.522923045857, 10084.749431116139, 9966.774860086334, 9840.487791467045], \"yaxis\": \"y\"}, {\"legendgroup\": \"group-2\", \"line\": {\"color\": \"#0000fa\"}, \"marker\": {\"size\": 3, \"symbol\": \"diamond\"}, \"name\": \"3\", \"type\": \"scatter\", \"uid\": \"95141482-530e-4eef-91d8-e5a0fd93d2b2\", \"x\": [11000.0, 11450.0, 11900.0, 12350.0, 12800.0, 13250.0, 13700.0, 14150.0, 14600.0, 15050.0, 15500.0, 15950.0, 16400.0, 16850.0, 17300.0, 17750.0, 18200.0, 18650.0, 19100.0, 19550.0, 20000.0], \"xaxis\": \"x2\", \"y\": [0.442299407233424, 0.3316155054771363, 0.26819254934335535, 0.22122958128497036, 0.18813327121608667, 0.16428839927198421, 0.1443413401513004, 0.13164698698733832, 0.12013575438192611, 0.1081687026641846, 0.10181996368767447, 0.09492623735431249, 0.09101140062051426, 0.08639163271896758, 0.08220814746497997, 0.07762890235617773, 0.0732750049575765, 0.07106642067401933, 0.06969266984280108, 0.06837630714305266], \"yaxis\": \"y2\"}, {\"legendgroup\": \"group-3\", \"line\": {\"color\": \"#0022ff\"}, \"marker\": {\"size\": 3, \"symbol\": \"diamond\"}, \"name\": \"4\", \"showlegend\": false, \"type\": \"scatter\", \"uid\": \"4c1d7629-65ea-440d-9064-30d182eea79d\", \"x\": [11000.0, 11450.0, 11900.0, 12350.0, 12800.0, 13250.0, 13700.0, 14150.0, 14600.0, 15050.0, 15500.0, 15950.0, 16400.0, 16850.0, 17300.0, 17750.0, 18200.0, 18650.0, 19100.0, 19550.0, 20000.0], \"xaxis\": \"x\", \"y\": [11615.34431271539, 11665.123230726764, 11722.631980824826, 11696.759034389528, 11740.274989218244, 11729.411389495828, 11762.93754644142, 11652.44218706302, 11589.11016884437, 11561.496043188794, 11517.190316985118, 11433.020206851419, 11326.42249364519, 11237.973261737088, 11182.841624719184, 11103.37345606317, 10988.381394715301, 10950.081329679253, 10862.947659789317, 10751.855231570007], \"yaxis\": \"y\"}, {\"legendgroup\": \"group-3\", \"line\": {\"color\": \"#0022ff\"}, \"marker\": {\"size\": 3, \"symbol\": \"diamond\"}, \"name\": \"4\", \"type\": \"scatter\", \"uid\": \"79a1b649-3a61-464f-b81a-62bb41ceaed7\", \"x\": [11000.0, 11450.0, 11900.0, 12350.0, 12800.0, 13250.0, 13700.0, 14150.0, 14600.0, 15050.0, 15500.0, 15950.0, 16400.0, 16850.0, 17300.0, 17750.0, 18200.0, 18650.0, 19100.0, 19550.0, 20000.0], \"xaxis\": \"x2\", \"y\": [0.4977143593187972, 0.3915904655092031, 0.31518118479289936, 0.26854353604159453, 0.22820910008384737, 0.1992052064914697, 0.1732796396495469, 0.15947664883652757, 0.14579099407466625, 0.1334986840647756, 0.12384871542019993, 0.1163327713735177, 0.11004943343959867, 0.10494577908156115, 0.09880472549683283, 0.09393029340453476, 0.09096244445118767, 0.08630423393331049, 0.08321862769525468, 0.08100093623949862], \"yaxis\": \"y2\"}, {\"legendgroup\": \"group-4\", \"line\": {\"color\": \"#0057ff\"}, \"marker\": {\"size\": 3, \"symbol\": \"diamond\"}, \"name\": \"5\", \"showlegend\": false, \"type\": \"scatter\", \"uid\": \"0ac0f510-71f2-4b3f-bfad-9d4a28fa038a\", \"x\": [11000.0, 11450.0, 11900.0, 12350.0, 12800.0, 13250.0, 13700.0, 14150.0, 14600.0, 15050.0, 15500.0, 15950.0, 16400.0, 16850.0, 17300.0, 17750.0, 18200.0, 18650.0, 19100.0, 19550.0, 20000.0], \"xaxis\": \"x\", \"y\": [10549.51412848435, 10759.565074180144, 10894.663638012831, 10932.865203687254, 10930.709069978382, 10919.073481210131, 10877.07525272697, 10810.824269258308, 10785.603108487141, 10727.31310966391, 10697.303299672532, 10711.257210371086, 10551.734446150795, 10490.892524557958, 10416.933630770685, 10379.863072642813, 10279.630106699515, 10220.453729533758, 10077.475484616278, 9927.285882427788], \"yaxis\": \"y\"}, {\"legendgroup\": \"group-4\", \"line\": {\"color\": \"#0057ff\"}, \"marker\": {\"size\": 3, \"symbol\": \"diamond\"}, \"name\": \"5\", \"type\": \"scatter\", \"uid\": \"96546401-c7f2-4da3-8c9e-2d25d18db5f5\", \"x\": [11000.0, 11450.0, 11900.0, 12350.0, 12800.0, 13250.0, 13700.0, 14150.0, 14600.0, 15050.0, 15500.0, 15950.0, 16400.0, 16850.0, 17300.0, 17750.0, 18200.0, 18650.0, 19100.0, 19550.0, 20000.0], \"xaxis\": \"x2\", \"y\": [0.4434406663593859, 0.329565789368522, 0.26010890450064733, 0.2159881056247415, 0.1854070420834862, 0.16219891903074657, 0.14560372598880475, 0.13326787384388758, 0.11999931339731698, 0.11025218829721785, 0.1012892218335092, 0.09247037462403469, 0.08933312170132374, 0.08413052869637083, 0.07995660682274036, 0.07537221197763783, 0.07252173631498261, 0.06901139800647034, 0.06809975749337623, 0.06735205229901337], \"yaxis\": \"y2\"}, {\"legendgroup\": \"group-5\", \"line\": {\"color\": \"#008dff\"}, \"marker\": {\"size\": 3, \"symbol\": \"diamond\"}, \"name\": \"6\", \"showlegend\": false, \"type\": \"scatter\", \"uid\": \"0c43e840-b898-42f0-80ef-a8e452ca37c3\", \"x\": [11000.0, 11450.0, 11900.0, 12350.0, 12800.0, 13250.0, 13700.0, 14150.0, 14600.0, 15050.0, 15500.0, 15950.0, 16400.0, 16850.0, 17300.0, 17750.0, 18200.0, 18650.0, 19100.0, 19550.0, 20000.0], \"xaxis\": \"x\", \"y\": [11567.208184336641, 11613.025123050538, 11683.328827353047, 11693.104708830946, 11724.278325269526, 11653.124120929953, 11612.65021223817, 11609.82892873756, 11614.580326945592, 11546.462389124263, 11425.95501009532, 11375.048998512899, 11315.818140434149, 11225.578780782147, 11120.449864009748, 11082.155937788912, 10987.868514296186, 10920.442550504482, 10834.92855121022, 10735.503852801117], \"yaxis\": \"y\"}, {\"legendgroup\": \"group-5\", \"line\": {\"color\": \"#008dff\"}, \"marker\": {\"size\": 3, \"symbol\": \"diamond\"}, \"name\": \"6\", \"type\": \"scatter\", \"uid\": \"65eb82c5-cc72-4d33-a8f8-5cbc26075b27\", \"x\": [11000.0, 11450.0, 11900.0, 12350.0, 12800.0, 13250.0, 13700.0, 14150.0, 14600.0, 15050.0, 15500.0, 15950.0, 16400.0, 16850.0, 17300.0, 17750.0, 18200.0, 18650.0, 19100.0, 19550.0, 20000.0], \"xaxis\": \"x2\", \"y\": [0.5041776548110584, 0.39023406927746374, 0.3175388504350529, 0.2668923064824901, 0.22560807776675992, 0.203042144204494, 0.18189522000862068, 0.16135829264739318, 0.14556836273965668, 0.13371966659083212, 0.12524940621974714, 0.11754876564474895, 0.11015802998525885, 0.10441164070595735, 0.09931347804630662, 0.09402786959361889, 0.09062541591197751, 0.08647506254390502, 0.08333888504337562, 0.08065101681509353], \"yaxis\": \"y2\"}, {\"legendgroup\": \"group-6\", \"line\": {\"color\": \"#00c3ff\"}, \"marker\": {\"size\": 3, \"symbol\": \"diamond\"}, \"name\": \"7\", \"showlegend\": false, \"type\": \"scatter\", \"uid\": \"e3a80f31-cdb4-4b35-8c65-81f51270d063\", \"x\": [11000.0, 11450.0, 11900.0, 12350.0, 12800.0, 13250.0, 13700.0, 14150.0, 14600.0, 15050.0, 15500.0, 15950.0, 16400.0, 16850.0, 17300.0, 17750.0, 18200.0, 18650.0, 19100.0, 19550.0, 20000.0], \"xaxis\": \"x\", \"y\": [10569.74740334304, 10778.034968335256, 10902.99080443269, 10989.797314359694, 11047.113446219639, 11099.194259237403, 11016.051305801364, 10966.513171670935, 10947.55947416353, 10934.581362699615, 10809.397890448754, 10698.341230707349, 10636.972622756153, 10581.99648087922, 10532.222759856093, 10454.841299228276, 10338.205644915452, 10252.881876072242, 10087.404942797337, 9969.196423563208], \"yaxis\": \"y\"}, {\"legendgroup\": \"group-6\", \"line\": {\"color\": \"#00c3ff\"}, \"marker\": {\"size\": 3, \"symbol\": \"diamond\"}, \"name\": \"7\", \"type\": \"scatter\", \"uid\": \"314be004-5cd5-4a7a-994d-bf424708a3a3\", \"x\": [11000.0, 11450.0, 11900.0, 12350.0, 12800.0, 13250.0, 13700.0, 14150.0, 14600.0, 15050.0, 15500.0, 15950.0, 16400.0, 16850.0, 17300.0, 17750.0, 18200.0, 18650.0, 19100.0, 19550.0, 20000.0], \"xaxis\": \"x2\", \"y\": [0.4422900724363882, 0.32572087182053455, 0.25608363121508193, 0.20917551310840277, 0.17856281204684143, 0.1532534478801237, 0.1389841189692777, 0.1262357056609694, 0.11375261901807446, 0.10290814628079882, 0.09725630417756266, 0.09284460200253164, 0.0871069617423461, 0.0816250729899891, 0.07729032592235478, 0.07380941869099045, 0.07152054892238287, 0.06908445244271275, 0.06851046721770122, 0.06692890210588077], \"yaxis\": \"y2\"}, {\"legendgroup\": \"group-7\", \"line\": {\"color\": \"#0ff8e8\"}, \"marker\": {\"size\": 3, \"symbol\": \"diamond\"}, \"name\": \"8\", \"showlegend\": false, \"type\": \"scatter\", \"uid\": \"80125e4f-860b-4d3f-9ec9-dbe50a60a850\", \"x\": [11000.0, 11450.0, 11900.0, 12350.0, 12800.0, 13250.0, 13700.0, 14150.0, 14600.0, 15050.0, 15500.0, 15950.0, 16400.0, 16850.0, 17300.0, 17750.0, 18200.0, 18650.0, 19100.0, 19550.0, 20000.0], \"xaxis\": \"x\", \"y\": [11547.678161996797, 11623.874786176679, 11731.044716907294, 11760.25509798027, 11744.698977086615, 11669.73950817632, 11644.121670479833, 11594.304643594436, 11525.864522224016, 11493.832801176886, 11493.569589639628, 11391.455575577864, 11294.144464329282, 11274.715359901778, 11177.405492194264, 11083.76958592225, 11033.949307567013, 10945.602385267846, 10830.938212361745, 10712.245869588583], \"yaxis\": \"y\"}, {\"legendgroup\": \"group-7\", \"line\": {\"color\": \"#0ff8e8\"}, \"marker\": {\"size\": 3, \"symbol\": \"diamond\"}, \"name\": \"8\", \"type\": \"scatter\", \"uid\": \"e24e15d3-aa66-4efd-82f5-29b44f050190\", \"x\": [11000.0, 11450.0, 11900.0, 12350.0, 12800.0, 13250.0, 13700.0, 14150.0, 14600.0, 15050.0, 15500.0, 15950.0, 16400.0, 16850.0, 17300.0, 17750.0, 18200.0, 18650.0, 19100.0, 19550.0, 20000.0], \"xaxis\": \"x2\", \"y\": [0.5003453146367499, 0.38382149418984424, 0.3046144240522065, 0.25655030086043534, 0.22316143817180586, 0.1983376255429574, 0.17627463164764823, 0.16038371517158478, 0.14647197836539907, 0.13388777429772944, 0.12191469474588634, 0.11483702826414072, 0.10939033073711928, 0.1016253554908811, 0.09688786513696965, 0.09283396230842705, 0.08787816010814403, 0.08454191425058025, 0.08203925347737268, 0.0802404176236165], \"yaxis\": \"y2\"}, {\"legendgroup\": \"group-8\", \"line\": {\"color\": \"#3affbc\"}, \"marker\": {\"size\": 3, \"symbol\": \"diamond\"}, \"name\": \"9\", \"showlegend\": false, \"type\": \"scatter\", \"uid\": \"9417e2ab-2d2b-4849-8640-b6d844ea5ec7\", \"x\": [11000.0, 11450.0, 11900.0, 12350.0, 12800.0, 13250.0, 13700.0, 14150.0, 14600.0, 15050.0, 15500.0, 15950.0, 16400.0, 16850.0, 17300.0, 17750.0, 18200.0, 18650.0, 19100.0, 19550.0, 20000.0], \"xaxis\": \"x\", \"y\": [10635.099216825016, 10811.018798823196, 10933.638973465304, 10979.717070479548, 11020.403776787787, 11035.731463947244, 10938.265121115064, 10845.596613320555, 10800.731975199556, 10763.639570847956, 10717.471486460141, 10707.496982070452, 10660.60682399312, 10573.357547773094, 10472.700868373204, 10404.049299323693, 10290.698637903408, 10218.265955052706, 10108.378593633912, 9988.315668041098], \"yaxis\": \"y\"}, {\"legendgroup\": \"group-8\", \"line\": {\"color\": \"#3affbc\"}, \"marker\": {\"size\": 3, \"symbol\": \"diamond\"}, \"name\": \"9\", \"type\": \"scatter\", \"uid\": \"95de37fb-8d4c-475e-aec7-84136e88aabf\", \"x\": [11000.0, 11450.0, 11900.0, 12350.0, 12800.0, 13250.0, 13700.0, 14150.0, 14600.0, 15050.0, 15500.0, 15950.0, 16400.0, 16850.0, 17300.0, 17750.0, 18200.0, 18650.0, 19100.0, 19550.0, 20000.0], \"xaxis\": \"x2\", \"y\": [0.43952006761780843, 0.327268984776419, 0.2606464861341183, 0.21628196882829448, 0.18251989124968382, 0.15831982713481618, 0.14420700235789413, 0.1319104825157537, 0.11992662887673335, 0.11051812652760704, 0.10164157832326394, 0.0935169832842306, 0.08702393919783383, 0.08275717669259847, 0.07958674997930451, 0.07579438452066575, 0.07337972954768164, 0.07043279263704051, 0.06849589481058935, 0.06699933221108373], \"yaxis\": \"y2\"}, {\"legendgroup\": \"group-9\", \"line\": {\"color\": \"#66ff91\"}, \"marker\": {\"size\": 3, \"symbol\": \"diamond\"}, \"name\": \"10\", \"showlegend\": false, \"type\": \"scatter\", \"uid\": \"075cba9d-1c81-4fcf-9fb9-291b0f639cd4\", \"x\": [11000.0, 11450.0, 11900.0, 12350.0, 12800.0, 13250.0, 13700.0, 14150.0, 14600.0, 15050.0, 15500.0, 15950.0, 16400.0, 16850.0, 17300.0, 17750.0, 18200.0, 18650.0, 19100.0, 19550.0, 20000.0], \"xaxis\": \"x\", \"y\": [11500.55767773097, 11637.546429690152, 11663.40617042992, 11724.968508662445, 11714.760546184587, 11715.267405819095, 11601.494346275227, 11508.240345570224, 11502.488963193151, 11497.386422527972, 11451.270656305627, 11400.159576989896, 11327.524225636038, 11287.892223234016, 11179.325846630562, 11094.423438456082, 10990.648087308033, 10925.434399972431, 10815.564131433573, 10706.177796255937], \"yaxis\": \"y\"}, {\"legendgroup\": \"group-9\", \"line\": {\"color\": \"#66ff91\"}, \"marker\": {\"size\": 3, \"symbol\": \"diamond\"}, \"name\": \"10\", \"type\": \"scatter\", \"uid\": \"6a31e64f-6136-46d8-98f0-e91ff0866ac5\", \"x\": [11000.0, 11450.0, 11900.0, 12350.0, 12800.0, 13250.0, 13700.0, 14150.0, 14600.0, 15050.0, 15500.0, 15950.0, 16400.0, 16850.0, 17300.0, 17750.0, 18200.0, 18650.0, 19100.0, 19550.0, 20000.0], \"xaxis\": \"x2\", \"y\": [0.5068949392970965, 0.38221104971484254, 0.31487414577388056, 0.2621151190162536, 0.22619764203242226, 0.1966896714263117, 0.17976793731845225, 0.16527279232801473, 0.14785746043356635, 0.13387433613614877, 0.1232425999868199, 0.1146829697056732, 0.10741488616862097, 0.10056120171965181, 0.09622391591057, 0.0922429076610291, 0.0891060122843892, 0.08532979760583174, 0.08271120381699126, 0.08030516190365557], \"yaxis\": \"y2\"}, {\"legendgroup\": \"group-10\", \"line\": {\"color\": \"#91ff66\"}, \"marker\": {\"size\": 3, \"symbol\": \"diamond\"}, \"name\": \"11\", \"showlegend\": false, \"type\": \"scatter\", \"uid\": \"a81282b2-1e99-4860-a498-375e9c998904\", \"x\": [11000.0, 11450.0, 11900.0, 12350.0, 12800.0, 13250.0, 13700.0, 14150.0, 14600.0, 15050.0, 15500.0, 15950.0, 16400.0, 16850.0, 17300.0, 17750.0, 18200.0, 18650.0, 19100.0, 19550.0, 20000.0], \"xaxis\": \"x\", \"y\": [10570.856509263214, 10736.442568836415, 10856.868647968908, 10979.906697012919, 10953.700434670503, 10957.336276077183, 10966.459695386746, 10949.857847026873, 10898.17650137722, 10912.847154692829, 10916.410390590076, 10804.79013541429, 10642.721757219706, 10673.950209699196, 10562.15537191637, 10441.053929477466, 10375.82143773825, 10218.808094852784, 10128.925286201786, 9982.977583607197], \"yaxis\": \"y\"}, {\"legendgroup\": \"group-10\", \"line\": {\"color\": \"#91ff66\"}, \"marker\": {\"size\": 3, \"symbol\": \"diamond\"}, \"name\": \"11\", \"type\": \"scatter\", \"uid\": \"29698eb0-059b-4448-baa3-a8c4622463cc\", \"x\": [11000.0, 11450.0, 11900.0, 12350.0, 12800.0, 13250.0, 13700.0, 14150.0, 14600.0, 15050.0, 15500.0, 15950.0, 16400.0, 16850.0, 17300.0, 17750.0, 18200.0, 18650.0, 19100.0, 19550.0, 20000.0], \"xaxis\": \"x2\", \"y\": [0.44592562360298593, 0.331726124200421, 0.2626860334726053, 0.21445158567301176, 0.1874369354198379, 0.16283699173812993, 0.14343516576688212, 0.1288301921728002, 0.11742933862073758, 0.10551038169028196, 0.09622856527804761, 0.0908415597305189, 0.08819161384785737, 0.08047832421527892, 0.07731272727040164, 0.07502560062315754, 0.07149678574153981, 0.07062712405261021, 0.06830828451008499, 0.0675509962637582], \"yaxis\": \"y2\"}, {\"legendgroup\": \"group-11\", \"line\": {\"color\": \"#bcff3a\"}, \"marker\": {\"size\": 3, \"symbol\": \"diamond\"}, \"name\": \"12\", \"showlegend\": false, \"type\": \"scatter\", \"uid\": \"27fcbf90-d2fd-4d4c-b8db-9e70065bf2a2\", \"x\": [11000.0, 11450.0, 11900.0, 12350.0, 12800.0, 13250.0, 13700.0, 14150.0, 14600.0, 15050.0, 15500.0, 15950.0, 16400.0, 16850.0, 17300.0, 17750.0, 18200.0, 18650.0, 19100.0, 19550.0, 20000.0], \"xaxis\": \"x\", \"y\": [11533.554418901995, 11597.331479911461, 11657.889585168934, 11762.268748636763, 11775.917513051456, 11764.967895422506, 11676.073086637227, 11650.112617143857, 11594.258946050913, 11522.736351585567, 11444.191999379364, 11366.855615514283, 11333.428810955658, 11291.115455484682, 11165.546445726966, 11084.736032809735, 11050.699407674529, 10978.54248596981, 10849.291930009682, 10738.957956164411], \"yaxis\": \"y\"}, {\"legendgroup\": \"group-11\", \"line\": {\"color\": \"#bcff3a\"}, \"marker\": {\"size\": 3, \"symbol\": \"diamond\"}, \"name\": \"12\", \"type\": \"scatter\", \"uid\": \"e20bc019-d31f-4994-a97e-f2702309862e\", \"x\": [11000.0, 11450.0, 11900.0, 12350.0, 12800.0, 13250.0, 13700.0, 14150.0, 14600.0, 15050.0, 15500.0, 15950.0, 16400.0, 16850.0, 17300.0, 17750.0, 18200.0, 18650.0, 19100.0, 19550.0, 20000.0], \"xaxis\": \"x2\", \"y\": [0.4948141939783134, 0.38257284907522643, 0.31106318084797985, 0.25245973709763675, 0.21581879433960166, 0.1894638080925602, 0.1719798978313757, 0.15370692887596543, 0.140611753786461, 0.13022103911735378, 0.12114965913477613, 0.1134082040590886, 0.10508702258326932, 0.09835950384020824, 0.09505240961204943, 0.09082482658920112, 0.08538454480911349, 0.08166191691747998, 0.0799399239764927, 0.07767439247279284], \"yaxis\": \"y2\"}, {\"legendgroup\": \"group-12\", \"line\": {\"color\": \"#e8ff0f\"}, \"marker\": {\"size\": 3, \"symbol\": \"diamond\"}, \"name\": \"13\", \"showlegend\": false, \"type\": \"scatter\", \"uid\": \"5f739ba0-1719-4ba5-b651-133c9717eedc\", \"x\": [11000.0, 11450.0, 11900.0, 12350.0, 12800.0, 13250.0, 13700.0, 14150.0, 14600.0, 15050.0, 15500.0, 15950.0, 16400.0, 16850.0, 17300.0, 17750.0, 18200.0, 18650.0, 19100.0, 19550.0, 20000.0], \"xaxis\": \"x\", \"y\": [10680.784661378812, 10845.542429380755, 10944.815192934726, 10993.087317815412, 11012.940076484394, 10887.379427963211, 10983.662316167121, 11024.751388763907, 10943.797478820637, 10891.467325909394, 10825.79202489999, 10805.557529364292, 10706.591895210207, 10571.784653112927, 10496.275695177474, 10402.1202278362, 10301.441469400985, 10238.491096739823, 10147.574803160998, 10007.566464221134], \"yaxis\": \"y\"}, {\"legendgroup\": \"group-12\", \"line\": {\"color\": \"#e8ff0f\"}, \"marker\": {\"size\": 3, \"symbol\": \"diamond\"}, \"name\": \"13\", \"type\": \"scatter\", \"uid\": \"6cabf403-7b80-4038-a2aa-3dbab4ed01d2\", \"x\": [11000.0, 11450.0, 11900.0, 12350.0, 12800.0, 13250.0, 13700.0, 14150.0, 14600.0, 15050.0, 15500.0, 15950.0, 16400.0, 16850.0, 17300.0, 17750.0, 18200.0, 18650.0, 19100.0, 19550.0, 20000.0], \"xaxis\": \"x2\", \"y\": [0.4392810715699427, 0.32903573292536575, 0.2641712463741873, 0.2199520853515653, 0.18797841086098377, 0.170137181865149, 0.14523399235417983, 0.12811695433348316, 0.11796293005695968, 0.10851866860126855, 0.10078020724639422, 0.09253446911219322, 0.08798570551552642, 0.08508103522642106, 0.0807247405411672, 0.07763414575866073, 0.07474110201651679, 0.0714984171727841, 0.0694441864787546, 0.06840896856885523], \"yaxis\": \"y2\"}, {\"legendgroup\": \"group-13\", \"line\": {\"color\": \"#ffd500\"}, \"marker\": {\"size\": 3, \"symbol\": \"diamond\"}, \"name\": \"14\", \"showlegend\": false, \"type\": \"scatter\", \"uid\": \"51b1e8d4-4c7d-4717-9bf8-50a3df451ba3\", \"x\": [11000.0, 11450.0, 11900.0, 12350.0, 12800.0, 13250.0, 13700.0, 14150.0, 14600.0, 15050.0, 15500.0, 15950.0, 16400.0, 16850.0, 17300.0, 17750.0, 18200.0, 18650.0, 19100.0, 19550.0, 20000.0], \"xaxis\": \"x\", \"y\": [11437.1881296405, 11528.701578025972, 11640.449468780576, 11710.818603845562, 11646.852339390707, 11571.106855857402, 11529.130018047732, 11506.724477504918, 11494.473536577672, 11432.760918872278, 11378.137918263288, 11302.85507985749, 11244.631327203226, 11103.724838190863, 11017.941987416276, 10957.21181370234, 10894.703106138699, 10810.029601198734, 10701.185949495191, 10638.391439708332], \"yaxis\": \"y\"}, {\"legendgroup\": \"group-13\", \"line\": {\"color\": \"#ffd500\"}, \"marker\": {\"size\": 3, \"symbol\": \"diamond\"}, \"name\": \"14\", \"type\": \"scatter\", \"uid\": \"291c787d-1c5b-4573-b72b-a3b90362088b\", \"x\": [11000.0, 11450.0, 11900.0, 12350.0, 12800.0, 13250.0, 13700.0, 14150.0, 14600.0, 15050.0, 15500.0, 15950.0, 16400.0, 16850.0, 17300.0, 17750.0, 18200.0, 18650.0, 19100.0, 19550.0, 20000.0], \"xaxis\": \"x2\", \"y\": [0.496748999005708, 0.3812215660301211, 0.30281560573624655, 0.2509255408599759, 0.22073539638977296, 0.19671394396283887, 0.1757145473403329, 0.15768917292428547, 0.14088198326667611, 0.13004325009218778, 0.12095401797605762, 0.11383288002950714, 0.10689215533606816, 0.10296885131622671, 0.09780859456526698, 0.09289643546287567, 0.08854171082989812, 0.08517563107205485, 0.08229688721693082, 0.07896773667540807], \"yaxis\": \"y2\"}, {\"legendgroup\": \"group-14\", \"line\": {\"color\": \"#ffa400\"}, \"marker\": {\"size\": 3, \"symbol\": \"diamond\"}, \"name\": \"15\", \"showlegend\": false, \"type\": \"scatter\", \"uid\": \"c039df3e-2748-44f0-996d-f40ab541593e\", \"x\": [11000.0, 11450.0, 11900.0, 12350.0, 12800.0, 13250.0, 13700.0, 14150.0, 14600.0, 15050.0, 15500.0, 15950.0, 16400.0, 16850.0, 17300.0, 17750.0, 18200.0, 18650.0, 19100.0, 19550.0, 20000.0], \"xaxis\": \"x\", \"y\": [10637.774893389853, 10870.528741129221, 10979.20752094891, 11029.889850247846, 11017.830301775746, 11002.647926802321, 11063.176163639557, 11043.320343340587, 10953.590586704851, 10884.149702433244, 10832.042108059699, 10746.120711685187, 10638.764813827649, 10558.09227679894, 10449.107297019238, 10350.60274211199, 10298.783130265036, 10276.173311434013, 10189.139086635258, 10056.484838218224], \"yaxis\": \"y\"}, {\"legendgroup\": \"group-14\", \"line\": {\"color\": \"#ffa400\"}, \"marker\": {\"size\": 3, \"symbol\": \"diamond\"}, \"name\": \"15\", \"type\": \"scatter\", \"uid\": \"d2e09742-2afc-4a8f-bfc5-eceb3e95bab3\", \"x\": [11000.0, 11450.0, 11900.0, 12350.0, 12800.0, 13250.0, 13700.0, 14150.0, 14600.0, 15050.0, 15500.0, 15950.0, 16400.0, 16850.0, 17300.0, 17750.0, 18200.0, 18650.0, 19100.0, 19550.0, 20000.0], \"xaxis\": \"x2\", \"y\": [0.4526680078126913, 0.33058475741331017, 0.26470724647387744, 0.21904485046383979, 0.188818847281167, 0.16619738171025455, 0.14364374771990304, 0.12786787360034071, 0.11791465883989272, 0.10890874790265448, 0.10128370560742415, 0.09532106076096122, 0.09066498376561384, 0.08579078573787756, 0.0823404365028928, 0.07946786802086912, 0.07534113146002487, 0.0712852113867502, 0.06888107318726494, 0.06764365885322746], \"yaxis\": \"y2\"}, {\"legendgroup\": \"group-15\", \"line\": {\"color\": \"#ff7200\"}, \"marker\": {\"size\": 3, \"symbol\": \"diamond\"}, \"name\": \"16\", \"showlegend\": false, \"type\": \"scatter\", \"uid\": \"a8563e88-3a4e-4dd9-9445-860d2b6677a5\", \"x\": [11000.0, 11450.0, 11900.0, 12350.0, 12800.0, 13250.0, 13700.0, 14150.0, 14600.0, 15050.0, 15500.0, 15950.0, 16400.0, 16850.0, 17300.0, 17750.0, 18200.0, 18650.0, 19100.0, 19550.0, 20000.0], \"xaxis\": \"x\", \"y\": [11420.979987138982, 11498.337813102757, 11639.50519134857, 11664.640617469393, 11701.728912830438, 11711.923994447285, 11712.746596833955, 11591.269112378643, 11449.641897841511, 11435.511892435268, 11421.346117783407, 11334.210896883855, 11278.258459816647, 11196.477817740706, 11110.138994066976, 11076.434179727443, 10994.477287359596, 10901.218261650312, 10835.518224745436, 10711.037322641674], \"yaxis\": \"y\"}, {\"legendgroup\": \"group-15\", \"line\": {\"color\": \"#ff7200\"}, \"marker\": {\"size\": 3, \"symbol\": \"diamond\"}, \"name\": \"16\", \"type\": \"scatter\", \"uid\": \"0ba0586e-3af6-49b7-9f3d-53f15c7f262c\", \"x\": [11000.0, 11450.0, 11900.0, 12350.0, 12800.0, 13250.0, 13700.0, 14150.0, 14600.0, 15050.0, 15500.0, 15950.0, 16400.0, 16850.0, 17300.0, 17750.0, 18200.0, 18650.0, 19100.0, 19550.0, 20000.0], \"xaxis\": \"x2\", \"y\": [0.499488409187315, 0.3838690951817617, 0.3021805815991795, 0.2514540281230128, 0.21646073068279542, 0.18685687485230784, 0.1645500999365563, 0.15175502590148646, 0.14351458248462712, 0.1299336743288275, 0.119700298487092, 0.11242807247877903, 0.1050015370491853, 0.10013529821734288, 0.0953538109300313, 0.08940156113165973, 0.08572755303725668, 0.08269382665953516, 0.078848332684631, 0.07701183515664956], \"yaxis\": \"y2\"}, {\"legendgroup\": \"group-16\", \"line\": {\"color\": \"#ff4000\"}, \"marker\": {\"size\": 3, \"symbol\": \"diamond\"}, \"name\": \"17\", \"showlegend\": false, \"type\": \"scatter\", \"uid\": \"7614046e-8fbc-464d-8bba-c8c87bcc1501\", \"x\": [11000.0, 11450.0, 11900.0, 12350.0, 12800.0, 13250.0, 13700.0, 14150.0, 14600.0, 15050.0, 15500.0, 15950.0, 16400.0, 16850.0, 17300.0, 17750.0, 18200.0, 18650.0, 19100.0, 19550.0, 20000.0], \"xaxis\": \"x\", \"y\": [10691.849844972343, 10881.252759643585, 11024.600489102355, 11008.926530015478, 11076.894883262032, 11042.045711965855, 11063.168036579458, 11070.578559634352, 11044.691764194673, 10970.651612456735, 10980.886609307676, 10896.00342966283, 10767.599990699178, 10635.613994162504, 10472.846994215468, 10456.66200657222, 10434.295581872158, 10327.027592056353, 10213.726635393015, 10093.310125127553], \"yaxis\": \"y\"}, {\"legendgroup\": \"group-16\", \"line\": {\"color\": \"#ff4000\"}, \"marker\": {\"size\": 3, \"symbol\": \"diamond\"}, \"name\": \"17\", \"type\": \"scatter\", \"uid\": \"635aecf4-11d2-4c69-9a6c-e9b965732488\", \"x\": [11000.0, 11450.0, 11900.0, 12350.0, 12800.0, 13250.0, 13700.0, 14150.0, 14600.0, 15050.0, 15500.0, 15950.0, 16400.0, 16850.0, 17300.0, 17750.0, 18200.0, 18650.0, 19100.0, 19550.0, 20000.0], \"xaxis\": \"x2\", \"y\": [0.44748184768936483, 0.33018100359144903, 0.2613079590931391, 0.22319723997674626, 0.18648857521767323, 0.1640901983224348, 0.14317470745010233, 0.1277823841658101, 0.11521986036883337, 0.10674911085099575, 0.09736938639966038, 0.0912338485549991, 0.0873359525558151, 0.08426006054625763, 0.0822766882554767, 0.0770967898467087, 0.07276875021360169, 0.07044586701292362, 0.06864631513717323, 0.06706138176935443], \"yaxis\": \"y2\"}, {\"legendgroup\": \"group-17\", \"line\": {\"color\": \"#fa0e00\"}, \"marker\": {\"size\": 3, \"symbol\": \"diamond\"}, \"name\": \"18\", \"showlegend\": false, \"type\": \"scatter\", \"uid\": \"353565d2-dac4-4403-b046-84e9761e8e24\", \"x\": [11000.0, 11450.0, 11900.0, 12350.0, 12800.0, 13250.0, 13700.0, 14150.0, 14600.0, 15050.0, 15500.0, 15950.0, 16400.0, 16850.0, 17300.0, 17750.0, 18200.0, 18650.0, 19100.0, 19550.0, 20000.0], \"xaxis\": \"x\", \"y\": [11404.686443357921, 11550.422153142581, 11639.138876479621, 11674.326225183811, 11643.003281158295, 11664.227712366752, 11609.622899066353, 11571.271663444122, 11488.505154936476, 11474.166472237957, 11444.220668813343, 11321.687644686788, 11274.086211426791, 11214.935163024827, 11095.7159296552, 11052.698086925739, 10967.067499016344, 10861.628943889627, 10781.611365120527, 10666.56171562961], \"yaxis\": \"y\"}, {\"legendgroup\": \"group-17\", \"line\": {\"color\": \"#fa0e00\"}, \"marker\": {\"size\": 3, \"symbol\": \"diamond\"}, \"name\": \"18\", \"type\": \"scatter\", \"uid\": \"809619f5-d99c-448e-8d91-d81fc174720f\", \"x\": [11000.0, 11450.0, 11900.0, 12350.0, 12800.0, 13250.0, 13700.0, 14150.0, 14600.0, 15050.0, 15500.0, 15950.0, 16400.0, 16850.0, 17300.0, 17750.0, 18200.0, 18650.0, 19100.0, 19550.0, 20000.0], \"xaxis\": \"x2\", \"y\": [0.4977389437411596, 0.37634490448691843, 0.3031115960467388, 0.25454492611413476, 0.21950444294686317, 0.18907039351524565, 0.16921419174008417, 0.1526550022612553, 0.1416435654990689, 0.12873970376797447, 0.117732451218215, 0.11197824402292651, 0.10441814381550857, 0.09792972279488406, 0.09471757943639501, 0.08914056698650659, 0.08550392336785954, 0.08272152497759402, 0.07954222475461972, 0.07756336057852237], \"yaxis\": \"y2\"}, {\"legendgroup\": \"group-18\", \"line\": {\"color\": \"#bd0000\"}, \"marker\": {\"size\": 3, \"symbol\": \"diamond\"}, \"name\": \"19\", \"showlegend\": false, \"type\": \"scatter\", \"uid\": \"a186a755-3098-41c2-b1a5-ed8d311c3148\", \"x\": [11000.0, 11450.0, 11900.0, 12350.0, 12800.0, 13250.0, 13700.0, 14150.0, 14600.0, 15050.0, 15500.0, 15950.0, 16400.0, 16850.0, 17300.0, 17750.0, 18200.0, 18650.0, 19100.0, 19550.0, 20000.0], \"xaxis\": \"x\", \"y\": [10732.832305605065, 10927.532745010047, 10999.038295987173, 11120.942823009347, 11127.283737338126, 11084.30280676812, 11069.784812309364, 11066.322559389619, 11003.066376252807, 10955.364192122894, 10899.736539240288, 10741.06863236137, 10710.327383480128, 10597.496226545389, 10549.389773662053, 10465.941519309627, 10371.370420579678, 10256.85257100142, 10163.046966831698, 10074.690533201088], \"yaxis\": \"y\"}, {\"legendgroup\": \"group-18\", \"line\": {\"color\": \"#bd0000\"}, \"marker\": {\"size\": 3, \"symbol\": \"diamond\"}, \"name\": \"19\", \"type\": \"scatter\", \"uid\": \"aeceba21-85c7-4347-9928-a58ec1977914\", \"x\": [11000.0, 11450.0, 11900.0, 12350.0, 12800.0, 13250.0, 13700.0, 14150.0, 14600.0, 15050.0, 15500.0, 15950.0, 16400.0, 16850.0, 17300.0, 17750.0, 18200.0, 18650.0, 19100.0, 19550.0, 20000.0], \"xaxis\": \"x2\", \"y\": [0.44443637159123983, 0.3301963495493953, 0.26475209661040167, 0.21476367292060317, 0.1841100166964522, 0.16259081949317192, 0.143853601724972, 0.12756474449212685, 0.11696925559066805, 0.10710041470268136, 0.09912187964115514, 0.09650204436463768, 0.08985914755672528, 0.08622238465789246, 0.08092359794988353, 0.07737849041147359, 0.07453157832590498, 0.07263537854976868, 0.07025313296079846, 0.06792936424027783], \"yaxis\": \"y2\"}, {\"legendgroup\": \"group-19\", \"line\": {\"color\": \"#800000\"}, \"marker\": {\"size\": 3, \"symbol\": \"diamond\"}, \"name\": \"20\", \"showlegend\": false, \"type\": \"scatter\", \"uid\": \"71aaf0a1-f7b8-4362-8adf-83005e771f62\", \"x\": [11000.0, 11450.0, 11900.0, 12350.0, 12800.0, 13250.0, 13700.0, 14150.0, 14600.0, 15050.0, 15500.0, 15950.0, 16400.0, 16850.0, 17300.0, 17750.0, 18200.0, 18650.0, 19100.0, 19550.0, 20000.0], \"xaxis\": \"x\", \"y\": [10732.832305605065, 10927.532745010047, 10999.038295987173, 11120.942823009347, 11127.283737338126, 11084.30280676812, 11069.784812309364, 11066.322559389619, 11003.066376252807, 10955.364192122894, 10899.736539240288, 10741.06863236137, 10710.327383480128, 10597.496226545389, 10549.389773662053, 10465.941519309627, 10371.370420579678, 10256.85257100142, 10163.046966831698, 10074.690533201088], \"yaxis\": \"y\"}, {\"legendgroup\": \"group-19\", \"line\": {\"color\": \"#800000\"}, \"marker\": {\"size\": 3, \"symbol\": \"diamond\"}, \"name\": \"20\", \"type\": \"scatter\", \"uid\": \"3e2423b7-432a-4d5f-8c99-b3684e115fa4\", \"x\": [11000.0, 11450.0, 11900.0, 12350.0, 12800.0, 13250.0, 13700.0, 14150.0, 14600.0, 15050.0, 15500.0, 15950.0, 16400.0, 16850.0, 17300.0, 17750.0, 18200.0, 18650.0, 19100.0, 19550.0, 20000.0], \"xaxis\": \"x2\", \"y\": [0.44443637159123983, 0.3301963495493953, 0.26475209661040167, 0.21476367292060317, 0.1841100166964522, 0.16259081949317192, 0.143853601724972, 0.12756474449212685, 0.11696925559066805, 0.10710041470268136, 0.09912187964115514, 0.09650204436463768, 0.08985914755672528, 0.08622238465789246, 0.08092359794988353, 0.07737849041147359, 0.07453157832590498, 0.07263537854976868, 0.07025313296079846, 0.06792936424027783], \"yaxis\": \"y2\"}],                        {\"height\": 580, \"hidesources\": true, \"legend\": {\"title\": {\"text\": \"iterations\"}, \"tracegroupgap\": 0}, \"margin\": {\"b\": 80, \"l\": 10, \"pad\": 0, \"r\": 135, \"t\": 25}, \"template\": {\"data\": {\"bar\": [{\"error_x\": {\"color\": \"#2a3f5f\"}, \"error_y\": {\"color\": \"#2a3f5f\"}, \"marker\": {\"line\": {\"color\": \"#E5ECF6\", \"width\": 0.5}}, \"type\": \"bar\"}], \"barpolar\": [{\"marker\": {\"line\": {\"color\": \"#E5ECF6\", \"width\": 0.5}}, \"type\": \"barpolar\"}], \"carpet\": [{\"aaxis\": {\"endlinecolor\": \"#2a3f5f\", \"gridcolor\": \"white\", \"linecolor\": \"white\", \"minorgridcolor\": \"white\", \"startlinecolor\": \"#2a3f5f\"}, \"baxis\": {\"endlinecolor\": \"#2a3f5f\", \"gridcolor\": \"white\", \"linecolor\": \"white\", \"minorgridcolor\": \"white\", \"startlinecolor\": \"#2a3f5f\"}, \"type\": \"carpet\"}], \"choropleth\": [{\"colorbar\": {\"outlinewidth\": 0, \"ticks\": \"\"}, \"type\": \"choropleth\"}], \"contour\": [{\"colorbar\": {\"outlinewidth\": 0, \"ticks\": \"\"}, \"colorscale\": [[0.0, \"#0d0887\"], [0.1111111111111111, \"#46039f\"], [0.2222222222222222, \"#7201a8\"], [0.3333333333333333, \"#9c179e\"], [0.4444444444444444, \"#bd3786\"], [0.5555555555555556, \"#d8576b\"], [0.6666666666666666, \"#ed7953\"], [0.7777777777777778, \"#fb9f3a\"], [0.8888888888888888, \"#fdca26\"], [1.0, \"#f0f921\"]], \"type\": \"contour\"}], \"contourcarpet\": [{\"colorbar\": {\"outlinewidth\": 0, \"ticks\": \"\"}, \"type\": \"contourcarpet\"}], \"heatmap\": [{\"colorbar\": {\"outlinewidth\": 0, \"ticks\": \"\"}, \"colorscale\": [[0.0, \"#0d0887\"], [0.1111111111111111, \"#46039f\"], [0.2222222222222222, \"#7201a8\"], [0.3333333333333333, \"#9c179e\"], [0.4444444444444444, \"#bd3786\"], [0.5555555555555556, \"#d8576b\"], [0.6666666666666666, \"#ed7953\"], [0.7777777777777778, \"#fb9f3a\"], [0.8888888888888888, \"#fdca26\"], [1.0, \"#f0f921\"]], \"type\": \"heatmap\"}], \"heatmapgl\": [{\"colorbar\": {\"outlinewidth\": 0, \"ticks\": \"\"}, \"colorscale\": [[0.0, \"#0d0887\"], [0.1111111111111111, \"#46039f\"], [0.2222222222222222, \"#7201a8\"], [0.3333333333333333, \"#9c179e\"], [0.4444444444444444, \"#bd3786\"], [0.5555555555555556, \"#d8576b\"], [0.6666666666666666, \"#ed7953\"], [0.7777777777777778, \"#fb9f3a\"], [0.8888888888888888, \"#fdca26\"], [1.0, \"#f0f921\"]], \"type\": \"heatmapgl\"}], \"histogram\": [{\"marker\": {\"colorbar\": {\"outlinewidth\": 0, \"ticks\": \"\"}}, \"type\": \"histogram\"}], \"histogram2d\": [{\"colorbar\": {\"outlinewidth\": 0, \"ticks\": \"\"}, \"colorscale\": [[0.0, \"#0d0887\"], [0.1111111111111111, \"#46039f\"], [0.2222222222222222, \"#7201a8\"], [0.3333333333333333, \"#9c179e\"], [0.4444444444444444, \"#bd3786\"], [0.5555555555555556, \"#d8576b\"], [0.6666666666666666, \"#ed7953\"], [0.7777777777777778, \"#fb9f3a\"], [0.8888888888888888, \"#fdca26\"], [1.0, \"#f0f921\"]], \"type\": \"histogram2d\"}], \"histogram2dcontour\": [{\"colorbar\": {\"outlinewidth\": 0, \"ticks\": \"\"}, \"colorscale\": [[0.0, \"#0d0887\"], [0.1111111111111111, \"#46039f\"], [0.2222222222222222, \"#7201a8\"], [0.3333333333333333, \"#9c179e\"], [0.4444444444444444, \"#bd3786\"], [0.5555555555555556, \"#d8576b\"], [0.6666666666666666, \"#ed7953\"], [0.7777777777777778, \"#fb9f3a\"], [0.8888888888888888, \"#fdca26\"], [1.0, \"#f0f921\"]], \"type\": \"histogram2dcontour\"}], \"mesh3d\": [{\"colorbar\": {\"outlinewidth\": 0, \"ticks\": \"\"}, \"type\": \"mesh3d\"}], \"parcoords\": [{\"line\": {\"colorbar\": {\"outlinewidth\": 0, \"ticks\": \"\"}}, \"type\": \"parcoords\"}], \"pie\": [{\"automargin\": true, \"type\": \"pie\"}], \"scatter\": [{\"marker\": {\"colorbar\": {\"outlinewidth\": 0, \"ticks\": \"\"}}, \"type\": \"scatter\"}], \"scatter3d\": [{\"line\": {\"colorbar\": {\"outlinewidth\": 0, \"ticks\": \"\"}}, \"marker\": {\"colorbar\": {\"outlinewidth\": 0, \"ticks\": \"\"}}, \"type\": \"scatter3d\"}], \"scattercarpet\": [{\"marker\": {\"colorbar\": {\"outlinewidth\": 0, \"ticks\": \"\"}}, \"type\": \"scattercarpet\"}], \"scattergeo\": [{\"marker\": {\"colorbar\": {\"outlinewidth\": 0, \"ticks\": \"\"}}, \"type\": \"scattergeo\"}], \"scattergl\": [{\"marker\": {\"colorbar\": {\"outlinewidth\": 0, \"ticks\": \"\"}}, \"type\": \"scattergl\"}], \"scattermapbox\": [{\"marker\": {\"colorbar\": {\"outlinewidth\": 0, \"ticks\": \"\"}}, \"type\": \"scattermapbox\"}], \"scatterpolar\": [{\"marker\": {\"colorbar\": {\"outlinewidth\": 0, \"ticks\": \"\"}}, \"type\": \"scatterpolar\"}], \"scatterpolargl\": [{\"marker\": {\"colorbar\": {\"outlinewidth\": 0, \"ticks\": \"\"}}, \"type\": \"scatterpolargl\"}], \"scatterternary\": [{\"marker\": {\"colorbar\": {\"outlinewidth\": 0, \"ticks\": \"\"}}, \"type\": \"scatterternary\"}], \"surface\": [{\"colorbar\": {\"outlinewidth\": 0, \"ticks\": \"\"}, \"colorscale\": [[0.0, \"#0d0887\"], [0.1111111111111111, \"#46039f\"], [0.2222222222222222, \"#7201a8\"], [0.3333333333333333, \"#9c179e\"], [0.4444444444444444, \"#bd3786\"], [0.5555555555555556, \"#d8576b\"], [0.6666666666666666, \"#ed7953\"], [0.7777777777777778, \"#fb9f3a\"], [0.8888888888888888, \"#fdca26\"], [1.0, \"#f0f921\"]], \"type\": \"surface\"}], \"table\": [{\"cells\": {\"fill\": {\"color\": \"#EBF0F8\"}, \"line\": {\"color\": \"white\"}}, \"header\": {\"fill\": {\"color\": \"#C8D4E3\"}, \"line\": {\"color\": \"white\"}}, \"type\": \"table\"}]}, \"layout\": {\"annotationdefaults\": {\"arrowcolor\": \"#2a3f5f\", \"arrowhead\": 0, \"arrowwidth\": 1}, \"autotypenumbers\": \"strict\", \"coloraxis\": {\"colorbar\": {\"outlinewidth\": 0, \"ticks\": \"\"}}, \"colorscale\": {\"diverging\": [[0, \"#8e0152\"], [0.1, \"#c51b7d\"], [0.2, \"#de77ae\"], [0.3, \"#f1b6da\"], [0.4, \"#fde0ef\"], [0.5, \"#f7f7f7\"], [0.6, \"#e6f5d0\"], [0.7, \"#b8e186\"], [0.8, \"#7fbc41\"], [0.9, \"#4d9221\"], [1, \"#276419\"]], \"sequential\": [[0.0, \"#0d0887\"], [0.1111111111111111, \"#46039f\"], [0.2222222222222222, \"#7201a8\"], [0.3333333333333333, \"#9c179e\"], [0.4444444444444444, \"#bd3786\"], [0.5555555555555556, \"#d8576b\"], [0.6666666666666666, \"#ed7953\"], [0.7777777777777778, \"#fb9f3a\"], [0.8888888888888888, \"#fdca26\"], [1.0, \"#f0f921\"]], \"sequentialminus\": [[0.0, \"#0d0887\"], [0.1111111111111111, \"#46039f\"], [0.2222222222222222, \"#7201a8\"], [0.3333333333333333, \"#9c179e\"], [0.4444444444444444, \"#bd3786\"], [0.5555555555555556, \"#d8576b\"], [0.6666666666666666, \"#ed7953\"], [0.7777777777777778, \"#fb9f3a\"], [0.8888888888888888, \"#fdca26\"], [1.0, \"#f0f921\"]]}, \"colorway\": [\"#636efa\", \"#EF553B\", \"#00cc96\", \"#ab63fa\", \"#FFA15A\", \"#19d3f3\", \"#FF6692\", \"#B6E880\", \"#FF97FF\", \"#FECB52\"], \"font\": {\"color\": \"#2a3f5f\"}, \"geo\": {\"bgcolor\": \"white\", \"lakecolor\": \"white\", \"landcolor\": \"#E5ECF6\", \"showlakes\": true, \"showland\": true, \"subunitcolor\": \"white\"}, \"hoverlabel\": {\"align\": \"left\"}, \"hovermode\": \"closest\", \"mapbox\": {\"style\": \"light\"}, \"paper_bgcolor\": \"white\", \"plot_bgcolor\": \"#E5ECF6\", \"polar\": {\"angularaxis\": {\"gridcolor\": \"white\", \"linecolor\": \"white\", \"ticks\": \"\"}, \"bgcolor\": \"#E5ECF6\", \"radialaxis\": {\"gridcolor\": \"white\", \"linecolor\": \"white\", \"ticks\": \"\"}}, \"scene\": {\"xaxis\": {\"backgroundcolor\": \"#E5ECF6\", \"gridcolor\": \"white\", \"gridwidth\": 2, \"linecolor\": \"white\", \"showbackground\": true, \"ticks\": \"\", \"zerolinecolor\": \"white\"}, \"yaxis\": {\"backgroundcolor\": \"#E5ECF6\", \"gridcolor\": \"white\", \"gridwidth\": 2, \"linecolor\": \"white\", \"showbackground\": true, \"ticks\": \"\", \"zerolinecolor\": \"white\"}, \"zaxis\": {\"backgroundcolor\": \"#E5ECF6\", \"gridcolor\": \"white\", \"gridwidth\": 2, \"linecolor\": \"white\", \"showbackground\": true, \"ticks\": \"\", \"zerolinecolor\": \"white\"}}, \"shapedefaults\": {\"line\": {\"color\": \"#2a3f5f\"}}, \"ternary\": {\"aaxis\": {\"gridcolor\": \"white\", \"linecolor\": \"white\", \"ticks\": \"\"}, \"baxis\": {\"gridcolor\": \"white\", \"linecolor\": \"white\", \"ticks\": \"\"}, \"bgcolor\": \"#E5ECF6\", \"caxis\": {\"gridcolor\": \"white\", \"linecolor\": \"white\", \"ticks\": \"\"}}, \"title\": {\"x\": 0.05}, \"xaxis\": {\"automargin\": true, \"gridcolor\": \"white\", \"linecolor\": \"white\", \"ticks\": \"\", \"title\": {\"standoff\": 15}, \"zerolinecolor\": \"white\", \"zerolinewidth\": 2}, \"yaxis\": {\"automargin\": true, \"gridcolor\": \"white\", \"linecolor\": \"white\", \"ticks\": \"\", \"title\": {\"standoff\": 15}, \"zerolinecolor\": \"white\", \"zerolinewidth\": 2}}}, \"xaxis\": {\"anchor\": \"y\", \"domain\": [0.0, 0.45], \"tickformat\": \"g\", \"title\": {\"text\": \"$Shell~~Velocity$\"}}, \"xaxis2\": {\"anchor\": \"y2\", \"domain\": [0.55, 1.0], \"matches\": \"x\", \"tickformat\": \"g\", \"title\": {\"text\": \"$Shell~~Velocity$\"}}, \"yaxis\": {\"anchor\": \"x\", \"domain\": [0.0, 1.0], \"range\": [9000, 14000], \"tickformat\": \"g\", \"title\": {\"text\": \"$T_{rad}\\\\ [K]$\"}}, \"yaxis2\": {\"anchor\": \"x2\", \"domain\": [0.0, 1.0], \"title\": {\"text\": \"$W$\"}}},                        {\"responsive\": true}                    ).then(function(){\n                            \nvar gd = document.getElementById('f8e3d0a8-9b2a-484d-80ef-d560bbef0889');\nvar x = new MutationObserver(function (mutations, observer) {{\n        var display = window.getComputedStyle(gd).display;\n        if (!display || display === 'none') {{\n            console.log([gd, 'removed!']);\n            Plotly.purge(gd);\n            observer.disconnect();\n        }}\n}});\n\n// Listen for the removal of the full notebook cells\nvar notebookContainer = gd.closest('#notebook-container');\nif (notebookContainer) {{\n    x.observe(notebookContainer, {childList: true});\n}}\n\n// Listen for the clearing of the current output cell\nvar outputEl = gd.closest('.output');\nif (outputEl) {{\n    x.observe(outputEl, {childList: true});\n}}\n\n                        })                };                });            </script>        </div>"
         },
         "metadata": {},
         "output_type": "display_data"
        },
        {
         "data": {
          "text/html": "        <script type=\"text/javascript\">\n        window.PlotlyConfig = {MathJaxConfig: 'local'};\n        if (window.MathJax) {MathJax.Hub.Config({SVG: {font: \"STIX-Web\"}});}\n        if (typeof require !== 'undefined') {\n        require.undef(\"plotly\");\n        requirejs.config({\n            paths: {\n                'plotly': ['https://cdn.plot.ly/plotly-latest.min']\n            }\n        });\n        require(['plotly'], function(Plotly) {\n            window._Plotly = Plotly;\n        });\n        }\n        </script>\n        "
         },
         "metadata": {},
         "output_type": "display_data"
        },
        {
         "data": {
          "text/html": "<div>                            <div id=\"c0fcefb5-f77a-4290-a724-c0f23c8d624f\" class=\"plotly-graph-div\" style=\"height:580px; width:100%;\"></div>            <script type=\"text/javascript\">                require([\"plotly\"], function(Plotly) {                    window.PLOTLYENV=window.PLOTLYENV || {};                                    if (document.getElementById(\"c0fcefb5-f77a-4290-a724-c0f23c8d624f\")) {                    Plotly.newPlot(                        \"c0fcefb5-f77a-4290-a724-c0f23c8d624f\",                        [{\"line\": {\"color\": \"#800000\"}, \"type\": \"scatter\", \"uid\": \"4ca58976-9e95-4383-ae85-df5fba6ef0d7\", \"xaxis\": \"x\", \"yaxis\": \"y\"}, {\"line\": {\"color\": \"#800000\"}, \"type\": \"scatter\", \"uid\": \"39bb09b7-ad75-44f7-9bf0-cc218dec793e\", \"xaxis\": \"x2\", \"yaxis\": \"y2\"}, {\"legendgroup\": \"group-0\", \"line\": {\"color\": \"#000080\"}, \"marker\": {\"size\": 3, \"symbol\": \"diamond\"}, \"name\": \"1\", \"showlegend\": false, \"type\": \"scatter\", \"uid\": \"898b6f57-db2c-415d-83a3-0e2eef90256e\", \"x\": [11000.0, 11450.0, 11900.0, 12350.0, 12800.0, 13250.0, 13700.0, 14150.0, 14600.0, 15050.0, 15500.0, 15950.0, 16400.0, 16850.0, 17300.0, 17750.0, 18200.0, 18650.0, 19100.0, 19550.0, 20000.0], \"xaxis\": \"x\", \"y\": [10134.733716625742, 10158.894068408064, 10199.163062164183, 10230.988705011776, 10268.95723542248, 10222.890845143002, 10224.33250792895, 10215.304103107928, 10218.67593187541, 10185.463728853065, 10144.46316917108, 10076.87680984274, 10030.209347853815, 10029.018621140542, 9986.944524442715, 9873.477845862937, 9843.334614032237, 9771.609702679261, 9679.524619982089, 9610.209774198473], \"yaxis\": \"y\"}, {\"legendgroup\": \"group-0\", \"line\": {\"color\": \"#000080\"}, \"marker\": {\"size\": 3, \"symbol\": \"diamond\"}, \"name\": \"1\", \"type\": \"scatter\", \"uid\": \"2a337948-0850-4be1-af98-4e70a7747169\", \"x\": [11000.0, 11450.0, 11900.0, 12350.0, 12800.0, 13250.0, 13700.0, 14150.0, 14600.0, 15050.0, 15500.0, 15950.0, 16400.0, 16850.0, 17300.0, 17750.0, 18200.0, 18650.0, 19100.0, 19550.0, 20000.0], \"xaxis\": \"x2\", \"y\": [0.5082040569581554, 0.3962212763594891, 0.3214185723254649, 0.26560113513158967, 0.22389059993927218, 0.19702589896830255, 0.1749491202529985, 0.1563731541470249, 0.13940960015313733, 0.12795427205030482, 0.11717940936679912, 0.10932218040060024, 0.10303354273987321, 0.09520635540966971, 0.08986506172262776, 0.08694065164106614, 0.082029771070409, 0.07895392034793645, 0.07641285709961215, 0.0734944435056783], \"yaxis\": \"y2\"}, {\"legendgroup\": \"group-1\", \"line\": {\"color\": \"#0000bd\"}, \"marker\": {\"size\": 3, \"symbol\": \"diamond\"}, \"name\": \"2\", \"showlegend\": false, \"type\": \"scatter\", \"uid\": \"776160fd-0db0-4e92-a615-b650092a8b6b\", \"x\": [11000.0, 11450.0, 11900.0, 12350.0, 12800.0, 13250.0, 13700.0, 14150.0, 14600.0, 15050.0, 15500.0, 15950.0, 16400.0, 16850.0, 17300.0, 17750.0, 18200.0, 18650.0, 19100.0, 19550.0, 20000.0], \"xaxis\": \"x\", \"y\": [11468.021903420027, 11435.999407966676, 11449.930444230995, 11492.65958293691, 11527.299217171007, 11499.835339656465, 11477.276330649498, 11460.659744967303, 11406.161049943823, 11340.543942919201, 11306.370330122183, 11212.548324749032, 11165.15031794662, 11109.460288675331, 11032.751812374603, 10953.828130057926, 10887.89602394496, 10829.273836669769, 10807.478630946254, 10678.472039472606], \"yaxis\": \"y\"}, {\"legendgroup\": \"group-1\", \"line\": {\"color\": \"#0000bd\"}, \"marker\": {\"size\": 3, \"symbol\": \"diamond\"}, \"name\": \"2\", \"type\": \"scatter\", \"uid\": \"cb7f7c8a-12dc-49ce-a208-cace17ecfb73\", \"x\": [11000.0, 11450.0, 11900.0, 12350.0, 12800.0, 13250.0, 13700.0, 14150.0, 14600.0, 15050.0, 15500.0, 15950.0, 16400.0, 16850.0, 17300.0, 17750.0, 18200.0, 18650.0, 19100.0, 19550.0, 20000.0], \"xaxis\": \"x2\", \"y\": [0.5486713034814857, 0.4359667978092499, 0.35745766558351055, 0.29759617877916883, 0.2514052642548386, 0.2213742932983643, 0.1967142119281105, 0.1750139221468986, 0.1596018423150508, 0.14776884435084475, 0.1362910943753445, 0.1282954632603496, 0.11949333047989281, 0.11271924127039863, 0.10796286592870252, 0.10261651657287679, 0.09761052473526158, 0.0925701903122773, 0.08757308797595444, 0.08560372849204283], \"yaxis\": \"y2\"}, {\"legendgroup\": \"group-2\", \"line\": {\"color\": \"#0000fa\"}, \"marker\": {\"size\": 3, \"symbol\": \"diamond\"}, \"name\": \"3\", \"showlegend\": false, \"type\": \"scatter\", \"uid\": \"1bad1f8e-8316-40ac-bb2c-37ac579a661b\", \"x\": [11000.0, 11450.0, 11900.0, 12350.0, 12800.0, 13250.0, 13700.0, 14150.0, 14600.0, 15050.0, 15500.0, 15950.0, 16400.0, 16850.0, 17300.0, 17750.0, 18200.0, 18650.0, 19100.0, 19550.0, 20000.0], \"xaxis\": \"x\", \"y\": [10497.008397133988, 10647.412149636564, 10710.555598349812, 10778.428547850966, 10799.157541112727, 10799.075913257297, 10809.366021863923, 10753.851890469936, 10723.18539784127, 10725.950530076656, 10623.433273860508, 10568.227843581686, 10448.426796026406, 10344.129570842591, 10277.247070725653, 10226.187071335817, 10191.522923045857, 10084.749431116139, 9966.774860086334, 9840.487791467045], \"yaxis\": \"y\"}, {\"legendgroup\": \"group-2\", \"line\": {\"color\": \"#0000fa\"}, \"marker\": {\"size\": 3, \"symbol\": \"diamond\"}, \"name\": \"3\", \"type\": \"scatter\", \"uid\": \"95141482-530e-4eef-91d8-e5a0fd93d2b2\", \"x\": [11000.0, 11450.0, 11900.0, 12350.0, 12800.0, 13250.0, 13700.0, 14150.0, 14600.0, 15050.0, 15500.0, 15950.0, 16400.0, 16850.0, 17300.0, 17750.0, 18200.0, 18650.0, 19100.0, 19550.0, 20000.0], \"xaxis\": \"x2\", \"y\": [0.442299407233424, 0.3316155054771363, 0.26819254934335535, 0.22122958128497036, 0.18813327121608667, 0.16428839927198421, 0.1443413401513004, 0.13164698698733832, 0.12013575438192611, 0.1081687026641846, 0.10181996368767447, 0.09492623735431249, 0.09101140062051426, 0.08639163271896758, 0.08220814746497997, 0.07762890235617773, 0.0732750049575765, 0.07106642067401933, 0.06969266984280108, 0.06837630714305266], \"yaxis\": \"y2\"}, {\"legendgroup\": \"group-3\", \"line\": {\"color\": \"#0022ff\"}, \"marker\": {\"size\": 3, \"symbol\": \"diamond\"}, \"name\": \"4\", \"showlegend\": false, \"type\": \"scatter\", \"uid\": \"4c1d7629-65ea-440d-9064-30d182eea79d\", \"x\": [11000.0, 11450.0, 11900.0, 12350.0, 12800.0, 13250.0, 13700.0, 14150.0, 14600.0, 15050.0, 15500.0, 15950.0, 16400.0, 16850.0, 17300.0, 17750.0, 18200.0, 18650.0, 19100.0, 19550.0, 20000.0], \"xaxis\": \"x\", \"y\": [11615.34431271539, 11665.123230726764, 11722.631980824826, 11696.759034389528, 11740.274989218244, 11729.411389495828, 11762.93754644142, 11652.44218706302, 11589.11016884437, 11561.496043188794, 11517.190316985118, 11433.020206851419, 11326.42249364519, 11237.973261737088, 11182.841624719184, 11103.37345606317, 10988.381394715301, 10950.081329679253, 10862.947659789317, 10751.855231570007], \"yaxis\": \"y\"}, {\"legendgroup\": \"group-3\", \"line\": {\"color\": \"#0022ff\"}, \"marker\": {\"size\": 3, \"symbol\": \"diamond\"}, \"name\": \"4\", \"type\": \"scatter\", \"uid\": \"79a1b649-3a61-464f-b81a-62bb41ceaed7\", \"x\": [11000.0, 11450.0, 11900.0, 12350.0, 12800.0, 13250.0, 13700.0, 14150.0, 14600.0, 15050.0, 15500.0, 15950.0, 16400.0, 16850.0, 17300.0, 17750.0, 18200.0, 18650.0, 19100.0, 19550.0, 20000.0], \"xaxis\": \"x2\", \"y\": [0.4977143593187972, 0.3915904655092031, 0.31518118479289936, 0.26854353604159453, 0.22820910008384737, 0.1992052064914697, 0.1732796396495469, 0.15947664883652757, 0.14579099407466625, 0.1334986840647756, 0.12384871542019993, 0.1163327713735177, 0.11004943343959867, 0.10494577908156115, 0.09880472549683283, 0.09393029340453476, 0.09096244445118767, 0.08630423393331049, 0.08321862769525468, 0.08100093623949862], \"yaxis\": \"y2\"}, {\"legendgroup\": \"group-4\", \"line\": {\"color\": \"#0057ff\"}, \"marker\": {\"size\": 3, \"symbol\": \"diamond\"}, \"name\": \"5\", \"showlegend\": false, \"type\": \"scatter\", \"uid\": \"0ac0f510-71f2-4b3f-bfad-9d4a28fa038a\", \"x\": [11000.0, 11450.0, 11900.0, 12350.0, 12800.0, 13250.0, 13700.0, 14150.0, 14600.0, 15050.0, 15500.0, 15950.0, 16400.0, 16850.0, 17300.0, 17750.0, 18200.0, 18650.0, 19100.0, 19550.0, 20000.0], \"xaxis\": \"x\", \"y\": [10549.51412848435, 10759.565074180144, 10894.663638012831, 10932.865203687254, 10930.709069978382, 10919.073481210131, 10877.07525272697, 10810.824269258308, 10785.603108487141, 10727.31310966391, 10697.303299672532, 10711.257210371086, 10551.734446150795, 10490.892524557958, 10416.933630770685, 10379.863072642813, 10279.630106699515, 10220.453729533758, 10077.475484616278, 9927.285882427788], \"yaxis\": \"y\"}, {\"legendgroup\": \"group-4\", \"line\": {\"color\": \"#0057ff\"}, \"marker\": {\"size\": 3, \"symbol\": \"diamond\"}, \"name\": \"5\", \"type\": \"scatter\", \"uid\": \"96546401-c7f2-4da3-8c9e-2d25d18db5f5\", \"x\": [11000.0, 11450.0, 11900.0, 12350.0, 12800.0, 13250.0, 13700.0, 14150.0, 14600.0, 15050.0, 15500.0, 15950.0, 16400.0, 16850.0, 17300.0, 17750.0, 18200.0, 18650.0, 19100.0, 19550.0, 20000.0], \"xaxis\": \"x2\", \"y\": [0.4434406663593859, 0.329565789368522, 0.26010890450064733, 0.2159881056247415, 0.1854070420834862, 0.16219891903074657, 0.14560372598880475, 0.13326787384388758, 0.11999931339731698, 0.11025218829721785, 0.1012892218335092, 0.09247037462403469, 0.08933312170132374, 0.08413052869637083, 0.07995660682274036, 0.07537221197763783, 0.07252173631498261, 0.06901139800647034, 0.06809975749337623, 0.06735205229901337], \"yaxis\": \"y2\"}, {\"legendgroup\": \"group-5\", \"line\": {\"color\": \"#008dff\"}, \"marker\": {\"size\": 3, \"symbol\": \"diamond\"}, \"name\": \"6\", \"showlegend\": false, \"type\": \"scatter\", \"uid\": \"0c43e840-b898-42f0-80ef-a8e452ca37c3\", \"x\": [11000.0, 11450.0, 11900.0, 12350.0, 12800.0, 13250.0, 13700.0, 14150.0, 14600.0, 15050.0, 15500.0, 15950.0, 16400.0, 16850.0, 17300.0, 17750.0, 18200.0, 18650.0, 19100.0, 19550.0, 20000.0], \"xaxis\": \"x\", \"y\": [11567.208184336641, 11613.025123050538, 11683.328827353047, 11693.104708830946, 11724.278325269526, 11653.124120929953, 11612.65021223817, 11609.82892873756, 11614.580326945592, 11546.462389124263, 11425.95501009532, 11375.048998512899, 11315.818140434149, 11225.578780782147, 11120.449864009748, 11082.155937788912, 10987.868514296186, 10920.442550504482, 10834.92855121022, 10735.503852801117], \"yaxis\": \"y\"}, {\"legendgroup\": \"group-5\", \"line\": {\"color\": \"#008dff\"}, \"marker\": {\"size\": 3, \"symbol\": \"diamond\"}, \"name\": \"6\", \"type\": \"scatter\", \"uid\": \"65eb82c5-cc72-4d33-a8f8-5cbc26075b27\", \"x\": [11000.0, 11450.0, 11900.0, 12350.0, 12800.0, 13250.0, 13700.0, 14150.0, 14600.0, 15050.0, 15500.0, 15950.0, 16400.0, 16850.0, 17300.0, 17750.0, 18200.0, 18650.0, 19100.0, 19550.0, 20000.0], \"xaxis\": \"x2\", \"y\": [0.5041776548110584, 0.39023406927746374, 0.3175388504350529, 0.2668923064824901, 0.22560807776675992, 0.203042144204494, 0.18189522000862068, 0.16135829264739318, 0.14556836273965668, 0.13371966659083212, 0.12524940621974714, 0.11754876564474895, 0.11015802998525885, 0.10441164070595735, 0.09931347804630662, 0.09402786959361889, 0.09062541591197751, 0.08647506254390502, 0.08333888504337562, 0.08065101681509353], \"yaxis\": \"y2\"}, {\"legendgroup\": \"group-6\", \"line\": {\"color\": \"#00c3ff\"}, \"marker\": {\"size\": 3, \"symbol\": \"diamond\"}, \"name\": \"7\", \"showlegend\": false, \"type\": \"scatter\", \"uid\": \"e3a80f31-cdb4-4b35-8c65-81f51270d063\", \"x\": [11000.0, 11450.0, 11900.0, 12350.0, 12800.0, 13250.0, 13700.0, 14150.0, 14600.0, 15050.0, 15500.0, 15950.0, 16400.0, 16850.0, 17300.0, 17750.0, 18200.0, 18650.0, 19100.0, 19550.0, 20000.0], \"xaxis\": \"x\", \"y\": [10569.74740334304, 10778.034968335256, 10902.99080443269, 10989.797314359694, 11047.113446219639, 11099.194259237403, 11016.051305801364, 10966.513171670935, 10947.55947416353, 10934.581362699615, 10809.397890448754, 10698.341230707349, 10636.972622756153, 10581.99648087922, 10532.222759856093, 10454.841299228276, 10338.205644915452, 10252.881876072242, 10087.404942797337, 9969.196423563208], \"yaxis\": \"y\"}, {\"legendgroup\": \"group-6\", \"line\": {\"color\": \"#00c3ff\"}, \"marker\": {\"size\": 3, \"symbol\": \"diamond\"}, \"name\": \"7\", \"type\": \"scatter\", \"uid\": \"314be004-5cd5-4a7a-994d-bf424708a3a3\", \"x\": [11000.0, 11450.0, 11900.0, 12350.0, 12800.0, 13250.0, 13700.0, 14150.0, 14600.0, 15050.0, 15500.0, 15950.0, 16400.0, 16850.0, 17300.0, 17750.0, 18200.0, 18650.0, 19100.0, 19550.0, 20000.0], \"xaxis\": \"x2\", \"y\": [0.4422900724363882, 0.32572087182053455, 0.25608363121508193, 0.20917551310840277, 0.17856281204684143, 0.1532534478801237, 0.1389841189692777, 0.1262357056609694, 0.11375261901807446, 0.10290814628079882, 0.09725630417756266, 0.09284460200253164, 0.0871069617423461, 0.0816250729899891, 0.07729032592235478, 0.07380941869099045, 0.07152054892238287, 0.06908445244271275, 0.06851046721770122, 0.06692890210588077], \"yaxis\": \"y2\"}, {\"legendgroup\": \"group-7\", \"line\": {\"color\": \"#0ff8e8\"}, \"marker\": {\"size\": 3, \"symbol\": \"diamond\"}, \"name\": \"8\", \"showlegend\": false, \"type\": \"scatter\", \"uid\": \"80125e4f-860b-4d3f-9ec9-dbe50a60a850\", \"x\": [11000.0, 11450.0, 11900.0, 12350.0, 12800.0, 13250.0, 13700.0, 14150.0, 14600.0, 15050.0, 15500.0, 15950.0, 16400.0, 16850.0, 17300.0, 17750.0, 18200.0, 18650.0, 19100.0, 19550.0, 20000.0], \"xaxis\": \"x\", \"y\": [11547.678161996797, 11623.874786176679, 11731.044716907294, 11760.25509798027, 11744.698977086615, 11669.73950817632, 11644.121670479833, 11594.304643594436, 11525.864522224016, 11493.832801176886, 11493.569589639628, 11391.455575577864, 11294.144464329282, 11274.715359901778, 11177.405492194264, 11083.76958592225, 11033.949307567013, 10945.602385267846, 10830.938212361745, 10712.245869588583], \"yaxis\": \"y\"}, {\"legendgroup\": \"group-7\", \"line\": {\"color\": \"#0ff8e8\"}, \"marker\": {\"size\": 3, \"symbol\": \"diamond\"}, \"name\": \"8\", \"type\": \"scatter\", \"uid\": \"e24e15d3-aa66-4efd-82f5-29b44f050190\", \"x\": [11000.0, 11450.0, 11900.0, 12350.0, 12800.0, 13250.0, 13700.0, 14150.0, 14600.0, 15050.0, 15500.0, 15950.0, 16400.0, 16850.0, 17300.0, 17750.0, 18200.0, 18650.0, 19100.0, 19550.0, 20000.0], \"xaxis\": \"x2\", \"y\": [0.5003453146367499, 0.38382149418984424, 0.3046144240522065, 0.25655030086043534, 0.22316143817180586, 0.1983376255429574, 0.17627463164764823, 0.16038371517158478, 0.14647197836539907, 0.13388777429772944, 0.12191469474588634, 0.11483702826414072, 0.10939033073711928, 0.1016253554908811, 0.09688786513696965, 0.09283396230842705, 0.08787816010814403, 0.08454191425058025, 0.08203925347737268, 0.0802404176236165], \"yaxis\": \"y2\"}, {\"legendgroup\": \"group-8\", \"line\": {\"color\": \"#3affbc\"}, \"marker\": {\"size\": 3, \"symbol\": \"diamond\"}, \"name\": \"9\", \"showlegend\": false, \"type\": \"scatter\", \"uid\": \"9417e2ab-2d2b-4849-8640-b6d844ea5ec7\", \"x\": [11000.0, 11450.0, 11900.0, 12350.0, 12800.0, 13250.0, 13700.0, 14150.0, 14600.0, 15050.0, 15500.0, 15950.0, 16400.0, 16850.0, 17300.0, 17750.0, 18200.0, 18650.0, 19100.0, 19550.0, 20000.0], \"xaxis\": \"x\", \"y\": [10635.099216825016, 10811.018798823196, 10933.638973465304, 10979.717070479548, 11020.403776787787, 11035.731463947244, 10938.265121115064, 10845.596613320555, 10800.731975199556, 10763.639570847956, 10717.471486460141, 10707.496982070452, 10660.60682399312, 10573.357547773094, 10472.700868373204, 10404.049299323693, 10290.698637903408, 10218.265955052706, 10108.378593633912, 9988.315668041098], \"yaxis\": \"y\"}, {\"legendgroup\": \"group-8\", \"line\": {\"color\": \"#3affbc\"}, \"marker\": {\"size\": 3, \"symbol\": \"diamond\"}, \"name\": \"9\", \"type\": \"scatter\", \"uid\": \"95de37fb-8d4c-475e-aec7-84136e88aabf\", \"x\": [11000.0, 11450.0, 11900.0, 12350.0, 12800.0, 13250.0, 13700.0, 14150.0, 14600.0, 15050.0, 15500.0, 15950.0, 16400.0, 16850.0, 17300.0, 17750.0, 18200.0, 18650.0, 19100.0, 19550.0, 20000.0], \"xaxis\": \"x2\", \"y\": [0.43952006761780843, 0.327268984776419, 0.2606464861341183, 0.21628196882829448, 0.18251989124968382, 0.15831982713481618, 0.14420700235789413, 0.1319104825157537, 0.11992662887673335, 0.11051812652760704, 0.10164157832326394, 0.0935169832842306, 0.08702393919783383, 0.08275717669259847, 0.07958674997930451, 0.07579438452066575, 0.07337972954768164, 0.07043279263704051, 0.06849589481058935, 0.06699933221108373], \"yaxis\": \"y2\"}, {\"legendgroup\": \"group-9\", \"line\": {\"color\": \"#66ff91\"}, \"marker\": {\"size\": 3, \"symbol\": \"diamond\"}, \"name\": \"10\", \"showlegend\": false, \"type\": \"scatter\", \"uid\": \"075cba9d-1c81-4fcf-9fb9-291b0f639cd4\", \"x\": [11000.0, 11450.0, 11900.0, 12350.0, 12800.0, 13250.0, 13700.0, 14150.0, 14600.0, 15050.0, 15500.0, 15950.0, 16400.0, 16850.0, 17300.0, 17750.0, 18200.0, 18650.0, 19100.0, 19550.0, 20000.0], \"xaxis\": \"x\", \"y\": [11500.55767773097, 11637.546429690152, 11663.40617042992, 11724.968508662445, 11714.760546184587, 11715.267405819095, 11601.494346275227, 11508.240345570224, 11502.488963193151, 11497.386422527972, 11451.270656305627, 11400.159576989896, 11327.524225636038, 11287.892223234016, 11179.325846630562, 11094.423438456082, 10990.648087308033, 10925.434399972431, 10815.564131433573, 10706.177796255937], \"yaxis\": \"y\"}, {\"legendgroup\": \"group-9\", \"line\": {\"color\": \"#66ff91\"}, \"marker\": {\"size\": 3, \"symbol\": \"diamond\"}, \"name\": \"10\", \"type\": \"scatter\", \"uid\": \"6a31e64f-6136-46d8-98f0-e91ff0866ac5\", \"x\": [11000.0, 11450.0, 11900.0, 12350.0, 12800.0, 13250.0, 13700.0, 14150.0, 14600.0, 15050.0, 15500.0, 15950.0, 16400.0, 16850.0, 17300.0, 17750.0, 18200.0, 18650.0, 19100.0, 19550.0, 20000.0], \"xaxis\": \"x2\", \"y\": [0.5068949392970965, 0.38221104971484254, 0.31487414577388056, 0.2621151190162536, 0.22619764203242226, 0.1966896714263117, 0.17976793731845225, 0.16527279232801473, 0.14785746043356635, 0.13387433613614877, 0.1232425999868199, 0.1146829697056732, 0.10741488616862097, 0.10056120171965181, 0.09622391591057, 0.0922429076610291, 0.0891060122843892, 0.08532979760583174, 0.08271120381699126, 0.08030516190365557], \"yaxis\": \"y2\"}, {\"legendgroup\": \"group-10\", \"line\": {\"color\": \"#91ff66\"}, \"marker\": {\"size\": 3, \"symbol\": \"diamond\"}, \"name\": \"11\", \"showlegend\": false, \"type\": \"scatter\", \"uid\": \"a81282b2-1e99-4860-a498-375e9c998904\", \"x\": [11000.0, 11450.0, 11900.0, 12350.0, 12800.0, 13250.0, 13700.0, 14150.0, 14600.0, 15050.0, 15500.0, 15950.0, 16400.0, 16850.0, 17300.0, 17750.0, 18200.0, 18650.0, 19100.0, 19550.0, 20000.0], \"xaxis\": \"x\", \"y\": [10570.856509263214, 10736.442568836415, 10856.868647968908, 10979.906697012919, 10953.700434670503, 10957.336276077183, 10966.459695386746, 10949.857847026873, 10898.17650137722, 10912.847154692829, 10916.410390590076, 10804.79013541429, 10642.721757219706, 10673.950209699196, 10562.15537191637, 10441.053929477466, 10375.82143773825, 10218.808094852784, 10128.925286201786, 9982.977583607197], \"yaxis\": \"y\"}, {\"legendgroup\": \"group-10\", \"line\": {\"color\": \"#91ff66\"}, \"marker\": {\"size\": 3, \"symbol\": \"diamond\"}, \"name\": \"11\", \"type\": \"scatter\", \"uid\": \"29698eb0-059b-4448-baa3-a8c4622463cc\", \"x\": [11000.0, 11450.0, 11900.0, 12350.0, 12800.0, 13250.0, 13700.0, 14150.0, 14600.0, 15050.0, 15500.0, 15950.0, 16400.0, 16850.0, 17300.0, 17750.0, 18200.0, 18650.0, 19100.0, 19550.0, 20000.0], \"xaxis\": \"x2\", \"y\": [0.44592562360298593, 0.331726124200421, 0.2626860334726053, 0.21445158567301176, 0.1874369354198379, 0.16283699173812993, 0.14343516576688212, 0.1288301921728002, 0.11742933862073758, 0.10551038169028196, 0.09622856527804761, 0.0908415597305189, 0.08819161384785737, 0.08047832421527892, 0.07731272727040164, 0.07502560062315754, 0.07149678574153981, 0.07062712405261021, 0.06830828451008499, 0.0675509962637582], \"yaxis\": \"y2\"}, {\"legendgroup\": \"group-11\", \"line\": {\"color\": \"#bcff3a\"}, \"marker\": {\"size\": 3, \"symbol\": \"diamond\"}, \"name\": \"12\", \"showlegend\": false, \"type\": \"scatter\", \"uid\": \"27fcbf90-d2fd-4d4c-b8db-9e70065bf2a2\", \"x\": [11000.0, 11450.0, 11900.0, 12350.0, 12800.0, 13250.0, 13700.0, 14150.0, 14600.0, 15050.0, 15500.0, 15950.0, 16400.0, 16850.0, 17300.0, 17750.0, 18200.0, 18650.0, 19100.0, 19550.0, 20000.0], \"xaxis\": \"x\", \"y\": [11533.554418901995, 11597.331479911461, 11657.889585168934, 11762.268748636763, 11775.917513051456, 11764.967895422506, 11676.073086637227, 11650.112617143857, 11594.258946050913, 11522.736351585567, 11444.191999379364, 11366.855615514283, 11333.428810955658, 11291.115455484682, 11165.546445726966, 11084.736032809735, 11050.699407674529, 10978.54248596981, 10849.291930009682, 10738.957956164411], \"yaxis\": \"y\"}, {\"legendgroup\": \"group-11\", \"line\": {\"color\": \"#bcff3a\"}, \"marker\": {\"size\": 3, \"symbol\": \"diamond\"}, \"name\": \"12\", \"type\": \"scatter\", \"uid\": \"e20bc019-d31f-4994-a97e-f2702309862e\", \"x\": [11000.0, 11450.0, 11900.0, 12350.0, 12800.0, 13250.0, 13700.0, 14150.0, 14600.0, 15050.0, 15500.0, 15950.0, 16400.0, 16850.0, 17300.0, 17750.0, 18200.0, 18650.0, 19100.0, 19550.0, 20000.0], \"xaxis\": \"x2\", \"y\": [0.4948141939783134, 0.38257284907522643, 0.31106318084797985, 0.25245973709763675, 0.21581879433960166, 0.1894638080925602, 0.1719798978313757, 0.15370692887596543, 0.140611753786461, 0.13022103911735378, 0.12114965913477613, 0.1134082040590886, 0.10508702258326932, 0.09835950384020824, 0.09505240961204943, 0.09082482658920112, 0.08538454480911349, 0.08166191691747998, 0.0799399239764927, 0.07767439247279284], \"yaxis\": \"y2\"}, {\"legendgroup\": \"group-12\", \"line\": {\"color\": \"#e8ff0f\"}, \"marker\": {\"size\": 3, \"symbol\": \"diamond\"}, \"name\": \"13\", \"showlegend\": false, \"type\": \"scatter\", \"uid\": \"5f739ba0-1719-4ba5-b651-133c9717eedc\", \"x\": [11000.0, 11450.0, 11900.0, 12350.0, 12800.0, 13250.0, 13700.0, 14150.0, 14600.0, 15050.0, 15500.0, 15950.0, 16400.0, 16850.0, 17300.0, 17750.0, 18200.0, 18650.0, 19100.0, 19550.0, 20000.0], \"xaxis\": \"x\", \"y\": [10680.784661378812, 10845.542429380755, 10944.815192934726, 10993.087317815412, 11012.940076484394, 10887.379427963211, 10983.662316167121, 11024.751388763907, 10943.797478820637, 10891.467325909394, 10825.79202489999, 10805.557529364292, 10706.591895210207, 10571.784653112927, 10496.275695177474, 10402.1202278362, 10301.441469400985, 10238.491096739823, 10147.574803160998, 10007.566464221134], \"yaxis\": \"y\"}, {\"legendgroup\": \"group-12\", \"line\": {\"color\": \"#e8ff0f\"}, \"marker\": {\"size\": 3, \"symbol\": \"diamond\"}, \"name\": \"13\", \"type\": \"scatter\", \"uid\": \"6cabf403-7b80-4038-a2aa-3dbab4ed01d2\", \"x\": [11000.0, 11450.0, 11900.0, 12350.0, 12800.0, 13250.0, 13700.0, 14150.0, 14600.0, 15050.0, 15500.0, 15950.0, 16400.0, 16850.0, 17300.0, 17750.0, 18200.0, 18650.0, 19100.0, 19550.0, 20000.0], \"xaxis\": \"x2\", \"y\": [0.4392810715699427, 0.32903573292536575, 0.2641712463741873, 0.2199520853515653, 0.18797841086098377, 0.170137181865149, 0.14523399235417983, 0.12811695433348316, 0.11796293005695968, 0.10851866860126855, 0.10078020724639422, 0.09253446911219322, 0.08798570551552642, 0.08508103522642106, 0.0807247405411672, 0.07763414575866073, 0.07474110201651679, 0.0714984171727841, 0.0694441864787546, 0.06840896856885523], \"yaxis\": \"y2\"}, {\"legendgroup\": \"group-13\", \"line\": {\"color\": \"#ffd500\"}, \"marker\": {\"size\": 3, \"symbol\": \"diamond\"}, \"name\": \"14\", \"showlegend\": false, \"type\": \"scatter\", \"uid\": \"51b1e8d4-4c7d-4717-9bf8-50a3df451ba3\", \"x\": [11000.0, 11450.0, 11900.0, 12350.0, 12800.0, 13250.0, 13700.0, 14150.0, 14600.0, 15050.0, 15500.0, 15950.0, 16400.0, 16850.0, 17300.0, 17750.0, 18200.0, 18650.0, 19100.0, 19550.0, 20000.0], \"xaxis\": \"x\", \"y\": [11437.1881296405, 11528.701578025972, 11640.449468780576, 11710.818603845562, 11646.852339390707, 11571.106855857402, 11529.130018047732, 11506.724477504918, 11494.473536577672, 11432.760918872278, 11378.137918263288, 11302.85507985749, 11244.631327203226, 11103.724838190863, 11017.941987416276, 10957.21181370234, 10894.703106138699, 10810.029601198734, 10701.185949495191, 10638.391439708332], \"yaxis\": \"y\"}, {\"legendgroup\": \"group-13\", \"line\": {\"color\": \"#ffd500\"}, \"marker\": {\"size\": 3, \"symbol\": \"diamond\"}, \"name\": \"14\", \"type\": \"scatter\", \"uid\": \"291c787d-1c5b-4573-b72b-a3b90362088b\", \"x\": [11000.0, 11450.0, 11900.0, 12350.0, 12800.0, 13250.0, 13700.0, 14150.0, 14600.0, 15050.0, 15500.0, 15950.0, 16400.0, 16850.0, 17300.0, 17750.0, 18200.0, 18650.0, 19100.0, 19550.0, 20000.0], \"xaxis\": \"x2\", \"y\": [0.496748999005708, 0.3812215660301211, 0.30281560573624655, 0.2509255408599759, 0.22073539638977296, 0.19671394396283887, 0.1757145473403329, 0.15768917292428547, 0.14088198326667611, 0.13004325009218778, 0.12095401797605762, 0.11383288002950714, 0.10689215533606816, 0.10296885131622671, 0.09780859456526698, 0.09289643546287567, 0.08854171082989812, 0.08517563107205485, 0.08229688721693082, 0.07896773667540807], \"yaxis\": \"y2\"}, {\"legendgroup\": \"group-14\", \"line\": {\"color\": \"#ffa400\"}, \"marker\": {\"size\": 3, \"symbol\": \"diamond\"}, \"name\": \"15\", \"showlegend\": false, \"type\": \"scatter\", \"uid\": \"c039df3e-2748-44f0-996d-f40ab541593e\", \"x\": [11000.0, 11450.0, 11900.0, 12350.0, 12800.0, 13250.0, 13700.0, 14150.0, 14600.0, 15050.0, 15500.0, 15950.0, 16400.0, 16850.0, 17300.0, 17750.0, 18200.0, 18650.0, 19100.0, 19550.0, 20000.0], \"xaxis\": \"x\", \"y\": [10637.774893389853, 10870.528741129221, 10979.20752094891, 11029.889850247846, 11017.830301775746, 11002.647926802321, 11063.176163639557, 11043.320343340587, 10953.590586704851, 10884.149702433244, 10832.042108059699, 10746.120711685187, 10638.764813827649, 10558.09227679894, 10449.107297019238, 10350.60274211199, 10298.783130265036, 10276.173311434013, 10189.139086635258, 10056.484838218224], \"yaxis\": \"y\"}, {\"legendgroup\": \"group-14\", \"line\": {\"color\": \"#ffa400\"}, \"marker\": {\"size\": 3, \"symbol\": \"diamond\"}, \"name\": \"15\", \"type\": \"scatter\", \"uid\": \"d2e09742-2afc-4a8f-bfc5-eceb3e95bab3\", \"x\": [11000.0, 11450.0, 11900.0, 12350.0, 12800.0, 13250.0, 13700.0, 14150.0, 14600.0, 15050.0, 15500.0, 15950.0, 16400.0, 16850.0, 17300.0, 17750.0, 18200.0, 18650.0, 19100.0, 19550.0, 20000.0], \"xaxis\": \"x2\", \"y\": [0.4526680078126913, 0.33058475741331017, 0.26470724647387744, 0.21904485046383979, 0.188818847281167, 0.16619738171025455, 0.14364374771990304, 0.12786787360034071, 0.11791465883989272, 0.10890874790265448, 0.10128370560742415, 0.09532106076096122, 0.09066498376561384, 0.08579078573787756, 0.0823404365028928, 0.07946786802086912, 0.07534113146002487, 0.0712852113867502, 0.06888107318726494, 0.06764365885322746], \"yaxis\": \"y2\"}, {\"legendgroup\": \"group-15\", \"line\": {\"color\": \"#ff7200\"}, \"marker\": {\"size\": 3, \"symbol\": \"diamond\"}, \"name\": \"16\", \"showlegend\": false, \"type\": \"scatter\", \"uid\": \"a8563e88-3a4e-4dd9-9445-860d2b6677a5\", \"x\": [11000.0, 11450.0, 11900.0, 12350.0, 12800.0, 13250.0, 13700.0, 14150.0, 14600.0, 15050.0, 15500.0, 15950.0, 16400.0, 16850.0, 17300.0, 17750.0, 18200.0, 18650.0, 19100.0, 19550.0, 20000.0], \"xaxis\": \"x\", \"y\": [11420.979987138982, 11498.337813102757, 11639.50519134857, 11664.640617469393, 11701.728912830438, 11711.923994447285, 11712.746596833955, 11591.269112378643, 11449.641897841511, 11435.511892435268, 11421.346117783407, 11334.210896883855, 11278.258459816647, 11196.477817740706, 11110.138994066976, 11076.434179727443, 10994.477287359596, 10901.218261650312, 10835.518224745436, 10711.037322641674], \"yaxis\": \"y\"}, {\"legendgroup\": \"group-15\", \"line\": {\"color\": \"#ff7200\"}, \"marker\": {\"size\": 3, \"symbol\": \"diamond\"}, \"name\": \"16\", \"type\": \"scatter\", \"uid\": \"0ba0586e-3af6-49b7-9f3d-53f15c7f262c\", \"x\": [11000.0, 11450.0, 11900.0, 12350.0, 12800.0, 13250.0, 13700.0, 14150.0, 14600.0, 15050.0, 15500.0, 15950.0, 16400.0, 16850.0, 17300.0, 17750.0, 18200.0, 18650.0, 19100.0, 19550.0, 20000.0], \"xaxis\": \"x2\", \"y\": [0.499488409187315, 0.3838690951817617, 0.3021805815991795, 0.2514540281230128, 0.21646073068279542, 0.18685687485230784, 0.1645500999365563, 0.15175502590148646, 0.14351458248462712, 0.1299336743288275, 0.119700298487092, 0.11242807247877903, 0.1050015370491853, 0.10013529821734288, 0.0953538109300313, 0.08940156113165973, 0.08572755303725668, 0.08269382665953516, 0.078848332684631, 0.07701183515664956], \"yaxis\": \"y2\"}, {\"legendgroup\": \"group-16\", \"line\": {\"color\": \"#ff4000\"}, \"marker\": {\"size\": 3, \"symbol\": \"diamond\"}, \"name\": \"17\", \"showlegend\": false, \"type\": \"scatter\", \"uid\": \"7614046e-8fbc-464d-8bba-c8c87bcc1501\", \"x\": [11000.0, 11450.0, 11900.0, 12350.0, 12800.0, 13250.0, 13700.0, 14150.0, 14600.0, 15050.0, 15500.0, 15950.0, 16400.0, 16850.0, 17300.0, 17750.0, 18200.0, 18650.0, 19100.0, 19550.0, 20000.0], \"xaxis\": \"x\", \"y\": [10691.849844972343, 10881.252759643585, 11024.600489102355, 11008.926530015478, 11076.894883262032, 11042.045711965855, 11063.168036579458, 11070.578559634352, 11044.691764194673, 10970.651612456735, 10980.886609307676, 10896.00342966283, 10767.599990699178, 10635.613994162504, 10472.846994215468, 10456.66200657222, 10434.295581872158, 10327.027592056353, 10213.726635393015, 10093.310125127553], \"yaxis\": \"y\"}, {\"legendgroup\": \"group-16\", \"line\": {\"color\": \"#ff4000\"}, \"marker\": {\"size\": 3, \"symbol\": \"diamond\"}, \"name\": \"17\", \"type\": \"scatter\", \"uid\": \"635aecf4-11d2-4c69-9a6c-e9b965732488\", \"x\": [11000.0, 11450.0, 11900.0, 12350.0, 12800.0, 13250.0, 13700.0, 14150.0, 14600.0, 15050.0, 15500.0, 15950.0, 16400.0, 16850.0, 17300.0, 17750.0, 18200.0, 18650.0, 19100.0, 19550.0, 20000.0], \"xaxis\": \"x2\", \"y\": [0.44748184768936483, 0.33018100359144903, 0.2613079590931391, 0.22319723997674626, 0.18648857521767323, 0.1640901983224348, 0.14317470745010233, 0.1277823841658101, 0.11521986036883337, 0.10674911085099575, 0.09736938639966038, 0.0912338485549991, 0.0873359525558151, 0.08426006054625763, 0.0822766882554767, 0.0770967898467087, 0.07276875021360169, 0.07044586701292362, 0.06864631513717323, 0.06706138176935443], \"yaxis\": \"y2\"}, {\"legendgroup\": \"group-17\", \"line\": {\"color\": \"#fa0e00\"}, \"marker\": {\"size\": 3, \"symbol\": \"diamond\"}, \"name\": \"18\", \"showlegend\": false, \"type\": \"scatter\", \"uid\": \"353565d2-dac4-4403-b046-84e9761e8e24\", \"x\": [11000.0, 11450.0, 11900.0, 12350.0, 12800.0, 13250.0, 13700.0, 14150.0, 14600.0, 15050.0, 15500.0, 15950.0, 16400.0, 16850.0, 17300.0, 17750.0, 18200.0, 18650.0, 19100.0, 19550.0, 20000.0], \"xaxis\": \"x\", \"y\": [11404.686443357921, 11550.422153142581, 11639.138876479621, 11674.326225183811, 11643.003281158295, 11664.227712366752, 11609.622899066353, 11571.271663444122, 11488.505154936476, 11474.166472237957, 11444.220668813343, 11321.687644686788, 11274.086211426791, 11214.935163024827, 11095.7159296552, 11052.698086925739, 10967.067499016344, 10861.628943889627, 10781.611365120527, 10666.56171562961], \"yaxis\": \"y\"}, {\"legendgroup\": \"group-17\", \"line\": {\"color\": \"#fa0e00\"}, \"marker\": {\"size\": 3, \"symbol\": \"diamond\"}, \"name\": \"18\", \"type\": \"scatter\", \"uid\": \"809619f5-d99c-448e-8d91-d81fc174720f\", \"x\": [11000.0, 11450.0, 11900.0, 12350.0, 12800.0, 13250.0, 13700.0, 14150.0, 14600.0, 15050.0, 15500.0, 15950.0, 16400.0, 16850.0, 17300.0, 17750.0, 18200.0, 18650.0, 19100.0, 19550.0, 20000.0], \"xaxis\": \"x2\", \"y\": [0.4977389437411596, 0.37634490448691843, 0.3031115960467388, 0.25454492611413476, 0.21950444294686317, 0.18907039351524565, 0.16921419174008417, 0.1526550022612553, 0.1416435654990689, 0.12873970376797447, 0.117732451218215, 0.11197824402292651, 0.10441814381550857, 0.09792972279488406, 0.09471757943639501, 0.08914056698650659, 0.08550392336785954, 0.08272152497759402, 0.07954222475461972, 0.07756336057852237], \"yaxis\": \"y2\"}, {\"legendgroup\": \"group-18\", \"line\": {\"color\": \"#bd0000\"}, \"marker\": {\"size\": 3, \"symbol\": \"diamond\"}, \"name\": \"19\", \"showlegend\": false, \"type\": \"scatter\", \"uid\": \"a186a755-3098-41c2-b1a5-ed8d311c3148\", \"x\": [11000.0, 11450.0, 11900.0, 12350.0, 12800.0, 13250.0, 13700.0, 14150.0, 14600.0, 15050.0, 15500.0, 15950.0, 16400.0, 16850.0, 17300.0, 17750.0, 18200.0, 18650.0, 19100.0, 19550.0, 20000.0], \"xaxis\": \"x\", \"y\": [10732.832305605065, 10927.532745010047, 10999.038295987173, 11120.942823009347, 11127.283737338126, 11084.30280676812, 11069.784812309364, 11066.322559389619, 11003.066376252807, 10955.364192122894, 10899.736539240288, 10741.06863236137, 10710.327383480128, 10597.496226545389, 10549.389773662053, 10465.941519309627, 10371.370420579678, 10256.85257100142, 10163.046966831698, 10074.690533201088], \"yaxis\": \"y\"}, {\"legendgroup\": \"group-18\", \"line\": {\"color\": \"#bd0000\"}, \"marker\": {\"size\": 3, \"symbol\": \"diamond\"}, \"name\": \"19\", \"type\": \"scatter\", \"uid\": \"aeceba21-85c7-4347-9928-a58ec1977914\", \"x\": [11000.0, 11450.0, 11900.0, 12350.0, 12800.0, 13250.0, 13700.0, 14150.0, 14600.0, 15050.0, 15500.0, 15950.0, 16400.0, 16850.0, 17300.0, 17750.0, 18200.0, 18650.0, 19100.0, 19550.0, 20000.0], \"xaxis\": \"x2\", \"y\": [0.44443637159123983, 0.3301963495493953, 0.26475209661040167, 0.21476367292060317, 0.1841100166964522, 0.16259081949317192, 0.143853601724972, 0.12756474449212685, 0.11696925559066805, 0.10710041470268136, 0.09912187964115514, 0.09650204436463768, 0.08985914755672528, 0.08622238465789246, 0.08092359794988353, 0.07737849041147359, 0.07453157832590498, 0.07263537854976868, 0.07025313296079846, 0.06792936424027783], \"yaxis\": \"y2\"}, {\"legendgroup\": \"group-19\", \"line\": {\"color\": \"#800000\"}, \"marker\": {\"size\": 3, \"symbol\": \"diamond\"}, \"name\": \"20\", \"showlegend\": false, \"type\": \"scatter\", \"uid\": \"71aaf0a1-f7b8-4362-8adf-83005e771f62\", \"x\": [11000.0, 11450.0, 11900.0, 12350.0, 12800.0, 13250.0, 13700.0, 14150.0, 14600.0, 15050.0, 15500.0, 15950.0, 16400.0, 16850.0, 17300.0, 17750.0, 18200.0, 18650.0, 19100.0, 19550.0, 20000.0], \"xaxis\": \"x\", \"y\": [10732.832305605065, 10927.532745010047, 10999.038295987173, 11120.942823009347, 11127.283737338126, 11084.30280676812, 11069.784812309364, 11066.322559389619, 11003.066376252807, 10955.364192122894, 10899.736539240288, 10741.06863236137, 10710.327383480128, 10597.496226545389, 10549.389773662053, 10465.941519309627, 10371.370420579678, 10256.85257100142, 10163.046966831698, 10074.690533201088], \"yaxis\": \"y\"}, {\"legendgroup\": \"group-19\", \"line\": {\"color\": \"#800000\"}, \"marker\": {\"size\": 3, \"symbol\": \"diamond\"}, \"name\": \"20\", \"type\": \"scatter\", \"uid\": \"3e2423b7-432a-4d5f-8c99-b3684e115fa4\", \"x\": [11000.0, 11450.0, 11900.0, 12350.0, 12800.0, 13250.0, 13700.0, 14150.0, 14600.0, 15050.0, 15500.0, 15950.0, 16400.0, 16850.0, 17300.0, 17750.0, 18200.0, 18650.0, 19100.0, 19550.0, 20000.0], \"xaxis\": \"x2\", \"y\": [0.44443637159123983, 0.3301963495493953, 0.26475209661040167, 0.21476367292060317, 0.1841100166964522, 0.16259081949317192, 0.143853601724972, 0.12756474449212685, 0.11696925559066805, 0.10710041470268136, 0.09912187964115514, 0.09650204436463768, 0.08985914755672528, 0.08622238465789246, 0.08092359794988353, 0.07737849041147359, 0.07453157832590498, 0.07263537854976868, 0.07025313296079846, 0.06792936424027783], \"yaxis\": \"y2\"}],                        {\"height\": 580, \"hidesources\": true, \"legend\": {\"title\": {\"text\": \"iterations\"}, \"tracegroupgap\": 0}, \"margin\": {\"b\": 80, \"l\": 10, \"pad\": 0, \"r\": 135, \"t\": 25}, \"template\": {\"data\": {\"bar\": [{\"error_x\": {\"color\": \"#2a3f5f\"}, \"error_y\": {\"color\": \"#2a3f5f\"}, \"marker\": {\"line\": {\"color\": \"#E5ECF6\", \"width\": 0.5}}, \"type\": \"bar\"}], \"barpolar\": [{\"marker\": {\"line\": {\"color\": \"#E5ECF6\", \"width\": 0.5}}, \"type\": \"barpolar\"}], \"carpet\": [{\"aaxis\": {\"endlinecolor\": \"#2a3f5f\", \"gridcolor\": \"white\", \"linecolor\": \"white\", \"minorgridcolor\": \"white\", \"startlinecolor\": \"#2a3f5f\"}, \"baxis\": {\"endlinecolor\": \"#2a3f5f\", \"gridcolor\": \"white\", \"linecolor\": \"white\", \"minorgridcolor\": \"white\", \"startlinecolor\": \"#2a3f5f\"}, \"type\": \"carpet\"}], \"choropleth\": [{\"colorbar\": {\"outlinewidth\": 0, \"ticks\": \"\"}, \"type\": \"choropleth\"}], \"contour\": [{\"colorbar\": {\"outlinewidth\": 0, \"ticks\": \"\"}, \"colorscale\": [[0.0, \"#0d0887\"], [0.1111111111111111, \"#46039f\"], [0.2222222222222222, \"#7201a8\"], [0.3333333333333333, \"#9c179e\"], [0.4444444444444444, \"#bd3786\"], [0.5555555555555556, \"#d8576b\"], [0.6666666666666666, \"#ed7953\"], [0.7777777777777778, \"#fb9f3a\"], [0.8888888888888888, \"#fdca26\"], [1.0, \"#f0f921\"]], \"type\": \"contour\"}], \"contourcarpet\": [{\"colorbar\": {\"outlinewidth\": 0, \"ticks\": \"\"}, \"type\": \"contourcarpet\"}], \"heatmap\": [{\"colorbar\": {\"outlinewidth\": 0, \"ticks\": \"\"}, \"colorscale\": [[0.0, \"#0d0887\"], [0.1111111111111111, \"#46039f\"], [0.2222222222222222, \"#7201a8\"], [0.3333333333333333, \"#9c179e\"], [0.4444444444444444, \"#bd3786\"], [0.5555555555555556, \"#d8576b\"], [0.6666666666666666, \"#ed7953\"], [0.7777777777777778, \"#fb9f3a\"], [0.8888888888888888, \"#fdca26\"], [1.0, \"#f0f921\"]], \"type\": \"heatmap\"}], \"heatmapgl\": [{\"colorbar\": {\"outlinewidth\": 0, \"ticks\": \"\"}, \"colorscale\": [[0.0, \"#0d0887\"], [0.1111111111111111, \"#46039f\"], [0.2222222222222222, \"#7201a8\"], [0.3333333333333333, \"#9c179e\"], [0.4444444444444444, \"#bd3786\"], [0.5555555555555556, \"#d8576b\"], [0.6666666666666666, \"#ed7953\"], [0.7777777777777778, \"#fb9f3a\"], [0.8888888888888888, \"#fdca26\"], [1.0, \"#f0f921\"]], \"type\": \"heatmapgl\"}], \"histogram\": [{\"marker\": {\"colorbar\": {\"outlinewidth\": 0, \"ticks\": \"\"}}, \"type\": \"histogram\"}], \"histogram2d\": [{\"colorbar\": {\"outlinewidth\": 0, \"ticks\": \"\"}, \"colorscale\": [[0.0, \"#0d0887\"], [0.1111111111111111, \"#46039f\"], [0.2222222222222222, \"#7201a8\"], [0.3333333333333333, \"#9c179e\"], [0.4444444444444444, \"#bd3786\"], [0.5555555555555556, \"#d8576b\"], [0.6666666666666666, \"#ed7953\"], [0.7777777777777778, \"#fb9f3a\"], [0.8888888888888888, \"#fdca26\"], [1.0, \"#f0f921\"]], \"type\": \"histogram2d\"}], \"histogram2dcontour\": [{\"colorbar\": {\"outlinewidth\": 0, \"ticks\": \"\"}, \"colorscale\": [[0.0, \"#0d0887\"], [0.1111111111111111, \"#46039f\"], [0.2222222222222222, \"#7201a8\"], [0.3333333333333333, \"#9c179e\"], [0.4444444444444444, \"#bd3786\"], [0.5555555555555556, \"#d8576b\"], [0.6666666666666666, \"#ed7953\"], [0.7777777777777778, \"#fb9f3a\"], [0.8888888888888888, \"#fdca26\"], [1.0, \"#f0f921\"]], \"type\": \"histogram2dcontour\"}], \"mesh3d\": [{\"colorbar\": {\"outlinewidth\": 0, \"ticks\": \"\"}, \"type\": \"mesh3d\"}], \"parcoords\": [{\"line\": {\"colorbar\": {\"outlinewidth\": 0, \"ticks\": \"\"}}, \"type\": \"parcoords\"}], \"pie\": [{\"automargin\": true, \"type\": \"pie\"}], \"scatter\": [{\"marker\": {\"colorbar\": {\"outlinewidth\": 0, \"ticks\": \"\"}}, \"type\": \"scatter\"}], \"scatter3d\": [{\"line\": {\"colorbar\": {\"outlinewidth\": 0, \"ticks\": \"\"}}, \"marker\": {\"colorbar\": {\"outlinewidth\": 0, \"ticks\": \"\"}}, \"type\": \"scatter3d\"}], \"scattercarpet\": [{\"marker\": {\"colorbar\": {\"outlinewidth\": 0, \"ticks\": \"\"}}, \"type\": \"scattercarpet\"}], \"scattergeo\": [{\"marker\": {\"colorbar\": {\"outlinewidth\": 0, \"ticks\": \"\"}}, \"type\": \"scattergeo\"}], \"scattergl\": [{\"marker\": {\"colorbar\": {\"outlinewidth\": 0, \"ticks\": \"\"}}, \"type\": \"scattergl\"}], \"scattermapbox\": [{\"marker\": {\"colorbar\": {\"outlinewidth\": 0, \"ticks\": \"\"}}, \"type\": \"scattermapbox\"}], \"scatterpolar\": [{\"marker\": {\"colorbar\": {\"outlinewidth\": 0, \"ticks\": \"\"}}, \"type\": \"scatterpolar\"}], \"scatterpolargl\": [{\"marker\": {\"colorbar\": {\"outlinewidth\": 0, \"ticks\": \"\"}}, \"type\": \"scatterpolargl\"}], \"scatterternary\": [{\"marker\": {\"colorbar\": {\"outlinewidth\": 0, \"ticks\": \"\"}}, \"type\": \"scatterternary\"}], \"surface\": [{\"colorbar\": {\"outlinewidth\": 0, \"ticks\": \"\"}, \"colorscale\": [[0.0, \"#0d0887\"], [0.1111111111111111, \"#46039f\"], [0.2222222222222222, \"#7201a8\"], [0.3333333333333333, \"#9c179e\"], [0.4444444444444444, \"#bd3786\"], [0.5555555555555556, \"#d8576b\"], [0.6666666666666666, \"#ed7953\"], [0.7777777777777778, \"#fb9f3a\"], [0.8888888888888888, \"#fdca26\"], [1.0, \"#f0f921\"]], \"type\": \"surface\"}], \"table\": [{\"cells\": {\"fill\": {\"color\": \"#EBF0F8\"}, \"line\": {\"color\": \"white\"}}, \"header\": {\"fill\": {\"color\": \"#C8D4E3\"}, \"line\": {\"color\": \"white\"}}, \"type\": \"table\"}]}, \"layout\": {\"annotationdefaults\": {\"arrowcolor\": \"#2a3f5f\", \"arrowhead\": 0, \"arrowwidth\": 1}, \"autotypenumbers\": \"strict\", \"coloraxis\": {\"colorbar\": {\"outlinewidth\": 0, \"ticks\": \"\"}}, \"colorscale\": {\"diverging\": [[0, \"#8e0152\"], [0.1, \"#c51b7d\"], [0.2, \"#de77ae\"], [0.3, \"#f1b6da\"], [0.4, \"#fde0ef\"], [0.5, \"#f7f7f7\"], [0.6, \"#e6f5d0\"], [0.7, \"#b8e186\"], [0.8, \"#7fbc41\"], [0.9, \"#4d9221\"], [1, \"#276419\"]], \"sequential\": [[0.0, \"#0d0887\"], [0.1111111111111111, \"#46039f\"], [0.2222222222222222, \"#7201a8\"], [0.3333333333333333, \"#9c179e\"], [0.4444444444444444, \"#bd3786\"], [0.5555555555555556, \"#d8576b\"], [0.6666666666666666, \"#ed7953\"], [0.7777777777777778, \"#fb9f3a\"], [0.8888888888888888, \"#fdca26\"], [1.0, \"#f0f921\"]], \"sequentialminus\": [[0.0, \"#0d0887\"], [0.1111111111111111, \"#46039f\"], [0.2222222222222222, \"#7201a8\"], [0.3333333333333333, \"#9c179e\"], [0.4444444444444444, \"#bd3786\"], [0.5555555555555556, \"#d8576b\"], [0.6666666666666666, \"#ed7953\"], [0.7777777777777778, \"#fb9f3a\"], [0.8888888888888888, \"#fdca26\"], [1.0, \"#f0f921\"]]}, \"colorway\": [\"#636efa\", \"#EF553B\", \"#00cc96\", \"#ab63fa\", \"#FFA15A\", \"#19d3f3\", \"#FF6692\", \"#B6E880\", \"#FF97FF\", \"#FECB52\"], \"font\": {\"color\": \"#2a3f5f\"}, \"geo\": {\"bgcolor\": \"white\", \"lakecolor\": \"white\", \"landcolor\": \"#E5ECF6\", \"showlakes\": true, \"showland\": true, \"subunitcolor\": \"white\"}, \"hoverlabel\": {\"align\": \"left\"}, \"hovermode\": \"closest\", \"mapbox\": {\"style\": \"light\"}, \"paper_bgcolor\": \"white\", \"plot_bgcolor\": \"#E5ECF6\", \"polar\": {\"angularaxis\": {\"gridcolor\": \"white\", \"linecolor\": \"white\", \"ticks\": \"\"}, \"bgcolor\": \"#E5ECF6\", \"radialaxis\": {\"gridcolor\": \"white\", \"linecolor\": \"white\", \"ticks\": \"\"}}, \"scene\": {\"xaxis\": {\"backgroundcolor\": \"#E5ECF6\", \"gridcolor\": \"white\", \"gridwidth\": 2, \"linecolor\": \"white\", \"showbackground\": true, \"ticks\": \"\", \"zerolinecolor\": \"white\"}, \"yaxis\": {\"backgroundcolor\": \"#E5ECF6\", \"gridcolor\": \"white\", \"gridwidth\": 2, \"linecolor\": \"white\", \"showbackground\": true, \"ticks\": \"\", \"zerolinecolor\": \"white\"}, \"zaxis\": {\"backgroundcolor\": \"#E5ECF6\", \"gridcolor\": \"white\", \"gridwidth\": 2, \"linecolor\": \"white\", \"showbackground\": true, \"ticks\": \"\", \"zerolinecolor\": \"white\"}}, \"shapedefaults\": {\"line\": {\"color\": \"#2a3f5f\"}}, \"ternary\": {\"aaxis\": {\"gridcolor\": \"white\", \"linecolor\": \"white\", \"ticks\": \"\"}, \"baxis\": {\"gridcolor\": \"white\", \"linecolor\": \"white\", \"ticks\": \"\"}, \"bgcolor\": \"#E5ECF6\", \"caxis\": {\"gridcolor\": \"white\", \"linecolor\": \"white\", \"ticks\": \"\"}}, \"title\": {\"x\": 0.05}, \"xaxis\": {\"automargin\": true, \"gridcolor\": \"white\", \"linecolor\": \"white\", \"ticks\": \"\", \"title\": {\"standoff\": 15}, \"zerolinecolor\": \"white\", \"zerolinewidth\": 2}, \"yaxis\": {\"automargin\": true, \"gridcolor\": \"white\", \"linecolor\": \"white\", \"ticks\": \"\", \"title\": {\"standoff\": 15}, \"zerolinecolor\": \"white\", \"zerolinewidth\": 2}}}, \"xaxis\": {\"anchor\": \"y\", \"domain\": [0.0, 0.45], \"tickformat\": \"g\", \"title\": {\"text\": \"$Shell~~Velocity$\"}}, \"xaxis2\": {\"anchor\": \"y2\", \"domain\": [0.55, 1.0], \"matches\": \"x\", \"tickformat\": \"g\", \"title\": {\"text\": \"$Shell~~Velocity$\"}}, \"yaxis\": {\"anchor\": \"x\", \"domain\": [0.0, 1.0], \"range\": [9000, 14000], \"tickformat\": \"g\", \"title\": {\"text\": \"$T_{rad}\\\\ [K]$\"}}, \"yaxis2\": {\"anchor\": \"x2\", \"domain\": [0.0, 1.0], \"title\": {\"text\": \"$W$\"}}},                        {\"responsive\": true}                    ).then(function(){\n                            \nvar gd = document.getElementById('c0fcefb5-f77a-4290-a724-c0f23c8d624f');\nvar x = new MutationObserver(function (mutations, observer) {{\n        var display = window.getComputedStyle(gd).display;\n        if (!display || display === 'none') {{\n            console.log([gd, 'removed!']);\n            Plotly.purge(gd);\n            observer.disconnect();\n        }}\n}});\n\n// Listen for the removal of the full notebook cells\nvar notebookContainer = gd.closest('#notebook-container');\nif (notebookContainer) {{\n    x.observe(notebookContainer, {childList: true});\n}}\n\n// Listen for the clearing of the current output cell\nvar outputEl = gd.closest('.output');\nif (outputEl) {{\n    x.observe(outputEl, {childList: true});\n}}\n\n                        })                };                });            </script>        </div>"
         },
         "metadata": {},
         "output_type": "display_data"
        }
       ]
      }
     },
     "332817cc9f2347ee97ce1cb9ab163d24": {
      "model_module": "@jupyter-widgets/controls",
      "model_module_version": "1.5.0",
      "model_name": "VBoxModel",
      "state": {
       "children": [
        "IPY_MODEL_c0ba288e40b64e62a0d3d82fd3039526",
        "IPY_MODEL_bc9e5fb1e0f24b4ca19c2891c91bc725"
       ],
       "layout": "IPY_MODEL_846b1825ce4f4585b7fb2689134c0a20"
      }
     },
     "333aab2d68744adba40bf743ec29ff3b": {
      "model_module": "@jupyter-widgets/base",
      "model_module_version": "1.2.0",
      "model_name": "LayoutModel",
      "state": {}
     },
     "38066f1596644082bb1f176d944032a6": {
      "model_module": "@jupyter-widgets/base",
      "model_module_version": "1.2.0",
      "model_name": "LayoutModel",
      "state": {
       "height": "1000px"
      }
     },
     "39906ec0a67c4bef863401081abe3549": {
      "model_module": "@jupyter-widgets/output",
      "model_module_version": "1.0.0",
      "model_name": "OutputModel",
      "state": {
       "layout": "IPY_MODEL_863afd0041474384bc4b0b56e82a8c36",
       "outputs": [
        {
         "data": {
          "text/html": "        <script type=\"text/javascript\">\n        window.PlotlyConfig = {MathJaxConfig: 'local'};\n        if (window.MathJax) {MathJax.Hub.Config({SVG: {font: \"STIX-Web\"}});}\n        if (typeof require !== 'undefined') {\n        require.undef(\"plotly\");\n        requirejs.config({\n            paths: {\n                'plotly': ['https://cdn.plot.ly/plotly-latest.min']\n            }\n        });\n        require(['plotly'], function(Plotly) {\n            window._Plotly = Plotly;\n        });\n        }\n        </script>\n        "
         },
         "metadata": {},
         "output_type": "display_data"
        },
        {
         "data": {
          "text/html": "<div>                            <div id=\"c547d6d4-5d9a-4f31-8f07-091f69053ca2\" class=\"plotly-graph-div\" style=\"height:525px; width:100%;\"></div>            <script type=\"text/javascript\">                require([\"plotly\"], function(Plotly) {                    window.PLOTLYENV=window.PLOTLYENV || {};                                    if (document.getElementById(\"c547d6d4-5d9a-4f31-8f07-091f69053ca2\")) {                    Plotly.newPlot(                        \"c547d6d4-5d9a-4f31-8f07-091f69053ca2\",                        [{\"line\": {\"color\": \"#800000\"}, \"type\": \"scatter\", \"uid\": \"4ca58976-9e95-4383-ae85-df5fba6ef0d7\", \"xaxis\": \"x\", \"yaxis\": \"y\"}, {\"line\": {\"color\": \"#800000\"}, \"type\": \"scatter\", \"uid\": \"39bb09b7-ad75-44f7-9bf0-cc218dec793e\", \"xaxis\": \"x2\", \"yaxis\": \"y2\"}, {\"legendgroup\": \"group-0\", \"line\": {\"color\": \"#000080\"}, \"marker\": {\"size\": 3, \"symbol\": \"diamond\"}, \"name\": \"1\", \"showlegend\": false, \"type\": \"scatter\", \"uid\": \"898b6f57-db2c-415d-83a3-0e2eef90256e\", \"x\": [11000.0, 11450.0, 11900.0, 12350.0, 12800.0, 13250.0, 13700.0, 14150.0, 14600.0, 15050.0, 15500.0, 15950.0, 16400.0, 16850.0, 17300.0, 17750.0, 18200.0, 18650.0, 19100.0, 19550.0, 20000.0], \"xaxis\": \"x\", \"y\": [10134.733716625742, 10158.894068408064, 10199.163062164183, 10230.988705011776, 10268.95723542248, 10222.890845143002, 10224.33250792895, 10215.304103107928, 10218.67593187541, 10185.463728853065, 10144.46316917108, 10076.87680984274, 10030.209347853815, 10029.018621140542, 9986.944524442715, 9873.477845862937, 9843.334614032237, 9771.609702679261, 9679.524619982089, 9610.209774198473], \"yaxis\": \"y\"}, {\"legendgroup\": \"group-0\", \"line\": {\"color\": \"#000080\"}, \"marker\": {\"size\": 3, \"symbol\": \"diamond\"}, \"name\": \"1\", \"type\": \"scatter\", \"uid\": \"2a337948-0850-4be1-af98-4e70a7747169\", \"x\": [11000.0, 11450.0, 11900.0, 12350.0, 12800.0, 13250.0, 13700.0, 14150.0, 14600.0, 15050.0, 15500.0, 15950.0, 16400.0, 16850.0, 17300.0, 17750.0, 18200.0, 18650.0, 19100.0, 19550.0, 20000.0], \"xaxis\": \"x2\", \"y\": [0.5082040569581554, 0.3962212763594891, 0.3214185723254649, 0.26560113513158967, 0.22389059993927218, 0.19702589896830255, 0.1749491202529985, 0.1563731541470249, 0.13940960015313733, 0.12795427205030482, 0.11717940936679912, 0.10932218040060024, 0.10303354273987321, 0.09520635540966971, 0.08986506172262776, 0.08694065164106614, 0.082029771070409, 0.07895392034793645, 0.07641285709961215, 0.0734944435056783], \"yaxis\": \"y2\"}, {\"legendgroup\": \"group-1\", \"line\": {\"color\": \"#0000bd\"}, \"marker\": {\"size\": 3, \"symbol\": \"diamond\"}, \"name\": \"2\", \"showlegend\": false, \"type\": \"scatter\", \"uid\": \"776160fd-0db0-4e92-a615-b650092a8b6b\", \"x\": [11000.0, 11450.0, 11900.0, 12350.0, 12800.0, 13250.0, 13700.0, 14150.0, 14600.0, 15050.0, 15500.0, 15950.0, 16400.0, 16850.0, 17300.0, 17750.0, 18200.0, 18650.0, 19100.0, 19550.0, 20000.0], \"xaxis\": \"x\", \"y\": [11468.021903420027, 11435.999407966676, 11449.930444230995, 11492.65958293691, 11527.299217171007, 11499.835339656465, 11477.276330649498, 11460.659744967303, 11406.161049943823, 11340.543942919201, 11306.370330122183, 11212.548324749032, 11165.15031794662, 11109.460288675331, 11032.751812374603, 10953.828130057926, 10887.89602394496, 10829.273836669769, 10807.478630946254, 10678.472039472606], \"yaxis\": \"y\"}, {\"legendgroup\": \"group-1\", \"line\": {\"color\": \"#0000bd\"}, \"marker\": {\"size\": 3, \"symbol\": \"diamond\"}, \"name\": \"2\", \"type\": \"scatter\", \"uid\": \"cb7f7c8a-12dc-49ce-a208-cace17ecfb73\", \"x\": [11000.0, 11450.0, 11900.0, 12350.0, 12800.0, 13250.0, 13700.0, 14150.0, 14600.0, 15050.0, 15500.0, 15950.0, 16400.0, 16850.0, 17300.0, 17750.0, 18200.0, 18650.0, 19100.0, 19550.0, 20000.0], \"xaxis\": \"x2\", \"y\": [0.5486713034814857, 0.4359667978092499, 0.35745766558351055, 0.29759617877916883, 0.2514052642548386, 0.2213742932983643, 0.1967142119281105, 0.1750139221468986, 0.1596018423150508, 0.14776884435084475, 0.1362910943753445, 0.1282954632603496, 0.11949333047989281, 0.11271924127039863, 0.10796286592870252, 0.10261651657287679, 0.09761052473526158, 0.0925701903122773, 0.08757308797595444, 0.08560372849204283], \"yaxis\": \"y2\"}, {\"legendgroup\": \"group-2\", \"line\": {\"color\": \"#0000fa\"}, \"marker\": {\"size\": 3, \"symbol\": \"diamond\"}, \"name\": \"3\", \"showlegend\": false, \"type\": \"scatter\", \"uid\": \"1bad1f8e-8316-40ac-bb2c-37ac579a661b\", \"x\": [11000.0, 11450.0, 11900.0, 12350.0, 12800.0, 13250.0, 13700.0, 14150.0, 14600.0, 15050.0, 15500.0, 15950.0, 16400.0, 16850.0, 17300.0, 17750.0, 18200.0, 18650.0, 19100.0, 19550.0, 20000.0], \"xaxis\": \"x\", \"y\": [10497.008397133988, 10647.412149636564, 10710.555598349812, 10778.428547850966, 10799.157541112727, 10799.075913257297, 10809.366021863923, 10753.851890469936, 10723.18539784127, 10725.950530076656, 10623.433273860508, 10568.227843581686, 10448.426796026406, 10344.129570842591, 10277.247070725653, 10226.187071335817, 10191.522923045857, 10084.749431116139, 9966.774860086334, 9840.487791467045], \"yaxis\": \"y\"}, {\"legendgroup\": \"group-2\", \"line\": {\"color\": \"#0000fa\"}, \"marker\": {\"size\": 3, \"symbol\": \"diamond\"}, \"name\": \"3\", \"type\": \"scatter\", \"uid\": \"95141482-530e-4eef-91d8-e5a0fd93d2b2\", \"x\": [11000.0, 11450.0, 11900.0, 12350.0, 12800.0, 13250.0, 13700.0, 14150.0, 14600.0, 15050.0, 15500.0, 15950.0, 16400.0, 16850.0, 17300.0, 17750.0, 18200.0, 18650.0, 19100.0, 19550.0, 20000.0], \"xaxis\": \"x2\", \"y\": [0.442299407233424, 0.3316155054771363, 0.26819254934335535, 0.22122958128497036, 0.18813327121608667, 0.16428839927198421, 0.1443413401513004, 0.13164698698733832, 0.12013575438192611, 0.1081687026641846, 0.10181996368767447, 0.09492623735431249, 0.09101140062051426, 0.08639163271896758, 0.08220814746497997, 0.07762890235617773, 0.0732750049575765, 0.07106642067401933, 0.06969266984280108, 0.06837630714305266], \"yaxis\": \"y2\"}, {\"legendgroup\": \"group-3\", \"line\": {\"color\": \"#0022ff\"}, \"marker\": {\"size\": 3, \"symbol\": \"diamond\"}, \"name\": \"4\", \"showlegend\": false, \"type\": \"scatter\", \"uid\": \"4c1d7629-65ea-440d-9064-30d182eea79d\", \"x\": [11000.0, 11450.0, 11900.0, 12350.0, 12800.0, 13250.0, 13700.0, 14150.0, 14600.0, 15050.0, 15500.0, 15950.0, 16400.0, 16850.0, 17300.0, 17750.0, 18200.0, 18650.0, 19100.0, 19550.0, 20000.0], \"xaxis\": \"x\", \"y\": [11615.34431271539, 11665.123230726764, 11722.631980824826, 11696.759034389528, 11740.274989218244, 11729.411389495828, 11762.93754644142, 11652.44218706302, 11589.11016884437, 11561.496043188794, 11517.190316985118, 11433.020206851419, 11326.42249364519, 11237.973261737088, 11182.841624719184, 11103.37345606317, 10988.381394715301, 10950.081329679253, 10862.947659789317, 10751.855231570007], \"yaxis\": \"y\"}, {\"legendgroup\": \"group-3\", \"line\": {\"color\": \"#0022ff\"}, \"marker\": {\"size\": 3, \"symbol\": \"diamond\"}, \"name\": \"4\", \"type\": \"scatter\", \"uid\": \"79a1b649-3a61-464f-b81a-62bb41ceaed7\", \"x\": [11000.0, 11450.0, 11900.0, 12350.0, 12800.0, 13250.0, 13700.0, 14150.0, 14600.0, 15050.0, 15500.0, 15950.0, 16400.0, 16850.0, 17300.0, 17750.0, 18200.0, 18650.0, 19100.0, 19550.0, 20000.0], \"xaxis\": \"x2\", \"y\": [0.4977143593187972, 0.3915904655092031, 0.31518118479289936, 0.26854353604159453, 0.22820910008384737, 0.1992052064914697, 0.1732796396495469, 0.15947664883652757, 0.14579099407466625, 0.1334986840647756, 0.12384871542019993, 0.1163327713735177, 0.11004943343959867, 0.10494577908156115, 0.09880472549683283, 0.09393029340453476, 0.09096244445118767, 0.08630423393331049, 0.08321862769525468, 0.08100093623949862], \"yaxis\": \"y2\"}, {\"legendgroup\": \"group-4\", \"line\": {\"color\": \"#0057ff\"}, \"marker\": {\"size\": 3, \"symbol\": \"diamond\"}, \"name\": \"5\", \"showlegend\": false, \"type\": \"scatter\", \"uid\": \"0ac0f510-71f2-4b3f-bfad-9d4a28fa038a\", \"x\": [11000.0, 11450.0, 11900.0, 12350.0, 12800.0, 13250.0, 13700.0, 14150.0, 14600.0, 15050.0, 15500.0, 15950.0, 16400.0, 16850.0, 17300.0, 17750.0, 18200.0, 18650.0, 19100.0, 19550.0, 20000.0], \"xaxis\": \"x\", \"y\": [10549.51412848435, 10759.565074180144, 10894.663638012831, 10932.865203687254, 10930.709069978382, 10919.073481210131, 10877.07525272697, 10810.824269258308, 10785.603108487141, 10727.31310966391, 10697.303299672532, 10711.257210371086, 10551.734446150795, 10490.892524557958, 10416.933630770685, 10379.863072642813, 10279.630106699515, 10220.453729533758, 10077.475484616278, 9927.285882427788], \"yaxis\": \"y\"}, {\"legendgroup\": \"group-4\", \"line\": {\"color\": \"#0057ff\"}, \"marker\": {\"size\": 3, \"symbol\": \"diamond\"}, \"name\": \"5\", \"type\": \"scatter\", \"uid\": \"96546401-c7f2-4da3-8c9e-2d25d18db5f5\", \"x\": [11000.0, 11450.0, 11900.0, 12350.0, 12800.0, 13250.0, 13700.0, 14150.0, 14600.0, 15050.0, 15500.0, 15950.0, 16400.0, 16850.0, 17300.0, 17750.0, 18200.0, 18650.0, 19100.0, 19550.0, 20000.0], \"xaxis\": \"x2\", \"y\": [0.4434406663593859, 0.329565789368522, 0.26010890450064733, 0.2159881056247415, 0.1854070420834862, 0.16219891903074657, 0.14560372598880475, 0.13326787384388758, 0.11999931339731698, 0.11025218829721785, 0.1012892218335092, 0.09247037462403469, 0.08933312170132374, 0.08413052869637083, 0.07995660682274036, 0.07537221197763783, 0.07252173631498261, 0.06901139800647034, 0.06809975749337623, 0.06735205229901337], \"yaxis\": \"y2\"}, {\"legendgroup\": \"group-5\", \"line\": {\"color\": \"#008dff\"}, \"marker\": {\"size\": 3, \"symbol\": \"diamond\"}, \"name\": \"6\", \"showlegend\": false, \"type\": \"scatter\", \"uid\": \"0c43e840-b898-42f0-80ef-a8e452ca37c3\", \"x\": [11000.0, 11450.0, 11900.0, 12350.0, 12800.0, 13250.0, 13700.0, 14150.0, 14600.0, 15050.0, 15500.0, 15950.0, 16400.0, 16850.0, 17300.0, 17750.0, 18200.0, 18650.0, 19100.0, 19550.0, 20000.0], \"xaxis\": \"x\", \"y\": [11567.208184336641, 11613.025123050538, 11683.328827353047, 11693.104708830946, 11724.278325269526, 11653.124120929953, 11612.65021223817, 11609.82892873756, 11614.580326945592, 11546.462389124263, 11425.95501009532, 11375.048998512899, 11315.818140434149, 11225.578780782147, 11120.449864009748, 11082.155937788912, 10987.868514296186, 10920.442550504482, 10834.92855121022, 10735.503852801117], \"yaxis\": \"y\"}, {\"legendgroup\": \"group-5\", \"line\": {\"color\": \"#008dff\"}, \"marker\": {\"size\": 3, \"symbol\": \"diamond\"}, \"name\": \"6\", \"type\": \"scatter\", \"uid\": \"65eb82c5-cc72-4d33-a8f8-5cbc26075b27\", \"x\": [11000.0, 11450.0, 11900.0, 12350.0, 12800.0, 13250.0, 13700.0, 14150.0, 14600.0, 15050.0, 15500.0, 15950.0, 16400.0, 16850.0, 17300.0, 17750.0, 18200.0, 18650.0, 19100.0, 19550.0, 20000.0], \"xaxis\": \"x2\", \"y\": [0.5041776548110584, 0.39023406927746374, 0.3175388504350529, 0.2668923064824901, 0.22560807776675992, 0.203042144204494, 0.18189522000862068, 0.16135829264739318, 0.14556836273965668, 0.13371966659083212, 0.12524940621974714, 0.11754876564474895, 0.11015802998525885, 0.10441164070595735, 0.09931347804630662, 0.09402786959361889, 0.09062541591197751, 0.08647506254390502, 0.08333888504337562, 0.08065101681509353], \"yaxis\": \"y2\"}, {\"legendgroup\": \"group-6\", \"line\": {\"color\": \"#00c3ff\"}, \"marker\": {\"size\": 3, \"symbol\": \"diamond\"}, \"name\": \"7\", \"showlegend\": false, \"type\": \"scatter\", \"uid\": \"e3a80f31-cdb4-4b35-8c65-81f51270d063\", \"x\": [11000.0, 11450.0, 11900.0, 12350.0, 12800.0, 13250.0, 13700.0, 14150.0, 14600.0, 15050.0, 15500.0, 15950.0, 16400.0, 16850.0, 17300.0, 17750.0, 18200.0, 18650.0, 19100.0, 19550.0, 20000.0], \"xaxis\": \"x\", \"y\": [10569.74740334304, 10778.034968335256, 10902.99080443269, 10989.797314359694, 11047.113446219639, 11099.194259237403, 11016.051305801364, 10966.513171670935, 10947.55947416353, 10934.581362699615, 10809.397890448754, 10698.341230707349, 10636.972622756153, 10581.99648087922, 10532.222759856093, 10454.841299228276, 10338.205644915452, 10252.881876072242, 10087.404942797337, 9969.196423563208], \"yaxis\": \"y\"}, {\"legendgroup\": \"group-6\", \"line\": {\"color\": \"#00c3ff\"}, \"marker\": {\"size\": 3, \"symbol\": \"diamond\"}, \"name\": \"7\", \"type\": \"scatter\", \"uid\": \"314be004-5cd5-4a7a-994d-bf424708a3a3\", \"x\": [11000.0, 11450.0, 11900.0, 12350.0, 12800.0, 13250.0, 13700.0, 14150.0, 14600.0, 15050.0, 15500.0, 15950.0, 16400.0, 16850.0, 17300.0, 17750.0, 18200.0, 18650.0, 19100.0, 19550.0, 20000.0], \"xaxis\": \"x2\", \"y\": [0.4422900724363882, 0.32572087182053455, 0.25608363121508193, 0.20917551310840277, 0.17856281204684143, 0.1532534478801237, 0.1389841189692777, 0.1262357056609694, 0.11375261901807446, 0.10290814628079882, 0.09725630417756266, 0.09284460200253164, 0.0871069617423461, 0.0816250729899891, 0.07729032592235478, 0.07380941869099045, 0.07152054892238287, 0.06908445244271275, 0.06851046721770122, 0.06692890210588077], \"yaxis\": \"y2\"}, {\"legendgroup\": \"group-7\", \"line\": {\"color\": \"#0ff8e8\"}, \"marker\": {\"size\": 3, \"symbol\": \"diamond\"}, \"name\": \"8\", \"showlegend\": false, \"type\": \"scatter\", \"uid\": \"80125e4f-860b-4d3f-9ec9-dbe50a60a850\", \"x\": [11000.0, 11450.0, 11900.0, 12350.0, 12800.0, 13250.0, 13700.0, 14150.0, 14600.0, 15050.0, 15500.0, 15950.0, 16400.0, 16850.0, 17300.0, 17750.0, 18200.0, 18650.0, 19100.0, 19550.0, 20000.0], \"xaxis\": \"x\", \"y\": [11547.678161996797, 11623.874786176679, 11731.044716907294, 11760.25509798027, 11744.698977086615, 11669.73950817632, 11644.121670479833, 11594.304643594436, 11525.864522224016, 11493.832801176886, 11493.569589639628, 11391.455575577864, 11294.144464329282, 11274.715359901778, 11177.405492194264, 11083.76958592225, 11033.949307567013, 10945.602385267846, 10830.938212361745, 10712.245869588583], \"yaxis\": \"y\"}, {\"legendgroup\": \"group-7\", \"line\": {\"color\": \"#0ff8e8\"}, \"marker\": {\"size\": 3, \"symbol\": \"diamond\"}, \"name\": \"8\", \"type\": \"scatter\", \"uid\": \"e24e15d3-aa66-4efd-82f5-29b44f050190\", \"x\": [11000.0, 11450.0, 11900.0, 12350.0, 12800.0, 13250.0, 13700.0, 14150.0, 14600.0, 15050.0, 15500.0, 15950.0, 16400.0, 16850.0, 17300.0, 17750.0, 18200.0, 18650.0, 19100.0, 19550.0, 20000.0], \"xaxis\": \"x2\", \"y\": [0.5003453146367499, 0.38382149418984424, 0.3046144240522065, 0.25655030086043534, 0.22316143817180586, 0.1983376255429574, 0.17627463164764823, 0.16038371517158478, 0.14647197836539907, 0.13388777429772944, 0.12191469474588634, 0.11483702826414072, 0.10939033073711928, 0.1016253554908811, 0.09688786513696965, 0.09283396230842705, 0.08787816010814403, 0.08454191425058025, 0.08203925347737268, 0.0802404176236165], \"yaxis\": \"y2\"}, {\"legendgroup\": \"group-8\", \"line\": {\"color\": \"#3affbc\"}, \"marker\": {\"size\": 3, \"symbol\": \"diamond\"}, \"name\": \"9\", \"showlegend\": false, \"type\": \"scatter\", \"uid\": \"9417e2ab-2d2b-4849-8640-b6d844ea5ec7\", \"x\": [11000.0, 11450.0, 11900.0, 12350.0, 12800.0, 13250.0, 13700.0, 14150.0, 14600.0, 15050.0, 15500.0, 15950.0, 16400.0, 16850.0, 17300.0, 17750.0, 18200.0, 18650.0, 19100.0, 19550.0, 20000.0], \"xaxis\": \"x\", \"y\": [10635.099216825016, 10811.018798823196, 10933.638973465304, 10979.717070479548, 11020.403776787787, 11035.731463947244, 10938.265121115064, 10845.596613320555, 10800.731975199556, 10763.639570847956, 10717.471486460141, 10707.496982070452, 10660.60682399312, 10573.357547773094, 10472.700868373204, 10404.049299323693, 10290.698637903408, 10218.265955052706, 10108.378593633912, 9988.315668041098], \"yaxis\": \"y\"}, {\"legendgroup\": \"group-8\", \"line\": {\"color\": \"#3affbc\"}, \"marker\": {\"size\": 3, \"symbol\": \"diamond\"}, \"name\": \"9\", \"type\": \"scatter\", \"uid\": \"95de37fb-8d4c-475e-aec7-84136e88aabf\", \"x\": [11000.0, 11450.0, 11900.0, 12350.0, 12800.0, 13250.0, 13700.0, 14150.0, 14600.0, 15050.0, 15500.0, 15950.0, 16400.0, 16850.0, 17300.0, 17750.0, 18200.0, 18650.0, 19100.0, 19550.0, 20000.0], \"xaxis\": \"x2\", \"y\": [0.43952006761780843, 0.327268984776419, 0.2606464861341183, 0.21628196882829448, 0.18251989124968382, 0.15831982713481618, 0.14420700235789413, 0.1319104825157537, 0.11992662887673335, 0.11051812652760704, 0.10164157832326394, 0.0935169832842306, 0.08702393919783383, 0.08275717669259847, 0.07958674997930451, 0.07579438452066575, 0.07337972954768164, 0.07043279263704051, 0.06849589481058935, 0.06699933221108373], \"yaxis\": \"y2\"}, {\"legendgroup\": \"group-9\", \"line\": {\"color\": \"#66ff91\"}, \"marker\": {\"size\": 3, \"symbol\": \"diamond\"}, \"name\": \"10\", \"showlegend\": false, \"type\": \"scatter\", \"uid\": \"075cba9d-1c81-4fcf-9fb9-291b0f639cd4\", \"x\": [11000.0, 11450.0, 11900.0, 12350.0, 12800.0, 13250.0, 13700.0, 14150.0, 14600.0, 15050.0, 15500.0, 15950.0, 16400.0, 16850.0, 17300.0, 17750.0, 18200.0, 18650.0, 19100.0, 19550.0, 20000.0], \"xaxis\": \"x\", \"y\": [11500.55767773097, 11637.546429690152, 11663.40617042992, 11724.968508662445, 11714.760546184587, 11715.267405819095, 11601.494346275227, 11508.240345570224, 11502.488963193151, 11497.386422527972, 11451.270656305627, 11400.159576989896, 11327.524225636038, 11287.892223234016, 11179.325846630562, 11094.423438456082, 10990.648087308033, 10925.434399972431, 10815.564131433573, 10706.177796255937], \"yaxis\": \"y\"}, {\"legendgroup\": \"group-9\", \"line\": {\"color\": \"#66ff91\"}, \"marker\": {\"size\": 3, \"symbol\": \"diamond\"}, \"name\": \"10\", \"type\": \"scatter\", \"uid\": \"6a31e64f-6136-46d8-98f0-e91ff0866ac5\", \"x\": [11000.0, 11450.0, 11900.0, 12350.0, 12800.0, 13250.0, 13700.0, 14150.0, 14600.0, 15050.0, 15500.0, 15950.0, 16400.0, 16850.0, 17300.0, 17750.0, 18200.0, 18650.0, 19100.0, 19550.0, 20000.0], \"xaxis\": \"x2\", \"y\": [0.5068949392970965, 0.38221104971484254, 0.31487414577388056, 0.2621151190162536, 0.22619764203242226, 0.1966896714263117, 0.17976793731845225, 0.16527279232801473, 0.14785746043356635, 0.13387433613614877, 0.1232425999868199, 0.1146829697056732, 0.10741488616862097, 0.10056120171965181, 0.09622391591057, 0.0922429076610291, 0.0891060122843892, 0.08532979760583174, 0.08271120381699126, 0.08030516190365557], \"yaxis\": \"y2\"}, {\"legendgroup\": \"group-10\", \"line\": {\"color\": \"#91ff66\"}, \"marker\": {\"size\": 3, \"symbol\": \"diamond\"}, \"name\": \"11\", \"showlegend\": false, \"type\": \"scatter\", \"uid\": \"a81282b2-1e99-4860-a498-375e9c998904\", \"x\": [11000.0, 11450.0, 11900.0, 12350.0, 12800.0, 13250.0, 13700.0, 14150.0, 14600.0, 15050.0, 15500.0, 15950.0, 16400.0, 16850.0, 17300.0, 17750.0, 18200.0, 18650.0, 19100.0, 19550.0, 20000.0], \"xaxis\": \"x\", \"y\": [10570.856509263214, 10736.442568836415, 10856.868647968908, 10979.906697012919, 10953.700434670503, 10957.336276077183, 10966.459695386746, 10949.857847026873, 10898.17650137722, 10912.847154692829, 10916.410390590076, 10804.79013541429, 10642.721757219706, 10673.950209699196, 10562.15537191637, 10441.053929477466, 10375.82143773825, 10218.808094852784, 10128.925286201786, 9982.977583607197], \"yaxis\": \"y\"}, {\"legendgroup\": \"group-10\", \"line\": {\"color\": \"#91ff66\"}, \"marker\": {\"size\": 3, \"symbol\": \"diamond\"}, \"name\": \"11\", \"type\": \"scatter\", \"uid\": \"29698eb0-059b-4448-baa3-a8c4622463cc\", \"x\": [11000.0, 11450.0, 11900.0, 12350.0, 12800.0, 13250.0, 13700.0, 14150.0, 14600.0, 15050.0, 15500.0, 15950.0, 16400.0, 16850.0, 17300.0, 17750.0, 18200.0, 18650.0, 19100.0, 19550.0, 20000.0], \"xaxis\": \"x2\", \"y\": [0.44592562360298593, 0.331726124200421, 0.2626860334726053, 0.21445158567301176, 0.1874369354198379, 0.16283699173812993, 0.14343516576688212, 0.1288301921728002, 0.11742933862073758, 0.10551038169028196, 0.09622856527804761, 0.0908415597305189, 0.08819161384785737, 0.08047832421527892, 0.07731272727040164, 0.07502560062315754, 0.07149678574153981, 0.07062712405261021, 0.06830828451008499, 0.0675509962637582], \"yaxis\": \"y2\"}, {\"legendgroup\": \"group-11\", \"line\": {\"color\": \"#bcff3a\"}, \"marker\": {\"size\": 3, \"symbol\": \"diamond\"}, \"name\": \"12\", \"showlegend\": false, \"type\": \"scatter\", \"uid\": \"27fcbf90-d2fd-4d4c-b8db-9e70065bf2a2\", \"x\": [11000.0, 11450.0, 11900.0, 12350.0, 12800.0, 13250.0, 13700.0, 14150.0, 14600.0, 15050.0, 15500.0, 15950.0, 16400.0, 16850.0, 17300.0, 17750.0, 18200.0, 18650.0, 19100.0, 19550.0, 20000.0], \"xaxis\": \"x\", \"y\": [11533.554418901995, 11597.331479911461, 11657.889585168934, 11762.268748636763, 11775.917513051456, 11764.967895422506, 11676.073086637227, 11650.112617143857, 11594.258946050913, 11522.736351585567, 11444.191999379364, 11366.855615514283, 11333.428810955658, 11291.115455484682, 11165.546445726966, 11084.736032809735, 11050.699407674529, 10978.54248596981, 10849.291930009682, 10738.957956164411], \"yaxis\": \"y\"}, {\"legendgroup\": \"group-11\", \"line\": {\"color\": \"#bcff3a\"}, \"marker\": {\"size\": 3, \"symbol\": \"diamond\"}, \"name\": \"12\", \"type\": \"scatter\", \"uid\": \"e20bc019-d31f-4994-a97e-f2702309862e\", \"x\": [11000.0, 11450.0, 11900.0, 12350.0, 12800.0, 13250.0, 13700.0, 14150.0, 14600.0, 15050.0, 15500.0, 15950.0, 16400.0, 16850.0, 17300.0, 17750.0, 18200.0, 18650.0, 19100.0, 19550.0, 20000.0], \"xaxis\": \"x2\", \"y\": [0.4948141939783134, 0.38257284907522643, 0.31106318084797985, 0.25245973709763675, 0.21581879433960166, 0.1894638080925602, 0.1719798978313757, 0.15370692887596543, 0.140611753786461, 0.13022103911735378, 0.12114965913477613, 0.1134082040590886, 0.10508702258326932, 0.09835950384020824, 0.09505240961204943, 0.09082482658920112, 0.08538454480911349, 0.08166191691747998, 0.0799399239764927, 0.07767439247279284], \"yaxis\": \"y2\"}, {\"legendgroup\": \"group-12\", \"line\": {\"color\": \"#e8ff0f\"}, \"marker\": {\"size\": 3, \"symbol\": \"diamond\"}, \"name\": \"13\", \"showlegend\": false, \"type\": \"scatter\", \"uid\": \"5f739ba0-1719-4ba5-b651-133c9717eedc\", \"x\": [11000.0, 11450.0, 11900.0, 12350.0, 12800.0, 13250.0, 13700.0, 14150.0, 14600.0, 15050.0, 15500.0, 15950.0, 16400.0, 16850.0, 17300.0, 17750.0, 18200.0, 18650.0, 19100.0, 19550.0, 20000.0], \"xaxis\": \"x\", \"y\": [10680.784661378812, 10845.542429380755, 10944.815192934726, 10993.087317815412, 11012.940076484394, 10887.379427963211, 10983.662316167121, 11024.751388763907, 10943.797478820637, 10891.467325909394, 10825.79202489999, 10805.557529364292, 10706.591895210207, 10571.784653112927, 10496.275695177474, 10402.1202278362, 10301.441469400985, 10238.491096739823, 10147.574803160998, 10007.566464221134], \"yaxis\": \"y\"}, {\"legendgroup\": \"group-12\", \"line\": {\"color\": \"#e8ff0f\"}, \"marker\": {\"size\": 3, \"symbol\": \"diamond\"}, \"name\": \"13\", \"type\": \"scatter\", \"uid\": \"6cabf403-7b80-4038-a2aa-3dbab4ed01d2\", \"x\": [11000.0, 11450.0, 11900.0, 12350.0, 12800.0, 13250.0, 13700.0, 14150.0, 14600.0, 15050.0, 15500.0, 15950.0, 16400.0, 16850.0, 17300.0, 17750.0, 18200.0, 18650.0, 19100.0, 19550.0, 20000.0], \"xaxis\": \"x2\", \"y\": [0.4392810715699427, 0.32903573292536575, 0.2641712463741873, 0.2199520853515653, 0.18797841086098377, 0.170137181865149, 0.14523399235417983, 0.12811695433348316, 0.11796293005695968, 0.10851866860126855, 0.10078020724639422, 0.09253446911219322, 0.08798570551552642, 0.08508103522642106, 0.0807247405411672, 0.07763414575866073, 0.07474110201651679, 0.0714984171727841, 0.0694441864787546, 0.06840896856885523], \"yaxis\": \"y2\"}, {\"legendgroup\": \"group-13\", \"line\": {\"color\": \"#ffd500\"}, \"marker\": {\"size\": 3, \"symbol\": \"diamond\"}, \"name\": \"14\", \"showlegend\": false, \"type\": \"scatter\", \"uid\": \"51b1e8d4-4c7d-4717-9bf8-50a3df451ba3\", \"x\": [11000.0, 11450.0, 11900.0, 12350.0, 12800.0, 13250.0, 13700.0, 14150.0, 14600.0, 15050.0, 15500.0, 15950.0, 16400.0, 16850.0, 17300.0, 17750.0, 18200.0, 18650.0, 19100.0, 19550.0, 20000.0], \"xaxis\": \"x\", \"y\": [11437.1881296405, 11528.701578025972, 11640.449468780576, 11710.818603845562, 11646.852339390707, 11571.106855857402, 11529.130018047732, 11506.724477504918, 11494.473536577672, 11432.760918872278, 11378.137918263288, 11302.85507985749, 11244.631327203226, 11103.724838190863, 11017.941987416276, 10957.21181370234, 10894.703106138699, 10810.029601198734, 10701.185949495191, 10638.391439708332], \"yaxis\": \"y\"}, {\"legendgroup\": \"group-13\", \"line\": {\"color\": \"#ffd500\"}, \"marker\": {\"size\": 3, \"symbol\": \"diamond\"}, \"name\": \"14\", \"type\": \"scatter\", \"uid\": \"291c787d-1c5b-4573-b72b-a3b90362088b\", \"x\": [11000.0, 11450.0, 11900.0, 12350.0, 12800.0, 13250.0, 13700.0, 14150.0, 14600.0, 15050.0, 15500.0, 15950.0, 16400.0, 16850.0, 17300.0, 17750.0, 18200.0, 18650.0, 19100.0, 19550.0, 20000.0], \"xaxis\": \"x2\", \"y\": [0.496748999005708, 0.3812215660301211, 0.30281560573624655, 0.2509255408599759, 0.22073539638977296, 0.19671394396283887, 0.1757145473403329, 0.15768917292428547, 0.14088198326667611, 0.13004325009218778, 0.12095401797605762, 0.11383288002950714, 0.10689215533606816, 0.10296885131622671, 0.09780859456526698, 0.09289643546287567, 0.08854171082989812, 0.08517563107205485, 0.08229688721693082, 0.07896773667540807], \"yaxis\": \"y2\"}, {\"legendgroup\": \"group-14\", \"line\": {\"color\": \"#ffa400\"}, \"marker\": {\"size\": 3, \"symbol\": \"diamond\"}, \"name\": \"15\", \"showlegend\": false, \"type\": \"scatter\", \"uid\": \"c039df3e-2748-44f0-996d-f40ab541593e\", \"x\": [11000.0, 11450.0, 11900.0, 12350.0, 12800.0, 13250.0, 13700.0, 14150.0, 14600.0, 15050.0, 15500.0, 15950.0, 16400.0, 16850.0, 17300.0, 17750.0, 18200.0, 18650.0, 19100.0, 19550.0, 20000.0], \"xaxis\": \"x\", \"y\": [10637.774893389853, 10870.528741129221, 10979.20752094891, 11029.889850247846, 11017.830301775746, 11002.647926802321, 11063.176163639557, 11043.320343340587, 10953.590586704851, 10884.149702433244, 10832.042108059699, 10746.120711685187, 10638.764813827649, 10558.09227679894, 10449.107297019238, 10350.60274211199, 10298.783130265036, 10276.173311434013, 10189.139086635258, 10056.484838218224], \"yaxis\": \"y\"}, {\"legendgroup\": \"group-14\", \"line\": {\"color\": \"#ffa400\"}, \"marker\": {\"size\": 3, \"symbol\": \"diamond\"}, \"name\": \"15\", \"type\": \"scatter\", \"uid\": \"d2e09742-2afc-4a8f-bfc5-eceb3e95bab3\", \"x\": [11000.0, 11450.0, 11900.0, 12350.0, 12800.0, 13250.0, 13700.0, 14150.0, 14600.0, 15050.0, 15500.0, 15950.0, 16400.0, 16850.0, 17300.0, 17750.0, 18200.0, 18650.0, 19100.0, 19550.0, 20000.0], \"xaxis\": \"x2\", \"y\": [0.4526680078126913, 0.33058475741331017, 0.26470724647387744, 0.21904485046383979, 0.188818847281167, 0.16619738171025455, 0.14364374771990304, 0.12786787360034071, 0.11791465883989272, 0.10890874790265448, 0.10128370560742415, 0.09532106076096122, 0.09066498376561384, 0.08579078573787756, 0.0823404365028928, 0.07946786802086912, 0.07534113146002487, 0.0712852113867502, 0.06888107318726494, 0.06764365885322746], \"yaxis\": \"y2\"}, {\"legendgroup\": \"group-15\", \"line\": {\"color\": \"#ff7200\"}, \"marker\": {\"size\": 3, \"symbol\": \"diamond\"}, \"name\": \"16\", \"showlegend\": false, \"type\": \"scatter\", \"uid\": \"a8563e88-3a4e-4dd9-9445-860d2b6677a5\", \"x\": [11000.0, 11450.0, 11900.0, 12350.0, 12800.0, 13250.0, 13700.0, 14150.0, 14600.0, 15050.0, 15500.0, 15950.0, 16400.0, 16850.0, 17300.0, 17750.0, 18200.0, 18650.0, 19100.0, 19550.0, 20000.0], \"xaxis\": \"x\", \"y\": [11420.979987138982, 11498.337813102757, 11639.50519134857, 11664.640617469393, 11701.728912830438, 11711.923994447285, 11712.746596833955, 11591.269112378643, 11449.641897841511, 11435.511892435268, 11421.346117783407, 11334.210896883855, 11278.258459816647, 11196.477817740706, 11110.138994066976, 11076.434179727443, 10994.477287359596, 10901.218261650312, 10835.518224745436, 10711.037322641674], \"yaxis\": \"y\"}, {\"legendgroup\": \"group-15\", \"line\": {\"color\": \"#ff7200\"}, \"marker\": {\"size\": 3, \"symbol\": \"diamond\"}, \"name\": \"16\", \"type\": \"scatter\", \"uid\": \"0ba0586e-3af6-49b7-9f3d-53f15c7f262c\", \"x\": [11000.0, 11450.0, 11900.0, 12350.0, 12800.0, 13250.0, 13700.0, 14150.0, 14600.0, 15050.0, 15500.0, 15950.0, 16400.0, 16850.0, 17300.0, 17750.0, 18200.0, 18650.0, 19100.0, 19550.0, 20000.0], \"xaxis\": \"x2\", \"y\": [0.499488409187315, 0.3838690951817617, 0.3021805815991795, 0.2514540281230128, 0.21646073068279542, 0.18685687485230784, 0.1645500999365563, 0.15175502590148646, 0.14351458248462712, 0.1299336743288275, 0.119700298487092, 0.11242807247877903, 0.1050015370491853, 0.10013529821734288, 0.0953538109300313, 0.08940156113165973, 0.08572755303725668, 0.08269382665953516, 0.078848332684631, 0.07701183515664956], \"yaxis\": \"y2\"}, {\"legendgroup\": \"group-16\", \"line\": {\"color\": \"#ff4000\"}, \"marker\": {\"size\": 3, \"symbol\": \"diamond\"}, \"name\": \"17\", \"showlegend\": false, \"type\": \"scatter\", \"uid\": \"7614046e-8fbc-464d-8bba-c8c87bcc1501\", \"x\": [11000.0, 11450.0, 11900.0, 12350.0, 12800.0, 13250.0, 13700.0, 14150.0, 14600.0, 15050.0, 15500.0, 15950.0, 16400.0, 16850.0, 17300.0, 17750.0, 18200.0, 18650.0, 19100.0, 19550.0, 20000.0], \"xaxis\": \"x\", \"y\": [10691.849844972343, 10881.252759643585, 11024.600489102355, 11008.926530015478, 11076.894883262032, 11042.045711965855, 11063.168036579458, 11070.578559634352, 11044.691764194673, 10970.651612456735, 10980.886609307676, 10896.00342966283, 10767.599990699178, 10635.613994162504, 10472.846994215468, 10456.66200657222, 10434.295581872158, 10327.027592056353, 10213.726635393015, 10093.310125127553], \"yaxis\": \"y\"}, {\"legendgroup\": \"group-16\", \"line\": {\"color\": \"#ff4000\"}, \"marker\": {\"size\": 3, \"symbol\": \"diamond\"}, \"name\": \"17\", \"type\": \"scatter\", \"uid\": \"635aecf4-11d2-4c69-9a6c-e9b965732488\", \"x\": [11000.0, 11450.0, 11900.0, 12350.0, 12800.0, 13250.0, 13700.0, 14150.0, 14600.0, 15050.0, 15500.0, 15950.0, 16400.0, 16850.0, 17300.0, 17750.0, 18200.0, 18650.0, 19100.0, 19550.0, 20000.0], \"xaxis\": \"x2\", \"y\": [0.44748184768936483, 0.33018100359144903, 0.2613079590931391, 0.22319723997674626, 0.18648857521767323, 0.1640901983224348, 0.14317470745010233, 0.1277823841658101, 0.11521986036883337, 0.10674911085099575, 0.09736938639966038, 0.0912338485549991, 0.0873359525558151, 0.08426006054625763, 0.0822766882554767, 0.0770967898467087, 0.07276875021360169, 0.07044586701292362, 0.06864631513717323, 0.06706138176935443], \"yaxis\": \"y2\"}, {\"legendgroup\": \"group-17\", \"line\": {\"color\": \"#fa0e00\"}, \"marker\": {\"size\": 3, \"symbol\": \"diamond\"}, \"name\": \"18\", \"showlegend\": false, \"type\": \"scatter\", \"uid\": \"353565d2-dac4-4403-b046-84e9761e8e24\", \"x\": [11000.0, 11450.0, 11900.0, 12350.0, 12800.0, 13250.0, 13700.0, 14150.0, 14600.0, 15050.0, 15500.0, 15950.0, 16400.0, 16850.0, 17300.0, 17750.0, 18200.0, 18650.0, 19100.0, 19550.0, 20000.0], \"xaxis\": \"x\", \"y\": [11404.686443357921, 11550.422153142581, 11639.138876479621, 11674.326225183811, 11643.003281158295, 11664.227712366752, 11609.622899066353, 11571.271663444122, 11488.505154936476, 11474.166472237957, 11444.220668813343, 11321.687644686788, 11274.086211426791, 11214.935163024827, 11095.7159296552, 11052.698086925739, 10967.067499016344, 10861.628943889627, 10781.611365120527, 10666.56171562961], \"yaxis\": \"y\"}, {\"legendgroup\": \"group-17\", \"line\": {\"color\": \"#fa0e00\"}, \"marker\": {\"size\": 3, \"symbol\": \"diamond\"}, \"name\": \"18\", \"type\": \"scatter\", \"uid\": \"809619f5-d99c-448e-8d91-d81fc174720f\", \"x\": [11000.0, 11450.0, 11900.0, 12350.0, 12800.0, 13250.0, 13700.0, 14150.0, 14600.0, 15050.0, 15500.0, 15950.0, 16400.0, 16850.0, 17300.0, 17750.0, 18200.0, 18650.0, 19100.0, 19550.0, 20000.0], \"xaxis\": \"x2\", \"y\": [0.4977389437411596, 0.37634490448691843, 0.3031115960467388, 0.25454492611413476, 0.21950444294686317, 0.18907039351524565, 0.16921419174008417, 0.1526550022612553, 0.1416435654990689, 0.12873970376797447, 0.117732451218215, 0.11197824402292651, 0.10441814381550857, 0.09792972279488406, 0.09471757943639501, 0.08914056698650659, 0.08550392336785954, 0.08272152497759402, 0.07954222475461972, 0.07756336057852237], \"yaxis\": \"y2\"}, {\"legendgroup\": \"group-18\", \"line\": {\"color\": \"#bd0000\"}, \"marker\": {\"size\": 3, \"symbol\": \"diamond\"}, \"name\": \"19\", \"showlegend\": false, \"type\": \"scatter\", \"uid\": \"a186a755-3098-41c2-b1a5-ed8d311c3148\", \"x\": [11000.0, 11450.0, 11900.0, 12350.0, 12800.0, 13250.0, 13700.0, 14150.0, 14600.0, 15050.0, 15500.0, 15950.0, 16400.0, 16850.0, 17300.0, 17750.0, 18200.0, 18650.0, 19100.0, 19550.0, 20000.0], \"xaxis\": \"x\", \"y\": [10732.832305605065, 10927.532745010047, 10999.038295987173, 11120.942823009347, 11127.283737338126, 11084.30280676812, 11069.784812309364, 11066.322559389619, 11003.066376252807, 10955.364192122894, 10899.736539240288, 10741.06863236137, 10710.327383480128, 10597.496226545389, 10549.389773662053, 10465.941519309627, 10371.370420579678, 10256.85257100142, 10163.046966831698, 10074.690533201088], \"yaxis\": \"y\"}, {\"legendgroup\": \"group-18\", \"line\": {\"color\": \"#bd0000\"}, \"marker\": {\"size\": 3, \"symbol\": \"diamond\"}, \"name\": \"19\", \"type\": \"scatter\", \"uid\": \"aeceba21-85c7-4347-9928-a58ec1977914\", \"x\": [11000.0, 11450.0, 11900.0, 12350.0, 12800.0, 13250.0, 13700.0, 14150.0, 14600.0, 15050.0, 15500.0, 15950.0, 16400.0, 16850.0, 17300.0, 17750.0, 18200.0, 18650.0, 19100.0, 19550.0, 20000.0], \"xaxis\": \"x2\", \"y\": [0.44443637159123983, 0.3301963495493953, 0.26475209661040167, 0.21476367292060317, 0.1841100166964522, 0.16259081949317192, 0.143853601724972, 0.12756474449212685, 0.11696925559066805, 0.10710041470268136, 0.09912187964115514, 0.09650204436463768, 0.08985914755672528, 0.08622238465789246, 0.08092359794988353, 0.07737849041147359, 0.07453157832590498, 0.07263537854976868, 0.07025313296079846, 0.06792936424027783], \"yaxis\": \"y2\"}, {\"legendgroup\": \"group-19\", \"line\": {\"color\": \"#800000\"}, \"marker\": {\"size\": 3, \"symbol\": \"diamond\"}, \"name\": \"20\", \"showlegend\": false, \"type\": \"scatter\", \"uid\": \"71aaf0a1-f7b8-4362-8adf-83005e771f62\", \"x\": [11000.0, 11450.0, 11900.0, 12350.0, 12800.0, 13250.0, 13700.0, 14150.0, 14600.0, 15050.0, 15500.0, 15950.0, 16400.0, 16850.0, 17300.0, 17750.0, 18200.0, 18650.0, 19100.0, 19550.0, 20000.0], \"xaxis\": \"x\", \"y\": [10732.832305605065, 10927.532745010047, 10999.038295987173, 11120.942823009347, 11127.283737338126, 11084.30280676812, 11069.784812309364, 11066.322559389619, 11003.066376252807, 10955.364192122894, 10899.736539240288, 10741.06863236137, 10710.327383480128, 10597.496226545389, 10549.389773662053, 10465.941519309627, 10371.370420579678, 10256.85257100142, 10163.046966831698, 10074.690533201088], \"yaxis\": \"y\"}, {\"legendgroup\": \"group-19\", \"line\": {\"color\": \"#800000\"}, \"marker\": {\"size\": 3, \"symbol\": \"diamond\"}, \"name\": \"20\", \"type\": \"scatter\", \"uid\": \"3e2423b7-432a-4d5f-8c99-b3684e115fa4\", \"x\": [11000.0, 11450.0, 11900.0, 12350.0, 12800.0, 13250.0, 13700.0, 14150.0, 14600.0, 15050.0, 15500.0, 15950.0, 16400.0, 16850.0, 17300.0, 17750.0, 18200.0, 18650.0, 19100.0, 19550.0, 20000.0], \"xaxis\": \"x2\", \"y\": [0.44443637159123983, 0.3301963495493953, 0.26475209661040167, 0.21476367292060317, 0.1841100166964522, 0.16259081949317192, 0.143853601724972, 0.12756474449212685, 0.11696925559066805, 0.10710041470268136, 0.09912187964115514, 0.09650204436463768, 0.08985914755672528, 0.08622238465789246, 0.08092359794988353, 0.07737849041147359, 0.07453157832590498, 0.07263537854976868, 0.07025313296079846, 0.06792936424027783], \"yaxis\": \"y2\"}],                        {\"autosize\": true, \"hidesources\": true, \"legend\": {\"title\": {\"text\": \"iterations\"}, \"tracegroupgap\": 0}, \"margin\": {\"b\": 80, \"l\": 10, \"pad\": 0, \"r\": 135, \"t\": 25}, \"template\": {\"data\": {\"bar\": [{\"error_x\": {\"color\": \"#2a3f5f\"}, \"error_y\": {\"color\": \"#2a3f5f\"}, \"marker\": {\"line\": {\"color\": \"#E5ECF6\", \"width\": 0.5}}, \"type\": \"bar\"}], \"barpolar\": [{\"marker\": {\"line\": {\"color\": \"#E5ECF6\", \"width\": 0.5}}, \"type\": \"barpolar\"}], \"carpet\": [{\"aaxis\": {\"endlinecolor\": \"#2a3f5f\", \"gridcolor\": \"white\", \"linecolor\": \"white\", \"minorgridcolor\": \"white\", \"startlinecolor\": \"#2a3f5f\"}, \"baxis\": {\"endlinecolor\": \"#2a3f5f\", \"gridcolor\": \"white\", \"linecolor\": \"white\", \"minorgridcolor\": \"white\", \"startlinecolor\": \"#2a3f5f\"}, \"type\": \"carpet\"}], \"choropleth\": [{\"colorbar\": {\"outlinewidth\": 0, \"ticks\": \"\"}, \"type\": \"choropleth\"}], \"contour\": [{\"colorbar\": {\"outlinewidth\": 0, \"ticks\": \"\"}, \"colorscale\": [[0.0, \"#0d0887\"], [0.1111111111111111, \"#46039f\"], [0.2222222222222222, \"#7201a8\"], [0.3333333333333333, \"#9c179e\"], [0.4444444444444444, \"#bd3786\"], [0.5555555555555556, \"#d8576b\"], [0.6666666666666666, \"#ed7953\"], [0.7777777777777778, \"#fb9f3a\"], [0.8888888888888888, \"#fdca26\"], [1.0, \"#f0f921\"]], \"type\": \"contour\"}], \"contourcarpet\": [{\"colorbar\": {\"outlinewidth\": 0, \"ticks\": \"\"}, \"type\": \"contourcarpet\"}], \"heatmap\": [{\"colorbar\": {\"outlinewidth\": 0, \"ticks\": \"\"}, \"colorscale\": [[0.0, \"#0d0887\"], [0.1111111111111111, \"#46039f\"], [0.2222222222222222, \"#7201a8\"], [0.3333333333333333, \"#9c179e\"], [0.4444444444444444, \"#bd3786\"], [0.5555555555555556, \"#d8576b\"], [0.6666666666666666, \"#ed7953\"], [0.7777777777777778, \"#fb9f3a\"], [0.8888888888888888, \"#fdca26\"], [1.0, \"#f0f921\"]], \"type\": \"heatmap\"}], \"heatmapgl\": [{\"colorbar\": {\"outlinewidth\": 0, \"ticks\": \"\"}, \"colorscale\": [[0.0, \"#0d0887\"], [0.1111111111111111, \"#46039f\"], [0.2222222222222222, \"#7201a8\"], [0.3333333333333333, \"#9c179e\"], [0.4444444444444444, \"#bd3786\"], [0.5555555555555556, \"#d8576b\"], [0.6666666666666666, \"#ed7953\"], [0.7777777777777778, \"#fb9f3a\"], [0.8888888888888888, \"#fdca26\"], [1.0, \"#f0f921\"]], \"type\": \"heatmapgl\"}], \"histogram\": [{\"marker\": {\"colorbar\": {\"outlinewidth\": 0, \"ticks\": \"\"}}, \"type\": \"histogram\"}], \"histogram2d\": [{\"colorbar\": {\"outlinewidth\": 0, \"ticks\": \"\"}, \"colorscale\": [[0.0, \"#0d0887\"], [0.1111111111111111, \"#46039f\"], [0.2222222222222222, \"#7201a8\"], [0.3333333333333333, \"#9c179e\"], [0.4444444444444444, \"#bd3786\"], [0.5555555555555556, \"#d8576b\"], [0.6666666666666666, \"#ed7953\"], [0.7777777777777778, \"#fb9f3a\"], [0.8888888888888888, \"#fdca26\"], [1.0, \"#f0f921\"]], \"type\": \"histogram2d\"}], \"histogram2dcontour\": [{\"colorbar\": {\"outlinewidth\": 0, \"ticks\": \"\"}, \"colorscale\": [[0.0, \"#0d0887\"], [0.1111111111111111, \"#46039f\"], [0.2222222222222222, \"#7201a8\"], [0.3333333333333333, \"#9c179e\"], [0.4444444444444444, \"#bd3786\"], [0.5555555555555556, \"#d8576b\"], [0.6666666666666666, \"#ed7953\"], [0.7777777777777778, \"#fb9f3a\"], [0.8888888888888888, \"#fdca26\"], [1.0, \"#f0f921\"]], \"type\": \"histogram2dcontour\"}], \"mesh3d\": [{\"colorbar\": {\"outlinewidth\": 0, \"ticks\": \"\"}, \"type\": \"mesh3d\"}], \"parcoords\": [{\"line\": {\"colorbar\": {\"outlinewidth\": 0, \"ticks\": \"\"}}, \"type\": \"parcoords\"}], \"pie\": [{\"automargin\": true, \"type\": \"pie\"}], \"scatter\": [{\"marker\": {\"colorbar\": {\"outlinewidth\": 0, \"ticks\": \"\"}}, \"type\": \"scatter\"}], \"scatter3d\": [{\"line\": {\"colorbar\": {\"outlinewidth\": 0, \"ticks\": \"\"}}, \"marker\": {\"colorbar\": {\"outlinewidth\": 0, \"ticks\": \"\"}}, \"type\": \"scatter3d\"}], \"scattercarpet\": [{\"marker\": {\"colorbar\": {\"outlinewidth\": 0, \"ticks\": \"\"}}, \"type\": \"scattercarpet\"}], \"scattergeo\": [{\"marker\": {\"colorbar\": {\"outlinewidth\": 0, \"ticks\": \"\"}}, \"type\": \"scattergeo\"}], \"scattergl\": [{\"marker\": {\"colorbar\": {\"outlinewidth\": 0, \"ticks\": \"\"}}, \"type\": \"scattergl\"}], \"scattermapbox\": [{\"marker\": {\"colorbar\": {\"outlinewidth\": 0, \"ticks\": \"\"}}, \"type\": \"scattermapbox\"}], \"scatterpolar\": [{\"marker\": {\"colorbar\": {\"outlinewidth\": 0, \"ticks\": \"\"}}, \"type\": \"scatterpolar\"}], \"scatterpolargl\": [{\"marker\": {\"colorbar\": {\"outlinewidth\": 0, \"ticks\": \"\"}}, \"type\": \"scatterpolargl\"}], \"scatterternary\": [{\"marker\": {\"colorbar\": {\"outlinewidth\": 0, \"ticks\": \"\"}}, \"type\": \"scatterternary\"}], \"surface\": [{\"colorbar\": {\"outlinewidth\": 0, \"ticks\": \"\"}, \"colorscale\": [[0.0, \"#0d0887\"], [0.1111111111111111, \"#46039f\"], [0.2222222222222222, \"#7201a8\"], [0.3333333333333333, \"#9c179e\"], [0.4444444444444444, \"#bd3786\"], [0.5555555555555556, \"#d8576b\"], [0.6666666666666666, \"#ed7953\"], [0.7777777777777778, \"#fb9f3a\"], [0.8888888888888888, \"#fdca26\"], [1.0, \"#f0f921\"]], \"type\": \"surface\"}], \"table\": [{\"cells\": {\"fill\": {\"color\": \"#EBF0F8\"}, \"line\": {\"color\": \"white\"}}, \"header\": {\"fill\": {\"color\": \"#C8D4E3\"}, \"line\": {\"color\": \"white\"}}, \"type\": \"table\"}]}, \"layout\": {\"annotationdefaults\": {\"arrowcolor\": \"#2a3f5f\", \"arrowhead\": 0, \"arrowwidth\": 1}, \"autotypenumbers\": \"strict\", \"coloraxis\": {\"colorbar\": {\"outlinewidth\": 0, \"ticks\": \"\"}}, \"colorscale\": {\"diverging\": [[0, \"#8e0152\"], [0.1, \"#c51b7d\"], [0.2, \"#de77ae\"], [0.3, \"#f1b6da\"], [0.4, \"#fde0ef\"], [0.5, \"#f7f7f7\"], [0.6, \"#e6f5d0\"], [0.7, \"#b8e186\"], [0.8, \"#7fbc41\"], [0.9, \"#4d9221\"], [1, \"#276419\"]], \"sequential\": [[0.0, \"#0d0887\"], [0.1111111111111111, \"#46039f\"], [0.2222222222222222, \"#7201a8\"], [0.3333333333333333, \"#9c179e\"], [0.4444444444444444, \"#bd3786\"], [0.5555555555555556, \"#d8576b\"], [0.6666666666666666, \"#ed7953\"], [0.7777777777777778, \"#fb9f3a\"], [0.8888888888888888, \"#fdca26\"], [1.0, \"#f0f921\"]], \"sequentialminus\": [[0.0, \"#0d0887\"], [0.1111111111111111, \"#46039f\"], [0.2222222222222222, \"#7201a8\"], [0.3333333333333333, \"#9c179e\"], [0.4444444444444444, \"#bd3786\"], [0.5555555555555556, \"#d8576b\"], [0.6666666666666666, \"#ed7953\"], [0.7777777777777778, \"#fb9f3a\"], [0.8888888888888888, \"#fdca26\"], [1.0, \"#f0f921\"]]}, \"colorway\": [\"#636efa\", \"#EF553B\", \"#00cc96\", \"#ab63fa\", \"#FFA15A\", \"#19d3f3\", \"#FF6692\", \"#B6E880\", \"#FF97FF\", \"#FECB52\"], \"font\": {\"color\": \"#2a3f5f\"}, \"geo\": {\"bgcolor\": \"white\", \"lakecolor\": \"white\", \"landcolor\": \"#E5ECF6\", \"showlakes\": true, \"showland\": true, \"subunitcolor\": \"white\"}, \"hoverlabel\": {\"align\": \"left\"}, \"hovermode\": \"closest\", \"mapbox\": {\"style\": \"light\"}, \"paper_bgcolor\": \"white\", \"plot_bgcolor\": \"#E5ECF6\", \"polar\": {\"angularaxis\": {\"gridcolor\": \"white\", \"linecolor\": \"white\", \"ticks\": \"\"}, \"bgcolor\": \"#E5ECF6\", \"radialaxis\": {\"gridcolor\": \"white\", \"linecolor\": \"white\", \"ticks\": \"\"}}, \"scene\": {\"xaxis\": {\"backgroundcolor\": \"#E5ECF6\", \"gridcolor\": \"white\", \"gridwidth\": 2, \"linecolor\": \"white\", \"showbackground\": true, \"ticks\": \"\", \"zerolinecolor\": \"white\"}, \"yaxis\": {\"backgroundcolor\": \"#E5ECF6\", \"gridcolor\": \"white\", \"gridwidth\": 2, \"linecolor\": \"white\", \"showbackground\": true, \"ticks\": \"\", \"zerolinecolor\": \"white\"}, \"zaxis\": {\"backgroundcolor\": \"#E5ECF6\", \"gridcolor\": \"white\", \"gridwidth\": 2, \"linecolor\": \"white\", \"showbackground\": true, \"ticks\": \"\", \"zerolinecolor\": \"white\"}}, \"shapedefaults\": {\"line\": {\"color\": \"#2a3f5f\"}}, \"ternary\": {\"aaxis\": {\"gridcolor\": \"white\", \"linecolor\": \"white\", \"ticks\": \"\"}, \"baxis\": {\"gridcolor\": \"white\", \"linecolor\": \"white\", \"ticks\": \"\"}, \"bgcolor\": \"#E5ECF6\", \"caxis\": {\"gridcolor\": \"white\", \"linecolor\": \"white\", \"ticks\": \"\"}}, \"title\": {\"x\": 0.05}, \"xaxis\": {\"automargin\": true, \"gridcolor\": \"white\", \"linecolor\": \"white\", \"ticks\": \"\", \"title\": {\"standoff\": 15}, \"zerolinecolor\": \"white\", \"zerolinewidth\": 2}, \"yaxis\": {\"automargin\": true, \"gridcolor\": \"white\", \"linecolor\": \"white\", \"ticks\": \"\", \"title\": {\"standoff\": 15}, \"zerolinecolor\": \"white\", \"zerolinewidth\": 2}}}, \"xaxis\": {\"anchor\": \"y\", \"domain\": [0.0, 0.45], \"tickformat\": \"g\", \"title\": {\"text\": \"$Shell~~Velocity$\"}}, \"xaxis2\": {\"anchor\": \"y2\", \"domain\": [0.55, 1.0], \"matches\": \"x\", \"tickformat\": \"g\", \"title\": {\"text\": \"$Shell~~Velocity$\"}}, \"yaxis\": {\"anchor\": \"x\", \"domain\": [0.0, 1.0], \"range\": [9000, 14000], \"tickformat\": \"g\", \"title\": {\"text\": \"$T_{rad}\\\\ [K]$\"}}, \"yaxis2\": {\"anchor\": \"x2\", \"domain\": [0.0, 1.0], \"title\": {\"text\": \"$W$\"}}},                        {\"responsive\": true}                    ).then(function(){\n                            \nvar gd = document.getElementById('c547d6d4-5d9a-4f31-8f07-091f69053ca2');\nvar x = new MutationObserver(function (mutations, observer) {{\n        var display = window.getComputedStyle(gd).display;\n        if (!display || display === 'none') {{\n            console.log([gd, 'removed!']);\n            Plotly.purge(gd);\n            observer.disconnect();\n        }}\n}});\n\n// Listen for the removal of the full notebook cells\nvar notebookContainer = gd.closest('#notebook-container');\nif (notebookContainer) {{\n    x.observe(notebookContainer, {childList: true});\n}}\n\n// Listen for the clearing of the current output cell\nvar outputEl = gd.closest('.output');\nif (outputEl) {{\n    x.observe(outputEl, {childList: true});\n}}\n\n                        })                };                });            </script>        </div>"
         },
         "metadata": {},
         "output_type": "display_data"
        }
       ]
      }
     },
     "3d8e77c808f74d6c8e53da2cb20d3c6f": {
      "model_module": "@jupyter-widgets/controls",
      "model_module_version": "1.5.0",
      "model_name": "VBoxModel",
      "state": {
       "children": [
        "IPY_MODEL_7dcc0784a3124a5692da3b4eb0ac17a9",
        "IPY_MODEL_5f0633b0ebbb4a8eb8267174e8a1f359"
       ],
       "layout": "IPY_MODEL_f68d8abe25d54757a4a892690994a0a3"
      }
     },
     "40cf698e50984deba3310660c80508ed": {
      "model_module": "@jupyter-widgets/base",
      "model_module_version": "1.2.0",
      "model_name": "LayoutModel",
      "state": {}
     },
     "42f162efe55340b5abea8dd730deb25f": {
      "model_module": "@jupyter-widgets/base",
      "model_module_version": "1.2.0",
      "model_name": "LayoutModel",
      "state": {}
     },
     "4775e82ce4804cb4bf9c5256faa32a70": {
      "model_module": "@jupyter-widgets/output",
      "model_module_version": "1.0.0",
      "model_name": "OutputModel",
      "state": {
       "layout": "IPY_MODEL_8826cbdd213249098e0f6beef93b9c54",
       "outputs": [
        {
         "data": {
          "text/html": "        <script type=\"text/javascript\">\n        window.PlotlyConfig = {MathJaxConfig: 'local'};\n        if (window.MathJax) {MathJax.Hub.Config({SVG: {font: \"STIX-Web\"}});}\n        if (typeof require !== 'undefined') {\n        require.undef(\"plotly\");\n        requirejs.config({\n            paths: {\n                'plotly': ['https://cdn.plot.ly/plotly-latest.min']\n            }\n        });\n        require(['plotly'], function(Plotly) {\n            window._Plotly = Plotly;\n        });\n        }\n        </script>\n        "
         },
         "metadata": {},
         "output_type": "display_data"
        },
        {
         "data": {
          "text/html": "<div>                            <div id=\"1b160b9e-cb4e-42f4-96f5-f93381d543ec\" class=\"plotly-graph-div\" style=\"height:525px; width:100%;\"></div>            <script type=\"text/javascript\">                require([\"plotly\"], function(Plotly) {                    window.PLOTLYENV=window.PLOTLYENV || {};                                    if (document.getElementById(\"1b160b9e-cb4e-42f4-96f5-f93381d543ec\")) {                    Plotly.newPlot(                        \"1b160b9e-cb4e-42f4-96f5-f93381d543ec\",                        [{\"hovertemplate\": \"<b>%{y:.2g}</b><br>at X = %{x}<br>\", \"legendgroup\": \"Emitted\", \"marker\": {\"color\": \"orangered\"}, \"mode\": \"lines\", \"name\": \"Emitted<br>Luminosity\", \"opacity\": 0.6, \"type\": \"scatter\", \"uid\": \"9c643990-6746-4bd9-a786-c8a900586954\", \"x\": [1, 2, 3, 4, 5, 6, 7, 8, 9, 10, 11, 12, 13, 14, 15, 16, 17, 18, 19, 20], \"xaxis\": \"x2\", \"y\": [7.942750742981396e+42, 1.4081455093985728e+43, 8.126235743016503e+42, 1.3629660449563156e+43, 8.27894586347348e+42, 1.3474141886349227e+43, 8.390011483383557e+42, 1.3330505521644895e+43, 8.442830540796857e+42, 1.3292513146988894e+43, 8.494974137074282e+42, 1.3041701729221733e+43, 8.692438378058671e+42, 1.2835355197638404e+43, 8.753305281326621e+42, 1.2781970592598386e+43, 8.816470048071725e+42, 1.2667974995662812e+43, 8.870810439340542e+42, 1.263194391778655e+43], \"yaxis\": \"y2\"}, {\"hovertemplate\": \"<b>%{y:.2g}</b><br>at X = %{x}<br>\", \"legendgroup\": \"Absorbed\", \"marker\": {\"color\": \"lightseagreen\"}, \"mode\": \"lines\", \"name\": \"Absorbed<br>Luminosity\", \"opacity\": 0.6, \"type\": \"scatter\", \"uid\": \"2b1e7800-eda8-4f85-b2c5-7b3139d38dad\", \"x\": [1, 2, 3, 4, 5, 6, 7, 8, 9, 10, 11, 12, 13, 14, 15, 16, 17, 18, 19, 20], \"xaxis\": \"x2\", \"y\": [2.65804673153204e+42, 4.7700146052642123e+42, 2.5472229968140377e+42, 4.4972113694812525e+42, 2.6693301209933358e+42, 4.447266267261236e+42, 2.6922956553053436e+42, 4.330110768371945e+42, 2.7089402928209043e+42, 4.25943386711989e+42, 2.6561585210602605e+42, 4.288201956309693e+42, 2.7454765674505417e+42, 4.1509531498402554e+42, 2.813186401660242e+42, 4.156064515611499e+42, 2.816811651728025e+42, 4.122377281630377e+42, 2.8711648018363005e+42, 4.1070578782802735e+42], \"yaxis\": \"y2\"}, {\"hovertemplate\": \"<b>%{y:.2g}</b><br>at X = %{x}<br>\", \"legendgroup\": \"Requested\", \"marker\": {\"color\": \"indigo\"}, \"mode\": \"lines\", \"name\": \"Requested<br>Luminosity\", \"opacity\": 0.6, \"type\": \"scatter\", \"uid\": \"7baab29c-f5bf-4ade-829f-e46f91ce03e0\", \"x\": [1, 2, 3, 4, 5, 6, 7, 8, 9, 10, 11, 12, 13, 14, 15, 16, 17, 18, 19, 20], \"xaxis\": \"x2\", \"y\": [1.0592763593038458e+43, 1.0592763593038458e+43, 1.0592763593038458e+43, 1.0592763593038458e+43, 1.0592763593038458e+43, 1.0592763593038458e+43, 1.0592763593038458e+43, 1.0592763593038458e+43, 1.0592763593038458e+43, 1.0592763593038458e+43, 1.0592763593038458e+43, 1.0592763593038458e+43, 1.0592763593038458e+43, 1.0592763593038458e+43, 1.0592763593038458e+43, 1.0592763593038458e+43, 1.0592763593038458e+43, 1.0592763593038458e+43, 1.0592763593038458e+43, 1.0592763593038458e+43], \"yaxis\": \"y2\"}, {\"hovertemplate\": \"Residual Luminosity: %{y:.2f}% at X = %{x:,.0f}<extra></extra>\", \"marker\": {\"color\": \"cornflowerblue\"}, \"mode\": \"lines\", \"name\": \"Residual<br>Luminosity\", \"opacity\": 0.7, \"type\": \"scatter\", \"uid\": \"7ae99492-58b8-4c6b-9065-e58b97908fcd\", \"x\": [1, 2, 3, 4, 5, 6, 7, 8, 9, 10, 11, 12, 13, 14, 15, 16, 17, 18, 19, 20], \"xaxis\": \"x3\", \"y\": [-25.017199966575717, 32.934667806992614, -23.285026880454048, 28.669542465013958, -21.843381184166276, 27.201383925951156, -20.794876524031412, 25.84539817735266, -20.296243122564654, 25.486734696172267, -19.80398634916046, 23.118972822094438, -17.939843538363082, 21.170977572592793, -17.3652351962308, 20.667005171329144, -16.76893408755113, 19.590840335454846, -16.2559386752441, 19.250692294202032], \"yaxis\": \"y3\"}, {\"hovertemplate\": \"Next Inner Body Temperature: %{y:.2f} at X = %{x:,.0f}<extra></extra>\", \"marker\": {\"color\": \"crimson\"}, \"mode\": \"lines\", \"name\": \"Next Inner<br>Boundary<br>Temperature\", \"opacity\": 0.7, \"type\": \"scatter\", \"uid\": \"3fd5150b-4887-4fb5-aa59-ee3de1f27b9d\", \"x\": [1, 2, 3, 4, 5, 6, 7, 8, 9, 10, 11, 12, 13, 14, 15, 16, 17, 18, 19, 20], \"xaxis\": \"x\", \"y\": [11472.055253129645, 9949.977592596559, 11360.096854261606, 10014.843240243388, 11328.209558951534, 10044.200101537022, 11285.965504372467, 10060.511200596067, 11268.87736423254, 10059.623883542255, 11233.248147773367, 10123.783777872188, 11175.750322790715, 10152.602547328883, 11168.529280894094, 10167.208273207052, 11144.459025959051, 10190.841172561493, 11136.097470940847, 11136.097470940847], \"yaxis\": \"y\"}],                        {\"autosize\": true, \"hidesources\": true, \"hoverlabel\": {\"align\": \"right\", \"font\": {\"color\": \"white\"}}, \"legend\": {\"title\": {\"text\": \"Luminosity\"}, \"tracegroupgap\": 0}, \"margin\": {\"b\": 10, \"l\": 10, \"pad\": 0, \"r\": 10, \"t\": 25}, \"template\": {\"data\": {\"bar\": [{\"error_x\": {\"color\": \"#2a3f5f\"}, \"error_y\": {\"color\": \"#2a3f5f\"}, \"marker\": {\"line\": {\"color\": \"#E5ECF6\", \"width\": 0.5}}, \"type\": \"bar\"}], \"barpolar\": [{\"marker\": {\"line\": {\"color\": \"#E5ECF6\", \"width\": 0.5}}, \"type\": \"barpolar\"}], \"carpet\": [{\"aaxis\": {\"endlinecolor\": \"#2a3f5f\", \"gridcolor\": \"white\", \"linecolor\": \"white\", \"minorgridcolor\": \"white\", \"startlinecolor\": \"#2a3f5f\"}, \"baxis\": {\"endlinecolor\": \"#2a3f5f\", \"gridcolor\": \"white\", \"linecolor\": \"white\", \"minorgridcolor\": \"white\", \"startlinecolor\": \"#2a3f5f\"}, \"type\": \"carpet\"}], \"choropleth\": [{\"colorbar\": {\"outlinewidth\": 0, \"ticks\": \"\"}, \"type\": \"choropleth\"}], \"contour\": [{\"colorbar\": {\"outlinewidth\": 0, \"ticks\": \"\"}, \"colorscale\": [[0.0, \"#0d0887\"], [0.1111111111111111, \"#46039f\"], [0.2222222222222222, \"#7201a8\"], [0.3333333333333333, \"#9c179e\"], [0.4444444444444444, \"#bd3786\"], [0.5555555555555556, \"#d8576b\"], [0.6666666666666666, \"#ed7953\"], [0.7777777777777778, \"#fb9f3a\"], [0.8888888888888888, \"#fdca26\"], [1.0, \"#f0f921\"]], \"type\": \"contour\"}], \"contourcarpet\": [{\"colorbar\": {\"outlinewidth\": 0, \"ticks\": \"\"}, \"type\": \"contourcarpet\"}], \"heatmap\": [{\"colorbar\": {\"outlinewidth\": 0, \"ticks\": \"\"}, \"colorscale\": [[0.0, \"#0d0887\"], [0.1111111111111111, \"#46039f\"], [0.2222222222222222, \"#7201a8\"], [0.3333333333333333, \"#9c179e\"], [0.4444444444444444, \"#bd3786\"], [0.5555555555555556, \"#d8576b\"], [0.6666666666666666, \"#ed7953\"], [0.7777777777777778, \"#fb9f3a\"], [0.8888888888888888, \"#fdca26\"], [1.0, \"#f0f921\"]], \"type\": \"heatmap\"}], \"heatmapgl\": [{\"colorbar\": {\"outlinewidth\": 0, \"ticks\": \"\"}, \"colorscale\": [[0.0, \"#0d0887\"], [0.1111111111111111, \"#46039f\"], [0.2222222222222222, \"#7201a8\"], [0.3333333333333333, \"#9c179e\"], [0.4444444444444444, \"#bd3786\"], [0.5555555555555556, \"#d8576b\"], [0.6666666666666666, \"#ed7953\"], [0.7777777777777778, \"#fb9f3a\"], [0.8888888888888888, \"#fdca26\"], [1.0, \"#f0f921\"]], \"type\": \"heatmapgl\"}], \"histogram\": [{\"marker\": {\"colorbar\": {\"outlinewidth\": 0, \"ticks\": \"\"}}, \"type\": \"histogram\"}], \"histogram2d\": [{\"colorbar\": {\"outlinewidth\": 0, \"ticks\": \"\"}, \"colorscale\": [[0.0, \"#0d0887\"], [0.1111111111111111, \"#46039f\"], [0.2222222222222222, \"#7201a8\"], [0.3333333333333333, \"#9c179e\"], [0.4444444444444444, \"#bd3786\"], [0.5555555555555556, \"#d8576b\"], [0.6666666666666666, \"#ed7953\"], [0.7777777777777778, \"#fb9f3a\"], [0.8888888888888888, \"#fdca26\"], [1.0, \"#f0f921\"]], \"type\": \"histogram2d\"}], \"histogram2dcontour\": [{\"colorbar\": {\"outlinewidth\": 0, \"ticks\": \"\"}, \"colorscale\": [[0.0, \"#0d0887\"], [0.1111111111111111, \"#46039f\"], [0.2222222222222222, \"#7201a8\"], [0.3333333333333333, \"#9c179e\"], [0.4444444444444444, \"#bd3786\"], [0.5555555555555556, \"#d8576b\"], [0.6666666666666666, \"#ed7953\"], [0.7777777777777778, \"#fb9f3a\"], [0.8888888888888888, \"#fdca26\"], [1.0, \"#f0f921\"]], \"type\": \"histogram2dcontour\"}], \"mesh3d\": [{\"colorbar\": {\"outlinewidth\": 0, \"ticks\": \"\"}, \"type\": \"mesh3d\"}], \"parcoords\": [{\"line\": {\"colorbar\": {\"outlinewidth\": 0, \"ticks\": \"\"}}, \"type\": \"parcoords\"}], \"pie\": [{\"automargin\": true, \"type\": \"pie\"}], \"scatter\": [{\"marker\": {\"colorbar\": {\"outlinewidth\": 0, \"ticks\": \"\"}}, \"type\": \"scatter\"}], \"scatter3d\": [{\"line\": {\"colorbar\": {\"outlinewidth\": 0, \"ticks\": \"\"}}, \"marker\": {\"colorbar\": {\"outlinewidth\": 0, \"ticks\": \"\"}}, \"type\": \"scatter3d\"}], \"scattercarpet\": [{\"marker\": {\"colorbar\": {\"outlinewidth\": 0, \"ticks\": \"\"}}, \"type\": \"scattercarpet\"}], \"scattergeo\": [{\"marker\": {\"colorbar\": {\"outlinewidth\": 0, \"ticks\": \"\"}}, \"type\": \"scattergeo\"}], \"scattergl\": [{\"marker\": {\"colorbar\": {\"outlinewidth\": 0, \"ticks\": \"\"}}, \"type\": \"scattergl\"}], \"scattermapbox\": [{\"marker\": {\"colorbar\": {\"outlinewidth\": 0, \"ticks\": \"\"}}, \"type\": \"scattermapbox\"}], \"scatterpolar\": [{\"marker\": {\"colorbar\": {\"outlinewidth\": 0, \"ticks\": \"\"}}, \"type\": \"scatterpolar\"}], \"scatterpolargl\": [{\"marker\": {\"colorbar\": {\"outlinewidth\": 0, \"ticks\": \"\"}}, \"type\": \"scatterpolargl\"}], \"scatterternary\": [{\"marker\": {\"colorbar\": {\"outlinewidth\": 0, \"ticks\": \"\"}}, \"type\": \"scatterternary\"}], \"surface\": [{\"colorbar\": {\"outlinewidth\": 0, \"ticks\": \"\"}, \"colorscale\": [[0.0, \"#0d0887\"], [0.1111111111111111, \"#46039f\"], [0.2222222222222222, \"#7201a8\"], [0.3333333333333333, \"#9c179e\"], [0.4444444444444444, \"#bd3786\"], [0.5555555555555556, \"#d8576b\"], [0.6666666666666666, \"#ed7953\"], [0.7777777777777778, \"#fb9f3a\"], [0.8888888888888888, \"#fdca26\"], [1.0, \"#f0f921\"]], \"type\": \"surface\"}], \"table\": [{\"cells\": {\"fill\": {\"color\": \"#EBF0F8\"}, \"line\": {\"color\": \"white\"}}, \"header\": {\"fill\": {\"color\": \"#C8D4E3\"}, \"line\": {\"color\": \"white\"}}, \"type\": \"table\"}]}, \"layout\": {\"annotationdefaults\": {\"arrowcolor\": \"#2a3f5f\", \"arrowhead\": 0, \"arrowwidth\": 1}, \"autotypenumbers\": \"strict\", \"coloraxis\": {\"colorbar\": {\"outlinewidth\": 0, \"ticks\": \"\"}}, \"colorscale\": {\"diverging\": [[0, \"#8e0152\"], [0.1, \"#c51b7d\"], [0.2, \"#de77ae\"], [0.3, \"#f1b6da\"], [0.4, \"#fde0ef\"], [0.5, \"#f7f7f7\"], [0.6, \"#e6f5d0\"], [0.7, \"#b8e186\"], [0.8, \"#7fbc41\"], [0.9, \"#4d9221\"], [1, \"#276419\"]], \"sequential\": [[0.0, \"#0d0887\"], [0.1111111111111111, \"#46039f\"], [0.2222222222222222, \"#7201a8\"], [0.3333333333333333, \"#9c179e\"], [0.4444444444444444, \"#bd3786\"], [0.5555555555555556, \"#d8576b\"], [0.6666666666666666, \"#ed7953\"], [0.7777777777777778, \"#fb9f3a\"], [0.8888888888888888, \"#fdca26\"], [1.0, \"#f0f921\"]], \"sequentialminus\": [[0.0, \"#0d0887\"], [0.1111111111111111, \"#46039f\"], [0.2222222222222222, \"#7201a8\"], [0.3333333333333333, \"#9c179e\"], [0.4444444444444444, \"#bd3786\"], [0.5555555555555556, \"#d8576b\"], [0.6666666666666666, \"#ed7953\"], [0.7777777777777778, \"#fb9f3a\"], [0.8888888888888888, \"#fdca26\"], [1.0, \"#f0f921\"]]}, \"colorway\": [\"#636efa\", \"#EF553B\", \"#00cc96\", \"#ab63fa\", \"#FFA15A\", \"#19d3f3\", \"#FF6692\", \"#B6E880\", \"#FF97FF\", \"#FECB52\"], \"font\": {\"color\": \"#2a3f5f\"}, \"geo\": {\"bgcolor\": \"white\", \"lakecolor\": \"white\", \"landcolor\": \"#E5ECF6\", \"showlakes\": true, \"showland\": true, \"subunitcolor\": \"white\"}, \"hoverlabel\": {\"align\": \"left\"}, \"hovermode\": \"closest\", \"mapbox\": {\"style\": \"light\"}, \"paper_bgcolor\": \"white\", \"plot_bgcolor\": \"#E5ECF6\", \"polar\": {\"angularaxis\": {\"gridcolor\": \"white\", \"linecolor\": \"white\", \"ticks\": \"\"}, \"bgcolor\": \"#E5ECF6\", \"radialaxis\": {\"gridcolor\": \"white\", \"linecolor\": \"white\", \"ticks\": \"\"}}, \"scene\": {\"xaxis\": {\"backgroundcolor\": \"#E5ECF6\", \"gridcolor\": \"white\", \"gridwidth\": 2, \"linecolor\": \"white\", \"showbackground\": true, \"ticks\": \"\", \"zerolinecolor\": \"white\"}, \"yaxis\": {\"backgroundcolor\": \"#E5ECF6\", \"gridcolor\": \"white\", \"gridwidth\": 2, \"linecolor\": \"white\", \"showbackground\": true, \"ticks\": \"\", \"zerolinecolor\": \"white\"}, \"zaxis\": {\"backgroundcolor\": \"#E5ECF6\", \"gridcolor\": \"white\", \"gridwidth\": 2, \"linecolor\": \"white\", \"showbackground\": true, \"ticks\": \"\", \"zerolinecolor\": \"white\"}}, \"shapedefaults\": {\"line\": {\"color\": \"#2a3f5f\"}}, \"ternary\": {\"aaxis\": {\"gridcolor\": \"white\", \"linecolor\": \"white\", \"ticks\": \"\"}, \"baxis\": {\"gridcolor\": \"white\", \"linecolor\": \"white\", \"ticks\": \"\"}, \"bgcolor\": \"#E5ECF6\", \"caxis\": {\"gridcolor\": \"white\", \"linecolor\": \"white\", \"ticks\": \"\"}}, \"title\": {\"x\": 0.05}, \"xaxis\": {\"automargin\": true, \"gridcolor\": \"white\", \"linecolor\": \"white\", \"ticks\": \"\", \"title\": {\"standoff\": 15}, \"zerolinecolor\": \"white\", \"zerolinewidth\": 2}, \"yaxis\": {\"automargin\": true, \"gridcolor\": \"white\", \"linecolor\": \"white\", \"ticks\": \"\", \"title\": {\"standoff\": 15}, \"zerolinecolor\": \"white\", \"zerolinewidth\": 2}}}, \"xaxis\": {\"anchor\": \"y\", \"domain\": [0.0, 1.0], \"dtick\": 2, \"matches\": \"x3\", \"range\": [0, 21], \"showticklabels\": false}, \"xaxis2\": {\"anchor\": \"y2\", \"domain\": [0.0, 1.0], \"dtick\": 2, \"matches\": \"x\", \"range\": [0, 21], \"showticklabels\": false}, \"xaxis3\": {\"anchor\": \"y3\", \"domain\": [0.0, 1.0], \"dtick\": 2, \"matches\": \"x\", \"title\": {\"text\": \"$\\\\mbox{Iteration Number}$\"}}, \"yaxis\": {\"anchor\": \"x\", \"automargin\": true, \"domain\": [0.865, 1.0], \"exponentformat\": \"e\", \"side\": \"top\", \"tickformat\": \"g\", \"title\": {\"text\": \"$\\\\mbox{T}_{inner}$\"}}, \"yaxis2\": {\"anchor\": \"x2\", \"automargin\": true, \"domain\": [0.185, 0.815], \"exponentformat\": \"e\", \"title\": {\"font\": {\"size\": 13}, \"text\": \"$\\\\mbox{Luminosity}~(erg~sec^{-1})$\"}}, \"yaxis3\": {\"anchor\": \"x3\", \"automargin\": true, \"domain\": [0.0, 0.135], \"exponentformat\": \"e\", \"title\": {\"font\": {\"size\": 12}, \"text\": \"$~~\\\\mbox{Residual}\\\\\\\\\\\\mbox{Luminosity(%)}$\"}}},                        {\"responsive\": true}                    ).then(function(){\n                            \nvar gd = document.getElementById('1b160b9e-cb4e-42f4-96f5-f93381d543ec');\nvar x = new MutationObserver(function (mutations, observer) {{\n        var display = window.getComputedStyle(gd).display;\n        if (!display || display === 'none') {{\n            console.log([gd, 'removed!']);\n            Plotly.purge(gd);\n            observer.disconnect();\n        }}\n}});\n\n// Listen for the removal of the full notebook cells\nvar notebookContainer = gd.closest('#notebook-container');\nif (notebookContainer) {{\n    x.observe(notebookContainer, {childList: true});\n}}\n\n// Listen for the clearing of the current output cell\nvar outputEl = gd.closest('.output');\nif (outputEl) {{\n    x.observe(outputEl, {childList: true});\n}}\n\n                        })                };                });            </script>        </div>"
         },
         "metadata": {},
         "output_type": "display_data"
        }
       ]
      }
     },
     "47998edb071a4dbea611d7729f3bb1f2": {
      "model_module": "plotlywidget",
      "model_module_version": "^4.14.3",
      "model_name": "FigureModel",
      "state": {
       "_config": {
        "plotlyServerURL": "https://plot.ly"
       },
       "_data": [
        {
         "line": {
          "color": "#800000"
         },
         "type": "scatter",
         "uid": "5748c140-1705-4475-a12c-53869ea228ef",
         "xaxis": "x",
         "yaxis": "y"
        },
        {
         "line": {
          "color": "#800000"
         },
         "type": "scatter",
         "uid": "89f06b27-719f-4d4f-9bfe-f154dea4fcee",
         "xaxis": "x2",
         "yaxis": "y2"
        },
        {
         "legendgroup": "group-0",
         "line": {
          "color": "#000080"
         },
         "marker": {
          "size": 3,
          "symbol": "diamond"
         },
         "name": "1",
         "showlegend": false,
         "type": "scatter",
         "uid": "6de334b7-6016-4fee-a3c1-5b8b2fe7198d",
         "x": [
          11000,
          11450,
          11900,
          12350,
          12800,
          13250,
          13700,
          14150,
          14600,
          15050,
          15500,
          15950,
          16400,
          16850,
          17300,
          17750,
          18200,
          18650,
          19100,
          19550,
          20000
         ],
         "xaxis": "x",
         "y": [
          10134.733716625742,
          10158.894068408064,
          10199.163062164183,
          10230.988705011776,
          10268.95723542248,
          10222.890845143002,
          10224.33250792895,
          10215.304103107928,
          10218.67593187541,
          10185.463728853065,
          10144.46316917108,
          10076.87680984274,
          10030.209347853815,
          10029.018621140542,
          9986.944524442715,
          9873.477845862937,
          9843.334614032237,
          9771.609702679261,
          9679.524619982089,
          9610.209774198473
         ],
         "yaxis": "y"
        },
        {
         "legendgroup": "group-0",
         "line": {
          "color": "#000080"
         },
         "marker": {
          "size": 3,
          "symbol": "diamond"
         },
         "name": "1",
         "type": "scatter",
         "uid": "dfd2e8aa-0a4f-43f8-b700-4a470619ba3d",
         "x": [
          11000,
          11450,
          11900,
          12350,
          12800,
          13250,
          13700,
          14150,
          14600,
          15050,
          15500,
          15950,
          16400,
          16850,
          17300,
          17750,
          18200,
          18650,
          19100,
          19550,
          20000
         ],
         "xaxis": "x2",
         "y": [
          0.5082040569581554,
          0.3962212763594891,
          0.3214185723254649,
          0.26560113513158967,
          0.22389059993927218,
          0.19702589896830255,
          0.1749491202529985,
          0.1563731541470249,
          0.13940960015313733,
          0.12795427205030482,
          0.11717940936679912,
          0.10932218040060024,
          0.10303354273987321,
          0.09520635540966971,
          0.08986506172262776,
          0.08694065164106614,
          0.082029771070409,
          0.07895392034793645,
          0.07641285709961215,
          0.0734944435056783
         ],
         "yaxis": "y2"
        },
        {
         "legendgroup": "group-1",
         "line": {
          "color": "#0000bd"
         },
         "marker": {
          "size": 3,
          "symbol": "diamond"
         },
         "name": "2",
         "showlegend": false,
         "type": "scatter",
         "uid": "de2fcfc0-1144-4a6a-8566-b98dd70f45a7",
         "x": [
          11000,
          11450,
          11900,
          12350,
          12800,
          13250,
          13700,
          14150,
          14600,
          15050,
          15500,
          15950,
          16400,
          16850,
          17300,
          17750,
          18200,
          18650,
          19100,
          19550,
          20000
         ],
         "xaxis": "x",
         "y": [
          11468.021903420027,
          11435.999407966676,
          11449.930444230995,
          11492.65958293691,
          11527.299217171007,
          11499.835339656465,
          11477.276330649498,
          11460.659744967303,
          11406.161049943823,
          11340.543942919201,
          11306.370330122183,
          11212.548324749032,
          11165.15031794662,
          11109.460288675331,
          11032.751812374603,
          10953.828130057926,
          10887.89602394496,
          10829.273836669769,
          10807.478630946254,
          10678.472039472606
         ],
         "yaxis": "y"
        },
        {
         "legendgroup": "group-1",
         "line": {
          "color": "#0000bd"
         },
         "marker": {
          "size": 3,
          "symbol": "diamond"
         },
         "name": "2",
         "type": "scatter",
         "uid": "82cfdcf8-4ed8-4ee9-8617-e9e8bf82fe51",
         "x": [
          11000,
          11450,
          11900,
          12350,
          12800,
          13250,
          13700,
          14150,
          14600,
          15050,
          15500,
          15950,
          16400,
          16850,
          17300,
          17750,
          18200,
          18650,
          19100,
          19550,
          20000
         ],
         "xaxis": "x2",
         "y": [
          0.5486713034814857,
          0.4359667978092499,
          0.35745766558351055,
          0.29759617877916883,
          0.2514052642548386,
          0.2213742932983643,
          0.1967142119281105,
          0.1750139221468986,
          0.1596018423150508,
          0.14776884435084475,
          0.1362910943753445,
          0.1282954632603496,
          0.11949333047989281,
          0.11271924127039863,
          0.10796286592870252,
          0.10261651657287679,
          0.09761052473526158,
          0.0925701903122773,
          0.08757308797595444,
          0.08560372849204283
         ],
         "yaxis": "y2"
        },
        {
         "legendgroup": "group-2",
         "line": {
          "color": "#0000fa"
         },
         "marker": {
          "size": 3,
          "symbol": "diamond"
         },
         "name": "3",
         "showlegend": false,
         "type": "scatter",
         "uid": "c982a747-5420-4709-aa74-b24735147296",
         "x": [
          11000,
          11450,
          11900,
          12350,
          12800,
          13250,
          13700,
          14150,
          14600,
          15050,
          15500,
          15950,
          16400,
          16850,
          17300,
          17750,
          18200,
          18650,
          19100,
          19550,
          20000
         ],
         "xaxis": "x",
         "y": [
          10497.008397133988,
          10647.412149636564,
          10710.555598349812,
          10778.428547850966,
          10799.157541112727,
          10799.075913257297,
          10809.366021863923,
          10753.851890469936,
          10723.18539784127,
          10725.950530076656,
          10623.433273860508,
          10568.227843581686,
          10448.426796026406,
          10344.129570842591,
          10277.247070725653,
          10226.187071335817,
          10191.522923045857,
          10084.749431116139,
          9966.774860086334,
          9840.487791467045
         ],
         "yaxis": "y"
        },
        {
         "legendgroup": "group-2",
         "line": {
          "color": "#0000fa"
         },
         "marker": {
          "size": 3,
          "symbol": "diamond"
         },
         "name": "3",
         "type": "scatter",
         "uid": "27421b73-4e1d-40a3-be82-abe87255e702",
         "x": [
          11000,
          11450,
          11900,
          12350,
          12800,
          13250,
          13700,
          14150,
          14600,
          15050,
          15500,
          15950,
          16400,
          16850,
          17300,
          17750,
          18200,
          18650,
          19100,
          19550,
          20000
         ],
         "xaxis": "x2",
         "y": [
          0.442299407233424,
          0.3316155054771363,
          0.26819254934335535,
          0.22122958128497036,
          0.18813327121608667,
          0.16428839927198421,
          0.1443413401513004,
          0.13164698698733832,
          0.12013575438192611,
          0.1081687026641846,
          0.10181996368767447,
          0.09492623735431249,
          0.09101140062051426,
          0.08639163271896758,
          0.08220814746497997,
          0.07762890235617773,
          0.0732750049575765,
          0.07106642067401933,
          0.06969266984280108,
          0.06837630714305266
         ],
         "yaxis": "y2"
        },
        {
         "legendgroup": "group-3",
         "line": {
          "color": "#0022ff"
         },
         "marker": {
          "size": 3,
          "symbol": "diamond"
         },
         "name": "4",
         "showlegend": false,
         "type": "scatter",
         "uid": "79c4e356-b322-4e5d-86a8-bf62146b44fb",
         "x": [
          11000,
          11450,
          11900,
          12350,
          12800,
          13250,
          13700,
          14150,
          14600,
          15050,
          15500,
          15950,
          16400,
          16850,
          17300,
          17750,
          18200,
          18650,
          19100,
          19550,
          20000
         ],
         "xaxis": "x",
         "y": [
          11615.34431271539,
          11665.123230726764,
          11722.631980824826,
          11696.759034389528,
          11740.274989218244,
          11729.411389495828,
          11762.93754644142,
          11652.44218706302,
          11589.11016884437,
          11561.496043188794,
          11517.190316985118,
          11433.020206851419,
          11326.42249364519,
          11237.973261737088,
          11182.841624719184,
          11103.37345606317,
          10988.381394715301,
          10950.081329679253,
          10862.947659789317,
          10751.855231570007
         ],
         "yaxis": "y"
        },
        {
         "legendgroup": "group-3",
         "line": {
          "color": "#0022ff"
         },
         "marker": {
          "size": 3,
          "symbol": "diamond"
         },
         "name": "4",
         "type": "scatter",
         "uid": "19f6aaa3-566e-40a6-8f81-51f00d735077",
         "x": [
          11000,
          11450,
          11900,
          12350,
          12800,
          13250,
          13700,
          14150,
          14600,
          15050,
          15500,
          15950,
          16400,
          16850,
          17300,
          17750,
          18200,
          18650,
          19100,
          19550,
          20000
         ],
         "xaxis": "x2",
         "y": [
          0.4977143593187972,
          0.3915904655092031,
          0.31518118479289936,
          0.26854353604159453,
          0.22820910008384737,
          0.1992052064914697,
          0.1732796396495469,
          0.15947664883652757,
          0.14579099407466625,
          0.1334986840647756,
          0.12384871542019993,
          0.1163327713735177,
          0.11004943343959867,
          0.10494577908156115,
          0.09880472549683283,
          0.09393029340453476,
          0.09096244445118767,
          0.08630423393331049,
          0.08321862769525468,
          0.08100093623949862
         ],
         "yaxis": "y2"
        },
        {
         "legendgroup": "group-4",
         "line": {
          "color": "#0057ff"
         },
         "marker": {
          "size": 3,
          "symbol": "diamond"
         },
         "name": "5",
         "showlegend": false,
         "type": "scatter",
         "uid": "47bc07f9-9618-48b3-9570-b8dd75784f77",
         "x": [
          11000,
          11450,
          11900,
          12350,
          12800,
          13250,
          13700,
          14150,
          14600,
          15050,
          15500,
          15950,
          16400,
          16850,
          17300,
          17750,
          18200,
          18650,
          19100,
          19550,
          20000
         ],
         "xaxis": "x",
         "y": [
          10549.51412848435,
          10759.565074180144,
          10894.663638012831,
          10932.865203687254,
          10930.709069978382,
          10919.073481210131,
          10877.07525272697,
          10810.824269258308,
          10785.603108487141,
          10727.31310966391,
          10697.303299672532,
          10711.257210371086,
          10551.734446150795,
          10490.892524557958,
          10416.933630770685,
          10379.863072642813,
          10279.630106699515,
          10220.453729533758,
          10077.475484616278,
          9927.285882427788
         ],
         "yaxis": "y"
        },
        {
         "legendgroup": "group-4",
         "line": {
          "color": "#0057ff"
         },
         "marker": {
          "size": 3,
          "symbol": "diamond"
         },
         "name": "5",
         "type": "scatter",
         "uid": "95b3cbbf-a8ce-4ac7-b682-61458ee29c22",
         "x": [
          11000,
          11450,
          11900,
          12350,
          12800,
          13250,
          13700,
          14150,
          14600,
          15050,
          15500,
          15950,
          16400,
          16850,
          17300,
          17750,
          18200,
          18650,
          19100,
          19550,
          20000
         ],
         "xaxis": "x2",
         "y": [
          0.4434406663593859,
          0.329565789368522,
          0.26010890450064733,
          0.2159881056247415,
          0.1854070420834862,
          0.16219891903074657,
          0.14560372598880475,
          0.13326787384388758,
          0.11999931339731698,
          0.11025218829721785,
          0.1012892218335092,
          0.09247037462403469,
          0.08933312170132374,
          0.08413052869637083,
          0.07995660682274036,
          0.07537221197763783,
          0.07252173631498261,
          0.06901139800647034,
          0.06809975749337623,
          0.06735205229901337
         ],
         "yaxis": "y2"
        },
        {
         "legendgroup": "group-5",
         "line": {
          "color": "#008dff"
         },
         "marker": {
          "size": 3,
          "symbol": "diamond"
         },
         "name": "6",
         "showlegend": false,
         "type": "scatter",
         "uid": "96b2f801-dd5e-4dd0-af96-256d92ab7829",
         "x": [
          11000,
          11450,
          11900,
          12350,
          12800,
          13250,
          13700,
          14150,
          14600,
          15050,
          15500,
          15950,
          16400,
          16850,
          17300,
          17750,
          18200,
          18650,
          19100,
          19550,
          20000
         ],
         "xaxis": "x",
         "y": [
          11567.208184336641,
          11613.025123050538,
          11683.328827353047,
          11693.104708830946,
          11724.278325269526,
          11653.124120929953,
          11612.65021223817,
          11609.82892873756,
          11614.580326945592,
          11546.462389124263,
          11425.95501009532,
          11375.048998512899,
          11315.818140434149,
          11225.578780782147,
          11120.449864009748,
          11082.155937788912,
          10987.868514296186,
          10920.442550504482,
          10834.92855121022,
          10735.503852801117
         ],
         "yaxis": "y"
        },
        {
         "legendgroup": "group-5",
         "line": {
          "color": "#008dff"
         },
         "marker": {
          "size": 3,
          "symbol": "diamond"
         },
         "name": "6",
         "type": "scatter",
         "uid": "ca74756d-10ca-4aec-bd76-42b0e27fe43e",
         "x": [
          11000,
          11450,
          11900,
          12350,
          12800,
          13250,
          13700,
          14150,
          14600,
          15050,
          15500,
          15950,
          16400,
          16850,
          17300,
          17750,
          18200,
          18650,
          19100,
          19550,
          20000
         ],
         "xaxis": "x2",
         "y": [
          0.5041776548110584,
          0.39023406927746374,
          0.3175388504350529,
          0.2668923064824901,
          0.22560807776675992,
          0.203042144204494,
          0.18189522000862068,
          0.16135829264739318,
          0.14556836273965668,
          0.13371966659083212,
          0.12524940621974714,
          0.11754876564474895,
          0.11015802998525885,
          0.10441164070595735,
          0.09931347804630662,
          0.09402786959361889,
          0.09062541591197751,
          0.08647506254390502,
          0.08333888504337562,
          0.08065101681509353
         ],
         "yaxis": "y2"
        },
        {
         "legendgroup": "group-6",
         "line": {
          "color": "#00c3ff"
         },
         "marker": {
          "size": 3,
          "symbol": "diamond"
         },
         "name": "7",
         "showlegend": false,
         "type": "scatter",
         "uid": "730649f0-47bb-4b4d-8262-773b17d0f193",
         "x": [
          11000,
          11450,
          11900,
          12350,
          12800,
          13250,
          13700,
          14150,
          14600,
          15050,
          15500,
          15950,
          16400,
          16850,
          17300,
          17750,
          18200,
          18650,
          19100,
          19550,
          20000
         ],
         "xaxis": "x",
         "y": [
          10569.74740334304,
          10778.034968335256,
          10902.99080443269,
          10989.797314359694,
          11047.113446219639,
          11099.194259237403,
          11016.051305801364,
          10966.513171670935,
          10947.55947416353,
          10934.581362699615,
          10809.397890448754,
          10698.341230707349,
          10636.972622756153,
          10581.99648087922,
          10532.222759856093,
          10454.841299228276,
          10338.205644915452,
          10252.881876072242,
          10087.404942797337,
          9969.196423563208
         ],
         "yaxis": "y"
        },
        {
         "legendgroup": "group-6",
         "line": {
          "color": "#00c3ff"
         },
         "marker": {
          "size": 3,
          "symbol": "diamond"
         },
         "name": "7",
         "type": "scatter",
         "uid": "a89fe217-0b4e-4d5a-9a67-f9c2b89b462a",
         "x": [
          11000,
          11450,
          11900,
          12350,
          12800,
          13250,
          13700,
          14150,
          14600,
          15050,
          15500,
          15950,
          16400,
          16850,
          17300,
          17750,
          18200,
          18650,
          19100,
          19550,
          20000
         ],
         "xaxis": "x2",
         "y": [
          0.4422900724363882,
          0.32572087182053455,
          0.25608363121508193,
          0.20917551310840277,
          0.17856281204684143,
          0.1532534478801237,
          0.1389841189692777,
          0.1262357056609694,
          0.11375261901807446,
          0.10290814628079882,
          0.09725630417756266,
          0.09284460200253164,
          0.0871069617423461,
          0.0816250729899891,
          0.07729032592235478,
          0.07380941869099045,
          0.07152054892238287,
          0.06908445244271275,
          0.06851046721770122,
          0.06692890210588077
         ],
         "yaxis": "y2"
        },
        {
         "legendgroup": "group-7",
         "line": {
          "color": "#0ff8e8"
         },
         "marker": {
          "size": 3,
          "symbol": "diamond"
         },
         "name": "8",
         "showlegend": false,
         "type": "scatter",
         "uid": "258b1695-7ce4-49ca-884d-528121b755ff",
         "x": [
          11000,
          11450,
          11900,
          12350,
          12800,
          13250,
          13700,
          14150,
          14600,
          15050,
          15500,
          15950,
          16400,
          16850,
          17300,
          17750,
          18200,
          18650,
          19100,
          19550,
          20000
         ],
         "xaxis": "x",
         "y": [
          11547.678161996797,
          11623.874786176679,
          11731.044716907294,
          11760.25509798027,
          11744.698977086615,
          11669.73950817632,
          11644.121670479833,
          11594.304643594436,
          11525.864522224016,
          11493.832801176886,
          11493.569589639628,
          11391.455575577864,
          11294.144464329282,
          11274.715359901778,
          11177.405492194264,
          11083.76958592225,
          11033.949307567013,
          10945.602385267846,
          10830.938212361745,
          10712.245869588583
         ],
         "yaxis": "y"
        },
        {
         "legendgroup": "group-7",
         "line": {
          "color": "#0ff8e8"
         },
         "marker": {
          "size": 3,
          "symbol": "diamond"
         },
         "name": "8",
         "type": "scatter",
         "uid": "793f37e2-2901-4031-8154-6385f9866aca",
         "x": [
          11000,
          11450,
          11900,
          12350,
          12800,
          13250,
          13700,
          14150,
          14600,
          15050,
          15500,
          15950,
          16400,
          16850,
          17300,
          17750,
          18200,
          18650,
          19100,
          19550,
          20000
         ],
         "xaxis": "x2",
         "y": [
          0.5003453146367499,
          0.38382149418984424,
          0.3046144240522065,
          0.25655030086043534,
          0.22316143817180586,
          0.1983376255429574,
          0.17627463164764823,
          0.16038371517158478,
          0.14647197836539907,
          0.13388777429772944,
          0.12191469474588634,
          0.11483702826414072,
          0.10939033073711928,
          0.1016253554908811,
          0.09688786513696965,
          0.09283396230842705,
          0.08787816010814403,
          0.08454191425058025,
          0.08203925347737268,
          0.0802404176236165
         ],
         "yaxis": "y2"
        },
        {
         "legendgroup": "group-8",
         "line": {
          "color": "#3affbc"
         },
         "marker": {
          "size": 3,
          "symbol": "diamond"
         },
         "name": "9",
         "showlegend": false,
         "type": "scatter",
         "uid": "22866e2a-1966-4e83-a342-ee700b2f6725",
         "x": [
          11000,
          11450,
          11900,
          12350,
          12800,
          13250,
          13700,
          14150,
          14600,
          15050,
          15500,
          15950,
          16400,
          16850,
          17300,
          17750,
          18200,
          18650,
          19100,
          19550,
          20000
         ],
         "xaxis": "x",
         "y": [
          10635.099216825016,
          10811.018798823196,
          10933.638973465304,
          10979.717070479548,
          11020.403776787787,
          11035.731463947244,
          10938.265121115064,
          10845.596613320555,
          10800.731975199556,
          10763.639570847956,
          10717.471486460141,
          10707.496982070452,
          10660.60682399312,
          10573.357547773094,
          10472.700868373204,
          10404.049299323693,
          10290.698637903408,
          10218.265955052706,
          10108.378593633912,
          9988.315668041098
         ],
         "yaxis": "y"
        },
        {
         "legendgroup": "group-8",
         "line": {
          "color": "#3affbc"
         },
         "marker": {
          "size": 3,
          "symbol": "diamond"
         },
         "name": "9",
         "type": "scatter",
         "uid": "d6da2861-6535-4a03-804f-22c41449720e",
         "x": [
          11000,
          11450,
          11900,
          12350,
          12800,
          13250,
          13700,
          14150,
          14600,
          15050,
          15500,
          15950,
          16400,
          16850,
          17300,
          17750,
          18200,
          18650,
          19100,
          19550,
          20000
         ],
         "xaxis": "x2",
         "y": [
          0.43952006761780843,
          0.327268984776419,
          0.2606464861341183,
          0.21628196882829448,
          0.18251989124968382,
          0.15831982713481618,
          0.14420700235789413,
          0.1319104825157537,
          0.11992662887673335,
          0.11051812652760704,
          0.10164157832326394,
          0.0935169832842306,
          0.08702393919783383,
          0.08275717669259847,
          0.07958674997930451,
          0.07579438452066575,
          0.07337972954768164,
          0.07043279263704051,
          0.06849589481058935,
          0.06699933221108373
         ],
         "yaxis": "y2"
        },
        {
         "legendgroup": "group-9",
         "line": {
          "color": "#66ff91"
         },
         "marker": {
          "size": 3,
          "symbol": "diamond"
         },
         "name": "10",
         "showlegend": false,
         "type": "scatter",
         "uid": "4fa60eb3-40e2-41bf-8b0d-a3cf7bc847b2",
         "x": [
          11000,
          11450,
          11900,
          12350,
          12800,
          13250,
          13700,
          14150,
          14600,
          15050,
          15500,
          15950,
          16400,
          16850,
          17300,
          17750,
          18200,
          18650,
          19100,
          19550,
          20000
         ],
         "xaxis": "x",
         "y": [
          11500.55767773097,
          11637.546429690152,
          11663.40617042992,
          11724.968508662445,
          11714.760546184587,
          11715.267405819095,
          11601.494346275227,
          11508.240345570224,
          11502.488963193151,
          11497.386422527972,
          11451.270656305627,
          11400.159576989896,
          11327.524225636038,
          11287.892223234016,
          11179.325846630562,
          11094.423438456082,
          10990.648087308033,
          10925.434399972431,
          10815.564131433573,
          10706.177796255937
         ],
         "yaxis": "y"
        },
        {
         "legendgroup": "group-9",
         "line": {
          "color": "#66ff91"
         },
         "marker": {
          "size": 3,
          "symbol": "diamond"
         },
         "name": "10",
         "type": "scatter",
         "uid": "ff96c8b9-cd40-480e-8cd4-4d7cb3843512",
         "x": [
          11000,
          11450,
          11900,
          12350,
          12800,
          13250,
          13700,
          14150,
          14600,
          15050,
          15500,
          15950,
          16400,
          16850,
          17300,
          17750,
          18200,
          18650,
          19100,
          19550,
          20000
         ],
         "xaxis": "x2",
         "y": [
          0.5068949392970965,
          0.38221104971484254,
          0.31487414577388056,
          0.2621151190162536,
          0.22619764203242226,
          0.1966896714263117,
          0.17976793731845225,
          0.16527279232801473,
          0.14785746043356635,
          0.13387433613614877,
          0.1232425999868199,
          0.1146829697056732,
          0.10741488616862097,
          0.10056120171965181,
          0.09622391591057,
          0.0922429076610291,
          0.0891060122843892,
          0.08532979760583174,
          0.08271120381699126,
          0.08030516190365557
         ],
         "yaxis": "y2"
        },
        {
         "legendgroup": "group-10",
         "line": {
          "color": "#91ff66"
         },
         "marker": {
          "size": 3,
          "symbol": "diamond"
         },
         "name": "11",
         "showlegend": false,
         "type": "scatter",
         "uid": "eec75a43-4f69-46fd-8c70-67321b2fefb9",
         "x": [
          11000,
          11450,
          11900,
          12350,
          12800,
          13250,
          13700,
          14150,
          14600,
          15050,
          15500,
          15950,
          16400,
          16850,
          17300,
          17750,
          18200,
          18650,
          19100,
          19550,
          20000
         ],
         "xaxis": "x",
         "y": [
          10570.856509263214,
          10736.442568836415,
          10856.868647968908,
          10979.906697012919,
          10953.700434670503,
          10957.336276077183,
          10966.459695386746,
          10949.857847026873,
          10898.17650137722,
          10912.847154692829,
          10916.410390590076,
          10804.79013541429,
          10642.721757219706,
          10673.950209699196,
          10562.15537191637,
          10441.053929477466,
          10375.82143773825,
          10218.808094852784,
          10128.925286201786,
          9982.977583607197
         ],
         "yaxis": "y"
        },
        {
         "legendgroup": "group-10",
         "line": {
          "color": "#91ff66"
         },
         "marker": {
          "size": 3,
          "symbol": "diamond"
         },
         "name": "11",
         "type": "scatter",
         "uid": "ab35945e-af57-483e-a35c-a1a6720eb817",
         "x": [
          11000,
          11450,
          11900,
          12350,
          12800,
          13250,
          13700,
          14150,
          14600,
          15050,
          15500,
          15950,
          16400,
          16850,
          17300,
          17750,
          18200,
          18650,
          19100,
          19550,
          20000
         ],
         "xaxis": "x2",
         "y": [
          0.44592562360298593,
          0.331726124200421,
          0.2626860334726053,
          0.21445158567301176,
          0.1874369354198379,
          0.16283699173812993,
          0.14343516576688212,
          0.1288301921728002,
          0.11742933862073758,
          0.10551038169028196,
          0.09622856527804761,
          0.0908415597305189,
          0.08819161384785737,
          0.08047832421527892,
          0.07731272727040164,
          0.07502560062315754,
          0.07149678574153981,
          0.07062712405261021,
          0.06830828451008499,
          0.0675509962637582
         ],
         "yaxis": "y2"
        },
        {
         "legendgroup": "group-11",
         "line": {
          "color": "#bcff3a"
         },
         "marker": {
          "size": 3,
          "symbol": "diamond"
         },
         "name": "12",
         "showlegend": false,
         "type": "scatter",
         "uid": "8faad41d-1bbb-41e1-8aad-27c964aad7be",
         "x": [
          11000,
          11450,
          11900,
          12350,
          12800,
          13250,
          13700,
          14150,
          14600,
          15050,
          15500,
          15950,
          16400,
          16850,
          17300,
          17750,
          18200,
          18650,
          19100,
          19550,
          20000
         ],
         "xaxis": "x",
         "y": [
          11533.554418901995,
          11597.331479911461,
          11657.889585168934,
          11762.268748636763,
          11775.917513051456,
          11764.967895422506,
          11676.073086637227,
          11650.112617143857,
          11594.258946050913,
          11522.736351585567,
          11444.191999379364,
          11366.855615514283,
          11333.428810955658,
          11291.115455484682,
          11165.546445726966,
          11084.736032809735,
          11050.699407674529,
          10978.54248596981,
          10849.291930009682,
          10738.957956164411
         ],
         "yaxis": "y"
        },
        {
         "legendgroup": "group-11",
         "line": {
          "color": "#bcff3a"
         },
         "marker": {
          "size": 3,
          "symbol": "diamond"
         },
         "name": "12",
         "type": "scatter",
         "uid": "2b05ec7b-0003-4989-9835-7e2f836c945e",
         "x": [
          11000,
          11450,
          11900,
          12350,
          12800,
          13250,
          13700,
          14150,
          14600,
          15050,
          15500,
          15950,
          16400,
          16850,
          17300,
          17750,
          18200,
          18650,
          19100,
          19550,
          20000
         ],
         "xaxis": "x2",
         "y": [
          0.4948141939783134,
          0.38257284907522643,
          0.31106318084797985,
          0.25245973709763675,
          0.21581879433960166,
          0.1894638080925602,
          0.1719798978313757,
          0.15370692887596543,
          0.140611753786461,
          0.13022103911735378,
          0.12114965913477613,
          0.1134082040590886,
          0.10508702258326932,
          0.09835950384020824,
          0.09505240961204943,
          0.09082482658920112,
          0.08538454480911349,
          0.08166191691747998,
          0.0799399239764927,
          0.07767439247279284
         ],
         "yaxis": "y2"
        },
        {
         "legendgroup": "group-12",
         "line": {
          "color": "#e8ff0f"
         },
         "marker": {
          "size": 3,
          "symbol": "diamond"
         },
         "name": "13",
         "showlegend": false,
         "type": "scatter",
         "uid": "1d93363b-1906-4b2f-8bc5-fec6d4bd1b0d",
         "x": [
          11000,
          11450,
          11900,
          12350,
          12800,
          13250,
          13700,
          14150,
          14600,
          15050,
          15500,
          15950,
          16400,
          16850,
          17300,
          17750,
          18200,
          18650,
          19100,
          19550,
          20000
         ],
         "xaxis": "x",
         "y": [
          10680.784661378812,
          10845.542429380755,
          10944.815192934726,
          10993.087317815412,
          11012.940076484394,
          10887.379427963211,
          10983.662316167121,
          11024.751388763907,
          10943.797478820637,
          10891.467325909394,
          10825.79202489999,
          10805.557529364292,
          10706.591895210207,
          10571.784653112927,
          10496.275695177474,
          10402.1202278362,
          10301.441469400985,
          10238.491096739823,
          10147.574803160998,
          10007.566464221134
         ],
         "yaxis": "y"
        },
        {
         "legendgroup": "group-12",
         "line": {
          "color": "#e8ff0f"
         },
         "marker": {
          "size": 3,
          "symbol": "diamond"
         },
         "name": "13",
         "type": "scatter",
         "uid": "30300008-7d1d-4f5a-9108-737322787e18",
         "x": [
          11000,
          11450,
          11900,
          12350,
          12800,
          13250,
          13700,
          14150,
          14600,
          15050,
          15500,
          15950,
          16400,
          16850,
          17300,
          17750,
          18200,
          18650,
          19100,
          19550,
          20000
         ],
         "xaxis": "x2",
         "y": [
          0.4392810715699427,
          0.32903573292536575,
          0.2641712463741873,
          0.2199520853515653,
          0.18797841086098377,
          0.170137181865149,
          0.14523399235417983,
          0.12811695433348316,
          0.11796293005695968,
          0.10851866860126855,
          0.10078020724639422,
          0.09253446911219322,
          0.08798570551552642,
          0.08508103522642106,
          0.0807247405411672,
          0.07763414575866073,
          0.07474110201651679,
          0.0714984171727841,
          0.0694441864787546,
          0.06840896856885523
         ],
         "yaxis": "y2"
        },
        {
         "legendgroup": "group-13",
         "line": {
          "color": "#ffd500"
         },
         "marker": {
          "size": 3,
          "symbol": "diamond"
         },
         "name": "14",
         "showlegend": false,
         "type": "scatter",
         "uid": "2664d0a1-16a1-410b-9aec-f4527472a756",
         "x": [
          11000,
          11450,
          11900,
          12350,
          12800,
          13250,
          13700,
          14150,
          14600,
          15050,
          15500,
          15950,
          16400,
          16850,
          17300,
          17750,
          18200,
          18650,
          19100,
          19550,
          20000
         ],
         "xaxis": "x",
         "y": [
          11437.1881296405,
          11528.701578025972,
          11640.449468780576,
          11710.818603845562,
          11646.852339390707,
          11571.106855857402,
          11529.130018047732,
          11506.724477504918,
          11494.473536577672,
          11432.760918872278,
          11378.137918263288,
          11302.85507985749,
          11244.631327203226,
          11103.724838190863,
          11017.941987416276,
          10957.21181370234,
          10894.703106138699,
          10810.029601198734,
          10701.185949495191,
          10638.391439708332
         ],
         "yaxis": "y"
        },
        {
         "legendgroup": "group-13",
         "line": {
          "color": "#ffd500"
         },
         "marker": {
          "size": 3,
          "symbol": "diamond"
         },
         "name": "14",
         "type": "scatter",
         "uid": "d6c6ba35-1c0c-49b8-9a6c-cd386f39b17a",
         "x": [
          11000,
          11450,
          11900,
          12350,
          12800,
          13250,
          13700,
          14150,
          14600,
          15050,
          15500,
          15950,
          16400,
          16850,
          17300,
          17750,
          18200,
          18650,
          19100,
          19550,
          20000
         ],
         "xaxis": "x2",
         "y": [
          0.496748999005708,
          0.3812215660301211,
          0.30281560573624655,
          0.2509255408599759,
          0.22073539638977296,
          0.19671394396283887,
          0.1757145473403329,
          0.15768917292428547,
          0.14088198326667611,
          0.13004325009218778,
          0.12095401797605762,
          0.11383288002950714,
          0.10689215533606816,
          0.10296885131622671,
          0.09780859456526698,
          0.09289643546287567,
          0.08854171082989812,
          0.08517563107205485,
          0.08229688721693082,
          0.07896773667540807
         ],
         "yaxis": "y2"
        },
        {
         "legendgroup": "group-14",
         "line": {
          "color": "#ffa400"
         },
         "marker": {
          "size": 3,
          "symbol": "diamond"
         },
         "name": "15",
         "showlegend": false,
         "type": "scatter",
         "uid": "871c628b-343a-41aa-a69b-b62211053654",
         "x": [
          11000,
          11450,
          11900,
          12350,
          12800,
          13250,
          13700,
          14150,
          14600,
          15050,
          15500,
          15950,
          16400,
          16850,
          17300,
          17750,
          18200,
          18650,
          19100,
          19550,
          20000
         ],
         "xaxis": "x",
         "y": [
          10637.774893389853,
          10870.528741129221,
          10979.20752094891,
          11029.889850247846,
          11017.830301775746,
          11002.647926802321,
          11063.176163639557,
          11043.320343340587,
          10953.590586704851,
          10884.149702433244,
          10832.042108059699,
          10746.120711685187,
          10638.764813827649,
          10558.09227679894,
          10449.107297019238,
          10350.60274211199,
          10298.783130265036,
          10276.173311434013,
          10189.139086635258,
          10056.484838218224
         ],
         "yaxis": "y"
        },
        {
         "legendgroup": "group-14",
         "line": {
          "color": "#ffa400"
         },
         "marker": {
          "size": 3,
          "symbol": "diamond"
         },
         "name": "15",
         "type": "scatter",
         "uid": "2739dc5a-0a8c-4a1c-9acd-aa8e960e26d5",
         "x": [
          11000,
          11450,
          11900,
          12350,
          12800,
          13250,
          13700,
          14150,
          14600,
          15050,
          15500,
          15950,
          16400,
          16850,
          17300,
          17750,
          18200,
          18650,
          19100,
          19550,
          20000
         ],
         "xaxis": "x2",
         "y": [
          0.4526680078126913,
          0.33058475741331017,
          0.26470724647387744,
          0.21904485046383979,
          0.188818847281167,
          0.16619738171025455,
          0.14364374771990304,
          0.12786787360034071,
          0.11791465883989272,
          0.10890874790265448,
          0.10128370560742415,
          0.09532106076096122,
          0.09066498376561384,
          0.08579078573787756,
          0.0823404365028928,
          0.07946786802086912,
          0.07534113146002487,
          0.0712852113867502,
          0.06888107318726494,
          0.06764365885322746
         ],
         "yaxis": "y2"
        },
        {
         "legendgroup": "group-15",
         "line": {
          "color": "#ff7200"
         },
         "marker": {
          "size": 3,
          "symbol": "diamond"
         },
         "name": "16",
         "showlegend": false,
         "type": "scatter",
         "uid": "407c935e-87d2-4d31-95bd-940e7a50da13",
         "x": [
          11000,
          11450,
          11900,
          12350,
          12800,
          13250,
          13700,
          14150,
          14600,
          15050,
          15500,
          15950,
          16400,
          16850,
          17300,
          17750,
          18200,
          18650,
          19100,
          19550,
          20000
         ],
         "xaxis": "x",
         "y": [
          11420.979987138982,
          11498.337813102757,
          11639.50519134857,
          11664.640617469393,
          11701.728912830438,
          11711.923994447285,
          11712.746596833955,
          11591.269112378643,
          11449.641897841511,
          11435.511892435268,
          11421.346117783407,
          11334.210896883855,
          11278.258459816647,
          11196.477817740706,
          11110.138994066976,
          11076.434179727443,
          10994.477287359596,
          10901.218261650312,
          10835.518224745436,
          10711.037322641674
         ],
         "yaxis": "y"
        },
        {
         "legendgroup": "group-15",
         "line": {
          "color": "#ff7200"
         },
         "marker": {
          "size": 3,
          "symbol": "diamond"
         },
         "name": "16",
         "type": "scatter",
         "uid": "6f472a3f-bced-4275-8009-57184b85cff8",
         "x": [
          11000,
          11450,
          11900,
          12350,
          12800,
          13250,
          13700,
          14150,
          14600,
          15050,
          15500,
          15950,
          16400,
          16850,
          17300,
          17750,
          18200,
          18650,
          19100,
          19550,
          20000
         ],
         "xaxis": "x2",
         "y": [
          0.499488409187315,
          0.3838690951817617,
          0.3021805815991795,
          0.2514540281230128,
          0.21646073068279542,
          0.18685687485230784,
          0.1645500999365563,
          0.15175502590148646,
          0.14351458248462712,
          0.1299336743288275,
          0.119700298487092,
          0.11242807247877903,
          0.1050015370491853,
          0.10013529821734288,
          0.0953538109300313,
          0.08940156113165973,
          0.08572755303725668,
          0.08269382665953516,
          0.078848332684631,
          0.07701183515664956
         ],
         "yaxis": "y2"
        },
        {
         "legendgroup": "group-16",
         "line": {
          "color": "#ff4000"
         },
         "marker": {
          "size": 3,
          "symbol": "diamond"
         },
         "name": "17",
         "showlegend": false,
         "type": "scatter",
         "uid": "4bfa5d4b-c5ed-4880-b062-595ba16c3623",
         "x": [
          11000,
          11450,
          11900,
          12350,
          12800,
          13250,
          13700,
          14150,
          14600,
          15050,
          15500,
          15950,
          16400,
          16850,
          17300,
          17750,
          18200,
          18650,
          19100,
          19550,
          20000
         ],
         "xaxis": "x",
         "y": [
          10691.849844972343,
          10881.252759643585,
          11024.600489102355,
          11008.926530015478,
          11076.894883262032,
          11042.045711965855,
          11063.168036579458,
          11070.578559634352,
          11044.691764194673,
          10970.651612456735,
          10980.886609307676,
          10896.00342966283,
          10767.599990699178,
          10635.613994162504,
          10472.846994215468,
          10456.66200657222,
          10434.295581872158,
          10327.027592056353,
          10213.726635393015,
          10093.310125127553
         ],
         "yaxis": "y"
        },
        {
         "legendgroup": "group-16",
         "line": {
          "color": "#ff4000"
         },
         "marker": {
          "size": 3,
          "symbol": "diamond"
         },
         "name": "17",
         "type": "scatter",
         "uid": "144e4dd3-f602-4ed5-b7f4-ba9b8eb34ffc",
         "x": [
          11000,
          11450,
          11900,
          12350,
          12800,
          13250,
          13700,
          14150,
          14600,
          15050,
          15500,
          15950,
          16400,
          16850,
          17300,
          17750,
          18200,
          18650,
          19100,
          19550,
          20000
         ],
         "xaxis": "x2",
         "y": [
          0.44748184768936483,
          0.33018100359144903,
          0.2613079590931391,
          0.22319723997674626,
          0.18648857521767323,
          0.1640901983224348,
          0.14317470745010233,
          0.1277823841658101,
          0.11521986036883337,
          0.10674911085099575,
          0.09736938639966038,
          0.0912338485549991,
          0.0873359525558151,
          0.08426006054625763,
          0.0822766882554767,
          0.0770967898467087,
          0.07276875021360169,
          0.07044586701292362,
          0.06864631513717323,
          0.06706138176935443
         ],
         "yaxis": "y2"
        },
        {
         "legendgroup": "group-17",
         "line": {
          "color": "#fa0e00"
         },
         "marker": {
          "size": 3,
          "symbol": "diamond"
         },
         "name": "18",
         "showlegend": false,
         "type": "scatter",
         "uid": "c2418dad-f625-466b-8cbc-ea4b6fbf0ad9",
         "x": [
          11000,
          11450,
          11900,
          12350,
          12800,
          13250,
          13700,
          14150,
          14600,
          15050,
          15500,
          15950,
          16400,
          16850,
          17300,
          17750,
          18200,
          18650,
          19100,
          19550,
          20000
         ],
         "xaxis": "x",
         "y": [
          11404.686443357921,
          11550.422153142581,
          11639.138876479621,
          11674.326225183811,
          11643.003281158295,
          11664.227712366752,
          11609.622899066353,
          11571.271663444122,
          11488.505154936476,
          11474.166472237957,
          11444.220668813343,
          11321.687644686788,
          11274.086211426791,
          11214.935163024827,
          11095.7159296552,
          11052.698086925739,
          10967.067499016344,
          10861.628943889627,
          10781.611365120527,
          10666.56171562961
         ],
         "yaxis": "y"
        },
        {
         "legendgroup": "group-17",
         "line": {
          "color": "#fa0e00"
         },
         "marker": {
          "size": 3,
          "symbol": "diamond"
         },
         "name": "18",
         "type": "scatter",
         "uid": "f3c1ab5a-097a-4b41-8aac-c78250de42e8",
         "x": [
          11000,
          11450,
          11900,
          12350,
          12800,
          13250,
          13700,
          14150,
          14600,
          15050,
          15500,
          15950,
          16400,
          16850,
          17300,
          17750,
          18200,
          18650,
          19100,
          19550,
          20000
         ],
         "xaxis": "x2",
         "y": [
          0.4977389437411596,
          0.37634490448691843,
          0.3031115960467388,
          0.25454492611413476,
          0.21950444294686317,
          0.18907039351524565,
          0.16921419174008417,
          0.1526550022612553,
          0.1416435654990689,
          0.12873970376797447,
          0.117732451218215,
          0.11197824402292651,
          0.10441814381550857,
          0.09792972279488406,
          0.09471757943639501,
          0.08914056698650659,
          0.08550392336785954,
          0.08272152497759402,
          0.07954222475461972,
          0.07756336057852237
         ],
         "yaxis": "y2"
        },
        {
         "legendgroup": "group-18",
         "line": {
          "color": "#bd0000"
         },
         "marker": {
          "size": 3,
          "symbol": "diamond"
         },
         "name": "19",
         "showlegend": false,
         "type": "scatter",
         "uid": "d94f0419-c621-401f-9b4f-fdcd62a15fa0",
         "x": [
          11000,
          11450,
          11900,
          12350,
          12800,
          13250,
          13700,
          14150,
          14600,
          15050,
          15500,
          15950,
          16400,
          16850,
          17300,
          17750,
          18200,
          18650,
          19100,
          19550,
          20000
         ],
         "xaxis": "x",
         "y": [
          10732.832305605065,
          10927.532745010047,
          10999.038295987173,
          11120.942823009347,
          11127.283737338126,
          11084.30280676812,
          11069.784812309364,
          11066.322559389619,
          11003.066376252807,
          10955.364192122894,
          10899.736539240288,
          10741.06863236137,
          10710.327383480128,
          10597.496226545389,
          10549.389773662053,
          10465.941519309627,
          10371.370420579678,
          10256.85257100142,
          10163.046966831698,
          10074.690533201088
         ],
         "yaxis": "y"
        },
        {
         "legendgroup": "group-18",
         "line": {
          "color": "#bd0000"
         },
         "marker": {
          "size": 3,
          "symbol": "diamond"
         },
         "name": "19",
         "type": "scatter",
         "uid": "7db24749-464c-49c5-8641-a719194e9872",
         "x": [
          11000,
          11450,
          11900,
          12350,
          12800,
          13250,
          13700,
          14150,
          14600,
          15050,
          15500,
          15950,
          16400,
          16850,
          17300,
          17750,
          18200,
          18650,
          19100,
          19550,
          20000
         ],
         "xaxis": "x2",
         "y": [
          0.44443637159123983,
          0.3301963495493953,
          0.26475209661040167,
          0.21476367292060317,
          0.1841100166964522,
          0.16259081949317192,
          0.143853601724972,
          0.12756474449212685,
          0.11696925559066805,
          0.10710041470268136,
          0.09912187964115514,
          0.09650204436463768,
          0.08985914755672528,
          0.08622238465789246,
          0.08092359794988353,
          0.07737849041147359,
          0.07453157832590498,
          0.07263537854976868,
          0.07025313296079846,
          0.06792936424027783
         ],
         "yaxis": "y2"
        },
        {
         "legendgroup": "group-19",
         "line": {
          "color": "#800000"
         },
         "marker": {
          "size": 3,
          "symbol": "diamond"
         },
         "name": "20",
         "showlegend": false,
         "type": "scatter",
         "uid": "8bd58b43-94cb-4b15-8dc2-cc20fa03dda9",
         "x": [
          11000,
          11450,
          11900,
          12350,
          12800,
          13250,
          13700,
          14150,
          14600,
          15050,
          15500,
          15950,
          16400,
          16850,
          17300,
          17750,
          18200,
          18650,
          19100,
          19550,
          20000
         ],
         "xaxis": "x",
         "y": [
          10732.832305605065,
          10927.532745010047,
          10999.038295987173,
          11120.942823009347,
          11127.283737338126,
          11084.30280676812,
          11069.784812309364,
          11066.322559389619,
          11003.066376252807,
          10955.364192122894,
          10899.736539240288,
          10741.06863236137,
          10710.327383480128,
          10597.496226545389,
          10549.389773662053,
          10465.941519309627,
          10371.370420579678,
          10256.85257100142,
          10163.046966831698,
          10074.690533201088
         ],
         "yaxis": "y"
        },
        {
         "legendgroup": "group-19",
         "line": {
          "color": "#800000"
         },
         "marker": {
          "size": 3,
          "symbol": "diamond"
         },
         "name": "20",
         "type": "scatter",
         "uid": "f5391d7c-e4f4-4132-bc99-f10a180ed1e2",
         "x": [
          11000,
          11450,
          11900,
          12350,
          12800,
          13250,
          13700,
          14150,
          14600,
          15050,
          15500,
          15950,
          16400,
          16850,
          17300,
          17750,
          18200,
          18650,
          19100,
          19550,
          20000
         ],
         "xaxis": "x2",
         "y": [
          0.44443637159123983,
          0.3301963495493953,
          0.26475209661040167,
          0.21476367292060317,
          0.1841100166964522,
          0.16259081949317192,
          0.143853601724972,
          0.12756474449212685,
          0.11696925559066805,
          0.10710041470268136,
          0.09912187964115514,
          0.09650204436463768,
          0.08985914755672528,
          0.08622238465789246,
          0.08092359794988353,
          0.07737849041147359,
          0.07453157832590498,
          0.07263537854976868,
          0.07025313296079846,
          0.06792936424027783
         ],
         "yaxis": "y2"
        }
       ],
       "_js2py_pointsCallback": {},
       "_js2py_restyle": {},
       "_js2py_update": {},
       "_last_layout_edit_id": 58,
       "_last_trace_edit_id": 48,
       "_layout": {
        "autosize": true,
        "hidesources": true,
        "legend": {
         "title": {
          "text": "iterations"
         },
         "tracegroupgap": 0
        },
        "margin": {
         "b": 80,
         "l": 10,
         "pad": 0,
         "r": 135,
         "t": 25
        },
        "template": {
         "data": {
          "bar": [
           {
            "error_x": {
             "color": "#2a3f5f"
            },
            "error_y": {
             "color": "#2a3f5f"
            },
            "marker": {
             "line": {
              "color": "#E5ECF6",
              "width": 0.5
             }
            },
            "type": "bar"
           }
          ],
          "barpolar": [
           {
            "marker": {
             "line": {
              "color": "#E5ECF6",
              "width": 0.5
             }
            },
            "type": "barpolar"
           }
          ],
          "carpet": [
           {
            "aaxis": {
             "endlinecolor": "#2a3f5f",
             "gridcolor": "white",
             "linecolor": "white",
             "minorgridcolor": "white",
             "startlinecolor": "#2a3f5f"
            },
            "baxis": {
             "endlinecolor": "#2a3f5f",
             "gridcolor": "white",
             "linecolor": "white",
             "minorgridcolor": "white",
             "startlinecolor": "#2a3f5f"
            },
            "type": "carpet"
           }
          ],
          "choropleth": [
           {
            "colorbar": {
             "outlinewidth": 0,
             "ticks": ""
            },
            "type": "choropleth"
           }
          ],
          "contour": [
           {
            "colorbar": {
             "outlinewidth": 0,
             "ticks": ""
            },
            "colorscale": [
             [
              0,
              "#0d0887"
             ],
             [
              0.1111111111111111,
              "#46039f"
             ],
             [
              0.2222222222222222,
              "#7201a8"
             ],
             [
              0.3333333333333333,
              "#9c179e"
             ],
             [
              0.4444444444444444,
              "#bd3786"
             ],
             [
              0.5555555555555556,
              "#d8576b"
             ],
             [
              0.6666666666666666,
              "#ed7953"
             ],
             [
              0.7777777777777778,
              "#fb9f3a"
             ],
             [
              0.8888888888888888,
              "#fdca26"
             ],
             [
              1,
              "#f0f921"
             ]
            ],
            "type": "contour"
           }
          ],
          "contourcarpet": [
           {
            "colorbar": {
             "outlinewidth": 0,
             "ticks": ""
            },
            "type": "contourcarpet"
           }
          ],
          "heatmap": [
           {
            "colorbar": {
             "outlinewidth": 0,
             "ticks": ""
            },
            "colorscale": [
             [
              0,
              "#0d0887"
             ],
             [
              0.1111111111111111,
              "#46039f"
             ],
             [
              0.2222222222222222,
              "#7201a8"
             ],
             [
              0.3333333333333333,
              "#9c179e"
             ],
             [
              0.4444444444444444,
              "#bd3786"
             ],
             [
              0.5555555555555556,
              "#d8576b"
             ],
             [
              0.6666666666666666,
              "#ed7953"
             ],
             [
              0.7777777777777778,
              "#fb9f3a"
             ],
             [
              0.8888888888888888,
              "#fdca26"
             ],
             [
              1,
              "#f0f921"
             ]
            ],
            "type": "heatmap"
           }
          ],
          "heatmapgl": [
           {
            "colorbar": {
             "outlinewidth": 0,
             "ticks": ""
            },
            "colorscale": [
             [
              0,
              "#0d0887"
             ],
             [
              0.1111111111111111,
              "#46039f"
             ],
             [
              0.2222222222222222,
              "#7201a8"
             ],
             [
              0.3333333333333333,
              "#9c179e"
             ],
             [
              0.4444444444444444,
              "#bd3786"
             ],
             [
              0.5555555555555556,
              "#d8576b"
             ],
             [
              0.6666666666666666,
              "#ed7953"
             ],
             [
              0.7777777777777778,
              "#fb9f3a"
             ],
             [
              0.8888888888888888,
              "#fdca26"
             ],
             [
              1,
              "#f0f921"
             ]
            ],
            "type": "heatmapgl"
           }
          ],
          "histogram": [
           {
            "marker": {
             "colorbar": {
              "outlinewidth": 0,
              "ticks": ""
             }
            },
            "type": "histogram"
           }
          ],
          "histogram2d": [
           {
            "colorbar": {
             "outlinewidth": 0,
             "ticks": ""
            },
            "colorscale": [
             [
              0,
              "#0d0887"
             ],
             [
              0.1111111111111111,
              "#46039f"
             ],
             [
              0.2222222222222222,
              "#7201a8"
             ],
             [
              0.3333333333333333,
              "#9c179e"
             ],
             [
              0.4444444444444444,
              "#bd3786"
             ],
             [
              0.5555555555555556,
              "#d8576b"
             ],
             [
              0.6666666666666666,
              "#ed7953"
             ],
             [
              0.7777777777777778,
              "#fb9f3a"
             ],
             [
              0.8888888888888888,
              "#fdca26"
             ],
             [
              1,
              "#f0f921"
             ]
            ],
            "type": "histogram2d"
           }
          ],
          "histogram2dcontour": [
           {
            "colorbar": {
             "outlinewidth": 0,
             "ticks": ""
            },
            "colorscale": [
             [
              0,
              "#0d0887"
             ],
             [
              0.1111111111111111,
              "#46039f"
             ],
             [
              0.2222222222222222,
              "#7201a8"
             ],
             [
              0.3333333333333333,
              "#9c179e"
             ],
             [
              0.4444444444444444,
              "#bd3786"
             ],
             [
              0.5555555555555556,
              "#d8576b"
             ],
             [
              0.6666666666666666,
              "#ed7953"
             ],
             [
              0.7777777777777778,
              "#fb9f3a"
             ],
             [
              0.8888888888888888,
              "#fdca26"
             ],
             [
              1,
              "#f0f921"
             ]
            ],
            "type": "histogram2dcontour"
           }
          ],
          "mesh3d": [
           {
            "colorbar": {
             "outlinewidth": 0,
             "ticks": ""
            },
            "type": "mesh3d"
           }
          ],
          "parcoords": [
           {
            "line": {
             "colorbar": {
              "outlinewidth": 0,
              "ticks": ""
             }
            },
            "type": "parcoords"
           }
          ],
          "pie": [
           {
            "automargin": true,
            "type": "pie"
           }
          ],
          "scatter": [
           {
            "marker": {
             "colorbar": {
              "outlinewidth": 0,
              "ticks": ""
             }
            },
            "type": "scatter"
           }
          ],
          "scatter3d": [
           {
            "line": {
             "colorbar": {
              "outlinewidth": 0,
              "ticks": ""
             }
            },
            "marker": {
             "colorbar": {
              "outlinewidth": 0,
              "ticks": ""
             }
            },
            "type": "scatter3d"
           }
          ],
          "scattercarpet": [
           {
            "marker": {
             "colorbar": {
              "outlinewidth": 0,
              "ticks": ""
             }
            },
            "type": "scattercarpet"
           }
          ],
          "scattergeo": [
           {
            "marker": {
             "colorbar": {
              "outlinewidth": 0,
              "ticks": ""
             }
            },
            "type": "scattergeo"
           }
          ],
          "scattergl": [
           {
            "marker": {
             "colorbar": {
              "outlinewidth": 0,
              "ticks": ""
             }
            },
            "type": "scattergl"
           }
          ],
          "scattermapbox": [
           {
            "marker": {
             "colorbar": {
              "outlinewidth": 0,
              "ticks": ""
             }
            },
            "type": "scattermapbox"
           }
          ],
          "scatterpolar": [
           {
            "marker": {
             "colorbar": {
              "outlinewidth": 0,
              "ticks": ""
             }
            },
            "type": "scatterpolar"
           }
          ],
          "scatterpolargl": [
           {
            "marker": {
             "colorbar": {
              "outlinewidth": 0,
              "ticks": ""
             }
            },
            "type": "scatterpolargl"
           }
          ],
          "scatterternary": [
           {
            "marker": {
             "colorbar": {
              "outlinewidth": 0,
              "ticks": ""
             }
            },
            "type": "scatterternary"
           }
          ],
          "surface": [
           {
            "colorbar": {
             "outlinewidth": 0,
             "ticks": ""
            },
            "colorscale": [
             [
              0,
              "#0d0887"
             ],
             [
              0.1111111111111111,
              "#46039f"
             ],
             [
              0.2222222222222222,
              "#7201a8"
             ],
             [
              0.3333333333333333,
              "#9c179e"
             ],
             [
              0.4444444444444444,
              "#bd3786"
             ],
             [
              0.5555555555555556,
              "#d8576b"
             ],
             [
              0.6666666666666666,
              "#ed7953"
             ],
             [
              0.7777777777777778,
              "#fb9f3a"
             ],
             [
              0.8888888888888888,
              "#fdca26"
             ],
             [
              1,
              "#f0f921"
             ]
            ],
            "type": "surface"
           }
          ],
          "table": [
           {
            "cells": {
             "fill": {
              "color": "#EBF0F8"
             },
             "line": {
              "color": "white"
             }
            },
            "header": {
             "fill": {
              "color": "#C8D4E3"
             },
             "line": {
              "color": "white"
             }
            },
            "type": "table"
           }
          ]
         },
         "layout": {
          "annotationdefaults": {
           "arrowcolor": "#2a3f5f",
           "arrowhead": 0,
           "arrowwidth": 1
          },
          "autotypenumbers": "strict",
          "coloraxis": {
           "colorbar": {
            "outlinewidth": 0,
            "ticks": ""
           }
          },
          "colorscale": {
           "diverging": [
            [
             0,
             "#8e0152"
            ],
            [
             0.1,
             "#c51b7d"
            ],
            [
             0.2,
             "#de77ae"
            ],
            [
             0.3,
             "#f1b6da"
            ],
            [
             0.4,
             "#fde0ef"
            ],
            [
             0.5,
             "#f7f7f7"
            ],
            [
             0.6,
             "#e6f5d0"
            ],
            [
             0.7,
             "#b8e186"
            ],
            [
             0.8,
             "#7fbc41"
            ],
            [
             0.9,
             "#4d9221"
            ],
            [
             1,
             "#276419"
            ]
           ],
           "sequential": [
            [
             0,
             "#0d0887"
            ],
            [
             0.1111111111111111,
             "#46039f"
            ],
            [
             0.2222222222222222,
             "#7201a8"
            ],
            [
             0.3333333333333333,
             "#9c179e"
            ],
            [
             0.4444444444444444,
             "#bd3786"
            ],
            [
             0.5555555555555556,
             "#d8576b"
            ],
            [
             0.6666666666666666,
             "#ed7953"
            ],
            [
             0.7777777777777778,
             "#fb9f3a"
            ],
            [
             0.8888888888888888,
             "#fdca26"
            ],
            [
             1,
             "#f0f921"
            ]
           ],
           "sequentialminus": [
            [
             0,
             "#0d0887"
            ],
            [
             0.1111111111111111,
             "#46039f"
            ],
            [
             0.2222222222222222,
             "#7201a8"
            ],
            [
             0.3333333333333333,
             "#9c179e"
            ],
            [
             0.4444444444444444,
             "#bd3786"
            ],
            [
             0.5555555555555556,
             "#d8576b"
            ],
            [
             0.6666666666666666,
             "#ed7953"
            ],
            [
             0.7777777777777778,
             "#fb9f3a"
            ],
            [
             0.8888888888888888,
             "#fdca26"
            ],
            [
             1,
             "#f0f921"
            ]
           ]
          },
          "colorway": [
           "#636efa",
           "#EF553B",
           "#00cc96",
           "#ab63fa",
           "#FFA15A",
           "#19d3f3",
           "#FF6692",
           "#B6E880",
           "#FF97FF",
           "#FECB52"
          ],
          "font": {
           "color": "#2a3f5f"
          },
          "geo": {
           "bgcolor": "white",
           "lakecolor": "white",
           "landcolor": "#E5ECF6",
           "showlakes": true,
           "showland": true,
           "subunitcolor": "white"
          },
          "hoverlabel": {
           "align": "left"
          },
          "hovermode": "closest",
          "mapbox": {
           "style": "light"
          },
          "paper_bgcolor": "white",
          "plot_bgcolor": "#E5ECF6",
          "polar": {
           "angularaxis": {
            "gridcolor": "white",
            "linecolor": "white",
            "ticks": ""
           },
           "bgcolor": "#E5ECF6",
           "radialaxis": {
            "gridcolor": "white",
            "linecolor": "white",
            "ticks": ""
           }
          },
          "scene": {
           "xaxis": {
            "backgroundcolor": "#E5ECF6",
            "gridcolor": "white",
            "gridwidth": 2,
            "linecolor": "white",
            "showbackground": true,
            "ticks": "",
            "zerolinecolor": "white"
           },
           "yaxis": {
            "backgroundcolor": "#E5ECF6",
            "gridcolor": "white",
            "gridwidth": 2,
            "linecolor": "white",
            "showbackground": true,
            "ticks": "",
            "zerolinecolor": "white"
           },
           "zaxis": {
            "backgroundcolor": "#E5ECF6",
            "gridcolor": "white",
            "gridwidth": 2,
            "linecolor": "white",
            "showbackground": true,
            "ticks": "",
            "zerolinecolor": "white"
           }
          },
          "shapedefaults": {
           "line": {
            "color": "#2a3f5f"
           }
          },
          "ternary": {
           "aaxis": {
            "gridcolor": "white",
            "linecolor": "white",
            "ticks": ""
           },
           "baxis": {
            "gridcolor": "white",
            "linecolor": "white",
            "ticks": ""
           },
           "bgcolor": "#E5ECF6",
           "caxis": {
            "gridcolor": "white",
            "linecolor": "white",
            "ticks": ""
           }
          },
          "title": {
           "x": 0.05
          },
          "xaxis": {
           "automargin": true,
           "gridcolor": "white",
           "linecolor": "white",
           "ticks": "",
           "title": {
            "standoff": 15
           },
           "zerolinecolor": "white",
           "zerolinewidth": 2
          },
          "yaxis": {
           "automargin": true,
           "gridcolor": "white",
           "linecolor": "white",
           "ticks": "",
           "title": {
            "standoff": 15
           },
           "zerolinecolor": "white",
           "zerolinewidth": 2
          }
         }
        },
        "xaxis": {
         "anchor": "y",
         "domain": [
          0,
          0.45
         ],
         "tickformat": "g",
         "title": {
          "text": "$Shell~~Velocity$"
         }
        },
        "xaxis2": {
         "anchor": "y2",
         "domain": [
          0.55,
          1
         ],
         "matches": "x",
         "tickformat": "g",
         "title": {
          "text": "$Shell~~Velocity$"
         }
        },
        "yaxis": {
         "anchor": "x",
         "domain": [
          0,
          1
         ],
         "range": [
          9000,
          14000
         ],
         "tickformat": "g",
         "title": {
          "text": "$T_{rad}\\ [K]$"
         }
        },
        "yaxis2": {
         "anchor": "x2",
         "domain": [
          0,
          1
         ],
         "title": {
          "text": "$W$"
         }
        }
       },
       "_py2js_animate": {},
       "_py2js_deleteTraces": {},
       "_py2js_moveTraces": {},
       "_py2js_removeTraceProps": {},
       "_view_count": 0
      }
     },
     "5f0633b0ebbb4a8eb8267174e8a1f359": {
      "model_module": "@jupyter-widgets/output",
      "model_module_version": "1.0.0",
      "model_name": "OutputModel",
      "state": {
       "layout": "IPY_MODEL_b8f19262f39b4e999e0bfeb43b0fbd20",
       "outputs": [
        {
         "data": {
          "text/html": "        <script type=\"text/javascript\">\n        window.PlotlyConfig = {MathJaxConfig: 'local'};\n        if (window.MathJax) {MathJax.Hub.Config({SVG: {font: \"STIX-Web\"}});}\n        if (typeof require !== 'undefined') {\n        require.undef(\"plotly\");\n        requirejs.config({\n            paths: {\n                'plotly': ['https://cdn.plot.ly/plotly-latest.min']\n            }\n        });\n        require(['plotly'], function(Plotly) {\n            window._Plotly = Plotly;\n        });\n        }\n        </script>\n        "
         },
         "metadata": {},
         "output_type": "display_data"
        },
        {
         "data": {
          "text/html": "<div>                            <div id=\"2d2d210c-7590-4fd2-8216-de1ca55f90bf\" class=\"plotly-graph-div\" style=\"height:525px; width:100%;\"></div>            <script type=\"text/javascript\">                require([\"plotly\"], function(Plotly) {                    window.PLOTLYENV=window.PLOTLYENV || {};                                    if (document.getElementById(\"2d2d210c-7590-4fd2-8216-de1ca55f90bf\")) {                    Plotly.newPlot(                        \"2d2d210c-7590-4fd2-8216-de1ca55f90bf\",                        [{\"hovertemplate\": \"<b>%{y:.2g}</b><br>at X = %{x}<br>\", \"legendgroup\": \"Emitted\", \"marker\": {\"color\": \"orangered\"}, \"mode\": \"lines\", \"name\": \"Emitted<br>Luminosity\", \"opacity\": 0.6, \"type\": \"scatter\", \"uid\": \"c17b7678-eb88-40f1-9a85-8d65d468f8d5\", \"x\": [1, 2, 3, 4, 5, 6, 7, 8, 9, 10, 11, 12, 13, 14, 15, 16, 17, 18, 19, 20], \"xaxis\": \"x2\", \"y\": [7.942750742981396e+42, 1.4081455093985728e+43, 8.126235743016503e+42, 1.3629660449563156e+43, 8.27894586347348e+42, 1.3474141886349227e+43, 8.390011483383557e+42, 1.3330505521644895e+43, 8.442830540796857e+42, 1.3292513146988894e+43, 8.494974137074282e+42, 1.3041701729221733e+43, 8.692438378058671e+42, 1.2835355197638404e+43, 8.753305281326621e+42, 1.2781970592598386e+43, 8.816470048071725e+42, 1.2667974995662812e+43, 8.870810439340542e+42, 1.263194391778655e+43], \"yaxis\": \"y2\"}, {\"hovertemplate\": \"<b>%{y:.2g}</b><br>at X = %{x}<br>\", \"legendgroup\": \"Absorbed\", \"marker\": {\"color\": \"lightseagreen\"}, \"mode\": \"lines\", \"name\": \"Absorbed<br>Luminosity\", \"opacity\": 0.6, \"type\": \"scatter\", \"uid\": \"643b6d75-2fe9-4b23-a217-f9dcfd5ed757\", \"x\": [1, 2, 3, 4, 5, 6, 7, 8, 9, 10, 11, 12, 13, 14, 15, 16, 17, 18, 19, 20], \"xaxis\": \"x2\", \"y\": [2.65804673153204e+42, 4.7700146052642123e+42, 2.5472229968140377e+42, 4.4972113694812525e+42, 2.6693301209933358e+42, 4.447266267261236e+42, 2.6922956553053436e+42, 4.330110768371945e+42, 2.7089402928209043e+42, 4.25943386711989e+42, 2.6561585210602605e+42, 4.288201956309693e+42, 2.7454765674505417e+42, 4.1509531498402554e+42, 2.813186401660242e+42, 4.156064515611499e+42, 2.816811651728025e+42, 4.122377281630377e+42, 2.8711648018363005e+42, 4.1070578782802735e+42], \"yaxis\": \"y2\"}, {\"hovertemplate\": \"<b>%{y:.2g}</b><br>at X = %{x}<br>\", \"legendgroup\": \"Requested\", \"marker\": {\"color\": \"indigo\"}, \"mode\": \"lines\", \"name\": \"Requested<br>Luminosity\", \"opacity\": 0.6, \"type\": \"scatter\", \"uid\": \"ff706aca-48b4-4073-9386-c76a8e0eff24\", \"x\": [1, 2, 3, 4, 5, 6, 7, 8, 9, 10, 11, 12, 13, 14, 15, 16, 17, 18, 19, 20], \"xaxis\": \"x2\", \"y\": [1.0592763593038458e+43, 1.0592763593038458e+43, 1.0592763593038458e+43, 1.0592763593038458e+43, 1.0592763593038458e+43, 1.0592763593038458e+43, 1.0592763593038458e+43, 1.0592763593038458e+43, 1.0592763593038458e+43, 1.0592763593038458e+43, 1.0592763593038458e+43, 1.0592763593038458e+43, 1.0592763593038458e+43, 1.0592763593038458e+43, 1.0592763593038458e+43, 1.0592763593038458e+43, 1.0592763593038458e+43, 1.0592763593038458e+43, 1.0592763593038458e+43, 1.0592763593038458e+43], \"yaxis\": \"y2\"}, {\"hovertemplate\": \"Residual Luminosity: %{y:.2f}% at X = %{x:,.0f}<extra></extra>\", \"marker\": {\"color\": \"cornflowerblue\"}, \"mode\": \"lines\", \"name\": \"Residual<br>Luminosity\", \"opacity\": 0.7, \"type\": \"scatter\", \"uid\": \"b8d5853f-3292-4639-9ffc-7c543a8aeac2\", \"x\": [1, 2, 3, 4, 5, 6, 7, 8, 9, 10, 11, 12, 13, 14, 15, 16, 17, 18, 19, 20], \"xaxis\": \"x3\", \"y\": [-25.017199966575717, 32.934667806992614, -23.285026880454048, 28.669542465013958, -21.843381184166276, 27.201383925951156, -20.794876524031412, 25.84539817735266, -20.296243122564654, 25.486734696172267, -19.80398634916046, 23.118972822094438, -17.939843538363082, 21.170977572592793, -17.3652351962308, 20.667005171329144, -16.76893408755113, 19.590840335454846, -16.2559386752441, 19.250692294202032], \"yaxis\": \"y3\"}, {\"hovertemplate\": \"Next Inner Body Temperature: %{y:.2f} at X = %{x:,.0f}<extra></extra>\", \"marker\": {\"color\": \"crimson\"}, \"mode\": \"lines\", \"name\": \"Next Inner<br>Boundary<br>Temperature\", \"opacity\": 0.7, \"type\": \"scatter\", \"uid\": \"73346c29-6f57-4135-b3e7-03f67c234763\", \"x\": [1, 2, 3, 4, 5, 6, 7, 8, 9, 10, 11, 12, 13, 14, 15, 16, 17, 18, 19, 20], \"xaxis\": \"x\", \"y\": [11472.055253129645, 9949.977592596559, 11360.096854261606, 10014.843240243388, 11328.209558951534, 10044.200101537022, 11285.965504372467, 10060.511200596067, 11268.87736423254, 10059.623883542255, 11233.248147773367, 10123.783777872188, 11175.750322790715, 10152.602547328883, 11168.529280894094, 10167.208273207052, 11144.459025959051, 10190.841172561493, 11136.097470940847, 11136.097470940847], \"yaxis\": \"y\"}],                        {\"autosize\": true, \"hidesources\": true, \"hoverlabel\": {\"align\": \"right\", \"font\": {\"color\": \"white\"}}, \"legend\": {\"title\": {\"text\": \"Luminosity\"}, \"tracegroupgap\": 0}, \"margin\": {\"b\": 10, \"l\": 10, \"pad\": 0, \"r\": 10, \"t\": 25}, \"template\": {\"data\": {\"bar\": [{\"error_x\": {\"color\": \"#2a3f5f\"}, \"error_y\": {\"color\": \"#2a3f5f\"}, \"marker\": {\"line\": {\"color\": \"#E5ECF6\", \"width\": 0.5}}, \"type\": \"bar\"}], \"barpolar\": [{\"marker\": {\"line\": {\"color\": \"#E5ECF6\", \"width\": 0.5}}, \"type\": \"barpolar\"}], \"carpet\": [{\"aaxis\": {\"endlinecolor\": \"#2a3f5f\", \"gridcolor\": \"white\", \"linecolor\": \"white\", \"minorgridcolor\": \"white\", \"startlinecolor\": \"#2a3f5f\"}, \"baxis\": {\"endlinecolor\": \"#2a3f5f\", \"gridcolor\": \"white\", \"linecolor\": \"white\", \"minorgridcolor\": \"white\", \"startlinecolor\": \"#2a3f5f\"}, \"type\": \"carpet\"}], \"choropleth\": [{\"colorbar\": {\"outlinewidth\": 0, \"ticks\": \"\"}, \"type\": \"choropleth\"}], \"contour\": [{\"colorbar\": {\"outlinewidth\": 0, \"ticks\": \"\"}, \"colorscale\": [[0.0, \"#0d0887\"], [0.1111111111111111, \"#46039f\"], [0.2222222222222222, \"#7201a8\"], [0.3333333333333333, \"#9c179e\"], [0.4444444444444444, \"#bd3786\"], [0.5555555555555556, \"#d8576b\"], [0.6666666666666666, \"#ed7953\"], [0.7777777777777778, \"#fb9f3a\"], [0.8888888888888888, \"#fdca26\"], [1.0, \"#f0f921\"]], \"type\": \"contour\"}], \"contourcarpet\": [{\"colorbar\": {\"outlinewidth\": 0, \"ticks\": \"\"}, \"type\": \"contourcarpet\"}], \"heatmap\": [{\"colorbar\": {\"outlinewidth\": 0, \"ticks\": \"\"}, \"colorscale\": [[0.0, \"#0d0887\"], [0.1111111111111111, \"#46039f\"], [0.2222222222222222, \"#7201a8\"], [0.3333333333333333, \"#9c179e\"], [0.4444444444444444, \"#bd3786\"], [0.5555555555555556, \"#d8576b\"], [0.6666666666666666, \"#ed7953\"], [0.7777777777777778, \"#fb9f3a\"], [0.8888888888888888, \"#fdca26\"], [1.0, \"#f0f921\"]], \"type\": \"heatmap\"}], \"heatmapgl\": [{\"colorbar\": {\"outlinewidth\": 0, \"ticks\": \"\"}, \"colorscale\": [[0.0, \"#0d0887\"], [0.1111111111111111, \"#46039f\"], [0.2222222222222222, \"#7201a8\"], [0.3333333333333333, \"#9c179e\"], [0.4444444444444444, \"#bd3786\"], [0.5555555555555556, \"#d8576b\"], [0.6666666666666666, \"#ed7953\"], [0.7777777777777778, \"#fb9f3a\"], [0.8888888888888888, \"#fdca26\"], [1.0, \"#f0f921\"]], \"type\": \"heatmapgl\"}], \"histogram\": [{\"marker\": {\"colorbar\": {\"outlinewidth\": 0, \"ticks\": \"\"}}, \"type\": \"histogram\"}], \"histogram2d\": [{\"colorbar\": {\"outlinewidth\": 0, \"ticks\": \"\"}, \"colorscale\": [[0.0, \"#0d0887\"], [0.1111111111111111, \"#46039f\"], [0.2222222222222222, \"#7201a8\"], [0.3333333333333333, \"#9c179e\"], [0.4444444444444444, \"#bd3786\"], [0.5555555555555556, \"#d8576b\"], [0.6666666666666666, \"#ed7953\"], [0.7777777777777778, \"#fb9f3a\"], [0.8888888888888888, \"#fdca26\"], [1.0, \"#f0f921\"]], \"type\": \"histogram2d\"}], \"histogram2dcontour\": [{\"colorbar\": {\"outlinewidth\": 0, \"ticks\": \"\"}, \"colorscale\": [[0.0, \"#0d0887\"], [0.1111111111111111, \"#46039f\"], [0.2222222222222222, \"#7201a8\"], [0.3333333333333333, \"#9c179e\"], [0.4444444444444444, \"#bd3786\"], [0.5555555555555556, \"#d8576b\"], [0.6666666666666666, \"#ed7953\"], [0.7777777777777778, \"#fb9f3a\"], [0.8888888888888888, \"#fdca26\"], [1.0, \"#f0f921\"]], \"type\": \"histogram2dcontour\"}], \"mesh3d\": [{\"colorbar\": {\"outlinewidth\": 0, \"ticks\": \"\"}, \"type\": \"mesh3d\"}], \"parcoords\": [{\"line\": {\"colorbar\": {\"outlinewidth\": 0, \"ticks\": \"\"}}, \"type\": \"parcoords\"}], \"pie\": [{\"automargin\": true, \"type\": \"pie\"}], \"scatter\": [{\"marker\": {\"colorbar\": {\"outlinewidth\": 0, \"ticks\": \"\"}}, \"type\": \"scatter\"}], \"scatter3d\": [{\"line\": {\"colorbar\": {\"outlinewidth\": 0, \"ticks\": \"\"}}, \"marker\": {\"colorbar\": {\"outlinewidth\": 0, \"ticks\": \"\"}}, \"type\": \"scatter3d\"}], \"scattercarpet\": [{\"marker\": {\"colorbar\": {\"outlinewidth\": 0, \"ticks\": \"\"}}, \"type\": \"scattercarpet\"}], \"scattergeo\": [{\"marker\": {\"colorbar\": {\"outlinewidth\": 0, \"ticks\": \"\"}}, \"type\": \"scattergeo\"}], \"scattergl\": [{\"marker\": {\"colorbar\": {\"outlinewidth\": 0, \"ticks\": \"\"}}, \"type\": \"scattergl\"}], \"scattermapbox\": [{\"marker\": {\"colorbar\": {\"outlinewidth\": 0, \"ticks\": \"\"}}, \"type\": \"scattermapbox\"}], \"scatterpolar\": [{\"marker\": {\"colorbar\": {\"outlinewidth\": 0, \"ticks\": \"\"}}, \"type\": \"scatterpolar\"}], \"scatterpolargl\": [{\"marker\": {\"colorbar\": {\"outlinewidth\": 0, \"ticks\": \"\"}}, \"type\": \"scatterpolargl\"}], \"scatterternary\": [{\"marker\": {\"colorbar\": {\"outlinewidth\": 0, \"ticks\": \"\"}}, \"type\": \"scatterternary\"}], \"surface\": [{\"colorbar\": {\"outlinewidth\": 0, \"ticks\": \"\"}, \"colorscale\": [[0.0, \"#0d0887\"], [0.1111111111111111, \"#46039f\"], [0.2222222222222222, \"#7201a8\"], [0.3333333333333333, \"#9c179e\"], [0.4444444444444444, \"#bd3786\"], [0.5555555555555556, \"#d8576b\"], [0.6666666666666666, \"#ed7953\"], [0.7777777777777778, \"#fb9f3a\"], [0.8888888888888888, \"#fdca26\"], [1.0, \"#f0f921\"]], \"type\": \"surface\"}], \"table\": [{\"cells\": {\"fill\": {\"color\": \"#EBF0F8\"}, \"line\": {\"color\": \"white\"}}, \"header\": {\"fill\": {\"color\": \"#C8D4E3\"}, \"line\": {\"color\": \"white\"}}, \"type\": \"table\"}]}, \"layout\": {\"annotationdefaults\": {\"arrowcolor\": \"#2a3f5f\", \"arrowhead\": 0, \"arrowwidth\": 1}, \"autotypenumbers\": \"strict\", \"coloraxis\": {\"colorbar\": {\"outlinewidth\": 0, \"ticks\": \"\"}}, \"colorscale\": {\"diverging\": [[0, \"#8e0152\"], [0.1, \"#c51b7d\"], [0.2, \"#de77ae\"], [0.3, \"#f1b6da\"], [0.4, \"#fde0ef\"], [0.5, \"#f7f7f7\"], [0.6, \"#e6f5d0\"], [0.7, \"#b8e186\"], [0.8, \"#7fbc41\"], [0.9, \"#4d9221\"], [1, \"#276419\"]], \"sequential\": [[0.0, \"#0d0887\"], [0.1111111111111111, \"#46039f\"], [0.2222222222222222, \"#7201a8\"], [0.3333333333333333, \"#9c179e\"], [0.4444444444444444, \"#bd3786\"], [0.5555555555555556, \"#d8576b\"], [0.6666666666666666, \"#ed7953\"], [0.7777777777777778, \"#fb9f3a\"], [0.8888888888888888, \"#fdca26\"], [1.0, \"#f0f921\"]], \"sequentialminus\": [[0.0, \"#0d0887\"], [0.1111111111111111, \"#46039f\"], [0.2222222222222222, \"#7201a8\"], [0.3333333333333333, \"#9c179e\"], [0.4444444444444444, \"#bd3786\"], [0.5555555555555556, \"#d8576b\"], [0.6666666666666666, \"#ed7953\"], [0.7777777777777778, \"#fb9f3a\"], [0.8888888888888888, \"#fdca26\"], [1.0, \"#f0f921\"]]}, \"colorway\": [\"#636efa\", \"#EF553B\", \"#00cc96\", \"#ab63fa\", \"#FFA15A\", \"#19d3f3\", \"#FF6692\", \"#B6E880\", \"#FF97FF\", \"#FECB52\"], \"font\": {\"color\": \"#2a3f5f\"}, \"geo\": {\"bgcolor\": \"white\", \"lakecolor\": \"white\", \"landcolor\": \"#E5ECF6\", \"showlakes\": true, \"showland\": true, \"subunitcolor\": \"white\"}, \"hoverlabel\": {\"align\": \"left\"}, \"hovermode\": \"closest\", \"mapbox\": {\"style\": \"light\"}, \"paper_bgcolor\": \"white\", \"plot_bgcolor\": \"#E5ECF6\", \"polar\": {\"angularaxis\": {\"gridcolor\": \"white\", \"linecolor\": \"white\", \"ticks\": \"\"}, \"bgcolor\": \"#E5ECF6\", \"radialaxis\": {\"gridcolor\": \"white\", \"linecolor\": \"white\", \"ticks\": \"\"}}, \"scene\": {\"xaxis\": {\"backgroundcolor\": \"#E5ECF6\", \"gridcolor\": \"white\", \"gridwidth\": 2, \"linecolor\": \"white\", \"showbackground\": true, \"ticks\": \"\", \"zerolinecolor\": \"white\"}, \"yaxis\": {\"backgroundcolor\": \"#E5ECF6\", \"gridcolor\": \"white\", \"gridwidth\": 2, \"linecolor\": \"white\", \"showbackground\": true, \"ticks\": \"\", \"zerolinecolor\": \"white\"}, \"zaxis\": {\"backgroundcolor\": \"#E5ECF6\", \"gridcolor\": \"white\", \"gridwidth\": 2, \"linecolor\": \"white\", \"showbackground\": true, \"ticks\": \"\", \"zerolinecolor\": \"white\"}}, \"shapedefaults\": {\"line\": {\"color\": \"#2a3f5f\"}}, \"ternary\": {\"aaxis\": {\"gridcolor\": \"white\", \"linecolor\": \"white\", \"ticks\": \"\"}, \"baxis\": {\"gridcolor\": \"white\", \"linecolor\": \"white\", \"ticks\": \"\"}, \"bgcolor\": \"#E5ECF6\", \"caxis\": {\"gridcolor\": \"white\", \"linecolor\": \"white\", \"ticks\": \"\"}}, \"title\": {\"x\": 0.05}, \"xaxis\": {\"automargin\": true, \"gridcolor\": \"white\", \"linecolor\": \"white\", \"ticks\": \"\", \"title\": {\"standoff\": 15}, \"zerolinecolor\": \"white\", \"zerolinewidth\": 2}, \"yaxis\": {\"automargin\": true, \"gridcolor\": \"white\", \"linecolor\": \"white\", \"ticks\": \"\", \"title\": {\"standoff\": 15}, \"zerolinecolor\": \"white\", \"zerolinewidth\": 2}}}, \"xaxis\": {\"anchor\": \"y\", \"domain\": [0.0, 1.0], \"dtick\": 2, \"matches\": \"x3\", \"range\": [0, 21], \"showticklabels\": false}, \"xaxis2\": {\"anchor\": \"y2\", \"domain\": [0.0, 1.0], \"dtick\": 2, \"matches\": \"x\", \"range\": [0, 21], \"showticklabels\": false}, \"xaxis3\": {\"anchor\": \"y3\", \"domain\": [0.0, 1.0], \"dtick\": 2, \"matches\": \"x\", \"title\": {\"text\": \"$\\\\mbox{Iteration Number}$\"}}, \"yaxis\": {\"anchor\": \"x\", \"automargin\": true, \"domain\": [0.865, 1.0], \"exponentformat\": \"e\", \"side\": \"top\", \"tickformat\": \"g\", \"title\": {\"text\": \"$\\\\mbox{T}_{inner}$\"}}, \"yaxis2\": {\"anchor\": \"x2\", \"automargin\": true, \"domain\": [0.185, 0.815], \"exponentformat\": \"e\", \"title\": {\"font\": {\"size\": 13}, \"text\": \"$\\\\mbox{Luminosity}~(erg~sec^{-1})$\"}}, \"yaxis3\": {\"anchor\": \"x3\", \"automargin\": true, \"domain\": [0.0, 0.135], \"exponentformat\": \"e\", \"title\": {\"font\": {\"size\": 12}, \"text\": \"$~~\\\\mbox{Residual}\\\\\\\\\\\\mbox{Luminosity(%)}$\"}}},                        {\"responsive\": true}                    ).then(function(){\n                            \nvar gd = document.getElementById('2d2d210c-7590-4fd2-8216-de1ca55f90bf');\nvar x = new MutationObserver(function (mutations, observer) {{\n        var display = window.getComputedStyle(gd).display;\n        if (!display || display === 'none') {{\n            console.log([gd, 'removed!']);\n            Plotly.purge(gd);\n            observer.disconnect();\n        }}\n}});\n\n// Listen for the removal of the full notebook cells\nvar notebookContainer = gd.closest('#notebook-container');\nif (notebookContainer) {{\n    x.observe(notebookContainer, {childList: true});\n}}\n\n// Listen for the clearing of the current output cell\nvar outputEl = gd.closest('.output');\nif (outputEl) {{\n    x.observe(outputEl, {childList: true});\n}}\n\n                        })                };                });            </script>        </div>"
         },
         "metadata": {},
         "output_type": "display_data"
        }
       ]
      }
     },
     "640f469c5c004048a4997b4f710116e0": {
      "model_module": "@jupyter-widgets/controls",
      "model_module_version": "1.5.0",
      "model_name": "VBoxModel",
      "state": {
       "children": [
        "IPY_MODEL_e2c6250d228b4bc1958f41f2c08f27cd",
        "IPY_MODEL_d91c00dee0d44e29a5f92848771531a0"
       ],
       "layout": "IPY_MODEL_f41414422de04f2997de4d4f2ccc405c"
      }
     },
     "691e640ecb0c4c47b57ff914416f05bf": {
      "model_module": "@jupyter-widgets/base",
      "model_module_version": "1.2.0",
      "model_name": "LayoutModel",
      "state": {}
     },
     "790e0c510c97473a8a090b5902a29744": {
      "model_module": "plotlywidget",
      "model_module_version": "^4.14.3",
      "model_name": "FigureModel",
      "state": {
       "_config": {
        "plotlyServerURL": "https://plot.ly"
       },
       "_data": [
        {
         "line": {
          "color": "#800000"
         },
         "type": "scatter",
         "uid": "9b5ed1ef-dcc2-401a-b1c3-39cf40ea464b",
         "xaxis": "x",
         "yaxis": "y"
        },
        {
         "line": {
          "color": "#800000"
         },
         "type": "scatter",
         "uid": "e152f2fb-78cf-492a-a2a5-4083276c881f",
         "xaxis": "x2",
         "yaxis": "y2"
        },
        {
         "legendgroup": "group-0",
         "line": {
          "color": "#000080"
         },
         "marker": {
          "size": 3,
          "symbol": "diamond"
         },
         "name": "1",
         "showlegend": false,
         "type": "scatter",
         "uid": "43a2ff75-c319-42fb-b0fe-fa1823fba656",
         "x": [
          11000,
          11450,
          11900,
          12350,
          12800,
          13250,
          13700,
          14150,
          14600,
          15050,
          15500,
          15950,
          16400,
          16850,
          17300,
          17750,
          18200,
          18650,
          19100,
          19550,
          20000
         ],
         "xaxis": "x",
         "y": [
          10134.733716625742,
          10158.894068408064,
          10199.163062164183,
          10230.988705011776,
          10268.95723542248,
          10222.890845143002,
          10224.33250792895,
          10215.304103107928,
          10218.67593187541,
          10185.463728853065,
          10144.46316917108,
          10076.87680984274,
          10030.209347853815,
          10029.018621140542,
          9986.944524442715,
          9873.477845862937,
          9843.334614032237,
          9771.609702679261,
          9679.524619982089,
          9610.209774198473
         ],
         "yaxis": "y"
        },
        {
         "legendgroup": "group-0",
         "line": {
          "color": "#000080"
         },
         "marker": {
          "size": 3,
          "symbol": "diamond"
         },
         "name": "1",
         "type": "scatter",
         "uid": "98ccd73e-2f3f-4f99-bcb2-ea829fe6f07f",
         "x": [
          11000,
          11450,
          11900,
          12350,
          12800,
          13250,
          13700,
          14150,
          14600,
          15050,
          15500,
          15950,
          16400,
          16850,
          17300,
          17750,
          18200,
          18650,
          19100,
          19550,
          20000
         ],
         "xaxis": "x2",
         "y": [
          0.5082040569581554,
          0.3962212763594891,
          0.3214185723254649,
          0.26560113513158967,
          0.22389059993927218,
          0.19702589896830255,
          0.1749491202529985,
          0.1563731541470249,
          0.13940960015313733,
          0.12795427205030482,
          0.11717940936679912,
          0.10932218040060024,
          0.10303354273987321,
          0.09520635540966971,
          0.08986506172262776,
          0.08694065164106614,
          0.082029771070409,
          0.07895392034793645,
          0.07641285709961215,
          0.0734944435056783
         ],
         "yaxis": "y2"
        },
        {
         "legendgroup": "group-1",
         "line": {
          "color": "#0000bd"
         },
         "marker": {
          "size": 3,
          "symbol": "diamond"
         },
         "name": "2",
         "showlegend": false,
         "type": "scatter",
         "uid": "2e8d2782-05a7-4a34-ae12-f2be992ae721",
         "x": [
          11000,
          11450,
          11900,
          12350,
          12800,
          13250,
          13700,
          14150,
          14600,
          15050,
          15500,
          15950,
          16400,
          16850,
          17300,
          17750,
          18200,
          18650,
          19100,
          19550,
          20000
         ],
         "xaxis": "x",
         "y": [
          11468.021903420027,
          11435.999407966676,
          11449.930444230995,
          11492.65958293691,
          11527.299217171007,
          11499.835339656465,
          11477.276330649498,
          11460.659744967303,
          11406.161049943823,
          11340.543942919201,
          11306.370330122183,
          11212.548324749032,
          11165.15031794662,
          11109.460288675331,
          11032.751812374603,
          10953.828130057926,
          10887.89602394496,
          10829.273836669769,
          10807.478630946254,
          10678.472039472606
         ],
         "yaxis": "y"
        },
        {
         "legendgroup": "group-1",
         "line": {
          "color": "#0000bd"
         },
         "marker": {
          "size": 3,
          "symbol": "diamond"
         },
         "name": "2",
         "type": "scatter",
         "uid": "a0d8d8b9-d73e-479f-9ca9-c4d8bb069298",
         "x": [
          11000,
          11450,
          11900,
          12350,
          12800,
          13250,
          13700,
          14150,
          14600,
          15050,
          15500,
          15950,
          16400,
          16850,
          17300,
          17750,
          18200,
          18650,
          19100,
          19550,
          20000
         ],
         "xaxis": "x2",
         "y": [
          0.5486713034814857,
          0.4359667978092499,
          0.35745766558351055,
          0.29759617877916883,
          0.2514052642548386,
          0.2213742932983643,
          0.1967142119281105,
          0.1750139221468986,
          0.1596018423150508,
          0.14776884435084475,
          0.1362910943753445,
          0.1282954632603496,
          0.11949333047989281,
          0.11271924127039863,
          0.10796286592870252,
          0.10261651657287679,
          0.09761052473526158,
          0.0925701903122773,
          0.08757308797595444,
          0.08560372849204283
         ],
         "yaxis": "y2"
        },
        {
         "legendgroup": "group-2",
         "line": {
          "color": "#0000fa"
         },
         "marker": {
          "size": 3,
          "symbol": "diamond"
         },
         "name": "3",
         "showlegend": false,
         "type": "scatter",
         "uid": "f5a7b823-ba0a-4370-8ed1-261b61a28535",
         "x": [
          11000,
          11450,
          11900,
          12350,
          12800,
          13250,
          13700,
          14150,
          14600,
          15050,
          15500,
          15950,
          16400,
          16850,
          17300,
          17750,
          18200,
          18650,
          19100,
          19550,
          20000
         ],
         "xaxis": "x",
         "y": [
          10497.008397133988,
          10647.412149636564,
          10710.555598349812,
          10778.428547850966,
          10799.157541112727,
          10799.075913257297,
          10809.366021863923,
          10753.851890469936,
          10723.18539784127,
          10725.950530076656,
          10623.433273860508,
          10568.227843581686,
          10448.426796026406,
          10344.129570842591,
          10277.247070725653,
          10226.187071335817,
          10191.522923045857,
          10084.749431116139,
          9966.774860086334,
          9840.487791467045
         ],
         "yaxis": "y"
        },
        {
         "legendgroup": "group-2",
         "line": {
          "color": "#0000fa"
         },
         "marker": {
          "size": 3,
          "symbol": "diamond"
         },
         "name": "3",
         "type": "scatter",
         "uid": "1c03b794-050d-46ef-8c1c-315a2eaff85a",
         "x": [
          11000,
          11450,
          11900,
          12350,
          12800,
          13250,
          13700,
          14150,
          14600,
          15050,
          15500,
          15950,
          16400,
          16850,
          17300,
          17750,
          18200,
          18650,
          19100,
          19550,
          20000
         ],
         "xaxis": "x2",
         "y": [
          0.442299407233424,
          0.3316155054771363,
          0.26819254934335535,
          0.22122958128497036,
          0.18813327121608667,
          0.16428839927198421,
          0.1443413401513004,
          0.13164698698733832,
          0.12013575438192611,
          0.1081687026641846,
          0.10181996368767447,
          0.09492623735431249,
          0.09101140062051426,
          0.08639163271896758,
          0.08220814746497997,
          0.07762890235617773,
          0.0732750049575765,
          0.07106642067401933,
          0.06969266984280108,
          0.06837630714305266
         ],
         "yaxis": "y2"
        },
        {
         "legendgroup": "group-3",
         "line": {
          "color": "#0022ff"
         },
         "marker": {
          "size": 3,
          "symbol": "diamond"
         },
         "name": "4",
         "showlegend": false,
         "type": "scatter",
         "uid": "0ea912fa-54c9-4e9c-9839-bde0840b52e7",
         "x": [
          11000,
          11450,
          11900,
          12350,
          12800,
          13250,
          13700,
          14150,
          14600,
          15050,
          15500,
          15950,
          16400,
          16850,
          17300,
          17750,
          18200,
          18650,
          19100,
          19550,
          20000
         ],
         "xaxis": "x",
         "y": [
          11615.34431271539,
          11665.123230726764,
          11722.631980824826,
          11696.759034389528,
          11740.274989218244,
          11729.411389495828,
          11762.93754644142,
          11652.44218706302,
          11589.11016884437,
          11561.496043188794,
          11517.190316985118,
          11433.020206851419,
          11326.42249364519,
          11237.973261737088,
          11182.841624719184,
          11103.37345606317,
          10988.381394715301,
          10950.081329679253,
          10862.947659789317,
          10751.855231570007
         ],
         "yaxis": "y"
        },
        {
         "legendgroup": "group-3",
         "line": {
          "color": "#0022ff"
         },
         "marker": {
          "size": 3,
          "symbol": "diamond"
         },
         "name": "4",
         "type": "scatter",
         "uid": "aabfad7f-5312-487e-a80b-567c6f4c305f",
         "x": [
          11000,
          11450,
          11900,
          12350,
          12800,
          13250,
          13700,
          14150,
          14600,
          15050,
          15500,
          15950,
          16400,
          16850,
          17300,
          17750,
          18200,
          18650,
          19100,
          19550,
          20000
         ],
         "xaxis": "x2",
         "y": [
          0.4977143593187972,
          0.3915904655092031,
          0.31518118479289936,
          0.26854353604159453,
          0.22820910008384737,
          0.1992052064914697,
          0.1732796396495469,
          0.15947664883652757,
          0.14579099407466625,
          0.1334986840647756,
          0.12384871542019993,
          0.1163327713735177,
          0.11004943343959867,
          0.10494577908156115,
          0.09880472549683283,
          0.09393029340453476,
          0.09096244445118767,
          0.08630423393331049,
          0.08321862769525468,
          0.08100093623949862
         ],
         "yaxis": "y2"
        },
        {
         "legendgroup": "group-4",
         "line": {
          "color": "#0057ff"
         },
         "marker": {
          "size": 3,
          "symbol": "diamond"
         },
         "name": "5",
         "showlegend": false,
         "type": "scatter",
         "uid": "b54177b5-176f-4ec4-ac9c-705ab44f85b5",
         "x": [
          11000,
          11450,
          11900,
          12350,
          12800,
          13250,
          13700,
          14150,
          14600,
          15050,
          15500,
          15950,
          16400,
          16850,
          17300,
          17750,
          18200,
          18650,
          19100,
          19550,
          20000
         ],
         "xaxis": "x",
         "y": [
          10549.51412848435,
          10759.565074180144,
          10894.663638012831,
          10932.865203687254,
          10930.709069978382,
          10919.073481210131,
          10877.07525272697,
          10810.824269258308,
          10785.603108487141,
          10727.31310966391,
          10697.303299672532,
          10711.257210371086,
          10551.734446150795,
          10490.892524557958,
          10416.933630770685,
          10379.863072642813,
          10279.630106699515,
          10220.453729533758,
          10077.475484616278,
          9927.285882427788
         ],
         "yaxis": "y"
        },
        {
         "legendgroup": "group-4",
         "line": {
          "color": "#0057ff"
         },
         "marker": {
          "size": 3,
          "symbol": "diamond"
         },
         "name": "5",
         "type": "scatter",
         "uid": "cbc2e6e8-2b4e-4df1-8793-2f4cbbd23ef5",
         "x": [
          11000,
          11450,
          11900,
          12350,
          12800,
          13250,
          13700,
          14150,
          14600,
          15050,
          15500,
          15950,
          16400,
          16850,
          17300,
          17750,
          18200,
          18650,
          19100,
          19550,
          20000
         ],
         "xaxis": "x2",
         "y": [
          0.4434406663593859,
          0.329565789368522,
          0.26010890450064733,
          0.2159881056247415,
          0.1854070420834862,
          0.16219891903074657,
          0.14560372598880475,
          0.13326787384388758,
          0.11999931339731698,
          0.11025218829721785,
          0.1012892218335092,
          0.09247037462403469,
          0.08933312170132374,
          0.08413052869637083,
          0.07995660682274036,
          0.07537221197763783,
          0.07252173631498261,
          0.06901139800647034,
          0.06809975749337623,
          0.06735205229901337
         ],
         "yaxis": "y2"
        },
        {
         "legendgroup": "group-5",
         "line": {
          "color": "#008dff"
         },
         "marker": {
          "size": 3,
          "symbol": "diamond"
         },
         "name": "6",
         "showlegend": false,
         "type": "scatter",
         "uid": "1b968590-8314-407c-9b98-b35f35685439",
         "x": [
          11000,
          11450,
          11900,
          12350,
          12800,
          13250,
          13700,
          14150,
          14600,
          15050,
          15500,
          15950,
          16400,
          16850,
          17300,
          17750,
          18200,
          18650,
          19100,
          19550,
          20000
         ],
         "xaxis": "x",
         "y": [
          11567.208184336641,
          11613.025123050538,
          11683.328827353047,
          11693.104708830946,
          11724.278325269526,
          11653.124120929953,
          11612.65021223817,
          11609.82892873756,
          11614.580326945592,
          11546.462389124263,
          11425.95501009532,
          11375.048998512899,
          11315.818140434149,
          11225.578780782147,
          11120.449864009748,
          11082.155937788912,
          10987.868514296186,
          10920.442550504482,
          10834.92855121022,
          10735.503852801117
         ],
         "yaxis": "y"
        },
        {
         "legendgroup": "group-5",
         "line": {
          "color": "#008dff"
         },
         "marker": {
          "size": 3,
          "symbol": "diamond"
         },
         "name": "6",
         "type": "scatter",
         "uid": "b79311d5-6d84-40ee-90b2-0960e34876ad",
         "x": [
          11000,
          11450,
          11900,
          12350,
          12800,
          13250,
          13700,
          14150,
          14600,
          15050,
          15500,
          15950,
          16400,
          16850,
          17300,
          17750,
          18200,
          18650,
          19100,
          19550,
          20000
         ],
         "xaxis": "x2",
         "y": [
          0.5041776548110584,
          0.39023406927746374,
          0.3175388504350529,
          0.2668923064824901,
          0.22560807776675992,
          0.203042144204494,
          0.18189522000862068,
          0.16135829264739318,
          0.14556836273965668,
          0.13371966659083212,
          0.12524940621974714,
          0.11754876564474895,
          0.11015802998525885,
          0.10441164070595735,
          0.09931347804630662,
          0.09402786959361889,
          0.09062541591197751,
          0.08647506254390502,
          0.08333888504337562,
          0.08065101681509353
         ],
         "yaxis": "y2"
        },
        {
         "legendgroup": "group-6",
         "line": {
          "color": "#00c3ff"
         },
         "marker": {
          "size": 3,
          "symbol": "diamond"
         },
         "name": "7",
         "showlegend": false,
         "type": "scatter",
         "uid": "d80cd4ed-5914-4a46-95cc-17a404167544",
         "x": [
          11000,
          11450,
          11900,
          12350,
          12800,
          13250,
          13700,
          14150,
          14600,
          15050,
          15500,
          15950,
          16400,
          16850,
          17300,
          17750,
          18200,
          18650,
          19100,
          19550,
          20000
         ],
         "xaxis": "x",
         "y": [
          10569.74740334304,
          10778.034968335256,
          10902.99080443269,
          10989.797314359694,
          11047.113446219639,
          11099.194259237403,
          11016.051305801364,
          10966.513171670935,
          10947.55947416353,
          10934.581362699615,
          10809.397890448754,
          10698.341230707349,
          10636.972622756153,
          10581.99648087922,
          10532.222759856093,
          10454.841299228276,
          10338.205644915452,
          10252.881876072242,
          10087.404942797337,
          9969.196423563208
         ],
         "yaxis": "y"
        },
        {
         "legendgroup": "group-6",
         "line": {
          "color": "#00c3ff"
         },
         "marker": {
          "size": 3,
          "symbol": "diamond"
         },
         "name": "7",
         "type": "scatter",
         "uid": "200a412a-d74a-4983-a084-28d6dfe82919",
         "x": [
          11000,
          11450,
          11900,
          12350,
          12800,
          13250,
          13700,
          14150,
          14600,
          15050,
          15500,
          15950,
          16400,
          16850,
          17300,
          17750,
          18200,
          18650,
          19100,
          19550,
          20000
         ],
         "xaxis": "x2",
         "y": [
          0.4422900724363882,
          0.32572087182053455,
          0.25608363121508193,
          0.20917551310840277,
          0.17856281204684143,
          0.1532534478801237,
          0.1389841189692777,
          0.1262357056609694,
          0.11375261901807446,
          0.10290814628079882,
          0.09725630417756266,
          0.09284460200253164,
          0.0871069617423461,
          0.0816250729899891,
          0.07729032592235478,
          0.07380941869099045,
          0.07152054892238287,
          0.06908445244271275,
          0.06851046721770122,
          0.06692890210588077
         ],
         "yaxis": "y2"
        },
        {
         "legendgroup": "group-7",
         "line": {
          "color": "#0ff8e8"
         },
         "marker": {
          "size": 3,
          "symbol": "diamond"
         },
         "name": "8",
         "showlegend": false,
         "type": "scatter",
         "uid": "88849eb5-afbb-4774-ba3b-a942f4426ffa",
         "x": [
          11000,
          11450,
          11900,
          12350,
          12800,
          13250,
          13700,
          14150,
          14600,
          15050,
          15500,
          15950,
          16400,
          16850,
          17300,
          17750,
          18200,
          18650,
          19100,
          19550,
          20000
         ],
         "xaxis": "x",
         "y": [
          11547.678161996797,
          11623.874786176679,
          11731.044716907294,
          11760.25509798027,
          11744.698977086615,
          11669.73950817632,
          11644.121670479833,
          11594.304643594436,
          11525.864522224016,
          11493.832801176886,
          11493.569589639628,
          11391.455575577864,
          11294.144464329282,
          11274.715359901778,
          11177.405492194264,
          11083.76958592225,
          11033.949307567013,
          10945.602385267846,
          10830.938212361745,
          10712.245869588583
         ],
         "yaxis": "y"
        },
        {
         "legendgroup": "group-7",
         "line": {
          "color": "#0ff8e8"
         },
         "marker": {
          "size": 3,
          "symbol": "diamond"
         },
         "name": "8",
         "type": "scatter",
         "uid": "5fae7659-9b66-4fbc-a38c-51c4d37ecbe1",
         "x": [
          11000,
          11450,
          11900,
          12350,
          12800,
          13250,
          13700,
          14150,
          14600,
          15050,
          15500,
          15950,
          16400,
          16850,
          17300,
          17750,
          18200,
          18650,
          19100,
          19550,
          20000
         ],
         "xaxis": "x2",
         "y": [
          0.5003453146367499,
          0.38382149418984424,
          0.3046144240522065,
          0.25655030086043534,
          0.22316143817180586,
          0.1983376255429574,
          0.17627463164764823,
          0.16038371517158478,
          0.14647197836539907,
          0.13388777429772944,
          0.12191469474588634,
          0.11483702826414072,
          0.10939033073711928,
          0.1016253554908811,
          0.09688786513696965,
          0.09283396230842705,
          0.08787816010814403,
          0.08454191425058025,
          0.08203925347737268,
          0.0802404176236165
         ],
         "yaxis": "y2"
        },
        {
         "legendgroup": "group-8",
         "line": {
          "color": "#3affbc"
         },
         "marker": {
          "size": 3,
          "symbol": "diamond"
         },
         "name": "9",
         "showlegend": false,
         "type": "scatter",
         "uid": "8fba382d-6920-46f0-995d-053c5096e218",
         "x": [
          11000,
          11450,
          11900,
          12350,
          12800,
          13250,
          13700,
          14150,
          14600,
          15050,
          15500,
          15950,
          16400,
          16850,
          17300,
          17750,
          18200,
          18650,
          19100,
          19550,
          20000
         ],
         "xaxis": "x",
         "y": [
          10635.099216825016,
          10811.018798823196,
          10933.638973465304,
          10979.717070479548,
          11020.403776787787,
          11035.731463947244,
          10938.265121115064,
          10845.596613320555,
          10800.731975199556,
          10763.639570847956,
          10717.471486460141,
          10707.496982070452,
          10660.60682399312,
          10573.357547773094,
          10472.700868373204,
          10404.049299323693,
          10290.698637903408,
          10218.265955052706,
          10108.378593633912,
          9988.315668041098
         ],
         "yaxis": "y"
        },
        {
         "legendgroup": "group-8",
         "line": {
          "color": "#3affbc"
         },
         "marker": {
          "size": 3,
          "symbol": "diamond"
         },
         "name": "9",
         "type": "scatter",
         "uid": "6f3af647-45cd-42af-a9bb-e389e8ff8289",
         "x": [
          11000,
          11450,
          11900,
          12350,
          12800,
          13250,
          13700,
          14150,
          14600,
          15050,
          15500,
          15950,
          16400,
          16850,
          17300,
          17750,
          18200,
          18650,
          19100,
          19550,
          20000
         ],
         "xaxis": "x2",
         "y": [
          0.43952006761780843,
          0.327268984776419,
          0.2606464861341183,
          0.21628196882829448,
          0.18251989124968382,
          0.15831982713481618,
          0.14420700235789413,
          0.1319104825157537,
          0.11992662887673335,
          0.11051812652760704,
          0.10164157832326394,
          0.0935169832842306,
          0.08702393919783383,
          0.08275717669259847,
          0.07958674997930451,
          0.07579438452066575,
          0.07337972954768164,
          0.07043279263704051,
          0.06849589481058935,
          0.06699933221108373
         ],
         "yaxis": "y2"
        },
        {
         "legendgroup": "group-9",
         "line": {
          "color": "#66ff91"
         },
         "marker": {
          "size": 3,
          "symbol": "diamond"
         },
         "name": "10",
         "showlegend": false,
         "type": "scatter",
         "uid": "e47b8316-63ef-456d-8851-a33f2840fe79",
         "x": [
          11000,
          11450,
          11900,
          12350,
          12800,
          13250,
          13700,
          14150,
          14600,
          15050,
          15500,
          15950,
          16400,
          16850,
          17300,
          17750,
          18200,
          18650,
          19100,
          19550,
          20000
         ],
         "xaxis": "x",
         "y": [
          11500.55767773097,
          11637.546429690152,
          11663.40617042992,
          11724.968508662445,
          11714.760546184587,
          11715.267405819095,
          11601.494346275227,
          11508.240345570224,
          11502.488963193151,
          11497.386422527972,
          11451.270656305627,
          11400.159576989896,
          11327.524225636038,
          11287.892223234016,
          11179.325846630562,
          11094.423438456082,
          10990.648087308033,
          10925.434399972431,
          10815.564131433573,
          10706.177796255937
         ],
         "yaxis": "y"
        },
        {
         "legendgroup": "group-9",
         "line": {
          "color": "#66ff91"
         },
         "marker": {
          "size": 3,
          "symbol": "diamond"
         },
         "name": "10",
         "type": "scatter",
         "uid": "86c67ed9-1f92-4c5a-8ecc-0593e6cf0c54",
         "x": [
          11000,
          11450,
          11900,
          12350,
          12800,
          13250,
          13700,
          14150,
          14600,
          15050,
          15500,
          15950,
          16400,
          16850,
          17300,
          17750,
          18200,
          18650,
          19100,
          19550,
          20000
         ],
         "xaxis": "x2",
         "y": [
          0.5068949392970965,
          0.38221104971484254,
          0.31487414577388056,
          0.2621151190162536,
          0.22619764203242226,
          0.1966896714263117,
          0.17976793731845225,
          0.16527279232801473,
          0.14785746043356635,
          0.13387433613614877,
          0.1232425999868199,
          0.1146829697056732,
          0.10741488616862097,
          0.10056120171965181,
          0.09622391591057,
          0.0922429076610291,
          0.0891060122843892,
          0.08532979760583174,
          0.08271120381699126,
          0.08030516190365557
         ],
         "yaxis": "y2"
        },
        {
         "legendgroup": "group-10",
         "line": {
          "color": "#91ff66"
         },
         "marker": {
          "size": 3,
          "symbol": "diamond"
         },
         "name": "11",
         "showlegend": false,
         "type": "scatter",
         "uid": "6e04582b-7dbf-4bde-87bb-7e9b2f041e74",
         "x": [
          11000,
          11450,
          11900,
          12350,
          12800,
          13250,
          13700,
          14150,
          14600,
          15050,
          15500,
          15950,
          16400,
          16850,
          17300,
          17750,
          18200,
          18650,
          19100,
          19550,
          20000
         ],
         "xaxis": "x",
         "y": [
          10570.856509263214,
          10736.442568836415,
          10856.868647968908,
          10979.906697012919,
          10953.700434670503,
          10957.336276077183,
          10966.459695386746,
          10949.857847026873,
          10898.17650137722,
          10912.847154692829,
          10916.410390590076,
          10804.79013541429,
          10642.721757219706,
          10673.950209699196,
          10562.15537191637,
          10441.053929477466,
          10375.82143773825,
          10218.808094852784,
          10128.925286201786,
          9982.977583607197
         ],
         "yaxis": "y"
        },
        {
         "legendgroup": "group-10",
         "line": {
          "color": "#91ff66"
         },
         "marker": {
          "size": 3,
          "symbol": "diamond"
         },
         "name": "11",
         "type": "scatter",
         "uid": "5581aa3b-8999-4992-8d71-ab86934651e3",
         "x": [
          11000,
          11450,
          11900,
          12350,
          12800,
          13250,
          13700,
          14150,
          14600,
          15050,
          15500,
          15950,
          16400,
          16850,
          17300,
          17750,
          18200,
          18650,
          19100,
          19550,
          20000
         ],
         "xaxis": "x2",
         "y": [
          0.44592562360298593,
          0.331726124200421,
          0.2626860334726053,
          0.21445158567301176,
          0.1874369354198379,
          0.16283699173812993,
          0.14343516576688212,
          0.1288301921728002,
          0.11742933862073758,
          0.10551038169028196,
          0.09622856527804761,
          0.0908415597305189,
          0.08819161384785737,
          0.08047832421527892,
          0.07731272727040164,
          0.07502560062315754,
          0.07149678574153981,
          0.07062712405261021,
          0.06830828451008499,
          0.0675509962637582
         ],
         "yaxis": "y2"
        },
        {
         "legendgroup": "group-11",
         "line": {
          "color": "#bcff3a"
         },
         "marker": {
          "size": 3,
          "symbol": "diamond"
         },
         "name": "12",
         "showlegend": false,
         "type": "scatter",
         "uid": "81302f20-053b-4db5-9cd5-5de03cce454a",
         "x": [
          11000,
          11450,
          11900,
          12350,
          12800,
          13250,
          13700,
          14150,
          14600,
          15050,
          15500,
          15950,
          16400,
          16850,
          17300,
          17750,
          18200,
          18650,
          19100,
          19550,
          20000
         ],
         "xaxis": "x",
         "y": [
          11533.554418901995,
          11597.331479911461,
          11657.889585168934,
          11762.268748636763,
          11775.917513051456,
          11764.967895422506,
          11676.073086637227,
          11650.112617143857,
          11594.258946050913,
          11522.736351585567,
          11444.191999379364,
          11366.855615514283,
          11333.428810955658,
          11291.115455484682,
          11165.546445726966,
          11084.736032809735,
          11050.699407674529,
          10978.54248596981,
          10849.291930009682,
          10738.957956164411
         ],
         "yaxis": "y"
        },
        {
         "legendgroup": "group-11",
         "line": {
          "color": "#bcff3a"
         },
         "marker": {
          "size": 3,
          "symbol": "diamond"
         },
         "name": "12",
         "type": "scatter",
         "uid": "25d47ede-faba-4396-923e-e859132da707",
         "x": [
          11000,
          11450,
          11900,
          12350,
          12800,
          13250,
          13700,
          14150,
          14600,
          15050,
          15500,
          15950,
          16400,
          16850,
          17300,
          17750,
          18200,
          18650,
          19100,
          19550,
          20000
         ],
         "xaxis": "x2",
         "y": [
          0.4948141939783134,
          0.38257284907522643,
          0.31106318084797985,
          0.25245973709763675,
          0.21581879433960166,
          0.1894638080925602,
          0.1719798978313757,
          0.15370692887596543,
          0.140611753786461,
          0.13022103911735378,
          0.12114965913477613,
          0.1134082040590886,
          0.10508702258326932,
          0.09835950384020824,
          0.09505240961204943,
          0.09082482658920112,
          0.08538454480911349,
          0.08166191691747998,
          0.0799399239764927,
          0.07767439247279284
         ],
         "yaxis": "y2"
        },
        {
         "legendgroup": "group-12",
         "line": {
          "color": "#e8ff0f"
         },
         "marker": {
          "size": 3,
          "symbol": "diamond"
         },
         "name": "13",
         "showlegend": false,
         "type": "scatter",
         "uid": "39b70fbd-f944-43ca-ab5a-d9f37ac694c6",
         "x": [
          11000,
          11450,
          11900,
          12350,
          12800,
          13250,
          13700,
          14150,
          14600,
          15050,
          15500,
          15950,
          16400,
          16850,
          17300,
          17750,
          18200,
          18650,
          19100,
          19550,
          20000
         ],
         "xaxis": "x",
         "y": [
          10680.784661378812,
          10845.542429380755,
          10944.815192934726,
          10993.087317815412,
          11012.940076484394,
          10887.379427963211,
          10983.662316167121,
          11024.751388763907,
          10943.797478820637,
          10891.467325909394,
          10825.79202489999,
          10805.557529364292,
          10706.591895210207,
          10571.784653112927,
          10496.275695177474,
          10402.1202278362,
          10301.441469400985,
          10238.491096739823,
          10147.574803160998,
          10007.566464221134
         ],
         "yaxis": "y"
        },
        {
         "legendgroup": "group-12",
         "line": {
          "color": "#e8ff0f"
         },
         "marker": {
          "size": 3,
          "symbol": "diamond"
         },
         "name": "13",
         "type": "scatter",
         "uid": "cda35fc4-5835-42ec-a6b7-75d63c4677b7",
         "x": [
          11000,
          11450,
          11900,
          12350,
          12800,
          13250,
          13700,
          14150,
          14600,
          15050,
          15500,
          15950,
          16400,
          16850,
          17300,
          17750,
          18200,
          18650,
          19100,
          19550,
          20000
         ],
         "xaxis": "x2",
         "y": [
          0.4392810715699427,
          0.32903573292536575,
          0.2641712463741873,
          0.2199520853515653,
          0.18797841086098377,
          0.170137181865149,
          0.14523399235417983,
          0.12811695433348316,
          0.11796293005695968,
          0.10851866860126855,
          0.10078020724639422,
          0.09253446911219322,
          0.08798570551552642,
          0.08508103522642106,
          0.0807247405411672,
          0.07763414575866073,
          0.07474110201651679,
          0.0714984171727841,
          0.0694441864787546,
          0.06840896856885523
         ],
         "yaxis": "y2"
        },
        {
         "legendgroup": "group-13",
         "line": {
          "color": "#ffd500"
         },
         "marker": {
          "size": 3,
          "symbol": "diamond"
         },
         "name": "14",
         "showlegend": false,
         "type": "scatter",
         "uid": "447ceb91-c972-40ce-9260-fc6fcffb7f5d",
         "x": [
          11000,
          11450,
          11900,
          12350,
          12800,
          13250,
          13700,
          14150,
          14600,
          15050,
          15500,
          15950,
          16400,
          16850,
          17300,
          17750,
          18200,
          18650,
          19100,
          19550,
          20000
         ],
         "xaxis": "x",
         "y": [
          11437.1881296405,
          11528.701578025972,
          11640.449468780576,
          11710.818603845562,
          11646.852339390707,
          11571.106855857402,
          11529.130018047732,
          11506.724477504918,
          11494.473536577672,
          11432.760918872278,
          11378.137918263288,
          11302.85507985749,
          11244.631327203226,
          11103.724838190863,
          11017.941987416276,
          10957.21181370234,
          10894.703106138699,
          10810.029601198734,
          10701.185949495191,
          10638.391439708332
         ],
         "yaxis": "y"
        },
        {
         "legendgroup": "group-13",
         "line": {
          "color": "#ffd500"
         },
         "marker": {
          "size": 3,
          "symbol": "diamond"
         },
         "name": "14",
         "type": "scatter",
         "uid": "832ed6b8-389d-435a-8456-1e213c07f828",
         "x": [
          11000,
          11450,
          11900,
          12350,
          12800,
          13250,
          13700,
          14150,
          14600,
          15050,
          15500,
          15950,
          16400,
          16850,
          17300,
          17750,
          18200,
          18650,
          19100,
          19550,
          20000
         ],
         "xaxis": "x2",
         "y": [
          0.496748999005708,
          0.3812215660301211,
          0.30281560573624655,
          0.2509255408599759,
          0.22073539638977296,
          0.19671394396283887,
          0.1757145473403329,
          0.15768917292428547,
          0.14088198326667611,
          0.13004325009218778,
          0.12095401797605762,
          0.11383288002950714,
          0.10689215533606816,
          0.10296885131622671,
          0.09780859456526698,
          0.09289643546287567,
          0.08854171082989812,
          0.08517563107205485,
          0.08229688721693082,
          0.07896773667540807
         ],
         "yaxis": "y2"
        },
        {
         "legendgroup": "group-14",
         "line": {
          "color": "#ffa400"
         },
         "marker": {
          "size": 3,
          "symbol": "diamond"
         },
         "name": "15",
         "showlegend": false,
         "type": "scatter",
         "uid": "e6d40b8c-bbf4-488b-83e5-f932b53e8272",
         "x": [
          11000,
          11450,
          11900,
          12350,
          12800,
          13250,
          13700,
          14150,
          14600,
          15050,
          15500,
          15950,
          16400,
          16850,
          17300,
          17750,
          18200,
          18650,
          19100,
          19550,
          20000
         ],
         "xaxis": "x",
         "y": [
          10637.774893389853,
          10870.528741129221,
          10979.20752094891,
          11029.889850247846,
          11017.830301775746,
          11002.647926802321,
          11063.176163639557,
          11043.320343340587,
          10953.590586704851,
          10884.149702433244,
          10832.042108059699,
          10746.120711685187,
          10638.764813827649,
          10558.09227679894,
          10449.107297019238,
          10350.60274211199,
          10298.783130265036,
          10276.173311434013,
          10189.139086635258,
          10056.484838218224
         ],
         "yaxis": "y"
        },
        {
         "legendgroup": "group-14",
         "line": {
          "color": "#ffa400"
         },
         "marker": {
          "size": 3,
          "symbol": "diamond"
         },
         "name": "15",
         "type": "scatter",
         "uid": "a6499a8b-7c6c-43bb-aa77-7282d90a6442",
         "x": [
          11000,
          11450,
          11900,
          12350,
          12800,
          13250,
          13700,
          14150,
          14600,
          15050,
          15500,
          15950,
          16400,
          16850,
          17300,
          17750,
          18200,
          18650,
          19100,
          19550,
          20000
         ],
         "xaxis": "x2",
         "y": [
          0.4526680078126913,
          0.33058475741331017,
          0.26470724647387744,
          0.21904485046383979,
          0.188818847281167,
          0.16619738171025455,
          0.14364374771990304,
          0.12786787360034071,
          0.11791465883989272,
          0.10890874790265448,
          0.10128370560742415,
          0.09532106076096122,
          0.09066498376561384,
          0.08579078573787756,
          0.0823404365028928,
          0.07946786802086912,
          0.07534113146002487,
          0.0712852113867502,
          0.06888107318726494,
          0.06764365885322746
         ],
         "yaxis": "y2"
        },
        {
         "legendgroup": "group-15",
         "line": {
          "color": "#ff7200"
         },
         "marker": {
          "size": 3,
          "symbol": "diamond"
         },
         "name": "16",
         "showlegend": false,
         "type": "scatter",
         "uid": "9c6ccd0c-8691-4c90-a515-ae0758328bd0",
         "x": [
          11000,
          11450,
          11900,
          12350,
          12800,
          13250,
          13700,
          14150,
          14600,
          15050,
          15500,
          15950,
          16400,
          16850,
          17300,
          17750,
          18200,
          18650,
          19100,
          19550,
          20000
         ],
         "xaxis": "x",
         "y": [
          11420.979987138982,
          11498.337813102757,
          11639.50519134857,
          11664.640617469393,
          11701.728912830438,
          11711.923994447285,
          11712.746596833955,
          11591.269112378643,
          11449.641897841511,
          11435.511892435268,
          11421.346117783407,
          11334.210896883855,
          11278.258459816647,
          11196.477817740706,
          11110.138994066976,
          11076.434179727443,
          10994.477287359596,
          10901.218261650312,
          10835.518224745436,
          10711.037322641674
         ],
         "yaxis": "y"
        },
        {
         "legendgroup": "group-15",
         "line": {
          "color": "#ff7200"
         },
         "marker": {
          "size": 3,
          "symbol": "diamond"
         },
         "name": "16",
         "type": "scatter",
         "uid": "7e238fa9-88c1-4721-9db2-302c5384a646",
         "x": [
          11000,
          11450,
          11900,
          12350,
          12800,
          13250,
          13700,
          14150,
          14600,
          15050,
          15500,
          15950,
          16400,
          16850,
          17300,
          17750,
          18200,
          18650,
          19100,
          19550,
          20000
         ],
         "xaxis": "x2",
         "y": [
          0.499488409187315,
          0.3838690951817617,
          0.3021805815991795,
          0.2514540281230128,
          0.21646073068279542,
          0.18685687485230784,
          0.1645500999365563,
          0.15175502590148646,
          0.14351458248462712,
          0.1299336743288275,
          0.119700298487092,
          0.11242807247877903,
          0.1050015370491853,
          0.10013529821734288,
          0.0953538109300313,
          0.08940156113165973,
          0.08572755303725668,
          0.08269382665953516,
          0.078848332684631,
          0.07701183515664956
         ],
         "yaxis": "y2"
        },
        {
         "legendgroup": "group-16",
         "line": {
          "color": "#ff4000"
         },
         "marker": {
          "size": 3,
          "symbol": "diamond"
         },
         "name": "17",
         "showlegend": false,
         "type": "scatter",
         "uid": "50bf575f-8828-4f37-95f6-dba08452cea8",
         "x": [
          11000,
          11450,
          11900,
          12350,
          12800,
          13250,
          13700,
          14150,
          14600,
          15050,
          15500,
          15950,
          16400,
          16850,
          17300,
          17750,
          18200,
          18650,
          19100,
          19550,
          20000
         ],
         "xaxis": "x",
         "y": [
          10691.849844972343,
          10881.252759643585,
          11024.600489102355,
          11008.926530015478,
          11076.894883262032,
          11042.045711965855,
          11063.168036579458,
          11070.578559634352,
          11044.691764194673,
          10970.651612456735,
          10980.886609307676,
          10896.00342966283,
          10767.599990699178,
          10635.613994162504,
          10472.846994215468,
          10456.66200657222,
          10434.295581872158,
          10327.027592056353,
          10213.726635393015,
          10093.310125127553
         ],
         "yaxis": "y"
        },
        {
         "legendgroup": "group-16",
         "line": {
          "color": "#ff4000"
         },
         "marker": {
          "size": 3,
          "symbol": "diamond"
         },
         "name": "17",
         "type": "scatter",
         "uid": "499092e6-c05b-406c-9127-2ae4bb5efc33",
         "x": [
          11000,
          11450,
          11900,
          12350,
          12800,
          13250,
          13700,
          14150,
          14600,
          15050,
          15500,
          15950,
          16400,
          16850,
          17300,
          17750,
          18200,
          18650,
          19100,
          19550,
          20000
         ],
         "xaxis": "x2",
         "y": [
          0.44748184768936483,
          0.33018100359144903,
          0.2613079590931391,
          0.22319723997674626,
          0.18648857521767323,
          0.1640901983224348,
          0.14317470745010233,
          0.1277823841658101,
          0.11521986036883337,
          0.10674911085099575,
          0.09736938639966038,
          0.0912338485549991,
          0.0873359525558151,
          0.08426006054625763,
          0.0822766882554767,
          0.0770967898467087,
          0.07276875021360169,
          0.07044586701292362,
          0.06864631513717323,
          0.06706138176935443
         ],
         "yaxis": "y2"
        },
        {
         "legendgroup": "group-17",
         "line": {
          "color": "#fa0e00"
         },
         "marker": {
          "size": 3,
          "symbol": "diamond"
         },
         "name": "18",
         "showlegend": false,
         "type": "scatter",
         "uid": "3e7e3e0e-ae75-45a3-86c7-102e5123b5b8",
         "x": [
          11000,
          11450,
          11900,
          12350,
          12800,
          13250,
          13700,
          14150,
          14600,
          15050,
          15500,
          15950,
          16400,
          16850,
          17300,
          17750,
          18200,
          18650,
          19100,
          19550,
          20000
         ],
         "xaxis": "x",
         "y": [
          11404.686443357921,
          11550.422153142581,
          11639.138876479621,
          11674.326225183811,
          11643.003281158295,
          11664.227712366752,
          11609.622899066353,
          11571.271663444122,
          11488.505154936476,
          11474.166472237957,
          11444.220668813343,
          11321.687644686788,
          11274.086211426791,
          11214.935163024827,
          11095.7159296552,
          11052.698086925739,
          10967.067499016344,
          10861.628943889627,
          10781.611365120527,
          10666.56171562961
         ],
         "yaxis": "y"
        },
        {
         "legendgroup": "group-17",
         "line": {
          "color": "#fa0e00"
         },
         "marker": {
          "size": 3,
          "symbol": "diamond"
         },
         "name": "18",
         "type": "scatter",
         "uid": "5422922e-4b5c-46b9-a324-b723eebb9607",
         "x": [
          11000,
          11450,
          11900,
          12350,
          12800,
          13250,
          13700,
          14150,
          14600,
          15050,
          15500,
          15950,
          16400,
          16850,
          17300,
          17750,
          18200,
          18650,
          19100,
          19550,
          20000
         ],
         "xaxis": "x2",
         "y": [
          0.4977389437411596,
          0.37634490448691843,
          0.3031115960467388,
          0.25454492611413476,
          0.21950444294686317,
          0.18907039351524565,
          0.16921419174008417,
          0.1526550022612553,
          0.1416435654990689,
          0.12873970376797447,
          0.117732451218215,
          0.11197824402292651,
          0.10441814381550857,
          0.09792972279488406,
          0.09471757943639501,
          0.08914056698650659,
          0.08550392336785954,
          0.08272152497759402,
          0.07954222475461972,
          0.07756336057852237
         ],
         "yaxis": "y2"
        },
        {
         "legendgroup": "group-18",
         "line": {
          "color": "#bd0000"
         },
         "marker": {
          "size": 3,
          "symbol": "diamond"
         },
         "name": "19",
         "showlegend": false,
         "type": "scatter",
         "uid": "c6707d0b-5721-43eb-b4f6-ef08e0aaf2bb",
         "x": [
          11000,
          11450,
          11900,
          12350,
          12800,
          13250,
          13700,
          14150,
          14600,
          15050,
          15500,
          15950,
          16400,
          16850,
          17300,
          17750,
          18200,
          18650,
          19100,
          19550,
          20000
         ],
         "xaxis": "x",
         "y": [
          10732.832305605065,
          10927.532745010047,
          10999.038295987173,
          11120.942823009347,
          11127.283737338126,
          11084.30280676812,
          11069.784812309364,
          11066.322559389619,
          11003.066376252807,
          10955.364192122894,
          10899.736539240288,
          10741.06863236137,
          10710.327383480128,
          10597.496226545389,
          10549.389773662053,
          10465.941519309627,
          10371.370420579678,
          10256.85257100142,
          10163.046966831698,
          10074.690533201088
         ],
         "yaxis": "y"
        },
        {
         "legendgroup": "group-18",
         "line": {
          "color": "#bd0000"
         },
         "marker": {
          "size": 3,
          "symbol": "diamond"
         },
         "name": "19",
         "type": "scatter",
         "uid": "a81afe62-6b5e-4bc5-b9bb-f810349e4400",
         "x": [
          11000,
          11450,
          11900,
          12350,
          12800,
          13250,
          13700,
          14150,
          14600,
          15050,
          15500,
          15950,
          16400,
          16850,
          17300,
          17750,
          18200,
          18650,
          19100,
          19550,
          20000
         ],
         "xaxis": "x2",
         "y": [
          0.44443637159123983,
          0.3301963495493953,
          0.26475209661040167,
          0.21476367292060317,
          0.1841100166964522,
          0.16259081949317192,
          0.143853601724972,
          0.12756474449212685,
          0.11696925559066805,
          0.10710041470268136,
          0.09912187964115514,
          0.09650204436463768,
          0.08985914755672528,
          0.08622238465789246,
          0.08092359794988353,
          0.07737849041147359,
          0.07453157832590498,
          0.07263537854976868,
          0.07025313296079846,
          0.06792936424027783
         ],
         "yaxis": "y2"
        },
        {
         "legendgroup": "group-19",
         "line": {
          "color": "#800000"
         },
         "marker": {
          "size": 3,
          "symbol": "diamond"
         },
         "name": "20",
         "showlegend": false,
         "type": "scatter",
         "uid": "026dc415-2de4-4e83-9e13-4a09407dc04e",
         "x": [
          11000,
          11450,
          11900,
          12350,
          12800,
          13250,
          13700,
          14150,
          14600,
          15050,
          15500,
          15950,
          16400,
          16850,
          17300,
          17750,
          18200,
          18650,
          19100,
          19550,
          20000
         ],
         "xaxis": "x",
         "y": [
          10732.832305605065,
          10927.532745010047,
          10999.038295987173,
          11120.942823009347,
          11127.283737338126,
          11084.30280676812,
          11069.784812309364,
          11066.322559389619,
          11003.066376252807,
          10955.364192122894,
          10899.736539240288,
          10741.06863236137,
          10710.327383480128,
          10597.496226545389,
          10549.389773662053,
          10465.941519309627,
          10371.370420579678,
          10256.85257100142,
          10163.046966831698,
          10074.690533201088
         ],
         "yaxis": "y"
        },
        {
         "legendgroup": "group-19",
         "line": {
          "color": "#800000"
         },
         "marker": {
          "size": 3,
          "symbol": "diamond"
         },
         "name": "20",
         "type": "scatter",
         "uid": "5e99e3e8-7724-41c3-8b1d-eab47ab55766",
         "x": [
          11000,
          11450,
          11900,
          12350,
          12800,
          13250,
          13700,
          14150,
          14600,
          15050,
          15500,
          15950,
          16400,
          16850,
          17300,
          17750,
          18200,
          18650,
          19100,
          19550,
          20000
         ],
         "xaxis": "x2",
         "y": [
          0.44443637159123983,
          0.3301963495493953,
          0.26475209661040167,
          0.21476367292060317,
          0.1841100166964522,
          0.16259081949317192,
          0.143853601724972,
          0.12756474449212685,
          0.11696925559066805,
          0.10710041470268136,
          0.09912187964115514,
          0.09650204436463768,
          0.08985914755672528,
          0.08622238465789246,
          0.08092359794988353,
          0.07737849041147359,
          0.07453157832590498,
          0.07263537854976868,
          0.07025313296079846,
          0.06792936424027783
         ],
         "yaxis": "y2"
        }
       ],
       "_js2py_pointsCallback": {},
       "_js2py_restyle": {},
       "_js2py_update": {},
       "_last_layout_edit_id": 58,
       "_last_trace_edit_id": 48,
       "_layout": {
        "autosize": true,
        "hidesources": true,
        "legend": {
         "title": {
          "text": "iterations"
         },
         "tracegroupgap": 0
        },
        "margin": {
         "b": 80,
         "l": 10,
         "pad": 0,
         "r": 135,
         "t": 25
        },
        "template": {
         "data": {
          "bar": [
           {
            "error_x": {
             "color": "#2a3f5f"
            },
            "error_y": {
             "color": "#2a3f5f"
            },
            "marker": {
             "line": {
              "color": "#E5ECF6",
              "width": 0.5
             }
            },
            "type": "bar"
           }
          ],
          "barpolar": [
           {
            "marker": {
             "line": {
              "color": "#E5ECF6",
              "width": 0.5
             }
            },
            "type": "barpolar"
           }
          ],
          "carpet": [
           {
            "aaxis": {
             "endlinecolor": "#2a3f5f",
             "gridcolor": "white",
             "linecolor": "white",
             "minorgridcolor": "white",
             "startlinecolor": "#2a3f5f"
            },
            "baxis": {
             "endlinecolor": "#2a3f5f",
             "gridcolor": "white",
             "linecolor": "white",
             "minorgridcolor": "white",
             "startlinecolor": "#2a3f5f"
            },
            "type": "carpet"
           }
          ],
          "choropleth": [
           {
            "colorbar": {
             "outlinewidth": 0,
             "ticks": ""
            },
            "type": "choropleth"
           }
          ],
          "contour": [
           {
            "colorbar": {
             "outlinewidth": 0,
             "ticks": ""
            },
            "colorscale": [
             [
              0,
              "#0d0887"
             ],
             [
              0.1111111111111111,
              "#46039f"
             ],
             [
              0.2222222222222222,
              "#7201a8"
             ],
             [
              0.3333333333333333,
              "#9c179e"
             ],
             [
              0.4444444444444444,
              "#bd3786"
             ],
             [
              0.5555555555555556,
              "#d8576b"
             ],
             [
              0.6666666666666666,
              "#ed7953"
             ],
             [
              0.7777777777777778,
              "#fb9f3a"
             ],
             [
              0.8888888888888888,
              "#fdca26"
             ],
             [
              1,
              "#f0f921"
             ]
            ],
            "type": "contour"
           }
          ],
          "contourcarpet": [
           {
            "colorbar": {
             "outlinewidth": 0,
             "ticks": ""
            },
            "type": "contourcarpet"
           }
          ],
          "heatmap": [
           {
            "colorbar": {
             "outlinewidth": 0,
             "ticks": ""
            },
            "colorscale": [
             [
              0,
              "#0d0887"
             ],
             [
              0.1111111111111111,
              "#46039f"
             ],
             [
              0.2222222222222222,
              "#7201a8"
             ],
             [
              0.3333333333333333,
              "#9c179e"
             ],
             [
              0.4444444444444444,
              "#bd3786"
             ],
             [
              0.5555555555555556,
              "#d8576b"
             ],
             [
              0.6666666666666666,
              "#ed7953"
             ],
             [
              0.7777777777777778,
              "#fb9f3a"
             ],
             [
              0.8888888888888888,
              "#fdca26"
             ],
             [
              1,
              "#f0f921"
             ]
            ],
            "type": "heatmap"
           }
          ],
          "heatmapgl": [
           {
            "colorbar": {
             "outlinewidth": 0,
             "ticks": ""
            },
            "colorscale": [
             [
              0,
              "#0d0887"
             ],
             [
              0.1111111111111111,
              "#46039f"
             ],
             [
              0.2222222222222222,
              "#7201a8"
             ],
             [
              0.3333333333333333,
              "#9c179e"
             ],
             [
              0.4444444444444444,
              "#bd3786"
             ],
             [
              0.5555555555555556,
              "#d8576b"
             ],
             [
              0.6666666666666666,
              "#ed7953"
             ],
             [
              0.7777777777777778,
              "#fb9f3a"
             ],
             [
              0.8888888888888888,
              "#fdca26"
             ],
             [
              1,
              "#f0f921"
             ]
            ],
            "type": "heatmapgl"
           }
          ],
          "histogram": [
           {
            "marker": {
             "colorbar": {
              "outlinewidth": 0,
              "ticks": ""
             }
            },
            "type": "histogram"
           }
          ],
          "histogram2d": [
           {
            "colorbar": {
             "outlinewidth": 0,
             "ticks": ""
            },
            "colorscale": [
             [
              0,
              "#0d0887"
             ],
             [
              0.1111111111111111,
              "#46039f"
             ],
             [
              0.2222222222222222,
              "#7201a8"
             ],
             [
              0.3333333333333333,
              "#9c179e"
             ],
             [
              0.4444444444444444,
              "#bd3786"
             ],
             [
              0.5555555555555556,
              "#d8576b"
             ],
             [
              0.6666666666666666,
              "#ed7953"
             ],
             [
              0.7777777777777778,
              "#fb9f3a"
             ],
             [
              0.8888888888888888,
              "#fdca26"
             ],
             [
              1,
              "#f0f921"
             ]
            ],
            "type": "histogram2d"
           }
          ],
          "histogram2dcontour": [
           {
            "colorbar": {
             "outlinewidth": 0,
             "ticks": ""
            },
            "colorscale": [
             [
              0,
              "#0d0887"
             ],
             [
              0.1111111111111111,
              "#46039f"
             ],
             [
              0.2222222222222222,
              "#7201a8"
             ],
             [
              0.3333333333333333,
              "#9c179e"
             ],
             [
              0.4444444444444444,
              "#bd3786"
             ],
             [
              0.5555555555555556,
              "#d8576b"
             ],
             [
              0.6666666666666666,
              "#ed7953"
             ],
             [
              0.7777777777777778,
              "#fb9f3a"
             ],
             [
              0.8888888888888888,
              "#fdca26"
             ],
             [
              1,
              "#f0f921"
             ]
            ],
            "type": "histogram2dcontour"
           }
          ],
          "mesh3d": [
           {
            "colorbar": {
             "outlinewidth": 0,
             "ticks": ""
            },
            "type": "mesh3d"
           }
          ],
          "parcoords": [
           {
            "line": {
             "colorbar": {
              "outlinewidth": 0,
              "ticks": ""
             }
            },
            "type": "parcoords"
           }
          ],
          "pie": [
           {
            "automargin": true,
            "type": "pie"
           }
          ],
          "scatter": [
           {
            "marker": {
             "colorbar": {
              "outlinewidth": 0,
              "ticks": ""
             }
            },
            "type": "scatter"
           }
          ],
          "scatter3d": [
           {
            "line": {
             "colorbar": {
              "outlinewidth": 0,
              "ticks": ""
             }
            },
            "marker": {
             "colorbar": {
              "outlinewidth": 0,
              "ticks": ""
             }
            },
            "type": "scatter3d"
           }
          ],
          "scattercarpet": [
           {
            "marker": {
             "colorbar": {
              "outlinewidth": 0,
              "ticks": ""
             }
            },
            "type": "scattercarpet"
           }
          ],
          "scattergeo": [
           {
            "marker": {
             "colorbar": {
              "outlinewidth": 0,
              "ticks": ""
             }
            },
            "type": "scattergeo"
           }
          ],
          "scattergl": [
           {
            "marker": {
             "colorbar": {
              "outlinewidth": 0,
              "ticks": ""
             }
            },
            "type": "scattergl"
           }
          ],
          "scattermapbox": [
           {
            "marker": {
             "colorbar": {
              "outlinewidth": 0,
              "ticks": ""
             }
            },
            "type": "scattermapbox"
           }
          ],
          "scatterpolar": [
           {
            "marker": {
             "colorbar": {
              "outlinewidth": 0,
              "ticks": ""
             }
            },
            "type": "scatterpolar"
           }
          ],
          "scatterpolargl": [
           {
            "marker": {
             "colorbar": {
              "outlinewidth": 0,
              "ticks": ""
             }
            },
            "type": "scatterpolargl"
           }
          ],
          "scatterternary": [
           {
            "marker": {
             "colorbar": {
              "outlinewidth": 0,
              "ticks": ""
             }
            },
            "type": "scatterternary"
           }
          ],
          "surface": [
           {
            "colorbar": {
             "outlinewidth": 0,
             "ticks": ""
            },
            "colorscale": [
             [
              0,
              "#0d0887"
             ],
             [
              0.1111111111111111,
              "#46039f"
             ],
             [
              0.2222222222222222,
              "#7201a8"
             ],
             [
              0.3333333333333333,
              "#9c179e"
             ],
             [
              0.4444444444444444,
              "#bd3786"
             ],
             [
              0.5555555555555556,
              "#d8576b"
             ],
             [
              0.6666666666666666,
              "#ed7953"
             ],
             [
              0.7777777777777778,
              "#fb9f3a"
             ],
             [
              0.8888888888888888,
              "#fdca26"
             ],
             [
              1,
              "#f0f921"
             ]
            ],
            "type": "surface"
           }
          ],
          "table": [
           {
            "cells": {
             "fill": {
              "color": "#EBF0F8"
             },
             "line": {
              "color": "white"
             }
            },
            "header": {
             "fill": {
              "color": "#C8D4E3"
             },
             "line": {
              "color": "white"
             }
            },
            "type": "table"
           }
          ]
         },
         "layout": {
          "annotationdefaults": {
           "arrowcolor": "#2a3f5f",
           "arrowhead": 0,
           "arrowwidth": 1
          },
          "autotypenumbers": "strict",
          "coloraxis": {
           "colorbar": {
            "outlinewidth": 0,
            "ticks": ""
           }
          },
          "colorscale": {
           "diverging": [
            [
             0,
             "#8e0152"
            ],
            [
             0.1,
             "#c51b7d"
            ],
            [
             0.2,
             "#de77ae"
            ],
            [
             0.3,
             "#f1b6da"
            ],
            [
             0.4,
             "#fde0ef"
            ],
            [
             0.5,
             "#f7f7f7"
            ],
            [
             0.6,
             "#e6f5d0"
            ],
            [
             0.7,
             "#b8e186"
            ],
            [
             0.8,
             "#7fbc41"
            ],
            [
             0.9,
             "#4d9221"
            ],
            [
             1,
             "#276419"
            ]
           ],
           "sequential": [
            [
             0,
             "#0d0887"
            ],
            [
             0.1111111111111111,
             "#46039f"
            ],
            [
             0.2222222222222222,
             "#7201a8"
            ],
            [
             0.3333333333333333,
             "#9c179e"
            ],
            [
             0.4444444444444444,
             "#bd3786"
            ],
            [
             0.5555555555555556,
             "#d8576b"
            ],
            [
             0.6666666666666666,
             "#ed7953"
            ],
            [
             0.7777777777777778,
             "#fb9f3a"
            ],
            [
             0.8888888888888888,
             "#fdca26"
            ],
            [
             1,
             "#f0f921"
            ]
           ],
           "sequentialminus": [
            [
             0,
             "#0d0887"
            ],
            [
             0.1111111111111111,
             "#46039f"
            ],
            [
             0.2222222222222222,
             "#7201a8"
            ],
            [
             0.3333333333333333,
             "#9c179e"
            ],
            [
             0.4444444444444444,
             "#bd3786"
            ],
            [
             0.5555555555555556,
             "#d8576b"
            ],
            [
             0.6666666666666666,
             "#ed7953"
            ],
            [
             0.7777777777777778,
             "#fb9f3a"
            ],
            [
             0.8888888888888888,
             "#fdca26"
            ],
            [
             1,
             "#f0f921"
            ]
           ]
          },
          "colorway": [
           "#636efa",
           "#EF553B",
           "#00cc96",
           "#ab63fa",
           "#FFA15A",
           "#19d3f3",
           "#FF6692",
           "#B6E880",
           "#FF97FF",
           "#FECB52"
          ],
          "font": {
           "color": "#2a3f5f"
          },
          "geo": {
           "bgcolor": "white",
           "lakecolor": "white",
           "landcolor": "#E5ECF6",
           "showlakes": true,
           "showland": true,
           "subunitcolor": "white"
          },
          "hoverlabel": {
           "align": "left"
          },
          "hovermode": "closest",
          "mapbox": {
           "style": "light"
          },
          "paper_bgcolor": "white",
          "plot_bgcolor": "#E5ECF6",
          "polar": {
           "angularaxis": {
            "gridcolor": "white",
            "linecolor": "white",
            "ticks": ""
           },
           "bgcolor": "#E5ECF6",
           "radialaxis": {
            "gridcolor": "white",
            "linecolor": "white",
            "ticks": ""
           }
          },
          "scene": {
           "xaxis": {
            "backgroundcolor": "#E5ECF6",
            "gridcolor": "white",
            "gridwidth": 2,
            "linecolor": "white",
            "showbackground": true,
            "ticks": "",
            "zerolinecolor": "white"
           },
           "yaxis": {
            "backgroundcolor": "#E5ECF6",
            "gridcolor": "white",
            "gridwidth": 2,
            "linecolor": "white",
            "showbackground": true,
            "ticks": "",
            "zerolinecolor": "white"
           },
           "zaxis": {
            "backgroundcolor": "#E5ECF6",
            "gridcolor": "white",
            "gridwidth": 2,
            "linecolor": "white",
            "showbackground": true,
            "ticks": "",
            "zerolinecolor": "white"
           }
          },
          "shapedefaults": {
           "line": {
            "color": "#2a3f5f"
           }
          },
          "ternary": {
           "aaxis": {
            "gridcolor": "white",
            "linecolor": "white",
            "ticks": ""
           },
           "baxis": {
            "gridcolor": "white",
            "linecolor": "white",
            "ticks": ""
           },
           "bgcolor": "#E5ECF6",
           "caxis": {
            "gridcolor": "white",
            "linecolor": "white",
            "ticks": ""
           }
          },
          "title": {
           "x": 0.05
          },
          "xaxis": {
           "automargin": true,
           "gridcolor": "white",
           "linecolor": "white",
           "ticks": "",
           "title": {
            "standoff": 15
           },
           "zerolinecolor": "white",
           "zerolinewidth": 2
          },
          "yaxis": {
           "automargin": true,
           "gridcolor": "white",
           "linecolor": "white",
           "ticks": "",
           "title": {
            "standoff": 15
           },
           "zerolinecolor": "white",
           "zerolinewidth": 2
          }
         }
        },
        "xaxis": {
         "anchor": "y",
         "domain": [
          0,
          0.45
         ],
         "tickformat": "g",
         "title": {
          "text": "$Shell~~Velocity$"
         }
        },
        "xaxis2": {
         "anchor": "y2",
         "domain": [
          0.55,
          1
         ],
         "matches": "x",
         "tickformat": "g",
         "title": {
          "text": "$Shell~~Velocity$"
         }
        },
        "yaxis": {
         "anchor": "x",
         "domain": [
          0,
          1
         ],
         "range": [
          9000,
          14000
         ],
         "tickformat": "g",
         "title": {
          "text": "$T_{rad}\\ [K]$"
         }
        },
        "yaxis2": {
         "anchor": "x2",
         "domain": [
          0,
          1
         ],
         "title": {
          "text": "$W$"
         }
        }
       },
       "_py2js_animate": {},
       "_py2js_deleteTraces": {},
       "_py2js_moveTraces": {},
       "_py2js_removeTraceProps": {},
       "_view_count": 1
      }
     },
     "7b5ab67ee93a440790c122dfc85b20bb": {
      "model_module": "@jupyter-widgets/controls",
      "model_module_version": "1.5.0",
      "model_name": "VBoxModel",
      "state": {
       "children": [
        "IPY_MODEL_790e0c510c97473a8a090b5902a29744",
        "IPY_MODEL_29345e591c504bd191eba93c6d5ee414"
       ],
       "layout": "IPY_MODEL_38066f1596644082bb1f176d944032a6"
      }
     },
     "7dcc0784a3124a5692da3b4eb0ac17a9": {
      "model_module": "@jupyter-widgets/output",
      "model_module_version": "1.0.0",
      "model_name": "OutputModel",
      "state": {
       "layout": "IPY_MODEL_2a5dfb0538574f90bc9f6a890c63dceb",
       "outputs": [
        {
         "data": {
          "text/html": "        <script type=\"text/javascript\">\n        window.PlotlyConfig = {MathJaxConfig: 'local'};\n        if (window.MathJax) {MathJax.Hub.Config({SVG: {font: \"STIX-Web\"}});}\n        if (typeof require !== 'undefined') {\n        require.undef(\"plotly\");\n        requirejs.config({\n            paths: {\n                'plotly': ['https://cdn.plot.ly/plotly-latest.min']\n            }\n        });\n        require(['plotly'], function(Plotly) {\n            window._Plotly = Plotly;\n        });\n        }\n        </script>\n        "
         },
         "metadata": {},
         "output_type": "display_data"
        },
        {
         "data": {
          "text/html": "<div>                            <div id=\"d7588258-c3e7-49df-9a44-916e0f76a4a9\" class=\"plotly-graph-div\" style=\"height:525px; width:100%;\"></div>            <script type=\"text/javascript\">                require([\"plotly\"], function(Plotly) {                    window.PLOTLYENV=window.PLOTLYENV || {};                                    if (document.getElementById(\"d7588258-c3e7-49df-9a44-916e0f76a4a9\")) {                    Plotly.newPlot(                        \"d7588258-c3e7-49df-9a44-916e0f76a4a9\",                        [{\"line\": {\"color\": \"#800000\"}, \"type\": \"scatter\", \"uid\": \"5748c140-1705-4475-a12c-53869ea228ef\", \"xaxis\": \"x\", \"yaxis\": \"y\"}, {\"line\": {\"color\": \"#800000\"}, \"type\": \"scatter\", \"uid\": \"89f06b27-719f-4d4f-9bfe-f154dea4fcee\", \"xaxis\": \"x2\", \"yaxis\": \"y2\"}, {\"legendgroup\": \"group-0\", \"line\": {\"color\": \"#000080\"}, \"marker\": {\"size\": 3, \"symbol\": \"diamond\"}, \"name\": \"1\", \"showlegend\": false, \"type\": \"scatter\", \"uid\": \"6de334b7-6016-4fee-a3c1-5b8b2fe7198d\", \"x\": [11000.0, 11450.0, 11900.0, 12350.0, 12800.0, 13250.0, 13700.0, 14150.0, 14600.0, 15050.0, 15500.0, 15950.0, 16400.0, 16850.0, 17300.0, 17750.0, 18200.0, 18650.0, 19100.0, 19550.0, 20000.0], \"xaxis\": \"x\", \"y\": [10134.733716625742, 10158.894068408064, 10199.163062164183, 10230.988705011776, 10268.95723542248, 10222.890845143002, 10224.33250792895, 10215.304103107928, 10218.67593187541, 10185.463728853065, 10144.46316917108, 10076.87680984274, 10030.209347853815, 10029.018621140542, 9986.944524442715, 9873.477845862937, 9843.334614032237, 9771.609702679261, 9679.524619982089, 9610.209774198473], \"yaxis\": \"y\"}, {\"legendgroup\": \"group-0\", \"line\": {\"color\": \"#000080\"}, \"marker\": {\"size\": 3, \"symbol\": \"diamond\"}, \"name\": \"1\", \"type\": \"scatter\", \"uid\": \"dfd2e8aa-0a4f-43f8-b700-4a470619ba3d\", \"x\": [11000.0, 11450.0, 11900.0, 12350.0, 12800.0, 13250.0, 13700.0, 14150.0, 14600.0, 15050.0, 15500.0, 15950.0, 16400.0, 16850.0, 17300.0, 17750.0, 18200.0, 18650.0, 19100.0, 19550.0, 20000.0], \"xaxis\": \"x2\", \"y\": [0.5082040569581554, 0.3962212763594891, 0.3214185723254649, 0.26560113513158967, 0.22389059993927218, 0.19702589896830255, 0.1749491202529985, 0.1563731541470249, 0.13940960015313733, 0.12795427205030482, 0.11717940936679912, 0.10932218040060024, 0.10303354273987321, 0.09520635540966971, 0.08986506172262776, 0.08694065164106614, 0.082029771070409, 0.07895392034793645, 0.07641285709961215, 0.0734944435056783], \"yaxis\": \"y2\"}, {\"legendgroup\": \"group-1\", \"line\": {\"color\": \"#0000bd\"}, \"marker\": {\"size\": 3, \"symbol\": \"diamond\"}, \"name\": \"2\", \"showlegend\": false, \"type\": \"scatter\", \"uid\": \"de2fcfc0-1144-4a6a-8566-b98dd70f45a7\", \"x\": [11000.0, 11450.0, 11900.0, 12350.0, 12800.0, 13250.0, 13700.0, 14150.0, 14600.0, 15050.0, 15500.0, 15950.0, 16400.0, 16850.0, 17300.0, 17750.0, 18200.0, 18650.0, 19100.0, 19550.0, 20000.0], \"xaxis\": \"x\", \"y\": [11468.021903420027, 11435.999407966676, 11449.930444230995, 11492.65958293691, 11527.299217171007, 11499.835339656465, 11477.276330649498, 11460.659744967303, 11406.161049943823, 11340.543942919201, 11306.370330122183, 11212.548324749032, 11165.15031794662, 11109.460288675331, 11032.751812374603, 10953.828130057926, 10887.89602394496, 10829.273836669769, 10807.478630946254, 10678.472039472606], \"yaxis\": \"y\"}, {\"legendgroup\": \"group-1\", \"line\": {\"color\": \"#0000bd\"}, \"marker\": {\"size\": 3, \"symbol\": \"diamond\"}, \"name\": \"2\", \"type\": \"scatter\", \"uid\": \"82cfdcf8-4ed8-4ee9-8617-e9e8bf82fe51\", \"x\": [11000.0, 11450.0, 11900.0, 12350.0, 12800.0, 13250.0, 13700.0, 14150.0, 14600.0, 15050.0, 15500.0, 15950.0, 16400.0, 16850.0, 17300.0, 17750.0, 18200.0, 18650.0, 19100.0, 19550.0, 20000.0], \"xaxis\": \"x2\", \"y\": [0.5486713034814857, 0.4359667978092499, 0.35745766558351055, 0.29759617877916883, 0.2514052642548386, 0.2213742932983643, 0.1967142119281105, 0.1750139221468986, 0.1596018423150508, 0.14776884435084475, 0.1362910943753445, 0.1282954632603496, 0.11949333047989281, 0.11271924127039863, 0.10796286592870252, 0.10261651657287679, 0.09761052473526158, 0.0925701903122773, 0.08757308797595444, 0.08560372849204283], \"yaxis\": \"y2\"}, {\"legendgroup\": \"group-2\", \"line\": {\"color\": \"#0000fa\"}, \"marker\": {\"size\": 3, \"symbol\": \"diamond\"}, \"name\": \"3\", \"showlegend\": false, \"type\": \"scatter\", \"uid\": \"c982a747-5420-4709-aa74-b24735147296\", \"x\": [11000.0, 11450.0, 11900.0, 12350.0, 12800.0, 13250.0, 13700.0, 14150.0, 14600.0, 15050.0, 15500.0, 15950.0, 16400.0, 16850.0, 17300.0, 17750.0, 18200.0, 18650.0, 19100.0, 19550.0, 20000.0], \"xaxis\": \"x\", \"y\": [10497.008397133988, 10647.412149636564, 10710.555598349812, 10778.428547850966, 10799.157541112727, 10799.075913257297, 10809.366021863923, 10753.851890469936, 10723.18539784127, 10725.950530076656, 10623.433273860508, 10568.227843581686, 10448.426796026406, 10344.129570842591, 10277.247070725653, 10226.187071335817, 10191.522923045857, 10084.749431116139, 9966.774860086334, 9840.487791467045], \"yaxis\": \"y\"}, {\"legendgroup\": \"group-2\", \"line\": {\"color\": \"#0000fa\"}, \"marker\": {\"size\": 3, \"symbol\": \"diamond\"}, \"name\": \"3\", \"type\": \"scatter\", \"uid\": \"27421b73-4e1d-40a3-be82-abe87255e702\", \"x\": [11000.0, 11450.0, 11900.0, 12350.0, 12800.0, 13250.0, 13700.0, 14150.0, 14600.0, 15050.0, 15500.0, 15950.0, 16400.0, 16850.0, 17300.0, 17750.0, 18200.0, 18650.0, 19100.0, 19550.0, 20000.0], \"xaxis\": \"x2\", \"y\": [0.442299407233424, 0.3316155054771363, 0.26819254934335535, 0.22122958128497036, 0.18813327121608667, 0.16428839927198421, 0.1443413401513004, 0.13164698698733832, 0.12013575438192611, 0.1081687026641846, 0.10181996368767447, 0.09492623735431249, 0.09101140062051426, 0.08639163271896758, 0.08220814746497997, 0.07762890235617773, 0.0732750049575765, 0.07106642067401933, 0.06969266984280108, 0.06837630714305266], \"yaxis\": \"y2\"}, {\"legendgroup\": \"group-3\", \"line\": {\"color\": \"#0022ff\"}, \"marker\": {\"size\": 3, \"symbol\": \"diamond\"}, \"name\": \"4\", \"showlegend\": false, \"type\": \"scatter\", \"uid\": \"79c4e356-b322-4e5d-86a8-bf62146b44fb\", \"x\": [11000.0, 11450.0, 11900.0, 12350.0, 12800.0, 13250.0, 13700.0, 14150.0, 14600.0, 15050.0, 15500.0, 15950.0, 16400.0, 16850.0, 17300.0, 17750.0, 18200.0, 18650.0, 19100.0, 19550.0, 20000.0], \"xaxis\": \"x\", \"y\": [11615.34431271539, 11665.123230726764, 11722.631980824826, 11696.759034389528, 11740.274989218244, 11729.411389495828, 11762.93754644142, 11652.44218706302, 11589.11016884437, 11561.496043188794, 11517.190316985118, 11433.020206851419, 11326.42249364519, 11237.973261737088, 11182.841624719184, 11103.37345606317, 10988.381394715301, 10950.081329679253, 10862.947659789317, 10751.855231570007], \"yaxis\": \"y\"}, {\"legendgroup\": \"group-3\", \"line\": {\"color\": \"#0022ff\"}, \"marker\": {\"size\": 3, \"symbol\": \"diamond\"}, \"name\": \"4\", \"type\": \"scatter\", \"uid\": \"19f6aaa3-566e-40a6-8f81-51f00d735077\", \"x\": [11000.0, 11450.0, 11900.0, 12350.0, 12800.0, 13250.0, 13700.0, 14150.0, 14600.0, 15050.0, 15500.0, 15950.0, 16400.0, 16850.0, 17300.0, 17750.0, 18200.0, 18650.0, 19100.0, 19550.0, 20000.0], \"xaxis\": \"x2\", \"y\": [0.4977143593187972, 0.3915904655092031, 0.31518118479289936, 0.26854353604159453, 0.22820910008384737, 0.1992052064914697, 0.1732796396495469, 0.15947664883652757, 0.14579099407466625, 0.1334986840647756, 0.12384871542019993, 0.1163327713735177, 0.11004943343959867, 0.10494577908156115, 0.09880472549683283, 0.09393029340453476, 0.09096244445118767, 0.08630423393331049, 0.08321862769525468, 0.08100093623949862], \"yaxis\": \"y2\"}, {\"legendgroup\": \"group-4\", \"line\": {\"color\": \"#0057ff\"}, \"marker\": {\"size\": 3, \"symbol\": \"diamond\"}, \"name\": \"5\", \"showlegend\": false, \"type\": \"scatter\", \"uid\": \"47bc07f9-9618-48b3-9570-b8dd75784f77\", \"x\": [11000.0, 11450.0, 11900.0, 12350.0, 12800.0, 13250.0, 13700.0, 14150.0, 14600.0, 15050.0, 15500.0, 15950.0, 16400.0, 16850.0, 17300.0, 17750.0, 18200.0, 18650.0, 19100.0, 19550.0, 20000.0], \"xaxis\": \"x\", \"y\": [10549.51412848435, 10759.565074180144, 10894.663638012831, 10932.865203687254, 10930.709069978382, 10919.073481210131, 10877.07525272697, 10810.824269258308, 10785.603108487141, 10727.31310966391, 10697.303299672532, 10711.257210371086, 10551.734446150795, 10490.892524557958, 10416.933630770685, 10379.863072642813, 10279.630106699515, 10220.453729533758, 10077.475484616278, 9927.285882427788], \"yaxis\": \"y\"}, {\"legendgroup\": \"group-4\", \"line\": {\"color\": \"#0057ff\"}, \"marker\": {\"size\": 3, \"symbol\": \"diamond\"}, \"name\": \"5\", \"type\": \"scatter\", \"uid\": \"95b3cbbf-a8ce-4ac7-b682-61458ee29c22\", \"x\": [11000.0, 11450.0, 11900.0, 12350.0, 12800.0, 13250.0, 13700.0, 14150.0, 14600.0, 15050.0, 15500.0, 15950.0, 16400.0, 16850.0, 17300.0, 17750.0, 18200.0, 18650.0, 19100.0, 19550.0, 20000.0], \"xaxis\": \"x2\", \"y\": [0.4434406663593859, 0.329565789368522, 0.26010890450064733, 0.2159881056247415, 0.1854070420834862, 0.16219891903074657, 0.14560372598880475, 0.13326787384388758, 0.11999931339731698, 0.11025218829721785, 0.1012892218335092, 0.09247037462403469, 0.08933312170132374, 0.08413052869637083, 0.07995660682274036, 0.07537221197763783, 0.07252173631498261, 0.06901139800647034, 0.06809975749337623, 0.06735205229901337], \"yaxis\": \"y2\"}, {\"legendgroup\": \"group-5\", \"line\": {\"color\": \"#008dff\"}, \"marker\": {\"size\": 3, \"symbol\": \"diamond\"}, \"name\": \"6\", \"showlegend\": false, \"type\": \"scatter\", \"uid\": \"96b2f801-dd5e-4dd0-af96-256d92ab7829\", \"x\": [11000.0, 11450.0, 11900.0, 12350.0, 12800.0, 13250.0, 13700.0, 14150.0, 14600.0, 15050.0, 15500.0, 15950.0, 16400.0, 16850.0, 17300.0, 17750.0, 18200.0, 18650.0, 19100.0, 19550.0, 20000.0], \"xaxis\": \"x\", \"y\": [11567.208184336641, 11613.025123050538, 11683.328827353047, 11693.104708830946, 11724.278325269526, 11653.124120929953, 11612.65021223817, 11609.82892873756, 11614.580326945592, 11546.462389124263, 11425.95501009532, 11375.048998512899, 11315.818140434149, 11225.578780782147, 11120.449864009748, 11082.155937788912, 10987.868514296186, 10920.442550504482, 10834.92855121022, 10735.503852801117], \"yaxis\": \"y\"}, {\"legendgroup\": \"group-5\", \"line\": {\"color\": \"#008dff\"}, \"marker\": {\"size\": 3, \"symbol\": \"diamond\"}, \"name\": \"6\", \"type\": \"scatter\", \"uid\": \"ca74756d-10ca-4aec-bd76-42b0e27fe43e\", \"x\": [11000.0, 11450.0, 11900.0, 12350.0, 12800.0, 13250.0, 13700.0, 14150.0, 14600.0, 15050.0, 15500.0, 15950.0, 16400.0, 16850.0, 17300.0, 17750.0, 18200.0, 18650.0, 19100.0, 19550.0, 20000.0], \"xaxis\": \"x2\", \"y\": [0.5041776548110584, 0.39023406927746374, 0.3175388504350529, 0.2668923064824901, 0.22560807776675992, 0.203042144204494, 0.18189522000862068, 0.16135829264739318, 0.14556836273965668, 0.13371966659083212, 0.12524940621974714, 0.11754876564474895, 0.11015802998525885, 0.10441164070595735, 0.09931347804630662, 0.09402786959361889, 0.09062541591197751, 0.08647506254390502, 0.08333888504337562, 0.08065101681509353], \"yaxis\": \"y2\"}, {\"legendgroup\": \"group-6\", \"line\": {\"color\": \"#00c3ff\"}, \"marker\": {\"size\": 3, \"symbol\": \"diamond\"}, \"name\": \"7\", \"showlegend\": false, \"type\": \"scatter\", \"uid\": \"730649f0-47bb-4b4d-8262-773b17d0f193\", \"x\": [11000.0, 11450.0, 11900.0, 12350.0, 12800.0, 13250.0, 13700.0, 14150.0, 14600.0, 15050.0, 15500.0, 15950.0, 16400.0, 16850.0, 17300.0, 17750.0, 18200.0, 18650.0, 19100.0, 19550.0, 20000.0], \"xaxis\": \"x\", \"y\": [10569.74740334304, 10778.034968335256, 10902.99080443269, 10989.797314359694, 11047.113446219639, 11099.194259237403, 11016.051305801364, 10966.513171670935, 10947.55947416353, 10934.581362699615, 10809.397890448754, 10698.341230707349, 10636.972622756153, 10581.99648087922, 10532.222759856093, 10454.841299228276, 10338.205644915452, 10252.881876072242, 10087.404942797337, 9969.196423563208], \"yaxis\": \"y\"}, {\"legendgroup\": \"group-6\", \"line\": {\"color\": \"#00c3ff\"}, \"marker\": {\"size\": 3, \"symbol\": \"diamond\"}, \"name\": \"7\", \"type\": \"scatter\", \"uid\": \"a89fe217-0b4e-4d5a-9a67-f9c2b89b462a\", \"x\": [11000.0, 11450.0, 11900.0, 12350.0, 12800.0, 13250.0, 13700.0, 14150.0, 14600.0, 15050.0, 15500.0, 15950.0, 16400.0, 16850.0, 17300.0, 17750.0, 18200.0, 18650.0, 19100.0, 19550.0, 20000.0], \"xaxis\": \"x2\", \"y\": [0.4422900724363882, 0.32572087182053455, 0.25608363121508193, 0.20917551310840277, 0.17856281204684143, 0.1532534478801237, 0.1389841189692777, 0.1262357056609694, 0.11375261901807446, 0.10290814628079882, 0.09725630417756266, 0.09284460200253164, 0.0871069617423461, 0.0816250729899891, 0.07729032592235478, 0.07380941869099045, 0.07152054892238287, 0.06908445244271275, 0.06851046721770122, 0.06692890210588077], \"yaxis\": \"y2\"}, {\"legendgroup\": \"group-7\", \"line\": {\"color\": \"#0ff8e8\"}, \"marker\": {\"size\": 3, \"symbol\": \"diamond\"}, \"name\": \"8\", \"showlegend\": false, \"type\": \"scatter\", \"uid\": \"258b1695-7ce4-49ca-884d-528121b755ff\", \"x\": [11000.0, 11450.0, 11900.0, 12350.0, 12800.0, 13250.0, 13700.0, 14150.0, 14600.0, 15050.0, 15500.0, 15950.0, 16400.0, 16850.0, 17300.0, 17750.0, 18200.0, 18650.0, 19100.0, 19550.0, 20000.0], \"xaxis\": \"x\", \"y\": [11547.678161996797, 11623.874786176679, 11731.044716907294, 11760.25509798027, 11744.698977086615, 11669.73950817632, 11644.121670479833, 11594.304643594436, 11525.864522224016, 11493.832801176886, 11493.569589639628, 11391.455575577864, 11294.144464329282, 11274.715359901778, 11177.405492194264, 11083.76958592225, 11033.949307567013, 10945.602385267846, 10830.938212361745, 10712.245869588583], \"yaxis\": \"y\"}, {\"legendgroup\": \"group-7\", \"line\": {\"color\": \"#0ff8e8\"}, \"marker\": {\"size\": 3, \"symbol\": \"diamond\"}, \"name\": \"8\", \"type\": \"scatter\", \"uid\": \"793f37e2-2901-4031-8154-6385f9866aca\", \"x\": [11000.0, 11450.0, 11900.0, 12350.0, 12800.0, 13250.0, 13700.0, 14150.0, 14600.0, 15050.0, 15500.0, 15950.0, 16400.0, 16850.0, 17300.0, 17750.0, 18200.0, 18650.0, 19100.0, 19550.0, 20000.0], \"xaxis\": \"x2\", \"y\": [0.5003453146367499, 0.38382149418984424, 0.3046144240522065, 0.25655030086043534, 0.22316143817180586, 0.1983376255429574, 0.17627463164764823, 0.16038371517158478, 0.14647197836539907, 0.13388777429772944, 0.12191469474588634, 0.11483702826414072, 0.10939033073711928, 0.1016253554908811, 0.09688786513696965, 0.09283396230842705, 0.08787816010814403, 0.08454191425058025, 0.08203925347737268, 0.0802404176236165], \"yaxis\": \"y2\"}, {\"legendgroup\": \"group-8\", \"line\": {\"color\": \"#3affbc\"}, \"marker\": {\"size\": 3, \"symbol\": \"diamond\"}, \"name\": \"9\", \"showlegend\": false, \"type\": \"scatter\", \"uid\": \"22866e2a-1966-4e83-a342-ee700b2f6725\", \"x\": [11000.0, 11450.0, 11900.0, 12350.0, 12800.0, 13250.0, 13700.0, 14150.0, 14600.0, 15050.0, 15500.0, 15950.0, 16400.0, 16850.0, 17300.0, 17750.0, 18200.0, 18650.0, 19100.0, 19550.0, 20000.0], \"xaxis\": \"x\", \"y\": [10635.099216825016, 10811.018798823196, 10933.638973465304, 10979.717070479548, 11020.403776787787, 11035.731463947244, 10938.265121115064, 10845.596613320555, 10800.731975199556, 10763.639570847956, 10717.471486460141, 10707.496982070452, 10660.60682399312, 10573.357547773094, 10472.700868373204, 10404.049299323693, 10290.698637903408, 10218.265955052706, 10108.378593633912, 9988.315668041098], \"yaxis\": \"y\"}, {\"legendgroup\": \"group-8\", \"line\": {\"color\": \"#3affbc\"}, \"marker\": {\"size\": 3, \"symbol\": \"diamond\"}, \"name\": \"9\", \"type\": \"scatter\", \"uid\": \"d6da2861-6535-4a03-804f-22c41449720e\", \"x\": [11000.0, 11450.0, 11900.0, 12350.0, 12800.0, 13250.0, 13700.0, 14150.0, 14600.0, 15050.0, 15500.0, 15950.0, 16400.0, 16850.0, 17300.0, 17750.0, 18200.0, 18650.0, 19100.0, 19550.0, 20000.0], \"xaxis\": \"x2\", \"y\": [0.43952006761780843, 0.327268984776419, 0.2606464861341183, 0.21628196882829448, 0.18251989124968382, 0.15831982713481618, 0.14420700235789413, 0.1319104825157537, 0.11992662887673335, 0.11051812652760704, 0.10164157832326394, 0.0935169832842306, 0.08702393919783383, 0.08275717669259847, 0.07958674997930451, 0.07579438452066575, 0.07337972954768164, 0.07043279263704051, 0.06849589481058935, 0.06699933221108373], \"yaxis\": \"y2\"}, {\"legendgroup\": \"group-9\", \"line\": {\"color\": \"#66ff91\"}, \"marker\": {\"size\": 3, \"symbol\": \"diamond\"}, \"name\": \"10\", \"showlegend\": false, \"type\": \"scatter\", \"uid\": \"4fa60eb3-40e2-41bf-8b0d-a3cf7bc847b2\", \"x\": [11000.0, 11450.0, 11900.0, 12350.0, 12800.0, 13250.0, 13700.0, 14150.0, 14600.0, 15050.0, 15500.0, 15950.0, 16400.0, 16850.0, 17300.0, 17750.0, 18200.0, 18650.0, 19100.0, 19550.0, 20000.0], \"xaxis\": \"x\", \"y\": [11500.55767773097, 11637.546429690152, 11663.40617042992, 11724.968508662445, 11714.760546184587, 11715.267405819095, 11601.494346275227, 11508.240345570224, 11502.488963193151, 11497.386422527972, 11451.270656305627, 11400.159576989896, 11327.524225636038, 11287.892223234016, 11179.325846630562, 11094.423438456082, 10990.648087308033, 10925.434399972431, 10815.564131433573, 10706.177796255937], \"yaxis\": \"y\"}, {\"legendgroup\": \"group-9\", \"line\": {\"color\": \"#66ff91\"}, \"marker\": {\"size\": 3, \"symbol\": \"diamond\"}, \"name\": \"10\", \"type\": \"scatter\", \"uid\": \"ff96c8b9-cd40-480e-8cd4-4d7cb3843512\", \"x\": [11000.0, 11450.0, 11900.0, 12350.0, 12800.0, 13250.0, 13700.0, 14150.0, 14600.0, 15050.0, 15500.0, 15950.0, 16400.0, 16850.0, 17300.0, 17750.0, 18200.0, 18650.0, 19100.0, 19550.0, 20000.0], \"xaxis\": \"x2\", \"y\": [0.5068949392970965, 0.38221104971484254, 0.31487414577388056, 0.2621151190162536, 0.22619764203242226, 0.1966896714263117, 0.17976793731845225, 0.16527279232801473, 0.14785746043356635, 0.13387433613614877, 0.1232425999868199, 0.1146829697056732, 0.10741488616862097, 0.10056120171965181, 0.09622391591057, 0.0922429076610291, 0.0891060122843892, 0.08532979760583174, 0.08271120381699126, 0.08030516190365557], \"yaxis\": \"y2\"}, {\"legendgroup\": \"group-10\", \"line\": {\"color\": \"#91ff66\"}, \"marker\": {\"size\": 3, \"symbol\": \"diamond\"}, \"name\": \"11\", \"showlegend\": false, \"type\": \"scatter\", \"uid\": \"eec75a43-4f69-46fd-8c70-67321b2fefb9\", \"x\": [11000.0, 11450.0, 11900.0, 12350.0, 12800.0, 13250.0, 13700.0, 14150.0, 14600.0, 15050.0, 15500.0, 15950.0, 16400.0, 16850.0, 17300.0, 17750.0, 18200.0, 18650.0, 19100.0, 19550.0, 20000.0], \"xaxis\": \"x\", \"y\": [10570.856509263214, 10736.442568836415, 10856.868647968908, 10979.906697012919, 10953.700434670503, 10957.336276077183, 10966.459695386746, 10949.857847026873, 10898.17650137722, 10912.847154692829, 10916.410390590076, 10804.79013541429, 10642.721757219706, 10673.950209699196, 10562.15537191637, 10441.053929477466, 10375.82143773825, 10218.808094852784, 10128.925286201786, 9982.977583607197], \"yaxis\": \"y\"}, {\"legendgroup\": \"group-10\", \"line\": {\"color\": \"#91ff66\"}, \"marker\": {\"size\": 3, \"symbol\": \"diamond\"}, \"name\": \"11\", \"type\": \"scatter\", \"uid\": \"ab35945e-af57-483e-a35c-a1a6720eb817\", \"x\": [11000.0, 11450.0, 11900.0, 12350.0, 12800.0, 13250.0, 13700.0, 14150.0, 14600.0, 15050.0, 15500.0, 15950.0, 16400.0, 16850.0, 17300.0, 17750.0, 18200.0, 18650.0, 19100.0, 19550.0, 20000.0], \"xaxis\": \"x2\", \"y\": [0.44592562360298593, 0.331726124200421, 0.2626860334726053, 0.21445158567301176, 0.1874369354198379, 0.16283699173812993, 0.14343516576688212, 0.1288301921728002, 0.11742933862073758, 0.10551038169028196, 0.09622856527804761, 0.0908415597305189, 0.08819161384785737, 0.08047832421527892, 0.07731272727040164, 0.07502560062315754, 0.07149678574153981, 0.07062712405261021, 0.06830828451008499, 0.0675509962637582], \"yaxis\": \"y2\"}, {\"legendgroup\": \"group-11\", \"line\": {\"color\": \"#bcff3a\"}, \"marker\": {\"size\": 3, \"symbol\": \"diamond\"}, \"name\": \"12\", \"showlegend\": false, \"type\": \"scatter\", \"uid\": \"8faad41d-1bbb-41e1-8aad-27c964aad7be\", \"x\": [11000.0, 11450.0, 11900.0, 12350.0, 12800.0, 13250.0, 13700.0, 14150.0, 14600.0, 15050.0, 15500.0, 15950.0, 16400.0, 16850.0, 17300.0, 17750.0, 18200.0, 18650.0, 19100.0, 19550.0, 20000.0], \"xaxis\": \"x\", \"y\": [11533.554418901995, 11597.331479911461, 11657.889585168934, 11762.268748636763, 11775.917513051456, 11764.967895422506, 11676.073086637227, 11650.112617143857, 11594.258946050913, 11522.736351585567, 11444.191999379364, 11366.855615514283, 11333.428810955658, 11291.115455484682, 11165.546445726966, 11084.736032809735, 11050.699407674529, 10978.54248596981, 10849.291930009682, 10738.957956164411], \"yaxis\": \"y\"}, {\"legendgroup\": \"group-11\", \"line\": {\"color\": \"#bcff3a\"}, \"marker\": {\"size\": 3, \"symbol\": \"diamond\"}, \"name\": \"12\", \"type\": \"scatter\", \"uid\": \"2b05ec7b-0003-4989-9835-7e2f836c945e\", \"x\": [11000.0, 11450.0, 11900.0, 12350.0, 12800.0, 13250.0, 13700.0, 14150.0, 14600.0, 15050.0, 15500.0, 15950.0, 16400.0, 16850.0, 17300.0, 17750.0, 18200.0, 18650.0, 19100.0, 19550.0, 20000.0], \"xaxis\": \"x2\", \"y\": [0.4948141939783134, 0.38257284907522643, 0.31106318084797985, 0.25245973709763675, 0.21581879433960166, 0.1894638080925602, 0.1719798978313757, 0.15370692887596543, 0.140611753786461, 0.13022103911735378, 0.12114965913477613, 0.1134082040590886, 0.10508702258326932, 0.09835950384020824, 0.09505240961204943, 0.09082482658920112, 0.08538454480911349, 0.08166191691747998, 0.0799399239764927, 0.07767439247279284], \"yaxis\": \"y2\"}, {\"legendgroup\": \"group-12\", \"line\": {\"color\": \"#e8ff0f\"}, \"marker\": {\"size\": 3, \"symbol\": \"diamond\"}, \"name\": \"13\", \"showlegend\": false, \"type\": \"scatter\", \"uid\": \"1d93363b-1906-4b2f-8bc5-fec6d4bd1b0d\", \"x\": [11000.0, 11450.0, 11900.0, 12350.0, 12800.0, 13250.0, 13700.0, 14150.0, 14600.0, 15050.0, 15500.0, 15950.0, 16400.0, 16850.0, 17300.0, 17750.0, 18200.0, 18650.0, 19100.0, 19550.0, 20000.0], \"xaxis\": \"x\", \"y\": [10680.784661378812, 10845.542429380755, 10944.815192934726, 10993.087317815412, 11012.940076484394, 10887.379427963211, 10983.662316167121, 11024.751388763907, 10943.797478820637, 10891.467325909394, 10825.79202489999, 10805.557529364292, 10706.591895210207, 10571.784653112927, 10496.275695177474, 10402.1202278362, 10301.441469400985, 10238.491096739823, 10147.574803160998, 10007.566464221134], \"yaxis\": \"y\"}, {\"legendgroup\": \"group-12\", \"line\": {\"color\": \"#e8ff0f\"}, \"marker\": {\"size\": 3, \"symbol\": \"diamond\"}, \"name\": \"13\", \"type\": \"scatter\", \"uid\": \"30300008-7d1d-4f5a-9108-737322787e18\", \"x\": [11000.0, 11450.0, 11900.0, 12350.0, 12800.0, 13250.0, 13700.0, 14150.0, 14600.0, 15050.0, 15500.0, 15950.0, 16400.0, 16850.0, 17300.0, 17750.0, 18200.0, 18650.0, 19100.0, 19550.0, 20000.0], \"xaxis\": \"x2\", \"y\": [0.4392810715699427, 0.32903573292536575, 0.2641712463741873, 0.2199520853515653, 0.18797841086098377, 0.170137181865149, 0.14523399235417983, 0.12811695433348316, 0.11796293005695968, 0.10851866860126855, 0.10078020724639422, 0.09253446911219322, 0.08798570551552642, 0.08508103522642106, 0.0807247405411672, 0.07763414575866073, 0.07474110201651679, 0.0714984171727841, 0.0694441864787546, 0.06840896856885523], \"yaxis\": \"y2\"}, {\"legendgroup\": \"group-13\", \"line\": {\"color\": \"#ffd500\"}, \"marker\": {\"size\": 3, \"symbol\": \"diamond\"}, \"name\": \"14\", \"showlegend\": false, \"type\": \"scatter\", \"uid\": \"2664d0a1-16a1-410b-9aec-f4527472a756\", \"x\": [11000.0, 11450.0, 11900.0, 12350.0, 12800.0, 13250.0, 13700.0, 14150.0, 14600.0, 15050.0, 15500.0, 15950.0, 16400.0, 16850.0, 17300.0, 17750.0, 18200.0, 18650.0, 19100.0, 19550.0, 20000.0], \"xaxis\": \"x\", \"y\": [11437.1881296405, 11528.701578025972, 11640.449468780576, 11710.818603845562, 11646.852339390707, 11571.106855857402, 11529.130018047732, 11506.724477504918, 11494.473536577672, 11432.760918872278, 11378.137918263288, 11302.85507985749, 11244.631327203226, 11103.724838190863, 11017.941987416276, 10957.21181370234, 10894.703106138699, 10810.029601198734, 10701.185949495191, 10638.391439708332], \"yaxis\": \"y\"}, {\"legendgroup\": \"group-13\", \"line\": {\"color\": \"#ffd500\"}, \"marker\": {\"size\": 3, \"symbol\": \"diamond\"}, \"name\": \"14\", \"type\": \"scatter\", \"uid\": \"d6c6ba35-1c0c-49b8-9a6c-cd386f39b17a\", \"x\": [11000.0, 11450.0, 11900.0, 12350.0, 12800.0, 13250.0, 13700.0, 14150.0, 14600.0, 15050.0, 15500.0, 15950.0, 16400.0, 16850.0, 17300.0, 17750.0, 18200.0, 18650.0, 19100.0, 19550.0, 20000.0], \"xaxis\": \"x2\", \"y\": [0.496748999005708, 0.3812215660301211, 0.30281560573624655, 0.2509255408599759, 0.22073539638977296, 0.19671394396283887, 0.1757145473403329, 0.15768917292428547, 0.14088198326667611, 0.13004325009218778, 0.12095401797605762, 0.11383288002950714, 0.10689215533606816, 0.10296885131622671, 0.09780859456526698, 0.09289643546287567, 0.08854171082989812, 0.08517563107205485, 0.08229688721693082, 0.07896773667540807], \"yaxis\": \"y2\"}, {\"legendgroup\": \"group-14\", \"line\": {\"color\": \"#ffa400\"}, \"marker\": {\"size\": 3, \"symbol\": \"diamond\"}, \"name\": \"15\", \"showlegend\": false, \"type\": \"scatter\", \"uid\": \"871c628b-343a-41aa-a69b-b62211053654\", \"x\": [11000.0, 11450.0, 11900.0, 12350.0, 12800.0, 13250.0, 13700.0, 14150.0, 14600.0, 15050.0, 15500.0, 15950.0, 16400.0, 16850.0, 17300.0, 17750.0, 18200.0, 18650.0, 19100.0, 19550.0, 20000.0], \"xaxis\": \"x\", \"y\": [10637.774893389853, 10870.528741129221, 10979.20752094891, 11029.889850247846, 11017.830301775746, 11002.647926802321, 11063.176163639557, 11043.320343340587, 10953.590586704851, 10884.149702433244, 10832.042108059699, 10746.120711685187, 10638.764813827649, 10558.09227679894, 10449.107297019238, 10350.60274211199, 10298.783130265036, 10276.173311434013, 10189.139086635258, 10056.484838218224], \"yaxis\": \"y\"}, {\"legendgroup\": \"group-14\", \"line\": {\"color\": \"#ffa400\"}, \"marker\": {\"size\": 3, \"symbol\": \"diamond\"}, \"name\": \"15\", \"type\": \"scatter\", \"uid\": \"2739dc5a-0a8c-4a1c-9acd-aa8e960e26d5\", \"x\": [11000.0, 11450.0, 11900.0, 12350.0, 12800.0, 13250.0, 13700.0, 14150.0, 14600.0, 15050.0, 15500.0, 15950.0, 16400.0, 16850.0, 17300.0, 17750.0, 18200.0, 18650.0, 19100.0, 19550.0, 20000.0], \"xaxis\": \"x2\", \"y\": [0.4526680078126913, 0.33058475741331017, 0.26470724647387744, 0.21904485046383979, 0.188818847281167, 0.16619738171025455, 0.14364374771990304, 0.12786787360034071, 0.11791465883989272, 0.10890874790265448, 0.10128370560742415, 0.09532106076096122, 0.09066498376561384, 0.08579078573787756, 0.0823404365028928, 0.07946786802086912, 0.07534113146002487, 0.0712852113867502, 0.06888107318726494, 0.06764365885322746], \"yaxis\": \"y2\"}, {\"legendgroup\": \"group-15\", \"line\": {\"color\": \"#ff7200\"}, \"marker\": {\"size\": 3, \"symbol\": \"diamond\"}, \"name\": \"16\", \"showlegend\": false, \"type\": \"scatter\", \"uid\": \"407c935e-87d2-4d31-95bd-940e7a50da13\", \"x\": [11000.0, 11450.0, 11900.0, 12350.0, 12800.0, 13250.0, 13700.0, 14150.0, 14600.0, 15050.0, 15500.0, 15950.0, 16400.0, 16850.0, 17300.0, 17750.0, 18200.0, 18650.0, 19100.0, 19550.0, 20000.0], \"xaxis\": \"x\", \"y\": [11420.979987138982, 11498.337813102757, 11639.50519134857, 11664.640617469393, 11701.728912830438, 11711.923994447285, 11712.746596833955, 11591.269112378643, 11449.641897841511, 11435.511892435268, 11421.346117783407, 11334.210896883855, 11278.258459816647, 11196.477817740706, 11110.138994066976, 11076.434179727443, 10994.477287359596, 10901.218261650312, 10835.518224745436, 10711.037322641674], \"yaxis\": \"y\"}, {\"legendgroup\": \"group-15\", \"line\": {\"color\": \"#ff7200\"}, \"marker\": {\"size\": 3, \"symbol\": \"diamond\"}, \"name\": \"16\", \"type\": \"scatter\", \"uid\": \"6f472a3f-bced-4275-8009-57184b85cff8\", \"x\": [11000.0, 11450.0, 11900.0, 12350.0, 12800.0, 13250.0, 13700.0, 14150.0, 14600.0, 15050.0, 15500.0, 15950.0, 16400.0, 16850.0, 17300.0, 17750.0, 18200.0, 18650.0, 19100.0, 19550.0, 20000.0], \"xaxis\": \"x2\", \"y\": [0.499488409187315, 0.3838690951817617, 0.3021805815991795, 0.2514540281230128, 0.21646073068279542, 0.18685687485230784, 0.1645500999365563, 0.15175502590148646, 0.14351458248462712, 0.1299336743288275, 0.119700298487092, 0.11242807247877903, 0.1050015370491853, 0.10013529821734288, 0.0953538109300313, 0.08940156113165973, 0.08572755303725668, 0.08269382665953516, 0.078848332684631, 0.07701183515664956], \"yaxis\": \"y2\"}, {\"legendgroup\": \"group-16\", \"line\": {\"color\": \"#ff4000\"}, \"marker\": {\"size\": 3, \"symbol\": \"diamond\"}, \"name\": \"17\", \"showlegend\": false, \"type\": \"scatter\", \"uid\": \"4bfa5d4b-c5ed-4880-b062-595ba16c3623\", \"x\": [11000.0, 11450.0, 11900.0, 12350.0, 12800.0, 13250.0, 13700.0, 14150.0, 14600.0, 15050.0, 15500.0, 15950.0, 16400.0, 16850.0, 17300.0, 17750.0, 18200.0, 18650.0, 19100.0, 19550.0, 20000.0], \"xaxis\": \"x\", \"y\": [10691.849844972343, 10881.252759643585, 11024.600489102355, 11008.926530015478, 11076.894883262032, 11042.045711965855, 11063.168036579458, 11070.578559634352, 11044.691764194673, 10970.651612456735, 10980.886609307676, 10896.00342966283, 10767.599990699178, 10635.613994162504, 10472.846994215468, 10456.66200657222, 10434.295581872158, 10327.027592056353, 10213.726635393015, 10093.310125127553], \"yaxis\": \"y\"}, {\"legendgroup\": \"group-16\", \"line\": {\"color\": \"#ff4000\"}, \"marker\": {\"size\": 3, \"symbol\": \"diamond\"}, \"name\": \"17\", \"type\": \"scatter\", \"uid\": \"144e4dd3-f602-4ed5-b7f4-ba9b8eb34ffc\", \"x\": [11000.0, 11450.0, 11900.0, 12350.0, 12800.0, 13250.0, 13700.0, 14150.0, 14600.0, 15050.0, 15500.0, 15950.0, 16400.0, 16850.0, 17300.0, 17750.0, 18200.0, 18650.0, 19100.0, 19550.0, 20000.0], \"xaxis\": \"x2\", \"y\": [0.44748184768936483, 0.33018100359144903, 0.2613079590931391, 0.22319723997674626, 0.18648857521767323, 0.1640901983224348, 0.14317470745010233, 0.1277823841658101, 0.11521986036883337, 0.10674911085099575, 0.09736938639966038, 0.0912338485549991, 0.0873359525558151, 0.08426006054625763, 0.0822766882554767, 0.0770967898467087, 0.07276875021360169, 0.07044586701292362, 0.06864631513717323, 0.06706138176935443], \"yaxis\": \"y2\"}, {\"legendgroup\": \"group-17\", \"line\": {\"color\": \"#fa0e00\"}, \"marker\": {\"size\": 3, \"symbol\": \"diamond\"}, \"name\": \"18\", \"showlegend\": false, \"type\": \"scatter\", \"uid\": \"c2418dad-f625-466b-8cbc-ea4b6fbf0ad9\", \"x\": [11000.0, 11450.0, 11900.0, 12350.0, 12800.0, 13250.0, 13700.0, 14150.0, 14600.0, 15050.0, 15500.0, 15950.0, 16400.0, 16850.0, 17300.0, 17750.0, 18200.0, 18650.0, 19100.0, 19550.0, 20000.0], \"xaxis\": \"x\", \"y\": [11404.686443357921, 11550.422153142581, 11639.138876479621, 11674.326225183811, 11643.003281158295, 11664.227712366752, 11609.622899066353, 11571.271663444122, 11488.505154936476, 11474.166472237957, 11444.220668813343, 11321.687644686788, 11274.086211426791, 11214.935163024827, 11095.7159296552, 11052.698086925739, 10967.067499016344, 10861.628943889627, 10781.611365120527, 10666.56171562961], \"yaxis\": \"y\"}, {\"legendgroup\": \"group-17\", \"line\": {\"color\": \"#fa0e00\"}, \"marker\": {\"size\": 3, \"symbol\": \"diamond\"}, \"name\": \"18\", \"type\": \"scatter\", \"uid\": \"f3c1ab5a-097a-4b41-8aac-c78250de42e8\", \"x\": [11000.0, 11450.0, 11900.0, 12350.0, 12800.0, 13250.0, 13700.0, 14150.0, 14600.0, 15050.0, 15500.0, 15950.0, 16400.0, 16850.0, 17300.0, 17750.0, 18200.0, 18650.0, 19100.0, 19550.0, 20000.0], \"xaxis\": \"x2\", \"y\": [0.4977389437411596, 0.37634490448691843, 0.3031115960467388, 0.25454492611413476, 0.21950444294686317, 0.18907039351524565, 0.16921419174008417, 0.1526550022612553, 0.1416435654990689, 0.12873970376797447, 0.117732451218215, 0.11197824402292651, 0.10441814381550857, 0.09792972279488406, 0.09471757943639501, 0.08914056698650659, 0.08550392336785954, 0.08272152497759402, 0.07954222475461972, 0.07756336057852237], \"yaxis\": \"y2\"}, {\"legendgroup\": \"group-18\", \"line\": {\"color\": \"#bd0000\"}, \"marker\": {\"size\": 3, \"symbol\": \"diamond\"}, \"name\": \"19\", \"showlegend\": false, \"type\": \"scatter\", \"uid\": \"d94f0419-c621-401f-9b4f-fdcd62a15fa0\", \"x\": [11000.0, 11450.0, 11900.0, 12350.0, 12800.0, 13250.0, 13700.0, 14150.0, 14600.0, 15050.0, 15500.0, 15950.0, 16400.0, 16850.0, 17300.0, 17750.0, 18200.0, 18650.0, 19100.0, 19550.0, 20000.0], \"xaxis\": \"x\", \"y\": [10732.832305605065, 10927.532745010047, 10999.038295987173, 11120.942823009347, 11127.283737338126, 11084.30280676812, 11069.784812309364, 11066.322559389619, 11003.066376252807, 10955.364192122894, 10899.736539240288, 10741.06863236137, 10710.327383480128, 10597.496226545389, 10549.389773662053, 10465.941519309627, 10371.370420579678, 10256.85257100142, 10163.046966831698, 10074.690533201088], \"yaxis\": \"y\"}, {\"legendgroup\": \"group-18\", \"line\": {\"color\": \"#bd0000\"}, \"marker\": {\"size\": 3, \"symbol\": \"diamond\"}, \"name\": \"19\", \"type\": \"scatter\", \"uid\": \"7db24749-464c-49c5-8641-a719194e9872\", \"x\": [11000.0, 11450.0, 11900.0, 12350.0, 12800.0, 13250.0, 13700.0, 14150.0, 14600.0, 15050.0, 15500.0, 15950.0, 16400.0, 16850.0, 17300.0, 17750.0, 18200.0, 18650.0, 19100.0, 19550.0, 20000.0], \"xaxis\": \"x2\", \"y\": [0.44443637159123983, 0.3301963495493953, 0.26475209661040167, 0.21476367292060317, 0.1841100166964522, 0.16259081949317192, 0.143853601724972, 0.12756474449212685, 0.11696925559066805, 0.10710041470268136, 0.09912187964115514, 0.09650204436463768, 0.08985914755672528, 0.08622238465789246, 0.08092359794988353, 0.07737849041147359, 0.07453157832590498, 0.07263537854976868, 0.07025313296079846, 0.06792936424027783], \"yaxis\": \"y2\"}, {\"legendgroup\": \"group-19\", \"line\": {\"color\": \"#800000\"}, \"marker\": {\"size\": 3, \"symbol\": \"diamond\"}, \"name\": \"20\", \"showlegend\": false, \"type\": \"scatter\", \"uid\": \"8bd58b43-94cb-4b15-8dc2-cc20fa03dda9\", \"x\": [11000.0, 11450.0, 11900.0, 12350.0, 12800.0, 13250.0, 13700.0, 14150.0, 14600.0, 15050.0, 15500.0, 15950.0, 16400.0, 16850.0, 17300.0, 17750.0, 18200.0, 18650.0, 19100.0, 19550.0, 20000.0], \"xaxis\": \"x\", \"y\": [10732.832305605065, 10927.532745010047, 10999.038295987173, 11120.942823009347, 11127.283737338126, 11084.30280676812, 11069.784812309364, 11066.322559389619, 11003.066376252807, 10955.364192122894, 10899.736539240288, 10741.06863236137, 10710.327383480128, 10597.496226545389, 10549.389773662053, 10465.941519309627, 10371.370420579678, 10256.85257100142, 10163.046966831698, 10074.690533201088], \"yaxis\": \"y\"}, {\"legendgroup\": \"group-19\", \"line\": {\"color\": \"#800000\"}, \"marker\": {\"size\": 3, \"symbol\": \"diamond\"}, \"name\": \"20\", \"type\": \"scatter\", \"uid\": \"f5391d7c-e4f4-4132-bc99-f10a180ed1e2\", \"x\": [11000.0, 11450.0, 11900.0, 12350.0, 12800.0, 13250.0, 13700.0, 14150.0, 14600.0, 15050.0, 15500.0, 15950.0, 16400.0, 16850.0, 17300.0, 17750.0, 18200.0, 18650.0, 19100.0, 19550.0, 20000.0], \"xaxis\": \"x2\", \"y\": [0.44443637159123983, 0.3301963495493953, 0.26475209661040167, 0.21476367292060317, 0.1841100166964522, 0.16259081949317192, 0.143853601724972, 0.12756474449212685, 0.11696925559066805, 0.10710041470268136, 0.09912187964115514, 0.09650204436463768, 0.08985914755672528, 0.08622238465789246, 0.08092359794988353, 0.07737849041147359, 0.07453157832590498, 0.07263537854976868, 0.07025313296079846, 0.06792936424027783], \"yaxis\": \"y2\"}],                        {\"autosize\": true, \"hidesources\": true, \"legend\": {\"title\": {\"text\": \"iterations\"}, \"tracegroupgap\": 0}, \"margin\": {\"b\": 80, \"l\": 10, \"pad\": 0, \"r\": 135, \"t\": 25}, \"template\": {\"data\": {\"bar\": [{\"error_x\": {\"color\": \"#2a3f5f\"}, \"error_y\": {\"color\": \"#2a3f5f\"}, \"marker\": {\"line\": {\"color\": \"#E5ECF6\", \"width\": 0.5}}, \"type\": \"bar\"}], \"barpolar\": [{\"marker\": {\"line\": {\"color\": \"#E5ECF6\", \"width\": 0.5}}, \"type\": \"barpolar\"}], \"carpet\": [{\"aaxis\": {\"endlinecolor\": \"#2a3f5f\", \"gridcolor\": \"white\", \"linecolor\": \"white\", \"minorgridcolor\": \"white\", \"startlinecolor\": \"#2a3f5f\"}, \"baxis\": {\"endlinecolor\": \"#2a3f5f\", \"gridcolor\": \"white\", \"linecolor\": \"white\", \"minorgridcolor\": \"white\", \"startlinecolor\": \"#2a3f5f\"}, \"type\": \"carpet\"}], \"choropleth\": [{\"colorbar\": {\"outlinewidth\": 0, \"ticks\": \"\"}, \"type\": \"choropleth\"}], \"contour\": [{\"colorbar\": {\"outlinewidth\": 0, \"ticks\": \"\"}, \"colorscale\": [[0.0, \"#0d0887\"], [0.1111111111111111, \"#46039f\"], [0.2222222222222222, \"#7201a8\"], [0.3333333333333333, \"#9c179e\"], [0.4444444444444444, \"#bd3786\"], [0.5555555555555556, \"#d8576b\"], [0.6666666666666666, \"#ed7953\"], [0.7777777777777778, \"#fb9f3a\"], [0.8888888888888888, \"#fdca26\"], [1.0, \"#f0f921\"]], \"type\": \"contour\"}], \"contourcarpet\": [{\"colorbar\": {\"outlinewidth\": 0, \"ticks\": \"\"}, \"type\": \"contourcarpet\"}], \"heatmap\": [{\"colorbar\": {\"outlinewidth\": 0, \"ticks\": \"\"}, \"colorscale\": [[0.0, \"#0d0887\"], [0.1111111111111111, \"#46039f\"], [0.2222222222222222, \"#7201a8\"], [0.3333333333333333, \"#9c179e\"], [0.4444444444444444, \"#bd3786\"], [0.5555555555555556, \"#d8576b\"], [0.6666666666666666, \"#ed7953\"], [0.7777777777777778, \"#fb9f3a\"], [0.8888888888888888, \"#fdca26\"], [1.0, \"#f0f921\"]], \"type\": \"heatmap\"}], \"heatmapgl\": [{\"colorbar\": {\"outlinewidth\": 0, \"ticks\": \"\"}, \"colorscale\": [[0.0, \"#0d0887\"], [0.1111111111111111, \"#46039f\"], [0.2222222222222222, \"#7201a8\"], [0.3333333333333333, \"#9c179e\"], [0.4444444444444444, \"#bd3786\"], [0.5555555555555556, \"#d8576b\"], [0.6666666666666666, \"#ed7953\"], [0.7777777777777778, \"#fb9f3a\"], [0.8888888888888888, \"#fdca26\"], [1.0, \"#f0f921\"]], \"type\": \"heatmapgl\"}], \"histogram\": [{\"marker\": {\"colorbar\": {\"outlinewidth\": 0, \"ticks\": \"\"}}, \"type\": \"histogram\"}], \"histogram2d\": [{\"colorbar\": {\"outlinewidth\": 0, \"ticks\": \"\"}, \"colorscale\": [[0.0, \"#0d0887\"], [0.1111111111111111, \"#46039f\"], [0.2222222222222222, \"#7201a8\"], [0.3333333333333333, \"#9c179e\"], [0.4444444444444444, \"#bd3786\"], [0.5555555555555556, \"#d8576b\"], [0.6666666666666666, \"#ed7953\"], [0.7777777777777778, \"#fb9f3a\"], [0.8888888888888888, \"#fdca26\"], [1.0, \"#f0f921\"]], \"type\": \"histogram2d\"}], \"histogram2dcontour\": [{\"colorbar\": {\"outlinewidth\": 0, \"ticks\": \"\"}, \"colorscale\": [[0.0, \"#0d0887\"], [0.1111111111111111, \"#46039f\"], [0.2222222222222222, \"#7201a8\"], [0.3333333333333333, \"#9c179e\"], [0.4444444444444444, \"#bd3786\"], [0.5555555555555556, \"#d8576b\"], [0.6666666666666666, \"#ed7953\"], [0.7777777777777778, \"#fb9f3a\"], [0.8888888888888888, \"#fdca26\"], [1.0, \"#f0f921\"]], \"type\": \"histogram2dcontour\"}], \"mesh3d\": [{\"colorbar\": {\"outlinewidth\": 0, \"ticks\": \"\"}, \"type\": \"mesh3d\"}], \"parcoords\": [{\"line\": {\"colorbar\": {\"outlinewidth\": 0, \"ticks\": \"\"}}, \"type\": \"parcoords\"}], \"pie\": [{\"automargin\": true, \"type\": \"pie\"}], \"scatter\": [{\"marker\": {\"colorbar\": {\"outlinewidth\": 0, \"ticks\": \"\"}}, \"type\": \"scatter\"}], \"scatter3d\": [{\"line\": {\"colorbar\": {\"outlinewidth\": 0, \"ticks\": \"\"}}, \"marker\": {\"colorbar\": {\"outlinewidth\": 0, \"ticks\": \"\"}}, \"type\": \"scatter3d\"}], \"scattercarpet\": [{\"marker\": {\"colorbar\": {\"outlinewidth\": 0, \"ticks\": \"\"}}, \"type\": \"scattercarpet\"}], \"scattergeo\": [{\"marker\": {\"colorbar\": {\"outlinewidth\": 0, \"ticks\": \"\"}}, \"type\": \"scattergeo\"}], \"scattergl\": [{\"marker\": {\"colorbar\": {\"outlinewidth\": 0, \"ticks\": \"\"}}, \"type\": \"scattergl\"}], \"scattermapbox\": [{\"marker\": {\"colorbar\": {\"outlinewidth\": 0, \"ticks\": \"\"}}, \"type\": \"scattermapbox\"}], \"scatterpolar\": [{\"marker\": {\"colorbar\": {\"outlinewidth\": 0, \"ticks\": \"\"}}, \"type\": \"scatterpolar\"}], \"scatterpolargl\": [{\"marker\": {\"colorbar\": {\"outlinewidth\": 0, \"ticks\": \"\"}}, \"type\": \"scatterpolargl\"}], \"scatterternary\": [{\"marker\": {\"colorbar\": {\"outlinewidth\": 0, \"ticks\": \"\"}}, \"type\": \"scatterternary\"}], \"surface\": [{\"colorbar\": {\"outlinewidth\": 0, \"ticks\": \"\"}, \"colorscale\": [[0.0, \"#0d0887\"], [0.1111111111111111, \"#46039f\"], [0.2222222222222222, \"#7201a8\"], [0.3333333333333333, \"#9c179e\"], [0.4444444444444444, \"#bd3786\"], [0.5555555555555556, \"#d8576b\"], [0.6666666666666666, \"#ed7953\"], [0.7777777777777778, \"#fb9f3a\"], [0.8888888888888888, \"#fdca26\"], [1.0, \"#f0f921\"]], \"type\": \"surface\"}], \"table\": [{\"cells\": {\"fill\": {\"color\": \"#EBF0F8\"}, \"line\": {\"color\": \"white\"}}, \"header\": {\"fill\": {\"color\": \"#C8D4E3\"}, \"line\": {\"color\": \"white\"}}, \"type\": \"table\"}]}, \"layout\": {\"annotationdefaults\": {\"arrowcolor\": \"#2a3f5f\", \"arrowhead\": 0, \"arrowwidth\": 1}, \"autotypenumbers\": \"strict\", \"coloraxis\": {\"colorbar\": {\"outlinewidth\": 0, \"ticks\": \"\"}}, \"colorscale\": {\"diverging\": [[0, \"#8e0152\"], [0.1, \"#c51b7d\"], [0.2, \"#de77ae\"], [0.3, \"#f1b6da\"], [0.4, \"#fde0ef\"], [0.5, \"#f7f7f7\"], [0.6, \"#e6f5d0\"], [0.7, \"#b8e186\"], [0.8, \"#7fbc41\"], [0.9, \"#4d9221\"], [1, \"#276419\"]], \"sequential\": [[0.0, \"#0d0887\"], [0.1111111111111111, \"#46039f\"], [0.2222222222222222, \"#7201a8\"], [0.3333333333333333, \"#9c179e\"], [0.4444444444444444, \"#bd3786\"], [0.5555555555555556, \"#d8576b\"], [0.6666666666666666, \"#ed7953\"], [0.7777777777777778, \"#fb9f3a\"], [0.8888888888888888, \"#fdca26\"], [1.0, \"#f0f921\"]], \"sequentialminus\": [[0.0, \"#0d0887\"], [0.1111111111111111, \"#46039f\"], [0.2222222222222222, \"#7201a8\"], [0.3333333333333333, \"#9c179e\"], [0.4444444444444444, \"#bd3786\"], [0.5555555555555556, \"#d8576b\"], [0.6666666666666666, \"#ed7953\"], [0.7777777777777778, \"#fb9f3a\"], [0.8888888888888888, \"#fdca26\"], [1.0, \"#f0f921\"]]}, \"colorway\": [\"#636efa\", \"#EF553B\", \"#00cc96\", \"#ab63fa\", \"#FFA15A\", \"#19d3f3\", \"#FF6692\", \"#B6E880\", \"#FF97FF\", \"#FECB52\"], \"font\": {\"color\": \"#2a3f5f\"}, \"geo\": {\"bgcolor\": \"white\", \"lakecolor\": \"white\", \"landcolor\": \"#E5ECF6\", \"showlakes\": true, \"showland\": true, \"subunitcolor\": \"white\"}, \"hoverlabel\": {\"align\": \"left\"}, \"hovermode\": \"closest\", \"mapbox\": {\"style\": \"light\"}, \"paper_bgcolor\": \"white\", \"plot_bgcolor\": \"#E5ECF6\", \"polar\": {\"angularaxis\": {\"gridcolor\": \"white\", \"linecolor\": \"white\", \"ticks\": \"\"}, \"bgcolor\": \"#E5ECF6\", \"radialaxis\": {\"gridcolor\": \"white\", \"linecolor\": \"white\", \"ticks\": \"\"}}, \"scene\": {\"xaxis\": {\"backgroundcolor\": \"#E5ECF6\", \"gridcolor\": \"white\", \"gridwidth\": 2, \"linecolor\": \"white\", \"showbackground\": true, \"ticks\": \"\", \"zerolinecolor\": \"white\"}, \"yaxis\": {\"backgroundcolor\": \"#E5ECF6\", \"gridcolor\": \"white\", \"gridwidth\": 2, \"linecolor\": \"white\", \"showbackground\": true, \"ticks\": \"\", \"zerolinecolor\": \"white\"}, \"zaxis\": {\"backgroundcolor\": \"#E5ECF6\", \"gridcolor\": \"white\", \"gridwidth\": 2, \"linecolor\": \"white\", \"showbackground\": true, \"ticks\": \"\", \"zerolinecolor\": \"white\"}}, \"shapedefaults\": {\"line\": {\"color\": \"#2a3f5f\"}}, \"ternary\": {\"aaxis\": {\"gridcolor\": \"white\", \"linecolor\": \"white\", \"ticks\": \"\"}, \"baxis\": {\"gridcolor\": \"white\", \"linecolor\": \"white\", \"ticks\": \"\"}, \"bgcolor\": \"#E5ECF6\", \"caxis\": {\"gridcolor\": \"white\", \"linecolor\": \"white\", \"ticks\": \"\"}}, \"title\": {\"x\": 0.05}, \"xaxis\": {\"automargin\": true, \"gridcolor\": \"white\", \"linecolor\": \"white\", \"ticks\": \"\", \"title\": {\"standoff\": 15}, \"zerolinecolor\": \"white\", \"zerolinewidth\": 2}, \"yaxis\": {\"automargin\": true, \"gridcolor\": \"white\", \"linecolor\": \"white\", \"ticks\": \"\", \"title\": {\"standoff\": 15}, \"zerolinecolor\": \"white\", \"zerolinewidth\": 2}}}, \"xaxis\": {\"anchor\": \"y\", \"domain\": [0.0, 0.45], \"tickformat\": \"g\", \"title\": {\"text\": \"$Shell~~Velocity$\"}}, \"xaxis2\": {\"anchor\": \"y2\", \"domain\": [0.55, 1.0], \"matches\": \"x\", \"tickformat\": \"g\", \"title\": {\"text\": \"$Shell~~Velocity$\"}}, \"yaxis\": {\"anchor\": \"x\", \"domain\": [0.0, 1.0], \"range\": [9000, 14000], \"tickformat\": \"g\", \"title\": {\"text\": \"$T_{rad}\\\\ [K]$\"}}, \"yaxis2\": {\"anchor\": \"x2\", \"domain\": [0.0, 1.0], \"title\": {\"text\": \"$W$\"}}},                        {\"responsive\": true}                    ).then(function(){\n                            \nvar gd = document.getElementById('d7588258-c3e7-49df-9a44-916e0f76a4a9');\nvar x = new MutationObserver(function (mutations, observer) {{\n        var display = window.getComputedStyle(gd).display;\n        if (!display || display === 'none') {{\n            console.log([gd, 'removed!']);\n            Plotly.purge(gd);\n            observer.disconnect();\n        }}\n}});\n\n// Listen for the removal of the full notebook cells\nvar notebookContainer = gd.closest('#notebook-container');\nif (notebookContainer) {{\n    x.observe(notebookContainer, {childList: true});\n}}\n\n// Listen for the clearing of the current output cell\nvar outputEl = gd.closest('.output');\nif (outputEl) {{\n    x.observe(outputEl, {childList: true});\n}}\n\n                        })                };                });            </script>        </div>"
         },
         "metadata": {},
         "output_type": "display_data"
        }
       ]
      }
     },
     "7dcd6ab1686a463eaadb337e507419eb": {
      "model_module": "@jupyter-widgets/base",
      "model_module_version": "1.2.0",
      "model_name": "LayoutModel",
      "state": {}
     },
     "846b1825ce4f4585b7fb2689134c0a20": {
      "model_module": "@jupyter-widgets/base",
      "model_module_version": "1.2.0",
      "model_name": "LayoutModel",
      "state": {}
     },
     "863afd0041474384bc4b0b56e82a8c36": {
      "model_module": "@jupyter-widgets/base",
      "model_module_version": "1.2.0",
      "model_name": "LayoutModel",
      "state": {}
     },
     "8826cbdd213249098e0f6beef93b9c54": {
      "model_module": "@jupyter-widgets/base",
      "model_module_version": "1.2.0",
      "model_name": "LayoutModel",
      "state": {}
     },
     "98d92866018e41198c219b20349d11fa": {
      "model_module": "@jupyter-widgets/output",
      "model_module_version": "1.0.0",
      "model_name": "OutputModel",
      "state": {
       "layout": "IPY_MODEL_333aab2d68744adba40bf743ec29ff3b",
       "outputs": [
        {
         "data": {
          "text/html": "        <script type=\"text/javascript\">\n        window.PlotlyConfig = {MathJaxConfig: 'local'};\n        if (window.MathJax) {MathJax.Hub.Config({SVG: {font: \"STIX-Web\"}});}\n        if (typeof require !== 'undefined') {\n        require.undef(\"plotly\");\n        requirejs.config({\n            paths: {\n                'plotly': ['https://cdn.plot.ly/plotly-latest.min']\n            }\n        });\n        require(['plotly'], function(Plotly) {\n            window._Plotly = Plotly;\n        });\n        }\n        </script>\n        "
         },
         "metadata": {},
         "output_type": "display_data"
        },
        {
         "data": {
          "text/html": "<div>                            <div id=\"26b2dc2b-e631-4df0-89e6-fbdcdc40ad7a\" class=\"plotly-graph-div\" style=\"height:600px; width:100%;\"></div>            <script type=\"text/javascript\">                require([\"plotly\"], function(Plotly) {                    window.PLOTLYENV=window.PLOTLYENV || {};                                    if (document.getElementById(\"26b2dc2b-e631-4df0-89e6-fbdcdc40ad7a\")) {                    Plotly.newPlot(                        \"26b2dc2b-e631-4df0-89e6-fbdcdc40ad7a\",                        [{\"hovertemplate\": \"<b>%{y:.2g}</b><br>at X = %{x}<br>\", \"legendgroup\": \"Emitted\", \"marker\": {\"color\": \"orangered\"}, \"mode\": \"lines\", \"name\": \"Emitted<br>Luminosity\", \"opacity\": 0.6, \"type\": \"scatter\", \"uid\": \"abbb284d-a3af-4d44-b363-9db62cc1adbd\", \"x\": [1, 2, 3, 4, 5, 6, 7, 8, 9, 10, 11, 12, 13, 14, 15, 16, 17, 18, 19, 20], \"xaxis\": \"x2\", \"y\": [7.942750742981396e+42, 1.4081455093985728e+43, 8.126235743016503e+42, 1.3629660449563156e+43, 8.27894586347348e+42, 1.3474141886349227e+43, 8.390011483383557e+42, 1.3330505521644895e+43, 8.442830540796857e+42, 1.3292513146988894e+43, 8.494974137074282e+42, 1.3041701729221733e+43, 8.692438378058671e+42, 1.2835355197638404e+43, 8.753305281326621e+42, 1.2781970592598386e+43, 8.816470048071725e+42, 1.2667974995662812e+43, 8.870810439340542e+42, 1.263194391778655e+43], \"yaxis\": \"y2\"}, {\"hovertemplate\": \"<b>%{y:.2g}</b><br>at X = %{x}<br>\", \"legendgroup\": \"Absorbed\", \"marker\": {\"color\": \"lightseagreen\"}, \"mode\": \"lines\", \"name\": \"Absorbed<br>Luminosity\", \"opacity\": 0.6, \"type\": \"scatter\", \"uid\": \"66bea4e4-0988-4a6d-a9bc-67f97632d899\", \"x\": [1, 2, 3, 4, 5, 6, 7, 8, 9, 10, 11, 12, 13, 14, 15, 16, 17, 18, 19, 20], \"xaxis\": \"x2\", \"y\": [2.65804673153204e+42, 4.7700146052642123e+42, 2.5472229968140377e+42, 4.4972113694812525e+42, 2.6693301209933358e+42, 4.447266267261236e+42, 2.6922956553053436e+42, 4.330110768371945e+42, 2.7089402928209043e+42, 4.25943386711989e+42, 2.6561585210602605e+42, 4.288201956309693e+42, 2.7454765674505417e+42, 4.1509531498402554e+42, 2.813186401660242e+42, 4.156064515611499e+42, 2.816811651728025e+42, 4.122377281630377e+42, 2.8711648018363005e+42, 4.1070578782802735e+42], \"yaxis\": \"y2\"}, {\"hovertemplate\": \"<b>%{y:.2g}</b><br>at X = %{x}<br>\", \"legendgroup\": \"Requested\", \"marker\": {\"color\": \"indigo\"}, \"mode\": \"lines\", \"name\": \"Requested<br>Luminosity\", \"opacity\": 0.6, \"type\": \"scatter\", \"uid\": \"b1876160-5124-4518-8d00-4d54033f4f3d\", \"x\": [1, 2, 3, 4, 5, 6, 7, 8, 9, 10, 11, 12, 13, 14, 15, 16, 17, 18, 19, 20], \"xaxis\": \"x2\", \"y\": [1.0592763593038458e+43, 1.0592763593038458e+43, 1.0592763593038458e+43, 1.0592763593038458e+43, 1.0592763593038458e+43, 1.0592763593038458e+43, 1.0592763593038458e+43, 1.0592763593038458e+43, 1.0592763593038458e+43, 1.0592763593038458e+43, 1.0592763593038458e+43, 1.0592763593038458e+43, 1.0592763593038458e+43, 1.0592763593038458e+43, 1.0592763593038458e+43, 1.0592763593038458e+43, 1.0592763593038458e+43, 1.0592763593038458e+43, 1.0592763593038458e+43, 1.0592763593038458e+43], \"yaxis\": \"y2\"}, {\"hovertemplate\": \"Residual Luminosity: %{y:.2f}% at X = %{x:,.0f}<extra></extra>\", \"marker\": {\"color\": \"cornflowerblue\"}, \"mode\": \"lines\", \"name\": \"Residual<br>Luminosity\", \"opacity\": 0.7, \"type\": \"scatter\", \"uid\": \"aefd5145-2333-4768-9e7f-85aa64497506\", \"x\": [1, 2, 3, 4, 5, 6, 7, 8, 9, 10, 11, 12, 13, 14, 15, 16, 17, 18, 19, 20], \"xaxis\": \"x3\", \"y\": [-25.017199966575717, 32.934667806992614, -23.285026880454048, 28.669542465013958, -21.843381184166276, 27.201383925951156, -20.794876524031412, 25.84539817735266, -20.296243122564654, 25.486734696172267, -19.80398634916046, 23.118972822094438, -17.939843538363082, 21.170977572592793, -17.3652351962308, 20.667005171329144, -16.76893408755113, 19.590840335454846, -16.2559386752441, 19.250692294202032], \"yaxis\": \"y3\"}, {\"hovertemplate\": \"Next Inner Body Temperature: %{y:.2f} at X = %{x:,.0f}<extra></extra>\", \"marker\": {\"color\": \"crimson\"}, \"mode\": \"lines\", \"name\": \"Next Inner<br>Boundary<br>Temperature\", \"opacity\": 0.7, \"type\": \"scatter\", \"uid\": \"cea65821-6087-47d6-a7ac-54fa0c24ea44\", \"x\": [1, 2, 3, 4, 5, 6, 7, 8, 9, 10, 11, 12, 13, 14, 15, 16, 17, 18, 19, 20], \"xaxis\": \"x\", \"y\": [11472.055253129645, 9949.977592596559, 11360.096854261606, 10014.843240243388, 11328.209558951534, 10044.200101537022, 11285.965504372467, 10060.511200596067, 11268.87736423254, 10059.623883542255, 11233.248147773367, 10123.783777872188, 11175.750322790715, 10152.602547328883, 11168.529280894094, 10167.208273207052, 11144.459025959051, 10190.841172561493, 11136.097470940847, 11136.097470940847], \"yaxis\": \"y\"}],                        {\"height\": 600, \"hidesources\": true, \"hoverlabel\": {\"align\": \"right\", \"font\": {\"color\": \"white\"}}, \"legend\": {\"title\": {\"text\": \"Luminosity\"}, \"tracegroupgap\": 0}, \"margin\": {\"b\": 10, \"l\": 10, \"pad\": 0, \"r\": 10, \"t\": 25}, \"template\": {\"data\": {\"bar\": [{\"error_x\": {\"color\": \"#2a3f5f\"}, \"error_y\": {\"color\": \"#2a3f5f\"}, \"marker\": {\"line\": {\"color\": \"#E5ECF6\", \"width\": 0.5}}, \"type\": \"bar\"}], \"barpolar\": [{\"marker\": {\"line\": {\"color\": \"#E5ECF6\", \"width\": 0.5}}, \"type\": \"barpolar\"}], \"carpet\": [{\"aaxis\": {\"endlinecolor\": \"#2a3f5f\", \"gridcolor\": \"white\", \"linecolor\": \"white\", \"minorgridcolor\": \"white\", \"startlinecolor\": \"#2a3f5f\"}, \"baxis\": {\"endlinecolor\": \"#2a3f5f\", \"gridcolor\": \"white\", \"linecolor\": \"white\", \"minorgridcolor\": \"white\", \"startlinecolor\": \"#2a3f5f\"}, \"type\": \"carpet\"}], \"choropleth\": [{\"colorbar\": {\"outlinewidth\": 0, \"ticks\": \"\"}, \"type\": \"choropleth\"}], \"contour\": [{\"colorbar\": {\"outlinewidth\": 0, \"ticks\": \"\"}, \"colorscale\": [[0.0, \"#0d0887\"], [0.1111111111111111, \"#46039f\"], [0.2222222222222222, \"#7201a8\"], [0.3333333333333333, \"#9c179e\"], [0.4444444444444444, \"#bd3786\"], [0.5555555555555556, \"#d8576b\"], [0.6666666666666666, \"#ed7953\"], [0.7777777777777778, \"#fb9f3a\"], [0.8888888888888888, \"#fdca26\"], [1.0, \"#f0f921\"]], \"type\": \"contour\"}], \"contourcarpet\": [{\"colorbar\": {\"outlinewidth\": 0, \"ticks\": \"\"}, \"type\": \"contourcarpet\"}], \"heatmap\": [{\"colorbar\": {\"outlinewidth\": 0, \"ticks\": \"\"}, \"colorscale\": [[0.0, \"#0d0887\"], [0.1111111111111111, \"#46039f\"], [0.2222222222222222, \"#7201a8\"], [0.3333333333333333, \"#9c179e\"], [0.4444444444444444, \"#bd3786\"], [0.5555555555555556, \"#d8576b\"], [0.6666666666666666, \"#ed7953\"], [0.7777777777777778, \"#fb9f3a\"], [0.8888888888888888, \"#fdca26\"], [1.0, \"#f0f921\"]], \"type\": \"heatmap\"}], \"heatmapgl\": [{\"colorbar\": {\"outlinewidth\": 0, \"ticks\": \"\"}, \"colorscale\": [[0.0, \"#0d0887\"], [0.1111111111111111, \"#46039f\"], [0.2222222222222222, \"#7201a8\"], [0.3333333333333333, \"#9c179e\"], [0.4444444444444444, \"#bd3786\"], [0.5555555555555556, \"#d8576b\"], [0.6666666666666666, \"#ed7953\"], [0.7777777777777778, \"#fb9f3a\"], [0.8888888888888888, \"#fdca26\"], [1.0, \"#f0f921\"]], \"type\": \"heatmapgl\"}], \"histogram\": [{\"marker\": {\"colorbar\": {\"outlinewidth\": 0, \"ticks\": \"\"}}, \"type\": \"histogram\"}], \"histogram2d\": [{\"colorbar\": {\"outlinewidth\": 0, \"ticks\": \"\"}, \"colorscale\": [[0.0, \"#0d0887\"], [0.1111111111111111, \"#46039f\"], [0.2222222222222222, \"#7201a8\"], [0.3333333333333333, \"#9c179e\"], [0.4444444444444444, \"#bd3786\"], [0.5555555555555556, \"#d8576b\"], [0.6666666666666666, \"#ed7953\"], [0.7777777777777778, \"#fb9f3a\"], [0.8888888888888888, \"#fdca26\"], [1.0, \"#f0f921\"]], \"type\": \"histogram2d\"}], \"histogram2dcontour\": [{\"colorbar\": {\"outlinewidth\": 0, \"ticks\": \"\"}, \"colorscale\": [[0.0, \"#0d0887\"], [0.1111111111111111, \"#46039f\"], [0.2222222222222222, \"#7201a8\"], [0.3333333333333333, \"#9c179e\"], [0.4444444444444444, \"#bd3786\"], [0.5555555555555556, \"#d8576b\"], [0.6666666666666666, \"#ed7953\"], [0.7777777777777778, \"#fb9f3a\"], [0.8888888888888888, \"#fdca26\"], [1.0, \"#f0f921\"]], \"type\": \"histogram2dcontour\"}], \"mesh3d\": [{\"colorbar\": {\"outlinewidth\": 0, \"ticks\": \"\"}, \"type\": \"mesh3d\"}], \"parcoords\": [{\"line\": {\"colorbar\": {\"outlinewidth\": 0, \"ticks\": \"\"}}, \"type\": \"parcoords\"}], \"pie\": [{\"automargin\": true, \"type\": \"pie\"}], \"scatter\": [{\"marker\": {\"colorbar\": {\"outlinewidth\": 0, \"ticks\": \"\"}}, \"type\": \"scatter\"}], \"scatter3d\": [{\"line\": {\"colorbar\": {\"outlinewidth\": 0, \"ticks\": \"\"}}, \"marker\": {\"colorbar\": {\"outlinewidth\": 0, \"ticks\": \"\"}}, \"type\": \"scatter3d\"}], \"scattercarpet\": [{\"marker\": {\"colorbar\": {\"outlinewidth\": 0, \"ticks\": \"\"}}, \"type\": \"scattercarpet\"}], \"scattergeo\": [{\"marker\": {\"colorbar\": {\"outlinewidth\": 0, \"ticks\": \"\"}}, \"type\": \"scattergeo\"}], \"scattergl\": [{\"marker\": {\"colorbar\": {\"outlinewidth\": 0, \"ticks\": \"\"}}, \"type\": \"scattergl\"}], \"scattermapbox\": [{\"marker\": {\"colorbar\": {\"outlinewidth\": 0, \"ticks\": \"\"}}, \"type\": \"scattermapbox\"}], \"scatterpolar\": [{\"marker\": {\"colorbar\": {\"outlinewidth\": 0, \"ticks\": \"\"}}, \"type\": \"scatterpolar\"}], \"scatterpolargl\": [{\"marker\": {\"colorbar\": {\"outlinewidth\": 0, \"ticks\": \"\"}}, \"type\": \"scatterpolargl\"}], \"scatterternary\": [{\"marker\": {\"colorbar\": {\"outlinewidth\": 0, \"ticks\": \"\"}}, \"type\": \"scatterternary\"}], \"surface\": [{\"colorbar\": {\"outlinewidth\": 0, \"ticks\": \"\"}, \"colorscale\": [[0.0, \"#0d0887\"], [0.1111111111111111, \"#46039f\"], [0.2222222222222222, \"#7201a8\"], [0.3333333333333333, \"#9c179e\"], [0.4444444444444444, \"#bd3786\"], [0.5555555555555556, \"#d8576b\"], [0.6666666666666666, \"#ed7953\"], [0.7777777777777778, \"#fb9f3a\"], [0.8888888888888888, \"#fdca26\"], [1.0, \"#f0f921\"]], \"type\": \"surface\"}], \"table\": [{\"cells\": {\"fill\": {\"color\": \"#EBF0F8\"}, \"line\": {\"color\": \"white\"}}, \"header\": {\"fill\": {\"color\": \"#C8D4E3\"}, \"line\": {\"color\": \"white\"}}, \"type\": \"table\"}]}, \"layout\": {\"annotationdefaults\": {\"arrowcolor\": \"#2a3f5f\", \"arrowhead\": 0, \"arrowwidth\": 1}, \"autotypenumbers\": \"strict\", \"coloraxis\": {\"colorbar\": {\"outlinewidth\": 0, \"ticks\": \"\"}}, \"colorscale\": {\"diverging\": [[0, \"#8e0152\"], [0.1, \"#c51b7d\"], [0.2, \"#de77ae\"], [0.3, \"#f1b6da\"], [0.4, \"#fde0ef\"], [0.5, \"#f7f7f7\"], [0.6, \"#e6f5d0\"], [0.7, \"#b8e186\"], [0.8, \"#7fbc41\"], [0.9, \"#4d9221\"], [1, \"#276419\"]], \"sequential\": [[0.0, \"#0d0887\"], [0.1111111111111111, \"#46039f\"], [0.2222222222222222, \"#7201a8\"], [0.3333333333333333, \"#9c179e\"], [0.4444444444444444, \"#bd3786\"], [0.5555555555555556, \"#d8576b\"], [0.6666666666666666, \"#ed7953\"], [0.7777777777777778, \"#fb9f3a\"], [0.8888888888888888, \"#fdca26\"], [1.0, \"#f0f921\"]], \"sequentialminus\": [[0.0, \"#0d0887\"], [0.1111111111111111, \"#46039f\"], [0.2222222222222222, \"#7201a8\"], [0.3333333333333333, \"#9c179e\"], [0.4444444444444444, \"#bd3786\"], [0.5555555555555556, \"#d8576b\"], [0.6666666666666666, \"#ed7953\"], [0.7777777777777778, \"#fb9f3a\"], [0.8888888888888888, \"#fdca26\"], [1.0, \"#f0f921\"]]}, \"colorway\": [\"#636efa\", \"#EF553B\", \"#00cc96\", \"#ab63fa\", \"#FFA15A\", \"#19d3f3\", \"#FF6692\", \"#B6E880\", \"#FF97FF\", \"#FECB52\"], \"font\": {\"color\": \"#2a3f5f\"}, \"geo\": {\"bgcolor\": \"white\", \"lakecolor\": \"white\", \"landcolor\": \"#E5ECF6\", \"showlakes\": true, \"showland\": true, \"subunitcolor\": \"white\"}, \"hoverlabel\": {\"align\": \"left\"}, \"hovermode\": \"closest\", \"mapbox\": {\"style\": \"light\"}, \"paper_bgcolor\": \"white\", \"plot_bgcolor\": \"#E5ECF6\", \"polar\": {\"angularaxis\": {\"gridcolor\": \"white\", \"linecolor\": \"white\", \"ticks\": \"\"}, \"bgcolor\": \"#E5ECF6\", \"radialaxis\": {\"gridcolor\": \"white\", \"linecolor\": \"white\", \"ticks\": \"\"}}, \"scene\": {\"xaxis\": {\"backgroundcolor\": \"#E5ECF6\", \"gridcolor\": \"white\", \"gridwidth\": 2, \"linecolor\": \"white\", \"showbackground\": true, \"ticks\": \"\", \"zerolinecolor\": \"white\"}, \"yaxis\": {\"backgroundcolor\": \"#E5ECF6\", \"gridcolor\": \"white\", \"gridwidth\": 2, \"linecolor\": \"white\", \"showbackground\": true, \"ticks\": \"\", \"zerolinecolor\": \"white\"}, \"zaxis\": {\"backgroundcolor\": \"#E5ECF6\", \"gridcolor\": \"white\", \"gridwidth\": 2, \"linecolor\": \"white\", \"showbackground\": true, \"ticks\": \"\", \"zerolinecolor\": \"white\"}}, \"shapedefaults\": {\"line\": {\"color\": \"#2a3f5f\"}}, \"ternary\": {\"aaxis\": {\"gridcolor\": \"white\", \"linecolor\": \"white\", \"ticks\": \"\"}, \"baxis\": {\"gridcolor\": \"white\", \"linecolor\": \"white\", \"ticks\": \"\"}, \"bgcolor\": \"#E5ECF6\", \"caxis\": {\"gridcolor\": \"white\", \"linecolor\": \"white\", \"ticks\": \"\"}}, \"title\": {\"x\": 0.05}, \"xaxis\": {\"automargin\": true, \"gridcolor\": \"white\", \"linecolor\": \"white\", \"ticks\": \"\", \"title\": {\"standoff\": 15}, \"zerolinecolor\": \"white\", \"zerolinewidth\": 2}, \"yaxis\": {\"automargin\": true, \"gridcolor\": \"white\", \"linecolor\": \"white\", \"ticks\": \"\", \"title\": {\"standoff\": 15}, \"zerolinecolor\": \"white\", \"zerolinewidth\": 2}}}, \"xaxis\": {\"anchor\": \"y\", \"domain\": [0.0, 1.0], \"dtick\": 2, \"matches\": \"x3\", \"range\": [0, 21], \"showticklabels\": false}, \"xaxis2\": {\"anchor\": \"y2\", \"domain\": [0.0, 1.0], \"dtick\": 2, \"matches\": \"x\", \"range\": [0, 21], \"showticklabels\": false}, \"xaxis3\": {\"anchor\": \"y3\", \"domain\": [0.0, 1.0], \"dtick\": 2, \"matches\": \"x\", \"title\": {\"text\": \"$\\\\mbox{Iteration Number}$\"}}, \"yaxis\": {\"anchor\": \"x\", \"automargin\": true, \"domain\": [0.865, 1.0], \"exponentformat\": \"e\", \"side\": \"top\", \"tickformat\": \"g\", \"title\": {\"text\": \"$\\\\mbox{T}_{inner}$\"}}, \"yaxis2\": {\"anchor\": \"x2\", \"automargin\": true, \"domain\": [0.185, 0.815], \"exponentformat\": \"e\", \"title\": {\"font\": {\"size\": 13}, \"text\": \"$\\\\mbox{Luminosity}~(erg~sec^{-1})$\"}}, \"yaxis3\": {\"anchor\": \"x3\", \"automargin\": true, \"domain\": [0.0, 0.135], \"exponentformat\": \"e\", \"title\": {\"font\": {\"size\": 12}, \"text\": \"$~~\\\\mbox{Residual}\\\\\\\\\\\\mbox{Luminosity(%)}$\"}}},                        {\"responsive\": true}                    ).then(function(){\n                            \nvar gd = document.getElementById('26b2dc2b-e631-4df0-89e6-fbdcdc40ad7a');\nvar x = new MutationObserver(function (mutations, observer) {{\n        var display = window.getComputedStyle(gd).display;\n        if (!display || display === 'none') {{\n            console.log([gd, 'removed!']);\n            Plotly.purge(gd);\n            observer.disconnect();\n        }}\n}});\n\n// Listen for the removal of the full notebook cells\nvar notebookContainer = gd.closest('#notebook-container');\nif (notebookContainer) {{\n    x.observe(notebookContainer, {childList: true});\n}}\n\n// Listen for the clearing of the current output cell\nvar outputEl = gd.closest('.output');\nif (outputEl) {{\n    x.observe(outputEl, {childList: true});\n}}\n\n                        })                };                });            </script>        </div>"
         },
         "metadata": {},
         "output_type": "display_data"
        }
       ]
      }
     },
     "995cffffcbe94c58abe0cfbfb15b6e0d": {
      "model_module": "@jupyter-widgets/base",
      "model_module_version": "1.2.0",
      "model_name": "LayoutModel",
      "state": {}
     },
     "99d62d44ce314d259dc627d5557ae1bb": {
      "model_module": "@jupyter-widgets/base",
      "model_module_version": "1.2.0",
      "model_name": "LayoutModel",
      "state": {}
     },
     "9ee302457e034e59b4444eb7d523ed6b": {
      "model_module": "@jupyter-widgets/base",
      "model_module_version": "1.2.0",
      "model_name": "LayoutModel",
      "state": {}
     },
     "a86b4a635902431198c99b11aa5dbb1f": {
      "model_module": "@jupyter-widgets/controls",
      "model_module_version": "1.5.0",
      "model_name": "VBoxModel",
      "state": {
       "children": [
        "IPY_MODEL_2c2f015ae3a940cfad9abc579a274a4a",
        "IPY_MODEL_e90018958352436b96e0c6c9204390f0"
       ],
       "layout": "IPY_MODEL_42f162efe55340b5abea8dd730deb25f"
      }
     },
     "afed3e284eb548b29b507da8498a6407": {
      "model_module": "plotlywidget",
      "model_module_version": "^4.14.3",
      "model_name": "FigureModel",
      "state": {
       "_config": {
        "plotlyServerURL": "https://plot.ly"
       },
       "_data": [
        {
         "hovertemplate": "<b>%{y:.2g}</b><br>at X = %{x}<br>",
         "legendgroup": "Emitted",
         "marker": {
          "color": "orangered"
         },
         "mode": "lines",
         "name": "Emitted<br>Luminosity",
         "opacity": 0.6,
         "type": "scatter",
         "uid": "c17b7678-eb88-40f1-9a85-8d65d468f8d5",
         "x": [
          1,
          2,
          3,
          4,
          5,
          6,
          7,
          8,
          9,
          10,
          11,
          12,
          13,
          14,
          15,
          16,
          17,
          18,
          19,
          20
         ],
         "xaxis": "x2",
         "y": [
          7.942750742981396e+42,
          1.4081455093985728e+43,
          8.126235743016503e+42,
          1.3629660449563156e+43,
          8.27894586347348e+42,
          1.3474141886349227e+43,
          8.390011483383557e+42,
          1.3330505521644895e+43,
          8.442830540796857e+42,
          1.3292513146988894e+43,
          8.494974137074282e+42,
          1.3041701729221733e+43,
          8.692438378058671e+42,
          1.2835355197638404e+43,
          8.753305281326621e+42,
          1.2781970592598386e+43,
          8.816470048071725e+42,
          1.2667974995662812e+43,
          8.870810439340542e+42,
          1.263194391778655e+43
         ],
         "yaxis": "y2"
        },
        {
         "hovertemplate": "<b>%{y:.2g}</b><br>at X = %{x}<br>",
         "legendgroup": "Absorbed",
         "marker": {
          "color": "lightseagreen"
         },
         "mode": "lines",
         "name": "Absorbed<br>Luminosity",
         "opacity": 0.6,
         "type": "scatter",
         "uid": "643b6d75-2fe9-4b23-a217-f9dcfd5ed757",
         "x": [
          1,
          2,
          3,
          4,
          5,
          6,
          7,
          8,
          9,
          10,
          11,
          12,
          13,
          14,
          15,
          16,
          17,
          18,
          19,
          20
         ],
         "xaxis": "x2",
         "y": [
          2.65804673153204e+42,
          4.7700146052642123e+42,
          2.5472229968140377e+42,
          4.4972113694812525e+42,
          2.6693301209933358e+42,
          4.447266267261236e+42,
          2.6922956553053436e+42,
          4.330110768371945e+42,
          2.7089402928209043e+42,
          4.25943386711989e+42,
          2.6561585210602605e+42,
          4.288201956309693e+42,
          2.7454765674505417e+42,
          4.1509531498402554e+42,
          2.813186401660242e+42,
          4.156064515611499e+42,
          2.816811651728025e+42,
          4.122377281630377e+42,
          2.8711648018363005e+42,
          4.1070578782802735e+42
         ],
         "yaxis": "y2"
        },
        {
         "hovertemplate": "<b>%{y:.2g}</b><br>at X = %{x}<br>",
         "legendgroup": "Requested",
         "marker": {
          "color": "indigo"
         },
         "mode": "lines",
         "name": "Requested<br>Luminosity",
         "opacity": 0.6,
         "type": "scatter",
         "uid": "ff706aca-48b4-4073-9386-c76a8e0eff24",
         "x": [
          1,
          2,
          3,
          4,
          5,
          6,
          7,
          8,
          9,
          10,
          11,
          12,
          13,
          14,
          15,
          16,
          17,
          18,
          19,
          20
         ],
         "xaxis": "x2",
         "y": [
          1.0592763593038458e+43,
          1.0592763593038458e+43,
          1.0592763593038458e+43,
          1.0592763593038458e+43,
          1.0592763593038458e+43,
          1.0592763593038458e+43,
          1.0592763593038458e+43,
          1.0592763593038458e+43,
          1.0592763593038458e+43,
          1.0592763593038458e+43,
          1.0592763593038458e+43,
          1.0592763593038458e+43,
          1.0592763593038458e+43,
          1.0592763593038458e+43,
          1.0592763593038458e+43,
          1.0592763593038458e+43,
          1.0592763593038458e+43,
          1.0592763593038458e+43,
          1.0592763593038458e+43,
          1.0592763593038458e+43
         ],
         "yaxis": "y2"
        },
        {
         "hovertemplate": "Residual Luminosity: %{y:.2f}% at X = %{x:,.0f}<extra></extra>",
         "marker": {
          "color": "cornflowerblue"
         },
         "mode": "lines",
         "name": "Residual<br>Luminosity",
         "opacity": 0.7,
         "type": "scatter",
         "uid": "b8d5853f-3292-4639-9ffc-7c543a8aeac2",
         "x": [
          1,
          2,
          3,
          4,
          5,
          6,
          7,
          8,
          9,
          10,
          11,
          12,
          13,
          14,
          15,
          16,
          17,
          18,
          19,
          20
         ],
         "xaxis": "x3",
         "y": [
          -25.017199966575717,
          32.934667806992614,
          -23.285026880454048,
          28.669542465013958,
          -21.843381184166276,
          27.201383925951156,
          -20.794876524031412,
          25.84539817735266,
          -20.296243122564654,
          25.486734696172267,
          -19.80398634916046,
          23.118972822094438,
          -17.939843538363082,
          21.170977572592793,
          -17.3652351962308,
          20.667005171329144,
          -16.76893408755113,
          19.590840335454846,
          -16.2559386752441,
          19.250692294202032
         ],
         "yaxis": "y3"
        },
        {
         "hovertemplate": "Next Inner Body Temperature: %{y:.2f} at X = %{x:,.0f}<extra></extra>",
         "marker": {
          "color": "crimson"
         },
         "mode": "lines",
         "name": "Next Inner<br>Boundary<br>Temperature",
         "opacity": 0.7,
         "type": "scatter",
         "uid": "73346c29-6f57-4135-b3e7-03f67c234763",
         "x": [
          1,
          2,
          3,
          4,
          5,
          6,
          7,
          8,
          9,
          10,
          11,
          12,
          13,
          14,
          15,
          16,
          17,
          18,
          19,
          20
         ],
         "xaxis": "x",
         "y": [
          11472.055253129645,
          9949.977592596559,
          11360.096854261606,
          10014.843240243388,
          11328.209558951534,
          10044.200101537022,
          11285.965504372467,
          10060.511200596067,
          11268.87736423254,
          10059.623883542255,
          11233.248147773367,
          10123.783777872188,
          11175.750322790715,
          10152.602547328883,
          11168.529280894094,
          10167.208273207052,
          11144.459025959051,
          10190.841172561493,
          11136.097470940847,
          11136.097470940847
         ],
         "yaxis": "y"
        }
       ],
       "_js2py_pointsCallback": {},
       "_js2py_restyle": {},
       "_js2py_update": {},
       "_last_layout_edit_id": 28,
       "_last_trace_edit_id": 27,
       "_layout": {
        "autosize": true,
        "hidesources": true,
        "hoverlabel": {
         "align": "right",
         "font": {
          "color": "white"
         }
        },
        "legend": {
         "title": {
          "text": "Luminosity"
         },
         "tracegroupgap": 0
        },
        "margin": {
         "b": 10,
         "l": 10,
         "pad": 0,
         "r": 10,
         "t": 25
        },
        "template": {
         "data": {
          "bar": [
           {
            "error_x": {
             "color": "#2a3f5f"
            },
            "error_y": {
             "color": "#2a3f5f"
            },
            "marker": {
             "line": {
              "color": "#E5ECF6",
              "width": 0.5
             }
            },
            "type": "bar"
           }
          ],
          "barpolar": [
           {
            "marker": {
             "line": {
              "color": "#E5ECF6",
              "width": 0.5
             }
            },
            "type": "barpolar"
           }
          ],
          "carpet": [
           {
            "aaxis": {
             "endlinecolor": "#2a3f5f",
             "gridcolor": "white",
             "linecolor": "white",
             "minorgridcolor": "white",
             "startlinecolor": "#2a3f5f"
            },
            "baxis": {
             "endlinecolor": "#2a3f5f",
             "gridcolor": "white",
             "linecolor": "white",
             "minorgridcolor": "white",
             "startlinecolor": "#2a3f5f"
            },
            "type": "carpet"
           }
          ],
          "choropleth": [
           {
            "colorbar": {
             "outlinewidth": 0,
             "ticks": ""
            },
            "type": "choropleth"
           }
          ],
          "contour": [
           {
            "colorbar": {
             "outlinewidth": 0,
             "ticks": ""
            },
            "colorscale": [
             [
              0,
              "#0d0887"
             ],
             [
              0.1111111111111111,
              "#46039f"
             ],
             [
              0.2222222222222222,
              "#7201a8"
             ],
             [
              0.3333333333333333,
              "#9c179e"
             ],
             [
              0.4444444444444444,
              "#bd3786"
             ],
             [
              0.5555555555555556,
              "#d8576b"
             ],
             [
              0.6666666666666666,
              "#ed7953"
             ],
             [
              0.7777777777777778,
              "#fb9f3a"
             ],
             [
              0.8888888888888888,
              "#fdca26"
             ],
             [
              1,
              "#f0f921"
             ]
            ],
            "type": "contour"
           }
          ],
          "contourcarpet": [
           {
            "colorbar": {
             "outlinewidth": 0,
             "ticks": ""
            },
            "type": "contourcarpet"
           }
          ],
          "heatmap": [
           {
            "colorbar": {
             "outlinewidth": 0,
             "ticks": ""
            },
            "colorscale": [
             [
              0,
              "#0d0887"
             ],
             [
              0.1111111111111111,
              "#46039f"
             ],
             [
              0.2222222222222222,
              "#7201a8"
             ],
             [
              0.3333333333333333,
              "#9c179e"
             ],
             [
              0.4444444444444444,
              "#bd3786"
             ],
             [
              0.5555555555555556,
              "#d8576b"
             ],
             [
              0.6666666666666666,
              "#ed7953"
             ],
             [
              0.7777777777777778,
              "#fb9f3a"
             ],
             [
              0.8888888888888888,
              "#fdca26"
             ],
             [
              1,
              "#f0f921"
             ]
            ],
            "type": "heatmap"
           }
          ],
          "heatmapgl": [
           {
            "colorbar": {
             "outlinewidth": 0,
             "ticks": ""
            },
            "colorscale": [
             [
              0,
              "#0d0887"
             ],
             [
              0.1111111111111111,
              "#46039f"
             ],
             [
              0.2222222222222222,
              "#7201a8"
             ],
             [
              0.3333333333333333,
              "#9c179e"
             ],
             [
              0.4444444444444444,
              "#bd3786"
             ],
             [
              0.5555555555555556,
              "#d8576b"
             ],
             [
              0.6666666666666666,
              "#ed7953"
             ],
             [
              0.7777777777777778,
              "#fb9f3a"
             ],
             [
              0.8888888888888888,
              "#fdca26"
             ],
             [
              1,
              "#f0f921"
             ]
            ],
            "type": "heatmapgl"
           }
          ],
          "histogram": [
           {
            "marker": {
             "colorbar": {
              "outlinewidth": 0,
              "ticks": ""
             }
            },
            "type": "histogram"
           }
          ],
          "histogram2d": [
           {
            "colorbar": {
             "outlinewidth": 0,
             "ticks": ""
            },
            "colorscale": [
             [
              0,
              "#0d0887"
             ],
             [
              0.1111111111111111,
              "#46039f"
             ],
             [
              0.2222222222222222,
              "#7201a8"
             ],
             [
              0.3333333333333333,
              "#9c179e"
             ],
             [
              0.4444444444444444,
              "#bd3786"
             ],
             [
              0.5555555555555556,
              "#d8576b"
             ],
             [
              0.6666666666666666,
              "#ed7953"
             ],
             [
              0.7777777777777778,
              "#fb9f3a"
             ],
             [
              0.8888888888888888,
              "#fdca26"
             ],
             [
              1,
              "#f0f921"
             ]
            ],
            "type": "histogram2d"
           }
          ],
          "histogram2dcontour": [
           {
            "colorbar": {
             "outlinewidth": 0,
             "ticks": ""
            },
            "colorscale": [
             [
              0,
              "#0d0887"
             ],
             [
              0.1111111111111111,
              "#46039f"
             ],
             [
              0.2222222222222222,
              "#7201a8"
             ],
             [
              0.3333333333333333,
              "#9c179e"
             ],
             [
              0.4444444444444444,
              "#bd3786"
             ],
             [
              0.5555555555555556,
              "#d8576b"
             ],
             [
              0.6666666666666666,
              "#ed7953"
             ],
             [
              0.7777777777777778,
              "#fb9f3a"
             ],
             [
              0.8888888888888888,
              "#fdca26"
             ],
             [
              1,
              "#f0f921"
             ]
            ],
            "type": "histogram2dcontour"
           }
          ],
          "mesh3d": [
           {
            "colorbar": {
             "outlinewidth": 0,
             "ticks": ""
            },
            "type": "mesh3d"
           }
          ],
          "parcoords": [
           {
            "line": {
             "colorbar": {
              "outlinewidth": 0,
              "ticks": ""
             }
            },
            "type": "parcoords"
           }
          ],
          "pie": [
           {
            "automargin": true,
            "type": "pie"
           }
          ],
          "scatter": [
           {
            "marker": {
             "colorbar": {
              "outlinewidth": 0,
              "ticks": ""
             }
            },
            "type": "scatter"
           }
          ],
          "scatter3d": [
           {
            "line": {
             "colorbar": {
              "outlinewidth": 0,
              "ticks": ""
             }
            },
            "marker": {
             "colorbar": {
              "outlinewidth": 0,
              "ticks": ""
             }
            },
            "type": "scatter3d"
           }
          ],
          "scattercarpet": [
           {
            "marker": {
             "colorbar": {
              "outlinewidth": 0,
              "ticks": ""
             }
            },
            "type": "scattercarpet"
           }
          ],
          "scattergeo": [
           {
            "marker": {
             "colorbar": {
              "outlinewidth": 0,
              "ticks": ""
             }
            },
            "type": "scattergeo"
           }
          ],
          "scattergl": [
           {
            "marker": {
             "colorbar": {
              "outlinewidth": 0,
              "ticks": ""
             }
            },
            "type": "scattergl"
           }
          ],
          "scattermapbox": [
           {
            "marker": {
             "colorbar": {
              "outlinewidth": 0,
              "ticks": ""
             }
            },
            "type": "scattermapbox"
           }
          ],
          "scatterpolar": [
           {
            "marker": {
             "colorbar": {
              "outlinewidth": 0,
              "ticks": ""
             }
            },
            "type": "scatterpolar"
           }
          ],
          "scatterpolargl": [
           {
            "marker": {
             "colorbar": {
              "outlinewidth": 0,
              "ticks": ""
             }
            },
            "type": "scatterpolargl"
           }
          ],
          "scatterternary": [
           {
            "marker": {
             "colorbar": {
              "outlinewidth": 0,
              "ticks": ""
             }
            },
            "type": "scatterternary"
           }
          ],
          "surface": [
           {
            "colorbar": {
             "outlinewidth": 0,
             "ticks": ""
            },
            "colorscale": [
             [
              0,
              "#0d0887"
             ],
             [
              0.1111111111111111,
              "#46039f"
             ],
             [
              0.2222222222222222,
              "#7201a8"
             ],
             [
              0.3333333333333333,
              "#9c179e"
             ],
             [
              0.4444444444444444,
              "#bd3786"
             ],
             [
              0.5555555555555556,
              "#d8576b"
             ],
             [
              0.6666666666666666,
              "#ed7953"
             ],
             [
              0.7777777777777778,
              "#fb9f3a"
             ],
             [
              0.8888888888888888,
              "#fdca26"
             ],
             [
              1,
              "#f0f921"
             ]
            ],
            "type": "surface"
           }
          ],
          "table": [
           {
            "cells": {
             "fill": {
              "color": "#EBF0F8"
             },
             "line": {
              "color": "white"
             }
            },
            "header": {
             "fill": {
              "color": "#C8D4E3"
             },
             "line": {
              "color": "white"
             }
            },
            "type": "table"
           }
          ]
         },
         "layout": {
          "annotationdefaults": {
           "arrowcolor": "#2a3f5f",
           "arrowhead": 0,
           "arrowwidth": 1
          },
          "autotypenumbers": "strict",
          "coloraxis": {
           "colorbar": {
            "outlinewidth": 0,
            "ticks": ""
           }
          },
          "colorscale": {
           "diverging": [
            [
             0,
             "#8e0152"
            ],
            [
             0.1,
             "#c51b7d"
            ],
            [
             0.2,
             "#de77ae"
            ],
            [
             0.3,
             "#f1b6da"
            ],
            [
             0.4,
             "#fde0ef"
            ],
            [
             0.5,
             "#f7f7f7"
            ],
            [
             0.6,
             "#e6f5d0"
            ],
            [
             0.7,
             "#b8e186"
            ],
            [
             0.8,
             "#7fbc41"
            ],
            [
             0.9,
             "#4d9221"
            ],
            [
             1,
             "#276419"
            ]
           ],
           "sequential": [
            [
             0,
             "#0d0887"
            ],
            [
             0.1111111111111111,
             "#46039f"
            ],
            [
             0.2222222222222222,
             "#7201a8"
            ],
            [
             0.3333333333333333,
             "#9c179e"
            ],
            [
             0.4444444444444444,
             "#bd3786"
            ],
            [
             0.5555555555555556,
             "#d8576b"
            ],
            [
             0.6666666666666666,
             "#ed7953"
            ],
            [
             0.7777777777777778,
             "#fb9f3a"
            ],
            [
             0.8888888888888888,
             "#fdca26"
            ],
            [
             1,
             "#f0f921"
            ]
           ],
           "sequentialminus": [
            [
             0,
             "#0d0887"
            ],
            [
             0.1111111111111111,
             "#46039f"
            ],
            [
             0.2222222222222222,
             "#7201a8"
            ],
            [
             0.3333333333333333,
             "#9c179e"
            ],
            [
             0.4444444444444444,
             "#bd3786"
            ],
            [
             0.5555555555555556,
             "#d8576b"
            ],
            [
             0.6666666666666666,
             "#ed7953"
            ],
            [
             0.7777777777777778,
             "#fb9f3a"
            ],
            [
             0.8888888888888888,
             "#fdca26"
            ],
            [
             1,
             "#f0f921"
            ]
           ]
          },
          "colorway": [
           "#636efa",
           "#EF553B",
           "#00cc96",
           "#ab63fa",
           "#FFA15A",
           "#19d3f3",
           "#FF6692",
           "#B6E880",
           "#FF97FF",
           "#FECB52"
          ],
          "font": {
           "color": "#2a3f5f"
          },
          "geo": {
           "bgcolor": "white",
           "lakecolor": "white",
           "landcolor": "#E5ECF6",
           "showlakes": true,
           "showland": true,
           "subunitcolor": "white"
          },
          "hoverlabel": {
           "align": "left"
          },
          "hovermode": "closest",
          "mapbox": {
           "style": "light"
          },
          "paper_bgcolor": "white",
          "plot_bgcolor": "#E5ECF6",
          "polar": {
           "angularaxis": {
            "gridcolor": "white",
            "linecolor": "white",
            "ticks": ""
           },
           "bgcolor": "#E5ECF6",
           "radialaxis": {
            "gridcolor": "white",
            "linecolor": "white",
            "ticks": ""
           }
          },
          "scene": {
           "xaxis": {
            "backgroundcolor": "#E5ECF6",
            "gridcolor": "white",
            "gridwidth": 2,
            "linecolor": "white",
            "showbackground": true,
            "ticks": "",
            "zerolinecolor": "white"
           },
           "yaxis": {
            "backgroundcolor": "#E5ECF6",
            "gridcolor": "white",
            "gridwidth": 2,
            "linecolor": "white",
            "showbackground": true,
            "ticks": "",
            "zerolinecolor": "white"
           },
           "zaxis": {
            "backgroundcolor": "#E5ECF6",
            "gridcolor": "white",
            "gridwidth": 2,
            "linecolor": "white",
            "showbackground": true,
            "ticks": "",
            "zerolinecolor": "white"
           }
          },
          "shapedefaults": {
           "line": {
            "color": "#2a3f5f"
           }
          },
          "ternary": {
           "aaxis": {
            "gridcolor": "white",
            "linecolor": "white",
            "ticks": ""
           },
           "baxis": {
            "gridcolor": "white",
            "linecolor": "white",
            "ticks": ""
           },
           "bgcolor": "#E5ECF6",
           "caxis": {
            "gridcolor": "white",
            "linecolor": "white",
            "ticks": ""
           }
          },
          "title": {
           "x": 0.05
          },
          "xaxis": {
           "automargin": true,
           "gridcolor": "white",
           "linecolor": "white",
           "ticks": "",
           "title": {
            "standoff": 15
           },
           "zerolinecolor": "white",
           "zerolinewidth": 2
          },
          "yaxis": {
           "automargin": true,
           "gridcolor": "white",
           "linecolor": "white",
           "ticks": "",
           "title": {
            "standoff": 15
           },
           "zerolinecolor": "white",
           "zerolinewidth": 2
          }
         }
        },
        "xaxis": {
         "anchor": "y",
         "domain": [
          0,
          1
         ],
         "dtick": 2,
         "matches": "x3",
         "range": [
          0,
          21
         ],
         "showticklabels": false
        },
        "xaxis2": {
         "anchor": "y2",
         "domain": [
          0,
          1
         ],
         "dtick": 2,
         "matches": "x",
         "range": [
          0,
          21
         ],
         "showticklabels": false
        },
        "xaxis3": {
         "anchor": "y3",
         "domain": [
          0,
          1
         ],
         "dtick": 2,
         "matches": "x",
         "title": {
          "text": "$\\mbox{Iteration Number}$"
         }
        },
        "yaxis": {
         "anchor": "x",
         "automargin": true,
         "domain": [
          0.865,
          1
         ],
         "exponentformat": "e",
         "side": "top",
         "tickformat": "g",
         "title": {
          "text": "$\\mbox{T}_{inner}$"
         }
        },
        "yaxis2": {
         "anchor": "x2",
         "automargin": true,
         "domain": [
          0.185,
          0.815
         ],
         "exponentformat": "e",
         "title": {
          "font": {
           "size": 13
          },
          "text": "$\\mbox{Luminosity}~(erg~sec^{-1})$"
         }
        },
        "yaxis3": {
         "anchor": "x3",
         "automargin": true,
         "domain": [
          0,
          0.135
         ],
         "exponentformat": "e",
         "title": {
          "font": {
           "size": 12
          },
          "text": "$~~\\mbox{Residual}\\\\\\mbox{Luminosity(%)}$"
         }
        }
       },
       "_py2js_animate": {},
       "_py2js_deleteTraces": {},
       "_py2js_moveTraces": {},
       "_py2js_removeTraceProps": {},
       "_py2js_restyle": {},
       "_view_count": 0
      }
     },
     "b4be3a7b390d4ff381ccce2bf06e77c7": {
      "model_module": "@jupyter-widgets/controls",
      "model_module_version": "1.5.0",
      "model_name": "VBoxModel",
      "state": {
       "children": [
        "IPY_MODEL_47998edb071a4dbea611d7729f3bb1f2",
        "IPY_MODEL_afed3e284eb548b29b507da8498a6407"
       ],
       "layout": "IPY_MODEL_ffdfddf7ca9444e48e2ae4ba557ac790"
      }
     },
     "b8f19262f39b4e999e0bfeb43b0fbd20": {
      "model_module": "@jupyter-widgets/base",
      "model_module_version": "1.2.0",
      "model_name": "LayoutModel",
      "state": {}
     },
     "bc9e5fb1e0f24b4ca19c2891c91bc725": {
      "model_module": "@jupyter-widgets/output",
      "model_module_version": "1.0.0",
      "model_name": "OutputModel",
      "state": {
       "layout": "IPY_MODEL_9ee302457e034e59b4444eb7d523ed6b",
       "outputs": [
        {
         "data": {
          "text/html": "        <script type=\"text/javascript\">\n        window.PlotlyConfig = {MathJaxConfig: 'local'};\n        if (window.MathJax) {MathJax.Hub.Config({SVG: {font: \"STIX-Web\"}});}\n        if (typeof require !== 'undefined') {\n        require.undef(\"plotly\");\n        requirejs.config({\n            paths: {\n                'plotly': ['https://cdn.plot.ly/plotly-latest.min']\n            }\n        });\n        require(['plotly'], function(Plotly) {\n            window._Plotly = Plotly;\n        });\n        }\n        </script>\n        "
         },
         "metadata": {},
         "output_type": "display_data"
        },
        {
         "data": {
          "text/html": "<div>                            <div id=\"31892830-dc6c-4fdd-bb1e-a96a2177f396\" class=\"plotly-graph-div\" style=\"height:525px; width:100%;\"></div>            <script type=\"text/javascript\">                require([\"plotly\"], function(Plotly) {                    window.PLOTLYENV=window.PLOTLYENV || {};                                    if (document.getElementById(\"31892830-dc6c-4fdd-bb1e-a96a2177f396\")) {                    Plotly.newPlot(                        \"31892830-dc6c-4fdd-bb1e-a96a2177f396\",                        [{\"hovertemplate\": \"<b>%{y:.2g}</b><br>at X = %{x}<br>\", \"legendgroup\": \"Emitted\", \"marker\": {\"color\": \"orangered\"}, \"mode\": \"lines\", \"name\": \"Emitted<br>Luminosity\", \"opacity\": 0.6, \"type\": \"scatter\", \"uid\": \"9c643990-6746-4bd9-a786-c8a900586954\", \"x\": [1, 2, 3, 4, 5, 6, 7, 8, 9, 10, 11, 12, 13, 14, 15, 16, 17, 18, 19, 20], \"xaxis\": \"x2\", \"y\": [7.942750742981396e+42, 1.4081455093985728e+43, 8.126235743016503e+42, 1.3629660449563156e+43, 8.27894586347348e+42, 1.3474141886349227e+43, 8.390011483383557e+42, 1.3330505521644895e+43, 8.442830540796857e+42, 1.3292513146988894e+43, 8.494974137074282e+42, 1.3041701729221733e+43, 8.692438378058671e+42, 1.2835355197638404e+43, 8.753305281326621e+42, 1.2781970592598386e+43, 8.816470048071725e+42, 1.2667974995662812e+43, 8.870810439340542e+42, 1.263194391778655e+43], \"yaxis\": \"y2\"}, {\"hovertemplate\": \"<b>%{y:.2g}</b><br>at X = %{x}<br>\", \"legendgroup\": \"Absorbed\", \"marker\": {\"color\": \"lightseagreen\"}, \"mode\": \"lines\", \"name\": \"Absorbed<br>Luminosity\", \"opacity\": 0.6, \"type\": \"scatter\", \"uid\": \"2b1e7800-eda8-4f85-b2c5-7b3139d38dad\", \"x\": [1, 2, 3, 4, 5, 6, 7, 8, 9, 10, 11, 12, 13, 14, 15, 16, 17, 18, 19, 20], \"xaxis\": \"x2\", \"y\": [2.65804673153204e+42, 4.7700146052642123e+42, 2.5472229968140377e+42, 4.4972113694812525e+42, 2.6693301209933358e+42, 4.447266267261236e+42, 2.6922956553053436e+42, 4.330110768371945e+42, 2.7089402928209043e+42, 4.25943386711989e+42, 2.6561585210602605e+42, 4.288201956309693e+42, 2.7454765674505417e+42, 4.1509531498402554e+42, 2.813186401660242e+42, 4.156064515611499e+42, 2.816811651728025e+42, 4.122377281630377e+42, 2.8711648018363005e+42, 4.1070578782802735e+42], \"yaxis\": \"y2\"}, {\"hovertemplate\": \"<b>%{y:.2g}</b><br>at X = %{x}<br>\", \"legendgroup\": \"Requested\", \"marker\": {\"color\": \"indigo\"}, \"mode\": \"lines\", \"name\": \"Requested<br>Luminosity\", \"opacity\": 0.6, \"type\": \"scatter\", \"uid\": \"7baab29c-f5bf-4ade-829f-e46f91ce03e0\", \"x\": [1, 2, 3, 4, 5, 6, 7, 8, 9, 10, 11, 12, 13, 14, 15, 16, 17, 18, 19, 20], \"xaxis\": \"x2\", \"y\": [1.0592763593038458e+43, 1.0592763593038458e+43, 1.0592763593038458e+43, 1.0592763593038458e+43, 1.0592763593038458e+43, 1.0592763593038458e+43, 1.0592763593038458e+43, 1.0592763593038458e+43, 1.0592763593038458e+43, 1.0592763593038458e+43, 1.0592763593038458e+43, 1.0592763593038458e+43, 1.0592763593038458e+43, 1.0592763593038458e+43, 1.0592763593038458e+43, 1.0592763593038458e+43, 1.0592763593038458e+43, 1.0592763593038458e+43, 1.0592763593038458e+43, 1.0592763593038458e+43], \"yaxis\": \"y2\"}, {\"hovertemplate\": \"Residual Luminosity: %{y:.2f}% at X = %{x:,.0f}<extra></extra>\", \"marker\": {\"color\": \"cornflowerblue\"}, \"mode\": \"lines\", \"name\": \"Residual<br>Luminosity\", \"opacity\": 0.7, \"type\": \"scatter\", \"uid\": \"7ae99492-58b8-4c6b-9065-e58b97908fcd\", \"x\": [1, 2, 3, 4, 5, 6, 7, 8, 9, 10, 11, 12, 13, 14, 15, 16, 17, 18, 19, 20], \"xaxis\": \"x3\", \"y\": [-25.017199966575717, 32.934667806992614, -23.285026880454048, 28.669542465013958, -21.843381184166276, 27.201383925951156, -20.794876524031412, 25.84539817735266, -20.296243122564654, 25.486734696172267, -19.80398634916046, 23.118972822094438, -17.939843538363082, 21.170977572592793, -17.3652351962308, 20.667005171329144, -16.76893408755113, 19.590840335454846, -16.2559386752441, 19.250692294202032], \"yaxis\": \"y3\"}, {\"hovertemplate\": \"Next Inner Body Temperature: %{y:.2f} at X = %{x:,.0f}<extra></extra>\", \"marker\": {\"color\": \"crimson\"}, \"mode\": \"lines\", \"name\": \"Next Inner<br>Boundary<br>Temperature\", \"opacity\": 0.7, \"type\": \"scatter\", \"uid\": \"3fd5150b-4887-4fb5-aa59-ee3de1f27b9d\", \"x\": [1, 2, 3, 4, 5, 6, 7, 8, 9, 10, 11, 12, 13, 14, 15, 16, 17, 18, 19, 20], \"xaxis\": \"x\", \"y\": [11472.055253129645, 9949.977592596559, 11360.096854261606, 10014.843240243388, 11328.209558951534, 10044.200101537022, 11285.965504372467, 10060.511200596067, 11268.87736423254, 10059.623883542255, 11233.248147773367, 10123.783777872188, 11175.750322790715, 10152.602547328883, 11168.529280894094, 10167.208273207052, 11144.459025959051, 10190.841172561493, 11136.097470940847, 11136.097470940847], \"yaxis\": \"y\"}],                        {\"autosize\": true, \"hidesources\": true, \"hoverlabel\": {\"align\": \"right\", \"font\": {\"color\": \"white\"}}, \"legend\": {\"title\": {\"text\": \"Luminosity\"}, \"tracegroupgap\": 0}, \"margin\": {\"b\": 10, \"l\": 10, \"pad\": 0, \"r\": 10, \"t\": 25}, \"template\": {\"data\": {\"bar\": [{\"error_x\": {\"color\": \"#2a3f5f\"}, \"error_y\": {\"color\": \"#2a3f5f\"}, \"marker\": {\"line\": {\"color\": \"#E5ECF6\", \"width\": 0.5}}, \"type\": \"bar\"}], \"barpolar\": [{\"marker\": {\"line\": {\"color\": \"#E5ECF6\", \"width\": 0.5}}, \"type\": \"barpolar\"}], \"carpet\": [{\"aaxis\": {\"endlinecolor\": \"#2a3f5f\", \"gridcolor\": \"white\", \"linecolor\": \"white\", \"minorgridcolor\": \"white\", \"startlinecolor\": \"#2a3f5f\"}, \"baxis\": {\"endlinecolor\": \"#2a3f5f\", \"gridcolor\": \"white\", \"linecolor\": \"white\", \"minorgridcolor\": \"white\", \"startlinecolor\": \"#2a3f5f\"}, \"type\": \"carpet\"}], \"choropleth\": [{\"colorbar\": {\"outlinewidth\": 0, \"ticks\": \"\"}, \"type\": \"choropleth\"}], \"contour\": [{\"colorbar\": {\"outlinewidth\": 0, \"ticks\": \"\"}, \"colorscale\": [[0.0, \"#0d0887\"], [0.1111111111111111, \"#46039f\"], [0.2222222222222222, \"#7201a8\"], [0.3333333333333333, \"#9c179e\"], [0.4444444444444444, \"#bd3786\"], [0.5555555555555556, \"#d8576b\"], [0.6666666666666666, \"#ed7953\"], [0.7777777777777778, \"#fb9f3a\"], [0.8888888888888888, \"#fdca26\"], [1.0, \"#f0f921\"]], \"type\": \"contour\"}], \"contourcarpet\": [{\"colorbar\": {\"outlinewidth\": 0, \"ticks\": \"\"}, \"type\": \"contourcarpet\"}], \"heatmap\": [{\"colorbar\": {\"outlinewidth\": 0, \"ticks\": \"\"}, \"colorscale\": [[0.0, \"#0d0887\"], [0.1111111111111111, \"#46039f\"], [0.2222222222222222, \"#7201a8\"], [0.3333333333333333, \"#9c179e\"], [0.4444444444444444, \"#bd3786\"], [0.5555555555555556, \"#d8576b\"], [0.6666666666666666, \"#ed7953\"], [0.7777777777777778, \"#fb9f3a\"], [0.8888888888888888, \"#fdca26\"], [1.0, \"#f0f921\"]], \"type\": \"heatmap\"}], \"heatmapgl\": [{\"colorbar\": {\"outlinewidth\": 0, \"ticks\": \"\"}, \"colorscale\": [[0.0, \"#0d0887\"], [0.1111111111111111, \"#46039f\"], [0.2222222222222222, \"#7201a8\"], [0.3333333333333333, \"#9c179e\"], [0.4444444444444444, \"#bd3786\"], [0.5555555555555556, \"#d8576b\"], [0.6666666666666666, \"#ed7953\"], [0.7777777777777778, \"#fb9f3a\"], [0.8888888888888888, \"#fdca26\"], [1.0, \"#f0f921\"]], \"type\": \"heatmapgl\"}], \"histogram\": [{\"marker\": {\"colorbar\": {\"outlinewidth\": 0, \"ticks\": \"\"}}, \"type\": \"histogram\"}], \"histogram2d\": [{\"colorbar\": {\"outlinewidth\": 0, \"ticks\": \"\"}, \"colorscale\": [[0.0, \"#0d0887\"], [0.1111111111111111, \"#46039f\"], [0.2222222222222222, \"#7201a8\"], [0.3333333333333333, \"#9c179e\"], [0.4444444444444444, \"#bd3786\"], [0.5555555555555556, \"#d8576b\"], [0.6666666666666666, \"#ed7953\"], [0.7777777777777778, \"#fb9f3a\"], [0.8888888888888888, \"#fdca26\"], [1.0, \"#f0f921\"]], \"type\": \"histogram2d\"}], \"histogram2dcontour\": [{\"colorbar\": {\"outlinewidth\": 0, \"ticks\": \"\"}, \"colorscale\": [[0.0, \"#0d0887\"], [0.1111111111111111, \"#46039f\"], [0.2222222222222222, \"#7201a8\"], [0.3333333333333333, \"#9c179e\"], [0.4444444444444444, \"#bd3786\"], [0.5555555555555556, \"#d8576b\"], [0.6666666666666666, \"#ed7953\"], [0.7777777777777778, \"#fb9f3a\"], [0.8888888888888888, \"#fdca26\"], [1.0, \"#f0f921\"]], \"type\": \"histogram2dcontour\"}], \"mesh3d\": [{\"colorbar\": {\"outlinewidth\": 0, \"ticks\": \"\"}, \"type\": \"mesh3d\"}], \"parcoords\": [{\"line\": {\"colorbar\": {\"outlinewidth\": 0, \"ticks\": \"\"}}, \"type\": \"parcoords\"}], \"pie\": [{\"automargin\": true, \"type\": \"pie\"}], \"scatter\": [{\"marker\": {\"colorbar\": {\"outlinewidth\": 0, \"ticks\": \"\"}}, \"type\": \"scatter\"}], \"scatter3d\": [{\"line\": {\"colorbar\": {\"outlinewidth\": 0, \"ticks\": \"\"}}, \"marker\": {\"colorbar\": {\"outlinewidth\": 0, \"ticks\": \"\"}}, \"type\": \"scatter3d\"}], \"scattercarpet\": [{\"marker\": {\"colorbar\": {\"outlinewidth\": 0, \"ticks\": \"\"}}, \"type\": \"scattercarpet\"}], \"scattergeo\": [{\"marker\": {\"colorbar\": {\"outlinewidth\": 0, \"ticks\": \"\"}}, \"type\": \"scattergeo\"}], \"scattergl\": [{\"marker\": {\"colorbar\": {\"outlinewidth\": 0, \"ticks\": \"\"}}, \"type\": \"scattergl\"}], \"scattermapbox\": [{\"marker\": {\"colorbar\": {\"outlinewidth\": 0, \"ticks\": \"\"}}, \"type\": \"scattermapbox\"}], \"scatterpolar\": [{\"marker\": {\"colorbar\": {\"outlinewidth\": 0, \"ticks\": \"\"}}, \"type\": \"scatterpolar\"}], \"scatterpolargl\": [{\"marker\": {\"colorbar\": {\"outlinewidth\": 0, \"ticks\": \"\"}}, \"type\": \"scatterpolargl\"}], \"scatterternary\": [{\"marker\": {\"colorbar\": {\"outlinewidth\": 0, \"ticks\": \"\"}}, \"type\": \"scatterternary\"}], \"surface\": [{\"colorbar\": {\"outlinewidth\": 0, \"ticks\": \"\"}, \"colorscale\": [[0.0, \"#0d0887\"], [0.1111111111111111, \"#46039f\"], [0.2222222222222222, \"#7201a8\"], [0.3333333333333333, \"#9c179e\"], [0.4444444444444444, \"#bd3786\"], [0.5555555555555556, \"#d8576b\"], [0.6666666666666666, \"#ed7953\"], [0.7777777777777778, \"#fb9f3a\"], [0.8888888888888888, \"#fdca26\"], [1.0, \"#f0f921\"]], \"type\": \"surface\"}], \"table\": [{\"cells\": {\"fill\": {\"color\": \"#EBF0F8\"}, \"line\": {\"color\": \"white\"}}, \"header\": {\"fill\": {\"color\": \"#C8D4E3\"}, \"line\": {\"color\": \"white\"}}, \"type\": \"table\"}]}, \"layout\": {\"annotationdefaults\": {\"arrowcolor\": \"#2a3f5f\", \"arrowhead\": 0, \"arrowwidth\": 1}, \"autotypenumbers\": \"strict\", \"coloraxis\": {\"colorbar\": {\"outlinewidth\": 0, \"ticks\": \"\"}}, \"colorscale\": {\"diverging\": [[0, \"#8e0152\"], [0.1, \"#c51b7d\"], [0.2, \"#de77ae\"], [0.3, \"#f1b6da\"], [0.4, \"#fde0ef\"], [0.5, \"#f7f7f7\"], [0.6, \"#e6f5d0\"], [0.7, \"#b8e186\"], [0.8, \"#7fbc41\"], [0.9, \"#4d9221\"], [1, \"#276419\"]], \"sequential\": [[0.0, \"#0d0887\"], [0.1111111111111111, \"#46039f\"], [0.2222222222222222, \"#7201a8\"], [0.3333333333333333, \"#9c179e\"], [0.4444444444444444, \"#bd3786\"], [0.5555555555555556, \"#d8576b\"], [0.6666666666666666, \"#ed7953\"], [0.7777777777777778, \"#fb9f3a\"], [0.8888888888888888, \"#fdca26\"], [1.0, \"#f0f921\"]], \"sequentialminus\": [[0.0, \"#0d0887\"], [0.1111111111111111, \"#46039f\"], [0.2222222222222222, \"#7201a8\"], [0.3333333333333333, \"#9c179e\"], [0.4444444444444444, \"#bd3786\"], [0.5555555555555556, \"#d8576b\"], [0.6666666666666666, \"#ed7953\"], [0.7777777777777778, \"#fb9f3a\"], [0.8888888888888888, \"#fdca26\"], [1.0, \"#f0f921\"]]}, \"colorway\": [\"#636efa\", \"#EF553B\", \"#00cc96\", \"#ab63fa\", \"#FFA15A\", \"#19d3f3\", \"#FF6692\", \"#B6E880\", \"#FF97FF\", \"#FECB52\"], \"font\": {\"color\": \"#2a3f5f\"}, \"geo\": {\"bgcolor\": \"white\", \"lakecolor\": \"white\", \"landcolor\": \"#E5ECF6\", \"showlakes\": true, \"showland\": true, \"subunitcolor\": \"white\"}, \"hoverlabel\": {\"align\": \"left\"}, \"hovermode\": \"closest\", \"mapbox\": {\"style\": \"light\"}, \"paper_bgcolor\": \"white\", \"plot_bgcolor\": \"#E5ECF6\", \"polar\": {\"angularaxis\": {\"gridcolor\": \"white\", \"linecolor\": \"white\", \"ticks\": \"\"}, \"bgcolor\": \"#E5ECF6\", \"radialaxis\": {\"gridcolor\": \"white\", \"linecolor\": \"white\", \"ticks\": \"\"}}, \"scene\": {\"xaxis\": {\"backgroundcolor\": \"#E5ECF6\", \"gridcolor\": \"white\", \"gridwidth\": 2, \"linecolor\": \"white\", \"showbackground\": true, \"ticks\": \"\", \"zerolinecolor\": \"white\"}, \"yaxis\": {\"backgroundcolor\": \"#E5ECF6\", \"gridcolor\": \"white\", \"gridwidth\": 2, \"linecolor\": \"white\", \"showbackground\": true, \"ticks\": \"\", \"zerolinecolor\": \"white\"}, \"zaxis\": {\"backgroundcolor\": \"#E5ECF6\", \"gridcolor\": \"white\", \"gridwidth\": 2, \"linecolor\": \"white\", \"showbackground\": true, \"ticks\": \"\", \"zerolinecolor\": \"white\"}}, \"shapedefaults\": {\"line\": {\"color\": \"#2a3f5f\"}}, \"ternary\": {\"aaxis\": {\"gridcolor\": \"white\", \"linecolor\": \"white\", \"ticks\": \"\"}, \"baxis\": {\"gridcolor\": \"white\", \"linecolor\": \"white\", \"ticks\": \"\"}, \"bgcolor\": \"#E5ECF6\", \"caxis\": {\"gridcolor\": \"white\", \"linecolor\": \"white\", \"ticks\": \"\"}}, \"title\": {\"x\": 0.05}, \"xaxis\": {\"automargin\": true, \"gridcolor\": \"white\", \"linecolor\": \"white\", \"ticks\": \"\", \"title\": {\"standoff\": 15}, \"zerolinecolor\": \"white\", \"zerolinewidth\": 2}, \"yaxis\": {\"automargin\": true, \"gridcolor\": \"white\", \"linecolor\": \"white\", \"ticks\": \"\", \"title\": {\"standoff\": 15}, \"zerolinecolor\": \"white\", \"zerolinewidth\": 2}}}, \"xaxis\": {\"anchor\": \"y\", \"domain\": [0.0, 1.0], \"dtick\": 2, \"matches\": \"x3\", \"range\": [0, 21], \"showticklabels\": false}, \"xaxis2\": {\"anchor\": \"y2\", \"domain\": [0.0, 1.0], \"dtick\": 2, \"matches\": \"x\", \"range\": [0, 21], \"showticklabels\": false}, \"xaxis3\": {\"anchor\": \"y3\", \"domain\": [0.0, 1.0], \"dtick\": 2, \"matches\": \"x\", \"title\": {\"text\": \"$\\\\mbox{Iteration Number}$\"}}, \"yaxis\": {\"anchor\": \"x\", \"automargin\": true, \"domain\": [0.865, 1.0], \"exponentformat\": \"e\", \"side\": \"top\", \"tickformat\": \"g\", \"title\": {\"text\": \"$\\\\mbox{T}_{inner}$\"}}, \"yaxis2\": {\"anchor\": \"x2\", \"automargin\": true, \"domain\": [0.185, 0.815], \"exponentformat\": \"e\", \"title\": {\"font\": {\"size\": 13}, \"text\": \"$\\\\mbox{Luminosity}~(erg~sec^{-1})$\"}}, \"yaxis3\": {\"anchor\": \"x3\", \"automargin\": true, \"domain\": [0.0, 0.135], \"exponentformat\": \"e\", \"title\": {\"font\": {\"size\": 12}, \"text\": \"$~~\\\\mbox{Residual}\\\\\\\\\\\\mbox{Luminosity(%)}$\"}}},                        {\"responsive\": true}                    ).then(function(){\n                            \nvar gd = document.getElementById('31892830-dc6c-4fdd-bb1e-a96a2177f396');\nvar x = new MutationObserver(function (mutations, observer) {{\n        var display = window.getComputedStyle(gd).display;\n        if (!display || display === 'none') {{\n            console.log([gd, 'removed!']);\n            Plotly.purge(gd);\n            observer.disconnect();\n        }}\n}});\n\n// Listen for the removal of the full notebook cells\nvar notebookContainer = gd.closest('#notebook-container');\nif (notebookContainer) {{\n    x.observe(notebookContainer, {childList: true});\n}}\n\n// Listen for the clearing of the current output cell\nvar outputEl = gd.closest('.output');\nif (outputEl) {{\n    x.observe(outputEl, {childList: true});\n}}\n\n                        })                };                });            </script>        </div>"
         },
         "metadata": {},
         "output_type": "display_data"
        }
       ]
      }
     },
     "c0ba288e40b64e62a0d3d82fd3039526": {
      "model_module": "@jupyter-widgets/output",
      "model_module_version": "1.0.0",
      "model_name": "OutputModel",
      "state": {
       "layout": "IPY_MODEL_99d62d44ce314d259dc627d5557ae1bb",
       "outputs": [
        {
         "data": {
          "text/html": "        <script type=\"text/javascript\">\n        window.PlotlyConfig = {MathJaxConfig: 'local'};\n        if (window.MathJax) {MathJax.Hub.Config({SVG: {font: \"STIX-Web\"}});}\n        if (typeof require !== 'undefined') {\n        require.undef(\"plotly\");\n        requirejs.config({\n            paths: {\n                'plotly': ['https://cdn.plot.ly/plotly-latest.min']\n            }\n        });\n        require(['plotly'], function(Plotly) {\n            window._Plotly = Plotly;\n        });\n        }\n        </script>\n        "
         },
         "metadata": {},
         "output_type": "display_data"
        },
        {
         "data": {
          "text/html": "<div>                            <div id=\"916ddaec-aa74-4148-8e1a-1dad654213ef\" class=\"plotly-graph-div\" style=\"height:525px; width:100%;\"></div>            <script type=\"text/javascript\">                require([\"plotly\"], function(Plotly) {                    window.PLOTLYENV=window.PLOTLYENV || {};                                    if (document.getElementById(\"916ddaec-aa74-4148-8e1a-1dad654213ef\")) {                    Plotly.newPlot(                        \"916ddaec-aa74-4148-8e1a-1dad654213ef\",                        [{\"line\": {\"color\": \"#800000\"}, \"type\": \"scatter\", \"uid\": \"4ca58976-9e95-4383-ae85-df5fba6ef0d7\", \"xaxis\": \"x\", \"yaxis\": \"y\"}, {\"line\": {\"color\": \"#800000\"}, \"type\": \"scatter\", \"uid\": \"39bb09b7-ad75-44f7-9bf0-cc218dec793e\", \"xaxis\": \"x2\", \"yaxis\": \"y2\"}, {\"legendgroup\": \"group-0\", \"line\": {\"color\": \"#000080\"}, \"marker\": {\"size\": 3, \"symbol\": \"diamond\"}, \"name\": \"1\", \"showlegend\": false, \"type\": \"scatter\", \"uid\": \"898b6f57-db2c-415d-83a3-0e2eef90256e\", \"x\": [11000.0, 11450.0, 11900.0, 12350.0, 12800.0, 13250.0, 13700.0, 14150.0, 14600.0, 15050.0, 15500.0, 15950.0, 16400.0, 16850.0, 17300.0, 17750.0, 18200.0, 18650.0, 19100.0, 19550.0, 20000.0], \"xaxis\": \"x\", \"y\": [10134.733716625742, 10158.894068408064, 10199.163062164183, 10230.988705011776, 10268.95723542248, 10222.890845143002, 10224.33250792895, 10215.304103107928, 10218.67593187541, 10185.463728853065, 10144.46316917108, 10076.87680984274, 10030.209347853815, 10029.018621140542, 9986.944524442715, 9873.477845862937, 9843.334614032237, 9771.609702679261, 9679.524619982089, 9610.209774198473], \"yaxis\": \"y\"}, {\"legendgroup\": \"group-0\", \"line\": {\"color\": \"#000080\"}, \"marker\": {\"size\": 3, \"symbol\": \"diamond\"}, \"name\": \"1\", \"type\": \"scatter\", \"uid\": \"2a337948-0850-4be1-af98-4e70a7747169\", \"x\": [11000.0, 11450.0, 11900.0, 12350.0, 12800.0, 13250.0, 13700.0, 14150.0, 14600.0, 15050.0, 15500.0, 15950.0, 16400.0, 16850.0, 17300.0, 17750.0, 18200.0, 18650.0, 19100.0, 19550.0, 20000.0], \"xaxis\": \"x2\", \"y\": [0.5082040569581554, 0.3962212763594891, 0.3214185723254649, 0.26560113513158967, 0.22389059993927218, 0.19702589896830255, 0.1749491202529985, 0.1563731541470249, 0.13940960015313733, 0.12795427205030482, 0.11717940936679912, 0.10932218040060024, 0.10303354273987321, 0.09520635540966971, 0.08986506172262776, 0.08694065164106614, 0.082029771070409, 0.07895392034793645, 0.07641285709961215, 0.0734944435056783], \"yaxis\": \"y2\"}, {\"legendgroup\": \"group-1\", \"line\": {\"color\": \"#0000bd\"}, \"marker\": {\"size\": 3, \"symbol\": \"diamond\"}, \"name\": \"2\", \"showlegend\": false, \"type\": \"scatter\", \"uid\": \"776160fd-0db0-4e92-a615-b650092a8b6b\", \"x\": [11000.0, 11450.0, 11900.0, 12350.0, 12800.0, 13250.0, 13700.0, 14150.0, 14600.0, 15050.0, 15500.0, 15950.0, 16400.0, 16850.0, 17300.0, 17750.0, 18200.0, 18650.0, 19100.0, 19550.0, 20000.0], \"xaxis\": \"x\", \"y\": [11468.021903420027, 11435.999407966676, 11449.930444230995, 11492.65958293691, 11527.299217171007, 11499.835339656465, 11477.276330649498, 11460.659744967303, 11406.161049943823, 11340.543942919201, 11306.370330122183, 11212.548324749032, 11165.15031794662, 11109.460288675331, 11032.751812374603, 10953.828130057926, 10887.89602394496, 10829.273836669769, 10807.478630946254, 10678.472039472606], \"yaxis\": \"y\"}, {\"legendgroup\": \"group-1\", \"line\": {\"color\": \"#0000bd\"}, \"marker\": {\"size\": 3, \"symbol\": \"diamond\"}, \"name\": \"2\", \"type\": \"scatter\", \"uid\": \"cb7f7c8a-12dc-49ce-a208-cace17ecfb73\", \"x\": [11000.0, 11450.0, 11900.0, 12350.0, 12800.0, 13250.0, 13700.0, 14150.0, 14600.0, 15050.0, 15500.0, 15950.0, 16400.0, 16850.0, 17300.0, 17750.0, 18200.0, 18650.0, 19100.0, 19550.0, 20000.0], \"xaxis\": \"x2\", \"y\": [0.5486713034814857, 0.4359667978092499, 0.35745766558351055, 0.29759617877916883, 0.2514052642548386, 0.2213742932983643, 0.1967142119281105, 0.1750139221468986, 0.1596018423150508, 0.14776884435084475, 0.1362910943753445, 0.1282954632603496, 0.11949333047989281, 0.11271924127039863, 0.10796286592870252, 0.10261651657287679, 0.09761052473526158, 0.0925701903122773, 0.08757308797595444, 0.08560372849204283], \"yaxis\": \"y2\"}, {\"legendgroup\": \"group-2\", \"line\": {\"color\": \"#0000fa\"}, \"marker\": {\"size\": 3, \"symbol\": \"diamond\"}, \"name\": \"3\", \"showlegend\": false, \"type\": \"scatter\", \"uid\": \"1bad1f8e-8316-40ac-bb2c-37ac579a661b\", \"x\": [11000.0, 11450.0, 11900.0, 12350.0, 12800.0, 13250.0, 13700.0, 14150.0, 14600.0, 15050.0, 15500.0, 15950.0, 16400.0, 16850.0, 17300.0, 17750.0, 18200.0, 18650.0, 19100.0, 19550.0, 20000.0], \"xaxis\": \"x\", \"y\": [10497.008397133988, 10647.412149636564, 10710.555598349812, 10778.428547850966, 10799.157541112727, 10799.075913257297, 10809.366021863923, 10753.851890469936, 10723.18539784127, 10725.950530076656, 10623.433273860508, 10568.227843581686, 10448.426796026406, 10344.129570842591, 10277.247070725653, 10226.187071335817, 10191.522923045857, 10084.749431116139, 9966.774860086334, 9840.487791467045], \"yaxis\": \"y\"}, {\"legendgroup\": \"group-2\", \"line\": {\"color\": \"#0000fa\"}, \"marker\": {\"size\": 3, \"symbol\": \"diamond\"}, \"name\": \"3\", \"type\": \"scatter\", \"uid\": \"95141482-530e-4eef-91d8-e5a0fd93d2b2\", \"x\": [11000.0, 11450.0, 11900.0, 12350.0, 12800.0, 13250.0, 13700.0, 14150.0, 14600.0, 15050.0, 15500.0, 15950.0, 16400.0, 16850.0, 17300.0, 17750.0, 18200.0, 18650.0, 19100.0, 19550.0, 20000.0], \"xaxis\": \"x2\", \"y\": [0.442299407233424, 0.3316155054771363, 0.26819254934335535, 0.22122958128497036, 0.18813327121608667, 0.16428839927198421, 0.1443413401513004, 0.13164698698733832, 0.12013575438192611, 0.1081687026641846, 0.10181996368767447, 0.09492623735431249, 0.09101140062051426, 0.08639163271896758, 0.08220814746497997, 0.07762890235617773, 0.0732750049575765, 0.07106642067401933, 0.06969266984280108, 0.06837630714305266], \"yaxis\": \"y2\"}, {\"legendgroup\": \"group-3\", \"line\": {\"color\": \"#0022ff\"}, \"marker\": {\"size\": 3, \"symbol\": \"diamond\"}, \"name\": \"4\", \"showlegend\": false, \"type\": \"scatter\", \"uid\": \"4c1d7629-65ea-440d-9064-30d182eea79d\", \"x\": [11000.0, 11450.0, 11900.0, 12350.0, 12800.0, 13250.0, 13700.0, 14150.0, 14600.0, 15050.0, 15500.0, 15950.0, 16400.0, 16850.0, 17300.0, 17750.0, 18200.0, 18650.0, 19100.0, 19550.0, 20000.0], \"xaxis\": \"x\", \"y\": [11615.34431271539, 11665.123230726764, 11722.631980824826, 11696.759034389528, 11740.274989218244, 11729.411389495828, 11762.93754644142, 11652.44218706302, 11589.11016884437, 11561.496043188794, 11517.190316985118, 11433.020206851419, 11326.42249364519, 11237.973261737088, 11182.841624719184, 11103.37345606317, 10988.381394715301, 10950.081329679253, 10862.947659789317, 10751.855231570007], \"yaxis\": \"y\"}, {\"legendgroup\": \"group-3\", \"line\": {\"color\": \"#0022ff\"}, \"marker\": {\"size\": 3, \"symbol\": \"diamond\"}, \"name\": \"4\", \"type\": \"scatter\", \"uid\": \"79a1b649-3a61-464f-b81a-62bb41ceaed7\", \"x\": [11000.0, 11450.0, 11900.0, 12350.0, 12800.0, 13250.0, 13700.0, 14150.0, 14600.0, 15050.0, 15500.0, 15950.0, 16400.0, 16850.0, 17300.0, 17750.0, 18200.0, 18650.0, 19100.0, 19550.0, 20000.0], \"xaxis\": \"x2\", \"y\": [0.4977143593187972, 0.3915904655092031, 0.31518118479289936, 0.26854353604159453, 0.22820910008384737, 0.1992052064914697, 0.1732796396495469, 0.15947664883652757, 0.14579099407466625, 0.1334986840647756, 0.12384871542019993, 0.1163327713735177, 0.11004943343959867, 0.10494577908156115, 0.09880472549683283, 0.09393029340453476, 0.09096244445118767, 0.08630423393331049, 0.08321862769525468, 0.08100093623949862], \"yaxis\": \"y2\"}, {\"legendgroup\": \"group-4\", \"line\": {\"color\": \"#0057ff\"}, \"marker\": {\"size\": 3, \"symbol\": \"diamond\"}, \"name\": \"5\", \"showlegend\": false, \"type\": \"scatter\", \"uid\": \"0ac0f510-71f2-4b3f-bfad-9d4a28fa038a\", \"x\": [11000.0, 11450.0, 11900.0, 12350.0, 12800.0, 13250.0, 13700.0, 14150.0, 14600.0, 15050.0, 15500.0, 15950.0, 16400.0, 16850.0, 17300.0, 17750.0, 18200.0, 18650.0, 19100.0, 19550.0, 20000.0], \"xaxis\": \"x\", \"y\": [10549.51412848435, 10759.565074180144, 10894.663638012831, 10932.865203687254, 10930.709069978382, 10919.073481210131, 10877.07525272697, 10810.824269258308, 10785.603108487141, 10727.31310966391, 10697.303299672532, 10711.257210371086, 10551.734446150795, 10490.892524557958, 10416.933630770685, 10379.863072642813, 10279.630106699515, 10220.453729533758, 10077.475484616278, 9927.285882427788], \"yaxis\": \"y\"}, {\"legendgroup\": \"group-4\", \"line\": {\"color\": \"#0057ff\"}, \"marker\": {\"size\": 3, \"symbol\": \"diamond\"}, \"name\": \"5\", \"type\": \"scatter\", \"uid\": \"96546401-c7f2-4da3-8c9e-2d25d18db5f5\", \"x\": [11000.0, 11450.0, 11900.0, 12350.0, 12800.0, 13250.0, 13700.0, 14150.0, 14600.0, 15050.0, 15500.0, 15950.0, 16400.0, 16850.0, 17300.0, 17750.0, 18200.0, 18650.0, 19100.0, 19550.0, 20000.0], \"xaxis\": \"x2\", \"y\": [0.4434406663593859, 0.329565789368522, 0.26010890450064733, 0.2159881056247415, 0.1854070420834862, 0.16219891903074657, 0.14560372598880475, 0.13326787384388758, 0.11999931339731698, 0.11025218829721785, 0.1012892218335092, 0.09247037462403469, 0.08933312170132374, 0.08413052869637083, 0.07995660682274036, 0.07537221197763783, 0.07252173631498261, 0.06901139800647034, 0.06809975749337623, 0.06735205229901337], \"yaxis\": \"y2\"}, {\"legendgroup\": \"group-5\", \"line\": {\"color\": \"#008dff\"}, \"marker\": {\"size\": 3, \"symbol\": \"diamond\"}, \"name\": \"6\", \"showlegend\": false, \"type\": \"scatter\", \"uid\": \"0c43e840-b898-42f0-80ef-a8e452ca37c3\", \"x\": [11000.0, 11450.0, 11900.0, 12350.0, 12800.0, 13250.0, 13700.0, 14150.0, 14600.0, 15050.0, 15500.0, 15950.0, 16400.0, 16850.0, 17300.0, 17750.0, 18200.0, 18650.0, 19100.0, 19550.0, 20000.0], \"xaxis\": \"x\", \"y\": [11567.208184336641, 11613.025123050538, 11683.328827353047, 11693.104708830946, 11724.278325269526, 11653.124120929953, 11612.65021223817, 11609.82892873756, 11614.580326945592, 11546.462389124263, 11425.95501009532, 11375.048998512899, 11315.818140434149, 11225.578780782147, 11120.449864009748, 11082.155937788912, 10987.868514296186, 10920.442550504482, 10834.92855121022, 10735.503852801117], \"yaxis\": \"y\"}, {\"legendgroup\": \"group-5\", \"line\": {\"color\": \"#008dff\"}, \"marker\": {\"size\": 3, \"symbol\": \"diamond\"}, \"name\": \"6\", \"type\": \"scatter\", \"uid\": \"65eb82c5-cc72-4d33-a8f8-5cbc26075b27\", \"x\": [11000.0, 11450.0, 11900.0, 12350.0, 12800.0, 13250.0, 13700.0, 14150.0, 14600.0, 15050.0, 15500.0, 15950.0, 16400.0, 16850.0, 17300.0, 17750.0, 18200.0, 18650.0, 19100.0, 19550.0, 20000.0], \"xaxis\": \"x2\", \"y\": [0.5041776548110584, 0.39023406927746374, 0.3175388504350529, 0.2668923064824901, 0.22560807776675992, 0.203042144204494, 0.18189522000862068, 0.16135829264739318, 0.14556836273965668, 0.13371966659083212, 0.12524940621974714, 0.11754876564474895, 0.11015802998525885, 0.10441164070595735, 0.09931347804630662, 0.09402786959361889, 0.09062541591197751, 0.08647506254390502, 0.08333888504337562, 0.08065101681509353], \"yaxis\": \"y2\"}, {\"legendgroup\": \"group-6\", \"line\": {\"color\": \"#00c3ff\"}, \"marker\": {\"size\": 3, \"symbol\": \"diamond\"}, \"name\": \"7\", \"showlegend\": false, \"type\": \"scatter\", \"uid\": \"e3a80f31-cdb4-4b35-8c65-81f51270d063\", \"x\": [11000.0, 11450.0, 11900.0, 12350.0, 12800.0, 13250.0, 13700.0, 14150.0, 14600.0, 15050.0, 15500.0, 15950.0, 16400.0, 16850.0, 17300.0, 17750.0, 18200.0, 18650.0, 19100.0, 19550.0, 20000.0], \"xaxis\": \"x\", \"y\": [10569.74740334304, 10778.034968335256, 10902.99080443269, 10989.797314359694, 11047.113446219639, 11099.194259237403, 11016.051305801364, 10966.513171670935, 10947.55947416353, 10934.581362699615, 10809.397890448754, 10698.341230707349, 10636.972622756153, 10581.99648087922, 10532.222759856093, 10454.841299228276, 10338.205644915452, 10252.881876072242, 10087.404942797337, 9969.196423563208], \"yaxis\": \"y\"}, {\"legendgroup\": \"group-6\", \"line\": {\"color\": \"#00c3ff\"}, \"marker\": {\"size\": 3, \"symbol\": \"diamond\"}, \"name\": \"7\", \"type\": \"scatter\", \"uid\": \"314be004-5cd5-4a7a-994d-bf424708a3a3\", \"x\": [11000.0, 11450.0, 11900.0, 12350.0, 12800.0, 13250.0, 13700.0, 14150.0, 14600.0, 15050.0, 15500.0, 15950.0, 16400.0, 16850.0, 17300.0, 17750.0, 18200.0, 18650.0, 19100.0, 19550.0, 20000.0], \"xaxis\": \"x2\", \"y\": [0.4422900724363882, 0.32572087182053455, 0.25608363121508193, 0.20917551310840277, 0.17856281204684143, 0.1532534478801237, 0.1389841189692777, 0.1262357056609694, 0.11375261901807446, 0.10290814628079882, 0.09725630417756266, 0.09284460200253164, 0.0871069617423461, 0.0816250729899891, 0.07729032592235478, 0.07380941869099045, 0.07152054892238287, 0.06908445244271275, 0.06851046721770122, 0.06692890210588077], \"yaxis\": \"y2\"}, {\"legendgroup\": \"group-7\", \"line\": {\"color\": \"#0ff8e8\"}, \"marker\": {\"size\": 3, \"symbol\": \"diamond\"}, \"name\": \"8\", \"showlegend\": false, \"type\": \"scatter\", \"uid\": \"80125e4f-860b-4d3f-9ec9-dbe50a60a850\", \"x\": [11000.0, 11450.0, 11900.0, 12350.0, 12800.0, 13250.0, 13700.0, 14150.0, 14600.0, 15050.0, 15500.0, 15950.0, 16400.0, 16850.0, 17300.0, 17750.0, 18200.0, 18650.0, 19100.0, 19550.0, 20000.0], \"xaxis\": \"x\", \"y\": [11547.678161996797, 11623.874786176679, 11731.044716907294, 11760.25509798027, 11744.698977086615, 11669.73950817632, 11644.121670479833, 11594.304643594436, 11525.864522224016, 11493.832801176886, 11493.569589639628, 11391.455575577864, 11294.144464329282, 11274.715359901778, 11177.405492194264, 11083.76958592225, 11033.949307567013, 10945.602385267846, 10830.938212361745, 10712.245869588583], \"yaxis\": \"y\"}, {\"legendgroup\": \"group-7\", \"line\": {\"color\": \"#0ff8e8\"}, \"marker\": {\"size\": 3, \"symbol\": \"diamond\"}, \"name\": \"8\", \"type\": \"scatter\", \"uid\": \"e24e15d3-aa66-4efd-82f5-29b44f050190\", \"x\": [11000.0, 11450.0, 11900.0, 12350.0, 12800.0, 13250.0, 13700.0, 14150.0, 14600.0, 15050.0, 15500.0, 15950.0, 16400.0, 16850.0, 17300.0, 17750.0, 18200.0, 18650.0, 19100.0, 19550.0, 20000.0], \"xaxis\": \"x2\", \"y\": [0.5003453146367499, 0.38382149418984424, 0.3046144240522065, 0.25655030086043534, 0.22316143817180586, 0.1983376255429574, 0.17627463164764823, 0.16038371517158478, 0.14647197836539907, 0.13388777429772944, 0.12191469474588634, 0.11483702826414072, 0.10939033073711928, 0.1016253554908811, 0.09688786513696965, 0.09283396230842705, 0.08787816010814403, 0.08454191425058025, 0.08203925347737268, 0.0802404176236165], \"yaxis\": \"y2\"}, {\"legendgroup\": \"group-8\", \"line\": {\"color\": \"#3affbc\"}, \"marker\": {\"size\": 3, \"symbol\": \"diamond\"}, \"name\": \"9\", \"showlegend\": false, \"type\": \"scatter\", \"uid\": \"9417e2ab-2d2b-4849-8640-b6d844ea5ec7\", \"x\": [11000.0, 11450.0, 11900.0, 12350.0, 12800.0, 13250.0, 13700.0, 14150.0, 14600.0, 15050.0, 15500.0, 15950.0, 16400.0, 16850.0, 17300.0, 17750.0, 18200.0, 18650.0, 19100.0, 19550.0, 20000.0], \"xaxis\": \"x\", \"y\": [10635.099216825016, 10811.018798823196, 10933.638973465304, 10979.717070479548, 11020.403776787787, 11035.731463947244, 10938.265121115064, 10845.596613320555, 10800.731975199556, 10763.639570847956, 10717.471486460141, 10707.496982070452, 10660.60682399312, 10573.357547773094, 10472.700868373204, 10404.049299323693, 10290.698637903408, 10218.265955052706, 10108.378593633912, 9988.315668041098], \"yaxis\": \"y\"}, {\"legendgroup\": \"group-8\", \"line\": {\"color\": \"#3affbc\"}, \"marker\": {\"size\": 3, \"symbol\": \"diamond\"}, \"name\": \"9\", \"type\": \"scatter\", \"uid\": \"95de37fb-8d4c-475e-aec7-84136e88aabf\", \"x\": [11000.0, 11450.0, 11900.0, 12350.0, 12800.0, 13250.0, 13700.0, 14150.0, 14600.0, 15050.0, 15500.0, 15950.0, 16400.0, 16850.0, 17300.0, 17750.0, 18200.0, 18650.0, 19100.0, 19550.0, 20000.0], \"xaxis\": \"x2\", \"y\": [0.43952006761780843, 0.327268984776419, 0.2606464861341183, 0.21628196882829448, 0.18251989124968382, 0.15831982713481618, 0.14420700235789413, 0.1319104825157537, 0.11992662887673335, 0.11051812652760704, 0.10164157832326394, 0.0935169832842306, 0.08702393919783383, 0.08275717669259847, 0.07958674997930451, 0.07579438452066575, 0.07337972954768164, 0.07043279263704051, 0.06849589481058935, 0.06699933221108373], \"yaxis\": \"y2\"}, {\"legendgroup\": \"group-9\", \"line\": {\"color\": \"#66ff91\"}, \"marker\": {\"size\": 3, \"symbol\": \"diamond\"}, \"name\": \"10\", \"showlegend\": false, \"type\": \"scatter\", \"uid\": \"075cba9d-1c81-4fcf-9fb9-291b0f639cd4\", \"x\": [11000.0, 11450.0, 11900.0, 12350.0, 12800.0, 13250.0, 13700.0, 14150.0, 14600.0, 15050.0, 15500.0, 15950.0, 16400.0, 16850.0, 17300.0, 17750.0, 18200.0, 18650.0, 19100.0, 19550.0, 20000.0], \"xaxis\": \"x\", \"y\": [11500.55767773097, 11637.546429690152, 11663.40617042992, 11724.968508662445, 11714.760546184587, 11715.267405819095, 11601.494346275227, 11508.240345570224, 11502.488963193151, 11497.386422527972, 11451.270656305627, 11400.159576989896, 11327.524225636038, 11287.892223234016, 11179.325846630562, 11094.423438456082, 10990.648087308033, 10925.434399972431, 10815.564131433573, 10706.177796255937], \"yaxis\": \"y\"}, {\"legendgroup\": \"group-9\", \"line\": {\"color\": \"#66ff91\"}, \"marker\": {\"size\": 3, \"symbol\": \"diamond\"}, \"name\": \"10\", \"type\": \"scatter\", \"uid\": \"6a31e64f-6136-46d8-98f0-e91ff0866ac5\", \"x\": [11000.0, 11450.0, 11900.0, 12350.0, 12800.0, 13250.0, 13700.0, 14150.0, 14600.0, 15050.0, 15500.0, 15950.0, 16400.0, 16850.0, 17300.0, 17750.0, 18200.0, 18650.0, 19100.0, 19550.0, 20000.0], \"xaxis\": \"x2\", \"y\": [0.5068949392970965, 0.38221104971484254, 0.31487414577388056, 0.2621151190162536, 0.22619764203242226, 0.1966896714263117, 0.17976793731845225, 0.16527279232801473, 0.14785746043356635, 0.13387433613614877, 0.1232425999868199, 0.1146829697056732, 0.10741488616862097, 0.10056120171965181, 0.09622391591057, 0.0922429076610291, 0.0891060122843892, 0.08532979760583174, 0.08271120381699126, 0.08030516190365557], \"yaxis\": \"y2\"}, {\"legendgroup\": \"group-10\", \"line\": {\"color\": \"#91ff66\"}, \"marker\": {\"size\": 3, \"symbol\": \"diamond\"}, \"name\": \"11\", \"showlegend\": false, \"type\": \"scatter\", \"uid\": \"a81282b2-1e99-4860-a498-375e9c998904\", \"x\": [11000.0, 11450.0, 11900.0, 12350.0, 12800.0, 13250.0, 13700.0, 14150.0, 14600.0, 15050.0, 15500.0, 15950.0, 16400.0, 16850.0, 17300.0, 17750.0, 18200.0, 18650.0, 19100.0, 19550.0, 20000.0], \"xaxis\": \"x\", \"y\": [10570.856509263214, 10736.442568836415, 10856.868647968908, 10979.906697012919, 10953.700434670503, 10957.336276077183, 10966.459695386746, 10949.857847026873, 10898.17650137722, 10912.847154692829, 10916.410390590076, 10804.79013541429, 10642.721757219706, 10673.950209699196, 10562.15537191637, 10441.053929477466, 10375.82143773825, 10218.808094852784, 10128.925286201786, 9982.977583607197], \"yaxis\": \"y\"}, {\"legendgroup\": \"group-10\", \"line\": {\"color\": \"#91ff66\"}, \"marker\": {\"size\": 3, \"symbol\": \"diamond\"}, \"name\": \"11\", \"type\": \"scatter\", \"uid\": \"29698eb0-059b-4448-baa3-a8c4622463cc\", \"x\": [11000.0, 11450.0, 11900.0, 12350.0, 12800.0, 13250.0, 13700.0, 14150.0, 14600.0, 15050.0, 15500.0, 15950.0, 16400.0, 16850.0, 17300.0, 17750.0, 18200.0, 18650.0, 19100.0, 19550.0, 20000.0], \"xaxis\": \"x2\", \"y\": [0.44592562360298593, 0.331726124200421, 0.2626860334726053, 0.21445158567301176, 0.1874369354198379, 0.16283699173812993, 0.14343516576688212, 0.1288301921728002, 0.11742933862073758, 0.10551038169028196, 0.09622856527804761, 0.0908415597305189, 0.08819161384785737, 0.08047832421527892, 0.07731272727040164, 0.07502560062315754, 0.07149678574153981, 0.07062712405261021, 0.06830828451008499, 0.0675509962637582], \"yaxis\": \"y2\"}, {\"legendgroup\": \"group-11\", \"line\": {\"color\": \"#bcff3a\"}, \"marker\": {\"size\": 3, \"symbol\": \"diamond\"}, \"name\": \"12\", \"showlegend\": false, \"type\": \"scatter\", \"uid\": \"27fcbf90-d2fd-4d4c-b8db-9e70065bf2a2\", \"x\": [11000.0, 11450.0, 11900.0, 12350.0, 12800.0, 13250.0, 13700.0, 14150.0, 14600.0, 15050.0, 15500.0, 15950.0, 16400.0, 16850.0, 17300.0, 17750.0, 18200.0, 18650.0, 19100.0, 19550.0, 20000.0], \"xaxis\": \"x\", \"y\": [11533.554418901995, 11597.331479911461, 11657.889585168934, 11762.268748636763, 11775.917513051456, 11764.967895422506, 11676.073086637227, 11650.112617143857, 11594.258946050913, 11522.736351585567, 11444.191999379364, 11366.855615514283, 11333.428810955658, 11291.115455484682, 11165.546445726966, 11084.736032809735, 11050.699407674529, 10978.54248596981, 10849.291930009682, 10738.957956164411], \"yaxis\": \"y\"}, {\"legendgroup\": \"group-11\", \"line\": {\"color\": \"#bcff3a\"}, \"marker\": {\"size\": 3, \"symbol\": \"diamond\"}, \"name\": \"12\", \"type\": \"scatter\", \"uid\": \"e20bc019-d31f-4994-a97e-f2702309862e\", \"x\": [11000.0, 11450.0, 11900.0, 12350.0, 12800.0, 13250.0, 13700.0, 14150.0, 14600.0, 15050.0, 15500.0, 15950.0, 16400.0, 16850.0, 17300.0, 17750.0, 18200.0, 18650.0, 19100.0, 19550.0, 20000.0], \"xaxis\": \"x2\", \"y\": [0.4948141939783134, 0.38257284907522643, 0.31106318084797985, 0.25245973709763675, 0.21581879433960166, 0.1894638080925602, 0.1719798978313757, 0.15370692887596543, 0.140611753786461, 0.13022103911735378, 0.12114965913477613, 0.1134082040590886, 0.10508702258326932, 0.09835950384020824, 0.09505240961204943, 0.09082482658920112, 0.08538454480911349, 0.08166191691747998, 0.0799399239764927, 0.07767439247279284], \"yaxis\": \"y2\"}, {\"legendgroup\": \"group-12\", \"line\": {\"color\": \"#e8ff0f\"}, \"marker\": {\"size\": 3, \"symbol\": \"diamond\"}, \"name\": \"13\", \"showlegend\": false, \"type\": \"scatter\", \"uid\": \"5f739ba0-1719-4ba5-b651-133c9717eedc\", \"x\": [11000.0, 11450.0, 11900.0, 12350.0, 12800.0, 13250.0, 13700.0, 14150.0, 14600.0, 15050.0, 15500.0, 15950.0, 16400.0, 16850.0, 17300.0, 17750.0, 18200.0, 18650.0, 19100.0, 19550.0, 20000.0], \"xaxis\": \"x\", \"y\": [10680.784661378812, 10845.542429380755, 10944.815192934726, 10993.087317815412, 11012.940076484394, 10887.379427963211, 10983.662316167121, 11024.751388763907, 10943.797478820637, 10891.467325909394, 10825.79202489999, 10805.557529364292, 10706.591895210207, 10571.784653112927, 10496.275695177474, 10402.1202278362, 10301.441469400985, 10238.491096739823, 10147.574803160998, 10007.566464221134], \"yaxis\": \"y\"}, {\"legendgroup\": \"group-12\", \"line\": {\"color\": \"#e8ff0f\"}, \"marker\": {\"size\": 3, \"symbol\": \"diamond\"}, \"name\": \"13\", \"type\": \"scatter\", \"uid\": \"6cabf403-7b80-4038-a2aa-3dbab4ed01d2\", \"x\": [11000.0, 11450.0, 11900.0, 12350.0, 12800.0, 13250.0, 13700.0, 14150.0, 14600.0, 15050.0, 15500.0, 15950.0, 16400.0, 16850.0, 17300.0, 17750.0, 18200.0, 18650.0, 19100.0, 19550.0, 20000.0], \"xaxis\": \"x2\", \"y\": [0.4392810715699427, 0.32903573292536575, 0.2641712463741873, 0.2199520853515653, 0.18797841086098377, 0.170137181865149, 0.14523399235417983, 0.12811695433348316, 0.11796293005695968, 0.10851866860126855, 0.10078020724639422, 0.09253446911219322, 0.08798570551552642, 0.08508103522642106, 0.0807247405411672, 0.07763414575866073, 0.07474110201651679, 0.0714984171727841, 0.0694441864787546, 0.06840896856885523], \"yaxis\": \"y2\"}, {\"legendgroup\": \"group-13\", \"line\": {\"color\": \"#ffd500\"}, \"marker\": {\"size\": 3, \"symbol\": \"diamond\"}, \"name\": \"14\", \"showlegend\": false, \"type\": \"scatter\", \"uid\": \"51b1e8d4-4c7d-4717-9bf8-50a3df451ba3\", \"x\": [11000.0, 11450.0, 11900.0, 12350.0, 12800.0, 13250.0, 13700.0, 14150.0, 14600.0, 15050.0, 15500.0, 15950.0, 16400.0, 16850.0, 17300.0, 17750.0, 18200.0, 18650.0, 19100.0, 19550.0, 20000.0], \"xaxis\": \"x\", \"y\": [11437.1881296405, 11528.701578025972, 11640.449468780576, 11710.818603845562, 11646.852339390707, 11571.106855857402, 11529.130018047732, 11506.724477504918, 11494.473536577672, 11432.760918872278, 11378.137918263288, 11302.85507985749, 11244.631327203226, 11103.724838190863, 11017.941987416276, 10957.21181370234, 10894.703106138699, 10810.029601198734, 10701.185949495191, 10638.391439708332], \"yaxis\": \"y\"}, {\"legendgroup\": \"group-13\", \"line\": {\"color\": \"#ffd500\"}, \"marker\": {\"size\": 3, \"symbol\": \"diamond\"}, \"name\": \"14\", \"type\": \"scatter\", \"uid\": \"291c787d-1c5b-4573-b72b-a3b90362088b\", \"x\": [11000.0, 11450.0, 11900.0, 12350.0, 12800.0, 13250.0, 13700.0, 14150.0, 14600.0, 15050.0, 15500.0, 15950.0, 16400.0, 16850.0, 17300.0, 17750.0, 18200.0, 18650.0, 19100.0, 19550.0, 20000.0], \"xaxis\": \"x2\", \"y\": [0.496748999005708, 0.3812215660301211, 0.30281560573624655, 0.2509255408599759, 0.22073539638977296, 0.19671394396283887, 0.1757145473403329, 0.15768917292428547, 0.14088198326667611, 0.13004325009218778, 0.12095401797605762, 0.11383288002950714, 0.10689215533606816, 0.10296885131622671, 0.09780859456526698, 0.09289643546287567, 0.08854171082989812, 0.08517563107205485, 0.08229688721693082, 0.07896773667540807], \"yaxis\": \"y2\"}, {\"legendgroup\": \"group-14\", \"line\": {\"color\": \"#ffa400\"}, \"marker\": {\"size\": 3, \"symbol\": \"diamond\"}, \"name\": \"15\", \"showlegend\": false, \"type\": \"scatter\", \"uid\": \"c039df3e-2748-44f0-996d-f40ab541593e\", \"x\": [11000.0, 11450.0, 11900.0, 12350.0, 12800.0, 13250.0, 13700.0, 14150.0, 14600.0, 15050.0, 15500.0, 15950.0, 16400.0, 16850.0, 17300.0, 17750.0, 18200.0, 18650.0, 19100.0, 19550.0, 20000.0], \"xaxis\": \"x\", \"y\": [10637.774893389853, 10870.528741129221, 10979.20752094891, 11029.889850247846, 11017.830301775746, 11002.647926802321, 11063.176163639557, 11043.320343340587, 10953.590586704851, 10884.149702433244, 10832.042108059699, 10746.120711685187, 10638.764813827649, 10558.09227679894, 10449.107297019238, 10350.60274211199, 10298.783130265036, 10276.173311434013, 10189.139086635258, 10056.484838218224], \"yaxis\": \"y\"}, {\"legendgroup\": \"group-14\", \"line\": {\"color\": \"#ffa400\"}, \"marker\": {\"size\": 3, \"symbol\": \"diamond\"}, \"name\": \"15\", \"type\": \"scatter\", \"uid\": \"d2e09742-2afc-4a8f-bfc5-eceb3e95bab3\", \"x\": [11000.0, 11450.0, 11900.0, 12350.0, 12800.0, 13250.0, 13700.0, 14150.0, 14600.0, 15050.0, 15500.0, 15950.0, 16400.0, 16850.0, 17300.0, 17750.0, 18200.0, 18650.0, 19100.0, 19550.0, 20000.0], \"xaxis\": \"x2\", \"y\": [0.4526680078126913, 0.33058475741331017, 0.26470724647387744, 0.21904485046383979, 0.188818847281167, 0.16619738171025455, 0.14364374771990304, 0.12786787360034071, 0.11791465883989272, 0.10890874790265448, 0.10128370560742415, 0.09532106076096122, 0.09066498376561384, 0.08579078573787756, 0.0823404365028928, 0.07946786802086912, 0.07534113146002487, 0.0712852113867502, 0.06888107318726494, 0.06764365885322746], \"yaxis\": \"y2\"}, {\"legendgroup\": \"group-15\", \"line\": {\"color\": \"#ff7200\"}, \"marker\": {\"size\": 3, \"symbol\": \"diamond\"}, \"name\": \"16\", \"showlegend\": false, \"type\": \"scatter\", \"uid\": \"a8563e88-3a4e-4dd9-9445-860d2b6677a5\", \"x\": [11000.0, 11450.0, 11900.0, 12350.0, 12800.0, 13250.0, 13700.0, 14150.0, 14600.0, 15050.0, 15500.0, 15950.0, 16400.0, 16850.0, 17300.0, 17750.0, 18200.0, 18650.0, 19100.0, 19550.0, 20000.0], \"xaxis\": \"x\", \"y\": [11420.979987138982, 11498.337813102757, 11639.50519134857, 11664.640617469393, 11701.728912830438, 11711.923994447285, 11712.746596833955, 11591.269112378643, 11449.641897841511, 11435.511892435268, 11421.346117783407, 11334.210896883855, 11278.258459816647, 11196.477817740706, 11110.138994066976, 11076.434179727443, 10994.477287359596, 10901.218261650312, 10835.518224745436, 10711.037322641674], \"yaxis\": \"y\"}, {\"legendgroup\": \"group-15\", \"line\": {\"color\": \"#ff7200\"}, \"marker\": {\"size\": 3, \"symbol\": \"diamond\"}, \"name\": \"16\", \"type\": \"scatter\", \"uid\": \"0ba0586e-3af6-49b7-9f3d-53f15c7f262c\", \"x\": [11000.0, 11450.0, 11900.0, 12350.0, 12800.0, 13250.0, 13700.0, 14150.0, 14600.0, 15050.0, 15500.0, 15950.0, 16400.0, 16850.0, 17300.0, 17750.0, 18200.0, 18650.0, 19100.0, 19550.0, 20000.0], \"xaxis\": \"x2\", \"y\": [0.499488409187315, 0.3838690951817617, 0.3021805815991795, 0.2514540281230128, 0.21646073068279542, 0.18685687485230784, 0.1645500999365563, 0.15175502590148646, 0.14351458248462712, 0.1299336743288275, 0.119700298487092, 0.11242807247877903, 0.1050015370491853, 0.10013529821734288, 0.0953538109300313, 0.08940156113165973, 0.08572755303725668, 0.08269382665953516, 0.078848332684631, 0.07701183515664956], \"yaxis\": \"y2\"}, {\"legendgroup\": \"group-16\", \"line\": {\"color\": \"#ff4000\"}, \"marker\": {\"size\": 3, \"symbol\": \"diamond\"}, \"name\": \"17\", \"showlegend\": false, \"type\": \"scatter\", \"uid\": \"7614046e-8fbc-464d-8bba-c8c87bcc1501\", \"x\": [11000.0, 11450.0, 11900.0, 12350.0, 12800.0, 13250.0, 13700.0, 14150.0, 14600.0, 15050.0, 15500.0, 15950.0, 16400.0, 16850.0, 17300.0, 17750.0, 18200.0, 18650.0, 19100.0, 19550.0, 20000.0], \"xaxis\": \"x\", \"y\": [10691.849844972343, 10881.252759643585, 11024.600489102355, 11008.926530015478, 11076.894883262032, 11042.045711965855, 11063.168036579458, 11070.578559634352, 11044.691764194673, 10970.651612456735, 10980.886609307676, 10896.00342966283, 10767.599990699178, 10635.613994162504, 10472.846994215468, 10456.66200657222, 10434.295581872158, 10327.027592056353, 10213.726635393015, 10093.310125127553], \"yaxis\": \"y\"}, {\"legendgroup\": \"group-16\", \"line\": {\"color\": \"#ff4000\"}, \"marker\": {\"size\": 3, \"symbol\": \"diamond\"}, \"name\": \"17\", \"type\": \"scatter\", \"uid\": \"635aecf4-11d2-4c69-9a6c-e9b965732488\", \"x\": [11000.0, 11450.0, 11900.0, 12350.0, 12800.0, 13250.0, 13700.0, 14150.0, 14600.0, 15050.0, 15500.0, 15950.0, 16400.0, 16850.0, 17300.0, 17750.0, 18200.0, 18650.0, 19100.0, 19550.0, 20000.0], \"xaxis\": \"x2\", \"y\": [0.44748184768936483, 0.33018100359144903, 0.2613079590931391, 0.22319723997674626, 0.18648857521767323, 0.1640901983224348, 0.14317470745010233, 0.1277823841658101, 0.11521986036883337, 0.10674911085099575, 0.09736938639966038, 0.0912338485549991, 0.0873359525558151, 0.08426006054625763, 0.0822766882554767, 0.0770967898467087, 0.07276875021360169, 0.07044586701292362, 0.06864631513717323, 0.06706138176935443], \"yaxis\": \"y2\"}, {\"legendgroup\": \"group-17\", \"line\": {\"color\": \"#fa0e00\"}, \"marker\": {\"size\": 3, \"symbol\": \"diamond\"}, \"name\": \"18\", \"showlegend\": false, \"type\": \"scatter\", \"uid\": \"353565d2-dac4-4403-b046-84e9761e8e24\", \"x\": [11000.0, 11450.0, 11900.0, 12350.0, 12800.0, 13250.0, 13700.0, 14150.0, 14600.0, 15050.0, 15500.0, 15950.0, 16400.0, 16850.0, 17300.0, 17750.0, 18200.0, 18650.0, 19100.0, 19550.0, 20000.0], \"xaxis\": \"x\", \"y\": [11404.686443357921, 11550.422153142581, 11639.138876479621, 11674.326225183811, 11643.003281158295, 11664.227712366752, 11609.622899066353, 11571.271663444122, 11488.505154936476, 11474.166472237957, 11444.220668813343, 11321.687644686788, 11274.086211426791, 11214.935163024827, 11095.7159296552, 11052.698086925739, 10967.067499016344, 10861.628943889627, 10781.611365120527, 10666.56171562961], \"yaxis\": \"y\"}, {\"legendgroup\": \"group-17\", \"line\": {\"color\": \"#fa0e00\"}, \"marker\": {\"size\": 3, \"symbol\": \"diamond\"}, \"name\": \"18\", \"type\": \"scatter\", \"uid\": \"809619f5-d99c-448e-8d91-d81fc174720f\", \"x\": [11000.0, 11450.0, 11900.0, 12350.0, 12800.0, 13250.0, 13700.0, 14150.0, 14600.0, 15050.0, 15500.0, 15950.0, 16400.0, 16850.0, 17300.0, 17750.0, 18200.0, 18650.0, 19100.0, 19550.0, 20000.0], \"xaxis\": \"x2\", \"y\": [0.4977389437411596, 0.37634490448691843, 0.3031115960467388, 0.25454492611413476, 0.21950444294686317, 0.18907039351524565, 0.16921419174008417, 0.1526550022612553, 0.1416435654990689, 0.12873970376797447, 0.117732451218215, 0.11197824402292651, 0.10441814381550857, 0.09792972279488406, 0.09471757943639501, 0.08914056698650659, 0.08550392336785954, 0.08272152497759402, 0.07954222475461972, 0.07756336057852237], \"yaxis\": \"y2\"}, {\"legendgroup\": \"group-18\", \"line\": {\"color\": \"#bd0000\"}, \"marker\": {\"size\": 3, \"symbol\": \"diamond\"}, \"name\": \"19\", \"showlegend\": false, \"type\": \"scatter\", \"uid\": \"a186a755-3098-41c2-b1a5-ed8d311c3148\", \"x\": [11000.0, 11450.0, 11900.0, 12350.0, 12800.0, 13250.0, 13700.0, 14150.0, 14600.0, 15050.0, 15500.0, 15950.0, 16400.0, 16850.0, 17300.0, 17750.0, 18200.0, 18650.0, 19100.0, 19550.0, 20000.0], \"xaxis\": \"x\", \"y\": [10732.832305605065, 10927.532745010047, 10999.038295987173, 11120.942823009347, 11127.283737338126, 11084.30280676812, 11069.784812309364, 11066.322559389619, 11003.066376252807, 10955.364192122894, 10899.736539240288, 10741.06863236137, 10710.327383480128, 10597.496226545389, 10549.389773662053, 10465.941519309627, 10371.370420579678, 10256.85257100142, 10163.046966831698, 10074.690533201088], \"yaxis\": \"y\"}, {\"legendgroup\": \"group-18\", \"line\": {\"color\": \"#bd0000\"}, \"marker\": {\"size\": 3, \"symbol\": \"diamond\"}, \"name\": \"19\", \"type\": \"scatter\", \"uid\": \"aeceba21-85c7-4347-9928-a58ec1977914\", \"x\": [11000.0, 11450.0, 11900.0, 12350.0, 12800.0, 13250.0, 13700.0, 14150.0, 14600.0, 15050.0, 15500.0, 15950.0, 16400.0, 16850.0, 17300.0, 17750.0, 18200.0, 18650.0, 19100.0, 19550.0, 20000.0], \"xaxis\": \"x2\", \"y\": [0.44443637159123983, 0.3301963495493953, 0.26475209661040167, 0.21476367292060317, 0.1841100166964522, 0.16259081949317192, 0.143853601724972, 0.12756474449212685, 0.11696925559066805, 0.10710041470268136, 0.09912187964115514, 0.09650204436463768, 0.08985914755672528, 0.08622238465789246, 0.08092359794988353, 0.07737849041147359, 0.07453157832590498, 0.07263537854976868, 0.07025313296079846, 0.06792936424027783], \"yaxis\": \"y2\"}, {\"legendgroup\": \"group-19\", \"line\": {\"color\": \"#800000\"}, \"marker\": {\"size\": 3, \"symbol\": \"diamond\"}, \"name\": \"20\", \"showlegend\": false, \"type\": \"scatter\", \"uid\": \"71aaf0a1-f7b8-4362-8adf-83005e771f62\", \"x\": [11000.0, 11450.0, 11900.0, 12350.0, 12800.0, 13250.0, 13700.0, 14150.0, 14600.0, 15050.0, 15500.0, 15950.0, 16400.0, 16850.0, 17300.0, 17750.0, 18200.0, 18650.0, 19100.0, 19550.0, 20000.0], \"xaxis\": \"x\", \"y\": [10732.832305605065, 10927.532745010047, 10999.038295987173, 11120.942823009347, 11127.283737338126, 11084.30280676812, 11069.784812309364, 11066.322559389619, 11003.066376252807, 10955.364192122894, 10899.736539240288, 10741.06863236137, 10710.327383480128, 10597.496226545389, 10549.389773662053, 10465.941519309627, 10371.370420579678, 10256.85257100142, 10163.046966831698, 10074.690533201088], \"yaxis\": \"y\"}, {\"legendgroup\": \"group-19\", \"line\": {\"color\": \"#800000\"}, \"marker\": {\"size\": 3, \"symbol\": \"diamond\"}, \"name\": \"20\", \"type\": \"scatter\", \"uid\": \"3e2423b7-432a-4d5f-8c99-b3684e115fa4\", \"x\": [11000.0, 11450.0, 11900.0, 12350.0, 12800.0, 13250.0, 13700.0, 14150.0, 14600.0, 15050.0, 15500.0, 15950.0, 16400.0, 16850.0, 17300.0, 17750.0, 18200.0, 18650.0, 19100.0, 19550.0, 20000.0], \"xaxis\": \"x2\", \"y\": [0.44443637159123983, 0.3301963495493953, 0.26475209661040167, 0.21476367292060317, 0.1841100166964522, 0.16259081949317192, 0.143853601724972, 0.12756474449212685, 0.11696925559066805, 0.10710041470268136, 0.09912187964115514, 0.09650204436463768, 0.08985914755672528, 0.08622238465789246, 0.08092359794988353, 0.07737849041147359, 0.07453157832590498, 0.07263537854976868, 0.07025313296079846, 0.06792936424027783], \"yaxis\": \"y2\"}],                        {\"autosize\": true, \"hidesources\": true, \"legend\": {\"title\": {\"text\": \"iterations\"}, \"tracegroupgap\": 0}, \"margin\": {\"b\": 80, \"l\": 10, \"pad\": 0, \"r\": 135, \"t\": 25}, \"template\": {\"data\": {\"bar\": [{\"error_x\": {\"color\": \"#2a3f5f\"}, \"error_y\": {\"color\": \"#2a3f5f\"}, \"marker\": {\"line\": {\"color\": \"#E5ECF6\", \"width\": 0.5}}, \"type\": \"bar\"}], \"barpolar\": [{\"marker\": {\"line\": {\"color\": \"#E5ECF6\", \"width\": 0.5}}, \"type\": \"barpolar\"}], \"carpet\": [{\"aaxis\": {\"endlinecolor\": \"#2a3f5f\", \"gridcolor\": \"white\", \"linecolor\": \"white\", \"minorgridcolor\": \"white\", \"startlinecolor\": \"#2a3f5f\"}, \"baxis\": {\"endlinecolor\": \"#2a3f5f\", \"gridcolor\": \"white\", \"linecolor\": \"white\", \"minorgridcolor\": \"white\", \"startlinecolor\": \"#2a3f5f\"}, \"type\": \"carpet\"}], \"choropleth\": [{\"colorbar\": {\"outlinewidth\": 0, \"ticks\": \"\"}, \"type\": \"choropleth\"}], \"contour\": [{\"colorbar\": {\"outlinewidth\": 0, \"ticks\": \"\"}, \"colorscale\": [[0.0, \"#0d0887\"], [0.1111111111111111, \"#46039f\"], [0.2222222222222222, \"#7201a8\"], [0.3333333333333333, \"#9c179e\"], [0.4444444444444444, \"#bd3786\"], [0.5555555555555556, \"#d8576b\"], [0.6666666666666666, \"#ed7953\"], [0.7777777777777778, \"#fb9f3a\"], [0.8888888888888888, \"#fdca26\"], [1.0, \"#f0f921\"]], \"type\": \"contour\"}], \"contourcarpet\": [{\"colorbar\": {\"outlinewidth\": 0, \"ticks\": \"\"}, \"type\": \"contourcarpet\"}], \"heatmap\": [{\"colorbar\": {\"outlinewidth\": 0, \"ticks\": \"\"}, \"colorscale\": [[0.0, \"#0d0887\"], [0.1111111111111111, \"#46039f\"], [0.2222222222222222, \"#7201a8\"], [0.3333333333333333, \"#9c179e\"], [0.4444444444444444, \"#bd3786\"], [0.5555555555555556, \"#d8576b\"], [0.6666666666666666, \"#ed7953\"], [0.7777777777777778, \"#fb9f3a\"], [0.8888888888888888, \"#fdca26\"], [1.0, \"#f0f921\"]], \"type\": \"heatmap\"}], \"heatmapgl\": [{\"colorbar\": {\"outlinewidth\": 0, \"ticks\": \"\"}, \"colorscale\": [[0.0, \"#0d0887\"], [0.1111111111111111, \"#46039f\"], [0.2222222222222222, \"#7201a8\"], [0.3333333333333333, \"#9c179e\"], [0.4444444444444444, \"#bd3786\"], [0.5555555555555556, \"#d8576b\"], [0.6666666666666666, \"#ed7953\"], [0.7777777777777778, \"#fb9f3a\"], [0.8888888888888888, \"#fdca26\"], [1.0, \"#f0f921\"]], \"type\": \"heatmapgl\"}], \"histogram\": [{\"marker\": {\"colorbar\": {\"outlinewidth\": 0, \"ticks\": \"\"}}, \"type\": \"histogram\"}], \"histogram2d\": [{\"colorbar\": {\"outlinewidth\": 0, \"ticks\": \"\"}, \"colorscale\": [[0.0, \"#0d0887\"], [0.1111111111111111, \"#46039f\"], [0.2222222222222222, \"#7201a8\"], [0.3333333333333333, \"#9c179e\"], [0.4444444444444444, \"#bd3786\"], [0.5555555555555556, \"#d8576b\"], [0.6666666666666666, \"#ed7953\"], [0.7777777777777778, \"#fb9f3a\"], [0.8888888888888888, \"#fdca26\"], [1.0, \"#f0f921\"]], \"type\": \"histogram2d\"}], \"histogram2dcontour\": [{\"colorbar\": {\"outlinewidth\": 0, \"ticks\": \"\"}, \"colorscale\": [[0.0, \"#0d0887\"], [0.1111111111111111, \"#46039f\"], [0.2222222222222222, \"#7201a8\"], [0.3333333333333333, \"#9c179e\"], [0.4444444444444444, \"#bd3786\"], [0.5555555555555556, \"#d8576b\"], [0.6666666666666666, \"#ed7953\"], [0.7777777777777778, \"#fb9f3a\"], [0.8888888888888888, \"#fdca26\"], [1.0, \"#f0f921\"]], \"type\": \"histogram2dcontour\"}], \"mesh3d\": [{\"colorbar\": {\"outlinewidth\": 0, \"ticks\": \"\"}, \"type\": \"mesh3d\"}], \"parcoords\": [{\"line\": {\"colorbar\": {\"outlinewidth\": 0, \"ticks\": \"\"}}, \"type\": \"parcoords\"}], \"pie\": [{\"automargin\": true, \"type\": \"pie\"}], \"scatter\": [{\"marker\": {\"colorbar\": {\"outlinewidth\": 0, \"ticks\": \"\"}}, \"type\": \"scatter\"}], \"scatter3d\": [{\"line\": {\"colorbar\": {\"outlinewidth\": 0, \"ticks\": \"\"}}, \"marker\": {\"colorbar\": {\"outlinewidth\": 0, \"ticks\": \"\"}}, \"type\": \"scatter3d\"}], \"scattercarpet\": [{\"marker\": {\"colorbar\": {\"outlinewidth\": 0, \"ticks\": \"\"}}, \"type\": \"scattercarpet\"}], \"scattergeo\": [{\"marker\": {\"colorbar\": {\"outlinewidth\": 0, \"ticks\": \"\"}}, \"type\": \"scattergeo\"}], \"scattergl\": [{\"marker\": {\"colorbar\": {\"outlinewidth\": 0, \"ticks\": \"\"}}, \"type\": \"scattergl\"}], \"scattermapbox\": [{\"marker\": {\"colorbar\": {\"outlinewidth\": 0, \"ticks\": \"\"}}, \"type\": \"scattermapbox\"}], \"scatterpolar\": [{\"marker\": {\"colorbar\": {\"outlinewidth\": 0, \"ticks\": \"\"}}, \"type\": \"scatterpolar\"}], \"scatterpolargl\": [{\"marker\": {\"colorbar\": {\"outlinewidth\": 0, \"ticks\": \"\"}}, \"type\": \"scatterpolargl\"}], \"scatterternary\": [{\"marker\": {\"colorbar\": {\"outlinewidth\": 0, \"ticks\": \"\"}}, \"type\": \"scatterternary\"}], \"surface\": [{\"colorbar\": {\"outlinewidth\": 0, \"ticks\": \"\"}, \"colorscale\": [[0.0, \"#0d0887\"], [0.1111111111111111, \"#46039f\"], [0.2222222222222222, \"#7201a8\"], [0.3333333333333333, \"#9c179e\"], [0.4444444444444444, \"#bd3786\"], [0.5555555555555556, \"#d8576b\"], [0.6666666666666666, \"#ed7953\"], [0.7777777777777778, \"#fb9f3a\"], [0.8888888888888888, \"#fdca26\"], [1.0, \"#f0f921\"]], \"type\": \"surface\"}], \"table\": [{\"cells\": {\"fill\": {\"color\": \"#EBF0F8\"}, \"line\": {\"color\": \"white\"}}, \"header\": {\"fill\": {\"color\": \"#C8D4E3\"}, \"line\": {\"color\": \"white\"}}, \"type\": \"table\"}]}, \"layout\": {\"annotationdefaults\": {\"arrowcolor\": \"#2a3f5f\", \"arrowhead\": 0, \"arrowwidth\": 1}, \"autotypenumbers\": \"strict\", \"coloraxis\": {\"colorbar\": {\"outlinewidth\": 0, \"ticks\": \"\"}}, \"colorscale\": {\"diverging\": [[0, \"#8e0152\"], [0.1, \"#c51b7d\"], [0.2, \"#de77ae\"], [0.3, \"#f1b6da\"], [0.4, \"#fde0ef\"], [0.5, \"#f7f7f7\"], [0.6, \"#e6f5d0\"], [0.7, \"#b8e186\"], [0.8, \"#7fbc41\"], [0.9, \"#4d9221\"], [1, \"#276419\"]], \"sequential\": [[0.0, \"#0d0887\"], [0.1111111111111111, \"#46039f\"], [0.2222222222222222, \"#7201a8\"], [0.3333333333333333, \"#9c179e\"], [0.4444444444444444, \"#bd3786\"], [0.5555555555555556, \"#d8576b\"], [0.6666666666666666, \"#ed7953\"], [0.7777777777777778, \"#fb9f3a\"], [0.8888888888888888, \"#fdca26\"], [1.0, \"#f0f921\"]], \"sequentialminus\": [[0.0, \"#0d0887\"], [0.1111111111111111, \"#46039f\"], [0.2222222222222222, \"#7201a8\"], [0.3333333333333333, \"#9c179e\"], [0.4444444444444444, \"#bd3786\"], [0.5555555555555556, \"#d8576b\"], [0.6666666666666666, \"#ed7953\"], [0.7777777777777778, \"#fb9f3a\"], [0.8888888888888888, \"#fdca26\"], [1.0, \"#f0f921\"]]}, \"colorway\": [\"#636efa\", \"#EF553B\", \"#00cc96\", \"#ab63fa\", \"#FFA15A\", \"#19d3f3\", \"#FF6692\", \"#B6E880\", \"#FF97FF\", \"#FECB52\"], \"font\": {\"color\": \"#2a3f5f\"}, \"geo\": {\"bgcolor\": \"white\", \"lakecolor\": \"white\", \"landcolor\": \"#E5ECF6\", \"showlakes\": true, \"showland\": true, \"subunitcolor\": \"white\"}, \"hoverlabel\": {\"align\": \"left\"}, \"hovermode\": \"closest\", \"mapbox\": {\"style\": \"light\"}, \"paper_bgcolor\": \"white\", \"plot_bgcolor\": \"#E5ECF6\", \"polar\": {\"angularaxis\": {\"gridcolor\": \"white\", \"linecolor\": \"white\", \"ticks\": \"\"}, \"bgcolor\": \"#E5ECF6\", \"radialaxis\": {\"gridcolor\": \"white\", \"linecolor\": \"white\", \"ticks\": \"\"}}, \"scene\": {\"xaxis\": {\"backgroundcolor\": \"#E5ECF6\", \"gridcolor\": \"white\", \"gridwidth\": 2, \"linecolor\": \"white\", \"showbackground\": true, \"ticks\": \"\", \"zerolinecolor\": \"white\"}, \"yaxis\": {\"backgroundcolor\": \"#E5ECF6\", \"gridcolor\": \"white\", \"gridwidth\": 2, \"linecolor\": \"white\", \"showbackground\": true, \"ticks\": \"\", \"zerolinecolor\": \"white\"}, \"zaxis\": {\"backgroundcolor\": \"#E5ECF6\", \"gridcolor\": \"white\", \"gridwidth\": 2, \"linecolor\": \"white\", \"showbackground\": true, \"ticks\": \"\", \"zerolinecolor\": \"white\"}}, \"shapedefaults\": {\"line\": {\"color\": \"#2a3f5f\"}}, \"ternary\": {\"aaxis\": {\"gridcolor\": \"white\", \"linecolor\": \"white\", \"ticks\": \"\"}, \"baxis\": {\"gridcolor\": \"white\", \"linecolor\": \"white\", \"ticks\": \"\"}, \"bgcolor\": \"#E5ECF6\", \"caxis\": {\"gridcolor\": \"white\", \"linecolor\": \"white\", \"ticks\": \"\"}}, \"title\": {\"x\": 0.05}, \"xaxis\": {\"automargin\": true, \"gridcolor\": \"white\", \"linecolor\": \"white\", \"ticks\": \"\", \"title\": {\"standoff\": 15}, \"zerolinecolor\": \"white\", \"zerolinewidth\": 2}, \"yaxis\": {\"automargin\": true, \"gridcolor\": \"white\", \"linecolor\": \"white\", \"ticks\": \"\", \"title\": {\"standoff\": 15}, \"zerolinecolor\": \"white\", \"zerolinewidth\": 2}}}, \"xaxis\": {\"anchor\": \"y\", \"domain\": [0.0, 0.45], \"tickformat\": \"g\", \"title\": {\"text\": \"$Shell~~Velocity$\"}}, \"xaxis2\": {\"anchor\": \"y2\", \"domain\": [0.55, 1.0], \"matches\": \"x\", \"tickformat\": \"g\", \"title\": {\"text\": \"$Shell~~Velocity$\"}}, \"yaxis\": {\"anchor\": \"x\", \"domain\": [0.0, 1.0], \"range\": [9000, 14000], \"tickformat\": \"g\", \"title\": {\"text\": \"$T_{rad}\\\\ [K]$\"}}, \"yaxis2\": {\"anchor\": \"x2\", \"domain\": [0.0, 1.0], \"title\": {\"text\": \"$W$\"}}},                        {\"responsive\": true}                    ).then(function(){\n                            \nvar gd = document.getElementById('916ddaec-aa74-4148-8e1a-1dad654213ef');\nvar x = new MutationObserver(function (mutations, observer) {{\n        var display = window.getComputedStyle(gd).display;\n        if (!display || display === 'none') {{\n            console.log([gd, 'removed!']);\n            Plotly.purge(gd);\n            observer.disconnect();\n        }}\n}});\n\n// Listen for the removal of the full notebook cells\nvar notebookContainer = gd.closest('#notebook-container');\nif (notebookContainer) {{\n    x.observe(notebookContainer, {childList: true});\n}}\n\n// Listen for the clearing of the current output cell\nvar outputEl = gd.closest('.output');\nif (outputEl) {{\n    x.observe(outputEl, {childList: true});\n}}\n\n                        })                };                });            </script>        </div>"
         },
         "metadata": {},
         "output_type": "display_data"
        }
       ]
      }
     },
     "c58e244061fa493eb46a16a2364c0344": {
      "model_module": "@jupyter-widgets/base",
      "model_module_version": "1.2.0",
      "model_name": "LayoutModel",
      "state": {}
     },
     "c96a5f6815aa481ea2afafdf8966ed63": {
      "model_module": "@jupyter-widgets/controls",
      "model_module_version": "1.5.0",
      "model_name": "VBoxModel",
      "state": {
       "children": [
        "IPY_MODEL_ea0d5e0aa461439db9297b5984e22d33",
        "IPY_MODEL_04315963351d4ac19e3fa754d0a23b75"
       ],
       "layout": "IPY_MODEL_13d2a553ddd44d538b814dc335906197"
      }
     },
     "ccf1a10c99de48288084d1f5b3d021f2": {
      "model_module": "@jupyter-widgets/controls",
      "model_module_version": "1.5.0",
      "model_name": "VBoxModel",
      "state": {
       "children": [
        "IPY_MODEL_39906ec0a67c4bef863401081abe3549",
        "IPY_MODEL_4775e82ce4804cb4bf9c5256faa32a70"
       ],
       "layout": "IPY_MODEL_d8e07ba7992543a29ed697956090849f"
      }
     },
     "d67d05ee30ce44afb09e82eead22798c": {
      "model_module": "@jupyter-widgets/output",
      "model_module_version": "1.0.0",
      "model_name": "OutputModel",
      "state": {
       "layout": "IPY_MODEL_40cf698e50984deba3310660c80508ed",
       "outputs": [
        {
         "data": {
          "text/html": "        <script type=\"text/javascript\">\n        window.PlotlyConfig = {MathJaxConfig: 'local'};\n        if (window.MathJax) {MathJax.Hub.Config({SVG: {font: \"STIX-Web\"}});}\n        if (typeof require !== 'undefined') {\n        require.undef(\"plotly\");\n        requirejs.config({\n            paths: {\n                'plotly': ['https://cdn.plot.ly/plotly-latest.min']\n            }\n        });\n        require(['plotly'], function(Plotly) {\n            window._Plotly = Plotly;\n        });\n        }\n        </script>\n        "
         },
         "metadata": {},
         "output_type": "display_data"
        },
        {
         "data": {
          "text/html": "<div>                            <div id=\"1d91c354-36c0-430d-8a5f-b0cf217ab94e\" class=\"plotly-graph-div\" style=\"height:580px; width:100%;\"></div>            <script type=\"text/javascript\">                require([\"plotly\"], function(Plotly) {                    window.PLOTLYENV=window.PLOTLYENV || {};                                    if (document.getElementById(\"1d91c354-36c0-430d-8a5f-b0cf217ab94e\")) {                    Plotly.newPlot(                        \"1d91c354-36c0-430d-8a5f-b0cf217ab94e\",                        [{\"line\": {\"color\": \"#800000\"}, \"type\": \"scatter\", \"uid\": \"9b5ed1ef-dcc2-401a-b1c3-39cf40ea464b\", \"xaxis\": \"x\", \"yaxis\": \"y\"}, {\"line\": {\"color\": \"#800000\"}, \"type\": \"scatter\", \"uid\": \"e152f2fb-78cf-492a-a2a5-4083276c881f\", \"xaxis\": \"x2\", \"yaxis\": \"y2\"}, {\"legendgroup\": \"group-0\", \"line\": {\"color\": \"#000080\"}, \"marker\": {\"size\": 3, \"symbol\": \"diamond\"}, \"name\": \"1\", \"showlegend\": false, \"type\": \"scatter\", \"uid\": \"43a2ff75-c319-42fb-b0fe-fa1823fba656\", \"x\": [11000.0, 11450.0, 11900.0, 12350.0, 12800.0, 13250.0, 13700.0, 14150.0, 14600.0, 15050.0, 15500.0, 15950.0, 16400.0, 16850.0, 17300.0, 17750.0, 18200.0, 18650.0, 19100.0, 19550.0, 20000.0], \"xaxis\": \"x\", \"y\": [10134.733716625742, 10158.894068408064, 10199.163062164183, 10230.988705011776, 10268.95723542248, 10222.890845143002, 10224.33250792895, 10215.304103107928, 10218.67593187541, 10185.463728853065, 10144.46316917108, 10076.87680984274, 10030.209347853815, 10029.018621140542, 9986.944524442715, 9873.477845862937, 9843.334614032237, 9771.609702679261, 9679.524619982089, 9610.209774198473], \"yaxis\": \"y\"}, {\"legendgroup\": \"group-0\", \"line\": {\"color\": \"#000080\"}, \"marker\": {\"size\": 3, \"symbol\": \"diamond\"}, \"name\": \"1\", \"type\": \"scatter\", \"uid\": \"98ccd73e-2f3f-4f99-bcb2-ea829fe6f07f\", \"x\": [11000.0, 11450.0, 11900.0, 12350.0, 12800.0, 13250.0, 13700.0, 14150.0, 14600.0, 15050.0, 15500.0, 15950.0, 16400.0, 16850.0, 17300.0, 17750.0, 18200.0, 18650.0, 19100.0, 19550.0, 20000.0], \"xaxis\": \"x2\", \"y\": [0.5082040569581554, 0.3962212763594891, 0.3214185723254649, 0.26560113513158967, 0.22389059993927218, 0.19702589896830255, 0.1749491202529985, 0.1563731541470249, 0.13940960015313733, 0.12795427205030482, 0.11717940936679912, 0.10932218040060024, 0.10303354273987321, 0.09520635540966971, 0.08986506172262776, 0.08694065164106614, 0.082029771070409, 0.07895392034793645, 0.07641285709961215, 0.0734944435056783], \"yaxis\": \"y2\"}, {\"legendgroup\": \"group-1\", \"line\": {\"color\": \"#0000bd\"}, \"marker\": {\"size\": 3, \"symbol\": \"diamond\"}, \"name\": \"2\", \"showlegend\": false, \"type\": \"scatter\", \"uid\": \"2e8d2782-05a7-4a34-ae12-f2be992ae721\", \"x\": [11000.0, 11450.0, 11900.0, 12350.0, 12800.0, 13250.0, 13700.0, 14150.0, 14600.0, 15050.0, 15500.0, 15950.0, 16400.0, 16850.0, 17300.0, 17750.0, 18200.0, 18650.0, 19100.0, 19550.0, 20000.0], \"xaxis\": \"x\", \"y\": [11468.021903420027, 11435.999407966676, 11449.930444230995, 11492.65958293691, 11527.299217171007, 11499.835339656465, 11477.276330649498, 11460.659744967303, 11406.161049943823, 11340.543942919201, 11306.370330122183, 11212.548324749032, 11165.15031794662, 11109.460288675331, 11032.751812374603, 10953.828130057926, 10887.89602394496, 10829.273836669769, 10807.478630946254, 10678.472039472606], \"yaxis\": \"y\"}, {\"legendgroup\": \"group-1\", \"line\": {\"color\": \"#0000bd\"}, \"marker\": {\"size\": 3, \"symbol\": \"diamond\"}, \"name\": \"2\", \"type\": \"scatter\", \"uid\": \"a0d8d8b9-d73e-479f-9ca9-c4d8bb069298\", \"x\": [11000.0, 11450.0, 11900.0, 12350.0, 12800.0, 13250.0, 13700.0, 14150.0, 14600.0, 15050.0, 15500.0, 15950.0, 16400.0, 16850.0, 17300.0, 17750.0, 18200.0, 18650.0, 19100.0, 19550.0, 20000.0], \"xaxis\": \"x2\", \"y\": [0.5486713034814857, 0.4359667978092499, 0.35745766558351055, 0.29759617877916883, 0.2514052642548386, 0.2213742932983643, 0.1967142119281105, 0.1750139221468986, 0.1596018423150508, 0.14776884435084475, 0.1362910943753445, 0.1282954632603496, 0.11949333047989281, 0.11271924127039863, 0.10796286592870252, 0.10261651657287679, 0.09761052473526158, 0.0925701903122773, 0.08757308797595444, 0.08560372849204283], \"yaxis\": \"y2\"}, {\"legendgroup\": \"group-2\", \"line\": {\"color\": \"#0000fa\"}, \"marker\": {\"size\": 3, \"symbol\": \"diamond\"}, \"name\": \"3\", \"showlegend\": false, \"type\": \"scatter\", \"uid\": \"f5a7b823-ba0a-4370-8ed1-261b61a28535\", \"x\": [11000.0, 11450.0, 11900.0, 12350.0, 12800.0, 13250.0, 13700.0, 14150.0, 14600.0, 15050.0, 15500.0, 15950.0, 16400.0, 16850.0, 17300.0, 17750.0, 18200.0, 18650.0, 19100.0, 19550.0, 20000.0], \"xaxis\": \"x\", \"y\": [10497.008397133988, 10647.412149636564, 10710.555598349812, 10778.428547850966, 10799.157541112727, 10799.075913257297, 10809.366021863923, 10753.851890469936, 10723.18539784127, 10725.950530076656, 10623.433273860508, 10568.227843581686, 10448.426796026406, 10344.129570842591, 10277.247070725653, 10226.187071335817, 10191.522923045857, 10084.749431116139, 9966.774860086334, 9840.487791467045], \"yaxis\": \"y\"}, {\"legendgroup\": \"group-2\", \"line\": {\"color\": \"#0000fa\"}, \"marker\": {\"size\": 3, \"symbol\": \"diamond\"}, \"name\": \"3\", \"type\": \"scatter\", \"uid\": \"1c03b794-050d-46ef-8c1c-315a2eaff85a\", \"x\": [11000.0, 11450.0, 11900.0, 12350.0, 12800.0, 13250.0, 13700.0, 14150.0, 14600.0, 15050.0, 15500.0, 15950.0, 16400.0, 16850.0, 17300.0, 17750.0, 18200.0, 18650.0, 19100.0, 19550.0, 20000.0], \"xaxis\": \"x2\", \"y\": [0.442299407233424, 0.3316155054771363, 0.26819254934335535, 0.22122958128497036, 0.18813327121608667, 0.16428839927198421, 0.1443413401513004, 0.13164698698733832, 0.12013575438192611, 0.1081687026641846, 0.10181996368767447, 0.09492623735431249, 0.09101140062051426, 0.08639163271896758, 0.08220814746497997, 0.07762890235617773, 0.0732750049575765, 0.07106642067401933, 0.06969266984280108, 0.06837630714305266], \"yaxis\": \"y2\"}, {\"legendgroup\": \"group-3\", \"line\": {\"color\": \"#0022ff\"}, \"marker\": {\"size\": 3, \"symbol\": \"diamond\"}, \"name\": \"4\", \"showlegend\": false, \"type\": \"scatter\", \"uid\": \"0ea912fa-54c9-4e9c-9839-bde0840b52e7\", \"x\": [11000.0, 11450.0, 11900.0, 12350.0, 12800.0, 13250.0, 13700.0, 14150.0, 14600.0, 15050.0, 15500.0, 15950.0, 16400.0, 16850.0, 17300.0, 17750.0, 18200.0, 18650.0, 19100.0, 19550.0, 20000.0], \"xaxis\": \"x\", \"y\": [11615.34431271539, 11665.123230726764, 11722.631980824826, 11696.759034389528, 11740.274989218244, 11729.411389495828, 11762.93754644142, 11652.44218706302, 11589.11016884437, 11561.496043188794, 11517.190316985118, 11433.020206851419, 11326.42249364519, 11237.973261737088, 11182.841624719184, 11103.37345606317, 10988.381394715301, 10950.081329679253, 10862.947659789317, 10751.855231570007], \"yaxis\": \"y\"}, {\"legendgroup\": \"group-3\", \"line\": {\"color\": \"#0022ff\"}, \"marker\": {\"size\": 3, \"symbol\": \"diamond\"}, \"name\": \"4\", \"type\": \"scatter\", \"uid\": \"aabfad7f-5312-487e-a80b-567c6f4c305f\", \"x\": [11000.0, 11450.0, 11900.0, 12350.0, 12800.0, 13250.0, 13700.0, 14150.0, 14600.0, 15050.0, 15500.0, 15950.0, 16400.0, 16850.0, 17300.0, 17750.0, 18200.0, 18650.0, 19100.0, 19550.0, 20000.0], \"xaxis\": \"x2\", \"y\": [0.4977143593187972, 0.3915904655092031, 0.31518118479289936, 0.26854353604159453, 0.22820910008384737, 0.1992052064914697, 0.1732796396495469, 0.15947664883652757, 0.14579099407466625, 0.1334986840647756, 0.12384871542019993, 0.1163327713735177, 0.11004943343959867, 0.10494577908156115, 0.09880472549683283, 0.09393029340453476, 0.09096244445118767, 0.08630423393331049, 0.08321862769525468, 0.08100093623949862], \"yaxis\": \"y2\"}, {\"legendgroup\": \"group-4\", \"line\": {\"color\": \"#0057ff\"}, \"marker\": {\"size\": 3, \"symbol\": \"diamond\"}, \"name\": \"5\", \"showlegend\": false, \"type\": \"scatter\", \"uid\": \"b54177b5-176f-4ec4-ac9c-705ab44f85b5\", \"x\": [11000.0, 11450.0, 11900.0, 12350.0, 12800.0, 13250.0, 13700.0, 14150.0, 14600.0, 15050.0, 15500.0, 15950.0, 16400.0, 16850.0, 17300.0, 17750.0, 18200.0, 18650.0, 19100.0, 19550.0, 20000.0], \"xaxis\": \"x\", \"y\": [10549.51412848435, 10759.565074180144, 10894.663638012831, 10932.865203687254, 10930.709069978382, 10919.073481210131, 10877.07525272697, 10810.824269258308, 10785.603108487141, 10727.31310966391, 10697.303299672532, 10711.257210371086, 10551.734446150795, 10490.892524557958, 10416.933630770685, 10379.863072642813, 10279.630106699515, 10220.453729533758, 10077.475484616278, 9927.285882427788], \"yaxis\": \"y\"}, {\"legendgroup\": \"group-4\", \"line\": {\"color\": \"#0057ff\"}, \"marker\": {\"size\": 3, \"symbol\": \"diamond\"}, \"name\": \"5\", \"type\": \"scatter\", \"uid\": \"cbc2e6e8-2b4e-4df1-8793-2f4cbbd23ef5\", \"x\": [11000.0, 11450.0, 11900.0, 12350.0, 12800.0, 13250.0, 13700.0, 14150.0, 14600.0, 15050.0, 15500.0, 15950.0, 16400.0, 16850.0, 17300.0, 17750.0, 18200.0, 18650.0, 19100.0, 19550.0, 20000.0], \"xaxis\": \"x2\", \"y\": [0.4434406663593859, 0.329565789368522, 0.26010890450064733, 0.2159881056247415, 0.1854070420834862, 0.16219891903074657, 0.14560372598880475, 0.13326787384388758, 0.11999931339731698, 0.11025218829721785, 0.1012892218335092, 0.09247037462403469, 0.08933312170132374, 0.08413052869637083, 0.07995660682274036, 0.07537221197763783, 0.07252173631498261, 0.06901139800647034, 0.06809975749337623, 0.06735205229901337], \"yaxis\": \"y2\"}, {\"legendgroup\": \"group-5\", \"line\": {\"color\": \"#008dff\"}, \"marker\": {\"size\": 3, \"symbol\": \"diamond\"}, \"name\": \"6\", \"showlegend\": false, \"type\": \"scatter\", \"uid\": \"1b968590-8314-407c-9b98-b35f35685439\", \"x\": [11000.0, 11450.0, 11900.0, 12350.0, 12800.0, 13250.0, 13700.0, 14150.0, 14600.0, 15050.0, 15500.0, 15950.0, 16400.0, 16850.0, 17300.0, 17750.0, 18200.0, 18650.0, 19100.0, 19550.0, 20000.0], \"xaxis\": \"x\", \"y\": [11567.208184336641, 11613.025123050538, 11683.328827353047, 11693.104708830946, 11724.278325269526, 11653.124120929953, 11612.65021223817, 11609.82892873756, 11614.580326945592, 11546.462389124263, 11425.95501009532, 11375.048998512899, 11315.818140434149, 11225.578780782147, 11120.449864009748, 11082.155937788912, 10987.868514296186, 10920.442550504482, 10834.92855121022, 10735.503852801117], \"yaxis\": \"y\"}, {\"legendgroup\": \"group-5\", \"line\": {\"color\": \"#008dff\"}, \"marker\": {\"size\": 3, \"symbol\": \"diamond\"}, \"name\": \"6\", \"type\": \"scatter\", \"uid\": \"b79311d5-6d84-40ee-90b2-0960e34876ad\", \"x\": [11000.0, 11450.0, 11900.0, 12350.0, 12800.0, 13250.0, 13700.0, 14150.0, 14600.0, 15050.0, 15500.0, 15950.0, 16400.0, 16850.0, 17300.0, 17750.0, 18200.0, 18650.0, 19100.0, 19550.0, 20000.0], \"xaxis\": \"x2\", \"y\": [0.5041776548110584, 0.39023406927746374, 0.3175388504350529, 0.2668923064824901, 0.22560807776675992, 0.203042144204494, 0.18189522000862068, 0.16135829264739318, 0.14556836273965668, 0.13371966659083212, 0.12524940621974714, 0.11754876564474895, 0.11015802998525885, 0.10441164070595735, 0.09931347804630662, 0.09402786959361889, 0.09062541591197751, 0.08647506254390502, 0.08333888504337562, 0.08065101681509353], \"yaxis\": \"y2\"}, {\"legendgroup\": \"group-6\", \"line\": {\"color\": \"#00c3ff\"}, \"marker\": {\"size\": 3, \"symbol\": \"diamond\"}, \"name\": \"7\", \"showlegend\": false, \"type\": \"scatter\", \"uid\": \"d80cd4ed-5914-4a46-95cc-17a404167544\", \"x\": [11000.0, 11450.0, 11900.0, 12350.0, 12800.0, 13250.0, 13700.0, 14150.0, 14600.0, 15050.0, 15500.0, 15950.0, 16400.0, 16850.0, 17300.0, 17750.0, 18200.0, 18650.0, 19100.0, 19550.0, 20000.0], \"xaxis\": \"x\", \"y\": [10569.74740334304, 10778.034968335256, 10902.99080443269, 10989.797314359694, 11047.113446219639, 11099.194259237403, 11016.051305801364, 10966.513171670935, 10947.55947416353, 10934.581362699615, 10809.397890448754, 10698.341230707349, 10636.972622756153, 10581.99648087922, 10532.222759856093, 10454.841299228276, 10338.205644915452, 10252.881876072242, 10087.404942797337, 9969.196423563208], \"yaxis\": \"y\"}, {\"legendgroup\": \"group-6\", \"line\": {\"color\": \"#00c3ff\"}, \"marker\": {\"size\": 3, \"symbol\": \"diamond\"}, \"name\": \"7\", \"type\": \"scatter\", \"uid\": \"200a412a-d74a-4983-a084-28d6dfe82919\", \"x\": [11000.0, 11450.0, 11900.0, 12350.0, 12800.0, 13250.0, 13700.0, 14150.0, 14600.0, 15050.0, 15500.0, 15950.0, 16400.0, 16850.0, 17300.0, 17750.0, 18200.0, 18650.0, 19100.0, 19550.0, 20000.0], \"xaxis\": \"x2\", \"y\": [0.4422900724363882, 0.32572087182053455, 0.25608363121508193, 0.20917551310840277, 0.17856281204684143, 0.1532534478801237, 0.1389841189692777, 0.1262357056609694, 0.11375261901807446, 0.10290814628079882, 0.09725630417756266, 0.09284460200253164, 0.0871069617423461, 0.0816250729899891, 0.07729032592235478, 0.07380941869099045, 0.07152054892238287, 0.06908445244271275, 0.06851046721770122, 0.06692890210588077], \"yaxis\": \"y2\"}, {\"legendgroup\": \"group-7\", \"line\": {\"color\": \"#0ff8e8\"}, \"marker\": {\"size\": 3, \"symbol\": \"diamond\"}, \"name\": \"8\", \"showlegend\": false, \"type\": \"scatter\", \"uid\": \"88849eb5-afbb-4774-ba3b-a942f4426ffa\", \"x\": [11000.0, 11450.0, 11900.0, 12350.0, 12800.0, 13250.0, 13700.0, 14150.0, 14600.0, 15050.0, 15500.0, 15950.0, 16400.0, 16850.0, 17300.0, 17750.0, 18200.0, 18650.0, 19100.0, 19550.0, 20000.0], \"xaxis\": \"x\", \"y\": [11547.678161996797, 11623.874786176679, 11731.044716907294, 11760.25509798027, 11744.698977086615, 11669.73950817632, 11644.121670479833, 11594.304643594436, 11525.864522224016, 11493.832801176886, 11493.569589639628, 11391.455575577864, 11294.144464329282, 11274.715359901778, 11177.405492194264, 11083.76958592225, 11033.949307567013, 10945.602385267846, 10830.938212361745, 10712.245869588583], \"yaxis\": \"y\"}, {\"legendgroup\": \"group-7\", \"line\": {\"color\": \"#0ff8e8\"}, \"marker\": {\"size\": 3, \"symbol\": \"diamond\"}, \"name\": \"8\", \"type\": \"scatter\", \"uid\": \"5fae7659-9b66-4fbc-a38c-51c4d37ecbe1\", \"x\": [11000.0, 11450.0, 11900.0, 12350.0, 12800.0, 13250.0, 13700.0, 14150.0, 14600.0, 15050.0, 15500.0, 15950.0, 16400.0, 16850.0, 17300.0, 17750.0, 18200.0, 18650.0, 19100.0, 19550.0, 20000.0], \"xaxis\": \"x2\", \"y\": [0.5003453146367499, 0.38382149418984424, 0.3046144240522065, 0.25655030086043534, 0.22316143817180586, 0.1983376255429574, 0.17627463164764823, 0.16038371517158478, 0.14647197836539907, 0.13388777429772944, 0.12191469474588634, 0.11483702826414072, 0.10939033073711928, 0.1016253554908811, 0.09688786513696965, 0.09283396230842705, 0.08787816010814403, 0.08454191425058025, 0.08203925347737268, 0.0802404176236165], \"yaxis\": \"y2\"}, {\"legendgroup\": \"group-8\", \"line\": {\"color\": \"#3affbc\"}, \"marker\": {\"size\": 3, \"symbol\": \"diamond\"}, \"name\": \"9\", \"showlegend\": false, \"type\": \"scatter\", \"uid\": \"8fba382d-6920-46f0-995d-053c5096e218\", \"x\": [11000.0, 11450.0, 11900.0, 12350.0, 12800.0, 13250.0, 13700.0, 14150.0, 14600.0, 15050.0, 15500.0, 15950.0, 16400.0, 16850.0, 17300.0, 17750.0, 18200.0, 18650.0, 19100.0, 19550.0, 20000.0], \"xaxis\": \"x\", \"y\": [10635.099216825016, 10811.018798823196, 10933.638973465304, 10979.717070479548, 11020.403776787787, 11035.731463947244, 10938.265121115064, 10845.596613320555, 10800.731975199556, 10763.639570847956, 10717.471486460141, 10707.496982070452, 10660.60682399312, 10573.357547773094, 10472.700868373204, 10404.049299323693, 10290.698637903408, 10218.265955052706, 10108.378593633912, 9988.315668041098], \"yaxis\": \"y\"}, {\"legendgroup\": \"group-8\", \"line\": {\"color\": \"#3affbc\"}, \"marker\": {\"size\": 3, \"symbol\": \"diamond\"}, \"name\": \"9\", \"type\": \"scatter\", \"uid\": \"6f3af647-45cd-42af-a9bb-e389e8ff8289\", \"x\": [11000.0, 11450.0, 11900.0, 12350.0, 12800.0, 13250.0, 13700.0, 14150.0, 14600.0, 15050.0, 15500.0, 15950.0, 16400.0, 16850.0, 17300.0, 17750.0, 18200.0, 18650.0, 19100.0, 19550.0, 20000.0], \"xaxis\": \"x2\", \"y\": [0.43952006761780843, 0.327268984776419, 0.2606464861341183, 0.21628196882829448, 0.18251989124968382, 0.15831982713481618, 0.14420700235789413, 0.1319104825157537, 0.11992662887673335, 0.11051812652760704, 0.10164157832326394, 0.0935169832842306, 0.08702393919783383, 0.08275717669259847, 0.07958674997930451, 0.07579438452066575, 0.07337972954768164, 0.07043279263704051, 0.06849589481058935, 0.06699933221108373], \"yaxis\": \"y2\"}, {\"legendgroup\": \"group-9\", \"line\": {\"color\": \"#66ff91\"}, \"marker\": {\"size\": 3, \"symbol\": \"diamond\"}, \"name\": \"10\", \"showlegend\": false, \"type\": \"scatter\", \"uid\": \"e47b8316-63ef-456d-8851-a33f2840fe79\", \"x\": [11000.0, 11450.0, 11900.0, 12350.0, 12800.0, 13250.0, 13700.0, 14150.0, 14600.0, 15050.0, 15500.0, 15950.0, 16400.0, 16850.0, 17300.0, 17750.0, 18200.0, 18650.0, 19100.0, 19550.0, 20000.0], \"xaxis\": \"x\", \"y\": [11500.55767773097, 11637.546429690152, 11663.40617042992, 11724.968508662445, 11714.760546184587, 11715.267405819095, 11601.494346275227, 11508.240345570224, 11502.488963193151, 11497.386422527972, 11451.270656305627, 11400.159576989896, 11327.524225636038, 11287.892223234016, 11179.325846630562, 11094.423438456082, 10990.648087308033, 10925.434399972431, 10815.564131433573, 10706.177796255937], \"yaxis\": \"y\"}, {\"legendgroup\": \"group-9\", \"line\": {\"color\": \"#66ff91\"}, \"marker\": {\"size\": 3, \"symbol\": \"diamond\"}, \"name\": \"10\", \"type\": \"scatter\", \"uid\": \"86c67ed9-1f92-4c5a-8ecc-0593e6cf0c54\", \"x\": [11000.0, 11450.0, 11900.0, 12350.0, 12800.0, 13250.0, 13700.0, 14150.0, 14600.0, 15050.0, 15500.0, 15950.0, 16400.0, 16850.0, 17300.0, 17750.0, 18200.0, 18650.0, 19100.0, 19550.0, 20000.0], \"xaxis\": \"x2\", \"y\": [0.5068949392970965, 0.38221104971484254, 0.31487414577388056, 0.2621151190162536, 0.22619764203242226, 0.1966896714263117, 0.17976793731845225, 0.16527279232801473, 0.14785746043356635, 0.13387433613614877, 0.1232425999868199, 0.1146829697056732, 0.10741488616862097, 0.10056120171965181, 0.09622391591057, 0.0922429076610291, 0.0891060122843892, 0.08532979760583174, 0.08271120381699126, 0.08030516190365557], \"yaxis\": \"y2\"}, {\"legendgroup\": \"group-10\", \"line\": {\"color\": \"#91ff66\"}, \"marker\": {\"size\": 3, \"symbol\": \"diamond\"}, \"name\": \"11\", \"showlegend\": false, \"type\": \"scatter\", \"uid\": \"6e04582b-7dbf-4bde-87bb-7e9b2f041e74\", \"x\": [11000.0, 11450.0, 11900.0, 12350.0, 12800.0, 13250.0, 13700.0, 14150.0, 14600.0, 15050.0, 15500.0, 15950.0, 16400.0, 16850.0, 17300.0, 17750.0, 18200.0, 18650.0, 19100.0, 19550.0, 20000.0], \"xaxis\": \"x\", \"y\": [10570.856509263214, 10736.442568836415, 10856.868647968908, 10979.906697012919, 10953.700434670503, 10957.336276077183, 10966.459695386746, 10949.857847026873, 10898.17650137722, 10912.847154692829, 10916.410390590076, 10804.79013541429, 10642.721757219706, 10673.950209699196, 10562.15537191637, 10441.053929477466, 10375.82143773825, 10218.808094852784, 10128.925286201786, 9982.977583607197], \"yaxis\": \"y\"}, {\"legendgroup\": \"group-10\", \"line\": {\"color\": \"#91ff66\"}, \"marker\": {\"size\": 3, \"symbol\": \"diamond\"}, \"name\": \"11\", \"type\": \"scatter\", \"uid\": \"5581aa3b-8999-4992-8d71-ab86934651e3\", \"x\": [11000.0, 11450.0, 11900.0, 12350.0, 12800.0, 13250.0, 13700.0, 14150.0, 14600.0, 15050.0, 15500.0, 15950.0, 16400.0, 16850.0, 17300.0, 17750.0, 18200.0, 18650.0, 19100.0, 19550.0, 20000.0], \"xaxis\": \"x2\", \"y\": [0.44592562360298593, 0.331726124200421, 0.2626860334726053, 0.21445158567301176, 0.1874369354198379, 0.16283699173812993, 0.14343516576688212, 0.1288301921728002, 0.11742933862073758, 0.10551038169028196, 0.09622856527804761, 0.0908415597305189, 0.08819161384785737, 0.08047832421527892, 0.07731272727040164, 0.07502560062315754, 0.07149678574153981, 0.07062712405261021, 0.06830828451008499, 0.0675509962637582], \"yaxis\": \"y2\"}, {\"legendgroup\": \"group-11\", \"line\": {\"color\": \"#bcff3a\"}, \"marker\": {\"size\": 3, \"symbol\": \"diamond\"}, \"name\": \"12\", \"showlegend\": false, \"type\": \"scatter\", \"uid\": \"81302f20-053b-4db5-9cd5-5de03cce454a\", \"x\": [11000.0, 11450.0, 11900.0, 12350.0, 12800.0, 13250.0, 13700.0, 14150.0, 14600.0, 15050.0, 15500.0, 15950.0, 16400.0, 16850.0, 17300.0, 17750.0, 18200.0, 18650.0, 19100.0, 19550.0, 20000.0], \"xaxis\": \"x\", \"y\": [11533.554418901995, 11597.331479911461, 11657.889585168934, 11762.268748636763, 11775.917513051456, 11764.967895422506, 11676.073086637227, 11650.112617143857, 11594.258946050913, 11522.736351585567, 11444.191999379364, 11366.855615514283, 11333.428810955658, 11291.115455484682, 11165.546445726966, 11084.736032809735, 11050.699407674529, 10978.54248596981, 10849.291930009682, 10738.957956164411], \"yaxis\": \"y\"}, {\"legendgroup\": \"group-11\", \"line\": {\"color\": \"#bcff3a\"}, \"marker\": {\"size\": 3, \"symbol\": \"diamond\"}, \"name\": \"12\", \"type\": \"scatter\", \"uid\": \"25d47ede-faba-4396-923e-e859132da707\", \"x\": [11000.0, 11450.0, 11900.0, 12350.0, 12800.0, 13250.0, 13700.0, 14150.0, 14600.0, 15050.0, 15500.0, 15950.0, 16400.0, 16850.0, 17300.0, 17750.0, 18200.0, 18650.0, 19100.0, 19550.0, 20000.0], \"xaxis\": \"x2\", \"y\": [0.4948141939783134, 0.38257284907522643, 0.31106318084797985, 0.25245973709763675, 0.21581879433960166, 0.1894638080925602, 0.1719798978313757, 0.15370692887596543, 0.140611753786461, 0.13022103911735378, 0.12114965913477613, 0.1134082040590886, 0.10508702258326932, 0.09835950384020824, 0.09505240961204943, 0.09082482658920112, 0.08538454480911349, 0.08166191691747998, 0.0799399239764927, 0.07767439247279284], \"yaxis\": \"y2\"}, {\"legendgroup\": \"group-12\", \"line\": {\"color\": \"#e8ff0f\"}, \"marker\": {\"size\": 3, \"symbol\": \"diamond\"}, \"name\": \"13\", \"showlegend\": false, \"type\": \"scatter\", \"uid\": \"39b70fbd-f944-43ca-ab5a-d9f37ac694c6\", \"x\": [11000.0, 11450.0, 11900.0, 12350.0, 12800.0, 13250.0, 13700.0, 14150.0, 14600.0, 15050.0, 15500.0, 15950.0, 16400.0, 16850.0, 17300.0, 17750.0, 18200.0, 18650.0, 19100.0, 19550.0, 20000.0], \"xaxis\": \"x\", \"y\": [10680.784661378812, 10845.542429380755, 10944.815192934726, 10993.087317815412, 11012.940076484394, 10887.379427963211, 10983.662316167121, 11024.751388763907, 10943.797478820637, 10891.467325909394, 10825.79202489999, 10805.557529364292, 10706.591895210207, 10571.784653112927, 10496.275695177474, 10402.1202278362, 10301.441469400985, 10238.491096739823, 10147.574803160998, 10007.566464221134], \"yaxis\": \"y\"}, {\"legendgroup\": \"group-12\", \"line\": {\"color\": \"#e8ff0f\"}, \"marker\": {\"size\": 3, \"symbol\": \"diamond\"}, \"name\": \"13\", \"type\": \"scatter\", \"uid\": \"cda35fc4-5835-42ec-a6b7-75d63c4677b7\", \"x\": [11000.0, 11450.0, 11900.0, 12350.0, 12800.0, 13250.0, 13700.0, 14150.0, 14600.0, 15050.0, 15500.0, 15950.0, 16400.0, 16850.0, 17300.0, 17750.0, 18200.0, 18650.0, 19100.0, 19550.0, 20000.0], \"xaxis\": \"x2\", \"y\": [0.4392810715699427, 0.32903573292536575, 0.2641712463741873, 0.2199520853515653, 0.18797841086098377, 0.170137181865149, 0.14523399235417983, 0.12811695433348316, 0.11796293005695968, 0.10851866860126855, 0.10078020724639422, 0.09253446911219322, 0.08798570551552642, 0.08508103522642106, 0.0807247405411672, 0.07763414575866073, 0.07474110201651679, 0.0714984171727841, 0.0694441864787546, 0.06840896856885523], \"yaxis\": \"y2\"}, {\"legendgroup\": \"group-13\", \"line\": {\"color\": \"#ffd500\"}, \"marker\": {\"size\": 3, \"symbol\": \"diamond\"}, \"name\": \"14\", \"showlegend\": false, \"type\": \"scatter\", \"uid\": \"447ceb91-c972-40ce-9260-fc6fcffb7f5d\", \"x\": [11000.0, 11450.0, 11900.0, 12350.0, 12800.0, 13250.0, 13700.0, 14150.0, 14600.0, 15050.0, 15500.0, 15950.0, 16400.0, 16850.0, 17300.0, 17750.0, 18200.0, 18650.0, 19100.0, 19550.0, 20000.0], \"xaxis\": \"x\", \"y\": [11437.1881296405, 11528.701578025972, 11640.449468780576, 11710.818603845562, 11646.852339390707, 11571.106855857402, 11529.130018047732, 11506.724477504918, 11494.473536577672, 11432.760918872278, 11378.137918263288, 11302.85507985749, 11244.631327203226, 11103.724838190863, 11017.941987416276, 10957.21181370234, 10894.703106138699, 10810.029601198734, 10701.185949495191, 10638.391439708332], \"yaxis\": \"y\"}, {\"legendgroup\": \"group-13\", \"line\": {\"color\": \"#ffd500\"}, \"marker\": {\"size\": 3, \"symbol\": \"diamond\"}, \"name\": \"14\", \"type\": \"scatter\", \"uid\": \"832ed6b8-389d-435a-8456-1e213c07f828\", \"x\": [11000.0, 11450.0, 11900.0, 12350.0, 12800.0, 13250.0, 13700.0, 14150.0, 14600.0, 15050.0, 15500.0, 15950.0, 16400.0, 16850.0, 17300.0, 17750.0, 18200.0, 18650.0, 19100.0, 19550.0, 20000.0], \"xaxis\": \"x2\", \"y\": [0.496748999005708, 0.3812215660301211, 0.30281560573624655, 0.2509255408599759, 0.22073539638977296, 0.19671394396283887, 0.1757145473403329, 0.15768917292428547, 0.14088198326667611, 0.13004325009218778, 0.12095401797605762, 0.11383288002950714, 0.10689215533606816, 0.10296885131622671, 0.09780859456526698, 0.09289643546287567, 0.08854171082989812, 0.08517563107205485, 0.08229688721693082, 0.07896773667540807], \"yaxis\": \"y2\"}, {\"legendgroup\": \"group-14\", \"line\": {\"color\": \"#ffa400\"}, \"marker\": {\"size\": 3, \"symbol\": \"diamond\"}, \"name\": \"15\", \"showlegend\": false, \"type\": \"scatter\", \"uid\": \"e6d40b8c-bbf4-488b-83e5-f932b53e8272\", \"x\": [11000.0, 11450.0, 11900.0, 12350.0, 12800.0, 13250.0, 13700.0, 14150.0, 14600.0, 15050.0, 15500.0, 15950.0, 16400.0, 16850.0, 17300.0, 17750.0, 18200.0, 18650.0, 19100.0, 19550.0, 20000.0], \"xaxis\": \"x\", \"y\": [10637.774893389853, 10870.528741129221, 10979.20752094891, 11029.889850247846, 11017.830301775746, 11002.647926802321, 11063.176163639557, 11043.320343340587, 10953.590586704851, 10884.149702433244, 10832.042108059699, 10746.120711685187, 10638.764813827649, 10558.09227679894, 10449.107297019238, 10350.60274211199, 10298.783130265036, 10276.173311434013, 10189.139086635258, 10056.484838218224], \"yaxis\": \"y\"}, {\"legendgroup\": \"group-14\", \"line\": {\"color\": \"#ffa400\"}, \"marker\": {\"size\": 3, \"symbol\": \"diamond\"}, \"name\": \"15\", \"type\": \"scatter\", \"uid\": \"a6499a8b-7c6c-43bb-aa77-7282d90a6442\", \"x\": [11000.0, 11450.0, 11900.0, 12350.0, 12800.0, 13250.0, 13700.0, 14150.0, 14600.0, 15050.0, 15500.0, 15950.0, 16400.0, 16850.0, 17300.0, 17750.0, 18200.0, 18650.0, 19100.0, 19550.0, 20000.0], \"xaxis\": \"x2\", \"y\": [0.4526680078126913, 0.33058475741331017, 0.26470724647387744, 0.21904485046383979, 0.188818847281167, 0.16619738171025455, 0.14364374771990304, 0.12786787360034071, 0.11791465883989272, 0.10890874790265448, 0.10128370560742415, 0.09532106076096122, 0.09066498376561384, 0.08579078573787756, 0.0823404365028928, 0.07946786802086912, 0.07534113146002487, 0.0712852113867502, 0.06888107318726494, 0.06764365885322746], \"yaxis\": \"y2\"}, {\"legendgroup\": \"group-15\", \"line\": {\"color\": \"#ff7200\"}, \"marker\": {\"size\": 3, \"symbol\": \"diamond\"}, \"name\": \"16\", \"showlegend\": false, \"type\": \"scatter\", \"uid\": \"9c6ccd0c-8691-4c90-a515-ae0758328bd0\", \"x\": [11000.0, 11450.0, 11900.0, 12350.0, 12800.0, 13250.0, 13700.0, 14150.0, 14600.0, 15050.0, 15500.0, 15950.0, 16400.0, 16850.0, 17300.0, 17750.0, 18200.0, 18650.0, 19100.0, 19550.0, 20000.0], \"xaxis\": \"x\", \"y\": [11420.979987138982, 11498.337813102757, 11639.50519134857, 11664.640617469393, 11701.728912830438, 11711.923994447285, 11712.746596833955, 11591.269112378643, 11449.641897841511, 11435.511892435268, 11421.346117783407, 11334.210896883855, 11278.258459816647, 11196.477817740706, 11110.138994066976, 11076.434179727443, 10994.477287359596, 10901.218261650312, 10835.518224745436, 10711.037322641674], \"yaxis\": \"y\"}, {\"legendgroup\": \"group-15\", \"line\": {\"color\": \"#ff7200\"}, \"marker\": {\"size\": 3, \"symbol\": \"diamond\"}, \"name\": \"16\", \"type\": \"scatter\", \"uid\": \"7e238fa9-88c1-4721-9db2-302c5384a646\", \"x\": [11000.0, 11450.0, 11900.0, 12350.0, 12800.0, 13250.0, 13700.0, 14150.0, 14600.0, 15050.0, 15500.0, 15950.0, 16400.0, 16850.0, 17300.0, 17750.0, 18200.0, 18650.0, 19100.0, 19550.0, 20000.0], \"xaxis\": \"x2\", \"y\": [0.499488409187315, 0.3838690951817617, 0.3021805815991795, 0.2514540281230128, 0.21646073068279542, 0.18685687485230784, 0.1645500999365563, 0.15175502590148646, 0.14351458248462712, 0.1299336743288275, 0.119700298487092, 0.11242807247877903, 0.1050015370491853, 0.10013529821734288, 0.0953538109300313, 0.08940156113165973, 0.08572755303725668, 0.08269382665953516, 0.078848332684631, 0.07701183515664956], \"yaxis\": \"y2\"}, {\"legendgroup\": \"group-16\", \"line\": {\"color\": \"#ff4000\"}, \"marker\": {\"size\": 3, \"symbol\": \"diamond\"}, \"name\": \"17\", \"showlegend\": false, \"type\": \"scatter\", \"uid\": \"50bf575f-8828-4f37-95f6-dba08452cea8\", \"x\": [11000.0, 11450.0, 11900.0, 12350.0, 12800.0, 13250.0, 13700.0, 14150.0, 14600.0, 15050.0, 15500.0, 15950.0, 16400.0, 16850.0, 17300.0, 17750.0, 18200.0, 18650.0, 19100.0, 19550.0, 20000.0], \"xaxis\": \"x\", \"y\": [10691.849844972343, 10881.252759643585, 11024.600489102355, 11008.926530015478, 11076.894883262032, 11042.045711965855, 11063.168036579458, 11070.578559634352, 11044.691764194673, 10970.651612456735, 10980.886609307676, 10896.00342966283, 10767.599990699178, 10635.613994162504, 10472.846994215468, 10456.66200657222, 10434.295581872158, 10327.027592056353, 10213.726635393015, 10093.310125127553], \"yaxis\": \"y\"}, {\"legendgroup\": \"group-16\", \"line\": {\"color\": \"#ff4000\"}, \"marker\": {\"size\": 3, \"symbol\": \"diamond\"}, \"name\": \"17\", \"type\": \"scatter\", \"uid\": \"499092e6-c05b-406c-9127-2ae4bb5efc33\", \"x\": [11000.0, 11450.0, 11900.0, 12350.0, 12800.0, 13250.0, 13700.0, 14150.0, 14600.0, 15050.0, 15500.0, 15950.0, 16400.0, 16850.0, 17300.0, 17750.0, 18200.0, 18650.0, 19100.0, 19550.0, 20000.0], \"xaxis\": \"x2\", \"y\": [0.44748184768936483, 0.33018100359144903, 0.2613079590931391, 0.22319723997674626, 0.18648857521767323, 0.1640901983224348, 0.14317470745010233, 0.1277823841658101, 0.11521986036883337, 0.10674911085099575, 0.09736938639966038, 0.0912338485549991, 0.0873359525558151, 0.08426006054625763, 0.0822766882554767, 0.0770967898467087, 0.07276875021360169, 0.07044586701292362, 0.06864631513717323, 0.06706138176935443], \"yaxis\": \"y2\"}, {\"legendgroup\": \"group-17\", \"line\": {\"color\": \"#fa0e00\"}, \"marker\": {\"size\": 3, \"symbol\": \"diamond\"}, \"name\": \"18\", \"showlegend\": false, \"type\": \"scatter\", \"uid\": \"3e7e3e0e-ae75-45a3-86c7-102e5123b5b8\", \"x\": [11000.0, 11450.0, 11900.0, 12350.0, 12800.0, 13250.0, 13700.0, 14150.0, 14600.0, 15050.0, 15500.0, 15950.0, 16400.0, 16850.0, 17300.0, 17750.0, 18200.0, 18650.0, 19100.0, 19550.0, 20000.0], \"xaxis\": \"x\", \"y\": [11404.686443357921, 11550.422153142581, 11639.138876479621, 11674.326225183811, 11643.003281158295, 11664.227712366752, 11609.622899066353, 11571.271663444122, 11488.505154936476, 11474.166472237957, 11444.220668813343, 11321.687644686788, 11274.086211426791, 11214.935163024827, 11095.7159296552, 11052.698086925739, 10967.067499016344, 10861.628943889627, 10781.611365120527, 10666.56171562961], \"yaxis\": \"y\"}, {\"legendgroup\": \"group-17\", \"line\": {\"color\": \"#fa0e00\"}, \"marker\": {\"size\": 3, \"symbol\": \"diamond\"}, \"name\": \"18\", \"type\": \"scatter\", \"uid\": \"5422922e-4b5c-46b9-a324-b723eebb9607\", \"x\": [11000.0, 11450.0, 11900.0, 12350.0, 12800.0, 13250.0, 13700.0, 14150.0, 14600.0, 15050.0, 15500.0, 15950.0, 16400.0, 16850.0, 17300.0, 17750.0, 18200.0, 18650.0, 19100.0, 19550.0, 20000.0], \"xaxis\": \"x2\", \"y\": [0.4977389437411596, 0.37634490448691843, 0.3031115960467388, 0.25454492611413476, 0.21950444294686317, 0.18907039351524565, 0.16921419174008417, 0.1526550022612553, 0.1416435654990689, 0.12873970376797447, 0.117732451218215, 0.11197824402292651, 0.10441814381550857, 0.09792972279488406, 0.09471757943639501, 0.08914056698650659, 0.08550392336785954, 0.08272152497759402, 0.07954222475461972, 0.07756336057852237], \"yaxis\": \"y2\"}, {\"legendgroup\": \"group-18\", \"line\": {\"color\": \"#bd0000\"}, \"marker\": {\"size\": 3, \"symbol\": \"diamond\"}, \"name\": \"19\", \"showlegend\": false, \"type\": \"scatter\", \"uid\": \"c6707d0b-5721-43eb-b4f6-ef08e0aaf2bb\", \"x\": [11000.0, 11450.0, 11900.0, 12350.0, 12800.0, 13250.0, 13700.0, 14150.0, 14600.0, 15050.0, 15500.0, 15950.0, 16400.0, 16850.0, 17300.0, 17750.0, 18200.0, 18650.0, 19100.0, 19550.0, 20000.0], \"xaxis\": \"x\", \"y\": [10732.832305605065, 10927.532745010047, 10999.038295987173, 11120.942823009347, 11127.283737338126, 11084.30280676812, 11069.784812309364, 11066.322559389619, 11003.066376252807, 10955.364192122894, 10899.736539240288, 10741.06863236137, 10710.327383480128, 10597.496226545389, 10549.389773662053, 10465.941519309627, 10371.370420579678, 10256.85257100142, 10163.046966831698, 10074.690533201088], \"yaxis\": \"y\"}, {\"legendgroup\": \"group-18\", \"line\": {\"color\": \"#bd0000\"}, \"marker\": {\"size\": 3, \"symbol\": \"diamond\"}, \"name\": \"19\", \"type\": \"scatter\", \"uid\": \"a81afe62-6b5e-4bc5-b9bb-f810349e4400\", \"x\": [11000.0, 11450.0, 11900.0, 12350.0, 12800.0, 13250.0, 13700.0, 14150.0, 14600.0, 15050.0, 15500.0, 15950.0, 16400.0, 16850.0, 17300.0, 17750.0, 18200.0, 18650.0, 19100.0, 19550.0, 20000.0], \"xaxis\": \"x2\", \"y\": [0.44443637159123983, 0.3301963495493953, 0.26475209661040167, 0.21476367292060317, 0.1841100166964522, 0.16259081949317192, 0.143853601724972, 0.12756474449212685, 0.11696925559066805, 0.10710041470268136, 0.09912187964115514, 0.09650204436463768, 0.08985914755672528, 0.08622238465789246, 0.08092359794988353, 0.07737849041147359, 0.07453157832590498, 0.07263537854976868, 0.07025313296079846, 0.06792936424027783], \"yaxis\": \"y2\"}, {\"legendgroup\": \"group-19\", \"line\": {\"color\": \"#800000\"}, \"marker\": {\"size\": 3, \"symbol\": \"diamond\"}, \"name\": \"20\", \"showlegend\": false, \"type\": \"scatter\", \"uid\": \"026dc415-2de4-4e83-9e13-4a09407dc04e\", \"x\": [11000.0, 11450.0, 11900.0, 12350.0, 12800.0, 13250.0, 13700.0, 14150.0, 14600.0, 15050.0, 15500.0, 15950.0, 16400.0, 16850.0, 17300.0, 17750.0, 18200.0, 18650.0, 19100.0, 19550.0, 20000.0], \"xaxis\": \"x\", \"y\": [10732.832305605065, 10927.532745010047, 10999.038295987173, 11120.942823009347, 11127.283737338126, 11084.30280676812, 11069.784812309364, 11066.322559389619, 11003.066376252807, 10955.364192122894, 10899.736539240288, 10741.06863236137, 10710.327383480128, 10597.496226545389, 10549.389773662053, 10465.941519309627, 10371.370420579678, 10256.85257100142, 10163.046966831698, 10074.690533201088], \"yaxis\": \"y\"}, {\"legendgroup\": \"group-19\", \"line\": {\"color\": \"#800000\"}, \"marker\": {\"size\": 3, \"symbol\": \"diamond\"}, \"name\": \"20\", \"type\": \"scatter\", \"uid\": \"5e99e3e8-7724-41c3-8b1d-eab47ab55766\", \"x\": [11000.0, 11450.0, 11900.0, 12350.0, 12800.0, 13250.0, 13700.0, 14150.0, 14600.0, 15050.0, 15500.0, 15950.0, 16400.0, 16850.0, 17300.0, 17750.0, 18200.0, 18650.0, 19100.0, 19550.0, 20000.0], \"xaxis\": \"x2\", \"y\": [0.44443637159123983, 0.3301963495493953, 0.26475209661040167, 0.21476367292060317, 0.1841100166964522, 0.16259081949317192, 0.143853601724972, 0.12756474449212685, 0.11696925559066805, 0.10710041470268136, 0.09912187964115514, 0.09650204436463768, 0.08985914755672528, 0.08622238465789246, 0.08092359794988353, 0.07737849041147359, 0.07453157832590498, 0.07263537854976868, 0.07025313296079846, 0.06792936424027783], \"yaxis\": \"y2\"}],                        {\"height\": 580, \"hidesources\": true, \"legend\": {\"title\": {\"text\": \"iterations\"}, \"tracegroupgap\": 0}, \"margin\": {\"b\": 80, \"l\": 10, \"pad\": 0, \"r\": 135, \"t\": 25}, \"template\": {\"data\": {\"bar\": [{\"error_x\": {\"color\": \"#2a3f5f\"}, \"error_y\": {\"color\": \"#2a3f5f\"}, \"marker\": {\"line\": {\"color\": \"#E5ECF6\", \"width\": 0.5}}, \"type\": \"bar\"}], \"barpolar\": [{\"marker\": {\"line\": {\"color\": \"#E5ECF6\", \"width\": 0.5}}, \"type\": \"barpolar\"}], \"carpet\": [{\"aaxis\": {\"endlinecolor\": \"#2a3f5f\", \"gridcolor\": \"white\", \"linecolor\": \"white\", \"minorgridcolor\": \"white\", \"startlinecolor\": \"#2a3f5f\"}, \"baxis\": {\"endlinecolor\": \"#2a3f5f\", \"gridcolor\": \"white\", \"linecolor\": \"white\", \"minorgridcolor\": \"white\", \"startlinecolor\": \"#2a3f5f\"}, \"type\": \"carpet\"}], \"choropleth\": [{\"colorbar\": {\"outlinewidth\": 0, \"ticks\": \"\"}, \"type\": \"choropleth\"}], \"contour\": [{\"colorbar\": {\"outlinewidth\": 0, \"ticks\": \"\"}, \"colorscale\": [[0.0, \"#0d0887\"], [0.1111111111111111, \"#46039f\"], [0.2222222222222222, \"#7201a8\"], [0.3333333333333333, \"#9c179e\"], [0.4444444444444444, \"#bd3786\"], [0.5555555555555556, \"#d8576b\"], [0.6666666666666666, \"#ed7953\"], [0.7777777777777778, \"#fb9f3a\"], [0.8888888888888888, \"#fdca26\"], [1.0, \"#f0f921\"]], \"type\": \"contour\"}], \"contourcarpet\": [{\"colorbar\": {\"outlinewidth\": 0, \"ticks\": \"\"}, \"type\": \"contourcarpet\"}], \"heatmap\": [{\"colorbar\": {\"outlinewidth\": 0, \"ticks\": \"\"}, \"colorscale\": [[0.0, \"#0d0887\"], [0.1111111111111111, \"#46039f\"], [0.2222222222222222, \"#7201a8\"], [0.3333333333333333, \"#9c179e\"], [0.4444444444444444, \"#bd3786\"], [0.5555555555555556, \"#d8576b\"], [0.6666666666666666, \"#ed7953\"], [0.7777777777777778, \"#fb9f3a\"], [0.8888888888888888, \"#fdca26\"], [1.0, \"#f0f921\"]], \"type\": \"heatmap\"}], \"heatmapgl\": [{\"colorbar\": {\"outlinewidth\": 0, \"ticks\": \"\"}, \"colorscale\": [[0.0, \"#0d0887\"], [0.1111111111111111, \"#46039f\"], [0.2222222222222222, \"#7201a8\"], [0.3333333333333333, \"#9c179e\"], [0.4444444444444444, \"#bd3786\"], [0.5555555555555556, \"#d8576b\"], [0.6666666666666666, \"#ed7953\"], [0.7777777777777778, \"#fb9f3a\"], [0.8888888888888888, \"#fdca26\"], [1.0, \"#f0f921\"]], \"type\": \"heatmapgl\"}], \"histogram\": [{\"marker\": {\"colorbar\": {\"outlinewidth\": 0, \"ticks\": \"\"}}, \"type\": \"histogram\"}], \"histogram2d\": [{\"colorbar\": {\"outlinewidth\": 0, \"ticks\": \"\"}, \"colorscale\": [[0.0, \"#0d0887\"], [0.1111111111111111, \"#46039f\"], [0.2222222222222222, \"#7201a8\"], [0.3333333333333333, \"#9c179e\"], [0.4444444444444444, \"#bd3786\"], [0.5555555555555556, \"#d8576b\"], [0.6666666666666666, \"#ed7953\"], [0.7777777777777778, \"#fb9f3a\"], [0.8888888888888888, \"#fdca26\"], [1.0, \"#f0f921\"]], \"type\": \"histogram2d\"}], \"histogram2dcontour\": [{\"colorbar\": {\"outlinewidth\": 0, \"ticks\": \"\"}, \"colorscale\": [[0.0, \"#0d0887\"], [0.1111111111111111, \"#46039f\"], [0.2222222222222222, \"#7201a8\"], [0.3333333333333333, \"#9c179e\"], [0.4444444444444444, \"#bd3786\"], [0.5555555555555556, \"#d8576b\"], [0.6666666666666666, \"#ed7953\"], [0.7777777777777778, \"#fb9f3a\"], [0.8888888888888888, \"#fdca26\"], [1.0, \"#f0f921\"]], \"type\": \"histogram2dcontour\"}], \"mesh3d\": [{\"colorbar\": {\"outlinewidth\": 0, \"ticks\": \"\"}, \"type\": \"mesh3d\"}], \"parcoords\": [{\"line\": {\"colorbar\": {\"outlinewidth\": 0, \"ticks\": \"\"}}, \"type\": \"parcoords\"}], \"pie\": [{\"automargin\": true, \"type\": \"pie\"}], \"scatter\": [{\"marker\": {\"colorbar\": {\"outlinewidth\": 0, \"ticks\": \"\"}}, \"type\": \"scatter\"}], \"scatter3d\": [{\"line\": {\"colorbar\": {\"outlinewidth\": 0, \"ticks\": \"\"}}, \"marker\": {\"colorbar\": {\"outlinewidth\": 0, \"ticks\": \"\"}}, \"type\": \"scatter3d\"}], \"scattercarpet\": [{\"marker\": {\"colorbar\": {\"outlinewidth\": 0, \"ticks\": \"\"}}, \"type\": \"scattercarpet\"}], \"scattergeo\": [{\"marker\": {\"colorbar\": {\"outlinewidth\": 0, \"ticks\": \"\"}}, \"type\": \"scattergeo\"}], \"scattergl\": [{\"marker\": {\"colorbar\": {\"outlinewidth\": 0, \"ticks\": \"\"}}, \"type\": \"scattergl\"}], \"scattermapbox\": [{\"marker\": {\"colorbar\": {\"outlinewidth\": 0, \"ticks\": \"\"}}, \"type\": \"scattermapbox\"}], \"scatterpolar\": [{\"marker\": {\"colorbar\": {\"outlinewidth\": 0, \"ticks\": \"\"}}, \"type\": \"scatterpolar\"}], \"scatterpolargl\": [{\"marker\": {\"colorbar\": {\"outlinewidth\": 0, \"ticks\": \"\"}}, \"type\": \"scatterpolargl\"}], \"scatterternary\": [{\"marker\": {\"colorbar\": {\"outlinewidth\": 0, \"ticks\": \"\"}}, \"type\": \"scatterternary\"}], \"surface\": [{\"colorbar\": {\"outlinewidth\": 0, \"ticks\": \"\"}, \"colorscale\": [[0.0, \"#0d0887\"], [0.1111111111111111, \"#46039f\"], [0.2222222222222222, \"#7201a8\"], [0.3333333333333333, \"#9c179e\"], [0.4444444444444444, \"#bd3786\"], [0.5555555555555556, \"#d8576b\"], [0.6666666666666666, \"#ed7953\"], [0.7777777777777778, \"#fb9f3a\"], [0.8888888888888888, \"#fdca26\"], [1.0, \"#f0f921\"]], \"type\": \"surface\"}], \"table\": [{\"cells\": {\"fill\": {\"color\": \"#EBF0F8\"}, \"line\": {\"color\": \"white\"}}, \"header\": {\"fill\": {\"color\": \"#C8D4E3\"}, \"line\": {\"color\": \"white\"}}, \"type\": \"table\"}]}, \"layout\": {\"annotationdefaults\": {\"arrowcolor\": \"#2a3f5f\", \"arrowhead\": 0, \"arrowwidth\": 1}, \"autotypenumbers\": \"strict\", \"coloraxis\": {\"colorbar\": {\"outlinewidth\": 0, \"ticks\": \"\"}}, \"colorscale\": {\"diverging\": [[0, \"#8e0152\"], [0.1, \"#c51b7d\"], [0.2, \"#de77ae\"], [0.3, \"#f1b6da\"], [0.4, \"#fde0ef\"], [0.5, \"#f7f7f7\"], [0.6, \"#e6f5d0\"], [0.7, \"#b8e186\"], [0.8, \"#7fbc41\"], [0.9, \"#4d9221\"], [1, \"#276419\"]], \"sequential\": [[0.0, \"#0d0887\"], [0.1111111111111111, \"#46039f\"], [0.2222222222222222, \"#7201a8\"], [0.3333333333333333, \"#9c179e\"], [0.4444444444444444, \"#bd3786\"], [0.5555555555555556, \"#d8576b\"], [0.6666666666666666, \"#ed7953\"], [0.7777777777777778, \"#fb9f3a\"], [0.8888888888888888, \"#fdca26\"], [1.0, \"#f0f921\"]], \"sequentialminus\": [[0.0, \"#0d0887\"], [0.1111111111111111, \"#46039f\"], [0.2222222222222222, \"#7201a8\"], [0.3333333333333333, \"#9c179e\"], [0.4444444444444444, \"#bd3786\"], [0.5555555555555556, \"#d8576b\"], [0.6666666666666666, \"#ed7953\"], [0.7777777777777778, \"#fb9f3a\"], [0.8888888888888888, \"#fdca26\"], [1.0, \"#f0f921\"]]}, \"colorway\": [\"#636efa\", \"#EF553B\", \"#00cc96\", \"#ab63fa\", \"#FFA15A\", \"#19d3f3\", \"#FF6692\", \"#B6E880\", \"#FF97FF\", \"#FECB52\"], \"font\": {\"color\": \"#2a3f5f\"}, \"geo\": {\"bgcolor\": \"white\", \"lakecolor\": \"white\", \"landcolor\": \"#E5ECF6\", \"showlakes\": true, \"showland\": true, \"subunitcolor\": \"white\"}, \"hoverlabel\": {\"align\": \"left\"}, \"hovermode\": \"closest\", \"mapbox\": {\"style\": \"light\"}, \"paper_bgcolor\": \"white\", \"plot_bgcolor\": \"#E5ECF6\", \"polar\": {\"angularaxis\": {\"gridcolor\": \"white\", \"linecolor\": \"white\", \"ticks\": \"\"}, \"bgcolor\": \"#E5ECF6\", \"radialaxis\": {\"gridcolor\": \"white\", \"linecolor\": \"white\", \"ticks\": \"\"}}, \"scene\": {\"xaxis\": {\"backgroundcolor\": \"#E5ECF6\", \"gridcolor\": \"white\", \"gridwidth\": 2, \"linecolor\": \"white\", \"showbackground\": true, \"ticks\": \"\", \"zerolinecolor\": \"white\"}, \"yaxis\": {\"backgroundcolor\": \"#E5ECF6\", \"gridcolor\": \"white\", \"gridwidth\": 2, \"linecolor\": \"white\", \"showbackground\": true, \"ticks\": \"\", \"zerolinecolor\": \"white\"}, \"zaxis\": {\"backgroundcolor\": \"#E5ECF6\", \"gridcolor\": \"white\", \"gridwidth\": 2, \"linecolor\": \"white\", \"showbackground\": true, \"ticks\": \"\", \"zerolinecolor\": \"white\"}}, \"shapedefaults\": {\"line\": {\"color\": \"#2a3f5f\"}}, \"ternary\": {\"aaxis\": {\"gridcolor\": \"white\", \"linecolor\": \"white\", \"ticks\": \"\"}, \"baxis\": {\"gridcolor\": \"white\", \"linecolor\": \"white\", \"ticks\": \"\"}, \"bgcolor\": \"#E5ECF6\", \"caxis\": {\"gridcolor\": \"white\", \"linecolor\": \"white\", \"ticks\": \"\"}}, \"title\": {\"x\": 0.05}, \"xaxis\": {\"automargin\": true, \"gridcolor\": \"white\", \"linecolor\": \"white\", \"ticks\": \"\", \"title\": {\"standoff\": 15}, \"zerolinecolor\": \"white\", \"zerolinewidth\": 2}, \"yaxis\": {\"automargin\": true, \"gridcolor\": \"white\", \"linecolor\": \"white\", \"ticks\": \"\", \"title\": {\"standoff\": 15}, \"zerolinecolor\": \"white\", \"zerolinewidth\": 2}}}, \"xaxis\": {\"anchor\": \"y\", \"domain\": [0.0, 0.45], \"tickformat\": \"g\", \"title\": {\"text\": \"$Shell~~Velocity$\"}}, \"xaxis2\": {\"anchor\": \"y2\", \"domain\": [0.55, 1.0], \"matches\": \"x\", \"tickformat\": \"g\", \"title\": {\"text\": \"$Shell~~Velocity$\"}}, \"yaxis\": {\"anchor\": \"x\", \"domain\": [0.0, 1.0], \"range\": [9000, 14000], \"tickformat\": \"g\", \"title\": {\"text\": \"$T_{rad}\\\\ [K]$\"}}, \"yaxis2\": {\"anchor\": \"x2\", \"domain\": [0.0, 1.0], \"title\": {\"text\": \"$W$\"}}},                        {\"responsive\": true}                    ).then(function(){\n                            \nvar gd = document.getElementById('1d91c354-36c0-430d-8a5f-b0cf217ab94e');\nvar x = new MutationObserver(function (mutations, observer) {{\n        var display = window.getComputedStyle(gd).display;\n        if (!display || display === 'none') {{\n            console.log([gd, 'removed!']);\n            Plotly.purge(gd);\n            observer.disconnect();\n        }}\n}});\n\n// Listen for the removal of the full notebook cells\nvar notebookContainer = gd.closest('#notebook-container');\nif (notebookContainer) {{\n    x.observe(notebookContainer, {childList: true});\n}}\n\n// Listen for the clearing of the current output cell\nvar outputEl = gd.closest('.output');\nif (outputEl) {{\n    x.observe(outputEl, {childList: true});\n}}\n\n                        })                };                });            </script>        </div>"
         },
         "metadata": {},
         "output_type": "display_data"
        }
       ]
      }
     },
     "d8382508178040f6852dfb8dd080674f": {
      "model_module": "@jupyter-widgets/base",
      "model_module_version": "1.2.0",
      "model_name": "LayoutModel",
      "state": {}
     },
     "d8e07ba7992543a29ed697956090849f": {
      "model_module": "@jupyter-widgets/base",
      "model_module_version": "1.2.0",
      "model_name": "LayoutModel",
      "state": {}
     },
     "d91c00dee0d44e29a5f92848771531a0": {
      "model_module": "plotlywidget",
      "model_module_version": "^4.14.3",
      "model_name": "FigureModel",
      "state": {
       "_config": {
        "plotlyServerURL": "https://plot.ly"
       },
       "_data": [
        {
         "hovertemplate": "<b>%{y:.2g}</b><br>at X = %{x}<br>",
         "legendgroup": "Emitted",
         "marker": {
          "color": "orangered"
         },
         "mode": "lines",
         "name": "Emitted<br>Luminosity",
         "opacity": 0.6,
         "type": "scatter",
         "uid": "9c643990-6746-4bd9-a786-c8a900586954",
         "x": [
          1,
          2,
          3,
          4,
          5,
          6,
          7,
          8,
          9,
          10,
          11,
          12,
          13,
          14,
          15,
          16,
          17,
          18,
          19,
          20
         ],
         "xaxis": "x2",
         "y": [
          7.942750742981396e+42,
          1.4081455093985728e+43,
          8.126235743016503e+42,
          1.3629660449563156e+43,
          8.27894586347348e+42,
          1.3474141886349227e+43,
          8.390011483383557e+42,
          1.3330505521644895e+43,
          8.442830540796857e+42,
          1.3292513146988894e+43,
          8.494974137074282e+42,
          1.3041701729221733e+43,
          8.692438378058671e+42,
          1.2835355197638404e+43,
          8.753305281326621e+42,
          1.2781970592598386e+43,
          8.816470048071725e+42,
          1.2667974995662812e+43,
          8.870810439340542e+42,
          1.263194391778655e+43
         ],
         "yaxis": "y2"
        },
        {
         "hovertemplate": "<b>%{y:.2g}</b><br>at X = %{x}<br>",
         "legendgroup": "Absorbed",
         "marker": {
          "color": "lightseagreen"
         },
         "mode": "lines",
         "name": "Absorbed<br>Luminosity",
         "opacity": 0.6,
         "type": "scatter",
         "uid": "2b1e7800-eda8-4f85-b2c5-7b3139d38dad",
         "x": [
          1,
          2,
          3,
          4,
          5,
          6,
          7,
          8,
          9,
          10,
          11,
          12,
          13,
          14,
          15,
          16,
          17,
          18,
          19,
          20
         ],
         "xaxis": "x2",
         "y": [
          2.65804673153204e+42,
          4.7700146052642123e+42,
          2.5472229968140377e+42,
          4.4972113694812525e+42,
          2.6693301209933358e+42,
          4.447266267261236e+42,
          2.6922956553053436e+42,
          4.330110768371945e+42,
          2.7089402928209043e+42,
          4.25943386711989e+42,
          2.6561585210602605e+42,
          4.288201956309693e+42,
          2.7454765674505417e+42,
          4.1509531498402554e+42,
          2.813186401660242e+42,
          4.156064515611499e+42,
          2.816811651728025e+42,
          4.122377281630377e+42,
          2.8711648018363005e+42,
          4.1070578782802735e+42
         ],
         "yaxis": "y2"
        },
        {
         "hovertemplate": "<b>%{y:.2g}</b><br>at X = %{x}<br>",
         "legendgroup": "Requested",
         "marker": {
          "color": "indigo"
         },
         "mode": "lines",
         "name": "Requested<br>Luminosity",
         "opacity": 0.6,
         "type": "scatter",
         "uid": "7baab29c-f5bf-4ade-829f-e46f91ce03e0",
         "x": [
          1,
          2,
          3,
          4,
          5,
          6,
          7,
          8,
          9,
          10,
          11,
          12,
          13,
          14,
          15,
          16,
          17,
          18,
          19,
          20
         ],
         "xaxis": "x2",
         "y": [
          1.0592763593038458e+43,
          1.0592763593038458e+43,
          1.0592763593038458e+43,
          1.0592763593038458e+43,
          1.0592763593038458e+43,
          1.0592763593038458e+43,
          1.0592763593038458e+43,
          1.0592763593038458e+43,
          1.0592763593038458e+43,
          1.0592763593038458e+43,
          1.0592763593038458e+43,
          1.0592763593038458e+43,
          1.0592763593038458e+43,
          1.0592763593038458e+43,
          1.0592763593038458e+43,
          1.0592763593038458e+43,
          1.0592763593038458e+43,
          1.0592763593038458e+43,
          1.0592763593038458e+43,
          1.0592763593038458e+43
         ],
         "yaxis": "y2"
        },
        {
         "hovertemplate": "Residual Luminosity: %{y:.2f}% at X = %{x:,.0f}<extra></extra>",
         "marker": {
          "color": "cornflowerblue"
         },
         "mode": "lines",
         "name": "Residual<br>Luminosity",
         "opacity": 0.7,
         "type": "scatter",
         "uid": "7ae99492-58b8-4c6b-9065-e58b97908fcd",
         "x": [
          1,
          2,
          3,
          4,
          5,
          6,
          7,
          8,
          9,
          10,
          11,
          12,
          13,
          14,
          15,
          16,
          17,
          18,
          19,
          20
         ],
         "xaxis": "x3",
         "y": [
          -25.017199966575717,
          32.934667806992614,
          -23.285026880454048,
          28.669542465013958,
          -21.843381184166276,
          27.201383925951156,
          -20.794876524031412,
          25.84539817735266,
          -20.296243122564654,
          25.486734696172267,
          -19.80398634916046,
          23.118972822094438,
          -17.939843538363082,
          21.170977572592793,
          -17.3652351962308,
          20.667005171329144,
          -16.76893408755113,
          19.590840335454846,
          -16.2559386752441,
          19.250692294202032
         ],
         "yaxis": "y3"
        },
        {
         "hovertemplate": "Next Inner Body Temperature: %{y:.2f} at X = %{x:,.0f}<extra></extra>",
         "marker": {
          "color": "crimson"
         },
         "mode": "lines",
         "name": "Next Inner<br>Boundary<br>Temperature",
         "opacity": 0.7,
         "type": "scatter",
         "uid": "3fd5150b-4887-4fb5-aa59-ee3de1f27b9d",
         "x": [
          1,
          2,
          3,
          4,
          5,
          6,
          7,
          8,
          9,
          10,
          11,
          12,
          13,
          14,
          15,
          16,
          17,
          18,
          19,
          20
         ],
         "xaxis": "x",
         "y": [
          11472.055253129645,
          9949.977592596559,
          11360.096854261606,
          10014.843240243388,
          11328.209558951534,
          10044.200101537022,
          11285.965504372467,
          10060.511200596067,
          11268.87736423254,
          10059.623883542255,
          11233.248147773367,
          10123.783777872188,
          11175.750322790715,
          10152.602547328883,
          11168.529280894094,
          10167.208273207052,
          11144.459025959051,
          10190.841172561493,
          11136.097470940847,
          11136.097470940847
         ],
         "yaxis": "y"
        }
       ],
       "_js2py_layoutDelta": {
        "layout_delta": {
         "activeshape": {
          "fillcolor": "rgb(255,0,255)",
          "opacity": 0.5
         },
         "annotations": [],
         "autotypenumbers": "strict",
         "calendar": "gregorian",
         "clickmode": "event",
         "colorscale": {
          "diverging": [
           [
            0,
            "#8e0152"
           ],
           [
            0.1,
            "#c51b7d"
           ],
           [
            0.2,
            "#de77ae"
           ],
           [
            0.3,
            "#f1b6da"
           ],
           [
            0.4,
            "#fde0ef"
           ],
           [
            0.5,
            "#f7f7f7"
           ],
           [
            0.6,
            "#e6f5d0"
           ],
           [
            0.7,
            "#b8e186"
           ],
           [
            0.8,
            "#7fbc41"
           ],
           [
            0.9,
            "#4d9221"
           ],
           [
            1,
            "#276419"
           ]
          ],
          "sequential": [
           [
            0,
            "#0d0887"
           ],
           [
            0.1111111111111111,
            "#46039f"
           ],
           [
            0.2222222222222222,
            "#7201a8"
           ],
           [
            0.3333333333333333,
            "#9c179e"
           ],
           [
            0.4444444444444444,
            "#bd3786"
           ],
           [
            0.5555555555555556,
            "#d8576b"
           ],
           [
            0.6666666666666666,
            "#ed7953"
           ],
           [
            0.7777777777777778,
            "#fb9f3a"
           ],
           [
            0.8888888888888888,
            "#fdca26"
           ],
           [
            1,
            "#f0f921"
           ]
          ],
          "sequentialminus": [
           [
            0,
            "#0d0887"
           ],
           [
            0.1111111111111111,
            "#46039f"
           ],
           [
            0.2222222222222222,
            "#7201a8"
           ],
           [
            0.3333333333333333,
            "#9c179e"
           ],
           [
            0.4444444444444444,
            "#bd3786"
           ],
           [
            0.5555555555555556,
            "#d8576b"
           ],
           [
            0.6666666666666666,
            "#ed7953"
           ],
           [
            0.7777777777777778,
            "#fb9f3a"
           ],
           [
            0.8888888888888888,
            "#fdca26"
           ],
           [
            1,
            "#f0f921"
           ]
          ]
         },
         "colorway": [
          "#636efa",
          "#EF553B",
          "#00cc96",
          "#ab63fa",
          "#FFA15A",
          "#19d3f3",
          "#FF6692",
          "#B6E880",
          "#FF97FF",
          "#FECB52"
         ],
         "dragmode": "zoom",
         "font": {
          "color": "#2a3f5f",
          "family": "\"Open Sans\", verdana, arial, sans-serif",
          "size": 12
         },
         "height": 478.188,
         "hoverdistance": 20,
         "hoverlabel": {
          "font": {
           "family": "Arial, sans-serif",
           "size": 13
          },
          "namelength": 15
         },
         "hovermode": "closest",
         "images": [],
         "legend": {
          "bgcolor": "white",
          "bordercolor": "#444",
          "borderwidth": 0,
          "font": {
           "color": "#2a3f5f",
           "family": "\"Open Sans\", verdana, arial, sans-serif",
           "size": 12
          },
          "itemclick": "toggle",
          "itemdoubleclick": "toggleothers",
          "itemsizing": "trace",
          "itemwidth": 30,
          "orientation": "v",
          "title": {
           "font": {
            "color": "#2a3f5f",
            "family": "\"Open Sans\", verdana, arial, sans-serif",
            "size": 12
           },
           "side": "top"
          },
          "traceorder": "grouped",
          "valign": "middle",
          "x": 1.02,
          "xanchor": "left",
          "y": 1,
          "yanchor": "auto"
         },
         "margin": {
          "autoexpand": true
         },
         "modebar": {
          "activecolor": "rgba(68, 68, 68, 0.7)",
          "bgcolor": "rgba(255, 255, 255, 0.5)",
          "color": "rgba(68, 68, 68, 0.3)",
          "orientation": "h"
         },
         "newshape": {
          "drawdirection": "diagonal",
          "fillcolor": "rgba(0,0,0,0)",
          "fillrule": "evenodd",
          "layer": "above",
          "line": {
           "color": "#444",
           "dash": "solid",
           "width": 4
          },
          "opacity": 1
         },
         "paper_bgcolor": "white",
         "plot_bgcolor": "#E5ECF6",
         "separators": ".,",
         "shapes": [],
         "showlegend": true,
         "sliders": [],
         "spikedistance": 20,
         "title": {
          "font": {
           "color": "#2a3f5f",
           "family": "\"Open Sans\", verdana, arial, sans-serif",
           "size": 17
          },
          "pad": {
           "b": 0,
           "l": 0,
           "r": 0,
           "t": 0
          },
          "text": "Click to enter Plot title",
          "x": 0.05,
          "xanchor": "auto",
          "xref": "container",
          "y": "auto",
          "yanchor": "auto",
          "yref": "container"
         },
         "uniformtext": {
          "mode": false
         },
         "updatemenus": [],
         "width": 966.812,
         "xaxis": {
          "automargin": true,
          "autorange": false,
          "autotypenumbers": "strict",
          "color": "#444",
          "constrain": "range",
          "constraintoward": "center",
          "fixedrange": false,
          "gridcolor": "white",
          "gridwidth": 1,
          "hoverformat": "",
          "layer": "above traces",
          "overlaying": false,
          "rangemode": "normal",
          "showgrid": true,
          "showline": false,
          "showspikes": false,
          "side": "bottom",
          "tick0": 0,
          "ticklabelposition": "outside",
          "tickmode": "linear",
          "tickprefix": "",
          "ticks": "",
          "ticksuffix": "",
          "title": {
           "font": {
            "color": "#2a3f5f",
            "family": "\"Open Sans\", verdana, arial, sans-serif",
            "size": 14
           },
           "standoff": 15,
           "text": "Click to enter X axis title"
          },
          "type": "linear",
          "visible": true,
          "zeroline": true,
          "zerolinecolor": "white",
          "zerolinewidth": 2
         },
         "xaxis2": {
          "automargin": true,
          "autorange": false,
          "autotypenumbers": "strict",
          "color": "#444",
          "constrain": "range",
          "constraintoward": "center",
          "fixedrange": false,
          "gridcolor": "white",
          "gridwidth": 1,
          "hoverformat": "",
          "layer": "above traces",
          "overlaying": false,
          "rangemode": "normal",
          "showgrid": true,
          "showline": false,
          "showspikes": false,
          "side": "bottom",
          "tick0": 0,
          "ticklabelposition": "outside",
          "tickmode": "linear",
          "tickprefix": "",
          "ticks": "",
          "ticksuffix": "",
          "title": {
           "font": {
            "color": "#2a3f5f",
            "family": "\"Open Sans\", verdana, arial, sans-serif",
            "size": 14
           },
           "standoff": 15,
           "text": "Click to enter X axis title"
          },
          "type": "linear",
          "visible": true,
          "zeroline": true,
          "zerolinecolor": "white",
          "zerolinewidth": 2
         },
         "xaxis3": {
          "automargin": true,
          "autorange": false,
          "autotypenumbers": "strict",
          "color": "#444",
          "constrain": "range",
          "constraintoward": "center",
          "exponentformat": "B",
          "fixedrange": false,
          "gridcolor": "white",
          "gridwidth": 1,
          "hoverformat": "",
          "layer": "above traces",
          "minexponent": 3,
          "overlaying": false,
          "range": [
           0,
           21
          ],
          "rangemode": "normal",
          "separatethousands": false,
          "showexponent": "all",
          "showgrid": true,
          "showline": false,
          "showspikes": false,
          "showticklabels": true,
          "side": "bottom",
          "tick0": 0,
          "tickangle": "auto",
          "tickfont": {
           "color": "#2a3f5f",
           "family": "\"Open Sans\", verdana, arial, sans-serif",
           "size": 12
          },
          "tickformat": "",
          "ticklabelposition": "outside",
          "tickmode": "linear",
          "tickprefix": "",
          "ticks": "",
          "ticksuffix": "",
          "title": {
           "font": {
            "color": "#2a3f5f",
            "family": "\"Open Sans\", verdana, arial, sans-serif",
            "size": 14
           },
           "standoff": 15
          },
          "type": "linear",
          "visible": true,
          "zeroline": true,
          "zerolinecolor": "white",
          "zerolinewidth": 2
         },
         "yaxis": {
          "autorange": true,
          "autotypenumbers": "strict",
          "color": "#444",
          "constrain": "range",
          "constraintoward": "middle",
          "dtick": 500,
          "fixedrange": false,
          "gridcolor": "white",
          "gridwidth": 1,
          "hoverformat": "",
          "layer": "above traces",
          "nticks": 0,
          "overlaying": false,
          "range": [
           9865.417722566943,
           11556.615123159261
          ],
          "rangemode": "normal",
          "showgrid": true,
          "showline": false,
          "showspikes": false,
          "showticklabels": true,
          "tick0": 0,
          "tickangle": "auto",
          "tickfont": {
           "color": "#2a3f5f",
           "family": "\"Open Sans\", verdana, arial, sans-serif",
           "size": 12
          },
          "ticklabelposition": "outside",
          "tickmode": "auto",
          "tickprefix": "",
          "ticks": "",
          "ticksuffix": "",
          "title": {
           "font": {
            "color": "#2a3f5f",
            "family": "\"Open Sans\", verdana, arial, sans-serif",
            "size": 14
           },
           "standoff": 15
          },
          "type": "linear",
          "visible": true,
          "zeroline": true,
          "zerolinecolor": "white",
          "zerolinewidth": 2
         },
         "yaxis2": {
          "autorange": true,
          "autotypenumbers": "strict",
          "color": "#444",
          "constrain": "range",
          "constraintoward": "middle",
          "dtick": 1.9999999999999998e+42,
          "fixedrange": false,
          "gridcolor": "white",
          "gridwidth": 1,
          "hoverformat": "",
          "layer": "above traces",
          "minexponent": 3,
          "nticks": 0,
          "overlaying": false,
          "range": [
           1.9064323247489436e+42,
           1.4722245766050823e+43
          ],
          "rangemode": "normal",
          "separatethousands": false,
          "showexponent": "all",
          "showgrid": true,
          "showline": false,
          "showspikes": false,
          "showticklabels": true,
          "side": "left",
          "tick0": 0,
          "tickangle": "auto",
          "tickfont": {
           "color": "#2a3f5f",
           "family": "\"Open Sans\", verdana, arial, sans-serif",
           "size": 12
          },
          "tickformat": "",
          "ticklabelposition": "outside",
          "tickmode": "auto",
          "tickprefix": "",
          "ticks": "",
          "ticksuffix": "",
          "title": {
           "font": {
            "color": "#2a3f5f",
            "family": "\"Open Sans\", verdana, arial, sans-serif"
           },
           "standoff": 15
          },
          "type": "linear",
          "visible": true,
          "zeroline": true,
          "zerolinecolor": "white",
          "zerolinewidth": 2
         },
         "yaxis3": {
          "autorange": true,
          "autotypenumbers": "strict",
          "color": "#444",
          "constrain": "range",
          "constraintoward": "middle",
          "dtick": 20,
          "fixedrange": false,
          "gridcolor": "white",
          "gridwidth": 1,
          "hoverformat": "",
          "layer": "above traces",
          "minexponent": 3,
          "nticks": 0,
          "overlaying": false,
          "range": [
           -28.236748176218402,
           36.1542160166353
          ],
          "rangemode": "normal",
          "separatethousands": false,
          "showexponent": "all",
          "showgrid": true,
          "showline": false,
          "showspikes": false,
          "showticklabels": true,
          "side": "left",
          "tick0": 0,
          "tickangle": "auto",
          "tickfont": {
           "color": "#2a3f5f",
           "family": "\"Open Sans\", verdana, arial, sans-serif",
           "size": 12
          },
          "tickformat": "",
          "ticklabelposition": "outside",
          "tickmode": "auto",
          "tickprefix": "",
          "ticks": "",
          "ticksuffix": "",
          "title": {
           "font": {
            "color": "#2a3f5f",
            "family": "\"Open Sans\", verdana, arial, sans-serif"
           },
           "standoff": 15
          },
          "type": "linear",
          "visible": true,
          "zeroline": true,
          "zerolinecolor": "white",
          "zerolinewidth": 2
         }
        },
        "layout_edit_id": 28
       },
       "_js2py_pointsCallback": {},
       "_js2py_relayout": {
        "relayout_data": {
         "autosize": true
        },
        "source_view_id": "9e2035"
       },
       "_js2py_restyle": {},
       "_js2py_traceDeltas": {
        "trace_deltas": [
         {
          "connectgaps": false,
          "error_x": {
           "visible": false
          },
          "error_y": {
           "visible": false
          },
          "fill": "none",
          "hoverlabel": {
           "align": "right",
           "font": {
            "color": "white",
            "family": "Arial, sans-serif",
            "size": 13
           },
           "namelength": -1
          },
          "hoveron": "points",
          "hovertext": "",
          "index": 0,
          "line": {
           "color": "orangered",
           "dash": "solid",
           "shape": "linear",
           "simplify": true,
           "width": 2
          },
          "showlegend": true,
          "stackgroup": "",
          "text": "",
          "uid": "9c643990-6746-4bd9-a786-c8a900586954",
          "visible": true,
          "xcalendar": "gregorian",
          "xperiod": 0,
          "ycalendar": "gregorian",
          "yperiod": 0
         },
         {
          "connectgaps": false,
          "error_x": {
           "visible": false
          },
          "error_y": {
           "visible": false
          },
          "fill": "none",
          "hoverlabel": {
           "align": "right",
           "font": {
            "color": "white",
            "family": "Arial, sans-serif",
            "size": 13
           },
           "namelength": -1
          },
          "hoveron": "points",
          "hovertext": "",
          "index": 1,
          "line": {
           "color": "lightseagreen",
           "dash": "solid",
           "shape": "linear",
           "simplify": true,
           "width": 2
          },
          "showlegend": true,
          "stackgroup": "",
          "text": "",
          "uid": "2b1e7800-eda8-4f85-b2c5-7b3139d38dad",
          "visible": true,
          "xcalendar": "gregorian",
          "xperiod": 0,
          "ycalendar": "gregorian",
          "yperiod": 0
         },
         {
          "connectgaps": false,
          "error_x": {
           "visible": false
          },
          "error_y": {
           "visible": false
          },
          "fill": "none",
          "hoverlabel": {
           "align": "right",
           "font": {
            "color": "white",
            "family": "Arial, sans-serif",
            "size": 13
           },
           "namelength": -1
          },
          "hoveron": "points",
          "hovertext": "",
          "index": 2,
          "line": {
           "color": "indigo",
           "dash": "solid",
           "shape": "linear",
           "simplify": true,
           "width": 2
          },
          "showlegend": true,
          "stackgroup": "",
          "text": "",
          "uid": "7baab29c-f5bf-4ade-829f-e46f91ce03e0",
          "visible": true,
          "xcalendar": "gregorian",
          "xperiod": 0,
          "ycalendar": "gregorian",
          "yperiod": 0
         },
         {
          "connectgaps": false,
          "error_x": {
           "visible": false
          },
          "error_y": {
           "visible": false
          },
          "fill": "none",
          "hoverlabel": {
           "align": "right",
           "font": {
            "color": "white",
            "family": "Arial, sans-serif",
            "size": 13
           },
           "namelength": -1
          },
          "hoveron": "points",
          "hovertext": "",
          "index": 3,
          "legendgroup": "",
          "line": {
           "color": "cornflowerblue",
           "dash": "solid",
           "shape": "linear",
           "simplify": true,
           "width": 2
          },
          "showlegend": true,
          "stackgroup": "",
          "text": "",
          "uid": "7ae99492-58b8-4c6b-9065-e58b97908fcd",
          "visible": true,
          "xcalendar": "gregorian",
          "xperiod": 0,
          "ycalendar": "gregorian",
          "yperiod": 0
         },
         {
          "connectgaps": false,
          "error_x": {
           "visible": false
          },
          "error_y": {
           "visible": false
          },
          "fill": "none",
          "hoverlabel": {
           "align": "right",
           "font": {
            "color": "white",
            "family": "Arial, sans-serif",
            "size": 13
           },
           "namelength": -1
          },
          "hoveron": "points",
          "hovertext": "",
          "index": 4,
          "legendgroup": "",
          "line": {
           "color": "crimson",
           "dash": "solid",
           "shape": "linear",
           "simplify": true,
           "width": 2
          },
          "showlegend": true,
          "stackgroup": "",
          "text": "",
          "uid": "3fd5150b-4887-4fb5-aa59-ee3de1f27b9d",
          "visible": true,
          "xcalendar": "gregorian",
          "xperiod": 0,
          "ycalendar": "gregorian",
          "yperiod": 0
         }
        ],
        "trace_edit_id": 27
       },
       "_js2py_update": {},
       "_last_layout_edit_id": 28,
       "_last_trace_edit_id": 27,
       "_layout": {
        "autosize": true,
        "hidesources": true,
        "hoverlabel": {
         "align": "right",
         "font": {
          "color": "white"
         }
        },
        "legend": {
         "title": {
          "text": "Luminosity"
         },
         "tracegroupgap": 0
        },
        "margin": {
         "b": 10,
         "l": 10,
         "pad": 0,
         "r": 10,
         "t": 25
        },
        "template": {
         "data": {
          "bar": [
           {
            "error_x": {
             "color": "#2a3f5f"
            },
            "error_y": {
             "color": "#2a3f5f"
            },
            "marker": {
             "line": {
              "color": "#E5ECF6",
              "width": 0.5
             }
            },
            "type": "bar"
           }
          ],
          "barpolar": [
           {
            "marker": {
             "line": {
              "color": "#E5ECF6",
              "width": 0.5
             }
            },
            "type": "barpolar"
           }
          ],
          "carpet": [
           {
            "aaxis": {
             "endlinecolor": "#2a3f5f",
             "gridcolor": "white",
             "linecolor": "white",
             "minorgridcolor": "white",
             "startlinecolor": "#2a3f5f"
            },
            "baxis": {
             "endlinecolor": "#2a3f5f",
             "gridcolor": "white",
             "linecolor": "white",
             "minorgridcolor": "white",
             "startlinecolor": "#2a3f5f"
            },
            "type": "carpet"
           }
          ],
          "choropleth": [
           {
            "colorbar": {
             "outlinewidth": 0,
             "ticks": ""
            },
            "type": "choropleth"
           }
          ],
          "contour": [
           {
            "colorbar": {
             "outlinewidth": 0,
             "ticks": ""
            },
            "colorscale": [
             [
              0,
              "#0d0887"
             ],
             [
              0.1111111111111111,
              "#46039f"
             ],
             [
              0.2222222222222222,
              "#7201a8"
             ],
             [
              0.3333333333333333,
              "#9c179e"
             ],
             [
              0.4444444444444444,
              "#bd3786"
             ],
             [
              0.5555555555555556,
              "#d8576b"
             ],
             [
              0.6666666666666666,
              "#ed7953"
             ],
             [
              0.7777777777777778,
              "#fb9f3a"
             ],
             [
              0.8888888888888888,
              "#fdca26"
             ],
             [
              1,
              "#f0f921"
             ]
            ],
            "type": "contour"
           }
          ],
          "contourcarpet": [
           {
            "colorbar": {
             "outlinewidth": 0,
             "ticks": ""
            },
            "type": "contourcarpet"
           }
          ],
          "heatmap": [
           {
            "colorbar": {
             "outlinewidth": 0,
             "ticks": ""
            },
            "colorscale": [
             [
              0,
              "#0d0887"
             ],
             [
              0.1111111111111111,
              "#46039f"
             ],
             [
              0.2222222222222222,
              "#7201a8"
             ],
             [
              0.3333333333333333,
              "#9c179e"
             ],
             [
              0.4444444444444444,
              "#bd3786"
             ],
             [
              0.5555555555555556,
              "#d8576b"
             ],
             [
              0.6666666666666666,
              "#ed7953"
             ],
             [
              0.7777777777777778,
              "#fb9f3a"
             ],
             [
              0.8888888888888888,
              "#fdca26"
             ],
             [
              1,
              "#f0f921"
             ]
            ],
            "type": "heatmap"
           }
          ],
          "heatmapgl": [
           {
            "colorbar": {
             "outlinewidth": 0,
             "ticks": ""
            },
            "colorscale": [
             [
              0,
              "#0d0887"
             ],
             [
              0.1111111111111111,
              "#46039f"
             ],
             [
              0.2222222222222222,
              "#7201a8"
             ],
             [
              0.3333333333333333,
              "#9c179e"
             ],
             [
              0.4444444444444444,
              "#bd3786"
             ],
             [
              0.5555555555555556,
              "#d8576b"
             ],
             [
              0.6666666666666666,
              "#ed7953"
             ],
             [
              0.7777777777777778,
              "#fb9f3a"
             ],
             [
              0.8888888888888888,
              "#fdca26"
             ],
             [
              1,
              "#f0f921"
             ]
            ],
            "type": "heatmapgl"
           }
          ],
          "histogram": [
           {
            "marker": {
             "colorbar": {
              "outlinewidth": 0,
              "ticks": ""
             }
            },
            "type": "histogram"
           }
          ],
          "histogram2d": [
           {
            "colorbar": {
             "outlinewidth": 0,
             "ticks": ""
            },
            "colorscale": [
             [
              0,
              "#0d0887"
             ],
             [
              0.1111111111111111,
              "#46039f"
             ],
             [
              0.2222222222222222,
              "#7201a8"
             ],
             [
              0.3333333333333333,
              "#9c179e"
             ],
             [
              0.4444444444444444,
              "#bd3786"
             ],
             [
              0.5555555555555556,
              "#d8576b"
             ],
             [
              0.6666666666666666,
              "#ed7953"
             ],
             [
              0.7777777777777778,
              "#fb9f3a"
             ],
             [
              0.8888888888888888,
              "#fdca26"
             ],
             [
              1,
              "#f0f921"
             ]
            ],
            "type": "histogram2d"
           }
          ],
          "histogram2dcontour": [
           {
            "colorbar": {
             "outlinewidth": 0,
             "ticks": ""
            },
            "colorscale": [
             [
              0,
              "#0d0887"
             ],
             [
              0.1111111111111111,
              "#46039f"
             ],
             [
              0.2222222222222222,
              "#7201a8"
             ],
             [
              0.3333333333333333,
              "#9c179e"
             ],
             [
              0.4444444444444444,
              "#bd3786"
             ],
             [
              0.5555555555555556,
              "#d8576b"
             ],
             [
              0.6666666666666666,
              "#ed7953"
             ],
             [
              0.7777777777777778,
              "#fb9f3a"
             ],
             [
              0.8888888888888888,
              "#fdca26"
             ],
             [
              1,
              "#f0f921"
             ]
            ],
            "type": "histogram2dcontour"
           }
          ],
          "mesh3d": [
           {
            "colorbar": {
             "outlinewidth": 0,
             "ticks": ""
            },
            "type": "mesh3d"
           }
          ],
          "parcoords": [
           {
            "line": {
             "colorbar": {
              "outlinewidth": 0,
              "ticks": ""
             }
            },
            "type": "parcoords"
           }
          ],
          "pie": [
           {
            "automargin": true,
            "type": "pie"
           }
          ],
          "scatter": [
           {
            "marker": {
             "colorbar": {
              "outlinewidth": 0,
              "ticks": ""
             }
            },
            "type": "scatter"
           }
          ],
          "scatter3d": [
           {
            "line": {
             "colorbar": {
              "outlinewidth": 0,
              "ticks": ""
             }
            },
            "marker": {
             "colorbar": {
              "outlinewidth": 0,
              "ticks": ""
             }
            },
            "type": "scatter3d"
           }
          ],
          "scattercarpet": [
           {
            "marker": {
             "colorbar": {
              "outlinewidth": 0,
              "ticks": ""
             }
            },
            "type": "scattercarpet"
           }
          ],
          "scattergeo": [
           {
            "marker": {
             "colorbar": {
              "outlinewidth": 0,
              "ticks": ""
             }
            },
            "type": "scattergeo"
           }
          ],
          "scattergl": [
           {
            "marker": {
             "colorbar": {
              "outlinewidth": 0,
              "ticks": ""
             }
            },
            "type": "scattergl"
           }
          ],
          "scattermapbox": [
           {
            "marker": {
             "colorbar": {
              "outlinewidth": 0,
              "ticks": ""
             }
            },
            "type": "scattermapbox"
           }
          ],
          "scatterpolar": [
           {
            "marker": {
             "colorbar": {
              "outlinewidth": 0,
              "ticks": ""
             }
            },
            "type": "scatterpolar"
           }
          ],
          "scatterpolargl": [
           {
            "marker": {
             "colorbar": {
              "outlinewidth": 0,
              "ticks": ""
             }
            },
            "type": "scatterpolargl"
           }
          ],
          "scatterternary": [
           {
            "marker": {
             "colorbar": {
              "outlinewidth": 0,
              "ticks": ""
             }
            },
            "type": "scatterternary"
           }
          ],
          "surface": [
           {
            "colorbar": {
             "outlinewidth": 0,
             "ticks": ""
            },
            "colorscale": [
             [
              0,
              "#0d0887"
             ],
             [
              0.1111111111111111,
              "#46039f"
             ],
             [
              0.2222222222222222,
              "#7201a8"
             ],
             [
              0.3333333333333333,
              "#9c179e"
             ],
             [
              0.4444444444444444,
              "#bd3786"
             ],
             [
              0.5555555555555556,
              "#d8576b"
             ],
             [
              0.6666666666666666,
              "#ed7953"
             ],
             [
              0.7777777777777778,
              "#fb9f3a"
             ],
             [
              0.8888888888888888,
              "#fdca26"
             ],
             [
              1,
              "#f0f921"
             ]
            ],
            "type": "surface"
           }
          ],
          "table": [
           {
            "cells": {
             "fill": {
              "color": "#EBF0F8"
             },
             "line": {
              "color": "white"
             }
            },
            "header": {
             "fill": {
              "color": "#C8D4E3"
             },
             "line": {
              "color": "white"
             }
            },
            "type": "table"
           }
          ]
         },
         "layout": {
          "annotationdefaults": {
           "arrowcolor": "#2a3f5f",
           "arrowhead": 0,
           "arrowwidth": 1
          },
          "autotypenumbers": "strict",
          "coloraxis": {
           "colorbar": {
            "outlinewidth": 0,
            "ticks": ""
           }
          },
          "colorscale": {
           "diverging": [
            [
             0,
             "#8e0152"
            ],
            [
             0.1,
             "#c51b7d"
            ],
            [
             0.2,
             "#de77ae"
            ],
            [
             0.3,
             "#f1b6da"
            ],
            [
             0.4,
             "#fde0ef"
            ],
            [
             0.5,
             "#f7f7f7"
            ],
            [
             0.6,
             "#e6f5d0"
            ],
            [
             0.7,
             "#b8e186"
            ],
            [
             0.8,
             "#7fbc41"
            ],
            [
             0.9,
             "#4d9221"
            ],
            [
             1,
             "#276419"
            ]
           ],
           "sequential": [
            [
             0,
             "#0d0887"
            ],
            [
             0.1111111111111111,
             "#46039f"
            ],
            [
             0.2222222222222222,
             "#7201a8"
            ],
            [
             0.3333333333333333,
             "#9c179e"
            ],
            [
             0.4444444444444444,
             "#bd3786"
            ],
            [
             0.5555555555555556,
             "#d8576b"
            ],
            [
             0.6666666666666666,
             "#ed7953"
            ],
            [
             0.7777777777777778,
             "#fb9f3a"
            ],
            [
             0.8888888888888888,
             "#fdca26"
            ],
            [
             1,
             "#f0f921"
            ]
           ],
           "sequentialminus": [
            [
             0,
             "#0d0887"
            ],
            [
             0.1111111111111111,
             "#46039f"
            ],
            [
             0.2222222222222222,
             "#7201a8"
            ],
            [
             0.3333333333333333,
             "#9c179e"
            ],
            [
             0.4444444444444444,
             "#bd3786"
            ],
            [
             0.5555555555555556,
             "#d8576b"
            ],
            [
             0.6666666666666666,
             "#ed7953"
            ],
            [
             0.7777777777777778,
             "#fb9f3a"
            ],
            [
             0.8888888888888888,
             "#fdca26"
            ],
            [
             1,
             "#f0f921"
            ]
           ]
          },
          "colorway": [
           "#636efa",
           "#EF553B",
           "#00cc96",
           "#ab63fa",
           "#FFA15A",
           "#19d3f3",
           "#FF6692",
           "#B6E880",
           "#FF97FF",
           "#FECB52"
          ],
          "font": {
           "color": "#2a3f5f"
          },
          "geo": {
           "bgcolor": "white",
           "lakecolor": "white",
           "landcolor": "#E5ECF6",
           "showlakes": true,
           "showland": true,
           "subunitcolor": "white"
          },
          "hoverlabel": {
           "align": "left"
          },
          "hovermode": "closest",
          "mapbox": {
           "style": "light"
          },
          "paper_bgcolor": "white",
          "plot_bgcolor": "#E5ECF6",
          "polar": {
           "angularaxis": {
            "gridcolor": "white",
            "linecolor": "white",
            "ticks": ""
           },
           "bgcolor": "#E5ECF6",
           "radialaxis": {
            "gridcolor": "white",
            "linecolor": "white",
            "ticks": ""
           }
          },
          "scene": {
           "xaxis": {
            "backgroundcolor": "#E5ECF6",
            "gridcolor": "white",
            "gridwidth": 2,
            "linecolor": "white",
            "showbackground": true,
            "ticks": "",
            "zerolinecolor": "white"
           },
           "yaxis": {
            "backgroundcolor": "#E5ECF6",
            "gridcolor": "white",
            "gridwidth": 2,
            "linecolor": "white",
            "showbackground": true,
            "ticks": "",
            "zerolinecolor": "white"
           },
           "zaxis": {
            "backgroundcolor": "#E5ECF6",
            "gridcolor": "white",
            "gridwidth": 2,
            "linecolor": "white",
            "showbackground": true,
            "ticks": "",
            "zerolinecolor": "white"
           }
          },
          "shapedefaults": {
           "line": {
            "color": "#2a3f5f"
           }
          },
          "ternary": {
           "aaxis": {
            "gridcolor": "white",
            "linecolor": "white",
            "ticks": ""
           },
           "baxis": {
            "gridcolor": "white",
            "linecolor": "white",
            "ticks": ""
           },
           "bgcolor": "#E5ECF6",
           "caxis": {
            "gridcolor": "white",
            "linecolor": "white",
            "ticks": ""
           }
          },
          "title": {
           "x": 0.05
          },
          "xaxis": {
           "automargin": true,
           "gridcolor": "white",
           "linecolor": "white",
           "ticks": "",
           "title": {
            "standoff": 15
           },
           "zerolinecolor": "white",
           "zerolinewidth": 2
          },
          "yaxis": {
           "automargin": true,
           "gridcolor": "white",
           "linecolor": "white",
           "ticks": "",
           "title": {
            "standoff": 15
           },
           "zerolinecolor": "white",
           "zerolinewidth": 2
          }
         }
        },
        "xaxis": {
         "anchor": "y",
         "domain": [
          0,
          1
         ],
         "dtick": 2,
         "matches": "x3",
         "range": [
          0,
          21
         ],
         "showticklabels": false
        },
        "xaxis2": {
         "anchor": "y2",
         "domain": [
          0,
          1
         ],
         "dtick": 2,
         "matches": "x",
         "range": [
          0,
          21
         ],
         "showticklabels": false
        },
        "xaxis3": {
         "anchor": "y3",
         "domain": [
          0,
          1
         ],
         "dtick": 2,
         "matches": "x",
         "title": {
          "text": "$\\mbox{Iteration Number}$"
         }
        },
        "yaxis": {
         "anchor": "x",
         "automargin": true,
         "domain": [
          0.865,
          1
         ],
         "exponentformat": "e",
         "side": "top",
         "tickformat": "g",
         "title": {
          "text": "$\\mbox{T}_{inner}$"
         }
        },
        "yaxis2": {
         "anchor": "x2",
         "automargin": true,
         "domain": [
          0.185,
          0.815
         ],
         "exponentformat": "e",
         "title": {
          "font": {
           "size": 13
          },
          "text": "$\\mbox{Luminosity}~(erg~sec^{-1})$"
         }
        },
        "yaxis3": {
         "anchor": "x3",
         "automargin": true,
         "domain": [
          0,
          0.135
         ],
         "exponentformat": "e",
         "title": {
          "font": {
           "size": 12
          },
          "text": "$~~\\mbox{Residual}\\\\\\mbox{Luminosity(%)}$"
         }
        }
       },
       "_py2js_animate": {},
       "_py2js_deleteTraces": {},
       "_py2js_moveTraces": {},
       "_py2js_removeTraceProps": {},
       "_py2js_restyle": {},
       "_view_count": 1
      }
     },
     "e2c6250d228b4bc1958f41f2c08f27cd": {
      "model_module": "plotlywidget",
      "model_module_version": "^4.14.3",
      "model_name": "FigureModel",
      "state": {
       "_config": {
        "plotlyServerURL": "https://plot.ly"
       },
       "_data": [
        {
         "line": {
          "color": "#800000"
         },
         "type": "scatter",
         "uid": "4ca58976-9e95-4383-ae85-df5fba6ef0d7",
         "xaxis": "x",
         "yaxis": "y"
        },
        {
         "line": {
          "color": "#800000"
         },
         "type": "scatter",
         "uid": "39bb09b7-ad75-44f7-9bf0-cc218dec793e",
         "xaxis": "x2",
         "yaxis": "y2"
        },
        {
         "legendgroup": "group-0",
         "line": {
          "color": "#000080"
         },
         "marker": {
          "size": 3,
          "symbol": "diamond"
         },
         "name": "1",
         "showlegend": false,
         "type": "scatter",
         "uid": "898b6f57-db2c-415d-83a3-0e2eef90256e",
         "x": [
          11000,
          11450,
          11900,
          12350,
          12800,
          13250,
          13700,
          14150,
          14600,
          15050,
          15500,
          15950,
          16400,
          16850,
          17300,
          17750,
          18200,
          18650,
          19100,
          19550,
          20000
         ],
         "xaxis": "x",
         "y": [
          10134.733716625742,
          10158.894068408064,
          10199.163062164183,
          10230.988705011776,
          10268.95723542248,
          10222.890845143002,
          10224.33250792895,
          10215.304103107928,
          10218.67593187541,
          10185.463728853065,
          10144.46316917108,
          10076.87680984274,
          10030.209347853815,
          10029.018621140542,
          9986.944524442715,
          9873.477845862937,
          9843.334614032237,
          9771.609702679261,
          9679.524619982089,
          9610.209774198473
         ],
         "yaxis": "y"
        },
        {
         "legendgroup": "group-0",
         "line": {
          "color": "#000080"
         },
         "marker": {
          "size": 3,
          "symbol": "diamond"
         },
         "name": "1",
         "type": "scatter",
         "uid": "2a337948-0850-4be1-af98-4e70a7747169",
         "x": [
          11000,
          11450,
          11900,
          12350,
          12800,
          13250,
          13700,
          14150,
          14600,
          15050,
          15500,
          15950,
          16400,
          16850,
          17300,
          17750,
          18200,
          18650,
          19100,
          19550,
          20000
         ],
         "xaxis": "x2",
         "y": [
          0.5082040569581554,
          0.3962212763594891,
          0.3214185723254649,
          0.26560113513158967,
          0.22389059993927218,
          0.19702589896830255,
          0.1749491202529985,
          0.1563731541470249,
          0.13940960015313733,
          0.12795427205030482,
          0.11717940936679912,
          0.10932218040060024,
          0.10303354273987321,
          0.09520635540966971,
          0.08986506172262776,
          0.08694065164106614,
          0.082029771070409,
          0.07895392034793645,
          0.07641285709961215,
          0.0734944435056783
         ],
         "yaxis": "y2"
        },
        {
         "legendgroup": "group-1",
         "line": {
          "color": "#0000bd"
         },
         "marker": {
          "size": 3,
          "symbol": "diamond"
         },
         "name": "2",
         "showlegend": false,
         "type": "scatter",
         "uid": "776160fd-0db0-4e92-a615-b650092a8b6b",
         "x": [
          11000,
          11450,
          11900,
          12350,
          12800,
          13250,
          13700,
          14150,
          14600,
          15050,
          15500,
          15950,
          16400,
          16850,
          17300,
          17750,
          18200,
          18650,
          19100,
          19550,
          20000
         ],
         "xaxis": "x",
         "y": [
          11468.021903420027,
          11435.999407966676,
          11449.930444230995,
          11492.65958293691,
          11527.299217171007,
          11499.835339656465,
          11477.276330649498,
          11460.659744967303,
          11406.161049943823,
          11340.543942919201,
          11306.370330122183,
          11212.548324749032,
          11165.15031794662,
          11109.460288675331,
          11032.751812374603,
          10953.828130057926,
          10887.89602394496,
          10829.273836669769,
          10807.478630946254,
          10678.472039472606
         ],
         "yaxis": "y"
        },
        {
         "legendgroup": "group-1",
         "line": {
          "color": "#0000bd"
         },
         "marker": {
          "size": 3,
          "symbol": "diamond"
         },
         "name": "2",
         "type": "scatter",
         "uid": "cb7f7c8a-12dc-49ce-a208-cace17ecfb73",
         "x": [
          11000,
          11450,
          11900,
          12350,
          12800,
          13250,
          13700,
          14150,
          14600,
          15050,
          15500,
          15950,
          16400,
          16850,
          17300,
          17750,
          18200,
          18650,
          19100,
          19550,
          20000
         ],
         "xaxis": "x2",
         "y": [
          0.5486713034814857,
          0.4359667978092499,
          0.35745766558351055,
          0.29759617877916883,
          0.2514052642548386,
          0.2213742932983643,
          0.1967142119281105,
          0.1750139221468986,
          0.1596018423150508,
          0.14776884435084475,
          0.1362910943753445,
          0.1282954632603496,
          0.11949333047989281,
          0.11271924127039863,
          0.10796286592870252,
          0.10261651657287679,
          0.09761052473526158,
          0.0925701903122773,
          0.08757308797595444,
          0.08560372849204283
         ],
         "yaxis": "y2"
        },
        {
         "legendgroup": "group-2",
         "line": {
          "color": "#0000fa"
         },
         "marker": {
          "size": 3,
          "symbol": "diamond"
         },
         "name": "3",
         "showlegend": false,
         "type": "scatter",
         "uid": "1bad1f8e-8316-40ac-bb2c-37ac579a661b",
         "x": [
          11000,
          11450,
          11900,
          12350,
          12800,
          13250,
          13700,
          14150,
          14600,
          15050,
          15500,
          15950,
          16400,
          16850,
          17300,
          17750,
          18200,
          18650,
          19100,
          19550,
          20000
         ],
         "xaxis": "x",
         "y": [
          10497.008397133988,
          10647.412149636564,
          10710.555598349812,
          10778.428547850966,
          10799.157541112727,
          10799.075913257297,
          10809.366021863923,
          10753.851890469936,
          10723.18539784127,
          10725.950530076656,
          10623.433273860508,
          10568.227843581686,
          10448.426796026406,
          10344.129570842591,
          10277.247070725653,
          10226.187071335817,
          10191.522923045857,
          10084.749431116139,
          9966.774860086334,
          9840.487791467045
         ],
         "yaxis": "y"
        },
        {
         "legendgroup": "group-2",
         "line": {
          "color": "#0000fa"
         },
         "marker": {
          "size": 3,
          "symbol": "diamond"
         },
         "name": "3",
         "type": "scatter",
         "uid": "95141482-530e-4eef-91d8-e5a0fd93d2b2",
         "x": [
          11000,
          11450,
          11900,
          12350,
          12800,
          13250,
          13700,
          14150,
          14600,
          15050,
          15500,
          15950,
          16400,
          16850,
          17300,
          17750,
          18200,
          18650,
          19100,
          19550,
          20000
         ],
         "xaxis": "x2",
         "y": [
          0.442299407233424,
          0.3316155054771363,
          0.26819254934335535,
          0.22122958128497036,
          0.18813327121608667,
          0.16428839927198421,
          0.1443413401513004,
          0.13164698698733832,
          0.12013575438192611,
          0.1081687026641846,
          0.10181996368767447,
          0.09492623735431249,
          0.09101140062051426,
          0.08639163271896758,
          0.08220814746497997,
          0.07762890235617773,
          0.0732750049575765,
          0.07106642067401933,
          0.06969266984280108,
          0.06837630714305266
         ],
         "yaxis": "y2"
        },
        {
         "legendgroup": "group-3",
         "line": {
          "color": "#0022ff"
         },
         "marker": {
          "size": 3,
          "symbol": "diamond"
         },
         "name": "4",
         "showlegend": false,
         "type": "scatter",
         "uid": "4c1d7629-65ea-440d-9064-30d182eea79d",
         "x": [
          11000,
          11450,
          11900,
          12350,
          12800,
          13250,
          13700,
          14150,
          14600,
          15050,
          15500,
          15950,
          16400,
          16850,
          17300,
          17750,
          18200,
          18650,
          19100,
          19550,
          20000
         ],
         "xaxis": "x",
         "y": [
          11615.34431271539,
          11665.123230726764,
          11722.631980824826,
          11696.759034389528,
          11740.274989218244,
          11729.411389495828,
          11762.93754644142,
          11652.44218706302,
          11589.11016884437,
          11561.496043188794,
          11517.190316985118,
          11433.020206851419,
          11326.42249364519,
          11237.973261737088,
          11182.841624719184,
          11103.37345606317,
          10988.381394715301,
          10950.081329679253,
          10862.947659789317,
          10751.855231570007
         ],
         "yaxis": "y"
        },
        {
         "legendgroup": "group-3",
         "line": {
          "color": "#0022ff"
         },
         "marker": {
          "size": 3,
          "symbol": "diamond"
         },
         "name": "4",
         "type": "scatter",
         "uid": "79a1b649-3a61-464f-b81a-62bb41ceaed7",
         "x": [
          11000,
          11450,
          11900,
          12350,
          12800,
          13250,
          13700,
          14150,
          14600,
          15050,
          15500,
          15950,
          16400,
          16850,
          17300,
          17750,
          18200,
          18650,
          19100,
          19550,
          20000
         ],
         "xaxis": "x2",
         "y": [
          0.4977143593187972,
          0.3915904655092031,
          0.31518118479289936,
          0.26854353604159453,
          0.22820910008384737,
          0.1992052064914697,
          0.1732796396495469,
          0.15947664883652757,
          0.14579099407466625,
          0.1334986840647756,
          0.12384871542019993,
          0.1163327713735177,
          0.11004943343959867,
          0.10494577908156115,
          0.09880472549683283,
          0.09393029340453476,
          0.09096244445118767,
          0.08630423393331049,
          0.08321862769525468,
          0.08100093623949862
         ],
         "yaxis": "y2"
        },
        {
         "legendgroup": "group-4",
         "line": {
          "color": "#0057ff"
         },
         "marker": {
          "size": 3,
          "symbol": "diamond"
         },
         "name": "5",
         "showlegend": false,
         "type": "scatter",
         "uid": "0ac0f510-71f2-4b3f-bfad-9d4a28fa038a",
         "x": [
          11000,
          11450,
          11900,
          12350,
          12800,
          13250,
          13700,
          14150,
          14600,
          15050,
          15500,
          15950,
          16400,
          16850,
          17300,
          17750,
          18200,
          18650,
          19100,
          19550,
          20000
         ],
         "xaxis": "x",
         "y": [
          10549.51412848435,
          10759.565074180144,
          10894.663638012831,
          10932.865203687254,
          10930.709069978382,
          10919.073481210131,
          10877.07525272697,
          10810.824269258308,
          10785.603108487141,
          10727.31310966391,
          10697.303299672532,
          10711.257210371086,
          10551.734446150795,
          10490.892524557958,
          10416.933630770685,
          10379.863072642813,
          10279.630106699515,
          10220.453729533758,
          10077.475484616278,
          9927.285882427788
         ],
         "yaxis": "y"
        },
        {
         "legendgroup": "group-4",
         "line": {
          "color": "#0057ff"
         },
         "marker": {
          "size": 3,
          "symbol": "diamond"
         },
         "name": "5",
         "type": "scatter",
         "uid": "96546401-c7f2-4da3-8c9e-2d25d18db5f5",
         "x": [
          11000,
          11450,
          11900,
          12350,
          12800,
          13250,
          13700,
          14150,
          14600,
          15050,
          15500,
          15950,
          16400,
          16850,
          17300,
          17750,
          18200,
          18650,
          19100,
          19550,
          20000
         ],
         "xaxis": "x2",
         "y": [
          0.4434406663593859,
          0.329565789368522,
          0.26010890450064733,
          0.2159881056247415,
          0.1854070420834862,
          0.16219891903074657,
          0.14560372598880475,
          0.13326787384388758,
          0.11999931339731698,
          0.11025218829721785,
          0.1012892218335092,
          0.09247037462403469,
          0.08933312170132374,
          0.08413052869637083,
          0.07995660682274036,
          0.07537221197763783,
          0.07252173631498261,
          0.06901139800647034,
          0.06809975749337623,
          0.06735205229901337
         ],
         "yaxis": "y2"
        },
        {
         "legendgroup": "group-5",
         "line": {
          "color": "#008dff"
         },
         "marker": {
          "size": 3,
          "symbol": "diamond"
         },
         "name": "6",
         "showlegend": false,
         "type": "scatter",
         "uid": "0c43e840-b898-42f0-80ef-a8e452ca37c3",
         "x": [
          11000,
          11450,
          11900,
          12350,
          12800,
          13250,
          13700,
          14150,
          14600,
          15050,
          15500,
          15950,
          16400,
          16850,
          17300,
          17750,
          18200,
          18650,
          19100,
          19550,
          20000
         ],
         "xaxis": "x",
         "y": [
          11567.208184336641,
          11613.025123050538,
          11683.328827353047,
          11693.104708830946,
          11724.278325269526,
          11653.124120929953,
          11612.65021223817,
          11609.82892873756,
          11614.580326945592,
          11546.462389124263,
          11425.95501009532,
          11375.048998512899,
          11315.818140434149,
          11225.578780782147,
          11120.449864009748,
          11082.155937788912,
          10987.868514296186,
          10920.442550504482,
          10834.92855121022,
          10735.503852801117
         ],
         "yaxis": "y"
        },
        {
         "legendgroup": "group-5",
         "line": {
          "color": "#008dff"
         },
         "marker": {
          "size": 3,
          "symbol": "diamond"
         },
         "name": "6",
         "type": "scatter",
         "uid": "65eb82c5-cc72-4d33-a8f8-5cbc26075b27",
         "x": [
          11000,
          11450,
          11900,
          12350,
          12800,
          13250,
          13700,
          14150,
          14600,
          15050,
          15500,
          15950,
          16400,
          16850,
          17300,
          17750,
          18200,
          18650,
          19100,
          19550,
          20000
         ],
         "xaxis": "x2",
         "y": [
          0.5041776548110584,
          0.39023406927746374,
          0.3175388504350529,
          0.2668923064824901,
          0.22560807776675992,
          0.203042144204494,
          0.18189522000862068,
          0.16135829264739318,
          0.14556836273965668,
          0.13371966659083212,
          0.12524940621974714,
          0.11754876564474895,
          0.11015802998525885,
          0.10441164070595735,
          0.09931347804630662,
          0.09402786959361889,
          0.09062541591197751,
          0.08647506254390502,
          0.08333888504337562,
          0.08065101681509353
         ],
         "yaxis": "y2"
        },
        {
         "legendgroup": "group-6",
         "line": {
          "color": "#00c3ff"
         },
         "marker": {
          "size": 3,
          "symbol": "diamond"
         },
         "name": "7",
         "showlegend": false,
         "type": "scatter",
         "uid": "e3a80f31-cdb4-4b35-8c65-81f51270d063",
         "x": [
          11000,
          11450,
          11900,
          12350,
          12800,
          13250,
          13700,
          14150,
          14600,
          15050,
          15500,
          15950,
          16400,
          16850,
          17300,
          17750,
          18200,
          18650,
          19100,
          19550,
          20000
         ],
         "xaxis": "x",
         "y": [
          10569.74740334304,
          10778.034968335256,
          10902.99080443269,
          10989.797314359694,
          11047.113446219639,
          11099.194259237403,
          11016.051305801364,
          10966.513171670935,
          10947.55947416353,
          10934.581362699615,
          10809.397890448754,
          10698.341230707349,
          10636.972622756153,
          10581.99648087922,
          10532.222759856093,
          10454.841299228276,
          10338.205644915452,
          10252.881876072242,
          10087.404942797337,
          9969.196423563208
         ],
         "yaxis": "y"
        },
        {
         "legendgroup": "group-6",
         "line": {
          "color": "#00c3ff"
         },
         "marker": {
          "size": 3,
          "symbol": "diamond"
         },
         "name": "7",
         "type": "scatter",
         "uid": "314be004-5cd5-4a7a-994d-bf424708a3a3",
         "x": [
          11000,
          11450,
          11900,
          12350,
          12800,
          13250,
          13700,
          14150,
          14600,
          15050,
          15500,
          15950,
          16400,
          16850,
          17300,
          17750,
          18200,
          18650,
          19100,
          19550,
          20000
         ],
         "xaxis": "x2",
         "y": [
          0.4422900724363882,
          0.32572087182053455,
          0.25608363121508193,
          0.20917551310840277,
          0.17856281204684143,
          0.1532534478801237,
          0.1389841189692777,
          0.1262357056609694,
          0.11375261901807446,
          0.10290814628079882,
          0.09725630417756266,
          0.09284460200253164,
          0.0871069617423461,
          0.0816250729899891,
          0.07729032592235478,
          0.07380941869099045,
          0.07152054892238287,
          0.06908445244271275,
          0.06851046721770122,
          0.06692890210588077
         ],
         "yaxis": "y2"
        },
        {
         "legendgroup": "group-7",
         "line": {
          "color": "#0ff8e8"
         },
         "marker": {
          "size": 3,
          "symbol": "diamond"
         },
         "name": "8",
         "showlegend": false,
         "type": "scatter",
         "uid": "80125e4f-860b-4d3f-9ec9-dbe50a60a850",
         "x": [
          11000,
          11450,
          11900,
          12350,
          12800,
          13250,
          13700,
          14150,
          14600,
          15050,
          15500,
          15950,
          16400,
          16850,
          17300,
          17750,
          18200,
          18650,
          19100,
          19550,
          20000
         ],
         "xaxis": "x",
         "y": [
          11547.678161996797,
          11623.874786176679,
          11731.044716907294,
          11760.25509798027,
          11744.698977086615,
          11669.73950817632,
          11644.121670479833,
          11594.304643594436,
          11525.864522224016,
          11493.832801176886,
          11493.569589639628,
          11391.455575577864,
          11294.144464329282,
          11274.715359901778,
          11177.405492194264,
          11083.76958592225,
          11033.949307567013,
          10945.602385267846,
          10830.938212361745,
          10712.245869588583
         ],
         "yaxis": "y"
        },
        {
         "legendgroup": "group-7",
         "line": {
          "color": "#0ff8e8"
         },
         "marker": {
          "size": 3,
          "symbol": "diamond"
         },
         "name": "8",
         "type": "scatter",
         "uid": "e24e15d3-aa66-4efd-82f5-29b44f050190",
         "x": [
          11000,
          11450,
          11900,
          12350,
          12800,
          13250,
          13700,
          14150,
          14600,
          15050,
          15500,
          15950,
          16400,
          16850,
          17300,
          17750,
          18200,
          18650,
          19100,
          19550,
          20000
         ],
         "xaxis": "x2",
         "y": [
          0.5003453146367499,
          0.38382149418984424,
          0.3046144240522065,
          0.25655030086043534,
          0.22316143817180586,
          0.1983376255429574,
          0.17627463164764823,
          0.16038371517158478,
          0.14647197836539907,
          0.13388777429772944,
          0.12191469474588634,
          0.11483702826414072,
          0.10939033073711928,
          0.1016253554908811,
          0.09688786513696965,
          0.09283396230842705,
          0.08787816010814403,
          0.08454191425058025,
          0.08203925347737268,
          0.0802404176236165
         ],
         "yaxis": "y2"
        },
        {
         "legendgroup": "group-8",
         "line": {
          "color": "#3affbc"
         },
         "marker": {
          "size": 3,
          "symbol": "diamond"
         },
         "name": "9",
         "showlegend": false,
         "type": "scatter",
         "uid": "9417e2ab-2d2b-4849-8640-b6d844ea5ec7",
         "x": [
          11000,
          11450,
          11900,
          12350,
          12800,
          13250,
          13700,
          14150,
          14600,
          15050,
          15500,
          15950,
          16400,
          16850,
          17300,
          17750,
          18200,
          18650,
          19100,
          19550,
          20000
         ],
         "xaxis": "x",
         "y": [
          10635.099216825016,
          10811.018798823196,
          10933.638973465304,
          10979.717070479548,
          11020.403776787787,
          11035.731463947244,
          10938.265121115064,
          10845.596613320555,
          10800.731975199556,
          10763.639570847956,
          10717.471486460141,
          10707.496982070452,
          10660.60682399312,
          10573.357547773094,
          10472.700868373204,
          10404.049299323693,
          10290.698637903408,
          10218.265955052706,
          10108.378593633912,
          9988.315668041098
         ],
         "yaxis": "y"
        },
        {
         "legendgroup": "group-8",
         "line": {
          "color": "#3affbc"
         },
         "marker": {
          "size": 3,
          "symbol": "diamond"
         },
         "name": "9",
         "type": "scatter",
         "uid": "95de37fb-8d4c-475e-aec7-84136e88aabf",
         "x": [
          11000,
          11450,
          11900,
          12350,
          12800,
          13250,
          13700,
          14150,
          14600,
          15050,
          15500,
          15950,
          16400,
          16850,
          17300,
          17750,
          18200,
          18650,
          19100,
          19550,
          20000
         ],
         "xaxis": "x2",
         "y": [
          0.43952006761780843,
          0.327268984776419,
          0.2606464861341183,
          0.21628196882829448,
          0.18251989124968382,
          0.15831982713481618,
          0.14420700235789413,
          0.1319104825157537,
          0.11992662887673335,
          0.11051812652760704,
          0.10164157832326394,
          0.0935169832842306,
          0.08702393919783383,
          0.08275717669259847,
          0.07958674997930451,
          0.07579438452066575,
          0.07337972954768164,
          0.07043279263704051,
          0.06849589481058935,
          0.06699933221108373
         ],
         "yaxis": "y2"
        },
        {
         "legendgroup": "group-9",
         "line": {
          "color": "#66ff91"
         },
         "marker": {
          "size": 3,
          "symbol": "diamond"
         },
         "name": "10",
         "showlegend": false,
         "type": "scatter",
         "uid": "075cba9d-1c81-4fcf-9fb9-291b0f639cd4",
         "x": [
          11000,
          11450,
          11900,
          12350,
          12800,
          13250,
          13700,
          14150,
          14600,
          15050,
          15500,
          15950,
          16400,
          16850,
          17300,
          17750,
          18200,
          18650,
          19100,
          19550,
          20000
         ],
         "xaxis": "x",
         "y": [
          11500.55767773097,
          11637.546429690152,
          11663.40617042992,
          11724.968508662445,
          11714.760546184587,
          11715.267405819095,
          11601.494346275227,
          11508.240345570224,
          11502.488963193151,
          11497.386422527972,
          11451.270656305627,
          11400.159576989896,
          11327.524225636038,
          11287.892223234016,
          11179.325846630562,
          11094.423438456082,
          10990.648087308033,
          10925.434399972431,
          10815.564131433573,
          10706.177796255937
         ],
         "yaxis": "y"
        },
        {
         "legendgroup": "group-9",
         "line": {
          "color": "#66ff91"
         },
         "marker": {
          "size": 3,
          "symbol": "diamond"
         },
         "name": "10",
         "type": "scatter",
         "uid": "6a31e64f-6136-46d8-98f0-e91ff0866ac5",
         "x": [
          11000,
          11450,
          11900,
          12350,
          12800,
          13250,
          13700,
          14150,
          14600,
          15050,
          15500,
          15950,
          16400,
          16850,
          17300,
          17750,
          18200,
          18650,
          19100,
          19550,
          20000
         ],
         "xaxis": "x2",
         "y": [
          0.5068949392970965,
          0.38221104971484254,
          0.31487414577388056,
          0.2621151190162536,
          0.22619764203242226,
          0.1966896714263117,
          0.17976793731845225,
          0.16527279232801473,
          0.14785746043356635,
          0.13387433613614877,
          0.1232425999868199,
          0.1146829697056732,
          0.10741488616862097,
          0.10056120171965181,
          0.09622391591057,
          0.0922429076610291,
          0.0891060122843892,
          0.08532979760583174,
          0.08271120381699126,
          0.08030516190365557
         ],
         "yaxis": "y2"
        },
        {
         "legendgroup": "group-10",
         "line": {
          "color": "#91ff66"
         },
         "marker": {
          "size": 3,
          "symbol": "diamond"
         },
         "name": "11",
         "showlegend": false,
         "type": "scatter",
         "uid": "a81282b2-1e99-4860-a498-375e9c998904",
         "x": [
          11000,
          11450,
          11900,
          12350,
          12800,
          13250,
          13700,
          14150,
          14600,
          15050,
          15500,
          15950,
          16400,
          16850,
          17300,
          17750,
          18200,
          18650,
          19100,
          19550,
          20000
         ],
         "xaxis": "x",
         "y": [
          10570.856509263214,
          10736.442568836415,
          10856.868647968908,
          10979.906697012919,
          10953.700434670503,
          10957.336276077183,
          10966.459695386746,
          10949.857847026873,
          10898.17650137722,
          10912.847154692829,
          10916.410390590076,
          10804.79013541429,
          10642.721757219706,
          10673.950209699196,
          10562.15537191637,
          10441.053929477466,
          10375.82143773825,
          10218.808094852784,
          10128.925286201786,
          9982.977583607197
         ],
         "yaxis": "y"
        },
        {
         "legendgroup": "group-10",
         "line": {
          "color": "#91ff66"
         },
         "marker": {
          "size": 3,
          "symbol": "diamond"
         },
         "name": "11",
         "type": "scatter",
         "uid": "29698eb0-059b-4448-baa3-a8c4622463cc",
         "x": [
          11000,
          11450,
          11900,
          12350,
          12800,
          13250,
          13700,
          14150,
          14600,
          15050,
          15500,
          15950,
          16400,
          16850,
          17300,
          17750,
          18200,
          18650,
          19100,
          19550,
          20000
         ],
         "xaxis": "x2",
         "y": [
          0.44592562360298593,
          0.331726124200421,
          0.2626860334726053,
          0.21445158567301176,
          0.1874369354198379,
          0.16283699173812993,
          0.14343516576688212,
          0.1288301921728002,
          0.11742933862073758,
          0.10551038169028196,
          0.09622856527804761,
          0.0908415597305189,
          0.08819161384785737,
          0.08047832421527892,
          0.07731272727040164,
          0.07502560062315754,
          0.07149678574153981,
          0.07062712405261021,
          0.06830828451008499,
          0.0675509962637582
         ],
         "yaxis": "y2"
        },
        {
         "legendgroup": "group-11",
         "line": {
          "color": "#bcff3a"
         },
         "marker": {
          "size": 3,
          "symbol": "diamond"
         },
         "name": "12",
         "showlegend": false,
         "type": "scatter",
         "uid": "27fcbf90-d2fd-4d4c-b8db-9e70065bf2a2",
         "x": [
          11000,
          11450,
          11900,
          12350,
          12800,
          13250,
          13700,
          14150,
          14600,
          15050,
          15500,
          15950,
          16400,
          16850,
          17300,
          17750,
          18200,
          18650,
          19100,
          19550,
          20000
         ],
         "xaxis": "x",
         "y": [
          11533.554418901995,
          11597.331479911461,
          11657.889585168934,
          11762.268748636763,
          11775.917513051456,
          11764.967895422506,
          11676.073086637227,
          11650.112617143857,
          11594.258946050913,
          11522.736351585567,
          11444.191999379364,
          11366.855615514283,
          11333.428810955658,
          11291.115455484682,
          11165.546445726966,
          11084.736032809735,
          11050.699407674529,
          10978.54248596981,
          10849.291930009682,
          10738.957956164411
         ],
         "yaxis": "y"
        },
        {
         "legendgroup": "group-11",
         "line": {
          "color": "#bcff3a"
         },
         "marker": {
          "size": 3,
          "symbol": "diamond"
         },
         "name": "12",
         "type": "scatter",
         "uid": "e20bc019-d31f-4994-a97e-f2702309862e",
         "x": [
          11000,
          11450,
          11900,
          12350,
          12800,
          13250,
          13700,
          14150,
          14600,
          15050,
          15500,
          15950,
          16400,
          16850,
          17300,
          17750,
          18200,
          18650,
          19100,
          19550,
          20000
         ],
         "xaxis": "x2",
         "y": [
          0.4948141939783134,
          0.38257284907522643,
          0.31106318084797985,
          0.25245973709763675,
          0.21581879433960166,
          0.1894638080925602,
          0.1719798978313757,
          0.15370692887596543,
          0.140611753786461,
          0.13022103911735378,
          0.12114965913477613,
          0.1134082040590886,
          0.10508702258326932,
          0.09835950384020824,
          0.09505240961204943,
          0.09082482658920112,
          0.08538454480911349,
          0.08166191691747998,
          0.0799399239764927,
          0.07767439247279284
         ],
         "yaxis": "y2"
        },
        {
         "legendgroup": "group-12",
         "line": {
          "color": "#e8ff0f"
         },
         "marker": {
          "size": 3,
          "symbol": "diamond"
         },
         "name": "13",
         "showlegend": false,
         "type": "scatter",
         "uid": "5f739ba0-1719-4ba5-b651-133c9717eedc",
         "x": [
          11000,
          11450,
          11900,
          12350,
          12800,
          13250,
          13700,
          14150,
          14600,
          15050,
          15500,
          15950,
          16400,
          16850,
          17300,
          17750,
          18200,
          18650,
          19100,
          19550,
          20000
         ],
         "xaxis": "x",
         "y": [
          10680.784661378812,
          10845.542429380755,
          10944.815192934726,
          10993.087317815412,
          11012.940076484394,
          10887.379427963211,
          10983.662316167121,
          11024.751388763907,
          10943.797478820637,
          10891.467325909394,
          10825.79202489999,
          10805.557529364292,
          10706.591895210207,
          10571.784653112927,
          10496.275695177474,
          10402.1202278362,
          10301.441469400985,
          10238.491096739823,
          10147.574803160998,
          10007.566464221134
         ],
         "yaxis": "y"
        },
        {
         "legendgroup": "group-12",
         "line": {
          "color": "#e8ff0f"
         },
         "marker": {
          "size": 3,
          "symbol": "diamond"
         },
         "name": "13",
         "type": "scatter",
         "uid": "6cabf403-7b80-4038-a2aa-3dbab4ed01d2",
         "x": [
          11000,
          11450,
          11900,
          12350,
          12800,
          13250,
          13700,
          14150,
          14600,
          15050,
          15500,
          15950,
          16400,
          16850,
          17300,
          17750,
          18200,
          18650,
          19100,
          19550,
          20000
         ],
         "xaxis": "x2",
         "y": [
          0.4392810715699427,
          0.32903573292536575,
          0.2641712463741873,
          0.2199520853515653,
          0.18797841086098377,
          0.170137181865149,
          0.14523399235417983,
          0.12811695433348316,
          0.11796293005695968,
          0.10851866860126855,
          0.10078020724639422,
          0.09253446911219322,
          0.08798570551552642,
          0.08508103522642106,
          0.0807247405411672,
          0.07763414575866073,
          0.07474110201651679,
          0.0714984171727841,
          0.0694441864787546,
          0.06840896856885523
         ],
         "yaxis": "y2"
        },
        {
         "legendgroup": "group-13",
         "line": {
          "color": "#ffd500"
         },
         "marker": {
          "size": 3,
          "symbol": "diamond"
         },
         "name": "14",
         "showlegend": false,
         "type": "scatter",
         "uid": "51b1e8d4-4c7d-4717-9bf8-50a3df451ba3",
         "x": [
          11000,
          11450,
          11900,
          12350,
          12800,
          13250,
          13700,
          14150,
          14600,
          15050,
          15500,
          15950,
          16400,
          16850,
          17300,
          17750,
          18200,
          18650,
          19100,
          19550,
          20000
         ],
         "xaxis": "x",
         "y": [
          11437.1881296405,
          11528.701578025972,
          11640.449468780576,
          11710.818603845562,
          11646.852339390707,
          11571.106855857402,
          11529.130018047732,
          11506.724477504918,
          11494.473536577672,
          11432.760918872278,
          11378.137918263288,
          11302.85507985749,
          11244.631327203226,
          11103.724838190863,
          11017.941987416276,
          10957.21181370234,
          10894.703106138699,
          10810.029601198734,
          10701.185949495191,
          10638.391439708332
         ],
         "yaxis": "y"
        },
        {
         "legendgroup": "group-13",
         "line": {
          "color": "#ffd500"
         },
         "marker": {
          "size": 3,
          "symbol": "diamond"
         },
         "name": "14",
         "type": "scatter",
         "uid": "291c787d-1c5b-4573-b72b-a3b90362088b",
         "x": [
          11000,
          11450,
          11900,
          12350,
          12800,
          13250,
          13700,
          14150,
          14600,
          15050,
          15500,
          15950,
          16400,
          16850,
          17300,
          17750,
          18200,
          18650,
          19100,
          19550,
          20000
         ],
         "xaxis": "x2",
         "y": [
          0.496748999005708,
          0.3812215660301211,
          0.30281560573624655,
          0.2509255408599759,
          0.22073539638977296,
          0.19671394396283887,
          0.1757145473403329,
          0.15768917292428547,
          0.14088198326667611,
          0.13004325009218778,
          0.12095401797605762,
          0.11383288002950714,
          0.10689215533606816,
          0.10296885131622671,
          0.09780859456526698,
          0.09289643546287567,
          0.08854171082989812,
          0.08517563107205485,
          0.08229688721693082,
          0.07896773667540807
         ],
         "yaxis": "y2"
        },
        {
         "legendgroup": "group-14",
         "line": {
          "color": "#ffa400"
         },
         "marker": {
          "size": 3,
          "symbol": "diamond"
         },
         "name": "15",
         "showlegend": false,
         "type": "scatter",
         "uid": "c039df3e-2748-44f0-996d-f40ab541593e",
         "x": [
          11000,
          11450,
          11900,
          12350,
          12800,
          13250,
          13700,
          14150,
          14600,
          15050,
          15500,
          15950,
          16400,
          16850,
          17300,
          17750,
          18200,
          18650,
          19100,
          19550,
          20000
         ],
         "xaxis": "x",
         "y": [
          10637.774893389853,
          10870.528741129221,
          10979.20752094891,
          11029.889850247846,
          11017.830301775746,
          11002.647926802321,
          11063.176163639557,
          11043.320343340587,
          10953.590586704851,
          10884.149702433244,
          10832.042108059699,
          10746.120711685187,
          10638.764813827649,
          10558.09227679894,
          10449.107297019238,
          10350.60274211199,
          10298.783130265036,
          10276.173311434013,
          10189.139086635258,
          10056.484838218224
         ],
         "yaxis": "y"
        },
        {
         "legendgroup": "group-14",
         "line": {
          "color": "#ffa400"
         },
         "marker": {
          "size": 3,
          "symbol": "diamond"
         },
         "name": "15",
         "type": "scatter",
         "uid": "d2e09742-2afc-4a8f-bfc5-eceb3e95bab3",
         "x": [
          11000,
          11450,
          11900,
          12350,
          12800,
          13250,
          13700,
          14150,
          14600,
          15050,
          15500,
          15950,
          16400,
          16850,
          17300,
          17750,
          18200,
          18650,
          19100,
          19550,
          20000
         ],
         "xaxis": "x2",
         "y": [
          0.4526680078126913,
          0.33058475741331017,
          0.26470724647387744,
          0.21904485046383979,
          0.188818847281167,
          0.16619738171025455,
          0.14364374771990304,
          0.12786787360034071,
          0.11791465883989272,
          0.10890874790265448,
          0.10128370560742415,
          0.09532106076096122,
          0.09066498376561384,
          0.08579078573787756,
          0.0823404365028928,
          0.07946786802086912,
          0.07534113146002487,
          0.0712852113867502,
          0.06888107318726494,
          0.06764365885322746
         ],
         "yaxis": "y2"
        },
        {
         "legendgroup": "group-15",
         "line": {
          "color": "#ff7200"
         },
         "marker": {
          "size": 3,
          "symbol": "diamond"
         },
         "name": "16",
         "showlegend": false,
         "type": "scatter",
         "uid": "a8563e88-3a4e-4dd9-9445-860d2b6677a5",
         "x": [
          11000,
          11450,
          11900,
          12350,
          12800,
          13250,
          13700,
          14150,
          14600,
          15050,
          15500,
          15950,
          16400,
          16850,
          17300,
          17750,
          18200,
          18650,
          19100,
          19550,
          20000
         ],
         "xaxis": "x",
         "y": [
          11420.979987138982,
          11498.337813102757,
          11639.50519134857,
          11664.640617469393,
          11701.728912830438,
          11711.923994447285,
          11712.746596833955,
          11591.269112378643,
          11449.641897841511,
          11435.511892435268,
          11421.346117783407,
          11334.210896883855,
          11278.258459816647,
          11196.477817740706,
          11110.138994066976,
          11076.434179727443,
          10994.477287359596,
          10901.218261650312,
          10835.518224745436,
          10711.037322641674
         ],
         "yaxis": "y"
        },
        {
         "legendgroup": "group-15",
         "line": {
          "color": "#ff7200"
         },
         "marker": {
          "size": 3,
          "symbol": "diamond"
         },
         "name": "16",
         "type": "scatter",
         "uid": "0ba0586e-3af6-49b7-9f3d-53f15c7f262c",
         "x": [
          11000,
          11450,
          11900,
          12350,
          12800,
          13250,
          13700,
          14150,
          14600,
          15050,
          15500,
          15950,
          16400,
          16850,
          17300,
          17750,
          18200,
          18650,
          19100,
          19550,
          20000
         ],
         "xaxis": "x2",
         "y": [
          0.499488409187315,
          0.3838690951817617,
          0.3021805815991795,
          0.2514540281230128,
          0.21646073068279542,
          0.18685687485230784,
          0.1645500999365563,
          0.15175502590148646,
          0.14351458248462712,
          0.1299336743288275,
          0.119700298487092,
          0.11242807247877903,
          0.1050015370491853,
          0.10013529821734288,
          0.0953538109300313,
          0.08940156113165973,
          0.08572755303725668,
          0.08269382665953516,
          0.078848332684631,
          0.07701183515664956
         ],
         "yaxis": "y2"
        },
        {
         "legendgroup": "group-16",
         "line": {
          "color": "#ff4000"
         },
         "marker": {
          "size": 3,
          "symbol": "diamond"
         },
         "name": "17",
         "showlegend": false,
         "type": "scatter",
         "uid": "7614046e-8fbc-464d-8bba-c8c87bcc1501",
         "x": [
          11000,
          11450,
          11900,
          12350,
          12800,
          13250,
          13700,
          14150,
          14600,
          15050,
          15500,
          15950,
          16400,
          16850,
          17300,
          17750,
          18200,
          18650,
          19100,
          19550,
          20000
         ],
         "xaxis": "x",
         "y": [
          10691.849844972343,
          10881.252759643585,
          11024.600489102355,
          11008.926530015478,
          11076.894883262032,
          11042.045711965855,
          11063.168036579458,
          11070.578559634352,
          11044.691764194673,
          10970.651612456735,
          10980.886609307676,
          10896.00342966283,
          10767.599990699178,
          10635.613994162504,
          10472.846994215468,
          10456.66200657222,
          10434.295581872158,
          10327.027592056353,
          10213.726635393015,
          10093.310125127553
         ],
         "yaxis": "y"
        },
        {
         "legendgroup": "group-16",
         "line": {
          "color": "#ff4000"
         },
         "marker": {
          "size": 3,
          "symbol": "diamond"
         },
         "name": "17",
         "type": "scatter",
         "uid": "635aecf4-11d2-4c69-9a6c-e9b965732488",
         "x": [
          11000,
          11450,
          11900,
          12350,
          12800,
          13250,
          13700,
          14150,
          14600,
          15050,
          15500,
          15950,
          16400,
          16850,
          17300,
          17750,
          18200,
          18650,
          19100,
          19550,
          20000
         ],
         "xaxis": "x2",
         "y": [
          0.44748184768936483,
          0.33018100359144903,
          0.2613079590931391,
          0.22319723997674626,
          0.18648857521767323,
          0.1640901983224348,
          0.14317470745010233,
          0.1277823841658101,
          0.11521986036883337,
          0.10674911085099575,
          0.09736938639966038,
          0.0912338485549991,
          0.0873359525558151,
          0.08426006054625763,
          0.0822766882554767,
          0.0770967898467087,
          0.07276875021360169,
          0.07044586701292362,
          0.06864631513717323,
          0.06706138176935443
         ],
         "yaxis": "y2"
        },
        {
         "legendgroup": "group-17",
         "line": {
          "color": "#fa0e00"
         },
         "marker": {
          "size": 3,
          "symbol": "diamond"
         },
         "name": "18",
         "showlegend": false,
         "type": "scatter",
         "uid": "353565d2-dac4-4403-b046-84e9761e8e24",
         "x": [
          11000,
          11450,
          11900,
          12350,
          12800,
          13250,
          13700,
          14150,
          14600,
          15050,
          15500,
          15950,
          16400,
          16850,
          17300,
          17750,
          18200,
          18650,
          19100,
          19550,
          20000
         ],
         "xaxis": "x",
         "y": [
          11404.686443357921,
          11550.422153142581,
          11639.138876479621,
          11674.326225183811,
          11643.003281158295,
          11664.227712366752,
          11609.622899066353,
          11571.271663444122,
          11488.505154936476,
          11474.166472237957,
          11444.220668813343,
          11321.687644686788,
          11274.086211426791,
          11214.935163024827,
          11095.7159296552,
          11052.698086925739,
          10967.067499016344,
          10861.628943889627,
          10781.611365120527,
          10666.56171562961
         ],
         "yaxis": "y"
        },
        {
         "legendgroup": "group-17",
         "line": {
          "color": "#fa0e00"
         },
         "marker": {
          "size": 3,
          "symbol": "diamond"
         },
         "name": "18",
         "type": "scatter",
         "uid": "809619f5-d99c-448e-8d91-d81fc174720f",
         "x": [
          11000,
          11450,
          11900,
          12350,
          12800,
          13250,
          13700,
          14150,
          14600,
          15050,
          15500,
          15950,
          16400,
          16850,
          17300,
          17750,
          18200,
          18650,
          19100,
          19550,
          20000
         ],
         "xaxis": "x2",
         "y": [
          0.4977389437411596,
          0.37634490448691843,
          0.3031115960467388,
          0.25454492611413476,
          0.21950444294686317,
          0.18907039351524565,
          0.16921419174008417,
          0.1526550022612553,
          0.1416435654990689,
          0.12873970376797447,
          0.117732451218215,
          0.11197824402292651,
          0.10441814381550857,
          0.09792972279488406,
          0.09471757943639501,
          0.08914056698650659,
          0.08550392336785954,
          0.08272152497759402,
          0.07954222475461972,
          0.07756336057852237
         ],
         "yaxis": "y2"
        },
        {
         "legendgroup": "group-18",
         "line": {
          "color": "#bd0000"
         },
         "marker": {
          "size": 3,
          "symbol": "diamond"
         },
         "name": "19",
         "showlegend": false,
         "type": "scatter",
         "uid": "a186a755-3098-41c2-b1a5-ed8d311c3148",
         "x": [
          11000,
          11450,
          11900,
          12350,
          12800,
          13250,
          13700,
          14150,
          14600,
          15050,
          15500,
          15950,
          16400,
          16850,
          17300,
          17750,
          18200,
          18650,
          19100,
          19550,
          20000
         ],
         "xaxis": "x",
         "y": [
          10732.832305605065,
          10927.532745010047,
          10999.038295987173,
          11120.942823009347,
          11127.283737338126,
          11084.30280676812,
          11069.784812309364,
          11066.322559389619,
          11003.066376252807,
          10955.364192122894,
          10899.736539240288,
          10741.06863236137,
          10710.327383480128,
          10597.496226545389,
          10549.389773662053,
          10465.941519309627,
          10371.370420579678,
          10256.85257100142,
          10163.046966831698,
          10074.690533201088
         ],
         "yaxis": "y"
        },
        {
         "legendgroup": "group-18",
         "line": {
          "color": "#bd0000"
         },
         "marker": {
          "size": 3,
          "symbol": "diamond"
         },
         "name": "19",
         "type": "scatter",
         "uid": "aeceba21-85c7-4347-9928-a58ec1977914",
         "x": [
          11000,
          11450,
          11900,
          12350,
          12800,
          13250,
          13700,
          14150,
          14600,
          15050,
          15500,
          15950,
          16400,
          16850,
          17300,
          17750,
          18200,
          18650,
          19100,
          19550,
          20000
         ],
         "xaxis": "x2",
         "y": [
          0.44443637159123983,
          0.3301963495493953,
          0.26475209661040167,
          0.21476367292060317,
          0.1841100166964522,
          0.16259081949317192,
          0.143853601724972,
          0.12756474449212685,
          0.11696925559066805,
          0.10710041470268136,
          0.09912187964115514,
          0.09650204436463768,
          0.08985914755672528,
          0.08622238465789246,
          0.08092359794988353,
          0.07737849041147359,
          0.07453157832590498,
          0.07263537854976868,
          0.07025313296079846,
          0.06792936424027783
         ],
         "yaxis": "y2"
        },
        {
         "legendgroup": "group-19",
         "line": {
          "color": "#800000"
         },
         "marker": {
          "size": 3,
          "symbol": "diamond"
         },
         "name": "20",
         "showlegend": false,
         "type": "scatter",
         "uid": "71aaf0a1-f7b8-4362-8adf-83005e771f62",
         "x": [
          11000,
          11450,
          11900,
          12350,
          12800,
          13250,
          13700,
          14150,
          14600,
          15050,
          15500,
          15950,
          16400,
          16850,
          17300,
          17750,
          18200,
          18650,
          19100,
          19550,
          20000
         ],
         "xaxis": "x",
         "y": [
          10732.832305605065,
          10927.532745010047,
          10999.038295987173,
          11120.942823009347,
          11127.283737338126,
          11084.30280676812,
          11069.784812309364,
          11066.322559389619,
          11003.066376252807,
          10955.364192122894,
          10899.736539240288,
          10741.06863236137,
          10710.327383480128,
          10597.496226545389,
          10549.389773662053,
          10465.941519309627,
          10371.370420579678,
          10256.85257100142,
          10163.046966831698,
          10074.690533201088
         ],
         "yaxis": "y"
        },
        {
         "legendgroup": "group-19",
         "line": {
          "color": "#800000"
         },
         "marker": {
          "size": 3,
          "symbol": "diamond"
         },
         "name": "20",
         "type": "scatter",
         "uid": "3e2423b7-432a-4d5f-8c99-b3684e115fa4",
         "x": [
          11000,
          11450,
          11900,
          12350,
          12800,
          13250,
          13700,
          14150,
          14600,
          15050,
          15500,
          15950,
          16400,
          16850,
          17300,
          17750,
          18200,
          18650,
          19100,
          19550,
          20000
         ],
         "xaxis": "x2",
         "y": [
          0.44443637159123983,
          0.3301963495493953,
          0.26475209661040167,
          0.21476367292060317,
          0.1841100166964522,
          0.16259081949317192,
          0.143853601724972,
          0.12756474449212685,
          0.11696925559066805,
          0.10710041470268136,
          0.09912187964115514,
          0.09650204436463768,
          0.08985914755672528,
          0.08622238465789246,
          0.08092359794988353,
          0.07737849041147359,
          0.07453157832590498,
          0.07263537854976868,
          0.07025313296079846,
          0.06792936424027783
         ],
         "yaxis": "y2"
        }
       ],
       "_js2py_layoutDelta": {
        "layout_delta": {
         "activeshape": {
          "fillcolor": "rgb(255,0,255)",
          "opacity": 0.5
         },
         "annotations": [],
         "autotypenumbers": "strict",
         "calendar": "gregorian",
         "clickmode": "event",
         "colorscale": {
          "diverging": [
           [
            0,
            "#8e0152"
           ],
           [
            0.1,
            "#c51b7d"
           ],
           [
            0.2,
            "#de77ae"
           ],
           [
            0.3,
            "#f1b6da"
           ],
           [
            0.4,
            "#fde0ef"
           ],
           [
            0.5,
            "#f7f7f7"
           ],
           [
            0.6,
            "#e6f5d0"
           ],
           [
            0.7,
            "#b8e186"
           ],
           [
            0.8,
            "#7fbc41"
           ],
           [
            0.9,
            "#4d9221"
           ],
           [
            1,
            "#276419"
           ]
          ],
          "sequential": [
           [
            0,
            "#0d0887"
           ],
           [
            0.1111111111111111,
            "#46039f"
           ],
           [
            0.2222222222222222,
            "#7201a8"
           ],
           [
            0.3333333333333333,
            "#9c179e"
           ],
           [
            0.4444444444444444,
            "#bd3786"
           ],
           [
            0.5555555555555556,
            "#d8576b"
           ],
           [
            0.6666666666666666,
            "#ed7953"
           ],
           [
            0.7777777777777778,
            "#fb9f3a"
           ],
           [
            0.8888888888888888,
            "#fdca26"
           ],
           [
            1,
            "#f0f921"
           ]
          ],
          "sequentialminus": [
           [
            0,
            "#0d0887"
           ],
           [
            0.1111111111111111,
            "#46039f"
           ],
           [
            0.2222222222222222,
            "#7201a8"
           ],
           [
            0.3333333333333333,
            "#9c179e"
           ],
           [
            0.4444444444444444,
            "#bd3786"
           ],
           [
            0.5555555555555556,
            "#d8576b"
           ],
           [
            0.6666666666666666,
            "#ed7953"
           ],
           [
            0.7777777777777778,
            "#fb9f3a"
           ],
           [
            0.8888888888888888,
            "#fdca26"
           ],
           [
            1,
            "#f0f921"
           ]
          ]
         },
         "colorway": [
          "#636efa",
          "#EF553B",
          "#00cc96",
          "#ab63fa",
          "#FFA15A",
          "#19d3f3",
          "#FF6692",
          "#B6E880",
          "#FF97FF",
          "#FECB52"
         ],
         "dragmode": "zoom",
         "font": {
          "color": "#2a3f5f",
          "family": "\"Open Sans\", verdana, arial, sans-serif",
          "size": 12
         },
         "height": 486,
         "hoverdistance": 20,
         "hoverlabel": {
          "align": "left",
          "font": {
           "family": "Arial, sans-serif",
           "size": 13
          },
          "namelength": 15
         },
         "hovermode": "closest",
         "images": [],
         "legend": {
          "bgcolor": "white",
          "bordercolor": "#444",
          "borderwidth": 0,
          "font": {
           "color": "#2a3f5f",
           "family": "\"Open Sans\", verdana, arial, sans-serif",
           "size": 12
          },
          "itemclick": "toggle",
          "itemdoubleclick": "toggleothers",
          "itemsizing": "trace",
          "itemwidth": 30,
          "orientation": "v",
          "title": {
           "font": {
            "color": "#2a3f5f",
            "family": "\"Open Sans\", verdana, arial, sans-serif",
            "size": 12
           },
           "side": "top"
          },
          "traceorder": "grouped",
          "valign": "middle",
          "x": 1.02,
          "xanchor": "left",
          "y": 1,
          "yanchor": "auto"
         },
         "margin": {
          "autoexpand": true
         },
         "modebar": {
          "activecolor": "rgba(68, 68, 68, 0.7)",
          "bgcolor": "rgba(255, 255, 255, 0.5)",
          "color": "rgba(68, 68, 68, 0.3)",
          "orientation": "h"
         },
         "newshape": {
          "drawdirection": "diagonal",
          "fillcolor": "rgba(0,0,0,0)",
          "fillrule": "evenodd",
          "layer": "above",
          "line": {
           "color": "#444",
           "dash": "solid",
           "width": 4
          },
          "opacity": 1
         },
         "paper_bgcolor": "white",
         "plot_bgcolor": "#E5ECF6",
         "separators": ".,",
         "shapes": [],
         "showlegend": true,
         "sliders": [],
         "spikedistance": 20,
         "title": {
          "font": {
           "color": "#2a3f5f",
           "family": "\"Open Sans\", verdana, arial, sans-serif",
           "size": 17
          },
          "pad": {
           "b": 0,
           "l": 0,
           "r": 0,
           "t": 0
          },
          "text": "Click to enter Plot title",
          "x": 0.05,
          "xanchor": "auto",
          "xref": "container",
          "y": "auto",
          "yanchor": "auto",
          "yref": "container"
         },
         "uniformtext": {
          "mode": false
         },
         "updatemenus": [],
         "width": 966.812,
         "xaxis": {
          "automargin": true,
          "autorange": true,
          "autotypenumbers": "strict",
          "color": "#444",
          "constrain": "range",
          "constraintoward": "center",
          "dtick": 2000,
          "fixedrange": false,
          "gridcolor": "white",
          "gridwidth": 1,
          "hoverformat": "",
          "layer": "above traces",
          "nticks": 0,
          "overlaying": false,
          "range": [
           11000,
           19550
          ],
          "rangemode": "normal",
          "showgrid": true,
          "showline": false,
          "showspikes": false,
          "showticklabels": true,
          "side": "bottom",
          "tick0": 0,
          "tickangle": "auto",
          "tickfont": {
           "color": "#2a3f5f",
           "family": "\"Open Sans\", verdana, arial, sans-serif",
           "size": 12
          },
          "ticklabelposition": "outside",
          "tickmode": "auto",
          "tickprefix": "",
          "ticks": "",
          "ticksuffix": "",
          "title": {
           "font": {
            "color": "#2a3f5f",
            "family": "\"Open Sans\", verdana, arial, sans-serif",
            "size": 14
           },
           "standoff": 15
          },
          "type": "linear",
          "visible": true,
          "zeroline": true,
          "zerolinecolor": "white",
          "zerolinewidth": 2
         },
         "xaxis2": {
          "automargin": true,
          "autorange": true,
          "autotypenumbers": "strict",
          "color": "#444",
          "constrain": "range",
          "constraintoward": "center",
          "dtick": 2000,
          "fixedrange": false,
          "gridcolor": "white",
          "gridwidth": 1,
          "hoverformat": "",
          "layer": "above traces",
          "nticks": 0,
          "overlaying": false,
          "range": [
           11000,
           19550
          ],
          "rangemode": "normal",
          "showgrid": true,
          "showline": false,
          "showspikes": false,
          "showticklabels": true,
          "side": "bottom",
          "tick0": 0,
          "tickangle": "auto",
          "tickfont": {
           "color": "#2a3f5f",
           "family": "\"Open Sans\", verdana, arial, sans-serif",
           "size": 12
          },
          "ticklabelposition": "outside",
          "tickmode": "auto",
          "tickprefix": "",
          "ticks": "",
          "ticksuffix": "",
          "title": {
           "font": {
            "color": "#2a3f5f",
            "family": "\"Open Sans\", verdana, arial, sans-serif",
            "size": 14
           },
           "standoff": 15
          },
          "type": "linear",
          "visible": true,
          "zeroline": true,
          "zerolinecolor": "white",
          "zerolinewidth": 2
         },
         "yaxis": {
          "automargin": true,
          "autorange": false,
          "autotypenumbers": "strict",
          "color": "#444",
          "constrain": "range",
          "constraintoward": "middle",
          "dtick": 1000,
          "fixedrange": false,
          "gridcolor": "white",
          "gridwidth": 1,
          "hoverformat": "",
          "layer": "above traces",
          "nticks": 0,
          "overlaying": false,
          "showgrid": true,
          "showline": false,
          "showspikes": false,
          "showticklabels": true,
          "side": "left",
          "tick0": 0,
          "tickangle": "auto",
          "tickfont": {
           "color": "#2a3f5f",
           "family": "\"Open Sans\", verdana, arial, sans-serif",
           "size": 12
          },
          "ticklabelposition": "outside",
          "tickmode": "auto",
          "tickprefix": "",
          "ticks": "",
          "ticksuffix": "",
          "title": {
           "font": {
            "color": "#2a3f5f",
            "family": "\"Open Sans\", verdana, arial, sans-serif",
            "size": 14
           },
           "standoff": 15
          },
          "type": "linear",
          "visible": true,
          "zeroline": true,
          "zerolinecolor": "white",
          "zerolinewidth": 2
         },
         "yaxis2": {
          "automargin": true,
          "autorange": true,
          "autotypenumbers": "strict",
          "color": "#444",
          "constrain": "range",
          "constraintoward": "middle",
          "dtick": 0.1,
          "exponentformat": "B",
          "fixedrange": false,
          "gridcolor": "white",
          "gridwidth": 1,
          "hoverformat": "",
          "layer": "above traces",
          "minexponent": 3,
          "nticks": 0,
          "overlaying": false,
          "range": [
           0.0401654353627916,
           0.5754347702245749
          ],
          "rangemode": "normal",
          "separatethousands": false,
          "showexponent": "all",
          "showgrid": true,
          "showline": false,
          "showspikes": false,
          "showticklabels": true,
          "side": "left",
          "tick0": 0,
          "tickangle": "auto",
          "tickfont": {
           "color": "#2a3f5f",
           "family": "\"Open Sans\", verdana, arial, sans-serif",
           "size": 12
          },
          "tickformat": "",
          "ticklabelposition": "outside",
          "tickmode": "auto",
          "tickprefix": "",
          "ticks": "",
          "ticksuffix": "",
          "title": {
           "font": {
            "color": "#2a3f5f",
            "family": "\"Open Sans\", verdana, arial, sans-serif",
            "size": 14
           },
           "standoff": 15
          },
          "type": "linear",
          "visible": true,
          "zeroline": true,
          "zerolinecolor": "white",
          "zerolinewidth": 2
         }
        },
        "layout_edit_id": 58
       },
       "_js2py_pointsCallback": {},
       "_js2py_relayout": {
        "relayout_data": {
         "autosize": true
        },
        "source_view_id": "8ce4cd"
       },
       "_js2py_restyle": {},
       "_js2py_traceDeltas": {
        "trace_deltas": [
         {
          "hoverinfo": "all",
          "hoverlabel": {
           "align": "left",
           "font": {
            "family": "Arial, sans-serif",
            "size": 13
           },
           "namelength": 15
          },
          "index": 0,
          "legendgroup": "",
          "name": "trace 0",
          "showlegend": true,
          "uid": "4ca58976-9e95-4383-ae85-df5fba6ef0d7",
          "visible": false,
          "xcalendar": "gregorian",
          "ycalendar": "gregorian"
         },
         {
          "hoverinfo": "all",
          "hoverlabel": {
           "align": "left",
           "font": {
            "family": "Arial, sans-serif",
            "size": 13
           },
           "namelength": 15
          },
          "index": 1,
          "legendgroup": "",
          "name": "trace 1",
          "showlegend": true,
          "uid": "39bb09b7-ad75-44f7-9bf0-cc218dec793e",
          "visible": false,
          "xcalendar": "gregorian",
          "ycalendar": "gregorian"
         },
         {
          "connectgaps": false,
          "error_x": {
           "visible": false
          },
          "error_y": {
           "visible": false
          },
          "fill": "none",
          "hoverinfo": "all",
          "hoverlabel": {
           "align": "left",
           "font": {
            "family": "Arial, sans-serif",
            "size": 13
           },
           "namelength": 15
          },
          "hoveron": "points",
          "hovertemplate": "",
          "hovertext": "",
          "index": 2,
          "line": {
           "dash": "solid",
           "shape": "linear",
           "simplify": true,
           "width": 2
          },
          "mode": "lines",
          "opacity": 1,
          "stackgroup": "",
          "text": "",
          "uid": "898b6f57-db2c-415d-83a3-0e2eef90256e",
          "visible": true,
          "xcalendar": "gregorian",
          "xperiod": 0,
          "ycalendar": "gregorian",
          "yperiod": 0
         },
         {
          "connectgaps": false,
          "error_x": {
           "visible": false
          },
          "error_y": {
           "visible": false
          },
          "fill": "none",
          "hoverinfo": "all",
          "hoverlabel": {
           "align": "left",
           "font": {
            "family": "Arial, sans-serif",
            "size": 13
           },
           "namelength": 15
          },
          "hoveron": "points",
          "hovertemplate": "",
          "hovertext": "",
          "index": 3,
          "line": {
           "dash": "solid",
           "shape": "linear",
           "simplify": true,
           "width": 2
          },
          "mode": "lines",
          "opacity": 1,
          "showlegend": true,
          "stackgroup": "",
          "text": "",
          "uid": "2a337948-0850-4be1-af98-4e70a7747169",
          "visible": true,
          "xcalendar": "gregorian",
          "xperiod": 0,
          "ycalendar": "gregorian",
          "yperiod": 0
         },
         {
          "connectgaps": false,
          "error_x": {
           "visible": false
          },
          "error_y": {
           "visible": false
          },
          "fill": "none",
          "hoverinfo": "all",
          "hoverlabel": {
           "align": "left",
           "font": {
            "family": "Arial, sans-serif",
            "size": 13
           },
           "namelength": 15
          },
          "hoveron": "points",
          "hovertemplate": "",
          "hovertext": "",
          "index": 4,
          "line": {
           "dash": "solid",
           "shape": "linear",
           "simplify": true,
           "width": 2
          },
          "mode": "lines",
          "opacity": 1,
          "stackgroup": "",
          "text": "",
          "uid": "776160fd-0db0-4e92-a615-b650092a8b6b",
          "visible": true,
          "xcalendar": "gregorian",
          "xperiod": 0,
          "ycalendar": "gregorian",
          "yperiod": 0
         },
         {
          "connectgaps": false,
          "error_x": {
           "visible": false
          },
          "error_y": {
           "visible": false
          },
          "fill": "none",
          "hoverinfo": "all",
          "hoverlabel": {
           "align": "left",
           "font": {
            "family": "Arial, sans-serif",
            "size": 13
           },
           "namelength": 15
          },
          "hoveron": "points",
          "hovertemplate": "",
          "hovertext": "",
          "index": 5,
          "line": {
           "dash": "solid",
           "shape": "linear",
           "simplify": true,
           "width": 2
          },
          "mode": "lines",
          "opacity": 1,
          "showlegend": true,
          "stackgroup": "",
          "text": "",
          "uid": "cb7f7c8a-12dc-49ce-a208-cace17ecfb73",
          "visible": true,
          "xcalendar": "gregorian",
          "xperiod": 0,
          "ycalendar": "gregorian",
          "yperiod": 0
         },
         {
          "connectgaps": false,
          "error_x": {
           "visible": false
          },
          "error_y": {
           "visible": false
          },
          "fill": "none",
          "hoverinfo": "all",
          "hoverlabel": {
           "align": "left",
           "font": {
            "family": "Arial, sans-serif",
            "size": 13
           },
           "namelength": 15
          },
          "hoveron": "points",
          "hovertemplate": "",
          "hovertext": "",
          "index": 6,
          "line": {
           "dash": "solid",
           "shape": "linear",
           "simplify": true,
           "width": 2
          },
          "mode": "lines",
          "opacity": 1,
          "stackgroup": "",
          "text": "",
          "uid": "1bad1f8e-8316-40ac-bb2c-37ac579a661b",
          "visible": true,
          "xcalendar": "gregorian",
          "xperiod": 0,
          "ycalendar": "gregorian",
          "yperiod": 0
         },
         {
          "connectgaps": false,
          "error_x": {
           "visible": false
          },
          "error_y": {
           "visible": false
          },
          "fill": "none",
          "hoverinfo": "all",
          "hoverlabel": {
           "align": "left",
           "font": {
            "family": "Arial, sans-serif",
            "size": 13
           },
           "namelength": 15
          },
          "hoveron": "points",
          "hovertemplate": "",
          "hovertext": "",
          "index": 7,
          "line": {
           "dash": "solid",
           "shape": "linear",
           "simplify": true,
           "width": 2
          },
          "mode": "lines",
          "opacity": 1,
          "showlegend": true,
          "stackgroup": "",
          "text": "",
          "uid": "95141482-530e-4eef-91d8-e5a0fd93d2b2",
          "visible": true,
          "xcalendar": "gregorian",
          "xperiod": 0,
          "ycalendar": "gregorian",
          "yperiod": 0
         },
         {
          "connectgaps": false,
          "error_x": {
           "visible": false
          },
          "error_y": {
           "visible": false
          },
          "fill": "none",
          "hoverinfo": "all",
          "hoverlabel": {
           "align": "left",
           "font": {
            "family": "Arial, sans-serif",
            "size": 13
           },
           "namelength": 15
          },
          "hoveron": "points",
          "hovertemplate": "",
          "hovertext": "",
          "index": 8,
          "line": {
           "dash": "solid",
           "shape": "linear",
           "simplify": true,
           "width": 2
          },
          "mode": "lines",
          "opacity": 1,
          "stackgroup": "",
          "text": "",
          "uid": "4c1d7629-65ea-440d-9064-30d182eea79d",
          "visible": true,
          "xcalendar": "gregorian",
          "xperiod": 0,
          "ycalendar": "gregorian",
          "yperiod": 0
         },
         {
          "connectgaps": false,
          "error_x": {
           "visible": false
          },
          "error_y": {
           "visible": false
          },
          "fill": "none",
          "hoverinfo": "all",
          "hoverlabel": {
           "align": "left",
           "font": {
            "family": "Arial, sans-serif",
            "size": 13
           },
           "namelength": 15
          },
          "hoveron": "points",
          "hovertemplate": "",
          "hovertext": "",
          "index": 9,
          "line": {
           "dash": "solid",
           "shape": "linear",
           "simplify": true,
           "width": 2
          },
          "mode": "lines",
          "opacity": 1,
          "showlegend": true,
          "stackgroup": "",
          "text": "",
          "uid": "79a1b649-3a61-464f-b81a-62bb41ceaed7",
          "visible": true,
          "xcalendar": "gregorian",
          "xperiod": 0,
          "ycalendar": "gregorian",
          "yperiod": 0
         },
         {
          "connectgaps": false,
          "error_x": {
           "visible": false
          },
          "error_y": {
           "visible": false
          },
          "fill": "none",
          "hoverinfo": "all",
          "hoverlabel": {
           "align": "left",
           "font": {
            "family": "Arial, sans-serif",
            "size": 13
           },
           "namelength": 15
          },
          "hoveron": "points",
          "hovertemplate": "",
          "hovertext": "",
          "index": 10,
          "line": {
           "dash": "solid",
           "shape": "linear",
           "simplify": true,
           "width": 2
          },
          "mode": "lines",
          "opacity": 1,
          "stackgroup": "",
          "text": "",
          "uid": "0ac0f510-71f2-4b3f-bfad-9d4a28fa038a",
          "visible": true,
          "xcalendar": "gregorian",
          "xperiod": 0,
          "ycalendar": "gregorian",
          "yperiod": 0
         },
         {
          "connectgaps": false,
          "error_x": {
           "visible": false
          },
          "error_y": {
           "visible": false
          },
          "fill": "none",
          "hoverinfo": "all",
          "hoverlabel": {
           "align": "left",
           "font": {
            "family": "Arial, sans-serif",
            "size": 13
           },
           "namelength": 15
          },
          "hoveron": "points",
          "hovertemplate": "",
          "hovertext": "",
          "index": 11,
          "line": {
           "dash": "solid",
           "shape": "linear",
           "simplify": true,
           "width": 2
          },
          "mode": "lines",
          "opacity": 1,
          "showlegend": true,
          "stackgroup": "",
          "text": "",
          "uid": "96546401-c7f2-4da3-8c9e-2d25d18db5f5",
          "visible": true,
          "xcalendar": "gregorian",
          "xperiod": 0,
          "ycalendar": "gregorian",
          "yperiod": 0
         },
         {
          "connectgaps": false,
          "error_x": {
           "visible": false
          },
          "error_y": {
           "visible": false
          },
          "fill": "none",
          "hoverinfo": "all",
          "hoverlabel": {
           "align": "left",
           "font": {
            "family": "Arial, sans-serif",
            "size": 13
           },
           "namelength": 15
          },
          "hoveron": "points",
          "hovertemplate": "",
          "hovertext": "",
          "index": 12,
          "line": {
           "dash": "solid",
           "shape": "linear",
           "simplify": true,
           "width": 2
          },
          "mode": "lines",
          "opacity": 1,
          "stackgroup": "",
          "text": "",
          "uid": "0c43e840-b898-42f0-80ef-a8e452ca37c3",
          "visible": true,
          "xcalendar": "gregorian",
          "xperiod": 0,
          "ycalendar": "gregorian",
          "yperiod": 0
         },
         {
          "connectgaps": false,
          "error_x": {
           "visible": false
          },
          "error_y": {
           "visible": false
          },
          "fill": "none",
          "hoverinfo": "all",
          "hoverlabel": {
           "align": "left",
           "font": {
            "family": "Arial, sans-serif",
            "size": 13
           },
           "namelength": 15
          },
          "hoveron": "points",
          "hovertemplate": "",
          "hovertext": "",
          "index": 13,
          "line": {
           "dash": "solid",
           "shape": "linear",
           "simplify": true,
           "width": 2
          },
          "mode": "lines",
          "opacity": 1,
          "showlegend": true,
          "stackgroup": "",
          "text": "",
          "uid": "65eb82c5-cc72-4d33-a8f8-5cbc26075b27",
          "visible": true,
          "xcalendar": "gregorian",
          "xperiod": 0,
          "ycalendar": "gregorian",
          "yperiod": 0
         },
         {
          "connectgaps": false,
          "error_x": {
           "visible": false
          },
          "error_y": {
           "visible": false
          },
          "fill": "none",
          "hoverinfo": "all",
          "hoverlabel": {
           "align": "left",
           "font": {
            "family": "Arial, sans-serif",
            "size": 13
           },
           "namelength": 15
          },
          "hoveron": "points",
          "hovertemplate": "",
          "hovertext": "",
          "index": 14,
          "line": {
           "dash": "solid",
           "shape": "linear",
           "simplify": true,
           "width": 2
          },
          "mode": "lines",
          "opacity": 1,
          "stackgroup": "",
          "text": "",
          "uid": "e3a80f31-cdb4-4b35-8c65-81f51270d063",
          "visible": true,
          "xcalendar": "gregorian",
          "xperiod": 0,
          "ycalendar": "gregorian",
          "yperiod": 0
         },
         {
          "connectgaps": false,
          "error_x": {
           "visible": false
          },
          "error_y": {
           "visible": false
          },
          "fill": "none",
          "hoverinfo": "all",
          "hoverlabel": {
           "align": "left",
           "font": {
            "family": "Arial, sans-serif",
            "size": 13
           },
           "namelength": 15
          },
          "hoveron": "points",
          "hovertemplate": "",
          "hovertext": "",
          "index": 15,
          "line": {
           "dash": "solid",
           "shape": "linear",
           "simplify": true,
           "width": 2
          },
          "mode": "lines",
          "opacity": 1,
          "showlegend": true,
          "stackgroup": "",
          "text": "",
          "uid": "314be004-5cd5-4a7a-994d-bf424708a3a3",
          "visible": true,
          "xcalendar": "gregorian",
          "xperiod": 0,
          "ycalendar": "gregorian",
          "yperiod": 0
         },
         {
          "connectgaps": false,
          "error_x": {
           "visible": false
          },
          "error_y": {
           "visible": false
          },
          "fill": "none",
          "hoverinfo": "all",
          "hoverlabel": {
           "align": "left",
           "font": {
            "family": "Arial, sans-serif",
            "size": 13
           },
           "namelength": 15
          },
          "hoveron": "points",
          "hovertemplate": "",
          "hovertext": "",
          "index": 16,
          "line": {
           "dash": "solid",
           "shape": "linear",
           "simplify": true,
           "width": 2
          },
          "mode": "lines",
          "opacity": 1,
          "stackgroup": "",
          "text": "",
          "uid": "80125e4f-860b-4d3f-9ec9-dbe50a60a850",
          "visible": true,
          "xcalendar": "gregorian",
          "xperiod": 0,
          "ycalendar": "gregorian",
          "yperiod": 0
         },
         {
          "connectgaps": false,
          "error_x": {
           "visible": false
          },
          "error_y": {
           "visible": false
          },
          "fill": "none",
          "hoverinfo": "all",
          "hoverlabel": {
           "align": "left",
           "font": {
            "family": "Arial, sans-serif",
            "size": 13
           },
           "namelength": 15
          },
          "hoveron": "points",
          "hovertemplate": "",
          "hovertext": "",
          "index": 17,
          "line": {
           "dash": "solid",
           "shape": "linear",
           "simplify": true,
           "width": 2
          },
          "mode": "lines",
          "opacity": 1,
          "showlegend": true,
          "stackgroup": "",
          "text": "",
          "uid": "e24e15d3-aa66-4efd-82f5-29b44f050190",
          "visible": true,
          "xcalendar": "gregorian",
          "xperiod": 0,
          "ycalendar": "gregorian",
          "yperiod": 0
         },
         {
          "connectgaps": false,
          "error_x": {
           "visible": false
          },
          "error_y": {
           "visible": false
          },
          "fill": "none",
          "hoverinfo": "all",
          "hoverlabel": {
           "align": "left",
           "font": {
            "family": "Arial, sans-serif",
            "size": 13
           },
           "namelength": 15
          },
          "hoveron": "points",
          "hovertemplate": "",
          "hovertext": "",
          "index": 18,
          "line": {
           "dash": "solid",
           "shape": "linear",
           "simplify": true,
           "width": 2
          },
          "mode": "lines",
          "opacity": 1,
          "stackgroup": "",
          "text": "",
          "uid": "9417e2ab-2d2b-4849-8640-b6d844ea5ec7",
          "visible": true,
          "xcalendar": "gregorian",
          "xperiod": 0,
          "ycalendar": "gregorian",
          "yperiod": 0
         },
         {
          "connectgaps": false,
          "error_x": {
           "visible": false
          },
          "error_y": {
           "visible": false
          },
          "fill": "none",
          "hoverinfo": "all",
          "hoverlabel": {
           "align": "left",
           "font": {
            "family": "Arial, sans-serif",
            "size": 13
           },
           "namelength": 15
          },
          "hoveron": "points",
          "hovertemplate": "",
          "hovertext": "",
          "index": 19,
          "line": {
           "dash": "solid",
           "shape": "linear",
           "simplify": true,
           "width": 2
          },
          "mode": "lines",
          "opacity": 1,
          "showlegend": true,
          "stackgroup": "",
          "text": "",
          "uid": "95de37fb-8d4c-475e-aec7-84136e88aabf",
          "visible": true,
          "xcalendar": "gregorian",
          "xperiod": 0,
          "ycalendar": "gregorian",
          "yperiod": 0
         },
         {
          "connectgaps": false,
          "error_x": {
           "visible": false
          },
          "error_y": {
           "visible": false
          },
          "fill": "none",
          "hoverinfo": "all",
          "hoverlabel": {
           "align": "left",
           "font": {
            "family": "Arial, sans-serif",
            "size": 13
           },
           "namelength": 15
          },
          "hoveron": "points",
          "hovertemplate": "",
          "hovertext": "",
          "index": 20,
          "line": {
           "dash": "solid",
           "shape": "linear",
           "simplify": true,
           "width": 2
          },
          "mode": "lines",
          "opacity": 1,
          "stackgroup": "",
          "text": "",
          "uid": "075cba9d-1c81-4fcf-9fb9-291b0f639cd4",
          "visible": true,
          "xcalendar": "gregorian",
          "xperiod": 0,
          "ycalendar": "gregorian",
          "yperiod": 0
         },
         {
          "connectgaps": false,
          "error_x": {
           "visible": false
          },
          "error_y": {
           "visible": false
          },
          "fill": "none",
          "hoverinfo": "all",
          "hoverlabel": {
           "align": "left",
           "font": {
            "family": "Arial, sans-serif",
            "size": 13
           },
           "namelength": 15
          },
          "hoveron": "points",
          "hovertemplate": "",
          "hovertext": "",
          "index": 21,
          "line": {
           "dash": "solid",
           "shape": "linear",
           "simplify": true,
           "width": 2
          },
          "mode": "lines",
          "opacity": 1,
          "showlegend": true,
          "stackgroup": "",
          "text": "",
          "uid": "6a31e64f-6136-46d8-98f0-e91ff0866ac5",
          "visible": true,
          "xcalendar": "gregorian",
          "xperiod": 0,
          "ycalendar": "gregorian",
          "yperiod": 0
         },
         {
          "connectgaps": false,
          "error_x": {
           "visible": false
          },
          "error_y": {
           "visible": false
          },
          "fill": "none",
          "hoverinfo": "all",
          "hoverlabel": {
           "align": "left",
           "font": {
            "family": "Arial, sans-serif",
            "size": 13
           },
           "namelength": 15
          },
          "hoveron": "points",
          "hovertemplate": "",
          "hovertext": "",
          "index": 22,
          "line": {
           "dash": "solid",
           "shape": "linear",
           "simplify": true,
           "width": 2
          },
          "mode": "lines",
          "opacity": 1,
          "stackgroup": "",
          "text": "",
          "uid": "a81282b2-1e99-4860-a498-375e9c998904",
          "visible": true,
          "xcalendar": "gregorian",
          "xperiod": 0,
          "ycalendar": "gregorian",
          "yperiod": 0
         },
         {
          "connectgaps": false,
          "error_x": {
           "visible": false
          },
          "error_y": {
           "visible": false
          },
          "fill": "none",
          "hoverinfo": "all",
          "hoverlabel": {
           "align": "left",
           "font": {
            "family": "Arial, sans-serif",
            "size": 13
           },
           "namelength": 15
          },
          "hoveron": "points",
          "hovertemplate": "",
          "hovertext": "",
          "index": 23,
          "line": {
           "dash": "solid",
           "shape": "linear",
           "simplify": true,
           "width": 2
          },
          "mode": "lines",
          "opacity": 1,
          "showlegend": true,
          "stackgroup": "",
          "text": "",
          "uid": "29698eb0-059b-4448-baa3-a8c4622463cc",
          "visible": true,
          "xcalendar": "gregorian",
          "xperiod": 0,
          "ycalendar": "gregorian",
          "yperiod": 0
         },
         {
          "connectgaps": false,
          "error_x": {
           "visible": false
          },
          "error_y": {
           "visible": false
          },
          "fill": "none",
          "hoverinfo": "all",
          "hoverlabel": {
           "align": "left",
           "font": {
            "family": "Arial, sans-serif",
            "size": 13
           },
           "namelength": 15
          },
          "hoveron": "points",
          "hovertemplate": "",
          "hovertext": "",
          "index": 24,
          "line": {
           "dash": "solid",
           "shape": "linear",
           "simplify": true,
           "width": 2
          },
          "mode": "lines",
          "opacity": 1,
          "stackgroup": "",
          "text": "",
          "uid": "27fcbf90-d2fd-4d4c-b8db-9e70065bf2a2",
          "visible": true,
          "xcalendar": "gregorian",
          "xperiod": 0,
          "ycalendar": "gregorian",
          "yperiod": 0
         },
         {
          "connectgaps": false,
          "error_x": {
           "visible": false
          },
          "error_y": {
           "visible": false
          },
          "fill": "none",
          "hoverinfo": "all",
          "hoverlabel": {
           "align": "left",
           "font": {
            "family": "Arial, sans-serif",
            "size": 13
           },
           "namelength": 15
          },
          "hoveron": "points",
          "hovertemplate": "",
          "hovertext": "",
          "index": 25,
          "line": {
           "dash": "solid",
           "shape": "linear",
           "simplify": true,
           "width": 2
          },
          "mode": "lines",
          "opacity": 1,
          "showlegend": true,
          "stackgroup": "",
          "text": "",
          "uid": "e20bc019-d31f-4994-a97e-f2702309862e",
          "visible": true,
          "xcalendar": "gregorian",
          "xperiod": 0,
          "ycalendar": "gregorian",
          "yperiod": 0
         },
         {
          "connectgaps": false,
          "error_x": {
           "visible": false
          },
          "error_y": {
           "visible": false
          },
          "fill": "none",
          "hoverinfo": "all",
          "hoverlabel": {
           "align": "left",
           "font": {
            "family": "Arial, sans-serif",
            "size": 13
           },
           "namelength": 15
          },
          "hoveron": "points",
          "hovertemplate": "",
          "hovertext": "",
          "index": 26,
          "line": {
           "dash": "solid",
           "shape": "linear",
           "simplify": true,
           "width": 2
          },
          "mode": "lines",
          "opacity": 1,
          "stackgroup": "",
          "text": "",
          "uid": "5f739ba0-1719-4ba5-b651-133c9717eedc",
          "visible": true,
          "xcalendar": "gregorian",
          "xperiod": 0,
          "ycalendar": "gregorian",
          "yperiod": 0
         },
         {
          "connectgaps": false,
          "error_x": {
           "visible": false
          },
          "error_y": {
           "visible": false
          },
          "fill": "none",
          "hoverinfo": "all",
          "hoverlabel": {
           "align": "left",
           "font": {
            "family": "Arial, sans-serif",
            "size": 13
           },
           "namelength": 15
          },
          "hoveron": "points",
          "hovertemplate": "",
          "hovertext": "",
          "index": 27,
          "line": {
           "dash": "solid",
           "shape": "linear",
           "simplify": true,
           "width": 2
          },
          "mode": "lines",
          "opacity": 1,
          "showlegend": true,
          "stackgroup": "",
          "text": "",
          "uid": "6cabf403-7b80-4038-a2aa-3dbab4ed01d2",
          "visible": true,
          "xcalendar": "gregorian",
          "xperiod": 0,
          "ycalendar": "gregorian",
          "yperiod": 0
         },
         {
          "connectgaps": false,
          "error_x": {
           "visible": false
          },
          "error_y": {
           "visible": false
          },
          "fill": "none",
          "hoverinfo": "all",
          "hoverlabel": {
           "align": "left",
           "font": {
            "family": "Arial, sans-serif",
            "size": 13
           },
           "namelength": 15
          },
          "hoveron": "points",
          "hovertemplate": "",
          "hovertext": "",
          "index": 28,
          "line": {
           "dash": "solid",
           "shape": "linear",
           "simplify": true,
           "width": 2
          },
          "mode": "lines",
          "opacity": 1,
          "stackgroup": "",
          "text": "",
          "uid": "51b1e8d4-4c7d-4717-9bf8-50a3df451ba3",
          "visible": true,
          "xcalendar": "gregorian",
          "xperiod": 0,
          "ycalendar": "gregorian",
          "yperiod": 0
         },
         {
          "connectgaps": false,
          "error_x": {
           "visible": false
          },
          "error_y": {
           "visible": false
          },
          "fill": "none",
          "hoverinfo": "all",
          "hoverlabel": {
           "align": "left",
           "font": {
            "family": "Arial, sans-serif",
            "size": 13
           },
           "namelength": 15
          },
          "hoveron": "points",
          "hovertemplate": "",
          "hovertext": "",
          "index": 29,
          "line": {
           "dash": "solid",
           "shape": "linear",
           "simplify": true,
           "width": 2
          },
          "mode": "lines",
          "opacity": 1,
          "showlegend": true,
          "stackgroup": "",
          "text": "",
          "uid": "291c787d-1c5b-4573-b72b-a3b90362088b",
          "visible": true,
          "xcalendar": "gregorian",
          "xperiod": 0,
          "ycalendar": "gregorian",
          "yperiod": 0
         },
         {
          "connectgaps": false,
          "error_x": {
           "visible": false
          },
          "error_y": {
           "visible": false
          },
          "fill": "none",
          "hoverinfo": "all",
          "hoverlabel": {
           "align": "left",
           "font": {
            "family": "Arial, sans-serif",
            "size": 13
           },
           "namelength": 15
          },
          "hoveron": "points",
          "hovertemplate": "",
          "hovertext": "",
          "index": 30,
          "line": {
           "dash": "solid",
           "shape": "linear",
           "simplify": true,
           "width": 2
          },
          "mode": "lines",
          "opacity": 1,
          "stackgroup": "",
          "text": "",
          "uid": "c039df3e-2748-44f0-996d-f40ab541593e",
          "visible": true,
          "xcalendar": "gregorian",
          "xperiod": 0,
          "ycalendar": "gregorian",
          "yperiod": 0
         },
         {
          "connectgaps": false,
          "error_x": {
           "visible": false
          },
          "error_y": {
           "visible": false
          },
          "fill": "none",
          "hoverinfo": "all",
          "hoverlabel": {
           "align": "left",
           "font": {
            "family": "Arial, sans-serif",
            "size": 13
           },
           "namelength": 15
          },
          "hoveron": "points",
          "hovertemplate": "",
          "hovertext": "",
          "index": 31,
          "line": {
           "dash": "solid",
           "shape": "linear",
           "simplify": true,
           "width": 2
          },
          "mode": "lines",
          "opacity": 1,
          "showlegend": true,
          "stackgroup": "",
          "text": "",
          "uid": "d2e09742-2afc-4a8f-bfc5-eceb3e95bab3",
          "visible": true,
          "xcalendar": "gregorian",
          "xperiod": 0,
          "ycalendar": "gregorian",
          "yperiod": 0
         },
         {
          "connectgaps": false,
          "error_x": {
           "visible": false
          },
          "error_y": {
           "visible": false
          },
          "fill": "none",
          "hoverinfo": "all",
          "hoverlabel": {
           "align": "left",
           "font": {
            "family": "Arial, sans-serif",
            "size": 13
           },
           "namelength": 15
          },
          "hoveron": "points",
          "hovertemplate": "",
          "hovertext": "",
          "index": 32,
          "line": {
           "dash": "solid",
           "shape": "linear",
           "simplify": true,
           "width": 2
          },
          "mode": "lines",
          "opacity": 1,
          "stackgroup": "",
          "text": "",
          "uid": "a8563e88-3a4e-4dd9-9445-860d2b6677a5",
          "visible": true,
          "xcalendar": "gregorian",
          "xperiod": 0,
          "ycalendar": "gregorian",
          "yperiod": 0
         },
         {
          "connectgaps": false,
          "error_x": {
           "visible": false
          },
          "error_y": {
           "visible": false
          },
          "fill": "none",
          "hoverinfo": "all",
          "hoverlabel": {
           "align": "left",
           "font": {
            "family": "Arial, sans-serif",
            "size": 13
           },
           "namelength": 15
          },
          "hoveron": "points",
          "hovertemplate": "",
          "hovertext": "",
          "index": 33,
          "line": {
           "dash": "solid",
           "shape": "linear",
           "simplify": true,
           "width": 2
          },
          "mode": "lines",
          "opacity": 1,
          "showlegend": true,
          "stackgroup": "",
          "text": "",
          "uid": "0ba0586e-3af6-49b7-9f3d-53f15c7f262c",
          "visible": true,
          "xcalendar": "gregorian",
          "xperiod": 0,
          "ycalendar": "gregorian",
          "yperiod": 0
         },
         {
          "connectgaps": false,
          "error_x": {
           "visible": false
          },
          "error_y": {
           "visible": false
          },
          "fill": "none",
          "hoverinfo": "all",
          "hoverlabel": {
           "align": "left",
           "font": {
            "family": "Arial, sans-serif",
            "size": 13
           },
           "namelength": 15
          },
          "hoveron": "points",
          "hovertemplate": "",
          "hovertext": "",
          "index": 34,
          "line": {
           "dash": "solid",
           "shape": "linear",
           "simplify": true,
           "width": 2
          },
          "mode": "lines",
          "opacity": 1,
          "stackgroup": "",
          "text": "",
          "uid": "7614046e-8fbc-464d-8bba-c8c87bcc1501",
          "visible": true,
          "xcalendar": "gregorian",
          "xperiod": 0,
          "ycalendar": "gregorian",
          "yperiod": 0
         },
         {
          "connectgaps": false,
          "error_x": {
           "visible": false
          },
          "error_y": {
           "visible": false
          },
          "fill": "none",
          "hoverinfo": "all",
          "hoverlabel": {
           "align": "left",
           "font": {
            "family": "Arial, sans-serif",
            "size": 13
           },
           "namelength": 15
          },
          "hoveron": "points",
          "hovertemplate": "",
          "hovertext": "",
          "index": 35,
          "line": {
           "dash": "solid",
           "shape": "linear",
           "simplify": true,
           "width": 2
          },
          "mode": "lines",
          "opacity": 1,
          "showlegend": true,
          "stackgroup": "",
          "text": "",
          "uid": "635aecf4-11d2-4c69-9a6c-e9b965732488",
          "visible": true,
          "xcalendar": "gregorian",
          "xperiod": 0,
          "ycalendar": "gregorian",
          "yperiod": 0
         },
         {
          "connectgaps": false,
          "error_x": {
           "visible": false
          },
          "error_y": {
           "visible": false
          },
          "fill": "none",
          "hoverinfo": "all",
          "hoverlabel": {
           "align": "left",
           "font": {
            "family": "Arial, sans-serif",
            "size": 13
           },
           "namelength": 15
          },
          "hoveron": "points",
          "hovertemplate": "",
          "hovertext": "",
          "index": 36,
          "line": {
           "dash": "solid",
           "shape": "linear",
           "simplify": true,
           "width": 2
          },
          "mode": "lines",
          "opacity": 1,
          "stackgroup": "",
          "text": "",
          "uid": "353565d2-dac4-4403-b046-84e9761e8e24",
          "visible": true,
          "xcalendar": "gregorian",
          "xperiod": 0,
          "ycalendar": "gregorian",
          "yperiod": 0
         },
         {
          "connectgaps": false,
          "error_x": {
           "visible": false
          },
          "error_y": {
           "visible": false
          },
          "fill": "none",
          "hoverinfo": "all",
          "hoverlabel": {
           "align": "left",
           "font": {
            "family": "Arial, sans-serif",
            "size": 13
           },
           "namelength": 15
          },
          "hoveron": "points",
          "hovertemplate": "",
          "hovertext": "",
          "index": 37,
          "line": {
           "dash": "solid",
           "shape": "linear",
           "simplify": true,
           "width": 2
          },
          "mode": "lines",
          "opacity": 1,
          "showlegend": true,
          "stackgroup": "",
          "text": "",
          "uid": "809619f5-d99c-448e-8d91-d81fc174720f",
          "visible": true,
          "xcalendar": "gregorian",
          "xperiod": 0,
          "ycalendar": "gregorian",
          "yperiod": 0
         },
         {
          "connectgaps": false,
          "error_x": {
           "visible": false
          },
          "error_y": {
           "visible": false
          },
          "fill": "none",
          "hoverinfo": "all",
          "hoverlabel": {
           "align": "left",
           "font": {
            "family": "Arial, sans-serif",
            "size": 13
           },
           "namelength": 15
          },
          "hoveron": "points",
          "hovertemplate": "",
          "hovertext": "",
          "index": 38,
          "line": {
           "dash": "solid",
           "shape": "linear",
           "simplify": true,
           "width": 2
          },
          "mode": "lines",
          "opacity": 1,
          "stackgroup": "",
          "text": "",
          "uid": "a186a755-3098-41c2-b1a5-ed8d311c3148",
          "visible": true,
          "xcalendar": "gregorian",
          "xperiod": 0,
          "ycalendar": "gregorian",
          "yperiod": 0
         },
         {
          "connectgaps": false,
          "error_x": {
           "visible": false
          },
          "error_y": {
           "visible": false
          },
          "fill": "none",
          "hoverinfo": "all",
          "hoverlabel": {
           "align": "left",
           "font": {
            "family": "Arial, sans-serif",
            "size": 13
           },
           "namelength": 15
          },
          "hoveron": "points",
          "hovertemplate": "",
          "hovertext": "",
          "index": 39,
          "line": {
           "dash": "solid",
           "shape": "linear",
           "simplify": true,
           "width": 2
          },
          "mode": "lines",
          "opacity": 1,
          "showlegend": true,
          "stackgroup": "",
          "text": "",
          "uid": "aeceba21-85c7-4347-9928-a58ec1977914",
          "visible": true,
          "xcalendar": "gregorian",
          "xperiod": 0,
          "ycalendar": "gregorian",
          "yperiod": 0
         },
         {
          "connectgaps": false,
          "error_x": {
           "visible": false
          },
          "error_y": {
           "visible": false
          },
          "fill": "none",
          "hoverinfo": "all",
          "hoverlabel": {
           "align": "left",
           "font": {
            "family": "Arial, sans-serif",
            "size": 13
           },
           "namelength": 15
          },
          "hoveron": "points",
          "hovertemplate": "",
          "hovertext": "",
          "index": 40,
          "line": {
           "dash": "solid",
           "shape": "linear",
           "simplify": true,
           "width": 2
          },
          "mode": "lines",
          "opacity": 1,
          "stackgroup": "",
          "text": "",
          "uid": "71aaf0a1-f7b8-4362-8adf-83005e771f62",
          "visible": true,
          "xcalendar": "gregorian",
          "xperiod": 0,
          "ycalendar": "gregorian",
          "yperiod": 0
         },
         {
          "connectgaps": false,
          "error_x": {
           "visible": false
          },
          "error_y": {
           "visible": false
          },
          "fill": "none",
          "hoverinfo": "all",
          "hoverlabel": {
           "align": "left",
           "font": {
            "family": "Arial, sans-serif",
            "size": 13
           },
           "namelength": 15
          },
          "hoveron": "points",
          "hovertemplate": "",
          "hovertext": "",
          "index": 41,
          "line": {
           "dash": "solid",
           "shape": "linear",
           "simplify": true,
           "width": 2
          },
          "mode": "lines",
          "opacity": 1,
          "showlegend": true,
          "stackgroup": "",
          "text": "",
          "uid": "3e2423b7-432a-4d5f-8c99-b3684e115fa4",
          "visible": true,
          "xcalendar": "gregorian",
          "xperiod": 0,
          "ycalendar": "gregorian",
          "yperiod": 0
         }
        ],
        "trace_edit_id": 48
       },
       "_js2py_update": {},
       "_last_layout_edit_id": 58,
       "_last_trace_edit_id": 48,
       "_layout": {
        "autosize": true,
        "hidesources": true,
        "legend": {
         "title": {
          "text": "iterations"
         },
         "tracegroupgap": 0
        },
        "margin": {
         "b": 80,
         "l": 10,
         "pad": 0,
         "r": 135,
         "t": 25
        },
        "template": {
         "data": {
          "bar": [
           {
            "error_x": {
             "color": "#2a3f5f"
            },
            "error_y": {
             "color": "#2a3f5f"
            },
            "marker": {
             "line": {
              "color": "#E5ECF6",
              "width": 0.5
             }
            },
            "type": "bar"
           }
          ],
          "barpolar": [
           {
            "marker": {
             "line": {
              "color": "#E5ECF6",
              "width": 0.5
             }
            },
            "type": "barpolar"
           }
          ],
          "carpet": [
           {
            "aaxis": {
             "endlinecolor": "#2a3f5f",
             "gridcolor": "white",
             "linecolor": "white",
             "minorgridcolor": "white",
             "startlinecolor": "#2a3f5f"
            },
            "baxis": {
             "endlinecolor": "#2a3f5f",
             "gridcolor": "white",
             "linecolor": "white",
             "minorgridcolor": "white",
             "startlinecolor": "#2a3f5f"
            },
            "type": "carpet"
           }
          ],
          "choropleth": [
           {
            "colorbar": {
             "outlinewidth": 0,
             "ticks": ""
            },
            "type": "choropleth"
           }
          ],
          "contour": [
           {
            "colorbar": {
             "outlinewidth": 0,
             "ticks": ""
            },
            "colorscale": [
             [
              0,
              "#0d0887"
             ],
             [
              0.1111111111111111,
              "#46039f"
             ],
             [
              0.2222222222222222,
              "#7201a8"
             ],
             [
              0.3333333333333333,
              "#9c179e"
             ],
             [
              0.4444444444444444,
              "#bd3786"
             ],
             [
              0.5555555555555556,
              "#d8576b"
             ],
             [
              0.6666666666666666,
              "#ed7953"
             ],
             [
              0.7777777777777778,
              "#fb9f3a"
             ],
             [
              0.8888888888888888,
              "#fdca26"
             ],
             [
              1,
              "#f0f921"
             ]
            ],
            "type": "contour"
           }
          ],
          "contourcarpet": [
           {
            "colorbar": {
             "outlinewidth": 0,
             "ticks": ""
            },
            "type": "contourcarpet"
           }
          ],
          "heatmap": [
           {
            "colorbar": {
             "outlinewidth": 0,
             "ticks": ""
            },
            "colorscale": [
             [
              0,
              "#0d0887"
             ],
             [
              0.1111111111111111,
              "#46039f"
             ],
             [
              0.2222222222222222,
              "#7201a8"
             ],
             [
              0.3333333333333333,
              "#9c179e"
             ],
             [
              0.4444444444444444,
              "#bd3786"
             ],
             [
              0.5555555555555556,
              "#d8576b"
             ],
             [
              0.6666666666666666,
              "#ed7953"
             ],
             [
              0.7777777777777778,
              "#fb9f3a"
             ],
             [
              0.8888888888888888,
              "#fdca26"
             ],
             [
              1,
              "#f0f921"
             ]
            ],
            "type": "heatmap"
           }
          ],
          "heatmapgl": [
           {
            "colorbar": {
             "outlinewidth": 0,
             "ticks": ""
            },
            "colorscale": [
             [
              0,
              "#0d0887"
             ],
             [
              0.1111111111111111,
              "#46039f"
             ],
             [
              0.2222222222222222,
              "#7201a8"
             ],
             [
              0.3333333333333333,
              "#9c179e"
             ],
             [
              0.4444444444444444,
              "#bd3786"
             ],
             [
              0.5555555555555556,
              "#d8576b"
             ],
             [
              0.6666666666666666,
              "#ed7953"
             ],
             [
              0.7777777777777778,
              "#fb9f3a"
             ],
             [
              0.8888888888888888,
              "#fdca26"
             ],
             [
              1,
              "#f0f921"
             ]
            ],
            "type": "heatmapgl"
           }
          ],
          "histogram": [
           {
            "marker": {
             "colorbar": {
              "outlinewidth": 0,
              "ticks": ""
             }
            },
            "type": "histogram"
           }
          ],
          "histogram2d": [
           {
            "colorbar": {
             "outlinewidth": 0,
             "ticks": ""
            },
            "colorscale": [
             [
              0,
              "#0d0887"
             ],
             [
              0.1111111111111111,
              "#46039f"
             ],
             [
              0.2222222222222222,
              "#7201a8"
             ],
             [
              0.3333333333333333,
              "#9c179e"
             ],
             [
              0.4444444444444444,
              "#bd3786"
             ],
             [
              0.5555555555555556,
              "#d8576b"
             ],
             [
              0.6666666666666666,
              "#ed7953"
             ],
             [
              0.7777777777777778,
              "#fb9f3a"
             ],
             [
              0.8888888888888888,
              "#fdca26"
             ],
             [
              1,
              "#f0f921"
             ]
            ],
            "type": "histogram2d"
           }
          ],
          "histogram2dcontour": [
           {
            "colorbar": {
             "outlinewidth": 0,
             "ticks": ""
            },
            "colorscale": [
             [
              0,
              "#0d0887"
             ],
             [
              0.1111111111111111,
              "#46039f"
             ],
             [
              0.2222222222222222,
              "#7201a8"
             ],
             [
              0.3333333333333333,
              "#9c179e"
             ],
             [
              0.4444444444444444,
              "#bd3786"
             ],
             [
              0.5555555555555556,
              "#d8576b"
             ],
             [
              0.6666666666666666,
              "#ed7953"
             ],
             [
              0.7777777777777778,
              "#fb9f3a"
             ],
             [
              0.8888888888888888,
              "#fdca26"
             ],
             [
              1,
              "#f0f921"
             ]
            ],
            "type": "histogram2dcontour"
           }
          ],
          "mesh3d": [
           {
            "colorbar": {
             "outlinewidth": 0,
             "ticks": ""
            },
            "type": "mesh3d"
           }
          ],
          "parcoords": [
           {
            "line": {
             "colorbar": {
              "outlinewidth": 0,
              "ticks": ""
             }
            },
            "type": "parcoords"
           }
          ],
          "pie": [
           {
            "automargin": true,
            "type": "pie"
           }
          ],
          "scatter": [
           {
            "marker": {
             "colorbar": {
              "outlinewidth": 0,
              "ticks": ""
             }
            },
            "type": "scatter"
           }
          ],
          "scatter3d": [
           {
            "line": {
             "colorbar": {
              "outlinewidth": 0,
              "ticks": ""
             }
            },
            "marker": {
             "colorbar": {
              "outlinewidth": 0,
              "ticks": ""
             }
            },
            "type": "scatter3d"
           }
          ],
          "scattercarpet": [
           {
            "marker": {
             "colorbar": {
              "outlinewidth": 0,
              "ticks": ""
             }
            },
            "type": "scattercarpet"
           }
          ],
          "scattergeo": [
           {
            "marker": {
             "colorbar": {
              "outlinewidth": 0,
              "ticks": ""
             }
            },
            "type": "scattergeo"
           }
          ],
          "scattergl": [
           {
            "marker": {
             "colorbar": {
              "outlinewidth": 0,
              "ticks": ""
             }
            },
            "type": "scattergl"
           }
          ],
          "scattermapbox": [
           {
            "marker": {
             "colorbar": {
              "outlinewidth": 0,
              "ticks": ""
             }
            },
            "type": "scattermapbox"
           }
          ],
          "scatterpolar": [
           {
            "marker": {
             "colorbar": {
              "outlinewidth": 0,
              "ticks": ""
             }
            },
            "type": "scatterpolar"
           }
          ],
          "scatterpolargl": [
           {
            "marker": {
             "colorbar": {
              "outlinewidth": 0,
              "ticks": ""
             }
            },
            "type": "scatterpolargl"
           }
          ],
          "scatterternary": [
           {
            "marker": {
             "colorbar": {
              "outlinewidth": 0,
              "ticks": ""
             }
            },
            "type": "scatterternary"
           }
          ],
          "surface": [
           {
            "colorbar": {
             "outlinewidth": 0,
             "ticks": ""
            },
            "colorscale": [
             [
              0,
              "#0d0887"
             ],
             [
              0.1111111111111111,
              "#46039f"
             ],
             [
              0.2222222222222222,
              "#7201a8"
             ],
             [
              0.3333333333333333,
              "#9c179e"
             ],
             [
              0.4444444444444444,
              "#bd3786"
             ],
             [
              0.5555555555555556,
              "#d8576b"
             ],
             [
              0.6666666666666666,
              "#ed7953"
             ],
             [
              0.7777777777777778,
              "#fb9f3a"
             ],
             [
              0.8888888888888888,
              "#fdca26"
             ],
             [
              1,
              "#f0f921"
             ]
            ],
            "type": "surface"
           }
          ],
          "table": [
           {
            "cells": {
             "fill": {
              "color": "#EBF0F8"
             },
             "line": {
              "color": "white"
             }
            },
            "header": {
             "fill": {
              "color": "#C8D4E3"
             },
             "line": {
              "color": "white"
             }
            },
            "type": "table"
           }
          ]
         },
         "layout": {
          "annotationdefaults": {
           "arrowcolor": "#2a3f5f",
           "arrowhead": 0,
           "arrowwidth": 1
          },
          "autotypenumbers": "strict",
          "coloraxis": {
           "colorbar": {
            "outlinewidth": 0,
            "ticks": ""
           }
          },
          "colorscale": {
           "diverging": [
            [
             0,
             "#8e0152"
            ],
            [
             0.1,
             "#c51b7d"
            ],
            [
             0.2,
             "#de77ae"
            ],
            [
             0.3,
             "#f1b6da"
            ],
            [
             0.4,
             "#fde0ef"
            ],
            [
             0.5,
             "#f7f7f7"
            ],
            [
             0.6,
             "#e6f5d0"
            ],
            [
             0.7,
             "#b8e186"
            ],
            [
             0.8,
             "#7fbc41"
            ],
            [
             0.9,
             "#4d9221"
            ],
            [
             1,
             "#276419"
            ]
           ],
           "sequential": [
            [
             0,
             "#0d0887"
            ],
            [
             0.1111111111111111,
             "#46039f"
            ],
            [
             0.2222222222222222,
             "#7201a8"
            ],
            [
             0.3333333333333333,
             "#9c179e"
            ],
            [
             0.4444444444444444,
             "#bd3786"
            ],
            [
             0.5555555555555556,
             "#d8576b"
            ],
            [
             0.6666666666666666,
             "#ed7953"
            ],
            [
             0.7777777777777778,
             "#fb9f3a"
            ],
            [
             0.8888888888888888,
             "#fdca26"
            ],
            [
             1,
             "#f0f921"
            ]
           ],
           "sequentialminus": [
            [
             0,
             "#0d0887"
            ],
            [
             0.1111111111111111,
             "#46039f"
            ],
            [
             0.2222222222222222,
             "#7201a8"
            ],
            [
             0.3333333333333333,
             "#9c179e"
            ],
            [
             0.4444444444444444,
             "#bd3786"
            ],
            [
             0.5555555555555556,
             "#d8576b"
            ],
            [
             0.6666666666666666,
             "#ed7953"
            ],
            [
             0.7777777777777778,
             "#fb9f3a"
            ],
            [
             0.8888888888888888,
             "#fdca26"
            ],
            [
             1,
             "#f0f921"
            ]
           ]
          },
          "colorway": [
           "#636efa",
           "#EF553B",
           "#00cc96",
           "#ab63fa",
           "#FFA15A",
           "#19d3f3",
           "#FF6692",
           "#B6E880",
           "#FF97FF",
           "#FECB52"
          ],
          "font": {
           "color": "#2a3f5f"
          },
          "geo": {
           "bgcolor": "white",
           "lakecolor": "white",
           "landcolor": "#E5ECF6",
           "showlakes": true,
           "showland": true,
           "subunitcolor": "white"
          },
          "hoverlabel": {
           "align": "left"
          },
          "hovermode": "closest",
          "mapbox": {
           "style": "light"
          },
          "paper_bgcolor": "white",
          "plot_bgcolor": "#E5ECF6",
          "polar": {
           "angularaxis": {
            "gridcolor": "white",
            "linecolor": "white",
            "ticks": ""
           },
           "bgcolor": "#E5ECF6",
           "radialaxis": {
            "gridcolor": "white",
            "linecolor": "white",
            "ticks": ""
           }
          },
          "scene": {
           "xaxis": {
            "backgroundcolor": "#E5ECF6",
            "gridcolor": "white",
            "gridwidth": 2,
            "linecolor": "white",
            "showbackground": true,
            "ticks": "",
            "zerolinecolor": "white"
           },
           "yaxis": {
            "backgroundcolor": "#E5ECF6",
            "gridcolor": "white",
            "gridwidth": 2,
            "linecolor": "white",
            "showbackground": true,
            "ticks": "",
            "zerolinecolor": "white"
           },
           "zaxis": {
            "backgroundcolor": "#E5ECF6",
            "gridcolor": "white",
            "gridwidth": 2,
            "linecolor": "white",
            "showbackground": true,
            "ticks": "",
            "zerolinecolor": "white"
           }
          },
          "shapedefaults": {
           "line": {
            "color": "#2a3f5f"
           }
          },
          "ternary": {
           "aaxis": {
            "gridcolor": "white",
            "linecolor": "white",
            "ticks": ""
           },
           "baxis": {
            "gridcolor": "white",
            "linecolor": "white",
            "ticks": ""
           },
           "bgcolor": "#E5ECF6",
           "caxis": {
            "gridcolor": "white",
            "linecolor": "white",
            "ticks": ""
           }
          },
          "title": {
           "x": 0.05
          },
          "xaxis": {
           "automargin": true,
           "gridcolor": "white",
           "linecolor": "white",
           "ticks": "",
           "title": {
            "standoff": 15
           },
           "zerolinecolor": "white",
           "zerolinewidth": 2
          },
          "yaxis": {
           "automargin": true,
           "gridcolor": "white",
           "linecolor": "white",
           "ticks": "",
           "title": {
            "standoff": 15
           },
           "zerolinecolor": "white",
           "zerolinewidth": 2
          }
         }
        },
        "xaxis": {
         "anchor": "y",
         "domain": [
          0,
          0.45
         ],
         "tickformat": "g",
         "title": {
          "text": "$Shell~~Velocity$"
         }
        },
        "xaxis2": {
         "anchor": "y2",
         "domain": [
          0.55,
          1
         ],
         "matches": "x",
         "tickformat": "g",
         "title": {
          "text": "$Shell~~Velocity$"
         }
        },
        "yaxis": {
         "anchor": "x",
         "domain": [
          0,
          1
         ],
         "range": [
          9000,
          14000
         ],
         "tickformat": "g",
         "title": {
          "text": "$T_{rad}\\ [K]$"
         }
        },
        "yaxis2": {
         "anchor": "x2",
         "domain": [
          0,
          1
         ],
         "title": {
          "text": "$W$"
         }
        }
       },
       "_py2js_animate": {},
       "_py2js_deleteTraces": {},
       "_py2js_moveTraces": {},
       "_py2js_removeTraceProps": {},
       "_view_count": 1
      }
     },
     "e44a98bbfcfb460ab261e38c4dfb3502": {
      "model_module": "@jupyter-widgets/controls",
      "model_module_version": "1.5.0",
      "model_name": "VBoxModel",
      "state": {
       "children": [
        "IPY_MODEL_d67d05ee30ce44afb09e82eead22798c",
        "IPY_MODEL_98d92866018e41198c219b20349d11fa"
       ],
       "layout": "IPY_MODEL_995cffffcbe94c58abe0cfbfb15b6e0d"
      }
     },
     "e90018958352436b96e0c6c9204390f0": {
      "model_module": "@jupyter-widgets/output",
      "model_module_version": "1.0.0",
      "model_name": "OutputModel",
      "state": {
       "layout": "IPY_MODEL_c58e244061fa493eb46a16a2364c0344",
       "outputs": [
        {
         "data": {
          "text/html": "        <script type=\"text/javascript\">\n        window.PlotlyConfig = {MathJaxConfig: 'local'};\n        if (window.MathJax) {MathJax.Hub.Config({SVG: {font: \"STIX-Web\"}});}\n        if (typeof require !== 'undefined') {\n        require.undef(\"plotly\");\n        requirejs.config({\n            paths: {\n                'plotly': ['https://cdn.plot.ly/plotly-latest.min']\n            }\n        });\n        require(['plotly'], function(Plotly) {\n            window._Plotly = Plotly;\n        });\n        }\n        </script>\n        "
         },
         "metadata": {},
         "output_type": "display_data"
        },
        {
         "data": {
          "text/html": "<div>                            <div id=\"d17204cd-64b1-4052-8f85-88fd1e1437b0\" class=\"plotly-graph-div\" style=\"height:600px; width:100%;\"></div>            <script type=\"text/javascript\">                require([\"plotly\"], function(Plotly) {                    window.PLOTLYENV=window.PLOTLYENV || {};                                    if (document.getElementById(\"d17204cd-64b1-4052-8f85-88fd1e1437b0\")) {                    Plotly.newPlot(                        \"d17204cd-64b1-4052-8f85-88fd1e1437b0\",                        [{\"hovertemplate\": \"<b>%{y:.2g}</b><br>at X = %{x}<br>\", \"legendgroup\": \"Emitted\", \"marker\": {\"color\": \"orangered\"}, \"mode\": \"lines\", \"name\": \"Emitted<br>Luminosity\", \"opacity\": 0.6, \"type\": \"scatter\", \"uid\": \"9c643990-6746-4bd9-a786-c8a900586954\", \"x\": [1, 2, 3, 4, 5, 6, 7, 8, 9, 10, 11, 12, 13, 14, 15, 16, 17, 18, 19, 20], \"xaxis\": \"x2\", \"y\": [7.942750742981396e+42, 1.4081455093985728e+43, 8.126235743016503e+42, 1.3629660449563156e+43, 8.27894586347348e+42, 1.3474141886349227e+43, 8.390011483383557e+42, 1.3330505521644895e+43, 8.442830540796857e+42, 1.3292513146988894e+43, 8.494974137074282e+42, 1.3041701729221733e+43, 8.692438378058671e+42, 1.2835355197638404e+43, 8.753305281326621e+42, 1.2781970592598386e+43, 8.816470048071725e+42, 1.2667974995662812e+43, 8.870810439340542e+42, 1.263194391778655e+43], \"yaxis\": \"y2\"}, {\"hovertemplate\": \"<b>%{y:.2g}</b><br>at X = %{x}<br>\", \"legendgroup\": \"Absorbed\", \"marker\": {\"color\": \"lightseagreen\"}, \"mode\": \"lines\", \"name\": \"Absorbed<br>Luminosity\", \"opacity\": 0.6, \"type\": \"scatter\", \"uid\": \"2b1e7800-eda8-4f85-b2c5-7b3139d38dad\", \"x\": [1, 2, 3, 4, 5, 6, 7, 8, 9, 10, 11, 12, 13, 14, 15, 16, 17, 18, 19, 20], \"xaxis\": \"x2\", \"y\": [2.65804673153204e+42, 4.7700146052642123e+42, 2.5472229968140377e+42, 4.4972113694812525e+42, 2.6693301209933358e+42, 4.447266267261236e+42, 2.6922956553053436e+42, 4.330110768371945e+42, 2.7089402928209043e+42, 4.25943386711989e+42, 2.6561585210602605e+42, 4.288201956309693e+42, 2.7454765674505417e+42, 4.1509531498402554e+42, 2.813186401660242e+42, 4.156064515611499e+42, 2.816811651728025e+42, 4.122377281630377e+42, 2.8711648018363005e+42, 4.1070578782802735e+42], \"yaxis\": \"y2\"}, {\"hovertemplate\": \"<b>%{y:.2g}</b><br>at X = %{x}<br>\", \"legendgroup\": \"Requested\", \"marker\": {\"color\": \"indigo\"}, \"mode\": \"lines\", \"name\": \"Requested<br>Luminosity\", \"opacity\": 0.6, \"type\": \"scatter\", \"uid\": \"7baab29c-f5bf-4ade-829f-e46f91ce03e0\", \"x\": [1, 2, 3, 4, 5, 6, 7, 8, 9, 10, 11, 12, 13, 14, 15, 16, 17, 18, 19, 20], \"xaxis\": \"x2\", \"y\": [1.0592763593038458e+43, 1.0592763593038458e+43, 1.0592763593038458e+43, 1.0592763593038458e+43, 1.0592763593038458e+43, 1.0592763593038458e+43, 1.0592763593038458e+43, 1.0592763593038458e+43, 1.0592763593038458e+43, 1.0592763593038458e+43, 1.0592763593038458e+43, 1.0592763593038458e+43, 1.0592763593038458e+43, 1.0592763593038458e+43, 1.0592763593038458e+43, 1.0592763593038458e+43, 1.0592763593038458e+43, 1.0592763593038458e+43, 1.0592763593038458e+43, 1.0592763593038458e+43], \"yaxis\": \"y2\"}, {\"hovertemplate\": \"Residual Luminosity: %{y:.2f}% at X = %{x:,.0f}<extra></extra>\", \"marker\": {\"color\": \"cornflowerblue\"}, \"mode\": \"lines\", \"name\": \"Residual<br>Luminosity\", \"opacity\": 0.7, \"type\": \"scatter\", \"uid\": \"7ae99492-58b8-4c6b-9065-e58b97908fcd\", \"x\": [1, 2, 3, 4, 5, 6, 7, 8, 9, 10, 11, 12, 13, 14, 15, 16, 17, 18, 19, 20], \"xaxis\": \"x3\", \"y\": [-25.017199966575717, 32.934667806992614, -23.285026880454048, 28.669542465013958, -21.843381184166276, 27.201383925951156, -20.794876524031412, 25.84539817735266, -20.296243122564654, 25.486734696172267, -19.80398634916046, 23.118972822094438, -17.939843538363082, 21.170977572592793, -17.3652351962308, 20.667005171329144, -16.76893408755113, 19.590840335454846, -16.2559386752441, 19.250692294202032], \"yaxis\": \"y3\"}, {\"hovertemplate\": \"Next Inner Body Temperature: %{y:.2f} at X = %{x:,.0f}<extra></extra>\", \"marker\": {\"color\": \"crimson\"}, \"mode\": \"lines\", \"name\": \"Next Inner<br>Boundary<br>Temperature\", \"opacity\": 0.7, \"type\": \"scatter\", \"uid\": \"3fd5150b-4887-4fb5-aa59-ee3de1f27b9d\", \"x\": [1, 2, 3, 4, 5, 6, 7, 8, 9, 10, 11, 12, 13, 14, 15, 16, 17, 18, 19, 20], \"xaxis\": \"x\", \"y\": [11472.055253129645, 9949.977592596559, 11360.096854261606, 10014.843240243388, 11328.209558951534, 10044.200101537022, 11285.965504372467, 10060.511200596067, 11268.87736423254, 10059.623883542255, 11233.248147773367, 10123.783777872188, 11175.750322790715, 10152.602547328883, 11168.529280894094, 10167.208273207052, 11144.459025959051, 10190.841172561493, 11136.097470940847, 11136.097470940847], \"yaxis\": \"y\"}],                        {\"height\": 600, \"hidesources\": true, \"hoverlabel\": {\"align\": \"right\", \"font\": {\"color\": \"white\"}}, \"legend\": {\"title\": {\"text\": \"Luminosity\"}, \"tracegroupgap\": 0}, \"margin\": {\"b\": 10, \"l\": 10, \"pad\": 0, \"r\": 10, \"t\": 25}, \"template\": {\"data\": {\"bar\": [{\"error_x\": {\"color\": \"#2a3f5f\"}, \"error_y\": {\"color\": \"#2a3f5f\"}, \"marker\": {\"line\": {\"color\": \"#E5ECF6\", \"width\": 0.5}}, \"type\": \"bar\"}], \"barpolar\": [{\"marker\": {\"line\": {\"color\": \"#E5ECF6\", \"width\": 0.5}}, \"type\": \"barpolar\"}], \"carpet\": [{\"aaxis\": {\"endlinecolor\": \"#2a3f5f\", \"gridcolor\": \"white\", \"linecolor\": \"white\", \"minorgridcolor\": \"white\", \"startlinecolor\": \"#2a3f5f\"}, \"baxis\": {\"endlinecolor\": \"#2a3f5f\", \"gridcolor\": \"white\", \"linecolor\": \"white\", \"minorgridcolor\": \"white\", \"startlinecolor\": \"#2a3f5f\"}, \"type\": \"carpet\"}], \"choropleth\": [{\"colorbar\": {\"outlinewidth\": 0, \"ticks\": \"\"}, \"type\": \"choropleth\"}], \"contour\": [{\"colorbar\": {\"outlinewidth\": 0, \"ticks\": \"\"}, \"colorscale\": [[0.0, \"#0d0887\"], [0.1111111111111111, \"#46039f\"], [0.2222222222222222, \"#7201a8\"], [0.3333333333333333, \"#9c179e\"], [0.4444444444444444, \"#bd3786\"], [0.5555555555555556, \"#d8576b\"], [0.6666666666666666, \"#ed7953\"], [0.7777777777777778, \"#fb9f3a\"], [0.8888888888888888, \"#fdca26\"], [1.0, \"#f0f921\"]], \"type\": \"contour\"}], \"contourcarpet\": [{\"colorbar\": {\"outlinewidth\": 0, \"ticks\": \"\"}, \"type\": \"contourcarpet\"}], \"heatmap\": [{\"colorbar\": {\"outlinewidth\": 0, \"ticks\": \"\"}, \"colorscale\": [[0.0, \"#0d0887\"], [0.1111111111111111, \"#46039f\"], [0.2222222222222222, \"#7201a8\"], [0.3333333333333333, \"#9c179e\"], [0.4444444444444444, \"#bd3786\"], [0.5555555555555556, \"#d8576b\"], [0.6666666666666666, \"#ed7953\"], [0.7777777777777778, \"#fb9f3a\"], [0.8888888888888888, \"#fdca26\"], [1.0, \"#f0f921\"]], \"type\": \"heatmap\"}], \"heatmapgl\": [{\"colorbar\": {\"outlinewidth\": 0, \"ticks\": \"\"}, \"colorscale\": [[0.0, \"#0d0887\"], [0.1111111111111111, \"#46039f\"], [0.2222222222222222, \"#7201a8\"], [0.3333333333333333, \"#9c179e\"], [0.4444444444444444, \"#bd3786\"], [0.5555555555555556, \"#d8576b\"], [0.6666666666666666, \"#ed7953\"], [0.7777777777777778, \"#fb9f3a\"], [0.8888888888888888, \"#fdca26\"], [1.0, \"#f0f921\"]], \"type\": \"heatmapgl\"}], \"histogram\": [{\"marker\": {\"colorbar\": {\"outlinewidth\": 0, \"ticks\": \"\"}}, \"type\": \"histogram\"}], \"histogram2d\": [{\"colorbar\": {\"outlinewidth\": 0, \"ticks\": \"\"}, \"colorscale\": [[0.0, \"#0d0887\"], [0.1111111111111111, \"#46039f\"], [0.2222222222222222, \"#7201a8\"], [0.3333333333333333, \"#9c179e\"], [0.4444444444444444, \"#bd3786\"], [0.5555555555555556, \"#d8576b\"], [0.6666666666666666, \"#ed7953\"], [0.7777777777777778, \"#fb9f3a\"], [0.8888888888888888, \"#fdca26\"], [1.0, \"#f0f921\"]], \"type\": \"histogram2d\"}], \"histogram2dcontour\": [{\"colorbar\": {\"outlinewidth\": 0, \"ticks\": \"\"}, \"colorscale\": [[0.0, \"#0d0887\"], [0.1111111111111111, \"#46039f\"], [0.2222222222222222, \"#7201a8\"], [0.3333333333333333, \"#9c179e\"], [0.4444444444444444, \"#bd3786\"], [0.5555555555555556, \"#d8576b\"], [0.6666666666666666, \"#ed7953\"], [0.7777777777777778, \"#fb9f3a\"], [0.8888888888888888, \"#fdca26\"], [1.0, \"#f0f921\"]], \"type\": \"histogram2dcontour\"}], \"mesh3d\": [{\"colorbar\": {\"outlinewidth\": 0, \"ticks\": \"\"}, \"type\": \"mesh3d\"}], \"parcoords\": [{\"line\": {\"colorbar\": {\"outlinewidth\": 0, \"ticks\": \"\"}}, \"type\": \"parcoords\"}], \"pie\": [{\"automargin\": true, \"type\": \"pie\"}], \"scatter\": [{\"marker\": {\"colorbar\": {\"outlinewidth\": 0, \"ticks\": \"\"}}, \"type\": \"scatter\"}], \"scatter3d\": [{\"line\": {\"colorbar\": {\"outlinewidth\": 0, \"ticks\": \"\"}}, \"marker\": {\"colorbar\": {\"outlinewidth\": 0, \"ticks\": \"\"}}, \"type\": \"scatter3d\"}], \"scattercarpet\": [{\"marker\": {\"colorbar\": {\"outlinewidth\": 0, \"ticks\": \"\"}}, \"type\": \"scattercarpet\"}], \"scattergeo\": [{\"marker\": {\"colorbar\": {\"outlinewidth\": 0, \"ticks\": \"\"}}, \"type\": \"scattergeo\"}], \"scattergl\": [{\"marker\": {\"colorbar\": {\"outlinewidth\": 0, \"ticks\": \"\"}}, \"type\": \"scattergl\"}], \"scattermapbox\": [{\"marker\": {\"colorbar\": {\"outlinewidth\": 0, \"ticks\": \"\"}}, \"type\": \"scattermapbox\"}], \"scatterpolar\": [{\"marker\": {\"colorbar\": {\"outlinewidth\": 0, \"ticks\": \"\"}}, \"type\": \"scatterpolar\"}], \"scatterpolargl\": [{\"marker\": {\"colorbar\": {\"outlinewidth\": 0, \"ticks\": \"\"}}, \"type\": \"scatterpolargl\"}], \"scatterternary\": [{\"marker\": {\"colorbar\": {\"outlinewidth\": 0, \"ticks\": \"\"}}, \"type\": \"scatterternary\"}], \"surface\": [{\"colorbar\": {\"outlinewidth\": 0, \"ticks\": \"\"}, \"colorscale\": [[0.0, \"#0d0887\"], [0.1111111111111111, \"#46039f\"], [0.2222222222222222, \"#7201a8\"], [0.3333333333333333, \"#9c179e\"], [0.4444444444444444, \"#bd3786\"], [0.5555555555555556, \"#d8576b\"], [0.6666666666666666, \"#ed7953\"], [0.7777777777777778, \"#fb9f3a\"], [0.8888888888888888, \"#fdca26\"], [1.0, \"#f0f921\"]], \"type\": \"surface\"}], \"table\": [{\"cells\": {\"fill\": {\"color\": \"#EBF0F8\"}, \"line\": {\"color\": \"white\"}}, \"header\": {\"fill\": {\"color\": \"#C8D4E3\"}, \"line\": {\"color\": \"white\"}}, \"type\": \"table\"}]}, \"layout\": {\"annotationdefaults\": {\"arrowcolor\": \"#2a3f5f\", \"arrowhead\": 0, \"arrowwidth\": 1}, \"autotypenumbers\": \"strict\", \"coloraxis\": {\"colorbar\": {\"outlinewidth\": 0, \"ticks\": \"\"}}, \"colorscale\": {\"diverging\": [[0, \"#8e0152\"], [0.1, \"#c51b7d\"], [0.2, \"#de77ae\"], [0.3, \"#f1b6da\"], [0.4, \"#fde0ef\"], [0.5, \"#f7f7f7\"], [0.6, \"#e6f5d0\"], [0.7, \"#b8e186\"], [0.8, \"#7fbc41\"], [0.9, \"#4d9221\"], [1, \"#276419\"]], \"sequential\": [[0.0, \"#0d0887\"], [0.1111111111111111, \"#46039f\"], [0.2222222222222222, \"#7201a8\"], [0.3333333333333333, \"#9c179e\"], [0.4444444444444444, \"#bd3786\"], [0.5555555555555556, \"#d8576b\"], [0.6666666666666666, \"#ed7953\"], [0.7777777777777778, \"#fb9f3a\"], [0.8888888888888888, \"#fdca26\"], [1.0, \"#f0f921\"]], \"sequentialminus\": [[0.0, \"#0d0887\"], [0.1111111111111111, \"#46039f\"], [0.2222222222222222, \"#7201a8\"], [0.3333333333333333, \"#9c179e\"], [0.4444444444444444, \"#bd3786\"], [0.5555555555555556, \"#d8576b\"], [0.6666666666666666, \"#ed7953\"], [0.7777777777777778, \"#fb9f3a\"], [0.8888888888888888, \"#fdca26\"], [1.0, \"#f0f921\"]]}, \"colorway\": [\"#636efa\", \"#EF553B\", \"#00cc96\", \"#ab63fa\", \"#FFA15A\", \"#19d3f3\", \"#FF6692\", \"#B6E880\", \"#FF97FF\", \"#FECB52\"], \"font\": {\"color\": \"#2a3f5f\"}, \"geo\": {\"bgcolor\": \"white\", \"lakecolor\": \"white\", \"landcolor\": \"#E5ECF6\", \"showlakes\": true, \"showland\": true, \"subunitcolor\": \"white\"}, \"hoverlabel\": {\"align\": \"left\"}, \"hovermode\": \"closest\", \"mapbox\": {\"style\": \"light\"}, \"paper_bgcolor\": \"white\", \"plot_bgcolor\": \"#E5ECF6\", \"polar\": {\"angularaxis\": {\"gridcolor\": \"white\", \"linecolor\": \"white\", \"ticks\": \"\"}, \"bgcolor\": \"#E5ECF6\", \"radialaxis\": {\"gridcolor\": \"white\", \"linecolor\": \"white\", \"ticks\": \"\"}}, \"scene\": {\"xaxis\": {\"backgroundcolor\": \"#E5ECF6\", \"gridcolor\": \"white\", \"gridwidth\": 2, \"linecolor\": \"white\", \"showbackground\": true, \"ticks\": \"\", \"zerolinecolor\": \"white\"}, \"yaxis\": {\"backgroundcolor\": \"#E5ECF6\", \"gridcolor\": \"white\", \"gridwidth\": 2, \"linecolor\": \"white\", \"showbackground\": true, \"ticks\": \"\", \"zerolinecolor\": \"white\"}, \"zaxis\": {\"backgroundcolor\": \"#E5ECF6\", \"gridcolor\": \"white\", \"gridwidth\": 2, \"linecolor\": \"white\", \"showbackground\": true, \"ticks\": \"\", \"zerolinecolor\": \"white\"}}, \"shapedefaults\": {\"line\": {\"color\": \"#2a3f5f\"}}, \"ternary\": {\"aaxis\": {\"gridcolor\": \"white\", \"linecolor\": \"white\", \"ticks\": \"\"}, \"baxis\": {\"gridcolor\": \"white\", \"linecolor\": \"white\", \"ticks\": \"\"}, \"bgcolor\": \"#E5ECF6\", \"caxis\": {\"gridcolor\": \"white\", \"linecolor\": \"white\", \"ticks\": \"\"}}, \"title\": {\"x\": 0.05}, \"xaxis\": {\"automargin\": true, \"gridcolor\": \"white\", \"linecolor\": \"white\", \"ticks\": \"\", \"title\": {\"standoff\": 15}, \"zerolinecolor\": \"white\", \"zerolinewidth\": 2}, \"yaxis\": {\"automargin\": true, \"gridcolor\": \"white\", \"linecolor\": \"white\", \"ticks\": \"\", \"title\": {\"standoff\": 15}, \"zerolinecolor\": \"white\", \"zerolinewidth\": 2}}}, \"xaxis\": {\"anchor\": \"y\", \"domain\": [0.0, 1.0], \"dtick\": 2, \"matches\": \"x3\", \"range\": [0, 21], \"showticklabels\": false}, \"xaxis2\": {\"anchor\": \"y2\", \"domain\": [0.0, 1.0], \"dtick\": 2, \"matches\": \"x\", \"range\": [0, 21], \"showticklabels\": false}, \"xaxis3\": {\"anchor\": \"y3\", \"domain\": [0.0, 1.0], \"dtick\": 2, \"matches\": \"x\", \"title\": {\"text\": \"$\\\\mbox{Iteration Number}$\"}}, \"yaxis\": {\"anchor\": \"x\", \"automargin\": true, \"domain\": [0.865, 1.0], \"exponentformat\": \"e\", \"side\": \"top\", \"tickformat\": \"g\", \"title\": {\"text\": \"$\\\\mbox{T}_{inner}$\"}}, \"yaxis2\": {\"anchor\": \"x2\", \"automargin\": true, \"domain\": [0.185, 0.815], \"exponentformat\": \"e\", \"title\": {\"font\": {\"size\": 13}, \"text\": \"$\\\\mbox{Luminosity}~(erg~sec^{-1})$\"}}, \"yaxis3\": {\"anchor\": \"x3\", \"automargin\": true, \"domain\": [0.0, 0.135], \"exponentformat\": \"e\", \"title\": {\"font\": {\"size\": 12}, \"text\": \"$~~\\\\mbox{Residual}\\\\\\\\\\\\mbox{Luminosity(%)}$\"}}},                        {\"responsive\": true}                    ).then(function(){\n                            \nvar gd = document.getElementById('d17204cd-64b1-4052-8f85-88fd1e1437b0');\nvar x = new MutationObserver(function (mutations, observer) {{\n        var display = window.getComputedStyle(gd).display;\n        if (!display || display === 'none') {{\n            console.log([gd, 'removed!']);\n            Plotly.purge(gd);\n            observer.disconnect();\n        }}\n}});\n\n// Listen for the removal of the full notebook cells\nvar notebookContainer = gd.closest('#notebook-container');\nif (notebookContainer) {{\n    x.observe(notebookContainer, {childList: true});\n}}\n\n// Listen for the clearing of the current output cell\nvar outputEl = gd.closest('.output');\nif (outputEl) {{\n    x.observe(outputEl, {childList: true});\n}}\n\n                        })                };                });            </script>        </div>"
         },
         "metadata": {},
         "output_type": "display_data"
        },
        {
         "data": {
          "text/html": "        <script type=\"text/javascript\">\n        window.PlotlyConfig = {MathJaxConfig: 'local'};\n        if (window.MathJax) {MathJax.Hub.Config({SVG: {font: \"STIX-Web\"}});}\n        if (typeof require !== 'undefined') {\n        require.undef(\"plotly\");\n        requirejs.config({\n            paths: {\n                'plotly': ['https://cdn.plot.ly/plotly-latest.min']\n            }\n        });\n        require(['plotly'], function(Plotly) {\n            window._Plotly = Plotly;\n        });\n        }\n        </script>\n        "
         },
         "metadata": {},
         "output_type": "display_data"
        },
        {
         "data": {
          "text/html": "<div>                            <div id=\"cbdeeef5-3313-47e7-a052-abe059258630\" class=\"plotly-graph-div\" style=\"height:600px; width:100%;\"></div>            <script type=\"text/javascript\">                require([\"plotly\"], function(Plotly) {                    window.PLOTLYENV=window.PLOTLYENV || {};                                    if (document.getElementById(\"cbdeeef5-3313-47e7-a052-abe059258630\")) {                    Plotly.newPlot(                        \"cbdeeef5-3313-47e7-a052-abe059258630\",                        [{\"hovertemplate\": \"<b>%{y:.2g}</b><br>at X = %{x}<br>\", \"legendgroup\": \"Emitted\", \"marker\": {\"color\": \"orangered\"}, \"mode\": \"lines\", \"name\": \"Emitted<br>Luminosity\", \"opacity\": 0.6, \"type\": \"scatter\", \"uid\": \"9c643990-6746-4bd9-a786-c8a900586954\", \"x\": [1, 2, 3, 4, 5, 6, 7, 8, 9, 10, 11, 12, 13, 14, 15, 16, 17, 18, 19, 20], \"xaxis\": \"x2\", \"y\": [7.942750742981396e+42, 1.4081455093985728e+43, 8.126235743016503e+42, 1.3629660449563156e+43, 8.27894586347348e+42, 1.3474141886349227e+43, 8.390011483383557e+42, 1.3330505521644895e+43, 8.442830540796857e+42, 1.3292513146988894e+43, 8.494974137074282e+42, 1.3041701729221733e+43, 8.692438378058671e+42, 1.2835355197638404e+43, 8.753305281326621e+42, 1.2781970592598386e+43, 8.816470048071725e+42, 1.2667974995662812e+43, 8.870810439340542e+42, 1.263194391778655e+43], \"yaxis\": \"y2\"}, {\"hovertemplate\": \"<b>%{y:.2g}</b><br>at X = %{x}<br>\", \"legendgroup\": \"Absorbed\", \"marker\": {\"color\": \"lightseagreen\"}, \"mode\": \"lines\", \"name\": \"Absorbed<br>Luminosity\", \"opacity\": 0.6, \"type\": \"scatter\", \"uid\": \"2b1e7800-eda8-4f85-b2c5-7b3139d38dad\", \"x\": [1, 2, 3, 4, 5, 6, 7, 8, 9, 10, 11, 12, 13, 14, 15, 16, 17, 18, 19, 20], \"xaxis\": \"x2\", \"y\": [2.65804673153204e+42, 4.7700146052642123e+42, 2.5472229968140377e+42, 4.4972113694812525e+42, 2.6693301209933358e+42, 4.447266267261236e+42, 2.6922956553053436e+42, 4.330110768371945e+42, 2.7089402928209043e+42, 4.25943386711989e+42, 2.6561585210602605e+42, 4.288201956309693e+42, 2.7454765674505417e+42, 4.1509531498402554e+42, 2.813186401660242e+42, 4.156064515611499e+42, 2.816811651728025e+42, 4.122377281630377e+42, 2.8711648018363005e+42, 4.1070578782802735e+42], \"yaxis\": \"y2\"}, {\"hovertemplate\": \"<b>%{y:.2g}</b><br>at X = %{x}<br>\", \"legendgroup\": \"Requested\", \"marker\": {\"color\": \"indigo\"}, \"mode\": \"lines\", \"name\": \"Requested<br>Luminosity\", \"opacity\": 0.6, \"type\": \"scatter\", \"uid\": \"7baab29c-f5bf-4ade-829f-e46f91ce03e0\", \"x\": [1, 2, 3, 4, 5, 6, 7, 8, 9, 10, 11, 12, 13, 14, 15, 16, 17, 18, 19, 20], \"xaxis\": \"x2\", \"y\": [1.0592763593038458e+43, 1.0592763593038458e+43, 1.0592763593038458e+43, 1.0592763593038458e+43, 1.0592763593038458e+43, 1.0592763593038458e+43, 1.0592763593038458e+43, 1.0592763593038458e+43, 1.0592763593038458e+43, 1.0592763593038458e+43, 1.0592763593038458e+43, 1.0592763593038458e+43, 1.0592763593038458e+43, 1.0592763593038458e+43, 1.0592763593038458e+43, 1.0592763593038458e+43, 1.0592763593038458e+43, 1.0592763593038458e+43, 1.0592763593038458e+43, 1.0592763593038458e+43], \"yaxis\": \"y2\"}, {\"hovertemplate\": \"Residual Luminosity: %{y:.2f}% at X = %{x:,.0f}<extra></extra>\", \"marker\": {\"color\": \"cornflowerblue\"}, \"mode\": \"lines\", \"name\": \"Residual<br>Luminosity\", \"opacity\": 0.7, \"type\": \"scatter\", \"uid\": \"7ae99492-58b8-4c6b-9065-e58b97908fcd\", \"x\": [1, 2, 3, 4, 5, 6, 7, 8, 9, 10, 11, 12, 13, 14, 15, 16, 17, 18, 19, 20], \"xaxis\": \"x3\", \"y\": [-25.017199966575717, 32.934667806992614, -23.285026880454048, 28.669542465013958, -21.843381184166276, 27.201383925951156, -20.794876524031412, 25.84539817735266, -20.296243122564654, 25.486734696172267, -19.80398634916046, 23.118972822094438, -17.939843538363082, 21.170977572592793, -17.3652351962308, 20.667005171329144, -16.76893408755113, 19.590840335454846, -16.2559386752441, 19.250692294202032], \"yaxis\": \"y3\"}, {\"hovertemplate\": \"Next Inner Body Temperature: %{y:.2f} at X = %{x:,.0f}<extra></extra>\", \"marker\": {\"color\": \"crimson\"}, \"mode\": \"lines\", \"name\": \"Next Inner<br>Boundary<br>Temperature\", \"opacity\": 0.7, \"type\": \"scatter\", \"uid\": \"3fd5150b-4887-4fb5-aa59-ee3de1f27b9d\", \"x\": [1, 2, 3, 4, 5, 6, 7, 8, 9, 10, 11, 12, 13, 14, 15, 16, 17, 18, 19, 20], \"xaxis\": \"x\", \"y\": [11472.055253129645, 9949.977592596559, 11360.096854261606, 10014.843240243388, 11328.209558951534, 10044.200101537022, 11285.965504372467, 10060.511200596067, 11268.87736423254, 10059.623883542255, 11233.248147773367, 10123.783777872188, 11175.750322790715, 10152.602547328883, 11168.529280894094, 10167.208273207052, 11144.459025959051, 10190.841172561493, 11136.097470940847, 11136.097470940847], \"yaxis\": \"y\"}],                        {\"height\": 600, \"hidesources\": true, \"hoverlabel\": {\"align\": \"right\", \"font\": {\"color\": \"white\"}}, \"legend\": {\"title\": {\"text\": \"Luminosity\"}, \"tracegroupgap\": 0}, \"margin\": {\"b\": 10, \"l\": 10, \"pad\": 0, \"r\": 10, \"t\": 25}, \"template\": {\"data\": {\"bar\": [{\"error_x\": {\"color\": \"#2a3f5f\"}, \"error_y\": {\"color\": \"#2a3f5f\"}, \"marker\": {\"line\": {\"color\": \"#E5ECF6\", \"width\": 0.5}}, \"type\": \"bar\"}], \"barpolar\": [{\"marker\": {\"line\": {\"color\": \"#E5ECF6\", \"width\": 0.5}}, \"type\": \"barpolar\"}], \"carpet\": [{\"aaxis\": {\"endlinecolor\": \"#2a3f5f\", \"gridcolor\": \"white\", \"linecolor\": \"white\", \"minorgridcolor\": \"white\", \"startlinecolor\": \"#2a3f5f\"}, \"baxis\": {\"endlinecolor\": \"#2a3f5f\", \"gridcolor\": \"white\", \"linecolor\": \"white\", \"minorgridcolor\": \"white\", \"startlinecolor\": \"#2a3f5f\"}, \"type\": \"carpet\"}], \"choropleth\": [{\"colorbar\": {\"outlinewidth\": 0, \"ticks\": \"\"}, \"type\": \"choropleth\"}], \"contour\": [{\"colorbar\": {\"outlinewidth\": 0, \"ticks\": \"\"}, \"colorscale\": [[0.0, \"#0d0887\"], [0.1111111111111111, \"#46039f\"], [0.2222222222222222, \"#7201a8\"], [0.3333333333333333, \"#9c179e\"], [0.4444444444444444, \"#bd3786\"], [0.5555555555555556, \"#d8576b\"], [0.6666666666666666, \"#ed7953\"], [0.7777777777777778, \"#fb9f3a\"], [0.8888888888888888, \"#fdca26\"], [1.0, \"#f0f921\"]], \"type\": \"contour\"}], \"contourcarpet\": [{\"colorbar\": {\"outlinewidth\": 0, \"ticks\": \"\"}, \"type\": \"contourcarpet\"}], \"heatmap\": [{\"colorbar\": {\"outlinewidth\": 0, \"ticks\": \"\"}, \"colorscale\": [[0.0, \"#0d0887\"], [0.1111111111111111, \"#46039f\"], [0.2222222222222222, \"#7201a8\"], [0.3333333333333333, \"#9c179e\"], [0.4444444444444444, \"#bd3786\"], [0.5555555555555556, \"#d8576b\"], [0.6666666666666666, \"#ed7953\"], [0.7777777777777778, \"#fb9f3a\"], [0.8888888888888888, \"#fdca26\"], [1.0, \"#f0f921\"]], \"type\": \"heatmap\"}], \"heatmapgl\": [{\"colorbar\": {\"outlinewidth\": 0, \"ticks\": \"\"}, \"colorscale\": [[0.0, \"#0d0887\"], [0.1111111111111111, \"#46039f\"], [0.2222222222222222, \"#7201a8\"], [0.3333333333333333, \"#9c179e\"], [0.4444444444444444, \"#bd3786\"], [0.5555555555555556, \"#d8576b\"], [0.6666666666666666, \"#ed7953\"], [0.7777777777777778, \"#fb9f3a\"], [0.8888888888888888, \"#fdca26\"], [1.0, \"#f0f921\"]], \"type\": \"heatmapgl\"}], \"histogram\": [{\"marker\": {\"colorbar\": {\"outlinewidth\": 0, \"ticks\": \"\"}}, \"type\": \"histogram\"}], \"histogram2d\": [{\"colorbar\": {\"outlinewidth\": 0, \"ticks\": \"\"}, \"colorscale\": [[0.0, \"#0d0887\"], [0.1111111111111111, \"#46039f\"], [0.2222222222222222, \"#7201a8\"], [0.3333333333333333, \"#9c179e\"], [0.4444444444444444, \"#bd3786\"], [0.5555555555555556, \"#d8576b\"], [0.6666666666666666, \"#ed7953\"], [0.7777777777777778, \"#fb9f3a\"], [0.8888888888888888, \"#fdca26\"], [1.0, \"#f0f921\"]], \"type\": \"histogram2d\"}], \"histogram2dcontour\": [{\"colorbar\": {\"outlinewidth\": 0, \"ticks\": \"\"}, \"colorscale\": [[0.0, \"#0d0887\"], [0.1111111111111111, \"#46039f\"], [0.2222222222222222, \"#7201a8\"], [0.3333333333333333, \"#9c179e\"], [0.4444444444444444, \"#bd3786\"], [0.5555555555555556, \"#d8576b\"], [0.6666666666666666, \"#ed7953\"], [0.7777777777777778, \"#fb9f3a\"], [0.8888888888888888, \"#fdca26\"], [1.0, \"#f0f921\"]], \"type\": \"histogram2dcontour\"}], \"mesh3d\": [{\"colorbar\": {\"outlinewidth\": 0, \"ticks\": \"\"}, \"type\": \"mesh3d\"}], \"parcoords\": [{\"line\": {\"colorbar\": {\"outlinewidth\": 0, \"ticks\": \"\"}}, \"type\": \"parcoords\"}], \"pie\": [{\"automargin\": true, \"type\": \"pie\"}], \"scatter\": [{\"marker\": {\"colorbar\": {\"outlinewidth\": 0, \"ticks\": \"\"}}, \"type\": \"scatter\"}], \"scatter3d\": [{\"line\": {\"colorbar\": {\"outlinewidth\": 0, \"ticks\": \"\"}}, \"marker\": {\"colorbar\": {\"outlinewidth\": 0, \"ticks\": \"\"}}, \"type\": \"scatter3d\"}], \"scattercarpet\": [{\"marker\": {\"colorbar\": {\"outlinewidth\": 0, \"ticks\": \"\"}}, \"type\": \"scattercarpet\"}], \"scattergeo\": [{\"marker\": {\"colorbar\": {\"outlinewidth\": 0, \"ticks\": \"\"}}, \"type\": \"scattergeo\"}], \"scattergl\": [{\"marker\": {\"colorbar\": {\"outlinewidth\": 0, \"ticks\": \"\"}}, \"type\": \"scattergl\"}], \"scattermapbox\": [{\"marker\": {\"colorbar\": {\"outlinewidth\": 0, \"ticks\": \"\"}}, \"type\": \"scattermapbox\"}], \"scatterpolar\": [{\"marker\": {\"colorbar\": {\"outlinewidth\": 0, \"ticks\": \"\"}}, \"type\": \"scatterpolar\"}], \"scatterpolargl\": [{\"marker\": {\"colorbar\": {\"outlinewidth\": 0, \"ticks\": \"\"}}, \"type\": \"scatterpolargl\"}], \"scatterternary\": [{\"marker\": {\"colorbar\": {\"outlinewidth\": 0, \"ticks\": \"\"}}, \"type\": \"scatterternary\"}], \"surface\": [{\"colorbar\": {\"outlinewidth\": 0, \"ticks\": \"\"}, \"colorscale\": [[0.0, \"#0d0887\"], [0.1111111111111111, \"#46039f\"], [0.2222222222222222, \"#7201a8\"], [0.3333333333333333, \"#9c179e\"], [0.4444444444444444, \"#bd3786\"], [0.5555555555555556, \"#d8576b\"], [0.6666666666666666, \"#ed7953\"], [0.7777777777777778, \"#fb9f3a\"], [0.8888888888888888, \"#fdca26\"], [1.0, \"#f0f921\"]], \"type\": \"surface\"}], \"table\": [{\"cells\": {\"fill\": {\"color\": \"#EBF0F8\"}, \"line\": {\"color\": \"white\"}}, \"header\": {\"fill\": {\"color\": \"#C8D4E3\"}, \"line\": {\"color\": \"white\"}}, \"type\": \"table\"}]}, \"layout\": {\"annotationdefaults\": {\"arrowcolor\": \"#2a3f5f\", \"arrowhead\": 0, \"arrowwidth\": 1}, \"autotypenumbers\": \"strict\", \"coloraxis\": {\"colorbar\": {\"outlinewidth\": 0, \"ticks\": \"\"}}, \"colorscale\": {\"diverging\": [[0, \"#8e0152\"], [0.1, \"#c51b7d\"], [0.2, \"#de77ae\"], [0.3, \"#f1b6da\"], [0.4, \"#fde0ef\"], [0.5, \"#f7f7f7\"], [0.6, \"#e6f5d0\"], [0.7, \"#b8e186\"], [0.8, \"#7fbc41\"], [0.9, \"#4d9221\"], [1, \"#276419\"]], \"sequential\": [[0.0, \"#0d0887\"], [0.1111111111111111, \"#46039f\"], [0.2222222222222222, \"#7201a8\"], [0.3333333333333333, \"#9c179e\"], [0.4444444444444444, \"#bd3786\"], [0.5555555555555556, \"#d8576b\"], [0.6666666666666666, \"#ed7953\"], [0.7777777777777778, \"#fb9f3a\"], [0.8888888888888888, \"#fdca26\"], [1.0, \"#f0f921\"]], \"sequentialminus\": [[0.0, \"#0d0887\"], [0.1111111111111111, \"#46039f\"], [0.2222222222222222, \"#7201a8\"], [0.3333333333333333, \"#9c179e\"], [0.4444444444444444, \"#bd3786\"], [0.5555555555555556, \"#d8576b\"], [0.6666666666666666, \"#ed7953\"], [0.7777777777777778, \"#fb9f3a\"], [0.8888888888888888, \"#fdca26\"], [1.0, \"#f0f921\"]]}, \"colorway\": [\"#636efa\", \"#EF553B\", \"#00cc96\", \"#ab63fa\", \"#FFA15A\", \"#19d3f3\", \"#FF6692\", \"#B6E880\", \"#FF97FF\", \"#FECB52\"], \"font\": {\"color\": \"#2a3f5f\"}, \"geo\": {\"bgcolor\": \"white\", \"lakecolor\": \"white\", \"landcolor\": \"#E5ECF6\", \"showlakes\": true, \"showland\": true, \"subunitcolor\": \"white\"}, \"hoverlabel\": {\"align\": \"left\"}, \"hovermode\": \"closest\", \"mapbox\": {\"style\": \"light\"}, \"paper_bgcolor\": \"white\", \"plot_bgcolor\": \"#E5ECF6\", \"polar\": {\"angularaxis\": {\"gridcolor\": \"white\", \"linecolor\": \"white\", \"ticks\": \"\"}, \"bgcolor\": \"#E5ECF6\", \"radialaxis\": {\"gridcolor\": \"white\", \"linecolor\": \"white\", \"ticks\": \"\"}}, \"scene\": {\"xaxis\": {\"backgroundcolor\": \"#E5ECF6\", \"gridcolor\": \"white\", \"gridwidth\": 2, \"linecolor\": \"white\", \"showbackground\": true, \"ticks\": \"\", \"zerolinecolor\": \"white\"}, \"yaxis\": {\"backgroundcolor\": \"#E5ECF6\", \"gridcolor\": \"white\", \"gridwidth\": 2, \"linecolor\": \"white\", \"showbackground\": true, \"ticks\": \"\", \"zerolinecolor\": \"white\"}, \"zaxis\": {\"backgroundcolor\": \"#E5ECF6\", \"gridcolor\": \"white\", \"gridwidth\": 2, \"linecolor\": \"white\", \"showbackground\": true, \"ticks\": \"\", \"zerolinecolor\": \"white\"}}, \"shapedefaults\": {\"line\": {\"color\": \"#2a3f5f\"}}, \"ternary\": {\"aaxis\": {\"gridcolor\": \"white\", \"linecolor\": \"white\", \"ticks\": \"\"}, \"baxis\": {\"gridcolor\": \"white\", \"linecolor\": \"white\", \"ticks\": \"\"}, \"bgcolor\": \"#E5ECF6\", \"caxis\": {\"gridcolor\": \"white\", \"linecolor\": \"white\", \"ticks\": \"\"}}, \"title\": {\"x\": 0.05}, \"xaxis\": {\"automargin\": true, \"gridcolor\": \"white\", \"linecolor\": \"white\", \"ticks\": \"\", \"title\": {\"standoff\": 15}, \"zerolinecolor\": \"white\", \"zerolinewidth\": 2}, \"yaxis\": {\"automargin\": true, \"gridcolor\": \"white\", \"linecolor\": \"white\", \"ticks\": \"\", \"title\": {\"standoff\": 15}, \"zerolinecolor\": \"white\", \"zerolinewidth\": 2}}}, \"xaxis\": {\"anchor\": \"y\", \"domain\": [0.0, 1.0], \"dtick\": 2, \"matches\": \"x3\", \"range\": [0, 21], \"showticklabels\": false}, \"xaxis2\": {\"anchor\": \"y2\", \"domain\": [0.0, 1.0], \"dtick\": 2, \"matches\": \"x\", \"range\": [0, 21], \"showticklabels\": false}, \"xaxis3\": {\"anchor\": \"y3\", \"domain\": [0.0, 1.0], \"dtick\": 2, \"matches\": \"x\", \"title\": {\"text\": \"$\\\\mbox{Iteration Number}$\"}}, \"yaxis\": {\"anchor\": \"x\", \"automargin\": true, \"domain\": [0.865, 1.0], \"exponentformat\": \"e\", \"side\": \"top\", \"tickformat\": \"g\", \"title\": {\"text\": \"$\\\\mbox{T}_{inner}$\"}}, \"yaxis2\": {\"anchor\": \"x2\", \"automargin\": true, \"domain\": [0.185, 0.815], \"exponentformat\": \"e\", \"title\": {\"font\": {\"size\": 13}, \"text\": \"$\\\\mbox{Luminosity}~(erg~sec^{-1})$\"}}, \"yaxis3\": {\"anchor\": \"x3\", \"automargin\": true, \"domain\": [0.0, 0.135], \"exponentformat\": \"e\", \"title\": {\"font\": {\"size\": 12}, \"text\": \"$~~\\\\mbox{Residual}\\\\\\\\\\\\mbox{Luminosity(%)}$\"}}},                        {\"responsive\": true}                    ).then(function(){\n                            \nvar gd = document.getElementById('cbdeeef5-3313-47e7-a052-abe059258630');\nvar x = new MutationObserver(function (mutations, observer) {{\n        var display = window.getComputedStyle(gd).display;\n        if (!display || display === 'none') {{\n            console.log([gd, 'removed!']);\n            Plotly.purge(gd);\n            observer.disconnect();\n        }}\n}});\n\n// Listen for the removal of the full notebook cells\nvar notebookContainer = gd.closest('#notebook-container');\nif (notebookContainer) {{\n    x.observe(notebookContainer, {childList: true});\n}}\n\n// Listen for the clearing of the current output cell\nvar outputEl = gd.closest('.output');\nif (outputEl) {{\n    x.observe(outputEl, {childList: true});\n}}\n\n                        })                };                });            </script>        </div>"
         },
         "metadata": {},
         "output_type": "display_data"
        }
       ]
      }
     },
     "ea0d5e0aa461439db9297b5984e22d33": {
      "model_module": "@jupyter-widgets/output",
      "model_module_version": "1.0.0",
      "model_name": "OutputModel",
      "state": {
       "layout": "IPY_MODEL_691e640ecb0c4c47b57ff914416f05bf",
       "outputs": [
        {
         "data": {
          "text/html": "        <script type=\"text/javascript\">\n        window.PlotlyConfig = {MathJaxConfig: 'local'};\n        if (window.MathJax) {MathJax.Hub.Config({SVG: {font: \"STIX-Web\"}});}\n        if (typeof require !== 'undefined') {\n        require.undef(\"plotly\");\n        requirejs.config({\n            paths: {\n                'plotly': ['https://cdn.plot.ly/plotly-latest.min']\n            }\n        });\n        require(['plotly'], function(Plotly) {\n            window._Plotly = Plotly;\n        });\n        }\n        </script>\n        "
         },
         "metadata": {},
         "output_type": "display_data"
        },
        {
         "data": {
          "text/html": "<div>                            <div id=\"95704577-cd19-42bf-b0ea-a3511af83ef6\" class=\"plotly-graph-div\" style=\"height:580px; width:100%;\"></div>            <script type=\"text/javascript\">                require([\"plotly\"], function(Plotly) {                    window.PLOTLYENV=window.PLOTLYENV || {};                                    if (document.getElementById(\"95704577-cd19-42bf-b0ea-a3511af83ef6\")) {                    Plotly.newPlot(                        \"95704577-cd19-42bf-b0ea-a3511af83ef6\",                        [{\"line\": {\"color\": \"#800000\"}, \"type\": \"scatter\", \"uid\": \"5748c140-1705-4475-a12c-53869ea228ef\", \"xaxis\": \"x\", \"yaxis\": \"y\"}, {\"line\": {\"color\": \"#800000\"}, \"type\": \"scatter\", \"uid\": \"89f06b27-719f-4d4f-9bfe-f154dea4fcee\", \"xaxis\": \"x2\", \"yaxis\": \"y2\"}, {\"legendgroup\": \"group-0\", \"line\": {\"color\": \"#000080\"}, \"marker\": {\"size\": 3, \"symbol\": \"diamond\"}, \"name\": \"1\", \"showlegend\": false, \"type\": \"scatter\", \"uid\": \"6de334b7-6016-4fee-a3c1-5b8b2fe7198d\", \"x\": [11000.0, 11450.0, 11900.0, 12350.0, 12800.0, 13250.0, 13700.0, 14150.0, 14600.0, 15050.0, 15500.0, 15950.0, 16400.0, 16850.0, 17300.0, 17750.0, 18200.0, 18650.0, 19100.0, 19550.0, 20000.0], \"xaxis\": \"x\", \"y\": [10134.733716625742, 10158.894068408064, 10199.163062164183, 10230.988705011776, 10268.95723542248, 10222.890845143002, 10224.33250792895, 10215.304103107928, 10218.67593187541, 10185.463728853065, 10144.46316917108, 10076.87680984274, 10030.209347853815, 10029.018621140542, 9986.944524442715, 9873.477845862937, 9843.334614032237, 9771.609702679261, 9679.524619982089, 9610.209774198473], \"yaxis\": \"y\"}, {\"legendgroup\": \"group-0\", \"line\": {\"color\": \"#000080\"}, \"marker\": {\"size\": 3, \"symbol\": \"diamond\"}, \"name\": \"1\", \"type\": \"scatter\", \"uid\": \"dfd2e8aa-0a4f-43f8-b700-4a470619ba3d\", \"x\": [11000.0, 11450.0, 11900.0, 12350.0, 12800.0, 13250.0, 13700.0, 14150.0, 14600.0, 15050.0, 15500.0, 15950.0, 16400.0, 16850.0, 17300.0, 17750.0, 18200.0, 18650.0, 19100.0, 19550.0, 20000.0], \"xaxis\": \"x2\", \"y\": [0.5082040569581554, 0.3962212763594891, 0.3214185723254649, 0.26560113513158967, 0.22389059993927218, 0.19702589896830255, 0.1749491202529985, 0.1563731541470249, 0.13940960015313733, 0.12795427205030482, 0.11717940936679912, 0.10932218040060024, 0.10303354273987321, 0.09520635540966971, 0.08986506172262776, 0.08694065164106614, 0.082029771070409, 0.07895392034793645, 0.07641285709961215, 0.0734944435056783], \"yaxis\": \"y2\"}, {\"legendgroup\": \"group-1\", \"line\": {\"color\": \"#0000bd\"}, \"marker\": {\"size\": 3, \"symbol\": \"diamond\"}, \"name\": \"2\", \"showlegend\": false, \"type\": \"scatter\", \"uid\": \"de2fcfc0-1144-4a6a-8566-b98dd70f45a7\", \"x\": [11000.0, 11450.0, 11900.0, 12350.0, 12800.0, 13250.0, 13700.0, 14150.0, 14600.0, 15050.0, 15500.0, 15950.0, 16400.0, 16850.0, 17300.0, 17750.0, 18200.0, 18650.0, 19100.0, 19550.0, 20000.0], \"xaxis\": \"x\", \"y\": [11468.021903420027, 11435.999407966676, 11449.930444230995, 11492.65958293691, 11527.299217171007, 11499.835339656465, 11477.276330649498, 11460.659744967303, 11406.161049943823, 11340.543942919201, 11306.370330122183, 11212.548324749032, 11165.15031794662, 11109.460288675331, 11032.751812374603, 10953.828130057926, 10887.89602394496, 10829.273836669769, 10807.478630946254, 10678.472039472606], \"yaxis\": \"y\"}, {\"legendgroup\": \"group-1\", \"line\": {\"color\": \"#0000bd\"}, \"marker\": {\"size\": 3, \"symbol\": \"diamond\"}, \"name\": \"2\", \"type\": \"scatter\", \"uid\": \"82cfdcf8-4ed8-4ee9-8617-e9e8bf82fe51\", \"x\": [11000.0, 11450.0, 11900.0, 12350.0, 12800.0, 13250.0, 13700.0, 14150.0, 14600.0, 15050.0, 15500.0, 15950.0, 16400.0, 16850.0, 17300.0, 17750.0, 18200.0, 18650.0, 19100.0, 19550.0, 20000.0], \"xaxis\": \"x2\", \"y\": [0.5486713034814857, 0.4359667978092499, 0.35745766558351055, 0.29759617877916883, 0.2514052642548386, 0.2213742932983643, 0.1967142119281105, 0.1750139221468986, 0.1596018423150508, 0.14776884435084475, 0.1362910943753445, 0.1282954632603496, 0.11949333047989281, 0.11271924127039863, 0.10796286592870252, 0.10261651657287679, 0.09761052473526158, 0.0925701903122773, 0.08757308797595444, 0.08560372849204283], \"yaxis\": \"y2\"}, {\"legendgroup\": \"group-2\", \"line\": {\"color\": \"#0000fa\"}, \"marker\": {\"size\": 3, \"symbol\": \"diamond\"}, \"name\": \"3\", \"showlegend\": false, \"type\": \"scatter\", \"uid\": \"c982a747-5420-4709-aa74-b24735147296\", \"x\": [11000.0, 11450.0, 11900.0, 12350.0, 12800.0, 13250.0, 13700.0, 14150.0, 14600.0, 15050.0, 15500.0, 15950.0, 16400.0, 16850.0, 17300.0, 17750.0, 18200.0, 18650.0, 19100.0, 19550.0, 20000.0], \"xaxis\": \"x\", \"y\": [10497.008397133988, 10647.412149636564, 10710.555598349812, 10778.428547850966, 10799.157541112727, 10799.075913257297, 10809.366021863923, 10753.851890469936, 10723.18539784127, 10725.950530076656, 10623.433273860508, 10568.227843581686, 10448.426796026406, 10344.129570842591, 10277.247070725653, 10226.187071335817, 10191.522923045857, 10084.749431116139, 9966.774860086334, 9840.487791467045], \"yaxis\": \"y\"}, {\"legendgroup\": \"group-2\", \"line\": {\"color\": \"#0000fa\"}, \"marker\": {\"size\": 3, \"symbol\": \"diamond\"}, \"name\": \"3\", \"type\": \"scatter\", \"uid\": \"27421b73-4e1d-40a3-be82-abe87255e702\", \"x\": [11000.0, 11450.0, 11900.0, 12350.0, 12800.0, 13250.0, 13700.0, 14150.0, 14600.0, 15050.0, 15500.0, 15950.0, 16400.0, 16850.0, 17300.0, 17750.0, 18200.0, 18650.0, 19100.0, 19550.0, 20000.0], \"xaxis\": \"x2\", \"y\": [0.442299407233424, 0.3316155054771363, 0.26819254934335535, 0.22122958128497036, 0.18813327121608667, 0.16428839927198421, 0.1443413401513004, 0.13164698698733832, 0.12013575438192611, 0.1081687026641846, 0.10181996368767447, 0.09492623735431249, 0.09101140062051426, 0.08639163271896758, 0.08220814746497997, 0.07762890235617773, 0.0732750049575765, 0.07106642067401933, 0.06969266984280108, 0.06837630714305266], \"yaxis\": \"y2\"}, {\"legendgroup\": \"group-3\", \"line\": {\"color\": \"#0022ff\"}, \"marker\": {\"size\": 3, \"symbol\": \"diamond\"}, \"name\": \"4\", \"showlegend\": false, \"type\": \"scatter\", \"uid\": \"79c4e356-b322-4e5d-86a8-bf62146b44fb\", \"x\": [11000.0, 11450.0, 11900.0, 12350.0, 12800.0, 13250.0, 13700.0, 14150.0, 14600.0, 15050.0, 15500.0, 15950.0, 16400.0, 16850.0, 17300.0, 17750.0, 18200.0, 18650.0, 19100.0, 19550.0, 20000.0], \"xaxis\": \"x\", \"y\": [11615.34431271539, 11665.123230726764, 11722.631980824826, 11696.759034389528, 11740.274989218244, 11729.411389495828, 11762.93754644142, 11652.44218706302, 11589.11016884437, 11561.496043188794, 11517.190316985118, 11433.020206851419, 11326.42249364519, 11237.973261737088, 11182.841624719184, 11103.37345606317, 10988.381394715301, 10950.081329679253, 10862.947659789317, 10751.855231570007], \"yaxis\": \"y\"}, {\"legendgroup\": \"group-3\", \"line\": {\"color\": \"#0022ff\"}, \"marker\": {\"size\": 3, \"symbol\": \"diamond\"}, \"name\": \"4\", \"type\": \"scatter\", \"uid\": \"19f6aaa3-566e-40a6-8f81-51f00d735077\", \"x\": [11000.0, 11450.0, 11900.0, 12350.0, 12800.0, 13250.0, 13700.0, 14150.0, 14600.0, 15050.0, 15500.0, 15950.0, 16400.0, 16850.0, 17300.0, 17750.0, 18200.0, 18650.0, 19100.0, 19550.0, 20000.0], \"xaxis\": \"x2\", \"y\": [0.4977143593187972, 0.3915904655092031, 0.31518118479289936, 0.26854353604159453, 0.22820910008384737, 0.1992052064914697, 0.1732796396495469, 0.15947664883652757, 0.14579099407466625, 0.1334986840647756, 0.12384871542019993, 0.1163327713735177, 0.11004943343959867, 0.10494577908156115, 0.09880472549683283, 0.09393029340453476, 0.09096244445118767, 0.08630423393331049, 0.08321862769525468, 0.08100093623949862], \"yaxis\": \"y2\"}, {\"legendgroup\": \"group-4\", \"line\": {\"color\": \"#0057ff\"}, \"marker\": {\"size\": 3, \"symbol\": \"diamond\"}, \"name\": \"5\", \"showlegend\": false, \"type\": \"scatter\", \"uid\": \"47bc07f9-9618-48b3-9570-b8dd75784f77\", \"x\": [11000.0, 11450.0, 11900.0, 12350.0, 12800.0, 13250.0, 13700.0, 14150.0, 14600.0, 15050.0, 15500.0, 15950.0, 16400.0, 16850.0, 17300.0, 17750.0, 18200.0, 18650.0, 19100.0, 19550.0, 20000.0], \"xaxis\": \"x\", \"y\": [10549.51412848435, 10759.565074180144, 10894.663638012831, 10932.865203687254, 10930.709069978382, 10919.073481210131, 10877.07525272697, 10810.824269258308, 10785.603108487141, 10727.31310966391, 10697.303299672532, 10711.257210371086, 10551.734446150795, 10490.892524557958, 10416.933630770685, 10379.863072642813, 10279.630106699515, 10220.453729533758, 10077.475484616278, 9927.285882427788], \"yaxis\": \"y\"}, {\"legendgroup\": \"group-4\", \"line\": {\"color\": \"#0057ff\"}, \"marker\": {\"size\": 3, \"symbol\": \"diamond\"}, \"name\": \"5\", \"type\": \"scatter\", \"uid\": \"95b3cbbf-a8ce-4ac7-b682-61458ee29c22\", \"x\": [11000.0, 11450.0, 11900.0, 12350.0, 12800.0, 13250.0, 13700.0, 14150.0, 14600.0, 15050.0, 15500.0, 15950.0, 16400.0, 16850.0, 17300.0, 17750.0, 18200.0, 18650.0, 19100.0, 19550.0, 20000.0], \"xaxis\": \"x2\", \"y\": [0.4434406663593859, 0.329565789368522, 0.26010890450064733, 0.2159881056247415, 0.1854070420834862, 0.16219891903074657, 0.14560372598880475, 0.13326787384388758, 0.11999931339731698, 0.11025218829721785, 0.1012892218335092, 0.09247037462403469, 0.08933312170132374, 0.08413052869637083, 0.07995660682274036, 0.07537221197763783, 0.07252173631498261, 0.06901139800647034, 0.06809975749337623, 0.06735205229901337], \"yaxis\": \"y2\"}, {\"legendgroup\": \"group-5\", \"line\": {\"color\": \"#008dff\"}, \"marker\": {\"size\": 3, \"symbol\": \"diamond\"}, \"name\": \"6\", \"showlegend\": false, \"type\": \"scatter\", \"uid\": \"96b2f801-dd5e-4dd0-af96-256d92ab7829\", \"x\": [11000.0, 11450.0, 11900.0, 12350.0, 12800.0, 13250.0, 13700.0, 14150.0, 14600.0, 15050.0, 15500.0, 15950.0, 16400.0, 16850.0, 17300.0, 17750.0, 18200.0, 18650.0, 19100.0, 19550.0, 20000.0], \"xaxis\": \"x\", \"y\": [11567.208184336641, 11613.025123050538, 11683.328827353047, 11693.104708830946, 11724.278325269526, 11653.124120929953, 11612.65021223817, 11609.82892873756, 11614.580326945592, 11546.462389124263, 11425.95501009532, 11375.048998512899, 11315.818140434149, 11225.578780782147, 11120.449864009748, 11082.155937788912, 10987.868514296186, 10920.442550504482, 10834.92855121022, 10735.503852801117], \"yaxis\": \"y\"}, {\"legendgroup\": \"group-5\", \"line\": {\"color\": \"#008dff\"}, \"marker\": {\"size\": 3, \"symbol\": \"diamond\"}, \"name\": \"6\", \"type\": \"scatter\", \"uid\": \"ca74756d-10ca-4aec-bd76-42b0e27fe43e\", \"x\": [11000.0, 11450.0, 11900.0, 12350.0, 12800.0, 13250.0, 13700.0, 14150.0, 14600.0, 15050.0, 15500.0, 15950.0, 16400.0, 16850.0, 17300.0, 17750.0, 18200.0, 18650.0, 19100.0, 19550.0, 20000.0], \"xaxis\": \"x2\", \"y\": [0.5041776548110584, 0.39023406927746374, 0.3175388504350529, 0.2668923064824901, 0.22560807776675992, 0.203042144204494, 0.18189522000862068, 0.16135829264739318, 0.14556836273965668, 0.13371966659083212, 0.12524940621974714, 0.11754876564474895, 0.11015802998525885, 0.10441164070595735, 0.09931347804630662, 0.09402786959361889, 0.09062541591197751, 0.08647506254390502, 0.08333888504337562, 0.08065101681509353], \"yaxis\": \"y2\"}, {\"legendgroup\": \"group-6\", \"line\": {\"color\": \"#00c3ff\"}, \"marker\": {\"size\": 3, \"symbol\": \"diamond\"}, \"name\": \"7\", \"showlegend\": false, \"type\": \"scatter\", \"uid\": \"730649f0-47bb-4b4d-8262-773b17d0f193\", \"x\": [11000.0, 11450.0, 11900.0, 12350.0, 12800.0, 13250.0, 13700.0, 14150.0, 14600.0, 15050.0, 15500.0, 15950.0, 16400.0, 16850.0, 17300.0, 17750.0, 18200.0, 18650.0, 19100.0, 19550.0, 20000.0], \"xaxis\": \"x\", \"y\": [10569.74740334304, 10778.034968335256, 10902.99080443269, 10989.797314359694, 11047.113446219639, 11099.194259237403, 11016.051305801364, 10966.513171670935, 10947.55947416353, 10934.581362699615, 10809.397890448754, 10698.341230707349, 10636.972622756153, 10581.99648087922, 10532.222759856093, 10454.841299228276, 10338.205644915452, 10252.881876072242, 10087.404942797337, 9969.196423563208], \"yaxis\": \"y\"}, {\"legendgroup\": \"group-6\", \"line\": {\"color\": \"#00c3ff\"}, \"marker\": {\"size\": 3, \"symbol\": \"diamond\"}, \"name\": \"7\", \"type\": \"scatter\", \"uid\": \"a89fe217-0b4e-4d5a-9a67-f9c2b89b462a\", \"x\": [11000.0, 11450.0, 11900.0, 12350.0, 12800.0, 13250.0, 13700.0, 14150.0, 14600.0, 15050.0, 15500.0, 15950.0, 16400.0, 16850.0, 17300.0, 17750.0, 18200.0, 18650.0, 19100.0, 19550.0, 20000.0], \"xaxis\": \"x2\", \"y\": [0.4422900724363882, 0.32572087182053455, 0.25608363121508193, 0.20917551310840277, 0.17856281204684143, 0.1532534478801237, 0.1389841189692777, 0.1262357056609694, 0.11375261901807446, 0.10290814628079882, 0.09725630417756266, 0.09284460200253164, 0.0871069617423461, 0.0816250729899891, 0.07729032592235478, 0.07380941869099045, 0.07152054892238287, 0.06908445244271275, 0.06851046721770122, 0.06692890210588077], \"yaxis\": \"y2\"}, {\"legendgroup\": \"group-7\", \"line\": {\"color\": \"#0ff8e8\"}, \"marker\": {\"size\": 3, \"symbol\": \"diamond\"}, \"name\": \"8\", \"showlegend\": false, \"type\": \"scatter\", \"uid\": \"258b1695-7ce4-49ca-884d-528121b755ff\", \"x\": [11000.0, 11450.0, 11900.0, 12350.0, 12800.0, 13250.0, 13700.0, 14150.0, 14600.0, 15050.0, 15500.0, 15950.0, 16400.0, 16850.0, 17300.0, 17750.0, 18200.0, 18650.0, 19100.0, 19550.0, 20000.0], \"xaxis\": \"x\", \"y\": [11547.678161996797, 11623.874786176679, 11731.044716907294, 11760.25509798027, 11744.698977086615, 11669.73950817632, 11644.121670479833, 11594.304643594436, 11525.864522224016, 11493.832801176886, 11493.569589639628, 11391.455575577864, 11294.144464329282, 11274.715359901778, 11177.405492194264, 11083.76958592225, 11033.949307567013, 10945.602385267846, 10830.938212361745, 10712.245869588583], \"yaxis\": \"y\"}, {\"legendgroup\": \"group-7\", \"line\": {\"color\": \"#0ff8e8\"}, \"marker\": {\"size\": 3, \"symbol\": \"diamond\"}, \"name\": \"8\", \"type\": \"scatter\", \"uid\": \"793f37e2-2901-4031-8154-6385f9866aca\", \"x\": [11000.0, 11450.0, 11900.0, 12350.0, 12800.0, 13250.0, 13700.0, 14150.0, 14600.0, 15050.0, 15500.0, 15950.0, 16400.0, 16850.0, 17300.0, 17750.0, 18200.0, 18650.0, 19100.0, 19550.0, 20000.0], \"xaxis\": \"x2\", \"y\": [0.5003453146367499, 0.38382149418984424, 0.3046144240522065, 0.25655030086043534, 0.22316143817180586, 0.1983376255429574, 0.17627463164764823, 0.16038371517158478, 0.14647197836539907, 0.13388777429772944, 0.12191469474588634, 0.11483702826414072, 0.10939033073711928, 0.1016253554908811, 0.09688786513696965, 0.09283396230842705, 0.08787816010814403, 0.08454191425058025, 0.08203925347737268, 0.0802404176236165], \"yaxis\": \"y2\"}, {\"legendgroup\": \"group-8\", \"line\": {\"color\": \"#3affbc\"}, \"marker\": {\"size\": 3, \"symbol\": \"diamond\"}, \"name\": \"9\", \"showlegend\": false, \"type\": \"scatter\", \"uid\": \"22866e2a-1966-4e83-a342-ee700b2f6725\", \"x\": [11000.0, 11450.0, 11900.0, 12350.0, 12800.0, 13250.0, 13700.0, 14150.0, 14600.0, 15050.0, 15500.0, 15950.0, 16400.0, 16850.0, 17300.0, 17750.0, 18200.0, 18650.0, 19100.0, 19550.0, 20000.0], \"xaxis\": \"x\", \"y\": [10635.099216825016, 10811.018798823196, 10933.638973465304, 10979.717070479548, 11020.403776787787, 11035.731463947244, 10938.265121115064, 10845.596613320555, 10800.731975199556, 10763.639570847956, 10717.471486460141, 10707.496982070452, 10660.60682399312, 10573.357547773094, 10472.700868373204, 10404.049299323693, 10290.698637903408, 10218.265955052706, 10108.378593633912, 9988.315668041098], \"yaxis\": \"y\"}, {\"legendgroup\": \"group-8\", \"line\": {\"color\": \"#3affbc\"}, \"marker\": {\"size\": 3, \"symbol\": \"diamond\"}, \"name\": \"9\", \"type\": \"scatter\", \"uid\": \"d6da2861-6535-4a03-804f-22c41449720e\", \"x\": [11000.0, 11450.0, 11900.0, 12350.0, 12800.0, 13250.0, 13700.0, 14150.0, 14600.0, 15050.0, 15500.0, 15950.0, 16400.0, 16850.0, 17300.0, 17750.0, 18200.0, 18650.0, 19100.0, 19550.0, 20000.0], \"xaxis\": \"x2\", \"y\": [0.43952006761780843, 0.327268984776419, 0.2606464861341183, 0.21628196882829448, 0.18251989124968382, 0.15831982713481618, 0.14420700235789413, 0.1319104825157537, 0.11992662887673335, 0.11051812652760704, 0.10164157832326394, 0.0935169832842306, 0.08702393919783383, 0.08275717669259847, 0.07958674997930451, 0.07579438452066575, 0.07337972954768164, 0.07043279263704051, 0.06849589481058935, 0.06699933221108373], \"yaxis\": \"y2\"}, {\"legendgroup\": \"group-9\", \"line\": {\"color\": \"#66ff91\"}, \"marker\": {\"size\": 3, \"symbol\": \"diamond\"}, \"name\": \"10\", \"showlegend\": false, \"type\": \"scatter\", \"uid\": \"4fa60eb3-40e2-41bf-8b0d-a3cf7bc847b2\", \"x\": [11000.0, 11450.0, 11900.0, 12350.0, 12800.0, 13250.0, 13700.0, 14150.0, 14600.0, 15050.0, 15500.0, 15950.0, 16400.0, 16850.0, 17300.0, 17750.0, 18200.0, 18650.0, 19100.0, 19550.0, 20000.0], \"xaxis\": \"x\", \"y\": [11500.55767773097, 11637.546429690152, 11663.40617042992, 11724.968508662445, 11714.760546184587, 11715.267405819095, 11601.494346275227, 11508.240345570224, 11502.488963193151, 11497.386422527972, 11451.270656305627, 11400.159576989896, 11327.524225636038, 11287.892223234016, 11179.325846630562, 11094.423438456082, 10990.648087308033, 10925.434399972431, 10815.564131433573, 10706.177796255937], \"yaxis\": \"y\"}, {\"legendgroup\": \"group-9\", \"line\": {\"color\": \"#66ff91\"}, \"marker\": {\"size\": 3, \"symbol\": \"diamond\"}, \"name\": \"10\", \"type\": \"scatter\", \"uid\": \"ff96c8b9-cd40-480e-8cd4-4d7cb3843512\", \"x\": [11000.0, 11450.0, 11900.0, 12350.0, 12800.0, 13250.0, 13700.0, 14150.0, 14600.0, 15050.0, 15500.0, 15950.0, 16400.0, 16850.0, 17300.0, 17750.0, 18200.0, 18650.0, 19100.0, 19550.0, 20000.0], \"xaxis\": \"x2\", \"y\": [0.5068949392970965, 0.38221104971484254, 0.31487414577388056, 0.2621151190162536, 0.22619764203242226, 0.1966896714263117, 0.17976793731845225, 0.16527279232801473, 0.14785746043356635, 0.13387433613614877, 0.1232425999868199, 0.1146829697056732, 0.10741488616862097, 0.10056120171965181, 0.09622391591057, 0.0922429076610291, 0.0891060122843892, 0.08532979760583174, 0.08271120381699126, 0.08030516190365557], \"yaxis\": \"y2\"}, {\"legendgroup\": \"group-10\", \"line\": {\"color\": \"#91ff66\"}, \"marker\": {\"size\": 3, \"symbol\": \"diamond\"}, \"name\": \"11\", \"showlegend\": false, \"type\": \"scatter\", \"uid\": \"eec75a43-4f69-46fd-8c70-67321b2fefb9\", \"x\": [11000.0, 11450.0, 11900.0, 12350.0, 12800.0, 13250.0, 13700.0, 14150.0, 14600.0, 15050.0, 15500.0, 15950.0, 16400.0, 16850.0, 17300.0, 17750.0, 18200.0, 18650.0, 19100.0, 19550.0, 20000.0], \"xaxis\": \"x\", \"y\": [10570.856509263214, 10736.442568836415, 10856.868647968908, 10979.906697012919, 10953.700434670503, 10957.336276077183, 10966.459695386746, 10949.857847026873, 10898.17650137722, 10912.847154692829, 10916.410390590076, 10804.79013541429, 10642.721757219706, 10673.950209699196, 10562.15537191637, 10441.053929477466, 10375.82143773825, 10218.808094852784, 10128.925286201786, 9982.977583607197], \"yaxis\": \"y\"}, {\"legendgroup\": \"group-10\", \"line\": {\"color\": \"#91ff66\"}, \"marker\": {\"size\": 3, \"symbol\": \"diamond\"}, \"name\": \"11\", \"type\": \"scatter\", \"uid\": \"ab35945e-af57-483e-a35c-a1a6720eb817\", \"x\": [11000.0, 11450.0, 11900.0, 12350.0, 12800.0, 13250.0, 13700.0, 14150.0, 14600.0, 15050.0, 15500.0, 15950.0, 16400.0, 16850.0, 17300.0, 17750.0, 18200.0, 18650.0, 19100.0, 19550.0, 20000.0], \"xaxis\": \"x2\", \"y\": [0.44592562360298593, 0.331726124200421, 0.2626860334726053, 0.21445158567301176, 0.1874369354198379, 0.16283699173812993, 0.14343516576688212, 0.1288301921728002, 0.11742933862073758, 0.10551038169028196, 0.09622856527804761, 0.0908415597305189, 0.08819161384785737, 0.08047832421527892, 0.07731272727040164, 0.07502560062315754, 0.07149678574153981, 0.07062712405261021, 0.06830828451008499, 0.0675509962637582], \"yaxis\": \"y2\"}, {\"legendgroup\": \"group-11\", \"line\": {\"color\": \"#bcff3a\"}, \"marker\": {\"size\": 3, \"symbol\": \"diamond\"}, \"name\": \"12\", \"showlegend\": false, \"type\": \"scatter\", \"uid\": \"8faad41d-1bbb-41e1-8aad-27c964aad7be\", \"x\": [11000.0, 11450.0, 11900.0, 12350.0, 12800.0, 13250.0, 13700.0, 14150.0, 14600.0, 15050.0, 15500.0, 15950.0, 16400.0, 16850.0, 17300.0, 17750.0, 18200.0, 18650.0, 19100.0, 19550.0, 20000.0], \"xaxis\": \"x\", \"y\": [11533.554418901995, 11597.331479911461, 11657.889585168934, 11762.268748636763, 11775.917513051456, 11764.967895422506, 11676.073086637227, 11650.112617143857, 11594.258946050913, 11522.736351585567, 11444.191999379364, 11366.855615514283, 11333.428810955658, 11291.115455484682, 11165.546445726966, 11084.736032809735, 11050.699407674529, 10978.54248596981, 10849.291930009682, 10738.957956164411], \"yaxis\": \"y\"}, {\"legendgroup\": \"group-11\", \"line\": {\"color\": \"#bcff3a\"}, \"marker\": {\"size\": 3, \"symbol\": \"diamond\"}, \"name\": \"12\", \"type\": \"scatter\", \"uid\": \"2b05ec7b-0003-4989-9835-7e2f836c945e\", \"x\": [11000.0, 11450.0, 11900.0, 12350.0, 12800.0, 13250.0, 13700.0, 14150.0, 14600.0, 15050.0, 15500.0, 15950.0, 16400.0, 16850.0, 17300.0, 17750.0, 18200.0, 18650.0, 19100.0, 19550.0, 20000.0], \"xaxis\": \"x2\", \"y\": [0.4948141939783134, 0.38257284907522643, 0.31106318084797985, 0.25245973709763675, 0.21581879433960166, 0.1894638080925602, 0.1719798978313757, 0.15370692887596543, 0.140611753786461, 0.13022103911735378, 0.12114965913477613, 0.1134082040590886, 0.10508702258326932, 0.09835950384020824, 0.09505240961204943, 0.09082482658920112, 0.08538454480911349, 0.08166191691747998, 0.0799399239764927, 0.07767439247279284], \"yaxis\": \"y2\"}, {\"legendgroup\": \"group-12\", \"line\": {\"color\": \"#e8ff0f\"}, \"marker\": {\"size\": 3, \"symbol\": \"diamond\"}, \"name\": \"13\", \"showlegend\": false, \"type\": \"scatter\", \"uid\": \"1d93363b-1906-4b2f-8bc5-fec6d4bd1b0d\", \"x\": [11000.0, 11450.0, 11900.0, 12350.0, 12800.0, 13250.0, 13700.0, 14150.0, 14600.0, 15050.0, 15500.0, 15950.0, 16400.0, 16850.0, 17300.0, 17750.0, 18200.0, 18650.0, 19100.0, 19550.0, 20000.0], \"xaxis\": \"x\", \"y\": [10680.784661378812, 10845.542429380755, 10944.815192934726, 10993.087317815412, 11012.940076484394, 10887.379427963211, 10983.662316167121, 11024.751388763907, 10943.797478820637, 10891.467325909394, 10825.79202489999, 10805.557529364292, 10706.591895210207, 10571.784653112927, 10496.275695177474, 10402.1202278362, 10301.441469400985, 10238.491096739823, 10147.574803160998, 10007.566464221134], \"yaxis\": \"y\"}, {\"legendgroup\": \"group-12\", \"line\": {\"color\": \"#e8ff0f\"}, \"marker\": {\"size\": 3, \"symbol\": \"diamond\"}, \"name\": \"13\", \"type\": \"scatter\", \"uid\": \"30300008-7d1d-4f5a-9108-737322787e18\", \"x\": [11000.0, 11450.0, 11900.0, 12350.0, 12800.0, 13250.0, 13700.0, 14150.0, 14600.0, 15050.0, 15500.0, 15950.0, 16400.0, 16850.0, 17300.0, 17750.0, 18200.0, 18650.0, 19100.0, 19550.0, 20000.0], \"xaxis\": \"x2\", \"y\": [0.4392810715699427, 0.32903573292536575, 0.2641712463741873, 0.2199520853515653, 0.18797841086098377, 0.170137181865149, 0.14523399235417983, 0.12811695433348316, 0.11796293005695968, 0.10851866860126855, 0.10078020724639422, 0.09253446911219322, 0.08798570551552642, 0.08508103522642106, 0.0807247405411672, 0.07763414575866073, 0.07474110201651679, 0.0714984171727841, 0.0694441864787546, 0.06840896856885523], \"yaxis\": \"y2\"}, {\"legendgroup\": \"group-13\", \"line\": {\"color\": \"#ffd500\"}, \"marker\": {\"size\": 3, \"symbol\": \"diamond\"}, \"name\": \"14\", \"showlegend\": false, \"type\": \"scatter\", \"uid\": \"2664d0a1-16a1-410b-9aec-f4527472a756\", \"x\": [11000.0, 11450.0, 11900.0, 12350.0, 12800.0, 13250.0, 13700.0, 14150.0, 14600.0, 15050.0, 15500.0, 15950.0, 16400.0, 16850.0, 17300.0, 17750.0, 18200.0, 18650.0, 19100.0, 19550.0, 20000.0], \"xaxis\": \"x\", \"y\": [11437.1881296405, 11528.701578025972, 11640.449468780576, 11710.818603845562, 11646.852339390707, 11571.106855857402, 11529.130018047732, 11506.724477504918, 11494.473536577672, 11432.760918872278, 11378.137918263288, 11302.85507985749, 11244.631327203226, 11103.724838190863, 11017.941987416276, 10957.21181370234, 10894.703106138699, 10810.029601198734, 10701.185949495191, 10638.391439708332], \"yaxis\": \"y\"}, {\"legendgroup\": \"group-13\", \"line\": {\"color\": \"#ffd500\"}, \"marker\": {\"size\": 3, \"symbol\": \"diamond\"}, \"name\": \"14\", \"type\": \"scatter\", \"uid\": \"d6c6ba35-1c0c-49b8-9a6c-cd386f39b17a\", \"x\": [11000.0, 11450.0, 11900.0, 12350.0, 12800.0, 13250.0, 13700.0, 14150.0, 14600.0, 15050.0, 15500.0, 15950.0, 16400.0, 16850.0, 17300.0, 17750.0, 18200.0, 18650.0, 19100.0, 19550.0, 20000.0], \"xaxis\": \"x2\", \"y\": [0.496748999005708, 0.3812215660301211, 0.30281560573624655, 0.2509255408599759, 0.22073539638977296, 0.19671394396283887, 0.1757145473403329, 0.15768917292428547, 0.14088198326667611, 0.13004325009218778, 0.12095401797605762, 0.11383288002950714, 0.10689215533606816, 0.10296885131622671, 0.09780859456526698, 0.09289643546287567, 0.08854171082989812, 0.08517563107205485, 0.08229688721693082, 0.07896773667540807], \"yaxis\": \"y2\"}, {\"legendgroup\": \"group-14\", \"line\": {\"color\": \"#ffa400\"}, \"marker\": {\"size\": 3, \"symbol\": \"diamond\"}, \"name\": \"15\", \"showlegend\": false, \"type\": \"scatter\", \"uid\": \"871c628b-343a-41aa-a69b-b62211053654\", \"x\": [11000.0, 11450.0, 11900.0, 12350.0, 12800.0, 13250.0, 13700.0, 14150.0, 14600.0, 15050.0, 15500.0, 15950.0, 16400.0, 16850.0, 17300.0, 17750.0, 18200.0, 18650.0, 19100.0, 19550.0, 20000.0], \"xaxis\": \"x\", \"y\": [10637.774893389853, 10870.528741129221, 10979.20752094891, 11029.889850247846, 11017.830301775746, 11002.647926802321, 11063.176163639557, 11043.320343340587, 10953.590586704851, 10884.149702433244, 10832.042108059699, 10746.120711685187, 10638.764813827649, 10558.09227679894, 10449.107297019238, 10350.60274211199, 10298.783130265036, 10276.173311434013, 10189.139086635258, 10056.484838218224], \"yaxis\": \"y\"}, {\"legendgroup\": \"group-14\", \"line\": {\"color\": \"#ffa400\"}, \"marker\": {\"size\": 3, \"symbol\": \"diamond\"}, \"name\": \"15\", \"type\": \"scatter\", \"uid\": \"2739dc5a-0a8c-4a1c-9acd-aa8e960e26d5\", \"x\": [11000.0, 11450.0, 11900.0, 12350.0, 12800.0, 13250.0, 13700.0, 14150.0, 14600.0, 15050.0, 15500.0, 15950.0, 16400.0, 16850.0, 17300.0, 17750.0, 18200.0, 18650.0, 19100.0, 19550.0, 20000.0], \"xaxis\": \"x2\", \"y\": [0.4526680078126913, 0.33058475741331017, 0.26470724647387744, 0.21904485046383979, 0.188818847281167, 0.16619738171025455, 0.14364374771990304, 0.12786787360034071, 0.11791465883989272, 0.10890874790265448, 0.10128370560742415, 0.09532106076096122, 0.09066498376561384, 0.08579078573787756, 0.0823404365028928, 0.07946786802086912, 0.07534113146002487, 0.0712852113867502, 0.06888107318726494, 0.06764365885322746], \"yaxis\": \"y2\"}, {\"legendgroup\": \"group-15\", \"line\": {\"color\": \"#ff7200\"}, \"marker\": {\"size\": 3, \"symbol\": \"diamond\"}, \"name\": \"16\", \"showlegend\": false, \"type\": \"scatter\", \"uid\": \"407c935e-87d2-4d31-95bd-940e7a50da13\", \"x\": [11000.0, 11450.0, 11900.0, 12350.0, 12800.0, 13250.0, 13700.0, 14150.0, 14600.0, 15050.0, 15500.0, 15950.0, 16400.0, 16850.0, 17300.0, 17750.0, 18200.0, 18650.0, 19100.0, 19550.0, 20000.0], \"xaxis\": \"x\", \"y\": [11420.979987138982, 11498.337813102757, 11639.50519134857, 11664.640617469393, 11701.728912830438, 11711.923994447285, 11712.746596833955, 11591.269112378643, 11449.641897841511, 11435.511892435268, 11421.346117783407, 11334.210896883855, 11278.258459816647, 11196.477817740706, 11110.138994066976, 11076.434179727443, 10994.477287359596, 10901.218261650312, 10835.518224745436, 10711.037322641674], \"yaxis\": \"y\"}, {\"legendgroup\": \"group-15\", \"line\": {\"color\": \"#ff7200\"}, \"marker\": {\"size\": 3, \"symbol\": \"diamond\"}, \"name\": \"16\", \"type\": \"scatter\", \"uid\": \"6f472a3f-bced-4275-8009-57184b85cff8\", \"x\": [11000.0, 11450.0, 11900.0, 12350.0, 12800.0, 13250.0, 13700.0, 14150.0, 14600.0, 15050.0, 15500.0, 15950.0, 16400.0, 16850.0, 17300.0, 17750.0, 18200.0, 18650.0, 19100.0, 19550.0, 20000.0], \"xaxis\": \"x2\", \"y\": [0.499488409187315, 0.3838690951817617, 0.3021805815991795, 0.2514540281230128, 0.21646073068279542, 0.18685687485230784, 0.1645500999365563, 0.15175502590148646, 0.14351458248462712, 0.1299336743288275, 0.119700298487092, 0.11242807247877903, 0.1050015370491853, 0.10013529821734288, 0.0953538109300313, 0.08940156113165973, 0.08572755303725668, 0.08269382665953516, 0.078848332684631, 0.07701183515664956], \"yaxis\": \"y2\"}, {\"legendgroup\": \"group-16\", \"line\": {\"color\": \"#ff4000\"}, \"marker\": {\"size\": 3, \"symbol\": \"diamond\"}, \"name\": \"17\", \"showlegend\": false, \"type\": \"scatter\", \"uid\": \"4bfa5d4b-c5ed-4880-b062-595ba16c3623\", \"x\": [11000.0, 11450.0, 11900.0, 12350.0, 12800.0, 13250.0, 13700.0, 14150.0, 14600.0, 15050.0, 15500.0, 15950.0, 16400.0, 16850.0, 17300.0, 17750.0, 18200.0, 18650.0, 19100.0, 19550.0, 20000.0], \"xaxis\": \"x\", \"y\": [10691.849844972343, 10881.252759643585, 11024.600489102355, 11008.926530015478, 11076.894883262032, 11042.045711965855, 11063.168036579458, 11070.578559634352, 11044.691764194673, 10970.651612456735, 10980.886609307676, 10896.00342966283, 10767.599990699178, 10635.613994162504, 10472.846994215468, 10456.66200657222, 10434.295581872158, 10327.027592056353, 10213.726635393015, 10093.310125127553], \"yaxis\": \"y\"}, {\"legendgroup\": \"group-16\", \"line\": {\"color\": \"#ff4000\"}, \"marker\": {\"size\": 3, \"symbol\": \"diamond\"}, \"name\": \"17\", \"type\": \"scatter\", \"uid\": \"144e4dd3-f602-4ed5-b7f4-ba9b8eb34ffc\", \"x\": [11000.0, 11450.0, 11900.0, 12350.0, 12800.0, 13250.0, 13700.0, 14150.0, 14600.0, 15050.0, 15500.0, 15950.0, 16400.0, 16850.0, 17300.0, 17750.0, 18200.0, 18650.0, 19100.0, 19550.0, 20000.0], \"xaxis\": \"x2\", \"y\": [0.44748184768936483, 0.33018100359144903, 0.2613079590931391, 0.22319723997674626, 0.18648857521767323, 0.1640901983224348, 0.14317470745010233, 0.1277823841658101, 0.11521986036883337, 0.10674911085099575, 0.09736938639966038, 0.0912338485549991, 0.0873359525558151, 0.08426006054625763, 0.0822766882554767, 0.0770967898467087, 0.07276875021360169, 0.07044586701292362, 0.06864631513717323, 0.06706138176935443], \"yaxis\": \"y2\"}, {\"legendgroup\": \"group-17\", \"line\": {\"color\": \"#fa0e00\"}, \"marker\": {\"size\": 3, \"symbol\": \"diamond\"}, \"name\": \"18\", \"showlegend\": false, \"type\": \"scatter\", \"uid\": \"c2418dad-f625-466b-8cbc-ea4b6fbf0ad9\", \"x\": [11000.0, 11450.0, 11900.0, 12350.0, 12800.0, 13250.0, 13700.0, 14150.0, 14600.0, 15050.0, 15500.0, 15950.0, 16400.0, 16850.0, 17300.0, 17750.0, 18200.0, 18650.0, 19100.0, 19550.0, 20000.0], \"xaxis\": \"x\", \"y\": [11404.686443357921, 11550.422153142581, 11639.138876479621, 11674.326225183811, 11643.003281158295, 11664.227712366752, 11609.622899066353, 11571.271663444122, 11488.505154936476, 11474.166472237957, 11444.220668813343, 11321.687644686788, 11274.086211426791, 11214.935163024827, 11095.7159296552, 11052.698086925739, 10967.067499016344, 10861.628943889627, 10781.611365120527, 10666.56171562961], \"yaxis\": \"y\"}, {\"legendgroup\": \"group-17\", \"line\": {\"color\": \"#fa0e00\"}, \"marker\": {\"size\": 3, \"symbol\": \"diamond\"}, \"name\": \"18\", \"type\": \"scatter\", \"uid\": \"f3c1ab5a-097a-4b41-8aac-c78250de42e8\", \"x\": [11000.0, 11450.0, 11900.0, 12350.0, 12800.0, 13250.0, 13700.0, 14150.0, 14600.0, 15050.0, 15500.0, 15950.0, 16400.0, 16850.0, 17300.0, 17750.0, 18200.0, 18650.0, 19100.0, 19550.0, 20000.0], \"xaxis\": \"x2\", \"y\": [0.4977389437411596, 0.37634490448691843, 0.3031115960467388, 0.25454492611413476, 0.21950444294686317, 0.18907039351524565, 0.16921419174008417, 0.1526550022612553, 0.1416435654990689, 0.12873970376797447, 0.117732451218215, 0.11197824402292651, 0.10441814381550857, 0.09792972279488406, 0.09471757943639501, 0.08914056698650659, 0.08550392336785954, 0.08272152497759402, 0.07954222475461972, 0.07756336057852237], \"yaxis\": \"y2\"}, {\"legendgroup\": \"group-18\", \"line\": {\"color\": \"#bd0000\"}, \"marker\": {\"size\": 3, \"symbol\": \"diamond\"}, \"name\": \"19\", \"showlegend\": false, \"type\": \"scatter\", \"uid\": \"d94f0419-c621-401f-9b4f-fdcd62a15fa0\", \"x\": [11000.0, 11450.0, 11900.0, 12350.0, 12800.0, 13250.0, 13700.0, 14150.0, 14600.0, 15050.0, 15500.0, 15950.0, 16400.0, 16850.0, 17300.0, 17750.0, 18200.0, 18650.0, 19100.0, 19550.0, 20000.0], \"xaxis\": \"x\", \"y\": [10732.832305605065, 10927.532745010047, 10999.038295987173, 11120.942823009347, 11127.283737338126, 11084.30280676812, 11069.784812309364, 11066.322559389619, 11003.066376252807, 10955.364192122894, 10899.736539240288, 10741.06863236137, 10710.327383480128, 10597.496226545389, 10549.389773662053, 10465.941519309627, 10371.370420579678, 10256.85257100142, 10163.046966831698, 10074.690533201088], \"yaxis\": \"y\"}, {\"legendgroup\": \"group-18\", \"line\": {\"color\": \"#bd0000\"}, \"marker\": {\"size\": 3, \"symbol\": \"diamond\"}, \"name\": \"19\", \"type\": \"scatter\", \"uid\": \"7db24749-464c-49c5-8641-a719194e9872\", \"x\": [11000.0, 11450.0, 11900.0, 12350.0, 12800.0, 13250.0, 13700.0, 14150.0, 14600.0, 15050.0, 15500.0, 15950.0, 16400.0, 16850.0, 17300.0, 17750.0, 18200.0, 18650.0, 19100.0, 19550.0, 20000.0], \"xaxis\": \"x2\", \"y\": [0.44443637159123983, 0.3301963495493953, 0.26475209661040167, 0.21476367292060317, 0.1841100166964522, 0.16259081949317192, 0.143853601724972, 0.12756474449212685, 0.11696925559066805, 0.10710041470268136, 0.09912187964115514, 0.09650204436463768, 0.08985914755672528, 0.08622238465789246, 0.08092359794988353, 0.07737849041147359, 0.07453157832590498, 0.07263537854976868, 0.07025313296079846, 0.06792936424027783], \"yaxis\": \"y2\"}, {\"legendgroup\": \"group-19\", \"line\": {\"color\": \"#800000\"}, \"marker\": {\"size\": 3, \"symbol\": \"diamond\"}, \"name\": \"20\", \"showlegend\": false, \"type\": \"scatter\", \"uid\": \"8bd58b43-94cb-4b15-8dc2-cc20fa03dda9\", \"x\": [11000.0, 11450.0, 11900.0, 12350.0, 12800.0, 13250.0, 13700.0, 14150.0, 14600.0, 15050.0, 15500.0, 15950.0, 16400.0, 16850.0, 17300.0, 17750.0, 18200.0, 18650.0, 19100.0, 19550.0, 20000.0], \"xaxis\": \"x\", \"y\": [10732.832305605065, 10927.532745010047, 10999.038295987173, 11120.942823009347, 11127.283737338126, 11084.30280676812, 11069.784812309364, 11066.322559389619, 11003.066376252807, 10955.364192122894, 10899.736539240288, 10741.06863236137, 10710.327383480128, 10597.496226545389, 10549.389773662053, 10465.941519309627, 10371.370420579678, 10256.85257100142, 10163.046966831698, 10074.690533201088], \"yaxis\": \"y\"}, {\"legendgroup\": \"group-19\", \"line\": {\"color\": \"#800000\"}, \"marker\": {\"size\": 3, \"symbol\": \"diamond\"}, \"name\": \"20\", \"type\": \"scatter\", \"uid\": \"f5391d7c-e4f4-4132-bc99-f10a180ed1e2\", \"x\": [11000.0, 11450.0, 11900.0, 12350.0, 12800.0, 13250.0, 13700.0, 14150.0, 14600.0, 15050.0, 15500.0, 15950.0, 16400.0, 16850.0, 17300.0, 17750.0, 18200.0, 18650.0, 19100.0, 19550.0, 20000.0], \"xaxis\": \"x2\", \"y\": [0.44443637159123983, 0.3301963495493953, 0.26475209661040167, 0.21476367292060317, 0.1841100166964522, 0.16259081949317192, 0.143853601724972, 0.12756474449212685, 0.11696925559066805, 0.10710041470268136, 0.09912187964115514, 0.09650204436463768, 0.08985914755672528, 0.08622238465789246, 0.08092359794988353, 0.07737849041147359, 0.07453157832590498, 0.07263537854976868, 0.07025313296079846, 0.06792936424027783], \"yaxis\": \"y2\"}],                        {\"height\": 580, \"hidesources\": true, \"legend\": {\"title\": {\"text\": \"iterations\"}, \"tracegroupgap\": 0}, \"margin\": {\"b\": 80, \"l\": 10, \"pad\": 0, \"r\": 135, \"t\": 25}, \"template\": {\"data\": {\"bar\": [{\"error_x\": {\"color\": \"#2a3f5f\"}, \"error_y\": {\"color\": \"#2a3f5f\"}, \"marker\": {\"line\": {\"color\": \"#E5ECF6\", \"width\": 0.5}}, \"type\": \"bar\"}], \"barpolar\": [{\"marker\": {\"line\": {\"color\": \"#E5ECF6\", \"width\": 0.5}}, \"type\": \"barpolar\"}], \"carpet\": [{\"aaxis\": {\"endlinecolor\": \"#2a3f5f\", \"gridcolor\": \"white\", \"linecolor\": \"white\", \"minorgridcolor\": \"white\", \"startlinecolor\": \"#2a3f5f\"}, \"baxis\": {\"endlinecolor\": \"#2a3f5f\", \"gridcolor\": \"white\", \"linecolor\": \"white\", \"minorgridcolor\": \"white\", \"startlinecolor\": \"#2a3f5f\"}, \"type\": \"carpet\"}], \"choropleth\": [{\"colorbar\": {\"outlinewidth\": 0, \"ticks\": \"\"}, \"type\": \"choropleth\"}], \"contour\": [{\"colorbar\": {\"outlinewidth\": 0, \"ticks\": \"\"}, \"colorscale\": [[0.0, \"#0d0887\"], [0.1111111111111111, \"#46039f\"], [0.2222222222222222, \"#7201a8\"], [0.3333333333333333, \"#9c179e\"], [0.4444444444444444, \"#bd3786\"], [0.5555555555555556, \"#d8576b\"], [0.6666666666666666, \"#ed7953\"], [0.7777777777777778, \"#fb9f3a\"], [0.8888888888888888, \"#fdca26\"], [1.0, \"#f0f921\"]], \"type\": \"contour\"}], \"contourcarpet\": [{\"colorbar\": {\"outlinewidth\": 0, \"ticks\": \"\"}, \"type\": \"contourcarpet\"}], \"heatmap\": [{\"colorbar\": {\"outlinewidth\": 0, \"ticks\": \"\"}, \"colorscale\": [[0.0, \"#0d0887\"], [0.1111111111111111, \"#46039f\"], [0.2222222222222222, \"#7201a8\"], [0.3333333333333333, \"#9c179e\"], [0.4444444444444444, \"#bd3786\"], [0.5555555555555556, \"#d8576b\"], [0.6666666666666666, \"#ed7953\"], [0.7777777777777778, \"#fb9f3a\"], [0.8888888888888888, \"#fdca26\"], [1.0, \"#f0f921\"]], \"type\": \"heatmap\"}], \"heatmapgl\": [{\"colorbar\": {\"outlinewidth\": 0, \"ticks\": \"\"}, \"colorscale\": [[0.0, \"#0d0887\"], [0.1111111111111111, \"#46039f\"], [0.2222222222222222, \"#7201a8\"], [0.3333333333333333, \"#9c179e\"], [0.4444444444444444, \"#bd3786\"], [0.5555555555555556, \"#d8576b\"], [0.6666666666666666, \"#ed7953\"], [0.7777777777777778, \"#fb9f3a\"], [0.8888888888888888, \"#fdca26\"], [1.0, \"#f0f921\"]], \"type\": \"heatmapgl\"}], \"histogram\": [{\"marker\": {\"colorbar\": {\"outlinewidth\": 0, \"ticks\": \"\"}}, \"type\": \"histogram\"}], \"histogram2d\": [{\"colorbar\": {\"outlinewidth\": 0, \"ticks\": \"\"}, \"colorscale\": [[0.0, \"#0d0887\"], [0.1111111111111111, \"#46039f\"], [0.2222222222222222, \"#7201a8\"], [0.3333333333333333, \"#9c179e\"], [0.4444444444444444, \"#bd3786\"], [0.5555555555555556, \"#d8576b\"], [0.6666666666666666, \"#ed7953\"], [0.7777777777777778, \"#fb9f3a\"], [0.8888888888888888, \"#fdca26\"], [1.0, \"#f0f921\"]], \"type\": \"histogram2d\"}], \"histogram2dcontour\": [{\"colorbar\": {\"outlinewidth\": 0, \"ticks\": \"\"}, \"colorscale\": [[0.0, \"#0d0887\"], [0.1111111111111111, \"#46039f\"], [0.2222222222222222, \"#7201a8\"], [0.3333333333333333, \"#9c179e\"], [0.4444444444444444, \"#bd3786\"], [0.5555555555555556, \"#d8576b\"], [0.6666666666666666, \"#ed7953\"], [0.7777777777777778, \"#fb9f3a\"], [0.8888888888888888, \"#fdca26\"], [1.0, \"#f0f921\"]], \"type\": \"histogram2dcontour\"}], \"mesh3d\": [{\"colorbar\": {\"outlinewidth\": 0, \"ticks\": \"\"}, \"type\": \"mesh3d\"}], \"parcoords\": [{\"line\": {\"colorbar\": {\"outlinewidth\": 0, \"ticks\": \"\"}}, \"type\": \"parcoords\"}], \"pie\": [{\"automargin\": true, \"type\": \"pie\"}], \"scatter\": [{\"marker\": {\"colorbar\": {\"outlinewidth\": 0, \"ticks\": \"\"}}, \"type\": \"scatter\"}], \"scatter3d\": [{\"line\": {\"colorbar\": {\"outlinewidth\": 0, \"ticks\": \"\"}}, \"marker\": {\"colorbar\": {\"outlinewidth\": 0, \"ticks\": \"\"}}, \"type\": \"scatter3d\"}], \"scattercarpet\": [{\"marker\": {\"colorbar\": {\"outlinewidth\": 0, \"ticks\": \"\"}}, \"type\": \"scattercarpet\"}], \"scattergeo\": [{\"marker\": {\"colorbar\": {\"outlinewidth\": 0, \"ticks\": \"\"}}, \"type\": \"scattergeo\"}], \"scattergl\": [{\"marker\": {\"colorbar\": {\"outlinewidth\": 0, \"ticks\": \"\"}}, \"type\": \"scattergl\"}], \"scattermapbox\": [{\"marker\": {\"colorbar\": {\"outlinewidth\": 0, \"ticks\": \"\"}}, \"type\": \"scattermapbox\"}], \"scatterpolar\": [{\"marker\": {\"colorbar\": {\"outlinewidth\": 0, \"ticks\": \"\"}}, \"type\": \"scatterpolar\"}], \"scatterpolargl\": [{\"marker\": {\"colorbar\": {\"outlinewidth\": 0, \"ticks\": \"\"}}, \"type\": \"scatterpolargl\"}], \"scatterternary\": [{\"marker\": {\"colorbar\": {\"outlinewidth\": 0, \"ticks\": \"\"}}, \"type\": \"scatterternary\"}], \"surface\": [{\"colorbar\": {\"outlinewidth\": 0, \"ticks\": \"\"}, \"colorscale\": [[0.0, \"#0d0887\"], [0.1111111111111111, \"#46039f\"], [0.2222222222222222, \"#7201a8\"], [0.3333333333333333, \"#9c179e\"], [0.4444444444444444, \"#bd3786\"], [0.5555555555555556, \"#d8576b\"], [0.6666666666666666, \"#ed7953\"], [0.7777777777777778, \"#fb9f3a\"], [0.8888888888888888, \"#fdca26\"], [1.0, \"#f0f921\"]], \"type\": \"surface\"}], \"table\": [{\"cells\": {\"fill\": {\"color\": \"#EBF0F8\"}, \"line\": {\"color\": \"white\"}}, \"header\": {\"fill\": {\"color\": \"#C8D4E3\"}, \"line\": {\"color\": \"white\"}}, \"type\": \"table\"}]}, \"layout\": {\"annotationdefaults\": {\"arrowcolor\": \"#2a3f5f\", \"arrowhead\": 0, \"arrowwidth\": 1}, \"autotypenumbers\": \"strict\", \"coloraxis\": {\"colorbar\": {\"outlinewidth\": 0, \"ticks\": \"\"}}, \"colorscale\": {\"diverging\": [[0, \"#8e0152\"], [0.1, \"#c51b7d\"], [0.2, \"#de77ae\"], [0.3, \"#f1b6da\"], [0.4, \"#fde0ef\"], [0.5, \"#f7f7f7\"], [0.6, \"#e6f5d0\"], [0.7, \"#b8e186\"], [0.8, \"#7fbc41\"], [0.9, \"#4d9221\"], [1, \"#276419\"]], \"sequential\": [[0.0, \"#0d0887\"], [0.1111111111111111, \"#46039f\"], [0.2222222222222222, \"#7201a8\"], [0.3333333333333333, \"#9c179e\"], [0.4444444444444444, \"#bd3786\"], [0.5555555555555556, \"#d8576b\"], [0.6666666666666666, \"#ed7953\"], [0.7777777777777778, \"#fb9f3a\"], [0.8888888888888888, \"#fdca26\"], [1.0, \"#f0f921\"]], \"sequentialminus\": [[0.0, \"#0d0887\"], [0.1111111111111111, \"#46039f\"], [0.2222222222222222, \"#7201a8\"], [0.3333333333333333, \"#9c179e\"], [0.4444444444444444, \"#bd3786\"], [0.5555555555555556, \"#d8576b\"], [0.6666666666666666, \"#ed7953\"], [0.7777777777777778, \"#fb9f3a\"], [0.8888888888888888, \"#fdca26\"], [1.0, \"#f0f921\"]]}, \"colorway\": [\"#636efa\", \"#EF553B\", \"#00cc96\", \"#ab63fa\", \"#FFA15A\", \"#19d3f3\", \"#FF6692\", \"#B6E880\", \"#FF97FF\", \"#FECB52\"], \"font\": {\"color\": \"#2a3f5f\"}, \"geo\": {\"bgcolor\": \"white\", \"lakecolor\": \"white\", \"landcolor\": \"#E5ECF6\", \"showlakes\": true, \"showland\": true, \"subunitcolor\": \"white\"}, \"hoverlabel\": {\"align\": \"left\"}, \"hovermode\": \"closest\", \"mapbox\": {\"style\": \"light\"}, \"paper_bgcolor\": \"white\", \"plot_bgcolor\": \"#E5ECF6\", \"polar\": {\"angularaxis\": {\"gridcolor\": \"white\", \"linecolor\": \"white\", \"ticks\": \"\"}, \"bgcolor\": \"#E5ECF6\", \"radialaxis\": {\"gridcolor\": \"white\", \"linecolor\": \"white\", \"ticks\": \"\"}}, \"scene\": {\"xaxis\": {\"backgroundcolor\": \"#E5ECF6\", \"gridcolor\": \"white\", \"gridwidth\": 2, \"linecolor\": \"white\", \"showbackground\": true, \"ticks\": \"\", \"zerolinecolor\": \"white\"}, \"yaxis\": {\"backgroundcolor\": \"#E5ECF6\", \"gridcolor\": \"white\", \"gridwidth\": 2, \"linecolor\": \"white\", \"showbackground\": true, \"ticks\": \"\", \"zerolinecolor\": \"white\"}, \"zaxis\": {\"backgroundcolor\": \"#E5ECF6\", \"gridcolor\": \"white\", \"gridwidth\": 2, \"linecolor\": \"white\", \"showbackground\": true, \"ticks\": \"\", \"zerolinecolor\": \"white\"}}, \"shapedefaults\": {\"line\": {\"color\": \"#2a3f5f\"}}, \"ternary\": {\"aaxis\": {\"gridcolor\": \"white\", \"linecolor\": \"white\", \"ticks\": \"\"}, \"baxis\": {\"gridcolor\": \"white\", \"linecolor\": \"white\", \"ticks\": \"\"}, \"bgcolor\": \"#E5ECF6\", \"caxis\": {\"gridcolor\": \"white\", \"linecolor\": \"white\", \"ticks\": \"\"}}, \"title\": {\"x\": 0.05}, \"xaxis\": {\"automargin\": true, \"gridcolor\": \"white\", \"linecolor\": \"white\", \"ticks\": \"\", \"title\": {\"standoff\": 15}, \"zerolinecolor\": \"white\", \"zerolinewidth\": 2}, \"yaxis\": {\"automargin\": true, \"gridcolor\": \"white\", \"linecolor\": \"white\", \"ticks\": \"\", \"title\": {\"standoff\": 15}, \"zerolinecolor\": \"white\", \"zerolinewidth\": 2}}}, \"xaxis\": {\"anchor\": \"y\", \"domain\": [0.0, 0.45], \"tickformat\": \"g\", \"title\": {\"text\": \"$Shell~~Velocity$\"}}, \"xaxis2\": {\"anchor\": \"y2\", \"domain\": [0.55, 1.0], \"matches\": \"x\", \"tickformat\": \"g\", \"title\": {\"text\": \"$Shell~~Velocity$\"}}, \"yaxis\": {\"anchor\": \"x\", \"domain\": [0.0, 1.0], \"range\": [9000, 14000], \"tickformat\": \"g\", \"title\": {\"text\": \"$T_{rad}\\\\ [K]$\"}}, \"yaxis2\": {\"anchor\": \"x2\", \"domain\": [0.0, 1.0], \"title\": {\"text\": \"$W$\"}}},                        {\"responsive\": true}                    ).then(function(){\n                            \nvar gd = document.getElementById('95704577-cd19-42bf-b0ea-a3511af83ef6');\nvar x = new MutationObserver(function (mutations, observer) {{\n        var display = window.getComputedStyle(gd).display;\n        if (!display || display === 'none') {{\n            console.log([gd, 'removed!']);\n            Plotly.purge(gd);\n            observer.disconnect();\n        }}\n}});\n\n// Listen for the removal of the full notebook cells\nvar notebookContainer = gd.closest('#notebook-container');\nif (notebookContainer) {{\n    x.observe(notebookContainer, {childList: true});\n}}\n\n// Listen for the clearing of the current output cell\nvar outputEl = gd.closest('.output');\nif (outputEl) {{\n    x.observe(outputEl, {childList: true});\n}}\n\n                        })                };                });            </script>        </div>"
         },
         "metadata": {},
         "output_type": "display_data"
        },
        {
         "data": {
          "text/html": "        <script type=\"text/javascript\">\n        window.PlotlyConfig = {MathJaxConfig: 'local'};\n        if (window.MathJax) {MathJax.Hub.Config({SVG: {font: \"STIX-Web\"}});}\n        if (typeof require !== 'undefined') {\n        require.undef(\"plotly\");\n        requirejs.config({\n            paths: {\n                'plotly': ['https://cdn.plot.ly/plotly-latest.min']\n            }\n        });\n        require(['plotly'], function(Plotly) {\n            window._Plotly = Plotly;\n        });\n        }\n        </script>\n        "
         },
         "metadata": {},
         "output_type": "display_data"
        },
        {
         "data": {
          "text/html": "<div>                            <div id=\"e2cbf91e-8e6b-4322-a870-2643b37f4908\" class=\"plotly-graph-div\" style=\"height:580px; width:100%;\"></div>            <script type=\"text/javascript\">                require([\"plotly\"], function(Plotly) {                    window.PLOTLYENV=window.PLOTLYENV || {};                                    if (document.getElementById(\"e2cbf91e-8e6b-4322-a870-2643b37f4908\")) {                    Plotly.newPlot(                        \"e2cbf91e-8e6b-4322-a870-2643b37f4908\",                        [{\"line\": {\"color\": \"#800000\"}, \"type\": \"scatter\", \"uid\": \"5748c140-1705-4475-a12c-53869ea228ef\", \"xaxis\": \"x\", \"yaxis\": \"y\"}, {\"line\": {\"color\": \"#800000\"}, \"type\": \"scatter\", \"uid\": \"89f06b27-719f-4d4f-9bfe-f154dea4fcee\", \"xaxis\": \"x2\", \"yaxis\": \"y2\"}, {\"legendgroup\": \"group-0\", \"line\": {\"color\": \"#000080\"}, \"marker\": {\"size\": 3, \"symbol\": \"diamond\"}, \"name\": \"1\", \"showlegend\": false, \"type\": \"scatter\", \"uid\": \"6de334b7-6016-4fee-a3c1-5b8b2fe7198d\", \"x\": [11000.0, 11450.0, 11900.0, 12350.0, 12800.0, 13250.0, 13700.0, 14150.0, 14600.0, 15050.0, 15500.0, 15950.0, 16400.0, 16850.0, 17300.0, 17750.0, 18200.0, 18650.0, 19100.0, 19550.0, 20000.0], \"xaxis\": \"x\", \"y\": [10134.733716625742, 10158.894068408064, 10199.163062164183, 10230.988705011776, 10268.95723542248, 10222.890845143002, 10224.33250792895, 10215.304103107928, 10218.67593187541, 10185.463728853065, 10144.46316917108, 10076.87680984274, 10030.209347853815, 10029.018621140542, 9986.944524442715, 9873.477845862937, 9843.334614032237, 9771.609702679261, 9679.524619982089, 9610.209774198473], \"yaxis\": \"y\"}, {\"legendgroup\": \"group-0\", \"line\": {\"color\": \"#000080\"}, \"marker\": {\"size\": 3, \"symbol\": \"diamond\"}, \"name\": \"1\", \"type\": \"scatter\", \"uid\": \"dfd2e8aa-0a4f-43f8-b700-4a470619ba3d\", \"x\": [11000.0, 11450.0, 11900.0, 12350.0, 12800.0, 13250.0, 13700.0, 14150.0, 14600.0, 15050.0, 15500.0, 15950.0, 16400.0, 16850.0, 17300.0, 17750.0, 18200.0, 18650.0, 19100.0, 19550.0, 20000.0], \"xaxis\": \"x2\", \"y\": [0.5082040569581554, 0.3962212763594891, 0.3214185723254649, 0.26560113513158967, 0.22389059993927218, 0.19702589896830255, 0.1749491202529985, 0.1563731541470249, 0.13940960015313733, 0.12795427205030482, 0.11717940936679912, 0.10932218040060024, 0.10303354273987321, 0.09520635540966971, 0.08986506172262776, 0.08694065164106614, 0.082029771070409, 0.07895392034793645, 0.07641285709961215, 0.0734944435056783], \"yaxis\": \"y2\"}, {\"legendgroup\": \"group-1\", \"line\": {\"color\": \"#0000bd\"}, \"marker\": {\"size\": 3, \"symbol\": \"diamond\"}, \"name\": \"2\", \"showlegend\": false, \"type\": \"scatter\", \"uid\": \"de2fcfc0-1144-4a6a-8566-b98dd70f45a7\", \"x\": [11000.0, 11450.0, 11900.0, 12350.0, 12800.0, 13250.0, 13700.0, 14150.0, 14600.0, 15050.0, 15500.0, 15950.0, 16400.0, 16850.0, 17300.0, 17750.0, 18200.0, 18650.0, 19100.0, 19550.0, 20000.0], \"xaxis\": \"x\", \"y\": [11468.021903420027, 11435.999407966676, 11449.930444230995, 11492.65958293691, 11527.299217171007, 11499.835339656465, 11477.276330649498, 11460.659744967303, 11406.161049943823, 11340.543942919201, 11306.370330122183, 11212.548324749032, 11165.15031794662, 11109.460288675331, 11032.751812374603, 10953.828130057926, 10887.89602394496, 10829.273836669769, 10807.478630946254, 10678.472039472606], \"yaxis\": \"y\"}, {\"legendgroup\": \"group-1\", \"line\": {\"color\": \"#0000bd\"}, \"marker\": {\"size\": 3, \"symbol\": \"diamond\"}, \"name\": \"2\", \"type\": \"scatter\", \"uid\": \"82cfdcf8-4ed8-4ee9-8617-e9e8bf82fe51\", \"x\": [11000.0, 11450.0, 11900.0, 12350.0, 12800.0, 13250.0, 13700.0, 14150.0, 14600.0, 15050.0, 15500.0, 15950.0, 16400.0, 16850.0, 17300.0, 17750.0, 18200.0, 18650.0, 19100.0, 19550.0, 20000.0], \"xaxis\": \"x2\", \"y\": [0.5486713034814857, 0.4359667978092499, 0.35745766558351055, 0.29759617877916883, 0.2514052642548386, 0.2213742932983643, 0.1967142119281105, 0.1750139221468986, 0.1596018423150508, 0.14776884435084475, 0.1362910943753445, 0.1282954632603496, 0.11949333047989281, 0.11271924127039863, 0.10796286592870252, 0.10261651657287679, 0.09761052473526158, 0.0925701903122773, 0.08757308797595444, 0.08560372849204283], \"yaxis\": \"y2\"}, {\"legendgroup\": \"group-2\", \"line\": {\"color\": \"#0000fa\"}, \"marker\": {\"size\": 3, \"symbol\": \"diamond\"}, \"name\": \"3\", \"showlegend\": false, \"type\": \"scatter\", \"uid\": \"c982a747-5420-4709-aa74-b24735147296\", \"x\": [11000.0, 11450.0, 11900.0, 12350.0, 12800.0, 13250.0, 13700.0, 14150.0, 14600.0, 15050.0, 15500.0, 15950.0, 16400.0, 16850.0, 17300.0, 17750.0, 18200.0, 18650.0, 19100.0, 19550.0, 20000.0], \"xaxis\": \"x\", \"y\": [10497.008397133988, 10647.412149636564, 10710.555598349812, 10778.428547850966, 10799.157541112727, 10799.075913257297, 10809.366021863923, 10753.851890469936, 10723.18539784127, 10725.950530076656, 10623.433273860508, 10568.227843581686, 10448.426796026406, 10344.129570842591, 10277.247070725653, 10226.187071335817, 10191.522923045857, 10084.749431116139, 9966.774860086334, 9840.487791467045], \"yaxis\": \"y\"}, {\"legendgroup\": \"group-2\", \"line\": {\"color\": \"#0000fa\"}, \"marker\": {\"size\": 3, \"symbol\": \"diamond\"}, \"name\": \"3\", \"type\": \"scatter\", \"uid\": \"27421b73-4e1d-40a3-be82-abe87255e702\", \"x\": [11000.0, 11450.0, 11900.0, 12350.0, 12800.0, 13250.0, 13700.0, 14150.0, 14600.0, 15050.0, 15500.0, 15950.0, 16400.0, 16850.0, 17300.0, 17750.0, 18200.0, 18650.0, 19100.0, 19550.0, 20000.0], \"xaxis\": \"x2\", \"y\": [0.442299407233424, 0.3316155054771363, 0.26819254934335535, 0.22122958128497036, 0.18813327121608667, 0.16428839927198421, 0.1443413401513004, 0.13164698698733832, 0.12013575438192611, 0.1081687026641846, 0.10181996368767447, 0.09492623735431249, 0.09101140062051426, 0.08639163271896758, 0.08220814746497997, 0.07762890235617773, 0.0732750049575765, 0.07106642067401933, 0.06969266984280108, 0.06837630714305266], \"yaxis\": \"y2\"}, {\"legendgroup\": \"group-3\", \"line\": {\"color\": \"#0022ff\"}, \"marker\": {\"size\": 3, \"symbol\": \"diamond\"}, \"name\": \"4\", \"showlegend\": false, \"type\": \"scatter\", \"uid\": \"79c4e356-b322-4e5d-86a8-bf62146b44fb\", \"x\": [11000.0, 11450.0, 11900.0, 12350.0, 12800.0, 13250.0, 13700.0, 14150.0, 14600.0, 15050.0, 15500.0, 15950.0, 16400.0, 16850.0, 17300.0, 17750.0, 18200.0, 18650.0, 19100.0, 19550.0, 20000.0], \"xaxis\": \"x\", \"y\": [11615.34431271539, 11665.123230726764, 11722.631980824826, 11696.759034389528, 11740.274989218244, 11729.411389495828, 11762.93754644142, 11652.44218706302, 11589.11016884437, 11561.496043188794, 11517.190316985118, 11433.020206851419, 11326.42249364519, 11237.973261737088, 11182.841624719184, 11103.37345606317, 10988.381394715301, 10950.081329679253, 10862.947659789317, 10751.855231570007], \"yaxis\": \"y\"}, {\"legendgroup\": \"group-3\", \"line\": {\"color\": \"#0022ff\"}, \"marker\": {\"size\": 3, \"symbol\": \"diamond\"}, \"name\": \"4\", \"type\": \"scatter\", \"uid\": \"19f6aaa3-566e-40a6-8f81-51f00d735077\", \"x\": [11000.0, 11450.0, 11900.0, 12350.0, 12800.0, 13250.0, 13700.0, 14150.0, 14600.0, 15050.0, 15500.0, 15950.0, 16400.0, 16850.0, 17300.0, 17750.0, 18200.0, 18650.0, 19100.0, 19550.0, 20000.0], \"xaxis\": \"x2\", \"y\": [0.4977143593187972, 0.3915904655092031, 0.31518118479289936, 0.26854353604159453, 0.22820910008384737, 0.1992052064914697, 0.1732796396495469, 0.15947664883652757, 0.14579099407466625, 0.1334986840647756, 0.12384871542019993, 0.1163327713735177, 0.11004943343959867, 0.10494577908156115, 0.09880472549683283, 0.09393029340453476, 0.09096244445118767, 0.08630423393331049, 0.08321862769525468, 0.08100093623949862], \"yaxis\": \"y2\"}, {\"legendgroup\": \"group-4\", \"line\": {\"color\": \"#0057ff\"}, \"marker\": {\"size\": 3, \"symbol\": \"diamond\"}, \"name\": \"5\", \"showlegend\": false, \"type\": \"scatter\", \"uid\": \"47bc07f9-9618-48b3-9570-b8dd75784f77\", \"x\": [11000.0, 11450.0, 11900.0, 12350.0, 12800.0, 13250.0, 13700.0, 14150.0, 14600.0, 15050.0, 15500.0, 15950.0, 16400.0, 16850.0, 17300.0, 17750.0, 18200.0, 18650.0, 19100.0, 19550.0, 20000.0], \"xaxis\": \"x\", \"y\": [10549.51412848435, 10759.565074180144, 10894.663638012831, 10932.865203687254, 10930.709069978382, 10919.073481210131, 10877.07525272697, 10810.824269258308, 10785.603108487141, 10727.31310966391, 10697.303299672532, 10711.257210371086, 10551.734446150795, 10490.892524557958, 10416.933630770685, 10379.863072642813, 10279.630106699515, 10220.453729533758, 10077.475484616278, 9927.285882427788], \"yaxis\": \"y\"}, {\"legendgroup\": \"group-4\", \"line\": {\"color\": \"#0057ff\"}, \"marker\": {\"size\": 3, \"symbol\": \"diamond\"}, \"name\": \"5\", \"type\": \"scatter\", \"uid\": \"95b3cbbf-a8ce-4ac7-b682-61458ee29c22\", \"x\": [11000.0, 11450.0, 11900.0, 12350.0, 12800.0, 13250.0, 13700.0, 14150.0, 14600.0, 15050.0, 15500.0, 15950.0, 16400.0, 16850.0, 17300.0, 17750.0, 18200.0, 18650.0, 19100.0, 19550.0, 20000.0], \"xaxis\": \"x2\", \"y\": [0.4434406663593859, 0.329565789368522, 0.26010890450064733, 0.2159881056247415, 0.1854070420834862, 0.16219891903074657, 0.14560372598880475, 0.13326787384388758, 0.11999931339731698, 0.11025218829721785, 0.1012892218335092, 0.09247037462403469, 0.08933312170132374, 0.08413052869637083, 0.07995660682274036, 0.07537221197763783, 0.07252173631498261, 0.06901139800647034, 0.06809975749337623, 0.06735205229901337], \"yaxis\": \"y2\"}, {\"legendgroup\": \"group-5\", \"line\": {\"color\": \"#008dff\"}, \"marker\": {\"size\": 3, \"symbol\": \"diamond\"}, \"name\": \"6\", \"showlegend\": false, \"type\": \"scatter\", \"uid\": \"96b2f801-dd5e-4dd0-af96-256d92ab7829\", \"x\": [11000.0, 11450.0, 11900.0, 12350.0, 12800.0, 13250.0, 13700.0, 14150.0, 14600.0, 15050.0, 15500.0, 15950.0, 16400.0, 16850.0, 17300.0, 17750.0, 18200.0, 18650.0, 19100.0, 19550.0, 20000.0], \"xaxis\": \"x\", \"y\": [11567.208184336641, 11613.025123050538, 11683.328827353047, 11693.104708830946, 11724.278325269526, 11653.124120929953, 11612.65021223817, 11609.82892873756, 11614.580326945592, 11546.462389124263, 11425.95501009532, 11375.048998512899, 11315.818140434149, 11225.578780782147, 11120.449864009748, 11082.155937788912, 10987.868514296186, 10920.442550504482, 10834.92855121022, 10735.503852801117], \"yaxis\": \"y\"}, {\"legendgroup\": \"group-5\", \"line\": {\"color\": \"#008dff\"}, \"marker\": {\"size\": 3, \"symbol\": \"diamond\"}, \"name\": \"6\", \"type\": \"scatter\", \"uid\": \"ca74756d-10ca-4aec-bd76-42b0e27fe43e\", \"x\": [11000.0, 11450.0, 11900.0, 12350.0, 12800.0, 13250.0, 13700.0, 14150.0, 14600.0, 15050.0, 15500.0, 15950.0, 16400.0, 16850.0, 17300.0, 17750.0, 18200.0, 18650.0, 19100.0, 19550.0, 20000.0], \"xaxis\": \"x2\", \"y\": [0.5041776548110584, 0.39023406927746374, 0.3175388504350529, 0.2668923064824901, 0.22560807776675992, 0.203042144204494, 0.18189522000862068, 0.16135829264739318, 0.14556836273965668, 0.13371966659083212, 0.12524940621974714, 0.11754876564474895, 0.11015802998525885, 0.10441164070595735, 0.09931347804630662, 0.09402786959361889, 0.09062541591197751, 0.08647506254390502, 0.08333888504337562, 0.08065101681509353], \"yaxis\": \"y2\"}, {\"legendgroup\": \"group-6\", \"line\": {\"color\": \"#00c3ff\"}, \"marker\": {\"size\": 3, \"symbol\": \"diamond\"}, \"name\": \"7\", \"showlegend\": false, \"type\": \"scatter\", \"uid\": \"730649f0-47bb-4b4d-8262-773b17d0f193\", \"x\": [11000.0, 11450.0, 11900.0, 12350.0, 12800.0, 13250.0, 13700.0, 14150.0, 14600.0, 15050.0, 15500.0, 15950.0, 16400.0, 16850.0, 17300.0, 17750.0, 18200.0, 18650.0, 19100.0, 19550.0, 20000.0], \"xaxis\": \"x\", \"y\": [10569.74740334304, 10778.034968335256, 10902.99080443269, 10989.797314359694, 11047.113446219639, 11099.194259237403, 11016.051305801364, 10966.513171670935, 10947.55947416353, 10934.581362699615, 10809.397890448754, 10698.341230707349, 10636.972622756153, 10581.99648087922, 10532.222759856093, 10454.841299228276, 10338.205644915452, 10252.881876072242, 10087.404942797337, 9969.196423563208], \"yaxis\": \"y\"}, {\"legendgroup\": \"group-6\", \"line\": {\"color\": \"#00c3ff\"}, \"marker\": {\"size\": 3, \"symbol\": \"diamond\"}, \"name\": \"7\", \"type\": \"scatter\", \"uid\": \"a89fe217-0b4e-4d5a-9a67-f9c2b89b462a\", \"x\": [11000.0, 11450.0, 11900.0, 12350.0, 12800.0, 13250.0, 13700.0, 14150.0, 14600.0, 15050.0, 15500.0, 15950.0, 16400.0, 16850.0, 17300.0, 17750.0, 18200.0, 18650.0, 19100.0, 19550.0, 20000.0], \"xaxis\": \"x2\", \"y\": [0.4422900724363882, 0.32572087182053455, 0.25608363121508193, 0.20917551310840277, 0.17856281204684143, 0.1532534478801237, 0.1389841189692777, 0.1262357056609694, 0.11375261901807446, 0.10290814628079882, 0.09725630417756266, 0.09284460200253164, 0.0871069617423461, 0.0816250729899891, 0.07729032592235478, 0.07380941869099045, 0.07152054892238287, 0.06908445244271275, 0.06851046721770122, 0.06692890210588077], \"yaxis\": \"y2\"}, {\"legendgroup\": \"group-7\", \"line\": {\"color\": \"#0ff8e8\"}, \"marker\": {\"size\": 3, \"symbol\": \"diamond\"}, \"name\": \"8\", \"showlegend\": false, \"type\": \"scatter\", \"uid\": \"258b1695-7ce4-49ca-884d-528121b755ff\", \"x\": [11000.0, 11450.0, 11900.0, 12350.0, 12800.0, 13250.0, 13700.0, 14150.0, 14600.0, 15050.0, 15500.0, 15950.0, 16400.0, 16850.0, 17300.0, 17750.0, 18200.0, 18650.0, 19100.0, 19550.0, 20000.0], \"xaxis\": \"x\", \"y\": [11547.678161996797, 11623.874786176679, 11731.044716907294, 11760.25509798027, 11744.698977086615, 11669.73950817632, 11644.121670479833, 11594.304643594436, 11525.864522224016, 11493.832801176886, 11493.569589639628, 11391.455575577864, 11294.144464329282, 11274.715359901778, 11177.405492194264, 11083.76958592225, 11033.949307567013, 10945.602385267846, 10830.938212361745, 10712.245869588583], \"yaxis\": \"y\"}, {\"legendgroup\": \"group-7\", \"line\": {\"color\": \"#0ff8e8\"}, \"marker\": {\"size\": 3, \"symbol\": \"diamond\"}, \"name\": \"8\", \"type\": \"scatter\", \"uid\": \"793f37e2-2901-4031-8154-6385f9866aca\", \"x\": [11000.0, 11450.0, 11900.0, 12350.0, 12800.0, 13250.0, 13700.0, 14150.0, 14600.0, 15050.0, 15500.0, 15950.0, 16400.0, 16850.0, 17300.0, 17750.0, 18200.0, 18650.0, 19100.0, 19550.0, 20000.0], \"xaxis\": \"x2\", \"y\": [0.5003453146367499, 0.38382149418984424, 0.3046144240522065, 0.25655030086043534, 0.22316143817180586, 0.1983376255429574, 0.17627463164764823, 0.16038371517158478, 0.14647197836539907, 0.13388777429772944, 0.12191469474588634, 0.11483702826414072, 0.10939033073711928, 0.1016253554908811, 0.09688786513696965, 0.09283396230842705, 0.08787816010814403, 0.08454191425058025, 0.08203925347737268, 0.0802404176236165], \"yaxis\": \"y2\"}, {\"legendgroup\": \"group-8\", \"line\": {\"color\": \"#3affbc\"}, \"marker\": {\"size\": 3, \"symbol\": \"diamond\"}, \"name\": \"9\", \"showlegend\": false, \"type\": \"scatter\", \"uid\": \"22866e2a-1966-4e83-a342-ee700b2f6725\", \"x\": [11000.0, 11450.0, 11900.0, 12350.0, 12800.0, 13250.0, 13700.0, 14150.0, 14600.0, 15050.0, 15500.0, 15950.0, 16400.0, 16850.0, 17300.0, 17750.0, 18200.0, 18650.0, 19100.0, 19550.0, 20000.0], \"xaxis\": \"x\", \"y\": [10635.099216825016, 10811.018798823196, 10933.638973465304, 10979.717070479548, 11020.403776787787, 11035.731463947244, 10938.265121115064, 10845.596613320555, 10800.731975199556, 10763.639570847956, 10717.471486460141, 10707.496982070452, 10660.60682399312, 10573.357547773094, 10472.700868373204, 10404.049299323693, 10290.698637903408, 10218.265955052706, 10108.378593633912, 9988.315668041098], \"yaxis\": \"y\"}, {\"legendgroup\": \"group-8\", \"line\": {\"color\": \"#3affbc\"}, \"marker\": {\"size\": 3, \"symbol\": \"diamond\"}, \"name\": \"9\", \"type\": \"scatter\", \"uid\": \"d6da2861-6535-4a03-804f-22c41449720e\", \"x\": [11000.0, 11450.0, 11900.0, 12350.0, 12800.0, 13250.0, 13700.0, 14150.0, 14600.0, 15050.0, 15500.0, 15950.0, 16400.0, 16850.0, 17300.0, 17750.0, 18200.0, 18650.0, 19100.0, 19550.0, 20000.0], \"xaxis\": \"x2\", \"y\": [0.43952006761780843, 0.327268984776419, 0.2606464861341183, 0.21628196882829448, 0.18251989124968382, 0.15831982713481618, 0.14420700235789413, 0.1319104825157537, 0.11992662887673335, 0.11051812652760704, 0.10164157832326394, 0.0935169832842306, 0.08702393919783383, 0.08275717669259847, 0.07958674997930451, 0.07579438452066575, 0.07337972954768164, 0.07043279263704051, 0.06849589481058935, 0.06699933221108373], \"yaxis\": \"y2\"}, {\"legendgroup\": \"group-9\", \"line\": {\"color\": \"#66ff91\"}, \"marker\": {\"size\": 3, \"symbol\": \"diamond\"}, \"name\": \"10\", \"showlegend\": false, \"type\": \"scatter\", \"uid\": \"4fa60eb3-40e2-41bf-8b0d-a3cf7bc847b2\", \"x\": [11000.0, 11450.0, 11900.0, 12350.0, 12800.0, 13250.0, 13700.0, 14150.0, 14600.0, 15050.0, 15500.0, 15950.0, 16400.0, 16850.0, 17300.0, 17750.0, 18200.0, 18650.0, 19100.0, 19550.0, 20000.0], \"xaxis\": \"x\", \"y\": [11500.55767773097, 11637.546429690152, 11663.40617042992, 11724.968508662445, 11714.760546184587, 11715.267405819095, 11601.494346275227, 11508.240345570224, 11502.488963193151, 11497.386422527972, 11451.270656305627, 11400.159576989896, 11327.524225636038, 11287.892223234016, 11179.325846630562, 11094.423438456082, 10990.648087308033, 10925.434399972431, 10815.564131433573, 10706.177796255937], \"yaxis\": \"y\"}, {\"legendgroup\": \"group-9\", \"line\": {\"color\": \"#66ff91\"}, \"marker\": {\"size\": 3, \"symbol\": \"diamond\"}, \"name\": \"10\", \"type\": \"scatter\", \"uid\": \"ff96c8b9-cd40-480e-8cd4-4d7cb3843512\", \"x\": [11000.0, 11450.0, 11900.0, 12350.0, 12800.0, 13250.0, 13700.0, 14150.0, 14600.0, 15050.0, 15500.0, 15950.0, 16400.0, 16850.0, 17300.0, 17750.0, 18200.0, 18650.0, 19100.0, 19550.0, 20000.0], \"xaxis\": \"x2\", \"y\": [0.5068949392970965, 0.38221104971484254, 0.31487414577388056, 0.2621151190162536, 0.22619764203242226, 0.1966896714263117, 0.17976793731845225, 0.16527279232801473, 0.14785746043356635, 0.13387433613614877, 0.1232425999868199, 0.1146829697056732, 0.10741488616862097, 0.10056120171965181, 0.09622391591057, 0.0922429076610291, 0.0891060122843892, 0.08532979760583174, 0.08271120381699126, 0.08030516190365557], \"yaxis\": \"y2\"}, {\"legendgroup\": \"group-10\", \"line\": {\"color\": \"#91ff66\"}, \"marker\": {\"size\": 3, \"symbol\": \"diamond\"}, \"name\": \"11\", \"showlegend\": false, \"type\": \"scatter\", \"uid\": \"eec75a43-4f69-46fd-8c70-67321b2fefb9\", \"x\": [11000.0, 11450.0, 11900.0, 12350.0, 12800.0, 13250.0, 13700.0, 14150.0, 14600.0, 15050.0, 15500.0, 15950.0, 16400.0, 16850.0, 17300.0, 17750.0, 18200.0, 18650.0, 19100.0, 19550.0, 20000.0], \"xaxis\": \"x\", \"y\": [10570.856509263214, 10736.442568836415, 10856.868647968908, 10979.906697012919, 10953.700434670503, 10957.336276077183, 10966.459695386746, 10949.857847026873, 10898.17650137722, 10912.847154692829, 10916.410390590076, 10804.79013541429, 10642.721757219706, 10673.950209699196, 10562.15537191637, 10441.053929477466, 10375.82143773825, 10218.808094852784, 10128.925286201786, 9982.977583607197], \"yaxis\": \"y\"}, {\"legendgroup\": \"group-10\", \"line\": {\"color\": \"#91ff66\"}, \"marker\": {\"size\": 3, \"symbol\": \"diamond\"}, \"name\": \"11\", \"type\": \"scatter\", \"uid\": \"ab35945e-af57-483e-a35c-a1a6720eb817\", \"x\": [11000.0, 11450.0, 11900.0, 12350.0, 12800.0, 13250.0, 13700.0, 14150.0, 14600.0, 15050.0, 15500.0, 15950.0, 16400.0, 16850.0, 17300.0, 17750.0, 18200.0, 18650.0, 19100.0, 19550.0, 20000.0], \"xaxis\": \"x2\", \"y\": [0.44592562360298593, 0.331726124200421, 0.2626860334726053, 0.21445158567301176, 0.1874369354198379, 0.16283699173812993, 0.14343516576688212, 0.1288301921728002, 0.11742933862073758, 0.10551038169028196, 0.09622856527804761, 0.0908415597305189, 0.08819161384785737, 0.08047832421527892, 0.07731272727040164, 0.07502560062315754, 0.07149678574153981, 0.07062712405261021, 0.06830828451008499, 0.0675509962637582], \"yaxis\": \"y2\"}, {\"legendgroup\": \"group-11\", \"line\": {\"color\": \"#bcff3a\"}, \"marker\": {\"size\": 3, \"symbol\": \"diamond\"}, \"name\": \"12\", \"showlegend\": false, \"type\": \"scatter\", \"uid\": \"8faad41d-1bbb-41e1-8aad-27c964aad7be\", \"x\": [11000.0, 11450.0, 11900.0, 12350.0, 12800.0, 13250.0, 13700.0, 14150.0, 14600.0, 15050.0, 15500.0, 15950.0, 16400.0, 16850.0, 17300.0, 17750.0, 18200.0, 18650.0, 19100.0, 19550.0, 20000.0], \"xaxis\": \"x\", \"y\": [11533.554418901995, 11597.331479911461, 11657.889585168934, 11762.268748636763, 11775.917513051456, 11764.967895422506, 11676.073086637227, 11650.112617143857, 11594.258946050913, 11522.736351585567, 11444.191999379364, 11366.855615514283, 11333.428810955658, 11291.115455484682, 11165.546445726966, 11084.736032809735, 11050.699407674529, 10978.54248596981, 10849.291930009682, 10738.957956164411], \"yaxis\": \"y\"}, {\"legendgroup\": \"group-11\", \"line\": {\"color\": \"#bcff3a\"}, \"marker\": {\"size\": 3, \"symbol\": \"diamond\"}, \"name\": \"12\", \"type\": \"scatter\", \"uid\": \"2b05ec7b-0003-4989-9835-7e2f836c945e\", \"x\": [11000.0, 11450.0, 11900.0, 12350.0, 12800.0, 13250.0, 13700.0, 14150.0, 14600.0, 15050.0, 15500.0, 15950.0, 16400.0, 16850.0, 17300.0, 17750.0, 18200.0, 18650.0, 19100.0, 19550.0, 20000.0], \"xaxis\": \"x2\", \"y\": [0.4948141939783134, 0.38257284907522643, 0.31106318084797985, 0.25245973709763675, 0.21581879433960166, 0.1894638080925602, 0.1719798978313757, 0.15370692887596543, 0.140611753786461, 0.13022103911735378, 0.12114965913477613, 0.1134082040590886, 0.10508702258326932, 0.09835950384020824, 0.09505240961204943, 0.09082482658920112, 0.08538454480911349, 0.08166191691747998, 0.0799399239764927, 0.07767439247279284], \"yaxis\": \"y2\"}, {\"legendgroup\": \"group-12\", \"line\": {\"color\": \"#e8ff0f\"}, \"marker\": {\"size\": 3, \"symbol\": \"diamond\"}, \"name\": \"13\", \"showlegend\": false, \"type\": \"scatter\", \"uid\": \"1d93363b-1906-4b2f-8bc5-fec6d4bd1b0d\", \"x\": [11000.0, 11450.0, 11900.0, 12350.0, 12800.0, 13250.0, 13700.0, 14150.0, 14600.0, 15050.0, 15500.0, 15950.0, 16400.0, 16850.0, 17300.0, 17750.0, 18200.0, 18650.0, 19100.0, 19550.0, 20000.0], \"xaxis\": \"x\", \"y\": [10680.784661378812, 10845.542429380755, 10944.815192934726, 10993.087317815412, 11012.940076484394, 10887.379427963211, 10983.662316167121, 11024.751388763907, 10943.797478820637, 10891.467325909394, 10825.79202489999, 10805.557529364292, 10706.591895210207, 10571.784653112927, 10496.275695177474, 10402.1202278362, 10301.441469400985, 10238.491096739823, 10147.574803160998, 10007.566464221134], \"yaxis\": \"y\"}, {\"legendgroup\": \"group-12\", \"line\": {\"color\": \"#e8ff0f\"}, \"marker\": {\"size\": 3, \"symbol\": \"diamond\"}, \"name\": \"13\", \"type\": \"scatter\", \"uid\": \"30300008-7d1d-4f5a-9108-737322787e18\", \"x\": [11000.0, 11450.0, 11900.0, 12350.0, 12800.0, 13250.0, 13700.0, 14150.0, 14600.0, 15050.0, 15500.0, 15950.0, 16400.0, 16850.0, 17300.0, 17750.0, 18200.0, 18650.0, 19100.0, 19550.0, 20000.0], \"xaxis\": \"x2\", \"y\": [0.4392810715699427, 0.32903573292536575, 0.2641712463741873, 0.2199520853515653, 0.18797841086098377, 0.170137181865149, 0.14523399235417983, 0.12811695433348316, 0.11796293005695968, 0.10851866860126855, 0.10078020724639422, 0.09253446911219322, 0.08798570551552642, 0.08508103522642106, 0.0807247405411672, 0.07763414575866073, 0.07474110201651679, 0.0714984171727841, 0.0694441864787546, 0.06840896856885523], \"yaxis\": \"y2\"}, {\"legendgroup\": \"group-13\", \"line\": {\"color\": \"#ffd500\"}, \"marker\": {\"size\": 3, \"symbol\": \"diamond\"}, \"name\": \"14\", \"showlegend\": false, \"type\": \"scatter\", \"uid\": \"2664d0a1-16a1-410b-9aec-f4527472a756\", \"x\": [11000.0, 11450.0, 11900.0, 12350.0, 12800.0, 13250.0, 13700.0, 14150.0, 14600.0, 15050.0, 15500.0, 15950.0, 16400.0, 16850.0, 17300.0, 17750.0, 18200.0, 18650.0, 19100.0, 19550.0, 20000.0], \"xaxis\": \"x\", \"y\": [11437.1881296405, 11528.701578025972, 11640.449468780576, 11710.818603845562, 11646.852339390707, 11571.106855857402, 11529.130018047732, 11506.724477504918, 11494.473536577672, 11432.760918872278, 11378.137918263288, 11302.85507985749, 11244.631327203226, 11103.724838190863, 11017.941987416276, 10957.21181370234, 10894.703106138699, 10810.029601198734, 10701.185949495191, 10638.391439708332], \"yaxis\": \"y\"}, {\"legendgroup\": \"group-13\", \"line\": {\"color\": \"#ffd500\"}, \"marker\": {\"size\": 3, \"symbol\": \"diamond\"}, \"name\": \"14\", \"type\": \"scatter\", \"uid\": \"d6c6ba35-1c0c-49b8-9a6c-cd386f39b17a\", \"x\": [11000.0, 11450.0, 11900.0, 12350.0, 12800.0, 13250.0, 13700.0, 14150.0, 14600.0, 15050.0, 15500.0, 15950.0, 16400.0, 16850.0, 17300.0, 17750.0, 18200.0, 18650.0, 19100.0, 19550.0, 20000.0], \"xaxis\": \"x2\", \"y\": [0.496748999005708, 0.3812215660301211, 0.30281560573624655, 0.2509255408599759, 0.22073539638977296, 0.19671394396283887, 0.1757145473403329, 0.15768917292428547, 0.14088198326667611, 0.13004325009218778, 0.12095401797605762, 0.11383288002950714, 0.10689215533606816, 0.10296885131622671, 0.09780859456526698, 0.09289643546287567, 0.08854171082989812, 0.08517563107205485, 0.08229688721693082, 0.07896773667540807], \"yaxis\": \"y2\"}, {\"legendgroup\": \"group-14\", \"line\": {\"color\": \"#ffa400\"}, \"marker\": {\"size\": 3, \"symbol\": \"diamond\"}, \"name\": \"15\", \"showlegend\": false, \"type\": \"scatter\", \"uid\": \"871c628b-343a-41aa-a69b-b62211053654\", \"x\": [11000.0, 11450.0, 11900.0, 12350.0, 12800.0, 13250.0, 13700.0, 14150.0, 14600.0, 15050.0, 15500.0, 15950.0, 16400.0, 16850.0, 17300.0, 17750.0, 18200.0, 18650.0, 19100.0, 19550.0, 20000.0], \"xaxis\": \"x\", \"y\": [10637.774893389853, 10870.528741129221, 10979.20752094891, 11029.889850247846, 11017.830301775746, 11002.647926802321, 11063.176163639557, 11043.320343340587, 10953.590586704851, 10884.149702433244, 10832.042108059699, 10746.120711685187, 10638.764813827649, 10558.09227679894, 10449.107297019238, 10350.60274211199, 10298.783130265036, 10276.173311434013, 10189.139086635258, 10056.484838218224], \"yaxis\": \"y\"}, {\"legendgroup\": \"group-14\", \"line\": {\"color\": \"#ffa400\"}, \"marker\": {\"size\": 3, \"symbol\": \"diamond\"}, \"name\": \"15\", \"type\": \"scatter\", \"uid\": \"2739dc5a-0a8c-4a1c-9acd-aa8e960e26d5\", \"x\": [11000.0, 11450.0, 11900.0, 12350.0, 12800.0, 13250.0, 13700.0, 14150.0, 14600.0, 15050.0, 15500.0, 15950.0, 16400.0, 16850.0, 17300.0, 17750.0, 18200.0, 18650.0, 19100.0, 19550.0, 20000.0], \"xaxis\": \"x2\", \"y\": [0.4526680078126913, 0.33058475741331017, 0.26470724647387744, 0.21904485046383979, 0.188818847281167, 0.16619738171025455, 0.14364374771990304, 0.12786787360034071, 0.11791465883989272, 0.10890874790265448, 0.10128370560742415, 0.09532106076096122, 0.09066498376561384, 0.08579078573787756, 0.0823404365028928, 0.07946786802086912, 0.07534113146002487, 0.0712852113867502, 0.06888107318726494, 0.06764365885322746], \"yaxis\": \"y2\"}, {\"legendgroup\": \"group-15\", \"line\": {\"color\": \"#ff7200\"}, \"marker\": {\"size\": 3, \"symbol\": \"diamond\"}, \"name\": \"16\", \"showlegend\": false, \"type\": \"scatter\", \"uid\": \"407c935e-87d2-4d31-95bd-940e7a50da13\", \"x\": [11000.0, 11450.0, 11900.0, 12350.0, 12800.0, 13250.0, 13700.0, 14150.0, 14600.0, 15050.0, 15500.0, 15950.0, 16400.0, 16850.0, 17300.0, 17750.0, 18200.0, 18650.0, 19100.0, 19550.0, 20000.0], \"xaxis\": \"x\", \"y\": [11420.979987138982, 11498.337813102757, 11639.50519134857, 11664.640617469393, 11701.728912830438, 11711.923994447285, 11712.746596833955, 11591.269112378643, 11449.641897841511, 11435.511892435268, 11421.346117783407, 11334.210896883855, 11278.258459816647, 11196.477817740706, 11110.138994066976, 11076.434179727443, 10994.477287359596, 10901.218261650312, 10835.518224745436, 10711.037322641674], \"yaxis\": \"y\"}, {\"legendgroup\": \"group-15\", \"line\": {\"color\": \"#ff7200\"}, \"marker\": {\"size\": 3, \"symbol\": \"diamond\"}, \"name\": \"16\", \"type\": \"scatter\", \"uid\": \"6f472a3f-bced-4275-8009-57184b85cff8\", \"x\": [11000.0, 11450.0, 11900.0, 12350.0, 12800.0, 13250.0, 13700.0, 14150.0, 14600.0, 15050.0, 15500.0, 15950.0, 16400.0, 16850.0, 17300.0, 17750.0, 18200.0, 18650.0, 19100.0, 19550.0, 20000.0], \"xaxis\": \"x2\", \"y\": [0.499488409187315, 0.3838690951817617, 0.3021805815991795, 0.2514540281230128, 0.21646073068279542, 0.18685687485230784, 0.1645500999365563, 0.15175502590148646, 0.14351458248462712, 0.1299336743288275, 0.119700298487092, 0.11242807247877903, 0.1050015370491853, 0.10013529821734288, 0.0953538109300313, 0.08940156113165973, 0.08572755303725668, 0.08269382665953516, 0.078848332684631, 0.07701183515664956], \"yaxis\": \"y2\"}, {\"legendgroup\": \"group-16\", \"line\": {\"color\": \"#ff4000\"}, \"marker\": {\"size\": 3, \"symbol\": \"diamond\"}, \"name\": \"17\", \"showlegend\": false, \"type\": \"scatter\", \"uid\": \"4bfa5d4b-c5ed-4880-b062-595ba16c3623\", \"x\": [11000.0, 11450.0, 11900.0, 12350.0, 12800.0, 13250.0, 13700.0, 14150.0, 14600.0, 15050.0, 15500.0, 15950.0, 16400.0, 16850.0, 17300.0, 17750.0, 18200.0, 18650.0, 19100.0, 19550.0, 20000.0], \"xaxis\": \"x\", \"y\": [10691.849844972343, 10881.252759643585, 11024.600489102355, 11008.926530015478, 11076.894883262032, 11042.045711965855, 11063.168036579458, 11070.578559634352, 11044.691764194673, 10970.651612456735, 10980.886609307676, 10896.00342966283, 10767.599990699178, 10635.613994162504, 10472.846994215468, 10456.66200657222, 10434.295581872158, 10327.027592056353, 10213.726635393015, 10093.310125127553], \"yaxis\": \"y\"}, {\"legendgroup\": \"group-16\", \"line\": {\"color\": \"#ff4000\"}, \"marker\": {\"size\": 3, \"symbol\": \"diamond\"}, \"name\": \"17\", \"type\": \"scatter\", \"uid\": \"144e4dd3-f602-4ed5-b7f4-ba9b8eb34ffc\", \"x\": [11000.0, 11450.0, 11900.0, 12350.0, 12800.0, 13250.0, 13700.0, 14150.0, 14600.0, 15050.0, 15500.0, 15950.0, 16400.0, 16850.0, 17300.0, 17750.0, 18200.0, 18650.0, 19100.0, 19550.0, 20000.0], \"xaxis\": \"x2\", \"y\": [0.44748184768936483, 0.33018100359144903, 0.2613079590931391, 0.22319723997674626, 0.18648857521767323, 0.1640901983224348, 0.14317470745010233, 0.1277823841658101, 0.11521986036883337, 0.10674911085099575, 0.09736938639966038, 0.0912338485549991, 0.0873359525558151, 0.08426006054625763, 0.0822766882554767, 0.0770967898467087, 0.07276875021360169, 0.07044586701292362, 0.06864631513717323, 0.06706138176935443], \"yaxis\": \"y2\"}, {\"legendgroup\": \"group-17\", \"line\": {\"color\": \"#fa0e00\"}, \"marker\": {\"size\": 3, \"symbol\": \"diamond\"}, \"name\": \"18\", \"showlegend\": false, \"type\": \"scatter\", \"uid\": \"c2418dad-f625-466b-8cbc-ea4b6fbf0ad9\", \"x\": [11000.0, 11450.0, 11900.0, 12350.0, 12800.0, 13250.0, 13700.0, 14150.0, 14600.0, 15050.0, 15500.0, 15950.0, 16400.0, 16850.0, 17300.0, 17750.0, 18200.0, 18650.0, 19100.0, 19550.0, 20000.0], \"xaxis\": \"x\", \"y\": [11404.686443357921, 11550.422153142581, 11639.138876479621, 11674.326225183811, 11643.003281158295, 11664.227712366752, 11609.622899066353, 11571.271663444122, 11488.505154936476, 11474.166472237957, 11444.220668813343, 11321.687644686788, 11274.086211426791, 11214.935163024827, 11095.7159296552, 11052.698086925739, 10967.067499016344, 10861.628943889627, 10781.611365120527, 10666.56171562961], \"yaxis\": \"y\"}, {\"legendgroup\": \"group-17\", \"line\": {\"color\": \"#fa0e00\"}, \"marker\": {\"size\": 3, \"symbol\": \"diamond\"}, \"name\": \"18\", \"type\": \"scatter\", \"uid\": \"f3c1ab5a-097a-4b41-8aac-c78250de42e8\", \"x\": [11000.0, 11450.0, 11900.0, 12350.0, 12800.0, 13250.0, 13700.0, 14150.0, 14600.0, 15050.0, 15500.0, 15950.0, 16400.0, 16850.0, 17300.0, 17750.0, 18200.0, 18650.0, 19100.0, 19550.0, 20000.0], \"xaxis\": \"x2\", \"y\": [0.4977389437411596, 0.37634490448691843, 0.3031115960467388, 0.25454492611413476, 0.21950444294686317, 0.18907039351524565, 0.16921419174008417, 0.1526550022612553, 0.1416435654990689, 0.12873970376797447, 0.117732451218215, 0.11197824402292651, 0.10441814381550857, 0.09792972279488406, 0.09471757943639501, 0.08914056698650659, 0.08550392336785954, 0.08272152497759402, 0.07954222475461972, 0.07756336057852237], \"yaxis\": \"y2\"}, {\"legendgroup\": \"group-18\", \"line\": {\"color\": \"#bd0000\"}, \"marker\": {\"size\": 3, \"symbol\": \"diamond\"}, \"name\": \"19\", \"showlegend\": false, \"type\": \"scatter\", \"uid\": \"d94f0419-c621-401f-9b4f-fdcd62a15fa0\", \"x\": [11000.0, 11450.0, 11900.0, 12350.0, 12800.0, 13250.0, 13700.0, 14150.0, 14600.0, 15050.0, 15500.0, 15950.0, 16400.0, 16850.0, 17300.0, 17750.0, 18200.0, 18650.0, 19100.0, 19550.0, 20000.0], \"xaxis\": \"x\", \"y\": [10732.832305605065, 10927.532745010047, 10999.038295987173, 11120.942823009347, 11127.283737338126, 11084.30280676812, 11069.784812309364, 11066.322559389619, 11003.066376252807, 10955.364192122894, 10899.736539240288, 10741.06863236137, 10710.327383480128, 10597.496226545389, 10549.389773662053, 10465.941519309627, 10371.370420579678, 10256.85257100142, 10163.046966831698, 10074.690533201088], \"yaxis\": \"y\"}, {\"legendgroup\": \"group-18\", \"line\": {\"color\": \"#bd0000\"}, \"marker\": {\"size\": 3, \"symbol\": \"diamond\"}, \"name\": \"19\", \"type\": \"scatter\", \"uid\": \"7db24749-464c-49c5-8641-a719194e9872\", \"x\": [11000.0, 11450.0, 11900.0, 12350.0, 12800.0, 13250.0, 13700.0, 14150.0, 14600.0, 15050.0, 15500.0, 15950.0, 16400.0, 16850.0, 17300.0, 17750.0, 18200.0, 18650.0, 19100.0, 19550.0, 20000.0], \"xaxis\": \"x2\", \"y\": [0.44443637159123983, 0.3301963495493953, 0.26475209661040167, 0.21476367292060317, 0.1841100166964522, 0.16259081949317192, 0.143853601724972, 0.12756474449212685, 0.11696925559066805, 0.10710041470268136, 0.09912187964115514, 0.09650204436463768, 0.08985914755672528, 0.08622238465789246, 0.08092359794988353, 0.07737849041147359, 0.07453157832590498, 0.07263537854976868, 0.07025313296079846, 0.06792936424027783], \"yaxis\": \"y2\"}, {\"legendgroup\": \"group-19\", \"line\": {\"color\": \"#800000\"}, \"marker\": {\"size\": 3, \"symbol\": \"diamond\"}, \"name\": \"20\", \"showlegend\": false, \"type\": \"scatter\", \"uid\": \"8bd58b43-94cb-4b15-8dc2-cc20fa03dda9\", \"x\": [11000.0, 11450.0, 11900.0, 12350.0, 12800.0, 13250.0, 13700.0, 14150.0, 14600.0, 15050.0, 15500.0, 15950.0, 16400.0, 16850.0, 17300.0, 17750.0, 18200.0, 18650.0, 19100.0, 19550.0, 20000.0], \"xaxis\": \"x\", \"y\": [10732.832305605065, 10927.532745010047, 10999.038295987173, 11120.942823009347, 11127.283737338126, 11084.30280676812, 11069.784812309364, 11066.322559389619, 11003.066376252807, 10955.364192122894, 10899.736539240288, 10741.06863236137, 10710.327383480128, 10597.496226545389, 10549.389773662053, 10465.941519309627, 10371.370420579678, 10256.85257100142, 10163.046966831698, 10074.690533201088], \"yaxis\": \"y\"}, {\"legendgroup\": \"group-19\", \"line\": {\"color\": \"#800000\"}, \"marker\": {\"size\": 3, \"symbol\": \"diamond\"}, \"name\": \"20\", \"type\": \"scatter\", \"uid\": \"f5391d7c-e4f4-4132-bc99-f10a180ed1e2\", \"x\": [11000.0, 11450.0, 11900.0, 12350.0, 12800.0, 13250.0, 13700.0, 14150.0, 14600.0, 15050.0, 15500.0, 15950.0, 16400.0, 16850.0, 17300.0, 17750.0, 18200.0, 18650.0, 19100.0, 19550.0, 20000.0], \"xaxis\": \"x2\", \"y\": [0.44443637159123983, 0.3301963495493953, 0.26475209661040167, 0.21476367292060317, 0.1841100166964522, 0.16259081949317192, 0.143853601724972, 0.12756474449212685, 0.11696925559066805, 0.10710041470268136, 0.09912187964115514, 0.09650204436463768, 0.08985914755672528, 0.08622238465789246, 0.08092359794988353, 0.07737849041147359, 0.07453157832590498, 0.07263537854976868, 0.07025313296079846, 0.06792936424027783], \"yaxis\": \"y2\"}],                        {\"height\": 580, \"hidesources\": true, \"legend\": {\"title\": {\"text\": \"iterations\"}, \"tracegroupgap\": 0}, \"margin\": {\"b\": 80, \"l\": 10, \"pad\": 0, \"r\": 135, \"t\": 25}, \"template\": {\"data\": {\"bar\": [{\"error_x\": {\"color\": \"#2a3f5f\"}, \"error_y\": {\"color\": \"#2a3f5f\"}, \"marker\": {\"line\": {\"color\": \"#E5ECF6\", \"width\": 0.5}}, \"type\": \"bar\"}], \"barpolar\": [{\"marker\": {\"line\": {\"color\": \"#E5ECF6\", \"width\": 0.5}}, \"type\": \"barpolar\"}], \"carpet\": [{\"aaxis\": {\"endlinecolor\": \"#2a3f5f\", \"gridcolor\": \"white\", \"linecolor\": \"white\", \"minorgridcolor\": \"white\", \"startlinecolor\": \"#2a3f5f\"}, \"baxis\": {\"endlinecolor\": \"#2a3f5f\", \"gridcolor\": \"white\", \"linecolor\": \"white\", \"minorgridcolor\": \"white\", \"startlinecolor\": \"#2a3f5f\"}, \"type\": \"carpet\"}], \"choropleth\": [{\"colorbar\": {\"outlinewidth\": 0, \"ticks\": \"\"}, \"type\": \"choropleth\"}], \"contour\": [{\"colorbar\": {\"outlinewidth\": 0, \"ticks\": \"\"}, \"colorscale\": [[0.0, \"#0d0887\"], [0.1111111111111111, \"#46039f\"], [0.2222222222222222, \"#7201a8\"], [0.3333333333333333, \"#9c179e\"], [0.4444444444444444, \"#bd3786\"], [0.5555555555555556, \"#d8576b\"], [0.6666666666666666, \"#ed7953\"], [0.7777777777777778, \"#fb9f3a\"], [0.8888888888888888, \"#fdca26\"], [1.0, \"#f0f921\"]], \"type\": \"contour\"}], \"contourcarpet\": [{\"colorbar\": {\"outlinewidth\": 0, \"ticks\": \"\"}, \"type\": \"contourcarpet\"}], \"heatmap\": [{\"colorbar\": {\"outlinewidth\": 0, \"ticks\": \"\"}, \"colorscale\": [[0.0, \"#0d0887\"], [0.1111111111111111, \"#46039f\"], [0.2222222222222222, \"#7201a8\"], [0.3333333333333333, \"#9c179e\"], [0.4444444444444444, \"#bd3786\"], [0.5555555555555556, \"#d8576b\"], [0.6666666666666666, \"#ed7953\"], [0.7777777777777778, \"#fb9f3a\"], [0.8888888888888888, \"#fdca26\"], [1.0, \"#f0f921\"]], \"type\": \"heatmap\"}], \"heatmapgl\": [{\"colorbar\": {\"outlinewidth\": 0, \"ticks\": \"\"}, \"colorscale\": [[0.0, \"#0d0887\"], [0.1111111111111111, \"#46039f\"], [0.2222222222222222, \"#7201a8\"], [0.3333333333333333, \"#9c179e\"], [0.4444444444444444, \"#bd3786\"], [0.5555555555555556, \"#d8576b\"], [0.6666666666666666, \"#ed7953\"], [0.7777777777777778, \"#fb9f3a\"], [0.8888888888888888, \"#fdca26\"], [1.0, \"#f0f921\"]], \"type\": \"heatmapgl\"}], \"histogram\": [{\"marker\": {\"colorbar\": {\"outlinewidth\": 0, \"ticks\": \"\"}}, \"type\": \"histogram\"}], \"histogram2d\": [{\"colorbar\": {\"outlinewidth\": 0, \"ticks\": \"\"}, \"colorscale\": [[0.0, \"#0d0887\"], [0.1111111111111111, \"#46039f\"], [0.2222222222222222, \"#7201a8\"], [0.3333333333333333, \"#9c179e\"], [0.4444444444444444, \"#bd3786\"], [0.5555555555555556, \"#d8576b\"], [0.6666666666666666, \"#ed7953\"], [0.7777777777777778, \"#fb9f3a\"], [0.8888888888888888, \"#fdca26\"], [1.0, \"#f0f921\"]], \"type\": \"histogram2d\"}], \"histogram2dcontour\": [{\"colorbar\": {\"outlinewidth\": 0, \"ticks\": \"\"}, \"colorscale\": [[0.0, \"#0d0887\"], [0.1111111111111111, \"#46039f\"], [0.2222222222222222, \"#7201a8\"], [0.3333333333333333, \"#9c179e\"], [0.4444444444444444, \"#bd3786\"], [0.5555555555555556, \"#d8576b\"], [0.6666666666666666, \"#ed7953\"], [0.7777777777777778, \"#fb9f3a\"], [0.8888888888888888, \"#fdca26\"], [1.0, \"#f0f921\"]], \"type\": \"histogram2dcontour\"}], \"mesh3d\": [{\"colorbar\": {\"outlinewidth\": 0, \"ticks\": \"\"}, \"type\": \"mesh3d\"}], \"parcoords\": [{\"line\": {\"colorbar\": {\"outlinewidth\": 0, \"ticks\": \"\"}}, \"type\": \"parcoords\"}], \"pie\": [{\"automargin\": true, \"type\": \"pie\"}], \"scatter\": [{\"marker\": {\"colorbar\": {\"outlinewidth\": 0, \"ticks\": \"\"}}, \"type\": \"scatter\"}], \"scatter3d\": [{\"line\": {\"colorbar\": {\"outlinewidth\": 0, \"ticks\": \"\"}}, \"marker\": {\"colorbar\": {\"outlinewidth\": 0, \"ticks\": \"\"}}, \"type\": \"scatter3d\"}], \"scattercarpet\": [{\"marker\": {\"colorbar\": {\"outlinewidth\": 0, \"ticks\": \"\"}}, \"type\": \"scattercarpet\"}], \"scattergeo\": [{\"marker\": {\"colorbar\": {\"outlinewidth\": 0, \"ticks\": \"\"}}, \"type\": \"scattergeo\"}], \"scattergl\": [{\"marker\": {\"colorbar\": {\"outlinewidth\": 0, \"ticks\": \"\"}}, \"type\": \"scattergl\"}], \"scattermapbox\": [{\"marker\": {\"colorbar\": {\"outlinewidth\": 0, \"ticks\": \"\"}}, \"type\": \"scattermapbox\"}], \"scatterpolar\": [{\"marker\": {\"colorbar\": {\"outlinewidth\": 0, \"ticks\": \"\"}}, \"type\": \"scatterpolar\"}], \"scatterpolargl\": [{\"marker\": {\"colorbar\": {\"outlinewidth\": 0, \"ticks\": \"\"}}, \"type\": \"scatterpolargl\"}], \"scatterternary\": [{\"marker\": {\"colorbar\": {\"outlinewidth\": 0, \"ticks\": \"\"}}, \"type\": \"scatterternary\"}], \"surface\": [{\"colorbar\": {\"outlinewidth\": 0, \"ticks\": \"\"}, \"colorscale\": [[0.0, \"#0d0887\"], [0.1111111111111111, \"#46039f\"], [0.2222222222222222, \"#7201a8\"], [0.3333333333333333, \"#9c179e\"], [0.4444444444444444, \"#bd3786\"], [0.5555555555555556, \"#d8576b\"], [0.6666666666666666, \"#ed7953\"], [0.7777777777777778, \"#fb9f3a\"], [0.8888888888888888, \"#fdca26\"], [1.0, \"#f0f921\"]], \"type\": \"surface\"}], \"table\": [{\"cells\": {\"fill\": {\"color\": \"#EBF0F8\"}, \"line\": {\"color\": \"white\"}}, \"header\": {\"fill\": {\"color\": \"#C8D4E3\"}, \"line\": {\"color\": \"white\"}}, \"type\": \"table\"}]}, \"layout\": {\"annotationdefaults\": {\"arrowcolor\": \"#2a3f5f\", \"arrowhead\": 0, \"arrowwidth\": 1}, \"autotypenumbers\": \"strict\", \"coloraxis\": {\"colorbar\": {\"outlinewidth\": 0, \"ticks\": \"\"}}, \"colorscale\": {\"diverging\": [[0, \"#8e0152\"], [0.1, \"#c51b7d\"], [0.2, \"#de77ae\"], [0.3, \"#f1b6da\"], [0.4, \"#fde0ef\"], [0.5, \"#f7f7f7\"], [0.6, \"#e6f5d0\"], [0.7, \"#b8e186\"], [0.8, \"#7fbc41\"], [0.9, \"#4d9221\"], [1, \"#276419\"]], \"sequential\": [[0.0, \"#0d0887\"], [0.1111111111111111, \"#46039f\"], [0.2222222222222222, \"#7201a8\"], [0.3333333333333333, \"#9c179e\"], [0.4444444444444444, \"#bd3786\"], [0.5555555555555556, \"#d8576b\"], [0.6666666666666666, \"#ed7953\"], [0.7777777777777778, \"#fb9f3a\"], [0.8888888888888888, \"#fdca26\"], [1.0, \"#f0f921\"]], \"sequentialminus\": [[0.0, \"#0d0887\"], [0.1111111111111111, \"#46039f\"], [0.2222222222222222, \"#7201a8\"], [0.3333333333333333, \"#9c179e\"], [0.4444444444444444, \"#bd3786\"], [0.5555555555555556, \"#d8576b\"], [0.6666666666666666, \"#ed7953\"], [0.7777777777777778, \"#fb9f3a\"], [0.8888888888888888, \"#fdca26\"], [1.0, \"#f0f921\"]]}, \"colorway\": [\"#636efa\", \"#EF553B\", \"#00cc96\", \"#ab63fa\", \"#FFA15A\", \"#19d3f3\", \"#FF6692\", \"#B6E880\", \"#FF97FF\", \"#FECB52\"], \"font\": {\"color\": \"#2a3f5f\"}, \"geo\": {\"bgcolor\": \"white\", \"lakecolor\": \"white\", \"landcolor\": \"#E5ECF6\", \"showlakes\": true, \"showland\": true, \"subunitcolor\": \"white\"}, \"hoverlabel\": {\"align\": \"left\"}, \"hovermode\": \"closest\", \"mapbox\": {\"style\": \"light\"}, \"paper_bgcolor\": \"white\", \"plot_bgcolor\": \"#E5ECF6\", \"polar\": {\"angularaxis\": {\"gridcolor\": \"white\", \"linecolor\": \"white\", \"ticks\": \"\"}, \"bgcolor\": \"#E5ECF6\", \"radialaxis\": {\"gridcolor\": \"white\", \"linecolor\": \"white\", \"ticks\": \"\"}}, \"scene\": {\"xaxis\": {\"backgroundcolor\": \"#E5ECF6\", \"gridcolor\": \"white\", \"gridwidth\": 2, \"linecolor\": \"white\", \"showbackground\": true, \"ticks\": \"\", \"zerolinecolor\": \"white\"}, \"yaxis\": {\"backgroundcolor\": \"#E5ECF6\", \"gridcolor\": \"white\", \"gridwidth\": 2, \"linecolor\": \"white\", \"showbackground\": true, \"ticks\": \"\", \"zerolinecolor\": \"white\"}, \"zaxis\": {\"backgroundcolor\": \"#E5ECF6\", \"gridcolor\": \"white\", \"gridwidth\": 2, \"linecolor\": \"white\", \"showbackground\": true, \"ticks\": \"\", \"zerolinecolor\": \"white\"}}, \"shapedefaults\": {\"line\": {\"color\": \"#2a3f5f\"}}, \"ternary\": {\"aaxis\": {\"gridcolor\": \"white\", \"linecolor\": \"white\", \"ticks\": \"\"}, \"baxis\": {\"gridcolor\": \"white\", \"linecolor\": \"white\", \"ticks\": \"\"}, \"bgcolor\": \"#E5ECF6\", \"caxis\": {\"gridcolor\": \"white\", \"linecolor\": \"white\", \"ticks\": \"\"}}, \"title\": {\"x\": 0.05}, \"xaxis\": {\"automargin\": true, \"gridcolor\": \"white\", \"linecolor\": \"white\", \"ticks\": \"\", \"title\": {\"standoff\": 15}, \"zerolinecolor\": \"white\", \"zerolinewidth\": 2}, \"yaxis\": {\"automargin\": true, \"gridcolor\": \"white\", \"linecolor\": \"white\", \"ticks\": \"\", \"title\": {\"standoff\": 15}, \"zerolinecolor\": \"white\", \"zerolinewidth\": 2}}}, \"xaxis\": {\"anchor\": \"y\", \"domain\": [0.0, 0.45], \"tickformat\": \"g\", \"title\": {\"text\": \"$Shell~~Velocity$\"}}, \"xaxis2\": {\"anchor\": \"y2\", \"domain\": [0.55, 1.0], \"matches\": \"x\", \"tickformat\": \"g\", \"title\": {\"text\": \"$Shell~~Velocity$\"}}, \"yaxis\": {\"anchor\": \"x\", \"domain\": [0.0, 1.0], \"range\": [9000, 14000], \"tickformat\": \"g\", \"title\": {\"text\": \"$T_{rad}\\\\ [K]$\"}}, \"yaxis2\": {\"anchor\": \"x2\", \"domain\": [0.0, 1.0], \"title\": {\"text\": \"$W$\"}}},                        {\"responsive\": true}                    ).then(function(){\n                            \nvar gd = document.getElementById('e2cbf91e-8e6b-4322-a870-2643b37f4908');\nvar x = new MutationObserver(function (mutations, observer) {{\n        var display = window.getComputedStyle(gd).display;\n        if (!display || display === 'none') {{\n            console.log([gd, 'removed!']);\n            Plotly.purge(gd);\n            observer.disconnect();\n        }}\n}});\n\n// Listen for the removal of the full notebook cells\nvar notebookContainer = gd.closest('#notebook-container');\nif (notebookContainer) {{\n    x.observe(notebookContainer, {childList: true});\n}}\n\n// Listen for the clearing of the current output cell\nvar outputEl = gd.closest('.output');\nif (outputEl) {{\n    x.observe(outputEl, {childList: true});\n}}\n\n                        })                };                });            </script>        </div>"
         },
         "metadata": {},
         "output_type": "display_data"
        }
       ]
      }
     },
     "f41414422de04f2997de4d4f2ccc405c": {
      "model_module": "@jupyter-widgets/base",
      "model_module_version": "1.2.0",
      "model_name": "LayoutModel",
      "state": {
       "height": "1000px"
      }
     },
     "f68d8abe25d54757a4a892690994a0a3": {
      "model_module": "@jupyter-widgets/base",
      "model_module_version": "1.2.0",
      "model_name": "LayoutModel",
      "state": {}
     },
     "ffdfddf7ca9444e48e2ae4ba557ac790": {
      "model_module": "@jupyter-widgets/base",
      "model_module_version": "1.2.0",
      "model_name": "LayoutModel",
      "state": {
       "height": "1000px"
      }
     }
    },
    "version_major": 2,
    "version_minor": 0
   }
  }
 },
 "nbformat": 4,
 "nbformat_minor": 5
}
